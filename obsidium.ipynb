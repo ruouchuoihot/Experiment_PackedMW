{
 "cells": [
  {
   "cell_type": "code",
   "execution_count": 1,
   "id": "b639430e",
   "metadata": {
    "execution": {
     "iopub.execute_input": "2023-12-27T01:17:43.870643Z",
     "iopub.status.busy": "2023-12-27T01:17:43.870174Z",
     "iopub.status.idle": "2023-12-27T01:17:46.351036Z",
     "shell.execute_reply": "2023-12-27T01:17:46.349848Z"
    },
    "papermill": {
     "duration": 2.508681,
     "end_time": "2023-12-27T01:17:46.353813",
     "exception": false,
     "start_time": "2023-12-27T01:17:43.845132",
     "status": "completed"
    },
    "tags": []
   },
   "outputs": [],
   "source": [
    "import pandas as pd\n",
    "import numpy as np\n",
    "import sklearn\n",
    "import sklearn.naive_bayes\n",
    "import sklearn.ensemble as ske\n",
    "import sklearn.neighbors\n",
    "import sklearn.pipeline\n",
    "import sklearn.linear_model\n",
    "import joblib\n",
    "from sklearn import preprocessing\n",
    "from sklearn import tree, linear_model\n",
    "from sklearn.metrics import confusion_matrix\n",
    "from sklearn.metrics import classification_report\n",
    "from sklearn.feature_selection import SelectFromModel\n",
    "import sys\n",
    "import sqlite3\n",
    "import importlib\n",
    "import matplotlib.pyplot as plt\n",
    "import seaborn as sn\n",
    "from sklearn import metrics"
   ]
  },
  {
   "cell_type": "code",
   "execution_count": 2,
   "id": "f7e0b31c",
   "metadata": {
    "execution": {
     "iopub.execute_input": "2023-12-27T01:17:46.402070Z",
     "iopub.status.busy": "2023-12-27T01:17:46.401136Z",
     "iopub.status.idle": "2023-12-27T01:17:52.651486Z",
     "shell.execute_reply": "2023-12-27T01:17:52.650583Z"
    },
    "papermill": {
     "duration": 6.277474,
     "end_time": "2023-12-27T01:17:52.654260",
     "exception": false,
     "start_time": "2023-12-27T01:17:46.376786",
     "status": "completed"
    },
    "tags": []
   },
   "outputs": [],
   "source": [
    "obsidium = pd.read_pickle('/kaggle/input/packer-balance-pickle/obsidium_balance.pickle')"
   ]
  },
  {
   "cell_type": "code",
   "execution_count": 3,
   "id": "4c3a57a7",
   "metadata": {
    "execution": {
     "iopub.execute_input": "2023-12-27T01:17:52.704734Z",
     "iopub.status.busy": "2023-12-27T01:17:52.703853Z",
     "iopub.status.idle": "2023-12-27T01:17:53.707329Z",
     "shell.execute_reply": "2023-12-27T01:17:53.706096Z"
    },
    "papermill": {
     "duration": 1.031996,
     "end_time": "2023-12-27T01:17:53.710485",
     "exception": false,
     "start_time": "2023-12-27T01:17:52.678489",
     "status": "completed"
    },
    "tags": []
   },
   "outputs": [],
   "source": [
    "obsidium = obsidium.drop(['sample_sha1','benign','unpacked_sample_sha1','unpacked_sample_id'], axis=1)\n",
    "obsidium = obsidium.drop(['benign_vt','malicious_vt'], axis=1)"
   ]
  },
  {
   "cell_type": "code",
   "execution_count": 4,
   "id": "4fa000e5",
   "metadata": {
    "execution": {
     "iopub.execute_input": "2023-12-27T01:17:53.759167Z",
     "iopub.status.busy": "2023-12-27T01:17:53.758708Z",
     "iopub.status.idle": "2023-12-27T01:17:54.120100Z",
     "shell.execute_reply": "2023-12-27T01:17:54.118917Z"
    },
    "papermill": {
     "duration": 0.389454,
     "end_time": "2023-12-27T01:17:54.123129",
     "exception": false,
     "start_time": "2023-12-27T01:17:53.733675",
     "status": "completed"
    },
    "tags": []
   },
   "outputs": [],
   "source": [
    "string_columns = obsidium.select_dtypes(include=['object']).columns\n",
    "obsidium = obsidium.drop(string_columns, axis=1)"
   ]
  },
  {
   "cell_type": "code",
   "execution_count": 5,
   "id": "0c27259e",
   "metadata": {
    "execution": {
     "iopub.execute_input": "2023-12-27T01:17:54.171454Z",
     "iopub.status.busy": "2023-12-27T01:17:54.171032Z",
     "iopub.status.idle": "2023-12-27T01:17:54.224385Z",
     "shell.execute_reply": "2023-12-27T01:17:54.223232Z"
    },
    "papermill": {
     "duration": 0.081967,
     "end_time": "2023-12-27T01:17:54.228221",
     "exception": false,
     "start_time": "2023-12-27T01:17:54.146254",
     "status": "completed"
    },
    "tags": []
   },
   "outputs": [
    {
     "data": {
      "text/html": [
       "<div>\n",
       "<style scoped>\n",
       "    .dataframe tbody tr th:only-of-type {\n",
       "        vertical-align: middle;\n",
       "    }\n",
       "\n",
       "    .dataframe tbody tr th {\n",
       "        vertical-align: top;\n",
       "    }\n",
       "\n",
       "    .dataframe thead th {\n",
       "        text-align: right;\n",
       "    }\n",
       "</style>\n",
       "<table border=\"1\" class=\"dataframe\">\n",
       "  <thead>\n",
       "    <tr style=\"text-align: right;\">\n",
       "      <th></th>\n",
       "      <th>malicious</th>\n",
       "      <th>packed</th>\n",
       "      <th>imp_setupremovefilelogentrya</th>\n",
       "      <th>imp_vardeccmp</th>\n",
       "      <th>imp_setdlgitemint</th>\n",
       "      <th>imp_?append@?$basic_string@du?$char_traits@d@std@@v?$allocator@d@2@@std@@qaeaav12@abv12@ii@z</th>\n",
       "      <th>imp_zwwritefile</th>\n",
       "      <th>imp_glstencilop</th>\n",
       "      <th>imp_comparelinkinforeferents</th>\n",
       "      <th>imp__setmbcp</th>\n",
       "      <th>...</th>\n",
       "      <th>opcode_xor sub mov</th>\n",
       "      <th>opcode_xor sub mov add</th>\n",
       "      <th>opcode_xor test</th>\n",
       "      <th>opcode_xor test je</th>\n",
       "      <th>opcode_xor xor</th>\n",
       "      <th>opcode_xor xor mov</th>\n",
       "      <th>opcode_xor xor pop</th>\n",
       "      <th>opcode_xor xor pop mov</th>\n",
       "      <th>opcode_xor xor xor</th>\n",
       "      <th>opcode_xor xor xor pop</th>\n",
       "    </tr>\n",
       "  </thead>\n",
       "  <tbody>\n",
       "    <tr>\n",
       "      <th>0</th>\n",
       "      <td>True</td>\n",
       "      <td>True</td>\n",
       "      <td>False</td>\n",
       "      <td>False</td>\n",
       "      <td>False</td>\n",
       "      <td>False</td>\n",
       "      <td>False</td>\n",
       "      <td>False</td>\n",
       "      <td>False</td>\n",
       "      <td>False</td>\n",
       "      <td>...</td>\n",
       "      <td>0.0</td>\n",
       "      <td>0.0</td>\n",
       "      <td>0.0</td>\n",
       "      <td>0.0</td>\n",
       "      <td>0.0</td>\n",
       "      <td>0.0</td>\n",
       "      <td>0.0</td>\n",
       "      <td>0.0</td>\n",
       "      <td>0.0</td>\n",
       "      <td>0.0</td>\n",
       "    </tr>\n",
       "    <tr>\n",
       "      <th>9</th>\n",
       "      <td>True</td>\n",
       "      <td>True</td>\n",
       "      <td>False</td>\n",
       "      <td>False</td>\n",
       "      <td>False</td>\n",
       "      <td>False</td>\n",
       "      <td>False</td>\n",
       "      <td>False</td>\n",
       "      <td>False</td>\n",
       "      <td>False</td>\n",
       "      <td>...</td>\n",
       "      <td>0.0</td>\n",
       "      <td>0.0</td>\n",
       "      <td>0.0</td>\n",
       "      <td>0.0</td>\n",
       "      <td>0.0</td>\n",
       "      <td>0.0</td>\n",
       "      <td>0.0</td>\n",
       "      <td>0.0</td>\n",
       "      <td>0.0</td>\n",
       "      <td>0.0</td>\n",
       "    </tr>\n",
       "    <tr>\n",
       "      <th>12</th>\n",
       "      <td>True</td>\n",
       "      <td>True</td>\n",
       "      <td>False</td>\n",
       "      <td>False</td>\n",
       "      <td>False</td>\n",
       "      <td>False</td>\n",
       "      <td>False</td>\n",
       "      <td>False</td>\n",
       "      <td>False</td>\n",
       "      <td>False</td>\n",
       "      <td>...</td>\n",
       "      <td>0.0</td>\n",
       "      <td>0.0</td>\n",
       "      <td>0.0</td>\n",
       "      <td>0.0</td>\n",
       "      <td>0.0</td>\n",
       "      <td>0.0</td>\n",
       "      <td>0.0</td>\n",
       "      <td>0.0</td>\n",
       "      <td>0.0</td>\n",
       "      <td>0.0</td>\n",
       "    </tr>\n",
       "    <tr>\n",
       "      <th>13</th>\n",
       "      <td>False</td>\n",
       "      <td>True</td>\n",
       "      <td>False</td>\n",
       "      <td>False</td>\n",
       "      <td>False</td>\n",
       "      <td>False</td>\n",
       "      <td>False</td>\n",
       "      <td>False</td>\n",
       "      <td>False</td>\n",
       "      <td>False</td>\n",
       "      <td>...</td>\n",
       "      <td>0.0</td>\n",
       "      <td>0.0</td>\n",
       "      <td>0.0</td>\n",
       "      <td>0.0</td>\n",
       "      <td>0.0</td>\n",
       "      <td>0.0</td>\n",
       "      <td>0.0</td>\n",
       "      <td>0.0</td>\n",
       "      <td>0.0</td>\n",
       "      <td>0.0</td>\n",
       "    </tr>\n",
       "    <tr>\n",
       "      <th>14</th>\n",
       "      <td>True</td>\n",
       "      <td>True</td>\n",
       "      <td>False</td>\n",
       "      <td>False</td>\n",
       "      <td>False</td>\n",
       "      <td>False</td>\n",
       "      <td>False</td>\n",
       "      <td>False</td>\n",
       "      <td>False</td>\n",
       "      <td>False</td>\n",
       "      <td>...</td>\n",
       "      <td>0.0</td>\n",
       "      <td>0.0</td>\n",
       "      <td>0.0</td>\n",
       "      <td>0.0</td>\n",
       "      <td>0.0</td>\n",
       "      <td>0.0</td>\n",
       "      <td>0.0</td>\n",
       "      <td>0.0</td>\n",
       "      <td>0.0</td>\n",
       "      <td>0.0</td>\n",
       "    </tr>\n",
       "  </tbody>\n",
       "</table>\n",
       "<p>5 rows × 56526 columns</p>\n",
       "</div>"
      ],
      "text/plain": [
       "    malicious  packed  imp_setupremovefilelogentrya  imp_vardeccmp  \\\n",
       "0        True    True                         False          False   \n",
       "9        True    True                         False          False   \n",
       "12       True    True                         False          False   \n",
       "13      False    True                         False          False   \n",
       "14       True    True                         False          False   \n",
       "\n",
       "    imp_setdlgitemint  \\\n",
       "0               False   \n",
       "9               False   \n",
       "12              False   \n",
       "13              False   \n",
       "14              False   \n",
       "\n",
       "    imp_?append@?$basic_string@du?$char_traits@d@std@@v?$allocator@d@2@@std@@qaeaav12@abv12@ii@z  \\\n",
       "0                                               False                                              \n",
       "9                                               False                                              \n",
       "12                                              False                                              \n",
       "13                                              False                                              \n",
       "14                                              False                                              \n",
       "\n",
       "    imp_zwwritefile  imp_glstencilop  imp_comparelinkinforeferents  \\\n",
       "0             False            False                         False   \n",
       "9             False            False                         False   \n",
       "12            False            False                         False   \n",
       "13            False            False                         False   \n",
       "14            False            False                         False   \n",
       "\n",
       "    imp__setmbcp  ...  opcode_xor sub mov  opcode_xor sub mov add  \\\n",
       "0          False  ...                 0.0                     0.0   \n",
       "9          False  ...                 0.0                     0.0   \n",
       "12         False  ...                 0.0                     0.0   \n",
       "13         False  ...                 0.0                     0.0   \n",
       "14         False  ...                 0.0                     0.0   \n",
       "\n",
       "    opcode_xor test  opcode_xor test je  opcode_xor xor  opcode_xor xor mov  \\\n",
       "0               0.0                 0.0             0.0                 0.0   \n",
       "9               0.0                 0.0             0.0                 0.0   \n",
       "12              0.0                 0.0             0.0                 0.0   \n",
       "13              0.0                 0.0             0.0                 0.0   \n",
       "14              0.0                 0.0             0.0                 0.0   \n",
       "\n",
       "    opcode_xor xor pop  opcode_xor xor pop mov  opcode_xor xor xor  \\\n",
       "0                  0.0                     0.0                 0.0   \n",
       "9                  0.0                     0.0                 0.0   \n",
       "12                 0.0                     0.0                 0.0   \n",
       "13                 0.0                     0.0                 0.0   \n",
       "14                 0.0                     0.0                 0.0   \n",
       "\n",
       "    opcode_xor xor xor pop  \n",
       "0                      0.0  \n",
       "9                      0.0  \n",
       "12                     0.0  \n",
       "13                     0.0  \n",
       "14                     0.0  \n",
       "\n",
       "[5 rows x 56526 columns]"
      ]
     },
     "execution_count": 5,
     "metadata": {},
     "output_type": "execute_result"
    }
   ],
   "source": [
    "obsidium.head()"
   ]
  },
  {
   "cell_type": "code",
   "execution_count": 6,
   "id": "265dbfca",
   "metadata": {
    "execution": {
     "iopub.execute_input": "2023-12-27T01:17:54.276502Z",
     "iopub.status.busy": "2023-12-27T01:17:54.276078Z",
     "iopub.status.idle": "2023-12-27T01:17:55.202175Z",
     "shell.execute_reply": "2023-12-27T01:17:55.200980Z"
    },
    "papermill": {
     "duration": 0.953465,
     "end_time": "2023-12-27T01:17:55.205101",
     "exception": false,
     "start_time": "2023-12-27T01:17:54.251636",
     "status": "completed"
    },
    "tags": []
   },
   "outputs": [],
   "source": [
    "df_7000 = obsidium.sample(n=7000, random_state=102)\n",
    "df_3000 = obsidium.drop(df_7000.index)"
   ]
  },
  {
   "cell_type": "code",
   "execution_count": 7,
   "id": "11bc7eee",
   "metadata": {
    "execution": {
     "iopub.execute_input": "2023-12-27T01:17:55.254322Z",
     "iopub.status.busy": "2023-12-27T01:17:55.253878Z",
     "iopub.status.idle": "2023-12-27T01:17:55.694368Z",
     "shell.execute_reply": "2023-12-27T01:17:55.692422Z"
    },
    "papermill": {
     "duration": 0.469314,
     "end_time": "2023-12-27T01:17:55.697646",
     "exception": false,
     "start_time": "2023-12-27T01:17:55.228332",
     "status": "completed"
    },
    "tags": []
   },
   "outputs": [],
   "source": [
    "data = df_7000.sample(n=3500, random_state=102)"
   ]
  },
  {
   "cell_type": "code",
   "execution_count": 8,
   "id": "a1d049f6",
   "metadata": {
    "execution": {
     "iopub.execute_input": "2023-12-27T01:17:55.747259Z",
     "iopub.status.busy": "2023-12-27T01:17:55.746807Z",
     "iopub.status.idle": "2023-12-27T01:17:56.138338Z",
     "shell.execute_reply": "2023-12-27T01:17:56.136569Z"
    },
    "papermill": {
     "duration": 0.420315,
     "end_time": "2023-12-27T01:17:56.141889",
     "exception": false,
     "start_time": "2023-12-27T01:17:55.721574",
     "status": "completed"
    },
    "tags": []
   },
   "outputs": [
    {
     "name": "stdout",
     "output_type": "stream",
     "text": [
      "Packed Malware: 2306 samples\n",
      "Packed Benign: 1194 samples\n",
      "Total TRAIN set: 3500 samples\n"
     ]
    }
   ],
   "source": [
    "#Kiểm tra số lượng mẫu\n",
    "PM = data[(data['malicious'] == True) & (data['packed'] == True)].shape[0]\n",
    "PB = data[(data['malicious'] == False) & (data['packed'] == True)].shape[0]\n",
    "print('Packed Malware: %i samples' % PM)\n",
    "print('Packed Benign: %i samples' % PB)\n",
    "print('Total TRAIN set: %i samples'% (PM+PB))"
   ]
  },
  {
   "cell_type": "code",
   "execution_count": 9,
   "id": "519e42fe",
   "metadata": {
    "execution": {
     "iopub.execute_input": "2023-12-27T01:17:56.256788Z",
     "iopub.status.busy": "2023-12-27T01:17:56.256374Z",
     "iopub.status.idle": "2023-12-27T01:17:56.795277Z",
     "shell.execute_reply": "2023-12-27T01:17:56.794127Z"
    },
    "papermill": {
     "duration": 0.633064,
     "end_time": "2023-12-27T01:17:56.798370",
     "exception": false,
     "start_time": "2023-12-27T01:17:56.165306",
     "status": "completed"
    },
    "tags": []
   },
   "outputs": [],
   "source": [
    "#Chia tỉ lệ 50 - 50\n",
    "data_PM = data[(data['malicious'] == True) & (data['packed'] == True)].sample(n=(PM-PB), random_state=102)\n",
    "data = data.drop(data_PM.index)"
   ]
  },
  {
   "cell_type": "code",
   "execution_count": 10,
   "id": "3419fc2f",
   "metadata": {
    "execution": {
     "iopub.execute_input": "2023-12-27T01:17:56.848888Z",
     "iopub.status.busy": "2023-12-27T01:17:56.848458Z",
     "iopub.status.idle": "2023-12-27T01:17:57.062423Z",
     "shell.execute_reply": "2023-12-27T01:17:57.061500Z"
    },
    "papermill": {
     "duration": 0.242216,
     "end_time": "2023-12-27T01:17:57.065060",
     "exception": false,
     "start_time": "2023-12-27T01:17:56.822844",
     "status": "completed"
    },
    "tags": []
   },
   "outputs": [
    {
     "name": "stdout",
     "output_type": "stream",
     "text": [
      "Packed Malware: 1194 samples\n",
      "Packed Benign: 1194 samples\n",
      "Total TRAIN set: 2388 samples\n"
     ]
    }
   ],
   "source": [
    "#Số lượng tập train\n",
    "PM = data[(data['malicious'] == True) & (data['packed'] == True)].shape[0]\n",
    "PB = data[(data['malicious'] == False) & (data['packed'] == True)].shape[0]\n",
    "print('Packed Malware: %i samples' % PM)\n",
    "print('Packed Benign: %i samples' % PB)\n",
    "print('Total TRAIN set: %i samples'% (PM+PB))"
   ]
  },
  {
   "cell_type": "code",
   "execution_count": 11,
   "id": "27c8f2ff",
   "metadata": {
    "execution": {
     "iopub.execute_input": "2023-12-27T01:17:57.114169Z",
     "iopub.status.busy": "2023-12-27T01:17:57.113744Z",
     "iopub.status.idle": "2023-12-27T01:17:57.212226Z",
     "shell.execute_reply": "2023-12-27T01:17:57.210562Z"
    },
    "papermill": {
     "duration": 0.126577,
     "end_time": "2023-12-27T01:17:57.215303",
     "exception": false,
     "start_time": "2023-12-27T01:17:57.088726",
     "status": "completed"
    },
    "tags": []
   },
   "outputs": [],
   "source": [
    "#Xử lý tập train\n",
    "y = data['malicious'].values\n",
    "data = data.drop(['malicious','packed'], axis=1)"
   ]
  },
  {
   "cell_type": "code",
   "execution_count": 12,
   "id": "0ec56f69",
   "metadata": {
    "execution": {
     "iopub.execute_input": "2023-12-27T01:17:57.265955Z",
     "iopub.status.busy": "2023-12-27T01:17:57.265543Z",
     "iopub.status.idle": "2023-12-27T01:17:58.138061Z",
     "shell.execute_reply": "2023-12-27T01:17:58.136492Z"
    },
    "papermill": {
     "duration": 0.90362,
     "end_time": "2023-12-27T01:17:58.142925",
     "exception": false,
     "start_time": "2023-12-27T01:17:57.239305",
     "status": "completed"
    },
    "tags": []
   },
   "outputs": [
    {
     "name": "stdout",
     "output_type": "stream",
     "text": [
      "Packed Malware: 1058 samples\n",
      "Packed Benign: 1058 samples\n",
      "Total TEST set: 2116 samples\n"
     ]
    }
   ],
   "source": [
    "PM = df_3000[(df_3000['malicious'] == True) & (df_3000['packed'] == True)].shape[0]\n",
    "PB = df_3000[(df_3000['malicious'] == False) & (df_3000['packed'] == True)].shape[0]\n",
    "\n",
    "df_3000_PM = df_3000[(df_3000['malicious'] == True) & (df_3000['packed'] == True)].sample(n=(PM-PB), random_state=102)\n",
    "df_3000 = df_3000.drop(df_3000_PM.index)\n",
    "\n",
    "PM = df_3000[(df_3000['malicious'] == True) & (df_3000['packed'] == True)].shape[0]\n",
    "PB = df_3000[(df_3000['malicious'] == False) & (df_3000['packed'] == True)].shape[0]\n",
    "\n",
    "print('Packed Malware: %i samples' % PM)\n",
    "print('Packed Benign: %i samples' % PB)\n",
    "print('Total TEST set: %i samples'% (PM+PB))"
   ]
  },
  {
   "cell_type": "code",
   "execution_count": 13,
   "id": "d1b59f65",
   "metadata": {
    "execution": {
     "iopub.execute_input": "2023-12-27T01:17:58.196850Z",
     "iopub.status.busy": "2023-12-27T01:17:58.196381Z",
     "iopub.status.idle": "2023-12-27T01:17:58.621342Z",
     "shell.execute_reply": "2023-12-27T01:17:58.619788Z"
    },
    "papermill": {
     "duration": 0.455854,
     "end_time": "2023-12-27T01:17:58.624544",
     "exception": false,
     "start_time": "2023-12-27T01:17:58.168690",
     "status": "completed"
    },
    "tags": []
   },
   "outputs": [],
   "source": [
    "# model = SelectFromModel(fsel, prefit=True)\n",
    "\n",
    "X_train = data\n",
    "X_test = df_3000.drop(['malicious','packed'], axis=1)\n",
    "\n",
    "data = data.loc[:, (data != 0).any(axis=0)]\n",
    "x_train = data\n",
    "X_test = df_3000.drop(['malicious','packed'], axis=1)\n",
    "y_train = y\n",
    "y_test = df_3000['malicious'].values"
   ]
  },
  {
   "cell_type": "code",
   "execution_count": 14,
   "id": "f74f0cf5",
   "metadata": {
    "execution": {
     "iopub.execute_input": "2023-12-27T01:17:58.674663Z",
     "iopub.status.busy": "2023-12-27T01:17:58.673458Z",
     "iopub.status.idle": "2023-12-27T01:18:06.080118Z",
     "shell.execute_reply": "2023-12-27T01:18:06.078524Z"
    },
    "papermill": {
     "duration": 7.434798,
     "end_time": "2023-12-27T01:18:06.083151",
     "exception": false,
     "start_time": "2023-12-27T01:17:58.648353",
     "status": "completed"
    },
    "tags": []
   },
   "outputs": [
    {
     "name": "stdout",
     "output_type": "stream",
     "text": [
      "The accuracy of the Random Forests model is :\t 0.9073724007561437\n"
     ]
    }
   ],
   "source": [
    "# Random Forest\n",
    "from sklearn.ensemble import RandomForestClassifier\n",
    "from sklearn import metrics\n",
    "\n",
    "random_forest = RandomForestClassifier(n_estimators=100, random_state=17)\n",
    "random_forest.fit(X_train, y_train)\n",
    "random_forest_preds = random_forest.predict(X_test)\n",
    "print('The accuracy of the Random Forests model is :\\t',metrics.accuracy_score(random_forest_preds,y_test))"
   ]
  },
  {
   "cell_type": "code",
   "execution_count": 15,
   "id": "3f26d7cb",
   "metadata": {
    "execution": {
     "iopub.execute_input": "2023-12-27T01:18:06.135100Z",
     "iopub.status.busy": "2023-12-27T01:18:06.134623Z",
     "iopub.status.idle": "2023-12-27T01:18:06.209417Z",
     "shell.execute_reply": "2023-12-27T01:18:06.207603Z"
    },
    "papermill": {
     "duration": 0.104289,
     "end_time": "2023-12-27T01:18:06.212076",
     "exception": false,
     "start_time": "2023-12-27T01:18:06.107787",
     "status": "completed"
    },
    "tags": []
   },
   "outputs": [
    {
     "data": {
      "text/plain": [
       "ngram_b'script'                                           0.007352\n",
       "ngram_b'\\x00i\\x00g\\x00h'                                  0.005700\n",
       "ngram_b' \\x00M\\x00i\\x00'                                  0.005544\n",
       "ngram_b't\\x00\\x00\\x00\\xa9\\x00'                            0.005259\n",
       "pesection_3_size                                          0.005245\n",
       "                                                            ...   \n",
       "imp__zn7qwidget15mousepresseventep11qmouseevent           0.000000\n",
       "imp__zn7qwidget16contextmenueventep17qcontextmenuevent    0.000000\n",
       "imp__zn7qwidget16inputmethodeventep17qinputmethodevent    0.000000\n",
       "imp__zn7qwidget17mousereleaseeventep11qmouseevent         0.000000\n",
       "opcode_xor xor xor pop                                    0.000000\n",
       "Length: 56524, dtype: float64"
      ]
     },
     "execution_count": 15,
     "metadata": {},
     "output_type": "execute_result"
    }
   ],
   "source": [
    "feature_scores_rf = pd.Series(random_forest.feature_importances_, index=X_train.columns).sort_values(ascending=False)\n",
    "\n",
    "feature_scores_rf"
   ]
  },
  {
   "cell_type": "code",
   "execution_count": 16,
   "id": "425cc73b",
   "metadata": {
    "execution": {
     "iopub.execute_input": "2023-12-27T01:18:06.262879Z",
     "iopub.status.busy": "2023-12-27T01:18:06.262435Z",
     "iopub.status.idle": "2023-12-27T01:18:06.325388Z",
     "shell.execute_reply": "2023-12-27T01:18:06.324151Z"
    },
    "papermill": {
     "duration": 0.091999,
     "end_time": "2023-12-27T01:18:06.328426",
     "exception": false,
     "start_time": "2023-12-27T01:18:06.236427",
     "status": "completed"
    },
    "tags": []
   },
   "outputs": [],
   "source": [
    "top50 = pd.Series(random_forest.feature_importances_, index=X_train.columns).sort_values(ascending=False).head(50)"
   ]
  },
  {
   "cell_type": "code",
   "execution_count": 17,
   "id": "06a31e8c",
   "metadata": {
    "execution": {
     "iopub.execute_input": "2023-12-27T01:18:06.380593Z",
     "iopub.status.busy": "2023-12-27T01:18:06.380106Z",
     "iopub.status.idle": "2023-12-27T01:18:06.385781Z",
     "shell.execute_reply": "2023-12-27T01:18:06.384531Z"
    },
    "papermill": {
     "duration": 0.034661,
     "end_time": "2023-12-27T01:18:06.388654",
     "exception": false,
     "start_time": "2023-12-27T01:18:06.353993",
     "status": "completed"
    },
    "tags": []
   },
   "outputs": [],
   "source": [
    "# Tạo DataFrame từ feature_scores_rf\n",
    "df_features = pd.DataFrame(top50, columns=['Score'])"
   ]
  },
  {
   "cell_type": "code",
   "execution_count": 18,
   "id": "8794432f",
   "metadata": {
    "execution": {
     "iopub.execute_input": "2023-12-27T01:18:06.438784Z",
     "iopub.status.busy": "2023-12-27T01:18:06.438376Z",
     "iopub.status.idle": "2023-12-27T01:18:06.454279Z",
     "shell.execute_reply": "2023-12-27T01:18:06.453030Z"
    },
    "papermill": {
     "duration": 0.044385,
     "end_time": "2023-12-27T01:18:06.457104",
     "exception": false,
     "start_time": "2023-12-27T01:18:06.412719",
     "status": "completed"
    },
    "tags": []
   },
   "outputs": [
    {
     "name": "stdout",
     "output_type": "stream",
     "text": [
      "'ngram': 27\n",
      "'opcode ngram': 0\n",
      "'generic': 1\n",
      "'strings': 0\n",
      "'rich header': 0\n",
      "'api import': 0\n",
      "'dll': 0\n",
      "'pe section': 19\n",
      "'pe header': 3\n"
     ]
    }
   ],
   "source": [
    "count_ngram = df_features[df_features.index.str.startswith('ngram_')].shape[0]\n",
    "count_opcode = df_features[df_features.index.str.startswith('opcode_')].shape[0]\n",
    "count_generic = df_features[df_features.index.str.startswith('generic_')].shape[0]\n",
    "count_string = df_features[df_features.index.str.startswith('string_')].shape[0]\n",
    "count_rich = df_features[df_features.index.str.startswith('rich_')].shape[0]\n",
    "# count_api = df_features[df_features.index.str.startswith('imp_') or 'api_import_nb' == c].shape[0]\n",
    "# count_dll = df_features[df_features.index.str.startswith('.dll') or 'dll_import_nb' == c].shape[0]\n",
    "count_api = df_features[df_features.index.str.startswith('imp_') | (df_features.index == 'api_import_nb')].shape[0]\n",
    "count_dll = df_features[df_features.index.str.endswith('.dll') | (df_features.index == 'dll_import_nb')].shape[0]\n",
    "count_section = df_features[df_features.index.str.startswith('pesection')].shape[0]\n",
    "count_header = df_features[df_features.index.str.startswith('header_')].shape[0]\n",
    "\n",
    "print(f\"'ngram': {count_ngram}\")\n",
    "print(f\"'opcode ngram': {count_opcode}\")\n",
    "print(f\"'generic': {count_generic}\")\n",
    "print(f\"'strings': {count_string}\")\n",
    "print(f\"'rich header': {count_rich}\")\n",
    "print(f\"'api import': {count_api}\")\n",
    "print(f\"'dll': {count_dll}\")\n",
    "print(f\"'pe section': {count_section}\")\n",
    "print(f\"'pe header': {count_header}\")"
   ]
  },
  {
   "cell_type": "code",
   "execution_count": 19,
   "id": "5b2d61a7",
   "metadata": {
    "execution": {
     "iopub.execute_input": "2023-12-27T01:18:06.510858Z",
     "iopub.status.busy": "2023-12-27T01:18:06.510409Z",
     "iopub.status.idle": "2023-12-27T01:18:06.522958Z",
     "shell.execute_reply": "2023-12-27T01:18:06.522015Z"
    },
    "papermill": {
     "duration": 0.043489,
     "end_time": "2023-12-27T01:18:06.525358",
     "exception": false,
     "start_time": "2023-12-27T01:18:06.481869",
     "status": "completed"
    },
    "tags": []
   },
   "outputs": [],
   "source": [
    "cols = list(obsidium.columns)"
   ]
  },
  {
   "cell_type": "markdown",
   "id": "bcd1bec2",
   "metadata": {
    "papermill": {
     "duration": 0.024082,
     "end_time": "2023-12-27T01:18:06.574710",
     "exception": false,
     "start_time": "2023-12-27T01:18:06.550628",
     "status": "completed"
    },
    "tags": []
   },
   "source": [
    "# **ngram features**"
   ]
  },
  {
   "cell_type": "code",
   "execution_count": 20,
   "id": "59a33795",
   "metadata": {
    "execution": {
     "iopub.execute_input": "2023-12-27T01:18:06.626275Z",
     "iopub.status.busy": "2023-12-27T01:18:06.625870Z",
     "iopub.status.idle": "2023-12-27T01:18:08.519335Z",
     "shell.execute_reply": "2023-12-27T01:18:08.517770Z"
    },
    "papermill": {
     "duration": 1.923314,
     "end_time": "2023-12-27T01:18:08.522564",
     "exception": false,
     "start_time": "2023-12-27T01:18:06.599250",
     "status": "completed"
    },
    "tags": []
   },
   "outputs": [],
   "source": [
    "obsidium = pd.read_pickle('/kaggle/input/packer-balance-pickle/obsidium_balance.pickle')\n",
    "obsidium = obsidium.drop(['sample_sha1','benign','unpacked_sample_sha1','unpacked_sample_id'], axis=1)\n",
    "obsidium = obsidium.drop(['benign_vt','malicious_vt'], axis=1)\n",
    "string_columns = obsidium.select_dtypes(include=['object']).columns\n",
    "obsidium = obsidium.drop(string_columns, axis=1)"
   ]
  },
  {
   "cell_type": "code",
   "execution_count": 21,
   "id": "c01dc90c",
   "metadata": {
    "execution": {
     "iopub.execute_input": "2023-12-27T01:18:08.574352Z",
     "iopub.status.busy": "2023-12-27T01:18:08.573865Z",
     "iopub.status.idle": "2023-12-27T01:18:08.580202Z",
     "shell.execute_reply": "2023-12-27T01:18:08.578937Z"
    },
    "papermill": {
     "duration": 0.035699,
     "end_time": "2023-12-27T01:18:08.582588",
     "exception": false,
     "start_time": "2023-12-27T01:18:08.546889",
     "status": "completed"
    },
    "tags": []
   },
   "outputs": [],
   "source": [
    "def remove_cols(df, ll):\n",
    "    print(\"removing {} features\".format(len(ll)))\n",
    "    df.drop(columns=ll, axis=1, inplace=True)\n",
    "    return df"
   ]
  },
  {
   "cell_type": "code",
   "execution_count": 22,
   "id": "aec8eb3c",
   "metadata": {
    "execution": {
     "iopub.execute_input": "2023-12-27T01:18:08.634351Z",
     "iopub.status.busy": "2023-12-27T01:18:08.633010Z",
     "iopub.status.idle": "2023-12-27T01:18:10.118715Z",
     "shell.execute_reply": "2023-12-27T01:18:10.117289Z"
    },
    "papermill": {
     "duration": 1.514801,
     "end_time": "2023-12-27T01:18:10.121674",
     "exception": false,
     "start_time": "2023-12-27T01:18:08.606873",
     "status": "completed"
    },
    "tags": []
   },
   "outputs": [
    {
     "name": "stdout",
     "output_type": "stream",
     "text": [
      "removing 2500 features\n",
      "removing 2 features\n",
      "removing 16900 features\n",
      "removing 66 features\n",
      "removing 19169 features\n",
      "removing 4306 features\n",
      "removing 550 features\n",
      "removing 29 features\n"
     ]
    }
   ],
   "source": [
    "# ngram = remove_cols(df, [c for c in cols if c.startswith('ngram_')])\n",
    "ngram = remove_cols(obsidium, [c for c in cols if c.startswith('opcode_')])\n",
    "ngram = remove_cols(obsidium, [c for c in cols if c.startswith('generic_')])\n",
    "ngram = remove_cols(obsidium, [c for c in cols if c.startswith('string_')])\n",
    "ngram = remove_cols(obsidium, [c for c in cols if c.startswith('rich_')])\n",
    "ngram = remove_cols(obsidium, [c for c in cols if c.startswith('imp_') or 'api_import_nb' == c])\n",
    "ngram = remove_cols(obsidium, [c for c in cols if c.endswith('.dll') or 'dll_import_nb' == c])\n",
    "ngram = remove_cols(obsidium, [c for c in cols if c.startswith('pesection')])\n",
    "ngram = remove_cols(obsidium, [c for c in cols if c.startswith('header_')])"
   ]
  },
  {
   "cell_type": "code",
   "execution_count": 23,
   "id": "8d48bff2",
   "metadata": {
    "execution": {
     "iopub.execute_input": "2023-12-27T01:18:10.173423Z",
     "iopub.status.busy": "2023-12-27T01:18:10.172978Z",
     "iopub.status.idle": "2023-12-27T01:18:10.433841Z",
     "shell.execute_reply": "2023-12-27T01:18:10.432575Z"
    },
    "papermill": {
     "duration": 0.29014,
     "end_time": "2023-12-27T01:18:10.436701",
     "exception": false,
     "start_time": "2023-12-27T01:18:10.146561",
     "status": "completed"
    },
    "tags": []
   },
   "outputs": [],
   "source": [
    "df_7000_ngram = ngram.sample(n=7000, random_state=102)\n",
    "df_3000_ngram = ngram.drop(df_7000.index)\n",
    "data_ngram = df_7000_ngram.sample(n=3500, random_state=102)"
   ]
  },
  {
   "cell_type": "code",
   "execution_count": 24,
   "id": "9672249f",
   "metadata": {
    "execution": {
     "iopub.execute_input": "2023-12-27T01:18:10.488446Z",
     "iopub.status.busy": "2023-12-27T01:18:10.487957Z",
     "iopub.status.idle": "2023-12-27T01:18:10.839384Z",
     "shell.execute_reply": "2023-12-27T01:18:10.838256Z"
    },
    "papermill": {
     "duration": 0.380484,
     "end_time": "2023-12-27T01:18:10.842244",
     "exception": false,
     "start_time": "2023-12-27T01:18:10.461760",
     "status": "completed"
    },
    "tags": []
   },
   "outputs": [
    {
     "name": "stdout",
     "output_type": "stream",
     "text": [
      "Packed Malware: 2306 samples\n",
      "Packed Benign: 1194 samples\n",
      "Total TRAIN set: 3500 samples\n",
      "Packed Malware: 1194 samples\n",
      "Packed Benign: 1194 samples\n",
      "Total TRAIN set: 2388 samples\n",
      "Packed Malware: 1058 samples\n",
      "Packed Benign: 1058 samples\n",
      "Total TEST set: 2116 samples\n"
     ]
    }
   ],
   "source": [
    "#Kiểm tra số lượng mẫu\n",
    "PM = data_ngram[(data_ngram['malicious'] == True) & (data_ngram['packed'] == True)].shape[0]\n",
    "PB = data_ngram[(data_ngram['malicious'] == False) & (data_ngram['packed'] == True)].shape[0]\n",
    "print('Packed Malware: %i samples' % PM)\n",
    "print('Packed Benign: %i samples' % PB)\n",
    "print('Total TRAIN set: %i samples'% (PM+PB))\n",
    "\n",
    "#Chia tỉ lệ 50 - 50\n",
    "data_PM_ngram = data_ngram[(data_ngram['malicious'] == True) & (data_ngram['packed'] == True)].sample(n=(PM-PB), random_state=102)\n",
    "data_ngram = data_ngram.drop(data_PM_ngram.index)\n",
    "\n",
    "#Số lượng tập train\n",
    "PM = data_ngram[(data_ngram['malicious'] == True) & (data_ngram['packed'] == True)].shape[0]\n",
    "PB = data_ngram[(data_ngram['malicious'] == False) & (data_ngram['packed'] == True)].shape[0]\n",
    "print('Packed Malware: %i samples' % PM)\n",
    "print('Packed Benign: %i samples' % PB)\n",
    "print('Total TRAIN set: %i samples'% (PM+PB))\n",
    "\n",
    "#Xử lý tập train\n",
    "y = data_ngram['malicious'].values\n",
    "data_ngram = data_ngram.drop(['malicious','packed'], axis=1)\n",
    "\n",
    "PM = df_3000_ngram[(df_3000_ngram['malicious'] == True) & (df_3000_ngram['packed'] == True)].shape[0]\n",
    "PB = df_3000_ngram[(df_3000_ngram['malicious'] == False) & (df_3000_ngram['packed'] == True)].shape[0]\n",
    "\n",
    "df_3000_PM_ngram = df_3000_ngram[(df_3000_ngram['malicious'] == True) & (df_3000_ngram['packed'] == True)].sample(n=(PM-PB), random_state=102)\n",
    "df_3000_ngram = df_3000_ngram.drop(df_3000_PM.index)\n",
    "\n",
    "PM = df_3000_ngram[(df_3000_ngram['malicious'] == True) & (df_3000_ngram['packed'] == True)].shape[0]\n",
    "PB = df_3000_ngram[(df_3000_ngram['malicious'] == False) & (df_3000_ngram['packed'] == True)].shape[0]\n",
    "\n",
    "print('Packed Malware: %i samples' % PM)\n",
    "print('Packed Benign: %i samples' % PB)\n",
    "print('Total TEST set: %i samples'% (PM+PB))"
   ]
  },
  {
   "cell_type": "code",
   "execution_count": 25,
   "id": "76af225b",
   "metadata": {
    "execution": {
     "iopub.execute_input": "2023-12-27T01:18:10.895647Z",
     "iopub.status.busy": "2023-12-27T01:18:10.894334Z",
     "iopub.status.idle": "2023-12-27T01:18:10.983822Z",
     "shell.execute_reply": "2023-12-27T01:18:10.982476Z"
    },
    "papermill": {
     "duration": 0.119109,
     "end_time": "2023-12-27T01:18:10.986811",
     "exception": false,
     "start_time": "2023-12-27T01:18:10.867702",
     "status": "completed"
    },
    "tags": []
   },
   "outputs": [],
   "source": [
    "# model = SelectFromModel(fsel, prefit=True)\n",
    "\n",
    "X_train_ngram = data_ngram\n",
    "X_test_ngram = df_3000_ngram.drop(['malicious','packed'], axis=1)\n",
    "\n",
    "data_ngram = data_ngram.loc[:, (data_ngram != 0).any(axis=0)]\n",
    "x_train_ngram = data_ngram\n",
    "X_test_ngram = df_3000_ngram.drop(['malicious','packed'], axis=1)\n",
    "y_train_ngram = y\n",
    "y_test_ngram = df_3000_ngram['malicious'].values"
   ]
  },
  {
   "cell_type": "code",
   "execution_count": 26,
   "id": "b0975975",
   "metadata": {
    "execution": {
     "iopub.execute_input": "2023-12-27T01:18:11.044720Z",
     "iopub.status.busy": "2023-12-27T01:18:11.044133Z",
     "iopub.status.idle": "2023-12-27T01:18:15.861551Z",
     "shell.execute_reply": "2023-12-27T01:18:15.860356Z"
    },
    "papermill": {
     "duration": 4.850627,
     "end_time": "2023-12-27T01:18:15.864281",
     "exception": false,
     "start_time": "2023-12-27T01:18:11.013654",
     "status": "completed"
    },
    "tags": []
   },
   "outputs": [
    {
     "name": "stdout",
     "output_type": "stream",
     "text": [
      "The accuracy of the Random Forests model is :\t 0.9267485822306238\n"
     ]
    }
   ],
   "source": [
    "# Random Forest\n",
    "from sklearn.ensemble import RandomForestClassifier\n",
    "from sklearn import metrics\n",
    "\n",
    "random_forest = RandomForestClassifier(n_estimators=100, random_state=17)\n",
    "random_forest.fit(X_train_ngram, y_train_ngram)\n",
    "random_forest_preds = random_forest.predict(X_test_ngram)\n",
    "print('The accuracy of the Random Forests model is :\\t',metrics.accuracy_score(random_forest_preds,y_test_ngram))"
   ]
  },
  {
   "cell_type": "markdown",
   "id": "8ee39531",
   "metadata": {
    "papermill": {
     "duration": 0.024877,
     "end_time": "2023-12-27T01:18:15.914206",
     "exception": false,
     "start_time": "2023-12-27T01:18:15.889329",
     "status": "completed"
    },
    "tags": []
   },
   "source": [
    "# **opcode features**"
   ]
  },
  {
   "cell_type": "code",
   "execution_count": 27,
   "id": "49e8603f",
   "metadata": {
    "execution": {
     "iopub.execute_input": "2023-12-27T01:18:15.967925Z",
     "iopub.status.busy": "2023-12-27T01:18:15.966814Z",
     "iopub.status.idle": "2023-12-27T01:18:17.753773Z",
     "shell.execute_reply": "2023-12-27T01:18:17.752568Z"
    },
    "papermill": {
     "duration": 1.8169,
     "end_time": "2023-12-27T01:18:17.756802",
     "exception": false,
     "start_time": "2023-12-27T01:18:15.939902",
     "status": "completed"
    },
    "tags": []
   },
   "outputs": [],
   "source": [
    "obsidium = pd.read_pickle('/kaggle/input/packer-balance-pickle/obsidium_balance.pickle')\n",
    "obsidium = obsidium.drop(['sample_sha1','benign','unpacked_sample_sha1','unpacked_sample_id'], axis=1)\n",
    "obsidium = obsidium.drop(['benign_vt','malicious_vt'], axis=1)\n",
    "string_columns = obsidium.select_dtypes(include=['object']).columns\n",
    "obsidium = obsidium.drop(string_columns, axis=1)"
   ]
  },
  {
   "cell_type": "code",
   "execution_count": 28,
   "id": "dc5408f9",
   "metadata": {
    "execution": {
     "iopub.execute_input": "2023-12-27T01:18:17.811979Z",
     "iopub.status.busy": "2023-12-27T01:18:17.811178Z",
     "iopub.status.idle": "2023-12-27T01:18:19.417033Z",
     "shell.execute_reply": "2023-12-27T01:18:19.415535Z"
    },
    "papermill": {
     "duration": 1.635092,
     "end_time": "2023-12-27T01:18:19.419733",
     "exception": false,
     "start_time": "2023-12-27T01:18:17.784641",
     "status": "completed"
    },
    "tags": []
   },
   "outputs": [
    {
     "name": "stdout",
     "output_type": "stream",
     "text": [
      "removing 13000 features\n",
      "removing 2 features\n",
      "removing 16900 features\n",
      "removing 66 features\n",
      "removing 19169 features\n",
      "removing 4306 features\n",
      "removing 550 features\n",
      "removing 29 features\n"
     ]
    }
   ],
   "source": [
    "opcode = remove_cols(obsidium, [c for c in cols if c.startswith('ngram_')])\n",
    "# opcode = remove_cols(obsidium, [c for c in cols if c.startswith('opcode_')])\n",
    "opcode = remove_cols(obsidium, [c for c in cols if c.startswith('generic_')])\n",
    "opcode = remove_cols(obsidium, [c for c in cols if c.startswith('string_')])\n",
    "opcode = remove_cols(obsidium, [c for c in cols if c.startswith('rich_')])\n",
    "opcode = remove_cols(obsidium, [c for c in cols if c.startswith('imp_') or 'api_import_nb' == c])\n",
    "opcode = remove_cols(obsidium, [c for c in cols if c.endswith('.dll') or 'dll_import_nb' == c])\n",
    "opcode = remove_cols(obsidium, [c for c in cols if c.startswith('pesection')])\n",
    "opcode = remove_cols(obsidium, [c for c in cols if c.startswith('header_')])"
   ]
  },
  {
   "cell_type": "code",
   "execution_count": 29,
   "id": "d0d0e64d",
   "metadata": {
    "execution": {
     "iopub.execute_input": "2023-12-27T01:18:19.474563Z",
     "iopub.status.busy": "2023-12-27T01:18:19.473609Z",
     "iopub.status.idle": "2023-12-27T01:18:19.639775Z",
     "shell.execute_reply": "2023-12-27T01:18:19.638619Z"
    },
    "papermill": {
     "duration": 0.19659,
     "end_time": "2023-12-27T01:18:19.642491",
     "exception": false,
     "start_time": "2023-12-27T01:18:19.445901",
     "status": "completed"
    },
    "tags": []
   },
   "outputs": [],
   "source": [
    "df_7000_opcode = opcode.sample(n=7000, random_state=102)\n",
    "df_3000_opcode = opcode.drop(df_7000.index)\n",
    "data_opcode = df_7000_opcode.sample(n=3500, random_state=102)"
   ]
  },
  {
   "cell_type": "code",
   "execution_count": 30,
   "id": "0fdfef92",
   "metadata": {
    "execution": {
     "iopub.execute_input": "2023-12-27T01:18:19.696965Z",
     "iopub.status.busy": "2023-12-27T01:18:19.696088Z",
     "iopub.status.idle": "2023-12-27T01:18:19.927864Z",
     "shell.execute_reply": "2023-12-27T01:18:19.926409Z"
    },
    "papermill": {
     "duration": 0.261605,
     "end_time": "2023-12-27T01:18:19.930669",
     "exception": false,
     "start_time": "2023-12-27T01:18:19.669064",
     "status": "completed"
    },
    "tags": []
   },
   "outputs": [
    {
     "name": "stdout",
     "output_type": "stream",
     "text": [
      "Packed Malware: 2306 samples\n",
      "Packed Benign: 1194 samples\n",
      "Total TRAIN set: 3500 samples\n",
      "Packed Malware: 1194 samples\n",
      "Packed Benign: 1194 samples\n",
      "Total TRAIN set: 2388 samples\n",
      "Packed Malware: 1058 samples\n",
      "Packed Benign: 1058 samples\n",
      "Total TEST set: 2116 samples\n"
     ]
    }
   ],
   "source": [
    "#Kiểm tra số lượng mẫu\n",
    "PM = data_opcode[(data_opcode['malicious'] == True) & (data_opcode['packed'] == True)].shape[0]\n",
    "PB = data_opcode[(data_opcode['malicious'] == False) & (data_opcode['packed'] == True)].shape[0]\n",
    "print('Packed Malware: %i samples' % PM)\n",
    "print('Packed Benign: %i samples' % PB)\n",
    "print('Total TRAIN set: %i samples'% (PM+PB))\n",
    "\n",
    "#Chia tỉ lệ 50 - 50\n",
    "data_PM_opcode = data_opcode[(data_opcode['malicious'] == True) & (data_opcode['packed'] == True)].sample(n=(PM-PB), random_state=102)\n",
    "data_opcode = data_opcode.drop(data_PM_opcode.index)\n",
    "      \n",
    "#Số lượng tập train\n",
    "PM = data_opcode[(data_opcode['malicious'] == True) & (data_opcode['packed'] == True)].shape[0]\n",
    "PB = data_opcode[(data_opcode['malicious'] == False) & (data_opcode['packed'] == True)].shape[0]\n",
    "print('Packed Malware: %i samples' % PM)\n",
    "print('Packed Benign: %i samples' % PB)\n",
    "print('Total TRAIN set: %i samples'% (PM+PB))\n",
    "\n",
    "#Xử lý tập train\n",
    "y = data_opcode['malicious'].values\n",
    "data_opcode = data_opcode.drop(['malicious','packed'], axis=1)\n",
    "\n",
    "PM = df_3000_opcode[(df_3000_opcode['malicious'] == True) & (df_3000_opcode['packed'] == True)].shape[0]\n",
    "PB = df_3000_opcode[(df_3000_opcode['malicious'] == False) & (df_3000_opcode['packed'] == True)].shape[0]\n",
    "\n",
    "df_3000_PM_opcode = df_3000_opcode[(df_3000_opcode['malicious'] == True) & (df_3000_opcode['packed'] == True)].sample(n=(PM-PB), random_state=102)\n",
    "df_3000_opcode = df_3000_opcode.drop(df_3000_PM_opcode.index)\n",
    "\n",
    "PM = df_3000_opcode[(df_3000_opcode['malicious'] == True) & (df_3000_opcode['packed'] == True)].shape[0]\n",
    "PB = df_3000_opcode[(df_3000_opcode['malicious'] == False) & (df_3000_opcode['packed'] == True)].shape[0]\n",
    "\n",
    "print('Packed Malware: %i samples' % PM)\n",
    "print('Packed Benign: %i samples' % PB)\n",
    "print('Total TEST set: %i samples'% (PM+PB))"
   ]
  },
  {
   "cell_type": "code",
   "execution_count": 31,
   "id": "83cef278",
   "metadata": {
    "execution": {
     "iopub.execute_input": "2023-12-27T01:18:19.986291Z",
     "iopub.status.busy": "2023-12-27T01:18:19.985872Z",
     "iopub.status.idle": "2023-12-27T01:18:20.023354Z",
     "shell.execute_reply": "2023-12-27T01:18:20.022224Z"
    },
    "papermill": {
     "duration": 0.068193,
     "end_time": "2023-12-27T01:18:20.026336",
     "exception": false,
     "start_time": "2023-12-27T01:18:19.958143",
     "status": "completed"
    },
    "tags": []
   },
   "outputs": [],
   "source": [
    "# model = SelectFromModel(fsel, prefit=True)\n",
    "\n",
    "X_train_opcode = data_opcode\n",
    "X_test_opcode = df_3000_opcode.drop(['malicious','packed'], axis=1)\n",
    "\n",
    "# data_opcode = data_opcode.loc[:, (data_opcode != 0).any(axis=0)]\n",
    "x_train_opcode = data_opcode\n",
    "X_test_opcode = df_3000_opcode.drop(['malicious','packed'], axis=1)\n",
    "y_train_opcode = y\n",
    "y_test_opcode = df_3000_opcode['malicious'].values"
   ]
  },
  {
   "cell_type": "code",
   "execution_count": 32,
   "id": "1e433bd1",
   "metadata": {
    "execution": {
     "iopub.execute_input": "2023-12-27T01:18:20.080231Z",
     "iopub.status.busy": "2023-12-27T01:18:20.079592Z",
     "iopub.status.idle": "2023-12-27T01:18:22.950771Z",
     "shell.execute_reply": "2023-12-27T01:18:22.949375Z"
    },
    "papermill": {
     "duration": 2.901374,
     "end_time": "2023-12-27T01:18:22.953663",
     "exception": false,
     "start_time": "2023-12-27T01:18:20.052289",
     "status": "completed"
    },
    "tags": []
   },
   "outputs": [
    {
     "name": "stdout",
     "output_type": "stream",
     "text": [
      "The accuracy of the Random Forests model is :\t 0.503780718336484\n"
     ]
    }
   ],
   "source": [
    "# Random Forest\n",
    "from sklearn.ensemble import RandomForestClassifier\n",
    "from sklearn import metrics\n",
    "\n",
    "random_forest = RandomForestClassifier(n_estimators=100, random_state=17)\n",
    "random_forest.fit(x_train_opcode, y_train_opcode)\n",
    "random_forest_preds = random_forest.predict(X_test_opcode)\n",
    "print('The accuracy of the Random Forests model is :\\t',metrics.accuracy_score(random_forest_preds,y_test_opcode))"
   ]
  },
  {
   "cell_type": "markdown",
   "id": "9628e3b9",
   "metadata": {
    "papermill": {
     "duration": 0.026892,
     "end_time": "2023-12-27T01:18:23.007681",
     "exception": false,
     "start_time": "2023-12-27T01:18:22.980789",
     "status": "completed"
    },
    "tags": []
   },
   "source": [
    "# **rich header features**"
   ]
  },
  {
   "cell_type": "code",
   "execution_count": 33,
   "id": "3587fcfa",
   "metadata": {
    "execution": {
     "iopub.execute_input": "2023-12-27T01:18:23.061297Z",
     "iopub.status.busy": "2023-12-27T01:18:23.060851Z",
     "iopub.status.idle": "2023-12-27T01:18:24.882173Z",
     "shell.execute_reply": "2023-12-27T01:18:24.881063Z"
    },
    "papermill": {
     "duration": 1.851398,
     "end_time": "2023-12-27T01:18:24.885086",
     "exception": false,
     "start_time": "2023-12-27T01:18:23.033688",
     "status": "completed"
    },
    "tags": []
   },
   "outputs": [],
   "source": [
    "obsidium = pd.read_pickle('/kaggle/input/packer-balance-pickle/obsidium_balance.pickle')\n",
    "obsidium = obsidium.drop(['sample_sha1','benign','unpacked_sample_sha1','unpacked_sample_id'], axis=1)\n",
    "obsidium = obsidium.drop(['benign_vt','malicious_vt'], axis=1)\n",
    "string_columns = obsidium.select_dtypes(include=['object']).columns\n",
    "obsidium = obsidium.drop(string_columns, axis=1)"
   ]
  },
  {
   "cell_type": "code",
   "execution_count": 34,
   "id": "460f1e5d",
   "metadata": {
    "execution": {
     "iopub.execute_input": "2023-12-27T01:18:24.941921Z",
     "iopub.status.busy": "2023-12-27T01:18:24.941462Z",
     "iopub.status.idle": "2023-12-27T01:18:26.193766Z",
     "shell.execute_reply": "2023-12-27T01:18:26.192439Z"
    },
    "papermill": {
     "duration": 1.285268,
     "end_time": "2023-12-27T01:18:26.196716",
     "exception": false,
     "start_time": "2023-12-27T01:18:24.911448",
     "status": "completed"
    },
    "tags": []
   },
   "outputs": [
    {
     "name": "stdout",
     "output_type": "stream",
     "text": [
      "removing 13000 features\n",
      "removing 2500 features\n",
      "removing 2 features\n",
      "removing 16900 features\n",
      "removing 19169 features\n",
      "removing 4306 features\n",
      "removing 550 features\n",
      "removing 29 features\n"
     ]
    }
   ],
   "source": [
    "rich = remove_cols(obsidium, [c for c in cols if c.startswith('ngram_')])\n",
    "rich = remove_cols(obsidium, [c for c in cols if c.startswith('opcode_')])\n",
    "rich = remove_cols(obsidium, [c for c in cols if c.startswith('generic_')])\n",
    "rich = remove_cols(obsidium, [c for c in cols if c.startswith('string_')])\n",
    "# rich = remove_cols(obsidium, [c for c in cols if c.startswith('rich_')])\n",
    "rich = remove_cols(obsidium, [c for c in cols if c.startswith('imp_') or 'api_import_nb' == c])\n",
    "rich = remove_cols(obsidium, [c for c in cols if c.endswith('.dll') or 'dll_import_nb' == c])\n",
    "rich = remove_cols(obsidium, [c for c in cols if c.startswith('pesection')])\n",
    "rich = remove_cols(obsidium, [c for c in cols if c.startswith('header_')])"
   ]
  },
  {
   "cell_type": "code",
   "execution_count": 35,
   "id": "61a5b6a4",
   "metadata": {
    "execution": {
     "iopub.execute_input": "2023-12-27T01:18:26.251947Z",
     "iopub.status.busy": "2023-12-27T01:18:26.251523Z",
     "iopub.status.idle": "2023-12-27T01:18:26.264877Z",
     "shell.execute_reply": "2023-12-27T01:18:26.263693Z"
    },
    "papermill": {
     "duration": 0.044115,
     "end_time": "2023-12-27T01:18:26.267738",
     "exception": false,
     "start_time": "2023-12-27T01:18:26.223623",
     "status": "completed"
    },
    "tags": []
   },
   "outputs": [],
   "source": [
    "df_7000_rich = rich.sample(n=7000, random_state=102)\n",
    "df_3000_rich = rich.drop(df_7000.index)\n",
    "data_rich = df_7000_rich.sample(n=3500, random_state=102)"
   ]
  },
  {
   "cell_type": "code",
   "execution_count": 36,
   "id": "5b8bcdbf",
   "metadata": {
    "execution": {
     "iopub.execute_input": "2023-12-27T01:18:26.322983Z",
     "iopub.status.busy": "2023-12-27T01:18:26.322194Z",
     "iopub.status.idle": "2023-12-27T01:18:26.361253Z",
     "shell.execute_reply": "2023-12-27T01:18:26.359940Z"
    },
    "papermill": {
     "duration": 0.069702,
     "end_time": "2023-12-27T01:18:26.364053",
     "exception": false,
     "start_time": "2023-12-27T01:18:26.294351",
     "status": "completed"
    },
    "tags": []
   },
   "outputs": [
    {
     "name": "stdout",
     "output_type": "stream",
     "text": [
      "Packed Malware: 2306 samples\n",
      "Packed Benign: 1194 samples\n",
      "Total TRAIN set: 3500 samples\n",
      "Packed Malware: 1194 samples\n",
      "Packed Benign: 1194 samples\n",
      "Total TRAIN set: 2388 samples\n",
      "Packed Malware: 1058 samples\n",
      "Packed Benign: 1058 samples\n",
      "Total TEST set: 2116 samples\n"
     ]
    }
   ],
   "source": [
    "#Kiểm tra số lượng mẫu\n",
    "PM = data_rich[(data_rich['malicious'] == True) & (data_rich['packed'] == True)].shape[0]\n",
    "PB = data_rich[(data_rich['malicious'] == False) & (data_rich['packed'] == True)].shape[0]\n",
    "print('Packed Malware: %i samples' % PM)\n",
    "print('Packed Benign: %i samples' % PB)\n",
    "print('Total TRAIN set: %i samples'% (PM+PB))\n",
    "\n",
    "#Chia tỉ lệ 50 - 50\n",
    "data_PM_rich = data_rich[(data_rich['malicious'] == True) & (data_rich['packed'] == True)].sample(n=(PM-PB), random_state=102)\n",
    "data_rich = data_rich.drop(data_PM_rich.index)\n",
    "      \n",
    "#Số lượng tập train\n",
    "PM = data_rich[(data_rich['malicious'] == True) & (data_rich['packed'] == True)].shape[0]\n",
    "PB = data_rich[(data_rich['malicious'] == False) & (data_rich['packed'] == True)].shape[0]\n",
    "print('Packed Malware: %i samples' % PM)\n",
    "print('Packed Benign: %i samples' % PB)\n",
    "print('Total TRAIN set: %i samples'% (PM+PB))\n",
    "\n",
    "#Xử lý tập train\n",
    "y = data_rich['malicious'].values\n",
    "data_rich= data_rich.drop(['malicious','packed'], axis=1)\n",
    "\n",
    "PM = df_3000_rich[(df_3000_rich['malicious'] == True) & (df_3000_rich['packed'] == True)].shape[0]\n",
    "PB = df_3000_rich[(df_3000_rich['malicious'] == False) & (df_3000_rich['packed'] == True)].shape[0]\n",
    "\n",
    "df_3000_PM_rich = df_3000_rich[(df_3000_rich['malicious'] == True) & (df_3000_rich['packed'] == True)].sample(n=(PM-PB), random_state=102)\n",
    "df_3000_rich = df_3000_rich.drop(df_3000_PM_rich.index)\n",
    "\n",
    "PM = df_3000_rich[(df_3000_rich['malicious'] == True) & (df_3000_rich['packed'] == True)].shape[0]\n",
    "PB = df_3000_rich[(df_3000_rich['malicious'] == False) & (df_3000_rich['packed'] == True)].shape[0]\n",
    "\n",
    "print('Packed Malware: %i samples' % PM)\n",
    "print('Packed Benign: %i samples' % PB)\n",
    "print('Total TEST set: %i samples'% (PM+PB))"
   ]
  },
  {
   "cell_type": "code",
   "execution_count": 37,
   "id": "9ef9e87a",
   "metadata": {
    "execution": {
     "iopub.execute_input": "2023-12-27T01:18:26.420685Z",
     "iopub.status.busy": "2023-12-27T01:18:26.420239Z",
     "iopub.status.idle": "2023-12-27T01:18:26.431086Z",
     "shell.execute_reply": "2023-12-27T01:18:26.429872Z"
    },
    "papermill": {
     "duration": 0.042971,
     "end_time": "2023-12-27T01:18:26.433802",
     "exception": false,
     "start_time": "2023-12-27T01:18:26.390831",
     "status": "completed"
    },
    "tags": []
   },
   "outputs": [],
   "source": [
    "# model = SelectFromModel(fsel, prefit=True)\n",
    "\n",
    "X_train_rich = data_rich\n",
    "X_test_rich = df_3000_rich.drop(['malicious','packed'], axis=1)\n",
    "\n",
    "data_rich = data_rich.loc[:, (data_rich != 0).any(axis=0)]\n",
    "x_train_rich = data_rich\n",
    "X_test_rich = df_3000_rich.drop(['malicious','packed'], axis=1)\n",
    "y_train_rich = y\n",
    "y_test_rich = df_3000_rich['malicious'].values"
   ]
  },
  {
   "cell_type": "code",
   "execution_count": 38,
   "id": "0040c4fd",
   "metadata": {
    "execution": {
     "iopub.execute_input": "2023-12-27T01:18:26.490300Z",
     "iopub.status.busy": "2023-12-27T01:18:26.489848Z",
     "iopub.status.idle": "2023-12-27T01:18:26.822307Z",
     "shell.execute_reply": "2023-12-27T01:18:26.820790Z"
    },
    "papermill": {
     "duration": 0.363889,
     "end_time": "2023-12-27T01:18:26.825254",
     "exception": false,
     "start_time": "2023-12-27T01:18:26.461365",
     "status": "completed"
    },
    "tags": []
   },
   "outputs": [
    {
     "name": "stdout",
     "output_type": "stream",
     "text": [
      "The accuracy of the Random Forests model is :\t 0.5014177693761814\n"
     ]
    }
   ],
   "source": [
    "# Random Forest\n",
    "from sklearn.ensemble import RandomForestClassifier\n",
    "from sklearn import metrics\n",
    "\n",
    "random_forest = RandomForestClassifier(n_estimators=100, random_state=17)\n",
    "random_forest.fit(X_train_rich, y_train_rich)\n",
    "random_forest_preds = random_forest.predict(X_test_rich)\n",
    "print('The accuracy of the Random Forests model is :\\t',metrics.accuracy_score(random_forest_preds,y_test_rich))"
   ]
  },
  {
   "cell_type": "markdown",
   "id": "dfc7b8de",
   "metadata": {
    "papermill": {
     "duration": 0.026592,
     "end_time": "2023-12-27T01:18:26.878739",
     "exception": false,
     "start_time": "2023-12-27T01:18:26.852147",
     "status": "completed"
    },
    "tags": []
   },
   "source": [
    "# **string features**"
   ]
  },
  {
   "cell_type": "code",
   "execution_count": 39,
   "id": "eb401dc8",
   "metadata": {
    "execution": {
     "iopub.execute_input": "2023-12-27T01:18:26.936313Z",
     "iopub.status.busy": "2023-12-27T01:18:26.935823Z",
     "iopub.status.idle": "2023-12-27T01:18:28.642483Z",
     "shell.execute_reply": "2023-12-27T01:18:28.641238Z"
    },
    "papermill": {
     "duration": 1.740698,
     "end_time": "2023-12-27T01:18:28.645996",
     "exception": false,
     "start_time": "2023-12-27T01:18:26.905298",
     "status": "completed"
    },
    "tags": []
   },
   "outputs": [],
   "source": [
    "obsidium = pd.read_pickle('/kaggle/input/packer-balance-pickle/obsidium_balance.pickle')\n",
    "obsidium = obsidium.drop(['sample_sha1','benign','unpacked_sample_sha1','unpacked_sample_id'], axis=1)\n",
    "obsidium = obsidium.drop(['benign_vt','malicious_vt'], axis=1)\n",
    "string_columns = obsidium.select_dtypes(include=['object']).columns\n",
    "obsidium = obsidium.drop(string_columns, axis=1)"
   ]
  },
  {
   "cell_type": "code",
   "execution_count": 40,
   "id": "b16b07d0",
   "metadata": {
    "execution": {
     "iopub.execute_input": "2023-12-27T01:18:28.704316Z",
     "iopub.status.busy": "2023-12-27T01:18:28.703834Z",
     "iopub.status.idle": "2023-12-27T01:18:30.146520Z",
     "shell.execute_reply": "2023-12-27T01:18:30.145328Z"
    },
    "papermill": {
     "duration": 1.473865,
     "end_time": "2023-12-27T01:18:30.149222",
     "exception": false,
     "start_time": "2023-12-27T01:18:28.675357",
     "status": "completed"
    },
    "tags": []
   },
   "outputs": [
    {
     "name": "stdout",
     "output_type": "stream",
     "text": [
      "removing 13000 features\n",
      "removing 2500 features\n",
      "removing 2 features\n",
      "removing 66 features\n",
      "removing 19169 features\n",
      "removing 4306 features\n",
      "removing 550 features\n",
      "removing 29 features\n"
     ]
    }
   ],
   "source": [
    "string = remove_cols(obsidium, [c for c in cols if c.startswith('ngram_')])\n",
    "string = remove_cols(obsidium, [c for c in cols if c.startswith('opcode_')])\n",
    "string = remove_cols(obsidium, [c for c in cols if c.startswith('generic_')])\n",
    "# string = remove_cols(obsidium, [c for c in cols if c.startswith('string_')])\n",
    "string = remove_cols(obsidium, [c for c in cols if c.startswith('rich_')])\n",
    "string = remove_cols(obsidium, [c for c in cols if c.startswith('imp_') or 'api_import_nb' == c])\n",
    "string = remove_cols(obsidium, [c for c in cols if c.endswith('.dll') or 'dll_import_nb' == c])\n",
    "string = remove_cols(obsidium, [c for c in cols if c.startswith('pesection')])\n",
    "string = remove_cols(obsidium, [c for c in cols if c.startswith('header_')])"
   ]
  },
  {
   "cell_type": "code",
   "execution_count": 41,
   "id": "fbf22710",
   "metadata": {
    "execution": {
     "iopub.execute_input": "2023-12-27T01:18:30.205744Z",
     "iopub.status.busy": "2023-12-27T01:18:30.205291Z",
     "iopub.status.idle": "2023-12-27T01:18:30.548731Z",
     "shell.execute_reply": "2023-12-27T01:18:30.547450Z"
    },
    "papermill": {
     "duration": 0.375748,
     "end_time": "2023-12-27T01:18:30.551922",
     "exception": false,
     "start_time": "2023-12-27T01:18:30.176174",
     "status": "completed"
    },
    "tags": []
   },
   "outputs": [],
   "source": [
    "df_7000_string = string.sample(n=7000, random_state=102)\n",
    "df_3000_string = string.drop(df_7000.index)\n",
    "data_string = df_7000_string.sample(n=3500, random_state=102)"
   ]
  },
  {
   "cell_type": "code",
   "execution_count": 42,
   "id": "7a4d1b4e",
   "metadata": {
    "execution": {
     "iopub.execute_input": "2023-12-27T01:18:30.608251Z",
     "iopub.status.busy": "2023-12-27T01:18:30.607810Z",
     "iopub.status.idle": "2023-12-27T01:18:31.079971Z",
     "shell.execute_reply": "2023-12-27T01:18:31.078453Z"
    },
    "papermill": {
     "duration": 0.503381,
     "end_time": "2023-12-27T01:18:31.082596",
     "exception": false,
     "start_time": "2023-12-27T01:18:30.579215",
     "status": "completed"
    },
    "tags": []
   },
   "outputs": [
    {
     "name": "stdout",
     "output_type": "stream",
     "text": [
      "Packed Malware: 2306 samples\n",
      "Packed Benign: 1194 samples\n",
      "Total TRAIN set: 3500 samples\n",
      "Packed Malware: 1194 samples\n",
      "Packed Benign: 1194 samples\n",
      "Total TRAIN set: 2388 samples\n",
      "Packed Malware: 1058 samples\n",
      "Packed Benign: 1058 samples\n",
      "Total TEST set: 2116 samples\n"
     ]
    }
   ],
   "source": [
    "#Kiểm tra số lượng mẫu\n",
    "PM = data_string[(data_string['malicious'] == True) & (data_string['packed'] == True)].shape[0]\n",
    "PB = data_string[(data_string['malicious'] == False) & (data_string['packed'] == True)].shape[0]\n",
    "print('Packed Malware: %i samples' % PM)\n",
    "print('Packed Benign: %i samples' % PB)\n",
    "print('Total TRAIN set: %i samples'% (PM+PB))\n",
    "\n",
    "#Chia tỉ lệ 50 - 50\n",
    "data_PM_string = data_string[(data_string['malicious'] == True) & (data_string['packed'] == True)].sample(n=(PM-PB), random_state=102)\n",
    "data_string = data_string.drop(data_PM_string.index)\n",
    "      \n",
    "#Số lượng tập train\n",
    "PM = data_string[(data_string['malicious'] == True) & (data_string['packed'] == True)].shape[0]\n",
    "PB = data_string[(data_string['malicious'] == False) & (data_string['packed'] == True)].shape[0]\n",
    "print('Packed Malware: %i samples' % PM)\n",
    "print('Packed Benign: %i samples' % PB)\n",
    "print('Total TRAIN set: %i samples'% (PM+PB))\n",
    "\n",
    "#Xử lý tập train\n",
    "y = data_string['malicious'].values\n",
    "data_string = data_string.drop(['malicious','packed'], axis=1)\n",
    "\n",
    "PM = df_3000_string[(df_3000_string['malicious'] == True) & (df_3000_string['packed'] == True)].shape[0]\n",
    "PB = df_3000_string[(df_3000_string['malicious'] == False) & (df_3000_string['packed'] == True)].shape[0]\n",
    "\n",
    "df_3000_PM_string = df_3000_string[(df_3000_string['malicious'] == True) & (df_3000_string['packed'] == True)].sample(n=(PM-PB), random_state=102)\n",
    "df_3000_string = df_3000_string.drop(df_3000_PM_string.index)\n",
    "\n",
    "PM = df_3000_string[(df_3000_string['malicious'] == True) & (df_3000_string['packed'] == True)].shape[0]\n",
    "PB = df_3000_string[(df_3000_string['malicious'] == False) & (df_3000_string['packed'] == True)].shape[0]\n",
    "\n",
    "print('Packed Malware: %i samples' % PM)\n",
    "print('Packed Benign: %i samples' % PB)\n",
    "print('Total TEST set: %i samples'% (PM+PB))"
   ]
  },
  {
   "cell_type": "code",
   "execution_count": 43,
   "id": "c210ad60",
   "metadata": {
    "execution": {
     "iopub.execute_input": "2023-12-27T01:18:31.140101Z",
     "iopub.status.busy": "2023-12-27T01:18:31.139699Z",
     "iopub.status.idle": "2023-12-27T01:18:31.237639Z",
     "shell.execute_reply": "2023-12-27T01:18:31.236443Z"
    },
    "papermill": {
     "duration": 0.130199,
     "end_time": "2023-12-27T01:18:31.240605",
     "exception": false,
     "start_time": "2023-12-27T01:18:31.110406",
     "status": "completed"
    },
    "tags": []
   },
   "outputs": [],
   "source": [
    "# model = SelectFromModel(fsel, prefit=True)\n",
    "\n",
    "X_train_string = data_string\n",
    "X_test_string = df_3000_string.drop(['malicious','packed'], axis=1)\n",
    "\n",
    "data_string = data_string.loc[:, (data_string != 0).any(axis=0)]\n",
    "x_train_string = data_string\n",
    "X_test_string = df_3000_string.drop(['malicious','packed'], axis=1)\n",
    "y_train_string = y\n",
    "y_test_string = df_3000_string['malicious'].values"
   ]
  },
  {
   "cell_type": "code",
   "execution_count": 44,
   "id": "9e4cf0aa",
   "metadata": {
    "execution": {
     "iopub.execute_input": "2023-12-27T01:18:31.296798Z",
     "iopub.status.busy": "2023-12-27T01:18:31.296348Z",
     "iopub.status.idle": "2023-12-27T01:18:45.124257Z",
     "shell.execute_reply": "2023-12-27T01:18:45.122842Z"
    },
    "papermill": {
     "duration": 13.860546,
     "end_time": "2023-12-27T01:18:45.128233",
     "exception": false,
     "start_time": "2023-12-27T01:18:31.267687",
     "status": "completed"
    },
    "tags": []
   },
   "outputs": [
    {
     "name": "stdout",
     "output_type": "stream",
     "text": [
      "The accuracy of the Random Forests model is :\t 0.8549149338374291\n"
     ]
    }
   ],
   "source": [
    "# Random Forest\n",
    "from sklearn.ensemble import RandomForestClassifier\n",
    "from sklearn import metrics\n",
    "\n",
    "random_forest = RandomForestClassifier(n_estimators=100, random_state=17)\n",
    "random_forest.fit(X_train_string, y_train_string)\n",
    "random_forest_preds = random_forest.predict(X_test_string)\n",
    "print('The accuracy of the Random Forests model is :\\t',metrics.accuracy_score(random_forest_preds,y_test_string))"
   ]
  },
  {
   "cell_type": "markdown",
   "id": "c7758600",
   "metadata": {
    "papermill": {
     "duration": 0.026953,
     "end_time": "2023-12-27T01:18:45.183114",
     "exception": false,
     "start_time": "2023-12-27T01:18:45.156161",
     "status": "completed"
    },
    "tags": []
   },
   "source": [
    "# **api features**"
   ]
  },
  {
   "cell_type": "code",
   "execution_count": 45,
   "id": "a0fb2235",
   "metadata": {
    "execution": {
     "iopub.execute_input": "2023-12-27T01:18:45.240413Z",
     "iopub.status.busy": "2023-12-27T01:18:45.239999Z",
     "iopub.status.idle": "2023-12-27T01:18:47.023010Z",
     "shell.execute_reply": "2023-12-27T01:18:47.021851Z"
    },
    "papermill": {
     "duration": 1.814931,
     "end_time": "2023-12-27T01:18:47.025790",
     "exception": false,
     "start_time": "2023-12-27T01:18:45.210859",
     "status": "completed"
    },
    "tags": []
   },
   "outputs": [],
   "source": [
    "obsidium = pd.read_pickle('/kaggle/input/packer-balance-pickle/obsidium_balance.pickle')\n",
    "obsidium = obsidium.drop(['sample_sha1','benign','unpacked_sample_sha1','unpacked_sample_id'], axis=1)\n",
    "obsidium = obsidium.drop(['benign_vt','malicious_vt'], axis=1)\n",
    "string_columns = obsidium.select_dtypes(include=['object']).columns\n",
    "obsidium = obsidium.drop(string_columns, axis=1)"
   ]
  },
  {
   "cell_type": "code",
   "execution_count": 46,
   "id": "401a505b",
   "metadata": {
    "execution": {
     "iopub.execute_input": "2023-12-27T01:18:47.081883Z",
     "iopub.status.busy": "2023-12-27T01:18:47.081391Z",
     "iopub.status.idle": "2023-12-27T01:18:48.895135Z",
     "shell.execute_reply": "2023-12-27T01:18:48.894040Z"
    },
    "papermill": {
     "duration": 1.845166,
     "end_time": "2023-12-27T01:18:48.898090",
     "exception": false,
     "start_time": "2023-12-27T01:18:47.052924",
     "status": "completed"
    },
    "tags": []
   },
   "outputs": [
    {
     "name": "stdout",
     "output_type": "stream",
     "text": [
      "removing 13000 features\n",
      "removing 2500 features\n",
      "removing 2 features\n",
      "removing 16900 features\n",
      "removing 66 features\n",
      "removing 4306 features\n",
      "removing 550 features\n",
      "removing 29 features\n"
     ]
    }
   ],
   "source": [
    "api = remove_cols(obsidium, [c for c in cols if c.startswith('ngram_')])\n",
    "api = remove_cols(obsidium, [c for c in cols if c.startswith('opcode_')])\n",
    "api = remove_cols(obsidium, [c for c in cols if c.startswith('generic_')])\n",
    "api = remove_cols(obsidium, [c for c in cols if c.startswith('string_')])\n",
    "api = remove_cols(obsidium, [c for c in cols if c.startswith('rich_')])\n",
    "# api = remove_cols(obsidium, [c for c in cols if c.startswith('imp_') or 'api_import_nb' == c])\n",
    "api = remove_cols(obsidium, [c for c in cols if c.endswith('.dll') or 'dll_import_nb' == c])\n",
    "api = remove_cols(obsidium, [c for c in cols if c.startswith('pesection')])\n",
    "api = remove_cols(obsidium, [c for c in cols if c.startswith('header_')])"
   ]
  },
  {
   "cell_type": "code",
   "execution_count": 47,
   "id": "39544ed3",
   "metadata": {
    "execution": {
     "iopub.execute_input": "2023-12-27T01:18:48.958717Z",
     "iopub.status.busy": "2023-12-27T01:18:48.958244Z",
     "iopub.status.idle": "2023-12-27T01:18:49.394774Z",
     "shell.execute_reply": "2023-12-27T01:18:49.393602Z"
    },
    "papermill": {
     "duration": 0.470997,
     "end_time": "2023-12-27T01:18:49.397861",
     "exception": false,
     "start_time": "2023-12-27T01:18:48.926864",
     "status": "completed"
    },
    "tags": []
   },
   "outputs": [],
   "source": [
    "df_7000_api = api.sample(n=7000, random_state=102)\n",
    "df_3000_api = api.drop(df_7000.index)\n",
    "data_api = df_7000_api.sample(n=3500, random_state=102)"
   ]
  },
  {
   "cell_type": "code",
   "execution_count": 48,
   "id": "4abc403c",
   "metadata": {
    "execution": {
     "iopub.execute_input": "2023-12-27T01:18:49.460178Z",
     "iopub.status.busy": "2023-12-27T01:18:49.459783Z",
     "iopub.status.idle": "2023-12-27T01:18:50.197974Z",
     "shell.execute_reply": "2023-12-27T01:18:50.196706Z"
    },
    "papermill": {
     "duration": 0.772881,
     "end_time": "2023-12-27T01:18:50.201061",
     "exception": false,
     "start_time": "2023-12-27T01:18:49.428180",
     "status": "completed"
    },
    "tags": []
   },
   "outputs": [
    {
     "name": "stdout",
     "output_type": "stream",
     "text": [
      "Packed Malware: 2306 samples\n",
      "Packed Benign: 1194 samples\n",
      "Total TRAIN set: 3500 samples\n",
      "Packed Malware: 1194 samples\n",
      "Packed Benign: 1194 samples\n",
      "Total TRAIN set: 2388 samples\n",
      "Packed Malware: 1058 samples\n",
      "Packed Benign: 1058 samples\n",
      "Total TEST set: 2116 samples\n"
     ]
    }
   ],
   "source": [
    "#Kiểm tra số lượng mẫu\n",
    "PM = data_api[(data_api['malicious'] == True) & (data_api['packed'] == True)].shape[0]\n",
    "PB = data_api[(data_api['malicious'] == False) & (data_api['packed'] == True)].shape[0]\n",
    "print('Packed Malware: %i samples' % PM)\n",
    "print('Packed Benign: %i samples' % PB)\n",
    "print('Total TRAIN set: %i samples'% (PM+PB))\n",
    "\n",
    "#Chia tỉ lệ 50 - 50\n",
    "data_PM_api = data_api[(data_api['malicious'] == True) & (data_api['packed'] == True)].sample(n=(PM-PB), random_state=102)\n",
    "data_api = data_api.drop(data_PM_api.index)\n",
    "      \n",
    "#Số lượng tập train\n",
    "PM = data_api[(data_api['malicious'] == True) & (data_api['packed'] == True)].shape[0]\n",
    "PB = data_api[(data_api['malicious'] == False) & (data_api['packed'] == True)].shape[0]\n",
    "print('Packed Malware: %i samples' % PM)\n",
    "print('Packed Benign: %i samples' % PB)\n",
    "print('Total TRAIN set: %i samples'% (PM+PB))\n",
    "\n",
    "#Xử lý tập train\n",
    "y = data_api['malicious'].values\n",
    "data_api = data_api.drop(['malicious','packed'], axis=1)\n",
    "\n",
    "PM = df_3000_api[(df_3000_api['malicious'] == True) & (df_3000_api['packed'] == True)].shape[0]\n",
    "PB = df_3000_api[(df_3000_api['malicious'] == False) & (df_3000_api['packed'] == True)].shape[0]\n",
    "\n",
    "df_3000_PM_api = df_3000_api[(df_3000_api['malicious'] == True) & (df_3000_api['packed'] == True)].sample(n=(PM-PB), random_state=102)\n",
    "df_3000_api = df_3000_api.drop(df_3000_PM_api.index)\n",
    "\n",
    "PM = df_3000_api[(df_3000_api['malicious'] == True) & (df_3000_api['packed'] == True)].shape[0]\n",
    "PB = df_3000_api[(df_3000_api['malicious'] == False) & (df_3000_api['packed'] == True)].shape[0]\n",
    "\n",
    "print('Packed Malware: %i samples' % PM)\n",
    "print('Packed Benign: %i samples' % PB)\n",
    "print('Total TEST set: %i samples'% (PM+PB))"
   ]
  },
  {
   "cell_type": "code",
   "execution_count": 49,
   "id": "8b9ad646",
   "metadata": {
    "execution": {
     "iopub.execute_input": "2023-12-27T01:18:50.260082Z",
     "iopub.status.busy": "2023-12-27T01:18:50.259679Z",
     "iopub.status.idle": "2023-12-27T01:18:50.412099Z",
     "shell.execute_reply": "2023-12-27T01:18:50.411011Z"
    },
    "papermill": {
     "duration": 0.185544,
     "end_time": "2023-12-27T01:18:50.415210",
     "exception": false,
     "start_time": "2023-12-27T01:18:50.229666",
     "status": "completed"
    },
    "tags": []
   },
   "outputs": [],
   "source": [
    "# model = SelectFromModel(fsel, prefit=True)\n",
    "\n",
    "X_train_api = data_api\n",
    "X_test_api = df_3000_api.drop(['malicious','packed'], axis=1)\n",
    "\n",
    "data_api = data_api.loc[:, (data_api != 0).any(axis=0)]\n",
    "x_train_api = data_api\n",
    "X_test_api = df_3000_api.drop(['malicious','packed'], axis=1)\n",
    "y_train_api = y\n",
    "y_test_api = df_3000_api['malicious'].values"
   ]
  },
  {
   "cell_type": "code",
   "execution_count": 50,
   "id": "ecb6788c",
   "metadata": {
    "execution": {
     "iopub.execute_input": "2023-12-27T01:18:50.473768Z",
     "iopub.status.busy": "2023-12-27T01:18:50.473101Z",
     "iopub.status.idle": "2023-12-27T01:19:11.829877Z",
     "shell.execute_reply": "2023-12-27T01:19:11.828560Z"
    },
    "papermill": {
     "duration": 21.389217,
     "end_time": "2023-12-27T01:19:11.832687",
     "exception": false,
     "start_time": "2023-12-27T01:18:50.443470",
     "status": "completed"
    },
    "tags": []
   },
   "outputs": [
    {
     "name": "stdout",
     "output_type": "stream",
     "text": [
      "The accuracy of the Random Forests model is :\t 0.8601134215500945\n"
     ]
    }
   ],
   "source": [
    "# Random Forest\n",
    "from sklearn.ensemble import RandomForestClassifier\n",
    "from sklearn import metrics\n",
    "\n",
    "random_forest = RandomForestClassifier(n_estimators=100, random_state=17)\n",
    "random_forest.fit(X_train_api, y_train_api)\n",
    "random_forest_preds = random_forest.predict(X_test_api)\n",
    "print('The accuracy of the Random Forests model is :\\t',metrics.accuracy_score(random_forest_preds,y_test_api))"
   ]
  },
  {
   "cell_type": "markdown",
   "id": "371873fb",
   "metadata": {
    "papermill": {
     "duration": 0.027603,
     "end_time": "2023-12-27T01:19:11.888640",
     "exception": false,
     "start_time": "2023-12-27T01:19:11.861037",
     "status": "completed"
    },
    "tags": []
   },
   "source": [
    "# **dll features**"
   ]
  },
  {
   "cell_type": "code",
   "execution_count": 51,
   "id": "e1d85ec4",
   "metadata": {
    "execution": {
     "iopub.execute_input": "2023-12-27T01:19:11.947266Z",
     "iopub.status.busy": "2023-12-27T01:19:11.946825Z",
     "iopub.status.idle": "2023-12-27T01:19:13.852992Z",
     "shell.execute_reply": "2023-12-27T01:19:13.851842Z"
    },
    "papermill": {
     "duration": 1.938567,
     "end_time": "2023-12-27T01:19:13.855854",
     "exception": false,
     "start_time": "2023-12-27T01:19:11.917287",
     "status": "completed"
    },
    "tags": []
   },
   "outputs": [],
   "source": [
    "obsidium = pd.read_pickle('/kaggle/input/packer-balance-pickle/obsidium_balance.pickle')\n",
    "obsidium = obsidium.drop(['sample_sha1','benign','unpacked_sample_sha1','unpacked_sample_id'], axis=1)\n",
    "obsidium = obsidium.drop(['benign_vt','malicious_vt'], axis=1)\n",
    "string_columns = obsidium.select_dtypes(include=['object']).columns\n",
    "obsidium = obsidium.drop(string_columns, axis=1)"
   ]
  },
  {
   "cell_type": "code",
   "execution_count": 52,
   "id": "56902d77",
   "metadata": {
    "execution": {
     "iopub.execute_input": "2023-12-27T01:19:13.914562Z",
     "iopub.status.busy": "2023-12-27T01:19:13.914086Z",
     "iopub.status.idle": "2023-12-27T01:19:15.274992Z",
     "shell.execute_reply": "2023-12-27T01:19:15.273573Z"
    },
    "papermill": {
     "duration": 1.393352,
     "end_time": "2023-12-27T01:19:15.277652",
     "exception": false,
     "start_time": "2023-12-27T01:19:13.884300",
     "status": "completed"
    },
    "tags": []
   },
   "outputs": [
    {
     "name": "stdout",
     "output_type": "stream",
     "text": [
      "removing 13000 features\n",
      "removing 2500 features\n",
      "removing 2 features\n",
      "removing 16900 features\n",
      "removing 66 features\n",
      "removing 19169 features\n",
      "removing 550 features\n",
      "removing 29 features\n"
     ]
    }
   ],
   "source": [
    "dll = remove_cols(obsidium, [c for c in cols if c.startswith('ngram_')])\n",
    "dll = remove_cols(obsidium, [c for c in cols if c.startswith('opcode_')])\n",
    "dll = remove_cols(obsidium, [c for c in cols if c.startswith('generic_')])\n",
    "dll = remove_cols(obsidium, [c for c in cols if c.startswith('string_')])\n",
    "dll = remove_cols(obsidium, [c for c in cols if c.startswith('rich_')])\n",
    "dll = remove_cols(obsidium, [c for c in cols if c.startswith('imp_') or 'api_import_nb' == c])\n",
    "# api = remove_cols(obsidium, [c for c in cols if c.endswith('.dll') or 'dll_import_nb' == c])\n",
    "dll = remove_cols(obsidium, [c for c in cols if c.startswith('pesection')])\n",
    "dll = remove_cols(obsidium, [c for c in cols if c.startswith('header_')])"
   ]
  },
  {
   "cell_type": "code",
   "execution_count": 53,
   "id": "4386d930",
   "metadata": {
    "execution": {
     "iopub.execute_input": "2023-12-27T01:19:15.338164Z",
     "iopub.status.busy": "2023-12-27T01:19:15.337714Z",
     "iopub.status.idle": "2023-12-27T01:19:15.444734Z",
     "shell.execute_reply": "2023-12-27T01:19:15.443550Z"
    },
    "papermill": {
     "duration": 0.140525,
     "end_time": "2023-12-27T01:19:15.447536",
     "exception": false,
     "start_time": "2023-12-27T01:19:15.307011",
     "status": "completed"
    },
    "tags": []
   },
   "outputs": [],
   "source": [
    "df_7000_dll = dll.sample(n=7000, random_state=102)\n",
    "df_3000_dll = dll.drop(df_7000.index)\n",
    "data_dll = df_7000_dll.sample(n=3500, random_state=102)"
   ]
  },
  {
   "cell_type": "code",
   "execution_count": 54,
   "id": "078cc2dc",
   "metadata": {
    "execution": {
     "iopub.execute_input": "2023-12-27T01:19:15.507732Z",
     "iopub.status.busy": "2023-12-27T01:19:15.507259Z",
     "iopub.status.idle": "2023-12-27T01:19:15.732822Z",
     "shell.execute_reply": "2023-12-27T01:19:15.731576Z"
    },
    "papermill": {
     "duration": 0.259228,
     "end_time": "2023-12-27T01:19:15.735366",
     "exception": false,
     "start_time": "2023-12-27T01:19:15.476138",
     "status": "completed"
    },
    "tags": []
   },
   "outputs": [
    {
     "name": "stdout",
     "output_type": "stream",
     "text": [
      "Packed Malware: 2306 samples\n",
      "Packed Benign: 1194 samples\n",
      "Total TRAIN set: 3500 samples\n",
      "Packed Malware: 1194 samples\n",
      "Packed Benign: 1194 samples\n",
      "Total TRAIN set: 2388 samples\n",
      "Packed Malware: 1058 samples\n",
      "Packed Benign: 1058 samples\n",
      "Total TEST set: 2116 samples\n"
     ]
    }
   ],
   "source": [
    "#Kiểm tra số lượng mẫu\n",
    "PM = data_dll[(data_dll['malicious'] == True) & (data_dll['packed'] == True)].shape[0]\n",
    "PB = data_dll[(data_dll['malicious'] == False) & (data_dll['packed'] == True)].shape[0]\n",
    "print('Packed Malware: %i samples' % PM)\n",
    "print('Packed Benign: %i samples' % PB)\n",
    "print('Total TRAIN set: %i samples'% (PM+PB))\n",
    "\n",
    "#Chia tỉ lệ 50 - 50\n",
    "data_PM_dll = data_dll[(data_dll['malicious'] == True) & (data_dll['packed'] == True)].sample(n=(PM-PB), random_state=102)\n",
    "data_dll = data_dll.drop(data_PM_dll.index)\n",
    "      \n",
    "#Số lượng tập train\n",
    "PM = data_dll[(data_dll['malicious'] == True) & (data_dll['packed'] == True)].shape[0]\n",
    "PB = data_dll[(data_dll['malicious'] == False) & (data_dll['packed'] == True)].shape[0]\n",
    "print('Packed Malware: %i samples' % PM)\n",
    "print('Packed Benign: %i samples' % PB)\n",
    "print('Total TRAIN set: %i samples'% (PM+PB))\n",
    "\n",
    "#Xử lý tập train\n",
    "y = data_dll['malicious'].values\n",
    "data_dll = data_dll.drop(['malicious','packed'], axis=1)\n",
    "\n",
    "PM = df_3000_dll[(df_3000_dll['malicious'] == True) & (df_3000_dll['packed'] == True)].shape[0]\n",
    "PB = df_3000_dll[(df_3000_dll['malicious'] == False) & (df_3000_dll['packed'] == True)].shape[0]\n",
    "\n",
    "df_3000_PM_dll = df_3000_dll[(df_3000_dll['malicious'] == True) & (df_3000_dll['packed'] == True)].sample(n=(PM-PB), random_state=102)\n",
    "df_3000_dll = df_3000_dll.drop(df_3000_PM_dll.index)\n",
    "\n",
    "PM = df_3000_dll[(df_3000_dll['malicious'] == True) & (df_3000_dll['packed'] == True)].shape[0]\n",
    "PB = df_3000_dll[(df_3000_dll['malicious'] == False) & (df_3000_dll['packed'] == True)].shape[0]\n",
    "\n",
    "print('Packed Malware: %i samples' % PM)\n",
    "print('Packed Benign: %i samples' % PB)\n",
    "print('Total TEST set: %i samples'% (PM+PB))"
   ]
  },
  {
   "cell_type": "code",
   "execution_count": 55,
   "id": "647d5d24",
   "metadata": {
    "execution": {
     "iopub.execute_input": "2023-12-27T01:19:15.795419Z",
     "iopub.status.busy": "2023-12-27T01:19:15.794332Z",
     "iopub.status.idle": "2023-12-27T01:19:15.845617Z",
     "shell.execute_reply": "2023-12-27T01:19:15.844402Z"
    },
    "papermill": {
     "duration": 0.084154,
     "end_time": "2023-12-27T01:19:15.848340",
     "exception": false,
     "start_time": "2023-12-27T01:19:15.764186",
     "status": "completed"
    },
    "tags": []
   },
   "outputs": [],
   "source": [
    "# model = SelectFromModel(fsel, prefit=True)\n",
    "\n",
    "X_train_dll = data_dll\n",
    "X_test_dll = df_3000_dll.drop(['malicious','packed'], axis=1)\n",
    "\n",
    "data_dll = data_dll.loc[:, (data_dll != 0).any(axis=0)]\n",
    "x_train_dll = data_dll\n",
    "X_test_dll = df_3000_dll.drop(['malicious','packed'], axis=1)\n",
    "y_train_dll = y\n",
    "y_test_dll = df_3000_dll['malicious'].values"
   ]
  },
  {
   "cell_type": "code",
   "execution_count": 56,
   "id": "00d9448f",
   "metadata": {
    "execution": {
     "iopub.execute_input": "2023-12-27T01:19:15.908203Z",
     "iopub.status.busy": "2023-12-27T01:19:15.907581Z",
     "iopub.status.idle": "2023-12-27T01:19:18.442669Z",
     "shell.execute_reply": "2023-12-27T01:19:18.441416Z"
    },
    "papermill": {
     "duration": 2.568315,
     "end_time": "2023-12-27T01:19:18.445348",
     "exception": false,
     "start_time": "2023-12-27T01:19:15.877033",
     "status": "completed"
    },
    "tags": []
   },
   "outputs": [
    {
     "name": "stdout",
     "output_type": "stream",
     "text": [
      "The accuracy of the Random Forests model is :\t 0.6838374291115312\n"
     ]
    }
   ],
   "source": [
    "# Random Forest\n",
    "from sklearn.ensemble import RandomForestClassifier\n",
    "from sklearn import metrics\n",
    "\n",
    "random_forest = RandomForestClassifier(n_estimators=100, random_state=17)\n",
    "random_forest.fit(X_train_dll, y_train_dll)\n",
    "random_forest_preds = random_forest.predict(X_test_dll)\n",
    "print('The accuracy of the Random Forests model is :\\t',metrics.accuracy_score(random_forest_preds,y_test_dll))"
   ]
  },
  {
   "cell_type": "markdown",
   "id": "dff86510",
   "metadata": {
    "papermill": {
     "duration": 0.03,
     "end_time": "2023-12-27T01:19:18.504148",
     "exception": false,
     "start_time": "2023-12-27T01:19:18.474148",
     "status": "completed"
    },
    "tags": []
   },
   "source": [
    "# **pe sections features**"
   ]
  },
  {
   "cell_type": "code",
   "execution_count": 57,
   "id": "0ba56484",
   "metadata": {
    "execution": {
     "iopub.execute_input": "2023-12-27T01:19:18.563744Z",
     "iopub.status.busy": "2023-12-27T01:19:18.563297Z",
     "iopub.status.idle": "2023-12-27T01:19:20.352213Z",
     "shell.execute_reply": "2023-12-27T01:19:20.351000Z"
    },
    "papermill": {
     "duration": 1.822118,
     "end_time": "2023-12-27T01:19:20.355173",
     "exception": false,
     "start_time": "2023-12-27T01:19:18.533055",
     "status": "completed"
    },
    "tags": []
   },
   "outputs": [],
   "source": [
    "obsidium = pd.read_pickle('/kaggle/input/packer-balance-pickle/obsidium_balance.pickle')\n",
    "obsidium = obsidium.drop(['sample_sha1','benign','unpacked_sample_sha1','unpacked_sample_id'], axis=1)\n",
    "obsidium = obsidium.drop(['benign_vt','malicious_vt'], axis=1)\n",
    "string_columns = obsidium.select_dtypes(include=['object']).columns\n",
    "obsidium = obsidium.drop(string_columns, axis=1)"
   ]
  },
  {
   "cell_type": "code",
   "execution_count": 58,
   "id": "f905963e",
   "metadata": {
    "execution": {
     "iopub.execute_input": "2023-12-27T01:19:20.415910Z",
     "iopub.status.busy": "2023-12-27T01:19:20.415433Z",
     "iopub.status.idle": "2023-12-27T01:19:21.820700Z",
     "shell.execute_reply": "2023-12-27T01:19:21.819445Z"
    },
    "papermill": {
     "duration": 1.439612,
     "end_time": "2023-12-27T01:19:21.823742",
     "exception": false,
     "start_time": "2023-12-27T01:19:20.384130",
     "status": "completed"
    },
    "tags": []
   },
   "outputs": [
    {
     "name": "stdout",
     "output_type": "stream",
     "text": [
      "removing 13000 features\n",
      "removing 2500 features\n",
      "removing 2 features\n",
      "removing 16900 features\n",
      "removing 66 features\n",
      "removing 19169 features\n",
      "removing 4306 features\n",
      "removing 29 features\n"
     ]
    }
   ],
   "source": [
    "pesection = remove_cols(obsidium, [c for c in cols if c.startswith('ngram_')])\n",
    "pesection = remove_cols(obsidium, [c for c in cols if c.startswith('opcode_')])\n",
    "pesection = remove_cols(obsidium, [c for c in cols if c.startswith('generic_')])\n",
    "pesection = remove_cols(obsidium, [c for c in cols if c.startswith('string_')])\n",
    "pesection = remove_cols(obsidium, [c for c in cols if c.startswith('rich_')])\n",
    "pesection = remove_cols(obsidium, [c for c in cols if c.startswith('imp_') or 'api_import_nb' == c])\n",
    "pesection = remove_cols(obsidium, [c for c in cols if c.endswith('.dll') or 'dll_import_nb' == c])\n",
    "# pesection = remove_cols(obsidium, [c for c in cols if c.startswith('pesection')])\n",
    "pesection = remove_cols(obsidium, [c for c in cols if c.startswith('header_')])"
   ]
  },
  {
   "cell_type": "code",
   "execution_count": 59,
   "id": "035f2d2f",
   "metadata": {
    "execution": {
     "iopub.execute_input": "2023-12-27T01:19:21.885116Z",
     "iopub.status.busy": "2023-12-27T01:19:21.883922Z",
     "iopub.status.idle": "2023-12-27T01:19:21.941260Z",
     "shell.execute_reply": "2023-12-27T01:19:21.939848Z"
    },
    "papermill": {
     "duration": 0.091387,
     "end_time": "2023-12-27T01:19:21.944772",
     "exception": false,
     "start_time": "2023-12-27T01:19:21.853385",
     "status": "completed"
    },
    "tags": []
   },
   "outputs": [],
   "source": [
    "df_7000_pesection = pesection.sample(n=7000, random_state=102)\n",
    "df_3000_pesection = pesection.drop(df_7000.index)\n",
    "data_pesection = df_7000_pesection.sample(n=3500, random_state=102)"
   ]
  },
  {
   "cell_type": "code",
   "execution_count": 60,
   "id": "f617ea2b",
   "metadata": {
    "execution": {
     "iopub.execute_input": "2023-12-27T01:19:22.006716Z",
     "iopub.status.busy": "2023-12-27T01:19:22.005888Z",
     "iopub.status.idle": "2023-12-27T01:19:22.161916Z",
     "shell.execute_reply": "2023-12-27T01:19:22.160656Z"
    },
    "papermill": {
     "duration": 0.190156,
     "end_time": "2023-12-27T01:19:22.164480",
     "exception": false,
     "start_time": "2023-12-27T01:19:21.974324",
     "status": "completed"
    },
    "tags": []
   },
   "outputs": [
    {
     "name": "stdout",
     "output_type": "stream",
     "text": [
      "Packed Malware: 2306 samples\n",
      "Packed Benign: 1194 samples\n",
      "Total TRAIN set: 3500 samples\n",
      "Packed Malware: 1194 samples\n",
      "Packed Benign: 1194 samples\n",
      "Total TRAIN set: 2388 samples\n",
      "Packed Malware: 1058 samples\n",
      "Packed Benign: 1058 samples\n",
      "Total TEST set: 2116 samples\n"
     ]
    }
   ],
   "source": [
    "#Kiểm tra số lượng mẫu\n",
    "PM = data_pesection[(data_pesection['malicious'] == True) & (data_pesection['packed'] == True)].shape[0]\n",
    "PB = data_pesection[(data_pesection['malicious'] == False) & (data_pesection['packed'] == True)].shape[0]\n",
    "print('Packed Malware: %i samples' % PM)\n",
    "print('Packed Benign: %i samples' % PB)\n",
    "print('Total TRAIN set: %i samples'% (PM+PB))\n",
    "\n",
    "#Chia tỉ lệ 50 - 50\n",
    "data_PM_pesection = data_pesection[(data_pesection['malicious'] == True) & (data_pesection['packed'] == True)].sample(n=(PM-PB), random_state=102)\n",
    "data_pesection = data_pesection.drop(data_PM_pesection.index)\n",
    "      \n",
    "#Số lượng tập train\n",
    "PM = data_pesection[(data_pesection['malicious'] == True) & (data_pesection['packed'] == True)].shape[0]\n",
    "PB = data_pesection[(data_pesection['malicious'] == False) & (data_pesection['packed'] == True)].shape[0]\n",
    "print('Packed Malware: %i samples' % PM)\n",
    "print('Packed Benign: %i samples' % PB)\n",
    "print('Total TRAIN set: %i samples'% (PM+PB))\n",
    "\n",
    "#Xử lý tập train\n",
    "y = data_pesection['malicious'].values\n",
    "data_pesection = data_pesection.drop(['malicious','packed'], axis=1)\n",
    "\n",
    "PM = df_3000_pesection[(df_3000_pesection['malicious'] == True) & (df_3000_pesection['packed'] == True)].shape[0]\n",
    "PB = df_3000_pesection[(df_3000_pesection['malicious'] == False) & (df_3000_pesection['packed'] == True)].shape[0]\n",
    "\n",
    "df_3000_PM_pesection = df_3000_pesection[(df_3000_pesection['malicious'] == True) & (df_3000_pesection['packed'] == True)].sample(n=(PM-PB), random_state=102)\n",
    "df_3000_pesection = df_3000_pesection.drop(df_3000_PM_pesection.index)\n",
    "\n",
    "PM = df_3000_pesection[(df_3000_pesection['malicious'] == True) & (df_3000_pesection['packed'] == True)].shape[0]\n",
    "PB = df_3000_pesection[(df_3000_pesection['malicious'] == False) & (df_3000_pesection['packed'] == True)].shape[0]\n",
    "\n",
    "print('Packed Malware: %i samples' % PM)\n",
    "print('Packed Benign: %i samples' % PB)\n",
    "print('Total TEST set: %i samples'% (PM+PB))"
   ]
  },
  {
   "cell_type": "code",
   "execution_count": 61,
   "id": "8aa37e15",
   "metadata": {
    "execution": {
     "iopub.execute_input": "2023-12-27T01:19:22.226875Z",
     "iopub.status.busy": "2023-12-27T01:19:22.226453Z",
     "iopub.status.idle": "2023-12-27T01:19:22.268558Z",
     "shell.execute_reply": "2023-12-27T01:19:22.267290Z"
    },
    "papermill": {
     "duration": 0.076731,
     "end_time": "2023-12-27T01:19:22.271646",
     "exception": false,
     "start_time": "2023-12-27T01:19:22.194915",
     "status": "completed"
    },
    "tags": []
   },
   "outputs": [],
   "source": [
    "# model = SelectFromModel(fsel, prefit=True)\n",
    "\n",
    "X_train_pesection = data_pesection\n",
    "X_test_pesection = df_3000_pesection.drop(['malicious','packed'], axis=1)\n",
    "\n",
    "data_pesection = data_pesection.loc[:, (data_pesection != 0).any(axis=0)]\n",
    "x_train_pesection = data_pesection\n",
    "X_test_pesection = df_3000_pesection.drop(['malicious','packed'], axis=1)\n",
    "y_train_pesection = y\n",
    "y_test_pesection = df_3000_pesection['malicious'].values"
   ]
  },
  {
   "cell_type": "code",
   "execution_count": 62,
   "id": "da499bdb",
   "metadata": {
    "execution": {
     "iopub.execute_input": "2023-12-27T01:19:22.336619Z",
     "iopub.status.busy": "2023-12-27T01:19:22.335862Z",
     "iopub.status.idle": "2023-12-27T01:19:23.212568Z",
     "shell.execute_reply": "2023-12-27T01:19:23.211251Z"
    },
    "papermill": {
     "duration": 0.913892,
     "end_time": "2023-12-27T01:19:23.215279",
     "exception": false,
     "start_time": "2023-12-27T01:19:22.301387",
     "status": "completed"
    },
    "tags": []
   },
   "outputs": [
    {
     "name": "stdout",
     "output_type": "stream",
     "text": [
      "The accuracy of the Random Forests model is :\t 0.8865784499054821\n"
     ]
    }
   ],
   "source": [
    "# Random Forest\n",
    "from sklearn.ensemble import RandomForestClassifier\n",
    "from sklearn import metrics\n",
    "\n",
    "random_forest = RandomForestClassifier(n_estimators=100, random_state=17)\n",
    "random_forest.fit(X_train_pesection, y_train_pesection)\n",
    "random_forest_preds = random_forest.predict(X_test_pesection)\n",
    "print('The accuracy of the Random Forests model is :\\t',metrics.accuracy_score(random_forest_preds,y_test_pesection))"
   ]
  },
  {
   "cell_type": "markdown",
   "id": "91e279b7",
   "metadata": {
    "papermill": {
     "duration": 0.02942,
     "end_time": "2023-12-27T01:19:23.275425",
     "exception": false,
     "start_time": "2023-12-27T01:19:23.246005",
     "status": "completed"
    },
    "tags": []
   },
   "source": [
    "# **pe header features**"
   ]
  },
  {
   "cell_type": "code",
   "execution_count": 63,
   "id": "a4064a4f",
   "metadata": {
    "execution": {
     "iopub.execute_input": "2023-12-27T01:19:23.338596Z",
     "iopub.status.busy": "2023-12-27T01:19:23.337803Z",
     "iopub.status.idle": "2023-12-27T01:19:25.079705Z",
     "shell.execute_reply": "2023-12-27T01:19:25.078518Z"
    },
    "papermill": {
     "duration": 1.776292,
     "end_time": "2023-12-27T01:19:25.082689",
     "exception": false,
     "start_time": "2023-12-27T01:19:23.306397",
     "status": "completed"
    },
    "tags": []
   },
   "outputs": [],
   "source": [
    "obsidium = pd.read_pickle('/kaggle/input/packer-balance-pickle/obsidium_balance.pickle')\n",
    "obsidium = obsidium.drop(['sample_sha1','benign','unpacked_sample_sha1','unpacked_sample_id'], axis=1)\n",
    "obsidium = obsidium.drop(['benign_vt','malicious_vt'], axis=1)\n",
    "string_columns = obsidium.select_dtypes(include=['object']).columns\n",
    "obsidium = obsidium.drop(string_columns, axis=1)"
   ]
  },
  {
   "cell_type": "code",
   "execution_count": 64,
   "id": "3e8d4bfb",
   "metadata": {
    "execution": {
     "iopub.execute_input": "2023-12-27T01:19:25.145449Z",
     "iopub.status.busy": "2023-12-27T01:19:25.144975Z",
     "iopub.status.idle": "2023-12-27T01:19:26.557817Z",
     "shell.execute_reply": "2023-12-27T01:19:26.556382Z"
    },
    "papermill": {
     "duration": 1.447269,
     "end_time": "2023-12-27T01:19:26.560640",
     "exception": false,
     "start_time": "2023-12-27T01:19:25.113371",
     "status": "completed"
    },
    "tags": []
   },
   "outputs": [
    {
     "name": "stdout",
     "output_type": "stream",
     "text": [
      "removing 13000 features\n",
      "removing 2500 features\n",
      "removing 2 features\n",
      "removing 16900 features\n",
      "removing 66 features\n",
      "removing 19169 features\n",
      "removing 4306 features\n",
      "removing 550 features\n"
     ]
    }
   ],
   "source": [
    "header = remove_cols(obsidium, [c for c in cols if c.startswith('ngram_')])\n",
    "header = remove_cols(obsidium, [c for c in cols if c.startswith('opcode_')])\n",
    "header = remove_cols(obsidium, [c for c in cols if c.startswith('generic_')])\n",
    "header = remove_cols(obsidium, [c for c in cols if c.startswith('string_')])\n",
    "header = remove_cols(obsidium, [c for c in cols if c.startswith('rich_')])\n",
    "header = remove_cols(obsidium, [c for c in cols if c.startswith('imp_') or 'api_import_nb' == c])\n",
    "header = remove_cols(obsidium, [c for c in cols if c.endswith('.dll') or 'dll_import_nb' == c])\n",
    "header = remove_cols(obsidium, [c for c in cols if c.startswith('pesection')])\n",
    "# header = remove_cols(obsidium, [c for c in cols if c.startswith('header_')])"
   ]
  },
  {
   "cell_type": "code",
   "execution_count": 65,
   "id": "76c56438",
   "metadata": {
    "execution": {
     "iopub.execute_input": "2023-12-27T01:19:26.622278Z",
     "iopub.status.busy": "2023-12-27T01:19:26.621888Z",
     "iopub.status.idle": "2023-12-27T01:19:26.635890Z",
     "shell.execute_reply": "2023-12-27T01:19:26.634737Z"
    },
    "papermill": {
     "duration": 0.048044,
     "end_time": "2023-12-27T01:19:26.638722",
     "exception": false,
     "start_time": "2023-12-27T01:19:26.590678",
     "status": "completed"
    },
    "tags": []
   },
   "outputs": [],
   "source": [
    "df_7000_header = header.sample(n=7000, random_state=102)\n",
    "df_3000_header = header.drop(df_7000.index)\n",
    "data_header = df_7000_header.sample(n=3500, random_state=102)"
   ]
  },
  {
   "cell_type": "code",
   "execution_count": 66,
   "id": "9a63c65b",
   "metadata": {
    "execution": {
     "iopub.execute_input": "2023-12-27T01:19:26.702118Z",
     "iopub.status.busy": "2023-12-27T01:19:26.701684Z",
     "iopub.status.idle": "2023-12-27T01:19:26.749409Z",
     "shell.execute_reply": "2023-12-27T01:19:26.747776Z"
    },
    "papermill": {
     "duration": 0.083009,
     "end_time": "2023-12-27T01:19:26.752215",
     "exception": false,
     "start_time": "2023-12-27T01:19:26.669206",
     "status": "completed"
    },
    "tags": []
   },
   "outputs": [
    {
     "name": "stdout",
     "output_type": "stream",
     "text": [
      "Packed Malware: 2306 samples\n",
      "Packed Benign: 1194 samples\n",
      "Total TRAIN set: 3500 samples\n",
      "Packed Malware: 1194 samples\n",
      "Packed Benign: 1194 samples\n",
      "Total TRAIN set: 2388 samples\n",
      "Packed Malware: 1058 samples\n",
      "Packed Benign: 1058 samples\n",
      "Total TEST set: 2116 samples\n"
     ]
    }
   ],
   "source": [
    "#Kiểm tra số lượng mẫu\n",
    "PM = data_header[(data_header['malicious'] == True) & (data_header['packed'] == True)].shape[0]\n",
    "PB = data_header[(data_header['malicious'] == False) & (data_header['packed'] == True)].shape[0]\n",
    "print('Packed Malware: %i samples' % PM)\n",
    "print('Packed Benign: %i samples' % PB)\n",
    "print('Total TRAIN set: %i samples'% (PM+PB))\n",
    "\n",
    "#Chia tỉ lệ 50 - 50\n",
    "data_PM_header = data_header[(data_header['malicious'] == True) & (data_header['packed'] == True)].sample(n=(PM-PB), random_state=102)\n",
    "data_header = data_header.drop(data_PM_header.index)\n",
    "      \n",
    "#Số lượng tập train\n",
    "PM = data_header[(data_header['malicious'] == True) & (data_header['packed'] == True)].shape[0]\n",
    "PB = data_header[(data_header['malicious'] == False) & (data_header['packed'] == True)].shape[0]\n",
    "print('Packed Malware: %i samples' % PM)\n",
    "print('Packed Benign: %i samples' % PB)\n",
    "print('Total TRAIN set: %i samples'% (PM+PB))\n",
    "\n",
    "#Xử lý tập train\n",
    "y = data_header['malicious'].values\n",
    "data_header= data_header.drop(['malicious','packed'], axis=1)\n",
    "\n",
    "PM = df_3000_header[(df_3000_header['malicious'] == True) & (df_3000_header['packed'] == True)].shape[0]\n",
    "PB = df_3000_header[(df_3000_header['malicious'] == False) & (df_3000_header['packed'] == True)].shape[0]\n",
    "\n",
    "df_3000_PM_header = df_3000_header[(df_3000_header['malicious'] == True) & (df_3000_header['packed'] == True)].sample(n=(PM-PB), random_state=102)\n",
    "df_3000_header= df_3000_header.drop(df_3000_PM_header.index)\n",
    "\n",
    "PM = df_3000_header[(df_3000_header['malicious'] == True) & (df_3000_header['packed'] == True)].shape[0]\n",
    "PB = df_3000_header[(df_3000_header['malicious'] == False) & (df_3000_header['packed'] == True)].shape[0]\n",
    "\n",
    "print('Packed Malware: %i samples' % PM)\n",
    "print('Packed Benign: %i samples' % PB)\n",
    "print('Total TEST set: %i samples'% (PM+PB))"
   ]
  },
  {
   "cell_type": "code",
   "execution_count": 67,
   "id": "1677ec9f",
   "metadata": {
    "execution": {
     "iopub.execute_input": "2023-12-27T01:19:26.817774Z",
     "iopub.status.busy": "2023-12-27T01:19:26.816399Z",
     "iopub.status.idle": "2023-12-27T01:19:26.832055Z",
     "shell.execute_reply": "2023-12-27T01:19:26.830743Z"
    },
    "papermill": {
     "duration": 0.052653,
     "end_time": "2023-12-27T01:19:26.835065",
     "exception": false,
     "start_time": "2023-12-27T01:19:26.782412",
     "status": "completed"
    },
    "tags": []
   },
   "outputs": [],
   "source": [
    "# model = SelectFromModel(fsel, prefit=True)\n",
    "\n",
    "X_train_header = data_header\n",
    "X_test_header = df_3000_header.drop(['malicious','packed'], axis=1)\n",
    "\n",
    "data_header = data_header.loc[:, (data_header != 0).any(axis=0)]\n",
    "x_train_header = data_header\n",
    "X_test_header = df_3000_header.drop(['malicious','packed'], axis=1)\n",
    "y_train_header = y\n",
    "y_test_header = df_3000_header['malicious'].values"
   ]
  },
  {
   "cell_type": "code",
   "execution_count": 68,
   "id": "5fce7864",
   "metadata": {
    "execution": {
     "iopub.execute_input": "2023-12-27T01:19:26.897889Z",
     "iopub.status.busy": "2023-12-27T01:19:26.897416Z",
     "iopub.status.idle": "2023-12-27T01:19:27.416843Z",
     "shell.execute_reply": "2023-12-27T01:19:27.415323Z"
    },
    "papermill": {
     "duration": 0.554407,
     "end_time": "2023-12-27T01:19:27.419727",
     "exception": false,
     "start_time": "2023-12-27T01:19:26.865320",
     "status": "completed"
    },
    "tags": []
   },
   "outputs": [
    {
     "name": "stdout",
     "output_type": "stream",
     "text": [
      "The accuracy of the Random Forests model is :\t 0.8898865784499055\n"
     ]
    }
   ],
   "source": [
    "# Random Forest\n",
    "from sklearn.ensemble import RandomForestClassifier\n",
    "from sklearn import metrics\n",
    "\n",
    "random_forest = RandomForestClassifier(n_estimators=100, random_state=17)\n",
    "random_forest.fit(X_train_header, y_train_header)\n",
    "random_forest_preds = random_forest.predict(X_test_header)\n",
    "print('The accuracy of the Random Forests model is :\\t',metrics.accuracy_score(random_forest_preds,y_test_header))"
   ]
  }
 ],
 "metadata": {
  "kaggle": {
   "accelerator": "none",
   "dataSources": [
    {
     "datasetId": 4192384,
     "sourceId": 7262652,
     "sourceType": "datasetVersion"
    }
   ],
   "dockerImageVersionId": 30626,
   "isGpuEnabled": false,
   "isInternetEnabled": true,
   "language": "python",
   "sourceType": "notebook"
  },
  "kernelspec": {
   "display_name": "Python 3",
   "language": "python",
   "name": "python3"
  },
  "language_info": {
   "codemirror_mode": {
    "name": "ipython",
    "version": 3
   },
   "file_extension": ".py",
   "mimetype": "text/x-python",
   "name": "python",
   "nbconvert_exporter": "python",
   "pygments_lexer": "ipython3",
   "version": "3.10.12"
  },
  "papermill": {
   "default_parameters": {},
   "duration": 108.061106,
   "end_time": "2023-12-27T01:19:28.274575",
   "environment_variables": {},
   "exception": null,
   "input_path": "__notebook__.ipynb",
   "output_path": "__notebook__.ipynb",
   "parameters": {},
   "start_time": "2023-12-27T01:17:40.213469",
   "version": "2.4.0"
  }
 },
 "nbformat": 4,
 "nbformat_minor": 5
}
