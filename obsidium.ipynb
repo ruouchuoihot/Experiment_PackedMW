{
 "cells": [
  {
   "cell_type": "code",
   "execution_count": 1,
   "id": "46a366fb",
   "metadata": {
    "execution": {
     "iopub.execute_input": "2024-01-23T12:10:48.823120Z",
     "iopub.status.busy": "2024-01-23T12:10:48.821773Z",
     "iopub.status.idle": "2024-01-23T12:10:51.795880Z",
     "shell.execute_reply": "2024-01-23T12:10:51.794773Z"
    },
    "papermill": {
     "duration": 2.994896,
     "end_time": "2024-01-23T12:10:51.798768",
     "exception": false,
     "start_time": "2024-01-23T12:10:48.803872",
     "status": "completed"
    },
    "tags": []
   },
   "outputs": [],
   "source": [
    "import pandas as pd\n",
    "import numpy as np\n",
    "import sklearn\n",
    "import sklearn.naive_bayes\n",
    "import sklearn.ensemble as ske\n",
    "import sklearn.neighbors\n",
    "import sklearn.pipeline\n",
    "import sklearn.linear_model\n",
    "import joblib\n",
    "from sklearn import preprocessing\n",
    "from sklearn import tree, linear_model\n",
    "from sklearn.metrics import confusion_matrix\n",
    "from sklearn.metrics import classification_report\n",
    "from sklearn.feature_selection import SelectFromModel\n",
    "import sys\n",
    "import sqlite3\n",
    "import importlib\n",
    "import matplotlib.pyplot as plt\n",
    "import seaborn as sn\n",
    "from sklearn import metrics"
   ]
  },
  {
   "cell_type": "code",
   "execution_count": 2,
   "id": "43ac981b",
   "metadata": {
    "execution": {
     "iopub.execute_input": "2024-01-23T12:10:51.832927Z",
     "iopub.status.busy": "2024-01-23T12:10:51.832412Z",
     "iopub.status.idle": "2024-01-23T12:10:56.340179Z",
     "shell.execute_reply": "2024-01-23T12:10:56.339122Z"
    },
    "papermill": {
     "duration": 4.527898,
     "end_time": "2024-01-23T12:10:56.342759",
     "exception": false,
     "start_time": "2024-01-23T12:10:51.814861",
     "status": "completed"
    },
    "tags": []
   },
   "outputs": [],
   "source": [
    "obsidium = pd.read_pickle('/kaggle/input/packer-balance-pickle/obsidium_balance.pickle')"
   ]
  },
  {
   "cell_type": "code",
   "execution_count": 3,
   "id": "6e046459",
   "metadata": {
    "execution": {
     "iopub.execute_input": "2024-01-23T12:10:56.376910Z",
     "iopub.status.busy": "2024-01-23T12:10:56.375816Z",
     "iopub.status.idle": "2024-01-23T12:10:58.412018Z",
     "shell.execute_reply": "2024-01-23T12:10:58.410823Z"
    },
    "papermill": {
     "duration": 2.056091,
     "end_time": "2024-01-23T12:10:58.414679",
     "exception": false,
     "start_time": "2024-01-23T12:10:56.358588",
     "status": "completed"
    },
    "tags": []
   },
   "outputs": [],
   "source": [
    "obsidium = obsidium.drop(['sample_sha1','benign','unpacked_sample_sha1','unpacked_sample_id'], axis=1)\n",
    "obsidium = obsidium.drop(['benign_vt','malicious_vt'], axis=1)"
   ]
  },
  {
   "cell_type": "code",
   "execution_count": 4,
   "id": "6470dd18",
   "metadata": {
    "execution": {
     "iopub.execute_input": "2024-01-23T12:10:58.447452Z",
     "iopub.status.busy": "2024-01-23T12:10:58.447057Z",
     "iopub.status.idle": "2024-01-23T12:10:58.794951Z",
     "shell.execute_reply": "2024-01-23T12:10:58.793742Z"
    },
    "papermill": {
     "duration": 0.367574,
     "end_time": "2024-01-23T12:10:58.797825",
     "exception": false,
     "start_time": "2024-01-23T12:10:58.430251",
     "status": "completed"
    },
    "tags": []
   },
   "outputs": [],
   "source": [
    "string_columns = obsidium.select_dtypes(include=['object']).columns\n",
    "obsidium = obsidium.drop(string_columns, axis=1)"
   ]
  },
  {
   "cell_type": "code",
   "execution_count": 5,
   "id": "6a68c194",
   "metadata": {
    "execution": {
     "iopub.execute_input": "2024-01-23T12:10:58.831293Z",
     "iopub.status.busy": "2024-01-23T12:10:58.830875Z",
     "iopub.status.idle": "2024-01-23T12:10:58.873145Z",
     "shell.execute_reply": "2024-01-23T12:10:58.872051Z"
    },
    "papermill": {
     "duration": 0.062019,
     "end_time": "2024-01-23T12:10:58.875544",
     "exception": false,
     "start_time": "2024-01-23T12:10:58.813525",
     "status": "completed"
    },
    "tags": []
   },
   "outputs": [
    {
     "data": {
      "text/html": [
       "<div>\n",
       "<style scoped>\n",
       "    .dataframe tbody tr th:only-of-type {\n",
       "        vertical-align: middle;\n",
       "    }\n",
       "\n",
       "    .dataframe tbody tr th {\n",
       "        vertical-align: top;\n",
       "    }\n",
       "\n",
       "    .dataframe thead th {\n",
       "        text-align: right;\n",
       "    }\n",
       "</style>\n",
       "<table border=\"1\" class=\"dataframe\">\n",
       "  <thead>\n",
       "    <tr style=\"text-align: right;\">\n",
       "      <th></th>\n",
       "      <th>malicious</th>\n",
       "      <th>packed</th>\n",
       "      <th>imp_setupremovefilelogentrya</th>\n",
       "      <th>imp_vardeccmp</th>\n",
       "      <th>imp_setdlgitemint</th>\n",
       "      <th>imp_?append@?$basic_string@du?$char_traits@d@std@@v?$allocator@d@2@@std@@qaeaav12@abv12@ii@z</th>\n",
       "      <th>imp_zwwritefile</th>\n",
       "      <th>imp_glstencilop</th>\n",
       "      <th>imp_comparelinkinforeferents</th>\n",
       "      <th>imp__setmbcp</th>\n",
       "      <th>...</th>\n",
       "      <th>opcode_xor sub mov</th>\n",
       "      <th>opcode_xor sub mov add</th>\n",
       "      <th>opcode_xor test</th>\n",
       "      <th>opcode_xor test je</th>\n",
       "      <th>opcode_xor xor</th>\n",
       "      <th>opcode_xor xor mov</th>\n",
       "      <th>opcode_xor xor pop</th>\n",
       "      <th>opcode_xor xor pop mov</th>\n",
       "      <th>opcode_xor xor xor</th>\n",
       "      <th>opcode_xor xor xor pop</th>\n",
       "    </tr>\n",
       "  </thead>\n",
       "  <tbody>\n",
       "    <tr>\n",
       "      <th>0</th>\n",
       "      <td>True</td>\n",
       "      <td>True</td>\n",
       "      <td>False</td>\n",
       "      <td>False</td>\n",
       "      <td>False</td>\n",
       "      <td>False</td>\n",
       "      <td>False</td>\n",
       "      <td>False</td>\n",
       "      <td>False</td>\n",
       "      <td>False</td>\n",
       "      <td>...</td>\n",
       "      <td>0.0</td>\n",
       "      <td>0.0</td>\n",
       "      <td>0.0</td>\n",
       "      <td>0.0</td>\n",
       "      <td>0.0</td>\n",
       "      <td>0.0</td>\n",
       "      <td>0.0</td>\n",
       "      <td>0.0</td>\n",
       "      <td>0.0</td>\n",
       "      <td>0.0</td>\n",
       "    </tr>\n",
       "    <tr>\n",
       "      <th>9</th>\n",
       "      <td>True</td>\n",
       "      <td>True</td>\n",
       "      <td>False</td>\n",
       "      <td>False</td>\n",
       "      <td>False</td>\n",
       "      <td>False</td>\n",
       "      <td>False</td>\n",
       "      <td>False</td>\n",
       "      <td>False</td>\n",
       "      <td>False</td>\n",
       "      <td>...</td>\n",
       "      <td>0.0</td>\n",
       "      <td>0.0</td>\n",
       "      <td>0.0</td>\n",
       "      <td>0.0</td>\n",
       "      <td>0.0</td>\n",
       "      <td>0.0</td>\n",
       "      <td>0.0</td>\n",
       "      <td>0.0</td>\n",
       "      <td>0.0</td>\n",
       "      <td>0.0</td>\n",
       "    </tr>\n",
       "    <tr>\n",
       "      <th>12</th>\n",
       "      <td>True</td>\n",
       "      <td>True</td>\n",
       "      <td>False</td>\n",
       "      <td>False</td>\n",
       "      <td>False</td>\n",
       "      <td>False</td>\n",
       "      <td>False</td>\n",
       "      <td>False</td>\n",
       "      <td>False</td>\n",
       "      <td>False</td>\n",
       "      <td>...</td>\n",
       "      <td>0.0</td>\n",
       "      <td>0.0</td>\n",
       "      <td>0.0</td>\n",
       "      <td>0.0</td>\n",
       "      <td>0.0</td>\n",
       "      <td>0.0</td>\n",
       "      <td>0.0</td>\n",
       "      <td>0.0</td>\n",
       "      <td>0.0</td>\n",
       "      <td>0.0</td>\n",
       "    </tr>\n",
       "    <tr>\n",
       "      <th>13</th>\n",
       "      <td>False</td>\n",
       "      <td>True</td>\n",
       "      <td>False</td>\n",
       "      <td>False</td>\n",
       "      <td>False</td>\n",
       "      <td>False</td>\n",
       "      <td>False</td>\n",
       "      <td>False</td>\n",
       "      <td>False</td>\n",
       "      <td>False</td>\n",
       "      <td>...</td>\n",
       "      <td>0.0</td>\n",
       "      <td>0.0</td>\n",
       "      <td>0.0</td>\n",
       "      <td>0.0</td>\n",
       "      <td>0.0</td>\n",
       "      <td>0.0</td>\n",
       "      <td>0.0</td>\n",
       "      <td>0.0</td>\n",
       "      <td>0.0</td>\n",
       "      <td>0.0</td>\n",
       "    </tr>\n",
       "    <tr>\n",
       "      <th>14</th>\n",
       "      <td>True</td>\n",
       "      <td>True</td>\n",
       "      <td>False</td>\n",
       "      <td>False</td>\n",
       "      <td>False</td>\n",
       "      <td>False</td>\n",
       "      <td>False</td>\n",
       "      <td>False</td>\n",
       "      <td>False</td>\n",
       "      <td>False</td>\n",
       "      <td>...</td>\n",
       "      <td>0.0</td>\n",
       "      <td>0.0</td>\n",
       "      <td>0.0</td>\n",
       "      <td>0.0</td>\n",
       "      <td>0.0</td>\n",
       "      <td>0.0</td>\n",
       "      <td>0.0</td>\n",
       "      <td>0.0</td>\n",
       "      <td>0.0</td>\n",
       "      <td>0.0</td>\n",
       "    </tr>\n",
       "  </tbody>\n",
       "</table>\n",
       "<p>5 rows × 56526 columns</p>\n",
       "</div>"
      ],
      "text/plain": [
       "    malicious  packed  imp_setupremovefilelogentrya  imp_vardeccmp  \\\n",
       "0        True    True                         False          False   \n",
       "9        True    True                         False          False   \n",
       "12       True    True                         False          False   \n",
       "13      False    True                         False          False   \n",
       "14       True    True                         False          False   \n",
       "\n",
       "    imp_setdlgitemint  \\\n",
       "0               False   \n",
       "9               False   \n",
       "12              False   \n",
       "13              False   \n",
       "14              False   \n",
       "\n",
       "    imp_?append@?$basic_string@du?$char_traits@d@std@@v?$allocator@d@2@@std@@qaeaav12@abv12@ii@z  \\\n",
       "0                                               False                                              \n",
       "9                                               False                                              \n",
       "12                                              False                                              \n",
       "13                                              False                                              \n",
       "14                                              False                                              \n",
       "\n",
       "    imp_zwwritefile  imp_glstencilop  imp_comparelinkinforeferents  \\\n",
       "0             False            False                         False   \n",
       "9             False            False                         False   \n",
       "12            False            False                         False   \n",
       "13            False            False                         False   \n",
       "14            False            False                         False   \n",
       "\n",
       "    imp__setmbcp  ...  opcode_xor sub mov  opcode_xor sub mov add  \\\n",
       "0          False  ...                 0.0                     0.0   \n",
       "9          False  ...                 0.0                     0.0   \n",
       "12         False  ...                 0.0                     0.0   \n",
       "13         False  ...                 0.0                     0.0   \n",
       "14         False  ...                 0.0                     0.0   \n",
       "\n",
       "    opcode_xor test  opcode_xor test je  opcode_xor xor  opcode_xor xor mov  \\\n",
       "0               0.0                 0.0             0.0                 0.0   \n",
       "9               0.0                 0.0             0.0                 0.0   \n",
       "12              0.0                 0.0             0.0                 0.0   \n",
       "13              0.0                 0.0             0.0                 0.0   \n",
       "14              0.0                 0.0             0.0                 0.0   \n",
       "\n",
       "    opcode_xor xor pop  opcode_xor xor pop mov  opcode_xor xor xor  \\\n",
       "0                  0.0                     0.0                 0.0   \n",
       "9                  0.0                     0.0                 0.0   \n",
       "12                 0.0                     0.0                 0.0   \n",
       "13                 0.0                     0.0                 0.0   \n",
       "14                 0.0                     0.0                 0.0   \n",
       "\n",
       "    opcode_xor xor xor pop  \n",
       "0                      0.0  \n",
       "9                      0.0  \n",
       "12                     0.0  \n",
       "13                     0.0  \n",
       "14                     0.0  \n",
       "\n",
       "[5 rows x 56526 columns]"
      ]
     },
     "execution_count": 5,
     "metadata": {},
     "output_type": "execute_result"
    }
   ],
   "source": [
    "obsidium.head()"
   ]
  },
  {
   "cell_type": "code",
   "execution_count": 6,
   "id": "0b5ae447",
   "metadata": {
    "execution": {
     "iopub.execute_input": "2024-01-23T12:10:58.910367Z",
     "iopub.status.busy": "2024-01-23T12:10:58.909524Z",
     "iopub.status.idle": "2024-01-23T12:10:59.829368Z",
     "shell.execute_reply": "2024-01-23T12:10:59.828200Z"
    },
    "papermill": {
     "duration": 0.940183,
     "end_time": "2024-01-23T12:10:59.831911",
     "exception": false,
     "start_time": "2024-01-23T12:10:58.891728",
     "status": "completed"
    },
    "tags": []
   },
   "outputs": [],
   "source": [
    "df_7000 = obsidium.sample(n=7000, random_state=102)\n",
    "df_3000 = obsidium.drop(df_7000.index)"
   ]
  },
  {
   "cell_type": "code",
   "execution_count": 7,
   "id": "2009ceb6",
   "metadata": {
    "execution": {
     "iopub.execute_input": "2024-01-23T12:10:59.866008Z",
     "iopub.status.busy": "2024-01-23T12:10:59.865605Z",
     "iopub.status.idle": "2024-01-23T12:11:00.441780Z",
     "shell.execute_reply": "2024-01-23T12:11:00.440631Z"
    },
    "papermill": {
     "duration": 0.596221,
     "end_time": "2024-01-23T12:11:00.444363",
     "exception": false,
     "start_time": "2024-01-23T12:10:59.848142",
     "status": "completed"
    },
    "tags": []
   },
   "outputs": [],
   "source": [
    "data = df_7000.sample(n=3500, random_state=102)"
   ]
  },
  {
   "cell_type": "code",
   "execution_count": 8,
   "id": "b419d99a",
   "metadata": {
    "execution": {
     "iopub.execute_input": "2024-01-23T12:11:00.478468Z",
     "iopub.status.busy": "2024-01-23T12:11:00.478010Z",
     "iopub.status.idle": "2024-01-23T12:11:00.947754Z",
     "shell.execute_reply": "2024-01-23T12:11:00.946440Z"
    },
    "papermill": {
     "duration": 0.489555,
     "end_time": "2024-01-23T12:11:00.950102",
     "exception": false,
     "start_time": "2024-01-23T12:11:00.460547",
     "status": "completed"
    },
    "tags": []
   },
   "outputs": [
    {
     "name": "stdout",
     "output_type": "stream",
     "text": [
      "Packed Malware: 2306 samples\n",
      "Packed Benign: 1194 samples\n",
      "Total TRAIN set: 3500 samples\n"
     ]
    }
   ],
   "source": [
    "#Kiểm tra số lượng mẫu\n",
    "PM = data[(data['malicious'] == True) & (data['packed'] == True)].shape[0]\n",
    "PB = data[(data['malicious'] == False) & (data['packed'] == True)].shape[0]\n",
    "print('Packed Malware: %i samples' % PM)\n",
    "print('Packed Benign: %i samples' % PB)\n",
    "print('Total TRAIN set: %i samples'% (PM+PB))"
   ]
  },
  {
   "cell_type": "code",
   "execution_count": 9,
   "id": "c9aba9c1",
   "metadata": {
    "execution": {
     "iopub.execute_input": "2024-01-23T12:11:01.046349Z",
     "iopub.status.busy": "2024-01-23T12:11:01.045892Z",
     "iopub.status.idle": "2024-01-23T12:11:01.641428Z",
     "shell.execute_reply": "2024-01-23T12:11:01.640234Z"
    },
    "papermill": {
     "duration": 0.677705,
     "end_time": "2024-01-23T12:11:01.643947",
     "exception": false,
     "start_time": "2024-01-23T12:11:00.966242",
     "status": "completed"
    },
    "tags": []
   },
   "outputs": [],
   "source": [
    "#Chia tỉ lệ 50 - 50\n",
    "data_PM = data[(data['malicious'] == True) & (data['packed'] == True)].sample(n=(PM-PB), random_state=102)\n",
    "data = data.drop(data_PM.index)"
   ]
  },
  {
   "cell_type": "code",
   "execution_count": 10,
   "id": "7099a392",
   "metadata": {
    "execution": {
     "iopub.execute_input": "2024-01-23T12:11:01.679790Z",
     "iopub.status.busy": "2024-01-23T12:11:01.678660Z",
     "iopub.status.idle": "2024-01-23T12:11:01.888410Z",
     "shell.execute_reply": "2024-01-23T12:11:01.887195Z"
    },
    "papermill": {
     "duration": 0.230478,
     "end_time": "2024-01-23T12:11:01.891578",
     "exception": false,
     "start_time": "2024-01-23T12:11:01.661100",
     "status": "completed"
    },
    "tags": []
   },
   "outputs": [
    {
     "name": "stdout",
     "output_type": "stream",
     "text": [
      "Packed Malware: 1194 samples\n",
      "Packed Benign: 1194 samples\n",
      "Total TRAIN set: 2388 samples\n"
     ]
    }
   ],
   "source": [
    "#Số lượng tập train\n",
    "PM = data[(data['malicious'] == True) & (data['packed'] == True)].shape[0]\n",
    "PB = data[(data['malicious'] == False) & (data['packed'] == True)].shape[0]\n",
    "print('Packed Malware: %i samples' % PM)\n",
    "print('Packed Benign: %i samples' % PB)\n",
    "print('Total TRAIN set: %i samples'% (PM+PB))"
   ]
  },
  {
   "cell_type": "code",
   "execution_count": 11,
   "id": "3543a466",
   "metadata": {
    "execution": {
     "iopub.execute_input": "2024-01-23T12:11:01.925759Z",
     "iopub.status.busy": "2024-01-23T12:11:01.925365Z",
     "iopub.status.idle": "2024-01-23T12:11:02.019966Z",
     "shell.execute_reply": "2024-01-23T12:11:02.018790Z"
    },
    "papermill": {
     "duration": 0.114555,
     "end_time": "2024-01-23T12:11:02.022400",
     "exception": false,
     "start_time": "2024-01-23T12:11:01.907845",
     "status": "completed"
    },
    "tags": []
   },
   "outputs": [],
   "source": [
    "#Xử lý tập train\n",
    "y = data['malicious'].values\n",
    "data = data.drop(['malicious','packed'], axis=1)"
   ]
  },
  {
   "cell_type": "code",
   "execution_count": 12,
   "id": "a5e0deb5",
   "metadata": {
    "execution": {
     "iopub.execute_input": "2024-01-23T12:11:02.057348Z",
     "iopub.status.busy": "2024-01-23T12:11:02.056515Z",
     "iopub.status.idle": "2024-01-23T12:11:02.889250Z",
     "shell.execute_reply": "2024-01-23T12:11:02.888025Z"
    },
    "papermill": {
     "duration": 0.852972,
     "end_time": "2024-01-23T12:11:02.891753",
     "exception": false,
     "start_time": "2024-01-23T12:11:02.038781",
     "status": "completed"
    },
    "tags": []
   },
   "outputs": [
    {
     "name": "stdout",
     "output_type": "stream",
     "text": [
      "Packed Malware: 1058 samples\n",
      "Packed Benign: 1058 samples\n",
      "Total TEST set: 2116 samples\n"
     ]
    }
   ],
   "source": [
    "PM = df_3000[(df_3000['malicious'] == True) & (df_3000['packed'] == True)].shape[0]\n",
    "PB = df_3000[(df_3000['malicious'] == False) & (df_3000['packed'] == True)].shape[0]\n",
    "\n",
    "df_3000_PM = df_3000[(df_3000['malicious'] == True) & (df_3000['packed'] == True)].sample(n=(PM-PB), random_state=102)\n",
    "df_3000 = df_3000.drop(df_3000_PM.index)\n",
    "\n",
    "PM = df_3000[(df_3000['malicious'] == True) & (df_3000['packed'] == True)].shape[0]\n",
    "PB = df_3000[(df_3000['malicious'] == False) & (df_3000['packed'] == True)].shape[0]\n",
    "\n",
    "print('Packed Malware: %i samples' % PM)\n",
    "print('Packed Benign: %i samples' % PB)\n",
    "print('Total TEST set: %i samples'% (PM+PB))"
   ]
  },
  {
   "cell_type": "code",
   "execution_count": 13,
   "id": "443277c3",
   "metadata": {
    "execution": {
     "iopub.execute_input": "2024-01-23T12:11:02.926962Z",
     "iopub.status.busy": "2024-01-23T12:11:02.925802Z",
     "iopub.status.idle": "2024-01-23T12:11:03.327933Z",
     "shell.execute_reply": "2024-01-23T12:11:03.327080Z"
    },
    "papermill": {
     "duration": 0.42228,
     "end_time": "2024-01-23T12:11:03.330471",
     "exception": false,
     "start_time": "2024-01-23T12:11:02.908191",
     "status": "completed"
    },
    "tags": []
   },
   "outputs": [],
   "source": [
    "# model = SelectFromModel(fsel, prefit=True)\n",
    "\n",
    "X_train = data\n",
    "X_test = df_3000.drop(['malicious','packed'], axis=1)\n",
    "\n",
    "data = data.loc[:, (data != 0).any(axis=0)]\n",
    "x_train = data\n",
    "X_test = df_3000.drop(['malicious','packed'], axis=1)\n",
    "y_train = y\n",
    "y_test = df_3000['malicious'].values"
   ]
  },
  {
   "cell_type": "code",
   "execution_count": 14,
   "id": "d57c62e2",
   "metadata": {
    "execution": {
     "iopub.execute_input": "2024-01-23T12:11:03.364843Z",
     "iopub.status.busy": "2024-01-23T12:11:03.364432Z",
     "iopub.status.idle": "2024-01-23T12:11:11.852299Z",
     "shell.execute_reply": "2024-01-23T12:11:11.851149Z"
    },
    "papermill": {
     "duration": 8.507905,
     "end_time": "2024-01-23T12:11:11.854741",
     "exception": false,
     "start_time": "2024-01-23T12:11:03.346836",
     "status": "completed"
    },
    "tags": []
   },
   "outputs": [
    {
     "name": "stdout",
     "output_type": "stream",
     "text": [
      "The accuracy of the Random Forests model is :\t 0.9073724007561437\n"
     ]
    }
   ],
   "source": [
    "# Random Forest\n",
    "from sklearn.ensemble import RandomForestClassifier\n",
    "from sklearn import metrics\n",
    "\n",
    "random_forest = RandomForestClassifier(n_estimators=100, random_state=17)\n",
    "random_forest.fit(X_train, y_train)\n",
    "random_forest_preds = random_forest.predict(X_test)\n",
    "print('The accuracy of the Random Forests model is :\\t',metrics.accuracy_score(random_forest_preds,y_test))"
   ]
  },
  {
   "cell_type": "code",
   "execution_count": 15,
   "id": "f45c9464",
   "metadata": {
    "execution": {
     "iopub.execute_input": "2024-01-23T12:11:11.891516Z",
     "iopub.status.busy": "2024-01-23T12:11:11.890993Z",
     "iopub.status.idle": "2024-01-23T12:11:11.910768Z",
     "shell.execute_reply": "2024-01-23T12:11:11.909485Z"
    },
    "papermill": {
     "duration": 0.04181,
     "end_time": "2024-01-23T12:11:11.913154",
     "exception": false,
     "start_time": "2024-01-23T12:11:11.871344",
     "status": "completed"
    },
    "tags": []
   },
   "outputs": [
    {
     "name": "stdout",
     "output_type": "stream",
     "text": [
      "True positive : 980 \n",
      "True negative : 940 \n",
      "False positive : 118 \n",
      "False negative : 78 \n",
      "Classification Report:\n",
      "               precision    recall  f1-score   support\n",
      "\n",
      "       False       0.92      0.89      0.91      1058\n",
      "        True       0.89      0.93      0.91      1058\n",
      "\n",
      "    accuracy                           0.91      2116\n",
      "   macro avg       0.91      0.91      0.91      2116\n",
      "weighted avg       0.91      0.91      0.91      2116\n",
      "\n"
     ]
    }
   ],
   "source": [
    "mt = confusion_matrix(y_test, random_forest_preds)\n",
    "report = classification_report(y_test, random_forest_preds)\n",
    "print(\"True positive : %i \" % (mt[1][1]))\n",
    "print(\"True negative : %i \" % (mt[0][0]))\n",
    "print(\"False positive : %i \" % (mt[0][1]))\n",
    "print(\"False negative : %i \" % (mt[1][0]))\n",
    "print(\"Classification Report:\\n\", report)"
   ]
  },
  {
   "cell_type": "code",
   "execution_count": 16,
   "id": "0759e025",
   "metadata": {
    "execution": {
     "iopub.execute_input": "2024-01-23T12:11:11.948425Z",
     "iopub.status.busy": "2024-01-23T12:11:11.947777Z",
     "iopub.status.idle": "2024-01-23T12:11:12.013741Z",
     "shell.execute_reply": "2024-01-23T12:11:12.012652Z"
    },
    "papermill": {
     "duration": 0.086125,
     "end_time": "2024-01-23T12:11:12.015907",
     "exception": false,
     "start_time": "2024-01-23T12:11:11.929782",
     "status": "completed"
    },
    "tags": []
   },
   "outputs": [
    {
     "data": {
      "text/plain": [
       "ngram_b'script'                                           0.007352\n",
       "ngram_b'\\x00i\\x00g\\x00h'                                  0.005700\n",
       "ngram_b' \\x00M\\x00i\\x00'                                  0.005544\n",
       "ngram_b't\\x00\\x00\\x00\\xa9\\x00'                            0.005259\n",
       "pesection_3_size                                          0.005245\n",
       "                                                            ...   \n",
       "imp__zn7qwidget15mousepresseventep11qmouseevent           0.000000\n",
       "imp__zn7qwidget16contextmenueventep17qcontextmenuevent    0.000000\n",
       "imp__zn7qwidget16inputmethodeventep17qinputmethodevent    0.000000\n",
       "imp__zn7qwidget17mousereleaseeventep11qmouseevent         0.000000\n",
       "opcode_xor xor xor pop                                    0.000000\n",
       "Length: 56524, dtype: float64"
      ]
     },
     "execution_count": 16,
     "metadata": {},
     "output_type": "execute_result"
    }
   ],
   "source": [
    "feature_scores_rf = pd.Series(random_forest.feature_importances_, index=X_train.columns).sort_values(ascending=False)\n",
    "\n",
    "feature_scores_rf"
   ]
  },
  {
   "cell_type": "code",
   "execution_count": 17,
   "id": "f4375e73",
   "metadata": {
    "execution": {
     "iopub.execute_input": "2024-01-23T12:11:12.052135Z",
     "iopub.status.busy": "2024-01-23T12:11:12.051463Z",
     "iopub.status.idle": "2024-01-23T12:11:12.109758Z",
     "shell.execute_reply": "2024-01-23T12:11:12.108600Z"
    },
    "papermill": {
     "duration": 0.079419,
     "end_time": "2024-01-23T12:11:12.112398",
     "exception": false,
     "start_time": "2024-01-23T12:11:12.032979",
     "status": "completed"
    },
    "tags": []
   },
   "outputs": [],
   "source": [
    "top50 = pd.Series(random_forest.feature_importances_, index=X_train.columns).sort_values(ascending=False).head(50)"
   ]
  },
  {
   "cell_type": "code",
   "execution_count": 18,
   "id": "4db698ad",
   "metadata": {
    "execution": {
     "iopub.execute_input": "2024-01-23T12:11:12.148362Z",
     "iopub.status.busy": "2024-01-23T12:11:12.147714Z",
     "iopub.status.idle": "2024-01-23T12:11:12.152798Z",
     "shell.execute_reply": "2024-01-23T12:11:12.151866Z"
    },
    "papermill": {
     "duration": 0.025641,
     "end_time": "2024-01-23T12:11:12.155138",
     "exception": false,
     "start_time": "2024-01-23T12:11:12.129497",
     "status": "completed"
    },
    "tags": []
   },
   "outputs": [],
   "source": [
    "# Tạo DataFrame từ feature_scores_rf\n",
    "df_features = pd.DataFrame(top50, columns=['Score'])"
   ]
  },
  {
   "cell_type": "code",
   "execution_count": 19,
   "id": "ce36f20a",
   "metadata": {
    "execution": {
     "iopub.execute_input": "2024-01-23T12:11:12.191856Z",
     "iopub.status.busy": "2024-01-23T12:11:12.191146Z",
     "iopub.status.idle": "2024-01-23T12:11:12.205543Z",
     "shell.execute_reply": "2024-01-23T12:11:12.203990Z"
    },
    "papermill": {
     "duration": 0.035556,
     "end_time": "2024-01-23T12:11:12.208007",
     "exception": false,
     "start_time": "2024-01-23T12:11:12.172451",
     "status": "completed"
    },
    "tags": []
   },
   "outputs": [
    {
     "name": "stdout",
     "output_type": "stream",
     "text": [
      "'ngram': 27\n",
      "'opcode ngram': 0\n",
      "'generic': 1\n",
      "'strings': 0\n",
      "'rich header': 0\n",
      "'api import': 0\n",
      "'dll': 0\n",
      "'pe section': 19\n",
      "'pe header': 3\n"
     ]
    }
   ],
   "source": [
    "count_ngram = df_features[df_features.index.str.startswith('ngram_')].shape[0]\n",
    "count_opcode = df_features[df_features.index.str.startswith('opcode_')].shape[0]\n",
    "count_generic = df_features[df_features.index.str.startswith('generic_')].shape[0]\n",
    "count_string = df_features[df_features.index.str.startswith('string_')].shape[0]\n",
    "count_rich = df_features[df_features.index.str.startswith('rich_')].shape[0]\n",
    "# count_api = df_features[df_features.index.str.startswith('imp_') or 'api_import_nb' == c].shape[0]\n",
    "# count_dll = df_features[df_features.index.str.startswith('.dll') or 'dll_import_nb' == c].shape[0]\n",
    "count_api = df_features[df_features.index.str.startswith('imp_') | (df_features.index == 'api_import_nb')].shape[0]\n",
    "count_dll = df_features[df_features.index.str.endswith('.dll') | (df_features.index == 'dll_import_nb')].shape[0]\n",
    "count_section = df_features[df_features.index.str.startswith('pesection')].shape[0]\n",
    "count_header = df_features[df_features.index.str.startswith('header_')].shape[0]\n",
    "\n",
    "print(f\"'ngram': {count_ngram}\")\n",
    "print(f\"'opcode ngram': {count_opcode}\")\n",
    "print(f\"'generic': {count_generic}\")\n",
    "print(f\"'strings': {count_string}\")\n",
    "print(f\"'rich header': {count_rich}\")\n",
    "print(f\"'api import': {count_api}\")\n",
    "print(f\"'dll': {count_dll}\")\n",
    "print(f\"'pe section': {count_section}\")\n",
    "print(f\"'pe header': {count_header}\")"
   ]
  },
  {
   "cell_type": "code",
   "execution_count": 20,
   "id": "5c92bf03",
   "metadata": {
    "execution": {
     "iopub.execute_input": "2024-01-23T12:11:12.244516Z",
     "iopub.status.busy": "2024-01-23T12:11:12.243574Z",
     "iopub.status.idle": "2024-01-23T12:11:12.253937Z",
     "shell.execute_reply": "2024-01-23T12:11:12.252800Z"
    },
    "papermill": {
     "duration": 0.030781,
     "end_time": "2024-01-23T12:11:12.255949",
     "exception": false,
     "start_time": "2024-01-23T12:11:12.225168",
     "status": "completed"
    },
    "tags": []
   },
   "outputs": [],
   "source": [
    "cols = list(obsidium.columns)"
   ]
  },
  {
   "cell_type": "markdown",
   "id": "efc48ae7",
   "metadata": {
    "papermill": {
     "duration": 0.016856,
     "end_time": "2024-01-23T12:11:12.289648",
     "exception": false,
     "start_time": "2024-01-23T12:11:12.272792",
     "status": "completed"
    },
    "tags": []
   },
   "source": [
    "# **ngram features**"
   ]
  },
  {
   "cell_type": "code",
   "execution_count": 21,
   "id": "d59be1d2",
   "metadata": {
    "execution": {
     "iopub.execute_input": "2024-01-23T12:11:12.324940Z",
     "iopub.status.busy": "2024-01-23T12:11:12.324520Z",
     "iopub.status.idle": "2024-01-23T12:11:14.473794Z",
     "shell.execute_reply": "2024-01-23T12:11:14.472770Z"
    },
    "papermill": {
     "duration": 2.169834,
     "end_time": "2024-01-23T12:11:14.476212",
     "exception": false,
     "start_time": "2024-01-23T12:11:12.306378",
     "status": "completed"
    },
    "tags": []
   },
   "outputs": [],
   "source": [
    "obsidium = pd.read_pickle('/kaggle/input/packer-balance-pickle/obsidium_balance.pickle')\n",
    "obsidium = obsidium.drop(['sample_sha1','benign','unpacked_sample_sha1','unpacked_sample_id'], axis=1)\n",
    "obsidium = obsidium.drop(['benign_vt','malicious_vt'], axis=1)\n",
    "string_columns = obsidium.select_dtypes(include=['object']).columns\n",
    "obsidium = obsidium.drop(string_columns, axis=1)"
   ]
  },
  {
   "cell_type": "code",
   "execution_count": 22,
   "id": "0210dd03",
   "metadata": {
    "execution": {
     "iopub.execute_input": "2024-01-23T12:11:14.512534Z",
     "iopub.status.busy": "2024-01-23T12:11:14.511711Z",
     "iopub.status.idle": "2024-01-23T12:11:14.517158Z",
     "shell.execute_reply": "2024-01-23T12:11:14.516406Z"
    },
    "papermill": {
     "duration": 0.025904,
     "end_time": "2024-01-23T12:11:14.519274",
     "exception": false,
     "start_time": "2024-01-23T12:11:14.493370",
     "status": "completed"
    },
    "tags": []
   },
   "outputs": [],
   "source": [
    "def remove_cols(df, ll):\n",
    "    print(\"removing {} features\".format(len(ll)))\n",
    "    df.drop(columns=ll, axis=1, inplace=True)\n",
    "    return df"
   ]
  },
  {
   "cell_type": "code",
   "execution_count": 23,
   "id": "5c35c96b",
   "metadata": {
    "execution": {
     "iopub.execute_input": "2024-01-23T12:11:14.554537Z",
     "iopub.status.busy": "2024-01-23T12:11:14.553976Z",
     "iopub.status.idle": "2024-01-23T12:11:15.943087Z",
     "shell.execute_reply": "2024-01-23T12:11:15.941975Z"
    },
    "papermill": {
     "duration": 1.409407,
     "end_time": "2024-01-23T12:11:15.945449",
     "exception": false,
     "start_time": "2024-01-23T12:11:14.536042",
     "status": "completed"
    },
    "tags": []
   },
   "outputs": [
    {
     "name": "stdout",
     "output_type": "stream",
     "text": [
      "removing 2500 features\n",
      "removing 2 features\n",
      "removing 16900 features\n",
      "removing 66 features\n",
      "removing 19169 features\n",
      "removing 4306 features\n",
      "removing 550 features\n",
      "removing 29 features\n"
     ]
    }
   ],
   "source": [
    "# ngram = remove_cols(df, [c for c in cols if c.startswith('ngram_')])\n",
    "ngram = remove_cols(obsidium, [c for c in cols if c.startswith('opcode_')])\n",
    "ngram = remove_cols(obsidium, [c for c in cols if c.startswith('generic_')])\n",
    "ngram = remove_cols(obsidium, [c for c in cols if c.startswith('string_')])\n",
    "ngram = remove_cols(obsidium, [c for c in cols if c.startswith('rich_')])\n",
    "ngram = remove_cols(obsidium, [c for c in cols if c.startswith('imp_') or 'api_import_nb' == c])\n",
    "ngram = remove_cols(obsidium, [c for c in cols if c.endswith('.dll') or 'dll_import_nb' == c])\n",
    "ngram = remove_cols(obsidium, [c for c in cols if c.startswith('pesection')])\n",
    "ngram = remove_cols(obsidium, [c for c in cols if c.startswith('header_')])"
   ]
  },
  {
   "cell_type": "code",
   "execution_count": 24,
   "id": "17484b93",
   "metadata": {
    "execution": {
     "iopub.execute_input": "2024-01-23T12:11:15.981248Z",
     "iopub.status.busy": "2024-01-23T12:11:15.980854Z",
     "iopub.status.idle": "2024-01-23T12:11:16.237532Z",
     "shell.execute_reply": "2024-01-23T12:11:16.236406Z"
    },
    "papermill": {
     "duration": 0.277596,
     "end_time": "2024-01-23T12:11:16.240056",
     "exception": false,
     "start_time": "2024-01-23T12:11:15.962460",
     "status": "completed"
    },
    "tags": []
   },
   "outputs": [],
   "source": [
    "df_7000_ngram = ngram.sample(n=7000, random_state=102)\n",
    "df_3000_ngram = ngram.drop(df_7000.index)\n",
    "data_ngram = df_7000_ngram.sample(n=3500, random_state=102)"
   ]
  },
  {
   "cell_type": "code",
   "execution_count": 25,
   "id": "baf89b63",
   "metadata": {
    "execution": {
     "iopub.execute_input": "2024-01-23T12:11:16.277540Z",
     "iopub.status.busy": "2024-01-23T12:11:16.276776Z",
     "iopub.status.idle": "2024-01-23T12:11:16.617696Z",
     "shell.execute_reply": "2024-01-23T12:11:16.616601Z"
    },
    "papermill": {
     "duration": 0.361992,
     "end_time": "2024-01-23T12:11:16.619863",
     "exception": false,
     "start_time": "2024-01-23T12:11:16.257871",
     "status": "completed"
    },
    "tags": []
   },
   "outputs": [
    {
     "name": "stdout",
     "output_type": "stream",
     "text": [
      "Packed Malware: 2306 samples\n",
      "Packed Benign: 1194 samples\n",
      "Total TRAIN set: 3500 samples\n",
      "Packed Malware: 1194 samples\n",
      "Packed Benign: 1194 samples\n",
      "Total TRAIN set: 2388 samples\n",
      "Packed Malware: 1058 samples\n",
      "Packed Benign: 1058 samples\n",
      "Total TEST set: 2116 samples\n"
     ]
    }
   ],
   "source": [
    "#Kiểm tra số lượng mẫu\n",
    "PM = data_ngram[(data_ngram['malicious'] == True) & (data_ngram['packed'] == True)].shape[0]\n",
    "PB = data_ngram[(data_ngram['malicious'] == False) & (data_ngram['packed'] == True)].shape[0]\n",
    "print('Packed Malware: %i samples' % PM)\n",
    "print('Packed Benign: %i samples' % PB)\n",
    "print('Total TRAIN set: %i samples'% (PM+PB))\n",
    "\n",
    "#Chia tỉ lệ 50 - 50\n",
    "data_PM_ngram = data_ngram[(data_ngram['malicious'] == True) & (data_ngram['packed'] == True)].sample(n=(PM-PB), random_state=102)\n",
    "data_ngram = data_ngram.drop(data_PM_ngram.index)\n",
    "\n",
    "#Số lượng tập train\n",
    "PM = data_ngram[(data_ngram['malicious'] == True) & (data_ngram['packed'] == True)].shape[0]\n",
    "PB = data_ngram[(data_ngram['malicious'] == False) & (data_ngram['packed'] == True)].shape[0]\n",
    "print('Packed Malware: %i samples' % PM)\n",
    "print('Packed Benign: %i samples' % PB)\n",
    "print('Total TRAIN set: %i samples'% (PM+PB))\n",
    "\n",
    "#Xử lý tập train\n",
    "y = data_ngram['malicious'].values\n",
    "data_ngram = data_ngram.drop(['malicious','packed'], axis=1)\n",
    "\n",
    "PM = df_3000_ngram[(df_3000_ngram['malicious'] == True) & (df_3000_ngram['packed'] == True)].shape[0]\n",
    "PB = df_3000_ngram[(df_3000_ngram['malicious'] == False) & (df_3000_ngram['packed'] == True)].shape[0]\n",
    "\n",
    "df_3000_PM_ngram = df_3000_ngram[(df_3000_ngram['malicious'] == True) & (df_3000_ngram['packed'] == True)].sample(n=(PM-PB), random_state=102)\n",
    "df_3000_ngram = df_3000_ngram.drop(df_3000_PM.index)\n",
    "\n",
    "PM = df_3000_ngram[(df_3000_ngram['malicious'] == True) & (df_3000_ngram['packed'] == True)].shape[0]\n",
    "PB = df_3000_ngram[(df_3000_ngram['malicious'] == False) & (df_3000_ngram['packed'] == True)].shape[0]\n",
    "\n",
    "print('Packed Malware: %i samples' % PM)\n",
    "print('Packed Benign: %i samples' % PB)\n",
    "print('Total TEST set: %i samples'% (PM+PB))"
   ]
  },
  {
   "cell_type": "code",
   "execution_count": 26,
   "id": "55884712",
   "metadata": {
    "execution": {
     "iopub.execute_input": "2024-01-23T12:11:16.656602Z",
     "iopub.status.busy": "2024-01-23T12:11:16.655946Z",
     "iopub.status.idle": "2024-01-23T12:11:16.714789Z",
     "shell.execute_reply": "2024-01-23T12:11:16.713771Z"
    },
    "papermill": {
     "duration": 0.079962,
     "end_time": "2024-01-23T12:11:16.717052",
     "exception": false,
     "start_time": "2024-01-23T12:11:16.637090",
     "status": "completed"
    },
    "tags": []
   },
   "outputs": [],
   "source": [
    "# model = SelectFromModel(fsel, prefit=True)\n",
    "\n",
    "X_train_ngram = data_ngram\n",
    "X_test_ngram = df_3000_ngram.drop(['malicious','packed'], axis=1)\n",
    "\n",
    "data_ngram = data_ngram.loc[:, (data_ngram != 0).any(axis=0)]\n",
    "x_train_ngram = data_ngram\n",
    "X_test_ngram = df_3000_ngram.drop(['malicious','packed'], axis=1)\n",
    "y_train_ngram = y\n",
    "y_test_ngram = df_3000_ngram['malicious'].values"
   ]
  },
  {
   "cell_type": "code",
   "execution_count": 27,
   "id": "c74b8cc6",
   "metadata": {
    "execution": {
     "iopub.execute_input": "2024-01-23T12:11:16.754839Z",
     "iopub.status.busy": "2024-01-23T12:11:16.753722Z",
     "iopub.status.idle": "2024-01-23T12:11:21.670516Z",
     "shell.execute_reply": "2024-01-23T12:11:21.669098Z"
    },
    "papermill": {
     "duration": 4.938404,
     "end_time": "2024-01-23T12:11:21.672953",
     "exception": false,
     "start_time": "2024-01-23T12:11:16.734549",
     "status": "completed"
    },
    "tags": []
   },
   "outputs": [
    {
     "name": "stdout",
     "output_type": "stream",
     "text": [
      "The accuracy of the Random Forests model is :\t 0.9267485822306238\n"
     ]
    }
   ],
   "source": [
    "# Random Forest\n",
    "from sklearn.ensemble import RandomForestClassifier\n",
    "from sklearn import metrics\n",
    "\n",
    "random_forest = RandomForestClassifier(n_estimators=100, random_state=17)\n",
    "random_forest.fit(X_train_ngram, y_train_ngram)\n",
    "random_forest_preds = random_forest.predict(X_test_ngram)\n",
    "print('The accuracy of the Random Forests model is :\\t',metrics.accuracy_score(random_forest_preds,y_test_ngram))"
   ]
  },
  {
   "cell_type": "markdown",
   "id": "a9c4a46d",
   "metadata": {
    "papermill": {
     "duration": 0.017136,
     "end_time": "2024-01-23T12:11:21.707468",
     "exception": false,
     "start_time": "2024-01-23T12:11:21.690332",
     "status": "completed"
    },
    "tags": []
   },
   "source": [
    "# **opcode features**"
   ]
  },
  {
   "cell_type": "code",
   "execution_count": 28,
   "id": "4d51b9e0",
   "metadata": {
    "execution": {
     "iopub.execute_input": "2024-01-23T12:11:21.743995Z",
     "iopub.status.busy": "2024-01-23T12:11:21.743197Z",
     "iopub.status.idle": "2024-01-23T12:11:23.713675Z",
     "shell.execute_reply": "2024-01-23T12:11:23.712523Z"
    },
    "papermill": {
     "duration": 1.991707,
     "end_time": "2024-01-23T12:11:23.716313",
     "exception": false,
     "start_time": "2024-01-23T12:11:21.724606",
     "status": "completed"
    },
    "tags": []
   },
   "outputs": [],
   "source": [
    "obsidium = pd.read_pickle('/kaggle/input/packer-balance-pickle/obsidium_balance.pickle')\n",
    "obsidium = obsidium.drop(['sample_sha1','benign','unpacked_sample_sha1','unpacked_sample_id'], axis=1)\n",
    "obsidium = obsidium.drop(['benign_vt','malicious_vt'], axis=1)\n",
    "string_columns = obsidium.select_dtypes(include=['object']).columns\n",
    "obsidium = obsidium.drop(string_columns, axis=1)"
   ]
  },
  {
   "cell_type": "code",
   "execution_count": 29,
   "id": "32aa88ae",
   "metadata": {
    "execution": {
     "iopub.execute_input": "2024-01-23T12:11:23.754736Z",
     "iopub.status.busy": "2024-01-23T12:11:23.754200Z",
     "iopub.status.idle": "2024-01-23T12:11:25.324830Z",
     "shell.execute_reply": "2024-01-23T12:11:25.323447Z"
    },
    "papermill": {
     "duration": 1.593273,
     "end_time": "2024-01-23T12:11:25.327076",
     "exception": false,
     "start_time": "2024-01-23T12:11:23.733803",
     "status": "completed"
    },
    "tags": []
   },
   "outputs": [
    {
     "name": "stdout",
     "output_type": "stream",
     "text": [
      "removing 13000 features\n",
      "removing 2 features\n",
      "removing 16900 features\n",
      "removing 66 features\n",
      "removing 19169 features\n",
      "removing 4306 features\n",
      "removing 550 features\n",
      "removing 29 features\n"
     ]
    }
   ],
   "source": [
    "opcode = remove_cols(obsidium, [c for c in cols if c.startswith('ngram_')])\n",
    "# opcode = remove_cols(obsidium, [c for c in cols if c.startswith('opcode_')])\n",
    "opcode = remove_cols(obsidium, [c for c in cols if c.startswith('generic_')])\n",
    "opcode = remove_cols(obsidium, [c for c in cols if c.startswith('string_')])\n",
    "opcode = remove_cols(obsidium, [c for c in cols if c.startswith('rich_')])\n",
    "opcode = remove_cols(obsidium, [c for c in cols if c.startswith('imp_') or 'api_import_nb' == c])\n",
    "opcode = remove_cols(obsidium, [c for c in cols if c.endswith('.dll') or 'dll_import_nb' == c])\n",
    "opcode = remove_cols(obsidium, [c for c in cols if c.startswith('pesection')])\n",
    "opcode = remove_cols(obsidium, [c for c in cols if c.startswith('header_')])"
   ]
  },
  {
   "cell_type": "code",
   "execution_count": 30,
   "id": "d6a6ec90",
   "metadata": {
    "execution": {
     "iopub.execute_input": "2024-01-23T12:11:25.364493Z",
     "iopub.status.busy": "2024-01-23T12:11:25.364090Z",
     "iopub.status.idle": "2024-01-23T12:11:25.530864Z",
     "shell.execute_reply": "2024-01-23T12:11:25.529958Z"
    },
    "papermill": {
     "duration": 0.188338,
     "end_time": "2024-01-23T12:11:25.533272",
     "exception": false,
     "start_time": "2024-01-23T12:11:25.344934",
     "status": "completed"
    },
    "tags": []
   },
   "outputs": [],
   "source": [
    "df_7000_opcode = opcode.sample(n=7000, random_state=102)\n",
    "df_3000_opcode = opcode.drop(df_7000.index)\n",
    "data_opcode = df_7000_opcode.sample(n=3500, random_state=102)"
   ]
  },
  {
   "cell_type": "code",
   "execution_count": 31,
   "id": "ee3e57e4",
   "metadata": {
    "execution": {
     "iopub.execute_input": "2024-01-23T12:11:25.570557Z",
     "iopub.status.busy": "2024-01-23T12:11:25.569998Z",
     "iopub.status.idle": "2024-01-23T12:11:25.783490Z",
     "shell.execute_reply": "2024-01-23T12:11:25.782042Z"
    },
    "papermill": {
     "duration": 0.234764,
     "end_time": "2024-01-23T12:11:25.785867",
     "exception": false,
     "start_time": "2024-01-23T12:11:25.551103",
     "status": "completed"
    },
    "tags": []
   },
   "outputs": [
    {
     "name": "stdout",
     "output_type": "stream",
     "text": [
      "Packed Malware: 2306 samples\n",
      "Packed Benign: 1194 samples\n",
      "Total TRAIN set: 3500 samples\n",
      "Packed Malware: 1194 samples\n",
      "Packed Benign: 1194 samples\n",
      "Total TRAIN set: 2388 samples\n",
      "Packed Malware: 1058 samples\n",
      "Packed Benign: 1058 samples\n",
      "Total TEST set: 2116 samples\n"
     ]
    }
   ],
   "source": [
    "#Kiểm tra số lượng mẫu\n",
    "PM = data_opcode[(data_opcode['malicious'] == True) & (data_opcode['packed'] == True)].shape[0]\n",
    "PB = data_opcode[(data_opcode['malicious'] == False) & (data_opcode['packed'] == True)].shape[0]\n",
    "print('Packed Malware: %i samples' % PM)\n",
    "print('Packed Benign: %i samples' % PB)\n",
    "print('Total TRAIN set: %i samples'% (PM+PB))\n",
    "\n",
    "#Chia tỉ lệ 50 - 50\n",
    "data_PM_opcode = data_opcode[(data_opcode['malicious'] == True) & (data_opcode['packed'] == True)].sample(n=(PM-PB), random_state=102)\n",
    "data_opcode = data_opcode.drop(data_PM_opcode.index)\n",
    "      \n",
    "#Số lượng tập train\n",
    "PM = data_opcode[(data_opcode['malicious'] == True) & (data_opcode['packed'] == True)].shape[0]\n",
    "PB = data_opcode[(data_opcode['malicious'] == False) & (data_opcode['packed'] == True)].shape[0]\n",
    "print('Packed Malware: %i samples' % PM)\n",
    "print('Packed Benign: %i samples' % PB)\n",
    "print('Total TRAIN set: %i samples'% (PM+PB))\n",
    "\n",
    "#Xử lý tập train\n",
    "y = data_opcode['malicious'].values\n",
    "data_opcode = data_opcode.drop(['malicious','packed'], axis=1)\n",
    "\n",
    "PM = df_3000_opcode[(df_3000_opcode['malicious'] == True) & (df_3000_opcode['packed'] == True)].shape[0]\n",
    "PB = df_3000_opcode[(df_3000_opcode['malicious'] == False) & (df_3000_opcode['packed'] == True)].shape[0]\n",
    "\n",
    "df_3000_PM_opcode = df_3000_opcode[(df_3000_opcode['malicious'] == True) & (df_3000_opcode['packed'] == True)].sample(n=(PM-PB), random_state=102)\n",
    "df_3000_opcode = df_3000_opcode.drop(df_3000_PM_opcode.index)\n",
    "\n",
    "PM = df_3000_opcode[(df_3000_opcode['malicious'] == True) & (df_3000_opcode['packed'] == True)].shape[0]\n",
    "PB = df_3000_opcode[(df_3000_opcode['malicious'] == False) & (df_3000_opcode['packed'] == True)].shape[0]\n",
    "\n",
    "print('Packed Malware: %i samples' % PM)\n",
    "print('Packed Benign: %i samples' % PB)\n",
    "print('Total TEST set: %i samples'% (PM+PB))"
   ]
  },
  {
   "cell_type": "code",
   "execution_count": 32,
   "id": "6d8b17f1",
   "metadata": {
    "execution": {
     "iopub.execute_input": "2024-01-23T12:11:25.825619Z",
     "iopub.status.busy": "2024-01-23T12:11:25.825210Z",
     "iopub.status.idle": "2024-01-23T12:11:25.865477Z",
     "shell.execute_reply": "2024-01-23T12:11:25.864327Z"
    },
    "papermill": {
     "duration": 0.0622,
     "end_time": "2024-01-23T12:11:25.867955",
     "exception": false,
     "start_time": "2024-01-23T12:11:25.805755",
     "status": "completed"
    },
    "tags": []
   },
   "outputs": [],
   "source": [
    "# model = SelectFromModel(fsel, prefit=True)\n",
    "\n",
    "X_train_opcode = data_opcode\n",
    "X_test_opcode = df_3000_opcode.drop(['malicious','packed'], axis=1)\n",
    "\n",
    "# data_opcode = data_opcode.loc[:, (data_opcode != 0).any(axis=0)]\n",
    "x_train_opcode = data_opcode\n",
    "X_test_opcode = df_3000_opcode.drop(['malicious','packed'], axis=1)\n",
    "y_train_opcode = y\n",
    "y_test_opcode = df_3000_opcode['malicious'].values"
   ]
  },
  {
   "cell_type": "code",
   "execution_count": 33,
   "id": "2dca1316",
   "metadata": {
    "execution": {
     "iopub.execute_input": "2024-01-23T12:11:25.906728Z",
     "iopub.status.busy": "2024-01-23T12:11:25.905621Z",
     "iopub.status.idle": "2024-01-23T12:11:28.496294Z",
     "shell.execute_reply": "2024-01-23T12:11:28.495084Z"
    },
    "papermill": {
     "duration": 2.612121,
     "end_time": "2024-01-23T12:11:28.498548",
     "exception": false,
     "start_time": "2024-01-23T12:11:25.886427",
     "status": "completed"
    },
    "tags": []
   },
   "outputs": [
    {
     "name": "stdout",
     "output_type": "stream",
     "text": [
      "The accuracy of the Random Forests model is :\t 0.503780718336484\n"
     ]
    }
   ],
   "source": [
    "# Random Forest\n",
    "from sklearn.ensemble import RandomForestClassifier\n",
    "from sklearn import metrics\n",
    "\n",
    "random_forest = RandomForestClassifier(n_estimators=100, random_state=17)\n",
    "random_forest.fit(x_train_opcode, y_train_opcode)\n",
    "random_forest_preds = random_forest.predict(X_test_opcode)\n",
    "print('The accuracy of the Random Forests model is :\\t',metrics.accuracy_score(random_forest_preds,y_test_opcode))"
   ]
  },
  {
   "cell_type": "markdown",
   "id": "b79906dd",
   "metadata": {
    "papermill": {
     "duration": 0.017551,
     "end_time": "2024-01-23T12:11:28.533987",
     "exception": false,
     "start_time": "2024-01-23T12:11:28.516436",
     "status": "completed"
    },
    "tags": []
   },
   "source": [
    "# **rich header features**"
   ]
  },
  {
   "cell_type": "code",
   "execution_count": 34,
   "id": "e55fd70f",
   "metadata": {
    "execution": {
     "iopub.execute_input": "2024-01-23T12:11:28.571320Z",
     "iopub.status.busy": "2024-01-23T12:11:28.570913Z",
     "iopub.status.idle": "2024-01-23T12:11:30.697184Z",
     "shell.execute_reply": "2024-01-23T12:11:30.696221Z"
    },
    "papermill": {
     "duration": 2.147859,
     "end_time": "2024-01-23T12:11:30.699616",
     "exception": false,
     "start_time": "2024-01-23T12:11:28.551757",
     "status": "completed"
    },
    "tags": []
   },
   "outputs": [],
   "source": [
    "obsidium = pd.read_pickle('/kaggle/input/packer-balance-pickle/obsidium_balance.pickle')\n",
    "obsidium = obsidium.drop(['sample_sha1','benign','unpacked_sample_sha1','unpacked_sample_id'], axis=1)\n",
    "obsidium = obsidium.drop(['benign_vt','malicious_vt'], axis=1)\n",
    "string_columns = obsidium.select_dtypes(include=['object']).columns\n",
    "obsidium = obsidium.drop(string_columns, axis=1)"
   ]
  },
  {
   "cell_type": "code",
   "execution_count": 35,
   "id": "7c64a5ca",
   "metadata": {
    "execution": {
     "iopub.execute_input": "2024-01-23T12:11:30.737435Z",
     "iopub.status.busy": "2024-01-23T12:11:30.737019Z",
     "iopub.status.idle": "2024-01-23T12:11:31.888061Z",
     "shell.execute_reply": "2024-01-23T12:11:31.885971Z"
    },
    "papermill": {
     "duration": 1.172595,
     "end_time": "2024-01-23T12:11:31.890210",
     "exception": false,
     "start_time": "2024-01-23T12:11:30.717615",
     "status": "completed"
    },
    "tags": []
   },
   "outputs": [
    {
     "name": "stdout",
     "output_type": "stream",
     "text": [
      "removing 13000 features\n",
      "removing 2500 features\n",
      "removing 2 features\n",
      "removing 16900 features\n",
      "removing 19169 features\n",
      "removing 4306 features\n",
      "removing 550 features\n",
      "removing 29 features\n"
     ]
    }
   ],
   "source": [
    "rich = remove_cols(obsidium, [c for c in cols if c.startswith('ngram_')])\n",
    "rich = remove_cols(obsidium, [c for c in cols if c.startswith('opcode_')])\n",
    "rich = remove_cols(obsidium, [c for c in cols if c.startswith('generic_')])\n",
    "rich = remove_cols(obsidium, [c for c in cols if c.startswith('string_')])\n",
    "# rich = remove_cols(obsidium, [c for c in cols if c.startswith('rich_')])\n",
    "rich = remove_cols(obsidium, [c for c in cols if c.startswith('imp_') or 'api_import_nb' == c])\n",
    "rich = remove_cols(obsidium, [c for c in cols if c.endswith('.dll') or 'dll_import_nb' == c])\n",
    "rich = remove_cols(obsidium, [c for c in cols if c.startswith('pesection')])\n",
    "rich = remove_cols(obsidium, [c for c in cols if c.startswith('header_')])"
   ]
  },
  {
   "cell_type": "code",
   "execution_count": 36,
   "id": "695e557b",
   "metadata": {
    "execution": {
     "iopub.execute_input": "2024-01-23T12:11:31.928956Z",
     "iopub.status.busy": "2024-01-23T12:11:31.928554Z",
     "iopub.status.idle": "2024-01-23T12:11:31.941195Z",
     "shell.execute_reply": "2024-01-23T12:11:31.940186Z"
    },
    "papermill": {
     "duration": 0.034491,
     "end_time": "2024-01-23T12:11:31.943393",
     "exception": false,
     "start_time": "2024-01-23T12:11:31.908902",
     "status": "completed"
    },
    "tags": []
   },
   "outputs": [],
   "source": [
    "df_7000_rich = rich.sample(n=7000, random_state=102)\n",
    "df_3000_rich = rich.drop(df_7000.index)\n",
    "data_rich = df_7000_rich.sample(n=3500, random_state=102)"
   ]
  },
  {
   "cell_type": "code",
   "execution_count": 37,
   "id": "8532bfc7",
   "metadata": {
    "execution": {
     "iopub.execute_input": "2024-01-23T12:11:31.983047Z",
     "iopub.status.busy": "2024-01-23T12:11:31.982361Z",
     "iopub.status.idle": "2024-01-23T12:11:32.014057Z",
     "shell.execute_reply": "2024-01-23T12:11:32.012855Z"
    },
    "papermill": {
     "duration": 0.054744,
     "end_time": "2024-01-23T12:11:32.016722",
     "exception": false,
     "start_time": "2024-01-23T12:11:31.961978",
     "status": "completed"
    },
    "tags": []
   },
   "outputs": [
    {
     "name": "stdout",
     "output_type": "stream",
     "text": [
      "Packed Malware: 2306 samples\n",
      "Packed Benign: 1194 samples\n",
      "Total TRAIN set: 3500 samples\n",
      "Packed Malware: 1194 samples\n",
      "Packed Benign: 1194 samples\n",
      "Total TRAIN set: 2388 samples\n",
      "Packed Malware: 1058 samples\n",
      "Packed Benign: 1058 samples\n",
      "Total TEST set: 2116 samples\n"
     ]
    }
   ],
   "source": [
    "#Kiểm tra số lượng mẫu\n",
    "PM = data_rich[(data_rich['malicious'] == True) & (data_rich['packed'] == True)].shape[0]\n",
    "PB = data_rich[(data_rich['malicious'] == False) & (data_rich['packed'] == True)].shape[0]\n",
    "print('Packed Malware: %i samples' % PM)\n",
    "print('Packed Benign: %i samples' % PB)\n",
    "print('Total TRAIN set: %i samples'% (PM+PB))\n",
    "\n",
    "#Chia tỉ lệ 50 - 50\n",
    "data_PM_rich = data_rich[(data_rich['malicious'] == True) & (data_rich['packed'] == True)].sample(n=(PM-PB), random_state=102)\n",
    "data_rich = data_rich.drop(data_PM_rich.index)\n",
    "      \n",
    "#Số lượng tập train\n",
    "PM = data_rich[(data_rich['malicious'] == True) & (data_rich['packed'] == True)].shape[0]\n",
    "PB = data_rich[(data_rich['malicious'] == False) & (data_rich['packed'] == True)].shape[0]\n",
    "print('Packed Malware: %i samples' % PM)\n",
    "print('Packed Benign: %i samples' % PB)\n",
    "print('Total TRAIN set: %i samples'% (PM+PB))\n",
    "\n",
    "#Xử lý tập train\n",
    "y = data_rich['malicious'].values\n",
    "data_rich= data_rich.drop(['malicious','packed'], axis=1)\n",
    "\n",
    "PM = df_3000_rich[(df_3000_rich['malicious'] == True) & (df_3000_rich['packed'] == True)].shape[0]\n",
    "PB = df_3000_rich[(df_3000_rich['malicious'] == False) & (df_3000_rich['packed'] == True)].shape[0]\n",
    "\n",
    "df_3000_PM_rich = df_3000_rich[(df_3000_rich['malicious'] == True) & (df_3000_rich['packed'] == True)].sample(n=(PM-PB), random_state=102)\n",
    "df_3000_rich = df_3000_rich.drop(df_3000_PM_rich.index)\n",
    "\n",
    "PM = df_3000_rich[(df_3000_rich['malicious'] == True) & (df_3000_rich['packed'] == True)].shape[0]\n",
    "PB = df_3000_rich[(df_3000_rich['malicious'] == False) & (df_3000_rich['packed'] == True)].shape[0]\n",
    "\n",
    "print('Packed Malware: %i samples' % PM)\n",
    "print('Packed Benign: %i samples' % PB)\n",
    "print('Total TEST set: %i samples'% (PM+PB))"
   ]
  },
  {
   "cell_type": "code",
   "execution_count": 38,
   "id": "6e1c6d43",
   "metadata": {
    "execution": {
     "iopub.execute_input": "2024-01-23T12:11:32.056308Z",
     "iopub.status.busy": "2024-01-23T12:11:32.055868Z",
     "iopub.status.idle": "2024-01-23T12:11:32.066978Z",
     "shell.execute_reply": "2024-01-23T12:11:32.066125Z"
    },
    "papermill": {
     "duration": 0.033504,
     "end_time": "2024-01-23T12:11:32.069121",
     "exception": false,
     "start_time": "2024-01-23T12:11:32.035617",
     "status": "completed"
    },
    "tags": []
   },
   "outputs": [],
   "source": [
    "# model = SelectFromModel(fsel, prefit=True)\n",
    "\n",
    "X_train_rich = data_rich\n",
    "X_test_rich = df_3000_rich.drop(['malicious','packed'], axis=1)\n",
    "\n",
    "data_rich = data_rich.loc[:, (data_rich != 0).any(axis=0)]\n",
    "x_train_rich = data_rich\n",
    "X_test_rich = df_3000_rich.drop(['malicious','packed'], axis=1)\n",
    "y_train_rich = y\n",
    "y_test_rich = df_3000_rich['malicious'].values"
   ]
  },
  {
   "cell_type": "code",
   "execution_count": 39,
   "id": "8709fa45",
   "metadata": {
    "execution": {
     "iopub.execute_input": "2024-01-23T12:11:32.107432Z",
     "iopub.status.busy": "2024-01-23T12:11:32.107013Z",
     "iopub.status.idle": "2024-01-23T12:11:32.347729Z",
     "shell.execute_reply": "2024-01-23T12:11:32.346592Z"
    },
    "papermill": {
     "duration": 0.262403,
     "end_time": "2024-01-23T12:11:32.349913",
     "exception": false,
     "start_time": "2024-01-23T12:11:32.087510",
     "status": "completed"
    },
    "tags": []
   },
   "outputs": [
    {
     "name": "stdout",
     "output_type": "stream",
     "text": [
      "The accuracy of the Random Forests model is :\t 0.5014177693761814\n"
     ]
    }
   ],
   "source": [
    "# Random Forest\n",
    "from sklearn.ensemble import RandomForestClassifier\n",
    "from sklearn import metrics\n",
    "\n",
    "random_forest = RandomForestClassifier(n_estimators=100, random_state=17)\n",
    "random_forest.fit(X_train_rich, y_train_rich)\n",
    "random_forest_preds = random_forest.predict(X_test_rich)\n",
    "print('The accuracy of the Random Forests model is :\\t',metrics.accuracy_score(random_forest_preds,y_test_rich))"
   ]
  },
  {
   "cell_type": "markdown",
   "id": "65e2db60",
   "metadata": {
    "papermill": {
     "duration": 0.018083,
     "end_time": "2024-01-23T12:11:32.386149",
     "exception": false,
     "start_time": "2024-01-23T12:11:32.368066",
     "status": "completed"
    },
    "tags": []
   },
   "source": [
    "# **string features**"
   ]
  },
  {
   "cell_type": "code",
   "execution_count": 40,
   "id": "882c7fde",
   "metadata": {
    "execution": {
     "iopub.execute_input": "2024-01-23T12:11:32.424923Z",
     "iopub.status.busy": "2024-01-23T12:11:32.424272Z",
     "iopub.status.idle": "2024-01-23T12:11:34.111565Z",
     "shell.execute_reply": "2024-01-23T12:11:34.110468Z"
    },
    "papermill": {
     "duration": 1.709738,
     "end_time": "2024-01-23T12:11:34.114315",
     "exception": false,
     "start_time": "2024-01-23T12:11:32.404577",
     "status": "completed"
    },
    "tags": []
   },
   "outputs": [],
   "source": [
    "obsidium = pd.read_pickle('/kaggle/input/packer-balance-pickle/obsidium_balance.pickle')\n",
    "obsidium = obsidium.drop(['sample_sha1','benign','unpacked_sample_sha1','unpacked_sample_id'], axis=1)\n",
    "obsidium = obsidium.drop(['benign_vt','malicious_vt'], axis=1)\n",
    "string_columns = obsidium.select_dtypes(include=['object']).columns\n",
    "obsidium = obsidium.drop(string_columns, axis=1)"
   ]
  },
  {
   "cell_type": "code",
   "execution_count": 41,
   "id": "7ddd06cf",
   "metadata": {
    "execution": {
     "iopub.execute_input": "2024-01-23T12:11:34.154137Z",
     "iopub.status.busy": "2024-01-23T12:11:34.153728Z",
     "iopub.status.idle": "2024-01-23T12:11:35.516140Z",
     "shell.execute_reply": "2024-01-23T12:11:35.515105Z"
    },
    "papermill": {
     "duration": 1.385521,
     "end_time": "2024-01-23T12:11:35.518614",
     "exception": false,
     "start_time": "2024-01-23T12:11:34.133093",
     "status": "completed"
    },
    "tags": []
   },
   "outputs": [
    {
     "name": "stdout",
     "output_type": "stream",
     "text": [
      "removing 13000 features\n",
      "removing 2500 features\n",
      "removing 2 features\n",
      "removing 66 features\n",
      "removing 19169 features\n",
      "removing 4306 features\n",
      "removing 550 features\n",
      "removing 29 features\n"
     ]
    }
   ],
   "source": [
    "string = remove_cols(obsidium, [c for c in cols if c.startswith('ngram_')])\n",
    "string = remove_cols(obsidium, [c for c in cols if c.startswith('opcode_')])\n",
    "string = remove_cols(obsidium, [c for c in cols if c.startswith('generic_')])\n",
    "# string = remove_cols(obsidium, [c for c in cols if c.startswith('string_')])\n",
    "string = remove_cols(obsidium, [c for c in cols if c.startswith('rich_')])\n",
    "string = remove_cols(obsidium, [c for c in cols if c.startswith('imp_') or 'api_import_nb' == c])\n",
    "string = remove_cols(obsidium, [c for c in cols if c.endswith('.dll') or 'dll_import_nb' == c])\n",
    "string = remove_cols(obsidium, [c for c in cols if c.startswith('pesection')])\n",
    "string = remove_cols(obsidium, [c for c in cols if c.startswith('header_')])"
   ]
  },
  {
   "cell_type": "code",
   "execution_count": 42,
   "id": "dd63eb5e",
   "metadata": {
    "execution": {
     "iopub.execute_input": "2024-01-23T12:11:35.557932Z",
     "iopub.status.busy": "2024-01-23T12:11:35.557523Z",
     "iopub.status.idle": "2024-01-23T12:11:35.888715Z",
     "shell.execute_reply": "2024-01-23T12:11:35.887610Z"
    },
    "papermill": {
     "duration": 0.353756,
     "end_time": "2024-01-23T12:11:35.891244",
     "exception": false,
     "start_time": "2024-01-23T12:11:35.537488",
     "status": "completed"
    },
    "tags": []
   },
   "outputs": [],
   "source": [
    "df_7000_string = string.sample(n=7000, random_state=102)\n",
    "df_3000_string = string.drop(df_7000.index)\n",
    "data_string = df_7000_string.sample(n=3500, random_state=102)"
   ]
  },
  {
   "cell_type": "code",
   "execution_count": 43,
   "id": "4c5e6546",
   "metadata": {
    "execution": {
     "iopub.execute_input": "2024-01-23T12:11:35.931653Z",
     "iopub.status.busy": "2024-01-23T12:11:35.931228Z",
     "iopub.status.idle": "2024-01-23T12:11:36.421609Z",
     "shell.execute_reply": "2024-01-23T12:11:36.420329Z"
    },
    "papermill": {
     "duration": 0.513369,
     "end_time": "2024-01-23T12:11:36.424092",
     "exception": false,
     "start_time": "2024-01-23T12:11:35.910723",
     "status": "completed"
    },
    "tags": []
   },
   "outputs": [
    {
     "name": "stdout",
     "output_type": "stream",
     "text": [
      "Packed Malware: 2306 samples\n",
      "Packed Benign: 1194 samples\n",
      "Total TRAIN set: 3500 samples\n",
      "Packed Malware: 1194 samples\n",
      "Packed Benign: 1194 samples\n",
      "Total TRAIN set: 2388 samples\n",
      "Packed Malware: 1058 samples\n",
      "Packed Benign: 1058 samples\n",
      "Total TEST set: 2116 samples\n"
     ]
    }
   ],
   "source": [
    "#Kiểm tra số lượng mẫu\n",
    "PM = data_string[(data_string['malicious'] == True) & (data_string['packed'] == True)].shape[0]\n",
    "PB = data_string[(data_string['malicious'] == False) & (data_string['packed'] == True)].shape[0]\n",
    "print('Packed Malware: %i samples' % PM)\n",
    "print('Packed Benign: %i samples' % PB)\n",
    "print('Total TRAIN set: %i samples'% (PM+PB))\n",
    "\n",
    "#Chia tỉ lệ 50 - 50\n",
    "data_PM_string = data_string[(data_string['malicious'] == True) & (data_string['packed'] == True)].sample(n=(PM-PB), random_state=102)\n",
    "data_string = data_string.drop(data_PM_string.index)\n",
    "      \n",
    "#Số lượng tập train\n",
    "PM = data_string[(data_string['malicious'] == True) & (data_string['packed'] == True)].shape[0]\n",
    "PB = data_string[(data_string['malicious'] == False) & (data_string['packed'] == True)].shape[0]\n",
    "print('Packed Malware: %i samples' % PM)\n",
    "print('Packed Benign: %i samples' % PB)\n",
    "print('Total TRAIN set: %i samples'% (PM+PB))\n",
    "\n",
    "#Xử lý tập train\n",
    "y = data_string['malicious'].values\n",
    "data_string = data_string.drop(['malicious','packed'], axis=1)\n",
    "\n",
    "PM = df_3000_string[(df_3000_string['malicious'] == True) & (df_3000_string['packed'] == True)].shape[0]\n",
    "PB = df_3000_string[(df_3000_string['malicious'] == False) & (df_3000_string['packed'] == True)].shape[0]\n",
    "\n",
    "df_3000_PM_string = df_3000_string[(df_3000_string['malicious'] == True) & (df_3000_string['packed'] == True)].sample(n=(PM-PB), random_state=102)\n",
    "df_3000_string = df_3000_string.drop(df_3000_PM_string.index)\n",
    "\n",
    "PM = df_3000_string[(df_3000_string['malicious'] == True) & (df_3000_string['packed'] == True)].shape[0]\n",
    "PB = df_3000_string[(df_3000_string['malicious'] == False) & (df_3000_string['packed'] == True)].shape[0]\n",
    "\n",
    "print('Packed Malware: %i samples' % PM)\n",
    "print('Packed Benign: %i samples' % PB)\n",
    "print('Total TEST set: %i samples'% (PM+PB))"
   ]
  },
  {
   "cell_type": "code",
   "execution_count": 44,
   "id": "78077e3b",
   "metadata": {
    "execution": {
     "iopub.execute_input": "2024-01-23T12:11:36.465139Z",
     "iopub.status.busy": "2024-01-23T12:11:36.464701Z",
     "iopub.status.idle": "2024-01-23T12:11:36.554933Z",
     "shell.execute_reply": "2024-01-23T12:11:36.553667Z"
    },
    "papermill": {
     "duration": 0.113561,
     "end_time": "2024-01-23T12:11:36.557379",
     "exception": false,
     "start_time": "2024-01-23T12:11:36.443818",
     "status": "completed"
    },
    "tags": []
   },
   "outputs": [],
   "source": [
    "# model = SelectFromModel(fsel, prefit=True)\n",
    "\n",
    "X_train_string = data_string\n",
    "X_test_string = df_3000_string.drop(['malicious','packed'], axis=1)\n",
    "\n",
    "data_string = data_string.loc[:, (data_string != 0).any(axis=0)]\n",
    "x_train_string = data_string\n",
    "X_test_string = df_3000_string.drop(['malicious','packed'], axis=1)\n",
    "y_train_string = y\n",
    "y_test_string = df_3000_string['malicious'].values"
   ]
  },
  {
   "cell_type": "code",
   "execution_count": 45,
   "id": "401453d3",
   "metadata": {
    "execution": {
     "iopub.execute_input": "2024-01-23T12:11:36.597456Z",
     "iopub.status.busy": "2024-01-23T12:11:36.596393Z",
     "iopub.status.idle": "2024-01-23T12:11:50.960756Z",
     "shell.execute_reply": "2024-01-23T12:11:50.959706Z"
    },
    "papermill": {
     "duration": 14.387209,
     "end_time": "2024-01-23T12:11:50.963532",
     "exception": false,
     "start_time": "2024-01-23T12:11:36.576323",
     "status": "completed"
    },
    "tags": []
   },
   "outputs": [
    {
     "name": "stdout",
     "output_type": "stream",
     "text": [
      "The accuracy of the Random Forests model is :\t 0.8549149338374291\n"
     ]
    }
   ],
   "source": [
    "# Random Forest\n",
    "from sklearn.ensemble import RandomForestClassifier\n",
    "from sklearn import metrics\n",
    "\n",
    "random_forest = RandomForestClassifier(n_estimators=100, random_state=17)\n",
    "random_forest.fit(X_train_string, y_train_string)\n",
    "random_forest_preds = random_forest.predict(X_test_string)\n",
    "print('The accuracy of the Random Forests model is :\\t',metrics.accuracy_score(random_forest_preds,y_test_string))"
   ]
  },
  {
   "cell_type": "markdown",
   "id": "df378d84",
   "metadata": {
    "papermill": {
     "duration": 0.019191,
     "end_time": "2024-01-23T12:11:51.007149",
     "exception": false,
     "start_time": "2024-01-23T12:11:50.987958",
     "status": "completed"
    },
    "tags": []
   },
   "source": [
    "# **api features**"
   ]
  },
  {
   "cell_type": "code",
   "execution_count": 46,
   "id": "5fa4b7cc",
   "metadata": {
    "execution": {
     "iopub.execute_input": "2024-01-23T12:11:51.047822Z",
     "iopub.status.busy": "2024-01-23T12:11:51.046596Z",
     "iopub.status.idle": "2024-01-23T12:11:53.115686Z",
     "shell.execute_reply": "2024-01-23T12:11:53.114572Z"
    },
    "papermill": {
     "duration": 2.09194,
     "end_time": "2024-01-23T12:11:53.118279",
     "exception": false,
     "start_time": "2024-01-23T12:11:51.026339",
     "status": "completed"
    },
    "tags": []
   },
   "outputs": [],
   "source": [
    "obsidium = pd.read_pickle('/kaggle/input/packer-balance-pickle/obsidium_balance.pickle')\n",
    "obsidium = obsidium.drop(['sample_sha1','benign','unpacked_sample_sha1','unpacked_sample_id'], axis=1)\n",
    "obsidium = obsidium.drop(['benign_vt','malicious_vt'], axis=1)\n",
    "string_columns = obsidium.select_dtypes(include=['object']).columns\n",
    "obsidium = obsidium.drop(string_columns, axis=1)"
   ]
  },
  {
   "cell_type": "code",
   "execution_count": 47,
   "id": "e546f1b9",
   "metadata": {
    "execution": {
     "iopub.execute_input": "2024-01-23T12:11:53.159252Z",
     "iopub.status.busy": "2024-01-23T12:11:53.158825Z",
     "iopub.status.idle": "2024-01-23T12:11:54.818507Z",
     "shell.execute_reply": "2024-01-23T12:11:54.817133Z"
    },
    "papermill": {
     "duration": 1.682699,
     "end_time": "2024-01-23T12:11:54.821022",
     "exception": false,
     "start_time": "2024-01-23T12:11:53.138323",
     "status": "completed"
    },
    "tags": []
   },
   "outputs": [
    {
     "name": "stdout",
     "output_type": "stream",
     "text": [
      "removing 13000 features\n",
      "removing 2500 features\n",
      "removing 2 features\n",
      "removing 16900 features\n",
      "removing 66 features\n",
      "removing 4306 features\n",
      "removing 550 features\n",
      "removing 29 features\n"
     ]
    }
   ],
   "source": [
    "api = remove_cols(obsidium, [c for c in cols if c.startswith('ngram_')])\n",
    "api = remove_cols(obsidium, [c for c in cols if c.startswith('opcode_')])\n",
    "api = remove_cols(obsidium, [c for c in cols if c.startswith('generic_')])\n",
    "api = remove_cols(obsidium, [c for c in cols if c.startswith('string_')])\n",
    "api = remove_cols(obsidium, [c for c in cols if c.startswith('rich_')])\n",
    "# api = remove_cols(obsidium, [c for c in cols if c.startswith('imp_') or 'api_import_nb' == c])\n",
    "api = remove_cols(obsidium, [c for c in cols if c.endswith('.dll') or 'dll_import_nb' == c])\n",
    "api = remove_cols(obsidium, [c for c in cols if c.startswith('pesection')])\n",
    "api = remove_cols(obsidium, [c for c in cols if c.startswith('header_')])"
   ]
  },
  {
   "cell_type": "code",
   "execution_count": 48,
   "id": "866c3716",
   "metadata": {
    "execution": {
     "iopub.execute_input": "2024-01-23T12:11:54.861789Z",
     "iopub.status.busy": "2024-01-23T12:11:54.861420Z",
     "iopub.status.idle": "2024-01-23T12:11:55.274600Z",
     "shell.execute_reply": "2024-01-23T12:11:55.273338Z"
    },
    "papermill": {
     "duration": 0.436839,
     "end_time": "2024-01-23T12:11:55.277306",
     "exception": false,
     "start_time": "2024-01-23T12:11:54.840467",
     "status": "completed"
    },
    "tags": []
   },
   "outputs": [],
   "source": [
    "df_7000_api = api.sample(n=7000, random_state=102)\n",
    "df_3000_api = api.drop(df_7000.index)\n",
    "data_api = df_7000_api.sample(n=3500, random_state=102)"
   ]
  },
  {
   "cell_type": "code",
   "execution_count": 49,
   "id": "6e02602d",
   "metadata": {
    "execution": {
     "iopub.execute_input": "2024-01-23T12:11:55.318039Z",
     "iopub.status.busy": "2024-01-23T12:11:55.317128Z",
     "iopub.status.idle": "2024-01-23T12:11:55.984070Z",
     "shell.execute_reply": "2024-01-23T12:11:55.982325Z"
    },
    "papermill": {
     "duration": 0.690118,
     "end_time": "2024-01-23T12:11:55.986681",
     "exception": false,
     "start_time": "2024-01-23T12:11:55.296563",
     "status": "completed"
    },
    "tags": []
   },
   "outputs": [
    {
     "name": "stdout",
     "output_type": "stream",
     "text": [
      "Packed Malware: 2306 samples\n",
      "Packed Benign: 1194 samples\n",
      "Total TRAIN set: 3500 samples\n",
      "Packed Malware: 1194 samples\n",
      "Packed Benign: 1194 samples\n",
      "Total TRAIN set: 2388 samples\n",
      "Packed Malware: 1058 samples\n",
      "Packed Benign: 1058 samples\n",
      "Total TEST set: 2116 samples\n"
     ]
    }
   ],
   "source": [
    "#Kiểm tra số lượng mẫu\n",
    "PM = data_api[(data_api['malicious'] == True) & (data_api['packed'] == True)].shape[0]\n",
    "PB = data_api[(data_api['malicious'] == False) & (data_api['packed'] == True)].shape[0]\n",
    "print('Packed Malware: %i samples' % PM)\n",
    "print('Packed Benign: %i samples' % PB)\n",
    "print('Total TRAIN set: %i samples'% (PM+PB))\n",
    "\n",
    "#Chia tỉ lệ 50 - 50\n",
    "data_PM_api = data_api[(data_api['malicious'] == True) & (data_api['packed'] == True)].sample(n=(PM-PB), random_state=102)\n",
    "data_api = data_api.drop(data_PM_api.index)\n",
    "      \n",
    "#Số lượng tập train\n",
    "PM = data_api[(data_api['malicious'] == True) & (data_api['packed'] == True)].shape[0]\n",
    "PB = data_api[(data_api['malicious'] == False) & (data_api['packed'] == True)].shape[0]\n",
    "print('Packed Malware: %i samples' % PM)\n",
    "print('Packed Benign: %i samples' % PB)\n",
    "print('Total TRAIN set: %i samples'% (PM+PB))\n",
    "\n",
    "#Xử lý tập train\n",
    "y = data_api['malicious'].values\n",
    "data_api = data_api.drop(['malicious','packed'], axis=1)\n",
    "\n",
    "PM = df_3000_api[(df_3000_api['malicious'] == True) & (df_3000_api['packed'] == True)].shape[0]\n",
    "PB = df_3000_api[(df_3000_api['malicious'] == False) & (df_3000_api['packed'] == True)].shape[0]\n",
    "\n",
    "df_3000_PM_api = df_3000_api[(df_3000_api['malicious'] == True) & (df_3000_api['packed'] == True)].sample(n=(PM-PB), random_state=102)\n",
    "df_3000_api = df_3000_api.drop(df_3000_PM_api.index)\n",
    "\n",
    "PM = df_3000_api[(df_3000_api['malicious'] == True) & (df_3000_api['packed'] == True)].shape[0]\n",
    "PB = df_3000_api[(df_3000_api['malicious'] == False) & (df_3000_api['packed'] == True)].shape[0]\n",
    "\n",
    "print('Packed Malware: %i samples' % PM)\n",
    "print('Packed Benign: %i samples' % PB)\n",
    "print('Total TEST set: %i samples'% (PM+PB))"
   ]
  },
  {
   "cell_type": "code",
   "execution_count": 50,
   "id": "63ca4ea1",
   "metadata": {
    "execution": {
     "iopub.execute_input": "2024-01-23T12:11:56.029003Z",
     "iopub.status.busy": "2024-01-23T12:11:56.028604Z",
     "iopub.status.idle": "2024-01-23T12:11:56.156022Z",
     "shell.execute_reply": "2024-01-23T12:11:56.154897Z"
    },
    "papermill": {
     "duration": 0.151545,
     "end_time": "2024-01-23T12:11:56.158663",
     "exception": false,
     "start_time": "2024-01-23T12:11:56.007118",
     "status": "completed"
    },
    "tags": []
   },
   "outputs": [],
   "source": [
    "# model = SelectFromModel(fsel, prefit=True)\n",
    "\n",
    "X_train_api = data_api\n",
    "X_test_api = df_3000_api.drop(['malicious','packed'], axis=1)\n",
    "\n",
    "data_api = data_api.loc[:, (data_api != 0).any(axis=0)]\n",
    "x_train_api = data_api\n",
    "X_test_api = df_3000_api.drop(['malicious','packed'], axis=1)\n",
    "y_train_api = y\n",
    "y_test_api = df_3000_api['malicious'].values"
   ]
  },
  {
   "cell_type": "code",
   "execution_count": 51,
   "id": "32231664",
   "metadata": {
    "execution": {
     "iopub.execute_input": "2024-01-23T12:11:56.200066Z",
     "iopub.status.busy": "2024-01-23T12:11:56.199678Z",
     "iopub.status.idle": "2024-01-23T12:12:18.641414Z",
     "shell.execute_reply": "2024-01-23T12:12:18.640169Z"
    },
    "papermill": {
     "duration": 22.465394,
     "end_time": "2024-01-23T12:12:18.643610",
     "exception": false,
     "start_time": "2024-01-23T12:11:56.178216",
     "status": "completed"
    },
    "tags": []
   },
   "outputs": [
    {
     "name": "stdout",
     "output_type": "stream",
     "text": [
      "The accuracy of the Random Forests model is :\t 0.8601134215500945\n"
     ]
    }
   ],
   "source": [
    "# Random Forest\n",
    "from sklearn.ensemble import RandomForestClassifier\n",
    "from sklearn import metrics\n",
    "\n",
    "random_forest = RandomForestClassifier(n_estimators=100, random_state=17)\n",
    "random_forest.fit(X_train_api, y_train_api)\n",
    "random_forest_preds = random_forest.predict(X_test_api)\n",
    "print('The accuracy of the Random Forests model is :\\t',metrics.accuracy_score(random_forest_preds,y_test_api))"
   ]
  },
  {
   "cell_type": "markdown",
   "id": "be1d0b97",
   "metadata": {
    "papermill": {
     "duration": 0.019219,
     "end_time": "2024-01-23T12:12:18.682680",
     "exception": false,
     "start_time": "2024-01-23T12:12:18.663461",
     "status": "completed"
    },
    "tags": []
   },
   "source": [
    "# **dll features**"
   ]
  },
  {
   "cell_type": "code",
   "execution_count": 52,
   "id": "3a2400d7",
   "metadata": {
    "execution": {
     "iopub.execute_input": "2024-01-23T12:12:18.723471Z",
     "iopub.status.busy": "2024-01-23T12:12:18.723044Z",
     "iopub.status.idle": "2024-01-23T12:12:20.738436Z",
     "shell.execute_reply": "2024-01-23T12:12:20.737157Z"
    },
    "papermill": {
     "duration": 2.038852,
     "end_time": "2024-01-23T12:12:20.740928",
     "exception": false,
     "start_time": "2024-01-23T12:12:18.702076",
     "status": "completed"
    },
    "tags": []
   },
   "outputs": [],
   "source": [
    "obsidium = pd.read_pickle('/kaggle/input/packer-balance-pickle/obsidium_balance.pickle')\n",
    "obsidium = obsidium.drop(['sample_sha1','benign','unpacked_sample_sha1','unpacked_sample_id'], axis=1)\n",
    "obsidium = obsidium.drop(['benign_vt','malicious_vt'], axis=1)\n",
    "string_columns = obsidium.select_dtypes(include=['object']).columns\n",
    "obsidium = obsidium.drop(string_columns, axis=1)"
   ]
  },
  {
   "cell_type": "code",
   "execution_count": 53,
   "id": "31b5f547",
   "metadata": {
    "execution": {
     "iopub.execute_input": "2024-01-23T12:12:20.782985Z",
     "iopub.status.busy": "2024-01-23T12:12:20.782605Z",
     "iopub.status.idle": "2024-01-23T12:12:22.188448Z",
     "shell.execute_reply": "2024-01-23T12:12:22.187303Z"
    },
    "papermill": {
     "duration": 1.429857,
     "end_time": "2024-01-23T12:12:22.191037",
     "exception": false,
     "start_time": "2024-01-23T12:12:20.761180",
     "status": "completed"
    },
    "tags": []
   },
   "outputs": [
    {
     "name": "stdout",
     "output_type": "stream",
     "text": [
      "removing 13000 features\n",
      "removing 2500 features\n",
      "removing 2 features\n",
      "removing 16900 features\n",
      "removing 66 features\n",
      "removing 19169 features\n",
      "removing 550 features\n",
      "removing 29 features\n"
     ]
    }
   ],
   "source": [
    "dll = remove_cols(obsidium, [c for c in cols if c.startswith('ngram_')])\n",
    "dll = remove_cols(obsidium, [c for c in cols if c.startswith('opcode_')])\n",
    "dll = remove_cols(obsidium, [c for c in cols if c.startswith('generic_')])\n",
    "dll = remove_cols(obsidium, [c for c in cols if c.startswith('string_')])\n",
    "dll = remove_cols(obsidium, [c for c in cols if c.startswith('rich_')])\n",
    "dll = remove_cols(obsidium, [c for c in cols if c.startswith('imp_') or 'api_import_nb' == c])\n",
    "# api = remove_cols(obsidium, [c for c in cols if c.endswith('.dll') or 'dll_import_nb' == c])\n",
    "dll = remove_cols(obsidium, [c for c in cols if c.startswith('pesection')])\n",
    "dll = remove_cols(obsidium, [c for c in cols if c.startswith('header_')])"
   ]
  },
  {
   "cell_type": "code",
   "execution_count": 54,
   "id": "40c978bb",
   "metadata": {
    "execution": {
     "iopub.execute_input": "2024-01-23T12:12:22.232805Z",
     "iopub.status.busy": "2024-01-23T12:12:22.232412Z",
     "iopub.status.idle": "2024-01-23T12:12:22.330430Z",
     "shell.execute_reply": "2024-01-23T12:12:22.329491Z"
    },
    "papermill": {
     "duration": 0.121793,
     "end_time": "2024-01-23T12:12:22.332884",
     "exception": false,
     "start_time": "2024-01-23T12:12:22.211091",
     "status": "completed"
    },
    "tags": []
   },
   "outputs": [],
   "source": [
    "df_7000_dll = dll.sample(n=7000, random_state=102)\n",
    "df_3000_dll = dll.drop(df_7000.index)\n",
    "data_dll = df_7000_dll.sample(n=3500, random_state=102)"
   ]
  },
  {
   "cell_type": "code",
   "execution_count": 55,
   "id": "6d98cdba",
   "metadata": {
    "execution": {
     "iopub.execute_input": "2024-01-23T12:12:22.375271Z",
     "iopub.status.busy": "2024-01-23T12:12:22.374607Z",
     "iopub.status.idle": "2024-01-23T12:12:22.567833Z",
     "shell.execute_reply": "2024-01-23T12:12:22.566312Z"
    },
    "papermill": {
     "duration": 0.217145,
     "end_time": "2024-01-23T12:12:22.570218",
     "exception": false,
     "start_time": "2024-01-23T12:12:22.353073",
     "status": "completed"
    },
    "tags": []
   },
   "outputs": [
    {
     "name": "stdout",
     "output_type": "stream",
     "text": [
      "Packed Malware: 2306 samples\n",
      "Packed Benign: 1194 samples\n",
      "Total TRAIN set: 3500 samples\n",
      "Packed Malware: 1194 samples\n",
      "Packed Benign: 1194 samples\n",
      "Total TRAIN set: 2388 samples\n",
      "Packed Malware: 1058 samples\n",
      "Packed Benign: 1058 samples\n",
      "Total TEST set: 2116 samples\n"
     ]
    }
   ],
   "source": [
    "#Kiểm tra số lượng mẫu\n",
    "PM = data_dll[(data_dll['malicious'] == True) & (data_dll['packed'] == True)].shape[0]\n",
    "PB = data_dll[(data_dll['malicious'] == False) & (data_dll['packed'] == True)].shape[0]\n",
    "print('Packed Malware: %i samples' % PM)\n",
    "print('Packed Benign: %i samples' % PB)\n",
    "print('Total TRAIN set: %i samples'% (PM+PB))\n",
    "\n",
    "#Chia tỉ lệ 50 - 50\n",
    "data_PM_dll = data_dll[(data_dll['malicious'] == True) & (data_dll['packed'] == True)].sample(n=(PM-PB), random_state=102)\n",
    "data_dll = data_dll.drop(data_PM_dll.index)\n",
    "      \n",
    "#Số lượng tập train\n",
    "PM = data_dll[(data_dll['malicious'] == True) & (data_dll['packed'] == True)].shape[0]\n",
    "PB = data_dll[(data_dll['malicious'] == False) & (data_dll['packed'] == True)].shape[0]\n",
    "print('Packed Malware: %i samples' % PM)\n",
    "print('Packed Benign: %i samples' % PB)\n",
    "print('Total TRAIN set: %i samples'% (PM+PB))\n",
    "\n",
    "#Xử lý tập train\n",
    "y = data_dll['malicious'].values\n",
    "data_dll = data_dll.drop(['malicious','packed'], axis=1)\n",
    "\n",
    "PM = df_3000_dll[(df_3000_dll['malicious'] == True) & (df_3000_dll['packed'] == True)].shape[0]\n",
    "PB = df_3000_dll[(df_3000_dll['malicious'] == False) & (df_3000_dll['packed'] == True)].shape[0]\n",
    "\n",
    "df_3000_PM_dll = df_3000_dll[(df_3000_dll['malicious'] == True) & (df_3000_dll['packed'] == True)].sample(n=(PM-PB), random_state=102)\n",
    "df_3000_dll = df_3000_dll.drop(df_3000_PM_dll.index)\n",
    "\n",
    "PM = df_3000_dll[(df_3000_dll['malicious'] == True) & (df_3000_dll['packed'] == True)].shape[0]\n",
    "PB = df_3000_dll[(df_3000_dll['malicious'] == False) & (df_3000_dll['packed'] == True)].shape[0]\n",
    "\n",
    "print('Packed Malware: %i samples' % PM)\n",
    "print('Packed Benign: %i samples' % PB)\n",
    "print('Total TEST set: %i samples'% (PM+PB))"
   ]
  },
  {
   "cell_type": "code",
   "execution_count": 56,
   "id": "5e886949",
   "metadata": {
    "execution": {
     "iopub.execute_input": "2024-01-23T12:12:22.612686Z",
     "iopub.status.busy": "2024-01-23T12:12:22.611957Z",
     "iopub.status.idle": "2024-01-23T12:12:22.656033Z",
     "shell.execute_reply": "2024-01-23T12:12:22.655236Z"
    },
    "papermill": {
     "duration": 0.067996,
     "end_time": "2024-01-23T12:12:22.658412",
     "exception": false,
     "start_time": "2024-01-23T12:12:22.590416",
     "status": "completed"
    },
    "tags": []
   },
   "outputs": [],
   "source": [
    "# model = SelectFromModel(fsel, prefit=True)\n",
    "\n",
    "X_train_dll = data_dll\n",
    "X_test_dll = df_3000_dll.drop(['malicious','packed'], axis=1)\n",
    "\n",
    "data_dll = data_dll.loc[:, (data_dll != 0).any(axis=0)]\n",
    "x_train_dll = data_dll\n",
    "X_test_dll = df_3000_dll.drop(['malicious','packed'], axis=1)\n",
    "y_train_dll = y\n",
    "y_test_dll = df_3000_dll['malicious'].values"
   ]
  },
  {
   "cell_type": "code",
   "execution_count": 57,
   "id": "7cbb5a2d",
   "metadata": {
    "execution": {
     "iopub.execute_input": "2024-01-23T12:12:22.700381Z",
     "iopub.status.busy": "2024-01-23T12:12:22.699464Z",
     "iopub.status.idle": "2024-01-23T12:12:25.131011Z",
     "shell.execute_reply": "2024-01-23T12:12:25.129619Z"
    },
    "papermill": {
     "duration": 2.454932,
     "end_time": "2024-01-23T12:12:25.133291",
     "exception": false,
     "start_time": "2024-01-23T12:12:22.678359",
     "status": "completed"
    },
    "tags": []
   },
   "outputs": [
    {
     "name": "stdout",
     "output_type": "stream",
     "text": [
      "The accuracy of the Random Forests model is :\t 0.6838374291115312\n"
     ]
    }
   ],
   "source": [
    "# Random Forest\n",
    "from sklearn.ensemble import RandomForestClassifier\n",
    "from sklearn import metrics\n",
    "\n",
    "random_forest = RandomForestClassifier(n_estimators=100, random_state=17)\n",
    "random_forest.fit(X_train_dll, y_train_dll)\n",
    "random_forest_preds = random_forest.predict(X_test_dll)\n",
    "print('The accuracy of the Random Forests model is :\\t',metrics.accuracy_score(random_forest_preds,y_test_dll))"
   ]
  },
  {
   "cell_type": "markdown",
   "id": "76701632",
   "metadata": {
    "papermill": {
     "duration": 0.019738,
     "end_time": "2024-01-23T12:12:25.173204",
     "exception": false,
     "start_time": "2024-01-23T12:12:25.153466",
     "status": "completed"
    },
    "tags": []
   },
   "source": [
    "# **pe sections features**"
   ]
  },
  {
   "cell_type": "code",
   "execution_count": 58,
   "id": "0cac6786",
   "metadata": {
    "execution": {
     "iopub.execute_input": "2024-01-23T12:12:25.216064Z",
     "iopub.status.busy": "2024-01-23T12:12:25.215321Z",
     "iopub.status.idle": "2024-01-23T12:12:26.975517Z",
     "shell.execute_reply": "2024-01-23T12:12:26.974472Z"
    },
    "papermill": {
     "duration": 1.784608,
     "end_time": "2024-01-23T12:12:26.978136",
     "exception": false,
     "start_time": "2024-01-23T12:12:25.193528",
     "status": "completed"
    },
    "tags": []
   },
   "outputs": [],
   "source": [
    "obsidium = pd.read_pickle('/kaggle/input/packer-balance-pickle/obsidium_balance.pickle')\n",
    "obsidium = obsidium.drop(['sample_sha1','benign','unpacked_sample_sha1','unpacked_sample_id'], axis=1)\n",
    "obsidium = obsidium.drop(['benign_vt','malicious_vt'], axis=1)\n",
    "string_columns = obsidium.select_dtypes(include=['object']).columns\n",
    "obsidium = obsidium.drop(string_columns, axis=1)"
   ]
  },
  {
   "cell_type": "code",
   "execution_count": 59,
   "id": "2d39949d",
   "metadata": {
    "execution": {
     "iopub.execute_input": "2024-01-23T12:12:27.020196Z",
     "iopub.status.busy": "2024-01-23T12:12:27.019772Z",
     "iopub.status.idle": "2024-01-23T12:12:28.261687Z",
     "shell.execute_reply": "2024-01-23T12:12:28.260354Z"
    },
    "papermill": {
     "duration": 1.26596,
     "end_time": "2024-01-23T12:12:28.264082",
     "exception": false,
     "start_time": "2024-01-23T12:12:26.998122",
     "status": "completed"
    },
    "tags": []
   },
   "outputs": [
    {
     "name": "stdout",
     "output_type": "stream",
     "text": [
      "removing 13000 features\n",
      "removing 2500 features\n",
      "removing 2 features\n",
      "removing 16900 features\n",
      "removing 66 features\n",
      "removing 19169 features\n",
      "removing 4306 features\n",
      "removing 29 features\n"
     ]
    }
   ],
   "source": [
    "pesection = remove_cols(obsidium, [c for c in cols if c.startswith('ngram_')])\n",
    "pesection = remove_cols(obsidium, [c for c in cols if c.startswith('opcode_')])\n",
    "pesection = remove_cols(obsidium, [c for c in cols if c.startswith('generic_')])\n",
    "pesection = remove_cols(obsidium, [c for c in cols if c.startswith('string_')])\n",
    "pesection = remove_cols(obsidium, [c for c in cols if c.startswith('rich_')])\n",
    "pesection = remove_cols(obsidium, [c for c in cols if c.startswith('imp_') or 'api_import_nb' == c])\n",
    "pesection = remove_cols(obsidium, [c for c in cols if c.endswith('.dll') or 'dll_import_nb' == c])\n",
    "# pesection = remove_cols(obsidium, [c for c in cols if c.startswith('pesection')])\n",
    "pesection = remove_cols(obsidium, [c for c in cols if c.startswith('header_')])"
   ]
  },
  {
   "cell_type": "code",
   "execution_count": 60,
   "id": "8eda76c1",
   "metadata": {
    "execution": {
     "iopub.execute_input": "2024-01-23T12:12:28.306986Z",
     "iopub.status.busy": "2024-01-23T12:12:28.306582Z",
     "iopub.status.idle": "2024-01-23T12:12:28.356204Z",
     "shell.execute_reply": "2024-01-23T12:12:28.355117Z"
    },
    "papermill": {
     "duration": 0.074073,
     "end_time": "2024-01-23T12:12:28.358751",
     "exception": false,
     "start_time": "2024-01-23T12:12:28.284678",
     "status": "completed"
    },
    "tags": []
   },
   "outputs": [],
   "source": [
    "df_7000_pesection = pesection.sample(n=7000, random_state=102)\n",
    "df_3000_pesection = pesection.drop(df_7000.index)\n",
    "data_pesection = df_7000_pesection.sample(n=3500, random_state=102)"
   ]
  },
  {
   "cell_type": "code",
   "execution_count": 61,
   "id": "02f1a3d0",
   "metadata": {
    "execution": {
     "iopub.execute_input": "2024-01-23T12:12:28.402998Z",
     "iopub.status.busy": "2024-01-23T12:12:28.402142Z",
     "iopub.status.idle": "2024-01-23T12:12:28.527431Z",
     "shell.execute_reply": "2024-01-23T12:12:28.526027Z"
    },
    "papermill": {
     "duration": 0.150122,
     "end_time": "2024-01-23T12:12:28.529878",
     "exception": false,
     "start_time": "2024-01-23T12:12:28.379756",
     "status": "completed"
    },
    "tags": []
   },
   "outputs": [
    {
     "name": "stdout",
     "output_type": "stream",
     "text": [
      "Packed Malware: 2306 samples\n",
      "Packed Benign: 1194 samples\n",
      "Total TRAIN set: 3500 samples\n",
      "Packed Malware: 1194 samples\n",
      "Packed Benign: 1194 samples\n",
      "Total TRAIN set: 2388 samples\n",
      "Packed Malware: 1058 samples\n",
      "Packed Benign: 1058 samples\n",
      "Total TEST set: 2116 samples\n"
     ]
    }
   ],
   "source": [
    "#Kiểm tra số lượng mẫu\n",
    "PM = data_pesection[(data_pesection['malicious'] == True) & (data_pesection['packed'] == True)].shape[0]\n",
    "PB = data_pesection[(data_pesection['malicious'] == False) & (data_pesection['packed'] == True)].shape[0]\n",
    "print('Packed Malware: %i samples' % PM)\n",
    "print('Packed Benign: %i samples' % PB)\n",
    "print('Total TRAIN set: %i samples'% (PM+PB))\n",
    "\n",
    "#Chia tỉ lệ 50 - 50\n",
    "data_PM_pesection = data_pesection[(data_pesection['malicious'] == True) & (data_pesection['packed'] == True)].sample(n=(PM-PB), random_state=102)\n",
    "data_pesection = data_pesection.drop(data_PM_pesection.index)\n",
    "      \n",
    "#Số lượng tập train\n",
    "PM = data_pesection[(data_pesection['malicious'] == True) & (data_pesection['packed'] == True)].shape[0]\n",
    "PB = data_pesection[(data_pesection['malicious'] == False) & (data_pesection['packed'] == True)].shape[0]\n",
    "print('Packed Malware: %i samples' % PM)\n",
    "print('Packed Benign: %i samples' % PB)\n",
    "print('Total TRAIN set: %i samples'% (PM+PB))\n",
    "\n",
    "#Xử lý tập train\n",
    "y = data_pesection['malicious'].values\n",
    "data_pesection = data_pesection.drop(['malicious','packed'], axis=1)\n",
    "\n",
    "PM = df_3000_pesection[(df_3000_pesection['malicious'] == True) & (df_3000_pesection['packed'] == True)].shape[0]\n",
    "PB = df_3000_pesection[(df_3000_pesection['malicious'] == False) & (df_3000_pesection['packed'] == True)].shape[0]\n",
    "\n",
    "df_3000_PM_pesection = df_3000_pesection[(df_3000_pesection['malicious'] == True) & (df_3000_pesection['packed'] == True)].sample(n=(PM-PB), random_state=102)\n",
    "df_3000_pesection = df_3000_pesection.drop(df_3000_PM_pesection.index)\n",
    "\n",
    "PM = df_3000_pesection[(df_3000_pesection['malicious'] == True) & (df_3000_pesection['packed'] == True)].shape[0]\n",
    "PB = df_3000_pesection[(df_3000_pesection['malicious'] == False) & (df_3000_pesection['packed'] == True)].shape[0]\n",
    "\n",
    "print('Packed Malware: %i samples' % PM)\n",
    "print('Packed Benign: %i samples' % PB)\n",
    "print('Total TEST set: %i samples'% (PM+PB))"
   ]
  },
  {
   "cell_type": "code",
   "execution_count": 62,
   "id": "cf6e751e",
   "metadata": {
    "execution": {
     "iopub.execute_input": "2024-01-23T12:12:28.573474Z",
     "iopub.status.busy": "2024-01-23T12:12:28.572683Z",
     "iopub.status.idle": "2024-01-23T12:12:28.604304Z",
     "shell.execute_reply": "2024-01-23T12:12:28.603306Z"
    },
    "papermill": {
     "duration": 0.056234,
     "end_time": "2024-01-23T12:12:28.606837",
     "exception": false,
     "start_time": "2024-01-23T12:12:28.550603",
     "status": "completed"
    },
    "tags": []
   },
   "outputs": [],
   "source": [
    "# model = SelectFromModel(fsel, prefit=True)\n",
    "\n",
    "X_train_pesection = data_pesection\n",
    "X_test_pesection = df_3000_pesection.drop(['malicious','packed'], axis=1)\n",
    "\n",
    "data_pesection = data_pesection.loc[:, (data_pesection != 0).any(axis=0)]\n",
    "x_train_pesection = data_pesection\n",
    "X_test_pesection = df_3000_pesection.drop(['malicious','packed'], axis=1)\n",
    "y_train_pesection = y\n",
    "y_test_pesection = df_3000_pesection['malicious'].values"
   ]
  },
  {
   "cell_type": "code",
   "execution_count": 63,
   "id": "53f63afe",
   "metadata": {
    "execution": {
     "iopub.execute_input": "2024-01-23T12:12:28.650090Z",
     "iopub.status.busy": "2024-01-23T12:12:28.649704Z",
     "iopub.status.idle": "2024-01-23T12:12:29.372457Z",
     "shell.execute_reply": "2024-01-23T12:12:29.371129Z"
    },
    "papermill": {
     "duration": 0.747117,
     "end_time": "2024-01-23T12:12:29.374872",
     "exception": false,
     "start_time": "2024-01-23T12:12:28.627755",
     "status": "completed"
    },
    "tags": []
   },
   "outputs": [
    {
     "name": "stdout",
     "output_type": "stream",
     "text": [
      "The accuracy of the Random Forests model is :\t 0.8865784499054821\n"
     ]
    }
   ],
   "source": [
    "# Random Forest\n",
    "from sklearn.ensemble import RandomForestClassifier\n",
    "from sklearn import metrics\n",
    "\n",
    "random_forest = RandomForestClassifier(n_estimators=100, random_state=17)\n",
    "random_forest.fit(X_train_pesection, y_train_pesection)\n",
    "random_forest_preds = random_forest.predict(X_test_pesection)\n",
    "print('The accuracy of the Random Forests model is :\\t',metrics.accuracy_score(random_forest_preds,y_test_pesection))"
   ]
  },
  {
   "cell_type": "markdown",
   "id": "f6120a33",
   "metadata": {
    "papermill": {
     "duration": 0.020364,
     "end_time": "2024-01-23T12:12:29.415865",
     "exception": false,
     "start_time": "2024-01-23T12:12:29.395501",
     "status": "completed"
    },
    "tags": []
   },
   "source": [
    "# **pe header features**"
   ]
  },
  {
   "cell_type": "code",
   "execution_count": 64,
   "id": "bcf8cbc2",
   "metadata": {
    "execution": {
     "iopub.execute_input": "2024-01-23T12:12:29.459045Z",
     "iopub.status.busy": "2024-01-23T12:12:29.458250Z",
     "iopub.status.idle": "2024-01-23T12:12:31.334925Z",
     "shell.execute_reply": "2024-01-23T12:12:31.333931Z"
    },
    "papermill": {
     "duration": 1.900968,
     "end_time": "2024-01-23T12:12:31.337508",
     "exception": false,
     "start_time": "2024-01-23T12:12:29.436540",
     "status": "completed"
    },
    "tags": []
   },
   "outputs": [],
   "source": [
    "obsidium = pd.read_pickle('/kaggle/input/packer-balance-pickle/obsidium_balance.pickle')\n",
    "obsidium = obsidium.drop(['sample_sha1','benign','unpacked_sample_sha1','unpacked_sample_id'], axis=1)\n",
    "obsidium = obsidium.drop(['benign_vt','malicious_vt'], axis=1)\n",
    "string_columns = obsidium.select_dtypes(include=['object']).columns\n",
    "obsidium = obsidium.drop(string_columns, axis=1)"
   ]
  },
  {
   "cell_type": "code",
   "execution_count": 65,
   "id": "6e2a7a47",
   "metadata": {
    "execution": {
     "iopub.execute_input": "2024-01-23T12:12:31.381919Z",
     "iopub.status.busy": "2024-01-23T12:12:31.381399Z",
     "iopub.status.idle": "2024-01-23T12:12:32.683611Z",
     "shell.execute_reply": "2024-01-23T12:12:32.682551Z"
    },
    "papermill": {
     "duration": 1.32729,
     "end_time": "2024-01-23T12:12:32.685702",
     "exception": false,
     "start_time": "2024-01-23T12:12:31.358412",
     "status": "completed"
    },
    "tags": []
   },
   "outputs": [
    {
     "name": "stdout",
     "output_type": "stream",
     "text": [
      "removing 13000 features\n",
      "removing 2500 features\n",
      "removing 2 features\n",
      "removing 16900 features\n",
      "removing 66 features\n",
      "removing 19169 features\n",
      "removing 4306 features\n",
      "removing 550 features\n"
     ]
    }
   ],
   "source": [
    "header = remove_cols(obsidium, [c for c in cols if c.startswith('ngram_')])\n",
    "header = remove_cols(obsidium, [c for c in cols if c.startswith('opcode_')])\n",
    "header = remove_cols(obsidium, [c for c in cols if c.startswith('generic_')])\n",
    "header = remove_cols(obsidium, [c for c in cols if c.startswith('string_')])\n",
    "header = remove_cols(obsidium, [c for c in cols if c.startswith('rich_')])\n",
    "header = remove_cols(obsidium, [c for c in cols if c.startswith('imp_') or 'api_import_nb' == c])\n",
    "header = remove_cols(obsidium, [c for c in cols if c.endswith('.dll') or 'dll_import_nb' == c])\n",
    "header = remove_cols(obsidium, [c for c in cols if c.startswith('pesection')])\n",
    "# header = remove_cols(obsidium, [c for c in cols if c.startswith('header_')])"
   ]
  },
  {
   "cell_type": "code",
   "execution_count": 66,
   "id": "5ddc9086",
   "metadata": {
    "execution": {
     "iopub.execute_input": "2024-01-23T12:12:32.728668Z",
     "iopub.status.busy": "2024-01-23T12:12:32.728249Z",
     "iopub.status.idle": "2024-01-23T12:12:32.741916Z",
     "shell.execute_reply": "2024-01-23T12:12:32.740901Z"
    },
    "papermill": {
     "duration": 0.038007,
     "end_time": "2024-01-23T12:12:32.744329",
     "exception": false,
     "start_time": "2024-01-23T12:12:32.706322",
     "status": "completed"
    },
    "tags": []
   },
   "outputs": [],
   "source": [
    "df_7000_header = header.sample(n=7000, random_state=102)\n",
    "df_3000_header = header.drop(df_7000.index)\n",
    "data_header = df_7000_header.sample(n=3500, random_state=102)"
   ]
  },
  {
   "cell_type": "code",
   "execution_count": 67,
   "id": "eb433fcd",
   "metadata": {
    "execution": {
     "iopub.execute_input": "2024-01-23T12:12:32.788960Z",
     "iopub.status.busy": "2024-01-23T12:12:32.788543Z",
     "iopub.status.idle": "2024-01-23T12:12:32.822220Z",
     "shell.execute_reply": "2024-01-23T12:12:32.821010Z"
    },
    "papermill": {
     "duration": 0.058988,
     "end_time": "2024-01-23T12:12:32.824710",
     "exception": false,
     "start_time": "2024-01-23T12:12:32.765722",
     "status": "completed"
    },
    "tags": []
   },
   "outputs": [
    {
     "name": "stdout",
     "output_type": "stream",
     "text": [
      "Packed Malware: 2306 samples\n",
      "Packed Benign: 1194 samples\n",
      "Total TRAIN set: 3500 samples\n",
      "Packed Malware: 1194 samples\n",
      "Packed Benign: 1194 samples\n",
      "Total TRAIN set: 2388 samples\n",
      "Packed Malware: 1058 samples\n",
      "Packed Benign: 1058 samples\n",
      "Total TEST set: 2116 samples\n"
     ]
    }
   ],
   "source": [
    "#Kiểm tra số lượng mẫu\n",
    "PM = data_header[(data_header['malicious'] == True) & (data_header['packed'] == True)].shape[0]\n",
    "PB = data_header[(data_header['malicious'] == False) & (data_header['packed'] == True)].shape[0]\n",
    "print('Packed Malware: %i samples' % PM)\n",
    "print('Packed Benign: %i samples' % PB)\n",
    "print('Total TRAIN set: %i samples'% (PM+PB))\n",
    "\n",
    "#Chia tỉ lệ 50 - 50\n",
    "data_PM_header = data_header[(data_header['malicious'] == True) & (data_header['packed'] == True)].sample(n=(PM-PB), random_state=102)\n",
    "data_header = data_header.drop(data_PM_header.index)\n",
    "      \n",
    "#Số lượng tập train\n",
    "PM = data_header[(data_header['malicious'] == True) & (data_header['packed'] == True)].shape[0]\n",
    "PB = data_header[(data_header['malicious'] == False) & (data_header['packed'] == True)].shape[0]\n",
    "print('Packed Malware: %i samples' % PM)\n",
    "print('Packed Benign: %i samples' % PB)\n",
    "print('Total TRAIN set: %i samples'% (PM+PB))\n",
    "\n",
    "#Xử lý tập train\n",
    "y = data_header['malicious'].values\n",
    "data_header= data_header.drop(['malicious','packed'], axis=1)\n",
    "\n",
    "PM = df_3000_header[(df_3000_header['malicious'] == True) & (df_3000_header['packed'] == True)].shape[0]\n",
    "PB = df_3000_header[(df_3000_header['malicious'] == False) & (df_3000_header['packed'] == True)].shape[0]\n",
    "\n",
    "df_3000_PM_header = df_3000_header[(df_3000_header['malicious'] == True) & (df_3000_header['packed'] == True)].sample(n=(PM-PB), random_state=102)\n",
    "df_3000_header= df_3000_header.drop(df_3000_PM_header.index)\n",
    "\n",
    "PM = df_3000_header[(df_3000_header['malicious'] == True) & (df_3000_header['packed'] == True)].shape[0]\n",
    "PB = df_3000_header[(df_3000_header['malicious'] == False) & (df_3000_header['packed'] == True)].shape[0]\n",
    "\n",
    "print('Packed Malware: %i samples' % PM)\n",
    "print('Packed Benign: %i samples' % PB)\n",
    "print('Total TEST set: %i samples'% (PM+PB))"
   ]
  },
  {
   "cell_type": "code",
   "execution_count": 68,
   "id": "3af487de",
   "metadata": {
    "execution": {
     "iopub.execute_input": "2024-01-23T12:12:32.870002Z",
     "iopub.status.busy": "2024-01-23T12:12:32.869130Z",
     "iopub.status.idle": "2024-01-23T12:12:32.880615Z",
     "shell.execute_reply": "2024-01-23T12:12:32.879621Z"
    },
    "papermill": {
     "duration": 0.037333,
     "end_time": "2024-01-23T12:12:32.883225",
     "exception": false,
     "start_time": "2024-01-23T12:12:32.845892",
     "status": "completed"
    },
    "tags": []
   },
   "outputs": [],
   "source": [
    "# model = SelectFromModel(fsel, prefit=True)\n",
    "\n",
    "X_train_header = data_header\n",
    "X_test_header = df_3000_header.drop(['malicious','packed'], axis=1)\n",
    "\n",
    "data_header = data_header.loc[:, (data_header != 0).any(axis=0)]\n",
    "x_train_header = data_header\n",
    "X_test_header = df_3000_header.drop(['malicious','packed'], axis=1)\n",
    "y_train_header = y\n",
    "y_test_header = df_3000_header['malicious'].values"
   ]
  },
  {
   "cell_type": "code",
   "execution_count": 69,
   "id": "1c2ded8f",
   "metadata": {
    "execution": {
     "iopub.execute_input": "2024-01-23T12:12:32.927857Z",
     "iopub.status.busy": "2024-01-23T12:12:32.927445Z",
     "iopub.status.idle": "2024-01-23T12:12:33.347565Z",
     "shell.execute_reply": "2024-01-23T12:12:33.346431Z"
    },
    "papermill": {
     "duration": 0.445606,
     "end_time": "2024-01-23T12:12:33.350293",
     "exception": false,
     "start_time": "2024-01-23T12:12:32.904687",
     "status": "completed"
    },
    "tags": []
   },
   "outputs": [
    {
     "name": "stdout",
     "output_type": "stream",
     "text": [
      "The accuracy of the Random Forests model is :\t 0.8898865784499055\n"
     ]
    }
   ],
   "source": [
    "# Random Forest\n",
    "from sklearn.ensemble import RandomForestClassifier\n",
    "from sklearn import metrics\n",
    "\n",
    "random_forest = RandomForestClassifier(n_estimators=100, random_state=17)\n",
    "random_forest.fit(X_train_header, y_train_header)\n",
    "random_forest_preds = random_forest.predict(X_test_header)\n",
    "print('The accuracy of the Random Forests model is :\\t',metrics.accuracy_score(random_forest_preds,y_test_header))"
   ]
  }
 ],
 "metadata": {
  "kaggle": {
   "accelerator": "none",
   "dataSources": [
    {
     "datasetId": 4192384,
     "sourceId": 7262652,
     "sourceType": "datasetVersion"
    }
   ],
   "dockerImageVersionId": 30626,
   "isGpuEnabled": false,
   "isInternetEnabled": true,
   "language": "python",
   "sourceType": "notebook"
  },
  "kernelspec": {
   "display_name": "Python 3",
   "language": "python",
   "name": "python3"
  },
  "language_info": {
   "codemirror_mode": {
    "name": "ipython",
    "version": 3
   },
   "file_extension": ".py",
   "mimetype": "text/x-python",
   "name": "python",
   "nbconvert_exporter": "python",
   "pygments_lexer": "ipython3",
   "version": "3.10.12"
  },
  "papermill": {
   "default_parameters": {},
   "duration": 108.723774,
   "end_time": "2024-01-23T12:12:34.093398",
   "environment_variables": {},
   "exception": null,
   "input_path": "__notebook__.ipynb",
   "output_path": "__notebook__.ipynb",
   "parameters": {},
   "start_time": "2024-01-23T12:10:45.369624",
   "version": "2.4.0"
  }
 },
 "nbformat": 4,
 "nbformat_minor": 5
}
