{
 "cells": [
  {
   "cell_type": "code",
   "execution_count": 1,
   "id": "6723020b",
   "metadata": {
    "execution": {
     "iopub.execute_input": "2024-01-23T12:10:40.193971Z",
     "iopub.status.busy": "2024-01-23T12:10:40.193414Z",
     "iopub.status.idle": "2024-01-23T12:10:42.296773Z",
     "shell.execute_reply": "2024-01-23T12:10:42.295641Z"
    },
    "papermill": {
     "duration": 2.121135,
     "end_time": "2024-01-23T12:10:42.299418",
     "exception": false,
     "start_time": "2024-01-23T12:10:40.178283",
     "status": "completed"
    },
    "tags": []
   },
   "outputs": [
    {
     "name": "stderr",
     "output_type": "stream",
     "text": [
      "/opt/conda/lib/python3.10/site-packages/scipy/__init__.py:146: UserWarning: A NumPy version >=1.16.5 and <1.23.0 is required for this version of SciPy (detected version 1.23.5\n",
      "  warnings.warn(f\"A NumPy version >={np_minversion} and <{np_maxversion}\"\n"
     ]
    }
   ],
   "source": [
    "import pandas as pd\n",
    "import numpy as np\n",
    "import sklearn\n",
    "import sklearn.naive_bayes\n",
    "import sklearn.ensemble as ske\n",
    "import sklearn.neighbors\n",
    "import sklearn.pipeline\n",
    "import sklearn.linear_model\n",
    "import joblib\n",
    "from sklearn import preprocessing\n",
    "from sklearn import tree, linear_model\n",
    "from sklearn.metrics import confusion_matrix\n",
    "from sklearn.metrics import classification_report\n",
    "from sklearn.model_selection import train_test_split\n",
    "from sklearn.feature_selection import SelectFromModel, SelectKBest, mutual_info_classif\n",
    "\n",
    "import sys\n",
    "import sqlite3\n",
    "import importlib\n",
    "import matplotlib.pyplot as plt\n",
    "import seaborn as sn\n",
    "from sklearn import metrics"
   ]
  },
  {
   "cell_type": "code",
   "execution_count": 2,
   "id": "f0d7ecce",
   "metadata": {
    "execution": {
     "iopub.execute_input": "2024-01-23T12:10:42.322680Z",
     "iopub.status.busy": "2024-01-23T12:10:42.322251Z",
     "iopub.status.idle": "2024-01-23T12:10:51.361129Z",
     "shell.execute_reply": "2024-01-23T12:10:51.359987Z"
    },
    "papermill": {
     "duration": 9.053512,
     "end_time": "2024-01-23T12:10:51.363758",
     "exception": false,
     "start_time": "2024-01-23T12:10:42.310246",
     "status": "completed"
    },
    "tags": []
   },
   "outputs": [
    {
     "name": "stderr",
     "output_type": "stream",
     "text": [
      "/opt/conda/lib/python3.10/site-packages/tensorflow_io/python/ops/__init__.py:98: UserWarning: unable to load libtensorflow_io_plugins.so: unable to open file: libtensorflow_io_plugins.so, from paths: ['/opt/conda/lib/python3.10/site-packages/tensorflow_io/python/ops/libtensorflow_io_plugins.so']\n",
      "caused by: ['/opt/conda/lib/python3.10/site-packages/tensorflow_io/python/ops/libtensorflow_io_plugins.so: undefined symbol: _ZN3tsl6StatusC1EN10tensorflow5error4CodeESt17basic_string_viewIcSt11char_traitsIcEENS_14SourceLocationE']\n",
      "  warnings.warn(f\"unable to load libtensorflow_io_plugins.so: {e}\")\n",
      "/opt/conda/lib/python3.10/site-packages/tensorflow_io/python/ops/__init__.py:104: UserWarning: file system plugins are not loaded: unable to open file: libtensorflow_io.so, from paths: ['/opt/conda/lib/python3.10/site-packages/tensorflow_io/python/ops/libtensorflow_io.so']\n",
      "caused by: ['/opt/conda/lib/python3.10/site-packages/tensorflow_io/python/ops/libtensorflow_io.so: undefined symbol: _ZTVN10tensorflow13GcsFileSystemE']\n",
      "  warnings.warn(f\"file system plugins are not loaded: {e}\")\n"
     ]
    }
   ],
   "source": [
    "import tensorflow as tf\n",
    "from tensorflow import keras\n",
    "from keras.layers import Embedding, Conv1D, MaxPooling1D, Dense, Activation, Flatten, Input, Multiply, Dropout, GlobalMaxPooling1D, GlobalAveragePooling1D, AveragePooling1D\n",
    "from keras.models import Sequential, Model #for keras sequential model\n",
    "from keras import optimizers"
   ]
  },
  {
   "cell_type": "code",
   "execution_count": 3,
   "id": "20f66730",
   "metadata": {
    "execution": {
     "iopub.execute_input": "2024-01-23T12:10:51.388329Z",
     "iopub.status.busy": "2024-01-23T12:10:51.386962Z",
     "iopub.status.idle": "2024-01-23T12:11:15.524988Z",
     "shell.execute_reply": "2024-01-23T12:11:15.523552Z"
    },
    "papermill": {
     "duration": 24.15269,
     "end_time": "2024-01-23T12:11:15.527793",
     "exception": false,
     "start_time": "2024-01-23T12:10:51.375103",
     "status": "completed"
    },
    "tags": []
   },
   "outputs": [],
   "source": [
    "df_wild = pd.read_pickle('/kaggle/input/wild-pickle/wild.pickle')"
   ]
  },
  {
   "cell_type": "code",
   "execution_count": 4,
   "id": "aed6806e",
   "metadata": {
    "execution": {
     "iopub.execute_input": "2024-01-23T12:11:15.550723Z",
     "iopub.status.busy": "2024-01-23T12:11:15.550335Z",
     "iopub.status.idle": "2024-01-23T12:11:18.880474Z",
     "shell.execute_reply": "2024-01-23T12:11:18.879102Z"
    },
    "papermill": {
     "duration": 3.344357,
     "end_time": "2024-01-23T12:11:18.882882",
     "exception": false,
     "start_time": "2024-01-23T12:11:15.538525",
     "status": "completed"
    },
    "tags": []
   },
   "outputs": [
    {
     "name": "stdout",
     "output_type": "stream",
     "text": [
      "considering samples with size less than 1000000 bytes, 50724 ----> 37354\n"
     ]
    }
   ],
   "source": [
    "MAX_LENGTH = int(1e6)\n",
    "prev_size = len(df_wild)\n",
    "df_wild = df_wild[df_wild['generic_fileSize'] <= MAX_LENGTH]\n",
    "print(\"considering samples with size less than {} bytes, {} ----> {}\".format(MAX_LENGTH, prev_size, len(df_wild)))"
   ]
  },
  {
   "cell_type": "code",
   "execution_count": 5,
   "id": "98b8fbb4",
   "metadata": {
    "execution": {
     "iopub.execute_input": "2024-01-23T12:11:18.907829Z",
     "iopub.status.busy": "2024-01-23T12:11:18.907446Z",
     "iopub.status.idle": "2024-01-23T12:11:18.912888Z",
     "shell.execute_reply": "2024-01-23T12:11:18.911772Z"
    },
    "papermill": {
     "duration": 0.021253,
     "end_time": "2024-01-23T12:11:18.916622",
     "exception": false,
     "start_time": "2024-01-23T12:11:18.895369",
     "status": "completed"
    },
    "tags": []
   },
   "outputs": [
    {
     "name": "stdout",
     "output_type": "stream",
     "text": [
      "(37354, 56555)\n"
     ]
    }
   ],
   "source": [
    "print(df_wild.shape)"
   ]
  },
  {
   "cell_type": "code",
   "execution_count": 6,
   "id": "2eee3297",
   "metadata": {
    "execution": {
     "iopub.execute_input": "2024-01-23T12:11:18.940393Z",
     "iopub.status.busy": "2024-01-23T12:11:18.940027Z",
     "iopub.status.idle": "2024-01-23T12:11:18.979115Z",
     "shell.execute_reply": "2024-01-23T12:11:18.977959Z"
    },
    "papermill": {
     "duration": 0.053854,
     "end_time": "2024-01-23T12:11:18.981606",
     "exception": false,
     "start_time": "2024-01-23T12:11:18.927752",
     "status": "completed"
    },
    "tags": []
   },
   "outputs": [
    {
     "data": {
      "text/html": [
       "<div>\n",
       "<style scoped>\n",
       "    .dataframe tbody tr th:only-of-type {\n",
       "        vertical-align: middle;\n",
       "    }\n",
       "\n",
       "    .dataframe tbody tr th {\n",
       "        vertical-align: top;\n",
       "    }\n",
       "\n",
       "    .dataframe thead th {\n",
       "        text-align: right;\n",
       "    }\n",
       "</style>\n",
       "<table border=\"1\" class=\"dataframe\">\n",
       "  <thead>\n",
       "    <tr style=\"text-align: right;\">\n",
       "      <th></th>\n",
       "      <th>sample_sha1</th>\n",
       "      <th>benign</th>\n",
       "      <th>malicious</th>\n",
       "      <th>packed</th>\n",
       "      <th>unpacked_sample_sha1</th>\n",
       "      <th>unpacked_sample_id</th>\n",
       "      <th>packer_name</th>\n",
       "      <th>imp_setupremovefilelogentrya</th>\n",
       "      <th>imp_vardeccmp</th>\n",
       "      <th>imp_setdlgitemint</th>\n",
       "      <th>...</th>\n",
       "      <th>opcode_xor sub mov</th>\n",
       "      <th>opcode_xor sub mov add</th>\n",
       "      <th>opcode_xor test</th>\n",
       "      <th>opcode_xor test je</th>\n",
       "      <th>opcode_xor xor</th>\n",
       "      <th>opcode_xor xor mov</th>\n",
       "      <th>opcode_xor xor pop</th>\n",
       "      <th>opcode_xor xor pop mov</th>\n",
       "      <th>opcode_xor xor xor</th>\n",
       "      <th>opcode_xor xor xor pop</th>\n",
       "    </tr>\n",
       "  </thead>\n",
       "  <tbody>\n",
       "    <tr>\n",
       "      <th>1</th>\n",
       "      <td>a2aac23e17be570c647fd22080e05b0e58449565</td>\n",
       "      <td>True</td>\n",
       "      <td>False</td>\n",
       "      <td>True</td>\n",
       "      <td>-1</td>\n",
       "      <td>-1</td>\n",
       "      <td>none</td>\n",
       "      <td>False</td>\n",
       "      <td>False</td>\n",
       "      <td>False</td>\n",
       "      <td>...</td>\n",
       "      <td>0.000022</td>\n",
       "      <td>0.0</td>\n",
       "      <td>0.000088</td>\n",
       "      <td>0.000084</td>\n",
       "      <td>0.000070</td>\n",
       "      <td>0.000066</td>\n",
       "      <td>0.000028</td>\n",
       "      <td>0.0</td>\n",
       "      <td>0.000053</td>\n",
       "      <td>0.0</td>\n",
       "    </tr>\n",
       "    <tr>\n",
       "      <th>2</th>\n",
       "      <td>c3aa534bbd20f3a3dd8e7a457f625291af9d0fe4</td>\n",
       "      <td>False</td>\n",
       "      <td>True</td>\n",
       "      <td>True</td>\n",
       "      <td>-1</td>\n",
       "      <td>-1</td>\n",
       "      <td>none</td>\n",
       "      <td>False</td>\n",
       "      <td>False</td>\n",
       "      <td>False</td>\n",
       "      <td>...</td>\n",
       "      <td>0.000000</td>\n",
       "      <td>0.0</td>\n",
       "      <td>0.000000</td>\n",
       "      <td>0.000000</td>\n",
       "      <td>0.000309</td>\n",
       "      <td>0.000000</td>\n",
       "      <td>0.000000</td>\n",
       "      <td>0.0</td>\n",
       "      <td>0.000331</td>\n",
       "      <td>0.0</td>\n",
       "    </tr>\n",
       "    <tr>\n",
       "      <th>10</th>\n",
       "      <td>15cb9eab6b0f0ccd718a9235f07046dff100789f</td>\n",
       "      <td>False</td>\n",
       "      <td>True</td>\n",
       "      <td>True</td>\n",
       "      <td>-1</td>\n",
       "      <td>-1</td>\n",
       "      <td>none</td>\n",
       "      <td>False</td>\n",
       "      <td>False</td>\n",
       "      <td>False</td>\n",
       "      <td>...</td>\n",
       "      <td>0.000000</td>\n",
       "      <td>0.0</td>\n",
       "      <td>0.000000</td>\n",
       "      <td>0.000000</td>\n",
       "      <td>0.000000</td>\n",
       "      <td>0.000000</td>\n",
       "      <td>0.000000</td>\n",
       "      <td>0.0</td>\n",
       "      <td>0.000000</td>\n",
       "      <td>0.0</td>\n",
       "    </tr>\n",
       "    <tr>\n",
       "      <th>12</th>\n",
       "      <td>8792cf08950abada1572b47948e86c9fce26c01a</td>\n",
       "      <td>True</td>\n",
       "      <td>False</td>\n",
       "      <td>True</td>\n",
       "      <td>-1</td>\n",
       "      <td>-1</td>\n",
       "      <td>none</td>\n",
       "      <td>False</td>\n",
       "      <td>False</td>\n",
       "      <td>False</td>\n",
       "      <td>...</td>\n",
       "      <td>0.000000</td>\n",
       "      <td>0.0</td>\n",
       "      <td>0.000000</td>\n",
       "      <td>0.000000</td>\n",
       "      <td>0.000000</td>\n",
       "      <td>0.000000</td>\n",
       "      <td>0.000000</td>\n",
       "      <td>0.0</td>\n",
       "      <td>0.000000</td>\n",
       "      <td>0.0</td>\n",
       "    </tr>\n",
       "    <tr>\n",
       "      <th>13</th>\n",
       "      <td>353a955ae9919f7b639d74394e3c1149f0189362</td>\n",
       "      <td>True</td>\n",
       "      <td>False</td>\n",
       "      <td>True</td>\n",
       "      <td>-1</td>\n",
       "      <td>-1</td>\n",
       "      <td>none</td>\n",
       "      <td>False</td>\n",
       "      <td>False</td>\n",
       "      <td>False</td>\n",
       "      <td>...</td>\n",
       "      <td>0.000000</td>\n",
       "      <td>0.0</td>\n",
       "      <td>0.000204</td>\n",
       "      <td>0.000190</td>\n",
       "      <td>0.000066</td>\n",
       "      <td>0.000091</td>\n",
       "      <td>0.000000</td>\n",
       "      <td>0.0</td>\n",
       "      <td>0.000000</td>\n",
       "      <td>0.0</td>\n",
       "    </tr>\n",
       "  </tbody>\n",
       "</table>\n",
       "<p>5 rows × 56555 columns</p>\n",
       "</div>"
      ],
      "text/plain": [
       "                                 sample_sha1  benign  malicious  packed  \\\n",
       "1   a2aac23e17be570c647fd22080e05b0e58449565    True      False    True   \n",
       "2   c3aa534bbd20f3a3dd8e7a457f625291af9d0fe4   False       True    True   \n",
       "10  15cb9eab6b0f0ccd718a9235f07046dff100789f   False       True    True   \n",
       "12  8792cf08950abada1572b47948e86c9fce26c01a    True      False    True   \n",
       "13  353a955ae9919f7b639d74394e3c1149f0189362    True      False    True   \n",
       "\n",
       "   unpacked_sample_sha1  unpacked_sample_id packer_name  \\\n",
       "1                    -1                  -1        none   \n",
       "2                    -1                  -1        none   \n",
       "10                   -1                  -1        none   \n",
       "12                   -1                  -1        none   \n",
       "13                   -1                  -1        none   \n",
       "\n",
       "    imp_setupremovefilelogentrya  imp_vardeccmp  imp_setdlgitemint  ...  \\\n",
       "1                          False          False              False  ...   \n",
       "2                          False          False              False  ...   \n",
       "10                         False          False              False  ...   \n",
       "12                         False          False              False  ...   \n",
       "13                         False          False              False  ...   \n",
       "\n",
       "    opcode_xor sub mov  opcode_xor sub mov add  opcode_xor test  \\\n",
       "1             0.000022                     0.0         0.000088   \n",
       "2             0.000000                     0.0         0.000000   \n",
       "10            0.000000                     0.0         0.000000   \n",
       "12            0.000000                     0.0         0.000000   \n",
       "13            0.000000                     0.0         0.000204   \n",
       "\n",
       "    opcode_xor test je  opcode_xor xor  opcode_xor xor mov  \\\n",
       "1             0.000084        0.000070            0.000066   \n",
       "2             0.000000        0.000309            0.000000   \n",
       "10            0.000000        0.000000            0.000000   \n",
       "12            0.000000        0.000000            0.000000   \n",
       "13            0.000190        0.000066            0.000091   \n",
       "\n",
       "    opcode_xor xor pop  opcode_xor xor pop mov  opcode_xor xor xor  \\\n",
       "1             0.000028                     0.0            0.000053   \n",
       "2             0.000000                     0.0            0.000331   \n",
       "10            0.000000                     0.0            0.000000   \n",
       "12            0.000000                     0.0            0.000000   \n",
       "13            0.000000                     0.0            0.000000   \n",
       "\n",
       "    opcode_xor xor xor pop  \n",
       "1                      0.0  \n",
       "2                      0.0  \n",
       "10                     0.0  \n",
       "12                     0.0  \n",
       "13                     0.0  \n",
       "\n",
       "[5 rows x 56555 columns]"
      ]
     },
     "execution_count": 6,
     "metadata": {},
     "output_type": "execute_result"
    }
   ],
   "source": [
    "df_wild.head()"
   ]
  },
  {
   "cell_type": "code",
   "execution_count": 7,
   "id": "5f81eba1",
   "metadata": {
    "execution": {
     "iopub.execute_input": "2024-01-23T12:11:19.005750Z",
     "iopub.status.busy": "2024-01-23T12:11:19.005386Z",
     "iopub.status.idle": "2024-01-23T12:11:19.478789Z",
     "shell.execute_reply": "2024-01-23T12:11:19.477348Z"
    },
    "papermill": {
     "duration": 0.489074,
     "end_time": "2024-01-23T12:11:19.481869",
     "exception": false,
     "start_time": "2024-01-23T12:11:18.992795",
     "status": "completed"
    },
    "tags": []
   },
   "outputs": [],
   "source": [
    "#Chọn ngẫu nhiên 1,200 mẫu\n",
    "df = df_wild.sample(n=1200, random_state=102)"
   ]
  },
  {
   "cell_type": "code",
   "execution_count": 8,
   "id": "0a5637ec",
   "metadata": {
    "execution": {
     "iopub.execute_input": "2024-01-23T12:11:19.507269Z",
     "iopub.status.busy": "2024-01-23T12:11:19.506387Z",
     "iopub.status.idle": "2024-01-23T12:11:19.740188Z",
     "shell.execute_reply": "2024-01-23T12:11:19.738782Z"
    },
    "papermill": {
     "duration": 0.24971,
     "end_time": "2024-01-23T12:11:19.743062",
     "exception": false,
     "start_time": "2024-01-23T12:11:19.493352",
     "status": "completed"
    },
    "tags": []
   },
   "outputs": [],
   "source": [
    "# Loại bỏ các lables không cần thiết\n",
    "df = df.drop(['sample_sha1','unpacked_sample_sha1','unpacked_sample_id'], axis=1)\n",
    "df = df.drop(['benign_vt','malicious_vt'], axis=1)\n",
    "df = df.drop(['benign','packer_name','source','similarity','most_similar_sha1','unpacked_similarity'], axis=1)"
   ]
  },
  {
   "cell_type": "code",
   "execution_count": 9,
   "id": "8aa46b1b",
   "metadata": {
    "execution": {
     "iopub.execute_input": "2024-01-23T12:11:19.767992Z",
     "iopub.status.busy": "2024-01-23T12:11:19.767468Z",
     "iopub.status.idle": "2024-01-23T12:11:19.849432Z",
     "shell.execute_reply": "2024-01-23T12:11:19.847908Z"
    },
    "papermill": {
     "duration": 0.097798,
     "end_time": "2024-01-23T12:11:19.852374",
     "exception": false,
     "start_time": "2024-01-23T12:11:19.754576",
     "status": "completed"
    },
    "tags": []
   },
   "outputs": [],
   "source": [
    "#Loại bỏ một số cột dạng string không thể xử lý\n",
    "string_columns = df.select_dtypes(include=['object']).columns\n",
    "df = df.drop(string_columns, axis=1)"
   ]
  },
  {
   "cell_type": "code",
   "execution_count": 10,
   "id": "268a7530",
   "metadata": {
    "execution": {
     "iopub.execute_input": "2024-01-23T12:11:19.877750Z",
     "iopub.status.busy": "2024-01-23T12:11:19.876830Z",
     "iopub.status.idle": "2024-01-23T12:11:19.927758Z",
     "shell.execute_reply": "2024-01-23T12:11:19.926367Z"
    },
    "papermill": {
     "duration": 0.06665,
     "end_time": "2024-01-23T12:11:19.930245",
     "exception": false,
     "start_time": "2024-01-23T12:11:19.863595",
     "status": "completed"
    },
    "tags": []
   },
   "outputs": [
    {
     "data": {
      "text/html": [
       "<div>\n",
       "<style scoped>\n",
       "    .dataframe tbody tr th:only-of-type {\n",
       "        vertical-align: middle;\n",
       "    }\n",
       "\n",
       "    .dataframe tbody tr th {\n",
       "        vertical-align: top;\n",
       "    }\n",
       "\n",
       "    .dataframe thead th {\n",
       "        text-align: right;\n",
       "    }\n",
       "</style>\n",
       "<table border=\"1\" class=\"dataframe\">\n",
       "  <thead>\n",
       "    <tr style=\"text-align: right;\">\n",
       "      <th></th>\n",
       "      <th>malicious</th>\n",
       "      <th>packed</th>\n",
       "      <th>imp_setupremovefilelogentrya</th>\n",
       "      <th>imp_vardeccmp</th>\n",
       "      <th>imp_setdlgitemint</th>\n",
       "      <th>imp_?append@?$basic_string@du?$char_traits@d@std@@v?$allocator@d@2@@std@@qaeaav12@abv12@ii@z</th>\n",
       "      <th>imp_zwwritefile</th>\n",
       "      <th>imp_glstencilop</th>\n",
       "      <th>imp_comparelinkinforeferents</th>\n",
       "      <th>imp__setmbcp</th>\n",
       "      <th>...</th>\n",
       "      <th>opcode_xor sub mov</th>\n",
       "      <th>opcode_xor sub mov add</th>\n",
       "      <th>opcode_xor test</th>\n",
       "      <th>opcode_xor test je</th>\n",
       "      <th>opcode_xor xor</th>\n",
       "      <th>opcode_xor xor mov</th>\n",
       "      <th>opcode_xor xor pop</th>\n",
       "      <th>opcode_xor xor pop mov</th>\n",
       "      <th>opcode_xor xor xor</th>\n",
       "      <th>opcode_xor xor xor pop</th>\n",
       "    </tr>\n",
       "  </thead>\n",
       "  <tbody>\n",
       "    <tr>\n",
       "      <th>32148</th>\n",
       "      <td>False</td>\n",
       "      <td>True</td>\n",
       "      <td>False</td>\n",
       "      <td>False</td>\n",
       "      <td>False</td>\n",
       "      <td>False</td>\n",
       "      <td>False</td>\n",
       "      <td>False</td>\n",
       "      <td>False</td>\n",
       "      <td>False</td>\n",
       "      <td>...</td>\n",
       "      <td>0.0</td>\n",
       "      <td>0.0</td>\n",
       "      <td>0.000187</td>\n",
       "      <td>0.000198</td>\n",
       "      <td>0.0</td>\n",
       "      <td>0.0</td>\n",
       "      <td>0.0</td>\n",
       "      <td>0.0</td>\n",
       "      <td>0.0</td>\n",
       "      <td>0.0</td>\n",
       "    </tr>\n",
       "    <tr>\n",
       "      <th>210953</th>\n",
       "      <td>False</td>\n",
       "      <td>False</td>\n",
       "      <td>False</td>\n",
       "      <td>False</td>\n",
       "      <td>False</td>\n",
       "      <td>False</td>\n",
       "      <td>False</td>\n",
       "      <td>False</td>\n",
       "      <td>False</td>\n",
       "      <td>False</td>\n",
       "      <td>...</td>\n",
       "      <td>0.0</td>\n",
       "      <td>0.0</td>\n",
       "      <td>0.000000</td>\n",
       "      <td>0.000000</td>\n",
       "      <td>0.0</td>\n",
       "      <td>0.0</td>\n",
       "      <td>0.0</td>\n",
       "      <td>0.0</td>\n",
       "      <td>0.0</td>\n",
       "      <td>0.0</td>\n",
       "    </tr>\n",
       "    <tr>\n",
       "      <th>50313</th>\n",
       "      <td>False</td>\n",
       "      <td>True</td>\n",
       "      <td>False</td>\n",
       "      <td>False</td>\n",
       "      <td>False</td>\n",
       "      <td>False</td>\n",
       "      <td>False</td>\n",
       "      <td>False</td>\n",
       "      <td>False</td>\n",
       "      <td>False</td>\n",
       "      <td>...</td>\n",
       "      <td>0.0</td>\n",
       "      <td>0.0</td>\n",
       "      <td>0.000000</td>\n",
       "      <td>0.000000</td>\n",
       "      <td>0.0</td>\n",
       "      <td>0.0</td>\n",
       "      <td>0.0</td>\n",
       "      <td>0.0</td>\n",
       "      <td>0.0</td>\n",
       "      <td>0.0</td>\n",
       "    </tr>\n",
       "    <tr>\n",
       "      <th>200288</th>\n",
       "      <td>True</td>\n",
       "      <td>True</td>\n",
       "      <td>False</td>\n",
       "      <td>False</td>\n",
       "      <td>False</td>\n",
       "      <td>False</td>\n",
       "      <td>False</td>\n",
       "      <td>False</td>\n",
       "      <td>False</td>\n",
       "      <td>False</td>\n",
       "      <td>...</td>\n",
       "      <td>0.0</td>\n",
       "      <td>0.0</td>\n",
       "      <td>0.000000</td>\n",
       "      <td>0.000000</td>\n",
       "      <td>0.0</td>\n",
       "      <td>0.0</td>\n",
       "      <td>0.0</td>\n",
       "      <td>0.0</td>\n",
       "      <td>0.0</td>\n",
       "      <td>0.0</td>\n",
       "    </tr>\n",
       "    <tr>\n",
       "      <th>49579</th>\n",
       "      <td>True</td>\n",
       "      <td>True</td>\n",
       "      <td>False</td>\n",
       "      <td>False</td>\n",
       "      <td>False</td>\n",
       "      <td>False</td>\n",
       "      <td>False</td>\n",
       "      <td>False</td>\n",
       "      <td>False</td>\n",
       "      <td>False</td>\n",
       "      <td>...</td>\n",
       "      <td>0.0</td>\n",
       "      <td>0.0</td>\n",
       "      <td>0.000000</td>\n",
       "      <td>0.000000</td>\n",
       "      <td>0.0</td>\n",
       "      <td>0.0</td>\n",
       "      <td>0.0</td>\n",
       "      <td>0.0</td>\n",
       "      <td>0.0</td>\n",
       "      <td>0.0</td>\n",
       "    </tr>\n",
       "  </tbody>\n",
       "</table>\n",
       "<p>5 rows × 56524 columns</p>\n",
       "</div>"
      ],
      "text/plain": [
       "        malicious  packed  imp_setupremovefilelogentrya  imp_vardeccmp  \\\n",
       "32148       False    True                         False          False   \n",
       "210953      False   False                         False          False   \n",
       "50313       False    True                         False          False   \n",
       "200288       True    True                         False          False   \n",
       "49579        True    True                         False          False   \n",
       "\n",
       "        imp_setdlgitemint  \\\n",
       "32148               False   \n",
       "210953              False   \n",
       "50313               False   \n",
       "200288              False   \n",
       "49579               False   \n",
       "\n",
       "        imp_?append@?$basic_string@du?$char_traits@d@std@@v?$allocator@d@2@@std@@qaeaav12@abv12@ii@z  \\\n",
       "32148                                               False                                              \n",
       "210953                                              False                                              \n",
       "50313                                               False                                              \n",
       "200288                                              False                                              \n",
       "49579                                               False                                              \n",
       "\n",
       "        imp_zwwritefile  imp_glstencilop  imp_comparelinkinforeferents  \\\n",
       "32148             False            False                         False   \n",
       "210953            False            False                         False   \n",
       "50313             False            False                         False   \n",
       "200288            False            False                         False   \n",
       "49579             False            False                         False   \n",
       "\n",
       "        imp__setmbcp  ...  opcode_xor sub mov  opcode_xor sub mov add  \\\n",
       "32148          False  ...                 0.0                     0.0   \n",
       "210953         False  ...                 0.0                     0.0   \n",
       "50313          False  ...                 0.0                     0.0   \n",
       "200288         False  ...                 0.0                     0.0   \n",
       "49579          False  ...                 0.0                     0.0   \n",
       "\n",
       "        opcode_xor test  opcode_xor test je  opcode_xor xor  \\\n",
       "32148          0.000187            0.000198             0.0   \n",
       "210953         0.000000            0.000000             0.0   \n",
       "50313          0.000000            0.000000             0.0   \n",
       "200288         0.000000            0.000000             0.0   \n",
       "49579          0.000000            0.000000             0.0   \n",
       "\n",
       "        opcode_xor xor mov  opcode_xor xor pop  opcode_xor xor pop mov  \\\n",
       "32148                  0.0                 0.0                     0.0   \n",
       "210953                 0.0                 0.0                     0.0   \n",
       "50313                  0.0                 0.0                     0.0   \n",
       "200288                 0.0                 0.0                     0.0   \n",
       "49579                  0.0                 0.0                     0.0   \n",
       "\n",
       "        opcode_xor xor xor  opcode_xor xor xor pop  \n",
       "32148                  0.0                     0.0  \n",
       "210953                 0.0                     0.0  \n",
       "50313                  0.0                     0.0  \n",
       "200288                 0.0                     0.0  \n",
       "49579                  0.0                     0.0  \n",
       "\n",
       "[5 rows x 56524 columns]"
      ]
     },
     "execution_count": 10,
     "metadata": {},
     "output_type": "execute_result"
    }
   ],
   "source": [
    "df.head()"
   ]
  },
  {
   "cell_type": "code",
   "execution_count": 11,
   "id": "2fce7260",
   "metadata": {
    "execution": {
     "iopub.execute_input": "2024-01-23T12:11:19.955570Z",
     "iopub.status.busy": "2024-01-23T12:11:19.955044Z",
     "iopub.status.idle": "2024-01-23T12:11:19.961364Z",
     "shell.execute_reply": "2024-01-23T12:11:19.960376Z"
    },
    "papermill": {
     "duration": 0.022701,
     "end_time": "2024-01-23T12:11:19.964557",
     "exception": false,
     "start_time": "2024-01-23T12:11:19.941856",
     "status": "completed"
    },
    "tags": []
   },
   "outputs": [
    {
     "name": "stdout",
     "output_type": "stream",
     "text": [
      "(1200, 56524)\n"
     ]
    }
   ],
   "source": [
    "print(df.shape)"
   ]
  },
  {
   "cell_type": "code",
   "execution_count": 12,
   "id": "5f0db26c",
   "metadata": {
    "execution": {
     "iopub.execute_input": "2024-01-23T12:11:19.991728Z",
     "iopub.status.busy": "2024-01-23T12:11:19.990390Z",
     "iopub.status.idle": "2024-01-23T12:11:20.113271Z",
     "shell.execute_reply": "2024-01-23T12:11:20.112001Z"
    },
    "papermill": {
     "duration": 0.139747,
     "end_time": "2024-01-23T12:11:20.116522",
     "exception": false,
     "start_time": "2024-01-23T12:11:19.976775",
     "status": "completed"
    },
    "tags": []
   },
   "outputs": [],
   "source": [
    "df_train = df.sample(n=1000, random_state=102)\n",
    "df_test = df.drop(df_train.index)"
   ]
  },
  {
   "cell_type": "code",
   "execution_count": 13,
   "id": "30284532",
   "metadata": {
    "execution": {
     "iopub.execute_input": "2024-01-23T12:11:20.143685Z",
     "iopub.status.busy": "2024-01-23T12:11:20.143235Z",
     "iopub.status.idle": "2024-01-23T12:11:20.251806Z",
     "shell.execute_reply": "2024-01-23T12:11:20.250543Z"
    },
    "papermill": {
     "duration": 0.126411,
     "end_time": "2024-01-23T12:11:20.255066",
     "exception": false,
     "start_time": "2024-01-23T12:11:20.128655",
     "status": "completed"
    },
    "tags": []
   },
   "outputs": [],
   "source": [
    "#Vì tập dữ liệu không có Unpacked Malware, chỉ cần loại bỏ Packed Benign\n",
    "data = df_train.drop(df_train[(df_train['malicious'] == False) & (df_train['packed'] == True)].index)"
   ]
  },
  {
   "cell_type": "code",
   "execution_count": 14,
   "id": "458f8300",
   "metadata": {
    "execution": {
     "iopub.execute_input": "2024-01-23T12:11:20.283180Z",
     "iopub.status.busy": "2024-01-23T12:11:20.282687Z",
     "iopub.status.idle": "2024-01-23T12:11:20.376527Z",
     "shell.execute_reply": "2024-01-23T12:11:20.375416Z"
    },
    "papermill": {
     "duration": 0.110733,
     "end_time": "2024-01-23T12:11:20.379549",
     "exception": false,
     "start_time": "2024-01-23T12:11:20.268816",
     "status": "completed"
    },
    "tags": []
   },
   "outputs": [
    {
     "name": "stdout",
     "output_type": "stream",
     "text": [
      "Unpacked Benign: 73 samples\n",
      "Packed Malware: 727 samples\n",
      "Total TRAIN set: 800 samples\n"
     ]
    }
   ],
   "source": [
    "#Kiểm tra số lượng mẫu\n",
    "Unpacked_Benign = data[(data['malicious'] == False) & (data['packed'] == False)].shape[0]\n",
    "Packed_Malware = data[(data['malicious'] == True) & (data['packed'] == True)].shape[0]\n",
    "print('Unpacked Benign: %i samples' % Unpacked_Benign)\n",
    "print('Packed Malware: %i samples' % Packed_Malware)\n",
    "print('Total TRAIN set: %i samples'% (Unpacked_Benign+Packed_Malware))"
   ]
  },
  {
   "cell_type": "code",
   "execution_count": 15,
   "id": "1e6b035f",
   "metadata": {
    "execution": {
     "iopub.execute_input": "2024-01-23T12:11:20.405345Z",
     "iopub.status.busy": "2024-01-23T12:11:20.404968Z",
     "iopub.status.idle": "2024-01-23T12:11:20.536128Z",
     "shell.execute_reply": "2024-01-23T12:11:20.534931Z"
    },
    "papermill": {
     "duration": 0.147252,
     "end_time": "2024-01-23T12:11:20.538837",
     "exception": false,
     "start_time": "2024-01-23T12:11:20.391585",
     "status": "completed"
    },
    "tags": []
   },
   "outputs": [],
   "source": [
    "#Chia tỉ lệ 50 - 50\n",
    "data_PM = data[(data['malicious'] == True) & (data['packed'] == True)].sample(n=Packed_Malware-Unpacked_Benign, random_state=102)\n",
    "data = data.drop(data_PM.index)"
   ]
  },
  {
   "cell_type": "code",
   "execution_count": 16,
   "id": "d1014589",
   "metadata": {
    "execution": {
     "iopub.execute_input": "2024-01-23T12:11:20.564998Z",
     "iopub.status.busy": "2024-01-23T12:11:20.564546Z",
     "iopub.status.idle": "2024-01-23T12:11:20.585840Z",
     "shell.execute_reply": "2024-01-23T12:11:20.584572Z"
    },
    "papermill": {
     "duration": 0.037238,
     "end_time": "2024-01-23T12:11:20.588317",
     "exception": false,
     "start_time": "2024-01-23T12:11:20.551079",
     "status": "completed"
    },
    "tags": []
   },
   "outputs": [
    {
     "name": "stdout",
     "output_type": "stream",
     "text": [
      "Unpacked Benign: 73 samples\n",
      "Packed Malware: 73 samples\n",
      "Total TRAIN set: 146 samples\n"
     ]
    }
   ],
   "source": [
    "#Số lượng tập train\n",
    "Unpacked_Benign = data[(data['malicious'] == False) & (data['packed'] == False)].shape[0]\n",
    "Packed_Malware = data[(data['malicious'] == True) & (data['packed'] == True)].shape[0]\n",
    "print('Unpacked Benign: %i samples' % Unpacked_Benign)\n",
    "print('Packed Malware: %i samples' % Packed_Malware)\n",
    "print('Total TRAIN set: %i samples'% (Unpacked_Benign+Packed_Malware))"
   ]
  },
  {
   "cell_type": "code",
   "execution_count": 17,
   "id": "321f8ffa",
   "metadata": {
    "execution": {
     "iopub.execute_input": "2024-01-23T12:11:20.614547Z",
     "iopub.status.busy": "2024-01-23T12:11:20.613856Z",
     "iopub.status.idle": "2024-01-23T12:11:20.630812Z",
     "shell.execute_reply": "2024-01-23T12:11:20.629371Z"
    },
    "papermill": {
     "duration": 0.032659,
     "end_time": "2024-01-23T12:11:20.633271",
     "exception": false,
     "start_time": "2024-01-23T12:11:20.600612",
     "status": "completed"
    },
    "tags": []
   },
   "outputs": [],
   "source": [
    "y = data['malicious'].values\n",
    "data = data.drop(['malicious','packed'], axis=1)"
   ]
  },
  {
   "cell_type": "code",
   "execution_count": 18,
   "id": "1ce105a0",
   "metadata": {
    "execution": {
     "iopub.execute_input": "2024-01-23T12:11:20.658702Z",
     "iopub.status.busy": "2024-01-23T12:11:20.658328Z",
     "iopub.status.idle": "2024-01-23T12:11:20.725576Z",
     "shell.execute_reply": "2024-01-23T12:11:20.724432Z"
    },
    "papermill": {
     "duration": 0.082789,
     "end_time": "2024-01-23T12:11:20.727953",
     "exception": false,
     "start_time": "2024-01-23T12:11:20.645164",
     "status": "completed"
    },
    "tags": []
   },
   "outputs": [
    {
     "name": "stdout",
     "output_type": "stream",
     "text": [
      "Unpacked Benign: 10 samples\n",
      "Packed Malware: 46 samples\n",
      "Packed Benign: 36 samples\n",
      "Total TEST set: 92 samples\n"
     ]
    }
   ],
   "source": [
    "Unpacked_Benign = df_test[(df_test['malicious'] == False) & (df_test['packed'] == False)].shape[0]\n",
    "Packed_Malware = df_test[(df_test['malicious'] == True) & (df_test['packed'] == True)].shape[0]\n",
    "Packed_Benign = df_test[(df_test['malicious'] == False) & (df_test['packed'] == True)].shape[0]\n",
    "\n",
    "df_test_PM = df_test[(df_test['malicious'] == True) & (df_test['packed'] == True)].sample(n=(Packed_Malware-(Unpacked_Benign+Packed_Benign)), random_state=102)\n",
    "df_test = df_test.drop(df_test_PM.index)\n",
    "\n",
    "Unpacked_Benign = df_test[(df_test['malicious'] == False) & (df_test['packed'] == False)].shape[0]\n",
    "Packed_Malware = df_test[(df_test['malicious'] == True) & (df_test['packed'] == True)].shape[0]\n",
    "Packed_Benign = df_test[(df_test['malicious'] == False) & (df_test['packed'] == True)].shape[0]\n",
    "\n",
    "print('Unpacked Benign: %i samples' % Unpacked_Benign)\n",
    "print('Packed Malware: %i samples' % Packed_Malware)\n",
    "print('Packed Benign: %i samples' % Packed_Benign)\n",
    "print('Total TEST set: %i samples'% (Unpacked_Benign+Packed_Malware+Packed_Benign))"
   ]
  },
  {
   "cell_type": "code",
   "execution_count": 19,
   "id": "fa11b28a",
   "metadata": {
    "execution": {
     "iopub.execute_input": "2024-01-23T12:11:20.754001Z",
     "iopub.status.busy": "2024-01-23T12:11:20.753616Z",
     "iopub.status.idle": "2024-01-23T12:13:43.120251Z",
     "shell.execute_reply": "2024-01-23T12:13:43.119120Z"
    },
    "papermill": {
     "duration": 142.383299,
     "end_time": "2024-01-23T12:13:43.123124",
     "exception": false,
     "start_time": "2024-01-23T12:11:20.739825",
     "status": "completed"
    },
    "tags": []
   },
   "outputs": [],
   "source": [
    "fsel = SelectKBest(score_func=mutual_info_classif, k=100)\n",
    "fsel.fit(data, y)\n",
    "features = fsel.get_support(indices = True)\n",
    "features = [column for column in data.columns[features]]"
   ]
  },
  {
   "cell_type": "code",
   "execution_count": 20,
   "id": "b0289a51",
   "metadata": {
    "execution": {
     "iopub.execute_input": "2024-01-23T12:13:43.148914Z",
     "iopub.status.busy": "2024-01-23T12:13:43.148517Z",
     "iopub.status.idle": "2024-01-23T12:13:43.665652Z",
     "shell.execute_reply": "2024-01-23T12:13:43.664481Z"
    },
    "papermill": {
     "duration": 0.533294,
     "end_time": "2024-01-23T12:13:43.668444",
     "exception": false,
     "start_time": "2024-01-23T12:13:43.135150",
     "status": "completed"
    },
    "tags": []
   },
   "outputs": [],
   "source": [
    "# model = SelectFromModel(fsel, prefit=True)\n",
    "# X = model.transform(data)\n",
    "\n",
    "X_train = fsel.transform(data)\n",
    "X_test = fsel.transform(df_test.drop(['malicious','packed'], axis=1))\n",
    "\n",
    "# Lấy tên đặc trưng tương ứng cho X_train và X_test\n",
    "X_train = pd.DataFrame(X_train, columns=features)\n",
    "X_test = pd.DataFrame(X_test, columns=features)\n",
    "\n",
    "y_train = y\n",
    "y_test = df_test['malicious'].values"
   ]
  },
  {
   "cell_type": "code",
   "execution_count": 21,
   "id": "002edad2",
   "metadata": {
    "execution": {
     "iopub.execute_input": "2024-01-23T12:13:43.694421Z",
     "iopub.status.busy": "2024-01-23T12:13:43.693359Z",
     "iopub.status.idle": "2024-01-23T12:13:43.698901Z",
     "shell.execute_reply": "2024-01-23T12:13:43.698166Z"
    },
    "papermill": {
     "duration": 0.020666,
     "end_time": "2024-01-23T12:13:43.701045",
     "exception": false,
     "start_time": "2024-01-23T12:13:43.680379",
     "status": "completed"
    },
    "tags": []
   },
   "outputs": [],
   "source": [
    "X_train_array = X_train.values\n",
    "X_test_array = X_test.values\n",
    "\n",
    "# Reshape\n",
    "X_train_new = X_train_array.reshape(X_train_array.shape[0], X_train_array.shape[1], 1)\n",
    "X_test_new = X_test_array.reshape(X_test_array.shape[0], X_test_array.shape[1], 1)"
   ]
  },
  {
   "cell_type": "code",
   "execution_count": 22,
   "id": "7d9fa733",
   "metadata": {
    "execution": {
     "iopub.execute_input": "2024-01-23T12:13:43.727282Z",
     "iopub.status.busy": "2024-01-23T12:13:43.726139Z",
     "iopub.status.idle": "2024-01-23T12:13:43.731504Z",
     "shell.execute_reply": "2024-01-23T12:13:43.730451Z"
    },
    "papermill": {
     "duration": 0.020689,
     "end_time": "2024-01-23T12:13:43.733766",
     "exception": false,
     "start_time": "2024-01-23T12:13:43.713077",
     "status": "completed"
    },
    "tags": []
   },
   "outputs": [],
   "source": [
    "n_timesteps, n_features = X_train_new.shape[1], X_train_new.shape[2]"
   ]
  },
  {
   "cell_type": "code",
   "execution_count": 23,
   "id": "c4a1163b",
   "metadata": {
    "execution": {
     "iopub.execute_input": "2024-01-23T12:13:43.759339Z",
     "iopub.status.busy": "2024-01-23T12:13:43.758957Z",
     "iopub.status.idle": "2024-01-23T12:13:43.769218Z",
     "shell.execute_reply": "2024-01-23T12:13:43.768351Z"
    },
    "papermill": {
     "duration": 0.025699,
     "end_time": "2024-01-23T12:13:43.771256",
     "exception": false,
     "start_time": "2024-01-23T12:13:43.745557",
     "status": "completed"
    },
    "tags": []
   },
   "outputs": [],
   "source": [
    "def Cnn():\n",
    "    model = Sequential()\n",
    "    model.add(Input(shape=(n_timesteps,n_features)))\n",
    "    model.add(Conv1D(filters=256, kernel_size=2, activation='relu', name=\"Conv1D_1\"))\n",
    "    model.add(Activation('sigmoid'))\n",
    "    model.add(Conv1D(filters=256, kernel_size=2, name=\"Conv1D_2\"))  \n",
    "    model.add(MaxPooling1D(pool_size=2, name=\"MaxPooling1D\"))\n",
    "    model.add(Conv1D(filters=128, kernel_size=3, name=\"Conv1D_3\"))\n",
    "    model.add(Conv1D(filters=128, kernel_size=3, name=\"Conv1D_4\"))\n",
    "    model.add(AveragePooling1D(2))\n",
    "    model.add(Conv1D(filters=64, kernel_size=4, name=\"Conv1D_5\"))\n",
    "    model.add(Conv1D(filters=64, kernel_size=4, name=\"Conv1D_6\"))\n",
    "    model.add(GlobalMaxPooling1D())\n",
    "    model.add(Flatten())\n",
    "    model.add(Dense(64, activation='relu', name=\"Dense_1\"))\n",
    "    model.add(Dropout(0.35))\n",
    "    model.add(Dense(1, activation='sigmoid', name=\"Dense_2\"))\n",
    "    model.compile(loss='binary_crossentropy',\n",
    "                  optimizer='adam',\n",
    "                  metrics=['accuracy'])\n",
    "    return model"
   ]
  },
  {
   "cell_type": "code",
   "execution_count": 24,
   "id": "f7ca55c3",
   "metadata": {
    "execution": {
     "iopub.execute_input": "2024-01-23T12:13:43.797223Z",
     "iopub.status.busy": "2024-01-23T12:13:43.796256Z",
     "iopub.status.idle": "2024-01-23T12:13:44.158904Z",
     "shell.execute_reply": "2024-01-23T12:13:44.156679Z"
    },
    "papermill": {
     "duration": 0.3893,
     "end_time": "2024-01-23T12:13:44.172464",
     "exception": false,
     "start_time": "2024-01-23T12:13:43.783164",
     "status": "completed"
    },
    "tags": []
   },
   "outputs": [
    {
     "name": "stdout",
     "output_type": "stream",
     "text": [
      "Model: \"sequential\"\n",
      "_________________________________________________________________\n",
      " Layer (type)                Output Shape              Param #   \n",
      "=================================================================\n",
      " Conv1D_1 (Conv1D)           (None, 99, 256)           768       \n",
      "                                                                 \n",
      " activation (Activation)     (None, 99, 256)           0         \n",
      "                                                                 \n",
      " Conv1D_2 (Conv1D)           (None, 98, 256)           131328    \n",
      "                                                                 \n",
      " MaxPooling1D (MaxPooling1D)  (None, 49, 256)          0         \n",
      "                                                                 \n",
      " Conv1D_3 (Conv1D)           (None, 47, 128)           98432     \n",
      "                                                                 \n",
      " Conv1D_4 (Conv1D)           (None, 45, 128)           49280     \n",
      "                                                                 \n",
      " average_pooling1d (AverageP  (None, 22, 128)          0         \n",
      " ooling1D)                                                       \n",
      "                                                                 \n",
      " Conv1D_5 (Conv1D)           (None, 19, 64)            32832     \n",
      "                                                                 \n",
      " Conv1D_6 (Conv1D)           (None, 16, 64)            16448     \n",
      "                                                                 \n",
      " global_max_pooling1d (Globa  (None, 64)               0         \n",
      " lMaxPooling1D)                                                  \n",
      "                                                                 \n",
      " flatten (Flatten)           (None, 64)                0         \n",
      "                                                                 \n",
      " Dense_1 (Dense)             (None, 64)                4160      \n",
      "                                                                 \n",
      " dropout (Dropout)           (None, 64)                0         \n",
      "                                                                 \n",
      " Dense_2 (Dense)             (None, 1)                 65        \n",
      "                                                                 \n",
      "=================================================================\n",
      "Total params: 333,313\n",
      "Trainable params: 333,313\n",
      "Non-trainable params: 0\n",
      "_________________________________________________________________\n"
     ]
    }
   ],
   "source": [
    "CNN_model = Cnn()\n",
    "#print the model summary\n",
    "CNN_model.summary()"
   ]
  },
  {
   "cell_type": "code",
   "execution_count": 25,
   "id": "1423fdb8",
   "metadata": {
    "execution": {
     "iopub.execute_input": "2024-01-23T12:13:44.204828Z",
     "iopub.status.busy": "2024-01-23T12:13:44.204457Z",
     "iopub.status.idle": "2024-01-23T12:14:18.754724Z",
     "shell.execute_reply": "2024-01-23T12:14:18.753865Z"
    },
    "papermill": {
     "duration": 34.569383,
     "end_time": "2024-01-23T12:14:18.757122",
     "exception": false,
     "start_time": "2024-01-23T12:13:44.187739",
     "status": "completed"
    },
    "tags": []
   },
   "outputs": [
    {
     "name": "stdout",
     "output_type": "stream",
     "text": [
      "Epoch 1/100\n",
      "3/3 - 3s - loss: 1.0707 - accuracy: 0.6027 - val_loss: 1.6335 - val_accuracy: 0.5000 - 3s/epoch - 912ms/step\n",
      "Epoch 2/100\n",
      "3/3 - 0s - loss: 1.6765 - accuracy: 0.5068 - val_loss: 0.7508 - val_accuracy: 0.5000 - 317ms/epoch - 106ms/step\n",
      "Epoch 3/100\n",
      "3/3 - 0s - loss: 1.1297 - accuracy: 0.4863 - val_loss: 0.7857 - val_accuracy: 0.5000 - 303ms/epoch - 101ms/step\n",
      "Epoch 4/100\n",
      "3/3 - 0s - loss: 0.7643 - accuracy: 0.5479 - val_loss: 0.7850 - val_accuracy: 0.5000 - 320ms/epoch - 107ms/step\n",
      "Epoch 5/100\n",
      "3/3 - 0s - loss: 0.7660 - accuracy: 0.4863 - val_loss: 0.6338 - val_accuracy: 0.6848 - 303ms/epoch - 101ms/step\n",
      "Epoch 6/100\n",
      "3/3 - 0s - loss: 0.6949 - accuracy: 0.6096 - val_loss: 0.6222 - val_accuracy: 0.6848 - 295ms/epoch - 98ms/step\n",
      "Epoch 7/100\n",
      "3/3 - 0s - loss: 0.7162 - accuracy: 0.6438 - val_loss: 0.6238 - val_accuracy: 0.6848 - 296ms/epoch - 99ms/step\n",
      "Epoch 8/100\n",
      "3/3 - 0s - loss: 0.6775 - accuracy: 0.6164 - val_loss: 0.6250 - val_accuracy: 0.6087 - 306ms/epoch - 102ms/step\n",
      "Epoch 9/100\n",
      "3/3 - 0s - loss: 0.6142 - accuracy: 0.6712 - val_loss: 0.6533 - val_accuracy: 0.6196 - 313ms/epoch - 104ms/step\n",
      "Epoch 10/100\n",
      "3/3 - 0s - loss: 0.6465 - accuracy: 0.6301 - val_loss: 0.6355 - val_accuracy: 0.7717 - 304ms/epoch - 101ms/step\n",
      "Epoch 11/100\n",
      "3/3 - 0s - loss: 0.5913 - accuracy: 0.6849 - val_loss: 0.7213 - val_accuracy: 0.5761 - 309ms/epoch - 103ms/step\n",
      "Epoch 12/100\n",
      "3/3 - 0s - loss: 0.6479 - accuracy: 0.6301 - val_loss: 0.6498 - val_accuracy: 0.6848 - 299ms/epoch - 100ms/step\n",
      "Epoch 13/100\n",
      "3/3 - 0s - loss: 0.5783 - accuracy: 0.7260 - val_loss: 0.7014 - val_accuracy: 0.6087 - 295ms/epoch - 98ms/step\n",
      "Epoch 14/100\n",
      "3/3 - 0s - loss: 0.5425 - accuracy: 0.7466 - val_loss: 0.8092 - val_accuracy: 0.5978 - 297ms/epoch - 99ms/step\n",
      "Epoch 15/100\n",
      "3/3 - 0s - loss: 0.5929 - accuracy: 0.7055 - val_loss: 0.6947 - val_accuracy: 0.6848 - 305ms/epoch - 102ms/step\n",
      "Epoch 16/100\n",
      "3/3 - 0s - loss: 0.5796 - accuracy: 0.7123 - val_loss: 0.6416 - val_accuracy: 0.6087 - 299ms/epoch - 100ms/step\n",
      "Epoch 17/100\n",
      "3/3 - 0s - loss: 0.5406 - accuracy: 0.6986 - val_loss: 0.6497 - val_accuracy: 0.6087 - 300ms/epoch - 100ms/step\n",
      "Epoch 18/100\n",
      "3/3 - 0s - loss: 0.5431 - accuracy: 0.7055 - val_loss: 0.6441 - val_accuracy: 0.7065 - 306ms/epoch - 102ms/step\n",
      "Epoch 19/100\n",
      "3/3 - 0s - loss: 0.5473 - accuracy: 0.6986 - val_loss: 0.6629 - val_accuracy: 0.7609 - 301ms/epoch - 100ms/step\n",
      "Epoch 20/100\n",
      "3/3 - 0s - loss: 0.4759 - accuracy: 0.7671 - val_loss: 0.6981 - val_accuracy: 0.7609 - 299ms/epoch - 100ms/step\n",
      "Epoch 21/100\n",
      "3/3 - 0s - loss: 0.5582 - accuracy: 0.7260 - val_loss: 0.7223 - val_accuracy: 0.6848 - 301ms/epoch - 100ms/step\n",
      "Epoch 22/100\n",
      "3/3 - 0s - loss: 0.5292 - accuracy: 0.7329 - val_loss: 0.7238 - val_accuracy: 0.6848 - 313ms/epoch - 104ms/step\n",
      "Epoch 23/100\n",
      "3/3 - 0s - loss: 0.5889 - accuracy: 0.6986 - val_loss: 0.6538 - val_accuracy: 0.6087 - 324ms/epoch - 108ms/step\n",
      "Epoch 24/100\n",
      "3/3 - 0s - loss: 0.7320 - accuracy: 0.6507 - val_loss: 0.6670 - val_accuracy: 0.6848 - 302ms/epoch - 101ms/step\n",
      "Epoch 25/100\n",
      "3/3 - 0s - loss: 0.5899 - accuracy: 0.7534 - val_loss: 0.7492 - val_accuracy: 0.6087 - 301ms/epoch - 100ms/step\n",
      "Epoch 26/100\n",
      "3/3 - 0s - loss: 0.5117 - accuracy: 0.7192 - val_loss: 0.7201 - val_accuracy: 0.7065 - 340ms/epoch - 113ms/step\n",
      "Epoch 27/100\n",
      "3/3 - 0s - loss: 0.4768 - accuracy: 0.7671 - val_loss: 0.7131 - val_accuracy: 0.7609 - 319ms/epoch - 106ms/step\n",
      "Epoch 28/100\n",
      "3/3 - 0s - loss: 0.4864 - accuracy: 0.7877 - val_loss: 0.8128 - val_accuracy: 0.5870 - 305ms/epoch - 102ms/step\n",
      "Epoch 29/100\n",
      "3/3 - 0s - loss: 0.5395 - accuracy: 0.7123 - val_loss: 0.6690 - val_accuracy: 0.6848 - 306ms/epoch - 102ms/step\n",
      "Epoch 30/100\n",
      "3/3 - 0s - loss: 0.5403 - accuracy: 0.7329 - val_loss: 0.6968 - val_accuracy: 0.6304 - 307ms/epoch - 102ms/step\n",
      "Epoch 31/100\n",
      "3/3 - 0s - loss: 0.5319 - accuracy: 0.7466 - val_loss: 0.6608 - val_accuracy: 0.6848 - 305ms/epoch - 102ms/step\n",
      "Epoch 32/100\n",
      "3/3 - 0s - loss: 0.5561 - accuracy: 0.7397 - val_loss: 0.7767 - val_accuracy: 0.6196 - 295ms/epoch - 98ms/step\n",
      "Epoch 33/100\n",
      "3/3 - 0s - loss: 0.5317 - accuracy: 0.7260 - val_loss: 0.6765 - val_accuracy: 0.6957 - 297ms/epoch - 99ms/step\n",
      "Epoch 34/100\n",
      "3/3 - 0s - loss: 0.5314 - accuracy: 0.7192 - val_loss: 0.7121 - val_accuracy: 0.6087 - 301ms/epoch - 100ms/step\n",
      "Epoch 35/100\n",
      "3/3 - 0s - loss: 0.5369 - accuracy: 0.7123 - val_loss: 0.6864 - val_accuracy: 0.7609 - 304ms/epoch - 101ms/step\n",
      "Epoch 36/100\n",
      "3/3 - 0s - loss: 0.4815 - accuracy: 0.7466 - val_loss: 0.6831 - val_accuracy: 0.6957 - 303ms/epoch - 101ms/step\n",
      "Epoch 37/100\n",
      "3/3 - 0s - loss: 0.4934 - accuracy: 0.7397 - val_loss: 0.7089 - val_accuracy: 0.7065 - 322ms/epoch - 107ms/step\n",
      "Epoch 38/100\n",
      "3/3 - 0s - loss: 0.4963 - accuracy: 0.7397 - val_loss: 0.7475 - val_accuracy: 0.6087 - 310ms/epoch - 103ms/step\n",
      "Epoch 39/100\n",
      "3/3 - 0s - loss: 0.4786 - accuracy: 0.7740 - val_loss: 0.6983 - val_accuracy: 0.7609 - 297ms/epoch - 99ms/step\n",
      "Epoch 40/100\n",
      "3/3 - 0s - loss: 0.5050 - accuracy: 0.7466 - val_loss: 0.7566 - val_accuracy: 0.6087 - 297ms/epoch - 99ms/step\n",
      "Epoch 41/100\n",
      "3/3 - 0s - loss: 0.5147 - accuracy: 0.7329 - val_loss: 0.7275 - val_accuracy: 0.7065 - 307ms/epoch - 102ms/step\n",
      "Epoch 42/100\n",
      "3/3 - 0s - loss: 0.4956 - accuracy: 0.7329 - val_loss: 0.7354 - val_accuracy: 0.6087 - 308ms/epoch - 103ms/step\n",
      "Epoch 43/100\n",
      "3/3 - 0s - loss: 0.4695 - accuracy: 0.7603 - val_loss: 0.7269 - val_accuracy: 0.7609 - 309ms/epoch - 103ms/step\n",
      "Epoch 44/100\n",
      "3/3 - 0s - loss: 0.5157 - accuracy: 0.7397 - val_loss: 0.7021 - val_accuracy: 0.6848 - 304ms/epoch - 101ms/step\n",
      "Epoch 45/100\n",
      "3/3 - 0s - loss: 0.5118 - accuracy: 0.7397 - val_loss: 0.6825 - val_accuracy: 0.7609 - 304ms/epoch - 101ms/step\n",
      "Epoch 46/100\n",
      "3/3 - 0s - loss: 0.5171 - accuracy: 0.7192 - val_loss: 0.8492 - val_accuracy: 0.5870 - 300ms/epoch - 100ms/step\n",
      "Epoch 47/100\n",
      "3/3 - 0s - loss: 0.5542 - accuracy: 0.7055 - val_loss: 0.6592 - val_accuracy: 0.6848 - 305ms/epoch - 102ms/step\n",
      "Epoch 48/100\n",
      "3/3 - 0s - loss: 0.5133 - accuracy: 0.7466 - val_loss: 0.6772 - val_accuracy: 0.6848 - 321ms/epoch - 107ms/step\n",
      "Epoch 49/100\n",
      "3/3 - 0s - loss: 0.4849 - accuracy: 0.7397 - val_loss: 0.7876 - val_accuracy: 0.6304 - 312ms/epoch - 104ms/step\n",
      "Epoch 50/100\n",
      "3/3 - 0s - loss: 0.5525 - accuracy: 0.7534 - val_loss: 0.6451 - val_accuracy: 0.6848 - 302ms/epoch - 101ms/step\n",
      "Epoch 51/100\n",
      "3/3 - 0s - loss: 0.4966 - accuracy: 0.7466 - val_loss: 0.6285 - val_accuracy: 0.6848 - 306ms/epoch - 102ms/step\n",
      "Epoch 52/100\n",
      "3/3 - 0s - loss: 0.5396 - accuracy: 0.7055 - val_loss: 0.6727 - val_accuracy: 0.6848 - 303ms/epoch - 101ms/step\n",
      "Epoch 53/100\n",
      "3/3 - 0s - loss: 0.4811 - accuracy: 0.7603 - val_loss: 0.6892 - val_accuracy: 0.7609 - 304ms/epoch - 101ms/step\n",
      "Epoch 54/100\n",
      "3/3 - 0s - loss: 0.5138 - accuracy: 0.7466 - val_loss: 0.6926 - val_accuracy: 0.7609 - 302ms/epoch - 101ms/step\n",
      "Epoch 55/100\n",
      "3/3 - 0s - loss: 0.4861 - accuracy: 0.7603 - val_loss: 0.7217 - val_accuracy: 0.6196 - 313ms/epoch - 104ms/step\n",
      "Epoch 56/100\n",
      "3/3 - 0s - loss: 0.5055 - accuracy: 0.7260 - val_loss: 0.7187 - val_accuracy: 0.6196 - 310ms/epoch - 103ms/step\n",
      "Epoch 57/100\n",
      "3/3 - 0s - loss: 0.4885 - accuracy: 0.7671 - val_loss: 0.6949 - val_accuracy: 0.7609 - 322ms/epoch - 107ms/step\n",
      "Epoch 58/100\n",
      "3/3 - 0s - loss: 0.4887 - accuracy: 0.7808 - val_loss: 0.8083 - val_accuracy: 0.6304 - 326ms/epoch - 109ms/step\n",
      "Epoch 59/100\n",
      "3/3 - 0s - loss: 0.5157 - accuracy: 0.7534 - val_loss: 0.7636 - val_accuracy: 0.6087 - 311ms/epoch - 104ms/step\n",
      "Epoch 60/100\n",
      "3/3 - 0s - loss: 0.4893 - accuracy: 0.7466 - val_loss: 0.8083 - val_accuracy: 0.6304 - 297ms/epoch - 99ms/step\n",
      "Epoch 61/100\n",
      "3/3 - 0s - loss: 0.5054 - accuracy: 0.7740 - val_loss: 0.6833 - val_accuracy: 0.7609 - 303ms/epoch - 101ms/step\n",
      "Epoch 62/100\n",
      "3/3 - 0s - loss: 0.4701 - accuracy: 0.7740 - val_loss: 0.6654 - val_accuracy: 0.7609 - 315ms/epoch - 105ms/step\n",
      "Epoch 63/100\n",
      "3/3 - 0s - loss: 0.4933 - accuracy: 0.7466 - val_loss: 0.6830 - val_accuracy: 0.7065 - 301ms/epoch - 100ms/step\n",
      "Epoch 64/100\n",
      "3/3 - 0s - loss: 0.4715 - accuracy: 0.7740 - val_loss: 0.8335 - val_accuracy: 0.6087 - 305ms/epoch - 102ms/step\n",
      "Epoch 65/100\n",
      "3/3 - 0s - loss: 0.5226 - accuracy: 0.7397 - val_loss: 0.6828 - val_accuracy: 0.6848 - 303ms/epoch - 101ms/step\n",
      "Epoch 66/100\n",
      "3/3 - 0s - loss: 0.5070 - accuracy: 0.7808 - val_loss: 0.6842 - val_accuracy: 0.7609 - 303ms/epoch - 101ms/step\n",
      "Epoch 67/100\n",
      "3/3 - 0s - loss: 0.4977 - accuracy: 0.7877 - val_loss: 0.9136 - val_accuracy: 0.5978 - 313ms/epoch - 104ms/step\n",
      "Epoch 68/100\n",
      "3/3 - 0s - loss: 0.5129 - accuracy: 0.7397 - val_loss: 0.6671 - val_accuracy: 0.6848 - 295ms/epoch - 98ms/step\n",
      "Epoch 69/100\n",
      "3/3 - 0s - loss: 0.5201 - accuracy: 0.7534 - val_loss: 0.6219 - val_accuracy: 0.6848 - 306ms/epoch - 102ms/step\n",
      "Epoch 70/100\n",
      "3/3 - 0s - loss: 0.4963 - accuracy: 0.7603 - val_loss: 0.6661 - val_accuracy: 0.6848 - 302ms/epoch - 101ms/step\n",
      "Epoch 71/100\n",
      "3/3 - 0s - loss: 0.5171 - accuracy: 0.7192 - val_loss: 0.7623 - val_accuracy: 0.7609 - 302ms/epoch - 101ms/step\n",
      "Epoch 72/100\n",
      "3/3 - 0s - loss: 0.5308 - accuracy: 0.7466 - val_loss: 0.9753 - val_accuracy: 0.6087 - 297ms/epoch - 99ms/step\n",
      "Epoch 73/100\n",
      "3/3 - 0s - loss: 0.5220 - accuracy: 0.7808 - val_loss: 0.7020 - val_accuracy: 0.7609 - 300ms/epoch - 100ms/step\n",
      "Epoch 74/100\n",
      "3/3 - 0s - loss: 0.5186 - accuracy: 0.7603 - val_loss: 0.6577 - val_accuracy: 0.7609 - 306ms/epoch - 102ms/step\n",
      "Epoch 75/100\n",
      "3/3 - 0s - loss: 0.5407 - accuracy: 0.7329 - val_loss: 0.6931 - val_accuracy: 0.7065 - 307ms/epoch - 102ms/step\n",
      "Epoch 76/100\n",
      "3/3 - 0s - loss: 0.4864 - accuracy: 0.7740 - val_loss: 0.6889 - val_accuracy: 0.6522 - 337ms/epoch - 112ms/step\n",
      "Epoch 77/100\n",
      "3/3 - 0s - loss: 0.4878 - accuracy: 0.7945 - val_loss: 0.6797 - val_accuracy: 0.7174 - 419ms/epoch - 140ms/step\n",
      "Epoch 78/100\n",
      "3/3 - 0s - loss: 0.4847 - accuracy: 0.7877 - val_loss: 0.6848 - val_accuracy: 0.7065 - 405ms/epoch - 135ms/step\n",
      "Epoch 79/100\n",
      "3/3 - 0s - loss: 0.4650 - accuracy: 0.7671 - val_loss: 0.7998 - val_accuracy: 0.6522 - 381ms/epoch - 127ms/step\n",
      "Epoch 80/100\n",
      "3/3 - 0s - loss: 0.4886 - accuracy: 0.7534 - val_loss: 0.7566 - val_accuracy: 0.6196 - 392ms/epoch - 131ms/step\n",
      "Epoch 81/100\n",
      "3/3 - 0s - loss: 0.5014 - accuracy: 0.7877 - val_loss: 0.6743 - val_accuracy: 0.6848 - 325ms/epoch - 108ms/step\n",
      "Epoch 82/100\n",
      "3/3 - 0s - loss: 0.5305 - accuracy: 0.7192 - val_loss: 0.6344 - val_accuracy: 0.6848 - 301ms/epoch - 100ms/step\n",
      "Epoch 83/100\n",
      "3/3 - 0s - loss: 0.4823 - accuracy: 0.7466 - val_loss: 0.7083 - val_accuracy: 0.7065 - 300ms/epoch - 100ms/step\n",
      "Epoch 84/100\n",
      "3/3 - 0s - loss: 0.4665 - accuracy: 0.7808 - val_loss: 0.8305 - val_accuracy: 0.6413 - 300ms/epoch - 100ms/step\n",
      "Epoch 85/100\n",
      "3/3 - 0s - loss: 0.5328 - accuracy: 0.7397 - val_loss: 1.3941 - val_accuracy: 0.5000 - 302ms/epoch - 101ms/step\n",
      "Epoch 86/100\n",
      "3/3 - 0s - loss: 0.7119 - accuracy: 0.6507 - val_loss: 0.7210 - val_accuracy: 0.5000 - 308ms/epoch - 103ms/step\n",
      "Epoch 87/100\n",
      "3/3 - 0s - loss: 0.6002 - accuracy: 0.6438 - val_loss: 0.7305 - val_accuracy: 0.6304 - 298ms/epoch - 99ms/step\n",
      "Epoch 88/100\n",
      "3/3 - 0s - loss: 0.5174 - accuracy: 0.7740 - val_loss: 0.7792 - val_accuracy: 0.6196 - 301ms/epoch - 100ms/step\n",
      "Epoch 89/100\n",
      "3/3 - 0s - loss: 0.5144 - accuracy: 0.7466 - val_loss: 0.7334 - val_accuracy: 0.6848 - 321ms/epoch - 107ms/step\n",
      "Epoch 90/100\n",
      "3/3 - 0s - loss: 0.4838 - accuracy: 0.7740 - val_loss: 0.7277 - val_accuracy: 0.6848 - 330ms/epoch - 110ms/step\n",
      "Epoch 91/100\n",
      "3/3 - 0s - loss: 0.5692 - accuracy: 0.7466 - val_loss: 0.6718 - val_accuracy: 0.7609 - 299ms/epoch - 100ms/step\n",
      "Epoch 92/100\n",
      "3/3 - 0s - loss: 0.4557 - accuracy: 0.7671 - val_loss: 0.7203 - val_accuracy: 0.6196 - 302ms/epoch - 101ms/step\n",
      "Epoch 93/100\n",
      "3/3 - 0s - loss: 0.4661 - accuracy: 0.7808 - val_loss: 0.7255 - val_accuracy: 0.6848 - 301ms/epoch - 100ms/step\n",
      "Epoch 94/100\n",
      "3/3 - 0s - loss: 0.4794 - accuracy: 0.7877 - val_loss: 0.7982 - val_accuracy: 0.6413 - 304ms/epoch - 101ms/step\n",
      "Epoch 95/100\n",
      "3/3 - 0s - loss: 0.5018 - accuracy: 0.7534 - val_loss: 0.7049 - val_accuracy: 0.7609 - 305ms/epoch - 102ms/step\n",
      "Epoch 96/100\n",
      "3/3 - 0s - loss: 0.4699 - accuracy: 0.7671 - val_loss: 0.7032 - val_accuracy: 0.7500 - 302ms/epoch - 101ms/step\n",
      "Epoch 97/100\n",
      "3/3 - 0s - loss: 0.4485 - accuracy: 0.7671 - val_loss: 0.6900 - val_accuracy: 0.6957 - 303ms/epoch - 101ms/step\n",
      "Epoch 98/100\n",
      "3/3 - 0s - loss: 0.4396 - accuracy: 0.7740 - val_loss: 1.8408 - val_accuracy: 0.5000 - 305ms/epoch - 102ms/step\n",
      "Epoch 99/100\n",
      "3/3 - 0s - loss: 0.8502 - accuracy: 0.6986 - val_loss: 0.6901 - val_accuracy: 0.6848 - 306ms/epoch - 102ms/step\n",
      "Epoch 100/100\n",
      "3/3 - 0s - loss: 0.6067 - accuracy: 0.6712 - val_loss: 0.8128 - val_accuracy: 0.6848 - 300ms/epoch - 100ms/step\n"
     ]
    },
    {
     "data": {
      "image/png": "[encoded data removed]",
      "text/plain": [
       "<Figure size 640x480 with 1 Axes>"
      ]
     },
     "metadata": {},
     "output_type": "display_data"
    },
    {
     "data": {
      "image/png": "[encoded data removed]",
      "text/plain": [
       "<Figure size 640x480 with 1 Axes>"
      ]
     },
     "metadata": {},
     "output_type": "display_data"
    }
   ],
   "source": [
    "history_cnn = CNN_model.fit(X_train_new, y_train, epochs=100, batch_size=64, validation_data=(X_test_new,y_test), verbose=2)\n",
    "\n",
    "#for plotting losses curve\n",
    "loss_training = history_cnn.history['loss']\n",
    "loss_test = history_cnn.history['val_loss']\n",
    "\n",
    "#for plotting accyracies curve\n",
    "accuracy_training = history_cnn.history['accuracy']\n",
    "accuracy_test = history_cnn.history['val_accuracy']\n",
    "\n",
    "loss_training = history_cnn.history['loss']\n",
    "loss_test = history_cnn.history['val_loss']\n",
    "\n",
    "accuracy_training = history_cnn.history['accuracy']\n",
    "accuracy_test = history_cnn.history['val_accuracy']\n",
    "\n",
    "#for Plotting\n",
    "plt.plot(loss_test)\n",
    "plt.plot(loss_training)\n",
    "\n",
    "#set the titles of losses plot\n",
    "plt.xlabel(\"# Of Epochs\")\n",
    "plt.ylabel(\"Loss\")\n",
    "plt.legend(['val Loss', 'Train Loss'])\n",
    "plt.show()\n",
    "\n",
    "#set the titles of accuracies plot\n",
    "plt.plot(accuracy_test)\n",
    "plt.plot(accuracy_training)\n",
    "plt.xlabel(\"# Of Epochs\")\n",
    "plt.ylabel(\"Accuracy\")\n",
    "plt.legend(['val accuracy', 'Train accuracy'])\n",
    "plt.show()"
   ]
  },
  {
   "cell_type": "code",
   "execution_count": 26,
   "id": "3b724cc7",
   "metadata": {
    "execution": {
     "iopub.execute_input": "2024-01-23T12:14:18.829772Z",
     "iopub.status.busy": "2024-01-23T12:14:18.828587Z",
     "iopub.status.idle": "2024-01-23T12:14:18.985222Z",
     "shell.execute_reply": "2024-01-23T12:14:18.984059Z"
    },
    "papermill": {
     "duration": 0.19521,
     "end_time": "2024-01-23T12:14:18.987735",
     "exception": false,
     "start_time": "2024-01-23T12:14:18.792525",
     "status": "completed"
    },
    "tags": []
   },
   "outputs": [
    {
     "name": "stdout",
     "output_type": "stream",
     "text": [
      "5/5 [==============================] - 0s 17ms/step - loss: 0.5036 - accuracy: 0.7466\n",
      "Final validation accuraccy: \n",
      "Loss: 0.503632664680481  Accuracy: 0.7465753555297852\n"
     ]
    }
   ],
   "source": [
    "#calculate and print the validation accuracy\n",
    "scores = CNN_model.evaluate(X_train_new, y_train)\n",
    "print('Final validation accuraccy: ')\n",
    "print(\"Loss:\", scores[0], \" Accuracy:\", scores[1])"
   ]
  },
  {
   "cell_type": "code",
   "execution_count": 27,
   "id": "62b0e932",
   "metadata": {
    "execution": {
     "iopub.execute_input": "2024-01-23T12:14:19.060201Z",
     "iopub.status.busy": "2024-01-23T12:14:19.059799Z",
     "iopub.status.idle": "2024-01-23T12:14:19.192606Z",
     "shell.execute_reply": "2024-01-23T12:14:19.191610Z"
    },
    "papermill": {
     "duration": 0.17195,
     "end_time": "2024-01-23T12:14:19.194902",
     "exception": false,
     "start_time": "2024-01-23T12:14:19.022952",
     "status": "completed"
    },
    "tags": []
   },
   "outputs": [
    {
     "name": "stdout",
     "output_type": "stream",
     "text": [
      "3/3 [==============================] - 0s 21ms/step - loss: 0.8128 - accuracy: 0.6848\n",
      "Final testing accuraccy: \n",
      "Loss: 0.8128096461296082  Accuracy: 0.6847826242446899\n"
     ]
    }
   ],
   "source": [
    "#calculate and print the testing accuracy\n",
    "scores_test = CNN_model.evaluate(X_test_new, y_test)\n",
    "print('Final testing accuraccy: ')\n",
    "print(\"Loss:\", scores_test[0], \" Accuracy:\", scores_test[1])"
   ]
  },
  {
   "cell_type": "code",
   "execution_count": 28,
   "id": "e1d19b39",
   "metadata": {
    "execution": {
     "iopub.execute_input": "2024-01-23T12:14:19.267952Z",
     "iopub.status.busy": "2024-01-23T12:14:19.267528Z",
     "iopub.status.idle": "2024-01-23T12:14:19.581336Z",
     "shell.execute_reply": "2024-01-23T12:14:19.580301Z"
    },
    "papermill": {
     "duration": 0.353285,
     "end_time": "2024-01-23T12:14:19.584046",
     "exception": false,
     "start_time": "2024-01-23T12:14:19.230761",
     "status": "completed"
    },
    "tags": []
   },
   "outputs": [
    {
     "name": "stdout",
     "output_type": "stream",
     "text": [
      "3/3 [==============================] - 0s 16ms/step\n"
     ]
    }
   ],
   "source": [
    "#make the model prediction\n",
    "pred = CNN_model.predict(X_test_new)"
   ]
  },
  {
   "cell_type": "code",
   "execution_count": 29,
   "id": "ece3d82f",
   "metadata": {
    "execution": {
     "iopub.execute_input": "2024-01-23T12:14:19.659381Z",
     "iopub.status.busy": "2024-01-23T12:14:19.658675Z",
     "iopub.status.idle": "2024-01-23T12:14:19.664165Z",
     "shell.execute_reply": "2024-01-23T12:14:19.663083Z"
    },
    "papermill": {
     "duration": 0.045092,
     "end_time": "2024-01-23T12:14:19.666508",
     "exception": false,
     "start_time": "2024-01-23T12:14:19.621416",
     "status": "completed"
    },
    "tags": []
   },
   "outputs": [],
   "source": [
    "Y_pred = (pred > 0.5) * 1.0\n",
    "Y_pred = Y_pred.reshape(y_test.shape)"
   ]
  },
  {
   "cell_type": "code",
   "execution_count": 30,
   "id": "ba5793e4",
   "metadata": {
    "execution": {
     "iopub.execute_input": "2024-01-23T12:14:19.739305Z",
     "iopub.status.busy": "2024-01-23T12:14:19.738893Z",
     "iopub.status.idle": "2024-01-23T12:14:19.754245Z",
     "shell.execute_reply": "2024-01-23T12:14:19.752847Z"
    },
    "papermill": {
     "duration": 0.054608,
     "end_time": "2024-01-23T12:14:19.756752",
     "exception": false,
     "start_time": "2024-01-23T12:14:19.702144",
     "status": "completed"
    },
    "tags": []
   },
   "outputs": [
    {
     "name": "stdout",
     "output_type": "stream",
     "text": [
      "Classification Report:\n",
      "               precision    recall  f1-score   support\n",
      "\n",
      "       False       0.64      0.85      0.73        46\n",
      "        True       0.77      0.52      0.62        46\n",
      "\n",
      "    accuracy                           0.68        92\n",
      "   macro avg       0.71      0.68      0.68        92\n",
      "weighted avg       0.71      0.68      0.68        92\n",
      "\n"
     ]
    }
   ],
   "source": [
    "report = metrics.classification_report(y_test, Y_pred)\n",
    "print(\"Classification Report:\\n\", report)"
   ]
  },
  {
   "cell_type": "code",
   "execution_count": 31,
   "id": "acc00266",
   "metadata": {
    "execution": {
     "iopub.execute_input": "2024-01-23T12:14:19.830312Z",
     "iopub.status.busy": "2024-01-23T12:14:19.829501Z",
     "iopub.status.idle": "2024-01-23T12:14:20.145253Z",
     "shell.execute_reply": "2024-01-23T12:14:20.144063Z"
    },
    "papermill": {
     "duration": 0.355378,
     "end_time": "2024-01-23T12:14:20.147783",
     "exception": false,
     "start_time": "2024-01-23T12:14:19.792405",
     "status": "completed"
    },
    "tags": []
   },
   "outputs": [
    {
     "data": {
      "image/png": "[encoded data removed]",
      "text/plain": [
       "<Figure size 800x600 with 2 Axes>"
      ]
     },
     "metadata": {},
     "output_type": "display_data"
    }
   ],
   "source": [
    "class_labels = list(X_test_new)\n",
    "import seaborn as sns\n",
    "cm = confusion_matrix(y_test, Y_pred)\n",
    "\n",
    "# Hiển thị confusion matrix bằng heatmap\n",
    "plt.figure(figsize=(8, 6))\n",
    "sns.heatmap(cm, annot=True, fmt='d', cmap='Blues',\n",
    "            xticklabels=['Malware', 'Benign'],\n",
    "            yticklabels=['Malware', 'Benign'])\n",
    "plt.title('Confusion Matrix')\n",
    "plt.xlabel('Predicted')\n",
    "plt.ylabel('Actual')\n",
    "plt.show()"
   ]
  }
 ],
 "metadata": {
  "kaggle": {
   "accelerator": "none",
   "dataSources": [
    {
     "datasetId": 4029702,
     "sourceId": 7009208,
     "sourceType": "datasetVersion"
    }
   ],
   "dockerImageVersionId": 30527,
   "isGpuEnabled": false,
   "isInternetEnabled": true,
   "language": "python",
   "sourceType": "notebook"
  },
  "kernelspec": {
   "display_name": "Python 3",
   "language": "python",
   "name": "python3"
  },
  "language_info": {
   "codemirror_mode": {
    "name": "ipython",
    "version": 3
   },
   "file_extension": ".py",
   "mimetype": "text/x-python",
   "name": "python",
   "nbconvert_exporter": "python",
   "pygments_lexer": "ipython3",
   "version": "3.10.12"
  },
  "papermill": {
   "default_parameters": {},
   "duration": 234.107776,
   "end_time": "2024-01-23T12:14:22.311528",
   "environment_variables": {},
   "exception": null,
   "input_path": "__notebook__.ipynb",
   "output_path": "__notebook__.ipynb",
   "parameters": {},
   "start_time": "2024-01-23T12:10:28.203752",
   "version": "2.4.0"
  }
 },
 "nbformat": 4,
 "nbformat_minor": 5
}
