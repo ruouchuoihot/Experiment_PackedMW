{
 "cells": [
  {
   "cell_type": "code",
   "execution_count": 1,
   "id": "4188534a",
   "metadata": {
    "execution": {
     "iopub.execute_input": "2023-12-27T01:16:59.101417Z",
     "iopub.status.busy": "2023-12-27T01:16:59.101128Z",
     "iopub.status.idle": "2023-12-27T01:17:00.678168Z",
     "shell.execute_reply": "2023-12-27T01:17:00.677343Z"
    },
    "papermill": {
     "duration": 1.594401,
     "end_time": "2023-12-27T01:17:00.680496",
     "exception": false,
     "start_time": "2023-12-27T01:16:59.086095",
     "status": "completed"
    },
    "tags": []
   },
   "outputs": [],
   "source": [
    "import pandas as pd\n",
    "import numpy as np\n",
    "import sklearn\n",
    "import sklearn.naive_bayes\n",
    "import sklearn.ensemble as ske\n",
    "import sklearn.neighbors\n",
    "import sklearn.pipeline\n",
    "import sklearn.linear_model\n",
    "import joblib\n",
    "from sklearn import preprocessing\n",
    "from sklearn import tree, linear_model\n",
    "from sklearn.metrics import confusion_matrix\n",
    "from sklearn.metrics import classification_report\n",
    "from sklearn.feature_selection import SelectFromModel\n",
    "import sys\n",
    "import sqlite3\n",
    "import importlib\n",
    "import matplotlib.pyplot as plt\n",
    "import seaborn as sn\n",
    "from sklearn import metrics"
   ]
  },
  {
   "cell_type": "code",
   "execution_count": 2,
   "id": "0b840042",
   "metadata": {
    "execution": {
     "iopub.execute_input": "2023-12-27T01:17:00.709685Z",
     "iopub.status.busy": "2023-12-27T01:17:00.709270Z",
     "iopub.status.idle": "2023-12-27T01:17:08.705068Z",
     "shell.execute_reply": "2023-12-27T01:17:08.704140Z"
    },
    "papermill": {
     "duration": 8.012213,
     "end_time": "2023-12-27T01:17:08.707416",
     "exception": false,
     "start_time": "2023-12-27T01:17:00.695203",
     "status": "completed"
    },
    "tags": []
   },
   "outputs": [],
   "source": [
    "upx = pd.read_pickle('/kaggle/input/packer-balance-pickle/upx_balance.pickle')"
   ]
  },
  {
   "cell_type": "code",
   "execution_count": 3,
   "id": "ea75ba66",
   "metadata": {
    "execution": {
     "iopub.execute_input": "2023-12-27T01:17:08.735927Z",
     "iopub.status.busy": "2023-12-27T01:17:08.735577Z",
     "iopub.status.idle": "2023-12-27T01:17:09.136085Z",
     "shell.execute_reply": "2023-12-27T01:17:09.135283Z"
    },
    "papermill": {
     "duration": 0.417003,
     "end_time": "2023-12-27T01:17:09.138171",
     "exception": false,
     "start_time": "2023-12-27T01:17:08.721168",
     "status": "completed"
    },
    "tags": []
   },
   "outputs": [],
   "source": [
    "upx = upx.drop(['sample_sha1','benign','unpacked_sample_sha1','unpacked_sample_id'], axis=1)\n",
    "upx = upx.drop(['benign_vt','malicious_vt'], axis=1)"
   ]
  },
  {
   "cell_type": "code",
   "execution_count": 4,
   "id": "77da1516",
   "metadata": {
    "execution": {
     "iopub.execute_input": "2023-12-27T01:17:09.166428Z",
     "iopub.status.busy": "2023-12-27T01:17:09.166170Z",
     "iopub.status.idle": "2023-12-27T01:17:09.320888Z",
     "shell.execute_reply": "2023-12-27T01:17:09.320033Z"
    },
    "papermill": {
     "duration": 0.170798,
     "end_time": "2023-12-27T01:17:09.322940",
     "exception": false,
     "start_time": "2023-12-27T01:17:09.152142",
     "status": "completed"
    },
    "tags": []
   },
   "outputs": [],
   "source": [
    "string_columns = upx.select_dtypes(include=['object']).columns\n",
    "upx = upx.drop(string_columns, axis=1)"
   ]
  },
  {
   "cell_type": "code",
   "execution_count": 5,
   "id": "983f19a3",
   "metadata": {
    "execution": {
     "iopub.execute_input": "2023-12-27T01:17:09.350601Z",
     "iopub.status.busy": "2023-12-27T01:17:09.350327Z",
     "iopub.status.idle": "2023-12-27T01:17:09.381637Z",
     "shell.execute_reply": "2023-12-27T01:17:09.380877Z"
    },
    "papermill": {
     "duration": 0.046994,
     "end_time": "2023-12-27T01:17:09.383292",
     "exception": false,
     "start_time": "2023-12-27T01:17:09.336298",
     "status": "completed"
    },
    "tags": []
   },
   "outputs": [
    {
     "data": {
      "text/html": [
       "<div>\n",
       "<style scoped>\n",
       "    .dataframe tbody tr th:only-of-type {\n",
       "        vertical-align: middle;\n",
       "    }\n",
       "\n",
       "    .dataframe tbody tr th {\n",
       "        vertical-align: top;\n",
       "    }\n",
       "\n",
       "    .dataframe thead th {\n",
       "        text-align: right;\n",
       "    }\n",
       "</style>\n",
       "<table border=\"1\" class=\"dataframe\">\n",
       "  <thead>\n",
       "    <tr style=\"text-align: right;\">\n",
       "      <th></th>\n",
       "      <th>malicious</th>\n",
       "      <th>packed</th>\n",
       "      <th>imp_setupremovefilelogentrya</th>\n",
       "      <th>imp_vardeccmp</th>\n",
       "      <th>imp_setdlgitemint</th>\n",
       "      <th>imp_?append@?$basic_string@du?$char_traits@d@std@@v?$allocator@d@2@@std@@qaeaav12@abv12@ii@z</th>\n",
       "      <th>imp_zwwritefile</th>\n",
       "      <th>imp_glstencilop</th>\n",
       "      <th>imp_comparelinkinforeferents</th>\n",
       "      <th>imp__setmbcp</th>\n",
       "      <th>...</th>\n",
       "      <th>opcode_xor sub mov</th>\n",
       "      <th>opcode_xor sub mov add</th>\n",
       "      <th>opcode_xor test</th>\n",
       "      <th>opcode_xor test je</th>\n",
       "      <th>opcode_xor xor</th>\n",
       "      <th>opcode_xor xor mov</th>\n",
       "      <th>opcode_xor xor pop</th>\n",
       "      <th>opcode_xor xor pop mov</th>\n",
       "      <th>opcode_xor xor xor</th>\n",
       "      <th>opcode_xor xor xor pop</th>\n",
       "    </tr>\n",
       "  </thead>\n",
       "  <tbody>\n",
       "    <tr>\n",
       "      <th>0</th>\n",
       "      <td>True</td>\n",
       "      <td>True</td>\n",
       "      <td>False</td>\n",
       "      <td>False</td>\n",
       "      <td>False</td>\n",
       "      <td>False</td>\n",
       "      <td>False</td>\n",
       "      <td>False</td>\n",
       "      <td>False</td>\n",
       "      <td>False</td>\n",
       "      <td>...</td>\n",
       "      <td>0.0</td>\n",
       "      <td>0.0</td>\n",
       "      <td>0.0</td>\n",
       "      <td>0.0</td>\n",
       "      <td>0.0</td>\n",
       "      <td>0.0</td>\n",
       "      <td>0.0</td>\n",
       "      <td>0.0</td>\n",
       "      <td>0.0</td>\n",
       "      <td>0.0</td>\n",
       "    </tr>\n",
       "    <tr>\n",
       "      <th>1</th>\n",
       "      <td>True</td>\n",
       "      <td>True</td>\n",
       "      <td>False</td>\n",
       "      <td>False</td>\n",
       "      <td>False</td>\n",
       "      <td>False</td>\n",
       "      <td>False</td>\n",
       "      <td>False</td>\n",
       "      <td>False</td>\n",
       "      <td>False</td>\n",
       "      <td>...</td>\n",
       "      <td>0.0</td>\n",
       "      <td>0.0</td>\n",
       "      <td>0.0</td>\n",
       "      <td>0.0</td>\n",
       "      <td>0.0</td>\n",
       "      <td>0.0</td>\n",
       "      <td>0.0</td>\n",
       "      <td>0.0</td>\n",
       "      <td>0.0</td>\n",
       "      <td>0.0</td>\n",
       "    </tr>\n",
       "    <tr>\n",
       "      <th>5</th>\n",
       "      <td>False</td>\n",
       "      <td>True</td>\n",
       "      <td>False</td>\n",
       "      <td>False</td>\n",
       "      <td>False</td>\n",
       "      <td>False</td>\n",
       "      <td>False</td>\n",
       "      <td>False</td>\n",
       "      <td>False</td>\n",
       "      <td>False</td>\n",
       "      <td>...</td>\n",
       "      <td>0.0</td>\n",
       "      <td>0.0</td>\n",
       "      <td>0.0</td>\n",
       "      <td>0.0</td>\n",
       "      <td>0.0</td>\n",
       "      <td>0.0</td>\n",
       "      <td>0.0</td>\n",
       "      <td>0.0</td>\n",
       "      <td>0.0</td>\n",
       "      <td>0.0</td>\n",
       "    </tr>\n",
       "    <tr>\n",
       "      <th>6</th>\n",
       "      <td>True</td>\n",
       "      <td>True</td>\n",
       "      <td>False</td>\n",
       "      <td>False</td>\n",
       "      <td>False</td>\n",
       "      <td>False</td>\n",
       "      <td>False</td>\n",
       "      <td>False</td>\n",
       "      <td>False</td>\n",
       "      <td>False</td>\n",
       "      <td>...</td>\n",
       "      <td>0.0</td>\n",
       "      <td>0.0</td>\n",
       "      <td>0.0</td>\n",
       "      <td>0.0</td>\n",
       "      <td>0.0</td>\n",
       "      <td>0.0</td>\n",
       "      <td>0.0</td>\n",
       "      <td>0.0</td>\n",
       "      <td>0.0</td>\n",
       "      <td>0.0</td>\n",
       "    </tr>\n",
       "    <tr>\n",
       "      <th>8</th>\n",
       "      <td>True</td>\n",
       "      <td>True</td>\n",
       "      <td>False</td>\n",
       "      <td>False</td>\n",
       "      <td>False</td>\n",
       "      <td>False</td>\n",
       "      <td>False</td>\n",
       "      <td>False</td>\n",
       "      <td>False</td>\n",
       "      <td>False</td>\n",
       "      <td>...</td>\n",
       "      <td>0.0</td>\n",
       "      <td>0.0</td>\n",
       "      <td>0.0</td>\n",
       "      <td>0.0</td>\n",
       "      <td>0.0</td>\n",
       "      <td>0.0</td>\n",
       "      <td>0.0</td>\n",
       "      <td>0.0</td>\n",
       "      <td>0.0</td>\n",
       "      <td>0.0</td>\n",
       "    </tr>\n",
       "  </tbody>\n",
       "</table>\n",
       "<p>5 rows × 56526 columns</p>\n",
       "</div>"
      ],
      "text/plain": [
       "   malicious  packed  imp_setupremovefilelogentrya  imp_vardeccmp  \\\n",
       "0       True    True                         False          False   \n",
       "1       True    True                         False          False   \n",
       "5      False    True                         False          False   \n",
       "6       True    True                         False          False   \n",
       "8       True    True                         False          False   \n",
       "\n",
       "   imp_setdlgitemint  \\\n",
       "0              False   \n",
       "1              False   \n",
       "5              False   \n",
       "6              False   \n",
       "8              False   \n",
       "\n",
       "   imp_?append@?$basic_string@du?$char_traits@d@std@@v?$allocator@d@2@@std@@qaeaav12@abv12@ii@z  \\\n",
       "0                                              False                                              \n",
       "1                                              False                                              \n",
       "5                                              False                                              \n",
       "6                                              False                                              \n",
       "8                                              False                                              \n",
       "\n",
       "   imp_zwwritefile  imp_glstencilop  imp_comparelinkinforeferents  \\\n",
       "0            False            False                         False   \n",
       "1            False            False                         False   \n",
       "5            False            False                         False   \n",
       "6            False            False                         False   \n",
       "8            False            False                         False   \n",
       "\n",
       "   imp__setmbcp  ...  opcode_xor sub mov  opcode_xor sub mov add  \\\n",
       "0         False  ...                 0.0                     0.0   \n",
       "1         False  ...                 0.0                     0.0   \n",
       "5         False  ...                 0.0                     0.0   \n",
       "6         False  ...                 0.0                     0.0   \n",
       "8         False  ...                 0.0                     0.0   \n",
       "\n",
       "   opcode_xor test  opcode_xor test je  opcode_xor xor  opcode_xor xor mov  \\\n",
       "0              0.0                 0.0             0.0                 0.0   \n",
       "1              0.0                 0.0             0.0                 0.0   \n",
       "5              0.0                 0.0             0.0                 0.0   \n",
       "6              0.0                 0.0             0.0                 0.0   \n",
       "8              0.0                 0.0             0.0                 0.0   \n",
       "\n",
       "   opcode_xor xor pop  opcode_xor xor pop mov  opcode_xor xor xor  \\\n",
       "0                 0.0                     0.0                 0.0   \n",
       "1                 0.0                     0.0                 0.0   \n",
       "5                 0.0                     0.0                 0.0   \n",
       "6                 0.0                     0.0                 0.0   \n",
       "8                 0.0                     0.0                 0.0   \n",
       "\n",
       "   opcode_xor xor xor pop  \n",
       "0                     0.0  \n",
       "1                     0.0  \n",
       "5                     0.0  \n",
       "6                     0.0  \n",
       "8                     0.0  \n",
       "\n",
       "[5 rows x 56526 columns]"
      ]
     },
     "execution_count": 5,
     "metadata": {},
     "output_type": "execute_result"
    }
   ],
   "source": [
    "upx.head()"
   ]
  },
  {
   "cell_type": "code",
   "execution_count": 6,
   "id": "83094c7f",
   "metadata": {
    "execution": {
     "iopub.execute_input": "2023-12-27T01:17:09.411313Z",
     "iopub.status.busy": "2023-12-27T01:17:09.411050Z",
     "iopub.status.idle": "2023-12-27T01:17:10.082773Z",
     "shell.execute_reply": "2023-12-27T01:17:10.082134Z"
    },
    "papermill": {
     "duration": 0.688087,
     "end_time": "2023-12-27T01:17:10.084812",
     "exception": false,
     "start_time": "2023-12-27T01:17:09.396725",
     "status": "completed"
    },
    "tags": []
   },
   "outputs": [],
   "source": [
    "df_7000 = upx.sample(n=7000, random_state=102)\n",
    "df_3000 = upx.drop(df_7000.index)"
   ]
  },
  {
   "cell_type": "code",
   "execution_count": 7,
   "id": "30c3d878",
   "metadata": {
    "execution": {
     "iopub.execute_input": "2023-12-27T01:17:10.118572Z",
     "iopub.status.busy": "2023-12-27T01:17:10.117881Z",
     "iopub.status.idle": "2023-12-27T01:17:10.407407Z",
     "shell.execute_reply": "2023-12-27T01:17:10.406755Z"
    },
    "papermill": {
     "duration": 0.30772,
     "end_time": "2023-12-27T01:17:10.409325",
     "exception": false,
     "start_time": "2023-12-27T01:17:10.101605",
     "status": "completed"
    },
    "tags": []
   },
   "outputs": [],
   "source": [
    "data = df_7000.sample(n=3500, random_state=102)"
   ]
  },
  {
   "cell_type": "code",
   "execution_count": 8,
   "id": "b18f4bd0",
   "metadata": {
    "execution": {
     "iopub.execute_input": "2023-12-27T01:17:10.436923Z",
     "iopub.status.busy": "2023-12-27T01:17:10.436650Z",
     "iopub.status.idle": "2023-12-27T01:17:10.668662Z",
     "shell.execute_reply": "2023-12-27T01:17:10.667353Z"
    },
    "papermill": {
     "duration": 0.24765,
     "end_time": "2023-12-27T01:17:10.670400",
     "exception": false,
     "start_time": "2023-12-27T01:17:10.422750",
     "status": "completed"
    },
    "tags": []
   },
   "outputs": [
    {
     "name": "stdout",
     "output_type": "stream",
     "text": [
      "Packed Malware: 2391 samples\n",
      "Packed Benign: 1109 samples\n",
      "Total TRAIN set: 3500 samples\n"
     ]
    }
   ],
   "source": [
    "#Kiểm tra số lượng mẫu\n",
    "PM = data[(data['malicious'] == True) & (data['packed'] == True)].shape[0]\n",
    "PB = data[(data['malicious'] == False) & (data['packed'] == True)].shape[0]\n",
    "print('Packed Malware: %i samples' % PM)\n",
    "print('Packed Benign: %i samples' % PB)\n",
    "print('Total TRAIN set: %i samples'% (PM+PB))"
   ]
  },
  {
   "cell_type": "code",
   "execution_count": 9,
   "id": "34e77199",
   "metadata": {
    "execution": {
     "iopub.execute_input": "2023-12-27T01:17:10.698353Z",
     "iopub.status.busy": "2023-12-27T01:17:10.698073Z",
     "iopub.status.idle": "2023-12-27T01:17:11.053367Z",
     "shell.execute_reply": "2023-12-27T01:17:11.052226Z"
    },
    "papermill": {
     "duration": 0.371621,
     "end_time": "2023-12-27T01:17:11.055666",
     "exception": false,
     "start_time": "2023-12-27T01:17:10.684045",
     "status": "completed"
    },
    "tags": []
   },
   "outputs": [],
   "source": [
    "#Chia tỉ lệ 50 - 50\n",
    "data_PM = data[(data['malicious'] == True) & (data['packed'] == True)].sample(n=(PM-PB), random_state=102)\n",
    "data = data.drop(data_PM.index)"
   ]
  },
  {
   "cell_type": "code",
   "execution_count": 10,
   "id": "f0ea93bb",
   "metadata": {
    "execution": {
     "iopub.execute_input": "2023-12-27T01:17:11.127014Z",
     "iopub.status.busy": "2023-12-27T01:17:11.126224Z",
     "iopub.status.idle": "2023-12-27T01:17:11.254650Z",
     "shell.execute_reply": "2023-12-27T01:17:11.253369Z"
    },
    "papermill": {
     "duration": 0.187373,
     "end_time": "2023-12-27T01:17:11.256725",
     "exception": false,
     "start_time": "2023-12-27T01:17:11.069352",
     "status": "completed"
    },
    "tags": []
   },
   "outputs": [
    {
     "name": "stdout",
     "output_type": "stream",
     "text": [
      "Packed Malware: 1109 samples\n",
      "Packed Benign: 1109 samples\n",
      "Total TRAIN set: 2218 samples\n"
     ]
    }
   ],
   "source": [
    "#Số lượng tập train\n",
    "PM = data[(data['malicious'] == True) & (data['packed'] == True)].shape[0]\n",
    "PB = data[(data['malicious'] == False) & (data['packed'] == True)].shape[0]\n",
    "print('Packed Malware: %i samples' % PM)\n",
    "print('Packed Benign: %i samples' % PB)\n",
    "print('Total TRAIN set: %i samples'% (PM+PB))"
   ]
  },
  {
   "cell_type": "code",
   "execution_count": 11,
   "id": "acecff3c",
   "metadata": {
    "execution": {
     "iopub.execute_input": "2023-12-27T01:17:11.285774Z",
     "iopub.status.busy": "2023-12-27T01:17:11.285320Z",
     "iopub.status.idle": "2023-12-27T01:17:11.329599Z",
     "shell.execute_reply": "2023-12-27T01:17:11.328974Z"
    },
    "papermill": {
     "duration": 0.060705,
     "end_time": "2023-12-27T01:17:11.331571",
     "exception": false,
     "start_time": "2023-12-27T01:17:11.270866",
     "status": "completed"
    },
    "tags": []
   },
   "outputs": [],
   "source": [
    "#Xử lý tập train\n",
    "y = data['malicious'].values\n",
    "data = data.drop(['malicious','packed'], axis=1)"
   ]
  },
  {
   "cell_type": "code",
   "execution_count": 12,
   "id": "34a37a46",
   "metadata": {
    "execution": {
     "iopub.execute_input": "2023-12-27T01:17:11.360353Z",
     "iopub.status.busy": "2023-12-27T01:17:11.360098Z",
     "iopub.status.idle": "2023-12-27T01:17:11.925294Z",
     "shell.execute_reply": "2023-12-27T01:17:11.924284Z"
    },
    "papermill": {
     "duration": 0.581568,
     "end_time": "2023-12-27T01:17:11.927124",
     "exception": false,
     "start_time": "2023-12-27T01:17:11.345556",
     "status": "completed"
    },
    "tags": []
   },
   "outputs": [
    {
     "name": "stdout",
     "output_type": "stream",
     "text": [
      "Packed Malware: 974 samples\n",
      "Packed Benign: 974 samples\n",
      "Total TEST set: 1948 samples\n"
     ]
    }
   ],
   "source": [
    "PM = df_3000[(df_3000['malicious'] == True) & (df_3000['packed'] == True)].shape[0]\n",
    "PB = df_3000[(df_3000['malicious'] == False) & (df_3000['packed'] == True)].shape[0]\n",
    "\n",
    "df_3000_PM = df_3000[(df_3000['malicious'] == True) & (df_3000['packed'] == True)].sample(n=(PM-PB), random_state=102)\n",
    "df_3000 = df_3000.drop(df_3000_PM.index)\n",
    "\n",
    "PM = df_3000[(df_3000['malicious'] == True) & (df_3000['packed'] == True)].shape[0]\n",
    "PB = df_3000[(df_3000['malicious'] == False) & (df_3000['packed'] == True)].shape[0]\n",
    "\n",
    "print('Packed Malware: %i samples' % PM)\n",
    "print('Packed Benign: %i samples' % PB)\n",
    "print('Total TEST set: %i samples'% (PM+PB))"
   ]
  },
  {
   "cell_type": "code",
   "execution_count": 13,
   "id": "d09b9547",
   "metadata": {
    "execution": {
     "iopub.execute_input": "2023-12-27T01:17:11.955621Z",
     "iopub.status.busy": "2023-12-27T01:17:11.955348Z",
     "iopub.status.idle": "2023-12-27T01:17:12.182423Z",
     "shell.execute_reply": "2023-12-27T01:17:12.181521Z"
    },
    "papermill": {
     "duration": 0.244155,
     "end_time": "2023-12-27T01:17:12.185137",
     "exception": false,
     "start_time": "2023-12-27T01:17:11.940982",
     "status": "completed"
    },
    "tags": []
   },
   "outputs": [],
   "source": [
    "# model = SelectFromModel(fsel, prefit=True)\n",
    "\n",
    "X_train = data\n",
    "X_test = df_3000.drop(['malicious','packed'], axis=1)\n",
    "\n",
    "data = data.loc[:, (data != 0).any(axis=0)]\n",
    "x_train = data\n",
    "X_test = df_3000.drop(['malicious','packed'], axis=1)\n",
    "y_train = y\n",
    "y_test = df_3000['malicious'].values"
   ]
  },
  {
   "cell_type": "code",
   "execution_count": 14,
   "id": "8a872148",
   "metadata": {
    "execution": {
     "iopub.execute_input": "2023-12-27T01:17:12.213912Z",
     "iopub.status.busy": "2023-12-27T01:17:12.213566Z",
     "iopub.status.idle": "2023-12-27T01:17:15.843722Z",
     "shell.execute_reply": "2023-12-27T01:17:15.842777Z"
    },
    "papermill": {
     "duration": 3.646273,
     "end_time": "2023-12-27T01:17:15.845403",
     "exception": false,
     "start_time": "2023-12-27T01:17:12.199130",
     "status": "completed"
    },
    "tags": []
   },
   "outputs": [
    {
     "name": "stdout",
     "output_type": "stream",
     "text": [
      "The accuracy of the Random Forests model is :\t 0.9291581108829569\n"
     ]
    }
   ],
   "source": [
    "# Random Forest\n",
    "from sklearn.ensemble import RandomForestClassifier\n",
    "from sklearn import metrics\n",
    "\n",
    "random_forest = RandomForestClassifier(n_estimators=100, random_state=17)\n",
    "random_forest.fit(X_train, y_train)\n",
    "random_forest_preds = random_forest.predict(X_test)\n",
    "print('The accuracy of the Random Forests model is :\\t',metrics.accuracy_score(random_forest_preds,y_test))"
   ]
  },
  {
   "cell_type": "code",
   "execution_count": 15,
   "id": "ba0b1c9a",
   "metadata": {
    "execution": {
     "iopub.execute_input": "2023-12-27T01:17:15.874207Z",
     "iopub.status.busy": "2023-12-27T01:17:15.873917Z",
     "iopub.status.idle": "2023-12-27T01:17:15.910672Z",
     "shell.execute_reply": "2023-12-27T01:17:15.910079Z"
    },
    "papermill": {
     "duration": 0.052786,
     "end_time": "2023-12-27T01:17:15.912137",
     "exception": false,
     "start_time": "2023-12-27T01:17:15.859351",
     "status": "completed"
    },
    "tags": []
   },
   "outputs": [
    {
     "data": {
      "text/plain": [
       "generic_fileEntropy                        0.006407\n",
       "header_SizeOfCode                          0.005478\n",
       "ngram_b'\\x051\\x0f\\x17\\r1'                  0.004816\n",
       "pesection_2_size                           0.004751\n",
       "ngram_b'\\x05\\x00\\x03\\x82\\x01\\x0f'          0.004377\n",
       "                                             ...   \n",
       "imp__zn7qwidget6resizeerk5qsize            0.000000\n",
       "imp__zn7qwidget9dropeventep10qdropevent    0.000000\n",
       "imp__zn7qwidget9hideeventep10qhideevent    0.000000\n",
       "imp__zn7qwidget9moveeventep10qmoveevent    0.000000\n",
       "opcode_xor xor xor pop                     0.000000\n",
       "Length: 56524, dtype: float64"
      ]
     },
     "execution_count": 15,
     "metadata": {},
     "output_type": "execute_result"
    }
   ],
   "source": [
    "feature_scores_rf = pd.Series(random_forest.feature_importances_, index=X_train.columns).sort_values(ascending=False)\n",
    "\n",
    "feature_scores_rf"
   ]
  },
  {
   "cell_type": "code",
   "execution_count": 16,
   "id": "feb43c58",
   "metadata": {
    "execution": {
     "iopub.execute_input": "2023-12-27T01:17:15.941040Z",
     "iopub.status.busy": "2023-12-27T01:17:15.940596Z",
     "iopub.status.idle": "2023-12-27T01:17:15.969967Z",
     "shell.execute_reply": "2023-12-27T01:17:15.969300Z"
    },
    "papermill": {
     "duration": 0.046068,
     "end_time": "2023-12-27T01:17:15.972182",
     "exception": false,
     "start_time": "2023-12-27T01:17:15.926114",
     "status": "completed"
    },
    "tags": []
   },
   "outputs": [],
   "source": [
    "top50 = pd.Series(random_forest.feature_importances_, index=X_train.columns).sort_values(ascending=False).head(50)"
   ]
  },
  {
   "cell_type": "code",
   "execution_count": 17,
   "id": "b2c247f5",
   "metadata": {
    "execution": {
     "iopub.execute_input": "2023-12-27T01:17:16.002086Z",
     "iopub.status.busy": "2023-12-27T01:17:16.001524Z",
     "iopub.status.idle": "2023-12-27T01:17:16.013175Z",
     "shell.execute_reply": "2023-12-27T01:17:16.012199Z"
    },
    "papermill": {
     "duration": 0.028323,
     "end_time": "2023-12-27T01:17:16.014848",
     "exception": false,
     "start_time": "2023-12-27T01:17:15.986525",
     "status": "completed"
    },
    "tags": []
   },
   "outputs": [
    {
     "name": "stdout",
     "output_type": "stream",
     "text": [
      "'ngram': 18\n",
      "'opcode ngram': 0\n",
      "'generic': 2\n",
      "'strings': 0\n",
      "'rich header': 3\n",
      "'api import': 2\n",
      "'dll': 1\n",
      "'pe section': 19\n",
      "'pe header': 5\n"
     ]
    }
   ],
   "source": [
    "# Tạo DataFrame từ feature_scores_rf\n",
    "df_features = pd.DataFrame(top50, columns=['Score'])\n",
    "\n",
    "count_ngram = df_features[df_features.index.str.startswith('ngram_')].shape[0]\n",
    "count_opcode = df_features[df_features.index.str.startswith('opcode_')].shape[0]\n",
    "count_generic = df_features[df_features.index.str.startswith('generic_')].shape[0]\n",
    "count_string = df_features[df_features.index.str.startswith('string_')].shape[0]\n",
    "count_rich = df_features[df_features.index.str.startswith('rich_')].shape[0]\n",
    "# count_api = df_features[df_features.index.str.startswith('imp_') or 'api_import_nb' == c].shape[0]\n",
    "# count_dll = df_features[df_features.index.str.startswith('.dll') or 'dll_import_nb' == c].shape[0]\n",
    "count_api = df_features[df_features.index.str.startswith('imp_') | (df_features.index == 'api_import_nb')].shape[0]\n",
    "count_dll = df_features[df_features.index.str.endswith('.dll') | (df_features.index == 'dll_import_nb')].shape[0]\n",
    "count_section = df_features[df_features.index.str.startswith('pesection')].shape[0]\n",
    "count_header = df_features[df_features.index.str.startswith('header_')].shape[0]\n",
    "\n",
    "print(f\"'ngram': {count_ngram}\")\n",
    "print(f\"'opcode ngram': {count_opcode}\")\n",
    "print(f\"'generic': {count_generic}\")\n",
    "print(f\"'strings': {count_string}\")\n",
    "print(f\"'rich header': {count_rich}\")\n",
    "print(f\"'api import': {count_api}\")\n",
    "print(f\"'dll': {count_dll}\")\n",
    "print(f\"'pe section': {count_section}\")\n",
    "print(f\"'pe header': {count_header}\")"
   ]
  },
  {
   "cell_type": "code",
   "execution_count": 18,
   "id": "d81ff063",
   "metadata": {
    "execution": {
     "iopub.execute_input": "2023-12-27T01:17:16.044408Z",
     "iopub.status.busy": "2023-12-27T01:17:16.043701Z",
     "iopub.status.idle": "2023-12-27T01:17:16.051947Z",
     "shell.execute_reply": "2023-12-27T01:17:16.051226Z"
    },
    "papermill": {
     "duration": 0.024344,
     "end_time": "2023-12-27T01:17:16.053451",
     "exception": false,
     "start_time": "2023-12-27T01:17:16.029107",
     "status": "completed"
    },
    "tags": []
   },
   "outputs": [],
   "source": [
    "cols = list(upx.columns)"
   ]
  },
  {
   "cell_type": "markdown",
   "id": "64d5d35b",
   "metadata": {
    "papermill": {
     "duration": 0.014698,
     "end_time": "2023-12-27T01:17:16.082590",
     "exception": false,
     "start_time": "2023-12-27T01:17:16.067892",
     "status": "completed"
    },
    "tags": []
   },
   "source": [
    "# **ngram features**"
   ]
  },
  {
   "cell_type": "code",
   "execution_count": 19,
   "id": "a6a6978b",
   "metadata": {
    "execution": {
     "iopub.execute_input": "2023-12-27T01:17:16.112409Z",
     "iopub.status.busy": "2023-12-27T01:17:16.111603Z",
     "iopub.status.idle": "2023-12-27T01:17:16.972213Z",
     "shell.execute_reply": "2023-12-27T01:17:16.971394Z"
    },
    "papermill": {
     "duration": 0.87757,
     "end_time": "2023-12-27T01:17:16.974182",
     "exception": false,
     "start_time": "2023-12-27T01:17:16.096612",
     "status": "completed"
    },
    "tags": []
   },
   "outputs": [],
   "source": [
    "upx = pd.read_pickle('/kaggle/input/packer-balance-pickle/upx_balance.pickle')\n",
    "upx = upx.drop(['sample_sha1','benign','unpacked_sample_sha1','unpacked_sample_id'], axis=1)\n",
    "upx = upx.drop(['benign_vt','malicious_vt'], axis=1)\n",
    "string_columns = upx.select_dtypes(include=['object']).columns\n",
    "upx = upx.drop(string_columns, axis=1)"
   ]
  },
  {
   "cell_type": "code",
   "execution_count": 20,
   "id": "0a7496ea",
   "metadata": {
    "execution": {
     "iopub.execute_input": "2023-12-27T01:17:17.004464Z",
     "iopub.status.busy": "2023-12-27T01:17:17.004165Z",
     "iopub.status.idle": "2023-12-27T01:17:17.008131Z",
     "shell.execute_reply": "2023-12-27T01:17:17.007242Z"
    },
    "papermill": {
     "duration": 0.021413,
     "end_time": "2023-12-27T01:17:17.010069",
     "exception": false,
     "start_time": "2023-12-27T01:17:16.988656",
     "status": "completed"
    },
    "tags": []
   },
   "outputs": [],
   "source": [
    "def remove_cols(df, ll):\n",
    "    print(\"removing {} features\".format(len(ll)))\n",
    "    df.drop(columns=ll, axis=1, inplace=True)\n",
    "    return df"
   ]
  },
  {
   "cell_type": "code",
   "execution_count": 21,
   "id": "9d8cbd70",
   "metadata": {
    "execution": {
     "iopub.execute_input": "2023-12-27T01:17:17.039406Z",
     "iopub.status.busy": "2023-12-27T01:17:17.038855Z",
     "iopub.status.idle": "2023-12-27T01:17:17.713837Z",
     "shell.execute_reply": "2023-12-27T01:17:17.712805Z"
    },
    "papermill": {
     "duration": 0.691256,
     "end_time": "2023-12-27T01:17:17.715349",
     "exception": false,
     "start_time": "2023-12-27T01:17:17.024093",
     "status": "completed"
    },
    "tags": []
   },
   "outputs": [
    {
     "name": "stdout",
     "output_type": "stream",
     "text": [
      "removing 2500 features\n",
      "removing 2 features\n",
      "removing 16900 features\n",
      "removing 66 features\n",
      "removing 19169 features\n",
      "removing 4306 features\n",
      "removing 550 features\n",
      "removing 29 features\n"
     ]
    }
   ],
   "source": [
    "# ngram = remove_cols(df, [c for c in cols if c.startswith('ngram_')])\n",
    "ngram = remove_cols(upx, [c for c in cols if c.startswith('opcode_')])\n",
    "ngram = remove_cols(upx, [c for c in cols if c.startswith('generic_')])\n",
    "ngram = remove_cols(upx, [c for c in cols if c.startswith('string_')])\n",
    "ngram = remove_cols(upx, [c for c in cols if c.startswith('rich_')])\n",
    "ngram = remove_cols(upx, [c for c in cols if c.startswith('imp_') or 'api_import_nb' == c])\n",
    "ngram = remove_cols(upx, [c for c in cols if c.endswith('.dll') or 'dll_import_nb' == c])\n",
    "ngram = remove_cols(upx, [c for c in cols if c.startswith('pesection')])\n",
    "ngram = remove_cols(upx, [c for c in cols if c.startswith('header_')])"
   ]
  },
  {
   "cell_type": "code",
   "execution_count": 22,
   "id": "8239a0c5",
   "metadata": {
    "execution": {
     "iopub.execute_input": "2023-12-27T01:17:17.746139Z",
     "iopub.status.busy": "2023-12-27T01:17:17.745412Z",
     "iopub.status.idle": "2023-12-27T01:17:17.928378Z",
     "shell.execute_reply": "2023-12-27T01:17:17.927629Z"
    },
    "papermill": {
     "duration": 0.200135,
     "end_time": "2023-12-27T01:17:17.930363",
     "exception": false,
     "start_time": "2023-12-27T01:17:17.730228",
     "status": "completed"
    },
    "tags": []
   },
   "outputs": [],
   "source": [
    "df_7000_ngram = ngram.sample(n=7000, random_state=102)\n",
    "df_3000_ngram = ngram.drop(df_7000.index)\n",
    "data_ngram = df_7000_ngram.sample(n=3500, random_state=102)"
   ]
  },
  {
   "cell_type": "code",
   "execution_count": 23,
   "id": "539e78a0",
   "metadata": {
    "execution": {
     "iopub.execute_input": "2023-12-27T01:17:17.959928Z",
     "iopub.status.busy": "2023-12-27T01:17:17.959627Z",
     "iopub.status.idle": "2023-12-27T01:17:18.212211Z",
     "shell.execute_reply": "2023-12-27T01:17:18.211310Z"
    },
    "papermill": {
     "duration": 0.26928,
     "end_time": "2023-12-27T01:17:18.214074",
     "exception": false,
     "start_time": "2023-12-27T01:17:17.944794",
     "status": "completed"
    },
    "tags": []
   },
   "outputs": [
    {
     "name": "stdout",
     "output_type": "stream",
     "text": [
      "Packed Malware: 2391 samples\n",
      "Packed Benign: 1109 samples\n",
      "Total TRAIN set: 3500 samples\n",
      "Packed Malware: 1109 samples\n",
      "Packed Benign: 1109 samples\n",
      "Total TRAIN set: 2218 samples\n",
      "Packed Malware: 974 samples\n",
      "Packed Benign: 974 samples\n",
      "Total TEST set: 1948 samples\n"
     ]
    }
   ],
   "source": [
    "#Kiểm tra số lượng mẫu\n",
    "PM = data_ngram[(data_ngram['malicious'] == True) & (data_ngram['packed'] == True)].shape[0]\n",
    "PB = data_ngram[(data_ngram['malicious'] == False) & (data_ngram['packed'] == True)].shape[0]\n",
    "print('Packed Malware: %i samples' % PM)\n",
    "print('Packed Benign: %i samples' % PB)\n",
    "print('Total TRAIN set: %i samples'% (PM+PB))\n",
    "\n",
    "#Chia tỉ lệ 50 - 50\n",
    "data_PM_ngram = data_ngram[(data_ngram['malicious'] == True) & (data_ngram['packed'] == True)].sample(n=(PM-PB), random_state=102)\n",
    "data_ngram = data_ngram.drop(data_PM_ngram.index)\n",
    "\n",
    "#Số lượng tập train\n",
    "PM = data_ngram[(data_ngram['malicious'] == True) & (data_ngram['packed'] == True)].shape[0]\n",
    "PB = data_ngram[(data_ngram['malicious'] == False) & (data_ngram['packed'] == True)].shape[0]\n",
    "print('Packed Malware: %i samples' % PM)\n",
    "print('Packed Benign: %i samples' % PB)\n",
    "print('Total TRAIN set: %i samples'% (PM+PB))\n",
    "\n",
    "#Xử lý tập train\n",
    "y = data_ngram['malicious'].values\n",
    "data_ngram = data_ngram.drop(['malicious','packed'], axis=1)\n",
    "\n",
    "PM = df_3000_ngram[(df_3000_ngram['malicious'] == True) & (df_3000_ngram['packed'] == True)].shape[0]\n",
    "PB = df_3000_ngram[(df_3000_ngram['malicious'] == False) & (df_3000_ngram['packed'] == True)].shape[0]\n",
    "\n",
    "df_3000_PM_ngram = df_3000_ngram[(df_3000_ngram['malicious'] == True) & (df_3000_ngram['packed'] == True)].sample(n=(PM-PB), random_state=102)\n",
    "df_3000_ngram = df_3000_ngram.drop(df_3000_PM.index)\n",
    "\n",
    "PM = df_3000_ngram[(df_3000_ngram['malicious'] == True) & (df_3000_ngram['packed'] == True)].shape[0]\n",
    "PB = df_3000_ngram[(df_3000_ngram['malicious'] == False) & (df_3000_ngram['packed'] == True)].shape[0]\n",
    "\n",
    "print('Packed Malware: %i samples' % PM)\n",
    "print('Packed Benign: %i samples' % PB)\n",
    "print('Total TEST set: %i samples'% (PM+PB))"
   ]
  },
  {
   "cell_type": "code",
   "execution_count": 24,
   "id": "73ffde91",
   "metadata": {
    "execution": {
     "iopub.execute_input": "2023-12-27T01:17:18.243964Z",
     "iopub.status.busy": "2023-12-27T01:17:18.243654Z",
     "iopub.status.idle": "2023-12-27T01:17:18.290290Z",
     "shell.execute_reply": "2023-12-27T01:17:18.289374Z"
    },
    "papermill": {
     "duration": 0.063547,
     "end_time": "2023-12-27T01:17:18.292394",
     "exception": false,
     "start_time": "2023-12-27T01:17:18.228847",
     "status": "completed"
    },
    "tags": []
   },
   "outputs": [],
   "source": [
    "# model = SelectFromModel(fsel, prefit=True)\n",
    "\n",
    "X_train_ngram = data_ngram\n",
    "X_test_ngram = df_3000_ngram.drop(['malicious','packed'], axis=1)\n",
    "\n",
    "data_ngram = data_ngram.loc[:, (data_ngram != 0).any(axis=0)]\n",
    "x_train_ngram = data_ngram\n",
    "X_test_ngram = df_3000_ngram.drop(['malicious','packed'], axis=1)\n",
    "y_train_ngram = y\n",
    "y_test_ngram = df_3000_ngram['malicious'].values"
   ]
  },
  {
   "cell_type": "code",
   "execution_count": 25,
   "id": "6c2955a6",
   "metadata": {
    "execution": {
     "iopub.execute_input": "2023-12-27T01:17:18.325395Z",
     "iopub.status.busy": "2023-12-27T01:17:18.325064Z",
     "iopub.status.idle": "2023-12-27T01:17:20.323031Z",
     "shell.execute_reply": "2023-12-27T01:17:20.322371Z"
    },
    "papermill": {
     "duration": 2.017128,
     "end_time": "2023-12-27T01:17:20.324802",
     "exception": false,
     "start_time": "2023-12-27T01:17:18.307674",
     "status": "completed"
    },
    "tags": []
   },
   "outputs": [
    {
     "name": "stdout",
     "output_type": "stream",
     "text": [
      "The accuracy of the Random Forests model is :\t 0.9188911704312115\n"
     ]
    }
   ],
   "source": [
    "# Random Forest\n",
    "from sklearn.ensemble import RandomForestClassifier\n",
    "from sklearn import metrics\n",
    "\n",
    "random_forest = RandomForestClassifier(n_estimators=100, random_state=17)\n",
    "random_forest.fit(X_train_ngram, y_train_ngram)\n",
    "random_forest_preds = random_forest.predict(X_test_ngram)\n",
    "print('The accuracy of the Random Forests model is :\\t',metrics.accuracy_score(random_forest_preds,y_test_ngram))"
   ]
  },
  {
   "cell_type": "markdown",
   "id": "8af105bf",
   "metadata": {
    "papermill": {
     "duration": 0.014077,
     "end_time": "2023-12-27T01:17:20.353531",
     "exception": false,
     "start_time": "2023-12-27T01:17:20.339454",
     "status": "completed"
    },
    "tags": []
   },
   "source": [
    "# **opcode features**"
   ]
  },
  {
   "cell_type": "code",
   "execution_count": 26,
   "id": "dd025c9e",
   "metadata": {
    "execution": {
     "iopub.execute_input": "2023-12-27T01:17:20.383622Z",
     "iopub.status.busy": "2023-12-27T01:17:20.383120Z",
     "iopub.status.idle": "2023-12-27T01:17:21.193537Z",
     "shell.execute_reply": "2023-12-27T01:17:21.192898Z"
    },
    "papermill": {
     "duration": 0.827774,
     "end_time": "2023-12-27T01:17:21.195398",
     "exception": false,
     "start_time": "2023-12-27T01:17:20.367624",
     "status": "completed"
    },
    "tags": []
   },
   "outputs": [],
   "source": [
    "upx = pd.read_pickle('/kaggle/input/packer-balance-pickle/upx_balance.pickle')\n",
    "upx = upx.drop(['sample_sha1','benign','unpacked_sample_sha1','unpacked_sample_id'], axis=1)\n",
    "upx = upx.drop(['benign_vt','malicious_vt'], axis=1)\n",
    "string_columns = upx.select_dtypes(include=['object']).columns\n",
    "upx = upx.drop(string_columns, axis=1)"
   ]
  },
  {
   "cell_type": "code",
   "execution_count": 27,
   "id": "cf70d1df",
   "metadata": {
    "execution": {
     "iopub.execute_input": "2023-12-27T01:17:21.226741Z",
     "iopub.status.busy": "2023-12-27T01:17:21.226454Z",
     "iopub.status.idle": "2023-12-27T01:17:21.952403Z",
     "shell.execute_reply": "2023-12-27T01:17:21.951119Z"
    },
    "papermill": {
     "duration": 0.743674,
     "end_time": "2023-12-27T01:17:21.954210",
     "exception": false,
     "start_time": "2023-12-27T01:17:21.210536",
     "status": "completed"
    },
    "tags": []
   },
   "outputs": [
    {
     "name": "stdout",
     "output_type": "stream",
     "text": [
      "removing 13000 features\n",
      "removing 2 features\n",
      "removing 16900 features\n",
      "removing 66 features\n",
      "removing 19169 features\n",
      "removing 4306 features\n",
      "removing 550 features\n",
      "removing 29 features\n"
     ]
    }
   ],
   "source": [
    "opcode = remove_cols(upx, [c for c in cols if c.startswith('ngram_')])\n",
    "# opcode = remove_cols(upx, [c for c in cols if c.startswith('opcode_')])\n",
    "opcode = remove_cols(upx, [c for c in cols if c.startswith('generic_')])\n",
    "opcode = remove_cols(upx, [c for c in cols if c.startswith('string_')])\n",
    "opcode = remove_cols(upx, [c for c in cols if c.startswith('rich_')])\n",
    "opcode = remove_cols(upx, [c for c in cols if c.startswith('imp_') or 'api_import_nb' == c])\n",
    "opcode = remove_cols(upx, [c for c in cols if c.endswith('.dll') or 'dll_import_nb' == c])\n",
    "opcode = remove_cols(upx, [c for c in cols if c.startswith('pesection')])\n",
    "opcode = remove_cols(upx, [c for c in cols if c.startswith('header_')])"
   ]
  },
  {
   "cell_type": "code",
   "execution_count": 28,
   "id": "eeedcb61",
   "metadata": {
    "execution": {
     "iopub.execute_input": "2023-12-27T01:17:21.984572Z",
     "iopub.status.busy": "2023-12-27T01:17:21.984284Z",
     "iopub.status.idle": "2023-12-27T01:17:22.108198Z",
     "shell.execute_reply": "2023-12-27T01:17:22.107350Z"
    },
    "papermill": {
     "duration": 0.141249,
     "end_time": "2023-12-27T01:17:22.110300",
     "exception": false,
     "start_time": "2023-12-27T01:17:21.969051",
     "status": "completed"
    },
    "tags": []
   },
   "outputs": [],
   "source": [
    "df_7000_opcode = opcode.sample(n=7000, random_state=102)\n",
    "df_3000_opcode = opcode.drop(df_7000.index)\n",
    "data_opcode = df_7000_opcode.sample(n=3500, random_state=102)"
   ]
  },
  {
   "cell_type": "code",
   "execution_count": 29,
   "id": "3dcac82d",
   "metadata": {
    "execution": {
     "iopub.execute_input": "2023-12-27T01:17:22.140507Z",
     "iopub.status.busy": "2023-12-27T01:17:22.140213Z",
     "iopub.status.idle": "2023-12-27T01:17:22.247808Z",
     "shell.execute_reply": "2023-12-27T01:17:22.247055Z"
    },
    "papermill": {
     "duration": 0.124784,
     "end_time": "2023-12-27T01:17:22.250002",
     "exception": false,
     "start_time": "2023-12-27T01:17:22.125218",
     "status": "completed"
    },
    "tags": []
   },
   "outputs": [
    {
     "name": "stdout",
     "output_type": "stream",
     "text": [
      "Packed Malware: 2391 samples\n",
      "Packed Benign: 1109 samples\n",
      "Total TRAIN set: 3500 samples\n",
      "Packed Malware: 1109 samples\n",
      "Packed Benign: 1109 samples\n",
      "Total TRAIN set: 2218 samples\n",
      "Packed Malware: 974 samples\n",
      "Packed Benign: 974 samples\n",
      "Total TEST set: 1948 samples\n"
     ]
    }
   ],
   "source": [
    "#Kiểm tra số lượng mẫu\n",
    "PM = data_opcode[(data_opcode['malicious'] == True) & (data_opcode['packed'] == True)].shape[0]\n",
    "PB = data_opcode[(data_opcode['malicious'] == False) & (data_opcode['packed'] == True)].shape[0]\n",
    "print('Packed Malware: %i samples' % PM)\n",
    "print('Packed Benign: %i samples' % PB)\n",
    "print('Total TRAIN set: %i samples'% (PM+PB))\n",
    "\n",
    "#Chia tỉ lệ 50 - 50\n",
    "data_PM_opcode = data_opcode[(data_opcode['malicious'] == True) & (data_opcode['packed'] == True)].sample(n=(PM-PB), random_state=102)\n",
    "data_opcode = data_opcode.drop(data_PM_opcode.index)\n",
    "      \n",
    "#Số lượng tập train\n",
    "PM = data_opcode[(data_opcode['malicious'] == True) & (data_opcode['packed'] == True)].shape[0]\n",
    "PB = data_opcode[(data_opcode['malicious'] == False) & (data_opcode['packed'] == True)].shape[0]\n",
    "print('Packed Malware: %i samples' % PM)\n",
    "print('Packed Benign: %i samples' % PB)\n",
    "print('Total TRAIN set: %i samples'% (PM+PB))\n",
    "\n",
    "#Xử lý tập train\n",
    "y = data_opcode['malicious'].values\n",
    "data_opcode = data_opcode.drop(['malicious','packed'], axis=1)\n",
    "\n",
    "PM = df_3000_opcode[(df_3000_opcode['malicious'] == True) & (df_3000_opcode['packed'] == True)].shape[0]\n",
    "PB = df_3000_opcode[(df_3000_opcode['malicious'] == False) & (df_3000_opcode['packed'] == True)].shape[0]\n",
    "\n",
    "df_3000_PM_opcode = df_3000_opcode[(df_3000_opcode['malicious'] == True) & (df_3000_opcode['packed'] == True)].sample(n=(PM-PB), random_state=102)\n",
    "df_3000_opcode = df_3000_opcode.drop(df_3000_PM_opcode.index)\n",
    "\n",
    "PM = df_3000_opcode[(df_3000_opcode['malicious'] == True) & (df_3000_opcode['packed'] == True)].shape[0]\n",
    "PB = df_3000_opcode[(df_3000_opcode['malicious'] == False) & (df_3000_opcode['packed'] == True)].shape[0]\n",
    "\n",
    "print('Packed Malware: %i samples' % PM)\n",
    "print('Packed Benign: %i samples' % PB)\n",
    "print('Total TEST set: %i samples'% (PM+PB))"
   ]
  },
  {
   "cell_type": "code",
   "execution_count": 30,
   "id": "d98339c8",
   "metadata": {
    "execution": {
     "iopub.execute_input": "2023-12-27T01:17:22.280539Z",
     "iopub.status.busy": "2023-12-27T01:17:22.279720Z",
     "iopub.status.idle": "2023-12-27T01:17:22.297182Z",
     "shell.execute_reply": "2023-12-27T01:17:22.296338Z"
    },
    "papermill": {
     "duration": 0.034356,
     "end_time": "2023-12-27T01:17:22.299167",
     "exception": false,
     "start_time": "2023-12-27T01:17:22.264811",
     "status": "completed"
    },
    "tags": []
   },
   "outputs": [],
   "source": [
    "# model = SelectFromModel(fsel, prefit=True)\n",
    "\n",
    "X_train_opcode = data_opcode\n",
    "X_test_opcode = df_3000_opcode.drop(['malicious','packed'], axis=1)\n",
    "\n",
    "# data_opcode = data_opcode.loc[:, (data_opcode != 0).any(axis=0)]\n",
    "x_train_opcode = data_opcode\n",
    "X_test_opcode = df_3000_opcode.drop(['malicious','packed'], axis=1)\n",
    "y_train_opcode = y\n",
    "y_test_opcode = df_3000_opcode['malicious'].values"
   ]
  },
  {
   "cell_type": "code",
   "execution_count": 31,
   "id": "31a89447",
   "metadata": {
    "execution": {
     "iopub.execute_input": "2023-12-27T01:17:22.329570Z",
     "iopub.status.busy": "2023-12-27T01:17:22.329311Z",
     "iopub.status.idle": "2023-12-27T01:17:23.789073Z",
     "shell.execute_reply": "2023-12-27T01:17:23.787957Z"
    },
    "papermill": {
     "duration": 1.476876,
     "end_time": "2023-12-27T01:17:23.791004",
     "exception": false,
     "start_time": "2023-12-27T01:17:22.314128",
     "status": "completed"
    },
    "tags": []
   },
   "outputs": [
    {
     "name": "stdout",
     "output_type": "stream",
     "text": [
      "The accuracy of the Random Forests model is :\t 0.7607802874743327\n"
     ]
    }
   ],
   "source": [
    "# Random Forest\n",
    "from sklearn.ensemble import RandomForestClassifier\n",
    "from sklearn import metrics\n",
    "\n",
    "random_forest = RandomForestClassifier(n_estimators=100, random_state=17)\n",
    "random_forest.fit(x_train_opcode, y_train_opcode)\n",
    "random_forest_preds = random_forest.predict(X_test_opcode)\n",
    "print('The accuracy of the Random Forests model is :\\t',metrics.accuracy_score(random_forest_preds,y_test_opcode))"
   ]
  },
  {
   "cell_type": "markdown",
   "id": "474b9aa0",
   "metadata": {
    "papermill": {
     "duration": 0.014317,
     "end_time": "2023-12-27T01:17:23.820793",
     "exception": false,
     "start_time": "2023-12-27T01:17:23.806476",
     "status": "completed"
    },
    "tags": []
   },
   "source": [
    "# **rich header features**"
   ]
  },
  {
   "cell_type": "code",
   "execution_count": 32,
   "id": "b91fe99b",
   "metadata": {
    "execution": {
     "iopub.execute_input": "2023-12-27T01:17:23.851795Z",
     "iopub.status.busy": "2023-12-27T01:17:23.851485Z",
     "iopub.status.idle": "2023-12-27T01:17:24.661647Z",
     "shell.execute_reply": "2023-12-27T01:17:24.660869Z"
    },
    "papermill": {
     "duration": 0.82826,
     "end_time": "2023-12-27T01:17:24.663926",
     "exception": false,
     "start_time": "2023-12-27T01:17:23.835666",
     "status": "completed"
    },
    "tags": []
   },
   "outputs": [],
   "source": [
    "upx = pd.read_pickle('/kaggle/input/packer-balance-pickle/upx_balance.pickle')\n",
    "upx = upx.drop(['sample_sha1','benign','unpacked_sample_sha1','unpacked_sample_id'], axis=1)\n",
    "upx = upx.drop(['benign_vt','malicious_vt'], axis=1)\n",
    "string_columns = upx.select_dtypes(include=['object']).columns\n",
    "upx = upx.drop(string_columns, axis=1)"
   ]
  },
  {
   "cell_type": "code",
   "execution_count": 33,
   "id": "2a7e78d3",
   "metadata": {
    "execution": {
     "iopub.execute_input": "2023-12-27T01:17:24.694457Z",
     "iopub.status.busy": "2023-12-27T01:17:24.694151Z",
     "iopub.status.idle": "2023-12-27T01:17:25.313003Z",
     "shell.execute_reply": "2023-12-27T01:17:25.312156Z"
    },
    "papermill": {
     "duration": 0.636033,
     "end_time": "2023-12-27T01:17:25.314900",
     "exception": false,
     "start_time": "2023-12-27T01:17:24.678867",
     "status": "completed"
    },
    "tags": []
   },
   "outputs": [
    {
     "name": "stdout",
     "output_type": "stream",
     "text": [
      "removing 13000 features\n",
      "removing 2500 features\n",
      "removing 2 features\n",
      "removing 16900 features\n",
      "removing 19169 features\n",
      "removing 4306 features\n",
      "removing 550 features\n",
      "removing 29 features\n"
     ]
    }
   ],
   "source": [
    "rich = remove_cols(upx, [c for c in cols if c.startswith('ngram_')])\n",
    "rich = remove_cols(upx, [c for c in cols if c.startswith('opcode_')])\n",
    "rich = remove_cols(upx, [c for c in cols if c.startswith('generic_')])\n",
    "rich = remove_cols(upx, [c for c in cols if c.startswith('string_')])\n",
    "# rich = remove_cols(upx, [c for c in cols if c.startswith('rich_')])\n",
    "rich = remove_cols(upx, [c for c in cols if c.startswith('imp_') or 'api_import_nb' == c])\n",
    "rich = remove_cols(upx, [c for c in cols if c.endswith('.dll') or 'dll_import_nb' == c])\n",
    "rich = remove_cols(upx, [c for c in cols if c.startswith('pesection')])\n",
    "rich = remove_cols(upx, [c for c in cols if c.startswith('header_')])"
   ]
  },
  {
   "cell_type": "code",
   "execution_count": 34,
   "id": "92ef4b24",
   "metadata": {
    "execution": {
     "iopub.execute_input": "2023-12-27T01:17:25.346378Z",
     "iopub.status.busy": "2023-12-27T01:17:25.346069Z",
     "iopub.status.idle": "2023-12-27T01:17:25.356596Z",
     "shell.execute_reply": "2023-12-27T01:17:25.355711Z"
    },
    "papermill": {
     "duration": 0.028877,
     "end_time": "2023-12-27T01:17:25.358969",
     "exception": false,
     "start_time": "2023-12-27T01:17:25.330092",
     "status": "completed"
    },
    "tags": []
   },
   "outputs": [],
   "source": [
    "df_7000_rich = rich.sample(n=7000, random_state=102)\n",
    "df_3000_rich = rich.drop(df_7000.index)\n",
    "data_rich = df_7000_rich.sample(n=3500, random_state=102)"
   ]
  },
  {
   "cell_type": "code",
   "execution_count": 35,
   "id": "ae54c9d0",
   "metadata": {
    "execution": {
     "iopub.execute_input": "2023-12-27T01:17:25.391916Z",
     "iopub.status.busy": "2023-12-27T01:17:25.391127Z",
     "iopub.status.idle": "2023-12-27T01:17:25.415728Z",
     "shell.execute_reply": "2023-12-27T01:17:25.414723Z"
    },
    "papermill": {
     "duration": 0.043144,
     "end_time": "2023-12-27T01:17:25.417891",
     "exception": false,
     "start_time": "2023-12-27T01:17:25.374747",
     "status": "completed"
    },
    "tags": []
   },
   "outputs": [
    {
     "name": "stdout",
     "output_type": "stream",
     "text": [
      "Packed Malware: 2391 samples\n",
      "Packed Benign: 1109 samples\n",
      "Total TRAIN set: 3500 samples\n",
      "Packed Malware: 1109 samples\n",
      "Packed Benign: 1109 samples\n",
      "Total TRAIN set: 2218 samples\n",
      "Packed Malware: 974 samples\n",
      "Packed Benign: 974 samples\n",
      "Total TEST set: 1948 samples\n"
     ]
    }
   ],
   "source": [
    "#Kiểm tra số lượng mẫu\n",
    "PM = data_rich[(data_rich['malicious'] == True) & (data_rich['packed'] == True)].shape[0]\n",
    "PB = data_rich[(data_rich['malicious'] == False) & (data_rich['packed'] == True)].shape[0]\n",
    "print('Packed Malware: %i samples' % PM)\n",
    "print('Packed Benign: %i samples' % PB)\n",
    "print('Total TRAIN set: %i samples'% (PM+PB))\n",
    "\n",
    "#Chia tỉ lệ 50 - 50\n",
    "data_PM_rich = data_rich[(data_rich['malicious'] == True) & (data_rich['packed'] == True)].sample(n=(PM-PB), random_state=102)\n",
    "data_rich = data_rich.drop(data_PM_rich.index)\n",
    "      \n",
    "#Số lượng tập train\n",
    "PM = data_rich[(data_rich['malicious'] == True) & (data_rich['packed'] == True)].shape[0]\n",
    "PB = data_rich[(data_rich['malicious'] == False) & (data_rich['packed'] == True)].shape[0]\n",
    "print('Packed Malware: %i samples' % PM)\n",
    "print('Packed Benign: %i samples' % PB)\n",
    "print('Total TRAIN set: %i samples'% (PM+PB))\n",
    "\n",
    "#Xử lý tập train\n",
    "y = data_rich['malicious'].values\n",
    "data_rich= data_rich.drop(['malicious','packed'], axis=1)\n",
    "\n",
    "PM = df_3000_rich[(df_3000_rich['malicious'] == True) & (df_3000_rich['packed'] == True)].shape[0]\n",
    "PB = df_3000_rich[(df_3000_rich['malicious'] == False) & (df_3000_rich['packed'] == True)].shape[0]\n",
    "\n",
    "df_3000_PM_rich = df_3000_rich[(df_3000_rich['malicious'] == True) & (df_3000_rich['packed'] == True)].sample(n=(PM-PB), random_state=102)\n",
    "df_3000_rich = df_3000_rich.drop(df_3000_PM_rich.index)\n",
    "\n",
    "PM = df_3000_rich[(df_3000_rich['malicious'] == True) & (df_3000_rich['packed'] == True)].shape[0]\n",
    "PB = df_3000_rich[(df_3000_rich['malicious'] == False) & (df_3000_rich['packed'] == True)].shape[0]\n",
    "\n",
    "print('Packed Malware: %i samples' % PM)\n",
    "print('Packed Benign: %i samples' % PB)\n",
    "print('Total TEST set: %i samples'% (PM+PB))"
   ]
  },
  {
   "cell_type": "code",
   "execution_count": 36,
   "id": "a9529a06",
   "metadata": {
    "execution": {
     "iopub.execute_input": "2023-12-27T01:17:25.450373Z",
     "iopub.status.busy": "2023-12-27T01:17:25.449305Z",
     "iopub.status.idle": "2023-12-27T01:17:25.458124Z",
     "shell.execute_reply": "2023-12-27T01:17:25.457395Z"
    },
    "papermill": {
     "duration": 0.02615,
     "end_time": "2023-12-27T01:17:25.459662",
     "exception": false,
     "start_time": "2023-12-27T01:17:25.433512",
     "status": "completed"
    },
    "tags": []
   },
   "outputs": [],
   "source": [
    "# model = SelectFromModel(fsel, prefit=True)\n",
    "\n",
    "X_train_rich = data_rich\n",
    "X_test_rich = df_3000_rich.drop(['malicious','packed'], axis=1)\n",
    "\n",
    "data_rich = data_rich.loc[:, (data_rich != 0).any(axis=0)]\n",
    "x_train_rich = data_rich\n",
    "X_test_rich = df_3000_rich.drop(['malicious','packed'], axis=1)\n",
    "y_train_rich = y\n",
    "y_test_rich = df_3000_rich['malicious'].values"
   ]
  },
  {
   "cell_type": "code",
   "execution_count": 37,
   "id": "c3876869",
   "metadata": {
    "execution": {
     "iopub.execute_input": "2023-12-27T01:17:25.491377Z",
     "iopub.status.busy": "2023-12-27T01:17:25.491035Z",
     "iopub.status.idle": "2023-12-27T01:17:25.841627Z",
     "shell.execute_reply": "2023-12-27T01:17:25.840787Z"
    },
    "papermill": {
     "duration": 0.36835,
     "end_time": "2023-12-27T01:17:25.843297",
     "exception": false,
     "start_time": "2023-12-27T01:17:25.474947",
     "status": "completed"
    },
    "tags": []
   },
   "outputs": [
    {
     "name": "stdout",
     "output_type": "stream",
     "text": [
      "The accuracy of the Random Forests model is :\t 0.8501026694045175\n"
     ]
    }
   ],
   "source": [
    "# Random Forest\n",
    "from sklearn.ensemble import RandomForestClassifier\n",
    "from sklearn import metrics\n",
    "\n",
    "random_forest = RandomForestClassifier(n_estimators=100, random_state=17)\n",
    "random_forest.fit(X_train_rich, y_train_rich)\n",
    "random_forest_preds = random_forest.predict(X_test_rich)\n",
    "print('The accuracy of the Random Forests model is :\\t',metrics.accuracy_score(random_forest_preds,y_test_rich))"
   ]
  },
  {
   "cell_type": "markdown",
   "id": "b5a3e363",
   "metadata": {
    "papermill": {
     "duration": 0.01409,
     "end_time": "2023-12-27T01:17:25.872713",
     "exception": false,
     "start_time": "2023-12-27T01:17:25.858623",
     "status": "completed"
    },
    "tags": []
   },
   "source": [
    "# **string features**"
   ]
  },
  {
   "cell_type": "code",
   "execution_count": 38,
   "id": "25b16dd9",
   "metadata": {
    "execution": {
     "iopub.execute_input": "2023-12-27T01:17:25.902530Z",
     "iopub.status.busy": "2023-12-27T01:17:25.902259Z",
     "iopub.status.idle": "2023-12-27T01:17:26.699999Z",
     "shell.execute_reply": "2023-12-27T01:17:26.699214Z"
    },
    "papermill": {
     "duration": 0.814922,
     "end_time": "2023-12-27T01:17:26.701936",
     "exception": false,
     "start_time": "2023-12-27T01:17:25.887014",
     "status": "completed"
    },
    "tags": []
   },
   "outputs": [],
   "source": [
    "upx = pd.read_pickle('/kaggle/input/packer-balance-pickle/upx_balance.pickle')\n",
    "upx = upx.drop(['sample_sha1','benign','unpacked_sample_sha1','unpacked_sample_id'], axis=1)\n",
    "upx = upx.drop(['benign_vt','malicious_vt'], axis=1)\n",
    "string_columns = upx.select_dtypes(include=['object']).columns\n",
    "upx = upx.drop(string_columns, axis=1)"
   ]
  },
  {
   "cell_type": "code",
   "execution_count": 39,
   "id": "a1b0356d",
   "metadata": {
    "execution": {
     "iopub.execute_input": "2023-12-27T01:17:26.733192Z",
     "iopub.status.busy": "2023-12-27T01:17:26.732861Z",
     "iopub.status.idle": "2023-12-27T01:17:27.405663Z",
     "shell.execute_reply": "2023-12-27T01:17:27.404693Z"
    },
    "papermill": {
     "duration": 0.690238,
     "end_time": "2023-12-27T01:17:27.407488",
     "exception": false,
     "start_time": "2023-12-27T01:17:26.717250",
     "status": "completed"
    },
    "tags": []
   },
   "outputs": [
    {
     "name": "stdout",
     "output_type": "stream",
     "text": [
      "removing 13000 features\n",
      "removing 2500 features\n",
      "removing 2 features\n",
      "removing 66 features\n",
      "removing 19169 features\n",
      "removing 4306 features\n",
      "removing 550 features\n",
      "removing 29 features\n"
     ]
    }
   ],
   "source": [
    "string = remove_cols(upx, [c for c in cols if c.startswith('ngram_')])\n",
    "string = remove_cols(upx, [c for c in cols if c.startswith('opcode_')])\n",
    "string = remove_cols(upx, [c for c in cols if c.startswith('generic_')])\n",
    "# string = remove_cols(upx, [c for c in cols if c.startswith('string_')])\n",
    "string = remove_cols(upx, [c for c in cols if c.startswith('rich_')])\n",
    "string = remove_cols(upx, [c for c in cols if c.startswith('imp_') or 'api_import_nb' == c])\n",
    "string = remove_cols(upx, [c for c in cols if c.endswith('.dll') or 'dll_import_nb' == c])\n",
    "string = remove_cols(upx, [c for c in cols if c.startswith('pesection')])\n",
    "string = remove_cols(upx, [c for c in cols if c.startswith('header_')])"
   ]
  },
  {
   "cell_type": "code",
   "execution_count": 40,
   "id": "7edc9da0",
   "metadata": {
    "execution": {
     "iopub.execute_input": "2023-12-27T01:17:27.440348Z",
     "iopub.status.busy": "2023-12-27T01:17:27.439628Z",
     "iopub.status.idle": "2023-12-27T01:17:27.696107Z",
     "shell.execute_reply": "2023-12-27T01:17:27.695178Z"
    },
    "papermill": {
     "duration": 0.275057,
     "end_time": "2023-12-27T01:17:27.698311",
     "exception": false,
     "start_time": "2023-12-27T01:17:27.423254",
     "status": "completed"
    },
    "tags": []
   },
   "outputs": [],
   "source": [
    "df_7000_string = string.sample(n=7000, random_state=102)\n",
    "df_3000_string = string.drop(df_7000.index)\n",
    "data_string = df_7000_string.sample(n=3500, random_state=102)"
   ]
  },
  {
   "cell_type": "code",
   "execution_count": 41,
   "id": "c4da88c7",
   "metadata": {
    "execution": {
     "iopub.execute_input": "2023-12-27T01:17:27.730514Z",
     "iopub.status.busy": "2023-12-27T01:17:27.729710Z",
     "iopub.status.idle": "2023-12-27T01:17:28.056762Z",
     "shell.execute_reply": "2023-12-27T01:17:28.055799Z"
    },
    "papermill": {
     "duration": 0.344543,
     "end_time": "2023-12-27T01:17:28.058462",
     "exception": false,
     "start_time": "2023-12-27T01:17:27.713919",
     "status": "completed"
    },
    "tags": []
   },
   "outputs": [
    {
     "name": "stdout",
     "output_type": "stream",
     "text": [
      "Packed Malware: 2391 samples\n",
      "Packed Benign: 1109 samples\n",
      "Total TRAIN set: 3500 samples\n",
      "Packed Malware: 1109 samples\n",
      "Packed Benign: 1109 samples\n",
      "Total TRAIN set: 2218 samples\n",
      "Packed Malware: 974 samples\n",
      "Packed Benign: 974 samples\n",
      "Total TEST set: 1948 samples\n"
     ]
    }
   ],
   "source": [
    "#Kiểm tra số lượng mẫu\n",
    "PM = data_string[(data_string['malicious'] == True) & (data_string['packed'] == True)].shape[0]\n",
    "PB = data_string[(data_string['malicious'] == False) & (data_string['packed'] == True)].shape[0]\n",
    "print('Packed Malware: %i samples' % PM)\n",
    "print('Packed Benign: %i samples' % PB)\n",
    "print('Total TRAIN set: %i samples'% (PM+PB))\n",
    "\n",
    "#Chia tỉ lệ 50 - 50\n",
    "data_PM_string = data_string[(data_string['malicious'] == True) & (data_string['packed'] == True)].sample(n=(PM-PB), random_state=102)\n",
    "data_string = data_string.drop(data_PM_string.index)\n",
    "      \n",
    "#Số lượng tập train\n",
    "PM = data_string[(data_string['malicious'] == True) & (data_string['packed'] == True)].shape[0]\n",
    "PB = data_string[(data_string['malicious'] == False) & (data_string['packed'] == True)].shape[0]\n",
    "print('Packed Malware: %i samples' % PM)\n",
    "print('Packed Benign: %i samples' % PB)\n",
    "print('Total TRAIN set: %i samples'% (PM+PB))\n",
    "\n",
    "#Xử lý tập train\n",
    "y = data_string['malicious'].values\n",
    "data_string = data_string.drop(['malicious','packed'], axis=1)\n",
    "\n",
    "PM = df_3000_string[(df_3000_string['malicious'] == True) & (df_3000_string['packed'] == True)].shape[0]\n",
    "PB = df_3000_string[(df_3000_string['malicious'] == False) & (df_3000_string['packed'] == True)].shape[0]\n",
    "\n",
    "df_3000_PM_string = df_3000_string[(df_3000_string['malicious'] == True) & (df_3000_string['packed'] == True)].sample(n=(PM-PB), random_state=102)\n",
    "df_3000_string = df_3000_string.drop(df_3000_PM_string.index)\n",
    "\n",
    "PM = df_3000_string[(df_3000_string['malicious'] == True) & (df_3000_string['packed'] == True)].shape[0]\n",
    "PB = df_3000_string[(df_3000_string['malicious'] == False) & (df_3000_string['packed'] == True)].shape[0]\n",
    "\n",
    "print('Packed Malware: %i samples' % PM)\n",
    "print('Packed Benign: %i samples' % PB)\n",
    "print('Total TEST set: %i samples'% (PM+PB))"
   ]
  },
  {
   "cell_type": "code",
   "execution_count": 42,
   "id": "96df808c",
   "metadata": {
    "execution": {
     "iopub.execute_input": "2023-12-27T01:17:28.090103Z",
     "iopub.status.busy": "2023-12-27T01:17:28.089795Z",
     "iopub.status.idle": "2023-12-27T01:17:28.152060Z",
     "shell.execute_reply": "2023-12-27T01:17:28.151165Z"
    },
    "papermill": {
     "duration": 0.079856,
     "end_time": "2023-12-27T01:17:28.154006",
     "exception": false,
     "start_time": "2023-12-27T01:17:28.074150",
     "status": "completed"
    },
    "tags": []
   },
   "outputs": [],
   "source": [
    "# model = SelectFromModel(fsel, prefit=True)\n",
    "\n",
    "X_train_string = data_string\n",
    "X_test_string = df_3000_string.drop(['malicious','packed'], axis=1)\n",
    "\n",
    "data_string = data_string.loc[:, (data_string != 0).any(axis=0)]\n",
    "x_train_string = data_string\n",
    "X_test_string = df_3000_string.drop(['malicious','packed'], axis=1)\n",
    "y_train_string = y\n",
    "y_test_string = df_3000_string['malicious'].values"
   ]
  },
  {
   "cell_type": "code",
   "execution_count": 43,
   "id": "176f257f",
   "metadata": {
    "execution": {
     "iopub.execute_input": "2023-12-27T01:17:28.185657Z",
     "iopub.status.busy": "2023-12-27T01:17:28.185395Z",
     "iopub.status.idle": "2023-12-27T01:17:32.102614Z",
     "shell.execute_reply": "2023-12-27T01:17:32.101953Z"
    },
    "papermill": {
     "duration": 3.934894,
     "end_time": "2023-12-27T01:17:32.104361",
     "exception": false,
     "start_time": "2023-12-27T01:17:28.169467",
     "status": "completed"
    },
    "tags": []
   },
   "outputs": [
    {
     "name": "stdout",
     "output_type": "stream",
     "text": [
      "The accuracy of the Random Forests model is :\t 0.910164271047228\n"
     ]
    }
   ],
   "source": [
    "# Random Forest\n",
    "from sklearn.ensemble import RandomForestClassifier\n",
    "from sklearn import metrics\n",
    "\n",
    "random_forest = RandomForestClassifier(n_estimators=100, random_state=17)\n",
    "random_forest.fit(X_train_string, y_train_string)\n",
    "random_forest_preds = random_forest.predict(X_test_string)\n",
    "print('The accuracy of the Random Forests model is :\\t',metrics.accuracy_score(random_forest_preds,y_test_string))"
   ]
  },
  {
   "cell_type": "markdown",
   "id": "23133846",
   "metadata": {
    "papermill": {
     "duration": 0.014913,
     "end_time": "2023-12-27T01:17:32.134932",
     "exception": false,
     "start_time": "2023-12-27T01:17:32.120019",
     "status": "completed"
    },
    "tags": []
   },
   "source": [
    "# **api features**"
   ]
  },
  {
   "cell_type": "code",
   "execution_count": 44,
   "id": "dd5df712",
   "metadata": {
    "execution": {
     "iopub.execute_input": "2023-12-27T01:17:32.167706Z",
     "iopub.status.busy": "2023-12-27T01:17:32.167197Z",
     "iopub.status.idle": "2023-12-27T01:17:32.974086Z",
     "shell.execute_reply": "2023-12-27T01:17:32.973174Z"
    },
    "papermill": {
     "duration": 0.82617,
     "end_time": "2023-12-27T01:17:32.976272",
     "exception": false,
     "start_time": "2023-12-27T01:17:32.150102",
     "status": "completed"
    },
    "tags": []
   },
   "outputs": [],
   "source": [
    "upx = pd.read_pickle('/kaggle/input/packer-balance-pickle/upx_balance.pickle')\n",
    "upx = upx.drop(['sample_sha1','benign','unpacked_sample_sha1','unpacked_sample_id'], axis=1)\n",
    "upx = upx.drop(['benign_vt','malicious_vt'], axis=1)\n",
    "string_columns = upx.select_dtypes(include=['object']).columns\n",
    "upx = upx.drop(string_columns, axis=1)"
   ]
  },
  {
   "cell_type": "code",
   "execution_count": 45,
   "id": "683e1711",
   "metadata": {
    "execution": {
     "iopub.execute_input": "2023-12-27T01:17:33.008461Z",
     "iopub.status.busy": "2023-12-27T01:17:33.008210Z",
     "iopub.status.idle": "2023-12-27T01:17:33.826798Z",
     "shell.execute_reply": "2023-12-27T01:17:33.826138Z"
    },
    "papermill": {
     "duration": 0.836899,
     "end_time": "2023-12-27T01:17:33.828853",
     "exception": false,
     "start_time": "2023-12-27T01:17:32.991954",
     "status": "completed"
    },
    "tags": []
   },
   "outputs": [
    {
     "name": "stdout",
     "output_type": "stream",
     "text": [
      "removing 13000 features\n",
      "removing 2500 features\n",
      "removing 2 features\n",
      "removing 16900 features\n",
      "removing 66 features\n",
      "removing 4306 features\n",
      "removing 550 features\n",
      "removing 29 features\n"
     ]
    }
   ],
   "source": [
    "api = remove_cols(upx, [c for c in cols if c.startswith('ngram_')])\n",
    "api = remove_cols(upx, [c for c in cols if c.startswith('opcode_')])\n",
    "api = remove_cols(upx, [c for c in cols if c.startswith('generic_')])\n",
    "api = remove_cols(upx, [c for c in cols if c.startswith('string_')])\n",
    "api = remove_cols(upx, [c for c in cols if c.startswith('rich_')])\n",
    "# api = remove_cols(upx, [c for c in cols if c.startswith('imp_') or 'api_import_nb' == c])\n",
    "api = remove_cols(upx, [c for c in cols if c.endswith('.dll') or 'dll_import_nb' == c])\n",
    "api = remove_cols(upx, [c for c in cols if c.startswith('pesection')])\n",
    "api = remove_cols(upx, [c for c in cols if c.startswith('header_')])"
   ]
  },
  {
   "cell_type": "code",
   "execution_count": 46,
   "id": "e187eaad",
   "metadata": {
    "execution": {
     "iopub.execute_input": "2023-12-27T01:17:33.862229Z",
     "iopub.status.busy": "2023-12-27T01:17:33.861382Z",
     "iopub.status.idle": "2023-12-27T01:17:34.156000Z",
     "shell.execute_reply": "2023-12-27T01:17:34.155231Z"
    },
    "papermill": {
     "duration": 0.313375,
     "end_time": "2023-12-27T01:17:34.158179",
     "exception": false,
     "start_time": "2023-12-27T01:17:33.844804",
     "status": "completed"
    },
    "tags": []
   },
   "outputs": [],
   "source": [
    "df_7000_api = api.sample(n=7000, random_state=102)\n",
    "df_3000_api = api.drop(df_7000.index)\n",
    "data_api = df_7000_api.sample(n=3500, random_state=102)"
   ]
  },
  {
   "cell_type": "code",
   "execution_count": 47,
   "id": "27e2dfde",
   "metadata": {
    "execution": {
     "iopub.execute_input": "2023-12-27T01:17:34.192363Z",
     "iopub.status.busy": "2023-12-27T01:17:34.191924Z",
     "iopub.status.idle": "2023-12-27T01:17:34.641575Z",
     "shell.execute_reply": "2023-12-27T01:17:34.640314Z"
    },
    "papermill": {
     "duration": 0.469439,
     "end_time": "2023-12-27T01:17:34.643557",
     "exception": false,
     "start_time": "2023-12-27T01:17:34.174118",
     "status": "completed"
    },
    "tags": []
   },
   "outputs": [
    {
     "name": "stdout",
     "output_type": "stream",
     "text": [
      "Packed Malware: 2391 samples\n",
      "Packed Benign: 1109 samples\n",
      "Total TRAIN set: 3500 samples\n",
      "Packed Malware: 1109 samples\n",
      "Packed Benign: 1109 samples\n",
      "Total TRAIN set: 2218 samples\n",
      "Packed Malware: 974 samples\n",
      "Packed Benign: 974 samples\n",
      "Total TEST set: 1948 samples\n"
     ]
    }
   ],
   "source": [
    "#Kiểm tra số lượng mẫu\n",
    "PM = data_api[(data_api['malicious'] == True) & (data_api['packed'] == True)].shape[0]\n",
    "PB = data_api[(data_api['malicious'] == False) & (data_api['packed'] == True)].shape[0]\n",
    "print('Packed Malware: %i samples' % PM)\n",
    "print('Packed Benign: %i samples' % PB)\n",
    "print('Total TRAIN set: %i samples'% (PM+PB))\n",
    "\n",
    "#Chia tỉ lệ 50 - 50\n",
    "data_PM_api = data_api[(data_api['malicious'] == True) & (data_api['packed'] == True)].sample(n=(PM-PB), random_state=102)\n",
    "data_api = data_api.drop(data_PM_api.index)\n",
    "      \n",
    "#Số lượng tập train\n",
    "PM = data_api[(data_api['malicious'] == True) & (data_api['packed'] == True)].shape[0]\n",
    "PB = data_api[(data_api['malicious'] == False) & (data_api['packed'] == True)].shape[0]\n",
    "print('Packed Malware: %i samples' % PM)\n",
    "print('Packed Benign: %i samples' % PB)\n",
    "print('Total TRAIN set: %i samples'% (PM+PB))\n",
    "\n",
    "#Xử lý tập train\n",
    "y = data_api['malicious'].values\n",
    "data_api = data_api.drop(['malicious','packed'], axis=1)\n",
    "\n",
    "PM = df_3000_api[(df_3000_api['malicious'] == True) & (df_3000_api['packed'] == True)].shape[0]\n",
    "PB = df_3000_api[(df_3000_api['malicious'] == False) & (df_3000_api['packed'] == True)].shape[0]\n",
    "\n",
    "df_3000_PM_api = df_3000_api[(df_3000_api['malicious'] == True) & (df_3000_api['packed'] == True)].sample(n=(PM-PB), random_state=102)\n",
    "df_3000_api = df_3000_api.drop(df_3000_PM_api.index)\n",
    "\n",
    "PM = df_3000_api[(df_3000_api['malicious'] == True) & (df_3000_api['packed'] == True)].shape[0]\n",
    "PB = df_3000_api[(df_3000_api['malicious'] == False) & (df_3000_api['packed'] == True)].shape[0]\n",
    "\n",
    "print('Packed Malware: %i samples' % PM)\n",
    "print('Packed Benign: %i samples' % PB)\n",
    "print('Total TEST set: %i samples'% (PM+PB))"
   ]
  },
  {
   "cell_type": "code",
   "execution_count": 48,
   "id": "4c3b9468",
   "metadata": {
    "execution": {
     "iopub.execute_input": "2023-12-27T01:17:34.676746Z",
     "iopub.status.busy": "2023-12-27T01:17:34.676410Z",
     "iopub.status.idle": "2023-12-27T01:17:34.759653Z",
     "shell.execute_reply": "2023-12-27T01:17:34.758727Z"
    },
    "papermill": {
     "duration": 0.102358,
     "end_time": "2023-12-27T01:17:34.761732",
     "exception": false,
     "start_time": "2023-12-27T01:17:34.659374",
     "status": "completed"
    },
    "tags": []
   },
   "outputs": [],
   "source": [
    "# model = SelectFromModel(fsel, prefit=True)\n",
    "\n",
    "X_train_api = data_api\n",
    "X_test_api = df_3000_api.drop(['malicious','packed'], axis=1)\n",
    "\n",
    "data_api = data_api.loc[:, (data_api != 0).any(axis=0)]\n",
    "x_train_api = data_api\n",
    "X_test_api = df_3000_api.drop(['malicious','packed'], axis=1)\n",
    "y_train_api = y\n",
    "y_test_api = df_3000_api['malicious'].values"
   ]
  },
  {
   "cell_type": "code",
   "execution_count": 49,
   "id": "e7760b9e",
   "metadata": {
    "execution": {
     "iopub.execute_input": "2023-12-27T01:17:34.794519Z",
     "iopub.status.busy": "2023-12-27T01:17:34.794198Z",
     "iopub.status.idle": "2023-12-27T01:17:44.192992Z",
     "shell.execute_reply": "2023-12-27T01:17:44.191979Z"
    },
    "papermill": {
     "duration": 9.417377,
     "end_time": "2023-12-27T01:17:44.194781",
     "exception": false,
     "start_time": "2023-12-27T01:17:34.777404",
     "status": "completed"
    },
    "tags": []
   },
   "outputs": [
    {
     "name": "stdout",
     "output_type": "stream",
     "text": [
      "The accuracy of the Random Forests model is :\t 0.8634496919917864\n"
     ]
    }
   ],
   "source": [
    "# Random Forest\n",
    "from sklearn.ensemble import RandomForestClassifier\n",
    "from sklearn import metrics\n",
    "\n",
    "random_forest = RandomForestClassifier(n_estimators=100, random_state=17)\n",
    "random_forest.fit(X_train_api, y_train_api)\n",
    "random_forest_preds = random_forest.predict(X_test_api)\n",
    "print('The accuracy of the Random Forests model is :\\t',metrics.accuracy_score(random_forest_preds,y_test_api))"
   ]
  },
  {
   "cell_type": "markdown",
   "id": "d6e7c4c0",
   "metadata": {
    "papermill": {
     "duration": 0.014975,
     "end_time": "2023-12-27T01:17:44.225352",
     "exception": false,
     "start_time": "2023-12-27T01:17:44.210377",
     "status": "completed"
    },
    "tags": []
   },
   "source": [
    "# **dll features**"
   ]
  },
  {
   "cell_type": "code",
   "execution_count": 50,
   "id": "e05a534e",
   "metadata": {
    "execution": {
     "iopub.execute_input": "2023-12-27T01:17:44.257026Z",
     "iopub.status.busy": "2023-12-27T01:17:44.256543Z",
     "iopub.status.idle": "2023-12-27T01:17:45.147462Z",
     "shell.execute_reply": "2023-12-27T01:17:45.146547Z"
    },
    "papermill": {
     "duration": 0.909089,
     "end_time": "2023-12-27T01:17:45.149477",
     "exception": false,
     "start_time": "2023-12-27T01:17:44.240388",
     "status": "completed"
    },
    "tags": []
   },
   "outputs": [],
   "source": [
    "upx = pd.read_pickle('/kaggle/input/packer-balance-pickle/upx_balance.pickle')\n",
    "upx = upx.drop(['sample_sha1','benign','unpacked_sample_sha1','unpacked_sample_id'], axis=1)\n",
    "upx = upx.drop(['benign_vt','malicious_vt'], axis=1)\n",
    "string_columns = upx.select_dtypes(include=['object']).columns\n",
    "upx = upx.drop(string_columns, axis=1)"
   ]
  },
  {
   "cell_type": "code",
   "execution_count": 51,
   "id": "07028546",
   "metadata": {
    "execution": {
     "iopub.execute_input": "2023-12-27T01:17:45.181610Z",
     "iopub.status.busy": "2023-12-27T01:17:45.181317Z",
     "iopub.status.idle": "2023-12-27T01:17:45.820993Z",
     "shell.execute_reply": "2023-12-27T01:17:45.820076Z"
    },
    "papermill": {
     "duration": 0.657678,
     "end_time": "2023-12-27T01:17:45.822866",
     "exception": false,
     "start_time": "2023-12-27T01:17:45.165188",
     "status": "completed"
    },
    "tags": []
   },
   "outputs": [
    {
     "name": "stdout",
     "output_type": "stream",
     "text": [
      "removing 13000 features\n",
      "removing 2500 features\n",
      "removing 2 features\n",
      "removing 16900 features\n",
      "removing 66 features\n",
      "removing 19169 features\n",
      "removing 550 features\n",
      "removing 29 features\n"
     ]
    }
   ],
   "source": [
    "dll = remove_cols(upx, [c for c in cols if c.startswith('ngram_')])\n",
    "dll = remove_cols(upx, [c for c in cols if c.startswith('opcode_')])\n",
    "dll = remove_cols(upx, [c for c in cols if c.startswith('generic_')])\n",
    "dll = remove_cols(upx, [c for c in cols if c.startswith('string_')])\n",
    "dll = remove_cols(upx, [c for c in cols if c.startswith('rich_')])\n",
    "dll = remove_cols(upx, [c for c in cols if c.startswith('imp_') or 'api_import_nb' == c])\n",
    "# api = remove_cols(upx, [c for c in cols if c.endswith('.dll') or 'dll_import_nb' == c])\n",
    "dll = remove_cols(upx, [c for c in cols if c.startswith('pesection')])\n",
    "dll = remove_cols(upx, [c for c in cols if c.startswith('header_')])"
   ]
  },
  {
   "cell_type": "code",
   "execution_count": 52,
   "id": "bc7f319b",
   "metadata": {
    "execution": {
     "iopub.execute_input": "2023-12-27T01:17:45.856619Z",
     "iopub.status.busy": "2023-12-27T01:17:45.855776Z",
     "iopub.status.idle": "2023-12-27T01:17:45.931158Z",
     "shell.execute_reply": "2023-12-27T01:17:45.930268Z"
    },
    "papermill": {
     "duration": 0.094428,
     "end_time": "2023-12-27T01:17:45.933134",
     "exception": false,
     "start_time": "2023-12-27T01:17:45.838706",
     "status": "completed"
    },
    "tags": []
   },
   "outputs": [],
   "source": [
    "df_7000_dll = dll.sample(n=7000, random_state=102)\n",
    "df_3000_dll = dll.drop(df_7000.index)\n",
    "data_dll = df_7000_dll.sample(n=3500, random_state=102)"
   ]
  },
  {
   "cell_type": "code",
   "execution_count": 53,
   "id": "04823ec5",
   "metadata": {
    "execution": {
     "iopub.execute_input": "2023-12-27T01:17:45.966399Z",
     "iopub.status.busy": "2023-12-27T01:17:45.965715Z",
     "iopub.status.idle": "2023-12-27T01:17:46.114749Z",
     "shell.execute_reply": "2023-12-27T01:17:46.113884Z"
    },
    "papermill": {
     "duration": 0.167454,
     "end_time": "2023-12-27T01:17:46.116608",
     "exception": false,
     "start_time": "2023-12-27T01:17:45.949154",
     "status": "completed"
    },
    "tags": []
   },
   "outputs": [
    {
     "name": "stdout",
     "output_type": "stream",
     "text": [
      "Packed Malware: 2391 samples\n",
      "Packed Benign: 1109 samples\n",
      "Total TRAIN set: 3500 samples\n",
      "Packed Malware: 1109 samples\n",
      "Packed Benign: 1109 samples\n",
      "Total TRAIN set: 2218 samples\n",
      "Packed Malware: 974 samples\n",
      "Packed Benign: 974 samples\n",
      "Total TEST set: 1948 samples\n"
     ]
    }
   ],
   "source": [
    "#Kiểm tra số lượng mẫu\n",
    "PM = data_dll[(data_dll['malicious'] == True) & (data_dll['packed'] == True)].shape[0]\n",
    "PB = data_dll[(data_dll['malicious'] == False) & (data_dll['packed'] == True)].shape[0]\n",
    "print('Packed Malware: %i samples' % PM)\n",
    "print('Packed Benign: %i samples' % PB)\n",
    "print('Total TRAIN set: %i samples'% (PM+PB))\n",
    "\n",
    "#Chia tỉ lệ 50 - 50\n",
    "data_PM_dll = data_dll[(data_dll['malicious'] == True) & (data_dll['packed'] == True)].sample(n=(PM-PB), random_state=102)\n",
    "data_dll = data_dll.drop(data_PM_dll.index)\n",
    "      \n",
    "#Số lượng tập train\n",
    "PM = data_dll[(data_dll['malicious'] == True) & (data_dll['packed'] == True)].shape[0]\n",
    "PB = data_dll[(data_dll['malicious'] == False) & (data_dll['packed'] == True)].shape[0]\n",
    "print('Packed Malware: %i samples' % PM)\n",
    "print('Packed Benign: %i samples' % PB)\n",
    "print('Total TRAIN set: %i samples'% (PM+PB))\n",
    "\n",
    "#Xử lý tập train\n",
    "y = data_dll['malicious'].values\n",
    "data_dll = data_dll.drop(['malicious','packed'], axis=1)\n",
    "\n",
    "PM = df_3000_dll[(df_3000_dll['malicious'] == True) & (df_3000_dll['packed'] == True)].shape[0]\n",
    "PB = df_3000_dll[(df_3000_dll['malicious'] == False) & (df_3000_dll['packed'] == True)].shape[0]\n",
    "\n",
    "df_3000_PM_dll = df_3000_dll[(df_3000_dll['malicious'] == True) & (df_3000_dll['packed'] == True)].sample(n=(PM-PB), random_state=102)\n",
    "df_3000_dll = df_3000_dll.drop(df_3000_PM_dll.index)\n",
    "\n",
    "PM = df_3000_dll[(df_3000_dll['malicious'] == True) & (df_3000_dll['packed'] == True)].shape[0]\n",
    "PB = df_3000_dll[(df_3000_dll['malicious'] == False) & (df_3000_dll['packed'] == True)].shape[0]\n",
    "\n",
    "print('Packed Malware: %i samples' % PM)\n",
    "print('Packed Benign: %i samples' % PB)\n",
    "print('Total TEST set: %i samples'% (PM+PB))"
   ]
  },
  {
   "cell_type": "code",
   "execution_count": 54,
   "id": "c9e6651d",
   "metadata": {
    "execution": {
     "iopub.execute_input": "2023-12-27T01:17:46.152986Z",
     "iopub.status.busy": "2023-12-27T01:17:46.152200Z",
     "iopub.status.idle": "2023-12-27T01:17:46.196188Z",
     "shell.execute_reply": "2023-12-27T01:17:46.195092Z"
    },
    "papermill": {
     "duration": 0.065886,
     "end_time": "2023-12-27T01:17:46.198558",
     "exception": false,
     "start_time": "2023-12-27T01:17:46.132672",
     "status": "completed"
    },
    "tags": []
   },
   "outputs": [],
   "source": [
    "# model = SelectFromModel(fsel, prefit=True)\n",
    "\n",
    "X_train_dll = data_dll\n",
    "X_test_dll = df_3000_dll.drop(['malicious','packed'], axis=1)\n",
    "\n",
    "data_dll = data_dll.loc[:, (data_dll != 0).any(axis=0)]\n",
    "x_train_dll = data_dll\n",
    "X_test_dll = df_3000_dll.drop(['malicious','packed'], axis=1)\n",
    "y_train_dll = y\n",
    "y_test_dll = df_3000_dll['malicious'].values"
   ]
  },
  {
   "cell_type": "code",
   "execution_count": 55,
   "id": "05254552",
   "metadata": {
    "execution": {
     "iopub.execute_input": "2023-12-27T01:17:46.233638Z",
     "iopub.status.busy": "2023-12-27T01:17:46.233337Z",
     "iopub.status.idle": "2023-12-27T01:17:49.212400Z",
     "shell.execute_reply": "2023-12-27T01:17:49.211233Z"
    },
    "papermill": {
     "duration": 2.999078,
     "end_time": "2023-12-27T01:17:49.214294",
     "exception": false,
     "start_time": "2023-12-27T01:17:46.215216",
     "status": "completed"
    },
    "tags": []
   },
   "outputs": [
    {
     "name": "stdout",
     "output_type": "stream",
     "text": [
      "The accuracy of the Random Forests model is :\t 0.8536960985626283\n"
     ]
    }
   ],
   "source": [
    "# Random Forest\n",
    "from sklearn.ensemble import RandomForestClassifier\n",
    "from sklearn import metrics\n",
    "\n",
    "random_forest = RandomForestClassifier(n_estimators=100, random_state=17)\n",
    "random_forest.fit(X_train_dll, y_train_dll)\n",
    "random_forest_preds = random_forest.predict(X_test_dll)\n",
    "print('The accuracy of the Random Forests model is :\\t',metrics.accuracy_score(random_forest_preds,y_test_dll))"
   ]
  },
  {
   "cell_type": "markdown",
   "id": "35b954b8",
   "metadata": {
    "papermill": {
     "duration": 0.015932,
     "end_time": "2023-12-27T01:17:49.246309",
     "exception": false,
     "start_time": "2023-12-27T01:17:49.230377",
     "status": "completed"
    },
    "tags": []
   },
   "source": [
    "# **pe sections features**"
   ]
  },
  {
   "cell_type": "code",
   "execution_count": 56,
   "id": "e33d2e7c",
   "metadata": {
    "execution": {
     "iopub.execute_input": "2023-12-27T01:17:49.278363Z",
     "iopub.status.busy": "2023-12-27T01:17:49.278046Z",
     "iopub.status.idle": "2023-12-27T01:17:50.082285Z",
     "shell.execute_reply": "2023-12-27T01:17:50.081607Z"
    },
    "papermill": {
     "duration": 0.82257,
     "end_time": "2023-12-27T01:17:50.084156",
     "exception": false,
     "start_time": "2023-12-27T01:17:49.261586",
     "status": "completed"
    },
    "tags": []
   },
   "outputs": [],
   "source": [
    "upx = pd.read_pickle('/kaggle/input/packer-balance-pickle/upx_balance.pickle')\n",
    "upx = upx.drop(['sample_sha1','benign','unpacked_sample_sha1','unpacked_sample_id'], axis=1)\n",
    "upx = upx.drop(['benign_vt','malicious_vt'], axis=1)\n",
    "string_columns = upx.select_dtypes(include=['object']).columns\n",
    "upx = upx.drop(string_columns, axis=1)"
   ]
  },
  {
   "cell_type": "code",
   "execution_count": 57,
   "id": "3bc2789a",
   "metadata": {
    "execution": {
     "iopub.execute_input": "2023-12-27T01:17:50.116526Z",
     "iopub.status.busy": "2023-12-27T01:17:50.116151Z",
     "iopub.status.idle": "2023-12-27T01:17:50.773853Z",
     "shell.execute_reply": "2023-12-27T01:17:50.773047Z"
    },
    "papermill": {
     "duration": 0.675623,
     "end_time": "2023-12-27T01:17:50.775573",
     "exception": false,
     "start_time": "2023-12-27T01:17:50.099950",
     "status": "completed"
    },
    "tags": []
   },
   "outputs": [
    {
     "name": "stdout",
     "output_type": "stream",
     "text": [
      "removing 13000 features\n",
      "removing 2500 features\n",
      "removing 2 features\n",
      "removing 16900 features\n",
      "removing 66 features\n",
      "removing 19169 features\n",
      "removing 4306 features\n",
      "removing 29 features\n"
     ]
    }
   ],
   "source": [
    "pesection = remove_cols(upx, [c for c in cols if c.startswith('ngram_')])\n",
    "pesection = remove_cols(upx, [c for c in cols if c.startswith('opcode_')])\n",
    "pesection = remove_cols(upx, [c for c in cols if c.startswith('generic_')])\n",
    "pesection = remove_cols(upx, [c for c in cols if c.startswith('string_')])\n",
    "pesection = remove_cols(upx, [c for c in cols if c.startswith('rich_')])\n",
    "pesection = remove_cols(upx, [c for c in cols if c.startswith('imp_') or 'api_import_nb' == c])\n",
    "pesection = remove_cols(upx, [c for c in cols if c.endswith('.dll') or 'dll_import_nb' == c])\n",
    "# pesection = remove_cols(upx, [c for c in cols if c.startswith('pesection')])\n",
    "pesection = remove_cols(upx, [c for c in cols if c.startswith('header_')])"
   ]
  },
  {
   "cell_type": "code",
   "execution_count": 58,
   "id": "59218c2e",
   "metadata": {
    "execution": {
     "iopub.execute_input": "2023-12-27T01:17:50.809280Z",
     "iopub.status.busy": "2023-12-27T01:17:50.808975Z",
     "iopub.status.idle": "2023-12-27T01:17:50.857104Z",
     "shell.execute_reply": "2023-12-27T01:17:50.856214Z"
    },
    "papermill": {
     "duration": 0.067358,
     "end_time": "2023-12-27T01:17:50.859027",
     "exception": false,
     "start_time": "2023-12-27T01:17:50.791669",
     "status": "completed"
    },
    "tags": []
   },
   "outputs": [],
   "source": [
    "df_7000_pesection = pesection.sample(n=7000, random_state=102)\n",
    "df_3000_pesection = pesection.drop(df_7000.index)\n",
    "data_pesection = df_7000_pesection.sample(n=3500, random_state=102)"
   ]
  },
  {
   "cell_type": "code",
   "execution_count": 59,
   "id": "990a8d37",
   "metadata": {
    "execution": {
     "iopub.execute_input": "2023-12-27T01:17:50.892236Z",
     "iopub.status.busy": "2023-12-27T01:17:50.891606Z",
     "iopub.status.idle": "2023-12-27T01:17:50.977425Z",
     "shell.execute_reply": "2023-12-27T01:17:50.976520Z"
    },
    "papermill": {
     "duration": 0.104399,
     "end_time": "2023-12-27T01:17:50.979429",
     "exception": false,
     "start_time": "2023-12-27T01:17:50.875030",
     "status": "completed"
    },
    "tags": []
   },
   "outputs": [
    {
     "name": "stdout",
     "output_type": "stream",
     "text": [
      "Packed Malware: 2391 samples\n",
      "Packed Benign: 1109 samples\n",
      "Total TRAIN set: 3500 samples\n",
      "Packed Malware: 1109 samples\n",
      "Packed Benign: 1109 samples\n",
      "Total TRAIN set: 2218 samples\n",
      "Packed Malware: 974 samples\n",
      "Packed Benign: 974 samples\n",
      "Total TEST set: 1948 samples\n"
     ]
    }
   ],
   "source": [
    "#Kiểm tra số lượng mẫu\n",
    "PM = data_pesection[(data_pesection['malicious'] == True) & (data_pesection['packed'] == True)].shape[0]\n",
    "PB = data_pesection[(data_pesection['malicious'] == False) & (data_pesection['packed'] == True)].shape[0]\n",
    "print('Packed Malware: %i samples' % PM)\n",
    "print('Packed Benign: %i samples' % PB)\n",
    "print('Total TRAIN set: %i samples'% (PM+PB))\n",
    "\n",
    "#Chia tỉ lệ 50 - 50\n",
    "data_PM_pesection = data_pesection[(data_pesection['malicious'] == True) & (data_pesection['packed'] == True)].sample(n=(PM-PB), random_state=102)\n",
    "data_pesection = data_pesection.drop(data_PM_pesection.index)\n",
    "      \n",
    "#Số lượng tập train\n",
    "PM = data_pesection[(data_pesection['malicious'] == True) & (data_pesection['packed'] == True)].shape[0]\n",
    "PB = data_pesection[(data_pesection['malicious'] == False) & (data_pesection['packed'] == True)].shape[0]\n",
    "print('Packed Malware: %i samples' % PM)\n",
    "print('Packed Benign: %i samples' % PB)\n",
    "print('Total TRAIN set: %i samples'% (PM+PB))\n",
    "\n",
    "#Xử lý tập train\n",
    "y = data_pesection['malicious'].values\n",
    "data_pesection = data_pesection.drop(['malicious','packed'], axis=1)\n",
    "\n",
    "PM = df_3000_pesection[(df_3000_pesection['malicious'] == True) & (df_3000_pesection['packed'] == True)].shape[0]\n",
    "PB = df_3000_pesection[(df_3000_pesection['malicious'] == False) & (df_3000_pesection['packed'] == True)].shape[0]\n",
    "\n",
    "df_3000_PM_pesection = df_3000_pesection[(df_3000_pesection['malicious'] == True) & (df_3000_pesection['packed'] == True)].sample(n=(PM-PB), random_state=102)\n",
    "df_3000_pesection = df_3000_pesection.drop(df_3000_PM_pesection.index)\n",
    "\n",
    "PM = df_3000_pesection[(df_3000_pesection['malicious'] == True) & (df_3000_pesection['packed'] == True)].shape[0]\n",
    "PB = df_3000_pesection[(df_3000_pesection['malicious'] == False) & (df_3000_pesection['packed'] == True)].shape[0]\n",
    "\n",
    "print('Packed Malware: %i samples' % PM)\n",
    "print('Packed Benign: %i samples' % PB)\n",
    "print('Total TEST set: %i samples'% (PM+PB))"
   ]
  },
  {
   "cell_type": "code",
   "execution_count": 60,
   "id": "6a4a89b3",
   "metadata": {
    "execution": {
     "iopub.execute_input": "2023-12-27T01:17:51.013962Z",
     "iopub.status.busy": "2023-12-27T01:17:51.013611Z",
     "iopub.status.idle": "2023-12-27T01:17:51.037587Z",
     "shell.execute_reply": "2023-12-27T01:17:51.036873Z"
    },
    "papermill": {
     "duration": 0.043252,
     "end_time": "2023-12-27T01:17:51.039479",
     "exception": false,
     "start_time": "2023-12-27T01:17:50.996227",
     "status": "completed"
    },
    "tags": []
   },
   "outputs": [],
   "source": [
    "# model = SelectFromModel(fsel, prefit=True)\n",
    "\n",
    "X_train_pesection = data_pesection\n",
    "X_test_pesection = df_3000_pesection.drop(['malicious','packed'], axis=1)\n",
    "\n",
    "data_pesection = data_pesection.loc[:, (data_pesection != 0).any(axis=0)]\n",
    "x_train_pesection = data_pesection\n",
    "X_test_pesection = df_3000_pesection.drop(['malicious','packed'], axis=1)\n",
    "y_train_pesection = y\n",
    "y_test_pesection = df_3000_pesection['malicious'].values"
   ]
  },
  {
   "cell_type": "code",
   "execution_count": 61,
   "id": "32e87ef5",
   "metadata": {
    "execution": {
     "iopub.execute_input": "2023-12-27T01:17:51.074160Z",
     "iopub.status.busy": "2023-12-27T01:17:51.073813Z",
     "iopub.status.idle": "2023-12-27T01:17:51.516274Z",
     "shell.execute_reply": "2023-12-27T01:17:51.515287Z"
    },
    "papermill": {
     "duration": 0.46159,
     "end_time": "2023-12-27T01:17:51.518012",
     "exception": false,
     "start_time": "2023-12-27T01:17:51.056422",
     "status": "completed"
    },
    "tags": []
   },
   "outputs": [
    {
     "name": "stdout",
     "output_type": "stream",
     "text": [
      "The accuracy of the Random Forests model is :\t 0.9235112936344969\n"
     ]
    }
   ],
   "source": [
    "# Random Forest\n",
    "from sklearn.ensemble import RandomForestClassifier\n",
    "from sklearn import metrics\n",
    "\n",
    "random_forest = RandomForestClassifier(n_estimators=100, random_state=17)\n",
    "random_forest.fit(X_train_pesection, y_train_pesection)\n",
    "random_forest_preds = random_forest.predict(X_test_pesection)\n",
    "print('The accuracy of the Random Forests model is :\\t',metrics.accuracy_score(random_forest_preds,y_test_pesection))"
   ]
  },
  {
   "cell_type": "markdown",
   "id": "5ad3b8b8",
   "metadata": {
    "papermill": {
     "duration": 0.01565,
     "end_time": "2023-12-27T01:17:51.550098",
     "exception": false,
     "start_time": "2023-12-27T01:17:51.534448",
     "status": "completed"
    },
    "tags": []
   },
   "source": [
    "# **pe header features**"
   ]
  },
  {
   "cell_type": "code",
   "execution_count": 62,
   "id": "50f97c60",
   "metadata": {
    "execution": {
     "iopub.execute_input": "2023-12-27T01:17:51.583320Z",
     "iopub.status.busy": "2023-12-27T01:17:51.582992Z",
     "iopub.status.idle": "2023-12-27T01:17:52.451380Z",
     "shell.execute_reply": "2023-12-27T01:17:52.450576Z"
    },
    "papermill": {
     "duration": 0.887316,
     "end_time": "2023-12-27T01:17:52.453412",
     "exception": false,
     "start_time": "2023-12-27T01:17:51.566096",
     "status": "completed"
    },
    "tags": []
   },
   "outputs": [],
   "source": [
    "upx = pd.read_pickle('/kaggle/input/packer-balance-pickle/upx_balance.pickle')\n",
    "upx = upx.drop(['sample_sha1','benign','unpacked_sample_sha1','unpacked_sample_id'], axis=1)\n",
    "upx = upx.drop(['benign_vt','malicious_vt'], axis=1)\n",
    "string_columns = upx.select_dtypes(include=['object']).columns\n",
    "upx = upx.drop(string_columns, axis=1)"
   ]
  },
  {
   "cell_type": "code",
   "execution_count": 63,
   "id": "e5dff144",
   "metadata": {
    "execution": {
     "iopub.execute_input": "2023-12-27T01:17:52.487719Z",
     "iopub.status.busy": "2023-12-27T01:17:52.487392Z",
     "iopub.status.idle": "2023-12-27T01:17:53.110665Z",
     "shell.execute_reply": "2023-12-27T01:17:53.109846Z"
    },
    "papermill": {
     "duration": 0.642852,
     "end_time": "2023-12-27T01:17:53.113049",
     "exception": false,
     "start_time": "2023-12-27T01:17:52.470197",
     "status": "completed"
    },
    "tags": []
   },
   "outputs": [
    {
     "name": "stdout",
     "output_type": "stream",
     "text": [
      "removing 13000 features\n",
      "removing 2500 features\n",
      "removing 2 features\n",
      "removing 16900 features\n",
      "removing 66 features\n",
      "removing 19169 features\n",
      "removing 4306 features\n",
      "removing 550 features\n"
     ]
    }
   ],
   "source": [
    "header = remove_cols(upx, [c for c in cols if c.startswith('ngram_')])\n",
    "header = remove_cols(upx, [c for c in cols if c.startswith('opcode_')])\n",
    "header = remove_cols(upx, [c for c in cols if c.startswith('generic_')])\n",
    "header = remove_cols(upx, [c for c in cols if c.startswith('string_')])\n",
    "header = remove_cols(upx, [c for c in cols if c.startswith('rich_')])\n",
    "header = remove_cols(upx, [c for c in cols if c.startswith('imp_') or 'api_import_nb' == c])\n",
    "header = remove_cols(upx, [c for c in cols if c.endswith('.dll') or 'dll_import_nb' == c])\n",
    "header = remove_cols(upx, [c for c in cols if c.startswith('pesection')])\n",
    "# header = remove_cols(upx, [c for c in cols if c.startswith('header_')])"
   ]
  },
  {
   "cell_type": "code",
   "execution_count": 64,
   "id": "5d09ef7d",
   "metadata": {
    "execution": {
     "iopub.execute_input": "2023-12-27T01:17:53.147317Z",
     "iopub.status.busy": "2023-12-27T01:17:53.147036Z",
     "iopub.status.idle": "2023-12-27T01:17:53.155621Z",
     "shell.execute_reply": "2023-12-27T01:17:53.155059Z"
    },
    "papermill": {
     "duration": 0.027453,
     "end_time": "2023-12-27T01:17:53.157155",
     "exception": false,
     "start_time": "2023-12-27T01:17:53.129702",
     "status": "completed"
    },
    "tags": []
   },
   "outputs": [],
   "source": [
    "df_7000_header = header.sample(n=7000, random_state=102)\n",
    "df_3000_header = header.drop(df_7000.index)\n",
    "data_header = df_7000_header.sample(n=3500, random_state=102)"
   ]
  },
  {
   "cell_type": "code",
   "execution_count": 65,
   "id": "e742666c",
   "metadata": {
    "execution": {
     "iopub.execute_input": "2023-12-27T01:17:53.191015Z",
     "iopub.status.busy": "2023-12-27T01:17:53.190645Z",
     "iopub.status.idle": "2023-12-27T01:17:53.216203Z",
     "shell.execute_reply": "2023-12-27T01:17:53.215287Z"
    },
    "papermill": {
     "duration": 0.04436,
     "end_time": "2023-12-27T01:17:53.218017",
     "exception": false,
     "start_time": "2023-12-27T01:17:53.173657",
     "status": "completed"
    },
    "tags": []
   },
   "outputs": [
    {
     "name": "stdout",
     "output_type": "stream",
     "text": [
      "Packed Malware: 2391 samples\n",
      "Packed Benign: 1109 samples\n",
      "Total TRAIN set: 3500 samples\n",
      "Packed Malware: 1109 samples\n",
      "Packed Benign: 1109 samples\n",
      "Total TRAIN set: 2218 samples\n",
      "Packed Malware: 974 samples\n",
      "Packed Benign: 974 samples\n",
      "Total TEST set: 1948 samples\n"
     ]
    }
   ],
   "source": [
    "#Kiểm tra số lượng mẫu\n",
    "PM = data_header[(data_header['malicious'] == True) & (data_header['packed'] == True)].shape[0]\n",
    "PB = data_header[(data_header['malicious'] == False) & (data_header['packed'] == True)].shape[0]\n",
    "print('Packed Malware: %i samples' % PM)\n",
    "print('Packed Benign: %i samples' % PB)\n",
    "print('Total TRAIN set: %i samples'% (PM+PB))\n",
    "\n",
    "#Chia tỉ lệ 50 - 50\n",
    "data_PM_header = data_header[(data_header['malicious'] == True) & (data_header['packed'] == True)].sample(n=(PM-PB), random_state=102)\n",
    "data_header = data_header.drop(data_PM_header.index)\n",
    "      \n",
    "#Số lượng tập train\n",
    "PM = data_header[(data_header['malicious'] == True) & (data_header['packed'] == True)].shape[0]\n",
    "PB = data_header[(data_header['malicious'] == False) & (data_header['packed'] == True)].shape[0]\n",
    "print('Packed Malware: %i samples' % PM)\n",
    "print('Packed Benign: %i samples' % PB)\n",
    "print('Total TRAIN set: %i samples'% (PM+PB))\n",
    "\n",
    "#Xử lý tập train\n",
    "y = data_header['malicious'].values\n",
    "data_header= data_header.drop(['malicious','packed'], axis=1)\n",
    "\n",
    "PM = df_3000_header[(df_3000_header['malicious'] == True) & (df_3000_header['packed'] == True)].shape[0]\n",
    "PB = df_3000_header[(df_3000_header['malicious'] == False) & (df_3000_header['packed'] == True)].shape[0]\n",
    "\n",
    "df_3000_PM_header = df_3000_header[(df_3000_header['malicious'] == True) & (df_3000_header['packed'] == True)].sample(n=(PM-PB), random_state=102)\n",
    "df_3000_header= df_3000_header.drop(df_3000_PM_header.index)\n",
    "\n",
    "PM = df_3000_header[(df_3000_header['malicious'] == True) & (df_3000_header['packed'] == True)].shape[0]\n",
    "PB = df_3000_header[(df_3000_header['malicious'] == False) & (df_3000_header['packed'] == True)].shape[0]\n",
    "\n",
    "print('Packed Malware: %i samples' % PM)\n",
    "print('Packed Benign: %i samples' % PB)\n",
    "print('Total TEST set: %i samples'% (PM+PB))"
   ]
  },
  {
   "cell_type": "code",
   "execution_count": 66,
   "id": "e4995aea",
   "metadata": {
    "execution": {
     "iopub.execute_input": "2023-12-27T01:17:53.251910Z",
     "iopub.status.busy": "2023-12-27T01:17:53.251055Z",
     "iopub.status.idle": "2023-12-27T01:17:53.259771Z",
     "shell.execute_reply": "2023-12-27T01:17:53.259222Z"
    },
    "papermill": {
     "duration": 0.027229,
     "end_time": "2023-12-27T01:17:53.261394",
     "exception": false,
     "start_time": "2023-12-27T01:17:53.234165",
     "status": "completed"
    },
    "tags": []
   },
   "outputs": [],
   "source": [
    "# model = SelectFromModel(fsel, prefit=True)\n",
    "\n",
    "X_train_header = data_header\n",
    "X_test_header = df_3000_header.drop(['malicious','packed'], axis=1)\n",
    "\n",
    "data_header = data_header.loc[:, (data_header != 0).any(axis=0)]\n",
    "x_train_header = data_header\n",
    "X_test_header = df_3000_header.drop(['malicious','packed'], axis=1)\n",
    "y_train_header = y\n",
    "y_test_header = df_3000_header['malicious'].values"
   ]
  },
  {
   "cell_type": "code",
   "execution_count": 67,
   "id": "5cbabb66",
   "metadata": {
    "execution": {
     "iopub.execute_input": "2023-12-27T01:17:53.295025Z",
     "iopub.status.busy": "2023-12-27T01:17:53.294477Z",
     "iopub.status.idle": "2023-12-27T01:17:53.626070Z",
     "shell.execute_reply": "2023-12-27T01:17:53.625196Z"
    },
    "papermill": {
     "duration": 0.350577,
     "end_time": "2023-12-27T01:17:53.627855",
     "exception": false,
     "start_time": "2023-12-27T01:17:53.277278",
     "status": "completed"
    },
    "tags": []
   },
   "outputs": [
    {
     "name": "stdout",
     "output_type": "stream",
     "text": [
      "The accuracy of the Random Forests model is :\t 0.8952772073921971\n"
     ]
    }
   ],
   "source": [
    "# Random Forest\n",
    "from sklearn.ensemble import RandomForestClassifier\n",
    "from sklearn import metrics\n",
    "\n",
    "random_forest = RandomForestClassifier(n_estimators=100, random_state=17)\n",
    "random_forest.fit(X_train_header, y_train_header)\n",
    "random_forest_preds = random_forest.predict(X_test_header)\n",
    "print('The accuracy of the Random Forests model is :\\t',metrics.accuracy_score(random_forest_preds,y_test_header))"
   ]
  }
 ],
 "metadata": {
  "kaggle": {
   "accelerator": "none",
   "dataSources": [
    {
     "datasetId": 4192384,
     "sourceId": 7262652,
     "sourceType": "datasetVersion"
    }
   ],
   "dockerImageVersionId": 30626,
   "isGpuEnabled": false,
   "isInternetEnabled": true,
   "language": "python",
   "sourceType": "notebook"
  },
  "kernelspec": {
   "display_name": "Python 3",
   "language": "python",
   "name": "python3"
  },
  "language_info": {
   "codemirror_mode": {
    "name": "ipython",
    "version": 3
   },
   "file_extension": ".py",
   "mimetype": "text/x-python",
   "name": "python",
   "nbconvert_exporter": "python",
   "pygments_lexer": "ipython3",
   "version": "3.10.12"
  },
  "papermill": {
   "default_parameters": {},
   "duration": 57.332578,
   "end_time": "2023-12-27T01:17:54.163656",
   "environment_variables": {},
   "exception": null,
   "input_path": "__notebook__.ipynb",
   "output_path": "__notebook__.ipynb",
   "parameters": {},
   "start_time": "2023-12-27T01:16:56.831078",
   "version": "2.4.0"
  }
 },
 "nbformat": 4,
 "nbformat_minor": 5
}
