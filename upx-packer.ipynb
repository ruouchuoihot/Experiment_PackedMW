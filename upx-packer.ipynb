{
 "cells": [
  {
   "cell_type": "code",
   "execution_count": 1,
   "id": "1f4a7d44",
   "metadata": {
    "execution": {
     "iopub.execute_input": "2024-01-23T12:07:54.518299Z",
     "iopub.status.busy": "2024-01-23T12:07:54.517951Z",
     "iopub.status.idle": "2024-01-23T12:07:57.381175Z",
     "shell.execute_reply": "2024-01-23T12:07:57.379865Z"
    },
    "papermill": {
     "duration": 2.882779,
     "end_time": "2024-01-23T12:07:57.383936",
     "exception": false,
     "start_time": "2024-01-23T12:07:54.501157",
     "status": "completed"
    },
    "tags": []
   },
   "outputs": [],
   "source": [
    "import pandas as pd\n",
    "import numpy as np\n",
    "import sklearn\n",
    "import sklearn.naive_bayes\n",
    "import sklearn.ensemble as ske\n",
    "import sklearn.neighbors\n",
    "import sklearn.pipeline\n",
    "import sklearn.linear_model\n",
    "import joblib\n",
    "from sklearn import preprocessing\n",
    "from sklearn import tree, linear_model\n",
    "from sklearn.metrics import confusion_matrix\n",
    "from sklearn.metrics import classification_report\n",
    "from sklearn.feature_selection import SelectFromModel\n",
    "import sys\n",
    "import sqlite3\n",
    "import importlib\n",
    "import matplotlib.pyplot as plt\n",
    "import seaborn as sn\n",
    "from sklearn import metrics"
   ]
  },
  {
   "cell_type": "code",
   "execution_count": 2,
   "id": "fd0e6f00",
   "metadata": {
    "execution": {
     "iopub.execute_input": "2024-01-23T12:07:57.415652Z",
     "iopub.status.busy": "2024-01-23T12:07:57.415118Z",
     "iopub.status.idle": "2024-01-23T12:08:02.058825Z",
     "shell.execute_reply": "2024-01-23T12:08:02.057244Z"
    },
    "papermill": {
     "duration": 4.662923,
     "end_time": "2024-01-23T12:08:02.061655",
     "exception": false,
     "start_time": "2024-01-23T12:07:57.398732",
     "status": "completed"
    },
    "tags": []
   },
   "outputs": [],
   "source": [
    "upx = pd.read_pickle('/kaggle/input/packer-balance-pickle/upx_balance.pickle')"
   ]
  },
  {
   "cell_type": "code",
   "execution_count": 3,
   "id": "5a5481af",
   "metadata": {
    "execution": {
     "iopub.execute_input": "2024-01-23T12:08:02.093180Z",
     "iopub.status.busy": "2024-01-23T12:08:02.092849Z",
     "iopub.status.idle": "2024-01-23T12:08:02.571143Z",
     "shell.execute_reply": "2024-01-23T12:08:02.569298Z"
    },
    "papermill": {
     "duration": 0.497519,
     "end_time": "2024-01-23T12:08:02.573860",
     "exception": false,
     "start_time": "2024-01-23T12:08:02.076341",
     "status": "completed"
    },
    "tags": []
   },
   "outputs": [],
   "source": [
    "upx = upx.drop(['sample_sha1','benign','unpacked_sample_sha1','unpacked_sample_id'], axis=1)\n",
    "upx = upx.drop(['benign_vt','malicious_vt'], axis=1)"
   ]
  },
  {
   "cell_type": "code",
   "execution_count": 4,
   "id": "c1e26255",
   "metadata": {
    "execution": {
     "iopub.execute_input": "2024-01-23T12:08:02.604617Z",
     "iopub.status.busy": "2024-01-23T12:08:02.604249Z",
     "iopub.status.idle": "2024-01-23T12:08:02.790026Z",
     "shell.execute_reply": "2024-01-23T12:08:02.788500Z"
    },
    "papermill": {
     "duration": 0.203706,
     "end_time": "2024-01-23T12:08:02.792489",
     "exception": false,
     "start_time": "2024-01-23T12:08:02.588783",
     "status": "completed"
    },
    "tags": []
   },
   "outputs": [],
   "source": [
    "string_columns = upx.select_dtypes(include=['object']).columns\n",
    "upx = upx.drop(string_columns, axis=1)"
   ]
  },
  {
   "cell_type": "code",
   "execution_count": 5,
   "id": "fa7e96e4",
   "metadata": {
    "execution": {
     "iopub.execute_input": "2024-01-23T12:08:02.822983Z",
     "iopub.status.busy": "2024-01-23T12:08:02.822623Z",
     "iopub.status.idle": "2024-01-23T12:08:02.861062Z",
     "shell.execute_reply": "2024-01-23T12:08:02.859792Z"
    },
    "papermill": {
     "duration": 0.056898,
     "end_time": "2024-01-23T12:08:02.863876",
     "exception": false,
     "start_time": "2024-01-23T12:08:02.806978",
     "status": "completed"
    },
    "tags": []
   },
   "outputs": [
    {
     "data": {
      "text/html": [
       "<div>\n",
       "<style scoped>\n",
       "    .dataframe tbody tr th:only-of-type {\n",
       "        vertical-align: middle;\n",
       "    }\n",
       "\n",
       "    .dataframe tbody tr th {\n",
       "        vertical-align: top;\n",
       "    }\n",
       "\n",
       "    .dataframe thead th {\n",
       "        text-align: right;\n",
       "    }\n",
       "</style>\n",
       "<table border=\"1\" class=\"dataframe\">\n",
       "  <thead>\n",
       "    <tr style=\"text-align: right;\">\n",
       "      <th></th>\n",
       "      <th>malicious</th>\n",
       "      <th>packed</th>\n",
       "      <th>imp_setupremovefilelogentrya</th>\n",
       "      <th>imp_vardeccmp</th>\n",
       "      <th>imp_setdlgitemint</th>\n",
       "      <th>imp_?append@?$basic_string@du?$char_traits@d@std@@v?$allocator@d@2@@std@@qaeaav12@abv12@ii@z</th>\n",
       "      <th>imp_zwwritefile</th>\n",
       "      <th>imp_glstencilop</th>\n",
       "      <th>imp_comparelinkinforeferents</th>\n",
       "      <th>imp__setmbcp</th>\n",
       "      <th>...</th>\n",
       "      <th>opcode_xor sub mov</th>\n",
       "      <th>opcode_xor sub mov add</th>\n",
       "      <th>opcode_xor test</th>\n",
       "      <th>opcode_xor test je</th>\n",
       "      <th>opcode_xor xor</th>\n",
       "      <th>opcode_xor xor mov</th>\n",
       "      <th>opcode_xor xor pop</th>\n",
       "      <th>opcode_xor xor pop mov</th>\n",
       "      <th>opcode_xor xor xor</th>\n",
       "      <th>opcode_xor xor xor pop</th>\n",
       "    </tr>\n",
       "  </thead>\n",
       "  <tbody>\n",
       "    <tr>\n",
       "      <th>0</th>\n",
       "      <td>True</td>\n",
       "      <td>True</td>\n",
       "      <td>False</td>\n",
       "      <td>False</td>\n",
       "      <td>False</td>\n",
       "      <td>False</td>\n",
       "      <td>False</td>\n",
       "      <td>False</td>\n",
       "      <td>False</td>\n",
       "      <td>False</td>\n",
       "      <td>...</td>\n",
       "      <td>0.0</td>\n",
       "      <td>0.0</td>\n",
       "      <td>0.0</td>\n",
       "      <td>0.0</td>\n",
       "      <td>0.0</td>\n",
       "      <td>0.0</td>\n",
       "      <td>0.0</td>\n",
       "      <td>0.0</td>\n",
       "      <td>0.0</td>\n",
       "      <td>0.0</td>\n",
       "    </tr>\n",
       "    <tr>\n",
       "      <th>1</th>\n",
       "      <td>True</td>\n",
       "      <td>True</td>\n",
       "      <td>False</td>\n",
       "      <td>False</td>\n",
       "      <td>False</td>\n",
       "      <td>False</td>\n",
       "      <td>False</td>\n",
       "      <td>False</td>\n",
       "      <td>False</td>\n",
       "      <td>False</td>\n",
       "      <td>...</td>\n",
       "      <td>0.0</td>\n",
       "      <td>0.0</td>\n",
       "      <td>0.0</td>\n",
       "      <td>0.0</td>\n",
       "      <td>0.0</td>\n",
       "      <td>0.0</td>\n",
       "      <td>0.0</td>\n",
       "      <td>0.0</td>\n",
       "      <td>0.0</td>\n",
       "      <td>0.0</td>\n",
       "    </tr>\n",
       "    <tr>\n",
       "      <th>5</th>\n",
       "      <td>False</td>\n",
       "      <td>True</td>\n",
       "      <td>False</td>\n",
       "      <td>False</td>\n",
       "      <td>False</td>\n",
       "      <td>False</td>\n",
       "      <td>False</td>\n",
       "      <td>False</td>\n",
       "      <td>False</td>\n",
       "      <td>False</td>\n",
       "      <td>...</td>\n",
       "      <td>0.0</td>\n",
       "      <td>0.0</td>\n",
       "      <td>0.0</td>\n",
       "      <td>0.0</td>\n",
       "      <td>0.0</td>\n",
       "      <td>0.0</td>\n",
       "      <td>0.0</td>\n",
       "      <td>0.0</td>\n",
       "      <td>0.0</td>\n",
       "      <td>0.0</td>\n",
       "    </tr>\n",
       "    <tr>\n",
       "      <th>6</th>\n",
       "      <td>True</td>\n",
       "      <td>True</td>\n",
       "      <td>False</td>\n",
       "      <td>False</td>\n",
       "      <td>False</td>\n",
       "      <td>False</td>\n",
       "      <td>False</td>\n",
       "      <td>False</td>\n",
       "      <td>False</td>\n",
       "      <td>False</td>\n",
       "      <td>...</td>\n",
       "      <td>0.0</td>\n",
       "      <td>0.0</td>\n",
       "      <td>0.0</td>\n",
       "      <td>0.0</td>\n",
       "      <td>0.0</td>\n",
       "      <td>0.0</td>\n",
       "      <td>0.0</td>\n",
       "      <td>0.0</td>\n",
       "      <td>0.0</td>\n",
       "      <td>0.0</td>\n",
       "    </tr>\n",
       "    <tr>\n",
       "      <th>8</th>\n",
       "      <td>True</td>\n",
       "      <td>True</td>\n",
       "      <td>False</td>\n",
       "      <td>False</td>\n",
       "      <td>False</td>\n",
       "      <td>False</td>\n",
       "      <td>False</td>\n",
       "      <td>False</td>\n",
       "      <td>False</td>\n",
       "      <td>False</td>\n",
       "      <td>...</td>\n",
       "      <td>0.0</td>\n",
       "      <td>0.0</td>\n",
       "      <td>0.0</td>\n",
       "      <td>0.0</td>\n",
       "      <td>0.0</td>\n",
       "      <td>0.0</td>\n",
       "      <td>0.0</td>\n",
       "      <td>0.0</td>\n",
       "      <td>0.0</td>\n",
       "      <td>0.0</td>\n",
       "    </tr>\n",
       "  </tbody>\n",
       "</table>\n",
       "<p>5 rows × 56526 columns</p>\n",
       "</div>"
      ],
      "text/plain": [
       "   malicious  packed  imp_setupremovefilelogentrya  imp_vardeccmp  \\\n",
       "0       True    True                         False          False   \n",
       "1       True    True                         False          False   \n",
       "5      False    True                         False          False   \n",
       "6       True    True                         False          False   \n",
       "8       True    True                         False          False   \n",
       "\n",
       "   imp_setdlgitemint  \\\n",
       "0              False   \n",
       "1              False   \n",
       "5              False   \n",
       "6              False   \n",
       "8              False   \n",
       "\n",
       "   imp_?append@?$basic_string@du?$char_traits@d@std@@v?$allocator@d@2@@std@@qaeaav12@abv12@ii@z  \\\n",
       "0                                              False                                              \n",
       "1                                              False                                              \n",
       "5                                              False                                              \n",
       "6                                              False                                              \n",
       "8                                              False                                              \n",
       "\n",
       "   imp_zwwritefile  imp_glstencilop  imp_comparelinkinforeferents  \\\n",
       "0            False            False                         False   \n",
       "1            False            False                         False   \n",
       "5            False            False                         False   \n",
       "6            False            False                         False   \n",
       "8            False            False                         False   \n",
       "\n",
       "   imp__setmbcp  ...  opcode_xor sub mov  opcode_xor sub mov add  \\\n",
       "0         False  ...                 0.0                     0.0   \n",
       "1         False  ...                 0.0                     0.0   \n",
       "5         False  ...                 0.0                     0.0   \n",
       "6         False  ...                 0.0                     0.0   \n",
       "8         False  ...                 0.0                     0.0   \n",
       "\n",
       "   opcode_xor test  opcode_xor test je  opcode_xor xor  opcode_xor xor mov  \\\n",
       "0              0.0                 0.0             0.0                 0.0   \n",
       "1              0.0                 0.0             0.0                 0.0   \n",
       "5              0.0                 0.0             0.0                 0.0   \n",
       "6              0.0                 0.0             0.0                 0.0   \n",
       "8              0.0                 0.0             0.0                 0.0   \n",
       "\n",
       "   opcode_xor xor pop  opcode_xor xor pop mov  opcode_xor xor xor  \\\n",
       "0                 0.0                     0.0                 0.0   \n",
       "1                 0.0                     0.0                 0.0   \n",
       "5                 0.0                     0.0                 0.0   \n",
       "6                 0.0                     0.0                 0.0   \n",
       "8                 0.0                     0.0                 0.0   \n",
       "\n",
       "   opcode_xor xor xor pop  \n",
       "0                     0.0  \n",
       "1                     0.0  \n",
       "5                     0.0  \n",
       "6                     0.0  \n",
       "8                     0.0  \n",
       "\n",
       "[5 rows x 56526 columns]"
      ]
     },
     "execution_count": 5,
     "metadata": {},
     "output_type": "execute_result"
    }
   ],
   "source": [
    "upx.head()"
   ]
  },
  {
   "cell_type": "code",
   "execution_count": 6,
   "id": "adc7687c",
   "metadata": {
    "execution": {
     "iopub.execute_input": "2024-01-23T12:08:02.895915Z",
     "iopub.status.busy": "2024-01-23T12:08:02.895560Z",
     "iopub.status.idle": "2024-01-23T12:08:03.620995Z",
     "shell.execute_reply": "2024-01-23T12:08:03.619267Z"
    },
    "papermill": {
     "duration": 0.744296,
     "end_time": "2024-01-23T12:08:03.623748",
     "exception": false,
     "start_time": "2024-01-23T12:08:02.879452",
     "status": "completed"
    },
    "tags": []
   },
   "outputs": [],
   "source": [
    "df_7000 = upx.sample(n=7000, random_state=102)\n",
    "df_3000 = upx.drop(df_7000.index)"
   ]
  },
  {
   "cell_type": "code",
   "execution_count": 7,
   "id": "78a12f83",
   "metadata": {
    "execution": {
     "iopub.execute_input": "2024-01-23T12:08:03.656393Z",
     "iopub.status.busy": "2024-01-23T12:08:03.655984Z",
     "iopub.status.idle": "2024-01-23T12:08:04.026516Z",
     "shell.execute_reply": "2024-01-23T12:08:04.024840Z"
    },
    "papermill": {
     "duration": 0.389442,
     "end_time": "2024-01-23T12:08:04.028987",
     "exception": false,
     "start_time": "2024-01-23T12:08:03.639545",
     "status": "completed"
    },
    "tags": []
   },
   "outputs": [],
   "source": [
    "data = df_7000.sample(n=3500, random_state=102)"
   ]
  },
  {
   "cell_type": "code",
   "execution_count": 8,
   "id": "8a186e2a",
   "metadata": {
    "execution": {
     "iopub.execute_input": "2024-01-23T12:08:04.060942Z",
     "iopub.status.busy": "2024-01-23T12:08:04.060573Z",
     "iopub.status.idle": "2024-01-23T12:08:04.306227Z",
     "shell.execute_reply": "2024-01-23T12:08:04.304649Z"
    },
    "papermill": {
     "duration": 0.264366,
     "end_time": "2024-01-23T12:08:04.308477",
     "exception": false,
     "start_time": "2024-01-23T12:08:04.044111",
     "status": "completed"
    },
    "tags": []
   },
   "outputs": [
    {
     "name": "stdout",
     "output_type": "stream",
     "text": [
      "Packed Malware: 2391 samples\n",
      "Packed Benign: 1109 samples\n",
      "Total TRAIN set: 3500 samples\n"
     ]
    }
   ],
   "source": [
    "#Kiểm tra số lượng mẫu\n",
    "PM = data[(data['malicious'] == True) & (data['packed'] == True)].shape[0]\n",
    "PB = data[(data['malicious'] == False) & (data['packed'] == True)].shape[0]\n",
    "print('Packed Malware: %i samples' % PM)\n",
    "print('Packed Benign: %i samples' % PB)\n",
    "print('Total TRAIN set: %i samples'% (PM+PB))"
   ]
  },
  {
   "cell_type": "code",
   "execution_count": 9,
   "id": "c9323a23",
   "metadata": {
    "execution": {
     "iopub.execute_input": "2024-01-23T12:08:04.400407Z",
     "iopub.status.busy": "2024-01-23T12:08:04.399199Z",
     "iopub.status.idle": "2024-01-23T12:08:04.791172Z",
     "shell.execute_reply": "2024-01-23T12:08:04.789803Z"
    },
    "papermill": {
     "duration": 0.469926,
     "end_time": "2024-01-23T12:08:04.793572",
     "exception": false,
     "start_time": "2024-01-23T12:08:04.323646",
     "status": "completed"
    },
    "tags": []
   },
   "outputs": [],
   "source": [
    "#Chia tỉ lệ 50 - 50\n",
    "data_PM = data[(data['malicious'] == True) & (data['packed'] == True)].sample(n=(PM-PB), random_state=102)\n",
    "data = data.drop(data_PM.index)"
   ]
  },
  {
   "cell_type": "code",
   "execution_count": 10,
   "id": "74ce4ce0",
   "metadata": {
    "execution": {
     "iopub.execute_input": "2024-01-23T12:08:04.826335Z",
     "iopub.status.busy": "2024-01-23T12:08:04.825956Z",
     "iopub.status.idle": "2024-01-23T12:08:04.959642Z",
     "shell.execute_reply": "2024-01-23T12:08:04.957903Z"
    },
    "papermill": {
     "duration": 0.153584,
     "end_time": "2024-01-23T12:08:04.962246",
     "exception": false,
     "start_time": "2024-01-23T12:08:04.808662",
     "status": "completed"
    },
    "tags": []
   },
   "outputs": [
    {
     "name": "stdout",
     "output_type": "stream",
     "text": [
      "Packed Malware: 1109 samples\n",
      "Packed Benign: 1109 samples\n",
      "Total TRAIN set: 2218 samples\n"
     ]
    }
   ],
   "source": [
    "#Số lượng tập train\n",
    "PM = data[(data['malicious'] == True) & (data['packed'] == True)].shape[0]\n",
    "PB = data[(data['malicious'] == False) & (data['packed'] == True)].shape[0]\n",
    "print('Packed Malware: %i samples' % PM)\n",
    "print('Packed Benign: %i samples' % PB)\n",
    "print('Total TRAIN set: %i samples'% (PM+PB))"
   ]
  },
  {
   "cell_type": "code",
   "execution_count": 11,
   "id": "0d1a69f5",
   "metadata": {
    "execution": {
     "iopub.execute_input": "2024-01-23T12:08:04.995657Z",
     "iopub.status.busy": "2024-01-23T12:08:04.993936Z",
     "iopub.status.idle": "2024-01-23T12:08:05.048108Z",
     "shell.execute_reply": "2024-01-23T12:08:05.046887Z"
    },
    "papermill": {
     "duration": 0.072904,
     "end_time": "2024-01-23T12:08:05.050733",
     "exception": false,
     "start_time": "2024-01-23T12:08:04.977829",
     "status": "completed"
    },
    "tags": []
   },
   "outputs": [],
   "source": [
    "#Xử lý tập train\n",
    "y = data['malicious'].values\n",
    "data = data.drop(['malicious','packed'], axis=1)"
   ]
  },
  {
   "cell_type": "code",
   "execution_count": 12,
   "id": "42d99eae",
   "metadata": {
    "execution": {
     "iopub.execute_input": "2024-01-23T12:08:05.082860Z",
     "iopub.status.busy": "2024-01-23T12:08:05.082433Z",
     "iopub.status.idle": "2024-01-23T12:08:05.677443Z",
     "shell.execute_reply": "2024-01-23T12:08:05.675664Z"
    },
    "papermill": {
     "duration": 0.615003,
     "end_time": "2024-01-23T12:08:05.680918",
     "exception": false,
     "start_time": "2024-01-23T12:08:05.065915",
     "status": "completed"
    },
    "tags": []
   },
   "outputs": [
    {
     "name": "stdout",
     "output_type": "stream",
     "text": [
      "Packed Malware: 974 samples\n",
      "Packed Benign: 974 samples\n",
      "Total TEST set: 1948 samples\n"
     ]
    }
   ],
   "source": [
    "PM = df_3000[(df_3000['malicious'] == True) & (df_3000['packed'] == True)].shape[0]\n",
    "PB = df_3000[(df_3000['malicious'] == False) & (df_3000['packed'] == True)].shape[0]\n",
    "\n",
    "df_3000_PM = df_3000[(df_3000['malicious'] == True) & (df_3000['packed'] == True)].sample(n=(PM-PB), random_state=102)\n",
    "df_3000 = df_3000.drop(df_3000_PM.index)\n",
    "\n",
    "PM = df_3000[(df_3000['malicious'] == True) & (df_3000['packed'] == True)].shape[0]\n",
    "PB = df_3000[(df_3000['malicious'] == False) & (df_3000['packed'] == True)].shape[0]\n",
    "\n",
    "print('Packed Malware: %i samples' % PM)\n",
    "print('Packed Benign: %i samples' % PB)\n",
    "print('Total TEST set: %i samples'% (PM+PB))"
   ]
  },
  {
   "cell_type": "code",
   "execution_count": 13,
   "id": "d33822ff",
   "metadata": {
    "execution": {
     "iopub.execute_input": "2024-01-23T12:08:05.713613Z",
     "iopub.status.busy": "2024-01-23T12:08:05.713231Z",
     "iopub.status.idle": "2024-01-23T12:08:05.968943Z",
     "shell.execute_reply": "2024-01-23T12:08:05.966903Z"
    },
    "papermill": {
     "duration": 0.275206,
     "end_time": "2024-01-23T12:08:05.971545",
     "exception": false,
     "start_time": "2024-01-23T12:08:05.696339",
     "status": "completed"
    },
    "tags": []
   },
   "outputs": [],
   "source": [
    "# model = SelectFromModel(fsel, prefit=True)\n",
    "\n",
    "X_train = data\n",
    "X_test = df_3000.drop(['malicious','packed'], axis=1)\n",
    "\n",
    "data = data.loc[:, (data != 0).any(axis=0)]\n",
    "x_train = data\n",
    "X_test = df_3000.drop(['malicious','packed'], axis=1)\n",
    "y_train = y\n",
    "y_test = df_3000['malicious'].values"
   ]
  },
  {
   "cell_type": "code",
   "execution_count": 14,
   "id": "d410f0ea",
   "metadata": {
    "execution": {
     "iopub.execute_input": "2024-01-23T12:08:06.005856Z",
     "iopub.status.busy": "2024-01-23T12:08:06.005466Z",
     "iopub.status.idle": "2024-01-23T12:08:10.422408Z",
     "shell.execute_reply": "2024-01-23T12:08:10.421543Z"
    },
    "papermill": {
     "duration": 4.437286,
     "end_time": "2024-01-23T12:08:10.424433",
     "exception": false,
     "start_time": "2024-01-23T12:08:05.987147",
     "status": "completed"
    },
    "tags": []
   },
   "outputs": [
    {
     "name": "stdout",
     "output_type": "stream",
     "text": [
      "The accuracy of the Random Forests model is :\t 0.9291581108829569\n"
     ]
    }
   ],
   "source": [
    "# Random Forest\n",
    "from sklearn.ensemble import RandomForestClassifier\n",
    "from sklearn import metrics\n",
    "\n",
    "random_forest = RandomForestClassifier(n_estimators=100, random_state=17)\n",
    "random_forest.fit(X_train, y_train)\n",
    "random_forest_preds = random_forest.predict(X_test)\n",
    "print('The accuracy of the Random Forests model is :\\t',metrics.accuracy_score(random_forest_preds,y_test))"
   ]
  },
  {
   "cell_type": "code",
   "execution_count": 15,
   "id": "1d4e57b8",
   "metadata": {
    "execution": {
     "iopub.execute_input": "2024-01-23T12:08:10.460407Z",
     "iopub.status.busy": "2024-01-23T12:08:10.459781Z",
     "iopub.status.idle": "2024-01-23T12:08:10.478121Z",
     "shell.execute_reply": "2024-01-23T12:08:10.477406Z"
    },
    "papermill": {
     "duration": 0.037197,
     "end_time": "2024-01-23T12:08:10.480125",
     "exception": false,
     "start_time": "2024-01-23T12:08:10.442928",
     "status": "completed"
    },
    "tags": []
   },
   "outputs": [
    {
     "name": "stdout",
     "output_type": "stream",
     "text": [
      "True positive : 919 \n",
      "True negative : 891 \n",
      "False positive : 83 \n",
      "False negative : 55 \n",
      "Classification Report:\n",
      "               precision    recall  f1-score   support\n",
      "\n",
      "       False       0.94      0.91      0.93       974\n",
      "        True       0.92      0.94      0.93       974\n",
      "\n",
      "    accuracy                           0.93      1948\n",
      "   macro avg       0.93      0.93      0.93      1948\n",
      "weighted avg       0.93      0.93      0.93      1948\n",
      "\n"
     ]
    }
   ],
   "source": [
    "mt = confusion_matrix(y_test, random_forest_preds)\n",
    "report = classification_report(y_test, random_forest_preds)\n",
    "print(\"True positive : %i \" % (mt[1][1]))\n",
    "print(\"True negative : %i \" % (mt[0][0]))\n",
    "print(\"False positive : %i \" % (mt[0][1]))\n",
    "print(\"False negative : %i \" % (mt[1][0]))\n",
    "print(\"Classification Report:\\n\", report)"
   ]
  },
  {
   "cell_type": "code",
   "execution_count": 16,
   "id": "0a32974b",
   "metadata": {
    "execution": {
     "iopub.execute_input": "2024-01-23T12:08:10.516087Z",
     "iopub.status.busy": "2024-01-23T12:08:10.515486Z",
     "iopub.status.idle": "2024-01-23T12:08:10.559703Z",
     "shell.execute_reply": "2024-01-23T12:08:10.558186Z"
    },
    "papermill": {
     "duration": 0.064718,
     "end_time": "2024-01-23T12:08:10.562323",
     "exception": false,
     "start_time": "2024-01-23T12:08:10.497605",
     "status": "completed"
    },
    "tags": []
   },
   "outputs": [
    {
     "data": {
      "text/plain": [
       "generic_fileEntropy                        0.006407\n",
       "header_SizeOfCode                          0.005478\n",
       "ngram_b'\\x051\\x0f\\x17\\r1'                  0.004816\n",
       "pesection_2_size                           0.004751\n",
       "ngram_b'\\x05\\x00\\x03\\x82\\x01\\x0f'          0.004377\n",
       "                                             ...   \n",
       "imp__zn7qwidget6resizeerk5qsize            0.000000\n",
       "imp__zn7qwidget9dropeventep10qdropevent    0.000000\n",
       "imp__zn7qwidget9hideeventep10qhideevent    0.000000\n",
       "imp__zn7qwidget9moveeventep10qmoveevent    0.000000\n",
       "opcode_xor xor xor pop                     0.000000\n",
       "Length: 56524, dtype: float64"
      ]
     },
     "execution_count": 16,
     "metadata": {},
     "output_type": "execute_result"
    }
   ],
   "source": [
    "feature_scores_rf = pd.Series(random_forest.feature_importances_, index=X_train.columns).sort_values(ascending=False)\n",
    "\n",
    "feature_scores_rf"
   ]
  },
  {
   "cell_type": "code",
   "execution_count": 17,
   "id": "238f6364",
   "metadata": {
    "execution": {
     "iopub.execute_input": "2024-01-23T12:08:10.595071Z",
     "iopub.status.busy": "2024-01-23T12:08:10.594700Z",
     "iopub.status.idle": "2024-01-23T12:08:10.629623Z",
     "shell.execute_reply": "2024-01-23T12:08:10.628266Z"
    },
    "papermill": {
     "duration": 0.053942,
     "end_time": "2024-01-23T12:08:10.631994",
     "exception": false,
     "start_time": "2024-01-23T12:08:10.578052",
     "status": "completed"
    },
    "tags": []
   },
   "outputs": [],
   "source": [
    "top50 = pd.Series(random_forest.feature_importances_, index=X_train.columns).sort_values(ascending=False).head(50)"
   ]
  },
  {
   "cell_type": "code",
   "execution_count": 18,
   "id": "39985ee1",
   "metadata": {
    "execution": {
     "iopub.execute_input": "2024-01-23T12:08:10.665444Z",
     "iopub.status.busy": "2024-01-23T12:08:10.664520Z",
     "iopub.status.idle": "2024-01-23T12:08:10.677705Z",
     "shell.execute_reply": "2024-01-23T12:08:10.676437Z"
    },
    "papermill": {
     "duration": 0.032284,
     "end_time": "2024-01-23T12:08:10.679861",
     "exception": false,
     "start_time": "2024-01-23T12:08:10.647577",
     "status": "completed"
    },
    "tags": []
   },
   "outputs": [
    {
     "name": "stdout",
     "output_type": "stream",
     "text": [
      "'ngram': 18\n",
      "'opcode ngram': 0\n",
      "'generic': 2\n",
      "'strings': 0\n",
      "'rich header': 3\n",
      "'api import': 2\n",
      "'dll': 1\n",
      "'pe section': 19\n",
      "'pe header': 5\n"
     ]
    }
   ],
   "source": [
    "# Tạo DataFrame từ feature_scores_rf\n",
    "df_features = pd.DataFrame(top50, columns=['Score'])\n",
    "\n",
    "count_ngram = df_features[df_features.index.str.startswith('ngram_')].shape[0]\n",
    "count_opcode = df_features[df_features.index.str.startswith('opcode_')].shape[0]\n",
    "count_generic = df_features[df_features.index.str.startswith('generic_')].shape[0]\n",
    "count_string = df_features[df_features.index.str.startswith('string_')].shape[0]\n",
    "count_rich = df_features[df_features.index.str.startswith('rich_')].shape[0]\n",
    "# count_api = df_features[df_features.index.str.startswith('imp_') or 'api_import_nb' == c].shape[0]\n",
    "# count_dll = df_features[df_features.index.str.startswith('.dll') or 'dll_import_nb' == c].shape[0]\n",
    "count_api = df_features[df_features.index.str.startswith('imp_') | (df_features.index == 'api_import_nb')].shape[0]\n",
    "count_dll = df_features[df_features.index.str.endswith('.dll') | (df_features.index == 'dll_import_nb')].shape[0]\n",
    "count_section = df_features[df_features.index.str.startswith('pesection')].shape[0]\n",
    "count_header = df_features[df_features.index.str.startswith('header_')].shape[0]\n",
    "\n",
    "print(f\"'ngram': {count_ngram}\")\n",
    "print(f\"'opcode ngram': {count_opcode}\")\n",
    "print(f\"'generic': {count_generic}\")\n",
    "print(f\"'strings': {count_string}\")\n",
    "print(f\"'rich header': {count_rich}\")\n",
    "print(f\"'api import': {count_api}\")\n",
    "print(f\"'dll': {count_dll}\")\n",
    "print(f\"'pe section': {count_section}\")\n",
    "print(f\"'pe header': {count_header}\")"
   ]
  },
  {
   "cell_type": "code",
   "execution_count": 19,
   "id": "ba846e17",
   "metadata": {
    "execution": {
     "iopub.execute_input": "2024-01-23T12:08:10.714223Z",
     "iopub.status.busy": "2024-01-23T12:08:10.713871Z",
     "iopub.status.idle": "2024-01-23T12:08:10.724628Z",
     "shell.execute_reply": "2024-01-23T12:08:10.722846Z"
    },
    "papermill": {
     "duration": 0.030745,
     "end_time": "2024-01-23T12:08:10.727617",
     "exception": false,
     "start_time": "2024-01-23T12:08:10.696872",
     "status": "completed"
    },
    "tags": []
   },
   "outputs": [],
   "source": [
    "cols = list(upx.columns)"
   ]
  },
  {
   "cell_type": "markdown",
   "id": "61cdabc5",
   "metadata": {
    "papermill": {
     "duration": 0.016138,
     "end_time": "2024-01-23T12:08:10.760169",
     "exception": false,
     "start_time": "2024-01-23T12:08:10.744031",
     "status": "completed"
    },
    "tags": []
   },
   "source": [
    "# **ngram features**"
   ]
  },
  {
   "cell_type": "code",
   "execution_count": 20,
   "id": "06321cd5",
   "metadata": {
    "execution": {
     "iopub.execute_input": "2024-01-23T12:08:10.793782Z",
     "iopub.status.busy": "2024-01-23T12:08:10.793393Z",
     "iopub.status.idle": "2024-01-23T12:08:11.736618Z",
     "shell.execute_reply": "2024-01-23T12:08:11.735074Z"
    },
    "papermill": {
     "duration": 0.962366,
     "end_time": "2024-01-23T12:08:11.739044",
     "exception": false,
     "start_time": "2024-01-23T12:08:10.776678",
     "status": "completed"
    },
    "tags": []
   },
   "outputs": [],
   "source": [
    "upx = pd.read_pickle('/kaggle/input/packer-balance-pickle/upx_balance.pickle')\n",
    "upx = upx.drop(['sample_sha1','benign','unpacked_sample_sha1','unpacked_sample_id'], axis=1)\n",
    "upx = upx.drop(['benign_vt','malicious_vt'], axis=1)\n",
    "string_columns = upx.select_dtypes(include=['object']).columns\n",
    "upx = upx.drop(string_columns, axis=1)"
   ]
  },
  {
   "cell_type": "code",
   "execution_count": 21,
   "id": "d54cfbc3",
   "metadata": {
    "execution": {
     "iopub.execute_input": "2024-01-23T12:08:11.772106Z",
     "iopub.status.busy": "2024-01-23T12:08:11.771743Z",
     "iopub.status.idle": "2024-01-23T12:08:11.776791Z",
     "shell.execute_reply": "2024-01-23T12:08:11.775888Z"
    },
    "papermill": {
     "duration": 0.023926,
     "end_time": "2024-01-23T12:08:11.778662",
     "exception": false,
     "start_time": "2024-01-23T12:08:11.754736",
     "status": "completed"
    },
    "tags": []
   },
   "outputs": [],
   "source": [
    "def remove_cols(df, ll):\n",
    "    print(\"removing {} features\".format(len(ll)))\n",
    "    df.drop(columns=ll, axis=1, inplace=True)\n",
    "    return df"
   ]
  },
  {
   "cell_type": "code",
   "execution_count": 22,
   "id": "b3fd2dc3",
   "metadata": {
    "execution": {
     "iopub.execute_input": "2024-01-23T12:08:11.812018Z",
     "iopub.status.busy": "2024-01-23T12:08:11.811592Z",
     "iopub.status.idle": "2024-01-23T12:08:12.556081Z",
     "shell.execute_reply": "2024-01-23T12:08:12.554246Z"
    },
    "papermill": {
     "duration": 0.764137,
     "end_time": "2024-01-23T12:08:12.558522",
     "exception": false,
     "start_time": "2024-01-23T12:08:11.794385",
     "status": "completed"
    },
    "tags": []
   },
   "outputs": [
    {
     "name": "stdout",
     "output_type": "stream",
     "text": [
      "removing 2500 features\n",
      "removing 2 features\n",
      "removing 16900 features\n",
      "removing 66 features\n",
      "removing 19169 features\n",
      "removing 4306 features\n",
      "removing 550 features\n",
      "removing 29 features\n"
     ]
    }
   ],
   "source": [
    "# ngram = remove_cols(df, [c for c in cols if c.startswith('ngram_')])\n",
    "ngram = remove_cols(upx, [c for c in cols if c.startswith('opcode_')])\n",
    "ngram = remove_cols(upx, [c for c in cols if c.startswith('generic_')])\n",
    "ngram = remove_cols(upx, [c for c in cols if c.startswith('string_')])\n",
    "ngram = remove_cols(upx, [c for c in cols if c.startswith('rich_')])\n",
    "ngram = remove_cols(upx, [c for c in cols if c.startswith('imp_') or 'api_import_nb' == c])\n",
    "ngram = remove_cols(upx, [c for c in cols if c.endswith('.dll') or 'dll_import_nb' == c])\n",
    "ngram = remove_cols(upx, [c for c in cols if c.startswith('pesection')])\n",
    "ngram = remove_cols(upx, [c for c in cols if c.startswith('header_')])"
   ]
  },
  {
   "cell_type": "code",
   "execution_count": 23,
   "id": "dc510a4f",
   "metadata": {
    "execution": {
     "iopub.execute_input": "2024-01-23T12:08:12.592741Z",
     "iopub.status.busy": "2024-01-23T12:08:12.591650Z",
     "iopub.status.idle": "2024-01-23T12:08:12.790405Z",
     "shell.execute_reply": "2024-01-23T12:08:12.788669Z"
    },
    "papermill": {
     "duration": 0.219021,
     "end_time": "2024-01-23T12:08:12.793585",
     "exception": false,
     "start_time": "2024-01-23T12:08:12.574564",
     "status": "completed"
    },
    "tags": []
   },
   "outputs": [],
   "source": [
    "df_7000_ngram = ngram.sample(n=7000, random_state=102)\n",
    "df_3000_ngram = ngram.drop(df_7000.index)\n",
    "data_ngram = df_7000_ngram.sample(n=3500, random_state=102)"
   ]
  },
  {
   "cell_type": "code",
   "execution_count": 24,
   "id": "04f8687b",
   "metadata": {
    "execution": {
     "iopub.execute_input": "2024-01-23T12:08:12.829404Z",
     "iopub.status.busy": "2024-01-23T12:08:12.829049Z",
     "iopub.status.idle": "2024-01-23T12:08:13.097407Z",
     "shell.execute_reply": "2024-01-23T12:08:13.096124Z"
    },
    "papermill": {
     "duration": 0.290016,
     "end_time": "2024-01-23T12:08:13.100336",
     "exception": false,
     "start_time": "2024-01-23T12:08:12.810320",
     "status": "completed"
    },
    "tags": []
   },
   "outputs": [
    {
     "name": "stdout",
     "output_type": "stream",
     "text": [
      "Packed Malware: 2391 samples\n",
      "Packed Benign: 1109 samples\n",
      "Total TRAIN set: 3500 samples\n",
      "Packed Malware: 1109 samples\n",
      "Packed Benign: 1109 samples\n",
      "Total TRAIN set: 2218 samples\n",
      "Packed Malware: 974 samples\n",
      "Packed Benign: 974 samples\n",
      "Total TEST set: 1948 samples\n"
     ]
    }
   ],
   "source": [
    "#Kiểm tra số lượng mẫu\n",
    "PM = data_ngram[(data_ngram['malicious'] == True) & (data_ngram['packed'] == True)].shape[0]\n",
    "PB = data_ngram[(data_ngram['malicious'] == False) & (data_ngram['packed'] == True)].shape[0]\n",
    "print('Packed Malware: %i samples' % PM)\n",
    "print('Packed Benign: %i samples' % PB)\n",
    "print('Total TRAIN set: %i samples'% (PM+PB))\n",
    "\n",
    "#Chia tỉ lệ 50 - 50\n",
    "data_PM_ngram = data_ngram[(data_ngram['malicious'] == True) & (data_ngram['packed'] == True)].sample(n=(PM-PB), random_state=102)\n",
    "data_ngram = data_ngram.drop(data_PM_ngram.index)\n",
    "\n",
    "#Số lượng tập train\n",
    "PM = data_ngram[(data_ngram['malicious'] == True) & (data_ngram['packed'] == True)].shape[0]\n",
    "PB = data_ngram[(data_ngram['malicious'] == False) & (data_ngram['packed'] == True)].shape[0]\n",
    "print('Packed Malware: %i samples' % PM)\n",
    "print('Packed Benign: %i samples' % PB)\n",
    "print('Total TRAIN set: %i samples'% (PM+PB))\n",
    "\n",
    "#Xử lý tập train\n",
    "y = data_ngram['malicious'].values\n",
    "data_ngram = data_ngram.drop(['malicious','packed'], axis=1)\n",
    "\n",
    "PM = df_3000_ngram[(df_3000_ngram['malicious'] == True) & (df_3000_ngram['packed'] == True)].shape[0]\n",
    "PB = df_3000_ngram[(df_3000_ngram['malicious'] == False) & (df_3000_ngram['packed'] == True)].shape[0]\n",
    "\n",
    "df_3000_PM_ngram = df_3000_ngram[(df_3000_ngram['malicious'] == True) & (df_3000_ngram['packed'] == True)].sample(n=(PM-PB), random_state=102)\n",
    "df_3000_ngram = df_3000_ngram.drop(df_3000_PM.index)\n",
    "\n",
    "PM = df_3000_ngram[(df_3000_ngram['malicious'] == True) & (df_3000_ngram['packed'] == True)].shape[0]\n",
    "PB = df_3000_ngram[(df_3000_ngram['malicious'] == False) & (df_3000_ngram['packed'] == True)].shape[0]\n",
    "\n",
    "print('Packed Malware: %i samples' % PM)\n",
    "print('Packed Benign: %i samples' % PB)\n",
    "print('Total TEST set: %i samples'% (PM+PB))"
   ]
  },
  {
   "cell_type": "code",
   "execution_count": 25,
   "id": "6b6c06e4",
   "metadata": {
    "execution": {
     "iopub.execute_input": "2024-01-23T12:08:13.135634Z",
     "iopub.status.busy": "2024-01-23T12:08:13.134445Z",
     "iopub.status.idle": "2024-01-23T12:08:13.190318Z",
     "shell.execute_reply": "2024-01-23T12:08:13.188435Z"
    },
    "papermill": {
     "duration": 0.076541,
     "end_time": "2024-01-23T12:08:13.193166",
     "exception": false,
     "start_time": "2024-01-23T12:08:13.116625",
     "status": "completed"
    },
    "tags": []
   },
   "outputs": [],
   "source": [
    "# model = SelectFromModel(fsel, prefit=True)\n",
    "\n",
    "X_train_ngram = data_ngram\n",
    "X_test_ngram = df_3000_ngram.drop(['malicious','packed'], axis=1)\n",
    "\n",
    "data_ngram = data_ngram.loc[:, (data_ngram != 0).any(axis=0)]\n",
    "x_train_ngram = data_ngram\n",
    "X_test_ngram = df_3000_ngram.drop(['malicious','packed'], axis=1)\n",
    "y_train_ngram = y\n",
    "y_test_ngram = df_3000_ngram['malicious'].values"
   ]
  },
  {
   "cell_type": "code",
   "execution_count": 26,
   "id": "8610cee8",
   "metadata": {
    "execution": {
     "iopub.execute_input": "2024-01-23T12:08:13.228665Z",
     "iopub.status.busy": "2024-01-23T12:08:13.227432Z",
     "iopub.status.idle": "2024-01-23T12:08:15.548649Z",
     "shell.execute_reply": "2024-01-23T12:08:15.547284Z"
    },
    "papermill": {
     "duration": 2.341127,
     "end_time": "2024-01-23T12:08:15.551265",
     "exception": false,
     "start_time": "2024-01-23T12:08:13.210138",
     "status": "completed"
    },
    "tags": []
   },
   "outputs": [
    {
     "name": "stdout",
     "output_type": "stream",
     "text": [
      "The accuracy of the Random Forests model is :\t 0.9188911704312115\n"
     ]
    }
   ],
   "source": [
    "# Random Forest\n",
    "from sklearn.ensemble import RandomForestClassifier\n",
    "from sklearn import metrics\n",
    "\n",
    "random_forest = RandomForestClassifier(n_estimators=100, random_state=17)\n",
    "random_forest.fit(X_train_ngram, y_train_ngram)\n",
    "random_forest_preds = random_forest.predict(X_test_ngram)\n",
    "print('The accuracy of the Random Forests model is :\\t',metrics.accuracy_score(random_forest_preds,y_test_ngram))"
   ]
  },
  {
   "cell_type": "markdown",
   "id": "a6ef41b5",
   "metadata": {
    "papermill": {
     "duration": 0.016827,
     "end_time": "2024-01-23T12:08:15.584799",
     "exception": false,
     "start_time": "2024-01-23T12:08:15.567972",
     "status": "completed"
    },
    "tags": []
   },
   "source": [
    "# **opcode features**"
   ]
  },
  {
   "cell_type": "code",
   "execution_count": 27,
   "id": "dd2764a3",
   "metadata": {
    "execution": {
     "iopub.execute_input": "2024-01-23T12:08:15.620709Z",
     "iopub.status.busy": "2024-01-23T12:08:15.620286Z",
     "iopub.status.idle": "2024-01-23T12:08:16.532375Z",
     "shell.execute_reply": "2024-01-23T12:08:16.531326Z"
    },
    "papermill": {
     "duration": 0.932928,
     "end_time": "2024-01-23T12:08:16.534690",
     "exception": false,
     "start_time": "2024-01-23T12:08:15.601762",
     "status": "completed"
    },
    "tags": []
   },
   "outputs": [],
   "source": [
    "upx = pd.read_pickle('/kaggle/input/packer-balance-pickle/upx_balance.pickle')\n",
    "upx = upx.drop(['sample_sha1','benign','unpacked_sample_sha1','unpacked_sample_id'], axis=1)\n",
    "upx = upx.drop(['benign_vt','malicious_vt'], axis=1)\n",
    "string_columns = upx.select_dtypes(include=['object']).columns\n",
    "upx = upx.drop(string_columns, axis=1)"
   ]
  },
  {
   "cell_type": "code",
   "execution_count": 28,
   "id": "74fbd8a1",
   "metadata": {
    "execution": {
     "iopub.execute_input": "2024-01-23T12:08:16.569749Z",
     "iopub.status.busy": "2024-01-23T12:08:16.569072Z",
     "iopub.status.idle": "2024-01-23T12:08:17.425909Z",
     "shell.execute_reply": "2024-01-23T12:08:17.424874Z"
    },
    "papermill": {
     "duration": 0.877456,
     "end_time": "2024-01-23T12:08:17.428493",
     "exception": false,
     "start_time": "2024-01-23T12:08:16.551037",
     "status": "completed"
    },
    "tags": []
   },
   "outputs": [
    {
     "name": "stdout",
     "output_type": "stream",
     "text": [
      "removing 13000 features\n",
      "removing 2 features\n",
      "removing 16900 features\n",
      "removing 66 features\n",
      "removing 19169 features\n",
      "removing 4306 features\n",
      "removing 550 features\n",
      "removing 29 features\n"
     ]
    }
   ],
   "source": [
    "opcode = remove_cols(upx, [c for c in cols if c.startswith('ngram_')])\n",
    "# opcode = remove_cols(upx, [c for c in cols if c.startswith('opcode_')])\n",
    "opcode = remove_cols(upx, [c for c in cols if c.startswith('generic_')])\n",
    "opcode = remove_cols(upx, [c for c in cols if c.startswith('string_')])\n",
    "opcode = remove_cols(upx, [c for c in cols if c.startswith('rich_')])\n",
    "opcode = remove_cols(upx, [c for c in cols if c.startswith('imp_') or 'api_import_nb' == c])\n",
    "opcode = remove_cols(upx, [c for c in cols if c.endswith('.dll') or 'dll_import_nb' == c])\n",
    "opcode = remove_cols(upx, [c for c in cols if c.startswith('pesection')])\n",
    "opcode = remove_cols(upx, [c for c in cols if c.startswith('header_')])"
   ]
  },
  {
   "cell_type": "code",
   "execution_count": 29,
   "id": "a3320d87",
   "metadata": {
    "execution": {
     "iopub.execute_input": "2024-01-23T12:08:17.461134Z",
     "iopub.status.busy": "2024-01-23T12:08:17.460769Z",
     "iopub.status.idle": "2024-01-23T12:08:17.617069Z",
     "shell.execute_reply": "2024-01-23T12:08:17.616007Z"
    },
    "papermill": {
     "duration": 0.175412,
     "end_time": "2024-01-23T12:08:17.619635",
     "exception": false,
     "start_time": "2024-01-23T12:08:17.444223",
     "status": "completed"
    },
    "tags": []
   },
   "outputs": [],
   "source": [
    "df_7000_opcode = opcode.sample(n=7000, random_state=102)\n",
    "df_3000_opcode = opcode.drop(df_7000.index)\n",
    "data_opcode = df_7000_opcode.sample(n=3500, random_state=102)"
   ]
  },
  {
   "cell_type": "code",
   "execution_count": 30,
   "id": "587104aa",
   "metadata": {
    "execution": {
     "iopub.execute_input": "2024-01-23T12:08:17.654176Z",
     "iopub.status.busy": "2024-01-23T12:08:17.653786Z",
     "iopub.status.idle": "2024-01-23T12:08:17.799190Z",
     "shell.execute_reply": "2024-01-23T12:08:17.797300Z"
    },
    "papermill": {
     "duration": 0.16568,
     "end_time": "2024-01-23T12:08:17.801749",
     "exception": false,
     "start_time": "2024-01-23T12:08:17.636069",
     "status": "completed"
    },
    "tags": []
   },
   "outputs": [
    {
     "name": "stdout",
     "output_type": "stream",
     "text": [
      "Packed Malware: 2391 samples\n",
      "Packed Benign: 1109 samples\n",
      "Total TRAIN set: 3500 samples\n",
      "Packed Malware: 1109 samples\n",
      "Packed Benign: 1109 samples\n",
      "Total TRAIN set: 2218 samples\n",
      "Packed Malware: 974 samples\n",
      "Packed Benign: 974 samples\n",
      "Total TEST set: 1948 samples\n"
     ]
    }
   ],
   "source": [
    "#Kiểm tra số lượng mẫu\n",
    "PM = data_opcode[(data_opcode['malicious'] == True) & (data_opcode['packed'] == True)].shape[0]\n",
    "PB = data_opcode[(data_opcode['malicious'] == False) & (data_opcode['packed'] == True)].shape[0]\n",
    "print('Packed Malware: %i samples' % PM)\n",
    "print('Packed Benign: %i samples' % PB)\n",
    "print('Total TRAIN set: %i samples'% (PM+PB))\n",
    "\n",
    "#Chia tỉ lệ 50 - 50\n",
    "data_PM_opcode = data_opcode[(data_opcode['malicious'] == True) & (data_opcode['packed'] == True)].sample(n=(PM-PB), random_state=102)\n",
    "data_opcode = data_opcode.drop(data_PM_opcode.index)\n",
    "      \n",
    "#Số lượng tập train\n",
    "PM = data_opcode[(data_opcode['malicious'] == True) & (data_opcode['packed'] == True)].shape[0]\n",
    "PB = data_opcode[(data_opcode['malicious'] == False) & (data_opcode['packed'] == True)].shape[0]\n",
    "print('Packed Malware: %i samples' % PM)\n",
    "print('Packed Benign: %i samples' % PB)\n",
    "print('Total TRAIN set: %i samples'% (PM+PB))\n",
    "\n",
    "#Xử lý tập train\n",
    "y = data_opcode['malicious'].values\n",
    "data_opcode = data_opcode.drop(['malicious','packed'], axis=1)\n",
    "\n",
    "PM = df_3000_opcode[(df_3000_opcode['malicious'] == True) & (df_3000_opcode['packed'] == True)].shape[0]\n",
    "PB = df_3000_opcode[(df_3000_opcode['malicious'] == False) & (df_3000_opcode['packed'] == True)].shape[0]\n",
    "\n",
    "df_3000_PM_opcode = df_3000_opcode[(df_3000_opcode['malicious'] == True) & (df_3000_opcode['packed'] == True)].sample(n=(PM-PB), random_state=102)\n",
    "df_3000_opcode = df_3000_opcode.drop(df_3000_PM_opcode.index)\n",
    "\n",
    "PM = df_3000_opcode[(df_3000_opcode['malicious'] == True) & (df_3000_opcode['packed'] == True)].shape[0]\n",
    "PB = df_3000_opcode[(df_3000_opcode['malicious'] == False) & (df_3000_opcode['packed'] == True)].shape[0]\n",
    "\n",
    "print('Packed Malware: %i samples' % PM)\n",
    "print('Packed Benign: %i samples' % PB)\n",
    "print('Total TEST set: %i samples'% (PM+PB))"
   ]
  },
  {
   "cell_type": "code",
   "execution_count": 31,
   "id": "7638f502",
   "metadata": {
    "execution": {
     "iopub.execute_input": "2024-01-23T12:08:17.837597Z",
     "iopub.status.busy": "2024-01-23T12:08:17.837145Z",
     "iopub.status.idle": "2024-01-23T12:08:17.860445Z",
     "shell.execute_reply": "2024-01-23T12:08:17.858559Z"
    },
    "papermill": {
     "duration": 0.044599,
     "end_time": "2024-01-23T12:08:17.863109",
     "exception": false,
     "start_time": "2024-01-23T12:08:17.818510",
     "status": "completed"
    },
    "tags": []
   },
   "outputs": [],
   "source": [
    "# model = SelectFromModel(fsel, prefit=True)\n",
    "\n",
    "X_train_opcode = data_opcode\n",
    "X_test_opcode = df_3000_opcode.drop(['malicious','packed'], axis=1)\n",
    "\n",
    "# data_opcode = data_opcode.loc[:, (data_opcode != 0).any(axis=0)]\n",
    "x_train_opcode = data_opcode\n",
    "X_test_opcode = df_3000_opcode.drop(['malicious','packed'], axis=1)\n",
    "y_train_opcode = y\n",
    "y_test_opcode = df_3000_opcode['malicious'].values"
   ]
  },
  {
   "cell_type": "code",
   "execution_count": 32,
   "id": "506d89cb",
   "metadata": {
    "execution": {
     "iopub.execute_input": "2024-01-23T12:08:17.898279Z",
     "iopub.status.busy": "2024-01-23T12:08:17.897532Z",
     "iopub.status.idle": "2024-01-23T12:08:19.912107Z",
     "shell.execute_reply": "2024-01-23T12:08:19.910750Z"
    },
    "papermill": {
     "duration": 2.035596,
     "end_time": "2024-01-23T12:08:19.915149",
     "exception": false,
     "start_time": "2024-01-23T12:08:17.879553",
     "status": "completed"
    },
    "tags": []
   },
   "outputs": [
    {
     "name": "stdout",
     "output_type": "stream",
     "text": [
      "The accuracy of the Random Forests model is :\t 0.7607802874743327\n"
     ]
    }
   ],
   "source": [
    "# Random Forest\n",
    "from sklearn.ensemble import RandomForestClassifier\n",
    "from sklearn import metrics\n",
    "\n",
    "random_forest = RandomForestClassifier(n_estimators=100, random_state=17)\n",
    "random_forest.fit(x_train_opcode, y_train_opcode)\n",
    "random_forest_preds = random_forest.predict(X_test_opcode)\n",
    "print('The accuracy of the Random Forests model is :\\t',metrics.accuracy_score(random_forest_preds,y_test_opcode))"
   ]
  },
  {
   "cell_type": "markdown",
   "id": "614ecf42",
   "metadata": {
    "papermill": {
     "duration": 0.016355,
     "end_time": "2024-01-23T12:08:19.949103",
     "exception": false,
     "start_time": "2024-01-23T12:08:19.932748",
     "status": "completed"
    },
    "tags": []
   },
   "source": [
    "# **rich header features**"
   ]
  },
  {
   "cell_type": "code",
   "execution_count": 33,
   "id": "95ace1fc",
   "metadata": {
    "execution": {
     "iopub.execute_input": "2024-01-23T12:08:19.983284Z",
     "iopub.status.busy": "2024-01-23T12:08:19.982957Z",
     "iopub.status.idle": "2024-01-23T12:08:20.894380Z",
     "shell.execute_reply": "2024-01-23T12:08:20.893018Z"
    },
    "papermill": {
     "duration": 0.931273,
     "end_time": "2024-01-23T12:08:20.897152",
     "exception": false,
     "start_time": "2024-01-23T12:08:19.965879",
     "status": "completed"
    },
    "tags": []
   },
   "outputs": [],
   "source": [
    "upx = pd.read_pickle('/kaggle/input/packer-balance-pickle/upx_balance.pickle')\n",
    "upx = upx.drop(['sample_sha1','benign','unpacked_sample_sha1','unpacked_sample_id'], axis=1)\n",
    "upx = upx.drop(['benign_vt','malicious_vt'], axis=1)\n",
    "string_columns = upx.select_dtypes(include=['object']).columns\n",
    "upx = upx.drop(string_columns, axis=1)"
   ]
  },
  {
   "cell_type": "code",
   "execution_count": 34,
   "id": "b2422501",
   "metadata": {
    "execution": {
     "iopub.execute_input": "2024-01-23T12:08:20.933562Z",
     "iopub.status.busy": "2024-01-23T12:08:20.933157Z",
     "iopub.status.idle": "2024-01-23T12:08:21.639917Z",
     "shell.execute_reply": "2024-01-23T12:08:21.638462Z"
    },
    "papermill": {
     "duration": 0.728631,
     "end_time": "2024-01-23T12:08:21.642835",
     "exception": false,
     "start_time": "2024-01-23T12:08:20.914204",
     "status": "completed"
    },
    "tags": []
   },
   "outputs": [
    {
     "name": "stdout",
     "output_type": "stream",
     "text": [
      "removing 13000 features\n",
      "removing 2500 features\n",
      "removing 2 features\n",
      "removing 16900 features\n",
      "removing 19169 features\n",
      "removing 4306 features\n",
      "removing 550 features\n",
      "removing 29 features\n"
     ]
    }
   ],
   "source": [
    "rich = remove_cols(upx, [c for c in cols if c.startswith('ngram_')])\n",
    "rich = remove_cols(upx, [c for c in cols if c.startswith('opcode_')])\n",
    "rich = remove_cols(upx, [c for c in cols if c.startswith('generic_')])\n",
    "rich = remove_cols(upx, [c for c in cols if c.startswith('string_')])\n",
    "# rich = remove_cols(upx, [c for c in cols if c.startswith('rich_')])\n",
    "rich = remove_cols(upx, [c for c in cols if c.startswith('imp_') or 'api_import_nb' == c])\n",
    "rich = remove_cols(upx, [c for c in cols if c.endswith('.dll') or 'dll_import_nb' == c])\n",
    "rich = remove_cols(upx, [c for c in cols if c.startswith('pesection')])\n",
    "rich = remove_cols(upx, [c for c in cols if c.startswith('header_')])"
   ]
  },
  {
   "cell_type": "code",
   "execution_count": 35,
   "id": "03114833",
   "metadata": {
    "execution": {
     "iopub.execute_input": "2024-01-23T12:08:21.678299Z",
     "iopub.status.busy": "2024-01-23T12:08:21.677935Z",
     "iopub.status.idle": "2024-01-23T12:08:21.692986Z",
     "shell.execute_reply": "2024-01-23T12:08:21.691533Z"
    },
    "papermill": {
     "duration": 0.036061,
     "end_time": "2024-01-23T12:08:21.695982",
     "exception": false,
     "start_time": "2024-01-23T12:08:21.659921",
     "status": "completed"
    },
    "tags": []
   },
   "outputs": [],
   "source": [
    "df_7000_rich = rich.sample(n=7000, random_state=102)\n",
    "df_3000_rich = rich.drop(df_7000.index)\n",
    "data_rich = df_7000_rich.sample(n=3500, random_state=102)"
   ]
  },
  {
   "cell_type": "code",
   "execution_count": 36,
   "id": "f194371a",
   "metadata": {
    "execution": {
     "iopub.execute_input": "2024-01-23T12:08:21.734162Z",
     "iopub.status.busy": "2024-01-23T12:08:21.733505Z",
     "iopub.status.idle": "2024-01-23T12:08:21.762564Z",
     "shell.execute_reply": "2024-01-23T12:08:21.760653Z"
    },
    "papermill": {
     "duration": 0.051157,
     "end_time": "2024-01-23T12:08:21.765171",
     "exception": false,
     "start_time": "2024-01-23T12:08:21.714014",
     "status": "completed"
    },
    "tags": []
   },
   "outputs": [
    {
     "name": "stdout",
     "output_type": "stream",
     "text": [
      "Packed Malware: 2391 samples\n",
      "Packed Benign: 1109 samples\n",
      "Total TRAIN set: 3500 samples\n",
      "Packed Malware: 1109 samples\n",
      "Packed Benign: 1109 samples\n",
      "Total TRAIN set: 2218 samples\n",
      "Packed Malware: 974 samples\n",
      "Packed Benign: 974 samples\n",
      "Total TEST set: 1948 samples\n"
     ]
    }
   ],
   "source": [
    "#Kiểm tra số lượng mẫu\n",
    "PM = data_rich[(data_rich['malicious'] == True) & (data_rich['packed'] == True)].shape[0]\n",
    "PB = data_rich[(data_rich['malicious'] == False) & (data_rich['packed'] == True)].shape[0]\n",
    "print('Packed Malware: %i samples' % PM)\n",
    "print('Packed Benign: %i samples' % PB)\n",
    "print('Total TRAIN set: %i samples'% (PM+PB))\n",
    "\n",
    "#Chia tỉ lệ 50 - 50\n",
    "data_PM_rich = data_rich[(data_rich['malicious'] == True) & (data_rich['packed'] == True)].sample(n=(PM-PB), random_state=102)\n",
    "data_rich = data_rich.drop(data_PM_rich.index)\n",
    "      \n",
    "#Số lượng tập train\n",
    "PM = data_rich[(data_rich['malicious'] == True) & (data_rich['packed'] == True)].shape[0]\n",
    "PB = data_rich[(data_rich['malicious'] == False) & (data_rich['packed'] == True)].shape[0]\n",
    "print('Packed Malware: %i samples' % PM)\n",
    "print('Packed Benign: %i samples' % PB)\n",
    "print('Total TRAIN set: %i samples'% (PM+PB))\n",
    "\n",
    "#Xử lý tập train\n",
    "y = data_rich['malicious'].values\n",
    "data_rich= data_rich.drop(['malicious','packed'], axis=1)\n",
    "\n",
    "PM = df_3000_rich[(df_3000_rich['malicious'] == True) & (df_3000_rich['packed'] == True)].shape[0]\n",
    "PB = df_3000_rich[(df_3000_rich['malicious'] == False) & (df_3000_rich['packed'] == True)].shape[0]\n",
    "\n",
    "df_3000_PM_rich = df_3000_rich[(df_3000_rich['malicious'] == True) & (df_3000_rich['packed'] == True)].sample(n=(PM-PB), random_state=102)\n",
    "df_3000_rich = df_3000_rich.drop(df_3000_PM_rich.index)\n",
    "\n",
    "PM = df_3000_rich[(df_3000_rich['malicious'] == True) & (df_3000_rich['packed'] == True)].shape[0]\n",
    "PB = df_3000_rich[(df_3000_rich['malicious'] == False) & (df_3000_rich['packed'] == True)].shape[0]\n",
    "\n",
    "print('Packed Malware: %i samples' % PM)\n",
    "print('Packed Benign: %i samples' % PB)\n",
    "print('Total TEST set: %i samples'% (PM+PB))"
   ]
  },
  {
   "cell_type": "code",
   "execution_count": 37,
   "id": "1f2c078b",
   "metadata": {
    "execution": {
     "iopub.execute_input": "2024-01-23T12:08:21.799014Z",
     "iopub.status.busy": "2024-01-23T12:08:21.798697Z",
     "iopub.status.idle": "2024-01-23T12:08:21.809848Z",
     "shell.execute_reply": "2024-01-23T12:08:21.808496Z"
    },
    "papermill": {
     "duration": 0.031784,
     "end_time": "2024-01-23T12:08:21.813100",
     "exception": false,
     "start_time": "2024-01-23T12:08:21.781316",
     "status": "completed"
    },
    "tags": []
   },
   "outputs": [],
   "source": [
    "# model = SelectFromModel(fsel, prefit=True)\n",
    "\n",
    "X_train_rich = data_rich\n",
    "X_test_rich = df_3000_rich.drop(['malicious','packed'], axis=1)\n",
    "\n",
    "data_rich = data_rich.loc[:, (data_rich != 0).any(axis=0)]\n",
    "x_train_rich = data_rich\n",
    "X_test_rich = df_3000_rich.drop(['malicious','packed'], axis=1)\n",
    "y_train_rich = y\n",
    "y_test_rich = df_3000_rich['malicious'].values"
   ]
  },
  {
   "cell_type": "code",
   "execution_count": 38,
   "id": "24c756e7",
   "metadata": {
    "execution": {
     "iopub.execute_input": "2024-01-23T12:08:21.849597Z",
     "iopub.status.busy": "2024-01-23T12:08:21.848933Z",
     "iopub.status.idle": "2024-01-23T12:08:22.238174Z",
     "shell.execute_reply": "2024-01-23T12:08:22.236549Z"
    },
    "papermill": {
     "duration": 0.410654,
     "end_time": "2024-01-23T12:08:22.240809",
     "exception": false,
     "start_time": "2024-01-23T12:08:21.830155",
     "status": "completed"
    },
    "tags": []
   },
   "outputs": [
    {
     "name": "stdout",
     "output_type": "stream",
     "text": [
      "The accuracy of the Random Forests model is :\t 0.8501026694045175\n"
     ]
    }
   ],
   "source": [
    "# Random Forest\n",
    "from sklearn.ensemble import RandomForestClassifier\n",
    "from sklearn import metrics\n",
    "\n",
    "random_forest = RandomForestClassifier(n_estimators=100, random_state=17)\n",
    "random_forest.fit(X_train_rich, y_train_rich)\n",
    "random_forest_preds = random_forest.predict(X_test_rich)\n",
    "print('The accuracy of the Random Forests model is :\\t',metrics.accuracy_score(random_forest_preds,y_test_rich))"
   ]
  },
  {
   "cell_type": "markdown",
   "id": "bd7cf14e",
   "metadata": {
    "papermill": {
     "duration": 0.016283,
     "end_time": "2024-01-23T12:08:22.273782",
     "exception": false,
     "start_time": "2024-01-23T12:08:22.257499",
     "status": "completed"
    },
    "tags": []
   },
   "source": [
    "# **string features**"
   ]
  },
  {
   "cell_type": "code",
   "execution_count": 39,
   "id": "eadddf94",
   "metadata": {
    "execution": {
     "iopub.execute_input": "2024-01-23T12:08:22.308899Z",
     "iopub.status.busy": "2024-01-23T12:08:22.308173Z",
     "iopub.status.idle": "2024-01-23T12:08:23.310184Z",
     "shell.execute_reply": "2024-01-23T12:08:23.308767Z"
    },
    "papermill": {
     "duration": 1.022435,
     "end_time": "2024-01-23T12:08:23.312699",
     "exception": false,
     "start_time": "2024-01-23T12:08:22.290264",
     "status": "completed"
    },
    "tags": []
   },
   "outputs": [],
   "source": [
    "upx = pd.read_pickle('/kaggle/input/packer-balance-pickle/upx_balance.pickle')\n",
    "upx = upx.drop(['sample_sha1','benign','unpacked_sample_sha1','unpacked_sample_id'], axis=1)\n",
    "upx = upx.drop(['benign_vt','malicious_vt'], axis=1)\n",
    "string_columns = upx.select_dtypes(include=['object']).columns\n",
    "upx = upx.drop(string_columns, axis=1)"
   ]
  },
  {
   "cell_type": "code",
   "execution_count": 40,
   "id": "92540300",
   "metadata": {
    "execution": {
     "iopub.execute_input": "2024-01-23T12:08:23.347110Z",
     "iopub.status.busy": "2024-01-23T12:08:23.346727Z",
     "iopub.status.idle": "2024-01-23T12:08:24.117346Z",
     "shell.execute_reply": "2024-01-23T12:08:24.116543Z"
    },
    "papermill": {
     "duration": 0.790006,
     "end_time": "2024-01-23T12:08:24.119258",
     "exception": false,
     "start_time": "2024-01-23T12:08:23.329252",
     "status": "completed"
    },
    "tags": []
   },
   "outputs": [
    {
     "name": "stdout",
     "output_type": "stream",
     "text": [
      "removing 13000 features\n",
      "removing 2500 features\n",
      "removing 2 features\n",
      "removing 66 features\n",
      "removing 19169 features\n",
      "removing 4306 features\n",
      "removing 550 features\n",
      "removing 29 features\n"
     ]
    }
   ],
   "source": [
    "string = remove_cols(upx, [c for c in cols if c.startswith('ngram_')])\n",
    "string = remove_cols(upx, [c for c in cols if c.startswith('opcode_')])\n",
    "string = remove_cols(upx, [c for c in cols if c.startswith('generic_')])\n",
    "# string = remove_cols(upx, [c for c in cols if c.startswith('string_')])\n",
    "string = remove_cols(upx, [c for c in cols if c.startswith('rich_')])\n",
    "string = remove_cols(upx, [c for c in cols if c.startswith('imp_') or 'api_import_nb' == c])\n",
    "string = remove_cols(upx, [c for c in cols if c.endswith('.dll') or 'dll_import_nb' == c])\n",
    "string = remove_cols(upx, [c for c in cols if c.startswith('pesection')])\n",
    "string = remove_cols(upx, [c for c in cols if c.startswith('header_')])"
   ]
  },
  {
   "cell_type": "code",
   "execution_count": 41,
   "id": "76096ae6",
   "metadata": {
    "execution": {
     "iopub.execute_input": "2024-01-23T12:08:24.153035Z",
     "iopub.status.busy": "2024-01-23T12:08:24.152725Z",
     "iopub.status.idle": "2024-01-23T12:08:24.412952Z",
     "shell.execute_reply": "2024-01-23T12:08:24.411861Z"
    },
    "papermill": {
     "duration": 0.279832,
     "end_time": "2024-01-23T12:08:24.415402",
     "exception": false,
     "start_time": "2024-01-23T12:08:24.135570",
     "status": "completed"
    },
    "tags": []
   },
   "outputs": [],
   "source": [
    "df_7000_string = string.sample(n=7000, random_state=102)\n",
    "df_3000_string = string.drop(df_7000.index)\n",
    "data_string = df_7000_string.sample(n=3500, random_state=102)"
   ]
  },
  {
   "cell_type": "code",
   "execution_count": 42,
   "id": "b142bab3",
   "metadata": {
    "execution": {
     "iopub.execute_input": "2024-01-23T12:08:24.450219Z",
     "iopub.status.busy": "2024-01-23T12:08:24.449749Z",
     "iopub.status.idle": "2024-01-23T12:08:24.799779Z",
     "shell.execute_reply": "2024-01-23T12:08:24.798257Z"
    },
    "papermill": {
     "duration": 0.370143,
     "end_time": "2024-01-23T12:08:24.802021",
     "exception": false,
     "start_time": "2024-01-23T12:08:24.431878",
     "status": "completed"
    },
    "tags": []
   },
   "outputs": [
    {
     "name": "stdout",
     "output_type": "stream",
     "text": [
      "Packed Malware: 2391 samples\n",
      "Packed Benign: 1109 samples\n",
      "Total TRAIN set: 3500 samples\n",
      "Packed Malware: 1109 samples\n",
      "Packed Benign: 1109 samples\n",
      "Total TRAIN set: 2218 samples\n",
      "Packed Malware: 974 samples\n",
      "Packed Benign: 974 samples\n",
      "Total TEST set: 1948 samples\n"
     ]
    }
   ],
   "source": [
    "#Kiểm tra số lượng mẫu\n",
    "PM = data_string[(data_string['malicious'] == True) & (data_string['packed'] == True)].shape[0]\n",
    "PB = data_string[(data_string['malicious'] == False) & (data_string['packed'] == True)].shape[0]\n",
    "print('Packed Malware: %i samples' % PM)\n",
    "print('Packed Benign: %i samples' % PB)\n",
    "print('Total TRAIN set: %i samples'% (PM+PB))\n",
    "\n",
    "#Chia tỉ lệ 50 - 50\n",
    "data_PM_string = data_string[(data_string['malicious'] == True) & (data_string['packed'] == True)].sample(n=(PM-PB), random_state=102)\n",
    "data_string = data_string.drop(data_PM_string.index)\n",
    "      \n",
    "#Số lượng tập train\n",
    "PM = data_string[(data_string['malicious'] == True) & (data_string['packed'] == True)].shape[0]\n",
    "PB = data_string[(data_string['malicious'] == False) & (data_string['packed'] == True)].shape[0]\n",
    "print('Packed Malware: %i samples' % PM)\n",
    "print('Packed Benign: %i samples' % PB)\n",
    "print('Total TRAIN set: %i samples'% (PM+PB))\n",
    "\n",
    "#Xử lý tập train\n",
    "y = data_string['malicious'].values\n",
    "data_string = data_string.drop(['malicious','packed'], axis=1)\n",
    "\n",
    "PM = df_3000_string[(df_3000_string['malicious'] == True) & (df_3000_string['packed'] == True)].shape[0]\n",
    "PB = df_3000_string[(df_3000_string['malicious'] == False) & (df_3000_string['packed'] == True)].shape[0]\n",
    "\n",
    "df_3000_PM_string = df_3000_string[(df_3000_string['malicious'] == True) & (df_3000_string['packed'] == True)].sample(n=(PM-PB), random_state=102)\n",
    "df_3000_string = df_3000_string.drop(df_3000_PM_string.index)\n",
    "\n",
    "PM = df_3000_string[(df_3000_string['malicious'] == True) & (df_3000_string['packed'] == True)].shape[0]\n",
    "PB = df_3000_string[(df_3000_string['malicious'] == False) & (df_3000_string['packed'] == True)].shape[0]\n",
    "\n",
    "print('Packed Malware: %i samples' % PM)\n",
    "print('Packed Benign: %i samples' % PB)\n",
    "print('Total TEST set: %i samples'% (PM+PB))"
   ]
  },
  {
   "cell_type": "code",
   "execution_count": 43,
   "id": "15fed42f",
   "metadata": {
    "execution": {
     "iopub.execute_input": "2024-01-23T12:08:24.837047Z",
     "iopub.status.busy": "2024-01-23T12:08:24.836686Z",
     "iopub.status.idle": "2024-01-23T12:08:24.910683Z",
     "shell.execute_reply": "2024-01-23T12:08:24.909158Z"
    },
    "papermill": {
     "duration": 0.094752,
     "end_time": "2024-01-23T12:08:24.913425",
     "exception": false,
     "start_time": "2024-01-23T12:08:24.818673",
     "status": "completed"
    },
    "tags": []
   },
   "outputs": [],
   "source": [
    "# model = SelectFromModel(fsel, prefit=True)\n",
    "\n",
    "X_train_string = data_string\n",
    "X_test_string = df_3000_string.drop(['malicious','packed'], axis=1)\n",
    "\n",
    "data_string = data_string.loc[:, (data_string != 0).any(axis=0)]\n",
    "x_train_string = data_string\n",
    "X_test_string = df_3000_string.drop(['malicious','packed'], axis=1)\n",
    "y_train_string = y\n",
    "y_test_string = df_3000_string['malicious'].values"
   ]
  },
  {
   "cell_type": "code",
   "execution_count": 44,
   "id": "a9d3851b",
   "metadata": {
    "execution": {
     "iopub.execute_input": "2024-01-23T12:08:24.949178Z",
     "iopub.status.busy": "2024-01-23T12:08:24.948812Z",
     "iopub.status.idle": "2024-01-23T12:08:29.669642Z",
     "shell.execute_reply": "2024-01-23T12:08:29.668417Z"
    },
    "papermill": {
     "duration": 4.742201,
     "end_time": "2024-01-23T12:08:29.672734",
     "exception": false,
     "start_time": "2024-01-23T12:08:24.930533",
     "status": "completed"
    },
    "tags": []
   },
   "outputs": [
    {
     "name": "stdout",
     "output_type": "stream",
     "text": [
      "The accuracy of the Random Forests model is :\t 0.910164271047228\n"
     ]
    }
   ],
   "source": [
    "# Random Forest\n",
    "from sklearn.ensemble import RandomForestClassifier\n",
    "from sklearn import metrics\n",
    "\n",
    "random_forest = RandomForestClassifier(n_estimators=100, random_state=17)\n",
    "random_forest.fit(X_train_string, y_train_string)\n",
    "random_forest_preds = random_forest.predict(X_test_string)\n",
    "print('The accuracy of the Random Forests model is :\\t',metrics.accuracy_score(random_forest_preds,y_test_string))"
   ]
  },
  {
   "cell_type": "markdown",
   "id": "2bd74b56",
   "metadata": {
    "papermill": {
     "duration": 0.016574,
     "end_time": "2024-01-23T12:08:29.706460",
     "exception": false,
     "start_time": "2024-01-23T12:08:29.689886",
     "status": "completed"
    },
    "tags": []
   },
   "source": [
    "# **api features**"
   ]
  },
  {
   "cell_type": "code",
   "execution_count": 45,
   "id": "5f1b68f2",
   "metadata": {
    "execution": {
     "iopub.execute_input": "2024-01-23T12:08:29.743179Z",
     "iopub.status.busy": "2024-01-23T12:08:29.742815Z",
     "iopub.status.idle": "2024-01-23T12:08:30.669577Z",
     "shell.execute_reply": "2024-01-23T12:08:30.668410Z"
    },
    "papermill": {
     "duration": 0.948216,
     "end_time": "2024-01-23T12:08:30.672081",
     "exception": false,
     "start_time": "2024-01-23T12:08:29.723865",
     "status": "completed"
    },
    "tags": []
   },
   "outputs": [],
   "source": [
    "upx = pd.read_pickle('/kaggle/input/packer-balance-pickle/upx_balance.pickle')\n",
    "upx = upx.drop(['sample_sha1','benign','unpacked_sample_sha1','unpacked_sample_id'], axis=1)\n",
    "upx = upx.drop(['benign_vt','malicious_vt'], axis=1)\n",
    "string_columns = upx.select_dtypes(include=['object']).columns\n",
    "upx = upx.drop(string_columns, axis=1)"
   ]
  },
  {
   "cell_type": "code",
   "execution_count": 46,
   "id": "5df779c5",
   "metadata": {
    "execution": {
     "iopub.execute_input": "2024-01-23T12:08:30.708435Z",
     "iopub.status.busy": "2024-01-23T12:08:30.707848Z",
     "iopub.status.idle": "2024-01-23T12:08:31.620024Z",
     "shell.execute_reply": "2024-01-23T12:08:31.619074Z"
    },
    "papermill": {
     "duration": 0.933937,
     "end_time": "2024-01-23T12:08:31.623000",
     "exception": false,
     "start_time": "2024-01-23T12:08:30.689063",
     "status": "completed"
    },
    "tags": []
   },
   "outputs": [
    {
     "name": "stdout",
     "output_type": "stream",
     "text": [
      "removing 13000 features\n",
      "removing 2500 features\n",
      "removing 2 features\n",
      "removing 16900 features\n",
      "removing 66 features\n",
      "removing 4306 features\n",
      "removing 550 features\n",
      "removing 29 features\n"
     ]
    }
   ],
   "source": [
    "api = remove_cols(upx, [c for c in cols if c.startswith('ngram_')])\n",
    "api = remove_cols(upx, [c for c in cols if c.startswith('opcode_')])\n",
    "api = remove_cols(upx, [c for c in cols if c.startswith('generic_')])\n",
    "api = remove_cols(upx, [c for c in cols if c.startswith('string_')])\n",
    "api = remove_cols(upx, [c for c in cols if c.startswith('rich_')])\n",
    "# api = remove_cols(upx, [c for c in cols if c.startswith('imp_') or 'api_import_nb' == c])\n",
    "api = remove_cols(upx, [c for c in cols if c.endswith('.dll') or 'dll_import_nb' == c])\n",
    "api = remove_cols(upx, [c for c in cols if c.startswith('pesection')])\n",
    "api = remove_cols(upx, [c for c in cols if c.startswith('header_')])"
   ]
  },
  {
   "cell_type": "code",
   "execution_count": 47,
   "id": "3a74ecc3",
   "metadata": {
    "execution": {
     "iopub.execute_input": "2024-01-23T12:08:31.660521Z",
     "iopub.status.busy": "2024-01-23T12:08:31.660121Z",
     "iopub.status.idle": "2024-01-23T12:08:31.980719Z",
     "shell.execute_reply": "2024-01-23T12:08:31.979658Z"
    },
    "papermill": {
     "duration": 0.342719,
     "end_time": "2024-01-23T12:08:31.983180",
     "exception": false,
     "start_time": "2024-01-23T12:08:31.640461",
     "status": "completed"
    },
    "tags": []
   },
   "outputs": [],
   "source": [
    "df_7000_api = api.sample(n=7000, random_state=102)\n",
    "df_3000_api = api.drop(df_7000.index)\n",
    "data_api = df_7000_api.sample(n=3500, random_state=102)"
   ]
  },
  {
   "cell_type": "code",
   "execution_count": 48,
   "id": "a8abc385",
   "metadata": {
    "execution": {
     "iopub.execute_input": "2024-01-23T12:08:32.020906Z",
     "iopub.status.busy": "2024-01-23T12:08:32.019702Z",
     "iopub.status.idle": "2024-01-23T12:08:32.517169Z",
     "shell.execute_reply": "2024-01-23T12:08:32.515241Z"
    },
    "papermill": {
     "duration": 0.518654,
     "end_time": "2024-01-23T12:08:32.519542",
     "exception": false,
     "start_time": "2024-01-23T12:08:32.000888",
     "status": "completed"
    },
    "tags": []
   },
   "outputs": [
    {
     "name": "stdout",
     "output_type": "stream",
     "text": [
      "Packed Malware: 2391 samples\n",
      "Packed Benign: 1109 samples\n",
      "Total TRAIN set: 3500 samples\n",
      "Packed Malware: 1109 samples\n",
      "Packed Benign: 1109 samples\n",
      "Total TRAIN set: 2218 samples\n",
      "Packed Malware: 974 samples\n",
      "Packed Benign: 974 samples\n",
      "Total TEST set: 1948 samples\n"
     ]
    }
   ],
   "source": [
    "#Kiểm tra số lượng mẫu\n",
    "PM = data_api[(data_api['malicious'] == True) & (data_api['packed'] == True)].shape[0]\n",
    "PB = data_api[(data_api['malicious'] == False) & (data_api['packed'] == True)].shape[0]\n",
    "print('Packed Malware: %i samples' % PM)\n",
    "print('Packed Benign: %i samples' % PB)\n",
    "print('Total TRAIN set: %i samples'% (PM+PB))\n",
    "\n",
    "#Chia tỉ lệ 50 - 50\n",
    "data_PM_api = data_api[(data_api['malicious'] == True) & (data_api['packed'] == True)].sample(n=(PM-PB), random_state=102)\n",
    "data_api = data_api.drop(data_PM_api.index)\n",
    "      \n",
    "#Số lượng tập train\n",
    "PM = data_api[(data_api['malicious'] == True) & (data_api['packed'] == True)].shape[0]\n",
    "PB = data_api[(data_api['malicious'] == False) & (data_api['packed'] == True)].shape[0]\n",
    "print('Packed Malware: %i samples' % PM)\n",
    "print('Packed Benign: %i samples' % PB)\n",
    "print('Total TRAIN set: %i samples'% (PM+PB))\n",
    "\n",
    "#Xử lý tập train\n",
    "y = data_api['malicious'].values\n",
    "data_api = data_api.drop(['malicious','packed'], axis=1)\n",
    "\n",
    "PM = df_3000_api[(df_3000_api['malicious'] == True) & (df_3000_api['packed'] == True)].shape[0]\n",
    "PB = df_3000_api[(df_3000_api['malicious'] == False) & (df_3000_api['packed'] == True)].shape[0]\n",
    "\n",
    "df_3000_PM_api = df_3000_api[(df_3000_api['malicious'] == True) & (df_3000_api['packed'] == True)].sample(n=(PM-PB), random_state=102)\n",
    "df_3000_api = df_3000_api.drop(df_3000_PM_api.index)\n",
    "\n",
    "PM = df_3000_api[(df_3000_api['malicious'] == True) & (df_3000_api['packed'] == True)].shape[0]\n",
    "PB = df_3000_api[(df_3000_api['malicious'] == False) & (df_3000_api['packed'] == True)].shape[0]\n",
    "\n",
    "print('Packed Malware: %i samples' % PM)\n",
    "print('Packed Benign: %i samples' % PB)\n",
    "print('Total TEST set: %i samples'% (PM+PB))"
   ]
  },
  {
   "cell_type": "code",
   "execution_count": 49,
   "id": "57ff28a4",
   "metadata": {
    "execution": {
     "iopub.execute_input": "2024-01-23T12:08:32.556756Z",
     "iopub.status.busy": "2024-01-23T12:08:32.556317Z",
     "iopub.status.idle": "2024-01-23T12:08:32.649456Z",
     "shell.execute_reply": "2024-01-23T12:08:32.648040Z"
    },
    "papermill": {
     "duration": 0.114986,
     "end_time": "2024-01-23T12:08:32.651946",
     "exception": false,
     "start_time": "2024-01-23T12:08:32.536960",
     "status": "completed"
    },
    "tags": []
   },
   "outputs": [],
   "source": [
    "# model = SelectFromModel(fsel, prefit=True)\n",
    "\n",
    "X_train_api = data_api\n",
    "X_test_api = df_3000_api.drop(['malicious','packed'], axis=1)\n",
    "\n",
    "data_api = data_api.loc[:, (data_api != 0).any(axis=0)]\n",
    "x_train_api = data_api\n",
    "X_test_api = df_3000_api.drop(['malicious','packed'], axis=1)\n",
    "y_train_api = y\n",
    "y_test_api = df_3000_api['malicious'].values"
   ]
  },
  {
   "cell_type": "code",
   "execution_count": 50,
   "id": "88a5ec68",
   "metadata": {
    "execution": {
     "iopub.execute_input": "2024-01-23T12:08:32.688026Z",
     "iopub.status.busy": "2024-01-23T12:08:32.687664Z",
     "iopub.status.idle": "2024-01-23T12:08:43.677826Z",
     "shell.execute_reply": "2024-01-23T12:08:43.676776Z"
    },
    "papermill": {
     "duration": 11.010841,
     "end_time": "2024-01-23T12:08:43.679858",
     "exception": false,
     "start_time": "2024-01-23T12:08:32.669017",
     "status": "completed"
    },
    "tags": []
   },
   "outputs": [
    {
     "name": "stdout",
     "output_type": "stream",
     "text": [
      "The accuracy of the Random Forests model is :\t 0.8634496919917864\n"
     ]
    }
   ],
   "source": [
    "# Random Forest\n",
    "from sklearn.ensemble import RandomForestClassifier\n",
    "from sklearn import metrics\n",
    "\n",
    "random_forest = RandomForestClassifier(n_estimators=100, random_state=17)\n",
    "random_forest.fit(X_train_api, y_train_api)\n",
    "random_forest_preds = random_forest.predict(X_test_api)\n",
    "print('The accuracy of the Random Forests model is :\\t',metrics.accuracy_score(random_forest_preds,y_test_api))"
   ]
  },
  {
   "cell_type": "markdown",
   "id": "7da5a7cb",
   "metadata": {
    "papermill": {
     "duration": 0.016803,
     "end_time": "2024-01-23T12:08:43.714522",
     "exception": false,
     "start_time": "2024-01-23T12:08:43.697719",
     "status": "completed"
    },
    "tags": []
   },
   "source": [
    "# **dll features**"
   ]
  },
  {
   "cell_type": "code",
   "execution_count": 51,
   "id": "6202178c",
   "metadata": {
    "execution": {
     "iopub.execute_input": "2024-01-23T12:08:43.752438Z",
     "iopub.status.busy": "2024-01-23T12:08:43.751977Z",
     "iopub.status.idle": "2024-01-23T12:08:44.787694Z",
     "shell.execute_reply": "2024-01-23T12:08:44.786630Z"
    },
    "papermill": {
     "duration": 1.057201,
     "end_time": "2024-01-23T12:08:44.790546",
     "exception": false,
     "start_time": "2024-01-23T12:08:43.733345",
     "status": "completed"
    },
    "tags": []
   },
   "outputs": [],
   "source": [
    "upx = pd.read_pickle('/kaggle/input/packer-balance-pickle/upx_balance.pickle')\n",
    "upx = upx.drop(['sample_sha1','benign','unpacked_sample_sha1','unpacked_sample_id'], axis=1)\n",
    "upx = upx.drop(['benign_vt','malicious_vt'], axis=1)\n",
    "string_columns = upx.select_dtypes(include=['object']).columns\n",
    "upx = upx.drop(string_columns, axis=1)"
   ]
  },
  {
   "cell_type": "code",
   "execution_count": 52,
   "id": "f4af011e",
   "metadata": {
    "execution": {
     "iopub.execute_input": "2024-01-23T12:08:44.826458Z",
     "iopub.status.busy": "2024-01-23T12:08:44.826105Z",
     "iopub.status.idle": "2024-01-23T12:08:45.688415Z",
     "shell.execute_reply": "2024-01-23T12:08:45.686924Z"
    },
    "papermill": {
     "duration": 0.883242,
     "end_time": "2024-01-23T12:08:45.691022",
     "exception": false,
     "start_time": "2024-01-23T12:08:44.807780",
     "status": "completed"
    },
    "tags": []
   },
   "outputs": [
    {
     "name": "stdout",
     "output_type": "stream",
     "text": [
      "removing 13000 features\n",
      "removing 2500 features\n",
      "removing 2 features\n",
      "removing 16900 features\n",
      "removing 66 features\n",
      "removing 19169 features\n",
      "removing 550 features\n",
      "removing 29 features\n"
     ]
    }
   ],
   "source": [
    "dll = remove_cols(upx, [c for c in cols if c.startswith('ngram_')])\n",
    "dll = remove_cols(upx, [c for c in cols if c.startswith('opcode_')])\n",
    "dll = remove_cols(upx, [c for c in cols if c.startswith('generic_')])\n",
    "dll = remove_cols(upx, [c for c in cols if c.startswith('string_')])\n",
    "dll = remove_cols(upx, [c for c in cols if c.startswith('rich_')])\n",
    "dll = remove_cols(upx, [c for c in cols if c.startswith('imp_') or 'api_import_nb' == c])\n",
    "# api = remove_cols(upx, [c for c in cols if c.endswith('.dll') or 'dll_import_nb' == c])\n",
    "dll = remove_cols(upx, [c for c in cols if c.startswith('pesection')])\n",
    "dll = remove_cols(upx, [c for c in cols if c.startswith('header_')])"
   ]
  },
  {
   "cell_type": "code",
   "execution_count": 53,
   "id": "7dfa93dd",
   "metadata": {
    "execution": {
     "iopub.execute_input": "2024-01-23T12:08:45.729460Z",
     "iopub.status.busy": "2024-01-23T12:08:45.729086Z",
     "iopub.status.idle": "2024-01-23T12:08:45.810813Z",
     "shell.execute_reply": "2024-01-23T12:08:45.809438Z"
    },
    "papermill": {
     "duration": 0.104538,
     "end_time": "2024-01-23T12:08:45.813641",
     "exception": false,
     "start_time": "2024-01-23T12:08:45.709103",
     "status": "completed"
    },
    "tags": []
   },
   "outputs": [],
   "source": [
    "df_7000_dll = dll.sample(n=7000, random_state=102)\n",
    "df_3000_dll = dll.drop(df_7000.index)\n",
    "data_dll = df_7000_dll.sample(n=3500, random_state=102)"
   ]
  },
  {
   "cell_type": "code",
   "execution_count": 54,
   "id": "11369b41",
   "metadata": {
    "execution": {
     "iopub.execute_input": "2024-01-23T12:08:45.849780Z",
     "iopub.status.busy": "2024-01-23T12:08:45.849427Z",
     "iopub.status.idle": "2024-01-23T12:08:46.010489Z",
     "shell.execute_reply": "2024-01-23T12:08:46.008441Z"
    },
    "papermill": {
     "duration": 0.181812,
     "end_time": "2024-01-23T12:08:46.012711",
     "exception": false,
     "start_time": "2024-01-23T12:08:45.830899",
     "status": "completed"
    },
    "tags": []
   },
   "outputs": [
    {
     "name": "stdout",
     "output_type": "stream",
     "text": [
      "Packed Malware: 2391 samples\n",
      "Packed Benign: 1109 samples\n",
      "Total TRAIN set: 3500 samples\n",
      "Packed Malware: 1109 samples\n",
      "Packed Benign: 1109 samples\n",
      "Total TRAIN set: 2218 samples\n",
      "Packed Malware: 974 samples\n",
      "Packed Benign: 974 samples\n",
      "Total TEST set: 1948 samples\n"
     ]
    }
   ],
   "source": [
    "#Kiểm tra số lượng mẫu\n",
    "PM = data_dll[(data_dll['malicious'] == True) & (data_dll['packed'] == True)].shape[0]\n",
    "PB = data_dll[(data_dll['malicious'] == False) & (data_dll['packed'] == True)].shape[0]\n",
    "print('Packed Malware: %i samples' % PM)\n",
    "print('Packed Benign: %i samples' % PB)\n",
    "print('Total TRAIN set: %i samples'% (PM+PB))\n",
    "\n",
    "#Chia tỉ lệ 50 - 50\n",
    "data_PM_dll = data_dll[(data_dll['malicious'] == True) & (data_dll['packed'] == True)].sample(n=(PM-PB), random_state=102)\n",
    "data_dll = data_dll.drop(data_PM_dll.index)\n",
    "      \n",
    "#Số lượng tập train\n",
    "PM = data_dll[(data_dll['malicious'] == True) & (data_dll['packed'] == True)].shape[0]\n",
    "PB = data_dll[(data_dll['malicious'] == False) & (data_dll['packed'] == True)].shape[0]\n",
    "print('Packed Malware: %i samples' % PM)\n",
    "print('Packed Benign: %i samples' % PB)\n",
    "print('Total TRAIN set: %i samples'% (PM+PB))\n",
    "\n",
    "#Xử lý tập train\n",
    "y = data_dll['malicious'].values\n",
    "data_dll = data_dll.drop(['malicious','packed'], axis=1)\n",
    "\n",
    "PM = df_3000_dll[(df_3000_dll['malicious'] == True) & (df_3000_dll['packed'] == True)].shape[0]\n",
    "PB = df_3000_dll[(df_3000_dll['malicious'] == False) & (df_3000_dll['packed'] == True)].shape[0]\n",
    "\n",
    "df_3000_PM_dll = df_3000_dll[(df_3000_dll['malicious'] == True) & (df_3000_dll['packed'] == True)].sample(n=(PM-PB), random_state=102)\n",
    "df_3000_dll = df_3000_dll.drop(df_3000_PM_dll.index)\n",
    "\n",
    "PM = df_3000_dll[(df_3000_dll['malicious'] == True) & (df_3000_dll['packed'] == True)].shape[0]\n",
    "PB = df_3000_dll[(df_3000_dll['malicious'] == False) & (df_3000_dll['packed'] == True)].shape[0]\n",
    "\n",
    "print('Packed Malware: %i samples' % PM)\n",
    "print('Packed Benign: %i samples' % PB)\n",
    "print('Total TEST set: %i samples'% (PM+PB))"
   ]
  },
  {
   "cell_type": "code",
   "execution_count": 55,
   "id": "9e65d90f",
   "metadata": {
    "execution": {
     "iopub.execute_input": "2024-01-23T12:08:46.050498Z",
     "iopub.status.busy": "2024-01-23T12:08:46.050109Z",
     "iopub.status.idle": "2024-01-23T12:08:46.090741Z",
     "shell.execute_reply": "2024-01-23T12:08:46.089640Z"
    },
    "papermill": {
     "duration": 0.062664,
     "end_time": "2024-01-23T12:08:46.093153",
     "exception": false,
     "start_time": "2024-01-23T12:08:46.030489",
     "status": "completed"
    },
    "tags": []
   },
   "outputs": [],
   "source": [
    "# model = SelectFromModel(fsel, prefit=True)\n",
    "\n",
    "X_train_dll = data_dll\n",
    "X_test_dll = df_3000_dll.drop(['malicious','packed'], axis=1)\n",
    "\n",
    "data_dll = data_dll.loc[:, (data_dll != 0).any(axis=0)]\n",
    "x_train_dll = data_dll\n",
    "X_test_dll = df_3000_dll.drop(['malicious','packed'], axis=1)\n",
    "y_train_dll = y\n",
    "y_test_dll = df_3000_dll['malicious'].values"
   ]
  },
  {
   "cell_type": "code",
   "execution_count": 56,
   "id": "8b0face1",
   "metadata": {
    "execution": {
     "iopub.execute_input": "2024-01-23T12:08:46.131845Z",
     "iopub.status.busy": "2024-01-23T12:08:46.131470Z",
     "iopub.status.idle": "2024-01-23T12:08:49.974290Z",
     "shell.execute_reply": "2024-01-23T12:08:49.972536Z"
    },
    "papermill": {
     "duration": 3.864615,
     "end_time": "2024-01-23T12:08:49.977373",
     "exception": false,
     "start_time": "2024-01-23T12:08:46.112758",
     "status": "completed"
    },
    "tags": []
   },
   "outputs": [
    {
     "name": "stdout",
     "output_type": "stream",
     "text": [
      "The accuracy of the Random Forests model is :\t 0.8536960985626283\n"
     ]
    }
   ],
   "source": [
    "# Random Forest\n",
    "from sklearn.ensemble import RandomForestClassifier\n",
    "from sklearn import metrics\n",
    "\n",
    "random_forest = RandomForestClassifier(n_estimators=100, random_state=17)\n",
    "random_forest.fit(X_train_dll, y_train_dll)\n",
    "random_forest_preds = random_forest.predict(X_test_dll)\n",
    "print('The accuracy of the Random Forests model is :\\t',metrics.accuracy_score(random_forest_preds,y_test_dll))"
   ]
  },
  {
   "cell_type": "markdown",
   "id": "b0a85acf",
   "metadata": {
    "papermill": {
     "duration": 0.017372,
     "end_time": "2024-01-23T12:08:50.012435",
     "exception": false,
     "start_time": "2024-01-23T12:08:49.995063",
     "status": "completed"
    },
    "tags": []
   },
   "source": [
    "# **pe sections features**"
   ]
  },
  {
   "cell_type": "code",
   "execution_count": 57,
   "id": "308a73b4",
   "metadata": {
    "execution": {
     "iopub.execute_input": "2024-01-23T12:08:50.050039Z",
     "iopub.status.busy": "2024-01-23T12:08:50.049334Z",
     "iopub.status.idle": "2024-01-23T12:08:50.969137Z",
     "shell.execute_reply": "2024-01-23T12:08:50.967737Z"
    },
    "papermill": {
     "duration": 0.94214,
     "end_time": "2024-01-23T12:08:50.972267",
     "exception": false,
     "start_time": "2024-01-23T12:08:50.030127",
     "status": "completed"
    },
    "tags": []
   },
   "outputs": [],
   "source": [
    "upx = pd.read_pickle('/kaggle/input/packer-balance-pickle/upx_balance.pickle')\n",
    "upx = upx.drop(['sample_sha1','benign','unpacked_sample_sha1','unpacked_sample_id'], axis=1)\n",
    "upx = upx.drop(['benign_vt','malicious_vt'], axis=1)\n",
    "string_columns = upx.select_dtypes(include=['object']).columns\n",
    "upx = upx.drop(string_columns, axis=1)"
   ]
  },
  {
   "cell_type": "code",
   "execution_count": 58,
   "id": "11ffd9f9",
   "metadata": {
    "execution": {
     "iopub.execute_input": "2024-01-23T12:08:51.011134Z",
     "iopub.status.busy": "2024-01-23T12:08:51.010794Z",
     "iopub.status.idle": "2024-01-23T12:08:51.759606Z",
     "shell.execute_reply": "2024-01-23T12:08:51.758283Z"
    },
    "papermill": {
     "duration": 0.77135,
     "end_time": "2024-01-23T12:08:51.761896",
     "exception": false,
     "start_time": "2024-01-23T12:08:50.990546",
     "status": "completed"
    },
    "tags": []
   },
   "outputs": [
    {
     "name": "stdout",
     "output_type": "stream",
     "text": [
      "removing 13000 features\n",
      "removing 2500 features\n",
      "removing 2 features\n",
      "removing 16900 features\n",
      "removing 66 features\n",
      "removing 19169 features\n",
      "removing 4306 features\n",
      "removing 29 features\n"
     ]
    }
   ],
   "source": [
    "pesection = remove_cols(upx, [c for c in cols if c.startswith('ngram_')])\n",
    "pesection = remove_cols(upx, [c for c in cols if c.startswith('opcode_')])\n",
    "pesection = remove_cols(upx, [c for c in cols if c.startswith('generic_')])\n",
    "pesection = remove_cols(upx, [c for c in cols if c.startswith('string_')])\n",
    "pesection = remove_cols(upx, [c for c in cols if c.startswith('rich_')])\n",
    "pesection = remove_cols(upx, [c for c in cols if c.startswith('imp_') or 'api_import_nb' == c])\n",
    "pesection = remove_cols(upx, [c for c in cols if c.endswith('.dll') or 'dll_import_nb' == c])\n",
    "# pesection = remove_cols(upx, [c for c in cols if c.startswith('pesection')])\n",
    "pesection = remove_cols(upx, [c for c in cols if c.startswith('header_')])"
   ]
  },
  {
   "cell_type": "code",
   "execution_count": 59,
   "id": "a9e41221",
   "metadata": {
    "execution": {
     "iopub.execute_input": "2024-01-23T12:08:51.798070Z",
     "iopub.status.busy": "2024-01-23T12:08:51.797691Z",
     "iopub.status.idle": "2024-01-23T12:08:51.848411Z",
     "shell.execute_reply": "2024-01-23T12:08:51.846955Z"
    },
    "papermill": {
     "duration": 0.0717,
     "end_time": "2024-01-23T12:08:51.851016",
     "exception": false,
     "start_time": "2024-01-23T12:08:51.779316",
     "status": "completed"
    },
    "tags": []
   },
   "outputs": [],
   "source": [
    "df_7000_pesection = pesection.sample(n=7000, random_state=102)\n",
    "df_3000_pesection = pesection.drop(df_7000.index)\n",
    "data_pesection = df_7000_pesection.sample(n=3500, random_state=102)"
   ]
  },
  {
   "cell_type": "code",
   "execution_count": 60,
   "id": "a3a98a0c",
   "metadata": {
    "execution": {
     "iopub.execute_input": "2024-01-23T12:08:51.889009Z",
     "iopub.status.busy": "2024-01-23T12:08:51.887928Z",
     "iopub.status.idle": "2024-01-23T12:08:51.990050Z",
     "shell.execute_reply": "2024-01-23T12:08:51.988460Z"
    },
    "papermill": {
     "duration": 0.123841,
     "end_time": "2024-01-23T12:08:51.992525",
     "exception": false,
     "start_time": "2024-01-23T12:08:51.868684",
     "status": "completed"
    },
    "tags": []
   },
   "outputs": [
    {
     "name": "stdout",
     "output_type": "stream",
     "text": [
      "Packed Malware: 2391 samples\n",
      "Packed Benign: 1109 samples\n",
      "Total TRAIN set: 3500 samples\n",
      "Packed Malware: 1109 samples\n",
      "Packed Benign: 1109 samples\n",
      "Total TRAIN set: 2218 samples\n",
      "Packed Malware: 974 samples\n",
      "Packed Benign: 974 samples\n",
      "Total TEST set: 1948 samples\n"
     ]
    }
   ],
   "source": [
    "#Kiểm tra số lượng mẫu\n",
    "PM = data_pesection[(data_pesection['malicious'] == True) & (data_pesection['packed'] == True)].shape[0]\n",
    "PB = data_pesection[(data_pesection['malicious'] == False) & (data_pesection['packed'] == True)].shape[0]\n",
    "print('Packed Malware: %i samples' % PM)\n",
    "print('Packed Benign: %i samples' % PB)\n",
    "print('Total TRAIN set: %i samples'% (PM+PB))\n",
    "\n",
    "#Chia tỉ lệ 50 - 50\n",
    "data_PM_pesection = data_pesection[(data_pesection['malicious'] == True) & (data_pesection['packed'] == True)].sample(n=(PM-PB), random_state=102)\n",
    "data_pesection = data_pesection.drop(data_PM_pesection.index)\n",
    "      \n",
    "#Số lượng tập train\n",
    "PM = data_pesection[(data_pesection['malicious'] == True) & (data_pesection['packed'] == True)].shape[0]\n",
    "PB = data_pesection[(data_pesection['malicious'] == False) & (data_pesection['packed'] == True)].shape[0]\n",
    "print('Packed Malware: %i samples' % PM)\n",
    "print('Packed Benign: %i samples' % PB)\n",
    "print('Total TRAIN set: %i samples'% (PM+PB))\n",
    "\n",
    "#Xử lý tập train\n",
    "y = data_pesection['malicious'].values\n",
    "data_pesection = data_pesection.drop(['malicious','packed'], axis=1)\n",
    "\n",
    "PM = df_3000_pesection[(df_3000_pesection['malicious'] == True) & (df_3000_pesection['packed'] == True)].shape[0]\n",
    "PB = df_3000_pesection[(df_3000_pesection['malicious'] == False) & (df_3000_pesection['packed'] == True)].shape[0]\n",
    "\n",
    "df_3000_PM_pesection = df_3000_pesection[(df_3000_pesection['malicious'] == True) & (df_3000_pesection['packed'] == True)].sample(n=(PM-PB), random_state=102)\n",
    "df_3000_pesection = df_3000_pesection.drop(df_3000_PM_pesection.index)\n",
    "\n",
    "PM = df_3000_pesection[(df_3000_pesection['malicious'] == True) & (df_3000_pesection['packed'] == True)].shape[0]\n",
    "PB = df_3000_pesection[(df_3000_pesection['malicious'] == False) & (df_3000_pesection['packed'] == True)].shape[0]\n",
    "\n",
    "print('Packed Malware: %i samples' % PM)\n",
    "print('Packed Benign: %i samples' % PB)\n",
    "print('Total TEST set: %i samples'% (PM+PB))"
   ]
  },
  {
   "cell_type": "code",
   "execution_count": 61,
   "id": "f5cb3ff1",
   "metadata": {
    "execution": {
     "iopub.execute_input": "2024-01-23T12:08:52.029923Z",
     "iopub.status.busy": "2024-01-23T12:08:52.029593Z",
     "iopub.status.idle": "2024-01-23T12:08:52.058903Z",
     "shell.execute_reply": "2024-01-23T12:08:52.057407Z"
    },
    "papermill": {
     "duration": 0.051007,
     "end_time": "2024-01-23T12:08:52.061449",
     "exception": false,
     "start_time": "2024-01-23T12:08:52.010442",
     "status": "completed"
    },
    "tags": []
   },
   "outputs": [],
   "source": [
    "# model = SelectFromModel(fsel, prefit=True)\n",
    "\n",
    "X_train_pesection = data_pesection\n",
    "X_test_pesection = df_3000_pesection.drop(['malicious','packed'], axis=1)\n",
    "\n",
    "data_pesection = data_pesection.loc[:, (data_pesection != 0).any(axis=0)]\n",
    "x_train_pesection = data_pesection\n",
    "X_test_pesection = df_3000_pesection.drop(['malicious','packed'], axis=1)\n",
    "y_train_pesection = y\n",
    "y_test_pesection = df_3000_pesection['malicious'].values"
   ]
  },
  {
   "cell_type": "code",
   "execution_count": 62,
   "id": "9d93c4d3",
   "metadata": {
    "execution": {
     "iopub.execute_input": "2024-01-23T12:08:52.099238Z",
     "iopub.status.busy": "2024-01-23T12:08:52.098760Z",
     "iopub.status.idle": "2024-01-23T12:08:52.601456Z",
     "shell.execute_reply": "2024-01-23T12:08:52.599922Z"
    },
    "papermill": {
     "duration": 0.525603,
     "end_time": "2024-01-23T12:08:52.604829",
     "exception": false,
     "start_time": "2024-01-23T12:08:52.079226",
     "status": "completed"
    },
    "tags": []
   },
   "outputs": [
    {
     "name": "stdout",
     "output_type": "stream",
     "text": [
      "The accuracy of the Random Forests model is :\t 0.9235112936344969\n"
     ]
    }
   ],
   "source": [
    "# Random Forest\n",
    "from sklearn.ensemble import RandomForestClassifier\n",
    "from sklearn import metrics\n",
    "\n",
    "random_forest = RandomForestClassifier(n_estimators=100, random_state=17)\n",
    "random_forest.fit(X_train_pesection, y_train_pesection)\n",
    "random_forest_preds = random_forest.predict(X_test_pesection)\n",
    "print('The accuracy of the Random Forests model is :\\t',metrics.accuracy_score(random_forest_preds,y_test_pesection))"
   ]
  },
  {
   "cell_type": "markdown",
   "id": "c587b593",
   "metadata": {
    "papermill": {
     "duration": 0.017391,
     "end_time": "2024-01-23T12:08:52.640903",
     "exception": false,
     "start_time": "2024-01-23T12:08:52.623512",
     "status": "completed"
    },
    "tags": []
   },
   "source": [
    "# **pe header features**"
   ]
  },
  {
   "cell_type": "code",
   "execution_count": 63,
   "id": "5c513ee8",
   "metadata": {
    "execution": {
     "iopub.execute_input": "2024-01-23T12:08:52.679172Z",
     "iopub.status.busy": "2024-01-23T12:08:52.678812Z",
     "iopub.status.idle": "2024-01-23T12:08:53.582938Z",
     "shell.execute_reply": "2024-01-23T12:08:53.581520Z"
    },
    "papermill": {
     "duration": 0.926219,
     "end_time": "2024-01-23T12:08:53.585219",
     "exception": false,
     "start_time": "2024-01-23T12:08:52.659000",
     "status": "completed"
    },
    "tags": []
   },
   "outputs": [],
   "source": [
    "upx = pd.read_pickle('/kaggle/input/packer-balance-pickle/upx_balance.pickle')\n",
    "upx = upx.drop(['sample_sha1','benign','unpacked_sample_sha1','unpacked_sample_id'], axis=1)\n",
    "upx = upx.drop(['benign_vt','malicious_vt'], axis=1)\n",
    "string_columns = upx.select_dtypes(include=['object']).columns\n",
    "upx = upx.drop(string_columns, axis=1)"
   ]
  },
  {
   "cell_type": "code",
   "execution_count": 64,
   "id": "1b8b9824",
   "metadata": {
    "execution": {
     "iopub.execute_input": "2024-01-23T12:08:53.622187Z",
     "iopub.status.busy": "2024-01-23T12:08:53.621787Z",
     "iopub.status.idle": "2024-01-23T12:08:54.328134Z",
     "shell.execute_reply": "2024-01-23T12:08:54.327242Z"
    },
    "papermill": {
     "duration": 0.727704,
     "end_time": "2024-01-23T12:08:54.330546",
     "exception": false,
     "start_time": "2024-01-23T12:08:53.602842",
     "status": "completed"
    },
    "tags": []
   },
   "outputs": [
    {
     "name": "stdout",
     "output_type": "stream",
     "text": [
      "removing 13000 features\n",
      "removing 2500 features\n",
      "removing 2 features\n",
      "removing 16900 features\n",
      "removing 66 features\n",
      "removing 19169 features\n",
      "removing 4306 features\n",
      "removing 550 features\n"
     ]
    }
   ],
   "source": [
    "header = remove_cols(upx, [c for c in cols if c.startswith('ngram_')])\n",
    "header = remove_cols(upx, [c for c in cols if c.startswith('opcode_')])\n",
    "header = remove_cols(upx, [c for c in cols if c.startswith('generic_')])\n",
    "header = remove_cols(upx, [c for c in cols if c.startswith('string_')])\n",
    "header = remove_cols(upx, [c for c in cols if c.startswith('rich_')])\n",
    "header = remove_cols(upx, [c for c in cols if c.startswith('imp_') or 'api_import_nb' == c])\n",
    "header = remove_cols(upx, [c for c in cols if c.endswith('.dll') or 'dll_import_nb' == c])\n",
    "header = remove_cols(upx, [c for c in cols if c.startswith('pesection')])\n",
    "# header = remove_cols(upx, [c for c in cols if c.startswith('header_')])"
   ]
  },
  {
   "cell_type": "code",
   "execution_count": 65,
   "id": "e683dc3f",
   "metadata": {
    "execution": {
     "iopub.execute_input": "2024-01-23T12:08:54.366939Z",
     "iopub.status.busy": "2024-01-23T12:08:54.366587Z",
     "iopub.status.idle": "2024-01-23T12:08:54.377911Z",
     "shell.execute_reply": "2024-01-23T12:08:54.376921Z"
    },
    "papermill": {
     "duration": 0.032061,
     "end_time": "2024-01-23T12:08:54.380064",
     "exception": false,
     "start_time": "2024-01-23T12:08:54.348003",
     "status": "completed"
    },
    "tags": []
   },
   "outputs": [],
   "source": [
    "df_7000_header = header.sample(n=7000, random_state=102)\n",
    "df_3000_header = header.drop(df_7000.index)\n",
    "data_header = df_7000_header.sample(n=3500, random_state=102)"
   ]
  },
  {
   "cell_type": "code",
   "execution_count": 66,
   "id": "c2af2eea",
   "metadata": {
    "execution": {
     "iopub.execute_input": "2024-01-23T12:08:54.416373Z",
     "iopub.status.busy": "2024-01-23T12:08:54.415871Z",
     "iopub.status.idle": "2024-01-23T12:08:54.442179Z",
     "shell.execute_reply": "2024-01-23T12:08:54.441265Z"
    },
    "papermill": {
     "duration": 0.046679,
     "end_time": "2024-01-23T12:08:54.443975",
     "exception": false,
     "start_time": "2024-01-23T12:08:54.397296",
     "status": "completed"
    },
    "tags": []
   },
   "outputs": [
    {
     "name": "stdout",
     "output_type": "stream",
     "text": [
      "Packed Malware: 2391 samples\n",
      "Packed Benign: 1109 samples\n",
      "Total TRAIN set: 3500 samples\n",
      "Packed Malware: 1109 samples\n",
      "Packed Benign: 1109 samples\n",
      "Total TRAIN set: 2218 samples\n",
      "Packed Malware: 974 samples\n",
      "Packed Benign: 974 samples\n",
      "Total TEST set: 1948 samples\n"
     ]
    }
   ],
   "source": [
    "#Kiểm tra số lượng mẫu\n",
    "PM = data_header[(data_header['malicious'] == True) & (data_header['packed'] == True)].shape[0]\n",
    "PB = data_header[(data_header['malicious'] == False) & (data_header['packed'] == True)].shape[0]\n",
    "print('Packed Malware: %i samples' % PM)\n",
    "print('Packed Benign: %i samples' % PB)\n",
    "print('Total TRAIN set: %i samples'% (PM+PB))\n",
    "\n",
    "#Chia tỉ lệ 50 - 50\n",
    "data_PM_header = data_header[(data_header['malicious'] == True) & (data_header['packed'] == True)].sample(n=(PM-PB), random_state=102)\n",
    "data_header = data_header.drop(data_PM_header.index)\n",
    "      \n",
    "#Số lượng tập train\n",
    "PM = data_header[(data_header['malicious'] == True) & (data_header['packed'] == True)].shape[0]\n",
    "PB = data_header[(data_header['malicious'] == False) & (data_header['packed'] == True)].shape[0]\n",
    "print('Packed Malware: %i samples' % PM)\n",
    "print('Packed Benign: %i samples' % PB)\n",
    "print('Total TRAIN set: %i samples'% (PM+PB))\n",
    "\n",
    "#Xử lý tập train\n",
    "y = data_header['malicious'].values\n",
    "data_header= data_header.drop(['malicious','packed'], axis=1)\n",
    "\n",
    "PM = df_3000_header[(df_3000_header['malicious'] == True) & (df_3000_header['packed'] == True)].shape[0]\n",
    "PB = df_3000_header[(df_3000_header['malicious'] == False) & (df_3000_header['packed'] == True)].shape[0]\n",
    "\n",
    "df_3000_PM_header = df_3000_header[(df_3000_header['malicious'] == True) & (df_3000_header['packed'] == True)].sample(n=(PM-PB), random_state=102)\n",
    "df_3000_header= df_3000_header.drop(df_3000_PM_header.index)\n",
    "\n",
    "PM = df_3000_header[(df_3000_header['malicious'] == True) & (df_3000_header['packed'] == True)].shape[0]\n",
    "PB = df_3000_header[(df_3000_header['malicious'] == False) & (df_3000_header['packed'] == True)].shape[0]\n",
    "\n",
    "print('Packed Malware: %i samples' % PM)\n",
    "print('Packed Benign: %i samples' % PB)\n",
    "print('Total TEST set: %i samples'% (PM+PB))"
   ]
  },
  {
   "cell_type": "code",
   "execution_count": 67,
   "id": "1a97f5ab",
   "metadata": {
    "execution": {
     "iopub.execute_input": "2024-01-23T12:08:54.481437Z",
     "iopub.status.busy": "2024-01-23T12:08:54.481082Z",
     "iopub.status.idle": "2024-01-23T12:08:54.493699Z",
     "shell.execute_reply": "2024-01-23T12:08:54.492447Z"
    },
    "papermill": {
     "duration": 0.034466,
     "end_time": "2024-01-23T12:08:54.496235",
     "exception": false,
     "start_time": "2024-01-23T12:08:54.461769",
     "status": "completed"
    },
    "tags": []
   },
   "outputs": [],
   "source": [
    "# model = SelectFromModel(fsel, prefit=True)\n",
    "\n",
    "X_train_header = data_header\n",
    "X_test_header = df_3000_header.drop(['malicious','packed'], axis=1)\n",
    "\n",
    "data_header = data_header.loc[:, (data_header != 0).any(axis=0)]\n",
    "x_train_header = data_header\n",
    "X_test_header = df_3000_header.drop(['malicious','packed'], axis=1)\n",
    "y_train_header = y\n",
    "y_test_header = df_3000_header['malicious'].values"
   ]
  },
  {
   "cell_type": "code",
   "execution_count": 68,
   "id": "d449a580",
   "metadata": {
    "execution": {
     "iopub.execute_input": "2024-01-23T12:08:54.534203Z",
     "iopub.status.busy": "2024-01-23T12:08:54.533807Z",
     "iopub.status.idle": "2024-01-23T12:08:54.892126Z",
     "shell.execute_reply": "2024-01-23T12:08:54.890856Z"
    },
    "papermill": {
     "duration": 0.380924,
     "end_time": "2024-01-23T12:08:54.895205",
     "exception": false,
     "start_time": "2024-01-23T12:08:54.514281",
     "status": "completed"
    },
    "tags": []
   },
   "outputs": [
    {
     "name": "stdout",
     "output_type": "stream",
     "text": [
      "The accuracy of the Random Forests model is :\t 0.8952772073921971\n"
     ]
    }
   ],
   "source": [
    "# Random Forest\n",
    "from sklearn.ensemble import RandomForestClassifier\n",
    "from sklearn import metrics\n",
    "\n",
    "random_forest = RandomForestClassifier(n_estimators=100, random_state=17)\n",
    "random_forest.fit(X_train_header, y_train_header)\n",
    "random_forest_preds = random_forest.predict(X_test_header)\n",
    "print('The accuracy of the Random Forests model is :\\t',metrics.accuracy_score(random_forest_preds,y_test_header))"
   ]
  }
 ],
 "metadata": {
  "kaggle": {
   "accelerator": "none",
   "dataSources": [
    {
     "datasetId": 4192384,
     "sourceId": 7262652,
     "sourceType": "datasetVersion"
    }
   ],
   "dockerImageVersionId": 30626,
   "isGpuEnabled": false,
   "isInternetEnabled": true,
   "language": "python",
   "sourceType": "notebook"
  },
  "kernelspec": {
   "display_name": "Python 3",
   "language": "python",
   "name": "python3"
  },
  "language_info": {
   "codemirror_mode": {
    "name": "ipython",
    "version": 3
   },
   "file_extension": ".py",
   "mimetype": "text/x-python",
   "name": "python",
   "nbconvert_exporter": "python",
   "pygments_lexer": "ipython3",
   "version": "3.10.12"
  },
  "papermill": {
   "default_parameters": {},
   "duration": 64.384637,
   "end_time": "2024-01-23T12:08:55.737124",
   "environment_variables": {},
   "exception": null,
   "input_path": "__notebook__.ipynb",
   "output_path": "__notebook__.ipynb",
   "parameters": {},
   "start_time": "2024-01-23T12:07:51.352487",
   "version": "2.4.0"
  }
 },
 "nbformat": 4,
 "nbformat_minor": 5
}
