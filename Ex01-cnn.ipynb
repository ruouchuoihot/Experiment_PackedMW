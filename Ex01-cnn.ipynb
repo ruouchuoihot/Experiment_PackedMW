{
 "cells": [
  {
   "cell_type": "code",
   "execution_count": 1,
   "id": "cd9e330c",
   "metadata": {
    "execution": {
     "iopub.execute_input": "2023-12-27T02:12:45.711927Z",
     "iopub.status.busy": "2023-12-27T02:12:45.711442Z",
     "iopub.status.idle": "2023-12-27T02:12:47.764862Z",
     "shell.execute_reply": "2023-12-27T02:12:47.764138Z"
    },
    "papermill": {
     "duration": 2.064879,
     "end_time": "2023-12-27T02:12:47.767093",
     "exception": false,
     "start_time": "2023-12-27T02:12:45.702214",
     "status": "completed"
    },
    "tags": []
   },
   "outputs": [
    {
     "name": "stderr",
     "output_type": "stream",
     "text": [
      "/opt/conda/lib/python3.10/site-packages/scipy/__init__.py:146: UserWarning: A NumPy version >=1.16.5 and <1.23.0 is required for this version of SciPy (detected version 1.23.5\n",
      "  warnings.warn(f\"A NumPy version >={np_minversion} and <{np_maxversion}\"\n"
     ]
    }
   ],
   "source": [
    "import pandas as pd\n",
    "import numpy as np\n",
    "import sklearn\n",
    "import sklearn.naive_bayes\n",
    "import sklearn.ensemble as ske\n",
    "import sklearn.neighbors\n",
    "import sklearn.pipeline\n",
    "import sklearn.linear_model\n",
    "import joblib\n",
    "from sklearn import preprocessing\n",
    "from sklearn import tree, linear_model\n",
    "from sklearn.metrics import confusion_matrix\n",
    "from sklearn.metrics import classification_report\n",
    "from sklearn.model_selection import train_test_split\n",
    "from sklearn.feature_selection import SelectFromModel\n",
    "import sys\n",
    "import sqlite3\n",
    "import importlib\n",
    "import matplotlib.pyplot as plt\n",
    "import seaborn as sn\n",
    "from sklearn import metrics"
   ]
  },
  {
   "cell_type": "code",
   "execution_count": 2,
   "id": "aa35b917",
   "metadata": {
    "execution": {
     "iopub.execute_input": "2023-12-27T02:12:47.783757Z",
     "iopub.status.busy": "2023-12-27T02:12:47.782936Z",
     "iopub.status.idle": "2023-12-27T02:12:56.771837Z",
     "shell.execute_reply": "2023-12-27T02:12:56.770689Z"
    },
    "papermill": {
     "duration": 8.999659,
     "end_time": "2023-12-27T02:12:56.774246",
     "exception": false,
     "start_time": "2023-12-27T02:12:47.774587",
     "status": "completed"
    },
    "tags": []
   },
   "outputs": [
    {
     "name": "stderr",
     "output_type": "stream",
     "text": [
      "/opt/conda/lib/python3.10/site-packages/tensorflow_io/python/ops/__init__.py:98: UserWarning: unable to load libtensorflow_io_plugins.so: unable to open file: libtensorflow_io_plugins.so, from paths: ['/opt/conda/lib/python3.10/site-packages/tensorflow_io/python/ops/libtensorflow_io_plugins.so']\n",
      "caused by: ['/opt/conda/lib/python3.10/site-packages/tensorflow_io/python/ops/libtensorflow_io_plugins.so: undefined symbol: _ZN3tsl6StatusC1EN10tensorflow5error4CodeESt17basic_string_viewIcSt11char_traitsIcEENS_14SourceLocationE']\n",
      "  warnings.warn(f\"unable to load libtensorflow_io_plugins.so: {e}\")\n",
      "/opt/conda/lib/python3.10/site-packages/tensorflow_io/python/ops/__init__.py:104: UserWarning: file system plugins are not loaded: unable to open file: libtensorflow_io.so, from paths: ['/opt/conda/lib/python3.10/site-packages/tensorflow_io/python/ops/libtensorflow_io.so']\n",
      "caused by: ['/opt/conda/lib/python3.10/site-packages/tensorflow_io/python/ops/libtensorflow_io.so: undefined symbol: _ZTVN10tensorflow13GcsFileSystemE']\n",
      "  warnings.warn(f\"file system plugins are not loaded: {e}\")\n"
     ]
    }
   ],
   "source": [
    "import tensorflow as tf\n",
    "from tensorflow import keras\n",
    "from keras.layers import Embedding, Conv1D, MaxPooling1D, Dense, Activation, Flatten, Input, Multiply, Dropout, GlobalMaxPooling1D, GlobalAveragePooling1D, AveragePooling1D\n",
    "from keras.models import Sequential, Model #for keras sequential model\n",
    "from keras import optimizers"
   ]
  },
  {
   "cell_type": "code",
   "execution_count": 3,
   "id": "041e3322",
   "metadata": {
    "execution": {
     "iopub.execute_input": "2023-12-27T02:12:56.790763Z",
     "iopub.status.busy": "2023-12-27T02:12:56.790022Z",
     "iopub.status.idle": "2023-12-27T02:13:28.822695Z",
     "shell.execute_reply": "2023-12-27T02:13:28.821345Z"
    },
    "papermill": {
     "duration": 32.043786,
     "end_time": "2023-12-27T02:13:28.825312",
     "exception": false,
     "start_time": "2023-12-27T02:12:56.781526",
     "status": "completed"
    },
    "tags": []
   },
   "outputs": [],
   "source": [
    "df_wild = pd.read_pickle('/kaggle/input/wild-pickle/wild.pickle')"
   ]
  },
  {
   "cell_type": "code",
   "execution_count": 4,
   "id": "ccdbe659",
   "metadata": {
    "execution": {
     "iopub.execute_input": "2023-12-27T02:13:28.841867Z",
     "iopub.status.busy": "2023-12-27T02:13:28.841535Z",
     "iopub.status.idle": "2023-12-27T02:13:31.068646Z",
     "shell.execute_reply": "2023-12-27T02:13:31.067473Z"
    },
    "papermill": {
     "duration": 2.237763,
     "end_time": "2023-12-27T02:13:31.070701",
     "exception": false,
     "start_time": "2023-12-27T02:13:28.832938",
     "status": "completed"
    },
    "tags": []
   },
   "outputs": [
    {
     "name": "stdout",
     "output_type": "stream",
     "text": [
      "considering samples with size less than 1000000 bytes, 50724 ----> 37354\n"
     ]
    }
   ],
   "source": [
    "MAX_LENGTH = int(1e6)\n",
    "prev_size = len(df_wild)\n",
    "df_wild = df_wild[df_wild['generic_fileSize'] <= MAX_LENGTH]\n",
    "print(\"considering samples with size less than {} bytes, {} ----> {}\".format(MAX_LENGTH, prev_size, len(df_wild)))"
   ]
  },
  {
   "cell_type": "code",
   "execution_count": 5,
   "id": "4926e810",
   "metadata": {
    "execution": {
     "iopub.execute_input": "2023-12-27T02:13:31.089011Z",
     "iopub.status.busy": "2023-12-27T02:13:31.088657Z",
     "iopub.status.idle": "2023-12-27T02:13:31.094210Z",
     "shell.execute_reply": "2023-12-27T02:13:31.092924Z"
    },
    "papermill": {
     "duration": 0.017007,
     "end_time": "2023-12-27T02:13:31.096908",
     "exception": false,
     "start_time": "2023-12-27T02:13:31.079901",
     "status": "completed"
    },
    "tags": []
   },
   "outputs": [
    {
     "name": "stdout",
     "output_type": "stream",
     "text": [
      "(37354, 56555)\n"
     ]
    }
   ],
   "source": [
    "print(df_wild.shape)"
   ]
  },
  {
   "cell_type": "code",
   "execution_count": 6,
   "id": "0b41dce7",
   "metadata": {
    "execution": {
     "iopub.execute_input": "2023-12-27T02:13:31.114310Z",
     "iopub.status.busy": "2023-12-27T02:13:31.113952Z",
     "iopub.status.idle": "2023-12-27T02:13:31.148714Z",
     "shell.execute_reply": "2023-12-27T02:13:31.147186Z"
    },
    "papermill": {
     "duration": 0.046634,
     "end_time": "2023-12-27T02:13:31.151021",
     "exception": false,
     "start_time": "2023-12-27T02:13:31.104387",
     "status": "completed"
    },
    "tags": []
   },
   "outputs": [
    {
     "data": {
      "text/html": [
       "<div>\n",
       "<style scoped>\n",
       "    .dataframe tbody tr th:only-of-type {\n",
       "        vertical-align: middle;\n",
       "    }\n",
       "\n",
       "    .dataframe tbody tr th {\n",
       "        vertical-align: top;\n",
       "    }\n",
       "\n",
       "    .dataframe thead th {\n",
       "        text-align: right;\n",
       "    }\n",
       "</style>\n",
       "<table border=\"1\" class=\"dataframe\">\n",
       "  <thead>\n",
       "    <tr style=\"text-align: right;\">\n",
       "      <th></th>\n",
       "      <th>sample_sha1</th>\n",
       "      <th>benign</th>\n",
       "      <th>malicious</th>\n",
       "      <th>packed</th>\n",
       "      <th>unpacked_sample_sha1</th>\n",
       "      <th>unpacked_sample_id</th>\n",
       "      <th>packer_name</th>\n",
       "      <th>imp_setupremovefilelogentrya</th>\n",
       "      <th>imp_vardeccmp</th>\n",
       "      <th>imp_setdlgitemint</th>\n",
       "      <th>...</th>\n",
       "      <th>opcode_xor sub mov</th>\n",
       "      <th>opcode_xor sub mov add</th>\n",
       "      <th>opcode_xor test</th>\n",
       "      <th>opcode_xor test je</th>\n",
       "      <th>opcode_xor xor</th>\n",
       "      <th>opcode_xor xor mov</th>\n",
       "      <th>opcode_xor xor pop</th>\n",
       "      <th>opcode_xor xor pop mov</th>\n",
       "      <th>opcode_xor xor xor</th>\n",
       "      <th>opcode_xor xor xor pop</th>\n",
       "    </tr>\n",
       "  </thead>\n",
       "  <tbody>\n",
       "    <tr>\n",
       "      <th>1</th>\n",
       "      <td>a2aac23e17be570c647fd22080e05b0e58449565</td>\n",
       "      <td>True</td>\n",
       "      <td>False</td>\n",
       "      <td>True</td>\n",
       "      <td>-1</td>\n",
       "      <td>-1</td>\n",
       "      <td>none</td>\n",
       "      <td>False</td>\n",
       "      <td>False</td>\n",
       "      <td>False</td>\n",
       "      <td>...</td>\n",
       "      <td>0.000022</td>\n",
       "      <td>0.0</td>\n",
       "      <td>0.000088</td>\n",
       "      <td>0.000084</td>\n",
       "      <td>0.000070</td>\n",
       "      <td>0.000066</td>\n",
       "      <td>0.000028</td>\n",
       "      <td>0.0</td>\n",
       "      <td>0.000053</td>\n",
       "      <td>0.0</td>\n",
       "    </tr>\n",
       "    <tr>\n",
       "      <th>2</th>\n",
       "      <td>c3aa534bbd20f3a3dd8e7a457f625291af9d0fe4</td>\n",
       "      <td>False</td>\n",
       "      <td>True</td>\n",
       "      <td>True</td>\n",
       "      <td>-1</td>\n",
       "      <td>-1</td>\n",
       "      <td>none</td>\n",
       "      <td>False</td>\n",
       "      <td>False</td>\n",
       "      <td>False</td>\n",
       "      <td>...</td>\n",
       "      <td>0.000000</td>\n",
       "      <td>0.0</td>\n",
       "      <td>0.000000</td>\n",
       "      <td>0.000000</td>\n",
       "      <td>0.000309</td>\n",
       "      <td>0.000000</td>\n",
       "      <td>0.000000</td>\n",
       "      <td>0.0</td>\n",
       "      <td>0.000331</td>\n",
       "      <td>0.0</td>\n",
       "    </tr>\n",
       "    <tr>\n",
       "      <th>10</th>\n",
       "      <td>15cb9eab6b0f0ccd718a9235f07046dff100789f</td>\n",
       "      <td>False</td>\n",
       "      <td>True</td>\n",
       "      <td>True</td>\n",
       "      <td>-1</td>\n",
       "      <td>-1</td>\n",
       "      <td>none</td>\n",
       "      <td>False</td>\n",
       "      <td>False</td>\n",
       "      <td>False</td>\n",
       "      <td>...</td>\n",
       "      <td>0.000000</td>\n",
       "      <td>0.0</td>\n",
       "      <td>0.000000</td>\n",
       "      <td>0.000000</td>\n",
       "      <td>0.000000</td>\n",
       "      <td>0.000000</td>\n",
       "      <td>0.000000</td>\n",
       "      <td>0.0</td>\n",
       "      <td>0.000000</td>\n",
       "      <td>0.0</td>\n",
       "    </tr>\n",
       "    <tr>\n",
       "      <th>12</th>\n",
       "      <td>8792cf08950abada1572b47948e86c9fce26c01a</td>\n",
       "      <td>True</td>\n",
       "      <td>False</td>\n",
       "      <td>True</td>\n",
       "      <td>-1</td>\n",
       "      <td>-1</td>\n",
       "      <td>none</td>\n",
       "      <td>False</td>\n",
       "      <td>False</td>\n",
       "      <td>False</td>\n",
       "      <td>...</td>\n",
       "      <td>0.000000</td>\n",
       "      <td>0.0</td>\n",
       "      <td>0.000000</td>\n",
       "      <td>0.000000</td>\n",
       "      <td>0.000000</td>\n",
       "      <td>0.000000</td>\n",
       "      <td>0.000000</td>\n",
       "      <td>0.0</td>\n",
       "      <td>0.000000</td>\n",
       "      <td>0.0</td>\n",
       "    </tr>\n",
       "    <tr>\n",
       "      <th>13</th>\n",
       "      <td>353a955ae9919f7b639d74394e3c1149f0189362</td>\n",
       "      <td>True</td>\n",
       "      <td>False</td>\n",
       "      <td>True</td>\n",
       "      <td>-1</td>\n",
       "      <td>-1</td>\n",
       "      <td>none</td>\n",
       "      <td>False</td>\n",
       "      <td>False</td>\n",
       "      <td>False</td>\n",
       "      <td>...</td>\n",
       "      <td>0.000000</td>\n",
       "      <td>0.0</td>\n",
       "      <td>0.000204</td>\n",
       "      <td>0.000190</td>\n",
       "      <td>0.000066</td>\n",
       "      <td>0.000091</td>\n",
       "      <td>0.000000</td>\n",
       "      <td>0.0</td>\n",
       "      <td>0.000000</td>\n",
       "      <td>0.0</td>\n",
       "    </tr>\n",
       "  </tbody>\n",
       "</table>\n",
       "<p>5 rows × 56555 columns</p>\n",
       "</div>"
      ],
      "text/plain": [
       "                                 sample_sha1  benign  malicious  packed  \\\n",
       "1   a2aac23e17be570c647fd22080e05b0e58449565    True      False    True   \n",
       "2   c3aa534bbd20f3a3dd8e7a457f625291af9d0fe4   False       True    True   \n",
       "10  15cb9eab6b0f0ccd718a9235f07046dff100789f   False       True    True   \n",
       "12  8792cf08950abada1572b47948e86c9fce26c01a    True      False    True   \n",
       "13  353a955ae9919f7b639d74394e3c1149f0189362    True      False    True   \n",
       "\n",
       "   unpacked_sample_sha1  unpacked_sample_id packer_name  \\\n",
       "1                    -1                  -1        none   \n",
       "2                    -1                  -1        none   \n",
       "10                   -1                  -1        none   \n",
       "12                   -1                  -1        none   \n",
       "13                   -1                  -1        none   \n",
       "\n",
       "    imp_setupremovefilelogentrya  imp_vardeccmp  imp_setdlgitemint  ...  \\\n",
       "1                          False          False              False  ...   \n",
       "2                          False          False              False  ...   \n",
       "10                         False          False              False  ...   \n",
       "12                         False          False              False  ...   \n",
       "13                         False          False              False  ...   \n",
       "\n",
       "    opcode_xor sub mov  opcode_xor sub mov add  opcode_xor test  \\\n",
       "1             0.000022                     0.0         0.000088   \n",
       "2             0.000000                     0.0         0.000000   \n",
       "10            0.000000                     0.0         0.000000   \n",
       "12            0.000000                     0.0         0.000000   \n",
       "13            0.000000                     0.0         0.000204   \n",
       "\n",
       "    opcode_xor test je  opcode_xor xor  opcode_xor xor mov  \\\n",
       "1             0.000084        0.000070            0.000066   \n",
       "2             0.000000        0.000309            0.000000   \n",
       "10            0.000000        0.000000            0.000000   \n",
       "12            0.000000        0.000000            0.000000   \n",
       "13            0.000190        0.000066            0.000091   \n",
       "\n",
       "    opcode_xor xor pop  opcode_xor xor pop mov  opcode_xor xor xor  \\\n",
       "1             0.000028                     0.0            0.000053   \n",
       "2             0.000000                     0.0            0.000331   \n",
       "10            0.000000                     0.0            0.000000   \n",
       "12            0.000000                     0.0            0.000000   \n",
       "13            0.000000                     0.0            0.000000   \n",
       "\n",
       "    opcode_xor xor xor pop  \n",
       "1                      0.0  \n",
       "2                      0.0  \n",
       "10                     0.0  \n",
       "12                     0.0  \n",
       "13                     0.0  \n",
       "\n",
       "[5 rows x 56555 columns]"
      ]
     },
     "execution_count": 6,
     "metadata": {},
     "output_type": "execute_result"
    }
   ],
   "source": [
    "df_wild.head()"
   ]
  },
  {
   "cell_type": "code",
   "execution_count": 7,
   "id": "5a26d73f",
   "metadata": {
    "execution": {
     "iopub.execute_input": "2023-12-27T02:13:31.168121Z",
     "iopub.status.busy": "2023-12-27T02:13:31.167729Z",
     "iopub.status.idle": "2023-12-27T02:13:31.652198Z",
     "shell.execute_reply": "2023-12-27T02:13:31.650381Z"
    },
    "papermill": {
     "duration": 0.496256,
     "end_time": "2023-12-27T02:13:31.654925",
     "exception": false,
     "start_time": "2023-12-27T02:13:31.158669",
     "status": "completed"
    },
    "tags": []
   },
   "outputs": [],
   "source": [
    "#Chọn ngẫu nhiên 1,200 mẫu\n",
    "df = df_wild.sample(n=1200, random_state=102)"
   ]
  },
  {
   "cell_type": "code",
   "execution_count": 8,
   "id": "eee703f9",
   "metadata": {
    "execution": {
     "iopub.execute_input": "2023-12-27T02:13:31.671991Z",
     "iopub.status.busy": "2023-12-27T02:13:31.671595Z",
     "iopub.status.idle": "2023-12-27T02:13:31.757914Z",
     "shell.execute_reply": "2023-12-27T02:13:31.756614Z"
    },
    "papermill": {
     "duration": 0.09758,
     "end_time": "2023-12-27T02:13:31.760313",
     "exception": false,
     "start_time": "2023-12-27T02:13:31.662733",
     "status": "completed"
    },
    "tags": []
   },
   "outputs": [],
   "source": [
    "# Loại bỏ các lables không cần thiết\n",
    "df = df.drop(['sample_sha1','unpacked_sample_sha1','unpacked_sample_id'], axis=1)\n",
    "df = df.drop(['benign_vt','malicious_vt'], axis=1)\n",
    "df = df.drop(['benign','packer_name','source','similarity','most_similar_sha1','unpacked_similarity'], axis=1)"
   ]
  },
  {
   "cell_type": "code",
   "execution_count": 9,
   "id": "c4c5f72b",
   "metadata": {
    "execution": {
     "iopub.execute_input": "2023-12-27T02:13:31.777236Z",
     "iopub.status.busy": "2023-12-27T02:13:31.776873Z",
     "iopub.status.idle": "2023-12-27T02:13:31.813934Z",
     "shell.execute_reply": "2023-12-27T02:13:31.812554Z"
    },
    "papermill": {
     "duration": 0.048739,
     "end_time": "2023-12-27T02:13:31.816531",
     "exception": false,
     "start_time": "2023-12-27T02:13:31.767792",
     "status": "completed"
    },
    "tags": []
   },
   "outputs": [],
   "source": [
    "#Loại bỏ một số cột dạng string không thể xử lý\n",
    "string_columns = df.select_dtypes(include=['object']).columns\n",
    "df = df.drop(string_columns, axis=1)"
   ]
  },
  {
   "cell_type": "code",
   "execution_count": 10,
   "id": "ee6870cc",
   "metadata": {
    "execution": {
     "iopub.execute_input": "2023-12-27T02:13:31.833015Z",
     "iopub.status.busy": "2023-12-27T02:13:31.832659Z",
     "iopub.status.idle": "2023-12-27T02:13:31.864077Z",
     "shell.execute_reply": "2023-12-27T02:13:31.862529Z"
    },
    "papermill": {
     "duration": 0.042072,
     "end_time": "2023-12-27T02:13:31.866109",
     "exception": false,
     "start_time": "2023-12-27T02:13:31.824037",
     "status": "completed"
    },
    "tags": []
   },
   "outputs": [
    {
     "data": {
      "text/html": [
       "<div>\n",
       "<style scoped>\n",
       "    .dataframe tbody tr th:only-of-type {\n",
       "        vertical-align: middle;\n",
       "    }\n",
       "\n",
       "    .dataframe tbody tr th {\n",
       "        vertical-align: top;\n",
       "    }\n",
       "\n",
       "    .dataframe thead th {\n",
       "        text-align: right;\n",
       "    }\n",
       "</style>\n",
       "<table border=\"1\" class=\"dataframe\">\n",
       "  <thead>\n",
       "    <tr style=\"text-align: right;\">\n",
       "      <th></th>\n",
       "      <th>malicious</th>\n",
       "      <th>packed</th>\n",
       "      <th>imp_setupremovefilelogentrya</th>\n",
       "      <th>imp_vardeccmp</th>\n",
       "      <th>imp_setdlgitemint</th>\n",
       "      <th>imp_?append@?$basic_string@du?$char_traits@d@std@@v?$allocator@d@2@@std@@qaeaav12@abv12@ii@z</th>\n",
       "      <th>imp_zwwritefile</th>\n",
       "      <th>imp_glstencilop</th>\n",
       "      <th>imp_comparelinkinforeferents</th>\n",
       "      <th>imp__setmbcp</th>\n",
       "      <th>...</th>\n",
       "      <th>opcode_xor sub mov</th>\n",
       "      <th>opcode_xor sub mov add</th>\n",
       "      <th>opcode_xor test</th>\n",
       "      <th>opcode_xor test je</th>\n",
       "      <th>opcode_xor xor</th>\n",
       "      <th>opcode_xor xor mov</th>\n",
       "      <th>opcode_xor xor pop</th>\n",
       "      <th>opcode_xor xor pop mov</th>\n",
       "      <th>opcode_xor xor xor</th>\n",
       "      <th>opcode_xor xor xor pop</th>\n",
       "    </tr>\n",
       "  </thead>\n",
       "  <tbody>\n",
       "    <tr>\n",
       "      <th>32148</th>\n",
       "      <td>False</td>\n",
       "      <td>True</td>\n",
       "      <td>False</td>\n",
       "      <td>False</td>\n",
       "      <td>False</td>\n",
       "      <td>False</td>\n",
       "      <td>False</td>\n",
       "      <td>False</td>\n",
       "      <td>False</td>\n",
       "      <td>False</td>\n",
       "      <td>...</td>\n",
       "      <td>0.0</td>\n",
       "      <td>0.0</td>\n",
       "      <td>0.000187</td>\n",
       "      <td>0.000198</td>\n",
       "      <td>0.0</td>\n",
       "      <td>0.0</td>\n",
       "      <td>0.0</td>\n",
       "      <td>0.0</td>\n",
       "      <td>0.0</td>\n",
       "      <td>0.0</td>\n",
       "    </tr>\n",
       "    <tr>\n",
       "      <th>210953</th>\n",
       "      <td>False</td>\n",
       "      <td>False</td>\n",
       "      <td>False</td>\n",
       "      <td>False</td>\n",
       "      <td>False</td>\n",
       "      <td>False</td>\n",
       "      <td>False</td>\n",
       "      <td>False</td>\n",
       "      <td>False</td>\n",
       "      <td>False</td>\n",
       "      <td>...</td>\n",
       "      <td>0.0</td>\n",
       "      <td>0.0</td>\n",
       "      <td>0.000000</td>\n",
       "      <td>0.000000</td>\n",
       "      <td>0.0</td>\n",
       "      <td>0.0</td>\n",
       "      <td>0.0</td>\n",
       "      <td>0.0</td>\n",
       "      <td>0.0</td>\n",
       "      <td>0.0</td>\n",
       "    </tr>\n",
       "    <tr>\n",
       "      <th>50313</th>\n",
       "      <td>False</td>\n",
       "      <td>True</td>\n",
       "      <td>False</td>\n",
       "      <td>False</td>\n",
       "      <td>False</td>\n",
       "      <td>False</td>\n",
       "      <td>False</td>\n",
       "      <td>False</td>\n",
       "      <td>False</td>\n",
       "      <td>False</td>\n",
       "      <td>...</td>\n",
       "      <td>0.0</td>\n",
       "      <td>0.0</td>\n",
       "      <td>0.000000</td>\n",
       "      <td>0.000000</td>\n",
       "      <td>0.0</td>\n",
       "      <td>0.0</td>\n",
       "      <td>0.0</td>\n",
       "      <td>0.0</td>\n",
       "      <td>0.0</td>\n",
       "      <td>0.0</td>\n",
       "    </tr>\n",
       "    <tr>\n",
       "      <th>200288</th>\n",
       "      <td>True</td>\n",
       "      <td>True</td>\n",
       "      <td>False</td>\n",
       "      <td>False</td>\n",
       "      <td>False</td>\n",
       "      <td>False</td>\n",
       "      <td>False</td>\n",
       "      <td>False</td>\n",
       "      <td>False</td>\n",
       "      <td>False</td>\n",
       "      <td>...</td>\n",
       "      <td>0.0</td>\n",
       "      <td>0.0</td>\n",
       "      <td>0.000000</td>\n",
       "      <td>0.000000</td>\n",
       "      <td>0.0</td>\n",
       "      <td>0.0</td>\n",
       "      <td>0.0</td>\n",
       "      <td>0.0</td>\n",
       "      <td>0.0</td>\n",
       "      <td>0.0</td>\n",
       "    </tr>\n",
       "    <tr>\n",
       "      <th>49579</th>\n",
       "      <td>True</td>\n",
       "      <td>True</td>\n",
       "      <td>False</td>\n",
       "      <td>False</td>\n",
       "      <td>False</td>\n",
       "      <td>False</td>\n",
       "      <td>False</td>\n",
       "      <td>False</td>\n",
       "      <td>False</td>\n",
       "      <td>False</td>\n",
       "      <td>...</td>\n",
       "      <td>0.0</td>\n",
       "      <td>0.0</td>\n",
       "      <td>0.000000</td>\n",
       "      <td>0.000000</td>\n",
       "      <td>0.0</td>\n",
       "      <td>0.0</td>\n",
       "      <td>0.0</td>\n",
       "      <td>0.0</td>\n",
       "      <td>0.0</td>\n",
       "      <td>0.0</td>\n",
       "    </tr>\n",
       "  </tbody>\n",
       "</table>\n",
       "<p>5 rows × 56524 columns</p>\n",
       "</div>"
      ],
      "text/plain": [
       "        malicious  packed  imp_setupremovefilelogentrya  imp_vardeccmp  \\\n",
       "32148       False    True                         False          False   \n",
       "210953      False   False                         False          False   \n",
       "50313       False    True                         False          False   \n",
       "200288       True    True                         False          False   \n",
       "49579        True    True                         False          False   \n",
       "\n",
       "        imp_setdlgitemint  \\\n",
       "32148               False   \n",
       "210953              False   \n",
       "50313               False   \n",
       "200288              False   \n",
       "49579               False   \n",
       "\n",
       "        imp_?append@?$basic_string@du?$char_traits@d@std@@v?$allocator@d@2@@std@@qaeaav12@abv12@ii@z  \\\n",
       "32148                                               False                                              \n",
       "210953                                              False                                              \n",
       "50313                                               False                                              \n",
       "200288                                              False                                              \n",
       "49579                                               False                                              \n",
       "\n",
       "        imp_zwwritefile  imp_glstencilop  imp_comparelinkinforeferents  \\\n",
       "32148             False            False                         False   \n",
       "210953            False            False                         False   \n",
       "50313             False            False                         False   \n",
       "200288            False            False                         False   \n",
       "49579             False            False                         False   \n",
       "\n",
       "        imp__setmbcp  ...  opcode_xor sub mov  opcode_xor sub mov add  \\\n",
       "32148          False  ...                 0.0                     0.0   \n",
       "210953         False  ...                 0.0                     0.0   \n",
       "50313          False  ...                 0.0                     0.0   \n",
       "200288         False  ...                 0.0                     0.0   \n",
       "49579          False  ...                 0.0                     0.0   \n",
       "\n",
       "        opcode_xor test  opcode_xor test je  opcode_xor xor  \\\n",
       "32148          0.000187            0.000198             0.0   \n",
       "210953         0.000000            0.000000             0.0   \n",
       "50313          0.000000            0.000000             0.0   \n",
       "200288         0.000000            0.000000             0.0   \n",
       "49579          0.000000            0.000000             0.0   \n",
       "\n",
       "        opcode_xor xor mov  opcode_xor xor pop  opcode_xor xor pop mov  \\\n",
       "32148                  0.0                 0.0                     0.0   \n",
       "210953                 0.0                 0.0                     0.0   \n",
       "50313                  0.0                 0.0                     0.0   \n",
       "200288                 0.0                 0.0                     0.0   \n",
       "49579                  0.0                 0.0                     0.0   \n",
       "\n",
       "        opcode_xor xor xor  opcode_xor xor xor pop  \n",
       "32148                  0.0                     0.0  \n",
       "210953                 0.0                     0.0  \n",
       "50313                  0.0                     0.0  \n",
       "200288                 0.0                     0.0  \n",
       "49579                  0.0                     0.0  \n",
       "\n",
       "[5 rows x 56524 columns]"
      ]
     },
     "execution_count": 10,
     "metadata": {},
     "output_type": "execute_result"
    }
   ],
   "source": [
    "df.head()"
   ]
  },
  {
   "cell_type": "code",
   "execution_count": 11,
   "id": "50e80f0e",
   "metadata": {
    "execution": {
     "iopub.execute_input": "2023-12-27T02:13:31.884472Z",
     "iopub.status.busy": "2023-12-27T02:13:31.883201Z",
     "iopub.status.idle": "2023-12-27T02:13:31.890399Z",
     "shell.execute_reply": "2023-12-27T02:13:31.888959Z"
    },
    "papermill": {
     "duration": 0.018415,
     "end_time": "2023-12-27T02:13:31.892906",
     "exception": false,
     "start_time": "2023-12-27T02:13:31.874491",
     "status": "completed"
    },
    "tags": []
   },
   "outputs": [
    {
     "name": "stdout",
     "output_type": "stream",
     "text": [
      "(1200, 56524)\n"
     ]
    }
   ],
   "source": [
    "print(df.shape)"
   ]
  },
  {
   "cell_type": "code",
   "execution_count": 12,
   "id": "c226f30e",
   "metadata": {
    "execution": {
     "iopub.execute_input": "2023-12-27T02:13:31.910714Z",
     "iopub.status.busy": "2023-12-27T02:13:31.910381Z",
     "iopub.status.idle": "2023-12-27T02:13:31.995394Z",
     "shell.execute_reply": "2023-12-27T02:13:31.994489Z"
    },
    "papermill": {
     "duration": 0.096615,
     "end_time": "2023-12-27T02:13:31.997720",
     "exception": false,
     "start_time": "2023-12-27T02:13:31.901105",
     "status": "completed"
    },
    "tags": []
   },
   "outputs": [],
   "source": [
    "df_train = df.sample(n=1000, random_state=102)\n",
    "df_test = df.drop(df_train.index)"
   ]
  },
  {
   "cell_type": "code",
   "execution_count": 13,
   "id": "0513813c",
   "metadata": {
    "execution": {
     "iopub.execute_input": "2023-12-27T02:13:32.017665Z",
     "iopub.status.busy": "2023-12-27T02:13:32.017300Z",
     "iopub.status.idle": "2023-12-27T02:13:32.095374Z",
     "shell.execute_reply": "2023-12-27T02:13:32.094190Z"
    },
    "papermill": {
     "duration": 0.092202,
     "end_time": "2023-12-27T02:13:32.097807",
     "exception": false,
     "start_time": "2023-12-27T02:13:32.005605",
     "status": "completed"
    },
    "tags": []
   },
   "outputs": [],
   "source": [
    "#Vì tập dữ liệu không có Unpacked Malware, chỉ cần loại bỏ Packed Benign\n",
    "data = df_train.drop(df_train[(df_train['malicious'] == False) & (df_train['packed'] == True)].index)"
   ]
  },
  {
   "cell_type": "code",
   "execution_count": 14,
   "id": "d75c7210",
   "metadata": {
    "execution": {
     "iopub.execute_input": "2023-12-27T02:13:32.115163Z",
     "iopub.status.busy": "2023-12-27T02:13:32.114855Z",
     "iopub.status.idle": "2023-12-27T02:13:32.173998Z",
     "shell.execute_reply": "2023-12-27T02:13:32.172408Z"
    },
    "papermill": {
     "duration": 0.070757,
     "end_time": "2023-12-27T02:13:32.176589",
     "exception": false,
     "start_time": "2023-12-27T02:13:32.105832",
     "status": "completed"
    },
    "tags": []
   },
   "outputs": [
    {
     "name": "stdout",
     "output_type": "stream",
     "text": [
      "Unpacked Benign: 73 samples\n",
      "Packed Malware: 727 samples\n",
      "Total TRAIN set: 800 samples\n"
     ]
    }
   ],
   "source": [
    "#Kiểm tra số lượng mẫu\n",
    "Unpacked_Benign = data[(data['malicious'] == False) & (data['packed'] == False)].shape[0]\n",
    "Packed_Malware = data[(data['malicious'] == True) & (data['packed'] == True)].shape[0]\n",
    "print('Unpacked Benign: %i samples' % Unpacked_Benign)\n",
    "print('Packed Malware: %i samples' % Packed_Malware)\n",
    "print('Total TRAIN set: %i samples'% (Unpacked_Benign+Packed_Malware))"
   ]
  },
  {
   "cell_type": "code",
   "execution_count": 15,
   "id": "498baf64",
   "metadata": {
    "execution": {
     "iopub.execute_input": "2023-12-27T02:13:32.194562Z",
     "iopub.status.busy": "2023-12-27T02:13:32.194189Z",
     "iopub.status.idle": "2023-12-27T02:13:32.289514Z",
     "shell.execute_reply": "2023-12-27T02:13:32.288433Z"
    },
    "papermill": {
     "duration": 0.107211,
     "end_time": "2023-12-27T02:13:32.292162",
     "exception": false,
     "start_time": "2023-12-27T02:13:32.184951",
     "status": "completed"
    },
    "tags": []
   },
   "outputs": [],
   "source": [
    "#Chia tỉ lệ 50 - 50\n",
    "data_PM = data[(data['malicious'] == True) & (data['packed'] == True)].sample(n=Packed_Malware-Unpacked_Benign, random_state=102)\n",
    "data = data.drop(data_PM.index)"
   ]
  },
  {
   "cell_type": "code",
   "execution_count": 16,
   "id": "bc67d84f",
   "metadata": {
    "execution": {
     "iopub.execute_input": "2023-12-27T02:13:32.310357Z",
     "iopub.status.busy": "2023-12-27T02:13:32.309971Z",
     "iopub.status.idle": "2023-12-27T02:13:32.332008Z",
     "shell.execute_reply": "2023-12-27T02:13:32.330634Z"
    },
    "papermill": {
     "duration": 0.033858,
     "end_time": "2023-12-27T02:13:32.334236",
     "exception": false,
     "start_time": "2023-12-27T02:13:32.300378",
     "status": "completed"
    },
    "tags": []
   },
   "outputs": [
    {
     "name": "stdout",
     "output_type": "stream",
     "text": [
      "Unpacked Benign: 73 samples\n",
      "Packed Malware: 73 samples\n",
      "Total TRAIN set: 146 samples\n"
     ]
    }
   ],
   "source": [
    "#Số lượng tập train\n",
    "Unpacked_Benign = data[(data['malicious'] == False) & (data['packed'] == False)].shape[0]\n",
    "Packed_Malware = data[(data['malicious'] == True) & (data['packed'] == True)].shape[0]\n",
    "print('Unpacked Benign: %i samples' % Unpacked_Benign)\n",
    "print('Packed Malware: %i samples' % Packed_Malware)\n",
    "print('Total TRAIN set: %i samples'% (Unpacked_Benign+Packed_Malware))"
   ]
  },
  {
   "cell_type": "code",
   "execution_count": 17,
   "id": "c5aea88f",
   "metadata": {
    "execution": {
     "iopub.execute_input": "2023-12-27T02:13:32.354015Z",
     "iopub.status.busy": "2023-12-27T02:13:32.353676Z",
     "iopub.status.idle": "2023-12-27T02:13:32.366838Z",
     "shell.execute_reply": "2023-12-27T02:13:32.365527Z"
    },
    "papermill": {
     "duration": 0.025668,
     "end_time": "2023-12-27T02:13:32.368875",
     "exception": false,
     "start_time": "2023-12-27T02:13:32.343207",
     "status": "completed"
    },
    "tags": []
   },
   "outputs": [],
   "source": [
    "y = data['malicious'].values\n",
    "data = data.drop(['malicious','packed'], axis=1)"
   ]
  },
  {
   "cell_type": "code",
   "execution_count": 18,
   "id": "ce7c89f8",
   "metadata": {
    "execution": {
     "iopub.execute_input": "2023-12-27T02:13:32.387945Z",
     "iopub.status.busy": "2023-12-27T02:13:32.386829Z",
     "iopub.status.idle": "2023-12-27T02:13:32.439277Z",
     "shell.execute_reply": "2023-12-27T02:13:32.438197Z"
    },
    "papermill": {
     "duration": 0.063818,
     "end_time": "2023-12-27T02:13:32.441066",
     "exception": false,
     "start_time": "2023-12-27T02:13:32.377248",
     "status": "completed"
    },
    "tags": []
   },
   "outputs": [
    {
     "name": "stdout",
     "output_type": "stream",
     "text": [
      "Unpacked Benign: 10 samples\n",
      "Packed Malware: 46 samples\n",
      "Packed Benign: 36 samples\n",
      "Total TEST set: 92 samples\n"
     ]
    }
   ],
   "source": [
    "Unpacked_Benign = df_test[(df_test['malicious'] == False) & (df_test['packed'] == False)].shape[0]\n",
    "Packed_Malware = df_test[(df_test['malicious'] == True) & (df_test['packed'] == True)].shape[0]\n",
    "Packed_Benign = df_test[(df_test['malicious'] == False) & (df_test['packed'] == True)].shape[0]\n",
    "\n",
    "df_test_PM = df_test[(df_test['malicious'] == True) & (df_test['packed'] == True)].sample(n=(Packed_Malware-(Unpacked_Benign+Packed_Benign)), random_state=102)\n",
    "df_test = df_test.drop(df_test_PM.index)\n",
    "\n",
    "Unpacked_Benign = df_test[(df_test['malicious'] == False) & (df_test['packed'] == False)].shape[0]\n",
    "Packed_Malware = df_test[(df_test['malicious'] == True) & (df_test['packed'] == True)].shape[0]\n",
    "Packed_Benign = df_test[(df_test['malicious'] == False) & (df_test['packed'] == True)].shape[0]\n",
    "\n",
    "print('Unpacked Benign: %i samples' % Unpacked_Benign)\n",
    "print('Packed Malware: %i samples' % Packed_Malware)\n",
    "print('Packed Benign: %i samples' % Packed_Benign)\n",
    "print('Total TEST set: %i samples'% (Unpacked_Benign+Packed_Malware+Packed_Benign))"
   ]
  },
  {
   "cell_type": "code",
   "execution_count": 19,
   "id": "719effcf",
   "metadata": {
    "execution": {
     "iopub.execute_input": "2023-12-27T02:13:32.458318Z",
     "iopub.status.busy": "2023-12-27T02:13:32.457970Z",
     "iopub.status.idle": "2023-12-27T02:13:32.875915Z",
     "shell.execute_reply": "2023-12-27T02:13:32.874338Z"
    },
    "papermill": {
     "duration": 0.429798,
     "end_time": "2023-12-27T02:13:32.878650",
     "exception": false,
     "start_time": "2023-12-27T02:13:32.448852",
     "status": "completed"
    },
    "tags": []
   },
   "outputs": [
    {
     "name": "stdout",
     "output_type": "stream",
     "text": [
      "Researching important feature based on 56522 total features\n"
     ]
    }
   ],
   "source": [
    "print('Researching important feature based on %i total features' % data.shape[1])\n",
    "fsel = ske.ExtraTreesClassifier().fit(data, y)"
   ]
  },
  {
   "cell_type": "code",
   "execution_count": 20,
   "id": "8ce2ca7d",
   "metadata": {
    "execution": {
     "iopub.execute_input": "2023-12-27T02:13:32.897079Z",
     "iopub.status.busy": "2023-12-27T02:13:32.896088Z",
     "iopub.status.idle": "2023-12-27T02:13:33.528982Z",
     "shell.execute_reply": "2023-12-27T02:13:33.527711Z"
    },
    "papermill": {
     "duration": 0.644526,
     "end_time": "2023-12-27T02:13:33.531576",
     "exception": false,
     "start_time": "2023-12-27T02:13:32.887050",
     "status": "completed"
    },
    "tags": []
   },
   "outputs": [
    {
     "name": "stderr",
     "output_type": "stream",
     "text": [
      "/opt/conda/lib/python3.10/site-packages/sklearn/base.py:432: UserWarning: X has feature names, but SelectFromModel was fitted without feature names\n",
      "  warnings.warn(\n",
      "/opt/conda/lib/python3.10/site-packages/sklearn/base.py:432: UserWarning: X has feature names, but SelectFromModel was fitted without feature names\n",
      "  warnings.warn(\n",
      "/opt/conda/lib/python3.10/site-packages/sklearn/base.py:432: UserWarning: X has feature names, but SelectFromModel was fitted without feature names\n",
      "  warnings.warn(\n"
     ]
    }
   ],
   "source": [
    "model = SelectFromModel(fsel, prefit=True)\n",
    "X = model.transform(data)\n",
    "\n",
    "X_train = model.transform(data)\n",
    "X_test = model.transform(df_test.drop(['malicious','packed'], axis=1))\n",
    "y_train = y\n",
    "y_test = df_test['malicious'].values"
   ]
  },
  {
   "cell_type": "code",
   "execution_count": 21,
   "id": "ec894a2f",
   "metadata": {
    "execution": {
     "iopub.execute_input": "2023-12-27T02:13:33.550509Z",
     "iopub.status.busy": "2023-12-27T02:13:33.549630Z",
     "iopub.status.idle": "2023-12-27T02:13:33.589695Z",
     "shell.execute_reply": "2023-12-27T02:13:33.588031Z"
    },
    "papermill": {
     "duration": 0.05179,
     "end_time": "2023-12-27T02:13:33.591896",
     "exception": false,
     "start_time": "2023-12-27T02:13:33.540106",
     "status": "completed"
    },
    "tags": []
   },
   "outputs": [
    {
     "name": "stdout",
     "output_type": "stream",
     "text": [
      "2020 features identified as important:\n",
      "[42162 42287 42792 ... 36926 42827 54871]\n"
     ]
    }
   ],
   "source": [
    "nb_features = X_train.shape[1]\n",
    "features = []\n",
    "print('%i features identified as important:' % nb_features)\n",
    "\n",
    "indices = np.argsort(fsel.feature_importances_)[::-1][:nb_features]\n",
    "print(indices)"
   ]
  },
  {
   "cell_type": "code",
   "execution_count": 22,
   "id": "f834d4be",
   "metadata": {
    "execution": {
     "iopub.execute_input": "2023-12-27T02:13:33.610432Z",
     "iopub.status.busy": "2023-12-27T02:13:33.610094Z",
     "iopub.status.idle": "2023-12-27T02:13:33.616019Z",
     "shell.execute_reply": "2023-12-27T02:13:33.614511Z"
    },
    "papermill": {
     "duration": 0.017301,
     "end_time": "2023-12-27T02:13:33.618014",
     "exception": false,
     "start_time": "2023-12-27T02:13:33.600713",
     "status": "completed"
    },
    "tags": []
   },
   "outputs": [
    {
     "name": "stdout",
     "output_type": "stream",
     "text": [
      "(146, 2020)\n",
      "(92, 2020)\n",
      "(146,)\n",
      "(92,)\n"
     ]
    }
   ],
   "source": [
    "print(X_train.shape)\n",
    "print(X_test.shape)\n",
    "print(y_train.shape)\n",
    "print(y_test.shape)"
   ]
  },
  {
   "cell_type": "code",
   "execution_count": 23,
   "id": "3375a606",
   "metadata": {
    "execution": {
     "iopub.execute_input": "2023-12-27T02:13:33.636569Z",
     "iopub.status.busy": "2023-12-27T02:13:33.636162Z",
     "iopub.status.idle": "2023-12-27T02:13:33.641110Z",
     "shell.execute_reply": "2023-12-27T02:13:33.640116Z"
    },
    "papermill": {
     "duration": 0.016752,
     "end_time": "2023-12-27T02:13:33.643345",
     "exception": false,
     "start_time": "2023-12-27T02:13:33.626593",
     "status": "completed"
    },
    "tags": []
   },
   "outputs": [],
   "source": [
    "X_train_new = X_train.reshape(X_train.shape[0], X_train.shape[1], 1)\n",
    "X_test_new = X_test.reshape(X_test.shape[0], X_test.shape[1], 1)"
   ]
  },
  {
   "cell_type": "code",
   "execution_count": 24,
   "id": "8b3c9e3a",
   "metadata": {
    "execution": {
     "iopub.execute_input": "2023-12-27T02:13:33.662618Z",
     "iopub.status.busy": "2023-12-27T02:13:33.662281Z",
     "iopub.status.idle": "2023-12-27T02:13:33.666218Z",
     "shell.execute_reply": "2023-12-27T02:13:33.665316Z"
    },
    "papermill": {
     "duration": 0.015989,
     "end_time": "2023-12-27T02:13:33.668028",
     "exception": false,
     "start_time": "2023-12-27T02:13:33.652039",
     "status": "completed"
    },
    "tags": []
   },
   "outputs": [],
   "source": [
    "n_timesteps, n_features = X_train_new.shape[1], X_train_new.shape[2]"
   ]
  },
  {
   "cell_type": "code",
   "execution_count": 25,
   "id": "7183d7d9",
   "metadata": {
    "execution": {
     "iopub.execute_input": "2023-12-27T02:13:33.687094Z",
     "iopub.status.busy": "2023-12-27T02:13:33.686586Z",
     "iopub.status.idle": "2023-12-27T02:13:33.696703Z",
     "shell.execute_reply": "2023-12-27T02:13:33.694903Z"
    },
    "papermill": {
     "duration": 0.022657,
     "end_time": "2023-12-27T02:13:33.699308",
     "exception": false,
     "start_time": "2023-12-27T02:13:33.676651",
     "status": "completed"
    },
    "tags": []
   },
   "outputs": [],
   "source": [
    "def Cnn():\n",
    "    model = Sequential()\n",
    "    model.add(Input(shape=(n_timesteps,n_features)))\n",
    "    model.add(Conv1D(filters=256, kernel_size=2, activation='relu', name=\"Conv1D_1\"))\n",
    "    model.add(Activation('sigmoid'))\n",
    "    model.add(Conv1D(filters=256, kernel_size=2, name=\"Conv1D_2\"))  \n",
    "    model.add(MaxPooling1D(pool_size=2, name=\"MaxPooling1D\"))\n",
    "    model.add(Conv1D(filters=128, kernel_size=3, name=\"Conv1D_3\"))\n",
    "    model.add(Conv1D(filters=128, kernel_size=3, name=\"Conv1D_4\"))\n",
    "    model.add(AveragePooling1D(2))\n",
    "    model.add(Conv1D(filters=64, kernel_size=4, name=\"Conv1D_5\"))\n",
    "    model.add(Conv1D(filters=64, kernel_size=4, name=\"Conv1D_6\"))\n",
    "    model.add(GlobalMaxPooling1D())\n",
    "    model.add(Flatten())\n",
    "    model.add(Dense(64, activation='relu', name=\"Dense_1\"))\n",
    "    model.add(Dropout(0.35))\n",
    "    model.add(Dense(1, activation='sigmoid', name=\"Dense_2\"))\n",
    "    model.compile(loss='binary_crossentropy',\n",
    "                  optimizer='adam',\n",
    "                  metrics=['accuracy'])\n",
    "    return model"
   ]
  },
  {
   "cell_type": "code",
   "execution_count": 26,
   "id": "6be117aa",
   "metadata": {
    "execution": {
     "iopub.execute_input": "2023-12-27T02:13:33.719269Z",
     "iopub.status.busy": "2023-12-27T02:13:33.718926Z",
     "iopub.status.idle": "2023-12-27T02:13:34.070042Z",
     "shell.execute_reply": "2023-12-27T02:13:34.068928Z"
    },
    "papermill": {
     "duration": 0.364727,
     "end_time": "2023-12-27T02:13:34.072876",
     "exception": false,
     "start_time": "2023-12-27T02:13:33.708149",
     "status": "completed"
    },
    "tags": []
   },
   "outputs": [
    {
     "name": "stdout",
     "output_type": "stream",
     "text": [
      "Model: \"sequential\"\n",
      "_________________________________________________________________\n",
      " Layer (type)                Output Shape              Param #   \n",
      "=================================================================\n",
      " Conv1D_1 (Conv1D)           (None, 2019, 256)         768       \n",
      "                                                                 \n",
      " activation (Activation)     (None, 2019, 256)         0         \n",
      "                                                                 \n",
      " Conv1D_2 (Conv1D)           (None, 2018, 256)         131328    \n",
      "                                                                 \n",
      " MaxPooling1D (MaxPooling1D)  (None, 1009, 256)        0         \n",
      "                                                                 \n",
      " Conv1D_3 (Conv1D)           (None, 1007, 128)         98432     \n",
      "                                                                 \n",
      " Conv1D_4 (Conv1D)           (None, 1005, 128)         49280     \n",
      "                                                                 \n",
      " average_pooling1d (AverageP  (None, 502, 128)         0         \n",
      " ooling1D)                                                       \n",
      "                                                                 \n",
      " Conv1D_5 (Conv1D)           (None, 499, 64)           32832     \n",
      "                                                                 \n",
      " Conv1D_6 (Conv1D)           (None, 496, 64)           16448     \n",
      "                                                                 \n",
      " global_max_pooling1d (Globa  (None, 64)               0         \n",
      " lMaxPooling1D)                                                  \n",
      "                                                                 \n",
      " flatten (Flatten)           (None, 64)                0         \n",
      "                                                                 \n",
      " Dense_1 (Dense)             (None, 64)                4160      \n",
      "                                                                 \n",
      " dropout (Dropout)           (None, 64)                0         \n",
      "                                                                 \n",
      " Dense_2 (Dense)             (None, 1)                 65        \n",
      "                                                                 \n",
      "=================================================================\n",
      "Total params: 333,313\n",
      "Trainable params: 333,313\n",
      "Non-trainable params: 0\n",
      "_________________________________________________________________\n"
     ]
    }
   ],
   "source": [
    "CNN_model = Cnn()\n",
    "#print the model summary\n",
    "CNN_model.summary()"
   ]
  },
  {
   "cell_type": "code",
   "execution_count": 27,
   "id": "95e86f5a",
   "metadata": {
    "execution": {
     "iopub.execute_input": "2023-12-27T02:13:34.098024Z",
     "iopub.status.busy": "2023-12-27T02:13:34.097656Z",
     "iopub.status.idle": "2023-12-27T02:21:58.329825Z",
     "shell.execute_reply": "2023-12-27T02:21:58.327643Z"
    },
    "papermill": {
     "duration": 504.249595,
     "end_time": "2023-12-27T02:21:58.334383",
     "exception": false,
     "start_time": "2023-12-27T02:13:34.084788",
     "status": "completed"
    },
    "tags": []
   },
   "outputs": [
    {
     "name": "stdout",
     "output_type": "stream",
     "text": [
      "Epoch 1/100\n",
      "3/3 - 6s - loss: 1.1745 - accuracy: 0.5068 - val_loss: 0.6766 - val_accuracy: 0.6196 - 6s/epoch - 2s/step\n",
      "Epoch 2/100\n",
      "3/3 - 4s - loss: 1.7849 - accuracy: 0.5137 - val_loss: 2.0754 - val_accuracy: 0.5000 - 4s/epoch - 1s/step\n",
      "Epoch 3/100\n",
      "3/3 - 4s - loss: 1.5364 - accuracy: 0.5274 - val_loss: 1.1801 - val_accuracy: 0.5000 - 4s/epoch - 1s/step\n",
      "Epoch 4/100\n",
      "3/3 - 4s - loss: 1.1086 - accuracy: 0.4795 - val_loss: 0.7007 - val_accuracy: 0.5000 - 4s/epoch - 1s/step\n",
      "Epoch 5/100\n",
      "3/3 - 4s - loss: 0.9850 - accuracy: 0.4521 - val_loss: 0.9629 - val_accuracy: 0.5000 - 4s/epoch - 1s/step\n",
      "Epoch 6/100\n",
      "3/3 - 4s - loss: 0.9419 - accuracy: 0.5548 - val_loss: 0.7288 - val_accuracy: 0.5000 - 4s/epoch - 1s/step\n",
      "Epoch 7/100\n",
      "3/3 - 4s - loss: 0.7765 - accuracy: 0.5685 - val_loss: 0.6701 - val_accuracy: 0.5000 - 4s/epoch - 1s/step\n",
      "Epoch 8/100\n",
      "3/3 - 4s - loss: 0.8400 - accuracy: 0.5205 - val_loss: 0.6501 - val_accuracy: 0.7826 - 4s/epoch - 1s/step\n",
      "Epoch 9/100\n",
      "3/3 - 4s - loss: 0.8161 - accuracy: 0.5342 - val_loss: 0.7382 - val_accuracy: 0.5000 - 4s/epoch - 1s/step\n",
      "Epoch 10/100\n",
      "3/3 - 4s - loss: 0.7492 - accuracy: 0.5342 - val_loss: 0.6540 - val_accuracy: 0.5109 - 4s/epoch - 1s/step\n",
      "Epoch 11/100\n",
      "3/3 - 4s - loss: 0.6977 - accuracy: 0.5890 - val_loss: 0.6034 - val_accuracy: 0.7717 - 4s/epoch - 1s/step\n",
      "Epoch 12/100\n",
      "3/3 - 4s - loss: 0.5991 - accuracy: 0.6986 - val_loss: 0.6137 - val_accuracy: 0.6848 - 4s/epoch - 1s/step\n",
      "Epoch 13/100\n",
      "3/3 - 5s - loss: 0.6778 - accuracy: 0.6575 - val_loss: 0.5921 - val_accuracy: 0.7609 - 5s/epoch - 2s/step\n",
      "Epoch 14/100\n",
      "3/3 - 4s - loss: 0.5998 - accuracy: 0.6438 - val_loss: 0.5735 - val_accuracy: 0.7717 - 4s/epoch - 1s/step\n",
      "Epoch 15/100\n",
      "3/3 - 4s - loss: 0.5795 - accuracy: 0.7055 - val_loss: 0.5658 - val_accuracy: 0.7826 - 4s/epoch - 1s/step\n",
      "Epoch 16/100\n",
      "3/3 - 4s - loss: 0.5929 - accuracy: 0.6712 - val_loss: 0.7590 - val_accuracy: 0.5543 - 4s/epoch - 1s/step\n",
      "Epoch 17/100\n",
      "3/3 - 4s - loss: 0.7043 - accuracy: 0.6233 - val_loss: 0.6006 - val_accuracy: 0.5870 - 4s/epoch - 1s/step\n",
      "Epoch 18/100\n",
      "3/3 - 4s - loss: 0.5539 - accuracy: 0.7397 - val_loss: 0.5565 - val_accuracy: 0.7717 - 4s/epoch - 1s/step\n",
      "Epoch 19/100\n",
      "3/3 - 4s - loss: 0.5845 - accuracy: 0.7192 - val_loss: 0.5523 - val_accuracy: 0.7174 - 4s/epoch - 1s/step\n",
      "Epoch 20/100\n",
      "3/3 - 4s - loss: 0.5817 - accuracy: 0.7397 - val_loss: 0.5771 - val_accuracy: 0.7826 - 4s/epoch - 1s/step\n",
      "Epoch 21/100\n",
      "3/3 - 5s - loss: 0.5872 - accuracy: 0.6712 - val_loss: 0.5553 - val_accuracy: 0.7826 - 5s/epoch - 2s/step\n",
      "Epoch 22/100\n",
      "3/3 - 4s - loss: 0.5418 - accuracy: 0.7055 - val_loss: 0.5467 - val_accuracy: 0.7935 - 4s/epoch - 1s/step\n",
      "Epoch 23/100\n",
      "3/3 - 4s - loss: 0.5058 - accuracy: 0.7603 - val_loss: 0.5558 - val_accuracy: 0.7609 - 4s/epoch - 1s/step\n",
      "Epoch 24/100\n",
      "3/3 - 4s - loss: 0.4769 - accuracy: 0.7260 - val_loss: 0.5816 - val_accuracy: 0.6522 - 4s/epoch - 1s/step\n",
      "Epoch 25/100\n",
      "3/3 - 4s - loss: 0.5445 - accuracy: 0.7123 - val_loss: 0.5380 - val_accuracy: 0.7826 - 4s/epoch - 1s/step\n",
      "Epoch 26/100\n",
      "3/3 - 4s - loss: 0.4740 - accuracy: 0.7671 - val_loss: 0.5589 - val_accuracy: 0.7065 - 4s/epoch - 1s/step\n",
      "Epoch 27/100\n",
      "3/3 - 4s - loss: 0.5125 - accuracy: 0.7123 - val_loss: 0.6800 - val_accuracy: 0.5761 - 4s/epoch - 1s/step\n",
      "Epoch 28/100\n",
      "3/3 - 5s - loss: 0.5607 - accuracy: 0.7260 - val_loss: 0.7327 - val_accuracy: 0.6304 - 5s/epoch - 2s/step\n",
      "Epoch 29/100\n",
      "3/3 - 4s - loss: 0.7104 - accuracy: 0.6301 - val_loss: 0.6252 - val_accuracy: 0.6848 - 4s/epoch - 1s/step\n",
      "Epoch 30/100\n",
      "3/3 - 4s - loss: 0.6366 - accuracy: 0.6986 - val_loss: 0.5516 - val_accuracy: 0.7826 - 4s/epoch - 1s/step\n",
      "Epoch 31/100\n",
      "3/3 - 4s - loss: 0.5522 - accuracy: 0.6918 - val_loss: 0.5917 - val_accuracy: 0.5870 - 4s/epoch - 1s/step\n",
      "Epoch 32/100\n",
      "3/3 - 5s - loss: 0.5734 - accuracy: 0.6849 - val_loss: 0.5408 - val_accuracy: 0.7826 - 5s/epoch - 2s/step\n",
      "Epoch 33/100\n",
      "3/3 - 5s - loss: 0.5361 - accuracy: 0.7192 - val_loss: 0.5464 - val_accuracy: 0.7717 - 5s/epoch - 2s/step\n",
      "Epoch 34/100\n",
      "3/3 - 5s - loss: 0.4512 - accuracy: 0.7466 - val_loss: 0.5821 - val_accuracy: 0.7391 - 5s/epoch - 2s/step\n",
      "Epoch 35/100\n",
      "3/3 - 5s - loss: 0.4856 - accuracy: 0.7397 - val_loss: 0.6169 - val_accuracy: 0.6848 - 5s/epoch - 2s/step\n",
      "Epoch 36/100\n",
      "3/3 - 5s - loss: 0.5883 - accuracy: 0.7192 - val_loss: 0.7293 - val_accuracy: 0.6196 - 5s/epoch - 2s/step\n",
      "Epoch 37/100\n",
      "3/3 - 4s - loss: 0.6359 - accuracy: 0.6986 - val_loss: 0.6058 - val_accuracy: 0.6848 - 4s/epoch - 1s/step\n",
      "Epoch 38/100\n",
      "3/3 - 4s - loss: 0.6213 - accuracy: 0.7123 - val_loss: 0.5261 - val_accuracy: 0.7826 - 4s/epoch - 1s/step\n",
      "Epoch 39/100\n",
      "3/3 - 4s - loss: 0.4899 - accuracy: 0.7466 - val_loss: 0.5584 - val_accuracy: 0.7391 - 4s/epoch - 1s/step\n",
      "Epoch 40/100\n",
      "3/3 - 4s - loss: 0.4758 - accuracy: 0.7671 - val_loss: 0.5358 - val_accuracy: 0.7826 - 4s/epoch - 1s/step\n",
      "Epoch 41/100\n",
      "3/3 - 4s - loss: 0.4362 - accuracy: 0.7671 - val_loss: 0.9991 - val_accuracy: 0.6087 - 4s/epoch - 1s/step\n",
      "Epoch 42/100\n",
      "3/3 - 5s - loss: 0.7537 - accuracy: 0.6301 - val_loss: 0.5786 - val_accuracy: 0.6957 - 5s/epoch - 2s/step\n",
      "Epoch 43/100\n",
      "3/3 - 4s - loss: 0.5831 - accuracy: 0.7329 - val_loss: 0.5248 - val_accuracy: 0.7283 - 4s/epoch - 1s/step\n",
      "Epoch 44/100\n",
      "3/3 - 4s - loss: 0.5229 - accuracy: 0.7260 - val_loss: 0.6644 - val_accuracy: 0.6196 - 4s/epoch - 1s/step\n",
      "Epoch 45/100\n",
      "3/3 - 4s - loss: 0.5840 - accuracy: 0.6986 - val_loss: 0.5095 - val_accuracy: 0.7717 - 4s/epoch - 1s/step\n",
      "Epoch 46/100\n",
      "3/3 - 4s - loss: 0.4560 - accuracy: 0.7603 - val_loss: 0.4972 - val_accuracy: 0.7609 - 4s/epoch - 1s/step\n",
      "Epoch 47/100\n",
      "3/3 - 4s - loss: 0.4617 - accuracy: 0.7192 - val_loss: 0.4994 - val_accuracy: 0.8152 - 4s/epoch - 1s/step\n",
      "Epoch 48/100\n",
      "3/3 - 4s - loss: 0.4301 - accuracy: 0.8014 - val_loss: 0.4972 - val_accuracy: 0.7717 - 4s/epoch - 1s/step\n",
      "Epoch 49/100\n",
      "3/3 - 4s - loss: 0.4242 - accuracy: 0.7808 - val_loss: 0.5230 - val_accuracy: 0.8261 - 4s/epoch - 1s/step\n",
      "Epoch 50/100\n",
      "3/3 - 4s - loss: 0.4053 - accuracy: 0.7808 - val_loss: 0.4960 - val_accuracy: 0.8370 - 4s/epoch - 1s/step\n",
      "Epoch 51/100\n",
      "3/3 - 4s - loss: 0.3851 - accuracy: 0.8562 - val_loss: 0.4857 - val_accuracy: 0.7609 - 4s/epoch - 1s/step\n",
      "Epoch 52/100\n",
      "3/3 - 4s - loss: 0.4461 - accuracy: 0.7466 - val_loss: 0.4960 - val_accuracy: 0.8152 - 4s/epoch - 1s/step\n",
      "Epoch 53/100\n",
      "3/3 - 4s - loss: 0.3947 - accuracy: 0.8151 - val_loss: 0.5217 - val_accuracy: 0.7826 - 4s/epoch - 1s/step\n",
      "Epoch 54/100\n",
      "3/3 - 4s - loss: 0.4172 - accuracy: 0.7603 - val_loss: 0.4974 - val_accuracy: 0.8152 - 4s/epoch - 1s/step\n",
      "Epoch 55/100\n",
      "3/3 - 4s - loss: 0.3868 - accuracy: 0.7945 - val_loss: 0.4983 - val_accuracy: 0.8261 - 4s/epoch - 1s/step\n",
      "Epoch 56/100\n",
      "3/3 - 4s - loss: 0.3970 - accuracy: 0.7945 - val_loss: 0.5076 - val_accuracy: 0.8261 - 4s/epoch - 1s/step\n",
      "Epoch 57/100\n",
      "3/3 - 5s - loss: 0.3656 - accuracy: 0.8219 - val_loss: 0.5029 - val_accuracy: 0.7935 - 5s/epoch - 2s/step\n",
      "Epoch 58/100\n",
      "3/3 - 4s - loss: 0.3956 - accuracy: 0.7603 - val_loss: 0.5096 - val_accuracy: 0.7826 - 4s/epoch - 1s/step\n",
      "Epoch 59/100\n",
      "3/3 - 4s - loss: 0.3670 - accuracy: 0.8219 - val_loss: 0.5853 - val_accuracy: 0.8043 - 4s/epoch - 1s/step\n",
      "Epoch 60/100\n",
      "3/3 - 4s - loss: 0.3882 - accuracy: 0.8082 - val_loss: 0.5417 - val_accuracy: 0.8261 - 4s/epoch - 1s/step\n",
      "Epoch 61/100\n",
      "3/3 - 4s - loss: 0.3673 - accuracy: 0.8151 - val_loss: 0.5251 - val_accuracy: 0.8478 - 4s/epoch - 1s/step\n",
      "Epoch 62/100\n",
      "3/3 - 4s - loss: 0.3909 - accuracy: 0.8151 - val_loss: 0.5042 - val_accuracy: 0.7391 - 4s/epoch - 1s/step\n",
      "Epoch 63/100\n",
      "3/3 - 4s - loss: 0.4045 - accuracy: 0.7877 - val_loss: 0.4845 - val_accuracy: 0.8370 - 4s/epoch - 1s/step\n",
      "Epoch 64/100\n",
      "3/3 - 5s - loss: 0.4069 - accuracy: 0.7740 - val_loss: 0.4861 - val_accuracy: 0.8261 - 5s/epoch - 2s/step\n",
      "Epoch 65/100\n",
      "3/3 - 4s - loss: 0.3664 - accuracy: 0.8493 - val_loss: 0.4624 - val_accuracy: 0.8478 - 4s/epoch - 1s/step\n",
      "Epoch 66/100\n",
      "3/3 - 4s - loss: 0.3738 - accuracy: 0.8288 - val_loss: 0.4933 - val_accuracy: 0.8261 - 4s/epoch - 1s/step\n",
      "Epoch 67/100\n",
      "3/3 - 4s - loss: 0.4085 - accuracy: 0.7945 - val_loss: 0.5172 - val_accuracy: 0.8043 - 4s/epoch - 1s/step\n",
      "Epoch 68/100\n",
      "3/3 - 4s - loss: 0.3728 - accuracy: 0.8288 - val_loss: 0.5074 - val_accuracy: 0.7609 - 4s/epoch - 1s/step\n",
      "Epoch 69/100\n",
      "3/3 - 4s - loss: 0.3776 - accuracy: 0.8014 - val_loss: 0.4938 - val_accuracy: 0.8261 - 4s/epoch - 1s/step\n",
      "Epoch 70/100\n",
      "3/3 - 4s - loss: 0.3497 - accuracy: 0.8493 - val_loss: 0.4795 - val_accuracy: 0.8261 - 4s/epoch - 1s/step\n",
      "Epoch 71/100\n",
      "3/3 - 4s - loss: 0.3894 - accuracy: 0.7877 - val_loss: 0.4811 - val_accuracy: 0.8478 - 4s/epoch - 1s/step\n",
      "Epoch 72/100\n",
      "3/3 - 4s - loss: 0.3600 - accuracy: 0.7945 - val_loss: 0.4825 - val_accuracy: 0.8261 - 4s/epoch - 1s/step\n",
      "Epoch 73/100\n",
      "3/3 - 4s - loss: 0.3715 - accuracy: 0.8014 - val_loss: 0.4825 - val_accuracy: 0.8587 - 4s/epoch - 1s/step\n",
      "Epoch 74/100\n",
      "3/3 - 4s - loss: 0.3378 - accuracy: 0.8219 - val_loss: 0.5002 - val_accuracy: 0.8261 - 4s/epoch - 1s/step\n",
      "Epoch 75/100\n",
      "3/3 - 4s - loss: 0.3353 - accuracy: 0.8219 - val_loss: 0.4744 - val_accuracy: 0.8696 - 4s/epoch - 1s/step\n",
      "Epoch 76/100\n",
      "3/3 - 4s - loss: 0.3290 - accuracy: 0.8562 - val_loss: 0.4939 - val_accuracy: 0.8370 - 4s/epoch - 1s/step\n",
      "Epoch 77/100\n",
      "3/3 - 4s - loss: 0.3344 - accuracy: 0.8425 - val_loss: 0.5413 - val_accuracy: 0.8370 - 4s/epoch - 1s/step\n",
      "Epoch 78/100\n",
      "3/3 - 7s - loss: 0.3560 - accuracy: 0.8288 - val_loss: 0.5167 - val_accuracy: 0.8261 - 7s/epoch - 2s/step\n",
      "Epoch 79/100\n",
      "3/3 - 7s - loss: 0.3076 - accuracy: 0.8082 - val_loss: 0.5020 - val_accuracy: 0.8587 - 7s/epoch - 2s/step\n",
      "Epoch 80/100\n",
      "3/3 - 6s - loss: 0.3029 - accuracy: 0.8630 - val_loss: 0.4955 - val_accuracy: 0.8696 - 6s/epoch - 2s/step\n",
      "Epoch 81/100\n",
      "3/3 - 7s - loss: 0.3063 - accuracy: 0.8493 - val_loss: 0.4978 - val_accuracy: 0.8478 - 7s/epoch - 2s/step\n",
      "Epoch 82/100\n",
      "3/3 - 6s - loss: 0.3077 - accuracy: 0.8493 - val_loss: 0.5237 - val_accuracy: 0.8478 - 6s/epoch - 2s/step\n",
      "Epoch 83/100\n",
      "3/3 - 5s - loss: 0.3103 - accuracy: 0.8425 - val_loss: 0.4944 - val_accuracy: 0.8478 - 5s/epoch - 2s/step\n",
      "Epoch 84/100\n",
      "3/3 - 5s - loss: 0.3291 - accuracy: 0.8493 - val_loss: 0.5207 - val_accuracy: 0.8370 - 5s/epoch - 2s/step\n",
      "Epoch 85/100\n",
      "3/3 - 4s - loss: 0.3054 - accuracy: 0.8356 - val_loss: 0.4983 - val_accuracy: 0.8478 - 4s/epoch - 1s/step\n",
      "Epoch 86/100\n",
      "3/3 - 4s - loss: 0.2763 - accuracy: 0.8836 - val_loss: 0.4769 - val_accuracy: 0.8696 - 4s/epoch - 1s/step\n",
      "Epoch 87/100\n",
      "3/3 - 4s - loss: 0.2819 - accuracy: 0.8904 - val_loss: 0.4786 - val_accuracy: 0.8478 - 4s/epoch - 1s/step\n",
      "Epoch 88/100\n",
      "3/3 - 4s - loss: 0.2994 - accuracy: 0.8493 - val_loss: 0.4855 - val_accuracy: 0.8696 - 4s/epoch - 1s/step\n",
      "Epoch 89/100\n",
      "3/3 - 4s - loss: 0.2732 - accuracy: 0.8630 - val_loss: 0.5103 - val_accuracy: 0.8478 - 4s/epoch - 1s/step\n",
      "Epoch 90/100\n",
      "3/3 - 4s - loss: 0.2495 - accuracy: 0.9041 - val_loss: 0.5446 - val_accuracy: 0.8370 - 4s/epoch - 1s/step\n",
      "Epoch 91/100\n",
      "3/3 - 5s - loss: 0.2500 - accuracy: 0.8904 - val_loss: 0.5379 - val_accuracy: 0.8478 - 5s/epoch - 2s/step\n",
      "Epoch 92/100\n",
      "3/3 - 4s - loss: 0.3448 - accuracy: 0.8356 - val_loss: 0.5039 - val_accuracy: 0.8587 - 4s/epoch - 1s/step\n",
      "Epoch 93/100\n",
      "3/3 - 4s - loss: 0.2887 - accuracy: 0.8767 - val_loss: 0.4942 - val_accuracy: 0.8587 - 4s/epoch - 1s/step\n",
      "Epoch 94/100\n",
      "3/3 - 4s - loss: 0.2994 - accuracy: 0.8356 - val_loss: 0.4798 - val_accuracy: 0.8478 - 4s/epoch - 1s/step\n",
      "Epoch 95/100\n",
      "3/3 - 4s - loss: 0.2581 - accuracy: 0.8699 - val_loss: 0.4756 - val_accuracy: 0.8478 - 4s/epoch - 1s/step\n",
      "Epoch 96/100\n",
      "3/3 - 4s - loss: 0.2453 - accuracy: 0.8973 - val_loss: 0.5142 - val_accuracy: 0.8478 - 4s/epoch - 1s/step\n",
      "Epoch 97/100\n",
      "3/3 - 4s - loss: 0.2505 - accuracy: 0.8973 - val_loss: 0.5240 - val_accuracy: 0.8587 - 4s/epoch - 1s/step\n",
      "Epoch 98/100\n",
      "3/3 - 4s - loss: 0.2484 - accuracy: 0.8904 - val_loss: 0.5789 - val_accuracy: 0.8587 - 4s/epoch - 1s/step\n",
      "Epoch 99/100\n",
      "3/3 - 4s - loss: 0.2326 - accuracy: 0.8973 - val_loss: 0.5987 - val_accuracy: 0.8478 - 4s/epoch - 1s/step\n",
      "Epoch 100/100\n",
      "3/3 - 4s - loss: 0.2321 - accuracy: 0.8630 - val_loss: 0.5954 - val_accuracy: 0.8587 - 4s/epoch - 1s/step\n"
     ]
    },
    {
     "data": {
      "image/png": "[encoded data removed]",
      "text/plain": [
       "<Figure size 640x480 with 1 Axes>"
      ]
     },
     "metadata": {},
     "output_type": "display_data"
    },
    {
     "data": {
      "image/png": "[encoded data removed]",
      "text/plain": [
       "<Figure size 640x480 with 1 Axes>"
      ]
     },
     "metadata": {},
     "output_type": "display_data"
    }
   ],
   "source": [
    "history_cnn = CNN_model.fit(X_train_new, y_train, epochs=100, batch_size=64, validation_data=(X_test_new,y_test), verbose=2)\n",
    "\n",
    "#for plotting losses curve\n",
    "loss_training = history_cnn.history['loss']\n",
    "loss_test = history_cnn.history['val_loss']\n",
    "\n",
    "#for plotting accyracies curve\n",
    "accuracy_training = history_cnn.history['accuracy']\n",
    "accuracy_test = history_cnn.history['val_accuracy']\n",
    "\n",
    "loss_training = history_cnn.history['loss']\n",
    "loss_test = history_cnn.history['val_loss']\n",
    "\n",
    "accuracy_training = history_cnn.history['accuracy']\n",
    "accuracy_test = history_cnn.history['val_accuracy']\n",
    "\n",
    "#for Plotting\n",
    "plt.plot(loss_test)\n",
    "plt.plot(loss_training)\n",
    "\n",
    "#set the titles of losses plot\n",
    "plt.xlabel(\"# Of Epochs\")\n",
    "plt.ylabel(\"Loss\")\n",
    "plt.legend(['val Loss', 'Train Loss'])\n",
    "plt.show()\n",
    "\n",
    "#set the titles of accuracies plot\n",
    "plt.plot(accuracy_test)\n",
    "plt.plot(accuracy_training)\n",
    "plt.xlabel(\"# Of Epochs\")\n",
    "plt.ylabel(\"Accuracy\")\n",
    "plt.legend(['val accuracy', 'Train accuracy'])\n",
    "plt.show()"
   ]
  },
  {
   "cell_type": "code",
   "execution_count": 28,
   "id": "8597601f",
   "metadata": {
    "execution": {
     "iopub.execute_input": "2023-12-27T02:21:58.389148Z",
     "iopub.status.busy": "2023-12-27T02:21:58.387357Z",
     "iopub.status.idle": "2023-12-27T02:21:59.532965Z",
     "shell.execute_reply": "2023-12-27T02:21:59.530941Z"
    },
    "papermill": {
     "duration": 1.177393,
     "end_time": "2023-12-27T02:21:59.535891",
     "exception": false,
     "start_time": "2023-12-27T02:21:58.358498",
     "status": "completed"
    },
    "tags": []
   },
   "outputs": [
    {
     "name": "stdout",
     "output_type": "stream",
     "text": [
      "5/5 [==============================] - 1s 207ms/step - loss: 0.2037 - accuracy: 0.9247\n",
      "Final validation accuraccy: \n",
      "Loss: 0.20371338725090027  Accuracy: 0.9246575236320496\n"
     ]
    }
   ],
   "source": [
    "#calculate and print the validation accuracy\n",
    "scores = CNN_model.evaluate(X_train_new, y_train)\n",
    "print('Final validation accuraccy: ')\n",
    "print(\"Loss:\", scores[0], \" Accuracy:\", scores[1])"
   ]
  },
  {
   "cell_type": "code",
   "execution_count": 29,
   "id": "39d98f4b",
   "metadata": {
    "execution": {
     "iopub.execute_input": "2023-12-27T02:21:59.590237Z",
     "iopub.status.busy": "2023-12-27T02:21:59.589827Z",
     "iopub.status.idle": "2023-12-27T02:22:00.925131Z",
     "shell.execute_reply": "2023-12-27T02:22:00.923088Z"
    },
    "papermill": {
     "duration": 1.366266,
     "end_time": "2023-12-27T02:22:00.927875",
     "exception": false,
     "start_time": "2023-12-27T02:21:59.561609",
     "status": "completed"
    },
    "tags": []
   },
   "outputs": [
    {
     "name": "stdout",
     "output_type": "stream",
     "text": [
      "3/3 [==============================] - 1s 203ms/step - loss: 0.5954 - accuracy: 0.8587\n",
      "Final testing accuraccy: \n",
      "Loss: 0.5954340100288391  Accuracy: 0.8586956262588501\n"
     ]
    }
   ],
   "source": [
    "#calculate and print the testing accuracy\n",
    "scores_test = CNN_model.evaluate(X_test_new, y_test)\n",
    "print('Final testing accuraccy: ')\n",
    "print(\"Loss:\", scores_test[0], \" Accuracy:\", scores_test[1])"
   ]
  },
  {
   "cell_type": "code",
   "execution_count": 30,
   "id": "f7712723",
   "metadata": {
    "execution": {
     "iopub.execute_input": "2023-12-27T02:22:00.978053Z",
     "iopub.status.busy": "2023-12-27T02:22:00.977673Z",
     "iopub.status.idle": "2023-12-27T02:22:02.563328Z",
     "shell.execute_reply": "2023-12-27T02:22:02.561563Z"
    },
    "papermill": {
     "duration": 1.613713,
     "end_time": "2023-12-27T02:22:02.565982",
     "exception": false,
     "start_time": "2023-12-27T02:22:00.952269",
     "status": "completed"
    },
    "tags": []
   },
   "outputs": [
    {
     "name": "stdout",
     "output_type": "stream",
     "text": [
      "3/3 [==============================] - 1s 211ms/step\n"
     ]
    }
   ],
   "source": [
    "#make the model prediction\n",
    "pred = CNN_model.predict(X_test_new)"
   ]
  },
  {
   "cell_type": "code",
   "execution_count": 31,
   "id": "87291e6c",
   "metadata": {
    "execution": {
     "iopub.execute_input": "2023-12-27T02:22:02.616240Z",
     "iopub.status.busy": "2023-12-27T02:22:02.615885Z",
     "iopub.status.idle": "2023-12-27T02:22:02.622417Z",
     "shell.execute_reply": "2023-12-27T02:22:02.621298Z"
    },
    "papermill": {
     "duration": 0.034397,
     "end_time": "2023-12-27T02:22:02.624602",
     "exception": false,
     "start_time": "2023-12-27T02:22:02.590205",
     "status": "completed"
    },
    "tags": []
   },
   "outputs": [],
   "source": [
    "Y_pred = (pred > 0.5) * 1.0\n",
    "Y_pred = Y_pred.reshape(y_test.shape)"
   ]
  },
  {
   "cell_type": "code",
   "execution_count": 32,
   "id": "8f46f189",
   "metadata": {
    "execution": {
     "iopub.execute_input": "2023-12-27T02:22:02.674301Z",
     "iopub.status.busy": "2023-12-27T02:22:02.673944Z",
     "iopub.status.idle": "2023-12-27T02:22:02.689251Z",
     "shell.execute_reply": "2023-12-27T02:22:02.688337Z"
    },
    "papermill": {
     "duration": 0.042558,
     "end_time": "2023-12-27T02:22:02.691192",
     "exception": false,
     "start_time": "2023-12-27T02:22:02.648634",
     "status": "completed"
    },
    "tags": []
   },
   "outputs": [
    {
     "name": "stdout",
     "output_type": "stream",
     "text": [
      "Classification Report:\n",
      "               precision    recall  f1-score   support\n",
      "\n",
      "       False       0.90      0.80      0.85        46\n",
      "        True       0.82      0.91      0.87        46\n",
      "\n",
      "    accuracy                           0.86        92\n",
      "   macro avg       0.86      0.86      0.86        92\n",
      "weighted avg       0.86      0.86      0.86        92\n",
      "\n"
     ]
    }
   ],
   "source": [
    "report = metrics.classification_report(y_test, Y_pred)\n",
    "print(\"Classification Report:\\n\", report)"
   ]
  },
  {
   "cell_type": "code",
   "execution_count": 33,
   "id": "4683496a",
   "metadata": {
    "execution": {
     "iopub.execute_input": "2023-12-27T02:22:02.740892Z",
     "iopub.status.busy": "2023-12-27T02:22:02.740568Z",
     "iopub.status.idle": "2023-12-27T02:22:03.012254Z",
     "shell.execute_reply": "2023-12-27T02:22:03.010655Z"
    },
    "papermill": {
     "duration": 0.300249,
     "end_time": "2023-12-27T02:22:03.015169",
     "exception": false,
     "start_time": "2023-12-27T02:22:02.714920",
     "status": "completed"
    },
    "tags": []
   },
   "outputs": [
    {
     "data": {
      "image/png": "[encoded data removed]",
      "text/plain": [
       "<Figure size 800x600 with 2 Axes>"
      ]
     },
     "metadata": {},
     "output_type": "display_data"
    }
   ],
   "source": [
    "class_labels = list(X_test_new)\n",
    "import seaborn as sns\n",
    "cm = confusion_matrix(y_test, Y_pred)\n",
    "\n",
    "# Hiển thị confusion matrix bằng heatmap\n",
    "plt.figure(figsize=(8, 6))\n",
    "sns.heatmap(cm, annot=True, fmt='d', cmap='Blues',\n",
    "            xticklabels=['Malware', 'Benign'],\n",
    "            yticklabels=['Malware', 'Benign'])\n",
    "plt.title('Confusion Matrix')\n",
    "plt.xlabel('Predicted')\n",
    "plt.ylabel('Actual')\n",
    "plt.show()"
   ]
  }
 ],
 "metadata": {
  "kaggle": {
   "accelerator": "none",
   "dataSources": [
    {
     "datasetId": 4029702,
     "sourceId": 7009208,
     "sourceType": "datasetVersion"
    }
   ],
   "dockerImageVersionId": 30527,
   "isGpuEnabled": false,
   "isInternetEnabled": true,
   "language": "python",
   "sourceType": "notebook"
  },
  "kernelspec": {
   "display_name": "Python 3",
   "language": "python",
   "name": "python3"
  },
  "language_info": {
   "codemirror_mode": {
    "name": "ipython",
    "version": 3
   },
   "file_extension": ".py",
   "mimetype": "text/x-python",
   "name": "python",
   "nbconvert_exporter": "python",
   "pygments_lexer": "ipython3",
   "version": "3.10.12"
  },
  "papermill": {
   "default_parameters": {},
   "duration": 570.358825,
   "end_time": "2023-12-27T02:22:06.174650",
   "environment_variables": {},
   "exception": null,
   "input_path": "__notebook__.ipynb",
   "output_path": "__notebook__.ipynb",
   "parameters": {},
   "start_time": "2023-12-27T02:12:35.815825",
   "version": "2.4.0"
  }
 },
 "nbformat": 4,
 "nbformat_minor": 5
}
