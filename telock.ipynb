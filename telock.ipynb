{
 "cells": [
  {
   "cell_type": "code",
   "execution_count": 1,
   "id": "03d42bb0",
   "metadata": {
    "execution": {
     "iopub.execute_input": "2023-12-27T01:16:25.621309Z",
     "iopub.status.busy": "2023-12-27T01:16:25.620950Z",
     "iopub.status.idle": "2023-12-27T01:16:27.893400Z",
     "shell.execute_reply": "2023-12-27T01:16:27.891822Z"
    },
    "papermill": {
     "duration": 2.29432,
     "end_time": "2023-12-27T01:16:27.897173",
     "exception": false,
     "start_time": "2023-12-27T01:16:25.602853",
     "status": "completed"
    },
    "tags": []
   },
   "outputs": [],
   "source": [
    "import pandas as pd\n",
    "import numpy as np\n",
    "import sklearn\n",
    "import sklearn.naive_bayes\n",
    "import sklearn.ensemble as ske\n",
    "import sklearn.neighbors\n",
    "import sklearn.pipeline\n",
    "import sklearn.linear_model\n",
    "import joblib\n",
    "from sklearn import preprocessing\n",
    "from sklearn import tree, linear_model\n",
    "from sklearn.metrics import confusion_matrix\n",
    "from sklearn.metrics import classification_report\n",
    "from sklearn.feature_selection import SelectFromModel\n",
    "import sys\n",
    "import sqlite3\n",
    "import importlib\n",
    "import matplotlib.pyplot as plt\n",
    "import seaborn as sn\n",
    "from sklearn import metrics"
   ]
  },
  {
   "cell_type": "code",
   "execution_count": 2,
   "id": "d91cf8e4",
   "metadata": {
    "execution": {
     "iopub.execute_input": "2023-12-27T01:16:27.933825Z",
     "iopub.status.busy": "2023-12-27T01:16:27.932743Z",
     "iopub.status.idle": "2023-12-27T01:16:34.668967Z",
     "shell.execute_reply": "2023-12-27T01:16:34.667858Z"
    },
    "papermill": {
     "duration": 6.756791,
     "end_time": "2023-12-27T01:16:34.671608",
     "exception": false,
     "start_time": "2023-12-27T01:16:27.914817",
     "status": "completed"
    },
    "tags": []
   },
   "outputs": [],
   "source": [
    "telock = pd.read_pickle('/kaggle/input/packer-balance-pickle/telock_balance.pickle')"
   ]
  },
  {
   "cell_type": "code",
   "execution_count": 3,
   "id": "7639b9c0",
   "metadata": {
    "execution": {
     "iopub.execute_input": "2023-12-27T01:16:34.704743Z",
     "iopub.status.busy": "2023-12-27T01:16:34.704317Z",
     "iopub.status.idle": "2023-12-27T01:16:35.662579Z",
     "shell.execute_reply": "2023-12-27T01:16:35.661723Z"
    },
    "papermill": {
     "duration": 0.977715,
     "end_time": "2023-12-27T01:16:35.664911",
     "exception": false,
     "start_time": "2023-12-27T01:16:34.687196",
     "status": "completed"
    },
    "tags": []
   },
   "outputs": [],
   "source": [
    "telock = telock.drop(['sample_sha1','benign','unpacked_sample_sha1','unpacked_sample_id'], axis=1)\n",
    "telock = telock.drop(['benign_vt','malicious_vt'], axis=1)"
   ]
  },
  {
   "cell_type": "code",
   "execution_count": 4,
   "id": "8f96ab92",
   "metadata": {
    "execution": {
     "iopub.execute_input": "2023-12-27T01:16:35.698683Z",
     "iopub.status.busy": "2023-12-27T01:16:35.698108Z",
     "iopub.status.idle": "2023-12-27T01:16:36.026218Z",
     "shell.execute_reply": "2023-12-27T01:16:36.025134Z"
    },
    "papermill": {
     "duration": 0.34791,
     "end_time": "2023-12-27T01:16:36.028949",
     "exception": false,
     "start_time": "2023-12-27T01:16:35.681039",
     "status": "completed"
    },
    "tags": []
   },
   "outputs": [],
   "source": [
    "string_columns = telock.select_dtypes(include=['object']).columns\n",
    "telock = telock.drop(string_columns, axis=1)"
   ]
  },
  {
   "cell_type": "code",
   "execution_count": 5,
   "id": "366e05b6",
   "metadata": {
    "execution": {
     "iopub.execute_input": "2023-12-27T01:16:36.061306Z",
     "iopub.status.busy": "2023-12-27T01:16:36.060927Z",
     "iopub.status.idle": "2023-12-27T01:16:36.105722Z",
     "shell.execute_reply": "2023-12-27T01:16:36.104671Z"
    },
    "papermill": {
     "duration": 0.064097,
     "end_time": "2023-12-27T01:16:36.108433",
     "exception": false,
     "start_time": "2023-12-27T01:16:36.044336",
     "status": "completed"
    },
    "tags": []
   },
   "outputs": [
    {
     "data": {
      "text/html": [
       "<div>\n",
       "<style scoped>\n",
       "    .dataframe tbody tr th:only-of-type {\n",
       "        vertical-align: middle;\n",
       "    }\n",
       "\n",
       "    .dataframe tbody tr th {\n",
       "        vertical-align: top;\n",
       "    }\n",
       "\n",
       "    .dataframe thead th {\n",
       "        text-align: right;\n",
       "    }\n",
       "</style>\n",
       "<table border=\"1\" class=\"dataframe\">\n",
       "  <thead>\n",
       "    <tr style=\"text-align: right;\">\n",
       "      <th></th>\n",
       "      <th>malicious</th>\n",
       "      <th>packed</th>\n",
       "      <th>imp_setupremovefilelogentrya</th>\n",
       "      <th>imp_vardeccmp</th>\n",
       "      <th>imp_setdlgitemint</th>\n",
       "      <th>imp_?append@?$basic_string@du?$char_traits@d@std@@v?$allocator@d@2@@std@@qaeaav12@abv12@ii@z</th>\n",
       "      <th>imp_zwwritefile</th>\n",
       "      <th>imp_glstencilop</th>\n",
       "      <th>imp_comparelinkinforeferents</th>\n",
       "      <th>imp__setmbcp</th>\n",
       "      <th>...</th>\n",
       "      <th>opcode_xor sub mov</th>\n",
       "      <th>opcode_xor sub mov add</th>\n",
       "      <th>opcode_xor test</th>\n",
       "      <th>opcode_xor test je</th>\n",
       "      <th>opcode_xor xor</th>\n",
       "      <th>opcode_xor xor mov</th>\n",
       "      <th>opcode_xor xor pop</th>\n",
       "      <th>opcode_xor xor pop mov</th>\n",
       "      <th>opcode_xor xor xor</th>\n",
       "      <th>opcode_xor xor xor pop</th>\n",
       "    </tr>\n",
       "  </thead>\n",
       "  <tbody>\n",
       "    <tr>\n",
       "      <th>12</th>\n",
       "      <td>False</td>\n",
       "      <td>True</td>\n",
       "      <td>False</td>\n",
       "      <td>False</td>\n",
       "      <td>False</td>\n",
       "      <td>False</td>\n",
       "      <td>False</td>\n",
       "      <td>False</td>\n",
       "      <td>False</td>\n",
       "      <td>False</td>\n",
       "      <td>...</td>\n",
       "      <td>0.0</td>\n",
       "      <td>0.0</td>\n",
       "      <td>0.0</td>\n",
       "      <td>0.0</td>\n",
       "      <td>0.0</td>\n",
       "      <td>0.0</td>\n",
       "      <td>0.0</td>\n",
       "      <td>0.0</td>\n",
       "      <td>0.0</td>\n",
       "      <td>0.0</td>\n",
       "    </tr>\n",
       "    <tr>\n",
       "      <th>14</th>\n",
       "      <td>False</td>\n",
       "      <td>True</td>\n",
       "      <td>False</td>\n",
       "      <td>False</td>\n",
       "      <td>False</td>\n",
       "      <td>False</td>\n",
       "      <td>False</td>\n",
       "      <td>False</td>\n",
       "      <td>False</td>\n",
       "      <td>False</td>\n",
       "      <td>...</td>\n",
       "      <td>0.0</td>\n",
       "      <td>0.0</td>\n",
       "      <td>0.0</td>\n",
       "      <td>0.0</td>\n",
       "      <td>0.0</td>\n",
       "      <td>0.0</td>\n",
       "      <td>0.0</td>\n",
       "      <td>0.0</td>\n",
       "      <td>0.0</td>\n",
       "      <td>0.0</td>\n",
       "    </tr>\n",
       "    <tr>\n",
       "      <th>22</th>\n",
       "      <td>True</td>\n",
       "      <td>True</td>\n",
       "      <td>False</td>\n",
       "      <td>False</td>\n",
       "      <td>False</td>\n",
       "      <td>False</td>\n",
       "      <td>False</td>\n",
       "      <td>False</td>\n",
       "      <td>False</td>\n",
       "      <td>False</td>\n",
       "      <td>...</td>\n",
       "      <td>0.0</td>\n",
       "      <td>0.0</td>\n",
       "      <td>0.0</td>\n",
       "      <td>0.0</td>\n",
       "      <td>0.0</td>\n",
       "      <td>0.0</td>\n",
       "      <td>0.0</td>\n",
       "      <td>0.0</td>\n",
       "      <td>0.0</td>\n",
       "      <td>0.0</td>\n",
       "    </tr>\n",
       "    <tr>\n",
       "      <th>29</th>\n",
       "      <td>False</td>\n",
       "      <td>True</td>\n",
       "      <td>False</td>\n",
       "      <td>False</td>\n",
       "      <td>False</td>\n",
       "      <td>False</td>\n",
       "      <td>False</td>\n",
       "      <td>False</td>\n",
       "      <td>False</td>\n",
       "      <td>False</td>\n",
       "      <td>...</td>\n",
       "      <td>0.0</td>\n",
       "      <td>0.0</td>\n",
       "      <td>0.0</td>\n",
       "      <td>0.0</td>\n",
       "      <td>0.0</td>\n",
       "      <td>0.0</td>\n",
       "      <td>0.0</td>\n",
       "      <td>0.0</td>\n",
       "      <td>0.0</td>\n",
       "      <td>0.0</td>\n",
       "    </tr>\n",
       "    <tr>\n",
       "      <th>33</th>\n",
       "      <td>True</td>\n",
       "      <td>True</td>\n",
       "      <td>False</td>\n",
       "      <td>False</td>\n",
       "      <td>False</td>\n",
       "      <td>False</td>\n",
       "      <td>False</td>\n",
       "      <td>False</td>\n",
       "      <td>False</td>\n",
       "      <td>False</td>\n",
       "      <td>...</td>\n",
       "      <td>0.0</td>\n",
       "      <td>0.0</td>\n",
       "      <td>0.0</td>\n",
       "      <td>0.0</td>\n",
       "      <td>0.0</td>\n",
       "      <td>0.0</td>\n",
       "      <td>0.0</td>\n",
       "      <td>0.0</td>\n",
       "      <td>0.0</td>\n",
       "      <td>0.0</td>\n",
       "    </tr>\n",
       "  </tbody>\n",
       "</table>\n",
       "<p>5 rows × 56526 columns</p>\n",
       "</div>"
      ],
      "text/plain": [
       "    malicious  packed  imp_setupremovefilelogentrya  imp_vardeccmp  \\\n",
       "12      False    True                         False          False   \n",
       "14      False    True                         False          False   \n",
       "22       True    True                         False          False   \n",
       "29      False    True                         False          False   \n",
       "33       True    True                         False          False   \n",
       "\n",
       "    imp_setdlgitemint  \\\n",
       "12              False   \n",
       "14              False   \n",
       "22              False   \n",
       "29              False   \n",
       "33              False   \n",
       "\n",
       "    imp_?append@?$basic_string@du?$char_traits@d@std@@v?$allocator@d@2@@std@@qaeaav12@abv12@ii@z  \\\n",
       "12                                              False                                              \n",
       "14                                              False                                              \n",
       "22                                              False                                              \n",
       "29                                              False                                              \n",
       "33                                              False                                              \n",
       "\n",
       "    imp_zwwritefile  imp_glstencilop  imp_comparelinkinforeferents  \\\n",
       "12            False            False                         False   \n",
       "14            False            False                         False   \n",
       "22            False            False                         False   \n",
       "29            False            False                         False   \n",
       "33            False            False                         False   \n",
       "\n",
       "    imp__setmbcp  ...  opcode_xor sub mov  opcode_xor sub mov add  \\\n",
       "12         False  ...                 0.0                     0.0   \n",
       "14         False  ...                 0.0                     0.0   \n",
       "22         False  ...                 0.0                     0.0   \n",
       "29         False  ...                 0.0                     0.0   \n",
       "33         False  ...                 0.0                     0.0   \n",
       "\n",
       "    opcode_xor test  opcode_xor test je  opcode_xor xor  opcode_xor xor mov  \\\n",
       "12              0.0                 0.0             0.0                 0.0   \n",
       "14              0.0                 0.0             0.0                 0.0   \n",
       "22              0.0                 0.0             0.0                 0.0   \n",
       "29              0.0                 0.0             0.0                 0.0   \n",
       "33              0.0                 0.0             0.0                 0.0   \n",
       "\n",
       "    opcode_xor xor pop  opcode_xor xor pop mov  opcode_xor xor xor  \\\n",
       "12                 0.0                     0.0                 0.0   \n",
       "14                 0.0                     0.0                 0.0   \n",
       "22                 0.0                     0.0                 0.0   \n",
       "29                 0.0                     0.0                 0.0   \n",
       "33                 0.0                     0.0                 0.0   \n",
       "\n",
       "    opcode_xor xor xor pop  \n",
       "12                     0.0  \n",
       "14                     0.0  \n",
       "22                     0.0  \n",
       "29                     0.0  \n",
       "33                     0.0  \n",
       "\n",
       "[5 rows x 56526 columns]"
      ]
     },
     "execution_count": 5,
     "metadata": {},
     "output_type": "execute_result"
    }
   ],
   "source": [
    "telock.head()"
   ]
  },
  {
   "cell_type": "code",
   "execution_count": 6,
   "id": "92ef8169",
   "metadata": {
    "execution": {
     "iopub.execute_input": "2023-12-27T01:16:36.141876Z",
     "iopub.status.busy": "2023-12-27T01:16:36.141219Z",
     "iopub.status.idle": "2023-12-27T01:16:37.023516Z",
     "shell.execute_reply": "2023-12-27T01:16:37.022692Z"
    },
    "papermill": {
     "duration": 0.901774,
     "end_time": "2023-12-27T01:16:37.025935",
     "exception": false,
     "start_time": "2023-12-27T01:16:36.124161",
     "status": "completed"
    },
    "tags": []
   },
   "outputs": [],
   "source": [
    "df_7000 = telock.sample(n=7000, random_state=102)\n",
    "df_3000 = telock.drop(df_7000.index)"
   ]
  },
  {
   "cell_type": "code",
   "execution_count": 7,
   "id": "e1a71dac",
   "metadata": {
    "execution": {
     "iopub.execute_input": "2023-12-27T01:16:37.059207Z",
     "iopub.status.busy": "2023-12-27T01:16:37.058812Z",
     "iopub.status.idle": "2023-12-27T01:16:37.488632Z",
     "shell.execute_reply": "2023-12-27T01:16:37.487835Z"
    },
    "papermill": {
     "duration": 0.449317,
     "end_time": "2023-12-27T01:16:37.490988",
     "exception": false,
     "start_time": "2023-12-27T01:16:37.041671",
     "status": "completed"
    },
    "tags": []
   },
   "outputs": [],
   "source": [
    "data = df_7000.sample(n=3500, random_state=102)"
   ]
  },
  {
   "cell_type": "code",
   "execution_count": 8,
   "id": "4a5d1007",
   "metadata": {
    "execution": {
     "iopub.execute_input": "2023-12-27T01:16:37.525117Z",
     "iopub.status.busy": "2023-12-27T01:16:37.524456Z",
     "iopub.status.idle": "2023-12-27T01:16:37.893176Z",
     "shell.execute_reply": "2023-12-27T01:16:37.891594Z"
    },
    "papermill": {
     "duration": 0.38856,
     "end_time": "2023-12-27T01:16:37.895691",
     "exception": false,
     "start_time": "2023-12-27T01:16:37.507131",
     "status": "completed"
    },
    "tags": []
   },
   "outputs": [
    {
     "name": "stdout",
     "output_type": "stream",
     "text": [
      "Packed Malware: 2995 samples\n",
      "Packed Benign: 505 samples\n",
      "Total TRAIN set: 3500 samples\n"
     ]
    }
   ],
   "source": [
    "#Kiểm tra số lượng mẫu\n",
    "PM = data[(data['malicious'] == True) & (data['packed'] == True)].shape[0]\n",
    "PB = data[(data['malicious'] == False) & (data['packed'] == True)].shape[0]\n",
    "print('Packed Malware: %i samples' % PM)\n",
    "print('Packed Benign: %i samples' % PB)\n",
    "print('Total TRAIN set: %i samples'% (PM+PB))"
   ]
  },
  {
   "cell_type": "code",
   "execution_count": 9,
   "id": "2ed5789d",
   "metadata": {
    "execution": {
     "iopub.execute_input": "2023-12-27T01:16:37.929464Z",
     "iopub.status.busy": "2023-12-27T01:16:37.929061Z",
     "iopub.status.idle": "2023-12-27T01:16:38.518356Z",
     "shell.execute_reply": "2023-12-27T01:16:38.517087Z"
    },
    "papermill": {
     "duration": 0.609083,
     "end_time": "2023-12-27T01:16:38.520983",
     "exception": false,
     "start_time": "2023-12-27T01:16:37.911900",
     "status": "completed"
    },
    "tags": []
   },
   "outputs": [],
   "source": [
    "#Chia tỉ lệ 50 - 50\n",
    "data_PM = data[(data['malicious'] == True) & (data['packed'] == True)].sample(n=(PM-PB), random_state=102)\n",
    "data = data.drop(data_PM.index)"
   ]
  },
  {
   "cell_type": "code",
   "execution_count": 10,
   "id": "d4dda870",
   "metadata": {
    "execution": {
     "iopub.execute_input": "2023-12-27T01:16:38.616093Z",
     "iopub.status.busy": "2023-12-27T01:16:38.615681Z",
     "iopub.status.idle": "2023-12-27T01:16:38.713952Z",
     "shell.execute_reply": "2023-12-27T01:16:38.712848Z"
    },
    "papermill": {
     "duration": 0.179361,
     "end_time": "2023-12-27T01:16:38.716339",
     "exception": false,
     "start_time": "2023-12-27T01:16:38.536978",
     "status": "completed"
    },
    "tags": []
   },
   "outputs": [
    {
     "name": "stdout",
     "output_type": "stream",
     "text": [
      "Packed Malware: 505 samples\n",
      "Packed Benign: 505 samples\n",
      "Total TRAIN set: 1010 samples\n"
     ]
    }
   ],
   "source": [
    "#Số lượng tập train\n",
    "PM = data[(data['malicious'] == True) & (data['packed'] == True)].shape[0]\n",
    "PB = data[(data['malicious'] == False) & (data['packed'] == True)].shape[0]\n",
    "print('Packed Malware: %i samples' % PM)\n",
    "print('Packed Benign: %i samples' % PB)\n",
    "print('Total TRAIN set: %i samples'% (PM+PB))"
   ]
  },
  {
   "cell_type": "code",
   "execution_count": 11,
   "id": "742338d8",
   "metadata": {
    "execution": {
     "iopub.execute_input": "2023-12-27T01:16:38.751106Z",
     "iopub.status.busy": "2023-12-27T01:16:38.750717Z",
     "iopub.status.idle": "2023-12-27T01:16:38.796505Z",
     "shell.execute_reply": "2023-12-27T01:16:38.795341Z"
    },
    "papermill": {
     "duration": 0.066131,
     "end_time": "2023-12-27T01:16:38.799061",
     "exception": false,
     "start_time": "2023-12-27T01:16:38.732930",
     "status": "completed"
    },
    "tags": []
   },
   "outputs": [],
   "source": [
    "#Xử lý tập train\n",
    "y = data['malicious'].values\n",
    "data = data.drop(['malicious','packed'], axis=1)"
   ]
  },
  {
   "cell_type": "code",
   "execution_count": 12,
   "id": "eab34bdb",
   "metadata": {
    "execution": {
     "iopub.execute_input": "2023-12-27T01:16:38.834478Z",
     "iopub.status.busy": "2023-12-27T01:16:38.834100Z",
     "iopub.status.idle": "2023-12-27T01:16:39.632091Z",
     "shell.execute_reply": "2023-12-27T01:16:39.630576Z"
    },
    "papermill": {
     "duration": 0.818026,
     "end_time": "2023-12-27T01:16:39.634175",
     "exception": false,
     "start_time": "2023-12-27T01:16:38.816149",
     "status": "completed"
    },
    "tags": []
   },
   "outputs": [
    {
     "name": "stdout",
     "output_type": "stream",
     "text": [
      "Packed Malware: 432 samples\n",
      "Packed Benign: 432 samples\n",
      "Total TEST set: 864 samples\n"
     ]
    }
   ],
   "source": [
    "PM = df_3000[(df_3000['malicious'] == True) & (df_3000['packed'] == True)].shape[0]\n",
    "PB = df_3000[(df_3000['malicious'] == False) & (df_3000['packed'] == True)].shape[0]\n",
    "\n",
    "df_3000_PM = df_3000[(df_3000['malicious'] == True) & (df_3000['packed'] == True)].sample(n=(PM-PB), random_state=102)\n",
    "df_3000 = df_3000.drop(df_3000_PM.index)\n",
    "\n",
    "PM = df_3000[(df_3000['malicious'] == True) & (df_3000['packed'] == True)].shape[0]\n",
    "PB = df_3000[(df_3000['malicious'] == False) & (df_3000['packed'] == True)].shape[0]\n",
    "\n",
    "print('Packed Malware: %i samples' % PM)\n",
    "print('Packed Benign: %i samples' % PB)\n",
    "print('Total TEST set: %i samples'% (PM+PB))"
   ]
  },
  {
   "cell_type": "code",
   "execution_count": 13,
   "id": "8ae8a74a",
   "metadata": {
    "execution": {
     "iopub.execute_input": "2023-12-27T01:16:39.668841Z",
     "iopub.status.busy": "2023-12-27T01:16:39.667874Z",
     "iopub.status.idle": "2023-12-27T01:16:39.870704Z",
     "shell.execute_reply": "2023-12-27T01:16:39.869723Z"
    },
    "papermill": {
     "duration": 0.223665,
     "end_time": "2023-12-27T01:16:39.874153",
     "exception": false,
     "start_time": "2023-12-27T01:16:39.650488",
     "status": "completed"
    },
    "tags": []
   },
   "outputs": [],
   "source": [
    "# model = SelectFromModel(fsel, prefit=True)\n",
    "\n",
    "X_train = data\n",
    "X_test = df_3000.drop(['malicious','packed'], axis=1)\n",
    "\n",
    "data = data.loc[:, (data != 0).any(axis=0)]\n",
    "x_train = data\n",
    "X_test = df_3000.drop(['malicious','packed'], axis=1)\n",
    "y_train = y\n",
    "y_test = df_3000['malicious'].values"
   ]
  },
  {
   "cell_type": "code",
   "execution_count": 14,
   "id": "bbf0764f",
   "metadata": {
    "execution": {
     "iopub.execute_input": "2023-12-27T01:16:39.912067Z",
     "iopub.status.busy": "2023-12-27T01:16:39.911052Z",
     "iopub.status.idle": "2023-12-27T01:16:42.711415Z",
     "shell.execute_reply": "2023-12-27T01:16:42.710335Z"
    },
    "papermill": {
     "duration": 2.82095,
     "end_time": "2023-12-27T01:16:42.713605",
     "exception": false,
     "start_time": "2023-12-27T01:16:39.892655",
     "status": "completed"
    },
    "tags": []
   },
   "outputs": [
    {
     "name": "stdout",
     "output_type": "stream",
     "text": [
      "The accuracy of the Random Forests model is :\t 0.8495370370370371\n"
     ]
    }
   ],
   "source": [
    "# Random Forest\n",
    "from sklearn.ensemble import RandomForestClassifier\n",
    "from sklearn import metrics\n",
    "\n",
    "random_forest = RandomForestClassifier(n_estimators=100, random_state=17)\n",
    "random_forest.fit(X_train, y_train)\n",
    "random_forest_preds = random_forest.predict(X_test)\n",
    "print('The accuracy of the Random Forests model is :\\t',metrics.accuracy_score(random_forest_preds,y_test))"
   ]
  },
  {
   "cell_type": "code",
   "execution_count": 15,
   "id": "687fda90",
   "metadata": {
    "execution": {
     "iopub.execute_input": "2023-12-27T01:16:42.748401Z",
     "iopub.status.busy": "2023-12-27T01:16:42.747461Z",
     "iopub.status.idle": "2023-12-27T01:16:42.808987Z",
     "shell.execute_reply": "2023-12-27T01:16:42.807966Z"
    },
    "papermill": {
     "duration": 0.081371,
     "end_time": "2023-12-27T01:16:42.811312",
     "exception": false,
     "start_time": "2023-12-27T01:16:42.729941",
     "status": "completed"
    },
    "tags": []
   },
   "outputs": [
    {
     "data": {
      "text/plain": [
       "pesectionProcessed_sectionsMeanSize           0.006096\n",
       "header_BaseOfData                             0.005977\n",
       "pesectionProcessed_sectionsMeanVirtualSize    0.005230\n",
       "pesection_4_virtualAddress                    0.005220\n",
       "pesection_4_virtualSize                       0.005029\n",
       "                                                ...   \n",
       "nss3.dll                                      0.000000\n",
       "imp_pr_now                                    0.000000\n",
       "imp_pr_smprintf                               0.000000\n",
       "imp_pr_smprintf_free                          0.000000\n",
       "opcode_xor xor xor pop                        0.000000\n",
       "Length: 56524, dtype: float64"
      ]
     },
     "execution_count": 15,
     "metadata": {},
     "output_type": "execute_result"
    }
   ],
   "source": [
    "feature_scores_rf = pd.Series(random_forest.feature_importances_, index=X_train.columns).sort_values(ascending=False)\n",
    "\n",
    "feature_scores_rf"
   ]
  },
  {
   "cell_type": "code",
   "execution_count": 16,
   "id": "042b09bd",
   "metadata": {
    "execution": {
     "iopub.execute_input": "2023-12-27T01:16:42.846176Z",
     "iopub.status.busy": "2023-12-27T01:16:42.845808Z",
     "iopub.status.idle": "2023-12-27T01:16:42.897405Z",
     "shell.execute_reply": "2023-12-27T01:16:42.896507Z"
    },
    "papermill": {
     "duration": 0.072196,
     "end_time": "2023-12-27T01:16:42.899919",
     "exception": false,
     "start_time": "2023-12-27T01:16:42.827723",
     "status": "completed"
    },
    "tags": []
   },
   "outputs": [],
   "source": [
    "top50 = pd.Series(random_forest.feature_importances_, index=X_train.columns).sort_values(ascending=False).head(50)"
   ]
  },
  {
   "cell_type": "code",
   "execution_count": 17,
   "id": "5e931131",
   "metadata": {
    "execution": {
     "iopub.execute_input": "2023-12-27T01:16:42.935423Z",
     "iopub.status.busy": "2023-12-27T01:16:42.935070Z",
     "iopub.status.idle": "2023-12-27T01:16:42.948963Z",
     "shell.execute_reply": "2023-12-27T01:16:42.948085Z"
    },
    "papermill": {
     "duration": 0.034659,
     "end_time": "2023-12-27T01:16:42.951447",
     "exception": false,
     "start_time": "2023-12-27T01:16:42.916788",
     "status": "completed"
    },
    "tags": []
   },
   "outputs": [
    {
     "name": "stdout",
     "output_type": "stream",
     "text": [
      "'ngram': 4\n",
      "'opcode ngram': 0\n",
      "'generic': 1\n",
      "'strings': 0\n",
      "'rich header': 3\n",
      "'api import': 0\n",
      "'dll': 0\n",
      "'pe section': 39\n",
      "'pe header': 3\n"
     ]
    }
   ],
   "source": [
    "# Tạo DataFrame từ feature_scores_rf\n",
    "df_features = pd.DataFrame(top50, columns=['Score'])\n",
    "\n",
    "count_ngram = df_features[df_features.index.str.startswith('ngram_')].shape[0]\n",
    "count_opcode = df_features[df_features.index.str.startswith('opcode_')].shape[0]\n",
    "count_generic = df_features[df_features.index.str.startswith('generic_')].shape[0]\n",
    "count_string = df_features[df_features.index.str.startswith('string_')].shape[0]\n",
    "count_rich = df_features[df_features.index.str.startswith('rich_')].shape[0]\n",
    "# count_api = df_features[df_features.index.str.startswith('imp_') or 'api_import_nb' == c].shape[0]\n",
    "# count_dll = df_features[df_features.index.str.startswith('.dll') or 'dll_import_nb' == c].shape[0]\n",
    "count_api = df_features[df_features.index.str.startswith('imp_') | (df_features.index == 'api_import_nb')].shape[0]\n",
    "count_dll = df_features[df_features.index.str.endswith('.dll') | (df_features.index == 'dll_import_nb')].shape[0]\n",
    "count_section = df_features[df_features.index.str.startswith('pesection')].shape[0]\n",
    "count_header = df_features[df_features.index.str.startswith('header_')].shape[0]\n",
    "\n",
    "print(f\"'ngram': {count_ngram}\")\n",
    "print(f\"'opcode ngram': {count_opcode}\")\n",
    "print(f\"'generic': {count_generic}\")\n",
    "print(f\"'strings': {count_string}\")\n",
    "print(f\"'rich header': {count_rich}\")\n",
    "print(f\"'api import': {count_api}\")\n",
    "print(f\"'dll': {count_dll}\")\n",
    "print(f\"'pe section': {count_section}\")\n",
    "print(f\"'pe header': {count_header}\")"
   ]
  },
  {
   "cell_type": "code",
   "execution_count": 18,
   "id": "5d8c0485",
   "metadata": {
    "execution": {
     "iopub.execute_input": "2023-12-27T01:16:42.986217Z",
     "iopub.status.busy": "2023-12-27T01:16:42.985855Z",
     "iopub.status.idle": "2023-12-27T01:16:42.995513Z",
     "shell.execute_reply": "2023-12-27T01:16:42.994499Z"
    },
    "papermill": {
     "duration": 0.029577,
     "end_time": "2023-12-27T01:16:42.997696",
     "exception": false,
     "start_time": "2023-12-27T01:16:42.968119",
     "status": "completed"
    },
    "tags": []
   },
   "outputs": [],
   "source": [
    "cols = list(telock.columns)"
   ]
  },
  {
   "cell_type": "markdown",
   "id": "fa598d71",
   "metadata": {
    "papermill": {
     "duration": 0.016251,
     "end_time": "2023-12-27T01:16:43.030457",
     "exception": false,
     "start_time": "2023-12-27T01:16:43.014206",
     "status": "completed"
    },
    "tags": []
   },
   "source": [
    "# **ngram features**"
   ]
  },
  {
   "cell_type": "code",
   "execution_count": 19,
   "id": "66bed85a",
   "metadata": {
    "execution": {
     "iopub.execute_input": "2023-12-27T01:16:43.065019Z",
     "iopub.status.busy": "2023-12-27T01:16:43.064627Z",
     "iopub.status.idle": "2023-12-27T01:16:44.824161Z",
     "shell.execute_reply": "2023-12-27T01:16:44.823148Z"
    },
    "papermill": {
     "duration": 1.779834,
     "end_time": "2023-12-27T01:16:44.826682",
     "exception": false,
     "start_time": "2023-12-27T01:16:43.046848",
     "status": "completed"
    },
    "tags": []
   },
   "outputs": [],
   "source": [
    "telock = pd.read_pickle('/kaggle/input/packer-balance-pickle/telock_balance.pickle')\n",
    "telock = telock.drop(['sample_sha1','benign','unpacked_sample_sha1','unpacked_sample_id'], axis=1)\n",
    "telock = telock.drop(['benign_vt','malicious_vt'], axis=1)\n",
    "string_columns = telock.select_dtypes(include=['object']).columns\n",
    "telock = telock.drop(string_columns, axis=1)"
   ]
  },
  {
   "cell_type": "code",
   "execution_count": 20,
   "id": "14009fb3",
   "metadata": {
    "execution": {
     "iopub.execute_input": "2023-12-27T01:16:44.862686Z",
     "iopub.status.busy": "2023-12-27T01:16:44.862335Z",
     "iopub.status.idle": "2023-12-27T01:16:44.867242Z",
     "shell.execute_reply": "2023-12-27T01:16:44.866222Z"
    },
    "papermill": {
     "duration": 0.027619,
     "end_time": "2023-12-27T01:16:44.870804",
     "exception": false,
     "start_time": "2023-12-27T01:16:44.843185",
     "status": "completed"
    },
    "tags": []
   },
   "outputs": [],
   "source": [
    "def remove_cols(df, ll):\n",
    "    print(\"removing {} features\".format(len(ll)))\n",
    "    df.drop(columns=ll, axis=1, inplace=True)\n",
    "    return df"
   ]
  },
  {
   "cell_type": "code",
   "execution_count": 21,
   "id": "bc3d68fc",
   "metadata": {
    "execution": {
     "iopub.execute_input": "2023-12-27T01:16:44.906698Z",
     "iopub.status.busy": "2023-12-27T01:16:44.905474Z",
     "iopub.status.idle": "2023-12-27T01:16:46.260953Z",
     "shell.execute_reply": "2023-12-27T01:16:46.259867Z"
    },
    "papermill": {
     "duration": 1.375952,
     "end_time": "2023-12-27T01:16:46.263394",
     "exception": false,
     "start_time": "2023-12-27T01:16:44.887442",
     "status": "completed"
    },
    "tags": []
   },
   "outputs": [
    {
     "name": "stdout",
     "output_type": "stream",
     "text": [
      "removing 2500 features\n",
      "removing 2 features\n",
      "removing 16900 features\n",
      "removing 66 features\n",
      "removing 19169 features\n",
      "removing 4306 features\n",
      "removing 550 features\n",
      "removing 29 features\n"
     ]
    }
   ],
   "source": [
    "# ngram = remove_cols(df, [c for c in cols if c.startswith('ngram_')])\n",
    "ngram = remove_cols(telock, [c for c in cols if c.startswith('opcode_')])\n",
    "ngram = remove_cols(telock, [c for c in cols if c.startswith('generic_')])\n",
    "ngram = remove_cols(telock, [c for c in cols if c.startswith('string_')])\n",
    "ngram = remove_cols(telock, [c for c in cols if c.startswith('rich_')])\n",
    "ngram = remove_cols(telock, [c for c in cols if c.startswith('imp_') or 'api_import_nb' == c])\n",
    "ngram = remove_cols(telock, [c for c in cols if c.endswith('.dll') or 'dll_import_nb' == c])\n",
    "ngram = remove_cols(telock, [c for c in cols if c.startswith('pesection')])\n",
    "ngram = remove_cols(telock, [c for c in cols if c.startswith('header_')])"
   ]
  },
  {
   "cell_type": "code",
   "execution_count": 22,
   "id": "ab22e81b",
   "metadata": {
    "execution": {
     "iopub.execute_input": "2023-12-27T01:16:46.298763Z",
     "iopub.status.busy": "2023-12-27T01:16:46.298413Z",
     "iopub.status.idle": "2023-12-27T01:16:46.556926Z",
     "shell.execute_reply": "2023-12-27T01:16:46.555673Z"
    },
    "papermill": {
     "duration": 0.279483,
     "end_time": "2023-12-27T01:16:46.559662",
     "exception": false,
     "start_time": "2023-12-27T01:16:46.280179",
     "status": "completed"
    },
    "tags": []
   },
   "outputs": [],
   "source": [
    "df_7000_ngram = ngram.sample(n=7000, random_state=102)\n",
    "df_3000_ngram = ngram.drop(df_7000.index)\n",
    "data_ngram = df_7000_ngram.sample(n=3500, random_state=102)"
   ]
  },
  {
   "cell_type": "code",
   "execution_count": 23,
   "id": "a6aba47c",
   "metadata": {
    "execution": {
     "iopub.execute_input": "2023-12-27T01:16:46.598502Z",
     "iopub.status.busy": "2023-12-27T01:16:46.597737Z",
     "iopub.status.idle": "2023-12-27T01:16:46.931376Z",
     "shell.execute_reply": "2023-12-27T01:16:46.930131Z"
    },
    "papermill": {
     "duration": 0.355773,
     "end_time": "2023-12-27T01:16:46.934077",
     "exception": false,
     "start_time": "2023-12-27T01:16:46.578304",
     "status": "completed"
    },
    "tags": []
   },
   "outputs": [
    {
     "name": "stdout",
     "output_type": "stream",
     "text": [
      "Packed Malware: 2995 samples\n",
      "Packed Benign: 505 samples\n",
      "Total TRAIN set: 3500 samples\n",
      "Packed Malware: 505 samples\n",
      "Packed Benign: 505 samples\n",
      "Total TRAIN set: 1010 samples\n",
      "Packed Malware: 432 samples\n",
      "Packed Benign: 432 samples\n",
      "Total TEST set: 864 samples\n"
     ]
    }
   ],
   "source": [
    "#Kiểm tra số lượng mẫu\n",
    "PM = data_ngram[(data_ngram['malicious'] == True) & (data_ngram['packed'] == True)].shape[0]\n",
    "PB = data_ngram[(data_ngram['malicious'] == False) & (data_ngram['packed'] == True)].shape[0]\n",
    "print('Packed Malware: %i samples' % PM)\n",
    "print('Packed Benign: %i samples' % PB)\n",
    "print('Total TRAIN set: %i samples'% (PM+PB))\n",
    "\n",
    "#Chia tỉ lệ 50 - 50\n",
    "data_PM_ngram = data_ngram[(data_ngram['malicious'] == True) & (data_ngram['packed'] == True)].sample(n=(PM-PB), random_state=102)\n",
    "data_ngram = data_ngram.drop(data_PM_ngram.index)\n",
    "\n",
    "#Số lượng tập train\n",
    "PM = data_ngram[(data_ngram['malicious'] == True) & (data_ngram['packed'] == True)].shape[0]\n",
    "PB = data_ngram[(data_ngram['malicious'] == False) & (data_ngram['packed'] == True)].shape[0]\n",
    "print('Packed Malware: %i samples' % PM)\n",
    "print('Packed Benign: %i samples' % PB)\n",
    "print('Total TRAIN set: %i samples'% (PM+PB))\n",
    "\n",
    "#Xử lý tập train\n",
    "y = data_ngram['malicious'].values\n",
    "data_ngram = data_ngram.drop(['malicious','packed'], axis=1)\n",
    "\n",
    "PM = df_3000_ngram[(df_3000_ngram['malicious'] == True) & (df_3000_ngram['packed'] == True)].shape[0]\n",
    "PB = df_3000_ngram[(df_3000_ngram['malicious'] == False) & (df_3000_ngram['packed'] == True)].shape[0]\n",
    "\n",
    "df_3000_PM_ngram = df_3000_ngram[(df_3000_ngram['malicious'] == True) & (df_3000_ngram['packed'] == True)].sample(n=(PM-PB), random_state=102)\n",
    "df_3000_ngram = df_3000_ngram.drop(df_3000_PM.index)\n",
    "\n",
    "PM = df_3000_ngram[(df_3000_ngram['malicious'] == True) & (df_3000_ngram['packed'] == True)].shape[0]\n",
    "PB = df_3000_ngram[(df_3000_ngram['malicious'] == False) & (df_3000_ngram['packed'] == True)].shape[0]\n",
    "\n",
    "print('Packed Malware: %i samples' % PM)\n",
    "print('Packed Benign: %i samples' % PB)\n",
    "print('Total TEST set: %i samples'% (PM+PB))"
   ]
  },
  {
   "cell_type": "code",
   "execution_count": 24,
   "id": "3a8b95ac",
   "metadata": {
    "execution": {
     "iopub.execute_input": "2023-12-27T01:16:46.973593Z",
     "iopub.status.busy": "2023-12-27T01:16:46.972437Z",
     "iopub.status.idle": "2023-12-27T01:16:47.011343Z",
     "shell.execute_reply": "2023-12-27T01:16:47.010318Z"
    },
    "papermill": {
     "duration": 0.062505,
     "end_time": "2023-12-27T01:16:47.013830",
     "exception": false,
     "start_time": "2023-12-27T01:16:46.951325",
     "status": "completed"
    },
    "tags": []
   },
   "outputs": [],
   "source": [
    "# model = SelectFromModel(fsel, prefit=True)\n",
    "\n",
    "X_train_ngram = data_ngram\n",
    "X_test_ngram = df_3000_ngram.drop(['malicious','packed'], axis=1)\n",
    "\n",
    "data_ngram = data_ngram.loc[:, (data_ngram != 0).any(axis=0)]\n",
    "x_train_ngram = data_ngram\n",
    "X_test_ngram = df_3000_ngram.drop(['malicious','packed'], axis=1)\n",
    "y_train_ngram = y\n",
    "y_test_ngram = df_3000_ngram['malicious'].values"
   ]
  },
  {
   "cell_type": "code",
   "execution_count": 25,
   "id": "fcf287a1",
   "metadata": {
    "execution": {
     "iopub.execute_input": "2023-12-27T01:16:47.050245Z",
     "iopub.status.busy": "2023-12-27T01:16:47.049826Z",
     "iopub.status.idle": "2023-12-27T01:16:48.969300Z",
     "shell.execute_reply": "2023-12-27T01:16:48.968142Z"
    },
    "papermill": {
     "duration": 1.940593,
     "end_time": "2023-12-27T01:16:48.971641",
     "exception": false,
     "start_time": "2023-12-27T01:16:47.031048",
     "status": "completed"
    },
    "tags": []
   },
   "outputs": [
    {
     "name": "stdout",
     "output_type": "stream",
     "text": [
      "The accuracy of the Random Forests model is :\t 0.875\n"
     ]
    }
   ],
   "source": [
    "# Random Forest\n",
    "from sklearn.ensemble import RandomForestClassifier\n",
    "from sklearn import metrics\n",
    "\n",
    "random_forest = RandomForestClassifier(n_estimators=100, random_state=17)\n",
    "random_forest.fit(X_train_ngram, y_train_ngram)\n",
    "random_forest_preds = random_forest.predict(X_test_ngram)\n",
    "print('The accuracy of the Random Forests model is :\\t',metrics.accuracy_score(random_forest_preds,y_test_ngram))"
   ]
  },
  {
   "cell_type": "markdown",
   "id": "ef8e2525",
   "metadata": {
    "papermill": {
     "duration": 0.018743,
     "end_time": "2023-12-27T01:16:49.008681",
     "exception": false,
     "start_time": "2023-12-27T01:16:48.989938",
     "status": "completed"
    },
    "tags": []
   },
   "source": [
    "# **opcode features**"
   ]
  },
  {
   "cell_type": "code",
   "execution_count": 26,
   "id": "c6b57822",
   "metadata": {
    "execution": {
     "iopub.execute_input": "2023-12-27T01:16:49.046648Z",
     "iopub.status.busy": "2023-12-27T01:16:49.046233Z",
     "iopub.status.idle": "2023-12-27T01:16:50.731303Z",
     "shell.execute_reply": "2023-12-27T01:16:50.730233Z"
    },
    "papermill": {
     "duration": 1.706198,
     "end_time": "2023-12-27T01:16:50.733798",
     "exception": false,
     "start_time": "2023-12-27T01:16:49.027600",
     "status": "completed"
    },
    "tags": []
   },
   "outputs": [],
   "source": [
    "telock = pd.read_pickle('/kaggle/input/packer-balance-pickle/telock_balance.pickle')\n",
    "telock = telock.drop(['sample_sha1','benign','unpacked_sample_sha1','unpacked_sample_id'], axis=1)\n",
    "telock = telock.drop(['benign_vt','malicious_vt'], axis=1)\n",
    "string_columns = telock.select_dtypes(include=['object']).columns\n",
    "telock = telock.drop(string_columns, axis=1)"
   ]
  },
  {
   "cell_type": "code",
   "execution_count": 27,
   "id": "b4cf0f19",
   "metadata": {
    "execution": {
     "iopub.execute_input": "2023-12-27T01:16:50.773101Z",
     "iopub.status.busy": "2023-12-27T01:16:50.772388Z",
     "iopub.status.idle": "2023-12-27T01:16:52.265371Z",
     "shell.execute_reply": "2023-12-27T01:16:52.264083Z"
    },
    "papermill": {
     "duration": 1.516565,
     "end_time": "2023-12-27T01:16:52.267634",
     "exception": false,
     "start_time": "2023-12-27T01:16:50.751069",
     "status": "completed"
    },
    "tags": []
   },
   "outputs": [
    {
     "name": "stdout",
     "output_type": "stream",
     "text": [
      "removing 13000 features\n",
      "removing 2 features\n",
      "removing 16900 features\n",
      "removing 66 features\n",
      "removing 19169 features\n",
      "removing 4306 features\n",
      "removing 550 features\n",
      "removing 29 features\n"
     ]
    }
   ],
   "source": [
    "opcode = remove_cols(telock, [c for c in cols if c.startswith('ngram_')])\n",
    "# opcode = remove_cols(telock, [c for c in cols if c.startswith('opcode_')])\n",
    "opcode = remove_cols(telock, [c for c in cols if c.startswith('generic_')])\n",
    "opcode = remove_cols(telock, [c for c in cols if c.startswith('string_')])\n",
    "opcode = remove_cols(telock, [c for c in cols if c.startswith('rich_')])\n",
    "opcode = remove_cols(telock, [c for c in cols if c.startswith('imp_') or 'api_import_nb' == c])\n",
    "opcode = remove_cols(telock, [c for c in cols if c.endswith('.dll') or 'dll_import_nb' == c])\n",
    "opcode = remove_cols(telock, [c for c in cols if c.startswith('pesection')])\n",
    "opcode = remove_cols(telock, [c for c in cols if c.startswith('header_')])"
   ]
  },
  {
   "cell_type": "code",
   "execution_count": 28,
   "id": "f9e2e299",
   "metadata": {
    "execution": {
     "iopub.execute_input": "2023-12-27T01:16:52.304812Z",
     "iopub.status.busy": "2023-12-27T01:16:52.304212Z",
     "iopub.status.idle": "2023-12-27T01:16:52.477026Z",
     "shell.execute_reply": "2023-12-27T01:16:52.475884Z"
    },
    "papermill": {
     "duration": 0.194848,
     "end_time": "2023-12-27T01:16:52.479984",
     "exception": false,
     "start_time": "2023-12-27T01:16:52.285136",
     "status": "completed"
    },
    "tags": []
   },
   "outputs": [],
   "source": [
    "df_7000_opcode = opcode.sample(n=7000, random_state=102)\n",
    "df_3000_opcode = opcode.drop(df_7000.index)\n",
    "data_opcode = df_7000_opcode.sample(n=3500, random_state=102)"
   ]
  },
  {
   "cell_type": "code",
   "execution_count": 29,
   "id": "7113de48",
   "metadata": {
    "execution": {
     "iopub.execute_input": "2023-12-27T01:16:52.525635Z",
     "iopub.status.busy": "2023-12-27T01:16:52.525273Z",
     "iopub.status.idle": "2023-12-27T01:16:52.722853Z",
     "shell.execute_reply": "2023-12-27T01:16:52.721520Z"
    },
    "papermill": {
     "duration": 0.221151,
     "end_time": "2023-12-27T01:16:52.725178",
     "exception": false,
     "start_time": "2023-12-27T01:16:52.504027",
     "status": "completed"
    },
    "tags": []
   },
   "outputs": [
    {
     "name": "stdout",
     "output_type": "stream",
     "text": [
      "Packed Malware: 2995 samples\n",
      "Packed Benign: 505 samples\n",
      "Total TRAIN set: 3500 samples\n",
      "Packed Malware: 505 samples\n",
      "Packed Benign: 505 samples\n",
      "Total TRAIN set: 1010 samples\n",
      "Packed Malware: 432 samples\n",
      "Packed Benign: 432 samples\n",
      "Total TEST set: 864 samples\n"
     ]
    }
   ],
   "source": [
    "#Kiểm tra số lượng mẫu\n",
    "PM = data_opcode[(data_opcode['malicious'] == True) & (data_opcode['packed'] == True)].shape[0]\n",
    "PB = data_opcode[(data_opcode['malicious'] == False) & (data_opcode['packed'] == True)].shape[0]\n",
    "print('Packed Malware: %i samples' % PM)\n",
    "print('Packed Benign: %i samples' % PB)\n",
    "print('Total TRAIN set: %i samples'% (PM+PB))\n",
    "\n",
    "#Chia tỉ lệ 50 - 50\n",
    "data_PM_opcode = data_opcode[(data_opcode['malicious'] == True) & (data_opcode['packed'] == True)].sample(n=(PM-PB), random_state=102)\n",
    "data_opcode = data_opcode.drop(data_PM_opcode.index)\n",
    "      \n",
    "#Số lượng tập train\n",
    "PM = data_opcode[(data_opcode['malicious'] == True) & (data_opcode['packed'] == True)].shape[0]\n",
    "PB = data_opcode[(data_opcode['malicious'] == False) & (data_opcode['packed'] == True)].shape[0]\n",
    "print('Packed Malware: %i samples' % PM)\n",
    "print('Packed Benign: %i samples' % PB)\n",
    "print('Total TRAIN set: %i samples'% (PM+PB))\n",
    "\n",
    "#Xử lý tập train\n",
    "y = data_opcode['malicious'].values\n",
    "data_opcode = data_opcode.drop(['malicious','packed'], axis=1)\n",
    "\n",
    "PM = df_3000_opcode[(df_3000_opcode['malicious'] == True) & (df_3000_opcode['packed'] == True)].shape[0]\n",
    "PB = df_3000_opcode[(df_3000_opcode['malicious'] == False) & (df_3000_opcode['packed'] == True)].shape[0]\n",
    "\n",
    "df_3000_PM_opcode = df_3000_opcode[(df_3000_opcode['malicious'] == True) & (df_3000_opcode['packed'] == True)].sample(n=(PM-PB), random_state=102)\n",
    "df_3000_opcode = df_3000_opcode.drop(df_3000_PM_opcode.index)\n",
    "\n",
    "PM = df_3000_opcode[(df_3000_opcode['malicious'] == True) & (df_3000_opcode['packed'] == True)].shape[0]\n",
    "PB = df_3000_opcode[(df_3000_opcode['malicious'] == False) & (df_3000_opcode['packed'] == True)].shape[0]\n",
    "\n",
    "print('Packed Malware: %i samples' % PM)\n",
    "print('Packed Benign: %i samples' % PB)\n",
    "print('Total TEST set: %i samples'% (PM+PB))"
   ]
  },
  {
   "cell_type": "code",
   "execution_count": 30,
   "id": "58f7fecd",
   "metadata": {
    "execution": {
     "iopub.execute_input": "2023-12-27T01:16:52.762891Z",
     "iopub.status.busy": "2023-12-27T01:16:52.761928Z",
     "iopub.status.idle": "2023-12-27T01:16:52.777904Z",
     "shell.execute_reply": "2023-12-27T01:16:52.777029Z"
    },
    "papermill": {
     "duration": 0.037642,
     "end_time": "2023-12-27T01:16:52.780579",
     "exception": false,
     "start_time": "2023-12-27T01:16:52.742937",
     "status": "completed"
    },
    "tags": []
   },
   "outputs": [],
   "source": [
    "# model = SelectFromModel(fsel, prefit=True)\n",
    "\n",
    "X_train_opcode = data_opcode\n",
    "X_test_opcode = df_3000_opcode.drop(['malicious','packed'], axis=1)\n",
    "\n",
    "# data_opcode = data_opcode.loc[:, (data_opcode != 0).any(axis=0)]\n",
    "x_train_opcode = data_opcode\n",
    "X_test_opcode = df_3000_opcode.drop(['malicious','packed'], axis=1)\n",
    "y_train_opcode = y\n",
    "y_test_opcode = df_3000_opcode['malicious'].values"
   ]
  },
  {
   "cell_type": "code",
   "execution_count": 31,
   "id": "d706ee5a",
   "metadata": {
    "execution": {
     "iopub.execute_input": "2023-12-27T01:16:52.819707Z",
     "iopub.status.busy": "2023-12-27T01:16:52.819263Z",
     "iopub.status.idle": "2023-12-27T01:16:54.265408Z",
     "shell.execute_reply": "2023-12-27T01:16:54.264175Z"
    },
    "papermill": {
     "duration": 1.468489,
     "end_time": "2023-12-27T01:16:54.267987",
     "exception": false,
     "start_time": "2023-12-27T01:16:52.799498",
     "status": "completed"
    },
    "tags": []
   },
   "outputs": [
    {
     "name": "stdout",
     "output_type": "stream",
     "text": [
      "The accuracy of the Random Forests model is :\t 0.5393518518518519\n"
     ]
    }
   ],
   "source": [
    "# Random Forest\n",
    "from sklearn.ensemble import RandomForestClassifier\n",
    "from sklearn import metrics\n",
    "\n",
    "random_forest = RandomForestClassifier(n_estimators=100, random_state=17)\n",
    "random_forest.fit(x_train_opcode, y_train_opcode)\n",
    "random_forest_preds = random_forest.predict(X_test_opcode)\n",
    "print('The accuracy of the Random Forests model is :\\t',metrics.accuracy_score(random_forest_preds,y_test_opcode))"
   ]
  },
  {
   "cell_type": "markdown",
   "id": "eda48fd6",
   "metadata": {
    "papermill": {
     "duration": 0.017199,
     "end_time": "2023-12-27T01:16:54.302897",
     "exception": false,
     "start_time": "2023-12-27T01:16:54.285698",
     "status": "completed"
    },
    "tags": []
   },
   "source": [
    "# **rich header features**"
   ]
  },
  {
   "cell_type": "code",
   "execution_count": 32,
   "id": "347f77d6",
   "metadata": {
    "execution": {
     "iopub.execute_input": "2023-12-27T01:16:54.339950Z",
     "iopub.status.busy": "2023-12-27T01:16:54.339548Z",
     "iopub.status.idle": "2023-12-27T01:16:56.003023Z",
     "shell.execute_reply": "2023-12-27T01:16:56.001540Z"
    },
    "papermill": {
     "duration": 1.685568,
     "end_time": "2023-12-27T01:16:56.005990",
     "exception": false,
     "start_time": "2023-12-27T01:16:54.320422",
     "status": "completed"
    },
    "tags": []
   },
   "outputs": [],
   "source": [
    "telock = pd.read_pickle('/kaggle/input/packer-balance-pickle/telock_balance.pickle')\n",
    "telock = telock.drop(['sample_sha1','benign','unpacked_sample_sha1','unpacked_sample_id'], axis=1)\n",
    "telock = telock.drop(['benign_vt','malicious_vt'], axis=1)\n",
    "string_columns = telock.select_dtypes(include=['object']).columns\n",
    "telock = telock.drop(string_columns, axis=1)"
   ]
  },
  {
   "cell_type": "code",
   "execution_count": 33,
   "id": "ccef2fef",
   "metadata": {
    "execution": {
     "iopub.execute_input": "2023-12-27T01:16:56.045090Z",
     "iopub.status.busy": "2023-12-27T01:16:56.044149Z",
     "iopub.status.idle": "2023-12-27T01:16:57.237913Z",
     "shell.execute_reply": "2023-12-27T01:16:57.236805Z"
    },
    "papermill": {
     "duration": 1.215739,
     "end_time": "2023-12-27T01:16:57.240378",
     "exception": false,
     "start_time": "2023-12-27T01:16:56.024639",
     "status": "completed"
    },
    "tags": []
   },
   "outputs": [
    {
     "name": "stdout",
     "output_type": "stream",
     "text": [
      "removing 13000 features\n",
      "removing 2500 features\n",
      "removing 2 features\n",
      "removing 16900 features\n",
      "removing 19169 features\n",
      "removing 4306 features\n",
      "removing 550 features\n",
      "removing 29 features\n"
     ]
    }
   ],
   "source": [
    "rich = remove_cols(telock, [c for c in cols if c.startswith('ngram_')])\n",
    "rich = remove_cols(telock, [c for c in cols if c.startswith('opcode_')])\n",
    "rich = remove_cols(telock, [c for c in cols if c.startswith('generic_')])\n",
    "rich = remove_cols(telock, [c for c in cols if c.startswith('string_')])\n",
    "# rich = remove_cols(telock, [c for c in cols if c.startswith('rich_')])\n",
    "rich = remove_cols(telock, [c for c in cols if c.startswith('imp_') or 'api_import_nb' == c])\n",
    "rich = remove_cols(telock, [c for c in cols if c.endswith('.dll') or 'dll_import_nb' == c])\n",
    "rich = remove_cols(telock, [c for c in cols if c.startswith('pesection')])\n",
    "rich = remove_cols(telock, [c for c in cols if c.startswith('header_')])"
   ]
  },
  {
   "cell_type": "code",
   "execution_count": 34,
   "id": "995216eb",
   "metadata": {
    "execution": {
     "iopub.execute_input": "2023-12-27T01:16:57.277950Z",
     "iopub.status.busy": "2023-12-27T01:16:57.277555Z",
     "iopub.status.idle": "2023-12-27T01:16:57.290442Z",
     "shell.execute_reply": "2023-12-27T01:16:57.289333Z"
    },
    "papermill": {
     "duration": 0.034606,
     "end_time": "2023-12-27T01:16:57.293028",
     "exception": false,
     "start_time": "2023-12-27T01:16:57.258422",
     "status": "completed"
    },
    "tags": []
   },
   "outputs": [],
   "source": [
    "df_7000_rich = rich.sample(n=7000, random_state=102)\n",
    "df_3000_rich = rich.drop(df_7000.index)\n",
    "data_rich = df_7000_rich.sample(n=3500, random_state=102)"
   ]
  },
  {
   "cell_type": "code",
   "execution_count": 35,
   "id": "d4fa56e8",
   "metadata": {
    "execution": {
     "iopub.execute_input": "2023-12-27T01:16:57.331327Z",
     "iopub.status.busy": "2023-12-27T01:16:57.330967Z",
     "iopub.status.idle": "2023-12-27T01:16:57.359967Z",
     "shell.execute_reply": "2023-12-27T01:16:57.358612Z"
    },
    "papermill": {
     "duration": 0.050914,
     "end_time": "2023-12-27T01:16:57.362428",
     "exception": false,
     "start_time": "2023-12-27T01:16:57.311514",
     "status": "completed"
    },
    "tags": []
   },
   "outputs": [
    {
     "name": "stdout",
     "output_type": "stream",
     "text": [
      "Packed Malware: 2995 samples\n",
      "Packed Benign: 505 samples\n",
      "Total TRAIN set: 3500 samples\n",
      "Packed Malware: 505 samples\n",
      "Packed Benign: 505 samples\n",
      "Total TRAIN set: 1010 samples\n",
      "Packed Malware: 432 samples\n",
      "Packed Benign: 432 samples\n",
      "Total TEST set: 864 samples\n"
     ]
    }
   ],
   "source": [
    "#Kiểm tra số lượng mẫu\n",
    "PM = data_rich[(data_rich['malicious'] == True) & (data_rich['packed'] == True)].shape[0]\n",
    "PB = data_rich[(data_rich['malicious'] == False) & (data_rich['packed'] == True)].shape[0]\n",
    "print('Packed Malware: %i samples' % PM)\n",
    "print('Packed Benign: %i samples' % PB)\n",
    "print('Total TRAIN set: %i samples'% (PM+PB))\n",
    "\n",
    "#Chia tỉ lệ 50 - 50\n",
    "data_PM_rich = data_rich[(data_rich['malicious'] == True) & (data_rich['packed'] == True)].sample(n=(PM-PB), random_state=102)\n",
    "data_rich = data_rich.drop(data_PM_rich.index)\n",
    "      \n",
    "#Số lượng tập train\n",
    "PM = data_rich[(data_rich['malicious'] == True) & (data_rich['packed'] == True)].shape[0]\n",
    "PB = data_rich[(data_rich['malicious'] == False) & (data_rich['packed'] == True)].shape[0]\n",
    "print('Packed Malware: %i samples' % PM)\n",
    "print('Packed Benign: %i samples' % PB)\n",
    "print('Total TRAIN set: %i samples'% (PM+PB))\n",
    "\n",
    "#Xử lý tập train\n",
    "y = data_rich['malicious'].values\n",
    "data_rich= data_rich.drop(['malicious','packed'], axis=1)\n",
    "\n",
    "PM = df_3000_rich[(df_3000_rich['malicious'] == True) & (df_3000_rich['packed'] == True)].shape[0]\n",
    "PB = df_3000_rich[(df_3000_rich['malicious'] == False) & (df_3000_rich['packed'] == True)].shape[0]\n",
    "\n",
    "df_3000_PM_rich = df_3000_rich[(df_3000_rich['malicious'] == True) & (df_3000_rich['packed'] == True)].sample(n=(PM-PB), random_state=102)\n",
    "df_3000_rich = df_3000_rich.drop(df_3000_PM_rich.index)\n",
    "\n",
    "PM = df_3000_rich[(df_3000_rich['malicious'] == True) & (df_3000_rich['packed'] == True)].shape[0]\n",
    "PB = df_3000_rich[(df_3000_rich['malicious'] == False) & (df_3000_rich['packed'] == True)].shape[0]\n",
    "\n",
    "print('Packed Malware: %i samples' % PM)\n",
    "print('Packed Benign: %i samples' % PB)\n",
    "print('Total TEST set: %i samples'% (PM+PB))"
   ]
  },
  {
   "cell_type": "code",
   "execution_count": 36,
   "id": "fc4fe7d0",
   "metadata": {
    "execution": {
     "iopub.execute_input": "2023-12-27T01:16:57.401572Z",
     "iopub.status.busy": "2023-12-27T01:16:57.400707Z",
     "iopub.status.idle": "2023-12-27T01:16:57.410161Z",
     "shell.execute_reply": "2023-12-27T01:16:57.409326Z"
    },
    "papermill": {
     "duration": 0.03081,
     "end_time": "2023-12-27T01:16:57.412066",
     "exception": false,
     "start_time": "2023-12-27T01:16:57.381256",
     "status": "completed"
    },
    "tags": []
   },
   "outputs": [],
   "source": [
    "# model = SelectFromModel(fsel, prefit=True)\n",
    "\n",
    "X_train_rich = data_rich\n",
    "X_test_rich = df_3000_rich.drop(['malicious','packed'], axis=1)\n",
    "\n",
    "data_rich = data_rich.loc[:, (data_rich != 0).any(axis=0)]\n",
    "x_train_rich = data_rich\n",
    "X_test_rich = df_3000_rich.drop(['malicious','packed'], axis=1)\n",
    "y_train_rich = y\n",
    "y_test_rich = df_3000_rich['malicious'].values"
   ]
  },
  {
   "cell_type": "code",
   "execution_count": 37,
   "id": "698193f8",
   "metadata": {
    "execution": {
     "iopub.execute_input": "2023-12-27T01:16:57.450224Z",
     "iopub.status.busy": "2023-12-27T01:16:57.449668Z",
     "iopub.status.idle": "2023-12-27T01:16:57.733007Z",
     "shell.execute_reply": "2023-12-27T01:16:57.731831Z"
    },
    "papermill": {
     "duration": 0.30525,
     "end_time": "2023-12-27T01:16:57.735499",
     "exception": false,
     "start_time": "2023-12-27T01:16:57.430249",
     "status": "completed"
    },
    "tags": []
   },
   "outputs": [
    {
     "name": "stdout",
     "output_type": "stream",
     "text": [
      "The accuracy of the Random Forests model is :\t 0.75\n"
     ]
    }
   ],
   "source": [
    "# Random Forest\n",
    "from sklearn.ensemble import RandomForestClassifier\n",
    "from sklearn import metrics\n",
    "\n",
    "random_forest = RandomForestClassifier(n_estimators=100, random_state=17)\n",
    "random_forest.fit(X_train_rich, y_train_rich)\n",
    "random_forest_preds = random_forest.predict(X_test_rich)\n",
    "print('The accuracy of the Random Forests model is :\\t',metrics.accuracy_score(random_forest_preds,y_test_rich))"
   ]
  },
  {
   "cell_type": "markdown",
   "id": "1b3adecb",
   "metadata": {
    "papermill": {
     "duration": 0.017719,
     "end_time": "2023-12-27T01:16:57.771285",
     "exception": false,
     "start_time": "2023-12-27T01:16:57.753566",
     "status": "completed"
    },
    "tags": []
   },
   "source": [
    "# **string features**"
   ]
  },
  {
   "cell_type": "code",
   "execution_count": 38,
   "id": "1d52acf9",
   "metadata": {
    "execution": {
     "iopub.execute_input": "2023-12-27T01:16:57.809204Z",
     "iopub.status.busy": "2023-12-27T01:16:57.808837Z",
     "iopub.status.idle": "2023-12-27T01:16:59.369200Z",
     "shell.execute_reply": "2023-12-27T01:16:59.368172Z"
    },
    "papermill": {
     "duration": 1.582373,
     "end_time": "2023-12-27T01:16:59.371723",
     "exception": false,
     "start_time": "2023-12-27T01:16:57.789350",
     "status": "completed"
    },
    "tags": []
   },
   "outputs": [],
   "source": [
    "telock = pd.read_pickle('/kaggle/input/packer-balance-pickle/telock_balance.pickle')\n",
    "telock = telock.drop(['sample_sha1','benign','unpacked_sample_sha1','unpacked_sample_id'], axis=1)\n",
    "telock = telock.drop(['benign_vt','malicious_vt'], axis=1)\n",
    "string_columns = telock.select_dtypes(include=['object']).columns\n",
    "telock = telock.drop(string_columns, axis=1)"
   ]
  },
  {
   "cell_type": "code",
   "execution_count": 39,
   "id": "5e97b218",
   "metadata": {
    "execution": {
     "iopub.execute_input": "2023-12-27T01:16:59.410007Z",
     "iopub.status.busy": "2023-12-27T01:16:59.409473Z",
     "iopub.status.idle": "2023-12-27T01:17:00.696819Z",
     "shell.execute_reply": "2023-12-27T01:17:00.695557Z"
    },
    "papermill": {
     "duration": 1.309682,
     "end_time": "2023-12-27T01:17:00.699518",
     "exception": false,
     "start_time": "2023-12-27T01:16:59.389836",
     "status": "completed"
    },
    "tags": []
   },
   "outputs": [
    {
     "name": "stdout",
     "output_type": "stream",
     "text": [
      "removing 13000 features\n",
      "removing 2500 features\n",
      "removing 2 features\n",
      "removing 66 features\n",
      "removing 19169 features\n",
      "removing 4306 features\n",
      "removing 550 features\n",
      "removing 29 features\n"
     ]
    }
   ],
   "source": [
    "string = remove_cols(telock, [c for c in cols if c.startswith('ngram_')])\n",
    "string = remove_cols(telock, [c for c in cols if c.startswith('opcode_')])\n",
    "string = remove_cols(telock, [c for c in cols if c.startswith('generic_')])\n",
    "# string = remove_cols(telock, [c for c in cols if c.startswith('string_')])\n",
    "string = remove_cols(telock, [c for c in cols if c.startswith('rich_')])\n",
    "string = remove_cols(telock, [c for c in cols if c.startswith('imp_') or 'api_import_nb' == c])\n",
    "string = remove_cols(telock, [c for c in cols if c.endswith('.dll') or 'dll_import_nb' == c])\n",
    "string = remove_cols(telock, [c for c in cols if c.startswith('pesection')])\n",
    "string = remove_cols(telock, [c for c in cols if c.startswith('header_')])"
   ]
  },
  {
   "cell_type": "code",
   "execution_count": 40,
   "id": "b8768d5e",
   "metadata": {
    "execution": {
     "iopub.execute_input": "2023-12-27T01:17:00.737604Z",
     "iopub.status.busy": "2023-12-27T01:17:00.737239Z",
     "iopub.status.idle": "2023-12-27T01:17:01.058192Z",
     "shell.execute_reply": "2023-12-27T01:17:01.057118Z"
    },
    "papermill": {
     "duration": 0.342925,
     "end_time": "2023-12-27T01:17:01.060745",
     "exception": false,
     "start_time": "2023-12-27T01:17:00.717820",
     "status": "completed"
    },
    "tags": []
   },
   "outputs": [],
   "source": [
    "df_7000_string = string.sample(n=7000, random_state=102)\n",
    "df_3000_string = string.drop(df_7000.index)\n",
    "data_string = df_7000_string.sample(n=3500, random_state=102)"
   ]
  },
  {
   "cell_type": "code",
   "execution_count": 41,
   "id": "038d730f",
   "metadata": {
    "execution": {
     "iopub.execute_input": "2023-12-27T01:17:01.101250Z",
     "iopub.status.busy": "2023-12-27T01:17:01.100575Z",
     "iopub.status.idle": "2023-12-27T01:17:01.553654Z",
     "shell.execute_reply": "2023-12-27T01:17:01.552576Z"
    },
    "papermill": {
     "duration": 0.475383,
     "end_time": "2023-12-27T01:17:01.556055",
     "exception": false,
     "start_time": "2023-12-27T01:17:01.080672",
     "status": "completed"
    },
    "tags": []
   },
   "outputs": [
    {
     "name": "stdout",
     "output_type": "stream",
     "text": [
      "Packed Malware: 2995 samples\n",
      "Packed Benign: 505 samples\n",
      "Total TRAIN set: 3500 samples\n",
      "Packed Malware: 505 samples\n",
      "Packed Benign: 505 samples\n",
      "Total TRAIN set: 1010 samples\n",
      "Packed Malware: 432 samples\n",
      "Packed Benign: 432 samples\n",
      "Total TEST set: 864 samples\n"
     ]
    }
   ],
   "source": [
    "#Kiểm tra số lượng mẫu\n",
    "PM = data_string[(data_string['malicious'] == True) & (data_string['packed'] == True)].shape[0]\n",
    "PB = data_string[(data_string['malicious'] == False) & (data_string['packed'] == True)].shape[0]\n",
    "print('Packed Malware: %i samples' % PM)\n",
    "print('Packed Benign: %i samples' % PB)\n",
    "print('Total TRAIN set: %i samples'% (PM+PB))\n",
    "\n",
    "#Chia tỉ lệ 50 - 50\n",
    "data_PM_string = data_string[(data_string['malicious'] == True) & (data_string['packed'] == True)].sample(n=(PM-PB), random_state=102)\n",
    "data_string = data_string.drop(data_PM_string.index)\n",
    "      \n",
    "#Số lượng tập train\n",
    "PM = data_string[(data_string['malicious'] == True) & (data_string['packed'] == True)].shape[0]\n",
    "PB = data_string[(data_string['malicious'] == False) & (data_string['packed'] == True)].shape[0]\n",
    "print('Packed Malware: %i samples' % PM)\n",
    "print('Packed Benign: %i samples' % PB)\n",
    "print('Total TRAIN set: %i samples'% (PM+PB))\n",
    "\n",
    "#Xử lý tập train\n",
    "y = data_string['malicious'].values\n",
    "data_string = data_string.drop(['malicious','packed'], axis=1)\n",
    "\n",
    "PM = df_3000_string[(df_3000_string['malicious'] == True) & (df_3000_string['packed'] == True)].shape[0]\n",
    "PB = df_3000_string[(df_3000_string['malicious'] == False) & (df_3000_string['packed'] == True)].shape[0]\n",
    "\n",
    "df_3000_PM_string = df_3000_string[(df_3000_string['malicious'] == True) & (df_3000_string['packed'] == True)].sample(n=(PM-PB), random_state=102)\n",
    "df_3000_string = df_3000_string.drop(df_3000_PM_string.index)\n",
    "\n",
    "PM = df_3000_string[(df_3000_string['malicious'] == True) & (df_3000_string['packed'] == True)].shape[0]\n",
    "PB = df_3000_string[(df_3000_string['malicious'] == False) & (df_3000_string['packed'] == True)].shape[0]\n",
    "\n",
    "print('Packed Malware: %i samples' % PM)\n",
    "print('Packed Benign: %i samples' % PB)\n",
    "print('Total TEST set: %i samples'% (PM+PB))"
   ]
  },
  {
   "cell_type": "code",
   "execution_count": 42,
   "id": "20342506",
   "metadata": {
    "execution": {
     "iopub.execute_input": "2023-12-27T01:17:01.594986Z",
     "iopub.status.busy": "2023-12-27T01:17:01.594328Z",
     "iopub.status.idle": "2023-12-27T01:17:01.640606Z",
     "shell.execute_reply": "2023-12-27T01:17:01.639543Z"
    },
    "papermill": {
     "duration": 0.068731,
     "end_time": "2023-12-27T01:17:01.643079",
     "exception": false,
     "start_time": "2023-12-27T01:17:01.574348",
     "status": "completed"
    },
    "tags": []
   },
   "outputs": [],
   "source": [
    "# model = SelectFromModel(fsel, prefit=True)\n",
    "\n",
    "X_train_string = data_string\n",
    "X_test_string = df_3000_string.drop(['malicious','packed'], axis=1)\n",
    "\n",
    "data_string = data_string.loc[:, (data_string != 0).any(axis=0)]\n",
    "x_train_string = data_string\n",
    "X_test_string = df_3000_string.drop(['malicious','packed'], axis=1)\n",
    "y_train_string = y\n",
    "y_test_string = df_3000_string['malicious'].values"
   ]
  },
  {
   "cell_type": "code",
   "execution_count": 43,
   "id": "e74cd1cf",
   "metadata": {
    "execution": {
     "iopub.execute_input": "2023-12-27T01:17:01.681492Z",
     "iopub.status.busy": "2023-12-27T01:17:01.681073Z",
     "iopub.status.idle": "2023-12-27T01:17:09.401013Z",
     "shell.execute_reply": "2023-12-27T01:17:09.399511Z"
    },
    "papermill": {
     "duration": 7.743382,
     "end_time": "2023-12-27T01:17:09.404819",
     "exception": false,
     "start_time": "2023-12-27T01:17:01.661437",
     "status": "completed"
    },
    "tags": []
   },
   "outputs": [
    {
     "name": "stdout",
     "output_type": "stream",
     "text": [
      "The accuracy of the Random Forests model is :\t 0.7592592592592593\n"
     ]
    }
   ],
   "source": [
    "# Random Forest\n",
    "from sklearn.ensemble import RandomForestClassifier\n",
    "from sklearn import metrics\n",
    "\n",
    "random_forest = RandomForestClassifier(n_estimators=100, random_state=17)\n",
    "random_forest.fit(X_train_string, y_train_string)\n",
    "random_forest_preds = random_forest.predict(X_test_string)\n",
    "print('The accuracy of the Random Forests model is :\\t',metrics.accuracy_score(random_forest_preds,y_test_string))"
   ]
  },
  {
   "cell_type": "markdown",
   "id": "d0a55a91",
   "metadata": {
    "papermill": {
     "duration": 0.018898,
     "end_time": "2023-12-27T01:17:09.443482",
     "exception": false,
     "start_time": "2023-12-27T01:17:09.424584",
     "status": "completed"
    },
    "tags": []
   },
   "source": [
    "# **api features**"
   ]
  },
  {
   "cell_type": "code",
   "execution_count": 44,
   "id": "a128de22",
   "metadata": {
    "execution": {
     "iopub.execute_input": "2023-12-27T01:17:09.484145Z",
     "iopub.status.busy": "2023-12-27T01:17:09.483140Z",
     "iopub.status.idle": "2023-12-27T01:17:11.238024Z",
     "shell.execute_reply": "2023-12-27T01:17:11.236872Z"
    },
    "papermill": {
     "duration": 1.779767,
     "end_time": "2023-12-27T01:17:11.241805",
     "exception": false,
     "start_time": "2023-12-27T01:17:09.462038",
     "status": "completed"
    },
    "tags": []
   },
   "outputs": [],
   "source": [
    "telock = pd.read_pickle('/kaggle/input/packer-balance-pickle/telock_balance.pickle')\n",
    "telock = telock.drop(['sample_sha1','benign','unpacked_sample_sha1','unpacked_sample_id'], axis=1)\n",
    "telock = telock.drop(['benign_vt','malicious_vt'], axis=1)\n",
    "string_columns = telock.select_dtypes(include=['object']).columns\n",
    "telock = telock.drop(string_columns, axis=1)"
   ]
  },
  {
   "cell_type": "code",
   "execution_count": 45,
   "id": "6b5ee2cf",
   "metadata": {
    "execution": {
     "iopub.execute_input": "2023-12-27T01:17:11.284539Z",
     "iopub.status.busy": "2023-12-27T01:17:11.284127Z",
     "iopub.status.idle": "2023-12-27T01:17:12.928845Z",
     "shell.execute_reply": "2023-12-27T01:17:12.927755Z"
    },
    "papermill": {
     "duration": 1.669081,
     "end_time": "2023-12-27T01:17:12.931276",
     "exception": false,
     "start_time": "2023-12-27T01:17:11.262195",
     "status": "completed"
    },
    "tags": []
   },
   "outputs": [
    {
     "name": "stdout",
     "output_type": "stream",
     "text": [
      "removing 13000 features\n",
      "removing 2500 features\n",
      "removing 2 features\n",
      "removing 16900 features\n",
      "removing 66 features\n",
      "removing 4306 features\n",
      "removing 550 features\n",
      "removing 29 features\n"
     ]
    }
   ],
   "source": [
    "api = remove_cols(telock, [c for c in cols if c.startswith('ngram_')])\n",
    "api = remove_cols(telock, [c for c in cols if c.startswith('opcode_')])\n",
    "api = remove_cols(telock, [c for c in cols if c.startswith('generic_')])\n",
    "api = remove_cols(telock, [c for c in cols if c.startswith('string_')])\n",
    "api = remove_cols(telock, [c for c in cols if c.startswith('rich_')])\n",
    "# api = remove_cols(telock, [c for c in cols if c.startswith('imp_') or 'api_import_nb' == c])\n",
    "api = remove_cols(telock, [c for c in cols if c.endswith('.dll') or 'dll_import_nb' == c])\n",
    "api = remove_cols(telock, [c for c in cols if c.startswith('pesection')])\n",
    "api = remove_cols(telock, [c for c in cols if c.startswith('header_')])"
   ]
  },
  {
   "cell_type": "code",
   "execution_count": 46,
   "id": "023d7ca8",
   "metadata": {
    "execution": {
     "iopub.execute_input": "2023-12-27T01:17:12.974508Z",
     "iopub.status.busy": "2023-12-27T01:17:12.974078Z",
     "iopub.status.idle": "2023-12-27T01:17:13.407562Z",
     "shell.execute_reply": "2023-12-27T01:17:13.406375Z"
    },
    "papermill": {
     "duration": 0.45941,
     "end_time": "2023-12-27T01:17:13.410968",
     "exception": false,
     "start_time": "2023-12-27T01:17:12.951558",
     "status": "completed"
    },
    "tags": []
   },
   "outputs": [],
   "source": [
    "df_7000_api = api.sample(n=7000, random_state=102)\n",
    "df_3000_api = api.drop(df_7000.index)\n",
    "data_api = df_7000_api.sample(n=3500, random_state=102)"
   ]
  },
  {
   "cell_type": "code",
   "execution_count": 47,
   "id": "c24732ff",
   "metadata": {
    "execution": {
     "iopub.execute_input": "2023-12-27T01:17:13.452164Z",
     "iopub.status.busy": "2023-12-27T01:17:13.451746Z",
     "iopub.status.idle": "2023-12-27T01:17:14.119900Z",
     "shell.execute_reply": "2023-12-27T01:17:14.118848Z"
    },
    "papermill": {
     "duration": 0.690942,
     "end_time": "2023-12-27T01:17:14.122237",
     "exception": false,
     "start_time": "2023-12-27T01:17:13.431295",
     "status": "completed"
    },
    "tags": []
   },
   "outputs": [
    {
     "name": "stdout",
     "output_type": "stream",
     "text": [
      "Packed Malware: 2995 samples\n",
      "Packed Benign: 505 samples\n",
      "Total TRAIN set: 3500 samples\n",
      "Packed Malware: 505 samples\n",
      "Packed Benign: 505 samples\n",
      "Total TRAIN set: 1010 samples\n",
      "Packed Malware: 432 samples\n",
      "Packed Benign: 432 samples\n",
      "Total TEST set: 864 samples\n"
     ]
    }
   ],
   "source": [
    "#Kiểm tra số lượng mẫu\n",
    "PM = data_api[(data_api['malicious'] == True) & (data_api['packed'] == True)].shape[0]\n",
    "PB = data_api[(data_api['malicious'] == False) & (data_api['packed'] == True)].shape[0]\n",
    "print('Packed Malware: %i samples' % PM)\n",
    "print('Packed Benign: %i samples' % PB)\n",
    "print('Total TRAIN set: %i samples'% (PM+PB))\n",
    "\n",
    "#Chia tỉ lệ 50 - 50\n",
    "data_PM_api = data_api[(data_api['malicious'] == True) & (data_api['packed'] == True)].sample(n=(PM-PB), random_state=102)\n",
    "data_api = data_api.drop(data_PM_api.index)\n",
    "      \n",
    "#Số lượng tập train\n",
    "PM = data_api[(data_api['malicious'] == True) & (data_api['packed'] == True)].shape[0]\n",
    "PB = data_api[(data_api['malicious'] == False) & (data_api['packed'] == True)].shape[0]\n",
    "print('Packed Malware: %i samples' % PM)\n",
    "print('Packed Benign: %i samples' % PB)\n",
    "print('Total TRAIN set: %i samples'% (PM+PB))\n",
    "\n",
    "#Xử lý tập train\n",
    "y = data_api['malicious'].values\n",
    "data_api = data_api.drop(['malicious','packed'], axis=1)\n",
    "\n",
    "PM = df_3000_api[(df_3000_api['malicious'] == True) & (df_3000_api['packed'] == True)].shape[0]\n",
    "PB = df_3000_api[(df_3000_api['malicious'] == False) & (df_3000_api['packed'] == True)].shape[0]\n",
    "\n",
    "df_3000_PM_api = df_3000_api[(df_3000_api['malicious'] == True) & (df_3000_api['packed'] == True)].sample(n=(PM-PB), random_state=102)\n",
    "df_3000_api = df_3000_api.drop(df_3000_PM_api.index)\n",
    "\n",
    "PM = df_3000_api[(df_3000_api['malicious'] == True) & (df_3000_api['packed'] == True)].shape[0]\n",
    "PB = df_3000_api[(df_3000_api['malicious'] == False) & (df_3000_api['packed'] == True)].shape[0]\n",
    "\n",
    "print('Packed Malware: %i samples' % PM)\n",
    "print('Packed Benign: %i samples' % PB)\n",
    "print('Total TEST set: %i samples'% (PM+PB))"
   ]
  },
  {
   "cell_type": "code",
   "execution_count": 48,
   "id": "f9989821",
   "metadata": {
    "execution": {
     "iopub.execute_input": "2023-12-27T01:17:14.165588Z",
     "iopub.status.busy": "2023-12-27T01:17:14.165191Z",
     "iopub.status.idle": "2023-12-27T01:17:14.246103Z",
     "shell.execute_reply": "2023-12-27T01:17:14.245033Z"
    },
    "papermill": {
     "duration": 0.105602,
     "end_time": "2023-12-27T01:17:14.248682",
     "exception": false,
     "start_time": "2023-12-27T01:17:14.143080",
     "status": "completed"
    },
    "tags": []
   },
   "outputs": [],
   "source": [
    "# model = SelectFromModel(fsel, prefit=True)\n",
    "\n",
    "X_train_api = data_api\n",
    "X_test_api = df_3000_api.drop(['malicious','packed'], axis=1)\n",
    "\n",
    "data_api = data_api.loc[:, (data_api != 0).any(axis=0)]\n",
    "x_train_api = data_api\n",
    "X_test_api = df_3000_api.drop(['malicious','packed'], axis=1)\n",
    "y_train_api = y\n",
    "y_test_api = df_3000_api['malicious'].values"
   ]
  },
  {
   "cell_type": "code",
   "execution_count": 49,
   "id": "52c034fb",
   "metadata": {
    "execution": {
     "iopub.execute_input": "2023-12-27T01:17:14.289580Z",
     "iopub.status.busy": "2023-12-27T01:17:14.288299Z",
     "iopub.status.idle": "2023-12-27T01:17:21.800988Z",
     "shell.execute_reply": "2023-12-27T01:17:21.799360Z"
    },
    "papermill": {
     "duration": 7.536202,
     "end_time": "2023-12-27T01:17:21.804094",
     "exception": false,
     "start_time": "2023-12-27T01:17:14.267892",
     "status": "completed"
    },
    "tags": []
   },
   "outputs": [
    {
     "name": "stdout",
     "output_type": "stream",
     "text": [
      "The accuracy of the Random Forests model is :\t 0.5706018518518519\n"
     ]
    }
   ],
   "source": [
    "# Random Forest\n",
    "from sklearn.ensemble import RandomForestClassifier\n",
    "from sklearn import metrics\n",
    "\n",
    "random_forest = RandomForestClassifier(n_estimators=100, random_state=17)\n",
    "random_forest.fit(X_train_api, y_train_api)\n",
    "random_forest_preds = random_forest.predict(X_test_api)\n",
    "print('The accuracy of the Random Forests model is :\\t',metrics.accuracy_score(random_forest_preds,y_test_api))"
   ]
  },
  {
   "cell_type": "markdown",
   "id": "e962d847",
   "metadata": {
    "papermill": {
     "duration": 0.019352,
     "end_time": "2023-12-27T01:17:21.843214",
     "exception": false,
     "start_time": "2023-12-27T01:17:21.823862",
     "status": "completed"
    },
    "tags": []
   },
   "source": [
    "# **dll features**"
   ]
  },
  {
   "cell_type": "code",
   "execution_count": 50,
   "id": "d41fefb8",
   "metadata": {
    "execution": {
     "iopub.execute_input": "2023-12-27T01:17:21.886698Z",
     "iopub.status.busy": "2023-12-27T01:17:21.885704Z",
     "iopub.status.idle": "2023-12-27T01:17:23.784756Z",
     "shell.execute_reply": "2023-12-27T01:17:23.783378Z"
    },
    "papermill": {
     "duration": 1.924518,
     "end_time": "2023-12-27T01:17:23.788384",
     "exception": false,
     "start_time": "2023-12-27T01:17:21.863866",
     "status": "completed"
    },
    "tags": []
   },
   "outputs": [],
   "source": [
    "telock = pd.read_pickle('/kaggle/input/packer-balance-pickle/telock_balance.pickle')\n",
    "telock = telock.drop(['sample_sha1','benign','unpacked_sample_sha1','unpacked_sample_id'], axis=1)\n",
    "telock = telock.drop(['benign_vt','malicious_vt'], axis=1)\n",
    "string_columns = telock.select_dtypes(include=['object']).columns\n",
    "telock = telock.drop(string_columns, axis=1)"
   ]
  },
  {
   "cell_type": "code",
   "execution_count": 51,
   "id": "1a5f7dbe",
   "metadata": {
    "execution": {
     "iopub.execute_input": "2023-12-27T01:17:23.831276Z",
     "iopub.status.busy": "2023-12-27T01:17:23.830868Z",
     "iopub.status.idle": "2023-12-27T01:17:25.095603Z",
     "shell.execute_reply": "2023-12-27T01:17:25.094216Z"
    },
    "papermill": {
     "duration": 1.289575,
     "end_time": "2023-12-27T01:17:25.098945",
     "exception": false,
     "start_time": "2023-12-27T01:17:23.809370",
     "status": "completed"
    },
    "tags": []
   },
   "outputs": [
    {
     "name": "stdout",
     "output_type": "stream",
     "text": [
      "removing 13000 features\n",
      "removing 2500 features\n",
      "removing 2 features\n",
      "removing 16900 features\n",
      "removing 66 features\n",
      "removing 19169 features\n",
      "removing 550 features\n",
      "removing 29 features\n"
     ]
    }
   ],
   "source": [
    "dll = remove_cols(telock, [c for c in cols if c.startswith('ngram_')])\n",
    "dll = remove_cols(telock, [c for c in cols if c.startswith('opcode_')])\n",
    "dll = remove_cols(telock, [c for c in cols if c.startswith('generic_')])\n",
    "dll = remove_cols(telock, [c for c in cols if c.startswith('string_')])\n",
    "dll = remove_cols(telock, [c for c in cols if c.startswith('rich_')])\n",
    "dll = remove_cols(telock, [c for c in cols if c.startswith('imp_') or 'api_import_nb' == c])\n",
    "# api = remove_cols(telock, [c for c in cols if c.endswith('.dll') or 'dll_import_nb' == c])\n",
    "dll = remove_cols(telock, [c for c in cols if c.startswith('pesection')])\n",
    "dll = remove_cols(telock, [c for c in cols if c.startswith('header_')])"
   ]
  },
  {
   "cell_type": "code",
   "execution_count": 52,
   "id": "190f43b8",
   "metadata": {
    "execution": {
     "iopub.execute_input": "2023-12-27T01:17:25.145484Z",
     "iopub.status.busy": "2023-12-27T01:17:25.145082Z",
     "iopub.status.idle": "2023-12-27T01:17:25.250238Z",
     "shell.execute_reply": "2023-12-27T01:17:25.248886Z"
    },
    "papermill": {
     "duration": 0.131848,
     "end_time": "2023-12-27T01:17:25.252979",
     "exception": false,
     "start_time": "2023-12-27T01:17:25.121131",
     "status": "completed"
    },
    "tags": []
   },
   "outputs": [],
   "source": [
    "df_7000_dll = dll.sample(n=7000, random_state=102)\n",
    "df_3000_dll = dll.drop(df_7000.index)\n",
    "data_dll = df_7000_dll.sample(n=3500, random_state=102)"
   ]
  },
  {
   "cell_type": "code",
   "execution_count": 53,
   "id": "71b6d1e0",
   "metadata": {
    "execution": {
     "iopub.execute_input": "2023-12-27T01:17:25.298026Z",
     "iopub.status.busy": "2023-12-27T01:17:25.297541Z",
     "iopub.status.idle": "2023-12-27T01:17:25.498623Z",
     "shell.execute_reply": "2023-12-27T01:17:25.497487Z"
    },
    "papermill": {
     "duration": 0.226913,
     "end_time": "2023-12-27T01:17:25.500969",
     "exception": false,
     "start_time": "2023-12-27T01:17:25.274056",
     "status": "completed"
    },
    "tags": []
   },
   "outputs": [
    {
     "name": "stdout",
     "output_type": "stream",
     "text": [
      "Packed Malware: 2995 samples\n",
      "Packed Benign: 505 samples\n",
      "Total TRAIN set: 3500 samples\n",
      "Packed Malware: 505 samples\n",
      "Packed Benign: 505 samples\n",
      "Total TRAIN set: 1010 samples\n",
      "Packed Malware: 432 samples\n",
      "Packed Benign: 432 samples\n",
      "Total TEST set: 864 samples\n"
     ]
    }
   ],
   "source": [
    "#Kiểm tra số lượng mẫu\n",
    "PM = data_dll[(data_dll['malicious'] == True) & (data_dll['packed'] == True)].shape[0]\n",
    "PB = data_dll[(data_dll['malicious'] == False) & (data_dll['packed'] == True)].shape[0]\n",
    "print('Packed Malware: %i samples' % PM)\n",
    "print('Packed Benign: %i samples' % PB)\n",
    "print('Total TRAIN set: %i samples'% (PM+PB))\n",
    "\n",
    "#Chia tỉ lệ 50 - 50\n",
    "data_PM_dll = data_dll[(data_dll['malicious'] == True) & (data_dll['packed'] == True)].sample(n=(PM-PB), random_state=102)\n",
    "data_dll = data_dll.drop(data_PM_dll.index)\n",
    "      \n",
    "#Số lượng tập train\n",
    "PM = data_dll[(data_dll['malicious'] == True) & (data_dll['packed'] == True)].shape[0]\n",
    "PB = data_dll[(data_dll['malicious'] == False) & (data_dll['packed'] == True)].shape[0]\n",
    "print('Packed Malware: %i samples' % PM)\n",
    "print('Packed Benign: %i samples' % PB)\n",
    "print('Total TRAIN set: %i samples'% (PM+PB))\n",
    "\n",
    "#Xử lý tập train\n",
    "y = data_dll['malicious'].values\n",
    "data_dll = data_dll.drop(['malicious','packed'], axis=1)\n",
    "\n",
    "PM = df_3000_dll[(df_3000_dll['malicious'] == True) & (df_3000_dll['packed'] == True)].shape[0]\n",
    "PB = df_3000_dll[(df_3000_dll['malicious'] == False) & (df_3000_dll['packed'] == True)].shape[0]\n",
    "\n",
    "df_3000_PM_dll = df_3000_dll[(df_3000_dll['malicious'] == True) & (df_3000_dll['packed'] == True)].sample(n=(PM-PB), random_state=102)\n",
    "df_3000_dll = df_3000_dll.drop(df_3000_PM_dll.index)\n",
    "\n",
    "PM = df_3000_dll[(df_3000_dll['malicious'] == True) & (df_3000_dll['packed'] == True)].shape[0]\n",
    "PB = df_3000_dll[(df_3000_dll['malicious'] == False) & (df_3000_dll['packed'] == True)].shape[0]\n",
    "\n",
    "print('Packed Malware: %i samples' % PM)\n",
    "print('Packed Benign: %i samples' % PB)\n",
    "print('Total TEST set: %i samples'% (PM+PB))"
   ]
  },
  {
   "cell_type": "code",
   "execution_count": 54,
   "id": "9b9d237a",
   "metadata": {
    "execution": {
     "iopub.execute_input": "2023-12-27T01:17:25.546326Z",
     "iopub.status.busy": "2023-12-27T01:17:25.545011Z",
     "iopub.status.idle": "2023-12-27T01:17:25.580458Z",
     "shell.execute_reply": "2023-12-27T01:17:25.579270Z"
    },
    "papermill": {
     "duration": 0.060178,
     "end_time": "2023-12-27T01:17:25.582898",
     "exception": false,
     "start_time": "2023-12-27T01:17:25.522720",
     "status": "completed"
    },
    "tags": []
   },
   "outputs": [],
   "source": [
    "# model = SelectFromModel(fsel, prefit=True)\n",
    "\n",
    "X_train_dll = data_dll\n",
    "X_test_dll = df_3000_dll.drop(['malicious','packed'], axis=1)\n",
    "\n",
    "data_dll = data_dll.loc[:, (data_dll != 0).any(axis=0)]\n",
    "x_train_dll = data_dll\n",
    "X_test_dll = df_3000_dll.drop(['malicious','packed'], axis=1)\n",
    "y_train_dll = y\n",
    "y_test_dll = df_3000_dll['malicious'].values"
   ]
  },
  {
   "cell_type": "code",
   "execution_count": 55,
   "id": "e5e1be16",
   "metadata": {
    "execution": {
     "iopub.execute_input": "2023-12-27T01:17:25.628008Z",
     "iopub.status.busy": "2023-12-27T01:17:25.627542Z",
     "iopub.status.idle": "2023-12-27T01:17:27.469300Z",
     "shell.execute_reply": "2023-12-27T01:17:27.467658Z"
    },
    "papermill": {
     "duration": 1.868206,
     "end_time": "2023-12-27T01:17:27.472147",
     "exception": false,
     "start_time": "2023-12-27T01:17:25.603941",
     "status": "completed"
    },
    "tags": []
   },
   "outputs": [
    {
     "name": "stdout",
     "output_type": "stream",
     "text": [
      "The accuracy of the Random Forests model is :\t 0.5706018518518519\n"
     ]
    }
   ],
   "source": [
    "# Random Forest\n",
    "from sklearn.ensemble import RandomForestClassifier\n",
    "from sklearn import metrics\n",
    "\n",
    "random_forest = RandomForestClassifier(n_estimators=100, random_state=17)\n",
    "random_forest.fit(X_train_dll, y_train_dll)\n",
    "random_forest_preds = random_forest.predict(X_test_dll)\n",
    "print('The accuracy of the Random Forests model is :\\t',metrics.accuracy_score(random_forest_preds,y_test_dll))"
   ]
  },
  {
   "cell_type": "markdown",
   "id": "4906702b",
   "metadata": {
    "papermill": {
     "duration": 0.019791,
     "end_time": "2023-12-27T01:17:27.512060",
     "exception": false,
     "start_time": "2023-12-27T01:17:27.492269",
     "status": "completed"
    },
    "tags": []
   },
   "source": [
    "# **pe sections features**"
   ]
  },
  {
   "cell_type": "code",
   "execution_count": 56,
   "id": "4d84fc1f",
   "metadata": {
    "execution": {
     "iopub.execute_input": "2023-12-27T01:17:27.554179Z",
     "iopub.status.busy": "2023-12-27T01:17:27.553791Z",
     "iopub.status.idle": "2023-12-27T01:17:29.236098Z",
     "shell.execute_reply": "2023-12-27T01:17:29.234625Z"
    },
    "papermill": {
     "duration": 1.706825,
     "end_time": "2023-12-27T01:17:29.239084",
     "exception": false,
     "start_time": "2023-12-27T01:17:27.532259",
     "status": "completed"
    },
    "tags": []
   },
   "outputs": [],
   "source": [
    "telock = pd.read_pickle('/kaggle/input/packer-balance-pickle/telock_balance.pickle')\n",
    "telock = telock.drop(['sample_sha1','benign','unpacked_sample_sha1','unpacked_sample_id'], axis=1)\n",
    "telock = telock.drop(['benign_vt','malicious_vt'], axis=1)\n",
    "string_columns = telock.select_dtypes(include=['object']).columns\n",
    "telock = telock.drop(string_columns, axis=1)"
   ]
  },
  {
   "cell_type": "code",
   "execution_count": 57,
   "id": "e7d6dff5",
   "metadata": {
    "execution": {
     "iopub.execute_input": "2023-12-27T01:17:29.285309Z",
     "iopub.status.busy": "2023-12-27T01:17:29.284897Z",
     "iopub.status.idle": "2023-12-27T01:17:30.506666Z",
     "shell.execute_reply": "2023-12-27T01:17:30.505203Z"
    },
    "papermill": {
     "duration": 1.247822,
     "end_time": "2023-12-27T01:17:30.509395",
     "exception": false,
     "start_time": "2023-12-27T01:17:29.261573",
     "status": "completed"
    },
    "tags": []
   },
   "outputs": [
    {
     "name": "stdout",
     "output_type": "stream",
     "text": [
      "removing 13000 features\n",
      "removing 2500 features\n",
      "removing 2 features\n",
      "removing 16900 features\n",
      "removing 66 features\n",
      "removing 19169 features\n",
      "removing 4306 features\n",
      "removing 29 features\n"
     ]
    }
   ],
   "source": [
    "pesection = remove_cols(telock, [c for c in cols if c.startswith('ngram_')])\n",
    "pesection = remove_cols(telock, [c for c in cols if c.startswith('opcode_')])\n",
    "pesection = remove_cols(telock, [c for c in cols if c.startswith('generic_')])\n",
    "pesection = remove_cols(telock, [c for c in cols if c.startswith('string_')])\n",
    "pesection = remove_cols(telock, [c for c in cols if c.startswith('rich_')])\n",
    "pesection = remove_cols(telock, [c for c in cols if c.startswith('imp_') or 'api_import_nb' == c])\n",
    "pesection = remove_cols(telock, [c for c in cols if c.endswith('.dll') or 'dll_import_nb' == c])\n",
    "# pesection = remove_cols(telock, [c for c in cols if c.startswith('pesection')])\n",
    "pesection = remove_cols(telock, [c for c in cols if c.startswith('header_')])"
   ]
  },
  {
   "cell_type": "code",
   "execution_count": 58,
   "id": "edd8bc3e",
   "metadata": {
    "execution": {
     "iopub.execute_input": "2023-12-27T01:17:30.552796Z",
     "iopub.status.busy": "2023-12-27T01:17:30.552379Z",
     "iopub.status.idle": "2023-12-27T01:17:30.602887Z",
     "shell.execute_reply": "2023-12-27T01:17:30.601816Z"
    },
    "papermill": {
     "duration": 0.075258,
     "end_time": "2023-12-27T01:17:30.605518",
     "exception": false,
     "start_time": "2023-12-27T01:17:30.530260",
     "status": "completed"
    },
    "tags": []
   },
   "outputs": [],
   "source": [
    "df_7000_pesection = pesection.sample(n=7000, random_state=102)\n",
    "df_3000_pesection = pesection.drop(df_7000.index)\n",
    "data_pesection = df_7000_pesection.sample(n=3500, random_state=102)"
   ]
  },
  {
   "cell_type": "code",
   "execution_count": 59,
   "id": "60fb4319",
   "metadata": {
    "execution": {
     "iopub.execute_input": "2023-12-27T01:17:30.650190Z",
     "iopub.status.busy": "2023-12-27T01:17:30.649401Z",
     "iopub.status.idle": "2023-12-27T01:17:30.773073Z",
     "shell.execute_reply": "2023-12-27T01:17:30.771984Z"
    },
    "papermill": {
     "duration": 0.148093,
     "end_time": "2023-12-27T01:17:30.775617",
     "exception": false,
     "start_time": "2023-12-27T01:17:30.627524",
     "status": "completed"
    },
    "tags": []
   },
   "outputs": [
    {
     "name": "stdout",
     "output_type": "stream",
     "text": [
      "Packed Malware: 2995 samples\n",
      "Packed Benign: 505 samples\n",
      "Total TRAIN set: 3500 samples\n",
      "Packed Malware: 505 samples\n",
      "Packed Benign: 505 samples\n",
      "Total TRAIN set: 1010 samples\n",
      "Packed Malware: 432 samples\n",
      "Packed Benign: 432 samples\n",
      "Total TEST set: 864 samples\n"
     ]
    }
   ],
   "source": [
    "#Kiểm tra số lượng mẫu\n",
    "PM = data_pesection[(data_pesection['malicious'] == True) & (data_pesection['packed'] == True)].shape[0]\n",
    "PB = data_pesection[(data_pesection['malicious'] == False) & (data_pesection['packed'] == True)].shape[0]\n",
    "print('Packed Malware: %i samples' % PM)\n",
    "print('Packed Benign: %i samples' % PB)\n",
    "print('Total TRAIN set: %i samples'% (PM+PB))\n",
    "\n",
    "#Chia tỉ lệ 50 - 50\n",
    "data_PM_pesection = data_pesection[(data_pesection['malicious'] == True) & (data_pesection['packed'] == True)].sample(n=(PM-PB), random_state=102)\n",
    "data_pesection = data_pesection.drop(data_PM_pesection.index)\n",
    "      \n",
    "#Số lượng tập train\n",
    "PM = data_pesection[(data_pesection['malicious'] == True) & (data_pesection['packed'] == True)].shape[0]\n",
    "PB = data_pesection[(data_pesection['malicious'] == False) & (data_pesection['packed'] == True)].shape[0]\n",
    "print('Packed Malware: %i samples' % PM)\n",
    "print('Packed Benign: %i samples' % PB)\n",
    "print('Total TRAIN set: %i samples'% (PM+PB))\n",
    "\n",
    "#Xử lý tập train\n",
    "y = data_pesection['malicious'].values\n",
    "data_pesection = data_pesection.drop(['malicious','packed'], axis=1)\n",
    "\n",
    "PM = df_3000_pesection[(df_3000_pesection['malicious'] == True) & (df_3000_pesection['packed'] == True)].shape[0]\n",
    "PB = df_3000_pesection[(df_3000_pesection['malicious'] == False) & (df_3000_pesection['packed'] == True)].shape[0]\n",
    "\n",
    "df_3000_PM_pesection = df_3000_pesection[(df_3000_pesection['malicious'] == True) & (df_3000_pesection['packed'] == True)].sample(n=(PM-PB), random_state=102)\n",
    "df_3000_pesection = df_3000_pesection.drop(df_3000_PM_pesection.index)\n",
    "\n",
    "PM = df_3000_pesection[(df_3000_pesection['malicious'] == True) & (df_3000_pesection['packed'] == True)].shape[0]\n",
    "PB = df_3000_pesection[(df_3000_pesection['malicious'] == False) & (df_3000_pesection['packed'] == True)].shape[0]\n",
    "\n",
    "print('Packed Malware: %i samples' % PM)\n",
    "print('Packed Benign: %i samples' % PB)\n",
    "print('Total TEST set: %i samples'% (PM+PB))"
   ]
  },
  {
   "cell_type": "code",
   "execution_count": 60,
   "id": "fb501892",
   "metadata": {
    "execution": {
     "iopub.execute_input": "2023-12-27T01:17:30.818024Z",
     "iopub.status.busy": "2023-12-27T01:17:30.817648Z",
     "iopub.status.idle": "2023-12-27T01:17:30.848557Z",
     "shell.execute_reply": "2023-12-27T01:17:30.847784Z"
    },
    "papermill": {
     "duration": 0.054682,
     "end_time": "2023-12-27T01:17:30.850897",
     "exception": false,
     "start_time": "2023-12-27T01:17:30.796215",
     "status": "completed"
    },
    "tags": []
   },
   "outputs": [],
   "source": [
    "# model = SelectFromModel(fsel, prefit=True)\n",
    "\n",
    "X_train_pesection = data_pesection\n",
    "X_test_pesection = df_3000_pesection.drop(['malicious','packed'], axis=1)\n",
    "\n",
    "data_pesection = data_pesection.loc[:, (data_pesection != 0).any(axis=0)]\n",
    "x_train_pesection = data_pesection\n",
    "X_test_pesection = df_3000_pesection.drop(['malicious','packed'], axis=1)\n",
    "y_train_pesection = y\n",
    "y_test_pesection = df_3000_pesection['malicious'].values"
   ]
  },
  {
   "cell_type": "code",
   "execution_count": 61,
   "id": "d7ea560b",
   "metadata": {
    "execution": {
     "iopub.execute_input": "2023-12-27T01:17:30.894231Z",
     "iopub.status.busy": "2023-12-27T01:17:30.893323Z",
     "iopub.status.idle": "2023-12-27T01:17:31.328563Z",
     "shell.execute_reply": "2023-12-27T01:17:31.327320Z"
    },
    "papermill": {
     "duration": 0.459687,
     "end_time": "2023-12-27T01:17:31.330932",
     "exception": false,
     "start_time": "2023-12-27T01:17:30.871245",
     "status": "completed"
    },
    "tags": []
   },
   "outputs": [
    {
     "name": "stdout",
     "output_type": "stream",
     "text": [
      "The accuracy of the Random Forests model is :\t 0.8923611111111112\n"
     ]
    }
   ],
   "source": [
    "# Random Forest\n",
    "from sklearn.ensemble import RandomForestClassifier\n",
    "from sklearn import metrics\n",
    "\n",
    "random_forest = RandomForestClassifier(n_estimators=100, random_state=17)\n",
    "random_forest.fit(X_train_pesection, y_train_pesection)\n",
    "random_forest_preds = random_forest.predict(X_test_pesection)\n",
    "print('The accuracy of the Random Forests model is :\\t',metrics.accuracy_score(random_forest_preds,y_test_pesection))"
   ]
  },
  {
   "cell_type": "markdown",
   "id": "40df07bc",
   "metadata": {
    "papermill": {
     "duration": 0.020699,
     "end_time": "2023-12-27T01:17:31.373908",
     "exception": false,
     "start_time": "2023-12-27T01:17:31.353209",
     "status": "completed"
    },
    "tags": []
   },
   "source": [
    "# **pe header features**"
   ]
  },
  {
   "cell_type": "code",
   "execution_count": 62,
   "id": "4a6cc6e9",
   "metadata": {
    "execution": {
     "iopub.execute_input": "2023-12-27T01:17:31.416615Z",
     "iopub.status.busy": "2023-12-27T01:17:31.416070Z",
     "iopub.status.idle": "2023-12-27T01:17:33.189599Z",
     "shell.execute_reply": "2023-12-27T01:17:33.187795Z"
    },
    "papermill": {
     "duration": 1.798325,
     "end_time": "2023-12-27T01:17:33.192300",
     "exception": false,
     "start_time": "2023-12-27T01:17:31.393975",
     "status": "completed"
    },
    "tags": []
   },
   "outputs": [],
   "source": [
    "telock = pd.read_pickle('/kaggle/input/packer-balance-pickle/telock_balance.pickle')\n",
    "telock = telock.drop(['sample_sha1','benign','unpacked_sample_sha1','unpacked_sample_id'], axis=1)\n",
    "telock = telock.drop(['benign_vt','malicious_vt'], axis=1)\n",
    "string_columns = telock.select_dtypes(include=['object']).columns\n",
    "telock = telock.drop(string_columns, axis=1)"
   ]
  },
  {
   "cell_type": "code",
   "execution_count": 63,
   "id": "b52d0e2f",
   "metadata": {
    "execution": {
     "iopub.execute_input": "2023-12-27T01:17:33.237429Z",
     "iopub.status.busy": "2023-12-27T01:17:33.237031Z",
     "iopub.status.idle": "2023-12-27T01:17:34.399604Z",
     "shell.execute_reply": "2023-12-27T01:17:34.398302Z"
    },
    "papermill": {
     "duration": 1.188472,
     "end_time": "2023-12-27T01:17:34.401961",
     "exception": false,
     "start_time": "2023-12-27T01:17:33.213489",
     "status": "completed"
    },
    "tags": []
   },
   "outputs": [
    {
     "name": "stdout",
     "output_type": "stream",
     "text": [
      "removing 13000 features\n",
      "removing 2500 features\n",
      "removing 2 features\n",
      "removing 16900 features\n",
      "removing 66 features\n",
      "removing 19169 features\n",
      "removing 4306 features\n",
      "removing 550 features\n"
     ]
    }
   ],
   "source": [
    "header = remove_cols(telock, [c for c in cols if c.startswith('ngram_')])\n",
    "header = remove_cols(telock, [c for c in cols if c.startswith('opcode_')])\n",
    "header = remove_cols(telock, [c for c in cols if c.startswith('generic_')])\n",
    "header = remove_cols(telock, [c for c in cols if c.startswith('string_')])\n",
    "header = remove_cols(telock, [c for c in cols if c.startswith('rich_')])\n",
    "header = remove_cols(telock, [c for c in cols if c.startswith('imp_') or 'api_import_nb' == c])\n",
    "header = remove_cols(telock, [c for c in cols if c.endswith('.dll') or 'dll_import_nb' == c])\n",
    "header = remove_cols(telock, [c for c in cols if c.startswith('pesection')])\n",
    "# header = remove_cols(telock, [c for c in cols if c.startswith('header_')])"
   ]
  },
  {
   "cell_type": "code",
   "execution_count": 64,
   "id": "584b08ed",
   "metadata": {
    "execution": {
     "iopub.execute_input": "2023-12-27T01:17:34.444647Z",
     "iopub.status.busy": "2023-12-27T01:17:34.444256Z",
     "iopub.status.idle": "2023-12-27T01:17:34.456546Z",
     "shell.execute_reply": "2023-12-27T01:17:34.455503Z"
    },
    "papermill": {
     "duration": 0.036234,
     "end_time": "2023-12-27T01:17:34.458914",
     "exception": false,
     "start_time": "2023-12-27T01:17:34.422680",
     "status": "completed"
    },
    "tags": []
   },
   "outputs": [],
   "source": [
    "df_7000_header = header.sample(n=7000, random_state=102)\n",
    "df_3000_header = header.drop(df_7000.index)\n",
    "data_header = df_7000_header.sample(n=3500, random_state=102)"
   ]
  },
  {
   "cell_type": "code",
   "execution_count": 65,
   "id": "aef1f81f",
   "metadata": {
    "execution": {
     "iopub.execute_input": "2023-12-27T01:17:34.501600Z",
     "iopub.status.busy": "2023-12-27T01:17:34.500716Z",
     "iopub.status.idle": "2023-12-27T01:17:34.535853Z",
     "shell.execute_reply": "2023-12-27T01:17:34.534627Z"
    },
    "papermill": {
     "duration": 0.05915,
     "end_time": "2023-12-27T01:17:34.538324",
     "exception": false,
     "start_time": "2023-12-27T01:17:34.479174",
     "status": "completed"
    },
    "tags": []
   },
   "outputs": [
    {
     "name": "stdout",
     "output_type": "stream",
     "text": [
      "Packed Malware: 2995 samples\n",
      "Packed Benign: 505 samples\n",
      "Total TRAIN set: 3500 samples\n",
      "Packed Malware: 505 samples\n",
      "Packed Benign: 505 samples\n",
      "Total TRAIN set: 1010 samples\n",
      "Packed Malware: 432 samples\n",
      "Packed Benign: 432 samples\n",
      "Total TEST set: 864 samples\n"
     ]
    }
   ],
   "source": [
    "#Kiểm tra số lượng mẫu\n",
    "PM = data_header[(data_header['malicious'] == True) & (data_header['packed'] == True)].shape[0]\n",
    "PB = data_header[(data_header['malicious'] == False) & (data_header['packed'] == True)].shape[0]\n",
    "print('Packed Malware: %i samples' % PM)\n",
    "print('Packed Benign: %i samples' % PB)\n",
    "print('Total TRAIN set: %i samples'% (PM+PB))\n",
    "\n",
    "#Chia tỉ lệ 50 - 50\n",
    "data_PM_header = data_header[(data_header['malicious'] == True) & (data_header['packed'] == True)].sample(n=(PM-PB), random_state=102)\n",
    "data_header = data_header.drop(data_PM_header.index)\n",
    "      \n",
    "#Số lượng tập train\n",
    "PM = data_header[(data_header['malicious'] == True) & (data_header['packed'] == True)].shape[0]\n",
    "PB = data_header[(data_header['malicious'] == False) & (data_header['packed'] == True)].shape[0]\n",
    "print('Packed Malware: %i samples' % PM)\n",
    "print('Packed Benign: %i samples' % PB)\n",
    "print('Total TRAIN set: %i samples'% (PM+PB))\n",
    "\n",
    "#Xử lý tập train\n",
    "y = data_header['malicious'].values\n",
    "data_header= data_header.drop(['malicious','packed'], axis=1)\n",
    "\n",
    "PM = df_3000_header[(df_3000_header['malicious'] == True) & (df_3000_header['packed'] == True)].shape[0]\n",
    "PB = df_3000_header[(df_3000_header['malicious'] == False) & (df_3000_header['packed'] == True)].shape[0]\n",
    "\n",
    "df_3000_PM_header = df_3000_header[(df_3000_header['malicious'] == True) & (df_3000_header['packed'] == True)].sample(n=(PM-PB), random_state=102)\n",
    "df_3000_header= df_3000_header.drop(df_3000_PM_header.index)\n",
    "\n",
    "PM = df_3000_header[(df_3000_header['malicious'] == True) & (df_3000_header['packed'] == True)].shape[0]\n",
    "PB = df_3000_header[(df_3000_header['malicious'] == False) & (df_3000_header['packed'] == True)].shape[0]\n",
    "\n",
    "print('Packed Malware: %i samples' % PM)\n",
    "print('Packed Benign: %i samples' % PB)\n",
    "print('Total TEST set: %i samples'% (PM+PB))"
   ]
  },
  {
   "cell_type": "code",
   "execution_count": 66,
   "id": "b127a392",
   "metadata": {
    "execution": {
     "iopub.execute_input": "2023-12-27T01:17:34.581516Z",
     "iopub.status.busy": "2023-12-27T01:17:34.580899Z",
     "iopub.status.idle": "2023-12-27T01:17:34.590645Z",
     "shell.execute_reply": "2023-12-27T01:17:34.589921Z"
    },
    "papermill": {
     "duration": 0.034239,
     "end_time": "2023-12-27T01:17:34.592915",
     "exception": false,
     "start_time": "2023-12-27T01:17:34.558676",
     "status": "completed"
    },
    "tags": []
   },
   "outputs": [],
   "source": [
    "# model = SelectFromModel(fsel, prefit=True)\n",
    "\n",
    "X_train_header = data_header\n",
    "X_test_header = df_3000_header.drop(['malicious','packed'], axis=1)\n",
    "\n",
    "data_header = data_header.loc[:, (data_header != 0).any(axis=0)]\n",
    "x_train_header = data_header\n",
    "X_test_header = df_3000_header.drop(['malicious','packed'], axis=1)\n",
    "y_train_header = y\n",
    "y_test_header = df_3000_header['malicious'].values"
   ]
  },
  {
   "cell_type": "code",
   "execution_count": 67,
   "id": "5006b537",
   "metadata": {
    "execution": {
     "iopub.execute_input": "2023-12-27T01:17:34.636574Z",
     "iopub.status.busy": "2023-12-27T01:17:34.635947Z",
     "iopub.status.idle": "2023-12-27T01:17:34.913544Z",
     "shell.execute_reply": "2023-12-27T01:17:34.912735Z"
    },
    "papermill": {
     "duration": 0.301776,
     "end_time": "2023-12-27T01:17:34.915670",
     "exception": false,
     "start_time": "2023-12-27T01:17:34.613894",
     "status": "completed"
    },
    "tags": []
   },
   "outputs": [
    {
     "name": "stdout",
     "output_type": "stream",
     "text": [
      "The accuracy of the Random Forests model is :\t 0.8645833333333334\n"
     ]
    }
   ],
   "source": [
    "# Random Forest\n",
    "from sklearn.ensemble import RandomForestClassifier\n",
    "from sklearn import metrics\n",
    "\n",
    "random_forest = RandomForestClassifier(n_estimators=100, random_state=17)\n",
    "random_forest.fit(X_train_header, y_train_header)\n",
    "random_forest_preds = random_forest.predict(X_test_header)\n",
    "print('The accuracy of the Random Forests model is :\\t',metrics.accuracy_score(random_forest_preds,y_test_header))"
   ]
  }
 ],
 "metadata": {
  "kaggle": {
   "accelerator": "none",
   "dataSources": [
    {
     "datasetId": 4192384,
     "sourceId": 7262652,
     "sourceType": "datasetVersion"
    }
   ],
   "dockerImageVersionId": 30626,
   "isGpuEnabled": false,
   "isInternetEnabled": true,
   "language": "python",
   "sourceType": "notebook"
  },
  "kernelspec": {
   "display_name": "Python 3",
   "language": "python",
   "name": "python3"
  },
  "language_info": {
   "codemirror_mode": {
    "name": "ipython",
    "version": 3
   },
   "file_extension": ".py",
   "mimetype": "text/x-python",
   "name": "python",
   "nbconvert_exporter": "python",
   "pygments_lexer": "ipython3",
   "version": "3.10.12"
  },
  "papermill": {
   "default_parameters": {},
   "duration": 73.119475,
   "end_time": "2023-12-27T01:17:35.657873",
   "environment_variables": {},
   "exception": null,
   "input_path": "__notebook__.ipynb",
   "output_path": "__notebook__.ipynb",
   "parameters": {},
   "start_time": "2023-12-27T01:16:22.538398",
   "version": "2.4.0"
  }
 },
 "nbformat": 4,
 "nbformat_minor": 5
}
