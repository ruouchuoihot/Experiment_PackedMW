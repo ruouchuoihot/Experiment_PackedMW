{
 "cells": [
  {
   "cell_type": "code",
   "execution_count": 1,
   "id": "bf0e63f5",
   "metadata": {
    "execution": {
     "iopub.execute_input": "2023-12-27T01:15:54.426937Z",
     "iopub.status.busy": "2023-12-27T01:15:54.425443Z",
     "iopub.status.idle": "2023-12-27T01:15:57.682489Z",
     "shell.execute_reply": "2023-12-27T01:15:57.681276Z"
    },
    "papermill": {
     "duration": 3.287251,
     "end_time": "2023-12-27T01:15:57.685521",
     "exception": false,
     "start_time": "2023-12-27T01:15:54.398270",
     "status": "completed"
    },
    "tags": []
   },
   "outputs": [],
   "source": [
    "import pandas as pd\n",
    "import numpy as np\n",
    "import sklearn\n",
    "import sklearn.naive_bayes\n",
    "import sklearn.ensemble as ske\n",
    "import sklearn.neighbors\n",
    "import sklearn.pipeline\n",
    "import sklearn.linear_model\n",
    "import joblib\n",
    "from sklearn import preprocessing\n",
    "from sklearn import tree, linear_model\n",
    "from sklearn.metrics import confusion_matrix\n",
    "from sklearn.metrics import classification_report\n",
    "from sklearn.feature_selection import SelectFromModel\n",
    "import sys\n",
    "import sqlite3\n",
    "import importlib\n",
    "import matplotlib.pyplot as plt\n",
    "import seaborn as sn\n",
    "from sklearn import metrics"
   ]
  },
  {
   "cell_type": "code",
   "execution_count": 2,
   "id": "39a99313",
   "metadata": {
    "execution": {
     "iopub.execute_input": "2023-12-27T01:15:57.739616Z",
     "iopub.status.busy": "2023-12-27T01:15:57.739061Z",
     "iopub.status.idle": "2023-12-27T01:15:57.744019Z",
     "shell.execute_reply": "2023-12-27T01:15:57.742763Z"
    },
    "papermill": {
     "duration": 0.035206,
     "end_time": "2023-12-27T01:15:57.746494",
     "exception": false,
     "start_time": "2023-12-27T01:15:57.711288",
     "status": "completed"
    },
    "tags": []
   },
   "outputs": [],
   "source": [
    "# !pip install shap"
   ]
  },
  {
   "cell_type": "markdown",
   "id": "70749149",
   "metadata": {
    "papermill": {
     "duration": 0.024836,
     "end_time": "2023-12-27T01:15:57.796237",
     "exception": false,
     "start_time": "2023-12-27T01:15:57.771401",
     "status": "completed"
    },
    "tags": []
   },
   "source": [
    "# ****Dolphin packer****"
   ]
  },
  {
   "cell_type": "code",
   "execution_count": 3,
   "id": "29337135",
   "metadata": {
    "execution": {
     "iopub.execute_input": "2023-12-27T01:15:57.847546Z",
     "iopub.status.busy": "2023-12-27T01:15:57.847135Z",
     "iopub.status.idle": "2023-12-27T01:16:03.875752Z",
     "shell.execute_reply": "2023-12-27T01:16:03.874650Z"
    },
    "papermill": {
     "duration": 6.057634,
     "end_time": "2023-12-27T01:16:03.878476",
     "exception": false,
     "start_time": "2023-12-27T01:15:57.820842",
     "status": "completed"
    },
    "tags": []
   },
   "outputs": [],
   "source": [
    "df_dolphin = pd.read_pickle('/kaggle/input/packer-balance-pickle/dolphin_balance.pickle')"
   ]
  },
  {
   "cell_type": "code",
   "execution_count": 4,
   "id": "a4469172",
   "metadata": {
    "execution": {
     "iopub.execute_input": "2023-12-27T01:16:03.932356Z",
     "iopub.status.busy": "2023-12-27T01:16:03.931296Z",
     "iopub.status.idle": "2023-12-27T01:16:04.014965Z",
     "shell.execute_reply": "2023-12-27T01:16:04.013581Z"
    },
    "papermill": {
     "duration": 0.114294,
     "end_time": "2023-12-27T01:16:04.018021",
     "exception": false,
     "start_time": "2023-12-27T01:16:03.903727",
     "status": "completed"
    },
    "tags": []
   },
   "outputs": [
    {
     "data": {
      "text/html": [
       "<div>\n",
       "<style scoped>\n",
       "    .dataframe tbody tr th:only-of-type {\n",
       "        vertical-align: middle;\n",
       "    }\n",
       "\n",
       "    .dataframe tbody tr th {\n",
       "        vertical-align: top;\n",
       "    }\n",
       "\n",
       "    .dataframe thead th {\n",
       "        text-align: right;\n",
       "    }\n",
       "</style>\n",
       "<table border=\"1\" class=\"dataframe\">\n",
       "  <thead>\n",
       "    <tr style=\"text-align: right;\">\n",
       "      <th></th>\n",
       "      <th>sample_sha1</th>\n",
       "      <th>benign</th>\n",
       "      <th>malicious</th>\n",
       "      <th>packed</th>\n",
       "      <th>unpacked_sample_sha1</th>\n",
       "      <th>unpacked_sample_id</th>\n",
       "      <th>packer_name</th>\n",
       "      <th>imp_setupremovefilelogentrya</th>\n",
       "      <th>imp_vardeccmp</th>\n",
       "      <th>imp_setdlgitemint</th>\n",
       "      <th>...</th>\n",
       "      <th>opcode_xor sub mov</th>\n",
       "      <th>opcode_xor sub mov add</th>\n",
       "      <th>opcode_xor test</th>\n",
       "      <th>opcode_xor test je</th>\n",
       "      <th>opcode_xor xor</th>\n",
       "      <th>opcode_xor xor mov</th>\n",
       "      <th>opcode_xor xor pop</th>\n",
       "      <th>opcode_xor xor pop mov</th>\n",
       "      <th>opcode_xor xor xor</th>\n",
       "      <th>opcode_xor xor xor pop</th>\n",
       "    </tr>\n",
       "  </thead>\n",
       "  <tbody>\n",
       "    <tr>\n",
       "      <th>0</th>\n",
       "      <td>973ec487dda24c74207945fb3ac18fc91426a88c</td>\n",
       "      <td>False</td>\n",
       "      <td>True</td>\n",
       "      <td>True</td>\n",
       "      <td>ea4e26df309eae3d4f6c07c47254d0fff021bd5a</td>\n",
       "      <td>183243</td>\n",
       "      <td>dolphin-dropper-3</td>\n",
       "      <td>False</td>\n",
       "      <td>False</td>\n",
       "      <td>False</td>\n",
       "      <td>...</td>\n",
       "      <td>0.0</td>\n",
       "      <td>0.0</td>\n",
       "      <td>0.000479</td>\n",
       "      <td>0.000172</td>\n",
       "      <td>0.000597</td>\n",
       "      <td>0.000481</td>\n",
       "      <td>0.0</td>\n",
       "      <td>0.0</td>\n",
       "      <td>0.000641</td>\n",
       "      <td>0.0</td>\n",
       "    </tr>\n",
       "    <tr>\n",
       "      <th>2</th>\n",
       "      <td>9e5f5d4d33c4fd594a609e51068933809e28c982</td>\n",
       "      <td>True</td>\n",
       "      <td>False</td>\n",
       "      <td>True</td>\n",
       "      <td>4e276aed9cf22b997966f0215fcf445bec1a0674</td>\n",
       "      <td>14664</td>\n",
       "      <td>dolphin-dropper-3</td>\n",
       "      <td>False</td>\n",
       "      <td>False</td>\n",
       "      <td>False</td>\n",
       "      <td>...</td>\n",
       "      <td>0.0</td>\n",
       "      <td>0.0</td>\n",
       "      <td>0.000479</td>\n",
       "      <td>0.000172</td>\n",
       "      <td>0.000597</td>\n",
       "      <td>0.000481</td>\n",
       "      <td>0.0</td>\n",
       "      <td>0.0</td>\n",
       "      <td>0.000641</td>\n",
       "      <td>0.0</td>\n",
       "    </tr>\n",
       "    <tr>\n",
       "      <th>9</th>\n",
       "      <td>ecc46a22630162d655d50580d218c44b1db468c8</td>\n",
       "      <td>True</td>\n",
       "      <td>False</td>\n",
       "      <td>True</td>\n",
       "      <td>3cbd2be565f3a29207dba7dbd69cb4cfb4f5771f</td>\n",
       "      <td>11103</td>\n",
       "      <td>dolphin-dropper-3</td>\n",
       "      <td>False</td>\n",
       "      <td>False</td>\n",
       "      <td>False</td>\n",
       "      <td>...</td>\n",
       "      <td>0.0</td>\n",
       "      <td>0.0</td>\n",
       "      <td>0.000479</td>\n",
       "      <td>0.000172</td>\n",
       "      <td>0.000597</td>\n",
       "      <td>0.000481</td>\n",
       "      <td>0.0</td>\n",
       "      <td>0.0</td>\n",
       "      <td>0.000641</td>\n",
       "      <td>0.0</td>\n",
       "    </tr>\n",
       "    <tr>\n",
       "      <th>25</th>\n",
       "      <td>ea54c015a7bccd29626d0d708595ea7bad53e673</td>\n",
       "      <td>False</td>\n",
       "      <td>True</td>\n",
       "      <td>True</td>\n",
       "      <td>8ce1d6dbc590745c1cd28632fa0f1e10c7d83412</td>\n",
       "      <td>3977</td>\n",
       "      <td>dolphin-dropper-3</td>\n",
       "      <td>False</td>\n",
       "      <td>False</td>\n",
       "      <td>False</td>\n",
       "      <td>...</td>\n",
       "      <td>0.0</td>\n",
       "      <td>0.0</td>\n",
       "      <td>0.000479</td>\n",
       "      <td>0.000172</td>\n",
       "      <td>0.000597</td>\n",
       "      <td>0.000481</td>\n",
       "      <td>0.0</td>\n",
       "      <td>0.0</td>\n",
       "      <td>0.000641</td>\n",
       "      <td>0.0</td>\n",
       "    </tr>\n",
       "    <tr>\n",
       "      <th>27</th>\n",
       "      <td>1cbe7ecea7677b911a68691f7865da615f859ee8</td>\n",
       "      <td>False</td>\n",
       "      <td>True</td>\n",
       "      <td>True</td>\n",
       "      <td>63771c9bbc7adb064b3f566417666650fc44871d</td>\n",
       "      <td>162730</td>\n",
       "      <td>dolphin-dropper-3</td>\n",
       "      <td>False</td>\n",
       "      <td>False</td>\n",
       "      <td>False</td>\n",
       "      <td>...</td>\n",
       "      <td>0.0</td>\n",
       "      <td>0.0</td>\n",
       "      <td>0.000479</td>\n",
       "      <td>0.000172</td>\n",
       "      <td>0.000597</td>\n",
       "      <td>0.000481</td>\n",
       "      <td>0.0</td>\n",
       "      <td>0.0</td>\n",
       "      <td>0.000641</td>\n",
       "      <td>0.0</td>\n",
       "    </tr>\n",
       "  </tbody>\n",
       "</table>\n",
       "<p>5 rows × 56555 columns</p>\n",
       "</div>"
      ],
      "text/plain": [
       "                                 sample_sha1  benign  malicious  packed  \\\n",
       "0   973ec487dda24c74207945fb3ac18fc91426a88c   False       True    True   \n",
       "2   9e5f5d4d33c4fd594a609e51068933809e28c982    True      False    True   \n",
       "9   ecc46a22630162d655d50580d218c44b1db468c8    True      False    True   \n",
       "25  ea54c015a7bccd29626d0d708595ea7bad53e673   False       True    True   \n",
       "27  1cbe7ecea7677b911a68691f7865da615f859ee8   False       True    True   \n",
       "\n",
       "                        unpacked_sample_sha1  unpacked_sample_id  \\\n",
       "0   ea4e26df309eae3d4f6c07c47254d0fff021bd5a              183243   \n",
       "2   4e276aed9cf22b997966f0215fcf445bec1a0674               14664   \n",
       "9   3cbd2be565f3a29207dba7dbd69cb4cfb4f5771f               11103   \n",
       "25  8ce1d6dbc590745c1cd28632fa0f1e10c7d83412                3977   \n",
       "27  63771c9bbc7adb064b3f566417666650fc44871d              162730   \n",
       "\n",
       "          packer_name  imp_setupremovefilelogentrya  imp_vardeccmp  \\\n",
       "0   dolphin-dropper-3                         False          False   \n",
       "2   dolphin-dropper-3                         False          False   \n",
       "9   dolphin-dropper-3                         False          False   \n",
       "25  dolphin-dropper-3                         False          False   \n",
       "27  dolphin-dropper-3                         False          False   \n",
       "\n",
       "    imp_setdlgitemint  ...  opcode_xor sub mov  opcode_xor sub mov add  \\\n",
       "0               False  ...                 0.0                     0.0   \n",
       "2               False  ...                 0.0                     0.0   \n",
       "9               False  ...                 0.0                     0.0   \n",
       "25              False  ...                 0.0                     0.0   \n",
       "27              False  ...                 0.0                     0.0   \n",
       "\n",
       "    opcode_xor test  opcode_xor test je  opcode_xor xor  opcode_xor xor mov  \\\n",
       "0          0.000479            0.000172        0.000597            0.000481   \n",
       "2          0.000479            0.000172        0.000597            0.000481   \n",
       "9          0.000479            0.000172        0.000597            0.000481   \n",
       "25         0.000479            0.000172        0.000597            0.000481   \n",
       "27         0.000479            0.000172        0.000597            0.000481   \n",
       "\n",
       "    opcode_xor xor pop  opcode_xor xor pop mov  opcode_xor xor xor  \\\n",
       "0                  0.0                     0.0            0.000641   \n",
       "2                  0.0                     0.0            0.000641   \n",
       "9                  0.0                     0.0            0.000641   \n",
       "25                 0.0                     0.0            0.000641   \n",
       "27                 0.0                     0.0            0.000641   \n",
       "\n",
       "    opcode_xor xor xor pop  \n",
       "0                      0.0  \n",
       "2                      0.0  \n",
       "9                      0.0  \n",
       "25                     0.0  \n",
       "27                     0.0  \n",
       "\n",
       "[5 rows x 56555 columns]"
      ]
     },
     "execution_count": 4,
     "metadata": {},
     "output_type": "execute_result"
    }
   ],
   "source": [
    "df_dolphin.head()"
   ]
  },
  {
   "cell_type": "code",
   "execution_count": 5,
   "id": "60efa774",
   "metadata": {
    "execution": {
     "iopub.execute_input": "2023-12-27T01:16:04.076531Z",
     "iopub.status.busy": "2023-12-27T01:16:04.074830Z",
     "iopub.status.idle": "2023-12-27T01:16:05.277346Z",
     "shell.execute_reply": "2023-12-27T01:16:05.275956Z"
    },
    "papermill": {
     "duration": 1.235296,
     "end_time": "2023-12-27T01:16:05.280404",
     "exception": false,
     "start_time": "2023-12-27T01:16:04.045108",
     "status": "completed"
    },
    "tags": []
   },
   "outputs": [],
   "source": [
    "df_dolphin = df_dolphin.drop(['sample_sha1','benign','unpacked_sample_sha1','unpacked_sample_id'], axis=1)\n",
    "df_dolphin = df_dolphin.drop(['benign_vt','malicious_vt'], axis=1)"
   ]
  },
  {
   "cell_type": "code",
   "execution_count": 6,
   "id": "b9f17b97",
   "metadata": {
    "execution": {
     "iopub.execute_input": "2023-12-27T01:16:05.334236Z",
     "iopub.status.busy": "2023-12-27T01:16:05.333333Z",
     "iopub.status.idle": "2023-12-27T01:16:05.687528Z",
     "shell.execute_reply": "2023-12-27T01:16:05.686294Z"
    },
    "papermill": {
     "duration": 0.384716,
     "end_time": "2023-12-27T01:16:05.690495",
     "exception": false,
     "start_time": "2023-12-27T01:16:05.305779",
     "status": "completed"
    },
    "tags": []
   },
   "outputs": [],
   "source": [
    "string_columns = df_dolphin.select_dtypes(include=['object']).columns\n",
    "df_dolphin = df_dolphin.drop(string_columns, axis=1)"
   ]
  },
  {
   "cell_type": "code",
   "execution_count": 7,
   "id": "1d1e93f6",
   "metadata": {
    "execution": {
     "iopub.execute_input": "2023-12-27T01:16:05.743637Z",
     "iopub.status.busy": "2023-12-27T01:16:05.742595Z",
     "iopub.status.idle": "2023-12-27T01:16:05.788995Z",
     "shell.execute_reply": "2023-12-27T01:16:05.787767Z"
    },
    "papermill": {
     "duration": 0.075892,
     "end_time": "2023-12-27T01:16:05.791552",
     "exception": false,
     "start_time": "2023-12-27T01:16:05.715660",
     "status": "completed"
    },
    "tags": []
   },
   "outputs": [
    {
     "data": {
      "text/html": [
       "<div>\n",
       "<style scoped>\n",
       "    .dataframe tbody tr th:only-of-type {\n",
       "        vertical-align: middle;\n",
       "    }\n",
       "\n",
       "    .dataframe tbody tr th {\n",
       "        vertical-align: top;\n",
       "    }\n",
       "\n",
       "    .dataframe thead th {\n",
       "        text-align: right;\n",
       "    }\n",
       "</style>\n",
       "<table border=\"1\" class=\"dataframe\">\n",
       "  <thead>\n",
       "    <tr style=\"text-align: right;\">\n",
       "      <th></th>\n",
       "      <th>malicious</th>\n",
       "      <th>packed</th>\n",
       "      <th>imp_setupremovefilelogentrya</th>\n",
       "      <th>imp_vardeccmp</th>\n",
       "      <th>imp_setdlgitemint</th>\n",
       "      <th>imp_?append@?$basic_string@du?$char_traits@d@std@@v?$allocator@d@2@@std@@qaeaav12@abv12@ii@z</th>\n",
       "      <th>imp_zwwritefile</th>\n",
       "      <th>imp_glstencilop</th>\n",
       "      <th>imp_comparelinkinforeferents</th>\n",
       "      <th>imp__setmbcp</th>\n",
       "      <th>...</th>\n",
       "      <th>opcode_xor sub mov</th>\n",
       "      <th>opcode_xor sub mov add</th>\n",
       "      <th>opcode_xor test</th>\n",
       "      <th>opcode_xor test je</th>\n",
       "      <th>opcode_xor xor</th>\n",
       "      <th>opcode_xor xor mov</th>\n",
       "      <th>opcode_xor xor pop</th>\n",
       "      <th>opcode_xor xor pop mov</th>\n",
       "      <th>opcode_xor xor xor</th>\n",
       "      <th>opcode_xor xor xor pop</th>\n",
       "    </tr>\n",
       "  </thead>\n",
       "  <tbody>\n",
       "    <tr>\n",
       "      <th>0</th>\n",
       "      <td>True</td>\n",
       "      <td>True</td>\n",
       "      <td>False</td>\n",
       "      <td>False</td>\n",
       "      <td>False</td>\n",
       "      <td>False</td>\n",
       "      <td>False</td>\n",
       "      <td>False</td>\n",
       "      <td>False</td>\n",
       "      <td>False</td>\n",
       "      <td>...</td>\n",
       "      <td>0.0</td>\n",
       "      <td>0.0</td>\n",
       "      <td>0.000479</td>\n",
       "      <td>0.000172</td>\n",
       "      <td>0.000597</td>\n",
       "      <td>0.000481</td>\n",
       "      <td>0.0</td>\n",
       "      <td>0.0</td>\n",
       "      <td>0.000641</td>\n",
       "      <td>0.0</td>\n",
       "    </tr>\n",
       "    <tr>\n",
       "      <th>2</th>\n",
       "      <td>False</td>\n",
       "      <td>True</td>\n",
       "      <td>False</td>\n",
       "      <td>False</td>\n",
       "      <td>False</td>\n",
       "      <td>False</td>\n",
       "      <td>False</td>\n",
       "      <td>False</td>\n",
       "      <td>False</td>\n",
       "      <td>False</td>\n",
       "      <td>...</td>\n",
       "      <td>0.0</td>\n",
       "      <td>0.0</td>\n",
       "      <td>0.000479</td>\n",
       "      <td>0.000172</td>\n",
       "      <td>0.000597</td>\n",
       "      <td>0.000481</td>\n",
       "      <td>0.0</td>\n",
       "      <td>0.0</td>\n",
       "      <td>0.000641</td>\n",
       "      <td>0.0</td>\n",
       "    </tr>\n",
       "    <tr>\n",
       "      <th>9</th>\n",
       "      <td>False</td>\n",
       "      <td>True</td>\n",
       "      <td>False</td>\n",
       "      <td>False</td>\n",
       "      <td>False</td>\n",
       "      <td>False</td>\n",
       "      <td>False</td>\n",
       "      <td>False</td>\n",
       "      <td>False</td>\n",
       "      <td>False</td>\n",
       "      <td>...</td>\n",
       "      <td>0.0</td>\n",
       "      <td>0.0</td>\n",
       "      <td>0.000479</td>\n",
       "      <td>0.000172</td>\n",
       "      <td>0.000597</td>\n",
       "      <td>0.000481</td>\n",
       "      <td>0.0</td>\n",
       "      <td>0.0</td>\n",
       "      <td>0.000641</td>\n",
       "      <td>0.0</td>\n",
       "    </tr>\n",
       "    <tr>\n",
       "      <th>25</th>\n",
       "      <td>True</td>\n",
       "      <td>True</td>\n",
       "      <td>False</td>\n",
       "      <td>False</td>\n",
       "      <td>False</td>\n",
       "      <td>False</td>\n",
       "      <td>False</td>\n",
       "      <td>False</td>\n",
       "      <td>False</td>\n",
       "      <td>False</td>\n",
       "      <td>...</td>\n",
       "      <td>0.0</td>\n",
       "      <td>0.0</td>\n",
       "      <td>0.000479</td>\n",
       "      <td>0.000172</td>\n",
       "      <td>0.000597</td>\n",
       "      <td>0.000481</td>\n",
       "      <td>0.0</td>\n",
       "      <td>0.0</td>\n",
       "      <td>0.000641</td>\n",
       "      <td>0.0</td>\n",
       "    </tr>\n",
       "    <tr>\n",
       "      <th>27</th>\n",
       "      <td>True</td>\n",
       "      <td>True</td>\n",
       "      <td>False</td>\n",
       "      <td>False</td>\n",
       "      <td>False</td>\n",
       "      <td>False</td>\n",
       "      <td>False</td>\n",
       "      <td>False</td>\n",
       "      <td>False</td>\n",
       "      <td>False</td>\n",
       "      <td>...</td>\n",
       "      <td>0.0</td>\n",
       "      <td>0.0</td>\n",
       "      <td>0.000479</td>\n",
       "      <td>0.000172</td>\n",
       "      <td>0.000597</td>\n",
       "      <td>0.000481</td>\n",
       "      <td>0.0</td>\n",
       "      <td>0.0</td>\n",
       "      <td>0.000641</td>\n",
       "      <td>0.0</td>\n",
       "    </tr>\n",
       "  </tbody>\n",
       "</table>\n",
       "<p>5 rows × 56526 columns</p>\n",
       "</div>"
      ],
      "text/plain": [
       "    malicious  packed  imp_setupremovefilelogentrya  imp_vardeccmp  \\\n",
       "0        True    True                         False          False   \n",
       "2       False    True                         False          False   \n",
       "9       False    True                         False          False   \n",
       "25       True    True                         False          False   \n",
       "27       True    True                         False          False   \n",
       "\n",
       "    imp_setdlgitemint  \\\n",
       "0               False   \n",
       "2               False   \n",
       "9               False   \n",
       "25              False   \n",
       "27              False   \n",
       "\n",
       "    imp_?append@?$basic_string@du?$char_traits@d@std@@v?$allocator@d@2@@std@@qaeaav12@abv12@ii@z  \\\n",
       "0                                               False                                              \n",
       "2                                               False                                              \n",
       "9                                               False                                              \n",
       "25                                              False                                              \n",
       "27                                              False                                              \n",
       "\n",
       "    imp_zwwritefile  imp_glstencilop  imp_comparelinkinforeferents  \\\n",
       "0             False            False                         False   \n",
       "2             False            False                         False   \n",
       "9             False            False                         False   \n",
       "25            False            False                         False   \n",
       "27            False            False                         False   \n",
       "\n",
       "    imp__setmbcp  ...  opcode_xor sub mov  opcode_xor sub mov add  \\\n",
       "0          False  ...                 0.0                     0.0   \n",
       "2          False  ...                 0.0                     0.0   \n",
       "9          False  ...                 0.0                     0.0   \n",
       "25         False  ...                 0.0                     0.0   \n",
       "27         False  ...                 0.0                     0.0   \n",
       "\n",
       "    opcode_xor test  opcode_xor test je  opcode_xor xor  opcode_xor xor mov  \\\n",
       "0          0.000479            0.000172        0.000597            0.000481   \n",
       "2          0.000479            0.000172        0.000597            0.000481   \n",
       "9          0.000479            0.000172        0.000597            0.000481   \n",
       "25         0.000479            0.000172        0.000597            0.000481   \n",
       "27         0.000479            0.000172        0.000597            0.000481   \n",
       "\n",
       "    opcode_xor xor pop  opcode_xor xor pop mov  opcode_xor xor xor  \\\n",
       "0                  0.0                     0.0            0.000641   \n",
       "2                  0.0                     0.0            0.000641   \n",
       "9                  0.0                     0.0            0.000641   \n",
       "25                 0.0                     0.0            0.000641   \n",
       "27                 0.0                     0.0            0.000641   \n",
       "\n",
       "    opcode_xor xor xor pop  \n",
       "0                      0.0  \n",
       "2                      0.0  \n",
       "9                      0.0  \n",
       "25                     0.0  \n",
       "27                     0.0  \n",
       "\n",
       "[5 rows x 56526 columns]"
      ]
     },
     "execution_count": 7,
     "metadata": {},
     "output_type": "execute_result"
    }
   ],
   "source": [
    "df_dolphin.head()"
   ]
  },
  {
   "cell_type": "code",
   "execution_count": 8,
   "id": "c60869ad",
   "metadata": {
    "execution": {
     "iopub.execute_input": "2023-12-27T01:16:05.911573Z",
     "iopub.status.busy": "2023-12-27T01:16:05.911139Z",
     "iopub.status.idle": "2023-12-27T01:16:06.878190Z",
     "shell.execute_reply": "2023-12-27T01:16:06.876985Z"
    },
    "papermill": {
     "duration": 0.997689,
     "end_time": "2023-12-27T01:16:06.881040",
     "exception": false,
     "start_time": "2023-12-27T01:16:05.883351",
     "status": "completed"
    },
    "tags": []
   },
   "outputs": [],
   "source": [
    "df_7000 = df_dolphin.sample(n=7000, random_state=102)\n",
    "df_3000 = df_dolphin.drop(df_7000.index)"
   ]
  },
  {
   "cell_type": "code",
   "execution_count": 9,
   "id": "ec21dd53",
   "metadata": {
    "execution": {
     "iopub.execute_input": "2023-12-27T01:16:06.935998Z",
     "iopub.status.busy": "2023-12-27T01:16:06.935498Z",
     "iopub.status.idle": "2023-12-27T01:16:07.345013Z",
     "shell.execute_reply": "2023-12-27T01:16:07.343692Z"
    },
    "papermill": {
     "duration": 0.441273,
     "end_time": "2023-12-27T01:16:07.348410",
     "exception": false,
     "start_time": "2023-12-27T01:16:06.907137",
     "status": "completed"
    },
    "tags": []
   },
   "outputs": [],
   "source": [
    "data = df_7000.sample(n=3500, random_state=102)"
   ]
  },
  {
   "cell_type": "code",
   "execution_count": 10,
   "id": "d6e6c942",
   "metadata": {
    "execution": {
     "iopub.execute_input": "2023-12-27T01:16:07.402847Z",
     "iopub.status.busy": "2023-12-27T01:16:07.402406Z",
     "iopub.status.idle": "2023-12-27T01:16:07.765665Z",
     "shell.execute_reply": "2023-12-27T01:16:07.764713Z"
    },
    "papermill": {
     "duration": 0.393432,
     "end_time": "2023-12-27T01:16:07.768047",
     "exception": false,
     "start_time": "2023-12-27T01:16:07.374615",
     "status": "completed"
    },
    "tags": []
   },
   "outputs": [
    {
     "name": "stdout",
     "output_type": "stream",
     "text": [
      "Packed Malware: 2322 samples\n",
      "Packed Benign: 1178 samples\n",
      "Total TRAIN set: 3500 samples\n"
     ]
    }
   ],
   "source": [
    "#Kiểm tra số lượng mẫu\n",
    "PM = data[(data['malicious'] == True) & (data['packed'] == True)].shape[0]\n",
    "PB = data[(data['malicious'] == False) & (data['packed'] == True)].shape[0]\n",
    "print('Packed Malware: %i samples' % PM)\n",
    "print('Packed Benign: %i samples' % PB)\n",
    "print('Total TRAIN set: %i samples'% (PM+PB))"
   ]
  },
  {
   "cell_type": "code",
   "execution_count": 11,
   "id": "8189a6d3",
   "metadata": {
    "execution": {
     "iopub.execute_input": "2023-12-27T01:16:07.823082Z",
     "iopub.status.busy": "2023-12-27T01:16:07.821765Z",
     "iopub.status.idle": "2023-12-27T01:16:08.350360Z",
     "shell.execute_reply": "2023-12-27T01:16:08.349119Z"
    },
    "papermill": {
     "duration": 0.558813,
     "end_time": "2023-12-27T01:16:08.353391",
     "exception": false,
     "start_time": "2023-12-27T01:16:07.794578",
     "status": "completed"
    },
    "tags": []
   },
   "outputs": [],
   "source": [
    "#Chia tỉ lệ 50 - 50\n",
    "data_PM = data[(data['malicious'] == True) & (data['packed'] == True)].sample(n=(PM-PB), random_state=102)\n",
    "data = data.drop(data_PM.index)"
   ]
  },
  {
   "cell_type": "code",
   "execution_count": 12,
   "id": "d35a7267",
   "metadata": {
    "execution": {
     "iopub.execute_input": "2023-12-27T01:16:08.408811Z",
     "iopub.status.busy": "2023-12-27T01:16:08.407671Z",
     "iopub.status.idle": "2023-12-27T01:16:08.616553Z",
     "shell.execute_reply": "2023-12-27T01:16:08.615137Z"
    },
    "papermill": {
     "duration": 0.239158,
     "end_time": "2023-12-27T01:16:08.619293",
     "exception": false,
     "start_time": "2023-12-27T01:16:08.380135",
     "status": "completed"
    },
    "tags": []
   },
   "outputs": [
    {
     "name": "stdout",
     "output_type": "stream",
     "text": [
      "Packed Malware: 1178 samples\n",
      "Packed Benign: 1178 samples\n",
      "Total TRAIN set: 2356 samples\n"
     ]
    }
   ],
   "source": [
    "#Số lượng tập train\n",
    "PM = data[(data['malicious'] == True) & (data['packed'] == True)].shape[0]\n",
    "PB = data[(data['malicious'] == False) & (data['packed'] == True)].shape[0]\n",
    "print('Packed Malware: %i samples' % PM)\n",
    "print('Packed Benign: %i samples' % PB)\n",
    "print('Total TRAIN set: %i samples'% (PM+PB))"
   ]
  },
  {
   "cell_type": "code",
   "execution_count": 13,
   "id": "4135e7b9",
   "metadata": {
    "execution": {
     "iopub.execute_input": "2023-12-27T01:16:08.673714Z",
     "iopub.status.busy": "2023-12-27T01:16:08.673268Z",
     "iopub.status.idle": "2023-12-27T01:16:08.769092Z",
     "shell.execute_reply": "2023-12-27T01:16:08.767688Z"
    },
    "papermill": {
     "duration": 0.126519,
     "end_time": "2023-12-27T01:16:08.772089",
     "exception": false,
     "start_time": "2023-12-27T01:16:08.645570",
     "status": "completed"
    },
    "tags": []
   },
   "outputs": [],
   "source": [
    "#Xử lý tập train\n",
    "y = data['malicious'].values\n",
    "data = data.drop(['malicious','packed'], axis=1)"
   ]
  },
  {
   "cell_type": "code",
   "execution_count": 14,
   "id": "b7eef645",
   "metadata": {
    "execution": {
     "iopub.execute_input": "2023-12-27T01:16:08.827041Z",
     "iopub.status.busy": "2023-12-27T01:16:08.826526Z",
     "iopub.status.idle": "2023-12-27T01:16:09.676386Z",
     "shell.execute_reply": "2023-12-27T01:16:09.675034Z"
    },
    "papermill": {
     "duration": 0.88053,
     "end_time": "2023-12-27T01:16:09.679294",
     "exception": false,
     "start_time": "2023-12-27T01:16:08.798764",
     "status": "completed"
    },
    "tags": []
   },
   "outputs": [
    {
     "name": "stdout",
     "output_type": "stream",
     "text": [
      "Packed Malware: 1022 samples\n",
      "Packed Benign: 1022 samples\n",
      "Total TEST set: 2044 samples\n"
     ]
    }
   ],
   "source": [
    "PM = df_3000[(df_3000['malicious'] == True) & (df_3000['packed'] == True)].shape[0]\n",
    "PB = df_3000[(df_3000['malicious'] == False) & (df_3000['packed'] == True)].shape[0]\n",
    "\n",
    "df_3000_PM = df_3000[(df_3000['malicious'] == True) & (df_3000['packed'] == True)].sample(n=(PM-PB), random_state=102)\n",
    "df_3000 = df_3000.drop(df_3000_PM.index)\n",
    "\n",
    "PM = df_3000[(df_3000['malicious'] == True) & (df_3000['packed'] == True)].shape[0]\n",
    "PB = df_3000[(df_3000['malicious'] == False) & (df_3000['packed'] == True)].shape[0]\n",
    "\n",
    "print('Packed Malware: %i samples' % PM)\n",
    "print('Packed Benign: %i samples' % PB)\n",
    "print('Total TEST set: %i samples'% (PM+PB))"
   ]
  },
  {
   "cell_type": "code",
   "execution_count": 15,
   "id": "17e153a5",
   "metadata": {
    "execution": {
     "iopub.execute_input": "2023-12-27T01:16:09.735240Z",
     "iopub.status.busy": "2023-12-27T01:16:09.734372Z",
     "iopub.status.idle": "2023-12-27T01:16:10.129808Z",
     "shell.execute_reply": "2023-12-27T01:16:10.128571Z"
    },
    "papermill": {
     "duration": 0.426671,
     "end_time": "2023-12-27T01:16:10.132828",
     "exception": false,
     "start_time": "2023-12-27T01:16:09.706157",
     "status": "completed"
    },
    "tags": []
   },
   "outputs": [],
   "source": [
    "# model = SelectFromModel(fsel, prefit=True)\n",
    "\n",
    "X_train = data\n",
    "X_test = df_3000.drop(['malicious','packed'], axis=1)\n",
    "\n",
    "data = data.loc[:, (data != 0).any(axis=0)]\n",
    "x_train = data\n",
    "X_test = df_3000.drop(['malicious','packed'], axis=1)\n",
    "y_train = y\n",
    "y_test = df_3000['malicious'].values"
   ]
  },
  {
   "cell_type": "code",
   "execution_count": 16,
   "id": "fc26bc1e",
   "metadata": {
    "execution": {
     "iopub.execute_input": "2023-12-27T01:16:10.187726Z",
     "iopub.status.busy": "2023-12-27T01:16:10.187325Z",
     "iopub.status.idle": "2023-12-27T01:17:05.199980Z",
     "shell.execute_reply": "2023-12-27T01:17:05.198708Z"
    },
    "papermill": {
     "duration": 55.070379,
     "end_time": "2023-12-27T01:17:05.229359",
     "exception": false,
     "start_time": "2023-12-27T01:16:10.158980",
     "status": "completed"
    },
    "tags": []
   },
   "outputs": [
    {
     "name": "stdout",
     "output_type": "stream",
     "text": [
      "The accuracy of the Random Forests model is :\t 0.724559686888454\n"
     ]
    }
   ],
   "source": [
    "# Random Forest\n",
    "from sklearn.ensemble import RandomForestClassifier\n",
    "from sklearn import metrics\n",
    "\n",
    "random_forest = RandomForestClassifier(n_estimators=100, random_state=17)\n",
    "random_forest.fit(X_train, y_train)\n",
    "random_forest_preds = random_forest.predict(X_test)\n",
    "print('The accuracy of the Random Forests model is :\\t',metrics.accuracy_score(random_forest_preds,y_test))"
   ]
  },
  {
   "cell_type": "code",
   "execution_count": 17,
   "id": "5b4b8cb2",
   "metadata": {
    "execution": {
     "iopub.execute_input": "2023-12-27T01:17:05.285113Z",
     "iopub.status.busy": "2023-12-27T01:17:05.284641Z",
     "iopub.status.idle": "2023-12-27T01:17:05.365803Z",
     "shell.execute_reply": "2023-12-27T01:17:05.364584Z"
    },
    "papermill": {
     "duration": 0.111969,
     "end_time": "2023-12-27T01:17:05.368580",
     "exception": false,
     "start_time": "2023-12-27T01:17:05.256611",
     "status": "completed"
    },
    "tags": []
   },
   "outputs": [
    {
     "data": {
      "text/plain": [
       "generic_fileSize              0.365492\n",
       "generic_fileEntropy           0.345911\n",
       "string_b'ezkb'                0.001567\n",
       "string_b'a=O&'                0.001400\n",
       "string_b'E WW'                0.001232\n",
       "                                ...   \n",
       "imp_pyobject_gc_untrack       0.000000\n",
       "imp_pycfunction_newex         0.000000\n",
       "imp_pytype_ready              0.000000\n",
       "imp_pyobject_setattrstring    0.000000\n",
       "opcode_xor xor xor pop        0.000000\n",
       "Length: 56524, dtype: float64"
      ]
     },
     "execution_count": 17,
     "metadata": {},
     "output_type": "execute_result"
    }
   ],
   "source": [
    "feature_scores_rf = pd.Series(random_forest.feature_importances_, index=X_train.columns).sort_values(ascending=False)\n",
    "feature_scores_rf"
   ]
  },
  {
   "cell_type": "code",
   "execution_count": 18,
   "id": "0661accd",
   "metadata": {
    "execution": {
     "iopub.execute_input": "2023-12-27T01:17:05.424870Z",
     "iopub.status.busy": "2023-12-27T01:17:05.423964Z",
     "iopub.status.idle": "2023-12-27T01:17:05.482767Z",
     "shell.execute_reply": "2023-12-27T01:17:05.481782Z"
    },
    "papermill": {
     "duration": 0.08971,
     "end_time": "2023-12-27T01:17:05.485496",
     "exception": false,
     "start_time": "2023-12-27T01:17:05.395786",
     "status": "completed"
    },
    "tags": []
   },
   "outputs": [],
   "source": [
    "top50 = pd.Series(random_forest.feature_importances_, index=X_train.columns).sort_values(ascending=False).head(50)"
   ]
  },
  {
   "cell_type": "code",
   "execution_count": 19,
   "id": "ddefd750",
   "metadata": {
    "execution": {
     "iopub.execute_input": "2023-12-27T01:17:05.540293Z",
     "iopub.status.busy": "2023-12-27T01:17:05.539425Z",
     "iopub.status.idle": "2023-12-27T01:17:05.545495Z",
     "shell.execute_reply": "2023-12-27T01:17:05.544552Z"
    },
    "papermill": {
     "duration": 0.036451,
     "end_time": "2023-12-27T01:17:05.548074",
     "exception": false,
     "start_time": "2023-12-27T01:17:05.511623",
     "status": "completed"
    },
    "tags": []
   },
   "outputs": [],
   "source": [
    "# Tạo DataFrame từ feature_scores_rf\n",
    "df_features = pd.DataFrame(top50, columns=['Score'])"
   ]
  },
  {
   "cell_type": "code",
   "execution_count": 20,
   "id": "e1918e68",
   "metadata": {
    "execution": {
     "iopub.execute_input": "2023-12-27T01:17:05.603589Z",
     "iopub.status.busy": "2023-12-27T01:17:05.602705Z",
     "iopub.status.idle": "2023-12-27T01:17:05.619395Z",
     "shell.execute_reply": "2023-12-27T01:17:05.618071Z"
    },
    "papermill": {
     "duration": 0.047962,
     "end_time": "2023-12-27T01:17:05.622472",
     "exception": false,
     "start_time": "2023-12-27T01:17:05.574510",
     "status": "completed"
    },
    "tags": []
   },
   "outputs": [
    {
     "name": "stdout",
     "output_type": "stream",
     "text": [
      "'ngram': 0\n",
      "'opcode ngram': 0\n",
      "'generic': 2\n",
      "'strings': 48\n",
      "'rich header': 0\n",
      "'api import': 0\n",
      "'dll': 0\n",
      "'pe section': 0\n",
      "'pe header': 0\n"
     ]
    }
   ],
   "source": [
    "count_ngram = df_features[df_features.index.str.startswith('ngram_')].shape[0]\n",
    "count_opcode = df_features[df_features.index.str.startswith('opcode_')].shape[0]\n",
    "count_generic = df_features[df_features.index.str.startswith('generic_')].shape[0]\n",
    "count_string = df_features[df_features.index.str.startswith('string_')].shape[0]\n",
    "count_rich = df_features[df_features.index.str.startswith('rich_')].shape[0]\n",
    "# count_api = df_features[df_features.index.str.startswith('imp_') or 'api_import_nb' == c].shape[0]\n",
    "# count_dll = df_features[df_features.index.str.startswith('.dll') or 'dll_import_nb' == c].shape[0]\n",
    "count_api = df_features[df_features.index.str.startswith('imp_') | (df_features.index == 'api_import_nb')].shape[0]\n",
    "count_dll = df_features[df_features.index.str.endswith('.dll') | (df_features.index == 'dll_import_nb')].shape[0]\n",
    "count_section = df_features[df_features.index.str.startswith('pesection')].shape[0]\n",
    "count_header = df_features[df_features.index.str.startswith('header_')].shape[0]\n",
    "\n",
    "print(f\"'ngram': {count_ngram}\")\n",
    "print(f\"'opcode ngram': {count_opcode}\")\n",
    "print(f\"'generic': {count_generic}\")\n",
    "print(f\"'strings': {count_string}\")\n",
    "print(f\"'rich header': {count_rich}\")\n",
    "print(f\"'api import': {count_api}\")\n",
    "print(f\"'dll': {count_dll}\")\n",
    "print(f\"'pe section': {count_section}\")\n",
    "print(f\"'pe header': {count_header}\")"
   ]
  },
  {
   "cell_type": "code",
   "execution_count": 21,
   "id": "67764bb5",
   "metadata": {
    "execution": {
     "iopub.execute_input": "2023-12-27T01:17:05.678528Z",
     "iopub.status.busy": "2023-12-27T01:17:05.677172Z",
     "iopub.status.idle": "2023-12-27T01:17:05.691262Z",
     "shell.execute_reply": "2023-12-27T01:17:05.689934Z"
    },
    "papermill": {
     "duration": 0.045137,
     "end_time": "2023-12-27T01:17:05.694215",
     "exception": false,
     "start_time": "2023-12-27T01:17:05.649078",
     "status": "completed"
    },
    "tags": []
   },
   "outputs": [],
   "source": [
    "cols = list(df_dolphin.columns)"
   ]
  },
  {
   "cell_type": "markdown",
   "id": "c1ae7663",
   "metadata": {
    "papermill": {
     "duration": 0.026429,
     "end_time": "2023-12-27T01:17:05.748024",
     "exception": false,
     "start_time": "2023-12-27T01:17:05.721595",
     "status": "completed"
    },
    "tags": []
   },
   "source": [
    "# **ngram features**"
   ]
  },
  {
   "cell_type": "code",
   "execution_count": 22,
   "id": "e72ab914",
   "metadata": {
    "execution": {
     "iopub.execute_input": "2023-12-27T01:17:05.803372Z",
     "iopub.status.busy": "2023-12-27T01:17:05.802902Z",
     "iopub.status.idle": "2023-12-27T01:17:07.754591Z",
     "shell.execute_reply": "2023-12-27T01:17:07.753326Z"
    },
    "papermill": {
     "duration": 1.982811,
     "end_time": "2023-12-27T01:17:07.757860",
     "exception": false,
     "start_time": "2023-12-27T01:17:05.775049",
     "status": "completed"
    },
    "tags": []
   },
   "outputs": [],
   "source": [
    "df_dolphin = pd.read_pickle('/kaggle/input/packer-balance-pickle/dolphin_balance.pickle')\n",
    "df_dolphin = df_dolphin.drop(['sample_sha1','benign','unpacked_sample_sha1','unpacked_sample_id'], axis=1)\n",
    "df_dolphin = df_dolphin.drop(['benign_vt','malicious_vt'], axis=1)\n",
    "string_columns = df_dolphin.select_dtypes(include=['object']).columns\n",
    "df_dolphin = df_dolphin.drop(string_columns, axis=1)"
   ]
  },
  {
   "cell_type": "code",
   "execution_count": 23,
   "id": "8db39a54",
   "metadata": {
    "execution": {
     "iopub.execute_input": "2023-12-27T01:17:07.816501Z",
     "iopub.status.busy": "2023-12-27T01:17:07.816106Z",
     "iopub.status.idle": "2023-12-27T01:17:07.821567Z",
     "shell.execute_reply": "2023-12-27T01:17:07.820555Z"
    },
    "papermill": {
     "duration": 0.036426,
     "end_time": "2023-12-27T01:17:07.824070",
     "exception": false,
     "start_time": "2023-12-27T01:17:07.787644",
     "status": "completed"
    },
    "tags": []
   },
   "outputs": [],
   "source": [
    "def remove_cols(df, ll):\n",
    "    print(\"removing {} features\".format(len(ll)))\n",
    "    df.drop(columns=ll, axis=1, inplace=True)\n",
    "    return df"
   ]
  },
  {
   "cell_type": "code",
   "execution_count": 24,
   "id": "2eecbfd5",
   "metadata": {
    "execution": {
     "iopub.execute_input": "2023-12-27T01:17:07.880113Z",
     "iopub.status.busy": "2023-12-27T01:17:07.879648Z",
     "iopub.status.idle": "2023-12-27T01:17:09.273556Z",
     "shell.execute_reply": "2023-12-27T01:17:09.272275Z"
    },
    "papermill": {
     "duration": 1.425574,
     "end_time": "2023-12-27T01:17:09.276415",
     "exception": false,
     "start_time": "2023-12-27T01:17:07.850841",
     "status": "completed"
    },
    "tags": []
   },
   "outputs": [
    {
     "name": "stdout",
     "output_type": "stream",
     "text": [
      "removing 2500 features\n",
      "removing 2 features\n",
      "removing 16900 features\n",
      "removing 66 features\n",
      "removing 19169 features\n",
      "removing 4306 features\n",
      "removing 550 features\n",
      "removing 29 features\n"
     ]
    }
   ],
   "source": [
    "# ngram = remove_cols(df, [c for c in cols if c.startswith('ngram_')])\n",
    "ngram = remove_cols(df_dolphin, [c for c in cols if c.startswith('opcode_')])\n",
    "ngram = remove_cols(df_dolphin, [c for c in cols if c.startswith('generic_')])\n",
    "ngram = remove_cols(df_dolphin, [c for c in cols if c.startswith('string_')])\n",
    "ngram = remove_cols(df_dolphin, [c for c in cols if c.startswith('rich_')])\n",
    "ngram = remove_cols(df_dolphin, [c for c in cols if c.startswith('imp_') or 'api_import_nb' == c])\n",
    "ngram = remove_cols(df_dolphin, [c for c in cols if c.endswith('.dll') or 'dll_import_nb' == c])\n",
    "ngram = remove_cols(df_dolphin, [c for c in cols if c.startswith('pesection')])\n",
    "ngram = remove_cols(df_dolphin, [c for c in cols if c.startswith('header_')])"
   ]
  },
  {
   "cell_type": "code",
   "execution_count": 25,
   "id": "902499ea",
   "metadata": {
    "execution": {
     "iopub.execute_input": "2023-12-27T01:17:09.331707Z",
     "iopub.status.busy": "2023-12-27T01:17:09.331278Z",
     "iopub.status.idle": "2023-12-27T01:17:09.360898Z",
     "shell.execute_reply": "2023-12-27T01:17:09.359535Z"
    },
    "papermill": {
     "duration": 0.060159,
     "end_time": "2023-12-27T01:17:09.363458",
     "exception": false,
     "start_time": "2023-12-27T01:17:09.303299",
     "status": "completed"
    },
    "tags": []
   },
   "outputs": [
    {
     "data": {
      "text/html": [
       "<div>\n",
       "<style scoped>\n",
       "    .dataframe tbody tr th:only-of-type {\n",
       "        vertical-align: middle;\n",
       "    }\n",
       "\n",
       "    .dataframe tbody tr th {\n",
       "        vertical-align: top;\n",
       "    }\n",
       "\n",
       "    .dataframe thead th {\n",
       "        text-align: right;\n",
       "    }\n",
       "</style>\n",
       "<table border=\"1\" class=\"dataframe\">\n",
       "  <thead>\n",
       "    <tr style=\"text-align: right;\">\n",
       "      <th></th>\n",
       "      <th>malicious</th>\n",
       "      <th>packed</th>\n",
       "      <th>similarity</th>\n",
       "      <th>unpacked_similarity</th>\n",
       "      <th>ngram_b'\\x00C\\x00A\\x00B'</th>\n",
       "      <th>ngram_b'C\\x00A\\x00B\\x00'</th>\n",
       "      <th>ngram_b'\\x00\\x04\\x00\\x00 \\x00'</th>\n",
       "      <th>ngram_b'\\x00\\x00\\x04\\x00\\x00 '</th>\n",
       "      <th>ngram_b'porati'</th>\n",
       "      <th>ngram_b'oratio'</th>\n",
       "      <th>...</th>\n",
       "      <th>ngram_b'\\x01\\x00\\x00\\x83\\x7f\\x0c'</th>\n",
       "      <th>ngram_b'\\xc2?Ac\\x1a\\r'</th>\n",
       "      <th>ngram_b'\\xfc\\x03\\x80\\x00\\x7f\\xff'</th>\n",
       "      <th>ngram_b'\\xff\\x95\\xb4\\xc7?\\xc5'</th>\n",
       "      <th>ngram_b't\\x00a\\x00t\\x00'</th>\n",
       "      <th>ngram_b'\\x00t\\x00a\\x00t'</th>\n",
       "      <th>ngram_b'\\x00\\x00\\x00\\x8dE\\x08'</th>\n",
       "      <th>ngram_b's\\x00y\\x00s\\x00'</th>\n",
       "      <th>ngram_b'&lt;$\\x7f\\x02t\\x06'</th>\n",
       "      <th>ngram_b'\\x08\\x8b\\x14\\x16\\x8b\\x0c'</th>\n",
       "    </tr>\n",
       "  </thead>\n",
       "  <tbody>\n",
       "    <tr>\n",
       "      <th>0</th>\n",
       "      <td>True</td>\n",
       "      <td>True</td>\n",
       "      <td>0</td>\n",
       "      <td>0</td>\n",
       "      <td>False</td>\n",
       "      <td>False</td>\n",
       "      <td>False</td>\n",
       "      <td>False</td>\n",
       "      <td>False</td>\n",
       "      <td>False</td>\n",
       "      <td>...</td>\n",
       "      <td>False</td>\n",
       "      <td>False</td>\n",
       "      <td>False</td>\n",
       "      <td>False</td>\n",
       "      <td>False</td>\n",
       "      <td>False</td>\n",
       "      <td>False</td>\n",
       "      <td>False</td>\n",
       "      <td>False</td>\n",
       "      <td>False</td>\n",
       "    </tr>\n",
       "    <tr>\n",
       "      <th>2</th>\n",
       "      <td>False</td>\n",
       "      <td>True</td>\n",
       "      <td>0</td>\n",
       "      <td>0</td>\n",
       "      <td>False</td>\n",
       "      <td>False</td>\n",
       "      <td>False</td>\n",
       "      <td>False</td>\n",
       "      <td>False</td>\n",
       "      <td>False</td>\n",
       "      <td>...</td>\n",
       "      <td>False</td>\n",
       "      <td>False</td>\n",
       "      <td>False</td>\n",
       "      <td>False</td>\n",
       "      <td>False</td>\n",
       "      <td>False</td>\n",
       "      <td>False</td>\n",
       "      <td>False</td>\n",
       "      <td>False</td>\n",
       "      <td>False</td>\n",
       "    </tr>\n",
       "    <tr>\n",
       "      <th>9</th>\n",
       "      <td>False</td>\n",
       "      <td>True</td>\n",
       "      <td>0</td>\n",
       "      <td>0</td>\n",
       "      <td>False</td>\n",
       "      <td>False</td>\n",
       "      <td>False</td>\n",
       "      <td>False</td>\n",
       "      <td>False</td>\n",
       "      <td>False</td>\n",
       "      <td>...</td>\n",
       "      <td>False</td>\n",
       "      <td>False</td>\n",
       "      <td>False</td>\n",
       "      <td>False</td>\n",
       "      <td>False</td>\n",
       "      <td>False</td>\n",
       "      <td>False</td>\n",
       "      <td>False</td>\n",
       "      <td>False</td>\n",
       "      <td>False</td>\n",
       "    </tr>\n",
       "    <tr>\n",
       "      <th>25</th>\n",
       "      <td>True</td>\n",
       "      <td>True</td>\n",
       "      <td>0</td>\n",
       "      <td>0</td>\n",
       "      <td>False</td>\n",
       "      <td>False</td>\n",
       "      <td>False</td>\n",
       "      <td>False</td>\n",
       "      <td>False</td>\n",
       "      <td>False</td>\n",
       "      <td>...</td>\n",
       "      <td>False</td>\n",
       "      <td>False</td>\n",
       "      <td>False</td>\n",
       "      <td>False</td>\n",
       "      <td>False</td>\n",
       "      <td>False</td>\n",
       "      <td>False</td>\n",
       "      <td>False</td>\n",
       "      <td>False</td>\n",
       "      <td>False</td>\n",
       "    </tr>\n",
       "    <tr>\n",
       "      <th>27</th>\n",
       "      <td>True</td>\n",
       "      <td>True</td>\n",
       "      <td>0</td>\n",
       "      <td>0</td>\n",
       "      <td>False</td>\n",
       "      <td>False</td>\n",
       "      <td>False</td>\n",
       "      <td>False</td>\n",
       "      <td>False</td>\n",
       "      <td>False</td>\n",
       "      <td>...</td>\n",
       "      <td>False</td>\n",
       "      <td>False</td>\n",
       "      <td>False</td>\n",
       "      <td>False</td>\n",
       "      <td>False</td>\n",
       "      <td>False</td>\n",
       "      <td>False</td>\n",
       "      <td>False</td>\n",
       "      <td>False</td>\n",
       "      <td>False</td>\n",
       "    </tr>\n",
       "  </tbody>\n",
       "</table>\n",
       "<p>5 rows × 13004 columns</p>\n",
       "</div>"
      ],
      "text/plain": [
       "    malicious  packed  similarity  unpacked_similarity  \\\n",
       "0        True    True           0                    0   \n",
       "2       False    True           0                    0   \n",
       "9       False    True           0                    0   \n",
       "25       True    True           0                    0   \n",
       "27       True    True           0                    0   \n",
       "\n",
       "    ngram_b'\\x00C\\x00A\\x00B'  ngram_b'C\\x00A\\x00B\\x00'  \\\n",
       "0                      False                     False   \n",
       "2                      False                     False   \n",
       "9                      False                     False   \n",
       "25                     False                     False   \n",
       "27                     False                     False   \n",
       "\n",
       "    ngram_b'\\x00\\x04\\x00\\x00 \\x00'  ngram_b'\\x00\\x00\\x04\\x00\\x00 '  \\\n",
       "0                            False                           False   \n",
       "2                            False                           False   \n",
       "9                            False                           False   \n",
       "25                           False                           False   \n",
       "27                           False                           False   \n",
       "\n",
       "    ngram_b'porati'  ngram_b'oratio'  ...  ngram_b'\\x01\\x00\\x00\\x83\\x7f\\x0c'  \\\n",
       "0             False            False  ...                              False   \n",
       "2             False            False  ...                              False   \n",
       "9             False            False  ...                              False   \n",
       "25            False            False  ...                              False   \n",
       "27            False            False  ...                              False   \n",
       "\n",
       "    ngram_b'\\xc2?Ac\\x1a\\r'  ngram_b'\\xfc\\x03\\x80\\x00\\x7f\\xff'  \\\n",
       "0                    False                              False   \n",
       "2                    False                              False   \n",
       "9                    False                              False   \n",
       "25                   False                              False   \n",
       "27                   False                              False   \n",
       "\n",
       "    ngram_b'\\xff\\x95\\xb4\\xc7?\\xc5'  ngram_b't\\x00a\\x00t\\x00'  \\\n",
       "0                            False                     False   \n",
       "2                            False                     False   \n",
       "9                            False                     False   \n",
       "25                           False                     False   \n",
       "27                           False                     False   \n",
       "\n",
       "    ngram_b'\\x00t\\x00a\\x00t'  ngram_b'\\x00\\x00\\x00\\x8dE\\x08'  \\\n",
       "0                      False                           False   \n",
       "2                      False                           False   \n",
       "9                      False                           False   \n",
       "25                     False                           False   \n",
       "27                     False                           False   \n",
       "\n",
       "    ngram_b's\\x00y\\x00s\\x00'  ngram_b'<$\\x7f\\x02t\\x06'  \\\n",
       "0                      False                     False   \n",
       "2                      False                     False   \n",
       "9                      False                     False   \n",
       "25                     False                     False   \n",
       "27                     False                     False   \n",
       "\n",
       "    ngram_b'\\x08\\x8b\\x14\\x16\\x8b\\x0c'  \n",
       "0                               False  \n",
       "2                               False  \n",
       "9                               False  \n",
       "25                              False  \n",
       "27                              False  \n",
       "\n",
       "[5 rows x 13004 columns]"
      ]
     },
     "execution_count": 25,
     "metadata": {},
     "output_type": "execute_result"
    }
   ],
   "source": [
    "ngram.head()"
   ]
  },
  {
   "cell_type": "code",
   "execution_count": 26,
   "id": "6f04f3d4",
   "metadata": {
    "execution": {
     "iopub.execute_input": "2023-12-27T01:17:09.419892Z",
     "iopub.status.busy": "2023-12-27T01:17:09.419441Z",
     "iopub.status.idle": "2023-12-27T01:17:09.667949Z",
     "shell.execute_reply": "2023-12-27T01:17:09.666396Z"
    },
    "papermill": {
     "duration": 0.280151,
     "end_time": "2023-12-27T01:17:09.670874",
     "exception": false,
     "start_time": "2023-12-27T01:17:09.390723",
     "status": "completed"
    },
    "tags": []
   },
   "outputs": [],
   "source": [
    "df_7000_ngram = ngram.sample(n=7000, random_state=102)\n",
    "df_3000_ngram = ngram.drop(df_7000.index)\n",
    "data_ngram = df_7000_ngram.sample(n=3500, random_state=102)"
   ]
  },
  {
   "cell_type": "code",
   "execution_count": 27,
   "id": "3b885a9c",
   "metadata": {
    "execution": {
     "iopub.execute_input": "2023-12-27T01:17:09.729965Z",
     "iopub.status.busy": "2023-12-27T01:17:09.729481Z",
     "iopub.status.idle": "2023-12-27T01:17:10.080237Z",
     "shell.execute_reply": "2023-12-27T01:17:10.078754Z"
    },
    "papermill": {
     "duration": 0.38456,
     "end_time": "2023-12-27T01:17:10.082999",
     "exception": false,
     "start_time": "2023-12-27T01:17:09.698439",
     "status": "completed"
    },
    "tags": []
   },
   "outputs": [
    {
     "name": "stdout",
     "output_type": "stream",
     "text": [
      "Packed Malware: 2322 samples\n",
      "Packed Benign: 1178 samples\n",
      "Total TRAIN set: 3500 samples\n",
      "Packed Malware: 1178 samples\n",
      "Packed Benign: 1178 samples\n",
      "Total TRAIN set: 2356 samples\n",
      "Packed Malware: 1022 samples\n",
      "Packed Benign: 1022 samples\n",
      "Total TEST set: 2044 samples\n"
     ]
    }
   ],
   "source": [
    "#Kiểm tra số lượng mẫu\n",
    "PM = data_ngram[(data_ngram['malicious'] == True) & (data_ngram['packed'] == True)].shape[0]\n",
    "PB = data_ngram[(data_ngram['malicious'] == False) & (data_ngram['packed'] == True)].shape[0]\n",
    "print('Packed Malware: %i samples' % PM)\n",
    "print('Packed Benign: %i samples' % PB)\n",
    "print('Total TRAIN set: %i samples'% (PM+PB))\n",
    "\n",
    "#Chia tỉ lệ 50 - 50\n",
    "data_PM_ngram = data_ngram[(data_ngram['malicious'] == True) & (data_ngram['packed'] == True)].sample(n=(PM-PB), random_state=102)\n",
    "data_ngram = data_ngram.drop(data_PM_ngram.index)\n",
    "\n",
    "#Số lượng tập train\n",
    "PM = data_ngram[(data_ngram['malicious'] == True) & (data_ngram['packed'] == True)].shape[0]\n",
    "PB = data_ngram[(data_ngram['malicious'] == False) & (data_ngram['packed'] == True)].shape[0]\n",
    "print('Packed Malware: %i samples' % PM)\n",
    "print('Packed Benign: %i samples' % PB)\n",
    "print('Total TRAIN set: %i samples'% (PM+PB))\n",
    "\n",
    "#Xử lý tập train\n",
    "y = data_ngram['malicious'].values\n",
    "data_ngram = data_ngram.drop(['malicious','packed'], axis=1)\n",
    "\n",
    "PM = df_3000_ngram[(df_3000_ngram['malicious'] == True) & (df_3000_ngram['packed'] == True)].shape[0]\n",
    "PB = df_3000_ngram[(df_3000_ngram['malicious'] == False) & (df_3000_ngram['packed'] == True)].shape[0]\n",
    "\n",
    "df_3000_PM_ngram = df_3000_ngram[(df_3000_ngram['malicious'] == True) & (df_3000_ngram['packed'] == True)].sample(n=(PM-PB), random_state=102)\n",
    "df_3000_ngram = df_3000_ngram.drop(df_3000_PM.index)\n",
    "\n",
    "PM = df_3000_ngram[(df_3000_ngram['malicious'] == True) & (df_3000_ngram['packed'] == True)].shape[0]\n",
    "PB = df_3000_ngram[(df_3000_ngram['malicious'] == False) & (df_3000_ngram['packed'] == True)].shape[0]\n",
    "\n",
    "print('Packed Malware: %i samples' % PM)\n",
    "print('Packed Benign: %i samples' % PB)\n",
    "print('Total TEST set: %i samples'% (PM+PB))"
   ]
  },
  {
   "cell_type": "code",
   "execution_count": 28,
   "id": "a4b2218a",
   "metadata": {
    "execution": {
     "iopub.execute_input": "2023-12-27T01:17:10.142035Z",
     "iopub.status.busy": "2023-12-27T01:17:10.140865Z",
     "iopub.status.idle": "2023-12-27T01:17:10.206820Z",
     "shell.execute_reply": "2023-12-27T01:17:10.205763Z"
    },
    "papermill": {
     "duration": 0.098385,
     "end_time": "2023-12-27T01:17:10.210054",
     "exception": false,
     "start_time": "2023-12-27T01:17:10.111669",
     "status": "completed"
    },
    "tags": []
   },
   "outputs": [],
   "source": [
    "# model = SelectFromModel(fsel, prefit=True)\n",
    "\n",
    "X_train_ngram = data_ngram\n",
    "X_test_ngram = df_3000_ngram.drop(['malicious','packed'], axis=1)\n",
    "\n",
    "data_ngram = data_ngram.loc[:, (data_ngram != 0).any(axis=0)]\n",
    "x_train_ngram = data_ngram\n",
    "X_test_ngram = df_3000_ngram.drop(['malicious','packed'], axis=1)\n",
    "y_train_ngram = y\n",
    "y_test_ngram = df_3000_ngram['malicious'].values"
   ]
  },
  {
   "cell_type": "code",
   "execution_count": 29,
   "id": "9163b809",
   "metadata": {
    "execution": {
     "iopub.execute_input": "2023-12-27T01:17:10.268985Z",
     "iopub.status.busy": "2023-12-27T01:17:10.268124Z",
     "iopub.status.idle": "2023-12-27T01:17:15.773078Z",
     "shell.execute_reply": "2023-12-27T01:17:15.771853Z"
    },
    "papermill": {
     "duration": 5.538044,
     "end_time": "2023-12-27T01:17:15.776374",
     "exception": false,
     "start_time": "2023-12-27T01:17:10.238330",
     "status": "completed"
    },
    "tags": []
   },
   "outputs": [
    {
     "name": "stdout",
     "output_type": "stream",
     "text": [
      "The accuracy of the Random Forests model is :\t 0.5\n"
     ]
    }
   ],
   "source": [
    "# Random Forest\n",
    "from sklearn.ensemble import RandomForestClassifier\n",
    "from sklearn import metrics\n",
    "\n",
    "random_forest = RandomForestClassifier(n_estimators=100, random_state=17)\n",
    "random_forest.fit(X_train_ngram, y_train_ngram)\n",
    "random_forest_preds = random_forest.predict(X_test_ngram)\n",
    "print('The accuracy of the Random Forests model is :\\t',metrics.accuracy_score(random_forest_preds,y_test_ngram))"
   ]
  },
  {
   "cell_type": "markdown",
   "id": "e11d37e6",
   "metadata": {
    "papermill": {
     "duration": 0.02856,
     "end_time": "2023-12-27T01:17:15.833849",
     "exception": false,
     "start_time": "2023-12-27T01:17:15.805289",
     "status": "completed"
    },
    "tags": []
   },
   "source": [
    "# **opcode features**"
   ]
  },
  {
   "cell_type": "code",
   "execution_count": 30,
   "id": "0ed8bcd6",
   "metadata": {
    "execution": {
     "iopub.execute_input": "2023-12-27T01:17:15.892354Z",
     "iopub.status.busy": "2023-12-27T01:17:15.891854Z",
     "iopub.status.idle": "2023-12-27T01:17:17.663118Z",
     "shell.execute_reply": "2023-12-27T01:17:17.662020Z"
    },
    "papermill": {
     "duration": 1.803485,
     "end_time": "2023-12-27T01:17:17.666026",
     "exception": false,
     "start_time": "2023-12-27T01:17:15.862541",
     "status": "completed"
    },
    "tags": []
   },
   "outputs": [],
   "source": [
    "df_dolphin = pd.read_pickle('/kaggle/input/packer-balance-pickle/dolphin_balance.pickle')\n",
    "df_dolphin = df_dolphin.drop(['sample_sha1','benign','unpacked_sample_sha1','unpacked_sample_id'], axis=1)\n",
    "df_dolphin = df_dolphin.drop(['benign_vt','malicious_vt'], axis=1)\n",
    "string_columns = df_dolphin.select_dtypes(include=['object']).columns\n",
    "df_dolphin = df_dolphin.drop(string_columns, axis=1)"
   ]
  },
  {
   "cell_type": "code",
   "execution_count": 31,
   "id": "d5e64ec7",
   "metadata": {
    "execution": {
     "iopub.execute_input": "2023-12-27T01:17:17.724443Z",
     "iopub.status.busy": "2023-12-27T01:17:17.723650Z",
     "iopub.status.idle": "2023-12-27T01:17:19.273410Z",
     "shell.execute_reply": "2023-12-27T01:17:19.272003Z"
    },
    "papermill": {
     "duration": 1.581606,
     "end_time": "2023-12-27T01:17:19.276087",
     "exception": false,
     "start_time": "2023-12-27T01:17:17.694481",
     "status": "completed"
    },
    "tags": []
   },
   "outputs": [
    {
     "name": "stdout",
     "output_type": "stream",
     "text": [
      "removing 13000 features\n",
      "removing 2 features\n",
      "removing 16900 features\n",
      "removing 66 features\n",
      "removing 19169 features\n",
      "removing 4306 features\n",
      "removing 550 features\n",
      "removing 29 features\n"
     ]
    }
   ],
   "source": [
    "opcode = remove_cols(df_dolphin, [c for c in cols if c.startswith('ngram_')])\n",
    "# opcode = remove_cols(df_dolphin, [c for c in cols if c.startswith('opcode_')])\n",
    "opcode = remove_cols(df_dolphin, [c for c in cols if c.startswith('generic_')])\n",
    "opcode = remove_cols(df_dolphin, [c for c in cols if c.startswith('string_')])\n",
    "opcode = remove_cols(df_dolphin, [c for c in cols if c.startswith('rich_')])\n",
    "opcode = remove_cols(df_dolphin, [c for c in cols if c.startswith('imp_') or 'api_import_nb' == c])\n",
    "opcode = remove_cols(df_dolphin, [c for c in cols if c.endswith('.dll') or 'dll_import_nb' == c])\n",
    "opcode = remove_cols(df_dolphin, [c for c in cols if c.startswith('pesection')])\n",
    "opcode = remove_cols(df_dolphin, [c for c in cols if c.startswith('header_')])"
   ]
  },
  {
   "cell_type": "code",
   "execution_count": 32,
   "id": "9ccf4e57",
   "metadata": {
    "execution": {
     "iopub.execute_input": "2023-12-27T01:17:19.335524Z",
     "iopub.status.busy": "2023-12-27T01:17:19.334713Z",
     "iopub.status.idle": "2023-12-27T01:17:19.368708Z",
     "shell.execute_reply": "2023-12-27T01:17:19.367401Z"
    },
    "papermill": {
     "duration": 0.066504,
     "end_time": "2023-12-27T01:17:19.371453",
     "exception": false,
     "start_time": "2023-12-27T01:17:19.304949",
     "status": "completed"
    },
    "tags": []
   },
   "outputs": [
    {
     "data": {
      "text/html": [
       "<div>\n",
       "<style scoped>\n",
       "    .dataframe tbody tr th:only-of-type {\n",
       "        vertical-align: middle;\n",
       "    }\n",
       "\n",
       "    .dataframe tbody tr th {\n",
       "        vertical-align: top;\n",
       "    }\n",
       "\n",
       "    .dataframe thead th {\n",
       "        text-align: right;\n",
       "    }\n",
       "</style>\n",
       "<table border=\"1\" class=\"dataframe\">\n",
       "  <thead>\n",
       "    <tr style=\"text-align: right;\">\n",
       "      <th></th>\n",
       "      <th>malicious</th>\n",
       "      <th>packed</th>\n",
       "      <th>similarity</th>\n",
       "      <th>unpacked_similarity</th>\n",
       "      <th>opcode_aaa</th>\n",
       "      <th>opcode_aad</th>\n",
       "      <th>opcode_aam</th>\n",
       "      <th>opcode_aas</th>\n",
       "      <th>opcode_adc</th>\n",
       "      <th>opcode_adc add</th>\n",
       "      <th>...</th>\n",
       "      <th>opcode_xor sub mov</th>\n",
       "      <th>opcode_xor sub mov add</th>\n",
       "      <th>opcode_xor test</th>\n",
       "      <th>opcode_xor test je</th>\n",
       "      <th>opcode_xor xor</th>\n",
       "      <th>opcode_xor xor mov</th>\n",
       "      <th>opcode_xor xor pop</th>\n",
       "      <th>opcode_xor xor pop mov</th>\n",
       "      <th>opcode_xor xor xor</th>\n",
       "      <th>opcode_xor xor xor pop</th>\n",
       "    </tr>\n",
       "  </thead>\n",
       "  <tbody>\n",
       "    <tr>\n",
       "      <th>0</th>\n",
       "      <td>True</td>\n",
       "      <td>True</td>\n",
       "      <td>0</td>\n",
       "      <td>0</td>\n",
       "      <td>0.0</td>\n",
       "      <td>0.0</td>\n",
       "      <td>0.0</td>\n",
       "      <td>0.0</td>\n",
       "      <td>0.0</td>\n",
       "      <td>0.0</td>\n",
       "      <td>...</td>\n",
       "      <td>0.0</td>\n",
       "      <td>0.0</td>\n",
       "      <td>0.000479</td>\n",
       "      <td>0.000172</td>\n",
       "      <td>0.000597</td>\n",
       "      <td>0.000481</td>\n",
       "      <td>0.0</td>\n",
       "      <td>0.0</td>\n",
       "      <td>0.000641</td>\n",
       "      <td>0.0</td>\n",
       "    </tr>\n",
       "    <tr>\n",
       "      <th>2</th>\n",
       "      <td>False</td>\n",
       "      <td>True</td>\n",
       "      <td>0</td>\n",
       "      <td>0</td>\n",
       "      <td>0.0</td>\n",
       "      <td>0.0</td>\n",
       "      <td>0.0</td>\n",
       "      <td>0.0</td>\n",
       "      <td>0.0</td>\n",
       "      <td>0.0</td>\n",
       "      <td>...</td>\n",
       "      <td>0.0</td>\n",
       "      <td>0.0</td>\n",
       "      <td>0.000479</td>\n",
       "      <td>0.000172</td>\n",
       "      <td>0.000597</td>\n",
       "      <td>0.000481</td>\n",
       "      <td>0.0</td>\n",
       "      <td>0.0</td>\n",
       "      <td>0.000641</td>\n",
       "      <td>0.0</td>\n",
       "    </tr>\n",
       "    <tr>\n",
       "      <th>9</th>\n",
       "      <td>False</td>\n",
       "      <td>True</td>\n",
       "      <td>0</td>\n",
       "      <td>0</td>\n",
       "      <td>0.0</td>\n",
       "      <td>0.0</td>\n",
       "      <td>0.0</td>\n",
       "      <td>0.0</td>\n",
       "      <td>0.0</td>\n",
       "      <td>0.0</td>\n",
       "      <td>...</td>\n",
       "      <td>0.0</td>\n",
       "      <td>0.0</td>\n",
       "      <td>0.000479</td>\n",
       "      <td>0.000172</td>\n",
       "      <td>0.000597</td>\n",
       "      <td>0.000481</td>\n",
       "      <td>0.0</td>\n",
       "      <td>0.0</td>\n",
       "      <td>0.000641</td>\n",
       "      <td>0.0</td>\n",
       "    </tr>\n",
       "    <tr>\n",
       "      <th>25</th>\n",
       "      <td>True</td>\n",
       "      <td>True</td>\n",
       "      <td>0</td>\n",
       "      <td>0</td>\n",
       "      <td>0.0</td>\n",
       "      <td>0.0</td>\n",
       "      <td>0.0</td>\n",
       "      <td>0.0</td>\n",
       "      <td>0.0</td>\n",
       "      <td>0.0</td>\n",
       "      <td>...</td>\n",
       "      <td>0.0</td>\n",
       "      <td>0.0</td>\n",
       "      <td>0.000479</td>\n",
       "      <td>0.000172</td>\n",
       "      <td>0.000597</td>\n",
       "      <td>0.000481</td>\n",
       "      <td>0.0</td>\n",
       "      <td>0.0</td>\n",
       "      <td>0.000641</td>\n",
       "      <td>0.0</td>\n",
       "    </tr>\n",
       "    <tr>\n",
       "      <th>27</th>\n",
       "      <td>True</td>\n",
       "      <td>True</td>\n",
       "      <td>0</td>\n",
       "      <td>0</td>\n",
       "      <td>0.0</td>\n",
       "      <td>0.0</td>\n",
       "      <td>0.0</td>\n",
       "      <td>0.0</td>\n",
       "      <td>0.0</td>\n",
       "      <td>0.0</td>\n",
       "      <td>...</td>\n",
       "      <td>0.0</td>\n",
       "      <td>0.0</td>\n",
       "      <td>0.000479</td>\n",
       "      <td>0.000172</td>\n",
       "      <td>0.000597</td>\n",
       "      <td>0.000481</td>\n",
       "      <td>0.0</td>\n",
       "      <td>0.0</td>\n",
       "      <td>0.000641</td>\n",
       "      <td>0.0</td>\n",
       "    </tr>\n",
       "  </tbody>\n",
       "</table>\n",
       "<p>5 rows × 2504 columns</p>\n",
       "</div>"
      ],
      "text/plain": [
       "    malicious  packed  similarity  unpacked_similarity  opcode_aaa  \\\n",
       "0        True    True           0                    0         0.0   \n",
       "2       False    True           0                    0         0.0   \n",
       "9       False    True           0                    0         0.0   \n",
       "25       True    True           0                    0         0.0   \n",
       "27       True    True           0                    0         0.0   \n",
       "\n",
       "    opcode_aad  opcode_aam  opcode_aas  opcode_adc  opcode_adc add  ...  \\\n",
       "0          0.0         0.0         0.0         0.0             0.0  ...   \n",
       "2          0.0         0.0         0.0         0.0             0.0  ...   \n",
       "9          0.0         0.0         0.0         0.0             0.0  ...   \n",
       "25         0.0         0.0         0.0         0.0             0.0  ...   \n",
       "27         0.0         0.0         0.0         0.0             0.0  ...   \n",
       "\n",
       "    opcode_xor sub mov  opcode_xor sub mov add  opcode_xor test  \\\n",
       "0                  0.0                     0.0         0.000479   \n",
       "2                  0.0                     0.0         0.000479   \n",
       "9                  0.0                     0.0         0.000479   \n",
       "25                 0.0                     0.0         0.000479   \n",
       "27                 0.0                     0.0         0.000479   \n",
       "\n",
       "    opcode_xor test je  opcode_xor xor  opcode_xor xor mov  \\\n",
       "0             0.000172        0.000597            0.000481   \n",
       "2             0.000172        0.000597            0.000481   \n",
       "9             0.000172        0.000597            0.000481   \n",
       "25            0.000172        0.000597            0.000481   \n",
       "27            0.000172        0.000597            0.000481   \n",
       "\n",
       "    opcode_xor xor pop  opcode_xor xor pop mov  opcode_xor xor xor  \\\n",
       "0                  0.0                     0.0            0.000641   \n",
       "2                  0.0                     0.0            0.000641   \n",
       "9                  0.0                     0.0            0.000641   \n",
       "25                 0.0                     0.0            0.000641   \n",
       "27                 0.0                     0.0            0.000641   \n",
       "\n",
       "    opcode_xor xor xor pop  \n",
       "0                      0.0  \n",
       "2                      0.0  \n",
       "9                      0.0  \n",
       "25                     0.0  \n",
       "27                     0.0  \n",
       "\n",
       "[5 rows x 2504 columns]"
      ]
     },
     "execution_count": 32,
     "metadata": {},
     "output_type": "execute_result"
    }
   ],
   "source": [
    "opcode.head()"
   ]
  },
  {
   "cell_type": "code",
   "execution_count": 33,
   "id": "223c1b5d",
   "metadata": {
    "execution": {
     "iopub.execute_input": "2023-12-27T01:17:19.431901Z",
     "iopub.status.busy": "2023-12-27T01:17:19.431485Z",
     "iopub.status.idle": "2023-12-27T01:17:19.589042Z",
     "shell.execute_reply": "2023-12-27T01:17:19.587942Z"
    },
    "papermill": {
     "duration": 0.190858,
     "end_time": "2023-12-27T01:17:19.591766",
     "exception": false,
     "start_time": "2023-12-27T01:17:19.400908",
     "status": "completed"
    },
    "tags": []
   },
   "outputs": [],
   "source": [
    "df_7000_opcode = opcode.sample(n=7000, random_state=102)\n",
    "df_3000_opcode = opcode.drop(df_7000.index)\n",
    "data_opcode = df_7000_opcode.sample(n=3500, random_state=102)"
   ]
  },
  {
   "cell_type": "code",
   "execution_count": 34,
   "id": "9d83e705",
   "metadata": {
    "execution": {
     "iopub.execute_input": "2023-12-27T01:17:19.651150Z",
     "iopub.status.busy": "2023-12-27T01:17:19.650719Z",
     "iopub.status.idle": "2023-12-27T01:17:19.828331Z",
     "shell.execute_reply": "2023-12-27T01:17:19.826975Z"
    },
    "papermill": {
     "duration": 0.21054,
     "end_time": "2023-12-27T01:17:19.831157",
     "exception": false,
     "start_time": "2023-12-27T01:17:19.620617",
     "status": "completed"
    },
    "tags": []
   },
   "outputs": [
    {
     "name": "stdout",
     "output_type": "stream",
     "text": [
      "Packed Malware: 2322 samples\n",
      "Packed Benign: 1178 samples\n",
      "Total TRAIN set: 3500 samples\n",
      "Packed Malware: 1178 samples\n",
      "Packed Benign: 1178 samples\n",
      "Total TRAIN set: 2356 samples\n",
      "Packed Malware: 1022 samples\n",
      "Packed Benign: 1022 samples\n",
      "Total TEST set: 2044 samples\n"
     ]
    }
   ],
   "source": [
    "#Kiểm tra số lượng mẫu\n",
    "PM = data_opcode[(data_opcode['malicious'] == True) & (data_opcode['packed'] == True)].shape[0]\n",
    "PB = data_opcode[(data_opcode['malicious'] == False) & (data_opcode['packed'] == True)].shape[0]\n",
    "print('Packed Malware: %i samples' % PM)\n",
    "print('Packed Benign: %i samples' % PB)\n",
    "print('Total TRAIN set: %i samples'% (PM+PB))\n",
    "\n",
    "#Chia tỉ lệ 50 - 50\n",
    "data_PM_opcode = data_opcode[(data_opcode['malicious'] == True) & (data_opcode['packed'] == True)].sample(n=(PM-PB), random_state=102)\n",
    "data_opcode = data_opcode.drop(data_PM_opcode.index)\n",
    "      \n",
    "#Số lượng tập train\n",
    "PM = data_opcode[(data_opcode['malicious'] == True) & (data_opcode['packed'] == True)].shape[0]\n",
    "PB = data_opcode[(data_opcode['malicious'] == False) & (data_opcode['packed'] == True)].shape[0]\n",
    "print('Packed Malware: %i samples' % PM)\n",
    "print('Packed Benign: %i samples' % PB)\n",
    "print('Total TRAIN set: %i samples'% (PM+PB))\n",
    "\n",
    "#Xử lý tập train\n",
    "y = data_opcode['malicious'].values\n",
    "data_opcode = data_opcode.drop(['malicious','packed'], axis=1)\n",
    "\n",
    "PM = df_3000_opcode[(df_3000_opcode['malicious'] == True) & (df_3000_opcode['packed'] == True)].shape[0]\n",
    "PB = df_3000_opcode[(df_3000_opcode['malicious'] == False) & (df_3000_opcode['packed'] == True)].shape[0]\n",
    "\n",
    "df_3000_PM_opcode = df_3000_opcode[(df_3000_opcode['malicious'] == True) & (df_3000_opcode['packed'] == True)].sample(n=(PM-PB), random_state=102)\n",
    "df_3000_opcode = df_3000_opcode.drop(df_3000_PM_opcode.index)\n",
    "\n",
    "PM = df_3000_opcode[(df_3000_opcode['malicious'] == True) & (df_3000_opcode['packed'] == True)].shape[0]\n",
    "PB = df_3000_opcode[(df_3000_opcode['malicious'] == False) & (df_3000_opcode['packed'] == True)].shape[0]\n",
    "\n",
    "print('Packed Malware: %i samples' % PM)\n",
    "print('Packed Benign: %i samples' % PB)\n",
    "print('Total TEST set: %i samples'% (PM+PB))"
   ]
  },
  {
   "cell_type": "code",
   "execution_count": 35,
   "id": "98c6a889",
   "metadata": {
    "execution": {
     "iopub.execute_input": "2023-12-27T01:17:19.890481Z",
     "iopub.status.busy": "2023-12-27T01:17:19.889900Z",
     "iopub.status.idle": "2023-12-27T01:17:19.928380Z",
     "shell.execute_reply": "2023-12-27T01:17:19.926748Z"
    },
    "papermill": {
     "duration": 0.071391,
     "end_time": "2023-12-27T01:17:19.931188",
     "exception": false,
     "start_time": "2023-12-27T01:17:19.859797",
     "status": "completed"
    },
    "tags": []
   },
   "outputs": [],
   "source": [
    "# model = SelectFromModel(fsel, prefit=True)\n",
    "\n",
    "X_train_opcode = data_opcode\n",
    "X_test_opcode = df_3000_opcode.drop(['malicious','packed'], axis=1)\n",
    "\n",
    "# data_opcode = data_opcode.loc[:, (data_opcode != 0).any(axis=0)]\n",
    "x_train_opcode = data_opcode\n",
    "X_test_opcode = df_3000_opcode.drop(['malicious','packed'], axis=1)\n",
    "y_train_opcode = y\n",
    "y_test_opcode = df_3000_opcode['malicious'].values"
   ]
  },
  {
   "cell_type": "code",
   "execution_count": 36,
   "id": "e1ae9090",
   "metadata": {
    "execution": {
     "iopub.execute_input": "2023-12-27T01:17:19.991167Z",
     "iopub.status.busy": "2023-12-27T01:17:19.990745Z",
     "iopub.status.idle": "2023-12-27T01:17:21.381122Z",
     "shell.execute_reply": "2023-12-27T01:17:21.379868Z"
    },
    "papermill": {
     "duration": 1.42343,
     "end_time": "2023-12-27T01:17:21.383794",
     "exception": false,
     "start_time": "2023-12-27T01:17:19.960364",
     "status": "completed"
    },
    "tags": []
   },
   "outputs": [
    {
     "name": "stdout",
     "output_type": "stream",
     "text": [
      "The accuracy of the Random Forests model is :\t 0.5\n"
     ]
    }
   ],
   "source": [
    "# Random Forest\n",
    "from sklearn.ensemble import RandomForestClassifier\n",
    "from sklearn import metrics\n",
    "\n",
    "random_forest = RandomForestClassifier(n_estimators=100, random_state=17)\n",
    "random_forest.fit(x_train_opcode, y_train_opcode)\n",
    "random_forest_preds = random_forest.predict(X_test_opcode)\n",
    "print('The accuracy of the Random Forests model is :\\t',metrics.accuracy_score(random_forest_preds,y_test_opcode))"
   ]
  },
  {
   "cell_type": "markdown",
   "id": "37749737",
   "metadata": {
    "papermill": {
     "duration": 0.028778,
     "end_time": "2023-12-27T01:17:21.442446",
     "exception": false,
     "start_time": "2023-12-27T01:17:21.413668",
     "status": "completed"
    },
    "tags": []
   },
   "source": [
    "# **string features**"
   ]
  },
  {
   "cell_type": "code",
   "execution_count": 37,
   "id": "c32c35bf",
   "metadata": {
    "execution": {
     "iopub.execute_input": "2023-12-27T01:17:21.502777Z",
     "iopub.status.busy": "2023-12-27T01:17:21.502355Z",
     "iopub.status.idle": "2023-12-27T01:17:23.281169Z",
     "shell.execute_reply": "2023-12-27T01:17:23.279933Z"
    },
    "papermill": {
     "duration": 1.812672,
     "end_time": "2023-12-27T01:17:23.284475",
     "exception": false,
     "start_time": "2023-12-27T01:17:21.471803",
     "status": "completed"
    },
    "tags": []
   },
   "outputs": [],
   "source": [
    "df_dolphin = pd.read_pickle('/kaggle/input/packer-balance-pickle/dolphin_balance.pickle')\n",
    "df_dolphin = df_dolphin.drop(['sample_sha1','benign','unpacked_sample_sha1','unpacked_sample_id'], axis=1)\n",
    "df_dolphin = df_dolphin.drop(['benign_vt','malicious_vt'], axis=1)\n",
    "string_columns = df_dolphin.select_dtypes(include=['object']).columns\n",
    "df_dolphin = df_dolphin.drop(string_columns, axis=1)"
   ]
  },
  {
   "cell_type": "code",
   "execution_count": 38,
   "id": "aceb919f",
   "metadata": {
    "execution": {
     "iopub.execute_input": "2023-12-27T01:17:23.345251Z",
     "iopub.status.busy": "2023-12-27T01:17:23.344784Z",
     "iopub.status.idle": "2023-12-27T01:17:24.721595Z",
     "shell.execute_reply": "2023-12-27T01:17:24.720388Z"
    },
    "papermill": {
     "duration": 1.410797,
     "end_time": "2023-12-27T01:17:24.724367",
     "exception": false,
     "start_time": "2023-12-27T01:17:23.313570",
     "status": "completed"
    },
    "tags": []
   },
   "outputs": [
    {
     "name": "stdout",
     "output_type": "stream",
     "text": [
      "removing 13000 features\n",
      "removing 2500 features\n",
      "removing 2 features\n",
      "removing 66 features\n",
      "removing 19169 features\n",
      "removing 4306 features\n",
      "removing 550 features\n",
      "removing 29 features\n"
     ]
    }
   ],
   "source": [
    "string = remove_cols(df_dolphin, [c for c in cols if c.startswith('ngram_')])\n",
    "string = remove_cols(df_dolphin, [c for c in cols if c.startswith('opcode_')])\n",
    "string = remove_cols(df_dolphin, [c for c in cols if c.startswith('generic_')])\n",
    "# string = remove_cols(df_dolphin, [c for c in cols if c.startswith('string_')])\n",
    "string = remove_cols(df_dolphin, [c for c in cols if c.startswith('rich_')])\n",
    "string = remove_cols(df_dolphin, [c for c in cols if c.startswith('imp_') or 'api_import_nb' == c])\n",
    "string = remove_cols(df_dolphin, [c for c in cols if c.endswith('.dll') or 'dll_import_nb' == c])\n",
    "string = remove_cols(df_dolphin, [c for c in cols if c.startswith('pesection')])\n",
    "string = remove_cols(df_dolphin, [c for c in cols if c.startswith('header_')])"
   ]
  },
  {
   "cell_type": "code",
   "execution_count": 39,
   "id": "f73526c3",
   "metadata": {
    "execution": {
     "iopub.execute_input": "2023-12-27T01:17:24.787350Z",
     "iopub.status.busy": "2023-12-27T01:17:24.786902Z",
     "iopub.status.idle": "2023-12-27T01:17:24.815667Z",
     "shell.execute_reply": "2023-12-27T01:17:24.814438Z"
    },
    "papermill": {
     "duration": 0.064034,
     "end_time": "2023-12-27T01:17:24.818390",
     "exception": false,
     "start_time": "2023-12-27T01:17:24.754356",
     "status": "completed"
    },
    "tags": []
   },
   "outputs": [
    {
     "data": {
      "text/html": [
       "<div>\n",
       "<style scoped>\n",
       "    .dataframe tbody tr th:only-of-type {\n",
       "        vertical-align: middle;\n",
       "    }\n",
       "\n",
       "    .dataframe tbody tr th {\n",
       "        vertical-align: top;\n",
       "    }\n",
       "\n",
       "    .dataframe thead th {\n",
       "        text-align: right;\n",
       "    }\n",
       "</style>\n",
       "<table border=\"1\" class=\"dataframe\">\n",
       "  <thead>\n",
       "    <tr style=\"text-align: right;\">\n",
       "      <th></th>\n",
       "      <th>malicious</th>\n",
       "      <th>packed</th>\n",
       "      <th>similarity</th>\n",
       "      <th>unpacked_similarity</th>\n",
       "      <th>string_b'\\t\\t\\t\\t'</th>\n",
       "      <th>string_b'\\t\\t\\t\\t\\t'</th>\n",
       "      <th>string_b'\\t\\t\\t\\t\\t\\t'</th>\n",
       "      <th>string_b'\\t\\t\\t\\t\\t\\t\\t'</th>\n",
       "      <th>string_b'\\t\\t\\t\\t\\t\\t\\t\\t'</th>\n",
       "      <th>string_b'\\t\\t\\t\\t\\t\\t\\t\\t\\t\\t\\t\\t\\t\\t'</th>\n",
       "      <th>...</th>\n",
       "      <th>string_b'~xYp'</th>\n",
       "      <th>string_b'~y\\ta('</th>\n",
       "      <th>string_b'~y~K'</th>\n",
       "      <th>string_b'~zzPKK1+,% '</th>\n",
       "      <th>string_b'~}}}}'</th>\n",
       "      <th>string_b'~~ZTT910&amp;'</th>\n",
       "      <th>string_b'~~}}}'</th>\n",
       "      <th>string_b'~~~~'</th>\n",
       "      <th>string_b'~~~~~'</th>\n",
       "      <th>string_b'~~~~~~}}}z'</th>\n",
       "    </tr>\n",
       "  </thead>\n",
       "  <tbody>\n",
       "    <tr>\n",
       "      <th>0</th>\n",
       "      <td>True</td>\n",
       "      <td>True</td>\n",
       "      <td>0</td>\n",
       "      <td>0</td>\n",
       "      <td>False</td>\n",
       "      <td>False</td>\n",
       "      <td>False</td>\n",
       "      <td>False</td>\n",
       "      <td>False</td>\n",
       "      <td>False</td>\n",
       "      <td>...</td>\n",
       "      <td>False</td>\n",
       "      <td>False</td>\n",
       "      <td>False</td>\n",
       "      <td>False</td>\n",
       "      <td>False</td>\n",
       "      <td>False</td>\n",
       "      <td>False</td>\n",
       "      <td>False</td>\n",
       "      <td>False</td>\n",
       "      <td>False</td>\n",
       "    </tr>\n",
       "    <tr>\n",
       "      <th>2</th>\n",
       "      <td>False</td>\n",
       "      <td>True</td>\n",
       "      <td>0</td>\n",
       "      <td>0</td>\n",
       "      <td>False</td>\n",
       "      <td>False</td>\n",
       "      <td>False</td>\n",
       "      <td>False</td>\n",
       "      <td>False</td>\n",
       "      <td>False</td>\n",
       "      <td>...</td>\n",
       "      <td>False</td>\n",
       "      <td>False</td>\n",
       "      <td>False</td>\n",
       "      <td>False</td>\n",
       "      <td>False</td>\n",
       "      <td>False</td>\n",
       "      <td>False</td>\n",
       "      <td>False</td>\n",
       "      <td>False</td>\n",
       "      <td>False</td>\n",
       "    </tr>\n",
       "    <tr>\n",
       "      <th>9</th>\n",
       "      <td>False</td>\n",
       "      <td>True</td>\n",
       "      <td>0</td>\n",
       "      <td>0</td>\n",
       "      <td>False</td>\n",
       "      <td>False</td>\n",
       "      <td>False</td>\n",
       "      <td>False</td>\n",
       "      <td>False</td>\n",
       "      <td>False</td>\n",
       "      <td>...</td>\n",
       "      <td>False</td>\n",
       "      <td>False</td>\n",
       "      <td>False</td>\n",
       "      <td>False</td>\n",
       "      <td>False</td>\n",
       "      <td>False</td>\n",
       "      <td>False</td>\n",
       "      <td>False</td>\n",
       "      <td>False</td>\n",
       "      <td>False</td>\n",
       "    </tr>\n",
       "    <tr>\n",
       "      <th>25</th>\n",
       "      <td>True</td>\n",
       "      <td>True</td>\n",
       "      <td>0</td>\n",
       "      <td>0</td>\n",
       "      <td>False</td>\n",
       "      <td>False</td>\n",
       "      <td>False</td>\n",
       "      <td>False</td>\n",
       "      <td>False</td>\n",
       "      <td>False</td>\n",
       "      <td>...</td>\n",
       "      <td>False</td>\n",
       "      <td>False</td>\n",
       "      <td>False</td>\n",
       "      <td>False</td>\n",
       "      <td>False</td>\n",
       "      <td>False</td>\n",
       "      <td>False</td>\n",
       "      <td>False</td>\n",
       "      <td>False</td>\n",
       "      <td>False</td>\n",
       "    </tr>\n",
       "    <tr>\n",
       "      <th>27</th>\n",
       "      <td>True</td>\n",
       "      <td>True</td>\n",
       "      <td>0</td>\n",
       "      <td>0</td>\n",
       "      <td>False</td>\n",
       "      <td>False</td>\n",
       "      <td>False</td>\n",
       "      <td>False</td>\n",
       "      <td>False</td>\n",
       "      <td>False</td>\n",
       "      <td>...</td>\n",
       "      <td>False</td>\n",
       "      <td>False</td>\n",
       "      <td>False</td>\n",
       "      <td>False</td>\n",
       "      <td>False</td>\n",
       "      <td>False</td>\n",
       "      <td>False</td>\n",
       "      <td>False</td>\n",
       "      <td>False</td>\n",
       "      <td>False</td>\n",
       "    </tr>\n",
       "  </tbody>\n",
       "</table>\n",
       "<p>5 rows × 16904 columns</p>\n",
       "</div>"
      ],
      "text/plain": [
       "    malicious  packed  similarity  unpacked_similarity  string_b'\\t\\t\\t\\t'  \\\n",
       "0        True    True           0                    0               False   \n",
       "2       False    True           0                    0               False   \n",
       "9       False    True           0                    0               False   \n",
       "25       True    True           0                    0               False   \n",
       "27       True    True           0                    0               False   \n",
       "\n",
       "    string_b'\\t\\t\\t\\t\\t'  string_b'\\t\\t\\t\\t\\t\\t'  string_b'\\t\\t\\t\\t\\t\\t\\t'  \\\n",
       "0                  False                   False                     False   \n",
       "2                  False                   False                     False   \n",
       "9                  False                   False                     False   \n",
       "25                 False                   False                     False   \n",
       "27                 False                   False                     False   \n",
       "\n",
       "    string_b'\\t\\t\\t\\t\\t\\t\\t\\t'  string_b'\\t\\t\\t\\t\\t\\t\\t\\t\\t\\t\\t\\t\\t\\t'  ...  \\\n",
       "0                        False                                   False  ...   \n",
       "2                        False                                   False  ...   \n",
       "9                        False                                   False  ...   \n",
       "25                       False                                   False  ...   \n",
       "27                       False                                   False  ...   \n",
       "\n",
       "    string_b'~xYp'  string_b'~y\\ta('  string_b'~y~K'  string_b'~zzPKK1+,% '  \\\n",
       "0            False             False           False                  False   \n",
       "2            False             False           False                  False   \n",
       "9            False             False           False                  False   \n",
       "25           False             False           False                  False   \n",
       "27           False             False           False                  False   \n",
       "\n",
       "    string_b'~}}}}'  string_b'~~ZTT910&'  string_b'~~}}}'  string_b'~~~~'  \\\n",
       "0             False                False            False           False   \n",
       "2             False                False            False           False   \n",
       "9             False                False            False           False   \n",
       "25            False                False            False           False   \n",
       "27            False                False            False           False   \n",
       "\n",
       "    string_b'~~~~~'  string_b'~~~~~~}}}z'  \n",
       "0             False                 False  \n",
       "2             False                 False  \n",
       "9             False                 False  \n",
       "25            False                 False  \n",
       "27            False                 False  \n",
       "\n",
       "[5 rows x 16904 columns]"
      ]
     },
     "execution_count": 39,
     "metadata": {},
     "output_type": "execute_result"
    }
   ],
   "source": [
    "string.head()"
   ]
  },
  {
   "cell_type": "code",
   "execution_count": 40,
   "id": "315af43f",
   "metadata": {
    "execution": {
     "iopub.execute_input": "2023-12-27T01:17:24.880712Z",
     "iopub.status.busy": "2023-12-27T01:17:24.880210Z",
     "iopub.status.idle": "2023-12-27T01:17:25.223853Z",
     "shell.execute_reply": "2023-12-27T01:17:25.222410Z"
    },
    "papermill": {
     "duration": 0.377861,
     "end_time": "2023-12-27T01:17:25.226868",
     "exception": false,
     "start_time": "2023-12-27T01:17:24.849007",
     "status": "completed"
    },
    "tags": []
   },
   "outputs": [],
   "source": [
    "df_7000_string = string.sample(n=7000, random_state=102)\n",
    "df_3000_string = string.drop(df_7000.index)\n",
    "data_string = df_7000_string.sample(n=3500, random_state=102)"
   ]
  },
  {
   "cell_type": "code",
   "execution_count": 41,
   "id": "74dc0f77",
   "metadata": {
    "execution": {
     "iopub.execute_input": "2023-12-27T01:17:25.289864Z",
     "iopub.status.busy": "2023-12-27T01:17:25.289419Z",
     "iopub.status.idle": "2023-12-27T01:17:25.775760Z",
     "shell.execute_reply": "2023-12-27T01:17:25.774252Z"
    },
    "papermill": {
     "duration": 0.520717,
     "end_time": "2023-12-27T01:17:25.778453",
     "exception": false,
     "start_time": "2023-12-27T01:17:25.257736",
     "status": "completed"
    },
    "tags": []
   },
   "outputs": [
    {
     "name": "stdout",
     "output_type": "stream",
     "text": [
      "Packed Malware: 2322 samples\n",
      "Packed Benign: 1178 samples\n",
      "Total TRAIN set: 3500 samples\n",
      "Packed Malware: 1178 samples\n",
      "Packed Benign: 1178 samples\n",
      "Total TRAIN set: 2356 samples\n",
      "Packed Malware: 1022 samples\n",
      "Packed Benign: 1022 samples\n",
      "Total TEST set: 2044 samples\n"
     ]
    }
   ],
   "source": [
    "#Kiểm tra số lượng mẫu\n",
    "PM = data_string[(data_string['malicious'] == True) & (data_string['packed'] == True)].shape[0]\n",
    "PB = data_string[(data_string['malicious'] == False) & (data_string['packed'] == True)].shape[0]\n",
    "print('Packed Malware: %i samples' % PM)\n",
    "print('Packed Benign: %i samples' % PB)\n",
    "print('Total TRAIN set: %i samples'% (PM+PB))\n",
    "\n",
    "#Chia tỉ lệ 50 - 50\n",
    "data_PM_string = data_string[(data_string['malicious'] == True) & (data_string['packed'] == True)].sample(n=(PM-PB), random_state=102)\n",
    "data_string = data_string.drop(data_PM_string.index)\n",
    "      \n",
    "#Số lượng tập train\n",
    "PM = data_string[(data_string['malicious'] == True) & (data_string['packed'] == True)].shape[0]\n",
    "PB = data_string[(data_string['malicious'] == False) & (data_string['packed'] == True)].shape[0]\n",
    "print('Packed Malware: %i samples' % PM)\n",
    "print('Packed Benign: %i samples' % PB)\n",
    "print('Total TRAIN set: %i samples'% (PM+PB))\n",
    "\n",
    "#Xử lý tập train\n",
    "y = data_string['malicious'].values\n",
    "data_string = data_string.drop(['malicious','packed'], axis=1)\n",
    "\n",
    "PM = df_3000_string[(df_3000_string['malicious'] == True) & (df_3000_string['packed'] == True)].shape[0]\n",
    "PB = df_3000_string[(df_3000_string['malicious'] == False) & (df_3000_string['packed'] == True)].shape[0]\n",
    "\n",
    "df_3000_PM_string = df_3000_string[(df_3000_string['malicious'] == True) & (df_3000_string['packed'] == True)].sample(n=(PM-PB), random_state=102)\n",
    "df_3000_string = df_3000_string.drop(df_3000_PM_string.index)\n",
    "\n",
    "PM = df_3000_string[(df_3000_string['malicious'] == True) & (df_3000_string['packed'] == True)].shape[0]\n",
    "PB = df_3000_string[(df_3000_string['malicious'] == False) & (df_3000_string['packed'] == True)].shape[0]\n",
    "\n",
    "print('Packed Malware: %i samples' % PM)\n",
    "print('Packed Benign: %i samples' % PB)\n",
    "print('Total TEST set: %i samples'% (PM+PB))"
   ]
  },
  {
   "cell_type": "code",
   "execution_count": 42,
   "id": "521c3792",
   "metadata": {
    "execution": {
     "iopub.execute_input": "2023-12-27T01:17:25.842422Z",
     "iopub.status.busy": "2023-12-27T01:17:25.841455Z",
     "iopub.status.idle": "2023-12-27T01:17:25.934902Z",
     "shell.execute_reply": "2023-12-27T01:17:25.933723Z"
    },
    "papermill": {
     "duration": 0.128955,
     "end_time": "2023-12-27T01:17:25.937766",
     "exception": false,
     "start_time": "2023-12-27T01:17:25.808811",
     "status": "completed"
    },
    "tags": []
   },
   "outputs": [],
   "source": [
    "# model = SelectFromModel(fsel, prefit=True)\n",
    "\n",
    "X_train_string = data_string\n",
    "X_test_string = df_3000_string.drop(['malicious','packed'], axis=1)\n",
    "\n",
    "data_string = data_string.loc[:, (data_string != 0).any(axis=0)]\n",
    "x_train_string = data_string\n",
    "X_test_string = df_3000_string.drop(['malicious','packed'], axis=1)\n",
    "y_train_string = y\n",
    "y_test_string = df_3000_string['malicious'].values"
   ]
  },
  {
   "cell_type": "code",
   "execution_count": 43,
   "id": "f22ac6b4",
   "metadata": {
    "execution": {
     "iopub.execute_input": "2023-12-27T01:17:26.001140Z",
     "iopub.status.busy": "2023-12-27T01:17:26.000072Z",
     "iopub.status.idle": "2023-12-27T01:17:36.652068Z",
     "shell.execute_reply": "2023-12-27T01:17:36.650747Z"
    },
    "papermill": {
     "duration": 10.686631,
     "end_time": "2023-12-27T01:17:36.654929",
     "exception": false,
     "start_time": "2023-12-27T01:17:25.968298",
     "status": "completed"
    },
    "tags": []
   },
   "outputs": [
    {
     "name": "stdout",
     "output_type": "stream",
     "text": [
      "The accuracy of the Random Forests model is :\t 0.5420743639921722\n"
     ]
    }
   ],
   "source": [
    "# Random Forest\n",
    "from sklearn.ensemble import RandomForestClassifier\n",
    "from sklearn import metrics\n",
    "\n",
    "random_forest = RandomForestClassifier(n_estimators=100, random_state=17)\n",
    "random_forest.fit(X_train_string, y_train_string)\n",
    "random_forest_preds = random_forest.predict(X_test_string)\n",
    "print('The accuracy of the Random Forests model is :\\t',metrics.accuracy_score(random_forest_preds,y_test_string))"
   ]
  },
  {
   "cell_type": "markdown",
   "id": "708434b3",
   "metadata": {
    "papermill": {
     "duration": 0.030482,
     "end_time": "2023-12-27T01:17:36.717733",
     "exception": false,
     "start_time": "2023-12-27T01:17:36.687251",
     "status": "completed"
    },
    "tags": []
   },
   "source": [
    "# **api features**"
   ]
  },
  {
   "cell_type": "code",
   "execution_count": 44,
   "id": "bf65ba32",
   "metadata": {
    "execution": {
     "iopub.execute_input": "2023-12-27T01:17:36.787063Z",
     "iopub.status.busy": "2023-12-27T01:17:36.786584Z",
     "iopub.status.idle": "2023-12-27T01:17:38.677204Z",
     "shell.execute_reply": "2023-12-27T01:17:38.675889Z"
    },
    "papermill": {
     "duration": 1.932329,
     "end_time": "2023-12-27T01:17:38.680240",
     "exception": false,
     "start_time": "2023-12-27T01:17:36.747911",
     "status": "completed"
    },
    "tags": []
   },
   "outputs": [],
   "source": [
    "df_dolphin = pd.read_pickle('/kaggle/input/packer-balance-pickle/dolphin_balance.pickle')\n",
    "df_dolphin = df_dolphin.drop(['sample_sha1','benign','unpacked_sample_sha1','unpacked_sample_id'], axis=1)\n",
    "df_dolphin = df_dolphin.drop(['benign_vt','malicious_vt'], axis=1)\n",
    "string_columns = df_dolphin.select_dtypes(include=['object']).columns\n",
    "df_dolphin = df_dolphin.drop(string_columns, axis=1)"
   ]
  },
  {
   "cell_type": "code",
   "execution_count": 45,
   "id": "e602f916",
   "metadata": {
    "execution": {
     "iopub.execute_input": "2023-12-27T01:17:38.743846Z",
     "iopub.status.busy": "2023-12-27T01:17:38.743402Z",
     "iopub.status.idle": "2023-12-27T01:17:40.479962Z",
     "shell.execute_reply": "2023-12-27T01:17:40.478729Z"
    },
    "papermill": {
     "duration": 1.771591,
     "end_time": "2023-12-27T01:17:40.482985",
     "exception": false,
     "start_time": "2023-12-27T01:17:38.711394",
     "status": "completed"
    },
    "tags": []
   },
   "outputs": [
    {
     "name": "stdout",
     "output_type": "stream",
     "text": [
      "removing 13000 features\n",
      "removing 2500 features\n",
      "removing 2 features\n",
      "removing 16900 features\n",
      "removing 66 features\n",
      "removing 4306 features\n",
      "removing 550 features\n",
      "removing 29 features\n"
     ]
    }
   ],
   "source": [
    "api = remove_cols(df_dolphin, [c for c in cols if c.startswith('ngram_')])\n",
    "api = remove_cols(df_dolphin, [c for c in cols if c.startswith('opcode_')])\n",
    "api = remove_cols(df_dolphin, [c for c in cols if c.startswith('generic_')])\n",
    "api = remove_cols(df_dolphin, [c for c in cols if c.startswith('string_')])\n",
    "api = remove_cols(df_dolphin, [c for c in cols if c.startswith('rich_')])\n",
    "# api = remove_cols(df_dolphin, [c for c in cols if c.startswith('imp_') or 'api_import_nb' == c])\n",
    "api = remove_cols(df_dolphin, [c for c in cols if c.endswith('.dll') or 'dll_import_nb' == c])\n",
    "api = remove_cols(df_dolphin, [c for c in cols if c.startswith('pesection')])\n",
    "api = remove_cols(df_dolphin, [c for c in cols if c.startswith('header_')])"
   ]
  },
  {
   "cell_type": "code",
   "execution_count": 46,
   "id": "84ddd459",
   "metadata": {
    "execution": {
     "iopub.execute_input": "2023-12-27T01:17:40.547638Z",
     "iopub.status.busy": "2023-12-27T01:17:40.547227Z",
     "iopub.status.idle": "2023-12-27T01:17:40.581483Z",
     "shell.execute_reply": "2023-12-27T01:17:40.580357Z"
    },
    "papermill": {
     "duration": 0.069249,
     "end_time": "2023-12-27T01:17:40.583735",
     "exception": false,
     "start_time": "2023-12-27T01:17:40.514486",
     "status": "completed"
    },
    "tags": []
   },
   "outputs": [
    {
     "data": {
      "text/html": [
       "<div>\n",
       "<style scoped>\n",
       "    .dataframe tbody tr th:only-of-type {\n",
       "        vertical-align: middle;\n",
       "    }\n",
       "\n",
       "    .dataframe tbody tr th {\n",
       "        vertical-align: top;\n",
       "    }\n",
       "\n",
       "    .dataframe thead th {\n",
       "        text-align: right;\n",
       "    }\n",
       "</style>\n",
       "<table border=\"1\" class=\"dataframe\">\n",
       "  <thead>\n",
       "    <tr style=\"text-align: right;\">\n",
       "      <th></th>\n",
       "      <th>malicious</th>\n",
       "      <th>packed</th>\n",
       "      <th>imp_setupremovefilelogentrya</th>\n",
       "      <th>imp_vardeccmp</th>\n",
       "      <th>imp_setdlgitemint</th>\n",
       "      <th>imp_?append@?$basic_string@du?$char_traits@d@std@@v?$allocator@d@2@@std@@qaeaav12@abv12@ii@z</th>\n",
       "      <th>imp_zwwritefile</th>\n",
       "      <th>imp_glstencilop</th>\n",
       "      <th>imp_comparelinkinforeferents</th>\n",
       "      <th>imp__setmbcp</th>\n",
       "      <th>...</th>\n",
       "      <th>imp_??1configitem@utl@@uae@xz</th>\n",
       "      <th>imp_??1critical_section@concurrency@@qae@xz</th>\n",
       "      <th>imp__zn12qdomdocumentc1ev</th>\n",
       "      <th>imp__efree</th>\n",
       "      <th>imp_sws_alloc_context</th>\n",
       "      <th>imp_nc_get_vara_double</th>\n",
       "      <th>imp_?startextsubset@abstractdomparser@xercesc_2_7@@uaexxz</th>\n",
       "      <th>imp_direct3dcreate9ex</th>\n",
       "      <th>imp_trusteeaccesstoobjecta</th>\n",
       "      <th>unpacked_similarity</th>\n",
       "    </tr>\n",
       "  </thead>\n",
       "  <tbody>\n",
       "    <tr>\n",
       "      <th>0</th>\n",
       "      <td>True</td>\n",
       "      <td>True</td>\n",
       "      <td>False</td>\n",
       "      <td>False</td>\n",
       "      <td>False</td>\n",
       "      <td>False</td>\n",
       "      <td>False</td>\n",
       "      <td>False</td>\n",
       "      <td>False</td>\n",
       "      <td>False</td>\n",
       "      <td>...</td>\n",
       "      <td>False</td>\n",
       "      <td>False</td>\n",
       "      <td>False</td>\n",
       "      <td>False</td>\n",
       "      <td>False</td>\n",
       "      <td>False</td>\n",
       "      <td>False</td>\n",
       "      <td>False</td>\n",
       "      <td>False</td>\n",
       "      <td>0</td>\n",
       "    </tr>\n",
       "    <tr>\n",
       "      <th>2</th>\n",
       "      <td>False</td>\n",
       "      <td>True</td>\n",
       "      <td>False</td>\n",
       "      <td>False</td>\n",
       "      <td>False</td>\n",
       "      <td>False</td>\n",
       "      <td>False</td>\n",
       "      <td>False</td>\n",
       "      <td>False</td>\n",
       "      <td>False</td>\n",
       "      <td>...</td>\n",
       "      <td>False</td>\n",
       "      <td>False</td>\n",
       "      <td>False</td>\n",
       "      <td>False</td>\n",
       "      <td>False</td>\n",
       "      <td>False</td>\n",
       "      <td>False</td>\n",
       "      <td>False</td>\n",
       "      <td>False</td>\n",
       "      <td>0</td>\n",
       "    </tr>\n",
       "    <tr>\n",
       "      <th>9</th>\n",
       "      <td>False</td>\n",
       "      <td>True</td>\n",
       "      <td>False</td>\n",
       "      <td>False</td>\n",
       "      <td>False</td>\n",
       "      <td>False</td>\n",
       "      <td>False</td>\n",
       "      <td>False</td>\n",
       "      <td>False</td>\n",
       "      <td>False</td>\n",
       "      <td>...</td>\n",
       "      <td>False</td>\n",
       "      <td>False</td>\n",
       "      <td>False</td>\n",
       "      <td>False</td>\n",
       "      <td>False</td>\n",
       "      <td>False</td>\n",
       "      <td>False</td>\n",
       "      <td>False</td>\n",
       "      <td>False</td>\n",
       "      <td>0</td>\n",
       "    </tr>\n",
       "    <tr>\n",
       "      <th>25</th>\n",
       "      <td>True</td>\n",
       "      <td>True</td>\n",
       "      <td>False</td>\n",
       "      <td>False</td>\n",
       "      <td>False</td>\n",
       "      <td>False</td>\n",
       "      <td>False</td>\n",
       "      <td>False</td>\n",
       "      <td>False</td>\n",
       "      <td>False</td>\n",
       "      <td>...</td>\n",
       "      <td>False</td>\n",
       "      <td>False</td>\n",
       "      <td>False</td>\n",
       "      <td>False</td>\n",
       "      <td>False</td>\n",
       "      <td>False</td>\n",
       "      <td>False</td>\n",
       "      <td>False</td>\n",
       "      <td>False</td>\n",
       "      <td>0</td>\n",
       "    </tr>\n",
       "    <tr>\n",
       "      <th>27</th>\n",
       "      <td>True</td>\n",
       "      <td>True</td>\n",
       "      <td>False</td>\n",
       "      <td>False</td>\n",
       "      <td>False</td>\n",
       "      <td>False</td>\n",
       "      <td>False</td>\n",
       "      <td>False</td>\n",
       "      <td>False</td>\n",
       "      <td>False</td>\n",
       "      <td>...</td>\n",
       "      <td>False</td>\n",
       "      <td>False</td>\n",
       "      <td>False</td>\n",
       "      <td>False</td>\n",
       "      <td>False</td>\n",
       "      <td>False</td>\n",
       "      <td>False</td>\n",
       "      <td>False</td>\n",
       "      <td>False</td>\n",
       "      <td>0</td>\n",
       "    </tr>\n",
       "  </tbody>\n",
       "</table>\n",
       "<p>5 rows × 19173 columns</p>\n",
       "</div>"
      ],
      "text/plain": [
       "    malicious  packed  imp_setupremovefilelogentrya  imp_vardeccmp  \\\n",
       "0        True    True                         False          False   \n",
       "2       False    True                         False          False   \n",
       "9       False    True                         False          False   \n",
       "25       True    True                         False          False   \n",
       "27       True    True                         False          False   \n",
       "\n",
       "    imp_setdlgitemint  \\\n",
       "0               False   \n",
       "2               False   \n",
       "9               False   \n",
       "25              False   \n",
       "27              False   \n",
       "\n",
       "    imp_?append@?$basic_string@du?$char_traits@d@std@@v?$allocator@d@2@@std@@qaeaav12@abv12@ii@z  \\\n",
       "0                                               False                                              \n",
       "2                                               False                                              \n",
       "9                                               False                                              \n",
       "25                                              False                                              \n",
       "27                                              False                                              \n",
       "\n",
       "    imp_zwwritefile  imp_glstencilop  imp_comparelinkinforeferents  \\\n",
       "0             False            False                         False   \n",
       "2             False            False                         False   \n",
       "9             False            False                         False   \n",
       "25            False            False                         False   \n",
       "27            False            False                         False   \n",
       "\n",
       "    imp__setmbcp  ...  imp_??1configitem@utl@@uae@xz  \\\n",
       "0          False  ...                          False   \n",
       "2          False  ...                          False   \n",
       "9          False  ...                          False   \n",
       "25         False  ...                          False   \n",
       "27         False  ...                          False   \n",
       "\n",
       "    imp_??1critical_section@concurrency@@qae@xz  imp__zn12qdomdocumentc1ev  \\\n",
       "0                                         False                      False   \n",
       "2                                         False                      False   \n",
       "9                                         False                      False   \n",
       "25                                        False                      False   \n",
       "27                                        False                      False   \n",
       "\n",
       "    imp__efree  imp_sws_alloc_context  imp_nc_get_vara_double  \\\n",
       "0        False                  False                   False   \n",
       "2        False                  False                   False   \n",
       "9        False                  False                   False   \n",
       "25       False                  False                   False   \n",
       "27       False                  False                   False   \n",
       "\n",
       "    imp_?startextsubset@abstractdomparser@xercesc_2_7@@uaexxz  \\\n",
       "0                                               False           \n",
       "2                                               False           \n",
       "9                                               False           \n",
       "25                                              False           \n",
       "27                                              False           \n",
       "\n",
       "    imp_direct3dcreate9ex  imp_trusteeaccesstoobjecta  unpacked_similarity  \n",
       "0                   False                       False                    0  \n",
       "2                   False                       False                    0  \n",
       "9                   False                       False                    0  \n",
       "25                  False                       False                    0  \n",
       "27                  False                       False                    0  \n",
       "\n",
       "[5 rows x 19173 columns]"
      ]
     },
     "execution_count": 46,
     "metadata": {},
     "output_type": "execute_result"
    }
   ],
   "source": [
    "api.head()"
   ]
  },
  {
   "cell_type": "code",
   "execution_count": 47,
   "id": "65b682e1",
   "metadata": {
    "execution": {
     "iopub.execute_input": "2023-12-27T01:17:40.649263Z",
     "iopub.status.busy": "2023-12-27T01:17:40.648775Z",
     "iopub.status.idle": "2023-12-27T01:17:41.085326Z",
     "shell.execute_reply": "2023-12-27T01:17:41.083959Z"
    },
    "papermill": {
     "duration": 0.4729,
     "end_time": "2023-12-27T01:17:41.088239",
     "exception": false,
     "start_time": "2023-12-27T01:17:40.615339",
     "status": "completed"
    },
    "tags": []
   },
   "outputs": [],
   "source": [
    "df_7000_api = api.sample(n=7000, random_state=102)\n",
    "df_3000_api = api.drop(df_7000.index)\n",
    "data_api = df_7000_api.sample(n=3500, random_state=102)"
   ]
  },
  {
   "cell_type": "code",
   "execution_count": 48,
   "id": "55e65fc0",
   "metadata": {
    "execution": {
     "iopub.execute_input": "2023-12-27T01:17:41.155699Z",
     "iopub.status.busy": "2023-12-27T01:17:41.155270Z",
     "iopub.status.idle": "2023-12-27T01:17:41.854620Z",
     "shell.execute_reply": "2023-12-27T01:17:41.853184Z"
    },
    "papermill": {
     "duration": 0.737694,
     "end_time": "2023-12-27T01:17:41.857375",
     "exception": false,
     "start_time": "2023-12-27T01:17:41.119681",
     "status": "completed"
    },
    "tags": []
   },
   "outputs": [
    {
     "name": "stdout",
     "output_type": "stream",
     "text": [
      "Packed Malware: 2322 samples\n",
      "Packed Benign: 1178 samples\n",
      "Total TRAIN set: 3500 samples\n",
      "Packed Malware: 1178 samples\n",
      "Packed Benign: 1178 samples\n",
      "Total TRAIN set: 2356 samples\n",
      "Packed Malware: 1022 samples\n",
      "Packed Benign: 1022 samples\n",
      "Total TEST set: 2044 samples\n"
     ]
    }
   ],
   "source": [
    "#Kiểm tra số lượng mẫu\n",
    "PM = data_api[(data_api['malicious'] == True) & (data_api['packed'] == True)].shape[0]\n",
    "PB = data_api[(data_api['malicious'] == False) & (data_api['packed'] == True)].shape[0]\n",
    "print('Packed Malware: %i samples' % PM)\n",
    "print('Packed Benign: %i samples' % PB)\n",
    "print('Total TRAIN set: %i samples'% (PM+PB))\n",
    "\n",
    "#Chia tỉ lệ 50 - 50\n",
    "data_PM_api = data_api[(data_api['malicious'] == True) & (data_api['packed'] == True)].sample(n=(PM-PB), random_state=102)\n",
    "data_api = data_api.drop(data_PM_api.index)\n",
    "      \n",
    "#Số lượng tập train\n",
    "PM = data_api[(data_api['malicious'] == True) & (data_api['packed'] == True)].shape[0]\n",
    "PB = data_api[(data_api['malicious'] == False) & (data_api['packed'] == True)].shape[0]\n",
    "print('Packed Malware: %i samples' % PM)\n",
    "print('Packed Benign: %i samples' % PB)\n",
    "print('Total TRAIN set: %i samples'% (PM+PB))\n",
    "\n",
    "#Xử lý tập train\n",
    "y = data_api['malicious'].values\n",
    "data_api = data_api.drop(['malicious','packed'], axis=1)\n",
    "\n",
    "PM = df_3000_api[(df_3000_api['malicious'] == True) & (df_3000_api['packed'] == True)].shape[0]\n",
    "PB = df_3000_api[(df_3000_api['malicious'] == False) & (df_3000_api['packed'] == True)].shape[0]\n",
    "\n",
    "df_3000_PM_api = df_3000_api[(df_3000_api['malicious'] == True) & (df_3000_api['packed'] == True)].sample(n=(PM-PB), random_state=102)\n",
    "df_3000_api = df_3000_api.drop(df_3000_PM_api.index)\n",
    "\n",
    "PM = df_3000_api[(df_3000_api['malicious'] == True) & (df_3000_api['packed'] == True)].shape[0]\n",
    "PB = df_3000_api[(df_3000_api['malicious'] == False) & (df_3000_api['packed'] == True)].shape[0]\n",
    "\n",
    "print('Packed Malware: %i samples' % PM)\n",
    "print('Packed Benign: %i samples' % PB)\n",
    "print('Total TEST set: %i samples'% (PM+PB))"
   ]
  },
  {
   "cell_type": "code",
   "execution_count": 49,
   "id": "95e0919b",
   "metadata": {
    "execution": {
     "iopub.execute_input": "2023-12-27T01:17:41.925050Z",
     "iopub.status.busy": "2023-12-27T01:17:41.924559Z",
     "iopub.status.idle": "2023-12-27T01:17:42.067077Z",
     "shell.execute_reply": "2023-12-27T01:17:42.065838Z"
    },
    "papermill": {
     "duration": 0.180098,
     "end_time": "2023-12-27T01:17:42.069871",
     "exception": false,
     "start_time": "2023-12-27T01:17:41.889773",
     "status": "completed"
    },
    "tags": []
   },
   "outputs": [],
   "source": [
    "# model = SelectFromModel(fsel, prefit=True)\n",
    "\n",
    "X_train_api = data_api\n",
    "X_test_api = df_3000_api.drop(['malicious','packed'], axis=1)\n",
    "\n",
    "data_api = data_api.loc[:, (data_api != 0).any(axis=0)]\n",
    "x_train_api = data_api\n",
    "X_test_api = df_3000_api.drop(['malicious','packed'], axis=1)\n",
    "y_train_api = y\n",
    "y_test_api = df_3000_api['malicious'].values"
   ]
  },
  {
   "cell_type": "code",
   "execution_count": 50,
   "id": "7411712f",
   "metadata": {
    "execution": {
     "iopub.execute_input": "2023-12-27T01:17:42.135693Z",
     "iopub.status.busy": "2023-12-27T01:17:42.135272Z",
     "iopub.status.idle": "2023-12-27T01:17:50.265743Z",
     "shell.execute_reply": "2023-12-27T01:17:50.264223Z"
    },
    "papermill": {
     "duration": 8.167049,
     "end_time": "2023-12-27T01:17:50.268684",
     "exception": false,
     "start_time": "2023-12-27T01:17:42.101635",
     "status": "completed"
    },
    "tags": []
   },
   "outputs": [
    {
     "name": "stdout",
     "output_type": "stream",
     "text": [
      "The accuracy of the Random Forests model is :\t 0.5\n"
     ]
    }
   ],
   "source": [
    "# Random Forest\n",
    "from sklearn.ensemble import RandomForestClassifier\n",
    "from sklearn import metrics\n",
    "\n",
    "random_forest = RandomForestClassifier(n_estimators=100, random_state=17)\n",
    "random_forest.fit(X_train_api, y_train_api)\n",
    "random_forest_preds = random_forest.predict(X_test_api)\n",
    "print('The accuracy of the Random Forests model is :\\t',metrics.accuracy_score(random_forest_preds,y_test_api))"
   ]
  },
  {
   "cell_type": "markdown",
   "id": "a2ace1f5",
   "metadata": {
    "papermill": {
     "duration": 0.032083,
     "end_time": "2023-12-27T01:17:50.332636",
     "exception": false,
     "start_time": "2023-12-27T01:17:50.300553",
     "status": "completed"
    },
    "tags": []
   },
   "source": [
    "# **dll features**"
   ]
  },
  {
   "cell_type": "code",
   "execution_count": 51,
   "id": "5667a8f6",
   "metadata": {
    "execution": {
     "iopub.execute_input": "2023-12-27T01:17:50.403696Z",
     "iopub.status.busy": "2023-12-27T01:17:50.403187Z",
     "iopub.status.idle": "2023-12-27T01:17:52.205449Z",
     "shell.execute_reply": "2023-12-27T01:17:52.204082Z"
    },
    "papermill": {
     "duration": 1.840691,
     "end_time": "2023-12-27T01:17:52.208370",
     "exception": false,
     "start_time": "2023-12-27T01:17:50.367679",
     "status": "completed"
    },
    "tags": []
   },
   "outputs": [],
   "source": [
    "df_dolphin = pd.read_pickle('/kaggle/input/packer-balance-pickle/dolphin_balance.pickle')\n",
    "df_dolphin = df_dolphin.drop(['sample_sha1','benign','unpacked_sample_sha1','unpacked_sample_id'], axis=1)\n",
    "df_dolphin = df_dolphin.drop(['benign_vt','malicious_vt'], axis=1)\n",
    "string_columns = df_dolphin.select_dtypes(include=['object']).columns\n",
    "df_dolphin = df_dolphin.drop(string_columns, axis=1)"
   ]
  },
  {
   "cell_type": "code",
   "execution_count": 52,
   "id": "920f3094",
   "metadata": {
    "execution": {
     "iopub.execute_input": "2023-12-27T01:17:52.274628Z",
     "iopub.status.busy": "2023-12-27T01:17:52.273838Z",
     "iopub.status.idle": "2023-12-27T01:17:53.651016Z",
     "shell.execute_reply": "2023-12-27T01:17:53.649671Z"
    },
    "papermill": {
     "duration": 1.414049,
     "end_time": "2023-12-27T01:17:53.653906",
     "exception": false,
     "start_time": "2023-12-27T01:17:52.239857",
     "status": "completed"
    },
    "tags": []
   },
   "outputs": [
    {
     "name": "stdout",
     "output_type": "stream",
     "text": [
      "removing 13000 features\n",
      "removing 2500 features\n",
      "removing 2 features\n",
      "removing 16900 features\n",
      "removing 66 features\n",
      "removing 19169 features\n",
      "removing 550 features\n",
      "removing 29 features\n"
     ]
    }
   ],
   "source": [
    "dll = remove_cols(df_dolphin, [c for c in cols if c.startswith('ngram_')])\n",
    "dll = remove_cols(df_dolphin, [c for c in cols if c.startswith('opcode_')])\n",
    "dll = remove_cols(df_dolphin, [c for c in cols if c.startswith('generic_')])\n",
    "dll = remove_cols(df_dolphin, [c for c in cols if c.startswith('string_')])\n",
    "dll = remove_cols(df_dolphin, [c for c in cols if c.startswith('rich_')])\n",
    "dll = remove_cols(df_dolphin, [c for c in cols if c.startswith('imp_') or 'api_import_nb' == c])\n",
    "# api = remove_cols(df_dolphin, [c for c in cols if c.endswith('.dll') or 'dll_import_nb' == c])\n",
    "dll = remove_cols(df_dolphin, [c for c in cols if c.startswith('pesection')])\n",
    "dll = remove_cols(df_dolphin, [c for c in cols if c.startswith('header_')])"
   ]
  },
  {
   "cell_type": "code",
   "execution_count": 53,
   "id": "28044e5e",
   "metadata": {
    "execution": {
     "iopub.execute_input": "2023-12-27T01:17:53.721171Z",
     "iopub.status.busy": "2023-12-27T01:17:53.720718Z",
     "iopub.status.idle": "2023-12-27T01:17:53.828107Z",
     "shell.execute_reply": "2023-12-27T01:17:53.826723Z"
    },
    "papermill": {
     "duration": 0.14428,
     "end_time": "2023-12-27T01:17:53.831574",
     "exception": false,
     "start_time": "2023-12-27T01:17:53.687294",
     "status": "completed"
    },
    "tags": []
   },
   "outputs": [],
   "source": [
    "df_7000_dll = dll.sample(n=7000, random_state=102)\n",
    "df_3000_dll = dll.drop(df_7000.index)\n",
    "data_dll = df_7000_dll.sample(n=3500, random_state=102)"
   ]
  },
  {
   "cell_type": "code",
   "execution_count": 54,
   "id": "3db7b643",
   "metadata": {
    "execution": {
     "iopub.execute_input": "2023-12-27T01:17:53.898732Z",
     "iopub.status.busy": "2023-12-27T01:17:53.898305Z",
     "iopub.status.idle": "2023-12-27T01:17:54.122542Z",
     "shell.execute_reply": "2023-12-27T01:17:54.120854Z"
    },
    "papermill": {
     "duration": 0.260843,
     "end_time": "2023-12-27T01:17:54.125359",
     "exception": false,
     "start_time": "2023-12-27T01:17:53.864516",
     "status": "completed"
    },
    "tags": []
   },
   "outputs": [
    {
     "name": "stdout",
     "output_type": "stream",
     "text": [
      "Packed Malware: 2322 samples\n",
      "Packed Benign: 1178 samples\n",
      "Total TRAIN set: 3500 samples\n",
      "Packed Malware: 1178 samples\n",
      "Packed Benign: 1178 samples\n",
      "Total TRAIN set: 2356 samples\n",
      "Packed Malware: 1022 samples\n",
      "Packed Benign: 1022 samples\n",
      "Total TEST set: 2044 samples\n"
     ]
    }
   ],
   "source": [
    "#Kiểm tra số lượng mẫu\n",
    "PM = data_dll[(data_dll['malicious'] == True) & (data_dll['packed'] == True)].shape[0]\n",
    "PB = data_dll[(data_dll['malicious'] == False) & (data_dll['packed'] == True)].shape[0]\n",
    "print('Packed Malware: %i samples' % PM)\n",
    "print('Packed Benign: %i samples' % PB)\n",
    "print('Total TRAIN set: %i samples'% (PM+PB))\n",
    "\n",
    "#Chia tỉ lệ 50 - 50\n",
    "data_PM_dll = data_dll[(data_dll['malicious'] == True) & (data_dll['packed'] == True)].sample(n=(PM-PB), random_state=102)\n",
    "data_dll = data_dll.drop(data_PM_dll.index)\n",
    "      \n",
    "#Số lượng tập train\n",
    "PM = data_dll[(data_dll['malicious'] == True) & (data_dll['packed'] == True)].shape[0]\n",
    "PB = data_dll[(data_dll['malicious'] == False) & (data_dll['packed'] == True)].shape[0]\n",
    "print('Packed Malware: %i samples' % PM)\n",
    "print('Packed Benign: %i samples' % PB)\n",
    "print('Total TRAIN set: %i samples'% (PM+PB))\n",
    "\n",
    "#Xử lý tập train\n",
    "y = data_dll['malicious'].values\n",
    "data_dll = data_dll.drop(['malicious','packed'], axis=1)\n",
    "\n",
    "PM = df_3000_dll[(df_3000_dll['malicious'] == True) & (df_3000_dll['packed'] == True)].shape[0]\n",
    "PB = df_3000_dll[(df_3000_dll['malicious'] == False) & (df_3000_dll['packed'] == True)].shape[0]\n",
    "\n",
    "df_3000_PM_dll = df_3000_dll[(df_3000_dll['malicious'] == True) & (df_3000_dll['packed'] == True)].sample(n=(PM-PB), random_state=102)\n",
    "df_3000_dll = df_3000_dll.drop(df_3000_PM_dll.index)\n",
    "\n",
    "PM = df_3000_dll[(df_3000_dll['malicious'] == True) & (df_3000_dll['packed'] == True)].shape[0]\n",
    "PB = df_3000_dll[(df_3000_dll['malicious'] == False) & (df_3000_dll['packed'] == True)].shape[0]\n",
    "\n",
    "print('Packed Malware: %i samples' % PM)\n",
    "print('Packed Benign: %i samples' % PB)\n",
    "print('Total TEST set: %i samples'% (PM+PB))"
   ]
  },
  {
   "cell_type": "code",
   "execution_count": 55,
   "id": "255fc47a",
   "metadata": {
    "execution": {
     "iopub.execute_input": "2023-12-27T01:17:54.194351Z",
     "iopub.status.busy": "2023-12-27T01:17:54.193853Z",
     "iopub.status.idle": "2023-12-27T01:17:54.246989Z",
     "shell.execute_reply": "2023-12-27T01:17:54.245577Z"
    },
    "papermill": {
     "duration": 0.09061,
     "end_time": "2023-12-27T01:17:54.249957",
     "exception": false,
     "start_time": "2023-12-27T01:17:54.159347",
     "status": "completed"
    },
    "tags": []
   },
   "outputs": [],
   "source": [
    "# model = SelectFromModel(fsel, prefit=True)\n",
    "\n",
    "X_train_dll = data_dll\n",
    "X_test_dll = df_3000_dll.drop(['malicious','packed'], axis=1)\n",
    "\n",
    "data_dll = data_dll.loc[:, (data_dll != 0).any(axis=0)]\n",
    "x_train_dll = data_dll\n",
    "X_test_dll = df_3000_dll.drop(['malicious','packed'], axis=1)\n",
    "y_train_dll = y\n",
    "y_test_dll = df_3000_dll['malicious'].values"
   ]
  },
  {
   "cell_type": "code",
   "execution_count": 56,
   "id": "eb76a636",
   "metadata": {
    "execution": {
     "iopub.execute_input": "2023-12-27T01:17:54.318651Z",
     "iopub.status.busy": "2023-12-27T01:17:54.318218Z",
     "iopub.status.idle": "2023-12-27T01:17:56.381216Z",
     "shell.execute_reply": "2023-12-27T01:17:56.379858Z"
    },
    "papermill": {
     "duration": 2.099727,
     "end_time": "2023-12-27T01:17:56.383865",
     "exception": false,
     "start_time": "2023-12-27T01:17:54.284138",
     "status": "completed"
    },
    "tags": []
   },
   "outputs": [
    {
     "name": "stdout",
     "output_type": "stream",
     "text": [
      "The accuracy of the Random Forests model is :\t 0.5\n"
     ]
    }
   ],
   "source": [
    "# Random Forest\n",
    "from sklearn.ensemble import RandomForestClassifier\n",
    "from sklearn import metrics\n",
    "\n",
    "random_forest = RandomForestClassifier(n_estimators=100, random_state=17)\n",
    "random_forest.fit(X_train_dll, y_train_dll)\n",
    "random_forest_preds = random_forest.predict(X_test_dll)\n",
    "print('The accuracy of the Random Forests model is :\\t',metrics.accuracy_score(random_forest_preds,y_test_dll))"
   ]
  },
  {
   "cell_type": "markdown",
   "id": "4ee90219",
   "metadata": {
    "papermill": {
     "duration": 0.032612,
     "end_time": "2023-12-27T01:17:56.448687",
     "exception": false,
     "start_time": "2023-12-27T01:17:56.416075",
     "status": "completed"
    },
    "tags": []
   },
   "source": [
    "# **pe sections features**"
   ]
  },
  {
   "cell_type": "code",
   "execution_count": 57,
   "id": "52714d82",
   "metadata": {
    "execution": {
     "iopub.execute_input": "2023-12-27T01:17:56.517710Z",
     "iopub.status.busy": "2023-12-27T01:17:56.517282Z",
     "iopub.status.idle": "2023-12-27T01:17:58.392244Z",
     "shell.execute_reply": "2023-12-27T01:17:58.390903Z"
    },
    "papermill": {
     "duration": 1.912745,
     "end_time": "2023-12-27T01:17:58.395077",
     "exception": false,
     "start_time": "2023-12-27T01:17:56.482332",
     "status": "completed"
    },
    "tags": []
   },
   "outputs": [],
   "source": [
    "df_dolphin = pd.read_pickle('/kaggle/input/packer-balance-pickle/dolphin_balance.pickle')\n",
    "df_dolphin = df_dolphin.drop(['sample_sha1','benign','unpacked_sample_sha1','unpacked_sample_id'], axis=1)\n",
    "df_dolphin = df_dolphin.drop(['benign_vt','malicious_vt'], axis=1)\n",
    "string_columns = df_dolphin.select_dtypes(include=['object']).columns\n",
    "df_dolphin = df_dolphin.drop(string_columns, axis=1)"
   ]
  },
  {
   "cell_type": "code",
   "execution_count": 58,
   "id": "9c88b9df",
   "metadata": {
    "execution": {
     "iopub.execute_input": "2023-12-27T01:17:58.462738Z",
     "iopub.status.busy": "2023-12-27T01:17:58.462327Z",
     "iopub.status.idle": "2023-12-27T01:17:59.729875Z",
     "shell.execute_reply": "2023-12-27T01:17:59.728373Z"
    },
    "papermill": {
     "duration": 1.30468,
     "end_time": "2023-12-27T01:17:59.732723",
     "exception": false,
     "start_time": "2023-12-27T01:17:58.428043",
     "status": "completed"
    },
    "tags": []
   },
   "outputs": [
    {
     "name": "stdout",
     "output_type": "stream",
     "text": [
      "removing 13000 features\n",
      "removing 2500 features\n",
      "removing 2 features\n",
      "removing 16900 features\n",
      "removing 66 features\n",
      "removing 19169 features\n",
      "removing 4306 features\n",
      "removing 29 features\n"
     ]
    }
   ],
   "source": [
    "pesection = remove_cols(df_dolphin, [c for c in cols if c.startswith('ngram_')])\n",
    "pesection = remove_cols(df_dolphin, [c for c in cols if c.startswith('opcode_')])\n",
    "pesection = remove_cols(df_dolphin, [c for c in cols if c.startswith('generic_')])\n",
    "pesection = remove_cols(df_dolphin, [c for c in cols if c.startswith('string_')])\n",
    "pesection = remove_cols(df_dolphin, [c for c in cols if c.startswith('rich_')])\n",
    "pesection = remove_cols(df_dolphin, [c for c in cols if c.startswith('imp_') or 'api_import_nb' == c])\n",
    "pesection = remove_cols(df_dolphin, [c for c in cols if c.endswith('.dll') or 'dll_import_nb' == c])\n",
    "# pesection = remove_cols(df_dolphin, [c for c in cols if c.startswith('pesection')])\n",
    "pesection = remove_cols(df_dolphin, [c for c in cols if c.startswith('header_')])"
   ]
  },
  {
   "cell_type": "code",
   "execution_count": 59,
   "id": "f198fa07",
   "metadata": {
    "execution": {
     "iopub.execute_input": "2023-12-27T01:17:59.800312Z",
     "iopub.status.busy": "2023-12-27T01:17:59.799842Z",
     "iopub.status.idle": "2023-12-27T01:17:59.857775Z",
     "shell.execute_reply": "2023-12-27T01:17:59.856271Z"
    },
    "papermill": {
     "duration": 0.094982,
     "end_time": "2023-12-27T01:17:59.860757",
     "exception": false,
     "start_time": "2023-12-27T01:17:59.765775",
     "status": "completed"
    },
    "tags": []
   },
   "outputs": [],
   "source": [
    "df_7000_pesection = pesection.sample(n=7000, random_state=102)\n",
    "df_3000_pesection = pesection.drop(df_7000.index)\n",
    "data_pesection = df_7000_pesection.sample(n=3500, random_state=102)"
   ]
  },
  {
   "cell_type": "code",
   "execution_count": 60,
   "id": "5d33d438",
   "metadata": {
    "execution": {
     "iopub.execute_input": "2023-12-27T01:17:59.929595Z",
     "iopub.status.busy": "2023-12-27T01:17:59.929171Z",
     "iopub.status.idle": "2023-12-27T01:18:00.088509Z",
     "shell.execute_reply": "2023-12-27T01:18:00.087079Z"
    },
    "papermill": {
     "duration": 0.196678,
     "end_time": "2023-12-27T01:18:00.091467",
     "exception": false,
     "start_time": "2023-12-27T01:17:59.894789",
     "status": "completed"
    },
    "tags": []
   },
   "outputs": [
    {
     "name": "stdout",
     "output_type": "stream",
     "text": [
      "Packed Malware: 2322 samples\n",
      "Packed Benign: 1178 samples\n",
      "Total TRAIN set: 3500 samples\n",
      "Packed Malware: 1178 samples\n",
      "Packed Benign: 1178 samples\n",
      "Total TRAIN set: 2356 samples\n",
      "Packed Malware: 1022 samples\n",
      "Packed Benign: 1022 samples\n",
      "Total TEST set: 2044 samples\n"
     ]
    }
   ],
   "source": [
    "#Kiểm tra số lượng mẫu\n",
    "PM = data_pesection[(data_pesection['malicious'] == True) & (data_pesection['packed'] == True)].shape[0]\n",
    "PB = data_pesection[(data_pesection['malicious'] == False) & (data_pesection['packed'] == True)].shape[0]\n",
    "print('Packed Malware: %i samples' % PM)\n",
    "print('Packed Benign: %i samples' % PB)\n",
    "print('Total TRAIN set: %i samples'% (PM+PB))\n",
    "\n",
    "#Chia tỉ lệ 50 - 50\n",
    "data_PM_pesection = data_pesection[(data_pesection['malicious'] == True) & (data_pesection['packed'] == True)].sample(n=(PM-PB), random_state=102)\n",
    "data_pesection = data_pesection.drop(data_PM_pesection.index)\n",
    "      \n",
    "#Số lượng tập train\n",
    "PM = data_pesection[(data_pesection['malicious'] == True) & (data_pesection['packed'] == True)].shape[0]\n",
    "PB = data_pesection[(data_pesection['malicious'] == False) & (data_pesection['packed'] == True)].shape[0]\n",
    "print('Packed Malware: %i samples' % PM)\n",
    "print('Packed Benign: %i samples' % PB)\n",
    "print('Total TRAIN set: %i samples'% (PM+PB))\n",
    "\n",
    "#Xử lý tập train\n",
    "y = data_pesection['malicious'].values\n",
    "data_pesection = data_pesection.drop(['malicious','packed'], axis=1)\n",
    "\n",
    "PM = df_3000_pesection[(df_3000_pesection['malicious'] == True) & (df_3000_pesection['packed'] == True)].shape[0]\n",
    "PB = df_3000_pesection[(df_3000_pesection['malicious'] == False) & (df_3000_pesection['packed'] == True)].shape[0]\n",
    "\n",
    "df_3000_PM_pesection = df_3000_pesection[(df_3000_pesection['malicious'] == True) & (df_3000_pesection['packed'] == True)].sample(n=(PM-PB), random_state=102)\n",
    "df_3000_pesection = df_3000_pesection.drop(df_3000_PM_pesection.index)\n",
    "\n",
    "PM = df_3000_pesection[(df_3000_pesection['malicious'] == True) & (df_3000_pesection['packed'] == True)].shape[0]\n",
    "PB = df_3000_pesection[(df_3000_pesection['malicious'] == False) & (df_3000_pesection['packed'] == True)].shape[0]\n",
    "\n",
    "print('Packed Malware: %i samples' % PM)\n",
    "print('Packed Benign: %i samples' % PB)\n",
    "print('Total TEST set: %i samples'% (PM+PB))"
   ]
  },
  {
   "cell_type": "code",
   "execution_count": 61,
   "id": "b6cd6cfd",
   "metadata": {
    "execution": {
     "iopub.execute_input": "2023-12-27T01:18:00.160402Z",
     "iopub.status.busy": "2023-12-27T01:18:00.159936Z",
     "iopub.status.idle": "2023-12-27T01:18:00.201566Z",
     "shell.execute_reply": "2023-12-27T01:18:00.200244Z"
    },
    "papermill": {
     "duration": 0.079642,
     "end_time": "2023-12-27T01:18:00.204447",
     "exception": false,
     "start_time": "2023-12-27T01:18:00.124805",
     "status": "completed"
    },
    "tags": []
   },
   "outputs": [],
   "source": [
    "# model = SelectFromModel(fsel, prefit=True)\n",
    "\n",
    "X_train_pesection = data_pesection\n",
    "X_test_pesection = df_3000_pesection.drop(['malicious','packed'], axis=1)\n",
    "\n",
    "data_pesection = data_pesection.loc[:, (data_pesection != 0).any(axis=0)]\n",
    "x_train_pesection = data_pesection\n",
    "X_test_pesection = df_3000_pesection.drop(['malicious','packed'], axis=1)\n",
    "y_train_pesection = y\n",
    "y_test_pesection = df_3000_pesection['malicious'].values"
   ]
  },
  {
   "cell_type": "code",
   "execution_count": 62,
   "id": "93c8846a",
   "metadata": {
    "execution": {
     "iopub.execute_input": "2023-12-27T01:18:00.276315Z",
     "iopub.status.busy": "2023-12-27T01:18:00.275830Z",
     "iopub.status.idle": "2023-12-27T01:18:00.840491Z",
     "shell.execute_reply": "2023-12-27T01:18:00.838983Z"
    },
    "papermill": {
     "duration": 0.603295,
     "end_time": "2023-12-27T01:18:00.843681",
     "exception": false,
     "start_time": "2023-12-27T01:18:00.240386",
     "status": "completed"
    },
    "tags": []
   },
   "outputs": [
    {
     "name": "stdout",
     "output_type": "stream",
     "text": [
      "The accuracy of the Random Forests model is :\t 0.5\n"
     ]
    }
   ],
   "source": [
    "# Random Forest\n",
    "from sklearn.ensemble import RandomForestClassifier\n",
    "from sklearn import metrics\n",
    "\n",
    "random_forest = RandomForestClassifier(n_estimators=100, random_state=17)\n",
    "random_forest.fit(X_train_pesection, y_train_pesection)\n",
    "random_forest_preds = random_forest.predict(X_test_pesection)\n",
    "print('The accuracy of the Random Forests model is :\\t',metrics.accuracy_score(random_forest_preds,y_test_pesection))"
   ]
  },
  {
   "cell_type": "markdown",
   "id": "0200d0b3",
   "metadata": {
    "papermill": {
     "duration": 0.035329,
     "end_time": "2023-12-27T01:18:00.914414",
     "exception": false,
     "start_time": "2023-12-27T01:18:00.879085",
     "status": "completed"
    },
    "tags": []
   },
   "source": [
    "# **pe header features**"
   ]
  },
  {
   "cell_type": "code",
   "execution_count": 63,
   "id": "e257917d",
   "metadata": {
    "execution": {
     "iopub.execute_input": "2023-12-27T01:18:00.987275Z",
     "iopub.status.busy": "2023-12-27T01:18:00.986843Z",
     "iopub.status.idle": "2023-12-27T01:18:02.712326Z",
     "shell.execute_reply": "2023-12-27T01:18:02.710930Z"
    },
    "papermill": {
     "duration": 1.764732,
     "end_time": "2023-12-27T01:18:02.715295",
     "exception": false,
     "start_time": "2023-12-27T01:18:00.950563",
     "status": "completed"
    },
    "tags": []
   },
   "outputs": [],
   "source": [
    "df_dolphin = pd.read_pickle('/kaggle/input/packer-balance-pickle/dolphin_balance.pickle')\n",
    "df_dolphin = df_dolphin.drop(['sample_sha1','benign','unpacked_sample_sha1','unpacked_sample_id'], axis=1)\n",
    "df_dolphin = df_dolphin.drop(['benign_vt','malicious_vt'], axis=1)\n",
    "string_columns = df_dolphin.select_dtypes(include=['object']).columns\n",
    "df_dolphin = df_dolphin.drop(string_columns, axis=1)"
   ]
  },
  {
   "cell_type": "code",
   "execution_count": 64,
   "id": "a63b250e",
   "metadata": {
    "execution": {
     "iopub.execute_input": "2023-12-27T01:18:02.784659Z",
     "iopub.status.busy": "2023-12-27T01:18:02.784249Z",
     "iopub.status.idle": "2023-12-27T01:18:04.153431Z",
     "shell.execute_reply": "2023-12-27T01:18:04.151866Z"
    },
    "papermill": {
     "duration": 1.407323,
     "end_time": "2023-12-27T01:18:04.156287",
     "exception": false,
     "start_time": "2023-12-27T01:18:02.748964",
     "status": "completed"
    },
    "tags": []
   },
   "outputs": [
    {
     "name": "stdout",
     "output_type": "stream",
     "text": [
      "removing 13000 features\n",
      "removing 2500 features\n",
      "removing 2 features\n",
      "removing 16900 features\n",
      "removing 66 features\n",
      "removing 19169 features\n",
      "removing 4306 features\n",
      "removing 550 features\n"
     ]
    }
   ],
   "source": [
    "header = remove_cols(df_dolphin, [c for c in cols if c.startswith('ngram_')])\n",
    "header = remove_cols(df_dolphin, [c for c in cols if c.startswith('opcode_')])\n",
    "header = remove_cols(df_dolphin, [c for c in cols if c.startswith('generic_')])\n",
    "header = remove_cols(df_dolphin, [c for c in cols if c.startswith('string_')])\n",
    "header = remove_cols(df_dolphin, [c for c in cols if c.startswith('rich_')])\n",
    "header = remove_cols(df_dolphin, [c for c in cols if c.startswith('imp_') or 'api_import_nb' == c])\n",
    "header = remove_cols(df_dolphin, [c for c in cols if c.endswith('.dll') or 'dll_import_nb' == c])\n",
    "header = remove_cols(df_dolphin, [c for c in cols if c.startswith('pesection')])\n",
    "# header = remove_cols(df_dolphin, [c for c in cols if c.startswith('header_')])"
   ]
  },
  {
   "cell_type": "code",
   "execution_count": 65,
   "id": "6660e370",
   "metadata": {
    "execution": {
     "iopub.execute_input": "2023-12-27T01:18:04.227812Z",
     "iopub.status.busy": "2023-12-27T01:18:04.227332Z",
     "iopub.status.idle": "2023-12-27T01:18:04.244596Z",
     "shell.execute_reply": "2023-12-27T01:18:04.243101Z"
    },
    "papermill": {
     "duration": 0.055617,
     "end_time": "2023-12-27T01:18:04.247685",
     "exception": false,
     "start_time": "2023-12-27T01:18:04.192068",
     "status": "completed"
    },
    "tags": []
   },
   "outputs": [],
   "source": [
    "df_7000_header = header.sample(n=7000, random_state=102)\n",
    "df_3000_header = header.drop(df_7000.index)\n",
    "data_header = df_7000_header.sample(n=3500, random_state=102)"
   ]
  },
  {
   "cell_type": "code",
   "execution_count": 66,
   "id": "b996da88",
   "metadata": {
    "execution": {
     "iopub.execute_input": "2023-12-27T01:18:04.316928Z",
     "iopub.status.busy": "2023-12-27T01:18:04.316505Z",
     "iopub.status.idle": "2023-12-27T01:18:04.360268Z",
     "shell.execute_reply": "2023-12-27T01:18:04.358439Z"
    },
    "papermill": {
     "duration": 0.081514,
     "end_time": "2023-12-27T01:18:04.362928",
     "exception": false,
     "start_time": "2023-12-27T01:18:04.281414",
     "status": "completed"
    },
    "tags": []
   },
   "outputs": [
    {
     "name": "stdout",
     "output_type": "stream",
     "text": [
      "Packed Malware: 2322 samples\n",
      "Packed Benign: 1178 samples\n",
      "Total TRAIN set: 3500 samples\n",
      "Packed Malware: 1178 samples\n",
      "Packed Benign: 1178 samples\n",
      "Total TRAIN set: 2356 samples\n",
      "Packed Malware: 1022 samples\n",
      "Packed Benign: 1022 samples\n",
      "Total TEST set: 2044 samples\n"
     ]
    }
   ],
   "source": [
    "#Kiểm tra số lượng mẫu\n",
    "PM = data_header[(data_header['malicious'] == True) & (data_header['packed'] == True)].shape[0]\n",
    "PB = data_header[(data_header['malicious'] == False) & (data_header['packed'] == True)].shape[0]\n",
    "print('Packed Malware: %i samples' % PM)\n",
    "print('Packed Benign: %i samples' % PB)\n",
    "print('Total TRAIN set: %i samples'% (PM+PB))\n",
    "\n",
    "#Chia tỉ lệ 50 - 50\n",
    "data_PM_header = data_header[(data_header['malicious'] == True) & (data_header['packed'] == True)].sample(n=(PM-PB), random_state=102)\n",
    "data_header = data_header.drop(data_PM_header.index)\n",
    "      \n",
    "#Số lượng tập train\n",
    "PM = data_header[(data_header['malicious'] == True) & (data_header['packed'] == True)].shape[0]\n",
    "PB = data_header[(data_header['malicious'] == False) & (data_header['packed'] == True)].shape[0]\n",
    "print('Packed Malware: %i samples' % PM)\n",
    "print('Packed Benign: %i samples' % PB)\n",
    "print('Total TRAIN set: %i samples'% (PM+PB))\n",
    "\n",
    "#Xử lý tập train\n",
    "y = data_header['malicious'].values\n",
    "data_header= data_header.drop(['malicious','packed'], axis=1)\n",
    "\n",
    "PM = df_3000_header[(df_3000_header['malicious'] == True) & (df_3000_header['packed'] == True)].shape[0]\n",
    "PB = df_3000_header[(df_3000_header['malicious'] == False) & (df_3000_header['packed'] == True)].shape[0]\n",
    "\n",
    "df_3000_PM_header = df_3000_header[(df_3000_header['malicious'] == True) & (df_3000_header['packed'] == True)].sample(n=(PM-PB), random_state=102)\n",
    "df_3000_header= df_3000_header.drop(df_3000_PM_header.index)\n",
    "\n",
    "PM = df_3000_header[(df_3000_header['malicious'] == True) & (df_3000_header['packed'] == True)].shape[0]\n",
    "PB = df_3000_header[(df_3000_header['malicious'] == False) & (df_3000_header['packed'] == True)].shape[0]\n",
    "\n",
    "print('Packed Malware: %i samples' % PM)\n",
    "print('Packed Benign: %i samples' % PB)\n",
    "print('Total TEST set: %i samples'% (PM+PB))"
   ]
  },
  {
   "cell_type": "code",
   "execution_count": 67,
   "id": "4aed83ce",
   "metadata": {
    "execution": {
     "iopub.execute_input": "2023-12-27T01:18:04.432767Z",
     "iopub.status.busy": "2023-12-27T01:18:04.431676Z",
     "iopub.status.idle": "2023-12-27T01:18:04.445994Z",
     "shell.execute_reply": "2023-12-27T01:18:04.444753Z"
    },
    "papermill": {
     "duration": 0.051718,
     "end_time": "2023-12-27T01:18:04.448656",
     "exception": false,
     "start_time": "2023-12-27T01:18:04.396938",
     "status": "completed"
    },
    "tags": []
   },
   "outputs": [],
   "source": [
    "# model = SelectFromModel(fsel, prefit=True)\n",
    "\n",
    "X_train_header = data_header\n",
    "X_test_header = df_3000_header.drop(['malicious','packed'], axis=1)\n",
    "\n",
    "data_header = data_header.loc[:, (data_header != 0).any(axis=0)]\n",
    "x_train_header = data_header\n",
    "X_test_header = df_3000_header.drop(['malicious','packed'], axis=1)\n",
    "y_train_header = y\n",
    "y_test_header = df_3000_header['malicious'].values"
   ]
  },
  {
   "cell_type": "code",
   "execution_count": 68,
   "id": "c95d58f6",
   "metadata": {
    "execution": {
     "iopub.execute_input": "2023-12-27T01:18:04.518345Z",
     "iopub.status.busy": "2023-12-27T01:18:04.517589Z",
     "iopub.status.idle": "2023-12-27T01:18:04.798908Z",
     "shell.execute_reply": "2023-12-27T01:18:04.798010Z"
    },
    "papermill": {
     "duration": 0.319213,
     "end_time": "2023-12-27T01:18:04.801448",
     "exception": false,
     "start_time": "2023-12-27T01:18:04.482235",
     "status": "completed"
    },
    "tags": []
   },
   "outputs": [
    {
     "name": "stdout",
     "output_type": "stream",
     "text": [
      "The accuracy of the Random Forests model is :\t 0.5\n"
     ]
    }
   ],
   "source": [
    "# Random Forest\n",
    "from sklearn.ensemble import RandomForestClassifier\n",
    "from sklearn import metrics\n",
    "\n",
    "random_forest = RandomForestClassifier(n_estimators=100, random_state=17)\n",
    "random_forest.fit(X_train_header, y_train_header)\n",
    "random_forest_preds = random_forest.predict(X_test_header)\n",
    "print('The accuracy of the Random Forests model is :\\t',metrics.accuracy_score(random_forest_preds,y_test_header))"
   ]
  },
  {
   "cell_type": "markdown",
   "id": "afa9a500",
   "metadata": {
    "papermill": {
     "duration": 0.033509,
     "end_time": "2023-12-27T01:18:04.869492",
     "exception": false,
     "start_time": "2023-12-27T01:18:04.835983",
     "status": "completed"
    },
    "tags": []
   },
   "source": [
    "# **rich header features**"
   ]
  },
  {
   "cell_type": "code",
   "execution_count": 69,
   "id": "78bd35fa",
   "metadata": {
    "execution": {
     "iopub.execute_input": "2023-12-27T01:18:04.940379Z",
     "iopub.status.busy": "2023-12-27T01:18:04.939905Z",
     "iopub.status.idle": "2023-12-27T01:18:06.608310Z",
     "shell.execute_reply": "2023-12-27T01:18:06.607022Z"
    },
    "papermill": {
     "duration": 1.707813,
     "end_time": "2023-12-27T01:18:06.611376",
     "exception": false,
     "start_time": "2023-12-27T01:18:04.903563",
     "status": "completed"
    },
    "tags": []
   },
   "outputs": [],
   "source": [
    "df_dolphin = pd.read_pickle('/kaggle/input/packer-balance-pickle/dolphin_balance.pickle')\n",
    "df_dolphin = df_dolphin.drop(['sample_sha1','benign','unpacked_sample_sha1','unpacked_sample_id'], axis=1)\n",
    "df_dolphin = df_dolphin.drop(['benign_vt','malicious_vt'], axis=1)\n",
    "string_columns = df_dolphin.select_dtypes(include=['object']).columns\n",
    "df_dolphin = df_dolphin.drop(string_columns, axis=1)"
   ]
  },
  {
   "cell_type": "code",
   "execution_count": 70,
   "id": "149fd3ce",
   "metadata": {
    "execution": {
     "iopub.execute_input": "2023-12-27T01:18:06.686989Z",
     "iopub.status.busy": "2023-12-27T01:18:06.686519Z",
     "iopub.status.idle": "2023-12-27T01:18:07.909849Z",
     "shell.execute_reply": "2023-12-27T01:18:07.908125Z"
    },
    "papermill": {
     "duration": 1.265974,
     "end_time": "2023-12-27T01:18:07.912570",
     "exception": false,
     "start_time": "2023-12-27T01:18:06.646596",
     "status": "completed"
    },
    "tags": []
   },
   "outputs": [
    {
     "name": "stdout",
     "output_type": "stream",
     "text": [
      "removing 13000 features\n",
      "removing 2500 features\n",
      "removing 2 features\n",
      "removing 16900 features\n",
      "removing 19169 features\n",
      "removing 4306 features\n",
      "removing 550 features\n",
      "removing 29 features\n"
     ]
    }
   ],
   "source": [
    "rich = remove_cols(df_dolphin, [c for c in cols if c.startswith('ngram_')])\n",
    "rich = remove_cols(df_dolphin, [c for c in cols if c.startswith('opcode_')])\n",
    "rich = remove_cols(df_dolphin, [c for c in cols if c.startswith('generic_')])\n",
    "rich = remove_cols(df_dolphin, [c for c in cols if c.startswith('string_')])\n",
    "# rich = remove_cols(df_dolphin, [c for c in cols if c.startswith('rich_')])\n",
    "rich = remove_cols(df_dolphin, [c for c in cols if c.startswith('imp_') or 'api_import_nb' == c])\n",
    "rich = remove_cols(df_dolphin, [c for c in cols if c.endswith('.dll') or 'dll_import_nb' == c])\n",
    "rich = remove_cols(df_dolphin, [c for c in cols if c.startswith('pesection')])\n",
    "rich = remove_cols(df_dolphin, [c for c in cols if c.startswith('header_')])"
   ]
  },
  {
   "cell_type": "code",
   "execution_count": 71,
   "id": "928ae3e7",
   "metadata": {
    "execution": {
     "iopub.execute_input": "2023-12-27T01:18:07.983686Z",
     "iopub.status.busy": "2023-12-27T01:18:07.983048Z",
     "iopub.status.idle": "2023-12-27T01:18:07.995797Z",
     "shell.execute_reply": "2023-12-27T01:18:07.994841Z"
    },
    "papermill": {
     "duration": 0.051332,
     "end_time": "2023-12-27T01:18:07.998391",
     "exception": false,
     "start_time": "2023-12-27T01:18:07.947059",
     "status": "completed"
    },
    "tags": []
   },
   "outputs": [],
   "source": [
    "df_7000_rich = rich.sample(n=7000, random_state=102)\n",
    "df_3000_rich = rich.drop(df_7000.index)\n",
    "data_rich = df_7000_rich.sample(n=3500, random_state=102)"
   ]
  },
  {
   "cell_type": "code",
   "execution_count": 72,
   "id": "ffe68155",
   "metadata": {
    "execution": {
     "iopub.execute_input": "2023-12-27T01:18:08.070500Z",
     "iopub.status.busy": "2023-12-27T01:18:08.069790Z",
     "iopub.status.idle": "2023-12-27T01:18:08.104429Z",
     "shell.execute_reply": "2023-12-27T01:18:08.102984Z"
    },
    "papermill": {
     "duration": 0.074392,
     "end_time": "2023-12-27T01:18:08.106895",
     "exception": false,
     "start_time": "2023-12-27T01:18:08.032503",
     "status": "completed"
    },
    "tags": []
   },
   "outputs": [
    {
     "name": "stdout",
     "output_type": "stream",
     "text": [
      "Packed Malware: 2322 samples\n",
      "Packed Benign: 1178 samples\n",
      "Total TRAIN set: 3500 samples\n",
      "Packed Malware: 1178 samples\n",
      "Packed Benign: 1178 samples\n",
      "Total TRAIN set: 2356 samples\n",
      "Packed Malware: 1022 samples\n",
      "Packed Benign: 1022 samples\n",
      "Total TEST set: 2044 samples\n"
     ]
    }
   ],
   "source": [
    "#Kiểm tra số lượng mẫu\n",
    "PM = data_rich[(data_rich['malicious'] == True) & (data_rich['packed'] == True)].shape[0]\n",
    "PB = data_rich[(data_rich['malicious'] == False) & (data_rich['packed'] == True)].shape[0]\n",
    "print('Packed Malware: %i samples' % PM)\n",
    "print('Packed Benign: %i samples' % PB)\n",
    "print('Total TRAIN set: %i samples'% (PM+PB))\n",
    "\n",
    "#Chia tỉ lệ 50 - 50\n",
    "data_PM_rich = data_rich[(data_rich['malicious'] == True) & (data_rich['packed'] == True)].sample(n=(PM-PB), random_state=102)\n",
    "data_rich = data_rich.drop(data_PM_rich.index)\n",
    "      \n",
    "#Số lượng tập train\n",
    "PM = data_rich[(data_rich['malicious'] == True) & (data_rich['packed'] == True)].shape[0]\n",
    "PB = data_rich[(data_rich['malicious'] == False) & (data_rich['packed'] == True)].shape[0]\n",
    "print('Packed Malware: %i samples' % PM)\n",
    "print('Packed Benign: %i samples' % PB)\n",
    "print('Total TRAIN set: %i samples'% (PM+PB))\n",
    "\n",
    "#Xử lý tập train\n",
    "y = data_rich['malicious'].values\n",
    "data_rich= data_rich.drop(['malicious','packed'], axis=1)\n",
    "\n",
    "PM = df_3000_rich[(df_3000_rich['malicious'] == True) & (df_3000_rich['packed'] == True)].shape[0]\n",
    "PB = df_3000_rich[(df_3000_rich['malicious'] == False) & (df_3000_rich['packed'] == True)].shape[0]\n",
    "\n",
    "df_3000_PM_rich = df_3000_rich[(df_3000_rich['malicious'] == True) & (df_3000_rich['packed'] == True)].sample(n=(PM-PB), random_state=102)\n",
    "df_3000_rich = df_3000_rich.drop(df_3000_PM_rich.index)\n",
    "\n",
    "PM = df_3000_rich[(df_3000_rich['malicious'] == True) & (df_3000_rich['packed'] == True)].shape[0]\n",
    "PB = df_3000_rich[(df_3000_rich['malicious'] == False) & (df_3000_rich['packed'] == True)].shape[0]\n",
    "\n",
    "print('Packed Malware: %i samples' % PM)\n",
    "print('Packed Benign: %i samples' % PB)\n",
    "print('Total TEST set: %i samples'% (PM+PB))"
   ]
  },
  {
   "cell_type": "code",
   "execution_count": 73,
   "id": "e28b6c59",
   "metadata": {
    "execution": {
     "iopub.execute_input": "2023-12-27T01:18:08.177959Z",
     "iopub.status.busy": "2023-12-27T01:18:08.176777Z",
     "iopub.status.idle": "2023-12-27T01:18:08.187494Z",
     "shell.execute_reply": "2023-12-27T01:18:08.186603Z"
    },
    "papermill": {
     "duration": 0.04857,
     "end_time": "2023-12-27T01:18:08.189828",
     "exception": false,
     "start_time": "2023-12-27T01:18:08.141258",
     "status": "completed"
    },
    "tags": []
   },
   "outputs": [],
   "source": [
    "# model = SelectFromModel(fsel, prefit=True)\n",
    "\n",
    "X_train_rich = data_rich\n",
    "X_test_rich = df_3000_rich.drop(['malicious','packed'], axis=1)\n",
    "\n",
    "data_rich = data_rich.loc[:, (data_rich != 0).any(axis=0)]\n",
    "x_train_rich = data_rich\n",
    "X_test_rich = df_3000_rich.drop(['malicious','packed'], axis=1)\n",
    "y_train_rich = y\n",
    "y_test_rich = df_3000_rich['malicious'].values"
   ]
  },
  {
   "cell_type": "code",
   "execution_count": 74,
   "id": "bb223312",
   "metadata": {
    "execution": {
     "iopub.execute_input": "2023-12-27T01:18:08.261203Z",
     "iopub.status.busy": "2023-12-27T01:18:08.260629Z",
     "iopub.status.idle": "2023-12-27T01:18:08.554771Z",
     "shell.execute_reply": "2023-12-27T01:18:08.553447Z"
    },
    "papermill": {
     "duration": 0.333219,
     "end_time": "2023-12-27T01:18:08.557438",
     "exception": false,
     "start_time": "2023-12-27T01:18:08.224219",
     "status": "completed"
    },
    "tags": []
   },
   "outputs": [
    {
     "name": "stdout",
     "output_type": "stream",
     "text": [
      "The accuracy of the Random Forests model is :\t 0.5\n"
     ]
    }
   ],
   "source": [
    "# Random Forest\n",
    "from sklearn.ensemble import RandomForestClassifier\n",
    "from sklearn import metrics\n",
    "\n",
    "random_forest = RandomForestClassifier(n_estimators=100, random_state=17)\n",
    "random_forest.fit(X_train_rich, y_train_rich)\n",
    "random_forest_preds = random_forest.predict(X_test_rich)\n",
    "print('The accuracy of the Random Forests model is :\\t',metrics.accuracy_score(random_forest_preds,y_test_rich))"
   ]
  }
 ],
 "metadata": {
  "kaggle": {
   "accelerator": "none",
   "dataSources": [
    {
     "datasetId": 4192384,
     "sourceId": 7262652,
     "sourceType": "datasetVersion"
    }
   ],
   "dockerImageVersionId": 30626,
   "isGpuEnabled": false,
   "isInternetEnabled": true,
   "language": "python",
   "sourceType": "notebook"
  },
  "kernelspec": {
   "display_name": "Python 3",
   "language": "python",
   "name": "python3"
  },
  "language_info": {
   "codemirror_mode": {
    "name": "ipython",
    "version": 3
   },
   "file_extension": ".py",
   "mimetype": "text/x-python",
   "name": "python",
   "nbconvert_exporter": "python",
   "pygments_lexer": "ipython3",
   "version": "3.10.12"
  },
  "papermill": {
   "default_parameters": {},
   "duration": 140.036263,
   "end_time": "2023-12-27T01:18:09.414827",
   "environment_variables": {},
   "exception": null,
   "input_path": "__notebook__.ipynb",
   "output_path": "__notebook__.ipynb",
   "parameters": {},
   "start_time": "2023-12-27T01:15:49.378564",
   "version": "2.4.0"
  }
 },
 "nbformat": 4,
 "nbformat_minor": 5
}
