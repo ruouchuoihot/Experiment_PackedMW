{
 "cells": [
  {
   "cell_type": "code",
   "execution_count": 1,
   "id": "6f5bf3c0",
   "metadata": {
    "execution": {
     "iopub.execute_input": "2023-12-27T01:17:14.768722Z",
     "iopub.status.busy": "2023-12-27T01:17:14.768231Z",
     "iopub.status.idle": "2023-12-27T01:17:17.745909Z",
     "shell.execute_reply": "2023-12-27T01:17:17.744766Z"
    },
    "papermill": {
     "duration": 2.998503,
     "end_time": "2023-12-27T01:17:17.749099",
     "exception": false,
     "start_time": "2023-12-27T01:17:14.750596",
     "status": "completed"
    },
    "tags": []
   },
   "outputs": [],
   "source": [
    "import pandas as pd\n",
    "import numpy as np\n",
    "import sklearn\n",
    "import sklearn.naive_bayes\n",
    "import sklearn.ensemble as ske\n",
    "import sklearn.neighbors\n",
    "import sklearn.pipeline\n",
    "import sklearn.linear_model\n",
    "import joblib\n",
    "from sklearn import preprocessing\n",
    "from sklearn import tree, linear_model\n",
    "from sklearn.metrics import confusion_matrix\n",
    "from sklearn.metrics import classification_report\n",
    "from sklearn.feature_selection import SelectFromModel\n",
    "import sys\n",
    "import sqlite3\n",
    "import importlib\n",
    "import matplotlib.pyplot as plt\n",
    "import seaborn as sn\n",
    "from sklearn import metrics"
   ]
  },
  {
   "cell_type": "code",
   "execution_count": 2,
   "id": "d79a611d",
   "metadata": {
    "execution": {
     "iopub.execute_input": "2023-12-27T01:17:17.790380Z",
     "iopub.status.busy": "2023-12-27T01:17:17.789665Z",
     "iopub.status.idle": "2023-12-27T01:17:25.109024Z",
     "shell.execute_reply": "2023-12-27T01:17:25.108235Z"
    },
    "papermill": {
     "duration": 7.342757,
     "end_time": "2023-12-27T01:17:25.111335",
     "exception": false,
     "start_time": "2023-12-27T01:17:17.768578",
     "status": "completed"
    },
    "tags": []
   },
   "outputs": [],
   "source": [
    "petite = pd.read_pickle('/kaggle/input/packer-balance-pickle/petite_balance.pickle')"
   ]
  },
  {
   "cell_type": "code",
   "execution_count": 3,
   "id": "8faa362f",
   "metadata": {
    "execution": {
     "iopub.execute_input": "2023-12-27T01:17:25.142827Z",
     "iopub.status.busy": "2023-12-27T01:17:25.141843Z",
     "iopub.status.idle": "2023-12-27T01:17:26.048776Z",
     "shell.execute_reply": "2023-12-27T01:17:26.046975Z"
    },
    "papermill": {
     "duration": 0.925314,
     "end_time": "2023-12-27T01:17:26.051598",
     "exception": false,
     "start_time": "2023-12-27T01:17:25.126284",
     "status": "completed"
    },
    "tags": []
   },
   "outputs": [],
   "source": [
    "petite = petite.drop(['sample_sha1','benign','unpacked_sample_sha1','unpacked_sample_id'], axis=1)\n",
    "petite = petite.drop(['benign_vt','malicious_vt'], axis=1)"
   ]
  },
  {
   "cell_type": "code",
   "execution_count": 4,
   "id": "af7e0422",
   "metadata": {
    "execution": {
     "iopub.execute_input": "2023-12-27T01:17:26.083876Z",
     "iopub.status.busy": "2023-12-27T01:17:26.083389Z",
     "iopub.status.idle": "2023-12-27T01:17:26.309737Z",
     "shell.execute_reply": "2023-12-27T01:17:26.308031Z"
    },
    "papermill": {
     "duration": 0.245518,
     "end_time": "2023-12-27T01:17:26.312587",
     "exception": false,
     "start_time": "2023-12-27T01:17:26.067069",
     "status": "completed"
    },
    "tags": []
   },
   "outputs": [],
   "source": [
    "string_columns = petite.select_dtypes(include=['object']).columns\n",
    "petite = petite.drop(string_columns, axis=1)"
   ]
  },
  {
   "cell_type": "code",
   "execution_count": 5,
   "id": "19ef9ac3",
   "metadata": {
    "execution": {
     "iopub.execute_input": "2023-12-27T01:17:26.343178Z",
     "iopub.status.busy": "2023-12-27T01:17:26.342714Z",
     "iopub.status.idle": "2023-12-27T01:17:26.389662Z",
     "shell.execute_reply": "2023-12-27T01:17:26.388676Z"
    },
    "papermill": {
     "duration": 0.064837,
     "end_time": "2023-12-27T01:17:26.391789",
     "exception": false,
     "start_time": "2023-12-27T01:17:26.326952",
     "status": "completed"
    },
    "tags": []
   },
   "outputs": [
    {
     "data": {
      "text/html": [
       "<div>\n",
       "<style scoped>\n",
       "    .dataframe tbody tr th:only-of-type {\n",
       "        vertical-align: middle;\n",
       "    }\n",
       "\n",
       "    .dataframe tbody tr th {\n",
       "        vertical-align: top;\n",
       "    }\n",
       "\n",
       "    .dataframe thead th {\n",
       "        text-align: right;\n",
       "    }\n",
       "</style>\n",
       "<table border=\"1\" class=\"dataframe\">\n",
       "  <thead>\n",
       "    <tr style=\"text-align: right;\">\n",
       "      <th></th>\n",
       "      <th>malicious</th>\n",
       "      <th>packed</th>\n",
       "      <th>imp_setupremovefilelogentrya</th>\n",
       "      <th>imp_vardeccmp</th>\n",
       "      <th>imp_setdlgitemint</th>\n",
       "      <th>imp_?append@?$basic_string@du?$char_traits@d@std@@v?$allocator@d@2@@std@@qaeaav12@abv12@ii@z</th>\n",
       "      <th>imp_zwwritefile</th>\n",
       "      <th>imp_glstencilop</th>\n",
       "      <th>imp_comparelinkinforeferents</th>\n",
       "      <th>imp__setmbcp</th>\n",
       "      <th>...</th>\n",
       "      <th>opcode_xor sub mov</th>\n",
       "      <th>opcode_xor sub mov add</th>\n",
       "      <th>opcode_xor test</th>\n",
       "      <th>opcode_xor test je</th>\n",
       "      <th>opcode_xor xor</th>\n",
       "      <th>opcode_xor xor mov</th>\n",
       "      <th>opcode_xor xor pop</th>\n",
       "      <th>opcode_xor xor pop mov</th>\n",
       "      <th>opcode_xor xor xor</th>\n",
       "      <th>opcode_xor xor xor pop</th>\n",
       "    </tr>\n",
       "  </thead>\n",
       "  <tbody>\n",
       "    <tr>\n",
       "      <th>0</th>\n",
       "      <td>False</td>\n",
       "      <td>True</td>\n",
       "      <td>False</td>\n",
       "      <td>False</td>\n",
       "      <td>False</td>\n",
       "      <td>False</td>\n",
       "      <td>False</td>\n",
       "      <td>False</td>\n",
       "      <td>False</td>\n",
       "      <td>False</td>\n",
       "      <td>...</td>\n",
       "      <td>0.0</td>\n",
       "      <td>0.0</td>\n",
       "      <td>0.0</td>\n",
       "      <td>0.0</td>\n",
       "      <td>0.0</td>\n",
       "      <td>0.0</td>\n",
       "      <td>0.0</td>\n",
       "      <td>0.0</td>\n",
       "      <td>0.0</td>\n",
       "      <td>0.0</td>\n",
       "    </tr>\n",
       "    <tr>\n",
       "      <th>11</th>\n",
       "      <td>True</td>\n",
       "      <td>True</td>\n",
       "      <td>False</td>\n",
       "      <td>False</td>\n",
       "      <td>False</td>\n",
       "      <td>False</td>\n",
       "      <td>False</td>\n",
       "      <td>False</td>\n",
       "      <td>False</td>\n",
       "      <td>False</td>\n",
       "      <td>...</td>\n",
       "      <td>0.0</td>\n",
       "      <td>0.0</td>\n",
       "      <td>0.0</td>\n",
       "      <td>0.0</td>\n",
       "      <td>0.0</td>\n",
       "      <td>0.0</td>\n",
       "      <td>0.0</td>\n",
       "      <td>0.0</td>\n",
       "      <td>0.0</td>\n",
       "      <td>0.0</td>\n",
       "    </tr>\n",
       "    <tr>\n",
       "      <th>12</th>\n",
       "      <td>True</td>\n",
       "      <td>True</td>\n",
       "      <td>False</td>\n",
       "      <td>False</td>\n",
       "      <td>False</td>\n",
       "      <td>False</td>\n",
       "      <td>False</td>\n",
       "      <td>False</td>\n",
       "      <td>False</td>\n",
       "      <td>False</td>\n",
       "      <td>...</td>\n",
       "      <td>0.0</td>\n",
       "      <td>0.0</td>\n",
       "      <td>0.0</td>\n",
       "      <td>0.0</td>\n",
       "      <td>0.0</td>\n",
       "      <td>0.0</td>\n",
       "      <td>0.0</td>\n",
       "      <td>0.0</td>\n",
       "      <td>0.0</td>\n",
       "      <td>0.0</td>\n",
       "    </tr>\n",
       "    <tr>\n",
       "      <th>13</th>\n",
       "      <td>False</td>\n",
       "      <td>True</td>\n",
       "      <td>False</td>\n",
       "      <td>False</td>\n",
       "      <td>False</td>\n",
       "      <td>False</td>\n",
       "      <td>False</td>\n",
       "      <td>False</td>\n",
       "      <td>False</td>\n",
       "      <td>False</td>\n",
       "      <td>...</td>\n",
       "      <td>0.0</td>\n",
       "      <td>0.0</td>\n",
       "      <td>0.0</td>\n",
       "      <td>0.0</td>\n",
       "      <td>0.0</td>\n",
       "      <td>0.0</td>\n",
       "      <td>0.0</td>\n",
       "      <td>0.0</td>\n",
       "      <td>0.0</td>\n",
       "      <td>0.0</td>\n",
       "    </tr>\n",
       "    <tr>\n",
       "      <th>14</th>\n",
       "      <td>True</td>\n",
       "      <td>True</td>\n",
       "      <td>False</td>\n",
       "      <td>False</td>\n",
       "      <td>False</td>\n",
       "      <td>False</td>\n",
       "      <td>False</td>\n",
       "      <td>False</td>\n",
       "      <td>False</td>\n",
       "      <td>False</td>\n",
       "      <td>...</td>\n",
       "      <td>0.0</td>\n",
       "      <td>0.0</td>\n",
       "      <td>0.0</td>\n",
       "      <td>0.0</td>\n",
       "      <td>0.0</td>\n",
       "      <td>0.0</td>\n",
       "      <td>0.0</td>\n",
       "      <td>0.0</td>\n",
       "      <td>0.0</td>\n",
       "      <td>0.0</td>\n",
       "    </tr>\n",
       "  </tbody>\n",
       "</table>\n",
       "<p>5 rows × 56526 columns</p>\n",
       "</div>"
      ],
      "text/plain": [
       "    malicious  packed  imp_setupremovefilelogentrya  imp_vardeccmp  \\\n",
       "0       False    True                         False          False   \n",
       "11       True    True                         False          False   \n",
       "12       True    True                         False          False   \n",
       "13      False    True                         False          False   \n",
       "14       True    True                         False          False   \n",
       "\n",
       "    imp_setdlgitemint  \\\n",
       "0               False   \n",
       "11              False   \n",
       "12              False   \n",
       "13              False   \n",
       "14              False   \n",
       "\n",
       "    imp_?append@?$basic_string@du?$char_traits@d@std@@v?$allocator@d@2@@std@@qaeaav12@abv12@ii@z  \\\n",
       "0                                               False                                              \n",
       "11                                              False                                              \n",
       "12                                              False                                              \n",
       "13                                              False                                              \n",
       "14                                              False                                              \n",
       "\n",
       "    imp_zwwritefile  imp_glstencilop  imp_comparelinkinforeferents  \\\n",
       "0             False            False                         False   \n",
       "11            False            False                         False   \n",
       "12            False            False                         False   \n",
       "13            False            False                         False   \n",
       "14            False            False                         False   \n",
       "\n",
       "    imp__setmbcp  ...  opcode_xor sub mov  opcode_xor sub mov add  \\\n",
       "0          False  ...                 0.0                     0.0   \n",
       "11         False  ...                 0.0                     0.0   \n",
       "12         False  ...                 0.0                     0.0   \n",
       "13         False  ...                 0.0                     0.0   \n",
       "14         False  ...                 0.0                     0.0   \n",
       "\n",
       "    opcode_xor test  opcode_xor test je  opcode_xor xor  opcode_xor xor mov  \\\n",
       "0               0.0                 0.0             0.0                 0.0   \n",
       "11              0.0                 0.0             0.0                 0.0   \n",
       "12              0.0                 0.0             0.0                 0.0   \n",
       "13              0.0                 0.0             0.0                 0.0   \n",
       "14              0.0                 0.0             0.0                 0.0   \n",
       "\n",
       "    opcode_xor xor pop  opcode_xor xor pop mov  opcode_xor xor xor  \\\n",
       "0                  0.0                     0.0                 0.0   \n",
       "11                 0.0                     0.0                 0.0   \n",
       "12                 0.0                     0.0                 0.0   \n",
       "13                 0.0                     0.0                 0.0   \n",
       "14                 0.0                     0.0                 0.0   \n",
       "\n",
       "    opcode_xor xor xor pop  \n",
       "0                      0.0  \n",
       "11                     0.0  \n",
       "12                     0.0  \n",
       "13                     0.0  \n",
       "14                     0.0  \n",
       "\n",
       "[5 rows x 56526 columns]"
      ]
     },
     "execution_count": 5,
     "metadata": {},
     "output_type": "execute_result"
    }
   ],
   "source": [
    "petite.head()"
   ]
  },
  {
   "cell_type": "code",
   "execution_count": 6,
   "id": "ccab5565",
   "metadata": {
    "execution": {
     "iopub.execute_input": "2023-12-27T01:17:26.422268Z",
     "iopub.status.busy": "2023-12-27T01:17:26.421857Z",
     "iopub.status.idle": "2023-12-27T01:17:27.236821Z",
     "shell.execute_reply": "2023-12-27T01:17:27.235709Z"
    },
    "papermill": {
     "duration": 0.833186,
     "end_time": "2023-12-27T01:17:27.239424",
     "exception": false,
     "start_time": "2023-12-27T01:17:26.406238",
     "status": "completed"
    },
    "tags": []
   },
   "outputs": [],
   "source": [
    "df_7000 = petite.sample(n=7000, random_state=102)\n",
    "df_3000 = petite.drop(df_7000.index)"
   ]
  },
  {
   "cell_type": "code",
   "execution_count": 7,
   "id": "2892b9ba",
   "metadata": {
    "execution": {
     "iopub.execute_input": "2023-12-27T01:17:27.272966Z",
     "iopub.status.busy": "2023-12-27T01:17:27.272551Z",
     "iopub.status.idle": "2023-12-27T01:17:27.667303Z",
     "shell.execute_reply": "2023-12-27T01:17:27.665991Z"
    },
    "papermill": {
     "duration": 0.414248,
     "end_time": "2023-12-27T01:17:27.669954",
     "exception": false,
     "start_time": "2023-12-27T01:17:27.255706",
     "status": "completed"
    },
    "tags": []
   },
   "outputs": [],
   "source": [
    "data = df_7000.sample(n=3500, random_state=102)"
   ]
  },
  {
   "cell_type": "code",
   "execution_count": 8,
   "id": "c822a816",
   "metadata": {
    "execution": {
     "iopub.execute_input": "2023-12-27T01:17:27.702227Z",
     "iopub.status.busy": "2023-12-27T01:17:27.701789Z",
     "iopub.status.idle": "2023-12-27T01:17:27.978969Z",
     "shell.execute_reply": "2023-12-27T01:17:27.977582Z"
    },
    "papermill": {
     "duration": 0.29741,
     "end_time": "2023-12-27T01:17:27.981974",
     "exception": false,
     "start_time": "2023-12-27T01:17:27.684564",
     "status": "completed"
    },
    "tags": []
   },
   "outputs": [
    {
     "name": "stdout",
     "output_type": "stream",
     "text": [
      "Packed Malware: 2302 samples\n",
      "Packed Benign: 1198 samples\n",
      "Total TRAIN set: 3500 samples\n"
     ]
    }
   ],
   "source": [
    "#Kiểm tra số lượng mẫu\n",
    "PM = data[(data['malicious'] == True) & (data['packed'] == True)].shape[0]\n",
    "PB = data[(data['malicious'] == False) & (data['packed'] == True)].shape[0]\n",
    "print('Packed Malware: %i samples' % PM)\n",
    "print('Packed Benign: %i samples' % PB)\n",
    "print('Total TRAIN set: %i samples'% (PM+PB))"
   ]
  },
  {
   "cell_type": "code",
   "execution_count": 9,
   "id": "9eec4964",
   "metadata": {
    "execution": {
     "iopub.execute_input": "2023-12-27T01:17:28.015388Z",
     "iopub.status.busy": "2023-12-27T01:17:28.014614Z",
     "iopub.status.idle": "2023-12-27T01:17:28.407023Z",
     "shell.execute_reply": "2023-12-27T01:17:28.406126Z"
    },
    "papermill": {
     "duration": 0.412123,
     "end_time": "2023-12-27T01:17:28.409769",
     "exception": false,
     "start_time": "2023-12-27T01:17:27.997646",
     "status": "completed"
    },
    "tags": []
   },
   "outputs": [],
   "source": [
    "#Chia tỉ lệ 50 - 50\n",
    "data_PM = data[(data['malicious'] == True) & (data['packed'] == True)].sample(n=(PM-PB), random_state=102)\n",
    "data = data.drop(data_PM.index)"
   ]
  },
  {
   "cell_type": "code",
   "execution_count": 10,
   "id": "17cc0541",
   "metadata": {
    "execution": {
     "iopub.execute_input": "2023-12-27T01:17:28.526695Z",
     "iopub.status.busy": "2023-12-27T01:17:28.525542Z",
     "iopub.status.idle": "2023-12-27T01:17:28.683208Z",
     "shell.execute_reply": "2023-12-27T01:17:28.682235Z"
    },
    "papermill": {
     "duration": 0.26059,
     "end_time": "2023-12-27T01:17:28.685945",
     "exception": false,
     "start_time": "2023-12-27T01:17:28.425355",
     "status": "completed"
    },
    "tags": []
   },
   "outputs": [
    {
     "name": "stdout",
     "output_type": "stream",
     "text": [
      "Packed Malware: 1198 samples\n",
      "Packed Benign: 1198 samples\n",
      "Total TRAIN set: 2396 samples\n"
     ]
    }
   ],
   "source": [
    "#Số lượng tập train\n",
    "PM = data[(data['malicious'] == True) & (data['packed'] == True)].shape[0]\n",
    "PB = data[(data['malicious'] == False) & (data['packed'] == True)].shape[0]\n",
    "print('Packed Malware: %i samples' % PM)\n",
    "print('Packed Benign: %i samples' % PB)\n",
    "print('Total TRAIN set: %i samples'% (PM+PB))"
   ]
  },
  {
   "cell_type": "code",
   "execution_count": 11,
   "id": "06f07114",
   "metadata": {
    "execution": {
     "iopub.execute_input": "2023-12-27T01:17:28.721749Z",
     "iopub.status.busy": "2023-12-27T01:17:28.721253Z",
     "iopub.status.idle": "2023-12-27T01:17:28.794377Z",
     "shell.execute_reply": "2023-12-27T01:17:28.792588Z"
    },
    "papermill": {
     "duration": 0.094371,
     "end_time": "2023-12-27T01:17:28.797671",
     "exception": false,
     "start_time": "2023-12-27T01:17:28.703300",
     "status": "completed"
    },
    "tags": []
   },
   "outputs": [],
   "source": [
    "#Xử lý tập train\n",
    "y = data['malicious'].values\n",
    "data = data.drop(['malicious','packed'], axis=1)"
   ]
  },
  {
   "cell_type": "code",
   "execution_count": 12,
   "id": "dd1861ba",
   "metadata": {
    "execution": {
     "iopub.execute_input": "2023-12-27T01:17:28.831252Z",
     "iopub.status.busy": "2023-12-27T01:17:28.830775Z",
     "iopub.status.idle": "2023-12-27T01:17:29.491015Z",
     "shell.execute_reply": "2023-12-27T01:17:29.489956Z"
    },
    "papermill": {
     "duration": 0.67975,
     "end_time": "2023-12-27T01:17:29.493226",
     "exception": false,
     "start_time": "2023-12-27T01:17:28.813476",
     "status": "completed"
    },
    "tags": []
   },
   "outputs": [
    {
     "name": "stdout",
     "output_type": "stream",
     "text": [
      "Packed Malware: 1056 samples\n",
      "Packed Benign: 1056 samples\n",
      "Total TEST set: 2112 samples\n"
     ]
    }
   ],
   "source": [
    "PM = df_3000[(df_3000['malicious'] == True) & (df_3000['packed'] == True)].shape[0]\n",
    "PB = df_3000[(df_3000['malicious'] == False) & (df_3000['packed'] == True)].shape[0]\n",
    "\n",
    "df_3000_PM = df_3000[(df_3000['malicious'] == True) & (df_3000['packed'] == True)].sample(n=(PM-PB), random_state=102)\n",
    "df_3000 = df_3000.drop(df_3000_PM.index)\n",
    "\n",
    "PM = df_3000[(df_3000['malicious'] == True) & (df_3000['packed'] == True)].shape[0]\n",
    "PB = df_3000[(df_3000['malicious'] == False) & (df_3000['packed'] == True)].shape[0]\n",
    "\n",
    "print('Packed Malware: %i samples' % PM)\n",
    "print('Packed Benign: %i samples' % PB)\n",
    "print('Total TEST set: %i samples'% (PM+PB))"
   ]
  },
  {
   "cell_type": "code",
   "execution_count": 13,
   "id": "7c99505d",
   "metadata": {
    "execution": {
     "iopub.execute_input": "2023-12-27T01:17:29.524966Z",
     "iopub.status.busy": "2023-12-27T01:17:29.524526Z",
     "iopub.status.idle": "2023-12-27T01:17:29.836891Z",
     "shell.execute_reply": "2023-12-27T01:17:29.834861Z"
    },
    "papermill": {
     "duration": 0.33277,
     "end_time": "2023-12-27T01:17:29.840944",
     "exception": false,
     "start_time": "2023-12-27T01:17:29.508174",
     "status": "completed"
    },
    "tags": []
   },
   "outputs": [],
   "source": [
    "# model = SelectFromModel(fsel, prefit=True)\n",
    "\n",
    "X_train = data\n",
    "X_test = df_3000.drop(['malicious','packed'], axis=1)\n",
    "\n",
    "data = data.loc[:, (data != 0).any(axis=0)]\n",
    "x_train = data\n",
    "X_test = df_3000.drop(['malicious','packed'], axis=1)\n",
    "y_train = y\n",
    "y_test = df_3000['malicious'].values"
   ]
  },
  {
   "cell_type": "code",
   "execution_count": 14,
   "id": "ff16fdb5",
   "metadata": {
    "execution": {
     "iopub.execute_input": "2023-12-27T01:17:29.875386Z",
     "iopub.status.busy": "2023-12-27T01:17:29.874387Z",
     "iopub.status.idle": "2023-12-27T01:17:35.397068Z",
     "shell.execute_reply": "2023-12-27T01:17:35.395144Z"
    },
    "papermill": {
     "duration": 5.542782,
     "end_time": "2023-12-27T01:17:35.399965",
     "exception": false,
     "start_time": "2023-12-27T01:17:29.857183",
     "status": "completed"
    },
    "tags": []
   },
   "outputs": [
    {
     "name": "stdout",
     "output_type": "stream",
     "text": [
      "The accuracy of the Random Forests model is :\t 0.9389204545454546\n"
     ]
    }
   ],
   "source": [
    "# Random Forest\n",
    "from sklearn.ensemble import RandomForestClassifier\n",
    "from sklearn import metrics\n",
    "\n",
    "random_forest = RandomForestClassifier(n_estimators=100, random_state=17)\n",
    "random_forest.fit(X_train, y_train)\n",
    "random_forest_preds = random_forest.predict(X_test)\n",
    "print('The accuracy of the Random Forests model is :\\t',metrics.accuracy_score(random_forest_preds,y_test))"
   ]
  },
  {
   "cell_type": "code",
   "execution_count": 15,
   "id": "89f38b9f",
   "metadata": {
    "execution": {
     "iopub.execute_input": "2023-12-27T01:17:35.435140Z",
     "iopub.status.busy": "2023-12-27T01:17:35.434711Z",
     "iopub.status.idle": "2023-12-27T01:17:35.488076Z",
     "shell.execute_reply": "2023-12-27T01:17:35.486667Z"
    },
    "papermill": {
     "duration": 0.073351,
     "end_time": "2023-12-27T01:17:35.490253",
     "exception": false,
     "start_time": "2023-12-27T01:17:35.416902",
     "status": "completed"
    },
    "tags": []
   },
   "outputs": [
    {
     "data": {
      "text/plain": [
       "ngram_b'e\\x00 \\x00D\\x00'                 0.009002\n",
       "pesection_3_virtualSize                  0.007900\n",
       "ngram_b'\\x00e\\x00g\\x00a'                 0.007620\n",
       "ngram_b's\\x00e\\x00r\\x00'                 0.007369\n",
       "pesectionProcessed_sectionsMaxEntropy    0.006709\n",
       "                                           ...   \n",
       "vclbde50.bpl.dll                         0.000000\n",
       "qrpt50.bpl.dll                           0.000000\n",
       "imp_@system@@dynarrayclear$qqrrpvpv      0.000000\n",
       "imp_@system@@dynarrayhigh$qqrv           0.000000\n",
       "string_b'6!7(7E7l7'                      0.000000\n",
       "Length: 56524, dtype: float64"
      ]
     },
     "execution_count": 15,
     "metadata": {},
     "output_type": "execute_result"
    }
   ],
   "source": [
    "feature_scores_rf = pd.Series(random_forest.feature_importances_, index=X_train.columns).sort_values(ascending=False)\n",
    "\n",
    "feature_scores_rf"
   ]
  },
  {
   "cell_type": "code",
   "execution_count": 16,
   "id": "593b10a7",
   "metadata": {
    "execution": {
     "iopub.execute_input": "2023-12-27T01:17:35.526767Z",
     "iopub.status.busy": "2023-12-27T01:17:35.525138Z",
     "iopub.status.idle": "2023-12-27T01:17:35.568260Z",
     "shell.execute_reply": "2023-12-27T01:17:35.566856Z"
    },
    "papermill": {
     "duration": 0.065083,
     "end_time": "2023-12-27T01:17:35.571928",
     "exception": false,
     "start_time": "2023-12-27T01:17:35.506845",
     "status": "completed"
    },
    "tags": []
   },
   "outputs": [],
   "source": [
    "top50 = pd.Series(random_forest.feature_importances_, index=X_train.columns).sort_values(ascending=False).head(50)"
   ]
  },
  {
   "cell_type": "code",
   "execution_count": 17,
   "id": "9155401d",
   "metadata": {
    "execution": {
     "iopub.execute_input": "2023-12-27T01:17:35.607057Z",
     "iopub.status.busy": "2023-12-27T01:17:35.606652Z",
     "iopub.status.idle": "2023-12-27T01:17:35.620898Z",
     "shell.execute_reply": "2023-12-27T01:17:35.619783Z"
    },
    "papermill": {
     "duration": 0.034146,
     "end_time": "2023-12-27T01:17:35.622997",
     "exception": false,
     "start_time": "2023-12-27T01:17:35.588851",
     "status": "completed"
    },
    "tags": []
   },
   "outputs": [
    {
     "name": "stdout",
     "output_type": "stream",
     "text": [
      "'ngram': 37\n",
      "'opcode ngram': 0\n",
      "'generic': 0\n",
      "'strings': 0\n",
      "'rich header': 3\n",
      "'api import': 0\n",
      "'dll': 1\n",
      "'pe section': 8\n",
      "'pe header': 1\n"
     ]
    }
   ],
   "source": [
    "# Tạo DataFrame từ feature_scores_rf\n",
    "df_features = pd.DataFrame(top50, columns=['Score'])\n",
    "\n",
    "count_ngram = df_features[df_features.index.str.startswith('ngram_')].shape[0]\n",
    "count_opcode = df_features[df_features.index.str.startswith('opcode_')].shape[0]\n",
    "count_generic = df_features[df_features.index.str.startswith('generic_')].shape[0]\n",
    "count_string = df_features[df_features.index.str.startswith('string_')].shape[0]\n",
    "count_rich = df_features[df_features.index.str.startswith('rich_')].shape[0]\n",
    "# count_api = df_features[df_features.index.str.startswith('imp_') or 'api_import_nb' == c].shape[0]\n",
    "# count_dll = df_features[df_features.index.str.startswith('.dll') or 'dll_import_nb' == c].shape[0]\n",
    "count_api = df_features[df_features.index.str.startswith('imp_') | (df_features.index == 'api_import_nb')].shape[0]\n",
    "count_dll = df_features[df_features.index.str.endswith('.dll') | (df_features.index == 'dll_import_nb')].shape[0]\n",
    "count_section = df_features[df_features.index.str.startswith('pesection')].shape[0]\n",
    "count_header = df_features[df_features.index.str.startswith('header_')].shape[0]\n",
    "\n",
    "print(f\"'ngram': {count_ngram}\")\n",
    "print(f\"'opcode ngram': {count_opcode}\")\n",
    "print(f\"'generic': {count_generic}\")\n",
    "print(f\"'strings': {count_string}\")\n",
    "print(f\"'rich header': {count_rich}\")\n",
    "print(f\"'api import': {count_api}\")\n",
    "print(f\"'dll': {count_dll}\")\n",
    "print(f\"'pe section': {count_section}\")\n",
    "print(f\"'pe header': {count_header}\")"
   ]
  },
  {
   "cell_type": "code",
   "execution_count": 18,
   "id": "0ee3839e",
   "metadata": {
    "execution": {
     "iopub.execute_input": "2023-12-27T01:17:35.657595Z",
     "iopub.status.busy": "2023-12-27T01:17:35.657109Z",
     "iopub.status.idle": "2023-12-27T01:17:35.668620Z",
     "shell.execute_reply": "2023-12-27T01:17:35.666955Z"
    },
    "papermill": {
     "duration": 0.031073,
     "end_time": "2023-12-27T01:17:35.671150",
     "exception": false,
     "start_time": "2023-12-27T01:17:35.640077",
     "status": "completed"
    },
    "tags": []
   },
   "outputs": [],
   "source": [
    "cols = list(petite.columns)"
   ]
  },
  {
   "cell_type": "markdown",
   "id": "993c5dc5",
   "metadata": {
    "papermill": {
     "duration": 0.016115,
     "end_time": "2023-12-27T01:17:35.703835",
     "exception": false,
     "start_time": "2023-12-27T01:17:35.687720",
     "status": "completed"
    },
    "tags": []
   },
   "source": [
    "# **ngram features**"
   ]
  },
  {
   "cell_type": "code",
   "execution_count": 19,
   "id": "2c73313d",
   "metadata": {
    "execution": {
     "iopub.execute_input": "2023-12-27T01:17:35.741526Z",
     "iopub.status.busy": "2023-12-27T01:17:35.740824Z",
     "iopub.status.idle": "2023-12-27T01:17:36.910186Z",
     "shell.execute_reply": "2023-12-27T01:17:36.909095Z"
    },
    "papermill": {
     "duration": 1.192818,
     "end_time": "2023-12-27T01:17:36.913107",
     "exception": false,
     "start_time": "2023-12-27T01:17:35.720289",
     "status": "completed"
    },
    "tags": []
   },
   "outputs": [],
   "source": [
    "petite = pd.read_pickle('/kaggle/input/packer-balance-pickle/petite_balance.pickle')\n",
    "petite = petite.drop(['sample_sha1','benign','unpacked_sample_sha1','unpacked_sample_id'], axis=1)\n",
    "petite = petite.drop(['benign_vt','malicious_vt'], axis=1)\n",
    "string_columns = petite.select_dtypes(include=['object']).columns\n",
    "petite = petite.drop(string_columns, axis=1)"
   ]
  },
  {
   "cell_type": "code",
   "execution_count": 20,
   "id": "959428e6",
   "metadata": {
    "execution": {
     "iopub.execute_input": "2023-12-27T01:17:36.949522Z",
     "iopub.status.busy": "2023-12-27T01:17:36.949054Z",
     "iopub.status.idle": "2023-12-27T01:17:36.954889Z",
     "shell.execute_reply": "2023-12-27T01:17:36.953064Z"
    },
    "papermill": {
     "duration": 0.028028,
     "end_time": "2023-12-27T01:17:36.957445",
     "exception": false,
     "start_time": "2023-12-27T01:17:36.929417",
     "status": "completed"
    },
    "tags": []
   },
   "outputs": [],
   "source": [
    "def remove_cols(df, ll):\n",
    "    print(\"removing {} features\".format(len(ll)))\n",
    "    df.drop(columns=ll, axis=1, inplace=True)\n",
    "    return df"
   ]
  },
  {
   "cell_type": "code",
   "execution_count": 21,
   "id": "42ee57cf",
   "metadata": {
    "execution": {
     "iopub.execute_input": "2023-12-27T01:17:36.991791Z",
     "iopub.status.busy": "2023-12-27T01:17:36.991078Z",
     "iopub.status.idle": "2023-12-27T01:17:37.946697Z",
     "shell.execute_reply": "2023-12-27T01:17:37.945453Z"
    },
    "papermill": {
     "duration": 0.975554,
     "end_time": "2023-12-27T01:17:37.948967",
     "exception": false,
     "start_time": "2023-12-27T01:17:36.973413",
     "status": "completed"
    },
    "tags": []
   },
   "outputs": [
    {
     "name": "stdout",
     "output_type": "stream",
     "text": [
      "removing 2500 features\n",
      "removing 2 features\n",
      "removing 16900 features\n",
      "removing 66 features\n",
      "removing 19169 features\n",
      "removing 4306 features\n",
      "removing 550 features\n",
      "removing 29 features\n"
     ]
    }
   ],
   "source": [
    "# ngram = remove_cols(df, [c for c in cols if c.startswith('ngram_')])\n",
    "ngram = remove_cols(petite, [c for c in cols if c.startswith('opcode_')])\n",
    "ngram = remove_cols(petite, [c for c in cols if c.startswith('generic_')])\n",
    "ngram = remove_cols(petite, [c for c in cols if c.startswith('string_')])\n",
    "ngram = remove_cols(petite, [c for c in cols if c.startswith('rich_')])\n",
    "ngram = remove_cols(petite, [c for c in cols if c.startswith('imp_') or 'api_import_nb' == c])\n",
    "ngram = remove_cols(petite, [c for c in cols if c.endswith('.dll') or 'dll_import_nb' == c])\n",
    "ngram = remove_cols(petite, [c for c in cols if c.startswith('pesection')])\n",
    "ngram = remove_cols(petite, [c for c in cols if c.startswith('header_')])"
   ]
  },
  {
   "cell_type": "code",
   "execution_count": 22,
   "id": "36fe18c9",
   "metadata": {
    "execution": {
     "iopub.execute_input": "2023-12-27T01:17:37.986205Z",
     "iopub.status.busy": "2023-12-27T01:17:37.984299Z",
     "iopub.status.idle": "2023-12-27T01:17:38.214258Z",
     "shell.execute_reply": "2023-12-27T01:17:38.212162Z"
    },
    "papermill": {
     "duration": 0.249969,
     "end_time": "2023-12-27T01:17:38.217175",
     "exception": false,
     "start_time": "2023-12-27T01:17:37.967206",
     "status": "completed"
    },
    "tags": []
   },
   "outputs": [],
   "source": [
    "df_7000_ngram = ngram.sample(n=7000, random_state=102)\n",
    "df_3000_ngram = ngram.drop(df_7000.index)\n",
    "data_ngram = df_7000_ngram.sample(n=3500, random_state=102)"
   ]
  },
  {
   "cell_type": "code",
   "execution_count": 23,
   "id": "2017815a",
   "metadata": {
    "execution": {
     "iopub.execute_input": "2023-12-27T01:17:38.250868Z",
     "iopub.status.busy": "2023-12-27T01:17:38.250406Z",
     "iopub.status.idle": "2023-12-27T01:17:38.527038Z",
     "shell.execute_reply": "2023-12-27T01:17:38.525283Z"
    },
    "papermill": {
     "duration": 0.296854,
     "end_time": "2023-12-27T01:17:38.529877",
     "exception": false,
     "start_time": "2023-12-27T01:17:38.233023",
     "status": "completed"
    },
    "tags": []
   },
   "outputs": [
    {
     "name": "stdout",
     "output_type": "stream",
     "text": [
      "Packed Malware: 2302 samples\n",
      "Packed Benign: 1198 samples\n",
      "Total TRAIN set: 3500 samples\n",
      "Packed Malware: 1198 samples\n",
      "Packed Benign: 1198 samples\n",
      "Total TRAIN set: 2396 samples\n",
      "Packed Malware: 1056 samples\n",
      "Packed Benign: 1056 samples\n",
      "Total TEST set: 2112 samples\n"
     ]
    }
   ],
   "source": [
    "#Kiểm tra số lượng mẫu\n",
    "PM = data_ngram[(data_ngram['malicious'] == True) & (data_ngram['packed'] == True)].shape[0]\n",
    "PB = data_ngram[(data_ngram['malicious'] == False) & (data_ngram['packed'] == True)].shape[0]\n",
    "print('Packed Malware: %i samples' % PM)\n",
    "print('Packed Benign: %i samples' % PB)\n",
    "print('Total TRAIN set: %i samples'% (PM+PB))\n",
    "\n",
    "#Chia tỉ lệ 50 - 50\n",
    "data_PM_ngram = data_ngram[(data_ngram['malicious'] == True) & (data_ngram['packed'] == True)].sample(n=(PM-PB), random_state=102)\n",
    "data_ngram = data_ngram.drop(data_PM_ngram.index)\n",
    "\n",
    "#Số lượng tập train\n",
    "PM = data_ngram[(data_ngram['malicious'] == True) & (data_ngram['packed'] == True)].shape[0]\n",
    "PB = data_ngram[(data_ngram['malicious'] == False) & (data_ngram['packed'] == True)].shape[0]\n",
    "print('Packed Malware: %i samples' % PM)\n",
    "print('Packed Benign: %i samples' % PB)\n",
    "print('Total TRAIN set: %i samples'% (PM+PB))\n",
    "\n",
    "#Xử lý tập train\n",
    "y = data_ngram['malicious'].values\n",
    "data_ngram = data_ngram.drop(['malicious','packed'], axis=1)\n",
    "\n",
    "PM = df_3000_ngram[(df_3000_ngram['malicious'] == True) & (df_3000_ngram['packed'] == True)].shape[0]\n",
    "PB = df_3000_ngram[(df_3000_ngram['malicious'] == False) & (df_3000_ngram['packed'] == True)].shape[0]\n",
    "\n",
    "df_3000_PM_ngram = df_3000_ngram[(df_3000_ngram['malicious'] == True) & (df_3000_ngram['packed'] == True)].sample(n=(PM-PB), random_state=102)\n",
    "df_3000_ngram = df_3000_ngram.drop(df_3000_PM.index)\n",
    "\n",
    "PM = df_3000_ngram[(df_3000_ngram['malicious'] == True) & (df_3000_ngram['packed'] == True)].shape[0]\n",
    "PB = df_3000_ngram[(df_3000_ngram['malicious'] == False) & (df_3000_ngram['packed'] == True)].shape[0]\n",
    "\n",
    "print('Packed Malware: %i samples' % PM)\n",
    "print('Packed Benign: %i samples' % PB)\n",
    "print('Total TEST set: %i samples'% (PM+PB))"
   ]
  },
  {
   "cell_type": "code",
   "execution_count": 24,
   "id": "a3aa60eb",
   "metadata": {
    "execution": {
     "iopub.execute_input": "2023-12-27T01:17:38.565453Z",
     "iopub.status.busy": "2023-12-27T01:17:38.564767Z",
     "iopub.status.idle": "2023-12-27T01:17:38.630554Z",
     "shell.execute_reply": "2023-12-27T01:17:38.629166Z"
    },
    "papermill": {
     "duration": 0.087233,
     "end_time": "2023-12-27T01:17:38.633750",
     "exception": false,
     "start_time": "2023-12-27T01:17:38.546517",
     "status": "completed"
    },
    "tags": []
   },
   "outputs": [],
   "source": [
    "# model = SelectFromModel(fsel, prefit=True)\n",
    "\n",
    "X_train_ngram = data_ngram\n",
    "X_test_ngram = df_3000_ngram.drop(['malicious','packed'], axis=1)\n",
    "\n",
    "data_ngram = data_ngram.loc[:, (data_ngram != 0).any(axis=0)]\n",
    "x_train_ngram = data_ngram\n",
    "X_test_ngram = df_3000_ngram.drop(['malicious','packed'], axis=1)\n",
    "y_train_ngram = y\n",
    "y_test_ngram = df_3000_ngram['malicious'].values"
   ]
  },
  {
   "cell_type": "code",
   "execution_count": 25,
   "id": "793b0ff0",
   "metadata": {
    "execution": {
     "iopub.execute_input": "2023-12-27T01:17:38.668374Z",
     "iopub.status.busy": "2023-12-27T01:17:38.667982Z",
     "iopub.status.idle": "2023-12-27T01:17:42.079956Z",
     "shell.execute_reply": "2023-12-27T01:17:42.078781Z"
    },
    "papermill": {
     "duration": 3.43155,
     "end_time": "2023-12-27T01:17:42.082166",
     "exception": false,
     "start_time": "2023-12-27T01:17:38.650616",
     "status": "completed"
    },
    "tags": []
   },
   "outputs": [
    {
     "name": "stdout",
     "output_type": "stream",
     "text": [
      "The accuracy of the Random Forests model is :\t 0.9417613636363636\n"
     ]
    }
   ],
   "source": [
    "# Random Forest\n",
    "from sklearn.ensemble import RandomForestClassifier\n",
    "from sklearn import metrics\n",
    "\n",
    "random_forest = RandomForestClassifier(n_estimators=100, random_state=17)\n",
    "random_forest.fit(X_train_ngram, y_train_ngram)\n",
    "random_forest_preds = random_forest.predict(X_test_ngram)\n",
    "print('The accuracy of the Random Forests model is :\\t',metrics.accuracy_score(random_forest_preds,y_test_ngram))"
   ]
  },
  {
   "cell_type": "markdown",
   "id": "30964137",
   "metadata": {
    "papermill": {
     "duration": 0.015995,
     "end_time": "2023-12-27T01:17:42.114041",
     "exception": false,
     "start_time": "2023-12-27T01:17:42.098046",
     "status": "completed"
    },
    "tags": []
   },
   "source": [
    "# **opcode features**"
   ]
  },
  {
   "cell_type": "code",
   "execution_count": 26,
   "id": "d1c177ee",
   "metadata": {
    "execution": {
     "iopub.execute_input": "2023-12-27T01:17:42.147890Z",
     "iopub.status.busy": "2023-12-27T01:17:42.147521Z",
     "iopub.status.idle": "2023-12-27T01:17:43.262277Z",
     "shell.execute_reply": "2023-12-27T01:17:43.260909Z"
    },
    "papermill": {
     "duration": 1.135939,
     "end_time": "2023-12-27T01:17:43.265557",
     "exception": false,
     "start_time": "2023-12-27T01:17:42.129618",
     "status": "completed"
    },
    "tags": []
   },
   "outputs": [],
   "source": [
    "petite = pd.read_pickle('/kaggle/input/packer-balance-pickle/petite_balance.pickle')\n",
    "petite = petite.drop(['sample_sha1','benign','unpacked_sample_sha1','unpacked_sample_id'], axis=1)\n",
    "petite = petite.drop(['benign_vt','malicious_vt'], axis=1)\n",
    "string_columns = petite.select_dtypes(include=['object']).columns\n",
    "petite = petite.drop(string_columns, axis=1)"
   ]
  },
  {
   "cell_type": "code",
   "execution_count": 27,
   "id": "741c0478",
   "metadata": {
    "execution": {
     "iopub.execute_input": "2023-12-27T01:17:43.299552Z",
     "iopub.status.busy": "2023-12-27T01:17:43.299144Z",
     "iopub.status.idle": "2023-12-27T01:17:44.338822Z",
     "shell.execute_reply": "2023-12-27T01:17:44.337718Z"
    },
    "papermill": {
     "duration": 1.059212,
     "end_time": "2023-12-27T01:17:44.340834",
     "exception": false,
     "start_time": "2023-12-27T01:17:43.281622",
     "status": "completed"
    },
    "tags": []
   },
   "outputs": [
    {
     "name": "stdout",
     "output_type": "stream",
     "text": [
      "removing 13000 features\n",
      "removing 2 features\n",
      "removing 16900 features\n",
      "removing 66 features\n",
      "removing 19169 features\n",
      "removing 4306 features\n",
      "removing 550 features\n",
      "removing 29 features\n"
     ]
    }
   ],
   "source": [
    "opcode = remove_cols(petite, [c for c in cols if c.startswith('ngram_')])\n",
    "# opcode = remove_cols(petite, [c for c in cols if c.startswith('opcode_')])\n",
    "opcode = remove_cols(petite, [c for c in cols if c.startswith('generic_')])\n",
    "opcode = remove_cols(petite, [c for c in cols if c.startswith('string_')])\n",
    "opcode = remove_cols(petite, [c for c in cols if c.startswith('rich_')])\n",
    "opcode = remove_cols(petite, [c for c in cols if c.startswith('imp_') or 'api_import_nb' == c])\n",
    "opcode = remove_cols(petite, [c for c in cols if c.endswith('.dll') or 'dll_import_nb' == c])\n",
    "opcode = remove_cols(petite, [c for c in cols if c.startswith('pesection')])\n",
    "opcode = remove_cols(petite, [c for c in cols if c.startswith('header_')])"
   ]
  },
  {
   "cell_type": "code",
   "execution_count": 28,
   "id": "5783bde4",
   "metadata": {
    "execution": {
     "iopub.execute_input": "2023-12-27T01:17:44.375530Z",
     "iopub.status.busy": "2023-12-27T01:17:44.373990Z",
     "iopub.status.idle": "2023-12-27T01:17:44.588136Z",
     "shell.execute_reply": "2023-12-27T01:17:44.586841Z"
    },
    "papermill": {
     "duration": 0.23382,
     "end_time": "2023-12-27T01:17:44.590792",
     "exception": false,
     "start_time": "2023-12-27T01:17:44.356972",
     "status": "completed"
    },
    "tags": []
   },
   "outputs": [],
   "source": [
    "df_7000_opcode = opcode.sample(n=7000, random_state=102)\n",
    "df_3000_opcode = opcode.drop(df_7000.index)\n",
    "data_opcode = df_7000_opcode.sample(n=3500, random_state=102)"
   ]
  },
  {
   "cell_type": "code",
   "execution_count": 29,
   "id": "3e7d29a3",
   "metadata": {
    "execution": {
     "iopub.execute_input": "2023-12-27T01:17:44.628784Z",
     "iopub.status.busy": "2023-12-27T01:17:44.627191Z",
     "iopub.status.idle": "2023-12-27T01:17:44.789471Z",
     "shell.execute_reply": "2023-12-27T01:17:44.787354Z"
    },
    "papermill": {
     "duration": 0.183259,
     "end_time": "2023-12-27T01:17:44.791931",
     "exception": false,
     "start_time": "2023-12-27T01:17:44.608672",
     "status": "completed"
    },
    "tags": []
   },
   "outputs": [
    {
     "name": "stdout",
     "output_type": "stream",
     "text": [
      "Packed Malware: 2302 samples\n",
      "Packed Benign: 1198 samples\n",
      "Total TRAIN set: 3500 samples\n",
      "Packed Malware: 1198 samples\n",
      "Packed Benign: 1198 samples\n",
      "Total TRAIN set: 2396 samples\n",
      "Packed Malware: 1056 samples\n",
      "Packed Benign: 1056 samples\n",
      "Total TEST set: 2112 samples\n"
     ]
    }
   ],
   "source": [
    "#Kiểm tra số lượng mẫu\n",
    "PM = data_opcode[(data_opcode['malicious'] == True) & (data_opcode['packed'] == True)].shape[0]\n",
    "PB = data_opcode[(data_opcode['malicious'] == False) & (data_opcode['packed'] == True)].shape[0]\n",
    "print('Packed Malware: %i samples' % PM)\n",
    "print('Packed Benign: %i samples' % PB)\n",
    "print('Total TRAIN set: %i samples'% (PM+PB))\n",
    "\n",
    "#Chia tỉ lệ 50 - 50\n",
    "data_PM_opcode = data_opcode[(data_opcode['malicious'] == True) & (data_opcode['packed'] == True)].sample(n=(PM-PB), random_state=102)\n",
    "data_opcode = data_opcode.drop(data_PM_opcode.index)\n",
    "      \n",
    "#Số lượng tập train\n",
    "PM = data_opcode[(data_opcode['malicious'] == True) & (data_opcode['packed'] == True)].shape[0]\n",
    "PB = data_opcode[(data_opcode['malicious'] == False) & (data_opcode['packed'] == True)].shape[0]\n",
    "print('Packed Malware: %i samples' % PM)\n",
    "print('Packed Benign: %i samples' % PB)\n",
    "print('Total TRAIN set: %i samples'% (PM+PB))\n",
    "\n",
    "#Xử lý tập train\n",
    "y = data_opcode['malicious'].values\n",
    "data_opcode = data_opcode.drop(['malicious','packed'], axis=1)\n",
    "\n",
    "PM = df_3000_opcode[(df_3000_opcode['malicious'] == True) & (df_3000_opcode['packed'] == True)].shape[0]\n",
    "PB = df_3000_opcode[(df_3000_opcode['malicious'] == False) & (df_3000_opcode['packed'] == True)].shape[0]\n",
    "\n",
    "df_3000_PM_opcode = df_3000_opcode[(df_3000_opcode['malicious'] == True) & (df_3000_opcode['packed'] == True)].sample(n=(PM-PB), random_state=102)\n",
    "df_3000_opcode = df_3000_opcode.drop(df_3000_PM_opcode.index)\n",
    "\n",
    "PM = df_3000_opcode[(df_3000_opcode['malicious'] == True) & (df_3000_opcode['packed'] == True)].shape[0]\n",
    "PB = df_3000_opcode[(df_3000_opcode['malicious'] == False) & (df_3000_opcode['packed'] == True)].shape[0]\n",
    "\n",
    "print('Packed Malware: %i samples' % PM)\n",
    "print('Packed Benign: %i samples' % PB)\n",
    "print('Total TEST set: %i samples'% (PM+PB))"
   ]
  },
  {
   "cell_type": "code",
   "execution_count": 30,
   "id": "124d1cdf",
   "metadata": {
    "execution": {
     "iopub.execute_input": "2023-12-27T01:17:44.830978Z",
     "iopub.status.busy": "2023-12-27T01:17:44.830218Z",
     "iopub.status.idle": "2023-12-27T01:17:44.861523Z",
     "shell.execute_reply": "2023-12-27T01:17:44.860367Z"
    },
    "papermill": {
     "duration": 0.054102,
     "end_time": "2023-12-27T01:17:44.863458",
     "exception": false,
     "start_time": "2023-12-27T01:17:44.809356",
     "status": "completed"
    },
    "tags": []
   },
   "outputs": [],
   "source": [
    "# model = SelectFromModel(fsel, prefit=True)\n",
    "\n",
    "X_train_opcode = data_opcode\n",
    "X_test_opcode = df_3000_opcode.drop(['malicious','packed'], axis=1)\n",
    "\n",
    "# data_opcode = data_opcode.loc[:, (data_opcode != 0).any(axis=0)]\n",
    "x_train_opcode = data_opcode\n",
    "X_test_opcode = df_3000_opcode.drop(['malicious','packed'], axis=1)\n",
    "y_train_opcode = y\n",
    "y_test_opcode = df_3000_opcode['malicious'].values"
   ]
  },
  {
   "cell_type": "code",
   "execution_count": 31,
   "id": "b692b16f",
   "metadata": {
    "execution": {
     "iopub.execute_input": "2023-12-27T01:17:44.900703Z",
     "iopub.status.busy": "2023-12-27T01:17:44.900170Z",
     "iopub.status.idle": "2023-12-27T01:17:47.055508Z",
     "shell.execute_reply": "2023-12-27T01:17:47.054429Z"
    },
    "papermill": {
     "duration": 2.176649,
     "end_time": "2023-12-27T01:17:47.057751",
     "exception": false,
     "start_time": "2023-12-27T01:17:44.881102",
     "status": "completed"
    },
    "tags": []
   },
   "outputs": [
    {
     "name": "stdout",
     "output_type": "stream",
     "text": [
      "The accuracy of the Random Forests model is :\t 0.8465909090909091\n"
     ]
    }
   ],
   "source": [
    "# Random Forest\n",
    "from sklearn.ensemble import RandomForestClassifier\n",
    "from sklearn import metrics\n",
    "\n",
    "random_forest = RandomForestClassifier(n_estimators=100, random_state=17)\n",
    "random_forest.fit(x_train_opcode, y_train_opcode)\n",
    "random_forest_preds = random_forest.predict(X_test_opcode)\n",
    "print('The accuracy of the Random Forests model is :\\t',metrics.accuracy_score(random_forest_preds,y_test_opcode))"
   ]
  },
  {
   "cell_type": "markdown",
   "id": "a93ad8b0",
   "metadata": {
    "papermill": {
     "duration": 0.015785,
     "end_time": "2023-12-27T01:17:47.090233",
     "exception": false,
     "start_time": "2023-12-27T01:17:47.074448",
     "status": "completed"
    },
    "tags": []
   },
   "source": [
    "# **rich header features**"
   ]
  },
  {
   "cell_type": "code",
   "execution_count": 32,
   "id": "6bc0565e",
   "metadata": {
    "execution": {
     "iopub.execute_input": "2023-12-27T01:17:47.127582Z",
     "iopub.status.busy": "2023-12-27T01:17:47.127076Z",
     "iopub.status.idle": "2023-12-27T01:17:48.278810Z",
     "shell.execute_reply": "2023-12-27T01:17:48.276953Z"
    },
    "papermill": {
     "duration": 1.173226,
     "end_time": "2023-12-27T01:17:48.281402",
     "exception": false,
     "start_time": "2023-12-27T01:17:47.108176",
     "status": "completed"
    },
    "tags": []
   },
   "outputs": [],
   "source": [
    "petite = pd.read_pickle('/kaggle/input/packer-balance-pickle/petite_balance.pickle')\n",
    "petite = petite.drop(['sample_sha1','benign','unpacked_sample_sha1','unpacked_sample_id'], axis=1)\n",
    "petite = petite.drop(['benign_vt','malicious_vt'], axis=1)\n",
    "string_columns = petite.select_dtypes(include=['object']).columns\n",
    "petite = petite.drop(string_columns, axis=1)"
   ]
  },
  {
   "cell_type": "code",
   "execution_count": 33,
   "id": "bd1b19b4",
   "metadata": {
    "execution": {
     "iopub.execute_input": "2023-12-27T01:17:48.320340Z",
     "iopub.status.busy": "2023-12-27T01:17:48.319868Z",
     "iopub.status.idle": "2023-12-27T01:17:49.240341Z",
     "shell.execute_reply": "2023-12-27T01:17:49.238407Z"
    },
    "papermill": {
     "duration": 0.9452,
     "end_time": "2023-12-27T01:17:49.244451",
     "exception": false,
     "start_time": "2023-12-27T01:17:48.299251",
     "status": "completed"
    },
    "tags": []
   },
   "outputs": [
    {
     "name": "stdout",
     "output_type": "stream",
     "text": [
      "removing 13000 features\n",
      "removing 2500 features\n",
      "removing 2 features\n",
      "removing 16900 features\n",
      "removing 19169 features\n",
      "removing 4306 features\n",
      "removing 550 features\n",
      "removing 29 features\n"
     ]
    }
   ],
   "source": [
    "rich = remove_cols(petite, [c for c in cols if c.startswith('ngram_')])\n",
    "rich = remove_cols(petite, [c for c in cols if c.startswith('opcode_')])\n",
    "rich = remove_cols(petite, [c for c in cols if c.startswith('generic_')])\n",
    "rich = remove_cols(petite, [c for c in cols if c.startswith('string_')])\n",
    "# rich = remove_cols(petite, [c for c in cols if c.startswith('rich_')])\n",
    "rich = remove_cols(petite, [c for c in cols if c.startswith('imp_') or 'api_import_nb' == c])\n",
    "rich = remove_cols(petite, [c for c in cols if c.endswith('.dll') or 'dll_import_nb' == c])\n",
    "rich = remove_cols(petite, [c for c in cols if c.startswith('pesection')])\n",
    "rich = remove_cols(petite, [c for c in cols if c.startswith('header_')])"
   ]
  },
  {
   "cell_type": "code",
   "execution_count": 34,
   "id": "cf8924d1",
   "metadata": {
    "execution": {
     "iopub.execute_input": "2023-12-27T01:17:49.282526Z",
     "iopub.status.busy": "2023-12-27T01:17:49.281042Z",
     "iopub.status.idle": "2023-12-27T01:17:49.298527Z",
     "shell.execute_reply": "2023-12-27T01:17:49.296649Z"
    },
    "papermill": {
     "duration": 0.039334,
     "end_time": "2023-12-27T01:17:49.301399",
     "exception": false,
     "start_time": "2023-12-27T01:17:49.262065",
     "status": "completed"
    },
    "tags": []
   },
   "outputs": [],
   "source": [
    "df_7000_rich = rich.sample(n=7000, random_state=102)\n",
    "df_3000_rich = rich.drop(df_7000.index)\n",
    "data_rich = df_7000_rich.sample(n=3500, random_state=102)"
   ]
  },
  {
   "cell_type": "code",
   "execution_count": 35,
   "id": "70710e83",
   "metadata": {
    "execution": {
     "iopub.execute_input": "2023-12-27T01:17:49.337232Z",
     "iopub.status.busy": "2023-12-27T01:17:49.336771Z",
     "iopub.status.idle": "2023-12-27T01:17:49.367062Z",
     "shell.execute_reply": "2023-12-27T01:17:49.366046Z"
    },
    "papermill": {
     "duration": 0.051648,
     "end_time": "2023-12-27T01:17:49.369797",
     "exception": false,
     "start_time": "2023-12-27T01:17:49.318149",
     "status": "completed"
    },
    "tags": []
   },
   "outputs": [
    {
     "name": "stdout",
     "output_type": "stream",
     "text": [
      "Packed Malware: 2302 samples\n",
      "Packed Benign: 1198 samples\n",
      "Total TRAIN set: 3500 samples\n",
      "Packed Malware: 1198 samples\n",
      "Packed Benign: 1198 samples\n",
      "Total TRAIN set: 2396 samples\n",
      "Packed Malware: 1056 samples\n",
      "Packed Benign: 1056 samples\n",
      "Total TEST set: 2112 samples\n"
     ]
    }
   ],
   "source": [
    "#Kiểm tra số lượng mẫu\n",
    "PM = data_rich[(data_rich['malicious'] == True) & (data_rich['packed'] == True)].shape[0]\n",
    "PB = data_rich[(data_rich['malicious'] == False) & (data_rich['packed'] == True)].shape[0]\n",
    "print('Packed Malware: %i samples' % PM)\n",
    "print('Packed Benign: %i samples' % PB)\n",
    "print('Total TRAIN set: %i samples'% (PM+PB))\n",
    "\n",
    "#Chia tỉ lệ 50 - 50\n",
    "data_PM_rich = data_rich[(data_rich['malicious'] == True) & (data_rich['packed'] == True)].sample(n=(PM-PB), random_state=102)\n",
    "data_rich = data_rich.drop(data_PM_rich.index)\n",
    "      \n",
    "#Số lượng tập train\n",
    "PM = data_rich[(data_rich['malicious'] == True) & (data_rich['packed'] == True)].shape[0]\n",
    "PB = data_rich[(data_rich['malicious'] == False) & (data_rich['packed'] == True)].shape[0]\n",
    "print('Packed Malware: %i samples' % PM)\n",
    "print('Packed Benign: %i samples' % PB)\n",
    "print('Total TRAIN set: %i samples'% (PM+PB))\n",
    "\n",
    "#Xử lý tập train\n",
    "y = data_rich['malicious'].values\n",
    "data_rich= data_rich.drop(['malicious','packed'], axis=1)\n",
    "\n",
    "PM = df_3000_rich[(df_3000_rich['malicious'] == True) & (df_3000_rich['packed'] == True)].shape[0]\n",
    "PB = df_3000_rich[(df_3000_rich['malicious'] == False) & (df_3000_rich['packed'] == True)].shape[0]\n",
    "\n",
    "df_3000_PM_rich = df_3000_rich[(df_3000_rich['malicious'] == True) & (df_3000_rich['packed'] == True)].sample(n=(PM-PB), random_state=102)\n",
    "df_3000_rich = df_3000_rich.drop(df_3000_PM_rich.index)\n",
    "\n",
    "PM = df_3000_rich[(df_3000_rich['malicious'] == True) & (df_3000_rich['packed'] == True)].shape[0]\n",
    "PB = df_3000_rich[(df_3000_rich['malicious'] == False) & (df_3000_rich['packed'] == True)].shape[0]\n",
    "\n",
    "print('Packed Malware: %i samples' % PM)\n",
    "print('Packed Benign: %i samples' % PB)\n",
    "print('Total TEST set: %i samples'% (PM+PB))"
   ]
  },
  {
   "cell_type": "code",
   "execution_count": 36,
   "id": "3e2068a7",
   "metadata": {
    "execution": {
     "iopub.execute_input": "2023-12-27T01:17:49.404907Z",
     "iopub.status.busy": "2023-12-27T01:17:49.404450Z",
     "iopub.status.idle": "2023-12-27T01:17:49.415456Z",
     "shell.execute_reply": "2023-12-27T01:17:49.413710Z"
    },
    "papermill": {
     "duration": 0.031312,
     "end_time": "2023-12-27T01:17:49.418091",
     "exception": false,
     "start_time": "2023-12-27T01:17:49.386779",
     "status": "completed"
    },
    "tags": []
   },
   "outputs": [],
   "source": [
    "# model = SelectFromModel(fsel, prefit=True)\n",
    "\n",
    "X_train_rich = data_rich\n",
    "X_test_rich = df_3000_rich.drop(['malicious','packed'], axis=1)\n",
    "\n",
    "data_rich = data_rich.loc[:, (data_rich != 0).any(axis=0)]\n",
    "x_train_rich = data_rich\n",
    "X_test_rich = df_3000_rich.drop(['malicious','packed'], axis=1)\n",
    "y_train_rich = y\n",
    "y_test_rich = df_3000_rich['malicious'].values"
   ]
  },
  {
   "cell_type": "code",
   "execution_count": 37,
   "id": "fcf98895",
   "metadata": {
    "execution": {
     "iopub.execute_input": "2023-12-27T01:17:49.454454Z",
     "iopub.status.busy": "2023-12-27T01:17:49.453773Z",
     "iopub.status.idle": "2023-12-27T01:17:49.823473Z",
     "shell.execute_reply": "2023-12-27T01:17:49.821606Z"
    },
    "papermill": {
     "duration": 0.392045,
     "end_time": "2023-12-27T01:17:49.826999",
     "exception": false,
     "start_time": "2023-12-27T01:17:49.434954",
     "status": "completed"
    },
    "tags": []
   },
   "outputs": [
    {
     "name": "stdout",
     "output_type": "stream",
     "text": [
      "The accuracy of the Random Forests model is :\t 0.8972537878787878\n"
     ]
    }
   ],
   "source": [
    "# Random Forest\n",
    "from sklearn.ensemble import RandomForestClassifier\n",
    "from sklearn import metrics\n",
    "\n",
    "random_forest = RandomForestClassifier(n_estimators=100, random_state=17)\n",
    "random_forest.fit(X_train_rich, y_train_rich)\n",
    "random_forest_preds = random_forest.predict(X_test_rich)\n",
    "print('The accuracy of the Random Forests model is :\\t',metrics.accuracy_score(random_forest_preds,y_test_rich))"
   ]
  },
  {
   "cell_type": "markdown",
   "id": "8b078594",
   "metadata": {
    "papermill": {
     "duration": 0.016333,
     "end_time": "2023-12-27T01:17:49.860646",
     "exception": false,
     "start_time": "2023-12-27T01:17:49.844313",
     "status": "completed"
    },
    "tags": []
   },
   "source": [
    "# **string features**"
   ]
  },
  {
   "cell_type": "code",
   "execution_count": 38,
   "id": "e505a33d",
   "metadata": {
    "execution": {
     "iopub.execute_input": "2023-12-27T01:17:49.896450Z",
     "iopub.status.busy": "2023-12-27T01:17:49.895995Z",
     "iopub.status.idle": "2023-12-27T01:17:50.990499Z",
     "shell.execute_reply": "2023-12-27T01:17:50.988200Z"
    },
    "papermill": {
     "duration": 1.115967,
     "end_time": "2023-12-27T01:17:50.993290",
     "exception": false,
     "start_time": "2023-12-27T01:17:49.877323",
     "status": "completed"
    },
    "tags": []
   },
   "outputs": [],
   "source": [
    "petite = pd.read_pickle('/kaggle/input/packer-balance-pickle/petite_balance.pickle')\n",
    "petite = petite.drop(['sample_sha1','benign','unpacked_sample_sha1','unpacked_sample_id'], axis=1)\n",
    "petite = petite.drop(['benign_vt','malicious_vt'], axis=1)\n",
    "string_columns = petite.select_dtypes(include=['object']).columns\n",
    "petite = petite.drop(string_columns, axis=1)"
   ]
  },
  {
   "cell_type": "code",
   "execution_count": 39,
   "id": "1ab12620",
   "metadata": {
    "execution": {
     "iopub.execute_input": "2023-12-27T01:17:51.029965Z",
     "iopub.status.busy": "2023-12-27T01:17:51.029561Z",
     "iopub.status.idle": "2023-12-27T01:17:51.989504Z",
     "shell.execute_reply": "2023-12-27T01:17:51.988054Z"
    },
    "papermill": {
     "duration": 0.982015,
     "end_time": "2023-12-27T01:17:51.992673",
     "exception": false,
     "start_time": "2023-12-27T01:17:51.010658",
     "status": "completed"
    },
    "tags": []
   },
   "outputs": [
    {
     "name": "stdout",
     "output_type": "stream",
     "text": [
      "removing 13000 features\n",
      "removing 2500 features\n",
      "removing 2 features\n",
      "removing 66 features\n",
      "removing 19169 features\n",
      "removing 4306 features\n",
      "removing 550 features\n",
      "removing 29 features\n"
     ]
    }
   ],
   "source": [
    "string = remove_cols(petite, [c for c in cols if c.startswith('ngram_')])\n",
    "string = remove_cols(petite, [c for c in cols if c.startswith('opcode_')])\n",
    "string = remove_cols(petite, [c for c in cols if c.startswith('generic_')])\n",
    "# string = remove_cols(petite, [c for c in cols if c.startswith('string_')])\n",
    "string = remove_cols(petite, [c for c in cols if c.startswith('rich_')])\n",
    "string = remove_cols(petite, [c for c in cols if c.startswith('imp_') or 'api_import_nb' == c])\n",
    "string = remove_cols(petite, [c for c in cols if c.endswith('.dll') or 'dll_import_nb' == c])\n",
    "string = remove_cols(petite, [c for c in cols if c.startswith('pesection')])\n",
    "string = remove_cols(petite, [c for c in cols if c.startswith('header_')])"
   ]
  },
  {
   "cell_type": "code",
   "execution_count": 40,
   "id": "04599058",
   "metadata": {
    "execution": {
     "iopub.execute_input": "2023-12-27T01:17:52.030143Z",
     "iopub.status.busy": "2023-12-27T01:17:52.029693Z",
     "iopub.status.idle": "2023-12-27T01:17:52.329384Z",
     "shell.execute_reply": "2023-12-27T01:17:52.327808Z"
    },
    "papermill": {
     "duration": 0.322124,
     "end_time": "2023-12-27T01:17:52.332464",
     "exception": false,
     "start_time": "2023-12-27T01:17:52.010340",
     "status": "completed"
    },
    "tags": []
   },
   "outputs": [],
   "source": [
    "df_7000_string = string.sample(n=7000, random_state=102)\n",
    "df_3000_string = string.drop(df_7000.index)\n",
    "data_string = df_7000_string.sample(n=3500, random_state=102)"
   ]
  },
  {
   "cell_type": "code",
   "execution_count": 41,
   "id": "84cea932",
   "metadata": {
    "execution": {
     "iopub.execute_input": "2023-12-27T01:17:52.368622Z",
     "iopub.status.busy": "2023-12-27T01:17:52.368085Z",
     "iopub.status.idle": "2023-12-27T01:17:52.731745Z",
     "shell.execute_reply": "2023-12-27T01:17:52.730711Z"
    },
    "papermill": {
     "duration": 0.384108,
     "end_time": "2023-12-27T01:17:52.733997",
     "exception": false,
     "start_time": "2023-12-27T01:17:52.349889",
     "status": "completed"
    },
    "tags": []
   },
   "outputs": [
    {
     "name": "stdout",
     "output_type": "stream",
     "text": [
      "Packed Malware: 2302 samples\n",
      "Packed Benign: 1198 samples\n",
      "Total TRAIN set: 3500 samples\n",
      "Packed Malware: 1198 samples\n",
      "Packed Benign: 1198 samples\n",
      "Total TRAIN set: 2396 samples\n",
      "Packed Malware: 1056 samples\n",
      "Packed Benign: 1056 samples\n",
      "Total TEST set: 2112 samples\n"
     ]
    }
   ],
   "source": [
    "#Kiểm tra số lượng mẫu\n",
    "PM = data_string[(data_string['malicious'] == True) & (data_string['packed'] == True)].shape[0]\n",
    "PB = data_string[(data_string['malicious'] == False) & (data_string['packed'] == True)].shape[0]\n",
    "print('Packed Malware: %i samples' % PM)\n",
    "print('Packed Benign: %i samples' % PB)\n",
    "print('Total TRAIN set: %i samples'% (PM+PB))\n",
    "\n",
    "#Chia tỉ lệ 50 - 50\n",
    "data_PM_string = data_string[(data_string['malicious'] == True) & (data_string['packed'] == True)].sample(n=(PM-PB), random_state=102)\n",
    "data_string = data_string.drop(data_PM_string.index)\n",
    "      \n",
    "#Số lượng tập train\n",
    "PM = data_string[(data_string['malicious'] == True) & (data_string['packed'] == True)].shape[0]\n",
    "PB = data_string[(data_string['malicious'] == False) & (data_string['packed'] == True)].shape[0]\n",
    "print('Packed Malware: %i samples' % PM)\n",
    "print('Packed Benign: %i samples' % PB)\n",
    "print('Total TRAIN set: %i samples'% (PM+PB))\n",
    "\n",
    "#Xử lý tập train\n",
    "y = data_string['malicious'].values\n",
    "data_string = data_string.drop(['malicious','packed'], axis=1)\n",
    "\n",
    "PM = df_3000_string[(df_3000_string['malicious'] == True) & (df_3000_string['packed'] == True)].shape[0]\n",
    "PB = df_3000_string[(df_3000_string['malicious'] == False) & (df_3000_string['packed'] == True)].shape[0]\n",
    "\n",
    "df_3000_PM_string = df_3000_string[(df_3000_string['malicious'] == True) & (df_3000_string['packed'] == True)].sample(n=(PM-PB), random_state=102)\n",
    "df_3000_string = df_3000_string.drop(df_3000_PM_string.index)\n",
    "\n",
    "PM = df_3000_string[(df_3000_string['malicious'] == True) & (df_3000_string['packed'] == True)].shape[0]\n",
    "PB = df_3000_string[(df_3000_string['malicious'] == False) & (df_3000_string['packed'] == True)].shape[0]\n",
    "\n",
    "print('Packed Malware: %i samples' % PM)\n",
    "print('Packed Benign: %i samples' % PB)\n",
    "print('Total TEST set: %i samples'% (PM+PB))"
   ]
  },
  {
   "cell_type": "code",
   "execution_count": 42,
   "id": "391b71d5",
   "metadata": {
    "execution": {
     "iopub.execute_input": "2023-12-27T01:17:52.769695Z",
     "iopub.status.busy": "2023-12-27T01:17:52.769079Z",
     "iopub.status.idle": "2023-12-27T01:17:52.843063Z",
     "shell.execute_reply": "2023-12-27T01:17:52.841442Z"
    },
    "papermill": {
     "duration": 0.094651,
     "end_time": "2023-12-27T01:17:52.845706",
     "exception": false,
     "start_time": "2023-12-27T01:17:52.751055",
     "status": "completed"
    },
    "tags": []
   },
   "outputs": [],
   "source": [
    "# model = SelectFromModel(fsel, prefit=True)\n",
    "\n",
    "X_train_string = data_string\n",
    "X_test_string = df_3000_string.drop(['malicious','packed'], axis=1)\n",
    "\n",
    "data_string = data_string.loc[:, (data_string != 0).any(axis=0)]\n",
    "x_train_string = data_string\n",
    "X_test_string = df_3000_string.drop(['malicious','packed'], axis=1)\n",
    "y_train_string = y\n",
    "y_test_string = df_3000_string['malicious'].values"
   ]
  },
  {
   "cell_type": "code",
   "execution_count": 43,
   "id": "7b5a587f",
   "metadata": {
    "execution": {
     "iopub.execute_input": "2023-12-27T01:17:52.881586Z",
     "iopub.status.busy": "2023-12-27T01:17:52.881172Z",
     "iopub.status.idle": "2023-12-27T01:18:00.749350Z",
     "shell.execute_reply": "2023-12-27T01:18:00.747288Z"
    },
    "papermill": {
     "duration": 7.889499,
     "end_time": "2023-12-27T01:18:00.752233",
     "exception": false,
     "start_time": "2023-12-27T01:17:52.862734",
     "status": "completed"
    },
    "tags": []
   },
   "outputs": [
    {
     "name": "stdout",
     "output_type": "stream",
     "text": [
      "The accuracy of the Random Forests model is :\t 0.9232954545454546\n"
     ]
    }
   ],
   "source": [
    "# Random Forest\n",
    "from sklearn.ensemble import RandomForestClassifier\n",
    "from sklearn import metrics\n",
    "\n",
    "random_forest = RandomForestClassifier(n_estimators=100, random_state=17)\n",
    "random_forest.fit(X_train_string, y_train_string)\n",
    "random_forest_preds = random_forest.predict(X_test_string)\n",
    "print('The accuracy of the Random Forests model is :\\t',metrics.accuracy_score(random_forest_preds,y_test_string))"
   ]
  },
  {
   "cell_type": "markdown",
   "id": "81a15b64",
   "metadata": {
    "papermill": {
     "duration": 0.016584,
     "end_time": "2023-12-27T01:18:00.786173",
     "exception": false,
     "start_time": "2023-12-27T01:18:00.769589",
     "status": "completed"
    },
    "tags": []
   },
   "source": [
    "# **api features**"
   ]
  },
  {
   "cell_type": "code",
   "execution_count": 44,
   "id": "646ca65b",
   "metadata": {
    "execution": {
     "iopub.execute_input": "2023-12-27T01:18:00.823895Z",
     "iopub.status.busy": "2023-12-27T01:18:00.823435Z",
     "iopub.status.idle": "2023-12-27T01:18:01.977059Z",
     "shell.execute_reply": "2023-12-27T01:18:01.975188Z"
    },
    "papermill": {
     "duration": 1.175737,
     "end_time": "2023-12-27T01:18:01.980194",
     "exception": false,
     "start_time": "2023-12-27T01:18:00.804457",
     "status": "completed"
    },
    "tags": []
   },
   "outputs": [],
   "source": [
    "petite = pd.read_pickle('/kaggle/input/packer-balance-pickle/petite_balance.pickle')\n",
    "petite = petite.drop(['sample_sha1','benign','unpacked_sample_sha1','unpacked_sample_id'], axis=1)\n",
    "petite = petite.drop(['benign_vt','malicious_vt'], axis=1)\n",
    "string_columns = petite.select_dtypes(include=['object']).columns\n",
    "petite = petite.drop(string_columns, axis=1)"
   ]
  },
  {
   "cell_type": "code",
   "execution_count": 45,
   "id": "084cf1cb",
   "metadata": {
    "execution": {
     "iopub.execute_input": "2023-12-27T01:18:02.019637Z",
     "iopub.status.busy": "2023-12-27T01:18:02.019203Z",
     "iopub.status.idle": "2023-12-27T01:18:03.138617Z",
     "shell.execute_reply": "2023-12-27T01:18:03.136398Z"
    },
    "papermill": {
     "duration": 1.142855,
     "end_time": "2023-12-27T01:18:03.141932",
     "exception": false,
     "start_time": "2023-12-27T01:18:01.999077",
     "status": "completed"
    },
    "tags": []
   },
   "outputs": [
    {
     "name": "stdout",
     "output_type": "stream",
     "text": [
      "removing 13000 features\n",
      "removing 2500 features\n",
      "removing 2 features\n",
      "removing 16900 features\n",
      "removing 66 features\n",
      "removing 4306 features\n",
      "removing 550 features\n",
      "removing 29 features\n"
     ]
    }
   ],
   "source": [
    "api = remove_cols(petite, [c for c in cols if c.startswith('ngram_')])\n",
    "api = remove_cols(petite, [c for c in cols if c.startswith('opcode_')])\n",
    "api = remove_cols(petite, [c for c in cols if c.startswith('generic_')])\n",
    "api = remove_cols(petite, [c for c in cols if c.startswith('string_')])\n",
    "api = remove_cols(petite, [c for c in cols if c.startswith('rich_')])\n",
    "# api = remove_cols(petite, [c for c in cols if c.startswith('imp_') or 'api_import_nb' == c])\n",
    "api = remove_cols(petite, [c for c in cols if c.endswith('.dll') or 'dll_import_nb' == c])\n",
    "api = remove_cols(petite, [c for c in cols if c.startswith('pesection')])\n",
    "api = remove_cols(petite, [c for c in cols if c.startswith('header_')])"
   ]
  },
  {
   "cell_type": "code",
   "execution_count": 46,
   "id": "ec8cf5a1",
   "metadata": {
    "execution": {
     "iopub.execute_input": "2023-12-27T01:18:03.182334Z",
     "iopub.status.busy": "2023-12-27T01:18:03.181860Z",
     "iopub.status.idle": "2023-12-27T01:18:03.566902Z",
     "shell.execute_reply": "2023-12-27T01:18:03.565522Z"
    },
    "papermill": {
     "duration": 0.409619,
     "end_time": "2023-12-27T01:18:03.570063",
     "exception": false,
     "start_time": "2023-12-27T01:18:03.160444",
     "status": "completed"
    },
    "tags": []
   },
   "outputs": [],
   "source": [
    "df_7000_api = api.sample(n=7000, random_state=102)\n",
    "df_3000_api = api.drop(df_7000.index)\n",
    "data_api = df_7000_api.sample(n=3500, random_state=102)"
   ]
  },
  {
   "cell_type": "code",
   "execution_count": 47,
   "id": "687f31e8",
   "metadata": {
    "execution": {
     "iopub.execute_input": "2023-12-27T01:18:03.608977Z",
     "iopub.status.busy": "2023-12-27T01:18:03.608414Z",
     "iopub.status.idle": "2023-12-27T01:18:04.134582Z",
     "shell.execute_reply": "2023-12-27T01:18:04.132815Z"
    },
    "papermill": {
     "duration": 0.548428,
     "end_time": "2023-12-27T01:18:04.137580",
     "exception": false,
     "start_time": "2023-12-27T01:18:03.589152",
     "status": "completed"
    },
    "tags": []
   },
   "outputs": [
    {
     "name": "stdout",
     "output_type": "stream",
     "text": [
      "Packed Malware: 2302 samples\n",
      "Packed Benign: 1198 samples\n",
      "Total TRAIN set: 3500 samples\n",
      "Packed Malware: 1198 samples\n",
      "Packed Benign: 1198 samples\n",
      "Total TRAIN set: 2396 samples\n",
      "Packed Malware: 1056 samples\n",
      "Packed Benign: 1056 samples\n",
      "Total TEST set: 2112 samples\n"
     ]
    }
   ],
   "source": [
    "#Kiểm tra số lượng mẫu\n",
    "PM = data_api[(data_api['malicious'] == True) & (data_api['packed'] == True)].shape[0]\n",
    "PB = data_api[(data_api['malicious'] == False) & (data_api['packed'] == True)].shape[0]\n",
    "print('Packed Malware: %i samples' % PM)\n",
    "print('Packed Benign: %i samples' % PB)\n",
    "print('Total TRAIN set: %i samples'% (PM+PB))\n",
    "\n",
    "#Chia tỉ lệ 50 - 50\n",
    "data_PM_api = data_api[(data_api['malicious'] == True) & (data_api['packed'] == True)].sample(n=(PM-PB), random_state=102)\n",
    "data_api = data_api.drop(data_PM_api.index)\n",
    "      \n",
    "#Số lượng tập train\n",
    "PM = data_api[(data_api['malicious'] == True) & (data_api['packed'] == True)].shape[0]\n",
    "PB = data_api[(data_api['malicious'] == False) & (data_api['packed'] == True)].shape[0]\n",
    "print('Packed Malware: %i samples' % PM)\n",
    "print('Packed Benign: %i samples' % PB)\n",
    "print('Total TRAIN set: %i samples'% (PM+PB))\n",
    "\n",
    "#Xử lý tập train\n",
    "y = data_api['malicious'].values\n",
    "data_api = data_api.drop(['malicious','packed'], axis=1)\n",
    "\n",
    "PM = df_3000_api[(df_3000_api['malicious'] == True) & (df_3000_api['packed'] == True)].shape[0]\n",
    "PB = df_3000_api[(df_3000_api['malicious'] == False) & (df_3000_api['packed'] == True)].shape[0]\n",
    "\n",
    "df_3000_PM_api = df_3000_api[(df_3000_api['malicious'] == True) & (df_3000_api['packed'] == True)].sample(n=(PM-PB), random_state=102)\n",
    "df_3000_api = df_3000_api.drop(df_3000_PM_api.index)\n",
    "\n",
    "PM = df_3000_api[(df_3000_api['malicious'] == True) & (df_3000_api['packed'] == True)].shape[0]\n",
    "PB = df_3000_api[(df_3000_api['malicious'] == False) & (df_3000_api['packed'] == True)].shape[0]\n",
    "\n",
    "print('Packed Malware: %i samples' % PM)\n",
    "print('Packed Benign: %i samples' % PB)\n",
    "print('Total TEST set: %i samples'% (PM+PB))"
   ]
  },
  {
   "cell_type": "code",
   "execution_count": 48,
   "id": "5cbf83d6",
   "metadata": {
    "execution": {
     "iopub.execute_input": "2023-12-27T01:18:04.177147Z",
     "iopub.status.busy": "2023-12-27T01:18:04.176660Z",
     "iopub.status.idle": "2023-12-27T01:18:04.280736Z",
     "shell.execute_reply": "2023-12-27T01:18:04.279565Z"
    },
    "papermill": {
     "duration": 0.127919,
     "end_time": "2023-12-27T01:18:04.284307",
     "exception": false,
     "start_time": "2023-12-27T01:18:04.156388",
     "status": "completed"
    },
    "tags": []
   },
   "outputs": [],
   "source": [
    "# model = SelectFromModel(fsel, prefit=True)\n",
    "\n",
    "X_train_api = data_api\n",
    "X_test_api = df_3000_api.drop(['malicious','packed'], axis=1)\n",
    "\n",
    "data_api = data_api.loc[:, (data_api != 0).any(axis=0)]\n",
    "x_train_api = data_api\n",
    "X_test_api = df_3000_api.drop(['malicious','packed'], axis=1)\n",
    "y_train_api = y\n",
    "y_test_api = df_3000_api['malicious'].values"
   ]
  },
  {
   "cell_type": "code",
   "execution_count": 49,
   "id": "be98c3f8",
   "metadata": {
    "execution": {
     "iopub.execute_input": "2023-12-27T01:18:04.325190Z",
     "iopub.status.busy": "2023-12-27T01:18:04.324738Z",
     "iopub.status.idle": "2023-12-27T01:18:18.961564Z",
     "shell.execute_reply": "2023-12-27T01:18:18.959347Z"
    },
    "papermill": {
     "duration": 14.659931,
     "end_time": "2023-12-27T01:18:18.964620",
     "exception": false,
     "start_time": "2023-12-27T01:18:04.304689",
     "status": "completed"
    },
    "tags": []
   },
   "outputs": [
    {
     "name": "stdout",
     "output_type": "stream",
     "text": [
      "The accuracy of the Random Forests model is :\t 0.8910984848484849\n"
     ]
    }
   ],
   "source": [
    "# Random Forest\n",
    "from sklearn.ensemble import RandomForestClassifier\n",
    "from sklearn import metrics\n",
    "\n",
    "random_forest = RandomForestClassifier(n_estimators=100, random_state=17)\n",
    "random_forest.fit(X_train_api, y_train_api)\n",
    "random_forest_preds = random_forest.predict(X_test_api)\n",
    "print('The accuracy of the Random Forests model is :\\t',metrics.accuracy_score(random_forest_preds,y_test_api))"
   ]
  },
  {
   "cell_type": "markdown",
   "id": "0b5ae6d2",
   "metadata": {
    "papermill": {
     "duration": 0.016992,
     "end_time": "2023-12-27T01:18:18.999992",
     "exception": false,
     "start_time": "2023-12-27T01:18:18.983000",
     "status": "completed"
    },
    "tags": []
   },
   "source": [
    "# **dll features**"
   ]
  },
  {
   "cell_type": "code",
   "execution_count": 50,
   "id": "c4634ed3",
   "metadata": {
    "execution": {
     "iopub.execute_input": "2023-12-27T01:18:19.036994Z",
     "iopub.status.busy": "2023-12-27T01:18:19.036608Z",
     "iopub.status.idle": "2023-12-27T01:18:20.300672Z",
     "shell.execute_reply": "2023-12-27T01:18:20.298807Z"
    },
    "papermill": {
     "duration": 1.286016,
     "end_time": "2023-12-27T01:18:20.303420",
     "exception": false,
     "start_time": "2023-12-27T01:18:19.017404",
     "status": "completed"
    },
    "tags": []
   },
   "outputs": [],
   "source": [
    "petite = pd.read_pickle('/kaggle/input/packer-balance-pickle/petite_balance.pickle')\n",
    "petite = petite.drop(['sample_sha1','benign','unpacked_sample_sha1','unpacked_sample_id'], axis=1)\n",
    "petite = petite.drop(['benign_vt','malicious_vt'], axis=1)\n",
    "string_columns = petite.select_dtypes(include=['object']).columns\n",
    "petite = petite.drop(string_columns, axis=1)"
   ]
  },
  {
   "cell_type": "code",
   "execution_count": 51,
   "id": "28ce3151",
   "metadata": {
    "execution": {
     "iopub.execute_input": "2023-12-27T01:18:20.339895Z",
     "iopub.status.busy": "2023-12-27T01:18:20.339426Z",
     "iopub.status.idle": "2023-12-27T01:18:21.175939Z",
     "shell.execute_reply": "2023-12-27T01:18:21.174397Z"
    },
    "papermill": {
     "duration": 0.858454,
     "end_time": "2023-12-27T01:18:21.179257",
     "exception": false,
     "start_time": "2023-12-27T01:18:20.320803",
     "status": "completed"
    },
    "tags": []
   },
   "outputs": [
    {
     "name": "stdout",
     "output_type": "stream",
     "text": [
      "removing 13000 features\n",
      "removing 2500 features\n",
      "removing 2 features\n",
      "removing 16900 features\n",
      "removing 66 features\n",
      "removing 19169 features\n",
      "removing 550 features\n",
      "removing 29 features\n"
     ]
    }
   ],
   "source": [
    "dll = remove_cols(petite, [c for c in cols if c.startswith('ngram_')])\n",
    "dll = remove_cols(petite, [c for c in cols if c.startswith('opcode_')])\n",
    "dll = remove_cols(petite, [c for c in cols if c.startswith('generic_')])\n",
    "dll = remove_cols(petite, [c for c in cols if c.startswith('string_')])\n",
    "dll = remove_cols(petite, [c for c in cols if c.startswith('rich_')])\n",
    "dll = remove_cols(petite, [c for c in cols if c.startswith('imp_') or 'api_import_nb' == c])\n",
    "# api = remove_cols(petite, [c for c in cols if c.endswith('.dll') or 'dll_import_nb' == c])\n",
    "dll = remove_cols(petite, [c for c in cols if c.startswith('pesection')])\n",
    "dll = remove_cols(petite, [c for c in cols if c.startswith('header_')])"
   ]
  },
  {
   "cell_type": "code",
   "execution_count": 52,
   "id": "929532de",
   "metadata": {
    "execution": {
     "iopub.execute_input": "2023-12-27T01:18:21.218402Z",
     "iopub.status.busy": "2023-12-27T01:18:21.217251Z",
     "iopub.status.idle": "2023-12-27T01:18:21.305565Z",
     "shell.execute_reply": "2023-12-27T01:18:21.304475Z"
    },
    "papermill": {
     "duration": 0.110874,
     "end_time": "2023-12-27T01:18:21.308609",
     "exception": false,
     "start_time": "2023-12-27T01:18:21.197735",
     "status": "completed"
    },
    "tags": []
   },
   "outputs": [],
   "source": [
    "df_7000_dll = dll.sample(n=7000, random_state=102)\n",
    "df_3000_dll = dll.drop(df_7000.index)\n",
    "data_dll = df_7000_dll.sample(n=3500, random_state=102)"
   ]
  },
  {
   "cell_type": "code",
   "execution_count": 53,
   "id": "d193313b",
   "metadata": {
    "execution": {
     "iopub.execute_input": "2023-12-27T01:18:21.347548Z",
     "iopub.status.busy": "2023-12-27T01:18:21.347050Z",
     "iopub.status.idle": "2023-12-27T01:18:21.514115Z",
     "shell.execute_reply": "2023-12-27T01:18:21.513207Z"
    },
    "papermill": {
     "duration": 0.189025,
     "end_time": "2023-12-27T01:18:21.516112",
     "exception": false,
     "start_time": "2023-12-27T01:18:21.327087",
     "status": "completed"
    },
    "tags": []
   },
   "outputs": [
    {
     "name": "stdout",
     "output_type": "stream",
     "text": [
      "Packed Malware: 2302 samples\n",
      "Packed Benign: 1198 samples\n",
      "Total TRAIN set: 3500 samples\n",
      "Packed Malware: 1198 samples\n",
      "Packed Benign: 1198 samples\n",
      "Total TRAIN set: 2396 samples\n",
      "Packed Malware: 1056 samples\n",
      "Packed Benign: 1056 samples\n",
      "Total TEST set: 2112 samples\n"
     ]
    }
   ],
   "source": [
    "#Kiểm tra số lượng mẫu\n",
    "PM = data_dll[(data_dll['malicious'] == True) & (data_dll['packed'] == True)].shape[0]\n",
    "PB = data_dll[(data_dll['malicious'] == False) & (data_dll['packed'] == True)].shape[0]\n",
    "print('Packed Malware: %i samples' % PM)\n",
    "print('Packed Benign: %i samples' % PB)\n",
    "print('Total TRAIN set: %i samples'% (PM+PB))\n",
    "\n",
    "#Chia tỉ lệ 50 - 50\n",
    "data_PM_dll = data_dll[(data_dll['malicious'] == True) & (data_dll['packed'] == True)].sample(n=(PM-PB), random_state=102)\n",
    "data_dll = data_dll.drop(data_PM_dll.index)\n",
    "      \n",
    "#Số lượng tập train\n",
    "PM = data_dll[(data_dll['malicious'] == True) & (data_dll['packed'] == True)].shape[0]\n",
    "PB = data_dll[(data_dll['malicious'] == False) & (data_dll['packed'] == True)].shape[0]\n",
    "print('Packed Malware: %i samples' % PM)\n",
    "print('Packed Benign: %i samples' % PB)\n",
    "print('Total TRAIN set: %i samples'% (PM+PB))\n",
    "\n",
    "#Xử lý tập train\n",
    "y = data_dll['malicious'].values\n",
    "data_dll = data_dll.drop(['malicious','packed'], axis=1)\n",
    "\n",
    "PM = df_3000_dll[(df_3000_dll['malicious'] == True) & (df_3000_dll['packed'] == True)].shape[0]\n",
    "PB = df_3000_dll[(df_3000_dll['malicious'] == False) & (df_3000_dll['packed'] == True)].shape[0]\n",
    "\n",
    "df_3000_PM_dll = df_3000_dll[(df_3000_dll['malicious'] == True) & (df_3000_dll['packed'] == True)].sample(n=(PM-PB), random_state=102)\n",
    "df_3000_dll = df_3000_dll.drop(df_3000_PM_dll.index)\n",
    "\n",
    "PM = df_3000_dll[(df_3000_dll['malicious'] == True) & (df_3000_dll['packed'] == True)].shape[0]\n",
    "PB = df_3000_dll[(df_3000_dll['malicious'] == False) & (df_3000_dll['packed'] == True)].shape[0]\n",
    "\n",
    "print('Packed Malware: %i samples' % PM)\n",
    "print('Packed Benign: %i samples' % PB)\n",
    "print('Total TEST set: %i samples'% (PM+PB))"
   ]
  },
  {
   "cell_type": "code",
   "execution_count": 54,
   "id": "1aafaba5",
   "metadata": {
    "execution": {
     "iopub.execute_input": "2023-12-27T01:18:21.554056Z",
     "iopub.status.busy": "2023-12-27T01:18:21.553415Z",
     "iopub.status.idle": "2023-12-27T01:18:21.598268Z",
     "shell.execute_reply": "2023-12-27T01:18:21.596947Z"
    },
    "papermill": {
     "duration": 0.06731,
     "end_time": "2023-12-27T01:18:21.601092",
     "exception": false,
     "start_time": "2023-12-27T01:18:21.533782",
     "status": "completed"
    },
    "tags": []
   },
   "outputs": [],
   "source": [
    "# model = SelectFromModel(fsel, prefit=True)\n",
    "\n",
    "X_train_dll = data_dll\n",
    "X_test_dll = df_3000_dll.drop(['malicious','packed'], axis=1)\n",
    "\n",
    "data_dll = data_dll.loc[:, (data_dll != 0).any(axis=0)]\n",
    "x_train_dll = data_dll\n",
    "X_test_dll = df_3000_dll.drop(['malicious','packed'], axis=1)\n",
    "y_train_dll = y\n",
    "y_test_dll = df_3000_dll['malicious'].values"
   ]
  },
  {
   "cell_type": "code",
   "execution_count": 55,
   "id": "2f15d9c9",
   "metadata": {
    "execution": {
     "iopub.execute_input": "2023-12-27T01:18:21.640221Z",
     "iopub.status.busy": "2023-12-27T01:18:21.639792Z",
     "iopub.status.idle": "2023-12-27T01:18:26.196293Z",
     "shell.execute_reply": "2023-12-27T01:18:26.195305Z"
    },
    "papermill": {
     "duration": 4.579073,
     "end_time": "2023-12-27T01:18:26.198883",
     "exception": false,
     "start_time": "2023-12-27T01:18:21.619810",
     "status": "completed"
    },
    "tags": []
   },
   "outputs": [
    {
     "name": "stdout",
     "output_type": "stream",
     "text": [
      "The accuracy of the Random Forests model is :\t 0.8892045454545454\n"
     ]
    }
   ],
   "source": [
    "# Random Forest\n",
    "from sklearn.ensemble import RandomForestClassifier\n",
    "from sklearn import metrics\n",
    "\n",
    "random_forest = RandomForestClassifier(n_estimators=100, random_state=17)\n",
    "random_forest.fit(X_train_dll, y_train_dll)\n",
    "random_forest_preds = random_forest.predict(X_test_dll)\n",
    "print('The accuracy of the Random Forests model is :\\t',metrics.accuracy_score(random_forest_preds,y_test_dll))"
   ]
  },
  {
   "cell_type": "markdown",
   "id": "62457bbb",
   "metadata": {
    "papermill": {
     "duration": 0.018217,
     "end_time": "2023-12-27T01:18:26.236651",
     "exception": false,
     "start_time": "2023-12-27T01:18:26.218434",
     "status": "completed"
    },
    "tags": []
   },
   "source": [
    "# **pe sections features**"
   ]
  },
  {
   "cell_type": "code",
   "execution_count": 56,
   "id": "9d4b6b30",
   "metadata": {
    "execution": {
     "iopub.execute_input": "2023-12-27T01:18:26.276605Z",
     "iopub.status.busy": "2023-12-27T01:18:26.275421Z",
     "iopub.status.idle": "2023-12-27T01:18:27.389355Z",
     "shell.execute_reply": "2023-12-27T01:18:27.387265Z"
    },
    "papermill": {
     "duration": 1.137579,
     "end_time": "2023-12-27T01:18:27.392475",
     "exception": false,
     "start_time": "2023-12-27T01:18:26.254896",
     "status": "completed"
    },
    "tags": []
   },
   "outputs": [],
   "source": [
    "petite = pd.read_pickle('/kaggle/input/packer-balance-pickle/petite_balance.pickle')\n",
    "petite = petite.drop(['sample_sha1','benign','unpacked_sample_sha1','unpacked_sample_id'], axis=1)\n",
    "petite = petite.drop(['benign_vt','malicious_vt'], axis=1)\n",
    "string_columns = petite.select_dtypes(include=['object']).columns\n",
    "petite = petite.drop(string_columns, axis=1)"
   ]
  },
  {
   "cell_type": "code",
   "execution_count": 57,
   "id": "611fd740",
   "metadata": {
    "execution": {
     "iopub.execute_input": "2023-12-27T01:18:27.431508Z",
     "iopub.status.busy": "2023-12-27T01:18:27.431029Z",
     "iopub.status.idle": "2023-12-27T01:18:28.338871Z",
     "shell.execute_reply": "2023-12-27T01:18:28.337114Z"
    },
    "papermill": {
     "duration": 0.930209,
     "end_time": "2023-12-27T01:18:28.341485",
     "exception": false,
     "start_time": "2023-12-27T01:18:27.411276",
     "status": "completed"
    },
    "tags": []
   },
   "outputs": [
    {
     "name": "stdout",
     "output_type": "stream",
     "text": [
      "removing 13000 features\n",
      "removing 2500 features\n",
      "removing 2 features\n",
      "removing 16900 features\n",
      "removing 66 features\n",
      "removing 19169 features\n",
      "removing 4306 features\n",
      "removing 29 features\n"
     ]
    }
   ],
   "source": [
    "pesection = remove_cols(petite, [c for c in cols if c.startswith('ngram_')])\n",
    "pesection = remove_cols(petite, [c for c in cols if c.startswith('opcode_')])\n",
    "pesection = remove_cols(petite, [c for c in cols if c.startswith('generic_')])\n",
    "pesection = remove_cols(petite, [c for c in cols if c.startswith('string_')])\n",
    "pesection = remove_cols(petite, [c for c in cols if c.startswith('rich_')])\n",
    "pesection = remove_cols(petite, [c for c in cols if c.startswith('imp_') or 'api_import_nb' == c])\n",
    "pesection = remove_cols(petite, [c for c in cols if c.endswith('.dll') or 'dll_import_nb' == c])\n",
    "# pesection = remove_cols(petite, [c for c in cols if c.startswith('pesection')])\n",
    "pesection = remove_cols(petite, [c for c in cols if c.startswith('header_')])"
   ]
  },
  {
   "cell_type": "code",
   "execution_count": 58,
   "id": "37bea120",
   "metadata": {
    "execution": {
     "iopub.execute_input": "2023-12-27T01:18:28.381805Z",
     "iopub.status.busy": "2023-12-27T01:18:28.381392Z",
     "iopub.status.idle": "2023-12-27T01:18:28.438334Z",
     "shell.execute_reply": "2023-12-27T01:18:28.437277Z"
    },
    "papermill": {
     "duration": 0.080077,
     "end_time": "2023-12-27T01:18:28.441168",
     "exception": false,
     "start_time": "2023-12-27T01:18:28.361091",
     "status": "completed"
    },
    "tags": []
   },
   "outputs": [],
   "source": [
    "df_7000_pesection = pesection.sample(n=7000, random_state=102)\n",
    "df_3000_pesection = pesection.drop(df_7000.index)\n",
    "data_pesection = df_7000_pesection.sample(n=3500, random_state=102)"
   ]
  },
  {
   "cell_type": "code",
   "execution_count": 59,
   "id": "74631323",
   "metadata": {
    "execution": {
     "iopub.execute_input": "2023-12-27T01:18:28.479766Z",
     "iopub.status.busy": "2023-12-27T01:18:28.479239Z",
     "iopub.status.idle": "2023-12-27T01:18:28.592038Z",
     "shell.execute_reply": "2023-12-27T01:18:28.590332Z"
    },
    "papermill": {
     "duration": 0.134979,
     "end_time": "2023-12-27T01:18:28.594387",
     "exception": false,
     "start_time": "2023-12-27T01:18:28.459408",
     "status": "completed"
    },
    "tags": []
   },
   "outputs": [
    {
     "name": "stdout",
     "output_type": "stream",
     "text": [
      "Packed Malware: 2302 samples\n",
      "Packed Benign: 1198 samples\n",
      "Total TRAIN set: 3500 samples\n",
      "Packed Malware: 1198 samples\n",
      "Packed Benign: 1198 samples\n",
      "Total TRAIN set: 2396 samples\n",
      "Packed Malware: 1056 samples\n",
      "Packed Benign: 1056 samples\n",
      "Total TEST set: 2112 samples\n"
     ]
    }
   ],
   "source": [
    "#Kiểm tra số lượng mẫu\n",
    "PM = data_pesection[(data_pesection['malicious'] == True) & (data_pesection['packed'] == True)].shape[0]\n",
    "PB = data_pesection[(data_pesection['malicious'] == False) & (data_pesection['packed'] == True)].shape[0]\n",
    "print('Packed Malware: %i samples' % PM)\n",
    "print('Packed Benign: %i samples' % PB)\n",
    "print('Total TRAIN set: %i samples'% (PM+PB))\n",
    "\n",
    "#Chia tỉ lệ 50 - 50\n",
    "data_PM_pesection = data_pesection[(data_pesection['malicious'] == True) & (data_pesection['packed'] == True)].sample(n=(PM-PB), random_state=102)\n",
    "data_pesection = data_pesection.drop(data_PM_pesection.index)\n",
    "      \n",
    "#Số lượng tập train\n",
    "PM = data_pesection[(data_pesection['malicious'] == True) & (data_pesection['packed'] == True)].shape[0]\n",
    "PB = data_pesection[(data_pesection['malicious'] == False) & (data_pesection['packed'] == True)].shape[0]\n",
    "print('Packed Malware: %i samples' % PM)\n",
    "print('Packed Benign: %i samples' % PB)\n",
    "print('Total TRAIN set: %i samples'% (PM+PB))\n",
    "\n",
    "#Xử lý tập train\n",
    "y = data_pesection['malicious'].values\n",
    "data_pesection = data_pesection.drop(['malicious','packed'], axis=1)\n",
    "\n",
    "PM = df_3000_pesection[(df_3000_pesection['malicious'] == True) & (df_3000_pesection['packed'] == True)].shape[0]\n",
    "PB = df_3000_pesection[(df_3000_pesection['malicious'] == False) & (df_3000_pesection['packed'] == True)].shape[0]\n",
    "\n",
    "df_3000_PM_pesection = df_3000_pesection[(df_3000_pesection['malicious'] == True) & (df_3000_pesection['packed'] == True)].sample(n=(PM-PB), random_state=102)\n",
    "df_3000_pesection = df_3000_pesection.drop(df_3000_PM_pesection.index)\n",
    "\n",
    "PM = df_3000_pesection[(df_3000_pesection['malicious'] == True) & (df_3000_pesection['packed'] == True)].shape[0]\n",
    "PB = df_3000_pesection[(df_3000_pesection['malicious'] == False) & (df_3000_pesection['packed'] == True)].shape[0]\n",
    "\n",
    "print('Packed Malware: %i samples' % PM)\n",
    "print('Packed Benign: %i samples' % PB)\n",
    "print('Total TEST set: %i samples'% (PM+PB))"
   ]
  },
  {
   "cell_type": "code",
   "execution_count": 60,
   "id": "edf11918",
   "metadata": {
    "execution": {
     "iopub.execute_input": "2023-12-27T01:18:28.632959Z",
     "iopub.status.busy": "2023-12-27T01:18:28.631560Z",
     "iopub.status.idle": "2023-12-27T01:18:28.668814Z",
     "shell.execute_reply": "2023-12-27T01:18:28.667192Z"
    },
    "papermill": {
     "duration": 0.059198,
     "end_time": "2023-12-27T01:18:28.671438",
     "exception": false,
     "start_time": "2023-12-27T01:18:28.612240",
     "status": "completed"
    },
    "tags": []
   },
   "outputs": [],
   "source": [
    "# model = SelectFromModel(fsel, prefit=True)\n",
    "\n",
    "X_train_pesection = data_pesection\n",
    "X_test_pesection = df_3000_pesection.drop(['malicious','packed'], axis=1)\n",
    "\n",
    "data_pesection = data_pesection.loc[:, (data_pesection != 0).any(axis=0)]\n",
    "x_train_pesection = data_pesection\n",
    "X_test_pesection = df_3000_pesection.drop(['malicious','packed'], axis=1)\n",
    "y_train_pesection = y\n",
    "y_test_pesection = df_3000_pesection['malicious'].values"
   ]
  },
  {
   "cell_type": "code",
   "execution_count": 61,
   "id": "005c7698",
   "metadata": {
    "execution": {
     "iopub.execute_input": "2023-12-27T01:18:28.711056Z",
     "iopub.status.busy": "2023-12-27T01:18:28.709666Z",
     "iopub.status.idle": "2023-12-27T01:18:29.289684Z",
     "shell.execute_reply": "2023-12-27T01:18:29.287414Z"
    },
    "papermill": {
     "duration": 0.602879,
     "end_time": "2023-12-27T01:18:29.292963",
     "exception": false,
     "start_time": "2023-12-27T01:18:28.690084",
     "status": "completed"
    },
    "tags": []
   },
   "outputs": [
    {
     "name": "stdout",
     "output_type": "stream",
     "text": [
      "The accuracy of the Random Forests model is :\t 0.9389204545454546\n"
     ]
    }
   ],
   "source": [
    "# Random Forest\n",
    "from sklearn.ensemble import RandomForestClassifier\n",
    "from sklearn import metrics\n",
    "\n",
    "random_forest = RandomForestClassifier(n_estimators=100, random_state=17)\n",
    "random_forest.fit(X_train_pesection, y_train_pesection)\n",
    "random_forest_preds = random_forest.predict(X_test_pesection)\n",
    "print('The accuracy of the Random Forests model is :\\t',metrics.accuracy_score(random_forest_preds,y_test_pesection))"
   ]
  },
  {
   "cell_type": "markdown",
   "id": "292480ec",
   "metadata": {
    "papermill": {
     "duration": 0.017394,
     "end_time": "2023-12-27T01:18:29.328329",
     "exception": false,
     "start_time": "2023-12-27T01:18:29.310935",
     "status": "completed"
    },
    "tags": []
   },
   "source": [
    "# **pe header features**"
   ]
  },
  {
   "cell_type": "code",
   "execution_count": 62,
   "id": "fdce7f2e",
   "metadata": {
    "execution": {
     "iopub.execute_input": "2023-12-27T01:18:29.366599Z",
     "iopub.status.busy": "2023-12-27T01:18:29.365371Z",
     "iopub.status.idle": "2023-12-27T01:18:30.603022Z",
     "shell.execute_reply": "2023-12-27T01:18:30.601422Z"
    },
    "papermill": {
     "duration": 1.259537,
     "end_time": "2023-12-27T01:18:30.605793",
     "exception": false,
     "start_time": "2023-12-27T01:18:29.346256",
     "status": "completed"
    },
    "tags": []
   },
   "outputs": [],
   "source": [
    "petite = pd.read_pickle('/kaggle/input/packer-balance-pickle/petite_balance.pickle')\n",
    "petite = petite.drop(['sample_sha1','benign','unpacked_sample_sha1','unpacked_sample_id'], axis=1)\n",
    "petite = petite.drop(['benign_vt','malicious_vt'], axis=1)\n",
    "string_columns = petite.select_dtypes(include=['object']).columns\n",
    "petite = petite.drop(string_columns, axis=1)"
   ]
  },
  {
   "cell_type": "code",
   "execution_count": 63,
   "id": "804fb00c",
   "metadata": {
    "execution": {
     "iopub.execute_input": "2023-12-27T01:18:30.647186Z",
     "iopub.status.busy": "2023-12-27T01:18:30.646711Z",
     "iopub.status.idle": "2023-12-27T01:18:31.488152Z",
     "shell.execute_reply": "2023-12-27T01:18:31.486368Z"
    },
    "papermill": {
     "duration": 0.86595,
     "end_time": "2023-12-27T01:18:31.490626",
     "exception": false,
     "start_time": "2023-12-27T01:18:30.624676",
     "status": "completed"
    },
    "tags": []
   },
   "outputs": [
    {
     "name": "stdout",
     "output_type": "stream",
     "text": [
      "removing 13000 features\n",
      "removing 2500 features\n",
      "removing 2 features\n",
      "removing 16900 features\n",
      "removing 66 features\n",
      "removing 19169 features\n",
      "removing 4306 features\n",
      "removing 550 features\n"
     ]
    }
   ],
   "source": [
    "header = remove_cols(petite, [c for c in cols if c.startswith('ngram_')])\n",
    "header = remove_cols(petite, [c for c in cols if c.startswith('opcode_')])\n",
    "header = remove_cols(petite, [c for c in cols if c.startswith('generic_')])\n",
    "header = remove_cols(petite, [c for c in cols if c.startswith('string_')])\n",
    "header = remove_cols(petite, [c for c in cols if c.startswith('rich_')])\n",
    "header = remove_cols(petite, [c for c in cols if c.startswith('imp_') or 'api_import_nb' == c])\n",
    "header = remove_cols(petite, [c for c in cols if c.endswith('.dll') or 'dll_import_nb' == c])\n",
    "header = remove_cols(petite, [c for c in cols if c.startswith('pesection')])\n",
    "# header = remove_cols(petite, [c for c in cols if c.startswith('header_')])"
   ]
  },
  {
   "cell_type": "code",
   "execution_count": 64,
   "id": "8ae2230e",
   "metadata": {
    "execution": {
     "iopub.execute_input": "2023-12-27T01:18:31.533926Z",
     "iopub.status.busy": "2023-12-27T01:18:31.531890Z",
     "iopub.status.idle": "2023-12-27T01:18:31.549686Z",
     "shell.execute_reply": "2023-12-27T01:18:31.548301Z"
    },
    "papermill": {
     "duration": 0.043475,
     "end_time": "2023-12-27T01:18:31.552583",
     "exception": false,
     "start_time": "2023-12-27T01:18:31.509108",
     "status": "completed"
    },
    "tags": []
   },
   "outputs": [],
   "source": [
    "df_7000_header = header.sample(n=7000, random_state=102)\n",
    "df_3000_header = header.drop(df_7000.index)\n",
    "data_header = df_7000_header.sample(n=3500, random_state=102)"
   ]
  },
  {
   "cell_type": "code",
   "execution_count": 65,
   "id": "02c7c8a4",
   "metadata": {
    "execution": {
     "iopub.execute_input": "2023-12-27T01:18:31.592095Z",
     "iopub.status.busy": "2023-12-27T01:18:31.591059Z",
     "iopub.status.idle": "2023-12-27T01:18:31.620285Z",
     "shell.execute_reply": "2023-12-27T01:18:31.619337Z"
    },
    "papermill": {
     "duration": 0.052316,
     "end_time": "2023-12-27T01:18:31.623095",
     "exception": false,
     "start_time": "2023-12-27T01:18:31.570779",
     "status": "completed"
    },
    "tags": []
   },
   "outputs": [
    {
     "name": "stdout",
     "output_type": "stream",
     "text": [
      "Packed Malware: 2302 samples\n",
      "Packed Benign: 1198 samples\n",
      "Total TRAIN set: 3500 samples\n",
      "Packed Malware: 1198 samples\n",
      "Packed Benign: 1198 samples\n",
      "Total TRAIN set: 2396 samples\n",
      "Packed Malware: 1056 samples\n",
      "Packed Benign: 1056 samples\n",
      "Total TEST set: 2112 samples\n"
     ]
    }
   ],
   "source": [
    "#Kiểm tra số lượng mẫu\n",
    "PM = data_header[(data_header['malicious'] == True) & (data_header['packed'] == True)].shape[0]\n",
    "PB = data_header[(data_header['malicious'] == False) & (data_header['packed'] == True)].shape[0]\n",
    "print('Packed Malware: %i samples' % PM)\n",
    "print('Packed Benign: %i samples' % PB)\n",
    "print('Total TRAIN set: %i samples'% (PM+PB))\n",
    "\n",
    "#Chia tỉ lệ 50 - 50\n",
    "data_PM_header = data_header[(data_header['malicious'] == True) & (data_header['packed'] == True)].sample(n=(PM-PB), random_state=102)\n",
    "data_header = data_header.drop(data_PM_header.index)\n",
    "      \n",
    "#Số lượng tập train\n",
    "PM = data_header[(data_header['malicious'] == True) & (data_header['packed'] == True)].shape[0]\n",
    "PB = data_header[(data_header['malicious'] == False) & (data_header['packed'] == True)].shape[0]\n",
    "print('Packed Malware: %i samples' % PM)\n",
    "print('Packed Benign: %i samples' % PB)\n",
    "print('Total TRAIN set: %i samples'% (PM+PB))\n",
    "\n",
    "#Xử lý tập train\n",
    "y = data_header['malicious'].values\n",
    "data_header= data_header.drop(['malicious','packed'], axis=1)\n",
    "\n",
    "PM = df_3000_header[(df_3000_header['malicious'] == True) & (df_3000_header['packed'] == True)].shape[0]\n",
    "PB = df_3000_header[(df_3000_header['malicious'] == False) & (df_3000_header['packed'] == True)].shape[0]\n",
    "\n",
    "df_3000_PM_header = df_3000_header[(df_3000_header['malicious'] == True) & (df_3000_header['packed'] == True)].sample(n=(PM-PB), random_state=102)\n",
    "df_3000_header= df_3000_header.drop(df_3000_PM_header.index)\n",
    "\n",
    "PM = df_3000_header[(df_3000_header['malicious'] == True) & (df_3000_header['packed'] == True)].shape[0]\n",
    "PB = df_3000_header[(df_3000_header['malicious'] == False) & (df_3000_header['packed'] == True)].shape[0]\n",
    "\n",
    "print('Packed Malware: %i samples' % PM)\n",
    "print('Packed Benign: %i samples' % PB)\n",
    "print('Total TEST set: %i samples'% (PM+PB))"
   ]
  },
  {
   "cell_type": "code",
   "execution_count": 66,
   "id": "73f1f498",
   "metadata": {
    "execution": {
     "iopub.execute_input": "2023-12-27T01:18:31.661347Z",
     "iopub.status.busy": "2023-12-27T01:18:31.660886Z",
     "iopub.status.idle": "2023-12-27T01:18:31.671914Z",
     "shell.execute_reply": "2023-12-27T01:18:31.670957Z"
    },
    "papermill": {
     "duration": 0.032796,
     "end_time": "2023-12-27T01:18:31.673960",
     "exception": false,
     "start_time": "2023-12-27T01:18:31.641164",
     "status": "completed"
    },
    "tags": []
   },
   "outputs": [],
   "source": [
    "# model = SelectFromModel(fsel, prefit=True)\n",
    "\n",
    "X_train_header = data_header\n",
    "X_test_header = df_3000_header.drop(['malicious','packed'], axis=1)\n",
    "\n",
    "data_header = data_header.loc[:, (data_header != 0).any(axis=0)]\n",
    "x_train_header = data_header\n",
    "X_test_header = df_3000_header.drop(['malicious','packed'], axis=1)\n",
    "y_train_header = y\n",
    "y_test_header = df_3000_header['malicious'].values"
   ]
  },
  {
   "cell_type": "code",
   "execution_count": 67,
   "id": "a07ecc81",
   "metadata": {
    "execution": {
     "iopub.execute_input": "2023-12-27T01:18:31.714222Z",
     "iopub.status.busy": "2023-12-27T01:18:31.713779Z",
     "iopub.status.idle": "2023-12-27T01:18:32.072546Z",
     "shell.execute_reply": "2023-12-27T01:18:32.070893Z"
    },
    "papermill": {
     "duration": 0.381769,
     "end_time": "2023-12-27T01:18:32.075343",
     "exception": false,
     "start_time": "2023-12-27T01:18:31.693574",
     "status": "completed"
    },
    "tags": []
   },
   "outputs": [
    {
     "name": "stdout",
     "output_type": "stream",
     "text": [
      "The accuracy of the Random Forests model is :\t 0.9299242424242424\n"
     ]
    }
   ],
   "source": [
    "# Random Forest\n",
    "from sklearn.ensemble import RandomForestClassifier\n",
    "from sklearn import metrics\n",
    "\n",
    "random_forest = RandomForestClassifier(n_estimators=100, random_state=17)\n",
    "random_forest.fit(X_train_header, y_train_header)\n",
    "random_forest_preds = random_forest.predict(X_test_header)\n",
    "print('The accuracy of the Random Forests model is :\\t',metrics.accuracy_score(random_forest_preds,y_test_header))"
   ]
  }
 ],
 "metadata": {
  "kaggle": {
   "accelerator": "none",
   "dataSources": [
    {
     "datasetId": 4192384,
     "sourceId": 7262652,
     "sourceType": "datasetVersion"
    }
   ],
   "dockerImageVersionId": 30626,
   "isGpuEnabled": false,
   "isInternetEnabled": true,
   "language": "python",
   "sourceType": "notebook"
  },
  "kernelspec": {
   "display_name": "Python 3",
   "language": "python",
   "name": "python3"
  },
  "language_info": {
   "codemirror_mode": {
    "name": "ipython",
    "version": 3
   },
   "file_extension": ".py",
   "mimetype": "text/x-python",
   "name": "python",
   "nbconvert_exporter": "python",
   "pygments_lexer": "ipython3",
   "version": "3.10.12"
  },
  "papermill": {
   "default_parameters": {},
   "duration": 82.567311,
   "end_time": "2023-12-27T01:18:33.123112",
   "environment_variables": {},
   "exception": null,
   "input_path": "__notebook__.ipynb",
   "output_path": "__notebook__.ipynb",
   "parameters": {},
   "start_time": "2023-12-27T01:17:10.555801",
   "version": "2.4.0"
  }
 },
 "nbformat": 4,
 "nbformat_minor": 5
}
