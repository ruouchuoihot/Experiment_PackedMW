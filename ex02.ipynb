{
 "cells": [
  {
   "cell_type": "code",
   "execution_count": 1,
   "id": "2ed75669",
   "metadata": {
    "execution": {
     "iopub.execute_input": "2024-01-23T11:55:48.751847Z",
     "iopub.status.busy": "2024-01-23T11:55:48.751500Z",
     "iopub.status.idle": "2024-01-23T11:55:50.651177Z",
     "shell.execute_reply": "2024-01-23T11:55:50.650295Z"
    },
    "id": "O3whzefyIsQK",
    "papermill": {
     "duration": 1.911111,
     "end_time": "2024-01-23T11:55:50.653654",
     "exception": false,
     "start_time": "2024-01-23T11:55:48.742543",
     "status": "completed"
    },
    "tags": []
   },
   "outputs": [],
   "source": [
    "import pandas as pd\n",
    "import numpy as np\n",
    "import sklearn\n",
    "import sklearn.naive_bayes\n",
    "import sklearn.ensemble as ske\n",
    "import sklearn.neighbors\n",
    "import sklearn.pipeline\n",
    "import sklearn.linear_model\n",
    "import joblib\n",
    "from sklearn import preprocessing\n",
    "from sklearn import tree, linear_model\n",
    "from sklearn.metrics import confusion_matrix\n",
    "from sklearn.metrics import classification_report\n",
    "from sklearn.feature_selection import SelectFromModel\n",
    "import sys\n",
    "import sqlite3\n",
    "import importlib"
   ]
  },
  {
   "cell_type": "code",
   "execution_count": 2,
   "id": "b240a107",
   "metadata": {
    "execution": {
     "iopub.execute_input": "2024-01-23T11:55:50.669768Z",
     "iopub.status.busy": "2024-01-23T11:55:50.668744Z",
     "iopub.status.idle": "2024-01-23T11:56:16.154218Z",
     "shell.execute_reply": "2024-01-23T11:56:16.153368Z"
    },
    "id": "xMVPcA5m8yWH",
    "papermill": {
     "duration": 25.495986,
     "end_time": "2024-01-23T11:56:16.156644",
     "exception": false,
     "start_time": "2024-01-23T11:55:50.660658",
     "status": "completed"
    },
    "tags": []
   },
   "outputs": [],
   "source": [
    "df_wild = pd.read_pickle('/kaggle/input/wild-pickle/wild.pickle')"
   ]
  },
  {
   "cell_type": "code",
   "execution_count": 3,
   "id": "147f8181",
   "metadata": {
    "execution": {
     "iopub.execute_input": "2024-01-23T11:56:16.172225Z",
     "iopub.status.busy": "2024-01-23T11:56:16.171656Z",
     "iopub.status.idle": "2024-01-23T11:56:19.458241Z",
     "shell.execute_reply": "2024-01-23T11:56:19.456816Z"
    },
    "executionInfo": {
     "elapsed": 23793,
     "status": "ok",
     "timestamp": 1695103910503,
     "user": {
      "displayName": "Dương Nguyễn Thái",
      "userId": "12957457548527420432"
     },
     "user_tz": -420
    },
    "id": "ZhZZh9An9V76",
    "outputId": "afd23617-1ff9-4029-9040-a7193b6b828c",
    "papermill": {
     "duration": 3.297533,
     "end_time": "2024-01-23T11:56:19.461101",
     "exception": false,
     "start_time": "2024-01-23T11:56:16.163568",
     "status": "completed"
    },
    "tags": []
   },
   "outputs": [
    {
     "name": "stdout",
     "output_type": "stream",
     "text": [
      "considering samples with size less than 1000000 bytes, 50724 ----> 37354\n"
     ]
    }
   ],
   "source": [
    "MAX_LENGTH = int(1e6)\n",
    "prev_size = len(df_wild)\n",
    "df_wild = df_wild[df_wild['generic_fileSize'] <= MAX_LENGTH]\n",
    "print(\"considering samples with size less than {} bytes, {} ----> {}\".format(MAX_LENGTH, prev_size, len(df_wild)))"
   ]
  },
  {
   "cell_type": "code",
   "execution_count": 4,
   "id": "11bd5040",
   "metadata": {
    "execution": {
     "iopub.execute_input": "2024-01-23T11:56:19.476489Z",
     "iopub.status.busy": "2024-01-23T11:56:19.476102Z",
     "iopub.status.idle": "2024-01-23T11:56:19.511280Z",
     "shell.execute_reply": "2024-01-23T11:56:19.510107Z"
    },
    "executionInfo": {
     "elapsed": 7,
     "status": "ok",
     "timestamp": 1695103910503,
     "user": {
      "displayName": "Dương Nguyễn Thái",
      "userId": "12957457548527420432"
     },
     "user_tz": -420
    },
    "id": "ysVLGpvR9WpW",
    "outputId": "1d71bab6-a67b-48b7-b163-64b945373b13",
    "papermill": {
     "duration": 0.04546,
     "end_time": "2024-01-23T11:56:19.513464",
     "exception": false,
     "start_time": "2024-01-23T11:56:19.468004",
     "status": "completed"
    },
    "tags": []
   },
   "outputs": [
    {
     "data": {
      "text/html": [
       "<div>\n",
       "<style scoped>\n",
       "    .dataframe tbody tr th:only-of-type {\n",
       "        vertical-align: middle;\n",
       "    }\n",
       "\n",
       "    .dataframe tbody tr th {\n",
       "        vertical-align: top;\n",
       "    }\n",
       "\n",
       "    .dataframe thead th {\n",
       "        text-align: right;\n",
       "    }\n",
       "</style>\n",
       "<table border=\"1\" class=\"dataframe\">\n",
       "  <thead>\n",
       "    <tr style=\"text-align: right;\">\n",
       "      <th></th>\n",
       "      <th>sample_sha1</th>\n",
       "      <th>benign</th>\n",
       "      <th>malicious</th>\n",
       "      <th>packed</th>\n",
       "      <th>unpacked_sample_sha1</th>\n",
       "      <th>unpacked_sample_id</th>\n",
       "      <th>packer_name</th>\n",
       "      <th>imp_setupremovefilelogentrya</th>\n",
       "      <th>imp_vardeccmp</th>\n",
       "      <th>imp_setdlgitemint</th>\n",
       "      <th>...</th>\n",
       "      <th>opcode_xor sub mov</th>\n",
       "      <th>opcode_xor sub mov add</th>\n",
       "      <th>opcode_xor test</th>\n",
       "      <th>opcode_xor test je</th>\n",
       "      <th>opcode_xor xor</th>\n",
       "      <th>opcode_xor xor mov</th>\n",
       "      <th>opcode_xor xor pop</th>\n",
       "      <th>opcode_xor xor pop mov</th>\n",
       "      <th>opcode_xor xor xor</th>\n",
       "      <th>opcode_xor xor xor pop</th>\n",
       "    </tr>\n",
       "  </thead>\n",
       "  <tbody>\n",
       "    <tr>\n",
       "      <th>1</th>\n",
       "      <td>a2aac23e17be570c647fd22080e05b0e58449565</td>\n",
       "      <td>True</td>\n",
       "      <td>False</td>\n",
       "      <td>True</td>\n",
       "      <td>-1</td>\n",
       "      <td>-1</td>\n",
       "      <td>none</td>\n",
       "      <td>False</td>\n",
       "      <td>False</td>\n",
       "      <td>False</td>\n",
       "      <td>...</td>\n",
       "      <td>0.000022</td>\n",
       "      <td>0.0</td>\n",
       "      <td>0.000088</td>\n",
       "      <td>0.000084</td>\n",
       "      <td>0.000070</td>\n",
       "      <td>0.000066</td>\n",
       "      <td>0.000028</td>\n",
       "      <td>0.0</td>\n",
       "      <td>0.000053</td>\n",
       "      <td>0.0</td>\n",
       "    </tr>\n",
       "    <tr>\n",
       "      <th>2</th>\n",
       "      <td>c3aa534bbd20f3a3dd8e7a457f625291af9d0fe4</td>\n",
       "      <td>False</td>\n",
       "      <td>True</td>\n",
       "      <td>True</td>\n",
       "      <td>-1</td>\n",
       "      <td>-1</td>\n",
       "      <td>none</td>\n",
       "      <td>False</td>\n",
       "      <td>False</td>\n",
       "      <td>False</td>\n",
       "      <td>...</td>\n",
       "      <td>0.000000</td>\n",
       "      <td>0.0</td>\n",
       "      <td>0.000000</td>\n",
       "      <td>0.000000</td>\n",
       "      <td>0.000309</td>\n",
       "      <td>0.000000</td>\n",
       "      <td>0.000000</td>\n",
       "      <td>0.0</td>\n",
       "      <td>0.000331</td>\n",
       "      <td>0.0</td>\n",
       "    </tr>\n",
       "    <tr>\n",
       "      <th>10</th>\n",
       "      <td>15cb9eab6b0f0ccd718a9235f07046dff100789f</td>\n",
       "      <td>False</td>\n",
       "      <td>True</td>\n",
       "      <td>True</td>\n",
       "      <td>-1</td>\n",
       "      <td>-1</td>\n",
       "      <td>none</td>\n",
       "      <td>False</td>\n",
       "      <td>False</td>\n",
       "      <td>False</td>\n",
       "      <td>...</td>\n",
       "      <td>0.000000</td>\n",
       "      <td>0.0</td>\n",
       "      <td>0.000000</td>\n",
       "      <td>0.000000</td>\n",
       "      <td>0.000000</td>\n",
       "      <td>0.000000</td>\n",
       "      <td>0.000000</td>\n",
       "      <td>0.0</td>\n",
       "      <td>0.000000</td>\n",
       "      <td>0.0</td>\n",
       "    </tr>\n",
       "    <tr>\n",
       "      <th>12</th>\n",
       "      <td>8792cf08950abada1572b47948e86c9fce26c01a</td>\n",
       "      <td>True</td>\n",
       "      <td>False</td>\n",
       "      <td>True</td>\n",
       "      <td>-1</td>\n",
       "      <td>-1</td>\n",
       "      <td>none</td>\n",
       "      <td>False</td>\n",
       "      <td>False</td>\n",
       "      <td>False</td>\n",
       "      <td>...</td>\n",
       "      <td>0.000000</td>\n",
       "      <td>0.0</td>\n",
       "      <td>0.000000</td>\n",
       "      <td>0.000000</td>\n",
       "      <td>0.000000</td>\n",
       "      <td>0.000000</td>\n",
       "      <td>0.000000</td>\n",
       "      <td>0.0</td>\n",
       "      <td>0.000000</td>\n",
       "      <td>0.0</td>\n",
       "    </tr>\n",
       "    <tr>\n",
       "      <th>13</th>\n",
       "      <td>353a955ae9919f7b639d74394e3c1149f0189362</td>\n",
       "      <td>True</td>\n",
       "      <td>False</td>\n",
       "      <td>True</td>\n",
       "      <td>-1</td>\n",
       "      <td>-1</td>\n",
       "      <td>none</td>\n",
       "      <td>False</td>\n",
       "      <td>False</td>\n",
       "      <td>False</td>\n",
       "      <td>...</td>\n",
       "      <td>0.000000</td>\n",
       "      <td>0.0</td>\n",
       "      <td>0.000204</td>\n",
       "      <td>0.000190</td>\n",
       "      <td>0.000066</td>\n",
       "      <td>0.000091</td>\n",
       "      <td>0.000000</td>\n",
       "      <td>0.0</td>\n",
       "      <td>0.000000</td>\n",
       "      <td>0.0</td>\n",
       "    </tr>\n",
       "  </tbody>\n",
       "</table>\n",
       "<p>5 rows × 56555 columns</p>\n",
       "</div>"
      ],
      "text/plain": [
       "                                 sample_sha1  benign  malicious  packed  \\\n",
       "1   a2aac23e17be570c647fd22080e05b0e58449565    True      False    True   \n",
       "2   c3aa534bbd20f3a3dd8e7a457f625291af9d0fe4   False       True    True   \n",
       "10  15cb9eab6b0f0ccd718a9235f07046dff100789f   False       True    True   \n",
       "12  8792cf08950abada1572b47948e86c9fce26c01a    True      False    True   \n",
       "13  353a955ae9919f7b639d74394e3c1149f0189362    True      False    True   \n",
       "\n",
       "   unpacked_sample_sha1  unpacked_sample_id packer_name  \\\n",
       "1                    -1                  -1        none   \n",
       "2                    -1                  -1        none   \n",
       "10                   -1                  -1        none   \n",
       "12                   -1                  -1        none   \n",
       "13                   -1                  -1        none   \n",
       "\n",
       "    imp_setupremovefilelogentrya  imp_vardeccmp  imp_setdlgitemint  ...  \\\n",
       "1                          False          False              False  ...   \n",
       "2                          False          False              False  ...   \n",
       "10                         False          False              False  ...   \n",
       "12                         False          False              False  ...   \n",
       "13                         False          False              False  ...   \n",
       "\n",
       "    opcode_xor sub mov  opcode_xor sub mov add  opcode_xor test  \\\n",
       "1             0.000022                     0.0         0.000088   \n",
       "2             0.000000                     0.0         0.000000   \n",
       "10            0.000000                     0.0         0.000000   \n",
       "12            0.000000                     0.0         0.000000   \n",
       "13            0.000000                     0.0         0.000204   \n",
       "\n",
       "    opcode_xor test je  opcode_xor xor  opcode_xor xor mov  \\\n",
       "1             0.000084        0.000070            0.000066   \n",
       "2             0.000000        0.000309            0.000000   \n",
       "10            0.000000        0.000000            0.000000   \n",
       "12            0.000000        0.000000            0.000000   \n",
       "13            0.000190        0.000066            0.000091   \n",
       "\n",
       "    opcode_xor xor pop  opcode_xor xor pop mov  opcode_xor xor xor  \\\n",
       "1             0.000028                     0.0            0.000053   \n",
       "2             0.000000                     0.0            0.000331   \n",
       "10            0.000000                     0.0            0.000000   \n",
       "12            0.000000                     0.0            0.000000   \n",
       "13            0.000000                     0.0            0.000000   \n",
       "\n",
       "    opcode_xor xor xor pop  \n",
       "1                      0.0  \n",
       "2                      0.0  \n",
       "10                     0.0  \n",
       "12                     0.0  \n",
       "13                     0.0  \n",
       "\n",
       "[5 rows x 56555 columns]"
      ]
     },
     "execution_count": 4,
     "metadata": {},
     "output_type": "execute_result"
    }
   ],
   "source": [
    "df_wild.head()"
   ]
  },
  {
   "cell_type": "code",
   "execution_count": 5,
   "id": "6ce280a4",
   "metadata": {
    "execution": {
     "iopub.execute_input": "2024-01-23T11:56:19.529588Z",
     "iopub.status.busy": "2024-01-23T11:56:19.529257Z",
     "iopub.status.idle": "2024-01-23T11:56:19.533898Z",
     "shell.execute_reply": "2024-01-23T11:56:19.532955Z"
    },
    "executionInfo": {
     "elapsed": 6,
     "status": "ok",
     "timestamp": 1695103910504,
     "user": {
      "displayName": "Dương Nguyễn Thái",
      "userId": "12957457548527420432"
     },
     "user_tz": -420
    },
    "id": "cerLhC4k-H6O",
    "outputId": "52503cd6-17a5-4bba-a62c-c8a956f9f477",
    "papermill": {
     "duration": 0.015359,
     "end_time": "2024-01-23T11:56:19.536209",
     "exception": false,
     "start_time": "2024-01-23T11:56:19.520850",
     "status": "completed"
    },
    "tags": []
   },
   "outputs": [
    {
     "name": "stdout",
     "output_type": "stream",
     "text": [
      "(37354, 56555)\n"
     ]
    }
   ],
   "source": [
    "print(df_wild.shape)"
   ]
  },
  {
   "cell_type": "code",
   "execution_count": 6,
   "id": "a4bd95cb",
   "metadata": {
    "execution": {
     "iopub.execute_input": "2024-01-23T11:56:19.552261Z",
     "iopub.status.busy": "2024-01-23T11:56:19.551890Z",
     "iopub.status.idle": "2024-01-23T11:56:21.082086Z",
     "shell.execute_reply": "2024-01-23T11:56:21.080996Z"
    },
    "id": "63RiPtr86NCL",
    "papermill": {
     "duration": 1.541345,
     "end_time": "2024-01-23T11:56:21.084761",
     "exception": false,
     "start_time": "2024-01-23T11:56:19.543416",
     "status": "completed"
    },
    "tags": []
   },
   "outputs": [],
   "source": [
    "df = df_wild.sample(n=12000, random_state=102)"
   ]
  },
  {
   "cell_type": "code",
   "execution_count": 7,
   "id": "b4135597",
   "metadata": {
    "execution": {
     "iopub.execute_input": "2024-01-23T11:56:21.101713Z",
     "iopub.status.busy": "2024-01-23T11:56:21.101356Z",
     "iopub.status.idle": "2024-01-23T11:56:22.064664Z",
     "shell.execute_reply": "2024-01-23T11:56:22.063762Z"
    },
    "id": "vb6jRu3iPa_n",
    "papermill": {
     "duration": 0.974868,
     "end_time": "2024-01-23T11:56:22.067328",
     "exception": false,
     "start_time": "2024-01-23T11:56:21.092460",
     "status": "completed"
    },
    "tags": []
   },
   "outputs": [],
   "source": [
    "# Loại bỏ các lables không cần thiết\n",
    "df = df.drop(['sample_sha1','unpacked_sample_sha1','unpacked_sample_id'], axis=1)\n",
    "df = df.drop(['benign_vt','malicious_vt'], axis=1)\n",
    "df = df.drop(['benign','packer_name','source','similarity','most_similar_sha1','unpacked_similarity'], axis=1)"
   ]
  },
  {
   "cell_type": "code",
   "execution_count": 8,
   "id": "b9439994",
   "metadata": {
    "execution": {
     "iopub.execute_input": "2024-01-23T11:56:22.084852Z",
     "iopub.status.busy": "2024-01-23T11:56:22.084121Z",
     "iopub.status.idle": "2024-01-23T11:56:25.336283Z",
     "shell.execute_reply": "2024-01-23T11:56:25.333648Z"
    },
    "papermill": {
     "duration": 3.267234,
     "end_time": "2024-01-23T11:56:25.342513",
     "exception": false,
     "start_time": "2024-01-23T11:56:22.075279",
     "status": "completed"
    },
    "tags": []
   },
   "outputs": [],
   "source": [
    "# Xử lý các cột có dạng object\n",
    "for col in df.columns:\n",
    "    dtype = df[col].dtype\n",
    "    if dtype == object:\n",
    "        le = preprocessing.LabelEncoder()\n",
    "        df[col] = le.fit_transform(df[col])"
   ]
  },
  {
   "cell_type": "code",
   "execution_count": 9,
   "id": "3d08a42c",
   "metadata": {
    "execution": {
     "iopub.execute_input": "2024-01-23T11:56:25.378089Z",
     "iopub.status.busy": "2024-01-23T11:56:25.377688Z",
     "iopub.status.idle": "2024-01-23T11:56:25.771421Z",
     "shell.execute_reply": "2024-01-23T11:56:25.766759Z"
    },
    "id": "n7HOebRIBTgZ",
    "papermill": {
     "duration": 0.417871,
     "end_time": "2024-01-23T11:56:25.783717",
     "exception": false,
     "start_time": "2024-01-23T11:56:25.365846",
     "status": "completed"
    },
    "tags": []
   },
   "outputs": [],
   "source": [
    "string_columns = df.select_dtypes(include=['object']).columns\n",
    "df = df.drop(string_columns, axis=1)"
   ]
  },
  {
   "cell_type": "code",
   "execution_count": 10,
   "id": "31102651",
   "metadata": {
    "execution": {
     "iopub.execute_input": "2024-01-23T11:56:25.847546Z",
     "iopub.status.busy": "2024-01-23T11:56:25.846078Z",
     "iopub.status.idle": "2024-01-23T11:56:25.913780Z",
     "shell.execute_reply": "2024-01-23T11:56:25.911843Z"
    },
    "executionInfo": {
     "elapsed": 6,
     "status": "ok",
     "timestamp": 1695103920943,
     "user": {
      "displayName": "Dương Nguyễn Thái",
      "userId": "12957457548527420432"
     },
     "user_tz": -420
    },
    "id": "WVRLosoovIXc",
    "outputId": "5a7b6662-01fb-42ce-dc85-2d3a08f27a75",
    "papermill": {
     "duration": 0.10938,
     "end_time": "2024-01-23T11:56:25.918969",
     "exception": false,
     "start_time": "2024-01-23T11:56:25.809589",
     "status": "completed"
    },
    "tags": []
   },
   "outputs": [
    {
     "data": {
      "text/html": [
       "<div>\n",
       "<style scoped>\n",
       "    .dataframe tbody tr th:only-of-type {\n",
       "        vertical-align: middle;\n",
       "    }\n",
       "\n",
       "    .dataframe tbody tr th {\n",
       "        vertical-align: top;\n",
       "    }\n",
       "\n",
       "    .dataframe thead th {\n",
       "        text-align: right;\n",
       "    }\n",
       "</style>\n",
       "<table border=\"1\" class=\"dataframe\">\n",
       "  <thead>\n",
       "    <tr style=\"text-align: right;\">\n",
       "      <th></th>\n",
       "      <th>malicious</th>\n",
       "      <th>packed</th>\n",
       "      <th>imp_setupremovefilelogentrya</th>\n",
       "      <th>imp_vardeccmp</th>\n",
       "      <th>imp_setdlgitemint</th>\n",
       "      <th>imp_?append@?$basic_string@du?$char_traits@d@std@@v?$allocator@d@2@@std@@qaeaav12@abv12@ii@z</th>\n",
       "      <th>imp_zwwritefile</th>\n",
       "      <th>imp_glstencilop</th>\n",
       "      <th>imp_comparelinkinforeferents</th>\n",
       "      <th>imp__setmbcp</th>\n",
       "      <th>...</th>\n",
       "      <th>opcode_xor sub mov</th>\n",
       "      <th>opcode_xor sub mov add</th>\n",
       "      <th>opcode_xor test</th>\n",
       "      <th>opcode_xor test je</th>\n",
       "      <th>opcode_xor xor</th>\n",
       "      <th>opcode_xor xor mov</th>\n",
       "      <th>opcode_xor xor pop</th>\n",
       "      <th>opcode_xor xor pop mov</th>\n",
       "      <th>opcode_xor xor xor</th>\n",
       "      <th>opcode_xor xor xor pop</th>\n",
       "    </tr>\n",
       "  </thead>\n",
       "  <tbody>\n",
       "    <tr>\n",
       "      <th>32148</th>\n",
       "      <td>False</td>\n",
       "      <td>True</td>\n",
       "      <td>False</td>\n",
       "      <td>False</td>\n",
       "      <td>False</td>\n",
       "      <td>False</td>\n",
       "      <td>False</td>\n",
       "      <td>False</td>\n",
       "      <td>False</td>\n",
       "      <td>False</td>\n",
       "      <td>...</td>\n",
       "      <td>0.0</td>\n",
       "      <td>0.0</td>\n",
       "      <td>0.000187</td>\n",
       "      <td>0.000198</td>\n",
       "      <td>0.0</td>\n",
       "      <td>0.0</td>\n",
       "      <td>0.0</td>\n",
       "      <td>0.0</td>\n",
       "      <td>0.0</td>\n",
       "      <td>0.0</td>\n",
       "    </tr>\n",
       "    <tr>\n",
       "      <th>210953</th>\n",
       "      <td>False</td>\n",
       "      <td>False</td>\n",
       "      <td>False</td>\n",
       "      <td>False</td>\n",
       "      <td>False</td>\n",
       "      <td>False</td>\n",
       "      <td>False</td>\n",
       "      <td>False</td>\n",
       "      <td>False</td>\n",
       "      <td>False</td>\n",
       "      <td>...</td>\n",
       "      <td>0.0</td>\n",
       "      <td>0.0</td>\n",
       "      <td>0.000000</td>\n",
       "      <td>0.000000</td>\n",
       "      <td>0.0</td>\n",
       "      <td>0.0</td>\n",
       "      <td>0.0</td>\n",
       "      <td>0.0</td>\n",
       "      <td>0.0</td>\n",
       "      <td>0.0</td>\n",
       "    </tr>\n",
       "    <tr>\n",
       "      <th>50313</th>\n",
       "      <td>False</td>\n",
       "      <td>True</td>\n",
       "      <td>False</td>\n",
       "      <td>False</td>\n",
       "      <td>False</td>\n",
       "      <td>False</td>\n",
       "      <td>False</td>\n",
       "      <td>False</td>\n",
       "      <td>False</td>\n",
       "      <td>False</td>\n",
       "      <td>...</td>\n",
       "      <td>0.0</td>\n",
       "      <td>0.0</td>\n",
       "      <td>0.000000</td>\n",
       "      <td>0.000000</td>\n",
       "      <td>0.0</td>\n",
       "      <td>0.0</td>\n",
       "      <td>0.0</td>\n",
       "      <td>0.0</td>\n",
       "      <td>0.0</td>\n",
       "      <td>0.0</td>\n",
       "    </tr>\n",
       "    <tr>\n",
       "      <th>200288</th>\n",
       "      <td>True</td>\n",
       "      <td>True</td>\n",
       "      <td>False</td>\n",
       "      <td>False</td>\n",
       "      <td>False</td>\n",
       "      <td>False</td>\n",
       "      <td>False</td>\n",
       "      <td>False</td>\n",
       "      <td>False</td>\n",
       "      <td>False</td>\n",
       "      <td>...</td>\n",
       "      <td>0.0</td>\n",
       "      <td>0.0</td>\n",
       "      <td>0.000000</td>\n",
       "      <td>0.000000</td>\n",
       "      <td>0.0</td>\n",
       "      <td>0.0</td>\n",
       "      <td>0.0</td>\n",
       "      <td>0.0</td>\n",
       "      <td>0.0</td>\n",
       "      <td>0.0</td>\n",
       "    </tr>\n",
       "    <tr>\n",
       "      <th>49579</th>\n",
       "      <td>True</td>\n",
       "      <td>True</td>\n",
       "      <td>False</td>\n",
       "      <td>False</td>\n",
       "      <td>False</td>\n",
       "      <td>False</td>\n",
       "      <td>False</td>\n",
       "      <td>False</td>\n",
       "      <td>False</td>\n",
       "      <td>False</td>\n",
       "      <td>...</td>\n",
       "      <td>0.0</td>\n",
       "      <td>0.0</td>\n",
       "      <td>0.000000</td>\n",
       "      <td>0.000000</td>\n",
       "      <td>0.0</td>\n",
       "      <td>0.0</td>\n",
       "      <td>0.0</td>\n",
       "      <td>0.0</td>\n",
       "      <td>0.0</td>\n",
       "      <td>0.0</td>\n",
       "    </tr>\n",
       "  </tbody>\n",
       "</table>\n",
       "<p>5 rows × 56544 columns</p>\n",
       "</div>"
      ],
      "text/plain": [
       "        malicious  packed  imp_setupremovefilelogentrya  imp_vardeccmp  \\\n",
       "32148       False    True                         False          False   \n",
       "210953      False   False                         False          False   \n",
       "50313       False    True                         False          False   \n",
       "200288       True    True                         False          False   \n",
       "49579        True    True                         False          False   \n",
       "\n",
       "        imp_setdlgitemint  \\\n",
       "32148               False   \n",
       "210953              False   \n",
       "50313               False   \n",
       "200288              False   \n",
       "49579               False   \n",
       "\n",
       "        imp_?append@?$basic_string@du?$char_traits@d@std@@v?$allocator@d@2@@std@@qaeaav12@abv12@ii@z  \\\n",
       "32148                                               False                                              \n",
       "210953                                              False                                              \n",
       "50313                                               False                                              \n",
       "200288                                              False                                              \n",
       "49579                                               False                                              \n",
       "\n",
       "        imp_zwwritefile  imp_glstencilop  imp_comparelinkinforeferents  \\\n",
       "32148             False            False                         False   \n",
       "210953            False            False                         False   \n",
       "50313             False            False                         False   \n",
       "200288            False            False                         False   \n",
       "49579             False            False                         False   \n",
       "\n",
       "        imp__setmbcp  ...  opcode_xor sub mov  opcode_xor sub mov add  \\\n",
       "32148          False  ...                 0.0                     0.0   \n",
       "210953         False  ...                 0.0                     0.0   \n",
       "50313          False  ...                 0.0                     0.0   \n",
       "200288         False  ...                 0.0                     0.0   \n",
       "49579          False  ...                 0.0                     0.0   \n",
       "\n",
       "        opcode_xor test  opcode_xor test je  opcode_xor xor  \\\n",
       "32148          0.000187            0.000198             0.0   \n",
       "210953         0.000000            0.000000             0.0   \n",
       "50313          0.000000            0.000000             0.0   \n",
       "200288         0.000000            0.000000             0.0   \n",
       "49579          0.000000            0.000000             0.0   \n",
       "\n",
       "        opcode_xor xor mov  opcode_xor xor pop  opcode_xor xor pop mov  \\\n",
       "32148                  0.0                 0.0                     0.0   \n",
       "210953                 0.0                 0.0                     0.0   \n",
       "50313                  0.0                 0.0                     0.0   \n",
       "200288                 0.0                 0.0                     0.0   \n",
       "49579                  0.0                 0.0                     0.0   \n",
       "\n",
       "        opcode_xor xor xor  opcode_xor xor xor pop  \n",
       "32148                  0.0                     0.0  \n",
       "210953                 0.0                     0.0  \n",
       "50313                  0.0                     0.0  \n",
       "200288                 0.0                     0.0  \n",
       "49579                  0.0                     0.0  \n",
       "\n",
       "[5 rows x 56544 columns]"
      ]
     },
     "execution_count": 10,
     "metadata": {},
     "output_type": "execute_result"
    }
   ],
   "source": [
    "df.head()"
   ]
  },
  {
   "cell_type": "code",
   "execution_count": 11,
   "id": "0e6c3004",
   "metadata": {
    "execution": {
     "iopub.execute_input": "2024-01-23T11:56:25.938062Z",
     "iopub.status.busy": "2024-01-23T11:56:25.937659Z",
     "iopub.status.idle": "2024-01-23T11:56:25.943157Z",
     "shell.execute_reply": "2024-01-23T11:56:25.942098Z"
    },
    "executionInfo": {
     "elapsed": 6,
     "status": "ok",
     "timestamp": 1695103920944,
     "user": {
      "displayName": "Dương Nguyễn Thái",
      "userId": "12957457548527420432"
     },
     "user_tz": -420
    },
    "id": "cBz42dV6GXOz",
    "outputId": "3d19f541-78c2-4964-beb5-6a85b0d43492",
    "papermill": {
     "duration": 0.01705,
     "end_time": "2024-01-23T11:56:25.945597",
     "exception": false,
     "start_time": "2024-01-23T11:56:25.928547",
     "status": "completed"
    },
    "tags": []
   },
   "outputs": [
    {
     "name": "stdout",
     "output_type": "stream",
     "text": [
      "(12000, 56544)\n"
     ]
    }
   ],
   "source": [
    "print(df.shape)"
   ]
  },
  {
   "cell_type": "code",
   "execution_count": 12,
   "id": "ccb0a161",
   "metadata": {
    "execution": {
     "iopub.execute_input": "2024-01-23T11:56:25.968188Z",
     "iopub.status.busy": "2024-01-23T11:56:25.967564Z",
     "iopub.status.idle": "2024-01-23T11:56:27.041082Z",
     "shell.execute_reply": "2024-01-23T11:56:27.040070Z"
    },
    "id": "m0a7e0EY-nU3",
    "papermill": {
     "duration": 1.089982,
     "end_time": "2024-01-23T11:56:27.043581",
     "exception": false,
     "start_time": "2024-01-23T11:56:25.953599",
     "status": "completed"
    },
    "tags": []
   },
   "outputs": [],
   "source": [
    "df_10000 = df.sample(n=10000, random_state=102)\n",
    "df_2000 = df.drop(df_10000.index)"
   ]
  },
  {
   "cell_type": "code",
   "execution_count": 13,
   "id": "3c4d1264",
   "metadata": {
    "execution": {
     "iopub.execute_input": "2024-01-23T11:56:27.061102Z",
     "iopub.status.busy": "2024-01-23T11:56:27.060674Z",
     "iopub.status.idle": "2024-01-23T11:56:27.573345Z",
     "shell.execute_reply": "2024-01-23T11:56:27.572317Z"
    },
    "id": "DKqQH0Qye0iw",
    "papermill": {
     "duration": 0.524126,
     "end_time": "2024-01-23T11:56:27.575690",
     "exception": false,
     "start_time": "2024-01-23T11:56:27.051564",
     "status": "completed"
    },
    "tags": []
   },
   "outputs": [],
   "source": [
    "data = df_10000.sample(n=5000, random_state=102)"
   ]
  },
  {
   "cell_type": "code",
   "execution_count": 14,
   "id": "d329c640",
   "metadata": {
    "execution": {
     "iopub.execute_input": "2024-01-23T11:56:27.593668Z",
     "iopub.status.busy": "2024-01-23T11:56:27.593284Z",
     "iopub.status.idle": "2024-01-23T11:56:28.075590Z",
     "shell.execute_reply": "2024-01-23T11:56:28.074460Z"
    },
    "executionInfo": {
     "elapsed": 6,
     "status": "ok",
     "timestamp": 1695103924830,
     "user": {
      "displayName": "Dương Nguyễn Thái",
      "userId": "12957457548527420432"
     },
     "user_tz": -420
    },
    "id": "t2wEC-3B24lj",
    "outputId": "0024c3f5-2769-42a2-b979-3c9e8f906371",
    "papermill": {
     "duration": 0.494758,
     "end_time": "2024-01-23T11:56:28.078642",
     "exception": false,
     "start_time": "2024-01-23T11:56:27.583884",
     "status": "completed"
    },
    "tags": []
   },
   "outputs": [
    {
     "name": "stdout",
     "output_type": "stream",
     "text": [
      "Unpacked Benign: 327 samples\n",
      "Packed Malware: 3807 samples\n",
      "Packed Benign: 866 samples\n",
      "Total TRAIN set: 5000 samples\n"
     ]
    }
   ],
   "source": [
    "#Kiểm tra số lượng mẫu\n",
    "UB = data[(data['malicious'] == False) & (data['packed'] == False)].shape[0]\n",
    "PM = data[(data['malicious'] == True) & (data['packed'] == True)].shape[0]\n",
    "PB = data[(data['malicious'] == False) & (data['packed'] == True)].shape[0]\n",
    "print('Unpacked Benign: %i samples' % UB)\n",
    "print('Packed Malware: %i samples' % PM)\n",
    "print('Packed Benign: %i samples' % PB)\n",
    "print('Total TRAIN set: %i samples'% (UB+PM+PB))"
   ]
  },
  {
   "cell_type": "code",
   "execution_count": 15,
   "id": "45825a02",
   "metadata": {
    "execution": {
     "iopub.execute_input": "2024-01-23T11:56:28.098396Z",
     "iopub.status.busy": "2024-01-23T11:56:28.097961Z",
     "iopub.status.idle": "2024-01-23T11:56:28.949631Z",
     "shell.execute_reply": "2024-01-23T11:56:28.948562Z"
    },
    "id": "XDR4Plv4Zh8y",
    "papermill": {
     "duration": 0.864612,
     "end_time": "2024-01-23T11:56:28.952344",
     "exception": false,
     "start_time": "2024-01-23T11:56:28.087732",
     "status": "completed"
    },
    "tags": []
   },
   "outputs": [],
   "source": [
    "#Chia tỉ lệ 50 - 50\n",
    "data_PM = data[(data['malicious'] == True) & (data['packed'] == True)].sample(n=(PM-(UB+PB)), random_state=102)\n",
    "data = data.drop(data_PM.index)"
   ]
  },
  {
   "cell_type": "code",
   "execution_count": 16,
   "id": "a71edc2f",
   "metadata": {
    "execution": {
     "iopub.execute_input": "2024-01-23T11:56:28.972507Z",
     "iopub.status.busy": "2024-01-23T11:56:28.971807Z",
     "iopub.status.idle": "2024-01-23T11:56:29.182696Z",
     "shell.execute_reply": "2024-01-23T11:56:29.181570Z"
    },
    "executionInfo": {
     "elapsed": 5,
     "status": "ok",
     "timestamp": 1695103924831,
     "user": {
      "displayName": "Dương Nguyễn Thái",
      "userId": "12957457548527420432"
     },
     "user_tz": -420
    },
    "id": "KRZ5TBOvaMt3",
    "outputId": "c396a656-236f-4e37-90d1-3dd70d376db0",
    "papermill": {
     "duration": 0.223704,
     "end_time": "2024-01-23T11:56:29.185167",
     "exception": false,
     "start_time": "2024-01-23T11:56:28.961463",
     "status": "completed"
    },
    "tags": []
   },
   "outputs": [
    {
     "name": "stdout",
     "output_type": "stream",
     "text": [
      "Unpacked Benign: 327 samples\n",
      "Packed Malware: 1193 samples\n",
      "Packed Benign: 866 samples\n",
      "Total TRAIN set: 2386 samples\n"
     ]
    }
   ],
   "source": [
    "#Số lượng tập train\n",
    "UB = data[(data['malicious'] == False) & (data['packed'] == False)].shape[0]\n",
    "PM = data[(data['malicious'] == True) & (data['packed'] == True)].shape[0]\n",
    "PB = data[(data['malicious'] == False) & (data['packed'] == True)].shape[0]\n",
    "print('Unpacked Benign: %i samples' % UB)\n",
    "print('Packed Malware: %i samples' % PM)\n",
    "print('Packed Benign: %i samples' % PB)\n",
    "print('Total TRAIN set: %i samples'% (UB+PM+PB))"
   ]
  },
  {
   "cell_type": "code",
   "execution_count": 17,
   "id": "148ed6d2",
   "metadata": {
    "execution": {
     "iopub.execute_input": "2024-01-23T11:56:29.204946Z",
     "iopub.status.busy": "2024-01-23T11:56:29.203773Z",
     "iopub.status.idle": "2024-01-23T11:56:29.295930Z",
     "shell.execute_reply": "2024-01-23T11:56:29.294600Z"
    },
    "id": "Vc597I_enmAD",
    "papermill": {
     "duration": 0.104472,
     "end_time": "2024-01-23T11:56:29.298706",
     "exception": false,
     "start_time": "2024-01-23T11:56:29.194234",
     "status": "completed"
    },
    "tags": []
   },
   "outputs": [],
   "source": [
    "#Xử lý tập train\n",
    "y = data['malicious'].values\n",
    "data = data.drop(['malicious','packed'], axis=1)"
   ]
  },
  {
   "cell_type": "code",
   "execution_count": 18,
   "id": "a9a822e2",
   "metadata": {
    "execution": {
     "iopub.execute_input": "2024-01-23T11:56:29.319698Z",
     "iopub.status.busy": "2024-01-23T11:56:29.318591Z",
     "iopub.status.idle": "2024-01-23T11:56:29.948061Z",
     "shell.execute_reply": "2024-01-23T11:56:29.946880Z"
    },
    "executionInfo": {
     "elapsed": 540,
     "status": "ok",
     "timestamp": 1695103925367,
     "user": {
      "displayName": "Dương Nguyễn Thái",
      "userId": "12957457548527420432"
     },
     "user_tz": -420
    },
    "id": "KY77We2eocRo",
    "outputId": "22042d5b-d4da-434e-baf0-198cf92e9843",
    "papermill": {
     "duration": 0.642565,
     "end_time": "2024-01-23T11:56:29.950536",
     "exception": false,
     "start_time": "2024-01-23T11:56:29.307971",
     "status": "completed"
    },
    "tags": []
   },
   "outputs": [
    {
     "name": "stdout",
     "output_type": "stream",
     "text": [
      "Unpacked Benign: 142 samples\n",
      "Packed Malware: 501 samples\n",
      "Packed Benign: 359 samples\n",
      "Total TEST set: 1002 samples\n"
     ]
    }
   ],
   "source": [
    "UB = df_2000[(df_2000['malicious'] == False) & (df_2000['packed'] == False)].shape[0]\n",
    "PM = df_2000[(df_2000['malicious'] == True) & (df_2000['packed'] == True)].shape[0]\n",
    "PB = df_2000[(df_2000['malicious'] == False) & (df_2000['packed'] == True)].shape[0]\n",
    "\n",
    "df_2000_PM = df_2000[(df_2000['malicious'] == True) & (df_2000['packed'] == True)].sample(n=(PM-(UB+PB)), random_state=102)\n",
    "df_2000 = df_2000.drop(df_2000_PM.index)\n",
    "\n",
    "UB = df_2000[(df_2000['malicious'] == False) & (df_2000['packed'] == False)].shape[0]\n",
    "PM = df_2000[(df_2000['malicious'] == True) & (df_2000['packed'] == True)].shape[0]\n",
    "PB = df_2000[(df_2000['malicious'] == False) & (df_2000['packed'] == True)].shape[0]\n",
    "\n",
    "print('Unpacked Benign: %i samples' % UB)\n",
    "print('Packed Malware: %i samples' % PM)\n",
    "print('Packed Benign: %i samples' % PB)\n",
    "print('Total TEST set: %i samples'% (UB+PM+PB))"
   ]
  },
  {
   "cell_type": "code",
   "execution_count": 19,
   "id": "ef20beb3",
   "metadata": {
    "execution": {
     "iopub.execute_input": "2024-01-23T11:56:29.969223Z",
     "iopub.status.busy": "2024-01-23T11:56:29.968450Z",
     "iopub.status.idle": "2024-01-23T11:56:35.616017Z",
     "shell.execute_reply": "2024-01-23T11:56:35.613661Z"
    },
    "executionInfo": {
     "elapsed": 9714,
     "status": "ok",
     "timestamp": 1695103935078,
     "user": {
      "displayName": "Dương Nguyễn Thái",
      "userId": "12957457548527420432"
     },
     "user_tz": -420
    },
    "id": "HmFAgfpbI0ge",
    "outputId": "a8a27dbc-c9b5-4dcd-8c95-199facb9b3b3",
    "papermill": {
     "duration": 5.662988,
     "end_time": "2024-01-23T11:56:35.621755",
     "exception": false,
     "start_time": "2024-01-23T11:56:29.958767",
     "status": "completed"
    },
    "tags": []
   },
   "outputs": [
    {
     "name": "stdout",
     "output_type": "stream",
     "text": [
      "Researching important feature based on 56542 total features\n"
     ]
    }
   ],
   "source": [
    "print('Researching important feature based on %i total features' % data.shape[1])\n",
    "fsel = ske.ExtraTreesClassifier().fit(data, y)"
   ]
  },
  {
   "cell_type": "code",
   "execution_count": 20,
   "id": "5385402e",
   "metadata": {
    "execution": {
     "iopub.execute_input": "2024-01-23T11:56:35.644767Z",
     "iopub.status.busy": "2024-01-23T11:56:35.643394Z",
     "iopub.status.idle": "2024-01-23T11:56:42.788137Z",
     "shell.execute_reply": "2024-01-23T11:56:42.786949Z"
    },
    "executionInfo": {
     "elapsed": 9641,
     "status": "ok",
     "timestamp": 1695103944709,
     "user": {
      "displayName": "Dương Nguyễn Thái",
      "userId": "12957457548527420432"
     },
     "user_tz": -420
    },
    "id": "cxB-TwCp5b6b",
    "outputId": "8d6c999f-f70d-4215-982e-d69d9ab3d80e",
    "papermill": {
     "duration": 7.158585,
     "end_time": "2024-01-23T11:56:42.790775",
     "exception": false,
     "start_time": "2024-01-23T11:56:35.632190",
     "status": "completed"
    },
    "tags": []
   },
   "outputs": [
    {
     "name": "stderr",
     "output_type": "stream",
     "text": [
      "/opt/conda/lib/python3.10/site-packages/sklearn/base.py:432: UserWarning: X has feature names, but SelectFromModel was fitted without feature names\n",
      "  warnings.warn(\n",
      "/opt/conda/lib/python3.10/site-packages/sklearn/base.py:432: UserWarning: X has feature names, but SelectFromModel was fitted without feature names\n",
      "  warnings.warn(\n",
      "/opt/conda/lib/python3.10/site-packages/sklearn/base.py:432: UserWarning: X has feature names, but SelectFromModel was fitted without feature names\n",
      "  warnings.warn(\n"
     ]
    }
   ],
   "source": [
    "model = SelectFromModel(fsel, prefit=True)\n",
    "X = model.transform(data)\n",
    "\n",
    "X_train = model.transform(data)\n",
    "X_test = model.transform(df_2000.drop(['malicious','packed'], axis=1))\n",
    "y_train = y\n",
    "y_test = df_2000['malicious'].values"
   ]
  },
  {
   "cell_type": "code",
   "execution_count": 21,
   "id": "2da23ea1",
   "metadata": {
    "execution": {
     "iopub.execute_input": "2024-01-23T11:56:42.810338Z",
     "iopub.status.busy": "2024-01-23T11:56:42.809398Z",
     "iopub.status.idle": "2024-01-23T11:56:42.868919Z",
     "shell.execute_reply": "2024-01-23T11:56:42.867872Z"
    },
    "executionInfo": {
     "elapsed": 13,
     "status": "ok",
     "timestamp": 1695103944710,
     "user": {
      "displayName": "Dương Nguyễn Thái",
      "userId": "12957457548527420432"
     },
     "user_tz": -420
    },
    "id": "niChVka0I1Ng",
    "outputId": "945a61cd-4fdd-4548-f72d-856825cdd2f6",
    "papermill": {
     "duration": 0.07176,
     "end_time": "2024-01-23T11:56:42.871388",
     "exception": false,
     "start_time": "2024-01-23T11:56:42.799628",
     "status": "completed"
    },
    "tags": []
   },
   "outputs": [
    {
     "name": "stdout",
     "output_type": "stream",
     "text": [
      "5953 features identified as important:\n",
      "[41748 42056 41681 ... 54660 33104 54072]\n"
     ]
    }
   ],
   "source": [
    "nb_features = X_train.shape[1]\n",
    "features = []\n",
    "print('%i features identified as important:' % nb_features)\n",
    "\n",
    "indices = np.argsort(fsel.feature_importances_)[::-1][:nb_features]\n",
    "print(indices)"
   ]
  },
  {
   "cell_type": "code",
   "execution_count": 22,
   "id": "490db4d3",
   "metadata": {
    "execution": {
     "iopub.execute_input": "2024-01-23T11:56:42.890216Z",
     "iopub.status.busy": "2024-01-23T11:56:42.889480Z",
     "iopub.status.idle": "2024-01-23T11:56:42.957637Z",
     "shell.execute_reply": "2024-01-23T11:56:42.956598Z"
    },
    "id": "QEgnjlrlIyyj",
    "papermill": {
     "duration": 0.080138,
     "end_time": "2024-01-23T11:56:42.960009",
     "exception": false,
     "start_time": "2024-01-23T11:56:42.879871",
     "status": "completed"
    },
    "tags": []
   },
   "outputs": [],
   "source": [
    "for f in sorted(np.argsort(fsel.feature_importances_)[::-1][:nb_features]):\n",
    "    features.append(data.columns[f])"
   ]
  },
  {
   "cell_type": "code",
   "execution_count": 23,
   "id": "4992406f",
   "metadata": {
    "execution": {
     "iopub.execute_input": "2024-01-23T11:56:42.978759Z",
     "iopub.status.busy": "2024-01-23T11:56:42.978406Z",
     "iopub.status.idle": "2024-01-23T11:58:37.131465Z",
     "shell.execute_reply": "2024-01-23T11:58:37.130186Z"
    },
    "executionInfo": {
     "elapsed": 135544,
     "status": "ok",
     "timestamp": 1695104080243,
     "user": {
      "displayName": "Dương Nguyễn Thái",
      "userId": "12957457548527420432"
     },
     "user_tz": -420
    },
    "id": "vvzYyY9eI4vY",
    "outputId": "04481867-933e-4a3d-903b-b327100a8b2e",
    "papermill": {
     "duration": 114.165391,
     "end_time": "2024-01-23T11:58:37.134117",
     "exception": false,
     "start_time": "2024-01-23T11:56:42.968726",
     "status": "completed"
    },
    "tags": []
   },
   "outputs": [
    {
     "name": "stdout",
     "output_type": "stream",
     "text": [
      "Now testing algorithms\n",
      "DecisionTree : 91.516966 %\n",
      "True positive : 464 \n",
      "True negative : 453 \n",
      "False positive : 48 \n",
      "False negative : 37 \n",
      "Classification Report:\n",
      "               precision    recall  f1-score   support\n",
      "\n",
      "       False       0.92      0.90      0.91       501\n",
      "        True       0.91      0.93      0.92       501\n",
      "\n",
      "    accuracy                           0.92      1002\n",
      "   macro avg       0.92      0.92      0.92      1002\n",
      "weighted avg       0.92      0.92      0.92      1002\n",
      "\n",
      "\n",
      "\n",
      "RandomForest : 94.111776 %\n",
      "True positive : 472 \n",
      "True negative : 471 \n",
      "False positive : 30 \n",
      "False negative : 29 \n",
      "Classification Report:\n",
      "               precision    recall  f1-score   support\n",
      "\n",
      "       False       0.94      0.94      0.94       501\n",
      "        True       0.94      0.94      0.94       501\n",
      "\n",
      "    accuracy                           0.94      1002\n",
      "   macro avg       0.94      0.94      0.94      1002\n",
      "weighted avg       0.94      0.94      0.94      1002\n",
      "\n",
      "\n",
      "\n",
      "GradientBoosting : 94.011976 %\n",
      "True positive : 467 \n",
      "True negative : 475 \n",
      "False positive : 26 \n",
      "False negative : 34 \n",
      "Classification Report:\n",
      "               precision    recall  f1-score   support\n",
      "\n",
      "       False       0.93      0.95      0.94       501\n",
      "        True       0.95      0.93      0.94       501\n",
      "\n",
      "    accuracy                           0.94      1002\n",
      "   macro avg       0.94      0.94      0.94      1002\n",
      "weighted avg       0.94      0.94      0.94      1002\n",
      "\n",
      "\n",
      "\n",
      "AdaBoost : 93.912176 %\n",
      "True positive : 476 \n",
      "True negative : 465 \n",
      "False positive : 36 \n",
      "False negative : 25 \n",
      "Classification Report:\n",
      "               precision    recall  f1-score   support\n",
      "\n",
      "       False       0.95      0.93      0.94       501\n",
      "        True       0.93      0.95      0.94       501\n",
      "\n",
      "    accuracy                           0.94      1002\n",
      "   macro avg       0.94      0.94      0.94      1002\n",
      "weighted avg       0.94      0.94      0.94      1002\n",
      "\n",
      "\n",
      "\n"
     ]
    }
   ],
   "source": [
    "algorithms = {\n",
    "        \"DecisionTree\": tree.DecisionTreeClassifier(max_depth=20),\n",
    "        \"RandomForest\": ske.RandomForestClassifier(n_estimators=100),\n",
    "        \"GradientBoosting\": ske.GradientBoostingClassifier(n_estimators=100),\n",
    "        \"AdaBoost\": ske.AdaBoostClassifier(n_estimators=200)\n",
    "    }\n",
    "\n",
    "results = {}\n",
    "print(\"Now testing algorithms\")\n",
    "for algo in algorithms:\n",
    "    clf = algorithms[algo]\n",
    "    clf.fit(X_train, y_train)\n",
    "    score = clf.score(X_test, y_test)\n",
    "    print(\"%s : %f %%\" % (algo, score*100))\n",
    "    results[algo] = score\n",
    "    res = clf.predict(X_test)\n",
    "    mt = confusion_matrix(y_test, res)\n",
    "    report = classification_report(y_test, res)\n",
    "    print(\"True positive : %i \" % (mt[1][1]))\n",
    "    print(\"True negative : %i \" % (mt[0][0]))\n",
    "    print(\"False positive : %i \" % (mt[0][1]))\n",
    "    print(\"False negative : %i \" % (mt[1][0]))\n",
    "    print(\"Classification Report:\\n\", report)\n",
    "    print(\"\\n\")"
   ]
  },
  {
   "cell_type": "code",
   "execution_count": 24,
   "id": "39f41d7a",
   "metadata": {
    "execution": {
     "iopub.execute_input": "2024-01-23T11:58:37.155155Z",
     "iopub.status.busy": "2024-01-23T11:58:37.154707Z",
     "iopub.status.idle": "2024-01-23T11:58:37.161346Z",
     "shell.execute_reply": "2024-01-23T11:58:37.160103Z"
    },
    "executionInfo": {
     "elapsed": 47,
     "status": "ok",
     "timestamp": 1695104080244,
     "user": {
      "displayName": "Dương Nguyễn Thái",
      "userId": "12957457548527420432"
     },
     "user_tz": -420
    },
    "id": "je8QwcOFI7ed",
    "outputId": "398a177b-b88a-464d-e0ff-b7cf421676dd",
    "papermill": {
     "duration": 0.020075,
     "end_time": "2024-01-23T11:58:37.163609",
     "exception": false,
     "start_time": "2024-01-23T11:58:37.143534",
     "status": "completed"
    },
    "tags": []
   },
   "outputs": [
    {
     "name": "stdout",
     "output_type": "stream",
     "text": [
      "Algorithm with highest accuracy on train/test is RandomForest with a 94.111776 % success\n"
     ]
    }
   ],
   "source": [
    "winner = max(results, key=results.get)\n",
    "print('Algorithm with highest accuracy on train/test is %s with a %f %% success' % (winner, results[winner]*100))"
   ]
  }
 ],
 "metadata": {
  "colab": {
   "provenance": []
  },
  "kaggle": {
   "accelerator": "none",
   "dataSources": [
    {
     "datasetId": 4029702,
     "sourceId": 7009208,
     "sourceType": "datasetVersion"
    }
   ],
   "dockerImageVersionId": 30635,
   "isGpuEnabled": false,
   "isInternetEnabled": true,
   "language": "python",
   "sourceType": "notebook"
  },
  "kernelspec": {
   "display_name": "Python 3",
   "language": "python",
   "name": "python3"
  },
  "language_info": {
   "codemirror_mode": {
    "name": "ipython",
    "version": 3
   },
   "file_extension": ".py",
   "mimetype": "text/x-python",
   "name": "python",
   "nbconvert_exporter": "python",
   "pygments_lexer": "ipython3",
   "version": "3.10.12"
  },
  "papermill": {
   "default_parameters": {},
   "duration": 172.266199,
   "end_time": "2024-01-23T11:58:37.995731",
   "environment_variables": {},
   "exception": null,
   "input_path": "__notebook__.ipynb",
   "output_path": "__notebook__.ipynb",
   "parameters": {},
   "start_time": "2024-01-23T11:55:45.729532",
   "version": "2.4.0"
  }
 },
 "nbformat": 4,
 "nbformat_minor": 5
}
