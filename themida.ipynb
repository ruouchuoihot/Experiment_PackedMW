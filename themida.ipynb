{
 "cells": [
  {
   "cell_type": "code",
   "execution_count": 1,
   "id": "43611798",
   "metadata": {
    "execution": {
     "iopub.execute_input": "2024-01-23T12:07:54.651717Z",
     "iopub.status.busy": "2024-01-23T12:07:54.651304Z",
     "iopub.status.idle": "2024-01-23T12:07:57.295028Z",
     "shell.execute_reply": "2024-01-23T12:07:57.293862Z"
    },
    "papermill": {
     "duration": 2.664555,
     "end_time": "2024-01-23T12:07:57.297643",
     "exception": false,
     "start_time": "2024-01-23T12:07:54.633088",
     "status": "completed"
    },
    "tags": []
   },
   "outputs": [],
   "source": [
    "import pandas as pd\n",
    "import numpy as np\n",
    "import sklearn\n",
    "import sklearn.naive_bayes\n",
    "import sklearn.ensemble as ske\n",
    "import sklearn.neighbors\n",
    "import sklearn.pipeline\n",
    "import sklearn.linear_model\n",
    "import joblib\n",
    "from sklearn import preprocessing\n",
    "from sklearn import tree, linear_model\n",
    "from sklearn.metrics import confusion_matrix\n",
    "from sklearn.metrics import classification_report\n",
    "from sklearn.feature_selection import SelectFromModel\n",
    "import sys\n",
    "import sqlite3\n",
    "import importlib\n",
    "import matplotlib.pyplot as plt\n",
    "import seaborn as sn\n",
    "from sklearn import metrics"
   ]
  },
  {
   "cell_type": "code",
   "execution_count": 2,
   "id": "acf7c604",
   "metadata": {
    "execution": {
     "iopub.execute_input": "2024-01-23T12:07:57.330837Z",
     "iopub.status.busy": "2024-01-23T12:07:57.330296Z",
     "iopub.status.idle": "2024-01-23T12:08:01.559105Z",
     "shell.execute_reply": "2024-01-23T12:08:01.557934Z"
    },
    "papermill": {
     "duration": 4.248406,
     "end_time": "2024-01-23T12:08:01.561751",
     "exception": false,
     "start_time": "2024-01-23T12:07:57.313345",
     "status": "completed"
    },
    "tags": []
   },
   "outputs": [],
   "source": [
    "themida = pd.read_pickle('/kaggle/input/packer-balance-pickle/themida_balance.pickle')"
   ]
  },
  {
   "cell_type": "code",
   "execution_count": 3,
   "id": "8bbe8d5a",
   "metadata": {
    "execution": {
     "iopub.execute_input": "2024-01-23T12:08:01.595770Z",
     "iopub.status.busy": "2024-01-23T12:08:01.595087Z",
     "iopub.status.idle": "2024-01-23T12:08:02.534966Z",
     "shell.execute_reply": "2024-01-23T12:08:02.533996Z"
    },
    "papermill": {
     "duration": 0.96024,
     "end_time": "2024-01-23T12:08:02.537655",
     "exception": false,
     "start_time": "2024-01-23T12:08:01.577415",
     "status": "completed"
    },
    "tags": []
   },
   "outputs": [],
   "source": [
    "themida = themida.drop(['sample_sha1','benign','unpacked_sample_sha1','unpacked_sample_id'], axis=1)\n",
    "themida = themida.drop(['benign_vt','malicious_vt'], axis=1)"
   ]
  },
  {
   "cell_type": "code",
   "execution_count": 4,
   "id": "4f8e24ea",
   "metadata": {
    "execution": {
     "iopub.execute_input": "2024-01-23T12:08:02.571147Z",
     "iopub.status.busy": "2024-01-23T12:08:02.570108Z",
     "iopub.status.idle": "2024-01-23T12:08:02.899298Z",
     "shell.execute_reply": "2024-01-23T12:08:02.898215Z"
    },
    "papermill": {
     "duration": 0.348643,
     "end_time": "2024-01-23T12:08:02.901949",
     "exception": false,
     "start_time": "2024-01-23T12:08:02.553306",
     "status": "completed"
    },
    "tags": []
   },
   "outputs": [],
   "source": [
    "string_columns = themida.select_dtypes(include=['object']).columns\n",
    "themida = themida.drop(string_columns, axis=1)"
   ]
  },
  {
   "cell_type": "code",
   "execution_count": 5,
   "id": "80df5cac",
   "metadata": {
    "execution": {
     "iopub.execute_input": "2024-01-23T12:08:02.935580Z",
     "iopub.status.busy": "2024-01-23T12:08:02.935148Z",
     "iopub.status.idle": "2024-01-23T12:08:02.977219Z",
     "shell.execute_reply": "2024-01-23T12:08:02.976136Z"
    },
    "papermill": {
     "duration": 0.061469,
     "end_time": "2024-01-23T12:08:02.979560",
     "exception": false,
     "start_time": "2024-01-23T12:08:02.918091",
     "status": "completed"
    },
    "tags": []
   },
   "outputs": [
    {
     "data": {
      "text/html": [
       "<div>\n",
       "<style scoped>\n",
       "    .dataframe tbody tr th:only-of-type {\n",
       "        vertical-align: middle;\n",
       "    }\n",
       "\n",
       "    .dataframe tbody tr th {\n",
       "        vertical-align: top;\n",
       "    }\n",
       "\n",
       "    .dataframe thead th {\n",
       "        text-align: right;\n",
       "    }\n",
       "</style>\n",
       "<table border=\"1\" class=\"dataframe\">\n",
       "  <thead>\n",
       "    <tr style=\"text-align: right;\">\n",
       "      <th></th>\n",
       "      <th>malicious</th>\n",
       "      <th>packed</th>\n",
       "      <th>imp_setupremovefilelogentrya</th>\n",
       "      <th>imp_vardeccmp</th>\n",
       "      <th>imp_setdlgitemint</th>\n",
       "      <th>imp_?append@?$basic_string@du?$char_traits@d@std@@v?$allocator@d@2@@std@@qaeaav12@abv12@ii@z</th>\n",
       "      <th>imp_zwwritefile</th>\n",
       "      <th>imp_glstencilop</th>\n",
       "      <th>imp_comparelinkinforeferents</th>\n",
       "      <th>imp__setmbcp</th>\n",
       "      <th>...</th>\n",
       "      <th>opcode_xor sub mov</th>\n",
       "      <th>opcode_xor sub mov add</th>\n",
       "      <th>opcode_xor test</th>\n",
       "      <th>opcode_xor test je</th>\n",
       "      <th>opcode_xor xor</th>\n",
       "      <th>opcode_xor xor mov</th>\n",
       "      <th>opcode_xor xor pop</th>\n",
       "      <th>opcode_xor xor pop mov</th>\n",
       "      <th>opcode_xor xor xor</th>\n",
       "      <th>opcode_xor xor xor pop</th>\n",
       "    </tr>\n",
       "  </thead>\n",
       "  <tbody>\n",
       "    <tr>\n",
       "      <th>0</th>\n",
       "      <td>True</td>\n",
       "      <td>True</td>\n",
       "      <td>False</td>\n",
       "      <td>False</td>\n",
       "      <td>False</td>\n",
       "      <td>False</td>\n",
       "      <td>False</td>\n",
       "      <td>False</td>\n",
       "      <td>False</td>\n",
       "      <td>False</td>\n",
       "      <td>...</td>\n",
       "      <td>0.001402</td>\n",
       "      <td>0.001515</td>\n",
       "      <td>0.0</td>\n",
       "      <td>0.0</td>\n",
       "      <td>0.001377</td>\n",
       "      <td>0.000000</td>\n",
       "      <td>0.001793</td>\n",
       "      <td>0.000000</td>\n",
       "      <td>0.000990</td>\n",
       "      <td>0.001913</td>\n",
       "    </tr>\n",
       "    <tr>\n",
       "      <th>11</th>\n",
       "      <td>True</td>\n",
       "      <td>True</td>\n",
       "      <td>False</td>\n",
       "      <td>False</td>\n",
       "      <td>False</td>\n",
       "      <td>False</td>\n",
       "      <td>False</td>\n",
       "      <td>False</td>\n",
       "      <td>False</td>\n",
       "      <td>False</td>\n",
       "      <td>...</td>\n",
       "      <td>0.001331</td>\n",
       "      <td>0.001439</td>\n",
       "      <td>0.0</td>\n",
       "      <td>0.0</td>\n",
       "      <td>0.001307</td>\n",
       "      <td>0.000000</td>\n",
       "      <td>0.002882</td>\n",
       "      <td>0.000000</td>\n",
       "      <td>0.000000</td>\n",
       "      <td>0.000000</td>\n",
       "    </tr>\n",
       "    <tr>\n",
       "      <th>12</th>\n",
       "      <td>True</td>\n",
       "      <td>True</td>\n",
       "      <td>False</td>\n",
       "      <td>False</td>\n",
       "      <td>False</td>\n",
       "      <td>False</td>\n",
       "      <td>False</td>\n",
       "      <td>False</td>\n",
       "      <td>False</td>\n",
       "      <td>False</td>\n",
       "      <td>...</td>\n",
       "      <td>0.001426</td>\n",
       "      <td>0.001542</td>\n",
       "      <td>0.0</td>\n",
       "      <td>0.0</td>\n",
       "      <td>0.002309</td>\n",
       "      <td>0.001142</td>\n",
       "      <td>0.003828</td>\n",
       "      <td>0.002166</td>\n",
       "      <td>0.001706</td>\n",
       "      <td>0.003295</td>\n",
       "    </tr>\n",
       "    <tr>\n",
       "      <th>13</th>\n",
       "      <td>True</td>\n",
       "      <td>True</td>\n",
       "      <td>False</td>\n",
       "      <td>False</td>\n",
       "      <td>False</td>\n",
       "      <td>False</td>\n",
       "      <td>False</td>\n",
       "      <td>False</td>\n",
       "      <td>False</td>\n",
       "      <td>False</td>\n",
       "      <td>...</td>\n",
       "      <td>0.001484</td>\n",
       "      <td>0.001604</td>\n",
       "      <td>0.0</td>\n",
       "      <td>0.0</td>\n",
       "      <td>0.000000</td>\n",
       "      <td>0.000000</td>\n",
       "      <td>0.000000</td>\n",
       "      <td>0.000000</td>\n",
       "      <td>0.000000</td>\n",
       "      <td>0.000000</td>\n",
       "    </tr>\n",
       "    <tr>\n",
       "      <th>14</th>\n",
       "      <td>False</td>\n",
       "      <td>True</td>\n",
       "      <td>False</td>\n",
       "      <td>False</td>\n",
       "      <td>False</td>\n",
       "      <td>False</td>\n",
       "      <td>False</td>\n",
       "      <td>False</td>\n",
       "      <td>False</td>\n",
       "      <td>False</td>\n",
       "      <td>...</td>\n",
       "      <td>0.001513</td>\n",
       "      <td>0.001636</td>\n",
       "      <td>0.0</td>\n",
       "      <td>0.0</td>\n",
       "      <td>0.001486</td>\n",
       "      <td>0.000000</td>\n",
       "      <td>0.001936</td>\n",
       "      <td>0.002298</td>\n",
       "      <td>0.001069</td>\n",
       "      <td>0.002065</td>\n",
       "    </tr>\n",
       "  </tbody>\n",
       "</table>\n",
       "<p>5 rows × 56526 columns</p>\n",
       "</div>"
      ],
      "text/plain": [
       "    malicious  packed  imp_setupremovefilelogentrya  imp_vardeccmp  \\\n",
       "0        True    True                         False          False   \n",
       "11       True    True                         False          False   \n",
       "12       True    True                         False          False   \n",
       "13       True    True                         False          False   \n",
       "14      False    True                         False          False   \n",
       "\n",
       "    imp_setdlgitemint  \\\n",
       "0               False   \n",
       "11              False   \n",
       "12              False   \n",
       "13              False   \n",
       "14              False   \n",
       "\n",
       "    imp_?append@?$basic_string@du?$char_traits@d@std@@v?$allocator@d@2@@std@@qaeaav12@abv12@ii@z  \\\n",
       "0                                               False                                              \n",
       "11                                              False                                              \n",
       "12                                              False                                              \n",
       "13                                              False                                              \n",
       "14                                              False                                              \n",
       "\n",
       "    imp_zwwritefile  imp_glstencilop  imp_comparelinkinforeferents  \\\n",
       "0             False            False                         False   \n",
       "11            False            False                         False   \n",
       "12            False            False                         False   \n",
       "13            False            False                         False   \n",
       "14            False            False                         False   \n",
       "\n",
       "    imp__setmbcp  ...  opcode_xor sub mov  opcode_xor sub mov add  \\\n",
       "0          False  ...            0.001402                0.001515   \n",
       "11         False  ...            0.001331                0.001439   \n",
       "12         False  ...            0.001426                0.001542   \n",
       "13         False  ...            0.001484                0.001604   \n",
       "14         False  ...            0.001513                0.001636   \n",
       "\n",
       "    opcode_xor test  opcode_xor test je  opcode_xor xor  opcode_xor xor mov  \\\n",
       "0               0.0                 0.0        0.001377            0.000000   \n",
       "11              0.0                 0.0        0.001307            0.000000   \n",
       "12              0.0                 0.0        0.002309            0.001142   \n",
       "13              0.0                 0.0        0.000000            0.000000   \n",
       "14              0.0                 0.0        0.001486            0.000000   \n",
       "\n",
       "    opcode_xor xor pop  opcode_xor xor pop mov  opcode_xor xor xor  \\\n",
       "0             0.001793                0.000000            0.000990   \n",
       "11            0.002882                0.000000            0.000000   \n",
       "12            0.003828                0.002166            0.001706   \n",
       "13            0.000000                0.000000            0.000000   \n",
       "14            0.001936                0.002298            0.001069   \n",
       "\n",
       "    opcode_xor xor xor pop  \n",
       "0                 0.001913  \n",
       "11                0.000000  \n",
       "12                0.003295  \n",
       "13                0.000000  \n",
       "14                0.002065  \n",
       "\n",
       "[5 rows x 56526 columns]"
      ]
     },
     "execution_count": 5,
     "metadata": {},
     "output_type": "execute_result"
    }
   ],
   "source": [
    "themida.head()"
   ]
  },
  {
   "cell_type": "code",
   "execution_count": 6,
   "id": "7f16018b",
   "metadata": {
    "execution": {
     "iopub.execute_input": "2024-01-23T12:08:03.013558Z",
     "iopub.status.busy": "2024-01-23T12:08:03.013120Z",
     "iopub.status.idle": "2024-01-23T12:08:03.920335Z",
     "shell.execute_reply": "2024-01-23T12:08:03.919128Z"
    },
    "papermill": {
     "duration": 0.927047,
     "end_time": "2024-01-23T12:08:03.922822",
     "exception": false,
     "start_time": "2024-01-23T12:08:02.995775",
     "status": "completed"
    },
    "tags": []
   },
   "outputs": [],
   "source": [
    "df_7000 = themida.sample(n=7000, random_state=102)\n",
    "df_3000 = themida.drop(df_7000.index)"
   ]
  },
  {
   "cell_type": "code",
   "execution_count": 7,
   "id": "659bcf70",
   "metadata": {
    "execution": {
     "iopub.execute_input": "2024-01-23T12:08:03.956982Z",
     "iopub.status.busy": "2024-01-23T12:08:03.956581Z",
     "iopub.status.idle": "2024-01-23T12:08:04.384089Z",
     "shell.execute_reply": "2024-01-23T12:08:04.383011Z"
    },
    "papermill": {
     "duration": 0.447472,
     "end_time": "2024-01-23T12:08:04.386720",
     "exception": false,
     "start_time": "2024-01-23T12:08:03.939248",
     "status": "completed"
    },
    "tags": []
   },
   "outputs": [],
   "source": [
    "data = df_7000.sample(n=3500, random_state=102)"
   ]
  },
  {
   "cell_type": "code",
   "execution_count": 8,
   "id": "a8dcc8d9",
   "metadata": {
    "execution": {
     "iopub.execute_input": "2024-01-23T12:08:04.420248Z",
     "iopub.status.busy": "2024-01-23T12:08:04.419882Z",
     "iopub.status.idle": "2024-01-23T12:08:04.785793Z",
     "shell.execute_reply": "2024-01-23T12:08:04.784780Z"
    },
    "papermill": {
     "duration": 0.385496,
     "end_time": "2024-01-23T12:08:04.788204",
     "exception": false,
     "start_time": "2024-01-23T12:08:04.402708",
     "status": "completed"
    },
    "tags": []
   },
   "outputs": [
    {
     "name": "stdout",
     "output_type": "stream",
     "text": [
      "Packed Malware: 2241 samples\n",
      "Packed Benign: 1259 samples\n",
      "Total TRAIN set: 3500 samples\n"
     ]
    }
   ],
   "source": [
    "#Kiểm tra số lượng mẫu\n",
    "PM = data[(data['malicious'] == True) & (data['packed'] == True)].shape[0]\n",
    "PB = data[(data['malicious'] == False) & (data['packed'] == True)].shape[0]\n",
    "print('Packed Malware: %i samples' % PM)\n",
    "print('Packed Benign: %i samples' % PB)\n",
    "print('Total TRAIN set: %i samples'% (PM+PB))"
   ]
  },
  {
   "cell_type": "code",
   "execution_count": 9,
   "id": "17a0f943",
   "metadata": {
    "execution": {
     "iopub.execute_input": "2024-01-23T12:08:04.879646Z",
     "iopub.status.busy": "2024-01-23T12:08:04.879234Z",
     "iopub.status.idle": "2024-01-23T12:08:05.393593Z",
     "shell.execute_reply": "2024-01-23T12:08:05.392511Z"
    },
    "papermill": {
     "duration": 0.592268,
     "end_time": "2024-01-23T12:08:05.396580",
     "exception": false,
     "start_time": "2024-01-23T12:08:04.804312",
     "status": "completed"
    },
    "tags": []
   },
   "outputs": [],
   "source": [
    "#Chia tỉ lệ 50 - 50\n",
    "data_PM = data[(data['malicious'] == True) & (data['packed'] == True)].sample(n=(PM-PB), random_state=102)\n",
    "data = data.drop(data_PM.index)"
   ]
  },
  {
   "cell_type": "code",
   "execution_count": 10,
   "id": "c0ef18ba",
   "metadata": {
    "execution": {
     "iopub.execute_input": "2024-01-23T12:08:05.433034Z",
     "iopub.status.busy": "2024-01-23T12:08:05.432159Z",
     "iopub.status.idle": "2024-01-23T12:08:05.632985Z",
     "shell.execute_reply": "2024-01-23T12:08:05.631463Z"
    },
    "papermill": {
     "duration": 0.221912,
     "end_time": "2024-01-23T12:08:05.635500",
     "exception": false,
     "start_time": "2024-01-23T12:08:05.413588",
     "status": "completed"
    },
    "tags": []
   },
   "outputs": [
    {
     "name": "stdout",
     "output_type": "stream",
     "text": [
      "Packed Malware: 1259 samples\n",
      "Packed Benign: 1259 samples\n",
      "Total TRAIN set: 2518 samples\n"
     ]
    }
   ],
   "source": [
    "#Số lượng tập train\n",
    "PM = data[(data['malicious'] == True) & (data['packed'] == True)].shape[0]\n",
    "PB = data[(data['malicious'] == False) & (data['packed'] == True)].shape[0]\n",
    "print('Packed Malware: %i samples' % PM)\n",
    "print('Packed Benign: %i samples' % PB)\n",
    "print('Total TRAIN set: %i samples'% (PM+PB))"
   ]
  },
  {
   "cell_type": "code",
   "execution_count": 11,
   "id": "7a43a62f",
   "metadata": {
    "execution": {
     "iopub.execute_input": "2024-01-23T12:08:05.670540Z",
     "iopub.status.busy": "2024-01-23T12:08:05.669770Z",
     "iopub.status.idle": "2024-01-23T12:08:05.762844Z",
     "shell.execute_reply": "2024-01-23T12:08:05.761707Z"
    },
    "papermill": {
     "duration": 0.113558,
     "end_time": "2024-01-23T12:08:05.765551",
     "exception": false,
     "start_time": "2024-01-23T12:08:05.651993",
     "status": "completed"
    },
    "tags": []
   },
   "outputs": [],
   "source": [
    "#Xử lý tập train\n",
    "y = data['malicious'].values\n",
    "data = data.drop(['malicious','packed'], axis=1)"
   ]
  },
  {
   "cell_type": "code",
   "execution_count": 12,
   "id": "2082ce32",
   "metadata": {
    "execution": {
     "iopub.execute_input": "2024-01-23T12:08:05.801487Z",
     "iopub.status.busy": "2024-01-23T12:08:05.801072Z",
     "iopub.status.idle": "2024-01-23T12:08:06.617265Z",
     "shell.execute_reply": "2024-01-23T12:08:06.615799Z"
    },
    "papermill": {
     "duration": 0.837302,
     "end_time": "2024-01-23T12:08:06.620291",
     "exception": false,
     "start_time": "2024-01-23T12:08:05.782989",
     "status": "completed"
    },
    "tags": []
   },
   "outputs": [
    {
     "name": "stdout",
     "output_type": "stream",
     "text": [
      "Packed Malware: 1089 samples\n",
      "Packed Benign: 1089 samples\n",
      "Total TEST set: 2178 samples\n"
     ]
    }
   ],
   "source": [
    "PM = df_3000[(df_3000['malicious'] == True) & (df_3000['packed'] == True)].shape[0]\n",
    "PB = df_3000[(df_3000['malicious'] == False) & (df_3000['packed'] == True)].shape[0]\n",
    "\n",
    "df_3000_PM = df_3000[(df_3000['malicious'] == True) & (df_3000['packed'] == True)].sample(n=(PM-PB), random_state=102)\n",
    "df_3000 = df_3000.drop(df_3000_PM.index)\n",
    "\n",
    "PM = df_3000[(df_3000['malicious'] == True) & (df_3000['packed'] == True)].shape[0]\n",
    "PB = df_3000[(df_3000['malicious'] == False) & (df_3000['packed'] == True)].shape[0]\n",
    "\n",
    "print('Packed Malware: %i samples' % PM)\n",
    "print('Packed Benign: %i samples' % PB)\n",
    "print('Total TEST set: %i samples'% (PM+PB))"
   ]
  },
  {
   "cell_type": "code",
   "execution_count": 13,
   "id": "53dff476",
   "metadata": {
    "execution": {
     "iopub.execute_input": "2024-01-23T12:08:06.656814Z",
     "iopub.status.busy": "2024-01-23T12:08:06.656408Z",
     "iopub.status.idle": "2024-01-23T12:08:07.041344Z",
     "shell.execute_reply": "2024-01-23T12:08:07.040313Z"
    },
    "papermill": {
     "duration": 0.406376,
     "end_time": "2024-01-23T12:08:07.044272",
     "exception": false,
     "start_time": "2024-01-23T12:08:06.637896",
     "status": "completed"
    },
    "tags": []
   },
   "outputs": [],
   "source": [
    "# model = SelectFromModel(fsel, prefit=True)\n",
    "\n",
    "X_train = data\n",
    "X_test = df_3000.drop(['malicious','packed'], axis=1)\n",
    "\n",
    "data = data.loc[:, (data != 0).any(axis=0)]\n",
    "x_train = data\n",
    "X_test = df_3000.drop(['malicious','packed'], axis=1)\n",
    "y_train = y\n",
    "y_test = df_3000['malicious'].values"
   ]
  },
  {
   "cell_type": "code",
   "execution_count": 14,
   "id": "29565a14",
   "metadata": {
    "execution": {
     "iopub.execute_input": "2024-01-23T12:08:07.079553Z",
     "iopub.status.busy": "2024-01-23T12:08:07.078410Z",
     "iopub.status.idle": "2024-01-23T12:08:12.587174Z",
     "shell.execute_reply": "2024-01-23T12:08:12.586100Z"
    },
    "papermill": {
     "duration": 5.528761,
     "end_time": "2024-01-23T12:08:12.589544",
     "exception": false,
     "start_time": "2024-01-23T12:08:07.060783",
     "status": "completed"
    },
    "tags": []
   },
   "outputs": [
    {
     "name": "stdout",
     "output_type": "stream",
     "text": [
      "The accuracy of the Random Forests model is :\t 0.8953168044077136\n"
     ]
    }
   ],
   "source": [
    "# Random Forest\n",
    "from sklearn.ensemble import RandomForestClassifier\n",
    "from sklearn import metrics\n",
    "\n",
    "random_forest = RandomForestClassifier(n_estimators=100, random_state=17)\n",
    "random_forest.fit(X_train, y_train)\n",
    "random_forest_preds = random_forest.predict(X_test)\n",
    "print('The accuracy of the Random Forests model is :\\t',metrics.accuracy_score(random_forest_preds,y_test))"
   ]
  },
  {
   "cell_type": "code",
   "execution_count": 15,
   "id": "de0a7729",
   "metadata": {
    "execution": {
     "iopub.execute_input": "2024-01-23T12:08:12.624271Z",
     "iopub.status.busy": "2024-01-23T12:08:12.623883Z",
     "iopub.status.idle": "2024-01-23T12:08:12.644010Z",
     "shell.execute_reply": "2024-01-23T12:08:12.642837Z"
    },
    "papermill": {
     "duration": 0.040132,
     "end_time": "2024-01-23T12:08:12.646167",
     "exception": false,
     "start_time": "2024-01-23T12:08:12.606035",
     "status": "completed"
    },
    "tags": []
   },
   "outputs": [
    {
     "name": "stdout",
     "output_type": "stream",
     "text": [
      "True positive : 1027 \n",
      "True negative : 923 \n",
      "False positive : 166 \n",
      "False negative : 62 \n",
      "Classification Report:\n",
      "               precision    recall  f1-score   support\n",
      "\n",
      "       False       0.94      0.85      0.89      1089\n",
      "        True       0.86      0.94      0.90      1089\n",
      "\n",
      "    accuracy                           0.90      2178\n",
      "   macro avg       0.90      0.90      0.90      2178\n",
      "weighted avg       0.90      0.90      0.90      2178\n",
      "\n"
     ]
    }
   ],
   "source": [
    "mt = confusion_matrix(y_test, random_forest_preds)\n",
    "report = classification_report(y_test, random_forest_preds)\n",
    "print(\"True positive : %i \" % (mt[1][1]))\n",
    "print(\"True negative : %i \" % (mt[0][0]))\n",
    "print(\"False positive : %i \" % (mt[0][1]))\n",
    "print(\"False negative : %i \" % (mt[1][0]))\n",
    "print(\"Classification Report:\\n\", report)"
   ]
  },
  {
   "cell_type": "code",
   "execution_count": 16,
   "id": "dd8cbf04",
   "metadata": {
    "execution": {
     "iopub.execute_input": "2024-01-23T12:08:12.682260Z",
     "iopub.status.busy": "2024-01-23T12:08:12.681622Z",
     "iopub.status.idle": "2024-01-23T12:08:12.745517Z",
     "shell.execute_reply": "2024-01-23T12:08:12.744349Z"
    },
    "papermill": {
     "duration": 0.084449,
     "end_time": "2024-01-23T12:08:12.747706",
     "exception": false,
     "start_time": "2024-01-23T12:08:12.663257",
     "status": "completed"
    },
    "tags": []
   },
   "outputs": [
    {
     "data": {
      "text/plain": [
       "ngram_b'\\x03\\x01\\x00\\x01\\xa3\\x82'    0.016312\n",
       "ngram_b'\\x0c\\x06\\n+\\x06\\x01'         0.012331\n",
       "ngram_b'http:/'                      0.009091\n",
       "ngram_b'\\x01\\x05\\x00\\x04\\x82\\x01'    0.008413\n",
       "ngram_b'+\\x06\\x01\\x05\\x05\\x07'       0.008289\n",
       "                                       ...   \n",
       "imp_pyexc_overflowerror              0.000000\n",
       "imp_pydict_setitem                   0.000000\n",
       "imp_pyexc_attributeerror             0.000000\n",
       "imp__py_zerostruct                   0.000000\n",
       "string_b'6!7(7E7l7'                  0.000000\n",
       "Length: 56524, dtype: float64"
      ]
     },
     "execution_count": 16,
     "metadata": {},
     "output_type": "execute_result"
    }
   ],
   "source": [
    "feature_scores_rf = pd.Series(random_forest.feature_importances_, index=X_train.columns).sort_values(ascending=False)\n",
    "\n",
    "feature_scores_rf"
   ]
  },
  {
   "cell_type": "code",
   "execution_count": 17,
   "id": "d83d1a4e",
   "metadata": {
    "execution": {
     "iopub.execute_input": "2024-01-23T12:08:12.783584Z",
     "iopub.status.busy": "2024-01-23T12:08:12.782828Z",
     "iopub.status.idle": "2024-01-23T12:08:12.837440Z",
     "shell.execute_reply": "2024-01-23T12:08:12.836486Z"
    },
    "papermill": {
     "duration": 0.075235,
     "end_time": "2024-01-23T12:08:12.839944",
     "exception": false,
     "start_time": "2024-01-23T12:08:12.764709",
     "status": "completed"
    },
    "tags": []
   },
   "outputs": [],
   "source": [
    "top50 = pd.Series(random_forest.feature_importances_, index=X_train.columns).sort_values(ascending=False).head(50)"
   ]
  },
  {
   "cell_type": "code",
   "execution_count": 18,
   "id": "4883dd63",
   "metadata": {
    "execution": {
     "iopub.execute_input": "2024-01-23T12:08:12.876155Z",
     "iopub.status.busy": "2024-01-23T12:08:12.875402Z",
     "iopub.status.idle": "2024-01-23T12:08:12.891323Z",
     "shell.execute_reply": "2024-01-23T12:08:12.890352Z"
    },
    "papermill": {
     "duration": 0.036367,
     "end_time": "2024-01-23T12:08:12.893554",
     "exception": false,
     "start_time": "2024-01-23T12:08:12.857187",
     "status": "completed"
    },
    "tags": []
   },
   "outputs": [
    {
     "name": "stdout",
     "output_type": "stream",
     "text": [
      "'ngram': 50\n",
      "'opcode ngram': 0\n",
      "'generic': 0\n",
      "'strings': 0\n",
      "'rich header': 0\n",
      "'api import': 0\n",
      "'dll': 0\n",
      "'pe section': 0\n",
      "'pe header': 0\n"
     ]
    }
   ],
   "source": [
    "# Tạo DataFrame từ feature_scores_rf\n",
    "df_features = pd.DataFrame(top50, columns=['Score'])\n",
    "\n",
    "count_ngram = df_features[df_features.index.str.startswith('ngram_')].shape[0]\n",
    "count_opcode = df_features[df_features.index.str.startswith('opcode_')].shape[0]\n",
    "count_generic = df_features[df_features.index.str.startswith('generic_')].shape[0]\n",
    "count_string = df_features[df_features.index.str.startswith('string_')].shape[0]\n",
    "count_rich = df_features[df_features.index.str.startswith('rich_')].shape[0]\n",
    "# count_api = df_features[df_features.index.str.startswith('imp_') or 'api_import_nb' == c].shape[0]\n",
    "# count_dll = df_features[df_features.index.str.startswith('.dll') or 'dll_import_nb' == c].shape[0]\n",
    "count_api = df_features[df_features.index.str.startswith('imp_') | (df_features.index == 'api_import_nb')].shape[0]\n",
    "count_dll = df_features[df_features.index.str.endswith('.dll') | (df_features.index == 'dll_import_nb')].shape[0]\n",
    "count_section = df_features[df_features.index.str.startswith('pesection')].shape[0]\n",
    "count_header = df_features[df_features.index.str.startswith('header_')].shape[0]\n",
    "\n",
    "print(f\"'ngram': {count_ngram}\")\n",
    "print(f\"'opcode ngram': {count_opcode}\")\n",
    "print(f\"'generic': {count_generic}\")\n",
    "print(f\"'strings': {count_string}\")\n",
    "print(f\"'rich header': {count_rich}\")\n",
    "print(f\"'api import': {count_api}\")\n",
    "print(f\"'dll': {count_dll}\")\n",
    "print(f\"'pe section': {count_section}\")\n",
    "print(f\"'pe header': {count_header}\")"
   ]
  },
  {
   "cell_type": "code",
   "execution_count": 19,
   "id": "c6613ba5",
   "metadata": {
    "execution": {
     "iopub.execute_input": "2024-01-23T12:08:12.930058Z",
     "iopub.status.busy": "2024-01-23T12:08:12.929444Z",
     "iopub.status.idle": "2024-01-23T12:08:12.939484Z",
     "shell.execute_reply": "2024-01-23T12:08:12.938452Z"
    },
    "papermill": {
     "duration": 0.031256,
     "end_time": "2024-01-23T12:08:12.941609",
     "exception": false,
     "start_time": "2024-01-23T12:08:12.910353",
     "status": "completed"
    },
    "tags": []
   },
   "outputs": [],
   "source": [
    "cols = list(themida.columns)"
   ]
  },
  {
   "cell_type": "markdown",
   "id": "06d3199f",
   "metadata": {
    "papermill": {
     "duration": 0.01633,
     "end_time": "2024-01-23T12:08:12.974857",
     "exception": false,
     "start_time": "2024-01-23T12:08:12.958527",
     "status": "completed"
    },
    "tags": []
   },
   "source": [
    "# **ngram features**"
   ]
  },
  {
   "cell_type": "code",
   "execution_count": 20,
   "id": "eaba3873",
   "metadata": {
    "execution": {
     "iopub.execute_input": "2024-01-23T12:08:13.009635Z",
     "iopub.status.busy": "2024-01-23T12:08:13.009249Z",
     "iopub.status.idle": "2024-01-23T12:08:14.753632Z",
     "shell.execute_reply": "2024-01-23T12:08:14.752398Z"
    },
    "papermill": {
     "duration": 1.764798,
     "end_time": "2024-01-23T12:08:14.756424",
     "exception": false,
     "start_time": "2024-01-23T12:08:12.991626",
     "status": "completed"
    },
    "tags": []
   },
   "outputs": [],
   "source": [
    "themida = pd.read_pickle('/kaggle/input/packer-balance-pickle/themida_balance.pickle')\n",
    "themida = themida.drop(['sample_sha1','benign','unpacked_sample_sha1','unpacked_sample_id'], axis=1)\n",
    "themida = themida.drop(['benign_vt','malicious_vt'], axis=1)\n",
    "string_columns = themida.select_dtypes(include=['object']).columns\n",
    "themida = themida.drop(string_columns, axis=1)"
   ]
  },
  {
   "cell_type": "code",
   "execution_count": 21,
   "id": "602bfb32",
   "metadata": {
    "execution": {
     "iopub.execute_input": "2024-01-23T12:08:14.792715Z",
     "iopub.status.busy": "2024-01-23T12:08:14.792298Z",
     "iopub.status.idle": "2024-01-23T12:08:14.797764Z",
     "shell.execute_reply": "2024-01-23T12:08:14.796857Z"
    },
    "papermill": {
     "duration": 0.025733,
     "end_time": "2024-01-23T12:08:14.799832",
     "exception": false,
     "start_time": "2024-01-23T12:08:14.774099",
     "status": "completed"
    },
    "tags": []
   },
   "outputs": [],
   "source": [
    "def remove_cols(df, ll):\n",
    "    print(\"removing {} features\".format(len(ll)))\n",
    "    df.drop(columns=ll, axis=1, inplace=True)\n",
    "    return df"
   ]
  },
  {
   "cell_type": "code",
   "execution_count": 22,
   "id": "a9985220",
   "metadata": {
    "execution": {
     "iopub.execute_input": "2024-01-23T12:08:14.836138Z",
     "iopub.status.busy": "2024-01-23T12:08:14.835282Z",
     "iopub.status.idle": "2024-01-23T12:08:16.186283Z",
     "shell.execute_reply": "2024-01-23T12:08:16.185249Z"
    },
    "papermill": {
     "duration": 1.371577,
     "end_time": "2024-01-23T12:08:16.188462",
     "exception": false,
     "start_time": "2024-01-23T12:08:14.816885",
     "status": "completed"
    },
    "tags": []
   },
   "outputs": [
    {
     "name": "stdout",
     "output_type": "stream",
     "text": [
      "removing 2500 features\n",
      "removing 2 features\n",
      "removing 16900 features\n",
      "removing 66 features\n",
      "removing 19169 features\n",
      "removing 4306 features\n",
      "removing 550 features\n",
      "removing 29 features\n"
     ]
    }
   ],
   "source": [
    "# ngram = remove_cols(df, [c for c in cols if c.startswith('ngram_')])\n",
    "ngram = remove_cols(themida, [c for c in cols if c.startswith('opcode_')])\n",
    "ngram = remove_cols(themida, [c for c in cols if c.startswith('generic_')])\n",
    "ngram = remove_cols(themida, [c for c in cols if c.startswith('string_')])\n",
    "ngram = remove_cols(themida, [c for c in cols if c.startswith('rich_')])\n",
    "ngram = remove_cols(themida, [c for c in cols if c.startswith('imp_') or 'api_import_nb' == c])\n",
    "ngram = remove_cols(themida, [c for c in cols if c.endswith('.dll') or 'dll_import_nb' == c])\n",
    "ngram = remove_cols(themida, [c for c in cols if c.startswith('pesection')])\n",
    "ngram = remove_cols(themida, [c for c in cols if c.startswith('header_')])"
   ]
  },
  {
   "cell_type": "code",
   "execution_count": 23,
   "id": "3bd00f58",
   "metadata": {
    "execution": {
     "iopub.execute_input": "2024-01-23T12:08:16.224387Z",
     "iopub.status.busy": "2024-01-23T12:08:16.223982Z",
     "iopub.status.idle": "2024-01-23T12:08:16.486462Z",
     "shell.execute_reply": "2024-01-23T12:08:16.485580Z"
    },
    "papermill": {
     "duration": 0.283363,
     "end_time": "2024-01-23T12:08:16.488955",
     "exception": false,
     "start_time": "2024-01-23T12:08:16.205592",
     "status": "completed"
    },
    "tags": []
   },
   "outputs": [],
   "source": [
    "df_7000_ngram = ngram.sample(n=7000, random_state=102)\n",
    "df_3000_ngram = ngram.drop(df_7000.index)\n",
    "data_ngram = df_7000_ngram.sample(n=3500, random_state=102)"
   ]
  },
  {
   "cell_type": "code",
   "execution_count": 24,
   "id": "e631299b",
   "metadata": {
    "execution": {
     "iopub.execute_input": "2024-01-23T12:08:16.528051Z",
     "iopub.status.busy": "2024-01-23T12:08:16.527312Z",
     "iopub.status.idle": "2024-01-23T12:08:16.880288Z",
     "shell.execute_reply": "2024-01-23T12:08:16.879026Z"
    },
    "papermill": {
     "duration": 0.375437,
     "end_time": "2024-01-23T12:08:16.882499",
     "exception": false,
     "start_time": "2024-01-23T12:08:16.507062",
     "status": "completed"
    },
    "tags": []
   },
   "outputs": [
    {
     "name": "stdout",
     "output_type": "stream",
     "text": [
      "Packed Malware: 2241 samples\n",
      "Packed Benign: 1259 samples\n",
      "Total TRAIN set: 3500 samples\n",
      "Packed Malware: 1259 samples\n",
      "Packed Benign: 1259 samples\n",
      "Total TRAIN set: 2518 samples\n",
      "Packed Malware: 1089 samples\n",
      "Packed Benign: 1089 samples\n",
      "Total TEST set: 2178 samples\n"
     ]
    }
   ],
   "source": [
    "#Kiểm tra số lượng mẫu\n",
    "PM = data_ngram[(data_ngram['malicious'] == True) & (data_ngram['packed'] == True)].shape[0]\n",
    "PB = data_ngram[(data_ngram['malicious'] == False) & (data_ngram['packed'] == True)].shape[0]\n",
    "print('Packed Malware: %i samples' % PM)\n",
    "print('Packed Benign: %i samples' % PB)\n",
    "print('Total TRAIN set: %i samples'% (PM+PB))\n",
    "\n",
    "#Chia tỉ lệ 50 - 50\n",
    "data_PM_ngram = data_ngram[(data_ngram['malicious'] == True) & (data_ngram['packed'] == True)].sample(n=(PM-PB), random_state=102)\n",
    "data_ngram = data_ngram.drop(data_PM_ngram.index)\n",
    "\n",
    "#Số lượng tập train\n",
    "PM = data_ngram[(data_ngram['malicious'] == True) & (data_ngram['packed'] == True)].shape[0]\n",
    "PB = data_ngram[(data_ngram['malicious'] == False) & (data_ngram['packed'] == True)].shape[0]\n",
    "print('Packed Malware: %i samples' % PM)\n",
    "print('Packed Benign: %i samples' % PB)\n",
    "print('Total TRAIN set: %i samples'% (PM+PB))\n",
    "\n",
    "#Xử lý tập train\n",
    "y = data_ngram['malicious'].values\n",
    "data_ngram = data_ngram.drop(['malicious','packed'], axis=1)\n",
    "\n",
    "PM = df_3000_ngram[(df_3000_ngram['malicious'] == True) & (df_3000_ngram['packed'] == True)].shape[0]\n",
    "PB = df_3000_ngram[(df_3000_ngram['malicious'] == False) & (df_3000_ngram['packed'] == True)].shape[0]\n",
    "\n",
    "df_3000_PM_ngram = df_3000_ngram[(df_3000_ngram['malicious'] == True) & (df_3000_ngram['packed'] == True)].sample(n=(PM-PB), random_state=102)\n",
    "df_3000_ngram = df_3000_ngram.drop(df_3000_PM_ngram.index)\n",
    "\n",
    "PM = df_3000_ngram[(df_3000_ngram['malicious'] == True) & (df_3000_ngram['packed'] == True)].shape[0]\n",
    "PB = df_3000_ngram[(df_3000_ngram['malicious'] == False) & (df_3000_ngram['packed'] == True)].shape[0]\n",
    "\n",
    "print('Packed Malware: %i samples' % PM)\n",
    "print('Packed Benign: %i samples' % PB)\n",
    "print('Total TEST set: %i samples'% (PM+PB))"
   ]
  },
  {
   "cell_type": "code",
   "execution_count": 25,
   "id": "ace70199",
   "metadata": {
    "execution": {
     "iopub.execute_input": "2024-01-23T12:08:16.919065Z",
     "iopub.status.busy": "2024-01-23T12:08:16.918646Z",
     "iopub.status.idle": "2024-01-23T12:08:16.998492Z",
     "shell.execute_reply": "2024-01-23T12:08:16.997313Z"
    },
    "papermill": {
     "duration": 0.10142,
     "end_time": "2024-01-23T12:08:17.001336",
     "exception": false,
     "start_time": "2024-01-23T12:08:16.899916",
     "status": "completed"
    },
    "tags": []
   },
   "outputs": [],
   "source": [
    "# model = SelectFromModel(fsel, prefit=True)\n",
    "\n",
    "X_train_ngram = data_ngram\n",
    "X_test_ngram = df_3000_ngram.drop(['malicious','packed'], axis=1)\n",
    "\n",
    "data_ngram = data_ngram.loc[:, (data_ngram != 0).any(axis=0)]\n",
    "x_train_ngram = data_ngram\n",
    "X_test_ngram = df_3000_ngram.drop(['malicious','packed'], axis=1)\n",
    "y_train_ngram = y\n",
    "y_test_ngram = df_3000_ngram['malicious'].values"
   ]
  },
  {
   "cell_type": "code",
   "execution_count": 26,
   "id": "009e7355",
   "metadata": {
    "execution": {
     "iopub.execute_input": "2024-01-23T12:08:17.039180Z",
     "iopub.status.busy": "2024-01-23T12:08:17.038155Z",
     "iopub.status.idle": "2024-01-23T12:08:20.004766Z",
     "shell.execute_reply": "2024-01-23T12:08:20.003555Z"
    },
    "papermill": {
     "duration": 2.987775,
     "end_time": "2024-01-23T12:08:20.007223",
     "exception": false,
     "start_time": "2024-01-23T12:08:17.019448",
     "status": "completed"
    },
    "tags": []
   },
   "outputs": [
    {
     "name": "stdout",
     "output_type": "stream",
     "text": [
      "The accuracy of the Random Forests model is :\t 0.9288337924701561\n"
     ]
    }
   ],
   "source": [
    "# Random Forest\n",
    "from sklearn.ensemble import RandomForestClassifier\n",
    "from sklearn import metrics\n",
    "\n",
    "random_forest = RandomForestClassifier(n_estimators=100, random_state=17)\n",
    "random_forest.fit(X_train_ngram, y_train_ngram)\n",
    "random_forest_preds = random_forest.predict(X_test_ngram)\n",
    "print('The accuracy of the Random Forests model is :\\t',metrics.accuracy_score(random_forest_preds,y_test_ngram))"
   ]
  },
  {
   "cell_type": "markdown",
   "id": "e3324233",
   "metadata": {
    "papermill": {
     "duration": 0.017182,
     "end_time": "2024-01-23T12:08:20.052397",
     "exception": false,
     "start_time": "2024-01-23T12:08:20.035215",
     "status": "completed"
    },
    "tags": []
   },
   "source": [
    "# **opcode features**"
   ]
  },
  {
   "cell_type": "code",
   "execution_count": 27,
   "id": "637b8f9a",
   "metadata": {
    "execution": {
     "iopub.execute_input": "2024-01-23T12:08:20.089162Z",
     "iopub.status.busy": "2024-01-23T12:08:20.088795Z",
     "iopub.status.idle": "2024-01-23T12:08:21.778449Z",
     "shell.execute_reply": "2024-01-23T12:08:21.777169Z"
    },
    "papermill": {
     "duration": 1.71109,
     "end_time": "2024-01-23T12:08:21.781080",
     "exception": false,
     "start_time": "2024-01-23T12:08:20.069990",
     "status": "completed"
    },
    "tags": []
   },
   "outputs": [],
   "source": [
    "themida = pd.read_pickle('/kaggle/input/packer-balance-pickle/themida_balance.pickle')\n",
    "themida = themida.drop(['sample_sha1','benign','unpacked_sample_sha1','unpacked_sample_id'], axis=1)\n",
    "themida = themida.drop(['benign_vt','malicious_vt'], axis=1)\n",
    "string_columns = themida.select_dtypes(include=['object']).columns\n",
    "themida = themida.drop(string_columns, axis=1)"
   ]
  },
  {
   "cell_type": "code",
   "execution_count": 28,
   "id": "09bb4936",
   "metadata": {
    "execution": {
     "iopub.execute_input": "2024-01-23T12:08:21.819047Z",
     "iopub.status.busy": "2024-01-23T12:08:21.818650Z",
     "iopub.status.idle": "2024-01-23T12:08:23.330016Z",
     "shell.execute_reply": "2024-01-23T12:08:23.328755Z"
    },
    "papermill": {
     "duration": 1.532771,
     "end_time": "2024-01-23T12:08:23.332251",
     "exception": false,
     "start_time": "2024-01-23T12:08:21.799480",
     "status": "completed"
    },
    "tags": []
   },
   "outputs": [
    {
     "name": "stdout",
     "output_type": "stream",
     "text": [
      "removing 13000 features\n",
      "removing 2 features\n",
      "removing 16900 features\n",
      "removing 66 features\n",
      "removing 19169 features\n",
      "removing 4306 features\n",
      "removing 550 features\n",
      "removing 29 features\n"
     ]
    }
   ],
   "source": [
    "opcode = remove_cols(themida, [c for c in cols if c.startswith('ngram_')])\n",
    "# opcode = remove_cols(themida, [c for c in cols if c.startswith('opcode_')])\n",
    "opcode = remove_cols(themida, [c for c in cols if c.startswith('generic_')])\n",
    "opcode = remove_cols(themida, [c for c in cols if c.startswith('string_')])\n",
    "opcode = remove_cols(themida, [c for c in cols if c.startswith('rich_')])\n",
    "opcode = remove_cols(themida, [c for c in cols if c.startswith('imp_') or 'api_import_nb' == c])\n",
    "opcode = remove_cols(themida, [c for c in cols if c.endswith('.dll') or 'dll_import_nb' == c])\n",
    "opcode = remove_cols(themida, [c for c in cols if c.startswith('pesection')])\n",
    "opcode = remove_cols(themida, [c for c in cols if c.startswith('header_')])"
   ]
  },
  {
   "cell_type": "code",
   "execution_count": 29,
   "id": "5b296632",
   "metadata": {
    "execution": {
     "iopub.execute_input": "2024-01-23T12:08:23.369920Z",
     "iopub.status.busy": "2024-01-23T12:08:23.369483Z",
     "iopub.status.idle": "2024-01-23T12:08:23.528873Z",
     "shell.execute_reply": "2024-01-23T12:08:23.527715Z"
    },
    "papermill": {
     "duration": 0.181438,
     "end_time": "2024-01-23T12:08:23.531613",
     "exception": false,
     "start_time": "2024-01-23T12:08:23.350175",
     "status": "completed"
    },
    "tags": []
   },
   "outputs": [],
   "source": [
    "df_7000_opcode = opcode.sample(n=7000, random_state=102)\n",
    "df_3000_opcode = opcode.drop(df_7000.index)\n",
    "data_opcode = df_7000_opcode.sample(n=3500, random_state=102)"
   ]
  },
  {
   "cell_type": "code",
   "execution_count": 30,
   "id": "66807bc4",
   "metadata": {
    "execution": {
     "iopub.execute_input": "2024-01-23T12:08:23.569390Z",
     "iopub.status.busy": "2024-01-23T12:08:23.568992Z",
     "iopub.status.idle": "2024-01-23T12:08:23.747382Z",
     "shell.execute_reply": "2024-01-23T12:08:23.745742Z"
    },
    "papermill": {
     "duration": 0.200012,
     "end_time": "2024-01-23T12:08:23.749764",
     "exception": false,
     "start_time": "2024-01-23T12:08:23.549752",
     "status": "completed"
    },
    "tags": []
   },
   "outputs": [
    {
     "name": "stdout",
     "output_type": "stream",
     "text": [
      "Packed Malware: 2241 samples\n",
      "Packed Benign: 1259 samples\n",
      "Total TRAIN set: 3500 samples\n",
      "Packed Malware: 1259 samples\n",
      "Packed Benign: 1259 samples\n",
      "Total TRAIN set: 2518 samples\n",
      "Packed Malware: 1089 samples\n",
      "Packed Benign: 1089 samples\n",
      "Total TEST set: 2178 samples\n"
     ]
    }
   ],
   "source": [
    "#Kiểm tra số lượng mẫu\n",
    "PM = data_opcode[(data_opcode['malicious'] == True) & (data_opcode['packed'] == True)].shape[0]\n",
    "PB = data_opcode[(data_opcode['malicious'] == False) & (data_opcode['packed'] == True)].shape[0]\n",
    "print('Packed Malware: %i samples' % PM)\n",
    "print('Packed Benign: %i samples' % PB)\n",
    "print('Total TRAIN set: %i samples'% (PM+PB))\n",
    "\n",
    "#Chia tỉ lệ 50 - 50\n",
    "data_PM_opcode = data_opcode[(data_opcode['malicious'] == True) & (data_opcode['packed'] == True)].sample(n=(PM-PB), random_state=102)\n",
    "data_opcode = data_opcode.drop(data_PM_opcode.index)\n",
    "      \n",
    "#Số lượng tập train\n",
    "PM = data_opcode[(data_opcode['malicious'] == True) & (data_opcode['packed'] == True)].shape[0]\n",
    "PB = data_opcode[(data_opcode['malicious'] == False) & (data_opcode['packed'] == True)].shape[0]\n",
    "print('Packed Malware: %i samples' % PM)\n",
    "print('Packed Benign: %i samples' % PB)\n",
    "print('Total TRAIN set: %i samples'% (PM+PB))\n",
    "\n",
    "#Xử lý tập train\n",
    "y = data_opcode['malicious'].values\n",
    "data_opcode = data_opcode.drop(['malicious','packed'], axis=1)\n",
    "\n",
    "PM = df_3000_opcode[(df_3000_opcode['malicious'] == True) & (df_3000_opcode['packed'] == True)].shape[0]\n",
    "PB = df_3000_opcode[(df_3000_opcode['malicious'] == False) & (df_3000_opcode['packed'] == True)].shape[0]\n",
    "\n",
    "df_3000_PM_opcode = df_3000_opcode[(df_3000_opcode['malicious'] == True) & (df_3000_opcode['packed'] == True)].sample(n=(PM-PB), random_state=102)\n",
    "df_3000_opcode = df_3000_opcode.drop(df_3000_PM_opcode.index)\n",
    "\n",
    "PM = df_3000_opcode[(df_3000_opcode['malicious'] == True) & (df_3000_opcode['packed'] == True)].shape[0]\n",
    "PB = df_3000_opcode[(df_3000_opcode['malicious'] == False) & (df_3000_opcode['packed'] == True)].shape[0]\n",
    "\n",
    "print('Packed Malware: %i samples' % PM)\n",
    "print('Packed Benign: %i samples' % PB)\n",
    "print('Total TEST set: %i samples'% (PM+PB))"
   ]
  },
  {
   "cell_type": "code",
   "execution_count": 31,
   "id": "96db629e",
   "metadata": {
    "execution": {
     "iopub.execute_input": "2024-01-23T12:08:23.787814Z",
     "iopub.status.busy": "2024-01-23T12:08:23.787366Z",
     "iopub.status.idle": "2024-01-23T12:08:23.819800Z",
     "shell.execute_reply": "2024-01-23T12:08:23.818759Z"
    },
    "papermill": {
     "duration": 0.054499,
     "end_time": "2024-01-23T12:08:23.822356",
     "exception": false,
     "start_time": "2024-01-23T12:08:23.767857",
     "status": "completed"
    },
    "tags": []
   },
   "outputs": [],
   "source": [
    "# model = SelectFromModel(fsel, prefit=True)\n",
    "\n",
    "X_train_opcode = data_opcode\n",
    "X_test_opcode = df_3000_opcode.drop(['malicious','packed'], axis=1)\n",
    "\n",
    "# data_opcode = data_opcode.loc[:, (data_opcode != 0).any(axis=0)]\n",
    "x_train_opcode = data_opcode\n",
    "X_test_opcode = df_3000_opcode.drop(['malicious','packed'], axis=1)\n",
    "y_train_opcode = y\n",
    "y_test_opcode = df_3000_opcode['malicious'].values"
   ]
  },
  {
   "cell_type": "code",
   "execution_count": 32,
   "id": "f17e2b20",
   "metadata": {
    "execution": {
     "iopub.execute_input": "2024-01-23T12:08:23.860247Z",
     "iopub.status.busy": "2024-01-23T12:08:23.859633Z",
     "iopub.status.idle": "2024-01-23T12:08:27.248448Z",
     "shell.execute_reply": "2024-01-23T12:08:27.247144Z"
    },
    "papermill": {
     "duration": 3.410736,
     "end_time": "2024-01-23T12:08:27.250938",
     "exception": false,
     "start_time": "2024-01-23T12:08:23.840202",
     "status": "completed"
    },
    "tags": []
   },
   "outputs": [
    {
     "name": "stdout",
     "output_type": "stream",
     "text": [
      "The accuracy of the Random Forests model is :\t 0.529384756657484\n"
     ]
    }
   ],
   "source": [
    "# Random Forest\n",
    "from sklearn.ensemble import RandomForestClassifier\n",
    "from sklearn import metrics\n",
    "\n",
    "random_forest = RandomForestClassifier(n_estimators=100, random_state=17)\n",
    "random_forest.fit(x_train_opcode, y_train_opcode)\n",
    "random_forest_preds = random_forest.predict(X_test_opcode)\n",
    "print('The accuracy of the Random Forests model is :\\t',metrics.accuracy_score(random_forest_preds,y_test_opcode))"
   ]
  },
  {
   "cell_type": "markdown",
   "id": "9dee5e31",
   "metadata": {
    "papermill": {
     "duration": 0.01759,
     "end_time": "2024-01-23T12:08:27.286587",
     "exception": false,
     "start_time": "2024-01-23T12:08:27.268997",
     "status": "completed"
    },
    "tags": []
   },
   "source": [
    "# **rich header features**"
   ]
  },
  {
   "cell_type": "code",
   "execution_count": 33,
   "id": "5af3c920",
   "metadata": {
    "execution": {
     "iopub.execute_input": "2024-01-23T12:08:27.324197Z",
     "iopub.status.busy": "2024-01-23T12:08:27.323787Z",
     "iopub.status.idle": "2024-01-23T12:08:29.049881Z",
     "shell.execute_reply": "2024-01-23T12:08:29.048888Z"
    },
    "papermill": {
     "duration": 1.747872,
     "end_time": "2024-01-23T12:08:29.052462",
     "exception": false,
     "start_time": "2024-01-23T12:08:27.304590",
     "status": "completed"
    },
    "tags": []
   },
   "outputs": [],
   "source": [
    "themida = pd.read_pickle('/kaggle/input/packer-balance-pickle/themida_balance.pickle')\n",
    "themida = themida.drop(['sample_sha1','benign','unpacked_sample_sha1','unpacked_sample_id'], axis=1)\n",
    "themida = themida.drop(['benign_vt','malicious_vt'], axis=1)\n",
    "string_columns = themida.select_dtypes(include=['object']).columns\n",
    "themida = themida.drop(string_columns, axis=1)"
   ]
  },
  {
   "cell_type": "code",
   "execution_count": 34,
   "id": "ef60a92e",
   "metadata": {
    "execution": {
     "iopub.execute_input": "2024-01-23T12:08:29.091657Z",
     "iopub.status.busy": "2024-01-23T12:08:29.090976Z",
     "iopub.status.idle": "2024-01-23T12:08:30.262472Z",
     "shell.execute_reply": "2024-01-23T12:08:30.261246Z"
    },
    "papermill": {
     "duration": 1.193793,
     "end_time": "2024-01-23T12:08:30.264844",
     "exception": false,
     "start_time": "2024-01-23T12:08:29.071051",
     "status": "completed"
    },
    "tags": []
   },
   "outputs": [
    {
     "name": "stdout",
     "output_type": "stream",
     "text": [
      "removing 13000 features\n",
      "removing 2500 features\n",
      "removing 2 features\n",
      "removing 16900 features\n",
      "removing 19169 features\n",
      "removing 4306 features\n",
      "removing 550 features\n",
      "removing 29 features\n"
     ]
    }
   ],
   "source": [
    "rich = remove_cols(themida, [c for c in cols if c.startswith('ngram_')])\n",
    "rich = remove_cols(themida, [c for c in cols if c.startswith('opcode_')])\n",
    "rich = remove_cols(themida, [c for c in cols if c.startswith('generic_')])\n",
    "rich = remove_cols(themida, [c for c in cols if c.startswith('string_')])\n",
    "# rich = remove_cols(themida, [c for c in cols if c.startswith('rich_')])\n",
    "rich = remove_cols(themida, [c for c in cols if c.startswith('imp_') or 'api_import_nb' == c])\n",
    "rich = remove_cols(themida, [c for c in cols if c.endswith('.dll') or 'dll_import_nb' == c])\n",
    "rich = remove_cols(themida, [c for c in cols if c.startswith('pesection')])\n",
    "rich = remove_cols(themida, [c for c in cols if c.startswith('header_')])"
   ]
  },
  {
   "cell_type": "code",
   "execution_count": 35,
   "id": "6e9fb7ad",
   "metadata": {
    "execution": {
     "iopub.execute_input": "2024-01-23T12:08:30.303272Z",
     "iopub.status.busy": "2024-01-23T12:08:30.302822Z",
     "iopub.status.idle": "2024-01-23T12:08:30.316300Z",
     "shell.execute_reply": "2024-01-23T12:08:30.315143Z"
    },
    "papermill": {
     "duration": 0.035105,
     "end_time": "2024-01-23T12:08:30.318535",
     "exception": false,
     "start_time": "2024-01-23T12:08:30.283430",
     "status": "completed"
    },
    "tags": []
   },
   "outputs": [],
   "source": [
    "df_7000_rich = rich.sample(n=7000, random_state=102)\n",
    "df_3000_rich = rich.drop(df_7000.index)\n",
    "data_rich = df_7000_rich.sample(n=3500, random_state=102)"
   ]
  },
  {
   "cell_type": "code",
   "execution_count": 36,
   "id": "25382b20",
   "metadata": {
    "execution": {
     "iopub.execute_input": "2024-01-23T12:08:30.358879Z",
     "iopub.status.busy": "2024-01-23T12:08:30.358496Z",
     "iopub.status.idle": "2024-01-23T12:08:30.390194Z",
     "shell.execute_reply": "2024-01-23T12:08:30.388874Z"
    },
    "papermill": {
     "duration": 0.056128,
     "end_time": "2024-01-23T12:08:30.392998",
     "exception": false,
     "start_time": "2024-01-23T12:08:30.336870",
     "status": "completed"
    },
    "tags": []
   },
   "outputs": [
    {
     "name": "stdout",
     "output_type": "stream",
     "text": [
      "Packed Malware: 2241 samples\n",
      "Packed Benign: 1259 samples\n",
      "Total TRAIN set: 3500 samples\n",
      "Packed Malware: 1259 samples\n",
      "Packed Benign: 1259 samples\n",
      "Total TRAIN set: 2518 samples\n",
      "Packed Malware: 1089 samples\n",
      "Packed Benign: 1089 samples\n",
      "Total TEST set: 2178 samples\n"
     ]
    }
   ],
   "source": [
    "#Kiểm tra số lượng mẫu\n",
    "PM = data_rich[(data_rich['malicious'] == True) & (data_rich['packed'] == True)].shape[0]\n",
    "PB = data_rich[(data_rich['malicious'] == False) & (data_rich['packed'] == True)].shape[0]\n",
    "print('Packed Malware: %i samples' % PM)\n",
    "print('Packed Benign: %i samples' % PB)\n",
    "print('Total TRAIN set: %i samples'% (PM+PB))\n",
    "\n",
    "#Chia tỉ lệ 50 - 50\n",
    "data_PM_rich = data_rich[(data_rich['malicious'] == True) & (data_rich['packed'] == True)].sample(n=(PM-PB), random_state=102)\n",
    "data_rich = data_rich.drop(data_PM_rich.index)\n",
    "      \n",
    "#Số lượng tập train\n",
    "PM = data_rich[(data_rich['malicious'] == True) & (data_rich['packed'] == True)].shape[0]\n",
    "PB = data_rich[(data_rich['malicious'] == False) & (data_rich['packed'] == True)].shape[0]\n",
    "print('Packed Malware: %i samples' % PM)\n",
    "print('Packed Benign: %i samples' % PB)\n",
    "print('Total TRAIN set: %i samples'% (PM+PB))\n",
    "\n",
    "#Xử lý tập train\n",
    "y = data_rich['malicious'].values\n",
    "data_rich= data_rich.drop(['malicious','packed'], axis=1)\n",
    "\n",
    "PM = df_3000_rich[(df_3000_rich['malicious'] == True) & (df_3000_rich['packed'] == True)].shape[0]\n",
    "PB = df_3000_rich[(df_3000_rich['malicious'] == False) & (df_3000_rich['packed'] == True)].shape[0]\n",
    "\n",
    "df_3000_PM_rich = df_3000_rich[(df_3000_rich['malicious'] == True) & (df_3000_rich['packed'] == True)].sample(n=(PM-PB), random_state=102)\n",
    "df_3000_rich = df_3000_rich.drop(df_3000_PM_rich.index)\n",
    "\n",
    "PM = df_3000_rich[(df_3000_rich['malicious'] == True) & (df_3000_rich['packed'] == True)].shape[0]\n",
    "PB = df_3000_rich[(df_3000_rich['malicious'] == False) & (df_3000_rich['packed'] == True)].shape[0]\n",
    "\n",
    "print('Packed Malware: %i samples' % PM)\n",
    "print('Packed Benign: %i samples' % PB)\n",
    "print('Total TEST set: %i samples'% (PM+PB))"
   ]
  },
  {
   "cell_type": "code",
   "execution_count": 37,
   "id": "39b71e12",
   "metadata": {
    "execution": {
     "iopub.execute_input": "2024-01-23T12:08:30.433556Z",
     "iopub.status.busy": "2024-01-23T12:08:30.432771Z",
     "iopub.status.idle": "2024-01-23T12:08:30.443348Z",
     "shell.execute_reply": "2024-01-23T12:08:30.442454Z"
    },
    "papermill": {
     "duration": 0.032963,
     "end_time": "2024-01-23T12:08:30.445718",
     "exception": false,
     "start_time": "2024-01-23T12:08:30.412755",
     "status": "completed"
    },
    "tags": []
   },
   "outputs": [],
   "source": [
    "# model = SelectFromModel(fsel, prefit=True)\n",
    "\n",
    "X_train_rich = data_rich\n",
    "X_test_rich = df_3000_rich.drop(['malicious','packed'], axis=1)\n",
    "\n",
    "data_rich = data_rich.loc[:, (data_rich != 0).any(axis=0)]\n",
    "x_train_rich = data_rich\n",
    "X_test_rich = df_3000_rich.drop(['malicious','packed'], axis=1)\n",
    "y_train_rich = y\n",
    "y_test_rich = df_3000_rich['malicious'].values"
   ]
  },
  {
   "cell_type": "code",
   "execution_count": 38,
   "id": "957f7999",
   "metadata": {
    "execution": {
     "iopub.execute_input": "2024-01-23T12:08:30.486306Z",
     "iopub.status.busy": "2024-01-23T12:08:30.485556Z",
     "iopub.status.idle": "2024-01-23T12:08:30.919290Z",
     "shell.execute_reply": "2024-01-23T12:08:30.918195Z"
    },
    "papermill": {
     "duration": 0.456392,
     "end_time": "2024-01-23T12:08:30.921630",
     "exception": false,
     "start_time": "2024-01-23T12:08:30.465238",
     "status": "completed"
    },
    "tags": []
   },
   "outputs": [
    {
     "name": "stdout",
     "output_type": "stream",
     "text": [
      "The accuracy of the Random Forests model is :\t 0.8797061524334252\n"
     ]
    }
   ],
   "source": [
    "# Random Forest\n",
    "from sklearn.ensemble import RandomForestClassifier\n",
    "from sklearn import metrics\n",
    "\n",
    "random_forest = RandomForestClassifier(n_estimators=100, random_state=17)\n",
    "random_forest.fit(X_train_rich, y_train_rich)\n",
    "random_forest_preds = random_forest.predict(X_test_rich)\n",
    "print('The accuracy of the Random Forests model is :\\t',metrics.accuracy_score(random_forest_preds,y_test_rich))"
   ]
  },
  {
   "cell_type": "markdown",
   "id": "2e4e5ec1",
   "metadata": {
    "papermill": {
     "duration": 0.018797,
     "end_time": "2024-01-23T12:08:30.959272",
     "exception": false,
     "start_time": "2024-01-23T12:08:30.940475",
     "status": "completed"
    },
    "tags": []
   },
   "source": [
    "# **string features**"
   ]
  },
  {
   "cell_type": "code",
   "execution_count": 39,
   "id": "f346c853",
   "metadata": {
    "execution": {
     "iopub.execute_input": "2024-01-23T12:08:30.998667Z",
     "iopub.status.busy": "2024-01-23T12:08:30.997717Z",
     "iopub.status.idle": "2024-01-23T12:08:32.621656Z",
     "shell.execute_reply": "2024-01-23T12:08:32.620551Z"
    },
    "papermill": {
     "duration": 1.646133,
     "end_time": "2024-01-23T12:08:32.624093",
     "exception": false,
     "start_time": "2024-01-23T12:08:30.977960",
     "status": "completed"
    },
    "tags": []
   },
   "outputs": [],
   "source": [
    "themida = pd.read_pickle('/kaggle/input/packer-balance-pickle/themida_balance.pickle')\n",
    "themida = themida.drop(['sample_sha1','benign','unpacked_sample_sha1','unpacked_sample_id'], axis=1)\n",
    "themida = themida.drop(['benign_vt','malicious_vt'], axis=1)\n",
    "string_columns = themida.select_dtypes(include=['object']).columns\n",
    "themida = themida.drop(string_columns, axis=1)"
   ]
  },
  {
   "cell_type": "code",
   "execution_count": 40,
   "id": "8fff0c7f",
   "metadata": {
    "execution": {
     "iopub.execute_input": "2024-01-23T12:08:32.664940Z",
     "iopub.status.busy": "2024-01-23T12:08:32.664543Z",
     "iopub.status.idle": "2024-01-23T12:08:33.989016Z",
     "shell.execute_reply": "2024-01-23T12:08:33.987624Z"
    },
    "papermill": {
     "duration": 1.347308,
     "end_time": "2024-01-23T12:08:33.991591",
     "exception": false,
     "start_time": "2024-01-23T12:08:32.644283",
     "status": "completed"
    },
    "tags": []
   },
   "outputs": [
    {
     "name": "stdout",
     "output_type": "stream",
     "text": [
      "removing 13000 features\n",
      "removing 2500 features\n",
      "removing 2 features\n",
      "removing 66 features\n",
      "removing 19169 features\n",
      "removing 4306 features\n",
      "removing 550 features\n",
      "removing 29 features\n"
     ]
    }
   ],
   "source": [
    "string = remove_cols(themida, [c for c in cols if c.startswith('ngram_')])\n",
    "string = remove_cols(themida, [c for c in cols if c.startswith('opcode_')])\n",
    "string = remove_cols(themida, [c for c in cols if c.startswith('generic_')])\n",
    "# string = remove_cols(themida, [c for c in cols if c.startswith('string_')])\n",
    "string = remove_cols(themida, [c for c in cols if c.startswith('rich_')])\n",
    "string = remove_cols(themida, [c for c in cols if c.startswith('imp_') or 'api_import_nb' == c])\n",
    "string = remove_cols(themida, [c for c in cols if c.endswith('.dll') or 'dll_import_nb' == c])\n",
    "string = remove_cols(themida, [c for c in cols if c.startswith('pesection')])\n",
    "string = remove_cols(themida, [c for c in cols if c.startswith('header_')])"
   ]
  },
  {
   "cell_type": "code",
   "execution_count": 41,
   "id": "27426d97",
   "metadata": {
    "execution": {
     "iopub.execute_input": "2024-01-23T12:08:34.031764Z",
     "iopub.status.busy": "2024-01-23T12:08:34.031123Z",
     "iopub.status.idle": "2024-01-23T12:08:34.367493Z",
     "shell.execute_reply": "2024-01-23T12:08:34.366106Z"
    },
    "papermill": {
     "duration": 0.359588,
     "end_time": "2024-01-23T12:08:34.370184",
     "exception": false,
     "start_time": "2024-01-23T12:08:34.010596",
     "status": "completed"
    },
    "tags": []
   },
   "outputs": [],
   "source": [
    "df_7000_string = string.sample(n=7000, random_state=102)\n",
    "df_3000_string = string.drop(df_7000.index)\n",
    "data_string = df_7000_string.sample(n=3500, random_state=102)"
   ]
  },
  {
   "cell_type": "code",
   "execution_count": 42,
   "id": "cf4a2a4a",
   "metadata": {
    "execution": {
     "iopub.execute_input": "2024-01-23T12:08:34.410460Z",
     "iopub.status.busy": "2024-01-23T12:08:34.410013Z",
     "iopub.status.idle": "2024-01-23T12:08:34.888031Z",
     "shell.execute_reply": "2024-01-23T12:08:34.886952Z"
    },
    "papermill": {
     "duration": 0.501038,
     "end_time": "2024-01-23T12:08:34.890546",
     "exception": false,
     "start_time": "2024-01-23T12:08:34.389508",
     "status": "completed"
    },
    "tags": []
   },
   "outputs": [
    {
     "name": "stdout",
     "output_type": "stream",
     "text": [
      "Packed Malware: 2241 samples\n",
      "Packed Benign: 1259 samples\n",
      "Total TRAIN set: 3500 samples\n",
      "Packed Malware: 1259 samples\n",
      "Packed Benign: 1259 samples\n",
      "Total TRAIN set: 2518 samples\n",
      "Packed Malware: 1089 samples\n",
      "Packed Benign: 1089 samples\n",
      "Total TEST set: 2178 samples\n"
     ]
    }
   ],
   "source": [
    "#Kiểm tra số lượng mẫu\n",
    "PM = data_string[(data_string['malicious'] == True) & (data_string['packed'] == True)].shape[0]\n",
    "PB = data_string[(data_string['malicious'] == False) & (data_string['packed'] == True)].shape[0]\n",
    "print('Packed Malware: %i samples' % PM)\n",
    "print('Packed Benign: %i samples' % PB)\n",
    "print('Total TRAIN set: %i samples'% (PM+PB))\n",
    "\n",
    "#Chia tỉ lệ 50 - 50\n",
    "data_PM_string = data_string[(data_string['malicious'] == True) & (data_string['packed'] == True)].sample(n=(PM-PB), random_state=102)\n",
    "data_string = data_string.drop(data_PM_string.index)\n",
    "      \n",
    "#Số lượng tập train\n",
    "PM = data_string[(data_string['malicious'] == True) & (data_string['packed'] == True)].shape[0]\n",
    "PB = data_string[(data_string['malicious'] == False) & (data_string['packed'] == True)].shape[0]\n",
    "print('Packed Malware: %i samples' % PM)\n",
    "print('Packed Benign: %i samples' % PB)\n",
    "print('Total TRAIN set: %i samples'% (PM+PB))\n",
    "\n",
    "#Xử lý tập train\n",
    "y = data_string['malicious'].values\n",
    "data_string = data_string.drop(['malicious','packed'], axis=1)\n",
    "\n",
    "PM = df_3000_string[(df_3000_string['malicious'] == True) & (df_3000_string['packed'] == True)].shape[0]\n",
    "PB = df_3000_string[(df_3000_string['malicious'] == False) & (df_3000_string['packed'] == True)].shape[0]\n",
    "\n",
    "df_3000_PM_string = df_3000_string[(df_3000_string['malicious'] == True) & (df_3000_string['packed'] == True)].sample(n=(PM-PB), random_state=102)\n",
    "df_3000_string = df_3000_string.drop(df_3000_PM_string.index)\n",
    "\n",
    "PM = df_3000_string[(df_3000_string['malicious'] == True) & (df_3000_string['packed'] == True)].shape[0]\n",
    "PB = df_3000_string[(df_3000_string['malicious'] == False) & (df_3000_string['packed'] == True)].shape[0]\n",
    "\n",
    "print('Packed Malware: %i samples' % PM)\n",
    "print('Packed Benign: %i samples' % PB)\n",
    "print('Total TEST set: %i samples'% (PM+PB))"
   ]
  },
  {
   "cell_type": "code",
   "execution_count": 43,
   "id": "d074b2e9",
   "metadata": {
    "execution": {
     "iopub.execute_input": "2024-01-23T12:08:34.929971Z",
     "iopub.status.busy": "2024-01-23T12:08:34.929566Z",
     "iopub.status.idle": "2024-01-23T12:08:35.028031Z",
     "shell.execute_reply": "2024-01-23T12:08:35.026932Z"
    },
    "papermill": {
     "duration": 0.121193,
     "end_time": "2024-01-23T12:08:35.030645",
     "exception": false,
     "start_time": "2024-01-23T12:08:34.909452",
     "status": "completed"
    },
    "tags": []
   },
   "outputs": [],
   "source": [
    "# model = SelectFromModel(fsel, prefit=True)\n",
    "\n",
    "X_train_string = data_string\n",
    "X_test_string = df_3000_string.drop(['malicious','packed'], axis=1)\n",
    "\n",
    "data_string = data_string.loc[:, (data_string != 0).any(axis=0)]\n",
    "x_train_string = data_string\n",
    "X_test_string = df_3000_string.drop(['malicious','packed'], axis=1)\n",
    "y_train_string = y\n",
    "y_test_string = df_3000_string['malicious'].values"
   ]
  },
  {
   "cell_type": "code",
   "execution_count": 44,
   "id": "4c5f36e4",
   "metadata": {
    "execution": {
     "iopub.execute_input": "2024-01-23T12:08:35.070775Z",
     "iopub.status.busy": "2024-01-23T12:08:35.070342Z",
     "iopub.status.idle": "2024-01-23T12:08:39.291774Z",
     "shell.execute_reply": "2024-01-23T12:08:39.290665Z"
    },
    "papermill": {
     "duration": 4.244272,
     "end_time": "2024-01-23T12:08:39.294084",
     "exception": false,
     "start_time": "2024-01-23T12:08:35.049812",
     "status": "completed"
    },
    "tags": []
   },
   "outputs": [
    {
     "name": "stdout",
     "output_type": "stream",
     "text": [
      "The accuracy of the Random Forests model is :\t 0.8705234159779615\n"
     ]
    }
   ],
   "source": [
    "# Random Forest\n",
    "from sklearn.ensemble import RandomForestClassifier\n",
    "from sklearn import metrics\n",
    "\n",
    "random_forest = RandomForestClassifier(n_estimators=100, random_state=17)\n",
    "random_forest.fit(X_train_string, y_train_string)\n",
    "random_forest_preds = random_forest.predict(X_test_string)\n",
    "print('The accuracy of the Random Forests model is :\\t',metrics.accuracy_score(random_forest_preds,y_test_string))"
   ]
  },
  {
   "cell_type": "markdown",
   "id": "100e6fe6",
   "metadata": {
    "papermill": {
     "duration": 0.021397,
     "end_time": "2024-01-23T12:08:39.334742",
     "exception": false,
     "start_time": "2024-01-23T12:08:39.313345",
     "status": "completed"
    },
    "tags": []
   },
   "source": [
    "# **api features**"
   ]
  },
  {
   "cell_type": "code",
   "execution_count": 45,
   "id": "678a5020",
   "metadata": {
    "execution": {
     "iopub.execute_input": "2024-01-23T12:08:39.387428Z",
     "iopub.status.busy": "2024-01-23T12:08:39.386199Z",
     "iopub.status.idle": "2024-01-23T12:08:41.109693Z",
     "shell.execute_reply": "2024-01-23T12:08:41.108474Z"
    },
    "papermill": {
     "duration": 1.754306,
     "end_time": "2024-01-23T12:08:41.112309",
     "exception": false,
     "start_time": "2024-01-23T12:08:39.358003",
     "status": "completed"
    },
    "tags": []
   },
   "outputs": [],
   "source": [
    "themida = pd.read_pickle('/kaggle/input/packer-balance-pickle/themida_balance.pickle')\n",
    "themida = themida.drop(['sample_sha1','benign','unpacked_sample_sha1','unpacked_sample_id'], axis=1)\n",
    "themida = themida.drop(['benign_vt','malicious_vt'], axis=1)\n",
    "string_columns = themida.select_dtypes(include=['object']).columns\n",
    "themida = themida.drop(string_columns, axis=1)"
   ]
  },
  {
   "cell_type": "code",
   "execution_count": 46,
   "id": "84923a96",
   "metadata": {
    "execution": {
     "iopub.execute_input": "2024-01-23T12:08:41.152706Z",
     "iopub.status.busy": "2024-01-23T12:08:41.152267Z",
     "iopub.status.idle": "2024-01-23T12:08:42.757829Z",
     "shell.execute_reply": "2024-01-23T12:08:42.756684Z"
    },
    "papermill": {
     "duration": 1.628585,
     "end_time": "2024-01-23T12:08:42.760432",
     "exception": false,
     "start_time": "2024-01-23T12:08:41.131847",
     "status": "completed"
    },
    "tags": []
   },
   "outputs": [
    {
     "name": "stdout",
     "output_type": "stream",
     "text": [
      "removing 13000 features\n",
      "removing 2500 features\n",
      "removing 2 features\n",
      "removing 16900 features\n",
      "removing 66 features\n",
      "removing 4306 features\n",
      "removing 550 features\n",
      "removing 29 features\n"
     ]
    }
   ],
   "source": [
    "api = remove_cols(themida, [c for c in cols if c.startswith('ngram_')])\n",
    "api = remove_cols(themida, [c for c in cols if c.startswith('opcode_')])\n",
    "api = remove_cols(themida, [c for c in cols if c.startswith('generic_')])\n",
    "api = remove_cols(themida, [c for c in cols if c.startswith('string_')])\n",
    "api = remove_cols(themida, [c for c in cols if c.startswith('rich_')])\n",
    "# api = remove_cols(themida, [c for c in cols if c.startswith('imp_') or 'api_import_nb' == c])\n",
    "api = remove_cols(themida, [c for c in cols if c.endswith('.dll') or 'dll_import_nb' == c])\n",
    "api = remove_cols(themida, [c for c in cols if c.startswith('pesection')])\n",
    "api = remove_cols(themida, [c for c in cols if c.startswith('header_')])"
   ]
  },
  {
   "cell_type": "code",
   "execution_count": 47,
   "id": "1bcd4cfb",
   "metadata": {
    "execution": {
     "iopub.execute_input": "2024-01-23T12:08:42.802941Z",
     "iopub.status.busy": "2024-01-23T12:08:42.802538Z",
     "iopub.status.idle": "2024-01-23T12:08:43.242420Z",
     "shell.execute_reply": "2024-01-23T12:08:43.241352Z"
    },
    "papermill": {
     "duration": 0.464081,
     "end_time": "2024-01-23T12:08:43.245435",
     "exception": false,
     "start_time": "2024-01-23T12:08:42.781354",
     "status": "completed"
    },
    "tags": []
   },
   "outputs": [],
   "source": [
    "df_7000_api = api.sample(n=7000, random_state=102)\n",
    "df_3000_api = api.drop(df_7000.index)\n",
    "data_api = df_7000_api.sample(n=3500, random_state=102)"
   ]
  },
  {
   "cell_type": "code",
   "execution_count": 48,
   "id": "23884cbb",
   "metadata": {
    "execution": {
     "iopub.execute_input": "2024-01-23T12:08:43.296013Z",
     "iopub.status.busy": "2024-01-23T12:08:43.295356Z",
     "iopub.status.idle": "2024-01-23T12:08:43.985817Z",
     "shell.execute_reply": "2024-01-23T12:08:43.984641Z"
    },
    "papermill": {
     "duration": 0.717703,
     "end_time": "2024-01-23T12:08:43.988864",
     "exception": false,
     "start_time": "2024-01-23T12:08:43.271161",
     "status": "completed"
    },
    "tags": []
   },
   "outputs": [
    {
     "name": "stdout",
     "output_type": "stream",
     "text": [
      "Packed Malware: 2241 samples\n",
      "Packed Benign: 1259 samples\n",
      "Total TRAIN set: 3500 samples\n",
      "Packed Malware: 1259 samples\n",
      "Packed Benign: 1259 samples\n",
      "Total TRAIN set: 2518 samples\n",
      "Packed Malware: 1089 samples\n",
      "Packed Benign: 1089 samples\n",
      "Total TEST set: 2178 samples\n"
     ]
    }
   ],
   "source": [
    "#Kiểm tra số lượng mẫu\n",
    "PM = data_api[(data_api['malicious'] == True) & (data_api['packed'] == True)].shape[0]\n",
    "PB = data_api[(data_api['malicious'] == False) & (data_api['packed'] == True)].shape[0]\n",
    "print('Packed Malware: %i samples' % PM)\n",
    "print('Packed Benign: %i samples' % PB)\n",
    "print('Total TRAIN set: %i samples'% (PM+PB))\n",
    "\n",
    "#Chia tỉ lệ 50 - 50\n",
    "data_PM_api = data_api[(data_api['malicious'] == True) & (data_api['packed'] == True)].sample(n=(PM-PB), random_state=102)\n",
    "data_api = data_api.drop(data_PM_api.index)\n",
    "      \n",
    "#Số lượng tập train\n",
    "PM = data_api[(data_api['malicious'] == True) & (data_api['packed'] == True)].shape[0]\n",
    "PB = data_api[(data_api['malicious'] == False) & (data_api['packed'] == True)].shape[0]\n",
    "print('Packed Malware: %i samples' % PM)\n",
    "print('Packed Benign: %i samples' % PB)\n",
    "print('Total TRAIN set: %i samples'% (PM+PB))\n",
    "\n",
    "#Xử lý tập train\n",
    "y = data_api['malicious'].values\n",
    "data_api = data_api.drop(['malicious','packed'], axis=1)\n",
    "\n",
    "PM = df_3000_api[(df_3000_api['malicious'] == True) & (df_3000_api['packed'] == True)].shape[0]\n",
    "PB = df_3000_api[(df_3000_api['malicious'] == False) & (df_3000_api['packed'] == True)].shape[0]\n",
    "\n",
    "df_3000_PM_api = df_3000_api[(df_3000_api['malicious'] == True) & (df_3000_api['packed'] == True)].sample(n=(PM-PB), random_state=102)\n",
    "df_3000_api = df_3000_api.drop(df_3000_PM_api.index)\n",
    "\n",
    "PM = df_3000_api[(df_3000_api['malicious'] == True) & (df_3000_api['packed'] == True)].shape[0]\n",
    "PB = df_3000_api[(df_3000_api['malicious'] == False) & (df_3000_api['packed'] == True)].shape[0]\n",
    "\n",
    "print('Packed Malware: %i samples' % PM)\n",
    "print('Packed Benign: %i samples' % PB)\n",
    "print('Total TEST set: %i samples'% (PM+PB))"
   ]
  },
  {
   "cell_type": "code",
   "execution_count": 49,
   "id": "4e58328c",
   "metadata": {
    "execution": {
     "iopub.execute_input": "2024-01-23T12:08:44.037167Z",
     "iopub.status.busy": "2024-01-23T12:08:44.035835Z",
     "iopub.status.idle": "2024-01-23T12:08:44.173611Z",
     "shell.execute_reply": "2024-01-23T12:08:44.172582Z"
    },
    "papermill": {
     "duration": 0.161747,
     "end_time": "2024-01-23T12:08:44.176283",
     "exception": false,
     "start_time": "2024-01-23T12:08:44.014536",
     "status": "completed"
    },
    "tags": []
   },
   "outputs": [],
   "source": [
    "# model = SelectFromModel(fsel, prefit=True)\n",
    "\n",
    "X_train_api = data_api\n",
    "X_test_api = df_3000_api.drop(['malicious','packed'], axis=1)\n",
    "\n",
    "data_api = data_api.loc[:, (data_api != 0).any(axis=0)]\n",
    "x_train_api = data_api\n",
    "X_test_api = df_3000_api.drop(['malicious','packed'], axis=1)\n",
    "y_train_api = y\n",
    "y_test_api = df_3000_api['malicious'].values"
   ]
  },
  {
   "cell_type": "code",
   "execution_count": 50,
   "id": "0d6f91c6",
   "metadata": {
    "execution": {
     "iopub.execute_input": "2024-01-23T12:08:44.219672Z",
     "iopub.status.busy": "2024-01-23T12:08:44.218906Z",
     "iopub.status.idle": "2024-01-23T12:08:55.338446Z",
     "shell.execute_reply": "2024-01-23T12:08:55.337638Z"
    },
    "papermill": {
     "duration": 11.143611,
     "end_time": "2024-01-23T12:08:55.340595",
     "exception": false,
     "start_time": "2024-01-23T12:08:44.196984",
     "status": "completed"
    },
    "tags": []
   },
   "outputs": [
    {
     "name": "stdout",
     "output_type": "stream",
     "text": [
      "The accuracy of the Random Forests model is :\t 0.5298438934802571\n"
     ]
    }
   ],
   "source": [
    "# Random Forest\n",
    "from sklearn.ensemble import RandomForestClassifier\n",
    "from sklearn import metrics\n",
    "\n",
    "random_forest = RandomForestClassifier(n_estimators=100, random_state=17)\n",
    "random_forest.fit(X_train_api, y_train_api)\n",
    "random_forest_preds = random_forest.predict(X_test_api)\n",
    "print('The accuracy of the Random Forests model is :\\t',metrics.accuracy_score(random_forest_preds,y_test_api))"
   ]
  },
  {
   "cell_type": "markdown",
   "id": "05753b1a",
   "metadata": {
    "papermill": {
     "duration": 0.019202,
     "end_time": "2024-01-23T12:08:55.379338",
     "exception": false,
     "start_time": "2024-01-23T12:08:55.360136",
     "status": "completed"
    },
    "tags": []
   },
   "source": [
    "# **dll features**"
   ]
  },
  {
   "cell_type": "code",
   "execution_count": 51,
   "id": "8da998a7",
   "metadata": {
    "execution": {
     "iopub.execute_input": "2024-01-23T12:08:55.421429Z",
     "iopub.status.busy": "2024-01-23T12:08:55.420781Z",
     "iopub.status.idle": "2024-01-23T12:08:57.197749Z",
     "shell.execute_reply": "2024-01-23T12:08:57.196643Z"
    },
    "papermill": {
     "duration": 1.801468,
     "end_time": "2024-01-23T12:08:57.200480",
     "exception": false,
     "start_time": "2024-01-23T12:08:55.399012",
     "status": "completed"
    },
    "tags": []
   },
   "outputs": [],
   "source": [
    "themida = pd.read_pickle('/kaggle/input/packer-balance-pickle/themida_balance.pickle')\n",
    "themida = themida.drop(['sample_sha1','benign','unpacked_sample_sha1','unpacked_sample_id'], axis=1)\n",
    "themida = themida.drop(['benign_vt','malicious_vt'], axis=1)\n",
    "string_columns = themida.select_dtypes(include=['object']).columns\n",
    "themida = themida.drop(string_columns, axis=1)"
   ]
  },
  {
   "cell_type": "code",
   "execution_count": 52,
   "id": "4c36c40c",
   "metadata": {
    "execution": {
     "iopub.execute_input": "2024-01-23T12:08:57.242604Z",
     "iopub.status.busy": "2024-01-23T12:08:57.241939Z",
     "iopub.status.idle": "2024-01-23T12:08:58.439329Z",
     "shell.execute_reply": "2024-01-23T12:08:58.438292Z"
    },
    "papermill": {
     "duration": 1.221597,
     "end_time": "2024-01-23T12:08:58.441764",
     "exception": false,
     "start_time": "2024-01-23T12:08:57.220167",
     "status": "completed"
    },
    "tags": []
   },
   "outputs": [
    {
     "name": "stdout",
     "output_type": "stream",
     "text": [
      "removing 13000 features\n",
      "removing 2500 features\n",
      "removing 2 features\n",
      "removing 16900 features\n",
      "removing 66 features\n",
      "removing 19169 features\n",
      "removing 550 features\n",
      "removing 29 features\n"
     ]
    }
   ],
   "source": [
    "dll = remove_cols(themida, [c for c in cols if c.startswith('ngram_')])\n",
    "dll = remove_cols(themida, [c for c in cols if c.startswith('opcode_')])\n",
    "dll = remove_cols(themida, [c for c in cols if c.startswith('generic_')])\n",
    "dll = remove_cols(themida, [c for c in cols if c.startswith('string_')])\n",
    "dll = remove_cols(themida, [c for c in cols if c.startswith('rich_')])\n",
    "dll = remove_cols(themida, [c for c in cols if c.startswith('imp_') or 'api_import_nb' == c])\n",
    "# api = remove_cols(themida, [c for c in cols if c.endswith('.dll') or 'dll_import_nb' == c])\n",
    "dll = remove_cols(themida, [c for c in cols if c.startswith('pesection')])\n",
    "dll = remove_cols(themida, [c for c in cols if c.startswith('header_')])"
   ]
  },
  {
   "cell_type": "code",
   "execution_count": 53,
   "id": "4a2683c7",
   "metadata": {
    "execution": {
     "iopub.execute_input": "2024-01-23T12:08:58.485070Z",
     "iopub.status.busy": "2024-01-23T12:08:58.484568Z",
     "iopub.status.idle": "2024-01-23T12:08:58.584192Z",
     "shell.execute_reply": "2024-01-23T12:08:58.583120Z"
    },
    "papermill": {
     "duration": 0.124043,
     "end_time": "2024-01-23T12:08:58.586790",
     "exception": false,
     "start_time": "2024-01-23T12:08:58.462747",
     "status": "completed"
    },
    "tags": []
   },
   "outputs": [],
   "source": [
    "df_7000_dll = dll.sample(n=7000, random_state=102)\n",
    "df_3000_dll = dll.drop(df_7000.index)\n",
    "data_dll = df_7000_dll.sample(n=3500, random_state=102)"
   ]
  },
  {
   "cell_type": "code",
   "execution_count": 54,
   "id": "0fe017a4",
   "metadata": {
    "execution": {
     "iopub.execute_input": "2024-01-23T12:08:58.629267Z",
     "iopub.status.busy": "2024-01-23T12:08:58.628898Z",
     "iopub.status.idle": "2024-01-23T12:08:58.826062Z",
     "shell.execute_reply": "2024-01-23T12:08:58.824385Z"
    },
    "papermill": {
     "duration": 0.221434,
     "end_time": "2024-01-23T12:08:58.828607",
     "exception": false,
     "start_time": "2024-01-23T12:08:58.607173",
     "status": "completed"
    },
    "tags": []
   },
   "outputs": [
    {
     "name": "stdout",
     "output_type": "stream",
     "text": [
      "Packed Malware: 2241 samples\n",
      "Packed Benign: 1259 samples\n",
      "Total TRAIN set: 3500 samples\n",
      "Packed Malware: 1259 samples\n",
      "Packed Benign: 1259 samples\n",
      "Total TRAIN set: 2518 samples\n",
      "Packed Malware: 1089 samples\n",
      "Packed Benign: 1089 samples\n",
      "Total TEST set: 2178 samples\n"
     ]
    }
   ],
   "source": [
    "#Kiểm tra số lượng mẫu\n",
    "PM = data_dll[(data_dll['malicious'] == True) & (data_dll['packed'] == True)].shape[0]\n",
    "PB = data_dll[(data_dll['malicious'] == False) & (data_dll['packed'] == True)].shape[0]\n",
    "print('Packed Malware: %i samples' % PM)\n",
    "print('Packed Benign: %i samples' % PB)\n",
    "print('Total TRAIN set: %i samples'% (PM+PB))\n",
    "\n",
    "#Chia tỉ lệ 50 - 50\n",
    "data_PM_dll = data_dll[(data_dll['malicious'] == True) & (data_dll['packed'] == True)].sample(n=(PM-PB), random_state=102)\n",
    "data_dll = data_dll.drop(data_PM_dll.index)\n",
    "      \n",
    "#Số lượng tập train\n",
    "PM = data_dll[(data_dll['malicious'] == True) & (data_dll['packed'] == True)].shape[0]\n",
    "PB = data_dll[(data_dll['malicious'] == False) & (data_dll['packed'] == True)].shape[0]\n",
    "print('Packed Malware: %i samples' % PM)\n",
    "print('Packed Benign: %i samples' % PB)\n",
    "print('Total TRAIN set: %i samples'% (PM+PB))\n",
    "\n",
    "#Xử lý tập train\n",
    "y = data_dll['malicious'].values\n",
    "data_dll = data_dll.drop(['malicious','packed'], axis=1)\n",
    "\n",
    "PM = df_3000_dll[(df_3000_dll['malicious'] == True) & (df_3000_dll['packed'] == True)].shape[0]\n",
    "PB = df_3000_dll[(df_3000_dll['malicious'] == False) & (df_3000_dll['packed'] == True)].shape[0]\n",
    "\n",
    "df_3000_PM_dll = df_3000_dll[(df_3000_dll['malicious'] == True) & (df_3000_dll['packed'] == True)].sample(n=(PM-PB), random_state=102)\n",
    "df_3000_dll = df_3000_dll.drop(df_3000_PM_dll.index)\n",
    "\n",
    "PM = df_3000_dll[(df_3000_dll['malicious'] == True) & (df_3000_dll['packed'] == True)].shape[0]\n",
    "PB = df_3000_dll[(df_3000_dll['malicious'] == False) & (df_3000_dll['packed'] == True)].shape[0]\n",
    "\n",
    "print('Packed Malware: %i samples' % PM)\n",
    "print('Packed Benign: %i samples' % PB)\n",
    "print('Total TEST set: %i samples'% (PM+PB))"
   ]
  },
  {
   "cell_type": "code",
   "execution_count": 55,
   "id": "01af9d2c",
   "metadata": {
    "execution": {
     "iopub.execute_input": "2024-01-23T12:08:58.870650Z",
     "iopub.status.busy": "2024-01-23T12:08:58.870082Z",
     "iopub.status.idle": "2024-01-23T12:08:58.912352Z",
     "shell.execute_reply": "2024-01-23T12:08:58.911390Z"
    },
    "papermill": {
     "duration": 0.065614,
     "end_time": "2024-01-23T12:08:58.914693",
     "exception": false,
     "start_time": "2024-01-23T12:08:58.849079",
     "status": "completed"
    },
    "tags": []
   },
   "outputs": [],
   "source": [
    "# model = SelectFromModel(fsel, prefit=True)\n",
    "\n",
    "X_train_dll = data_dll\n",
    "X_test_dll = df_3000_dll.drop(['malicious','packed'], axis=1)\n",
    "\n",
    "data_dll = data_dll.loc[:, (data_dll != 0).any(axis=0)]\n",
    "x_train_dll = data_dll\n",
    "X_test_dll = df_3000_dll.drop(['malicious','packed'], axis=1)\n",
    "y_train_dll = y\n",
    "y_test_dll = df_3000_dll['malicious'].values"
   ]
  },
  {
   "cell_type": "code",
   "execution_count": 56,
   "id": "57cb1444",
   "metadata": {
    "execution": {
     "iopub.execute_input": "2024-01-23T12:08:58.958086Z",
     "iopub.status.busy": "2024-01-23T12:08:58.956984Z",
     "iopub.status.idle": "2024-01-23T12:09:01.617916Z",
     "shell.execute_reply": "2024-01-23T12:09:01.616440Z"
    },
    "papermill": {
     "duration": 2.684817,
     "end_time": "2024-01-23T12:09:01.620396",
     "exception": false,
     "start_time": "2024-01-23T12:08:58.935579",
     "status": "completed"
    },
    "tags": []
   },
   "outputs": [
    {
     "name": "stdout",
     "output_type": "stream",
     "text": [
      "The accuracy of the Random Forests model is :\t 0.5298438934802571\n"
     ]
    }
   ],
   "source": [
    "# Random Forest\n",
    "from sklearn.ensemble import RandomForestClassifier\n",
    "from sklearn import metrics\n",
    "\n",
    "random_forest = RandomForestClassifier(n_estimators=100, random_state=17)\n",
    "random_forest.fit(X_train_dll, y_train_dll)\n",
    "random_forest_preds = random_forest.predict(X_test_dll)\n",
    "print('The accuracy of the Random Forests model is :\\t',metrics.accuracy_score(random_forest_preds,y_test_dll))"
   ]
  },
  {
   "cell_type": "markdown",
   "id": "7738f139",
   "metadata": {
    "papermill": {
     "duration": 0.020294,
     "end_time": "2024-01-23T12:09:01.661707",
     "exception": false,
     "start_time": "2024-01-23T12:09:01.641413",
     "status": "completed"
    },
    "tags": []
   },
   "source": [
    "# **pe sections features**"
   ]
  },
  {
   "cell_type": "code",
   "execution_count": 57,
   "id": "49b552f7",
   "metadata": {
    "execution": {
     "iopub.execute_input": "2024-01-23T12:09:01.704677Z",
     "iopub.status.busy": "2024-01-23T12:09:01.703954Z",
     "iopub.status.idle": "2024-01-23T12:09:03.367839Z",
     "shell.execute_reply": "2024-01-23T12:09:03.366776Z"
    },
    "papermill": {
     "duration": 1.688104,
     "end_time": "2024-01-23T12:09:03.370536",
     "exception": false,
     "start_time": "2024-01-23T12:09:01.682432",
     "status": "completed"
    },
    "tags": []
   },
   "outputs": [],
   "source": [
    "themida = pd.read_pickle('/kaggle/input/packer-balance-pickle/themida_balance.pickle')\n",
    "themida = themida.drop(['sample_sha1','benign','unpacked_sample_sha1','unpacked_sample_id'], axis=1)\n",
    "themida = themida.drop(['benign_vt','malicious_vt'], axis=1)\n",
    "string_columns = themida.select_dtypes(include=['object']).columns\n",
    "themida = themida.drop(string_columns, axis=1)"
   ]
  },
  {
   "cell_type": "code",
   "execution_count": 58,
   "id": "0226cd65",
   "metadata": {
    "execution": {
     "iopub.execute_input": "2024-01-23T12:09:03.412559Z",
     "iopub.status.busy": "2024-01-23T12:09:03.412121Z",
     "iopub.status.idle": "2024-01-23T12:09:04.610501Z",
     "shell.execute_reply": "2024-01-23T12:09:04.609350Z"
    },
    "papermill": {
     "duration": 1.222246,
     "end_time": "2024-01-23T12:09:04.612722",
     "exception": false,
     "start_time": "2024-01-23T12:09:03.390476",
     "status": "completed"
    },
    "tags": []
   },
   "outputs": [
    {
     "name": "stdout",
     "output_type": "stream",
     "text": [
      "removing 13000 features\n",
      "removing 2500 features\n",
      "removing 2 features\n",
      "removing 16900 features\n",
      "removing 66 features\n",
      "removing 19169 features\n",
      "removing 4306 features\n",
      "removing 29 features\n"
     ]
    }
   ],
   "source": [
    "pesection = remove_cols(themida, [c for c in cols if c.startswith('ngram_')])\n",
    "pesection = remove_cols(themida, [c for c in cols if c.startswith('opcode_')])\n",
    "pesection = remove_cols(themida, [c for c in cols if c.startswith('generic_')])\n",
    "pesection = remove_cols(themida, [c for c in cols if c.startswith('string_')])\n",
    "pesection = remove_cols(themida, [c for c in cols if c.startswith('rich_')])\n",
    "pesection = remove_cols(themida, [c for c in cols if c.startswith('imp_') or 'api_import_nb' == c])\n",
    "pesection = remove_cols(themida, [c for c in cols if c.endswith('.dll') or 'dll_import_nb' == c])\n",
    "# pesection = remove_cols(themida, [c for c in cols if c.startswith('pesection')])\n",
    "pesection = remove_cols(themida, [c for c in cols if c.startswith('header_')])"
   ]
  },
  {
   "cell_type": "code",
   "execution_count": 59,
   "id": "b773e1a0",
   "metadata": {
    "execution": {
     "iopub.execute_input": "2024-01-23T12:09:04.654999Z",
     "iopub.status.busy": "2024-01-23T12:09:04.654601Z",
     "iopub.status.idle": "2024-01-23T12:09:04.702970Z",
     "shell.execute_reply": "2024-01-23T12:09:04.701813Z"
    },
    "papermill": {
     "duration": 0.072836,
     "end_time": "2024-01-23T12:09:04.705713",
     "exception": false,
     "start_time": "2024-01-23T12:09:04.632877",
     "status": "completed"
    },
    "tags": []
   },
   "outputs": [],
   "source": [
    "df_7000_pesection = pesection.sample(n=7000, random_state=102)\n",
    "df_3000_pesection = pesection.drop(df_7000.index)\n",
    "data_pesection = df_7000_pesection.sample(n=3500, random_state=102)"
   ]
  },
  {
   "cell_type": "code",
   "execution_count": 60,
   "id": "556a74d8",
   "metadata": {
    "execution": {
     "iopub.execute_input": "2024-01-23T12:09:04.748997Z",
     "iopub.status.busy": "2024-01-23T12:09:04.747832Z",
     "iopub.status.idle": "2024-01-23T12:09:04.875995Z",
     "shell.execute_reply": "2024-01-23T12:09:04.874223Z"
    },
    "papermill": {
     "duration": 0.152839,
     "end_time": "2024-01-23T12:09:04.878884",
     "exception": false,
     "start_time": "2024-01-23T12:09:04.726045",
     "status": "completed"
    },
    "tags": []
   },
   "outputs": [
    {
     "name": "stdout",
     "output_type": "stream",
     "text": [
      "Packed Malware: 2241 samples\n",
      "Packed Benign: 1259 samples\n",
      "Total TRAIN set: 3500 samples\n",
      "Packed Malware: 1259 samples\n",
      "Packed Benign: 1259 samples\n",
      "Total TRAIN set: 2518 samples\n",
      "Packed Malware: 1089 samples\n",
      "Packed Benign: 1089 samples\n",
      "Total TEST set: 2178 samples\n"
     ]
    }
   ],
   "source": [
    "#Kiểm tra số lượng mẫu\n",
    "PM = data_pesection[(data_pesection['malicious'] == True) & (data_pesection['packed'] == True)].shape[0]\n",
    "PB = data_pesection[(data_pesection['malicious'] == False) & (data_pesection['packed'] == True)].shape[0]\n",
    "print('Packed Malware: %i samples' % PM)\n",
    "print('Packed Benign: %i samples' % PB)\n",
    "print('Total TRAIN set: %i samples'% (PM+PB))\n",
    "\n",
    "#Chia tỉ lệ 50 - 50\n",
    "data_PM_pesection = data_pesection[(data_pesection['malicious'] == True) & (data_pesection['packed'] == True)].sample(n=(PM-PB), random_state=102)\n",
    "data_pesection = data_pesection.drop(data_PM_pesection.index)\n",
    "      \n",
    "#Số lượng tập train\n",
    "PM = data_pesection[(data_pesection['malicious'] == True) & (data_pesection['packed'] == True)].shape[0]\n",
    "PB = data_pesection[(data_pesection['malicious'] == False) & (data_pesection['packed'] == True)].shape[0]\n",
    "print('Packed Malware: %i samples' % PM)\n",
    "print('Packed Benign: %i samples' % PB)\n",
    "print('Total TRAIN set: %i samples'% (PM+PB))\n",
    "\n",
    "#Xử lý tập train\n",
    "y = data_pesection['malicious'].values\n",
    "data_pesection = data_pesection.drop(['malicious','packed'], axis=1)\n",
    "\n",
    "PM = df_3000_pesection[(df_3000_pesection['malicious'] == True) & (df_3000_pesection['packed'] == True)].shape[0]\n",
    "PB = df_3000_pesection[(df_3000_pesection['malicious'] == False) & (df_3000_pesection['packed'] == True)].shape[0]\n",
    "\n",
    "df_3000_PM_pesection = df_3000_pesection[(df_3000_pesection['malicious'] == True) & (df_3000_pesection['packed'] == True)].sample(n=(PM-PB), random_state=102)\n",
    "df_3000_pesection = df_3000_pesection.drop(df_3000_PM_pesection.index)\n",
    "\n",
    "PM = df_3000_pesection[(df_3000_pesection['malicious'] == True) & (df_3000_pesection['packed'] == True)].shape[0]\n",
    "PB = df_3000_pesection[(df_3000_pesection['malicious'] == False) & (df_3000_pesection['packed'] == True)].shape[0]\n",
    "\n",
    "print('Packed Malware: %i samples' % PM)\n",
    "print('Packed Benign: %i samples' % PB)\n",
    "print('Total TEST set: %i samples'% (PM+PB))"
   ]
  },
  {
   "cell_type": "code",
   "execution_count": 61,
   "id": "c8b82806",
   "metadata": {
    "execution": {
     "iopub.execute_input": "2024-01-23T12:09:04.922403Z",
     "iopub.status.busy": "2024-01-23T12:09:04.921791Z",
     "iopub.status.idle": "2024-01-23T12:09:04.952699Z",
     "shell.execute_reply": "2024-01-23T12:09:04.951878Z"
    },
    "papermill": {
     "duration": 0.055195,
     "end_time": "2024-01-23T12:09:04.955128",
     "exception": false,
     "start_time": "2024-01-23T12:09:04.899933",
     "status": "completed"
    },
    "tags": []
   },
   "outputs": [],
   "source": [
    "# model = SelectFromModel(fsel, prefit=True)\n",
    "\n",
    "X_train_pesection = data_pesection\n",
    "X_test_pesection = df_3000_pesection.drop(['malicious','packed'], axis=1)\n",
    "\n",
    "data_pesection = data_pesection.loc[:, (data_pesection != 0).any(axis=0)]\n",
    "x_train_pesection = data_pesection\n",
    "X_test_pesection = df_3000_pesection.drop(['malicious','packed'], axis=1)\n",
    "y_train_pesection = y\n",
    "y_test_pesection = df_3000_pesection['malicious'].values"
   ]
  },
  {
   "cell_type": "code",
   "execution_count": 62,
   "id": "f19ae11a",
   "metadata": {
    "execution": {
     "iopub.execute_input": "2024-01-23T12:09:05.000035Z",
     "iopub.status.busy": "2024-01-23T12:09:04.999403Z",
     "iopub.status.idle": "2024-01-23T12:09:05.786478Z",
     "shell.execute_reply": "2024-01-23T12:09:05.785084Z"
    },
    "papermill": {
     "duration": 0.81241,
     "end_time": "2024-01-23T12:09:05.788715",
     "exception": false,
     "start_time": "2024-01-23T12:09:04.976305",
     "status": "completed"
    },
    "tags": []
   },
   "outputs": [
    {
     "name": "stdout",
     "output_type": "stream",
     "text": [
      "The accuracy of the Random Forests model is :\t 0.8888888888888888\n"
     ]
    }
   ],
   "source": [
    "# Random Forest\n",
    "from sklearn.ensemble import RandomForestClassifier\n",
    "from sklearn import metrics\n",
    "\n",
    "random_forest = RandomForestClassifier(n_estimators=100, random_state=17)\n",
    "random_forest.fit(X_train_pesection, y_train_pesection)\n",
    "random_forest_preds = random_forest.predict(X_test_pesection)\n",
    "print('The accuracy of the Random Forests model is :\\t',metrics.accuracy_score(random_forest_preds,y_test_pesection))"
   ]
  },
  {
   "cell_type": "markdown",
   "id": "8a5172fa",
   "metadata": {
    "papermill": {
     "duration": 0.019911,
     "end_time": "2024-01-23T12:09:05.829166",
     "exception": false,
     "start_time": "2024-01-23T12:09:05.809255",
     "status": "completed"
    },
    "tags": []
   },
   "source": [
    "# **pe header features**"
   ]
  },
  {
   "cell_type": "code",
   "execution_count": 63,
   "id": "c7ead30f",
   "metadata": {
    "execution": {
     "iopub.execute_input": "2024-01-23T12:09:05.871415Z",
     "iopub.status.busy": "2024-01-23T12:09:05.871017Z",
     "iopub.status.idle": "2024-01-23T12:09:07.613989Z",
     "shell.execute_reply": "2024-01-23T12:09:07.613001Z"
    },
    "papermill": {
     "duration": 1.767265,
     "end_time": "2024-01-23T12:09:07.616558",
     "exception": false,
     "start_time": "2024-01-23T12:09:05.849293",
     "status": "completed"
    },
    "tags": []
   },
   "outputs": [],
   "source": [
    "themida = pd.read_pickle('/kaggle/input/packer-balance-pickle/themida_balance.pickle')\n",
    "themida = themida.drop(['sample_sha1','benign','unpacked_sample_sha1','unpacked_sample_id'], axis=1)\n",
    "themida = themida.drop(['benign_vt','malicious_vt'], axis=1)\n",
    "string_columns = themida.select_dtypes(include=['object']).columns\n",
    "themida = themida.drop(string_columns, axis=1)"
   ]
  },
  {
   "cell_type": "code",
   "execution_count": 64,
   "id": "c5ae2f3f",
   "metadata": {
    "execution": {
     "iopub.execute_input": "2024-01-23T12:09:07.661061Z",
     "iopub.status.busy": "2024-01-23T12:09:07.660068Z",
     "iopub.status.idle": "2024-01-23T12:09:08.945885Z",
     "shell.execute_reply": "2024-01-23T12:09:08.944080Z"
    },
    "papermill": {
     "duration": 1.310467,
     "end_time": "2024-01-23T12:09:08.948450",
     "exception": false,
     "start_time": "2024-01-23T12:09:07.637983",
     "status": "completed"
    },
    "tags": []
   },
   "outputs": [
    {
     "name": "stdout",
     "output_type": "stream",
     "text": [
      "removing 13000 features\n",
      "removing 2500 features\n",
      "removing 2 features\n",
      "removing 16900 features\n",
      "removing 66 features\n",
      "removing 19169 features\n",
      "removing 4306 features\n",
      "removing 550 features\n"
     ]
    }
   ],
   "source": [
    "header = remove_cols(themida, [c for c in cols if c.startswith('ngram_')])\n",
    "header = remove_cols(themida, [c for c in cols if c.startswith('opcode_')])\n",
    "header = remove_cols(themida, [c for c in cols if c.startswith('generic_')])\n",
    "header = remove_cols(themida, [c for c in cols if c.startswith('string_')])\n",
    "header = remove_cols(themida, [c for c in cols if c.startswith('rich_')])\n",
    "header = remove_cols(themida, [c for c in cols if c.startswith('imp_') or 'api_import_nb' == c])\n",
    "header = remove_cols(themida, [c for c in cols if c.endswith('.dll') or 'dll_import_nb' == c])\n",
    "header = remove_cols(themida, [c for c in cols if c.startswith('pesection')])\n",
    "# header = remove_cols(themida, [c for c in cols if c.startswith('header_')])"
   ]
  },
  {
   "cell_type": "code",
   "execution_count": 65,
   "id": "cc57980f",
   "metadata": {
    "execution": {
     "iopub.execute_input": "2024-01-23T12:09:08.994944Z",
     "iopub.status.busy": "2024-01-23T12:09:08.994432Z",
     "iopub.status.idle": "2024-01-23T12:09:09.007160Z",
     "shell.execute_reply": "2024-01-23T12:09:09.005737Z"
    },
    "papermill": {
     "duration": 0.039668,
     "end_time": "2024-01-23T12:09:09.009934",
     "exception": false,
     "start_time": "2024-01-23T12:09:08.970266",
     "status": "completed"
    },
    "tags": []
   },
   "outputs": [],
   "source": [
    "df_7000_header = header.sample(n=7000, random_state=102)\n",
    "df_3000_header = header.drop(df_7000.index)\n",
    "data_header = df_7000_header.sample(n=3500, random_state=102)"
   ]
  },
  {
   "cell_type": "code",
   "execution_count": 66,
   "id": "4fba9796",
   "metadata": {
    "execution": {
     "iopub.execute_input": "2024-01-23T12:09:09.056822Z",
     "iopub.status.busy": "2024-01-23T12:09:09.056364Z",
     "iopub.status.idle": "2024-01-23T12:09:09.093858Z",
     "shell.execute_reply": "2024-01-23T12:09:09.092461Z"
    },
    "papermill": {
     "duration": 0.064986,
     "end_time": "2024-01-23T12:09:09.096501",
     "exception": false,
     "start_time": "2024-01-23T12:09:09.031515",
     "status": "completed"
    },
    "tags": []
   },
   "outputs": [
    {
     "name": "stdout",
     "output_type": "stream",
     "text": [
      "Packed Malware: 2241 samples\n",
      "Packed Benign: 1259 samples\n",
      "Total TRAIN set: 3500 samples\n",
      "Packed Malware: 1259 samples\n",
      "Packed Benign: 1259 samples\n",
      "Total TRAIN set: 2518 samples\n",
      "Packed Malware: 1089 samples\n",
      "Packed Benign: 1089 samples\n",
      "Total TEST set: 2178 samples\n"
     ]
    }
   ],
   "source": [
    "#Kiểm tra số lượng mẫu\n",
    "PM = data_header[(data_header['malicious'] == True) & (data_header['packed'] == True)].shape[0]\n",
    "PB = data_header[(data_header['malicious'] == False) & (data_header['packed'] == True)].shape[0]\n",
    "print('Packed Malware: %i samples' % PM)\n",
    "print('Packed Benign: %i samples' % PB)\n",
    "print('Total TRAIN set: %i samples'% (PM+PB))\n",
    "\n",
    "#Chia tỉ lệ 50 - 50\n",
    "data_PM_header = data_header[(data_header['malicious'] == True) & (data_header['packed'] == True)].sample(n=(PM-PB), random_state=102)\n",
    "data_header = data_header.drop(data_PM_header.index)\n",
    "      \n",
    "#Số lượng tập train\n",
    "PM = data_header[(data_header['malicious'] == True) & (data_header['packed'] == True)].shape[0]\n",
    "PB = data_header[(data_header['malicious'] == False) & (data_header['packed'] == True)].shape[0]\n",
    "print('Packed Malware: %i samples' % PM)\n",
    "print('Packed Benign: %i samples' % PB)\n",
    "print('Total TRAIN set: %i samples'% (PM+PB))\n",
    "\n",
    "#Xử lý tập train\n",
    "y = data_header['malicious'].values\n",
    "data_header= data_header.drop(['malicious','packed'], axis=1)\n",
    "\n",
    "PM = df_3000_header[(df_3000_header['malicious'] == True) & (df_3000_header['packed'] == True)].shape[0]\n",
    "PB = df_3000_header[(df_3000_header['malicious'] == False) & (df_3000_header['packed'] == True)].shape[0]\n",
    "\n",
    "df_3000_PM_header = df_3000_header[(df_3000_header['malicious'] == True) & (df_3000_header['packed'] == True)].sample(n=(PM-PB), random_state=102)\n",
    "df_3000_header= df_3000_header.drop(df_3000_PM_header.index)\n",
    "\n",
    "PM = df_3000_header[(df_3000_header['malicious'] == True) & (df_3000_header['packed'] == True)].shape[0]\n",
    "PB = df_3000_header[(df_3000_header['malicious'] == False) & (df_3000_header['packed'] == True)].shape[0]\n",
    "\n",
    "print('Packed Malware: %i samples' % PM)\n",
    "print('Packed Benign: %i samples' % PB)\n",
    "print('Total TEST set: %i samples'% (PM+PB))"
   ]
  },
  {
   "cell_type": "code",
   "execution_count": 67,
   "id": "a3ace8c5",
   "metadata": {
    "execution": {
     "iopub.execute_input": "2024-01-23T12:09:09.140453Z",
     "iopub.status.busy": "2024-01-23T12:09:09.140018Z",
     "iopub.status.idle": "2024-01-23T12:09:09.152979Z",
     "shell.execute_reply": "2024-01-23T12:09:09.151658Z"
    },
    "papermill": {
     "duration": 0.037813,
     "end_time": "2024-01-23T12:09:09.155317",
     "exception": false,
     "start_time": "2024-01-23T12:09:09.117504",
     "status": "completed"
    },
    "tags": []
   },
   "outputs": [],
   "source": [
    "# model = SelectFromModel(fsel, prefit=True)\n",
    "\n",
    "X_train_header = data_header\n",
    "X_test_header = df_3000_header.drop(['malicious','packed'], axis=1)\n",
    "\n",
    "data_header = data_header.loc[:, (data_header != 0).any(axis=0)]\n",
    "x_train_header = data_header\n",
    "X_test_header = df_3000_header.drop(['malicious','packed'], axis=1)\n",
    "y_train_header = y\n",
    "y_test_header = df_3000_header['malicious'].values"
   ]
  },
  {
   "cell_type": "code",
   "execution_count": 68,
   "id": "8dd69798",
   "metadata": {
    "execution": {
     "iopub.execute_input": "2024-01-23T12:09:09.203971Z",
     "iopub.status.busy": "2024-01-23T12:09:09.203188Z",
     "iopub.status.idle": "2024-01-23T12:09:09.677223Z",
     "shell.execute_reply": "2024-01-23T12:09:09.675269Z"
    },
    "papermill": {
     "duration": 0.502028,
     "end_time": "2024-01-23T12:09:09.679784",
     "exception": false,
     "start_time": "2024-01-23T12:09:09.177756",
     "status": "completed"
    },
    "tags": []
   },
   "outputs": [
    {
     "name": "stdout",
     "output_type": "stream",
     "text": [
      "The accuracy of the Random Forests model is :\t 0.8971533516988063\n"
     ]
    }
   ],
   "source": [
    "# Random Forest\n",
    "from sklearn.ensemble import RandomForestClassifier\n",
    "from sklearn import metrics\n",
    "\n",
    "random_forest = RandomForestClassifier(n_estimators=100, random_state=17)\n",
    "random_forest.fit(X_train_header, y_train_header)\n",
    "random_forest_preds = random_forest.predict(X_test_header)\n",
    "print('The accuracy of the Random Forests model is :\\t',metrics.accuracy_score(random_forest_preds,y_test_header))"
   ]
  }
 ],
 "metadata": {
  "kaggle": {
   "accelerator": "none",
   "dataSources": [
    {
     "datasetId": 4192384,
     "sourceId": 7262652,
     "sourceType": "datasetVersion"
    }
   ],
   "dockerImageVersionId": 30626,
   "isGpuEnabled": false,
   "isInternetEnabled": true,
   "language": "python",
   "sourceType": "notebook"
  },
  "kernelspec": {
   "display_name": "Python 3",
   "language": "python",
   "name": "python3"
  },
  "language_info": {
   "codemirror_mode": {
    "name": "ipython",
    "version": 3
   },
   "file_extension": ".py",
   "mimetype": "text/x-python",
   "name": "python",
   "nbconvert_exporter": "python",
   "pygments_lexer": "ipython3",
   "version": "3.10.12"
  },
  "papermill": {
   "default_parameters": {},
   "duration": 79.176902,
   "end_time": "2024-01-23T12:09:10.524943",
   "environment_variables": {},
   "exception": null,
   "input_path": "__notebook__.ipynb",
   "output_path": "__notebook__.ipynb",
   "parameters": {},
   "start_time": "2024-01-23T12:07:51.348041",
   "version": "2.4.0"
  }
 },
 "nbformat": 4,
 "nbformat_minor": 5
}
