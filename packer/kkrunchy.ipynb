{
 "cells": [
  {
   "cell_type": "code",
   "execution_count": 1,
   "id": "b2cc1c52",
   "metadata": {
    "execution": {
     "iopub.execute_input": "2023-12-27T01:16:48.210777Z",
     "iopub.status.busy": "2023-12-27T01:16:48.210399Z",
     "iopub.status.idle": "2023-12-27T01:16:51.105621Z",
     "shell.execute_reply": "2023-12-27T01:16:51.104323Z"
    },
    "papermill": {
     "duration": 2.914726,
     "end_time": "2023-12-27T01:16:51.108432",
     "exception": false,
     "start_time": "2023-12-27T01:16:48.193706",
     "status": "completed"
    },
    "tags": []
   },
   "outputs": [],
   "source": [
    "import pandas as pd\n",
    "import numpy as np\n",
    "import sklearn\n",
    "import sklearn.naive_bayes\n",
    "import sklearn.ensemble as ske\n",
    "import sklearn.neighbors\n",
    "import sklearn.pipeline\n",
    "import sklearn.linear_model\n",
    "import joblib\n",
    "from sklearn import preprocessing\n",
    "from sklearn import tree, linear_model\n",
    "from sklearn.metrics import confusion_matrix\n",
    "from sklearn.metrics import classification_report\n",
    "from sklearn.feature_selection import SelectFromModel\n",
    "import sys\n",
    "import sqlite3\n",
    "import importlib\n",
    "import matplotlib.pyplot as plt\n",
    "import seaborn as sn\n",
    "from sklearn import metrics"
   ]
  },
  {
   "cell_type": "code",
   "execution_count": 2,
   "id": "a64aee14",
   "metadata": {
    "execution": {
     "iopub.execute_input": "2023-12-27T01:16:51.138732Z",
     "iopub.status.busy": "2023-12-27T01:16:51.138169Z",
     "iopub.status.idle": "2023-12-27T01:16:57.997140Z",
     "shell.execute_reply": "2023-12-27T01:16:57.995448Z"
    },
    "papermill": {
     "duration": 6.87702,
     "end_time": "2023-12-27T01:16:57.999902",
     "exception": false,
     "start_time": "2023-12-27T01:16:51.122882",
     "status": "completed"
    },
    "tags": []
   },
   "outputs": [],
   "source": [
    "kkrunchy = pd.read_pickle('/kaggle/input/packer-balance-pickle/kkrunchy_balance.pickle')"
   ]
  },
  {
   "cell_type": "code",
   "execution_count": 3,
   "id": "df5543a0",
   "metadata": {
    "execution": {
     "iopub.execute_input": "2023-12-27T01:16:58.030485Z",
     "iopub.status.busy": "2023-12-27T01:16:58.030060Z",
     "iopub.status.idle": "2023-12-27T01:16:58.497548Z",
     "shell.execute_reply": "2023-12-27T01:16:58.495875Z"
    },
    "papermill": {
     "duration": 0.485966,
     "end_time": "2023-12-27T01:16:58.500109",
     "exception": false,
     "start_time": "2023-12-27T01:16:58.014143",
     "status": "completed"
    },
    "tags": []
   },
   "outputs": [],
   "source": [
    "kkrunchy = kkrunchy.drop(['sample_sha1','benign','unpacked_sample_sha1','unpacked_sample_id'], axis=1)\n",
    "kkrunchy = kkrunchy.drop(['benign_vt','malicious_vt'], axis=1)"
   ]
  },
  {
   "cell_type": "code",
   "execution_count": 4,
   "id": "d436d33b",
   "metadata": {
    "execution": {
     "iopub.execute_input": "2023-12-27T01:16:58.531754Z",
     "iopub.status.busy": "2023-12-27T01:16:58.531345Z",
     "iopub.status.idle": "2023-12-27T01:16:58.718081Z",
     "shell.execute_reply": "2023-12-27T01:16:58.716735Z"
    },
    "papermill": {
     "duration": 0.205459,
     "end_time": "2023-12-27T01:16:58.720825",
     "exception": false,
     "start_time": "2023-12-27T01:16:58.515366",
     "status": "completed"
    },
    "tags": []
   },
   "outputs": [],
   "source": [
    "string_columns = kkrunchy.select_dtypes(include=['object']).columns\n",
    "kkrunchy = kkrunchy.drop(string_columns, axis=1)"
   ]
  },
  {
   "cell_type": "code",
   "execution_count": 5,
   "id": "bded16f6",
   "metadata": {
    "execution": {
     "iopub.execute_input": "2023-12-27T01:16:58.751571Z",
     "iopub.status.busy": "2023-12-27T01:16:58.751191Z",
     "iopub.status.idle": "2023-12-27T01:16:58.793252Z",
     "shell.execute_reply": "2023-12-27T01:16:58.792049Z"
    },
    "papermill": {
     "duration": 0.06041,
     "end_time": "2023-12-27T01:16:58.795700",
     "exception": false,
     "start_time": "2023-12-27T01:16:58.735290",
     "status": "completed"
    },
    "tags": []
   },
   "outputs": [
    {
     "data": {
      "text/html": [
       "<div>\n",
       "<style scoped>\n",
       "    .dataframe tbody tr th:only-of-type {\n",
       "        vertical-align: middle;\n",
       "    }\n",
       "\n",
       "    .dataframe tbody tr th {\n",
       "        vertical-align: top;\n",
       "    }\n",
       "\n",
       "    .dataframe thead th {\n",
       "        text-align: right;\n",
       "    }\n",
       "</style>\n",
       "<table border=\"1\" class=\"dataframe\">\n",
       "  <thead>\n",
       "    <tr style=\"text-align: right;\">\n",
       "      <th></th>\n",
       "      <th>malicious</th>\n",
       "      <th>packed</th>\n",
       "      <th>imp_setupremovefilelogentrya</th>\n",
       "      <th>imp_vardeccmp</th>\n",
       "      <th>imp_setdlgitemint</th>\n",
       "      <th>imp_?append@?$basic_string@du?$char_traits@d@std@@v?$allocator@d@2@@std@@qaeaav12@abv12@ii@z</th>\n",
       "      <th>imp_zwwritefile</th>\n",
       "      <th>imp_glstencilop</th>\n",
       "      <th>imp_comparelinkinforeferents</th>\n",
       "      <th>imp__setmbcp</th>\n",
       "      <th>...</th>\n",
       "      <th>opcode_xor sub mov</th>\n",
       "      <th>opcode_xor sub mov add</th>\n",
       "      <th>opcode_xor test</th>\n",
       "      <th>opcode_xor test je</th>\n",
       "      <th>opcode_xor xor</th>\n",
       "      <th>opcode_xor xor mov</th>\n",
       "      <th>opcode_xor xor pop</th>\n",
       "      <th>opcode_xor xor pop mov</th>\n",
       "      <th>opcode_xor xor xor</th>\n",
       "      <th>opcode_xor xor xor pop</th>\n",
       "    </tr>\n",
       "  </thead>\n",
       "  <tbody>\n",
       "    <tr>\n",
       "      <th>0</th>\n",
       "      <td>False</td>\n",
       "      <td>True</td>\n",
       "      <td>False</td>\n",
       "      <td>False</td>\n",
       "      <td>False</td>\n",
       "      <td>False</td>\n",
       "      <td>False</td>\n",
       "      <td>False</td>\n",
       "      <td>False</td>\n",
       "      <td>False</td>\n",
       "      <td>...</td>\n",
       "      <td>0.0</td>\n",
       "      <td>0.0</td>\n",
       "      <td>0.0</td>\n",
       "      <td>0.0</td>\n",
       "      <td>0.0</td>\n",
       "      <td>0.0</td>\n",
       "      <td>0.0</td>\n",
       "      <td>0.0</td>\n",
       "      <td>0.0</td>\n",
       "      <td>0.0</td>\n",
       "    </tr>\n",
       "    <tr>\n",
       "      <th>12</th>\n",
       "      <td>True</td>\n",
       "      <td>True</td>\n",
       "      <td>False</td>\n",
       "      <td>False</td>\n",
       "      <td>False</td>\n",
       "      <td>False</td>\n",
       "      <td>False</td>\n",
       "      <td>False</td>\n",
       "      <td>False</td>\n",
       "      <td>False</td>\n",
       "      <td>...</td>\n",
       "      <td>0.0</td>\n",
       "      <td>0.0</td>\n",
       "      <td>0.0</td>\n",
       "      <td>0.0</td>\n",
       "      <td>0.0</td>\n",
       "      <td>0.0</td>\n",
       "      <td>0.0</td>\n",
       "      <td>0.0</td>\n",
       "      <td>0.0</td>\n",
       "      <td>0.0</td>\n",
       "    </tr>\n",
       "    <tr>\n",
       "      <th>13</th>\n",
       "      <td>False</td>\n",
       "      <td>True</td>\n",
       "      <td>False</td>\n",
       "      <td>False</td>\n",
       "      <td>False</td>\n",
       "      <td>False</td>\n",
       "      <td>False</td>\n",
       "      <td>False</td>\n",
       "      <td>False</td>\n",
       "      <td>False</td>\n",
       "      <td>...</td>\n",
       "      <td>0.0</td>\n",
       "      <td>0.0</td>\n",
       "      <td>0.0</td>\n",
       "      <td>0.0</td>\n",
       "      <td>0.0</td>\n",
       "      <td>0.0</td>\n",
       "      <td>0.0</td>\n",
       "      <td>0.0</td>\n",
       "      <td>0.0</td>\n",
       "      <td>0.0</td>\n",
       "    </tr>\n",
       "    <tr>\n",
       "      <th>14</th>\n",
       "      <td>True</td>\n",
       "      <td>True</td>\n",
       "      <td>False</td>\n",
       "      <td>False</td>\n",
       "      <td>False</td>\n",
       "      <td>False</td>\n",
       "      <td>False</td>\n",
       "      <td>False</td>\n",
       "      <td>False</td>\n",
       "      <td>False</td>\n",
       "      <td>...</td>\n",
       "      <td>0.0</td>\n",
       "      <td>0.0</td>\n",
       "      <td>0.0</td>\n",
       "      <td>0.0</td>\n",
       "      <td>0.0</td>\n",
       "      <td>0.0</td>\n",
       "      <td>0.0</td>\n",
       "      <td>0.0</td>\n",
       "      <td>0.0</td>\n",
       "      <td>0.0</td>\n",
       "    </tr>\n",
       "    <tr>\n",
       "      <th>15</th>\n",
       "      <td>True</td>\n",
       "      <td>True</td>\n",
       "      <td>False</td>\n",
       "      <td>False</td>\n",
       "      <td>False</td>\n",
       "      <td>False</td>\n",
       "      <td>False</td>\n",
       "      <td>False</td>\n",
       "      <td>False</td>\n",
       "      <td>False</td>\n",
       "      <td>...</td>\n",
       "      <td>0.0</td>\n",
       "      <td>0.0</td>\n",
       "      <td>0.0</td>\n",
       "      <td>0.0</td>\n",
       "      <td>0.0</td>\n",
       "      <td>0.0</td>\n",
       "      <td>0.0</td>\n",
       "      <td>0.0</td>\n",
       "      <td>0.0</td>\n",
       "      <td>0.0</td>\n",
       "    </tr>\n",
       "  </tbody>\n",
       "</table>\n",
       "<p>5 rows × 56526 columns</p>\n",
       "</div>"
      ],
      "text/plain": [
       "    malicious  packed  imp_setupremovefilelogentrya  imp_vardeccmp  \\\n",
       "0       False    True                         False          False   \n",
       "12       True    True                         False          False   \n",
       "13      False    True                         False          False   \n",
       "14       True    True                         False          False   \n",
       "15       True    True                         False          False   \n",
       "\n",
       "    imp_setdlgitemint  \\\n",
       "0               False   \n",
       "12              False   \n",
       "13              False   \n",
       "14              False   \n",
       "15              False   \n",
       "\n",
       "    imp_?append@?$basic_string@du?$char_traits@d@std@@v?$allocator@d@2@@std@@qaeaav12@abv12@ii@z  \\\n",
       "0                                               False                                              \n",
       "12                                              False                                              \n",
       "13                                              False                                              \n",
       "14                                              False                                              \n",
       "15                                              False                                              \n",
       "\n",
       "    imp_zwwritefile  imp_glstencilop  imp_comparelinkinforeferents  \\\n",
       "0             False            False                         False   \n",
       "12            False            False                         False   \n",
       "13            False            False                         False   \n",
       "14            False            False                         False   \n",
       "15            False            False                         False   \n",
       "\n",
       "    imp__setmbcp  ...  opcode_xor sub mov  opcode_xor sub mov add  \\\n",
       "0          False  ...                 0.0                     0.0   \n",
       "12         False  ...                 0.0                     0.0   \n",
       "13         False  ...                 0.0                     0.0   \n",
       "14         False  ...                 0.0                     0.0   \n",
       "15         False  ...                 0.0                     0.0   \n",
       "\n",
       "    opcode_xor test  opcode_xor test je  opcode_xor xor  opcode_xor xor mov  \\\n",
       "0               0.0                 0.0             0.0                 0.0   \n",
       "12              0.0                 0.0             0.0                 0.0   \n",
       "13              0.0                 0.0             0.0                 0.0   \n",
       "14              0.0                 0.0             0.0                 0.0   \n",
       "15              0.0                 0.0             0.0                 0.0   \n",
       "\n",
       "    opcode_xor xor pop  opcode_xor xor pop mov  opcode_xor xor xor  \\\n",
       "0                  0.0                     0.0                 0.0   \n",
       "12                 0.0                     0.0                 0.0   \n",
       "13                 0.0                     0.0                 0.0   \n",
       "14                 0.0                     0.0                 0.0   \n",
       "15                 0.0                     0.0                 0.0   \n",
       "\n",
       "    opcode_xor xor xor pop  \n",
       "0                      0.0  \n",
       "12                     0.0  \n",
       "13                     0.0  \n",
       "14                     0.0  \n",
       "15                     0.0  \n",
       "\n",
       "[5 rows x 56526 columns]"
      ]
     },
     "execution_count": 5,
     "metadata": {},
     "output_type": "execute_result"
    }
   ],
   "source": [
    "kkrunchy.head()"
   ]
  },
  {
   "cell_type": "code",
   "execution_count": 6,
   "id": "833062f6",
   "metadata": {
    "execution": {
     "iopub.execute_input": "2023-12-27T01:16:58.828009Z",
     "iopub.status.busy": "2023-12-27T01:16:58.827659Z",
     "iopub.status.idle": "2023-12-27T01:16:59.552204Z",
     "shell.execute_reply": "2023-12-27T01:16:59.550740Z"
    },
    "papermill": {
     "duration": 0.743852,
     "end_time": "2023-12-27T01:16:59.554705",
     "exception": false,
     "start_time": "2023-12-27T01:16:58.810853",
     "status": "completed"
    },
    "tags": []
   },
   "outputs": [],
   "source": [
    "df_7000 = kkrunchy.sample(n=7000, random_state=102)\n",
    "df_3000 = kkrunchy.drop(df_7000.index)"
   ]
  },
  {
   "cell_type": "code",
   "execution_count": 7,
   "id": "aff2aa24",
   "metadata": {
    "execution": {
     "iopub.execute_input": "2023-12-27T01:16:59.585693Z",
     "iopub.status.busy": "2023-12-27T01:16:59.585331Z",
     "iopub.status.idle": "2023-12-27T01:16:59.913896Z",
     "shell.execute_reply": "2023-12-27T01:16:59.912129Z"
    },
    "papermill": {
     "duration": 0.346944,
     "end_time": "2023-12-27T01:16:59.916431",
     "exception": false,
     "start_time": "2023-12-27T01:16:59.569487",
     "status": "completed"
    },
    "tags": []
   },
   "outputs": [],
   "source": [
    "data = df_7000.sample(n=3500, random_state=102)"
   ]
  },
  {
   "cell_type": "code",
   "execution_count": 8,
   "id": "1aea4bba",
   "metadata": {
    "execution": {
     "iopub.execute_input": "2023-12-27T01:16:59.946991Z",
     "iopub.status.busy": "2023-12-27T01:16:59.946631Z",
     "iopub.status.idle": "2023-12-27T01:17:00.187723Z",
     "shell.execute_reply": "2023-12-27T01:17:00.185972Z"
    },
    "papermill": {
     "duration": 0.259564,
     "end_time": "2023-12-27T01:17:00.190425",
     "exception": false,
     "start_time": "2023-12-27T01:16:59.930861",
     "status": "completed"
    },
    "tags": []
   },
   "outputs": [
    {
     "name": "stdout",
     "output_type": "stream",
     "text": [
      "Packed Malware: 2411 samples\n",
      "Packed Benign: 1089 samples\n",
      "Total TRAIN set: 3500 samples\n"
     ]
    }
   ],
   "source": [
    "#Kiểm tra số lượng mẫu\n",
    "PM = data[(data['malicious'] == True) & (data['packed'] == True)].shape[0]\n",
    "PB = data[(data['malicious'] == False) & (data['packed'] == True)].shape[0]\n",
    "print('Packed Malware: %i samples' % PM)\n",
    "print('Packed Benign: %i samples' % PB)\n",
    "print('Total TRAIN set: %i samples'% (PM+PB))"
   ]
  },
  {
   "cell_type": "code",
   "execution_count": 9,
   "id": "2540ccd9",
   "metadata": {
    "execution": {
     "iopub.execute_input": "2023-12-27T01:17:00.223464Z",
     "iopub.status.busy": "2023-12-27T01:17:00.222018Z",
     "iopub.status.idle": "2023-12-27T01:17:00.619019Z",
     "shell.execute_reply": "2023-12-27T01:17:00.617566Z"
    },
    "papermill": {
     "duration": 0.41635,
     "end_time": "2023-12-27T01:17:00.621731",
     "exception": false,
     "start_time": "2023-12-27T01:17:00.205381",
     "status": "completed"
    },
    "tags": []
   },
   "outputs": [],
   "source": [
    "#Chia tỉ lệ 50 - 50\n",
    "data_PM = data[(data['malicious'] == True) & (data['packed'] == True)].sample(n=(PM-PB), random_state=102)\n",
    "data = data.drop(data_PM.index)"
   ]
  },
  {
   "cell_type": "code",
   "execution_count": 10,
   "id": "2042022f",
   "metadata": {
    "execution": {
     "iopub.execute_input": "2023-12-27T01:17:00.717808Z",
     "iopub.status.busy": "2023-12-27T01:17:00.717393Z",
     "iopub.status.idle": "2023-12-27T01:17:00.867598Z",
     "shell.execute_reply": "2023-12-27T01:17:00.865603Z"
    },
    "papermill": {
     "duration": 0.233292,
     "end_time": "2023-12-27T01:17:00.870695",
     "exception": false,
     "start_time": "2023-12-27T01:17:00.637403",
     "status": "completed"
    },
    "tags": []
   },
   "outputs": [
    {
     "name": "stdout",
     "output_type": "stream",
     "text": [
      "Packed Malware: 1089 samples\n",
      "Packed Benign: 1089 samples\n",
      "Total TRAIN set: 2178 samples\n"
     ]
    }
   ],
   "source": [
    "#Số lượng tập train\n",
    "PM = data[(data['malicious'] == True) & (data['packed'] == True)].shape[0]\n",
    "PB = data[(data['malicious'] == False) & (data['packed'] == True)].shape[0]\n",
    "print('Packed Malware: %i samples' % PM)\n",
    "print('Packed Benign: %i samples' % PB)\n",
    "print('Total TRAIN set: %i samples'% (PM+PB))"
   ]
  },
  {
   "cell_type": "code",
   "execution_count": 11,
   "id": "73cdfff9",
   "metadata": {
    "execution": {
     "iopub.execute_input": "2023-12-27T01:17:00.905429Z",
     "iopub.status.busy": "2023-12-27T01:17:00.904986Z",
     "iopub.status.idle": "2023-12-27T01:17:00.967728Z",
     "shell.execute_reply": "2023-12-27T01:17:00.965976Z"
    },
    "papermill": {
     "duration": 0.084791,
     "end_time": "2023-12-27T01:17:00.971808",
     "exception": false,
     "start_time": "2023-12-27T01:17:00.887017",
     "status": "completed"
    },
    "tags": []
   },
   "outputs": [],
   "source": [
    "#Xử lý tập train\n",
    "y = data['malicious'].values\n",
    "data = data.drop(['malicious','packed'], axis=1)"
   ]
  },
  {
   "cell_type": "code",
   "execution_count": 12,
   "id": "2ffc100f",
   "metadata": {
    "execution": {
     "iopub.execute_input": "2023-12-27T01:17:01.016344Z",
     "iopub.status.busy": "2023-12-27T01:17:01.015345Z",
     "iopub.status.idle": "2023-12-27T01:17:01.612996Z",
     "shell.execute_reply": "2023-12-27T01:17:01.611783Z"
    },
    "papermill": {
     "duration": 0.623266,
     "end_time": "2023-12-27T01:17:01.615956",
     "exception": false,
     "start_time": "2023-12-27T01:17:00.992690",
     "status": "completed"
    },
    "tags": []
   },
   "outputs": [
    {
     "name": "stdout",
     "output_type": "stream",
     "text": [
      "Packed Malware: 913 samples\n",
      "Packed Benign: 913 samples\n",
      "Total TEST set: 1826 samples\n"
     ]
    }
   ],
   "source": [
    "PM = df_3000[(df_3000['malicious'] == True) & (df_3000['packed'] == True)].shape[0]\n",
    "PB = df_3000[(df_3000['malicious'] == False) & (df_3000['packed'] == True)].shape[0]\n",
    "\n",
    "df_3000_PM = df_3000[(df_3000['malicious'] == True) & (df_3000['packed'] == True)].sample(n=(PM-PB), random_state=102)\n",
    "df_3000 = df_3000.drop(df_3000_PM.index)\n",
    "\n",
    "PM = df_3000[(df_3000['malicious'] == True) & (df_3000['packed'] == True)].shape[0]\n",
    "PB = df_3000[(df_3000['malicious'] == False) & (df_3000['packed'] == True)].shape[0]\n",
    "\n",
    "print('Packed Malware: %i samples' % PM)\n",
    "print('Packed Benign: %i samples' % PB)\n",
    "print('Total TEST set: %i samples'% (PM+PB))"
   ]
  },
  {
   "cell_type": "code",
   "execution_count": 13,
   "id": "c1cee8d7",
   "metadata": {
    "execution": {
     "iopub.execute_input": "2023-12-27T01:17:01.649865Z",
     "iopub.status.busy": "2023-12-27T01:17:01.649522Z",
     "iopub.status.idle": "2023-12-27T01:17:01.889286Z",
     "shell.execute_reply": "2023-12-27T01:17:01.888011Z"
    },
    "papermill": {
     "duration": 0.259966,
     "end_time": "2023-12-27T01:17:01.891881",
     "exception": false,
     "start_time": "2023-12-27T01:17:01.631915",
     "status": "completed"
    },
    "tags": []
   },
   "outputs": [],
   "source": [
    "# model = SelectFromModel(fsel, prefit=True)\n",
    "\n",
    "X_train = data\n",
    "X_test = df_3000.drop(['malicious','packed'], axis=1)\n",
    "\n",
    "data = data.loc[:, (data != 0).any(axis=0)]\n",
    "x_train = data\n",
    "X_test = df_3000.drop(['malicious','packed'], axis=1)\n",
    "y_train = y\n",
    "y_test = df_3000['malicious'].values"
   ]
  },
  {
   "cell_type": "code",
   "execution_count": 14,
   "id": "10fa7e87",
   "metadata": {
    "execution": {
     "iopub.execute_input": "2023-12-27T01:17:01.926702Z",
     "iopub.status.busy": "2023-12-27T01:17:01.926327Z",
     "iopub.status.idle": "2023-12-27T01:17:07.928961Z",
     "shell.execute_reply": "2023-12-27T01:17:07.928118Z"
    },
    "papermill": {
     "duration": 6.022573,
     "end_time": "2023-12-27T01:17:07.930887",
     "exception": false,
     "start_time": "2023-12-27T01:17:01.908314",
     "status": "completed"
    },
    "tags": []
   },
   "outputs": [
    {
     "name": "stdout",
     "output_type": "stream",
     "text": [
      "The accuracy of the Random Forests model is :\t 0.8964950711938664\n"
     ]
    }
   ],
   "source": [
    "# Random Forest\n",
    "from sklearn.ensemble import RandomForestClassifier\n",
    "from sklearn import metrics\n",
    "\n",
    "random_forest = RandomForestClassifier(n_estimators=100, random_state=17)\n",
    "random_forest.fit(X_train, y_train)\n",
    "random_forest_preds = random_forest.predict(X_test)\n",
    "print('The accuracy of the Random Forests model is :\\t',metrics.accuracy_score(random_forest_preds,y_test))"
   ]
  },
  {
   "cell_type": "code",
   "execution_count": 15,
   "id": "50cdbdaa",
   "metadata": {
    "execution": {
     "iopub.execute_input": "2023-12-27T01:17:07.962627Z",
     "iopub.status.busy": "2023-12-27T01:17:07.962098Z",
     "iopub.status.idle": "2023-12-27T01:17:08.011318Z",
     "shell.execute_reply": "2023-12-27T01:17:08.009741Z"
    },
    "papermill": {
     "duration": 0.06796,
     "end_time": "2023-12-27T01:17:08.013875",
     "exception": false,
     "start_time": "2023-12-27T01:17:07.945915",
     "status": "completed"
    },
    "tags": []
   },
   "outputs": [
    {
     "data": {
      "text/plain": [
       "ngram_b'\\x00\\x00\\x00\\x00\\x06\\x00'        0.009502\n",
       "ngram_b'!-- Co'                          0.008672\n",
       "pesectionProcessed_sectionsMinEntropy    0.007012\n",
       "pesectionProcessed_sectionsMinSize       0.006922\n",
       "header_AddressOfEntryPoint               0.006582\n",
       "                                           ...   \n",
       "fm_inter.dll                             0.000000\n",
       "msvcr71d.dll                             0.000000\n",
       "msvcp71d.dll                             0.000000\n",
       "msvcrtd.dll                              0.000000\n",
       "opcode_xor xor xor pop                   0.000000\n",
       "Length: 56524, dtype: float64"
      ]
     },
     "execution_count": 15,
     "metadata": {},
     "output_type": "execute_result"
    }
   ],
   "source": [
    "feature_scores_rf = pd.Series(random_forest.feature_importances_, index=X_train.columns).sort_values(ascending=False)\n",
    "\n",
    "feature_scores_rf"
   ]
  },
  {
   "cell_type": "code",
   "execution_count": 16,
   "id": "9922b13a",
   "metadata": {
    "execution": {
     "iopub.execute_input": "2023-12-27T01:17:08.045234Z",
     "iopub.status.busy": "2023-12-27T01:17:08.044689Z",
     "iopub.status.idle": "2023-12-27T01:17:08.080259Z",
     "shell.execute_reply": "2023-12-27T01:17:08.078403Z"
    },
    "papermill": {
     "duration": 0.05453,
     "end_time": "2023-12-27T01:17:08.083198",
     "exception": false,
     "start_time": "2023-12-27T01:17:08.028668",
     "status": "completed"
    },
    "tags": []
   },
   "outputs": [],
   "source": [
    "top50 = pd.Series(random_forest.feature_importances_, index=X_train.columns).sort_values(ascending=False).head(50)"
   ]
  },
  {
   "cell_type": "code",
   "execution_count": 17,
   "id": "66d2b6e6",
   "metadata": {
    "execution": {
     "iopub.execute_input": "2023-12-27T01:17:08.115999Z",
     "iopub.status.busy": "2023-12-27T01:17:08.115502Z",
     "iopub.status.idle": "2023-12-27T01:17:08.129854Z",
     "shell.execute_reply": "2023-12-27T01:17:08.128981Z"
    },
    "papermill": {
     "duration": 0.033665,
     "end_time": "2023-12-27T01:17:08.132220",
     "exception": false,
     "start_time": "2023-12-27T01:17:08.098555",
     "status": "completed"
    },
    "tags": []
   },
   "outputs": [
    {
     "name": "stdout",
     "output_type": "stream",
     "text": [
      "'ngram': 19\n",
      "'opcode ngram': 1\n",
      "'generic': 2\n",
      "'strings': 0\n",
      "'rich header': 0\n",
      "'api import': 0\n",
      "'dll': 0\n",
      "'pe section': 23\n",
      "'pe header': 5\n"
     ]
    }
   ],
   "source": [
    "# Tạo DataFrame từ feature_scores_rf\n",
    "df_features = pd.DataFrame(top50, columns=['Score'])\n",
    "\n",
    "count_ngram = df_features[df_features.index.str.startswith('ngram_')].shape[0]\n",
    "count_opcode = df_features[df_features.index.str.startswith('opcode_')].shape[0]\n",
    "count_generic = df_features[df_features.index.str.startswith('generic_')].shape[0]\n",
    "count_string = df_features[df_features.index.str.startswith('string_')].shape[0]\n",
    "count_rich = df_features[df_features.index.str.startswith('rich_')].shape[0]\n",
    "# count_api = df_features[df_features.index.str.startswith('imp_') or 'api_import_nb' == c].shape[0]\n",
    "# count_dll = df_features[df_features.index.str.startswith('.dll') or 'dll_import_nb' == c].shape[0]\n",
    "count_api = df_features[df_features.index.str.startswith('imp_') | (df_features.index == 'api_import_nb')].shape[0]\n",
    "count_dll = df_features[df_features.index.str.endswith('.dll') | (df_features.index == 'dll_import_nb')].shape[0]\n",
    "count_section = df_features[df_features.index.str.startswith('pesection')].shape[0]\n",
    "count_header = df_features[df_features.index.str.startswith('header_')].shape[0]\n",
    "\n",
    "print(f\"'ngram': {count_ngram}\")\n",
    "print(f\"'opcode ngram': {count_opcode}\")\n",
    "print(f\"'generic': {count_generic}\")\n",
    "print(f\"'strings': {count_string}\")\n",
    "print(f\"'rich header': {count_rich}\")\n",
    "print(f\"'api import': {count_api}\")\n",
    "print(f\"'dll': {count_dll}\")\n",
    "print(f\"'pe section': {count_section}\")\n",
    "print(f\"'pe header': {count_header}\")"
   ]
  },
  {
   "cell_type": "code",
   "execution_count": 18,
   "id": "efa15817",
   "metadata": {
    "execution": {
     "iopub.execute_input": "2023-12-27T01:17:08.165659Z",
     "iopub.status.busy": "2023-12-27T01:17:08.165065Z",
     "iopub.status.idle": "2023-12-27T01:17:08.174218Z",
     "shell.execute_reply": "2023-12-27T01:17:08.173344Z"
    },
    "papermill": {
     "duration": 0.028507,
     "end_time": "2023-12-27T01:17:08.176541",
     "exception": false,
     "start_time": "2023-12-27T01:17:08.148034",
     "status": "completed"
    },
    "tags": []
   },
   "outputs": [],
   "source": [
    "cols = list(kkrunchy.columns)"
   ]
  },
  {
   "cell_type": "markdown",
   "id": "19e34360",
   "metadata": {
    "papermill": {
     "duration": 0.015232,
     "end_time": "2023-12-27T01:17:08.208337",
     "exception": false,
     "start_time": "2023-12-27T01:17:08.193105",
     "status": "completed"
    },
    "tags": []
   },
   "source": [
    "# **ngram features**"
   ]
  },
  {
   "cell_type": "code",
   "execution_count": 19,
   "id": "f2f218e0",
   "metadata": {
    "execution": {
     "iopub.execute_input": "2023-12-27T01:17:08.240791Z",
     "iopub.status.busy": "2023-12-27T01:17:08.240269Z",
     "iopub.status.idle": "2023-12-27T01:17:09.228040Z",
     "shell.execute_reply": "2023-12-27T01:17:09.226688Z"
    },
    "papermill": {
     "duration": 1.006875,
     "end_time": "2023-12-27T01:17:09.230700",
     "exception": false,
     "start_time": "2023-12-27T01:17:08.223825",
     "status": "completed"
    },
    "tags": []
   },
   "outputs": [],
   "source": [
    "kkrunchy = pd.read_pickle('/kaggle/input/packer-balance-pickle/kkrunchy_balance.pickle')\n",
    "kkrunchy = kkrunchy.drop(['sample_sha1','benign','unpacked_sample_sha1','unpacked_sample_id'], axis=1)\n",
    "kkrunchy = kkrunchy.drop(['benign_vt','malicious_vt'], axis=1)\n",
    "string_columns = kkrunchy.select_dtypes(include=['object']).columns\n",
    "kkrunchy = kkrunchy.drop(string_columns, axis=1)"
   ]
  },
  {
   "cell_type": "code",
   "execution_count": 20,
   "id": "ce76ee6f",
   "metadata": {
    "execution": {
     "iopub.execute_input": "2023-12-27T01:17:09.264381Z",
     "iopub.status.busy": "2023-12-27T01:17:09.264009Z",
     "iopub.status.idle": "2023-12-27T01:17:09.268691Z",
     "shell.execute_reply": "2023-12-27T01:17:09.267681Z"
    },
    "papermill": {
     "duration": 0.024934,
     "end_time": "2023-12-27T01:17:09.271579",
     "exception": false,
     "start_time": "2023-12-27T01:17:09.246645",
     "status": "completed"
    },
    "tags": []
   },
   "outputs": [],
   "source": [
    "def remove_cols(df, ll):\n",
    "    print(\"removing {} features\".format(len(ll)))\n",
    "    df.drop(columns=ll, axis=1, inplace=True)\n",
    "    return df"
   ]
  },
  {
   "cell_type": "code",
   "execution_count": 21,
   "id": "cd2122ab",
   "metadata": {
    "execution": {
     "iopub.execute_input": "2023-12-27T01:17:09.305040Z",
     "iopub.status.busy": "2023-12-27T01:17:09.304143Z",
     "iopub.status.idle": "2023-12-27T01:17:10.096751Z",
     "shell.execute_reply": "2023-12-27T01:17:10.095199Z"
    },
    "papermill": {
     "duration": 0.812234,
     "end_time": "2023-12-27T01:17:10.099442",
     "exception": false,
     "start_time": "2023-12-27T01:17:09.287208",
     "status": "completed"
    },
    "tags": []
   },
   "outputs": [
    {
     "name": "stdout",
     "output_type": "stream",
     "text": [
      "removing 2500 features\n",
      "removing 2 features\n",
      "removing 16900 features\n",
      "removing 66 features\n",
      "removing 19169 features\n",
      "removing 4306 features\n",
      "removing 550 features\n",
      "removing 29 features\n"
     ]
    }
   ],
   "source": [
    "# ngram = remove_cols(df, [c for c in cols if c.startswith('ngram_')])\n",
    "ngram = remove_cols(kkrunchy, [c for c in cols if c.startswith('opcode_')])\n",
    "ngram = remove_cols(kkrunchy, [c for c in cols if c.startswith('generic_')])\n",
    "ngram = remove_cols(kkrunchy, [c for c in cols if c.startswith('string_')])\n",
    "ngram = remove_cols(kkrunchy, [c for c in cols if c.startswith('rich_')])\n",
    "ngram = remove_cols(kkrunchy, [c for c in cols if c.startswith('imp_') or 'api_import_nb' == c])\n",
    "ngram = remove_cols(kkrunchy, [c for c in cols if c.endswith('.dll') or 'dll_import_nb' == c])\n",
    "ngram = remove_cols(kkrunchy, [c for c in cols if c.startswith('pesection')])\n",
    "ngram = remove_cols(kkrunchy, [c for c in cols if c.startswith('header_')])"
   ]
  },
  {
   "cell_type": "code",
   "execution_count": 22,
   "id": "7156c3dd",
   "metadata": {
    "execution": {
     "iopub.execute_input": "2023-12-27T01:17:10.132102Z",
     "iopub.status.busy": "2023-12-27T01:17:10.131727Z",
     "iopub.status.idle": "2023-12-27T01:17:10.340845Z",
     "shell.execute_reply": "2023-12-27T01:17:10.339064Z"
    },
    "papermill": {
     "duration": 0.228432,
     "end_time": "2023-12-27T01:17:10.343391",
     "exception": false,
     "start_time": "2023-12-27T01:17:10.114959",
     "status": "completed"
    },
    "tags": []
   },
   "outputs": [],
   "source": [
    "df_7000_ngram = ngram.sample(n=7000, random_state=102)\n",
    "df_3000_ngram = ngram.drop(df_7000.index)\n",
    "data_ngram = df_7000_ngram.sample(n=3500, random_state=102)"
   ]
  },
  {
   "cell_type": "code",
   "execution_count": 23,
   "id": "f101415e",
   "metadata": {
    "execution": {
     "iopub.execute_input": "2023-12-27T01:17:10.379529Z",
     "iopub.status.busy": "2023-12-27T01:17:10.379072Z",
     "iopub.status.idle": "2023-12-27T01:17:10.649055Z",
     "shell.execute_reply": "2023-12-27T01:17:10.647822Z"
    },
    "papermill": {
     "duration": 0.291009,
     "end_time": "2023-12-27T01:17:10.651389",
     "exception": false,
     "start_time": "2023-12-27T01:17:10.360380",
     "status": "completed"
    },
    "tags": []
   },
   "outputs": [
    {
     "name": "stdout",
     "output_type": "stream",
     "text": [
      "Packed Malware: 2411 samples\n",
      "Packed Benign: 1089 samples\n",
      "Total TRAIN set: 3500 samples\n",
      "Packed Malware: 1089 samples\n",
      "Packed Benign: 1089 samples\n",
      "Total TRAIN set: 2178 samples\n",
      "Packed Malware: 913 samples\n",
      "Packed Benign: 913 samples\n",
      "Total TEST set: 1826 samples\n"
     ]
    }
   ],
   "source": [
    "#Kiểm tra số lượng mẫu\n",
    "PM = data_ngram[(data_ngram['malicious'] == True) & (data_ngram['packed'] == True)].shape[0]\n",
    "PB = data_ngram[(data_ngram['malicious'] == False) & (data_ngram['packed'] == True)].shape[0]\n",
    "print('Packed Malware: %i samples' % PM)\n",
    "print('Packed Benign: %i samples' % PB)\n",
    "print('Total TRAIN set: %i samples'% (PM+PB))\n",
    "\n",
    "#Chia tỉ lệ 50 - 50\n",
    "data_PM_ngram = data_ngram[(data_ngram['malicious'] == True) & (data_ngram['packed'] == True)].sample(n=(PM-PB), random_state=102)\n",
    "data_ngram = data_ngram.drop(data_PM_ngram.index)\n",
    "\n",
    "#Số lượng tập train\n",
    "PM = data_ngram[(data_ngram['malicious'] == True) & (data_ngram['packed'] == True)].shape[0]\n",
    "PB = data_ngram[(data_ngram['malicious'] == False) & (data_ngram['packed'] == True)].shape[0]\n",
    "print('Packed Malware: %i samples' % PM)\n",
    "print('Packed Benign: %i samples' % PB)\n",
    "print('Total TRAIN set: %i samples'% (PM+PB))\n",
    "\n",
    "#Xử lý tập train\n",
    "y = data_ngram['malicious'].values\n",
    "data_ngram = data_ngram.drop(['malicious','packed'], axis=1)\n",
    "\n",
    "PM = df_3000_ngram[(df_3000_ngram['malicious'] == True) & (df_3000_ngram['packed'] == True)].shape[0]\n",
    "PB = df_3000_ngram[(df_3000_ngram['malicious'] == False) & (df_3000_ngram['packed'] == True)].shape[0]\n",
    "\n",
    "df_3000_PM_ngram = df_3000_ngram[(df_3000_ngram['malicious'] == True) & (df_3000_ngram['packed'] == True)].sample(n=(PM-PB), random_state=102)\n",
    "df_3000_ngram = df_3000_ngram.drop(df_3000_PM.index)\n",
    "\n",
    "PM = df_3000_ngram[(df_3000_ngram['malicious'] == True) & (df_3000_ngram['packed'] == True)].shape[0]\n",
    "PB = df_3000_ngram[(df_3000_ngram['malicious'] == False) & (df_3000_ngram['packed'] == True)].shape[0]\n",
    "\n",
    "print('Packed Malware: %i samples' % PM)\n",
    "print('Packed Benign: %i samples' % PB)\n",
    "print('Total TEST set: %i samples'% (PM+PB))"
   ]
  },
  {
   "cell_type": "code",
   "execution_count": 24,
   "id": "2d4f096f",
   "metadata": {
    "execution": {
     "iopub.execute_input": "2023-12-27T01:17:10.684741Z",
     "iopub.status.busy": "2023-12-27T01:17:10.684375Z",
     "iopub.status.idle": "2023-12-27T01:17:10.730420Z",
     "shell.execute_reply": "2023-12-27T01:17:10.729628Z"
    },
    "papermill": {
     "duration": 0.065504,
     "end_time": "2023-12-27T01:17:10.732786",
     "exception": false,
     "start_time": "2023-12-27T01:17:10.667282",
     "status": "completed"
    },
    "tags": []
   },
   "outputs": [],
   "source": [
    "# model = SelectFromModel(fsel, prefit=True)\n",
    "\n",
    "X_train_ngram = data_ngram\n",
    "X_test_ngram = df_3000_ngram.drop(['malicious','packed'], axis=1)\n",
    "\n",
    "data_ngram = data_ngram.loc[:, (data_ngram != 0).any(axis=0)]\n",
    "x_train_ngram = data_ngram\n",
    "X_test_ngram = df_3000_ngram.drop(['malicious','packed'], axis=1)\n",
    "y_train_ngram = y\n",
    "y_test_ngram = df_3000_ngram['malicious'].values"
   ]
  },
  {
   "cell_type": "code",
   "execution_count": 25,
   "id": "fb7cbd16",
   "metadata": {
    "execution": {
     "iopub.execute_input": "2023-12-27T01:17:10.766858Z",
     "iopub.status.busy": "2023-12-27T01:17:10.766311Z",
     "iopub.status.idle": "2023-12-27T01:17:16.280714Z",
     "shell.execute_reply": "2023-12-27T01:17:16.279210Z"
    },
    "papermill": {
     "duration": 5.534284,
     "end_time": "2023-12-27T01:17:16.282947",
     "exception": false,
     "start_time": "2023-12-27T01:17:10.748663",
     "status": "completed"
    },
    "tags": []
   },
   "outputs": [
    {
     "name": "stdout",
     "output_type": "stream",
     "text": [
      "The accuracy of the Random Forests model is :\t 0.8975903614457831\n"
     ]
    }
   ],
   "source": [
    "# Random Forest\n",
    "from sklearn.ensemble import RandomForestClassifier\n",
    "from sklearn import metrics\n",
    "\n",
    "random_forest = RandomForestClassifier(n_estimators=100, random_state=17)\n",
    "random_forest.fit(X_train_ngram, y_train_ngram)\n",
    "random_forest_preds = random_forest.predict(X_test_ngram)\n",
    "print('The accuracy of the Random Forests model is :\\t',metrics.accuracy_score(random_forest_preds,y_test_ngram))"
   ]
  },
  {
   "cell_type": "markdown",
   "id": "7d9b382c",
   "metadata": {
    "papermill": {
     "duration": 0.015192,
     "end_time": "2023-12-27T01:17:16.318020",
     "exception": false,
     "start_time": "2023-12-27T01:17:16.302828",
     "status": "completed"
    },
    "tags": []
   },
   "source": [
    "# **opcode features**"
   ]
  },
  {
   "cell_type": "code",
   "execution_count": 26,
   "id": "09f49ee5",
   "metadata": {
    "execution": {
     "iopub.execute_input": "2023-12-27T01:17:16.351978Z",
     "iopub.status.busy": "2023-12-27T01:17:16.351672Z",
     "iopub.status.idle": "2023-12-27T01:17:17.350478Z",
     "shell.execute_reply": "2023-12-27T01:17:17.349443Z"
    },
    "papermill": {
     "duration": 1.01859,
     "end_time": "2023-12-27T01:17:17.353037",
     "exception": false,
     "start_time": "2023-12-27T01:17:16.334447",
     "status": "completed"
    },
    "tags": []
   },
   "outputs": [],
   "source": [
    "kkrunchy = pd.read_pickle('/kaggle/input/packer-balance-pickle/kkrunchy_balance.pickle')\n",
    "kkrunchy = kkrunchy.drop(['sample_sha1','benign','unpacked_sample_sha1','unpacked_sample_id'], axis=1)\n",
    "kkrunchy = kkrunchy.drop(['benign_vt','malicious_vt'], axis=1)\n",
    "string_columns = kkrunchy.select_dtypes(include=['object']).columns\n",
    "kkrunchy = kkrunchy.drop(string_columns, axis=1)"
   ]
  },
  {
   "cell_type": "code",
   "execution_count": 27,
   "id": "c41c126f",
   "metadata": {
    "execution": {
     "iopub.execute_input": "2023-12-27T01:17:17.386345Z",
     "iopub.status.busy": "2023-12-27T01:17:17.385919Z",
     "iopub.status.idle": "2023-12-27T01:17:18.266815Z",
     "shell.execute_reply": "2023-12-27T01:17:18.265046Z"
    },
    "papermill": {
     "duration": 0.899815,
     "end_time": "2023-12-27T01:17:18.268756",
     "exception": false,
     "start_time": "2023-12-27T01:17:17.368941",
     "status": "completed"
    },
    "tags": []
   },
   "outputs": [
    {
     "name": "stdout",
     "output_type": "stream",
     "text": [
      "removing 13000 features\n",
      "removing 2 features\n",
      "removing 16900 features\n",
      "removing 66 features\n",
      "removing 19169 features\n",
      "removing 4306 features\n",
      "removing 550 features\n",
      "removing 29 features\n"
     ]
    }
   ],
   "source": [
    "opcode = remove_cols(kkrunchy, [c for c in cols if c.startswith('ngram_')])\n",
    "# opcode = remove_cols(kkrunchy, [c for c in cols if c.startswith('opcode_')])\n",
    "opcode = remove_cols(kkrunchy, [c for c in cols if c.startswith('generic_')])\n",
    "opcode = remove_cols(kkrunchy, [c for c in cols if c.startswith('string_')])\n",
    "opcode = remove_cols(kkrunchy, [c for c in cols if c.startswith('rich_')])\n",
    "opcode = remove_cols(kkrunchy, [c for c in cols if c.startswith('imp_') or 'api_import_nb' == c])\n",
    "opcode = remove_cols(kkrunchy, [c for c in cols if c.endswith('.dll') or 'dll_import_nb' == c])\n",
    "opcode = remove_cols(kkrunchy, [c for c in cols if c.startswith('pesection')])\n",
    "opcode = remove_cols(kkrunchy, [c for c in cols if c.startswith('header_')])"
   ]
  },
  {
   "cell_type": "code",
   "execution_count": 28,
   "id": "d5df9fab",
   "metadata": {
    "execution": {
     "iopub.execute_input": "2023-12-27T01:17:18.303022Z",
     "iopub.status.busy": "2023-12-27T01:17:18.302674Z",
     "iopub.status.idle": "2023-12-27T01:17:18.462536Z",
     "shell.execute_reply": "2023-12-27T01:17:18.460868Z"
    },
    "papermill": {
     "duration": 0.180191,
     "end_time": "2023-12-27T01:17:18.465244",
     "exception": false,
     "start_time": "2023-12-27T01:17:18.285053",
     "status": "completed"
    },
    "tags": []
   },
   "outputs": [],
   "source": [
    "df_7000_opcode = opcode.sample(n=7000, random_state=102)\n",
    "df_3000_opcode = opcode.drop(df_7000.index)\n",
    "data_opcode = df_7000_opcode.sample(n=3500, random_state=102)"
   ]
  },
  {
   "cell_type": "code",
   "execution_count": 29,
   "id": "97a82fe1",
   "metadata": {
    "execution": {
     "iopub.execute_input": "2023-12-27T01:17:18.501315Z",
     "iopub.status.busy": "2023-12-27T01:17:18.500960Z",
     "iopub.status.idle": "2023-12-27T01:17:18.627284Z",
     "shell.execute_reply": "2023-12-27T01:17:18.626032Z"
    },
    "papermill": {
     "duration": 0.148313,
     "end_time": "2023-12-27T01:17:18.629804",
     "exception": false,
     "start_time": "2023-12-27T01:17:18.481491",
     "status": "completed"
    },
    "tags": []
   },
   "outputs": [
    {
     "name": "stdout",
     "output_type": "stream",
     "text": [
      "Packed Malware: 2411 samples\n",
      "Packed Benign: 1089 samples\n",
      "Total TRAIN set: 3500 samples\n",
      "Packed Malware: 1089 samples\n",
      "Packed Benign: 1089 samples\n",
      "Total TRAIN set: 2178 samples\n",
      "Packed Malware: 913 samples\n",
      "Packed Benign: 913 samples\n",
      "Total TEST set: 1826 samples\n"
     ]
    }
   ],
   "source": [
    "#Kiểm tra số lượng mẫu\n",
    "PM = data_opcode[(data_opcode['malicious'] == True) & (data_opcode['packed'] == True)].shape[0]\n",
    "PB = data_opcode[(data_opcode['malicious'] == False) & (data_opcode['packed'] == True)].shape[0]\n",
    "print('Packed Malware: %i samples' % PM)\n",
    "print('Packed Benign: %i samples' % PB)\n",
    "print('Total TRAIN set: %i samples'% (PM+PB))\n",
    "\n",
    "#Chia tỉ lệ 50 - 50\n",
    "data_PM_opcode = data_opcode[(data_opcode['malicious'] == True) & (data_opcode['packed'] == True)].sample(n=(PM-PB), random_state=102)\n",
    "data_opcode = data_opcode.drop(data_PM_opcode.index)\n",
    "      \n",
    "#Số lượng tập train\n",
    "PM = data_opcode[(data_opcode['malicious'] == True) & (data_opcode['packed'] == True)].shape[0]\n",
    "PB = data_opcode[(data_opcode['malicious'] == False) & (data_opcode['packed'] == True)].shape[0]\n",
    "print('Packed Malware: %i samples' % PM)\n",
    "print('Packed Benign: %i samples' % PB)\n",
    "print('Total TRAIN set: %i samples'% (PM+PB))\n",
    "\n",
    "#Xử lý tập train\n",
    "y = data_opcode['malicious'].values\n",
    "data_opcode = data_opcode.drop(['malicious','packed'], axis=1)\n",
    "\n",
    "PM = df_3000_opcode[(df_3000_opcode['malicious'] == True) & (df_3000_opcode['packed'] == True)].shape[0]\n",
    "PB = df_3000_opcode[(df_3000_opcode['malicious'] == False) & (df_3000_opcode['packed'] == True)].shape[0]\n",
    "\n",
    "df_3000_PM_opcode = df_3000_opcode[(df_3000_opcode['malicious'] == True) & (df_3000_opcode['packed'] == True)].sample(n=(PM-PB), random_state=102)\n",
    "df_3000_opcode = df_3000_opcode.drop(df_3000_PM_opcode.index)\n",
    "\n",
    "PM = df_3000_opcode[(df_3000_opcode['malicious'] == True) & (df_3000_opcode['packed'] == True)].shape[0]\n",
    "PB = df_3000_opcode[(df_3000_opcode['malicious'] == False) & (df_3000_opcode['packed'] == True)].shape[0]\n",
    "\n",
    "print('Packed Malware: %i samples' % PM)\n",
    "print('Packed Benign: %i samples' % PB)\n",
    "print('Total TEST set: %i samples'% (PM+PB))"
   ]
  },
  {
   "cell_type": "code",
   "execution_count": 30,
   "id": "c5a6d652",
   "metadata": {
    "execution": {
     "iopub.execute_input": "2023-12-27T01:17:18.665312Z",
     "iopub.status.busy": "2023-12-27T01:17:18.664863Z",
     "iopub.status.idle": "2023-12-27T01:17:18.690601Z",
     "shell.execute_reply": "2023-12-27T01:17:18.689126Z"
    },
    "papermill": {
     "duration": 0.045864,
     "end_time": "2023-12-27T01:17:18.693256",
     "exception": false,
     "start_time": "2023-12-27T01:17:18.647392",
     "status": "completed"
    },
    "tags": []
   },
   "outputs": [],
   "source": [
    "# model = SelectFromModel(fsel, prefit=True)\n",
    "\n",
    "X_train_opcode = data_opcode\n",
    "X_test_opcode = df_3000_opcode.drop(['malicious','packed'], axis=1)\n",
    "\n",
    "# data_opcode = data_opcode.loc[:, (data_opcode != 0).any(axis=0)]\n",
    "x_train_opcode = data_opcode\n",
    "X_test_opcode = df_3000_opcode.drop(['malicious','packed'], axis=1)\n",
    "y_train_opcode = y\n",
    "y_test_opcode = df_3000_opcode['malicious'].values"
   ]
  },
  {
   "cell_type": "code",
   "execution_count": 31,
   "id": "0844d58f",
   "metadata": {
    "execution": {
     "iopub.execute_input": "2023-12-27T01:17:18.728550Z",
     "iopub.status.busy": "2023-12-27T01:17:18.728185Z",
     "iopub.status.idle": "2023-12-27T01:17:20.554566Z",
     "shell.execute_reply": "2023-12-27T01:17:20.553245Z"
    },
    "papermill": {
     "duration": 1.8466,
     "end_time": "2023-12-27T01:17:20.556578",
     "exception": false,
     "start_time": "2023-12-27T01:17:18.709978",
     "status": "completed"
    },
    "tags": []
   },
   "outputs": [
    {
     "name": "stdout",
     "output_type": "stream",
     "text": [
      "The accuracy of the Random Forests model is :\t 0.7628696604600219\n"
     ]
    }
   ],
   "source": [
    "# Random Forest\n",
    "from sklearn.ensemble import RandomForestClassifier\n",
    "from sklearn import metrics\n",
    "\n",
    "random_forest = RandomForestClassifier(n_estimators=100, random_state=17)\n",
    "random_forest.fit(x_train_opcode, y_train_opcode)\n",
    "random_forest_preds = random_forest.predict(X_test_opcode)\n",
    "print('The accuracy of the Random Forests model is :\\t',metrics.accuracy_score(random_forest_preds,y_test_opcode))"
   ]
  },
  {
   "cell_type": "markdown",
   "id": "dc77a723",
   "metadata": {
    "papermill": {
     "duration": 0.016387,
     "end_time": "2023-12-27T01:17:20.589718",
     "exception": false,
     "start_time": "2023-12-27T01:17:20.573331",
     "status": "completed"
    },
    "tags": []
   },
   "source": [
    "# **rich header features**"
   ]
  },
  {
   "cell_type": "code",
   "execution_count": 32,
   "id": "1b1e7bae",
   "metadata": {
    "execution": {
     "iopub.execute_input": "2023-12-27T01:17:20.624997Z",
     "iopub.status.busy": "2023-12-27T01:17:20.624609Z",
     "iopub.status.idle": "2023-12-27T01:17:21.630102Z",
     "shell.execute_reply": "2023-12-27T01:17:21.628964Z"
    },
    "papermill": {
     "duration": 1.026737,
     "end_time": "2023-12-27T01:17:21.632404",
     "exception": false,
     "start_time": "2023-12-27T01:17:20.605667",
     "status": "completed"
    },
    "tags": []
   },
   "outputs": [],
   "source": [
    "kkrunchy = pd.read_pickle('/kaggle/input/packer-balance-pickle/kkrunchy_balance.pickle')\n",
    "kkrunchy = kkrunchy.drop(['sample_sha1','benign','unpacked_sample_sha1','unpacked_sample_id'], axis=1)\n",
    "kkrunchy = kkrunchy.drop(['benign_vt','malicious_vt'], axis=1)\n",
    "string_columns = kkrunchy.select_dtypes(include=['object']).columns\n",
    "kkrunchy = kkrunchy.drop(string_columns, axis=1)"
   ]
  },
  {
   "cell_type": "code",
   "execution_count": 33,
   "id": "339245db",
   "metadata": {
    "execution": {
     "iopub.execute_input": "2023-12-27T01:17:21.667519Z",
     "iopub.status.busy": "2023-12-27T01:17:21.666720Z",
     "iopub.status.idle": "2023-12-27T01:17:22.322103Z",
     "shell.execute_reply": "2023-12-27T01:17:22.319970Z"
    },
    "papermill": {
     "duration": 0.6755,
     "end_time": "2023-12-27T01:17:22.324589",
     "exception": false,
     "start_time": "2023-12-27T01:17:21.649089",
     "status": "completed"
    },
    "tags": []
   },
   "outputs": [
    {
     "name": "stdout",
     "output_type": "stream",
     "text": [
      "removing 13000 features\n",
      "removing 2500 features\n",
      "removing 2 features\n",
      "removing 16900 features\n",
      "removing 19169 features\n",
      "removing 4306 features\n",
      "removing 550 features\n",
      "removing 29 features\n"
     ]
    }
   ],
   "source": [
    "rich = remove_cols(kkrunchy, [c for c in cols if c.startswith('ngram_')])\n",
    "rich = remove_cols(kkrunchy, [c for c in cols if c.startswith('opcode_')])\n",
    "rich = remove_cols(kkrunchy, [c for c in cols if c.startswith('generic_')])\n",
    "rich = remove_cols(kkrunchy, [c for c in cols if c.startswith('string_')])\n",
    "# rich = remove_cols(kkrunchy, [c for c in cols if c.startswith('rich_')])\n",
    "rich = remove_cols(kkrunchy, [c for c in cols if c.startswith('imp_') or 'api_import_nb' == c])\n",
    "rich = remove_cols(kkrunchy, [c for c in cols if c.endswith('.dll') or 'dll_import_nb' == c])\n",
    "rich = remove_cols(kkrunchy, [c for c in cols if c.startswith('pesection')])\n",
    "rich = remove_cols(kkrunchy, [c for c in cols if c.startswith('header_')])"
   ]
  },
  {
   "cell_type": "code",
   "execution_count": 34,
   "id": "0fa0e049",
   "metadata": {
    "execution": {
     "iopub.execute_input": "2023-12-27T01:17:22.359663Z",
     "iopub.status.busy": "2023-12-27T01:17:22.359257Z",
     "iopub.status.idle": "2023-12-27T01:17:22.371940Z",
     "shell.execute_reply": "2023-12-27T01:17:22.371043Z"
    },
    "papermill": {
     "duration": 0.032348,
     "end_time": "2023-12-27T01:17:22.374010",
     "exception": false,
     "start_time": "2023-12-27T01:17:22.341662",
     "status": "completed"
    },
    "tags": []
   },
   "outputs": [],
   "source": [
    "df_7000_rich = rich.sample(n=7000, random_state=102)\n",
    "df_3000_rich = rich.drop(df_7000.index)\n",
    "data_rich = df_7000_rich.sample(n=3500, random_state=102)"
   ]
  },
  {
   "cell_type": "code",
   "execution_count": 35,
   "id": "93244454",
   "metadata": {
    "execution": {
     "iopub.execute_input": "2023-12-27T01:17:22.407586Z",
     "iopub.status.busy": "2023-12-27T01:17:22.407142Z",
     "iopub.status.idle": "2023-12-27T01:17:22.528317Z",
     "shell.execute_reply": "2023-12-27T01:17:22.527196Z"
    },
    "papermill": {
     "duration": 0.140478,
     "end_time": "2023-12-27T01:17:22.530716",
     "exception": false,
     "start_time": "2023-12-27T01:17:22.390238",
     "status": "completed"
    },
    "tags": []
   },
   "outputs": [
    {
     "name": "stdout",
     "output_type": "stream",
     "text": [
      "Packed Malware: 2411 samples\n",
      "Packed Benign: 1089 samples\n",
      "Total TRAIN set: 3500 samples\n",
      "Packed Malware: 1089 samples\n",
      "Packed Benign: 1089 samples\n",
      "Total TRAIN set: 2178 samples\n",
      "Packed Malware: 913 samples\n",
      "Packed Benign: 913 samples\n",
      "Total TEST set: 1826 samples\n"
     ]
    }
   ],
   "source": [
    "#Kiểm tra số lượng mẫu\n",
    "PM = data_rich[(data_rich['malicious'] == True) & (data_rich['packed'] == True)].shape[0]\n",
    "PB = data_rich[(data_rich['malicious'] == False) & (data_rich['packed'] == True)].shape[0]\n",
    "print('Packed Malware: %i samples' % PM)\n",
    "print('Packed Benign: %i samples' % PB)\n",
    "print('Total TRAIN set: %i samples'% (PM+PB))\n",
    "\n",
    "#Chia tỉ lệ 50 - 50\n",
    "data_PM_rich = data_rich[(data_rich['malicious'] == True) & (data_rich['packed'] == True)].sample(n=(PM-PB), random_state=102)\n",
    "data_rich = data_rich.drop(data_PM_rich.index)\n",
    "      \n",
    "#Số lượng tập train\n",
    "PM = data_rich[(data_rich['malicious'] == True) & (data_rich['packed'] == True)].shape[0]\n",
    "PB = data_rich[(data_rich['malicious'] == False) & (data_rich['packed'] == True)].shape[0]\n",
    "print('Packed Malware: %i samples' % PM)\n",
    "print('Packed Benign: %i samples' % PB)\n",
    "print('Total TRAIN set: %i samples'% (PM+PB))\n",
    "\n",
    "#Xử lý tập train\n",
    "y = data_rich['malicious'].values\n",
    "data_rich= data_rich.drop(['malicious','packed'], axis=1)\n",
    "\n",
    "PM = df_3000_rich[(df_3000_rich['malicious'] == True) & (df_3000_rich['packed'] == True)].shape[0]\n",
    "PB = df_3000_rich[(df_3000_rich['malicious'] == False) & (df_3000_rich['packed'] == True)].shape[0]\n",
    "\n",
    "df_3000_PM_rich = df_3000_rich[(df_3000_rich['malicious'] == True) & (df_3000_rich['packed'] == True)].sample(n=(PM-PB), random_state=102)\n",
    "df_3000_rich = df_3000_rich.drop(df_3000_PM_rich.index)\n",
    "\n",
    "PM = df_3000_rich[(df_3000_rich['malicious'] == True) & (df_3000_rich['packed'] == True)].shape[0]\n",
    "PB = df_3000_rich[(df_3000_rich['malicious'] == False) & (df_3000_rich['packed'] == True)].shape[0]\n",
    "\n",
    "print('Packed Malware: %i samples' % PM)\n",
    "print('Packed Benign: %i samples' % PB)\n",
    "print('Total TEST set: %i samples'% (PM+PB))"
   ]
  },
  {
   "cell_type": "code",
   "execution_count": 36,
   "id": "7102863d",
   "metadata": {
    "execution": {
     "iopub.execute_input": "2023-12-27T01:17:22.566093Z",
     "iopub.status.busy": "2023-12-27T01:17:22.565717Z",
     "iopub.status.idle": "2023-12-27T01:17:22.575361Z",
     "shell.execute_reply": "2023-12-27T01:17:22.574598Z"
    },
    "papermill": {
     "duration": 0.029429,
     "end_time": "2023-12-27T01:17:22.577260",
     "exception": false,
     "start_time": "2023-12-27T01:17:22.547831",
     "status": "completed"
    },
    "tags": []
   },
   "outputs": [],
   "source": [
    "# model = SelectFromModel(fsel, prefit=True)\n",
    "\n",
    "X_train_rich = data_rich\n",
    "X_test_rich = df_3000_rich.drop(['malicious','packed'], axis=1)\n",
    "\n",
    "data_rich = data_rich.loc[:, (data_rich != 0).any(axis=0)]\n",
    "x_train_rich = data_rich\n",
    "X_test_rich = df_3000_rich.drop(['malicious','packed'], axis=1)\n",
    "y_train_rich = y\n",
    "y_test_rich = df_3000_rich['malicious'].values"
   ]
  },
  {
   "cell_type": "code",
   "execution_count": 37,
   "id": "9a026b9f",
   "metadata": {
    "execution": {
     "iopub.execute_input": "2023-12-27T01:17:22.610920Z",
     "iopub.status.busy": "2023-12-27T01:17:22.610551Z",
     "iopub.status.idle": "2023-12-27T01:17:22.816502Z",
     "shell.execute_reply": "2023-12-27T01:17:22.815287Z"
    },
    "papermill": {
     "duration": 0.22494,
     "end_time": "2023-12-27T01:17:22.818581",
     "exception": false,
     "start_time": "2023-12-27T01:17:22.593641",
     "status": "completed"
    },
    "tags": []
   },
   "outputs": [
    {
     "name": "stdout",
     "output_type": "stream",
     "text": [
      "The accuracy of the Random Forests model is :\t 0.5043811610076671\n"
     ]
    }
   ],
   "source": [
    "# Random Forest\n",
    "from sklearn.ensemble import RandomForestClassifier\n",
    "from sklearn import metrics\n",
    "\n",
    "random_forest = RandomForestClassifier(n_estimators=100, random_state=17)\n",
    "random_forest.fit(X_train_rich, y_train_rich)\n",
    "random_forest_preds = random_forest.predict(X_test_rich)\n",
    "print('The accuracy of the Random Forests model is :\\t',metrics.accuracy_score(random_forest_preds,y_test_rich))"
   ]
  },
  {
   "cell_type": "markdown",
   "id": "67491088",
   "metadata": {
    "papermill": {
     "duration": 0.016811,
     "end_time": "2023-12-27T01:17:22.852483",
     "exception": false,
     "start_time": "2023-12-27T01:17:22.835672",
     "status": "completed"
    },
    "tags": []
   },
   "source": [
    "# **string features**"
   ]
  },
  {
   "cell_type": "code",
   "execution_count": 38,
   "id": "9d045b52",
   "metadata": {
    "execution": {
     "iopub.execute_input": "2023-12-27T01:17:22.888399Z",
     "iopub.status.busy": "2023-12-27T01:17:22.887571Z",
     "iopub.status.idle": "2023-12-27T01:17:23.804019Z",
     "shell.execute_reply": "2023-12-27T01:17:23.802417Z"
    },
    "papermill": {
     "duration": 0.937264,
     "end_time": "2023-12-27T01:17:23.806757",
     "exception": false,
     "start_time": "2023-12-27T01:17:22.869493",
     "status": "completed"
    },
    "tags": []
   },
   "outputs": [],
   "source": [
    "kkrunchy = pd.read_pickle('/kaggle/input/packer-balance-pickle/kkrunchy_balance.pickle')\n",
    "kkrunchy = kkrunchy.drop(['sample_sha1','benign','unpacked_sample_sha1','unpacked_sample_id'], axis=1)\n",
    "kkrunchy = kkrunchy.drop(['benign_vt','malicious_vt'], axis=1)\n",
    "string_columns = kkrunchy.select_dtypes(include=['object']).columns\n",
    "kkrunchy = kkrunchy.drop(string_columns, axis=1)"
   ]
  },
  {
   "cell_type": "code",
   "execution_count": 39,
   "id": "4bce61c0",
   "metadata": {
    "execution": {
     "iopub.execute_input": "2023-12-27T01:17:23.842336Z",
     "iopub.status.busy": "2023-12-27T01:17:23.841967Z",
     "iopub.status.idle": "2023-12-27T01:17:24.641230Z",
     "shell.execute_reply": "2023-12-27T01:17:24.639301Z"
    },
    "papermill": {
     "duration": 0.820465,
     "end_time": "2023-12-27T01:17:24.643914",
     "exception": false,
     "start_time": "2023-12-27T01:17:23.823449",
     "status": "completed"
    },
    "tags": []
   },
   "outputs": [
    {
     "name": "stdout",
     "output_type": "stream",
     "text": [
      "removing 13000 features\n",
      "removing 2500 features\n",
      "removing 2 features\n",
      "removing 66 features\n",
      "removing 19169 features\n",
      "removing 4306 features\n",
      "removing 550 features\n",
      "removing 29 features\n"
     ]
    }
   ],
   "source": [
    "string = remove_cols(kkrunchy, [c for c in cols if c.startswith('ngram_')])\n",
    "string = remove_cols(kkrunchy, [c for c in cols if c.startswith('opcode_')])\n",
    "string = remove_cols(kkrunchy, [c for c in cols if c.startswith('generic_')])\n",
    "# string = remove_cols(kkrunchy, [c for c in cols if c.startswith('string_')])\n",
    "string = remove_cols(kkrunchy, [c for c in cols if c.startswith('rich_')])\n",
    "string = remove_cols(kkrunchy, [c for c in cols if c.startswith('imp_') or 'api_import_nb' == c])\n",
    "string = remove_cols(kkrunchy, [c for c in cols if c.endswith('.dll') or 'dll_import_nb' == c])\n",
    "string = remove_cols(kkrunchy, [c for c in cols if c.startswith('pesection')])\n",
    "string = remove_cols(kkrunchy, [c for c in cols if c.startswith('header_')])"
   ]
  },
  {
   "cell_type": "code",
   "execution_count": 40,
   "id": "1a275937",
   "metadata": {
    "execution": {
     "iopub.execute_input": "2023-12-27T01:17:24.678815Z",
     "iopub.status.busy": "2023-12-27T01:17:24.678417Z",
     "iopub.status.idle": "2023-12-27T01:17:24.942983Z",
     "shell.execute_reply": "2023-12-27T01:17:24.941815Z"
    },
    "papermill": {
     "duration": 0.285139,
     "end_time": "2023-12-27T01:17:24.945671",
     "exception": false,
     "start_time": "2023-12-27T01:17:24.660532",
     "status": "completed"
    },
    "tags": []
   },
   "outputs": [],
   "source": [
    "df_7000_string = string.sample(n=7000, random_state=102)\n",
    "df_3000_string = string.drop(df_7000.index)\n",
    "data_string = df_7000_string.sample(n=3500, random_state=102)"
   ]
  },
  {
   "cell_type": "code",
   "execution_count": 41,
   "id": "383d4d6f",
   "metadata": {
    "execution": {
     "iopub.execute_input": "2023-12-27T01:17:24.982943Z",
     "iopub.status.busy": "2023-12-27T01:17:24.982492Z",
     "iopub.status.idle": "2023-12-27T01:17:25.322976Z",
     "shell.execute_reply": "2023-12-27T01:17:25.321238Z"
    },
    "papermill": {
     "duration": 0.362995,
     "end_time": "2023-12-27T01:17:25.325692",
     "exception": false,
     "start_time": "2023-12-27T01:17:24.962697",
     "status": "completed"
    },
    "tags": []
   },
   "outputs": [
    {
     "name": "stdout",
     "output_type": "stream",
     "text": [
      "Packed Malware: 2411 samples\n",
      "Packed Benign: 1089 samples\n",
      "Total TRAIN set: 3500 samples\n",
      "Packed Malware: 1089 samples\n",
      "Packed Benign: 1089 samples\n",
      "Total TRAIN set: 2178 samples\n",
      "Packed Malware: 913 samples\n",
      "Packed Benign: 913 samples\n",
      "Total TEST set: 1826 samples\n"
     ]
    }
   ],
   "source": [
    "#Kiểm tra số lượng mẫu\n",
    "PM = data_string[(data_string['malicious'] == True) & (data_string['packed'] == True)].shape[0]\n",
    "PB = data_string[(data_string['malicious'] == False) & (data_string['packed'] == True)].shape[0]\n",
    "print('Packed Malware: %i samples' % PM)\n",
    "print('Packed Benign: %i samples' % PB)\n",
    "print('Total TRAIN set: %i samples'% (PM+PB))\n",
    "\n",
    "#Chia tỉ lệ 50 - 50\n",
    "data_PM_string = data_string[(data_string['malicious'] == True) & (data_string['packed'] == True)].sample(n=(PM-PB), random_state=102)\n",
    "data_string = data_string.drop(data_PM_string.index)\n",
    "      \n",
    "#Số lượng tập train\n",
    "PM = data_string[(data_string['malicious'] == True) & (data_string['packed'] == True)].shape[0]\n",
    "PB = data_string[(data_string['malicious'] == False) & (data_string['packed'] == True)].shape[0]\n",
    "print('Packed Malware: %i samples' % PM)\n",
    "print('Packed Benign: %i samples' % PB)\n",
    "print('Total TRAIN set: %i samples'% (PM+PB))\n",
    "\n",
    "#Xử lý tập train\n",
    "y = data_string['malicious'].values\n",
    "data_string = data_string.drop(['malicious','packed'], axis=1)\n",
    "\n",
    "PM = df_3000_string[(df_3000_string['malicious'] == True) & (df_3000_string['packed'] == True)].shape[0]\n",
    "PB = df_3000_string[(df_3000_string['malicious'] == False) & (df_3000_string['packed'] == True)].shape[0]\n",
    "\n",
    "df_3000_PM_string = df_3000_string[(df_3000_string['malicious'] == True) & (df_3000_string['packed'] == True)].sample(n=(PM-PB), random_state=102)\n",
    "df_3000_string = df_3000_string.drop(df_3000_PM_string.index)\n",
    "\n",
    "PM = df_3000_string[(df_3000_string['malicious'] == True) & (df_3000_string['packed'] == True)].shape[0]\n",
    "PB = df_3000_string[(df_3000_string['malicious'] == False) & (df_3000_string['packed'] == True)].shape[0]\n",
    "\n",
    "print('Packed Malware: %i samples' % PM)\n",
    "print('Packed Benign: %i samples' % PB)\n",
    "print('Total TEST set: %i samples'% (PM+PB))"
   ]
  },
  {
   "cell_type": "code",
   "execution_count": 42,
   "id": "08342bef",
   "metadata": {
    "execution": {
     "iopub.execute_input": "2023-12-27T01:17:25.362223Z",
     "iopub.status.busy": "2023-12-27T01:17:25.361812Z",
     "iopub.status.idle": "2023-12-27T01:17:25.423275Z",
     "shell.execute_reply": "2023-12-27T01:17:25.422235Z"
    },
    "papermill": {
     "duration": 0.083133,
     "end_time": "2023-12-27T01:17:25.426133",
     "exception": false,
     "start_time": "2023-12-27T01:17:25.343000",
     "status": "completed"
    },
    "tags": []
   },
   "outputs": [],
   "source": [
    "# model = SelectFromModel(fsel, prefit=True)\n",
    "\n",
    "X_train_string = data_string\n",
    "X_test_string = df_3000_string.drop(['malicious','packed'], axis=1)\n",
    "\n",
    "data_string = data_string.loc[:, (data_string != 0).any(axis=0)]\n",
    "x_train_string = data_string\n",
    "X_test_string = df_3000_string.drop(['malicious','packed'], axis=1)\n",
    "y_train_string = y\n",
    "y_test_string = df_3000_string['malicious'].values"
   ]
  },
  {
   "cell_type": "code",
   "execution_count": 43,
   "id": "5dd04979",
   "metadata": {
    "execution": {
     "iopub.execute_input": "2023-12-27T01:17:25.463516Z",
     "iopub.status.busy": "2023-12-27T01:17:25.463090Z",
     "iopub.status.idle": "2023-12-27T01:17:37.699844Z",
     "shell.execute_reply": "2023-12-27T01:17:37.697875Z"
    },
    "papermill": {
     "duration": 12.257334,
     "end_time": "2023-12-27T01:17:37.702303",
     "exception": false,
     "start_time": "2023-12-27T01:17:25.444969",
     "status": "completed"
    },
    "tags": []
   },
   "outputs": [
    {
     "name": "stdout",
     "output_type": "stream",
     "text": [
      "The accuracy of the Random Forests model is :\t 0.8154435925520263\n"
     ]
    }
   ],
   "source": [
    "# Random Forest\n",
    "from sklearn.ensemble import RandomForestClassifier\n",
    "from sklearn import metrics\n",
    "\n",
    "random_forest = RandomForestClassifier(n_estimators=100, random_state=17)\n",
    "random_forest.fit(X_train_string, y_train_string)\n",
    "random_forest_preds = random_forest.predict(X_test_string)\n",
    "print('The accuracy of the Random Forests model is :\\t',metrics.accuracy_score(random_forest_preds,y_test_string))"
   ]
  },
  {
   "cell_type": "markdown",
   "id": "7f6fc3da",
   "metadata": {
    "papermill": {
     "duration": 0.016123,
     "end_time": "2023-12-27T01:17:37.734833",
     "exception": false,
     "start_time": "2023-12-27T01:17:37.718710",
     "status": "completed"
    },
    "tags": []
   },
   "source": [
    "# **api features**"
   ]
  },
  {
   "cell_type": "code",
   "execution_count": 44,
   "id": "1c7a7d0d",
   "metadata": {
    "execution": {
     "iopub.execute_input": "2023-12-27T01:17:37.769744Z",
     "iopub.status.busy": "2023-12-27T01:17:37.769430Z",
     "iopub.status.idle": "2023-12-27T01:17:38.731575Z",
     "shell.execute_reply": "2023-12-27T01:17:38.730240Z"
    },
    "papermill": {
     "duration": 0.983358,
     "end_time": "2023-12-27T01:17:38.734395",
     "exception": false,
     "start_time": "2023-12-27T01:17:37.751037",
     "status": "completed"
    },
    "tags": []
   },
   "outputs": [],
   "source": [
    "kkrunchy = pd.read_pickle('/kaggle/input/packer-balance-pickle/kkrunchy_balance.pickle')\n",
    "kkrunchy = kkrunchy.drop(['sample_sha1','benign','unpacked_sample_sha1','unpacked_sample_id'], axis=1)\n",
    "kkrunchy = kkrunchy.drop(['benign_vt','malicious_vt'], axis=1)\n",
    "string_columns = kkrunchy.select_dtypes(include=['object']).columns\n",
    "kkrunchy = kkrunchy.drop(string_columns, axis=1)"
   ]
  },
  {
   "cell_type": "code",
   "execution_count": 45,
   "id": "3620890d",
   "metadata": {
    "execution": {
     "iopub.execute_input": "2023-12-27T01:17:38.769817Z",
     "iopub.status.busy": "2023-12-27T01:17:38.769457Z",
     "iopub.status.idle": "2023-12-27T01:17:39.751078Z",
     "shell.execute_reply": "2023-12-27T01:17:39.749981Z"
    },
    "papermill": {
     "duration": 1.002342,
     "end_time": "2023-12-27T01:17:39.753595",
     "exception": false,
     "start_time": "2023-12-27T01:17:38.751253",
     "status": "completed"
    },
    "tags": []
   },
   "outputs": [
    {
     "name": "stdout",
     "output_type": "stream",
     "text": [
      "removing 13000 features\n",
      "removing 2500 features\n",
      "removing 2 features\n",
      "removing 16900 features\n",
      "removing 66 features\n",
      "removing 4306 features\n",
      "removing 550 features\n",
      "removing 29 features\n"
     ]
    }
   ],
   "source": [
    "api = remove_cols(kkrunchy, [c for c in cols if c.startswith('ngram_')])\n",
    "api = remove_cols(kkrunchy, [c for c in cols if c.startswith('opcode_')])\n",
    "api = remove_cols(kkrunchy, [c for c in cols if c.startswith('generic_')])\n",
    "api = remove_cols(kkrunchy, [c for c in cols if c.startswith('string_')])\n",
    "api = remove_cols(kkrunchy, [c for c in cols if c.startswith('rich_')])\n",
    "# api = remove_cols(kkrunchy, [c for c in cols if c.startswith('imp_') or 'api_import_nb' == c])\n",
    "api = remove_cols(kkrunchy, [c for c in cols if c.endswith('.dll') or 'dll_import_nb' == c])\n",
    "api = remove_cols(kkrunchy, [c for c in cols if c.startswith('pesection')])\n",
    "api = remove_cols(kkrunchy, [c for c in cols if c.startswith('header_')])"
   ]
  },
  {
   "cell_type": "code",
   "execution_count": 46,
   "id": "46431c1a",
   "metadata": {
    "execution": {
     "iopub.execute_input": "2023-12-27T01:17:39.788963Z",
     "iopub.status.busy": "2023-12-27T01:17:39.788581Z",
     "iopub.status.idle": "2023-12-27T01:17:40.104070Z",
     "shell.execute_reply": "2023-12-27T01:17:40.102386Z"
    },
    "papermill": {
     "duration": 0.336436,
     "end_time": "2023-12-27T01:17:40.106772",
     "exception": false,
     "start_time": "2023-12-27T01:17:39.770336",
     "status": "completed"
    },
    "tags": []
   },
   "outputs": [],
   "source": [
    "df_7000_api = api.sample(n=7000, random_state=102)\n",
    "df_3000_api = api.drop(df_7000.index)\n",
    "data_api = df_7000_api.sample(n=3500, random_state=102)"
   ]
  },
  {
   "cell_type": "code",
   "execution_count": 47,
   "id": "6f715075",
   "metadata": {
    "execution": {
     "iopub.execute_input": "2023-12-27T01:17:40.143662Z",
     "iopub.status.busy": "2023-12-27T01:17:40.143297Z",
     "iopub.status.idle": "2023-12-27T01:17:40.624004Z",
     "shell.execute_reply": "2023-12-27T01:17:40.622525Z"
    },
    "papermill": {
     "duration": 0.502388,
     "end_time": "2023-12-27T01:17:40.626527",
     "exception": false,
     "start_time": "2023-12-27T01:17:40.124139",
     "status": "completed"
    },
    "tags": []
   },
   "outputs": [
    {
     "name": "stdout",
     "output_type": "stream",
     "text": [
      "Packed Malware: 2411 samples\n",
      "Packed Benign: 1089 samples\n",
      "Total TRAIN set: 3500 samples\n",
      "Packed Malware: 1089 samples\n",
      "Packed Benign: 1089 samples\n",
      "Total TRAIN set: 2178 samples\n",
      "Packed Malware: 913 samples\n",
      "Packed Benign: 913 samples\n",
      "Total TEST set: 1826 samples\n"
     ]
    }
   ],
   "source": [
    "#Kiểm tra số lượng mẫu\n",
    "PM = data_api[(data_api['malicious'] == True) & (data_api['packed'] == True)].shape[0]\n",
    "PB = data_api[(data_api['malicious'] == False) & (data_api['packed'] == True)].shape[0]\n",
    "print('Packed Malware: %i samples' % PM)\n",
    "print('Packed Benign: %i samples' % PB)\n",
    "print('Total TRAIN set: %i samples'% (PM+PB))\n",
    "\n",
    "#Chia tỉ lệ 50 - 50\n",
    "data_PM_api = data_api[(data_api['malicious'] == True) & (data_api['packed'] == True)].sample(n=(PM-PB), random_state=102)\n",
    "data_api = data_api.drop(data_PM_api.index)\n",
    "      \n",
    "#Số lượng tập train\n",
    "PM = data_api[(data_api['malicious'] == True) & (data_api['packed'] == True)].shape[0]\n",
    "PB = data_api[(data_api['malicious'] == False) & (data_api['packed'] == True)].shape[0]\n",
    "print('Packed Malware: %i samples' % PM)\n",
    "print('Packed Benign: %i samples' % PB)\n",
    "print('Total TRAIN set: %i samples'% (PM+PB))\n",
    "\n",
    "#Xử lý tập train\n",
    "y = data_api['malicious'].values\n",
    "data_api = data_api.drop(['malicious','packed'], axis=1)\n",
    "\n",
    "PM = df_3000_api[(df_3000_api['malicious'] == True) & (df_3000_api['packed'] == True)].shape[0]\n",
    "PB = df_3000_api[(df_3000_api['malicious'] == False) & (df_3000_api['packed'] == True)].shape[0]\n",
    "\n",
    "df_3000_PM_api = df_3000_api[(df_3000_api['malicious'] == True) & (df_3000_api['packed'] == True)].sample(n=(PM-PB), random_state=102)\n",
    "df_3000_api = df_3000_api.drop(df_3000_PM_api.index)\n",
    "\n",
    "PM = df_3000_api[(df_3000_api['malicious'] == True) & (df_3000_api['packed'] == True)].shape[0]\n",
    "PB = df_3000_api[(df_3000_api['malicious'] == False) & (df_3000_api['packed'] == True)].shape[0]\n",
    "\n",
    "print('Packed Malware: %i samples' % PM)\n",
    "print('Packed Benign: %i samples' % PB)\n",
    "print('Total TEST set: %i samples'% (PM+PB))"
   ]
  },
  {
   "cell_type": "code",
   "execution_count": 48,
   "id": "dca74dea",
   "metadata": {
    "execution": {
     "iopub.execute_input": "2023-12-27T01:17:40.662587Z",
     "iopub.status.busy": "2023-12-27T01:17:40.662123Z",
     "iopub.status.idle": "2023-12-27T01:17:40.750074Z",
     "shell.execute_reply": "2023-12-27T01:17:40.748434Z"
    },
    "papermill": {
     "duration": 0.109113,
     "end_time": "2023-12-27T01:17:40.752811",
     "exception": false,
     "start_time": "2023-12-27T01:17:40.643698",
     "status": "completed"
    },
    "tags": []
   },
   "outputs": [],
   "source": [
    "# model = SelectFromModel(fsel, prefit=True)\n",
    "\n",
    "X_train_api = data_api\n",
    "X_test_api = df_3000_api.drop(['malicious','packed'], axis=1)\n",
    "\n",
    "data_api = data_api.loc[:, (data_api != 0).any(axis=0)]\n",
    "x_train_api = data_api\n",
    "X_test_api = df_3000_api.drop(['malicious','packed'], axis=1)\n",
    "y_train_api = y\n",
    "y_test_api = df_3000_api['malicious'].values"
   ]
  },
  {
   "cell_type": "code",
   "execution_count": 49,
   "id": "b66476b7",
   "metadata": {
    "execution": {
     "iopub.execute_input": "2023-12-27T01:17:40.788942Z",
     "iopub.status.busy": "2023-12-27T01:17:40.788302Z",
     "iopub.status.idle": "2023-12-27T01:17:46.680974Z",
     "shell.execute_reply": "2023-12-27T01:17:46.679992Z"
    },
    "papermill": {
     "duration": 5.913514,
     "end_time": "2023-12-27T01:17:46.683345",
     "exception": false,
     "start_time": "2023-12-27T01:17:40.769831",
     "status": "completed"
    },
    "tags": []
   },
   "outputs": [
    {
     "name": "stdout",
     "output_type": "stream",
     "text": [
      "The accuracy of the Random Forests model is :\t 0.5043811610076671\n"
     ]
    }
   ],
   "source": [
    "# Random Forest\n",
    "from sklearn.ensemble import RandomForestClassifier\n",
    "from sklearn import metrics\n",
    "\n",
    "random_forest = RandomForestClassifier(n_estimators=100, random_state=17)\n",
    "random_forest.fit(X_train_api, y_train_api)\n",
    "random_forest_preds = random_forest.predict(X_test_api)\n",
    "print('The accuracy of the Random Forests model is :\\t',metrics.accuracy_score(random_forest_preds,y_test_api))"
   ]
  },
  {
   "cell_type": "markdown",
   "id": "837b2d9f",
   "metadata": {
    "papermill": {
     "duration": 0.017775,
     "end_time": "2023-12-27T01:17:46.718511",
     "exception": false,
     "start_time": "2023-12-27T01:17:46.700736",
     "status": "completed"
    },
    "tags": []
   },
   "source": [
    "# **dll features**"
   ]
  },
  {
   "cell_type": "code",
   "execution_count": 50,
   "id": "cd30e89a",
   "metadata": {
    "execution": {
     "iopub.execute_input": "2023-12-27T01:17:46.762081Z",
     "iopub.status.busy": "2023-12-27T01:17:46.761451Z",
     "iopub.status.idle": "2023-12-27T01:17:47.751652Z",
     "shell.execute_reply": "2023-12-27T01:17:47.750874Z"
    },
    "papermill": {
     "duration": 1.015879,
     "end_time": "2023-12-27T01:17:47.754063",
     "exception": false,
     "start_time": "2023-12-27T01:17:46.738184",
     "status": "completed"
    },
    "tags": []
   },
   "outputs": [],
   "source": [
    "kkrunchy = pd.read_pickle('/kaggle/input/packer-balance-pickle/kkrunchy_balance.pickle')\n",
    "kkrunchy = kkrunchy.drop(['sample_sha1','benign','unpacked_sample_sha1','unpacked_sample_id'], axis=1)\n",
    "kkrunchy = kkrunchy.drop(['benign_vt','malicious_vt'], axis=1)\n",
    "string_columns = kkrunchy.select_dtypes(include=['object']).columns\n",
    "kkrunchy = kkrunchy.drop(string_columns, axis=1)"
   ]
  },
  {
   "cell_type": "code",
   "execution_count": 51,
   "id": "c45c835a",
   "metadata": {
    "execution": {
     "iopub.execute_input": "2023-12-27T01:17:47.790237Z",
     "iopub.status.busy": "2023-12-27T01:17:47.789866Z",
     "iopub.status.idle": "2023-12-27T01:17:48.666974Z",
     "shell.execute_reply": "2023-12-27T01:17:48.665452Z"
    },
    "papermill": {
     "duration": 0.898312,
     "end_time": "2023-12-27T01:17:48.669519",
     "exception": false,
     "start_time": "2023-12-27T01:17:47.771207",
     "status": "completed"
    },
    "tags": []
   },
   "outputs": [
    {
     "name": "stdout",
     "output_type": "stream",
     "text": [
      "removing 13000 features\n",
      "removing 2500 features\n",
      "removing 2 features\n",
      "removing 16900 features\n",
      "removing 66 features\n",
      "removing 19169 features\n",
      "removing 550 features\n",
      "removing 29 features\n"
     ]
    }
   ],
   "source": [
    "dll = remove_cols(kkrunchy, [c for c in cols if c.startswith('ngram_')])\n",
    "dll = remove_cols(kkrunchy, [c for c in cols if c.startswith('opcode_')])\n",
    "dll = remove_cols(kkrunchy, [c for c in cols if c.startswith('generic_')])\n",
    "dll = remove_cols(kkrunchy, [c for c in cols if c.startswith('string_')])\n",
    "dll = remove_cols(kkrunchy, [c for c in cols if c.startswith('rich_')])\n",
    "dll = remove_cols(kkrunchy, [c for c in cols if c.startswith('imp_') or 'api_import_nb' == c])\n",
    "# api = remove_cols(kkrunchy, [c for c in cols if c.endswith('.dll') or 'dll_import_nb' == c])\n",
    "dll = remove_cols(kkrunchy, [c for c in cols if c.startswith('pesection')])\n",
    "dll = remove_cols(kkrunchy, [c for c in cols if c.startswith('header_')])"
   ]
  },
  {
   "cell_type": "code",
   "execution_count": 52,
   "id": "d632f2c9",
   "metadata": {
    "execution": {
     "iopub.execute_input": "2023-12-27T01:17:48.706466Z",
     "iopub.status.busy": "2023-12-27T01:17:48.706066Z",
     "iopub.status.idle": "2023-12-27T01:17:48.788244Z",
     "shell.execute_reply": "2023-12-27T01:17:48.787003Z"
    },
    "papermill": {
     "duration": 0.103834,
     "end_time": "2023-12-27T01:17:48.790761",
     "exception": false,
     "start_time": "2023-12-27T01:17:48.686927",
     "status": "completed"
    },
    "tags": []
   },
   "outputs": [],
   "source": [
    "df_7000_dll = dll.sample(n=7000, random_state=102)\n",
    "df_3000_dll = dll.drop(df_7000.index)\n",
    "data_dll = df_7000_dll.sample(n=3500, random_state=102)"
   ]
  },
  {
   "cell_type": "code",
   "execution_count": 53,
   "id": "21fab866",
   "metadata": {
    "execution": {
     "iopub.execute_input": "2023-12-27T01:17:48.826656Z",
     "iopub.status.busy": "2023-12-27T01:17:48.826252Z",
     "iopub.status.idle": "2023-12-27T01:17:48.980949Z",
     "shell.execute_reply": "2023-12-27T01:17:48.979874Z"
    },
    "papermill": {
     "duration": 0.175273,
     "end_time": "2023-12-27T01:17:48.983324",
     "exception": false,
     "start_time": "2023-12-27T01:17:48.808051",
     "status": "completed"
    },
    "tags": []
   },
   "outputs": [
    {
     "name": "stdout",
     "output_type": "stream",
     "text": [
      "Packed Malware: 2411 samples\n",
      "Packed Benign: 1089 samples\n",
      "Total TRAIN set: 3500 samples\n",
      "Packed Malware: 1089 samples\n",
      "Packed Benign: 1089 samples\n",
      "Total TRAIN set: 2178 samples\n",
      "Packed Malware: 913 samples\n",
      "Packed Benign: 913 samples\n",
      "Total TEST set: 1826 samples\n"
     ]
    }
   ],
   "source": [
    "#Kiểm tra số lượng mẫu\n",
    "PM = data_dll[(data_dll['malicious'] == True) & (data_dll['packed'] == True)].shape[0]\n",
    "PB = data_dll[(data_dll['malicious'] == False) & (data_dll['packed'] == True)].shape[0]\n",
    "print('Packed Malware: %i samples' % PM)\n",
    "print('Packed Benign: %i samples' % PB)\n",
    "print('Total TRAIN set: %i samples'% (PM+PB))\n",
    "\n",
    "#Chia tỉ lệ 50 - 50\n",
    "data_PM_dll = data_dll[(data_dll['malicious'] == True) & (data_dll['packed'] == True)].sample(n=(PM-PB), random_state=102)\n",
    "data_dll = data_dll.drop(data_PM_dll.index)\n",
    "      \n",
    "#Số lượng tập train\n",
    "PM = data_dll[(data_dll['malicious'] == True) & (data_dll['packed'] == True)].shape[0]\n",
    "PB = data_dll[(data_dll['malicious'] == False) & (data_dll['packed'] == True)].shape[0]\n",
    "print('Packed Malware: %i samples' % PM)\n",
    "print('Packed Benign: %i samples' % PB)\n",
    "print('Total TRAIN set: %i samples'% (PM+PB))\n",
    "\n",
    "#Xử lý tập train\n",
    "y = data_dll['malicious'].values\n",
    "data_dll = data_dll.drop(['malicious','packed'], axis=1)\n",
    "\n",
    "PM = df_3000_dll[(df_3000_dll['malicious'] == True) & (df_3000_dll['packed'] == True)].shape[0]\n",
    "PB = df_3000_dll[(df_3000_dll['malicious'] == False) & (df_3000_dll['packed'] == True)].shape[0]\n",
    "\n",
    "df_3000_PM_dll = df_3000_dll[(df_3000_dll['malicious'] == True) & (df_3000_dll['packed'] == True)].sample(n=(PM-PB), random_state=102)\n",
    "df_3000_dll = df_3000_dll.drop(df_3000_PM_dll.index)\n",
    "\n",
    "PM = df_3000_dll[(df_3000_dll['malicious'] == True) & (df_3000_dll['packed'] == True)].shape[0]\n",
    "PB = df_3000_dll[(df_3000_dll['malicious'] == False) & (df_3000_dll['packed'] == True)].shape[0]\n",
    "\n",
    "print('Packed Malware: %i samples' % PM)\n",
    "print('Packed Benign: %i samples' % PB)\n",
    "print('Total TEST set: %i samples'% (PM+PB))"
   ]
  },
  {
   "cell_type": "code",
   "execution_count": 54,
   "id": "8168a3f3",
   "metadata": {
    "execution": {
     "iopub.execute_input": "2023-12-27T01:17:49.018886Z",
     "iopub.status.busy": "2023-12-27T01:17:49.018515Z",
     "iopub.status.idle": "2023-12-27T01:17:49.053294Z",
     "shell.execute_reply": "2023-12-27T01:17:49.052344Z"
    },
    "papermill": {
     "duration": 0.055329,
     "end_time": "2023-12-27T01:17:49.055588",
     "exception": false,
     "start_time": "2023-12-27T01:17:49.000259",
     "status": "completed"
    },
    "tags": []
   },
   "outputs": [],
   "source": [
    "# model = SelectFromModel(fsel, prefit=True)\n",
    "\n",
    "X_train_dll = data_dll\n",
    "X_test_dll = df_3000_dll.drop(['malicious','packed'], axis=1)\n",
    "\n",
    "data_dll = data_dll.loc[:, (data_dll != 0).any(axis=0)]\n",
    "x_train_dll = data_dll\n",
    "X_test_dll = df_3000_dll.drop(['malicious','packed'], axis=1)\n",
    "y_train_dll = y\n",
    "y_test_dll = df_3000_dll['malicious'].values"
   ]
  },
  {
   "cell_type": "code",
   "execution_count": 55,
   "id": "1470dc55",
   "metadata": {
    "execution": {
     "iopub.execute_input": "2023-12-27T01:17:49.094162Z",
     "iopub.status.busy": "2023-12-27T01:17:49.093579Z",
     "iopub.status.idle": "2023-12-27T01:17:50.528851Z",
     "shell.execute_reply": "2023-12-27T01:17:50.527945Z"
    },
    "papermill": {
     "duration": 1.455287,
     "end_time": "2023-12-27T01:17:50.530807",
     "exception": false,
     "start_time": "2023-12-27T01:17:49.075520",
     "status": "completed"
    },
    "tags": []
   },
   "outputs": [
    {
     "name": "stdout",
     "output_type": "stream",
     "text": [
      "The accuracy of the Random Forests model is :\t 0.5043811610076671\n"
     ]
    }
   ],
   "source": [
    "# Random Forest\n",
    "from sklearn.ensemble import RandomForestClassifier\n",
    "from sklearn import metrics\n",
    "\n",
    "random_forest = RandomForestClassifier(n_estimators=100, random_state=17)\n",
    "random_forest.fit(X_train_dll, y_train_dll)\n",
    "random_forest_preds = random_forest.predict(X_test_dll)\n",
    "print('The accuracy of the Random Forests model is :\\t',metrics.accuracy_score(random_forest_preds,y_test_dll))"
   ]
  },
  {
   "cell_type": "markdown",
   "id": "aa18e252",
   "metadata": {
    "papermill": {
     "duration": 0.017473,
     "end_time": "2023-12-27T01:17:50.565660",
     "exception": false,
     "start_time": "2023-12-27T01:17:50.548187",
     "status": "completed"
    },
    "tags": []
   },
   "source": [
    "# **pe sections features**"
   ]
  },
  {
   "cell_type": "code",
   "execution_count": 56,
   "id": "829f56e6",
   "metadata": {
    "execution": {
     "iopub.execute_input": "2023-12-27T01:17:50.603731Z",
     "iopub.status.busy": "2023-12-27T01:17:50.603120Z",
     "iopub.status.idle": "2023-12-27T01:17:51.611480Z",
     "shell.execute_reply": "2023-12-27T01:17:51.610070Z"
    },
    "papermill": {
     "duration": 1.030126,
     "end_time": "2023-12-27T01:17:51.613786",
     "exception": false,
     "start_time": "2023-12-27T01:17:50.583660",
     "status": "completed"
    },
    "tags": []
   },
   "outputs": [],
   "source": [
    "kkrunchy = pd.read_pickle('/kaggle/input/packer-balance-pickle/kkrunchy_balance.pickle')\n",
    "kkrunchy = kkrunchy.drop(['sample_sha1','benign','unpacked_sample_sha1','unpacked_sample_id'], axis=1)\n",
    "kkrunchy = kkrunchy.drop(['benign_vt','malicious_vt'], axis=1)\n",
    "string_columns = kkrunchy.select_dtypes(include=['object']).columns\n",
    "kkrunchy = kkrunchy.drop(string_columns, axis=1)"
   ]
  },
  {
   "cell_type": "code",
   "execution_count": 57,
   "id": "8b971050",
   "metadata": {
    "execution": {
     "iopub.execute_input": "2023-12-27T01:17:51.650842Z",
     "iopub.status.busy": "2023-12-27T01:17:51.650316Z",
     "iopub.status.idle": "2023-12-27T01:17:52.371547Z",
     "shell.execute_reply": "2023-12-27T01:17:52.370564Z"
    },
    "papermill": {
     "duration": 0.742337,
     "end_time": "2023-12-27T01:17:52.373619",
     "exception": false,
     "start_time": "2023-12-27T01:17:51.631282",
     "status": "completed"
    },
    "tags": []
   },
   "outputs": [
    {
     "name": "stdout",
     "output_type": "stream",
     "text": [
      "removing 13000 features\n",
      "removing 2500 features\n",
      "removing 2 features\n",
      "removing 16900 features\n",
      "removing 66 features\n",
      "removing 19169 features\n",
      "removing 4306 features\n",
      "removing 29 features\n"
     ]
    }
   ],
   "source": [
    "pesection = remove_cols(kkrunchy, [c for c in cols if c.startswith('ngram_')])\n",
    "pesection = remove_cols(kkrunchy, [c for c in cols if c.startswith('opcode_')])\n",
    "pesection = remove_cols(kkrunchy, [c for c in cols if c.startswith('generic_')])\n",
    "pesection = remove_cols(kkrunchy, [c for c in cols if c.startswith('string_')])\n",
    "pesection = remove_cols(kkrunchy, [c for c in cols if c.startswith('rich_')])\n",
    "pesection = remove_cols(kkrunchy, [c for c in cols if c.startswith('imp_') or 'api_import_nb' == c])\n",
    "pesection = remove_cols(kkrunchy, [c for c in cols if c.endswith('.dll') or 'dll_import_nb' == c])\n",
    "# pesection = remove_cols(kkrunchy, [c for c in cols if c.startswith('pesection')])\n",
    "pesection = remove_cols(kkrunchy, [c for c in cols if c.startswith('header_')])"
   ]
  },
  {
   "cell_type": "code",
   "execution_count": 58,
   "id": "b7ee1951",
   "metadata": {
    "execution": {
     "iopub.execute_input": "2023-12-27T01:17:52.411818Z",
     "iopub.status.busy": "2023-12-27T01:17:52.411394Z",
     "iopub.status.idle": "2023-12-27T01:17:52.464389Z",
     "shell.execute_reply": "2023-12-27T01:17:52.462616Z"
    },
    "papermill": {
     "duration": 0.075307,
     "end_time": "2023-12-27T01:17:52.466905",
     "exception": false,
     "start_time": "2023-12-27T01:17:52.391598",
     "status": "completed"
    },
    "tags": []
   },
   "outputs": [],
   "source": [
    "df_7000_pesection = pesection.sample(n=7000, random_state=102)\n",
    "df_3000_pesection = pesection.drop(df_7000.index)\n",
    "data_pesection = df_7000_pesection.sample(n=3500, random_state=102)"
   ]
  },
  {
   "cell_type": "code",
   "execution_count": 59,
   "id": "8bfc264e",
   "metadata": {
    "execution": {
     "iopub.execute_input": "2023-12-27T01:17:52.505340Z",
     "iopub.status.busy": "2023-12-27T01:17:52.504974Z",
     "iopub.status.idle": "2023-12-27T01:17:52.601689Z",
     "shell.execute_reply": "2023-12-27T01:17:52.600824Z"
    },
    "papermill": {
     "duration": 0.118059,
     "end_time": "2023-12-27T01:17:52.603646",
     "exception": false,
     "start_time": "2023-12-27T01:17:52.485587",
     "status": "completed"
    },
    "tags": []
   },
   "outputs": [
    {
     "name": "stdout",
     "output_type": "stream",
     "text": [
      "Packed Malware: 2411 samples\n",
      "Packed Benign: 1089 samples\n",
      "Total TRAIN set: 3500 samples\n",
      "Packed Malware: 1089 samples\n",
      "Packed Benign: 1089 samples\n",
      "Total TRAIN set: 2178 samples\n",
      "Packed Malware: 913 samples\n",
      "Packed Benign: 913 samples\n",
      "Total TEST set: 1826 samples\n"
     ]
    }
   ],
   "source": [
    "#Kiểm tra số lượng mẫu\n",
    "PM = data_pesection[(data_pesection['malicious'] == True) & (data_pesection['packed'] == True)].shape[0]\n",
    "PB = data_pesection[(data_pesection['malicious'] == False) & (data_pesection['packed'] == True)].shape[0]\n",
    "print('Packed Malware: %i samples' % PM)\n",
    "print('Packed Benign: %i samples' % PB)\n",
    "print('Total TRAIN set: %i samples'% (PM+PB))\n",
    "\n",
    "#Chia tỉ lệ 50 - 50\n",
    "data_PM_pesection = data_pesection[(data_pesection['malicious'] == True) & (data_pesection['packed'] == True)].sample(n=(PM-PB), random_state=102)\n",
    "data_pesection = data_pesection.drop(data_PM_pesection.index)\n",
    "      \n",
    "#Số lượng tập train\n",
    "PM = data_pesection[(data_pesection['malicious'] == True) & (data_pesection['packed'] == True)].shape[0]\n",
    "PB = data_pesection[(data_pesection['malicious'] == False) & (data_pesection['packed'] == True)].shape[0]\n",
    "print('Packed Malware: %i samples' % PM)\n",
    "print('Packed Benign: %i samples' % PB)\n",
    "print('Total TRAIN set: %i samples'% (PM+PB))\n",
    "\n",
    "#Xử lý tập train\n",
    "y = data_pesection['malicious'].values\n",
    "data_pesection = data_pesection.drop(['malicious','packed'], axis=1)\n",
    "\n",
    "PM = df_3000_pesection[(df_3000_pesection['malicious'] == True) & (df_3000_pesection['packed'] == True)].shape[0]\n",
    "PB = df_3000_pesection[(df_3000_pesection['malicious'] == False) & (df_3000_pesection['packed'] == True)].shape[0]\n",
    "\n",
    "df_3000_PM_pesection = df_3000_pesection[(df_3000_pesection['malicious'] == True) & (df_3000_pesection['packed'] == True)].sample(n=(PM-PB), random_state=102)\n",
    "df_3000_pesection = df_3000_pesection.drop(df_3000_PM_pesection.index)\n",
    "\n",
    "PM = df_3000_pesection[(df_3000_pesection['malicious'] == True) & (df_3000_pesection['packed'] == True)].shape[0]\n",
    "PB = df_3000_pesection[(df_3000_pesection['malicious'] == False) & (df_3000_pesection['packed'] == True)].shape[0]\n",
    "\n",
    "print('Packed Malware: %i samples' % PM)\n",
    "print('Packed Benign: %i samples' % PB)\n",
    "print('Total TEST set: %i samples'% (PM+PB))"
   ]
  },
  {
   "cell_type": "code",
   "execution_count": 60,
   "id": "34dd8df6",
   "metadata": {
    "execution": {
     "iopub.execute_input": "2023-12-27T01:17:52.641594Z",
     "iopub.status.busy": "2023-12-27T01:17:52.641212Z",
     "iopub.status.idle": "2023-12-27T01:17:52.668547Z",
     "shell.execute_reply": "2023-12-27T01:17:52.666987Z"
    },
    "papermill": {
     "duration": 0.049338,
     "end_time": "2023-12-27T01:17:52.671207",
     "exception": false,
     "start_time": "2023-12-27T01:17:52.621869",
     "status": "completed"
    },
    "tags": []
   },
   "outputs": [],
   "source": [
    "# model = SelectFromModel(fsel, prefit=True)\n",
    "\n",
    "X_train_pesection = data_pesection\n",
    "X_test_pesection = df_3000_pesection.drop(['malicious','packed'], axis=1)\n",
    "\n",
    "data_pesection = data_pesection.loc[:, (data_pesection != 0).any(axis=0)]\n",
    "x_train_pesection = data_pesection\n",
    "X_test_pesection = df_3000_pesection.drop(['malicious','packed'], axis=1)\n",
    "y_train_pesection = y\n",
    "y_test_pesection = df_3000_pesection['malicious'].values"
   ]
  },
  {
   "cell_type": "code",
   "execution_count": 61,
   "id": "716460b0",
   "metadata": {
    "execution": {
     "iopub.execute_input": "2023-12-27T01:17:52.707900Z",
     "iopub.status.busy": "2023-12-27T01:17:52.707332Z",
     "iopub.status.idle": "2023-12-27T01:17:53.241661Z",
     "shell.execute_reply": "2023-12-27T01:17:53.240226Z"
    },
    "papermill": {
     "duration": 0.555245,
     "end_time": "2023-12-27T01:17:53.244102",
     "exception": false,
     "start_time": "2023-12-27T01:17:52.688857",
     "status": "completed"
    },
    "tags": []
   },
   "outputs": [
    {
     "name": "stdout",
     "output_type": "stream",
     "text": [
      "The accuracy of the Random Forests model is :\t 0.9003285870755751\n"
     ]
    }
   ],
   "source": [
    "# Random Forest\n",
    "from sklearn.ensemble import RandomForestClassifier\n",
    "from sklearn import metrics\n",
    "\n",
    "random_forest = RandomForestClassifier(n_estimators=100, random_state=17)\n",
    "random_forest.fit(X_train_pesection, y_train_pesection)\n",
    "random_forest_preds = random_forest.predict(X_test_pesection)\n",
    "print('The accuracy of the Random Forests model is :\\t',metrics.accuracy_score(random_forest_preds,y_test_pesection))"
   ]
  },
  {
   "cell_type": "markdown",
   "id": "d2b08dc3",
   "metadata": {
    "papermill": {
     "duration": 0.017752,
     "end_time": "2023-12-27T01:17:53.280383",
     "exception": false,
     "start_time": "2023-12-27T01:17:53.262631",
     "status": "completed"
    },
    "tags": []
   },
   "source": [
    "# **pe header features**"
   ]
  },
  {
   "cell_type": "code",
   "execution_count": 62,
   "id": "163c789d",
   "metadata": {
    "execution": {
     "iopub.execute_input": "2023-12-27T01:17:53.319525Z",
     "iopub.status.busy": "2023-12-27T01:17:53.319085Z",
     "iopub.status.idle": "2023-12-27T01:17:54.245272Z",
     "shell.execute_reply": "2023-12-27T01:17:54.243545Z"
    },
    "papermill": {
     "duration": 0.949047,
     "end_time": "2023-12-27T01:17:54.248290",
     "exception": false,
     "start_time": "2023-12-27T01:17:53.299243",
     "status": "completed"
    },
    "tags": []
   },
   "outputs": [],
   "source": [
    "kkrunchy = pd.read_pickle('/kaggle/input/packer-balance-pickle/kkrunchy_balance.pickle')\n",
    "kkrunchy = kkrunchy.drop(['sample_sha1','benign','unpacked_sample_sha1','unpacked_sample_id'], axis=1)\n",
    "kkrunchy = kkrunchy.drop(['benign_vt','malicious_vt'], axis=1)\n",
    "string_columns = kkrunchy.select_dtypes(include=['object']).columns\n",
    "kkrunchy = kkrunchy.drop(string_columns, axis=1)"
   ]
  },
  {
   "cell_type": "code",
   "execution_count": 63,
   "id": "db3cb8d7",
   "metadata": {
    "execution": {
     "iopub.execute_input": "2023-12-27T01:17:54.285904Z",
     "iopub.status.busy": "2023-12-27T01:17:54.285510Z",
     "iopub.status.idle": "2023-12-27T01:17:55.157739Z",
     "shell.execute_reply": "2023-12-27T01:17:55.156021Z"
    },
    "papermill": {
     "duration": 0.894035,
     "end_time": "2023-12-27T01:17:55.160391",
     "exception": false,
     "start_time": "2023-12-27T01:17:54.266356",
     "status": "completed"
    },
    "tags": []
   },
   "outputs": [
    {
     "name": "stdout",
     "output_type": "stream",
     "text": [
      "removing 13000 features\n",
      "removing 2500 features\n",
      "removing 2 features\n",
      "removing 16900 features\n",
      "removing 66 features\n",
      "removing 19169 features\n",
      "removing 4306 features\n",
      "removing 550 features\n"
     ]
    }
   ],
   "source": [
    "header = remove_cols(kkrunchy, [c for c in cols if c.startswith('ngram_')])\n",
    "header = remove_cols(kkrunchy, [c for c in cols if c.startswith('opcode_')])\n",
    "header = remove_cols(kkrunchy, [c for c in cols if c.startswith('generic_')])\n",
    "header = remove_cols(kkrunchy, [c for c in cols if c.startswith('string_')])\n",
    "header = remove_cols(kkrunchy, [c for c in cols if c.startswith('rich_')])\n",
    "header = remove_cols(kkrunchy, [c for c in cols if c.startswith('imp_') or 'api_import_nb' == c])\n",
    "header = remove_cols(kkrunchy, [c for c in cols if c.endswith('.dll') or 'dll_import_nb' == c])\n",
    "header = remove_cols(kkrunchy, [c for c in cols if c.startswith('pesection')])\n",
    "# header = remove_cols(kkrunchy, [c for c in cols if c.startswith('header_')])"
   ]
  },
  {
   "cell_type": "code",
   "execution_count": 64,
   "id": "64317902",
   "metadata": {
    "execution": {
     "iopub.execute_input": "2023-12-27T01:17:55.199610Z",
     "iopub.status.busy": "2023-12-27T01:17:55.199215Z",
     "iopub.status.idle": "2023-12-27T01:17:55.211968Z",
     "shell.execute_reply": "2023-12-27T01:17:55.210914Z"
    },
    "papermill": {
     "duration": 0.035374,
     "end_time": "2023-12-27T01:17:55.214553",
     "exception": false,
     "start_time": "2023-12-27T01:17:55.179179",
     "status": "completed"
    },
    "tags": []
   },
   "outputs": [],
   "source": [
    "df_7000_header = header.sample(n=7000, random_state=102)\n",
    "df_3000_header = header.drop(df_7000.index)\n",
    "data_header = df_7000_header.sample(n=3500, random_state=102)"
   ]
  },
  {
   "cell_type": "code",
   "execution_count": 65,
   "id": "71fb65b6",
   "metadata": {
    "execution": {
     "iopub.execute_input": "2023-12-27T01:17:55.254123Z",
     "iopub.status.busy": "2023-12-27T01:17:55.253764Z",
     "iopub.status.idle": "2023-12-27T01:17:55.292536Z",
     "shell.execute_reply": "2023-12-27T01:17:55.290377Z"
    },
    "papermill": {
     "duration": 0.06149,
     "end_time": "2023-12-27T01:17:55.294885",
     "exception": false,
     "start_time": "2023-12-27T01:17:55.233395",
     "status": "completed"
    },
    "tags": []
   },
   "outputs": [
    {
     "name": "stdout",
     "output_type": "stream",
     "text": [
      "Packed Malware: 2411 samples\n",
      "Packed Benign: 1089 samples\n",
      "Total TRAIN set: 3500 samples\n",
      "Packed Malware: 1089 samples\n",
      "Packed Benign: 1089 samples\n",
      "Total TRAIN set: 2178 samples\n",
      "Packed Malware: 913 samples\n",
      "Packed Benign: 913 samples\n",
      "Total TEST set: 1826 samples\n"
     ]
    }
   ],
   "source": [
    "#Kiểm tra số lượng mẫu\n",
    "PM = data_header[(data_header['malicious'] == True) & (data_header['packed'] == True)].shape[0]\n",
    "PB = data_header[(data_header['malicious'] == False) & (data_header['packed'] == True)].shape[0]\n",
    "print('Packed Malware: %i samples' % PM)\n",
    "print('Packed Benign: %i samples' % PB)\n",
    "print('Total TRAIN set: %i samples'% (PM+PB))\n",
    "\n",
    "#Chia tỉ lệ 50 - 50\n",
    "data_PM_header = data_header[(data_header['malicious'] == True) & (data_header['packed'] == True)].sample(n=(PM-PB), random_state=102)\n",
    "data_header = data_header.drop(data_PM_header.index)\n",
    "      \n",
    "#Số lượng tập train\n",
    "PM = data_header[(data_header['malicious'] == True) & (data_header['packed'] == True)].shape[0]\n",
    "PB = data_header[(data_header['malicious'] == False) & (data_header['packed'] == True)].shape[0]\n",
    "print('Packed Malware: %i samples' % PM)\n",
    "print('Packed Benign: %i samples' % PB)\n",
    "print('Total TRAIN set: %i samples'% (PM+PB))\n",
    "\n",
    "#Xử lý tập train\n",
    "y = data_header['malicious'].values\n",
    "data_header= data_header.drop(['malicious','packed'], axis=1)\n",
    "\n",
    "PM = df_3000_header[(df_3000_header['malicious'] == True) & (df_3000_header['packed'] == True)].shape[0]\n",
    "PB = df_3000_header[(df_3000_header['malicious'] == False) & (df_3000_header['packed'] == True)].shape[0]\n",
    "\n",
    "df_3000_PM_header = df_3000_header[(df_3000_header['malicious'] == True) & (df_3000_header['packed'] == True)].sample(n=(PM-PB), random_state=102)\n",
    "df_3000_header= df_3000_header.drop(df_3000_PM_header.index)\n",
    "\n",
    "PM = df_3000_header[(df_3000_header['malicious'] == True) & (df_3000_header['packed'] == True)].shape[0]\n",
    "PB = df_3000_header[(df_3000_header['malicious'] == False) & (df_3000_header['packed'] == True)].shape[0]\n",
    "\n",
    "print('Packed Malware: %i samples' % PM)\n",
    "print('Packed Benign: %i samples' % PB)\n",
    "print('Total TEST set: %i samples'% (PM+PB))"
   ]
  },
  {
   "cell_type": "code",
   "execution_count": 66,
   "id": "73188e4f",
   "metadata": {
    "execution": {
     "iopub.execute_input": "2023-12-27T01:17:55.333668Z",
     "iopub.status.busy": "2023-12-27T01:17:55.332963Z",
     "iopub.status.idle": "2023-12-27T01:17:55.344103Z",
     "shell.execute_reply": "2023-12-27T01:17:55.343235Z"
    },
    "papermill": {
     "duration": 0.033036,
     "end_time": "2023-12-27T01:17:55.346125",
     "exception": false,
     "start_time": "2023-12-27T01:17:55.313089",
     "status": "completed"
    },
    "tags": []
   },
   "outputs": [],
   "source": [
    "# model = SelectFromModel(fsel, prefit=True)\n",
    "\n",
    "X_train_header = data_header\n",
    "X_test_header = df_3000_header.drop(['malicious','packed'], axis=1)\n",
    "\n",
    "data_header = data_header.loc[:, (data_header != 0).any(axis=0)]\n",
    "x_train_header = data_header\n",
    "X_test_header = df_3000_header.drop(['malicious','packed'], axis=1)\n",
    "y_train_header = y\n",
    "y_test_header = df_3000_header['malicious'].values"
   ]
  },
  {
   "cell_type": "code",
   "execution_count": 67,
   "id": "a1f5004d",
   "metadata": {
    "execution": {
     "iopub.execute_input": "2023-12-27T01:17:55.386129Z",
     "iopub.status.busy": "2023-12-27T01:17:55.385748Z",
     "iopub.status.idle": "2023-12-27T01:17:55.765104Z",
     "shell.execute_reply": "2023-12-27T01:17:55.764102Z"
    },
    "papermill": {
     "duration": 0.401337,
     "end_time": "2023-12-27T01:17:55.767106",
     "exception": false,
     "start_time": "2023-12-27T01:17:55.365769",
     "status": "completed"
    },
    "tags": []
   },
   "outputs": [
    {
     "name": "stdout",
     "output_type": "stream",
     "text": [
      "The accuracy of the Random Forests model is :\t 0.8943044906900328\n"
     ]
    }
   ],
   "source": [
    "# Random Forest\n",
    "from sklearn.ensemble import RandomForestClassifier\n",
    "from sklearn import metrics\n",
    "\n",
    "random_forest = RandomForestClassifier(n_estimators=100, random_state=17)\n",
    "random_forest.fit(X_train_header, y_train_header)\n",
    "random_forest_preds = random_forest.predict(X_test_header)\n",
    "print('The accuracy of the Random Forests model is :\\t',metrics.accuracy_score(random_forest_preds,y_test_header))"
   ]
  }
 ],
 "metadata": {
  "kaggle": {
   "accelerator": "none",
   "dataSources": [
    {
     "datasetId": 4192384,
     "sourceId": 7262652,
     "sourceType": "datasetVersion"
    }
   ],
   "dockerImageVersionId": 30626,
   "isGpuEnabled": false,
   "isInternetEnabled": true,
   "language": "python",
   "sourceType": "notebook"
  },
  "kernelspec": {
   "display_name": "Python 3",
   "language": "python",
   "name": "python3"
  },
  "language_info": {
   "codemirror_mode": {
    "name": "ipython",
    "version": 3
   },
   "file_extension": ".py",
   "mimetype": "text/x-python",
   "name": "python",
   "nbconvert_exporter": "python",
   "pygments_lexer": "ipython3",
   "version": "3.10.12"
  },
  "papermill": {
   "default_parameters": {},
   "duration": 72.596282,
   "end_time": "2023-12-27T01:17:56.609661",
   "environment_variables": {},
   "exception": null,
   "input_path": "__notebook__.ipynb",
   "output_path": "__notebook__.ipynb",
   "parameters": {},
   "start_time": "2023-12-27T01:16:44.013379",
   "version": "2.4.0"
  }
 },
 "nbformat": 4,
 "nbformat_minor": 5
}
