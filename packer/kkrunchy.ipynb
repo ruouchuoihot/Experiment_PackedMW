{
 "cells": [
  {
   "cell_type": "code",
   "execution_count": 1,
   "id": "0cade008",
   "metadata": {
    "execution": {
     "iopub.execute_input": "2024-01-23T12:09:25.579484Z",
     "iopub.status.busy": "2024-01-23T12:09:25.578692Z",
     "iopub.status.idle": "2024-01-23T12:09:28.863002Z",
     "shell.execute_reply": "2024-01-23T12:09:28.861793Z"
    },
    "papermill": {
     "duration": 3.313948,
     "end_time": "2024-01-23T12:09:28.866771",
     "exception": false,
     "start_time": "2024-01-23T12:09:25.552823",
     "status": "completed"
    },
    "tags": []
   },
   "outputs": [],
   "source": [
    "import pandas as pd\n",
    "import numpy as np\n",
    "import sklearn\n",
    "import sklearn.naive_bayes\n",
    "import sklearn.ensemble as ske\n",
    "import sklearn.neighbors\n",
    "import sklearn.pipeline\n",
    "import sklearn.linear_model\n",
    "import joblib\n",
    "from sklearn import preprocessing\n",
    "from sklearn import tree, linear_model\n",
    "from sklearn.metrics import confusion_matrix\n",
    "from sklearn.metrics import classification_report\n",
    "from sklearn.feature_selection import SelectFromModel\n",
    "import sys\n",
    "import sqlite3\n",
    "import importlib\n",
    "import matplotlib.pyplot as plt\n",
    "import seaborn as sn\n",
    "from sklearn import metrics"
   ]
  },
  {
   "cell_type": "code",
   "execution_count": 2,
   "id": "b72be74e",
   "metadata": {
    "execution": {
     "iopub.execute_input": "2024-01-23T12:09:28.914690Z",
     "iopub.status.busy": "2024-01-23T12:09:28.914105Z",
     "iopub.status.idle": "2024-01-23T12:09:33.753398Z",
     "shell.execute_reply": "2024-01-23T12:09:33.751987Z"
    },
    "papermill": {
     "duration": 4.866754,
     "end_time": "2024-01-23T12:09:33.756604",
     "exception": false,
     "start_time": "2024-01-23T12:09:28.889850",
     "status": "completed"
    },
    "tags": []
   },
   "outputs": [],
   "source": [
    "kkrunchy = pd.read_pickle('/kaggle/input/packer-balance-pickle/kkrunchy_balance.pickle')"
   ]
  },
  {
   "cell_type": "code",
   "execution_count": 3,
   "id": "8ac01243",
   "metadata": {
    "execution": {
     "iopub.execute_input": "2024-01-23T12:09:33.806950Z",
     "iopub.status.busy": "2024-01-23T12:09:33.805690Z",
     "iopub.status.idle": "2024-01-23T12:09:35.051322Z",
     "shell.execute_reply": "2024-01-23T12:09:35.049661Z"
    },
    "papermill": {
     "duration": 1.274853,
     "end_time": "2024-01-23T12:09:35.054781",
     "exception": false,
     "start_time": "2024-01-23T12:09:33.779928",
     "status": "completed"
    },
    "tags": []
   },
   "outputs": [],
   "source": [
    "kkrunchy = kkrunchy.drop(['sample_sha1','benign','unpacked_sample_sha1','unpacked_sample_id'], axis=1)\n",
    "kkrunchy = kkrunchy.drop(['benign_vt','malicious_vt'], axis=1)"
   ]
  },
  {
   "cell_type": "code",
   "execution_count": 4,
   "id": "280efc5b",
   "metadata": {
    "execution": {
     "iopub.execute_input": "2024-01-23T12:09:35.104494Z",
     "iopub.status.busy": "2024-01-23T12:09:35.104032Z",
     "iopub.status.idle": "2024-01-23T12:09:35.461118Z",
     "shell.execute_reply": "2024-01-23T12:09:35.459396Z"
    },
    "papermill": {
     "duration": 0.386464,
     "end_time": "2024-01-23T12:09:35.464821",
     "exception": false,
     "start_time": "2024-01-23T12:09:35.078357",
     "status": "completed"
    },
    "tags": []
   },
   "outputs": [],
   "source": [
    "string_columns = kkrunchy.select_dtypes(include=['object']).columns\n",
    "kkrunchy = kkrunchy.drop(string_columns, axis=1)"
   ]
  },
  {
   "cell_type": "code",
   "execution_count": 5,
   "id": "4f37e0bb",
   "metadata": {
    "execution": {
     "iopub.execute_input": "2024-01-23T12:09:35.515488Z",
     "iopub.status.busy": "2024-01-23T12:09:35.515004Z",
     "iopub.status.idle": "2024-01-23T12:09:35.571608Z",
     "shell.execute_reply": "2024-01-23T12:09:35.570141Z"
    },
    "papermill": {
     "duration": 0.085479,
     "end_time": "2024-01-23T12:09:35.574638",
     "exception": false,
     "start_time": "2024-01-23T12:09:35.489159",
     "status": "completed"
    },
    "tags": []
   },
   "outputs": [
    {
     "data": {
      "text/html": [
       "<div>\n",
       "<style scoped>\n",
       "    .dataframe tbody tr th:only-of-type {\n",
       "        vertical-align: middle;\n",
       "    }\n",
       "\n",
       "    .dataframe tbody tr th {\n",
       "        vertical-align: top;\n",
       "    }\n",
       "\n",
       "    .dataframe thead th {\n",
       "        text-align: right;\n",
       "    }\n",
       "</style>\n",
       "<table border=\"1\" class=\"dataframe\">\n",
       "  <thead>\n",
       "    <tr style=\"text-align: right;\">\n",
       "      <th></th>\n",
       "      <th>malicious</th>\n",
       "      <th>packed</th>\n",
       "      <th>imp_setupremovefilelogentrya</th>\n",
       "      <th>imp_vardeccmp</th>\n",
       "      <th>imp_setdlgitemint</th>\n",
       "      <th>imp_?append@?$basic_string@du?$char_traits@d@std@@v?$allocator@d@2@@std@@qaeaav12@abv12@ii@z</th>\n",
       "      <th>imp_zwwritefile</th>\n",
       "      <th>imp_glstencilop</th>\n",
       "      <th>imp_comparelinkinforeferents</th>\n",
       "      <th>imp__setmbcp</th>\n",
       "      <th>...</th>\n",
       "      <th>opcode_xor sub mov</th>\n",
       "      <th>opcode_xor sub mov add</th>\n",
       "      <th>opcode_xor test</th>\n",
       "      <th>opcode_xor test je</th>\n",
       "      <th>opcode_xor xor</th>\n",
       "      <th>opcode_xor xor mov</th>\n",
       "      <th>opcode_xor xor pop</th>\n",
       "      <th>opcode_xor xor pop mov</th>\n",
       "      <th>opcode_xor xor xor</th>\n",
       "      <th>opcode_xor xor xor pop</th>\n",
       "    </tr>\n",
       "  </thead>\n",
       "  <tbody>\n",
       "    <tr>\n",
       "      <th>0</th>\n",
       "      <td>False</td>\n",
       "      <td>True</td>\n",
       "      <td>False</td>\n",
       "      <td>False</td>\n",
       "      <td>False</td>\n",
       "      <td>False</td>\n",
       "      <td>False</td>\n",
       "      <td>False</td>\n",
       "      <td>False</td>\n",
       "      <td>False</td>\n",
       "      <td>...</td>\n",
       "      <td>0.0</td>\n",
       "      <td>0.0</td>\n",
       "      <td>0.0</td>\n",
       "      <td>0.0</td>\n",
       "      <td>0.0</td>\n",
       "      <td>0.0</td>\n",
       "      <td>0.0</td>\n",
       "      <td>0.0</td>\n",
       "      <td>0.0</td>\n",
       "      <td>0.0</td>\n",
       "    </tr>\n",
       "    <tr>\n",
       "      <th>12</th>\n",
       "      <td>True</td>\n",
       "      <td>True</td>\n",
       "      <td>False</td>\n",
       "      <td>False</td>\n",
       "      <td>False</td>\n",
       "      <td>False</td>\n",
       "      <td>False</td>\n",
       "      <td>False</td>\n",
       "      <td>False</td>\n",
       "      <td>False</td>\n",
       "      <td>...</td>\n",
       "      <td>0.0</td>\n",
       "      <td>0.0</td>\n",
       "      <td>0.0</td>\n",
       "      <td>0.0</td>\n",
       "      <td>0.0</td>\n",
       "      <td>0.0</td>\n",
       "      <td>0.0</td>\n",
       "      <td>0.0</td>\n",
       "      <td>0.0</td>\n",
       "      <td>0.0</td>\n",
       "    </tr>\n",
       "    <tr>\n",
       "      <th>13</th>\n",
       "      <td>False</td>\n",
       "      <td>True</td>\n",
       "      <td>False</td>\n",
       "      <td>False</td>\n",
       "      <td>False</td>\n",
       "      <td>False</td>\n",
       "      <td>False</td>\n",
       "      <td>False</td>\n",
       "      <td>False</td>\n",
       "      <td>False</td>\n",
       "      <td>...</td>\n",
       "      <td>0.0</td>\n",
       "      <td>0.0</td>\n",
       "      <td>0.0</td>\n",
       "      <td>0.0</td>\n",
       "      <td>0.0</td>\n",
       "      <td>0.0</td>\n",
       "      <td>0.0</td>\n",
       "      <td>0.0</td>\n",
       "      <td>0.0</td>\n",
       "      <td>0.0</td>\n",
       "    </tr>\n",
       "    <tr>\n",
       "      <th>14</th>\n",
       "      <td>True</td>\n",
       "      <td>True</td>\n",
       "      <td>False</td>\n",
       "      <td>False</td>\n",
       "      <td>False</td>\n",
       "      <td>False</td>\n",
       "      <td>False</td>\n",
       "      <td>False</td>\n",
       "      <td>False</td>\n",
       "      <td>False</td>\n",
       "      <td>...</td>\n",
       "      <td>0.0</td>\n",
       "      <td>0.0</td>\n",
       "      <td>0.0</td>\n",
       "      <td>0.0</td>\n",
       "      <td>0.0</td>\n",
       "      <td>0.0</td>\n",
       "      <td>0.0</td>\n",
       "      <td>0.0</td>\n",
       "      <td>0.0</td>\n",
       "      <td>0.0</td>\n",
       "    </tr>\n",
       "    <tr>\n",
       "      <th>15</th>\n",
       "      <td>True</td>\n",
       "      <td>True</td>\n",
       "      <td>False</td>\n",
       "      <td>False</td>\n",
       "      <td>False</td>\n",
       "      <td>False</td>\n",
       "      <td>False</td>\n",
       "      <td>False</td>\n",
       "      <td>False</td>\n",
       "      <td>False</td>\n",
       "      <td>...</td>\n",
       "      <td>0.0</td>\n",
       "      <td>0.0</td>\n",
       "      <td>0.0</td>\n",
       "      <td>0.0</td>\n",
       "      <td>0.0</td>\n",
       "      <td>0.0</td>\n",
       "      <td>0.0</td>\n",
       "      <td>0.0</td>\n",
       "      <td>0.0</td>\n",
       "      <td>0.0</td>\n",
       "    </tr>\n",
       "  </tbody>\n",
       "</table>\n",
       "<p>5 rows × 56526 columns</p>\n",
       "</div>"
      ],
      "text/plain": [
       "    malicious  packed  imp_setupremovefilelogentrya  imp_vardeccmp  \\\n",
       "0       False    True                         False          False   \n",
       "12       True    True                         False          False   \n",
       "13      False    True                         False          False   \n",
       "14       True    True                         False          False   \n",
       "15       True    True                         False          False   \n",
       "\n",
       "    imp_setdlgitemint  \\\n",
       "0               False   \n",
       "12              False   \n",
       "13              False   \n",
       "14              False   \n",
       "15              False   \n",
       "\n",
       "    imp_?append@?$basic_string@du?$char_traits@d@std@@v?$allocator@d@2@@std@@qaeaav12@abv12@ii@z  \\\n",
       "0                                               False                                              \n",
       "12                                              False                                              \n",
       "13                                              False                                              \n",
       "14                                              False                                              \n",
       "15                                              False                                              \n",
       "\n",
       "    imp_zwwritefile  imp_glstencilop  imp_comparelinkinforeferents  \\\n",
       "0             False            False                         False   \n",
       "12            False            False                         False   \n",
       "13            False            False                         False   \n",
       "14            False            False                         False   \n",
       "15            False            False                         False   \n",
       "\n",
       "    imp__setmbcp  ...  opcode_xor sub mov  opcode_xor sub mov add  \\\n",
       "0          False  ...                 0.0                     0.0   \n",
       "12         False  ...                 0.0                     0.0   \n",
       "13         False  ...                 0.0                     0.0   \n",
       "14         False  ...                 0.0                     0.0   \n",
       "15         False  ...                 0.0                     0.0   \n",
       "\n",
       "    opcode_xor test  opcode_xor test je  opcode_xor xor  opcode_xor xor mov  \\\n",
       "0               0.0                 0.0             0.0                 0.0   \n",
       "12              0.0                 0.0             0.0                 0.0   \n",
       "13              0.0                 0.0             0.0                 0.0   \n",
       "14              0.0                 0.0             0.0                 0.0   \n",
       "15              0.0                 0.0             0.0                 0.0   \n",
       "\n",
       "    opcode_xor xor pop  opcode_xor xor pop mov  opcode_xor xor xor  \\\n",
       "0                  0.0                     0.0                 0.0   \n",
       "12                 0.0                     0.0                 0.0   \n",
       "13                 0.0                     0.0                 0.0   \n",
       "14                 0.0                     0.0                 0.0   \n",
       "15                 0.0                     0.0                 0.0   \n",
       "\n",
       "    opcode_xor xor xor pop  \n",
       "0                      0.0  \n",
       "12                     0.0  \n",
       "13                     0.0  \n",
       "14                     0.0  \n",
       "15                     0.0  \n",
       "\n",
       "[5 rows x 56526 columns]"
      ]
     },
     "execution_count": 5,
     "metadata": {},
     "output_type": "execute_result"
    }
   ],
   "source": [
    "kkrunchy.head()"
   ]
  },
  {
   "cell_type": "code",
   "execution_count": 6,
   "id": "4c0ed92c",
   "metadata": {
    "execution": {
     "iopub.execute_input": "2024-01-23T12:09:35.624099Z",
     "iopub.status.busy": "2024-01-23T12:09:35.623694Z",
     "iopub.status.idle": "2024-01-23T12:09:36.537967Z",
     "shell.execute_reply": "2024-01-23T12:09:36.536996Z"
    },
    "papermill": {
     "duration": 0.94257,
     "end_time": "2024-01-23T12:09:36.540858",
     "exception": false,
     "start_time": "2024-01-23T12:09:35.598288",
     "status": "completed"
    },
    "tags": []
   },
   "outputs": [],
   "source": [
    "df_7000 = kkrunchy.sample(n=7000, random_state=102)\n",
    "df_3000 = kkrunchy.drop(df_7000.index)"
   ]
  },
  {
   "cell_type": "code",
   "execution_count": 7,
   "id": "f27e7197",
   "metadata": {
    "execution": {
     "iopub.execute_input": "2024-01-23T12:09:36.590894Z",
     "iopub.status.busy": "2024-01-23T12:09:36.590460Z",
     "iopub.status.idle": "2024-01-23T12:09:37.028226Z",
     "shell.execute_reply": "2024-01-23T12:09:37.026869Z"
    },
    "papermill": {
     "duration": 0.467004,
     "end_time": "2024-01-23T12:09:37.031322",
     "exception": false,
     "start_time": "2024-01-23T12:09:36.564318",
     "status": "completed"
    },
    "tags": []
   },
   "outputs": [],
   "source": [
    "data = df_7000.sample(n=3500, random_state=102)"
   ]
  },
  {
   "cell_type": "code",
   "execution_count": 8,
   "id": "e8e92345",
   "metadata": {
    "execution": {
     "iopub.execute_input": "2024-01-23T12:09:37.081038Z",
     "iopub.status.busy": "2024-01-23T12:09:37.080634Z",
     "iopub.status.idle": "2024-01-23T12:09:37.461341Z",
     "shell.execute_reply": "2024-01-23T12:09:37.459920Z"
    },
    "papermill": {
     "duration": 0.409169,
     "end_time": "2024-01-23T12:09:37.464240",
     "exception": false,
     "start_time": "2024-01-23T12:09:37.055071",
     "status": "completed"
    },
    "tags": []
   },
   "outputs": [
    {
     "name": "stdout",
     "output_type": "stream",
     "text": [
      "Packed Malware: 2411 samples\n",
      "Packed Benign: 1089 samples\n",
      "Total TRAIN set: 3500 samples\n"
     ]
    }
   ],
   "source": [
    "#Kiểm tra số lượng mẫu\n",
    "PM = data[(data['malicious'] == True) & (data['packed'] == True)].shape[0]\n",
    "PB = data[(data['malicious'] == False) & (data['packed'] == True)].shape[0]\n",
    "print('Packed Malware: %i samples' % PM)\n",
    "print('Packed Benign: %i samples' % PB)\n",
    "print('Total TRAIN set: %i samples'% (PM+PB))"
   ]
  },
  {
   "cell_type": "code",
   "execution_count": 9,
   "id": "0305436f",
   "metadata": {
    "execution": {
     "iopub.execute_input": "2024-01-23T12:09:37.588762Z",
     "iopub.status.busy": "2024-01-23T12:09:37.588274Z",
     "iopub.status.idle": "2024-01-23T12:09:38.229967Z",
     "shell.execute_reply": "2024-01-23T12:09:38.227978Z"
    },
    "papermill": {
     "duration": 0.744454,
     "end_time": "2024-01-23T12:09:38.232892",
     "exception": false,
     "start_time": "2024-01-23T12:09:37.488438",
     "status": "completed"
    },
    "tags": []
   },
   "outputs": [],
   "source": [
    "#Chia tỉ lệ 50 - 50\n",
    "data_PM = data[(data['malicious'] == True) & (data['packed'] == True)].sample(n=(PM-PB), random_state=102)\n",
    "data = data.drop(data_PM.index)"
   ]
  },
  {
   "cell_type": "code",
   "execution_count": 10,
   "id": "c72fb262",
   "metadata": {
    "execution": {
     "iopub.execute_input": "2024-01-23T12:09:38.284720Z",
     "iopub.status.busy": "2024-01-23T12:09:38.284144Z",
     "iopub.status.idle": "2024-01-23T12:09:38.501607Z",
     "shell.execute_reply": "2024-01-23T12:09:38.499451Z"
    },
    "papermill": {
     "duration": 0.247635,
     "end_time": "2024-01-23T12:09:38.505314",
     "exception": false,
     "start_time": "2024-01-23T12:09:38.257679",
     "status": "completed"
    },
    "tags": []
   },
   "outputs": [
    {
     "name": "stdout",
     "output_type": "stream",
     "text": [
      "Packed Malware: 1089 samples\n",
      "Packed Benign: 1089 samples\n",
      "Total TRAIN set: 2178 samples\n"
     ]
    }
   ],
   "source": [
    "#Số lượng tập train\n",
    "PM = data[(data['malicious'] == True) & (data['packed'] == True)].shape[0]\n",
    "PB = data[(data['malicious'] == False) & (data['packed'] == True)].shape[0]\n",
    "print('Packed Malware: %i samples' % PM)\n",
    "print('Packed Benign: %i samples' % PB)\n",
    "print('Total TRAIN set: %i samples'% (PM+PB))"
   ]
  },
  {
   "cell_type": "code",
   "execution_count": 11,
   "id": "2b3d7dd3",
   "metadata": {
    "execution": {
     "iopub.execute_input": "2024-01-23T12:09:38.571907Z",
     "iopub.status.busy": "2024-01-23T12:09:38.571155Z",
     "iopub.status.idle": "2024-01-23T12:09:38.702143Z",
     "shell.execute_reply": "2024-01-23T12:09:38.700808Z"
    },
    "papermill": {
     "duration": 0.169754,
     "end_time": "2024-01-23T12:09:38.705138",
     "exception": false,
     "start_time": "2024-01-23T12:09:38.535384",
     "status": "completed"
    },
    "tags": []
   },
   "outputs": [],
   "source": [
    "#Xử lý tập train\n",
    "y = data['malicious'].values\n",
    "data = data.drop(['malicious','packed'], axis=1)"
   ]
  },
  {
   "cell_type": "code",
   "execution_count": 12,
   "id": "3ed42357",
   "metadata": {
    "execution": {
     "iopub.execute_input": "2024-01-23T12:09:38.755346Z",
     "iopub.status.busy": "2024-01-23T12:09:38.754955Z",
     "iopub.status.idle": "2024-01-23T12:09:39.606257Z",
     "shell.execute_reply": "2024-01-23T12:09:39.605157Z"
    },
    "papermill": {
     "duration": 0.879911,
     "end_time": "2024-01-23T12:09:39.608949",
     "exception": false,
     "start_time": "2024-01-23T12:09:38.729038",
     "status": "completed"
    },
    "tags": []
   },
   "outputs": [
    {
     "name": "stdout",
     "output_type": "stream",
     "text": [
      "Packed Malware: 913 samples\n",
      "Packed Benign: 913 samples\n",
      "Total TEST set: 1826 samples\n"
     ]
    }
   ],
   "source": [
    "PM = df_3000[(df_3000['malicious'] == True) & (df_3000['packed'] == True)].shape[0]\n",
    "PB = df_3000[(df_3000['malicious'] == False) & (df_3000['packed'] == True)].shape[0]\n",
    "\n",
    "df_3000_PM = df_3000[(df_3000['malicious'] == True) & (df_3000['packed'] == True)].sample(n=(PM-PB), random_state=102)\n",
    "df_3000 = df_3000.drop(df_3000_PM.index)\n",
    "\n",
    "PM = df_3000[(df_3000['malicious'] == True) & (df_3000['packed'] == True)].shape[0]\n",
    "PB = df_3000[(df_3000['malicious'] == False) & (df_3000['packed'] == True)].shape[0]\n",
    "\n",
    "print('Packed Malware: %i samples' % PM)\n",
    "print('Packed Benign: %i samples' % PB)\n",
    "print('Total TEST set: %i samples'% (PM+PB))"
   ]
  },
  {
   "cell_type": "code",
   "execution_count": 13,
   "id": "e442d8e1",
   "metadata": {
    "execution": {
     "iopub.execute_input": "2024-01-23T12:09:39.659746Z",
     "iopub.status.busy": "2024-01-23T12:09:39.659051Z",
     "iopub.status.idle": "2024-01-23T12:09:40.039743Z",
     "shell.execute_reply": "2024-01-23T12:09:40.038553Z"
    },
    "papermill": {
     "duration": 0.40971,
     "end_time": "2024-01-23T12:09:40.042641",
     "exception": false,
     "start_time": "2024-01-23T12:09:39.632931",
     "status": "completed"
    },
    "tags": []
   },
   "outputs": [],
   "source": [
    "# model = SelectFromModel(fsel, prefit=True)\n",
    "\n",
    "X_train = data\n",
    "X_test = df_3000.drop(['malicious','packed'], axis=1)\n",
    "\n",
    "data = data.loc[:, (data != 0).any(axis=0)]\n",
    "x_train = data\n",
    "X_test = df_3000.drop(['malicious','packed'], axis=1)\n",
    "y_train = y\n",
    "y_test = df_3000['malicious'].values"
   ]
  },
  {
   "cell_type": "code",
   "execution_count": 14,
   "id": "88e120bd",
   "metadata": {
    "execution": {
     "iopub.execute_input": "2024-01-23T12:09:40.093002Z",
     "iopub.status.busy": "2024-01-23T12:09:40.092536Z",
     "iopub.status.idle": "2024-01-23T12:09:47.883791Z",
     "shell.execute_reply": "2024-01-23T12:09:47.882614Z"
    },
    "papermill": {
     "duration": 7.820492,
     "end_time": "2024-01-23T12:09:47.886927",
     "exception": false,
     "start_time": "2024-01-23T12:09:40.066435",
     "status": "completed"
    },
    "tags": []
   },
   "outputs": [
    {
     "name": "stdout",
     "output_type": "stream",
     "text": [
      "The accuracy of the Random Forests model is :\t 0.8964950711938664\n"
     ]
    }
   ],
   "source": [
    "# Random Forest\n",
    "from sklearn.ensemble import RandomForestClassifier\n",
    "from sklearn import metrics\n",
    "\n",
    "random_forest = RandomForestClassifier(n_estimators=100, random_state=17)\n",
    "random_forest.fit(X_train, y_train)\n",
    "random_forest_preds = random_forest.predict(X_test)\n",
    "print('The accuracy of the Random Forests model is :\\t',metrics.accuracy_score(random_forest_preds,y_test))"
   ]
  },
  {
   "cell_type": "code",
   "execution_count": 15,
   "id": "9b64432d",
   "metadata": {
    "execution": {
     "iopub.execute_input": "2024-01-23T12:09:47.941314Z",
     "iopub.status.busy": "2024-01-23T12:09:47.940855Z",
     "iopub.status.idle": "2024-01-23T12:09:47.961773Z",
     "shell.execute_reply": "2024-01-23T12:09:47.960453Z"
    },
    "papermill": {
     "duration": 0.051189,
     "end_time": "2024-01-23T12:09:47.964665",
     "exception": false,
     "start_time": "2024-01-23T12:09:47.913476",
     "status": "completed"
    },
    "tags": []
   },
   "outputs": [
    {
     "name": "stdout",
     "output_type": "stream",
     "text": [
      "True positive : 836 \n",
      "True negative : 801 \n",
      "False positive : 112 \n",
      "False negative : 77 \n",
      "Classification Report:\n",
      "               precision    recall  f1-score   support\n",
      "\n",
      "       False       0.91      0.88      0.89       913\n",
      "        True       0.88      0.92      0.90       913\n",
      "\n",
      "    accuracy                           0.90      1826\n",
      "   macro avg       0.90      0.90      0.90      1826\n",
      "weighted avg       0.90      0.90      0.90      1826\n",
      "\n"
     ]
    }
   ],
   "source": [
    "mt = confusion_matrix(y_test, random_forest_preds)\n",
    "report = classification_report(y_test, random_forest_preds)\n",
    "print(\"True positive : %i \" % (mt[1][1]))\n",
    "print(\"True negative : %i \" % (mt[0][0]))\n",
    "print(\"False positive : %i \" % (mt[0][1]))\n",
    "print(\"False negative : %i \" % (mt[1][0]))\n",
    "print(\"Classification Report:\\n\", report)"
   ]
  },
  {
   "cell_type": "code",
   "execution_count": 16,
   "id": "16bf3f8d",
   "metadata": {
    "execution": {
     "iopub.execute_input": "2024-01-23T12:09:48.015684Z",
     "iopub.status.busy": "2024-01-23T12:09:48.014996Z",
     "iopub.status.idle": "2024-01-23T12:09:48.099837Z",
     "shell.execute_reply": "2024-01-23T12:09:48.098632Z"
    },
    "papermill": {
     "duration": 0.113772,
     "end_time": "2024-01-23T12:09:48.103163",
     "exception": false,
     "start_time": "2024-01-23T12:09:47.989391",
     "status": "completed"
    },
    "tags": []
   },
   "outputs": [
    {
     "data": {
      "text/plain": [
       "ngram_b'\\x00\\x00\\x00\\x00\\x06\\x00'        0.009502\n",
       "ngram_b'!-- Co'                          0.008672\n",
       "pesectionProcessed_sectionsMinEntropy    0.007012\n",
       "pesectionProcessed_sectionsMinSize       0.006922\n",
       "header_AddressOfEntryPoint               0.006582\n",
       "                                           ...   \n",
       "fm_inter.dll                             0.000000\n",
       "msvcr71d.dll                             0.000000\n",
       "msvcp71d.dll                             0.000000\n",
       "msvcrtd.dll                              0.000000\n",
       "opcode_xor xor xor pop                   0.000000\n",
       "Length: 56524, dtype: float64"
      ]
     },
     "execution_count": 16,
     "metadata": {},
     "output_type": "execute_result"
    }
   ],
   "source": [
    "feature_scores_rf = pd.Series(random_forest.feature_importances_, index=X_train.columns).sort_values(ascending=False)\n",
    "\n",
    "feature_scores_rf"
   ]
  },
  {
   "cell_type": "code",
   "execution_count": 17,
   "id": "62dba2be",
   "metadata": {
    "execution": {
     "iopub.execute_input": "2024-01-23T12:09:48.155614Z",
     "iopub.status.busy": "2024-01-23T12:09:48.155109Z",
     "iopub.status.idle": "2024-01-23T12:09:48.217493Z",
     "shell.execute_reply": "2024-01-23T12:09:48.216279Z"
    },
    "papermill": {
     "duration": 0.092212,
     "end_time": "2024-01-23T12:09:48.220467",
     "exception": false,
     "start_time": "2024-01-23T12:09:48.128255",
     "status": "completed"
    },
    "tags": []
   },
   "outputs": [],
   "source": [
    "top50 = pd.Series(random_forest.feature_importances_, index=X_train.columns).sort_values(ascending=False).head(50)"
   ]
  },
  {
   "cell_type": "code",
   "execution_count": 18,
   "id": "de7866e4",
   "metadata": {
    "execution": {
     "iopub.execute_input": "2024-01-23T12:09:48.273353Z",
     "iopub.status.busy": "2024-01-23T12:09:48.272649Z",
     "iopub.status.idle": "2024-01-23T12:09:48.291914Z",
     "shell.execute_reply": "2024-01-23T12:09:48.290275Z"
    },
    "papermill": {
     "duration": 0.048477,
     "end_time": "2024-01-23T12:09:48.294713",
     "exception": false,
     "start_time": "2024-01-23T12:09:48.246236",
     "status": "completed"
    },
    "tags": []
   },
   "outputs": [
    {
     "name": "stdout",
     "output_type": "stream",
     "text": [
      "'ngram': 19\n",
      "'opcode ngram': 1\n",
      "'generic': 2\n",
      "'strings': 0\n",
      "'rich header': 0\n",
      "'api import': 0\n",
      "'dll': 0\n",
      "'pe section': 23\n",
      "'pe header': 5\n"
     ]
    }
   ],
   "source": [
    "# Tạo DataFrame từ feature_scores_rf\n",
    "df_features = pd.DataFrame(top50, columns=['Score'])\n",
    "\n",
    "count_ngram = df_features[df_features.index.str.startswith('ngram_')].shape[0]\n",
    "count_opcode = df_features[df_features.index.str.startswith('opcode_')].shape[0]\n",
    "count_generic = df_features[df_features.index.str.startswith('generic_')].shape[0]\n",
    "count_string = df_features[df_features.index.str.startswith('string_')].shape[0]\n",
    "count_rich = df_features[df_features.index.str.startswith('rich_')].shape[0]\n",
    "# count_api = df_features[df_features.index.str.startswith('imp_') or 'api_import_nb' == c].shape[0]\n",
    "# count_dll = df_features[df_features.index.str.startswith('.dll') or 'dll_import_nb' == c].shape[0]\n",
    "count_api = df_features[df_features.index.str.startswith('imp_') | (df_features.index == 'api_import_nb')].shape[0]\n",
    "count_dll = df_features[df_features.index.str.endswith('.dll') | (df_features.index == 'dll_import_nb')].shape[0]\n",
    "count_section = df_features[df_features.index.str.startswith('pesection')].shape[0]\n",
    "count_header = df_features[df_features.index.str.startswith('header_')].shape[0]\n",
    "\n",
    "print(f\"'ngram': {count_ngram}\")\n",
    "print(f\"'opcode ngram': {count_opcode}\")\n",
    "print(f\"'generic': {count_generic}\")\n",
    "print(f\"'strings': {count_string}\")\n",
    "print(f\"'rich header': {count_rich}\")\n",
    "print(f\"'api import': {count_api}\")\n",
    "print(f\"'dll': {count_dll}\")\n",
    "print(f\"'pe section': {count_section}\")\n",
    "print(f\"'pe header': {count_header}\")"
   ]
  },
  {
   "cell_type": "code",
   "execution_count": 19,
   "id": "99256546",
   "metadata": {
    "execution": {
     "iopub.execute_input": "2024-01-23T12:09:48.349599Z",
     "iopub.status.busy": "2024-01-23T12:09:48.348224Z",
     "iopub.status.idle": "2024-01-23T12:09:48.365166Z",
     "shell.execute_reply": "2024-01-23T12:09:48.363653Z"
    },
    "papermill": {
     "duration": 0.048011,
     "end_time": "2024-01-23T12:09:48.368358",
     "exception": false,
     "start_time": "2024-01-23T12:09:48.320347",
     "status": "completed"
    },
    "tags": []
   },
   "outputs": [],
   "source": [
    "cols = list(kkrunchy.columns)"
   ]
  },
  {
   "cell_type": "markdown",
   "id": "9e7f6516",
   "metadata": {
    "papermill": {
     "duration": 0.024294,
     "end_time": "2024-01-23T12:09:48.417980",
     "exception": false,
     "start_time": "2024-01-23T12:09:48.393686",
     "status": "completed"
    },
    "tags": []
   },
   "source": [
    "# **ngram features**"
   ]
  },
  {
   "cell_type": "code",
   "execution_count": 20,
   "id": "50b4aa78",
   "metadata": {
    "execution": {
     "iopub.execute_input": "2024-01-23T12:09:48.470488Z",
     "iopub.status.busy": "2024-01-23T12:09:48.469641Z",
     "iopub.status.idle": "2024-01-23T12:09:50.368223Z",
     "shell.execute_reply": "2024-01-23T12:09:50.366757Z"
    },
    "papermill": {
     "duration": 1.929149,
     "end_time": "2024-01-23T12:09:50.371653",
     "exception": false,
     "start_time": "2024-01-23T12:09:48.442504",
     "status": "completed"
    },
    "tags": []
   },
   "outputs": [],
   "source": [
    "kkrunchy = pd.read_pickle('/kaggle/input/packer-balance-pickle/kkrunchy_balance.pickle')\n",
    "kkrunchy = kkrunchy.drop(['sample_sha1','benign','unpacked_sample_sha1','unpacked_sample_id'], axis=1)\n",
    "kkrunchy = kkrunchy.drop(['benign_vt','malicious_vt'], axis=1)\n",
    "string_columns = kkrunchy.select_dtypes(include=['object']).columns\n",
    "kkrunchy = kkrunchy.drop(string_columns, axis=1)"
   ]
  },
  {
   "cell_type": "code",
   "execution_count": 21,
   "id": "e6cc31a1",
   "metadata": {
    "execution": {
     "iopub.execute_input": "2024-01-23T12:09:50.426247Z",
     "iopub.status.busy": "2024-01-23T12:09:50.425780Z",
     "iopub.status.idle": "2024-01-23T12:09:50.432045Z",
     "shell.execute_reply": "2024-01-23T12:09:50.430902Z"
    },
    "papermill": {
     "duration": 0.037224,
     "end_time": "2024-01-23T12:09:50.434760",
     "exception": false,
     "start_time": "2024-01-23T12:09:50.397536",
     "status": "completed"
    },
    "tags": []
   },
   "outputs": [],
   "source": [
    "def remove_cols(df, ll):\n",
    "    print(\"removing {} features\".format(len(ll)))\n",
    "    df.drop(columns=ll, axis=1, inplace=True)\n",
    "    return df"
   ]
  },
  {
   "cell_type": "code",
   "execution_count": 22,
   "id": "6b6accb9",
   "metadata": {
    "execution": {
     "iopub.execute_input": "2024-01-23T12:09:50.488884Z",
     "iopub.status.busy": "2024-01-23T12:09:50.488117Z",
     "iopub.status.idle": "2024-01-23T12:09:52.247247Z",
     "shell.execute_reply": "2024-01-23T12:09:52.246181Z"
    },
    "papermill": {
     "duration": 1.789939,
     "end_time": "2024-01-23T12:09:52.251271",
     "exception": false,
     "start_time": "2024-01-23T12:09:50.461332",
     "status": "completed"
    },
    "tags": []
   },
   "outputs": [
    {
     "name": "stdout",
     "output_type": "stream",
     "text": [
      "removing 2500 features\n",
      "removing 2 features\n",
      "removing 16900 features\n",
      "removing 66 features\n",
      "removing 19169 features\n",
      "removing 4306 features\n",
      "removing 550 features\n",
      "removing 29 features\n"
     ]
    }
   ],
   "source": [
    "# ngram = remove_cols(df, [c for c in cols if c.startswith('ngram_')])\n",
    "ngram = remove_cols(kkrunchy, [c for c in cols if c.startswith('opcode_')])\n",
    "ngram = remove_cols(kkrunchy, [c for c in cols if c.startswith('generic_')])\n",
    "ngram = remove_cols(kkrunchy, [c for c in cols if c.startswith('string_')])\n",
    "ngram = remove_cols(kkrunchy, [c for c in cols if c.startswith('rich_')])\n",
    "ngram = remove_cols(kkrunchy, [c for c in cols if c.startswith('imp_') or 'api_import_nb' == c])\n",
    "ngram = remove_cols(kkrunchy, [c for c in cols if c.endswith('.dll') or 'dll_import_nb' == c])\n",
    "ngram = remove_cols(kkrunchy, [c for c in cols if c.startswith('pesection')])\n",
    "ngram = remove_cols(kkrunchy, [c for c in cols if c.startswith('header_')])"
   ]
  },
  {
   "cell_type": "code",
   "execution_count": 23,
   "id": "c8707cc4",
   "metadata": {
    "execution": {
     "iopub.execute_input": "2024-01-23T12:09:52.308355Z",
     "iopub.status.busy": "2024-01-23T12:09:52.307943Z",
     "iopub.status.idle": "2024-01-23T12:09:52.572918Z",
     "shell.execute_reply": "2024-01-23T12:09:52.571532Z"
    },
    "papermill": {
     "duration": 0.299001,
     "end_time": "2024-01-23T12:09:52.576994",
     "exception": false,
     "start_time": "2024-01-23T12:09:52.277993",
     "status": "completed"
    },
    "tags": []
   },
   "outputs": [],
   "source": [
    "df_7000_ngram = ngram.sample(n=7000, random_state=102)\n",
    "df_3000_ngram = ngram.drop(df_7000.index)\n",
    "data_ngram = df_7000_ngram.sample(n=3500, random_state=102)"
   ]
  },
  {
   "cell_type": "code",
   "execution_count": 24,
   "id": "2516fa8e",
   "metadata": {
    "execution": {
     "iopub.execute_input": "2024-01-23T12:09:52.631364Z",
     "iopub.status.busy": "2024-01-23T12:09:52.630887Z",
     "iopub.status.idle": "2024-01-23T12:09:53.009924Z",
     "shell.execute_reply": "2024-01-23T12:09:53.008502Z"
    },
    "papermill": {
     "duration": 0.410249,
     "end_time": "2024-01-23T12:09:53.013592",
     "exception": false,
     "start_time": "2024-01-23T12:09:52.603343",
     "status": "completed"
    },
    "tags": []
   },
   "outputs": [
    {
     "name": "stdout",
     "output_type": "stream",
     "text": [
      "Packed Malware: 2411 samples\n",
      "Packed Benign: 1089 samples\n",
      "Total TRAIN set: 3500 samples\n",
      "Packed Malware: 1089 samples\n",
      "Packed Benign: 1089 samples\n",
      "Total TRAIN set: 2178 samples\n",
      "Packed Malware: 913 samples\n",
      "Packed Benign: 913 samples\n",
      "Total TEST set: 1826 samples\n"
     ]
    }
   ],
   "source": [
    "#Kiểm tra số lượng mẫu\n",
    "PM = data_ngram[(data_ngram['malicious'] == True) & (data_ngram['packed'] == True)].shape[0]\n",
    "PB = data_ngram[(data_ngram['malicious'] == False) & (data_ngram['packed'] == True)].shape[0]\n",
    "print('Packed Malware: %i samples' % PM)\n",
    "print('Packed Benign: %i samples' % PB)\n",
    "print('Total TRAIN set: %i samples'% (PM+PB))\n",
    "\n",
    "#Chia tỉ lệ 50 - 50\n",
    "data_PM_ngram = data_ngram[(data_ngram['malicious'] == True) & (data_ngram['packed'] == True)].sample(n=(PM-PB), random_state=102)\n",
    "data_ngram = data_ngram.drop(data_PM_ngram.index)\n",
    "\n",
    "#Số lượng tập train\n",
    "PM = data_ngram[(data_ngram['malicious'] == True) & (data_ngram['packed'] == True)].shape[0]\n",
    "PB = data_ngram[(data_ngram['malicious'] == False) & (data_ngram['packed'] == True)].shape[0]\n",
    "print('Packed Malware: %i samples' % PM)\n",
    "print('Packed Benign: %i samples' % PB)\n",
    "print('Total TRAIN set: %i samples'% (PM+PB))\n",
    "\n",
    "#Xử lý tập train\n",
    "y = data_ngram['malicious'].values\n",
    "data_ngram = data_ngram.drop(['malicious','packed'], axis=1)\n",
    "\n",
    "PM = df_3000_ngram[(df_3000_ngram['malicious'] == True) & (df_3000_ngram['packed'] == True)].shape[0]\n",
    "PB = df_3000_ngram[(df_3000_ngram['malicious'] == False) & (df_3000_ngram['packed'] == True)].shape[0]\n",
    "\n",
    "df_3000_PM_ngram = df_3000_ngram[(df_3000_ngram['malicious'] == True) & (df_3000_ngram['packed'] == True)].sample(n=(PM-PB), random_state=102)\n",
    "df_3000_ngram = df_3000_ngram.drop(df_3000_PM.index)\n",
    "\n",
    "PM = df_3000_ngram[(df_3000_ngram['malicious'] == True) & (df_3000_ngram['packed'] == True)].shape[0]\n",
    "PB = df_3000_ngram[(df_3000_ngram['malicious'] == False) & (df_3000_ngram['packed'] == True)].shape[0]\n",
    "\n",
    "print('Packed Malware: %i samples' % PM)\n",
    "print('Packed Benign: %i samples' % PB)\n",
    "print('Total TEST set: %i samples'% (PM+PB))"
   ]
  },
  {
   "cell_type": "code",
   "execution_count": 25,
   "id": "13b189ab",
   "metadata": {
    "execution": {
     "iopub.execute_input": "2024-01-23T12:09:53.072218Z",
     "iopub.status.busy": "2024-01-23T12:09:53.070733Z",
     "iopub.status.idle": "2024-01-23T12:09:53.149968Z",
     "shell.execute_reply": "2024-01-23T12:09:53.148241Z"
    },
    "papermill": {
     "duration": 0.11179,
     "end_time": "2024-01-23T12:09:53.154415",
     "exception": false,
     "start_time": "2024-01-23T12:09:53.042625",
     "status": "completed"
    },
    "tags": []
   },
   "outputs": [],
   "source": [
    "# model = SelectFromModel(fsel, prefit=True)\n",
    "\n",
    "X_train_ngram = data_ngram\n",
    "X_test_ngram = df_3000_ngram.drop(['malicious','packed'], axis=1)\n",
    "\n",
    "data_ngram = data_ngram.loc[:, (data_ngram != 0).any(axis=0)]\n",
    "x_train_ngram = data_ngram\n",
    "X_test_ngram = df_3000_ngram.drop(['malicious','packed'], axis=1)\n",
    "y_train_ngram = y\n",
    "y_test_ngram = df_3000_ngram['malicious'].values"
   ]
  },
  {
   "cell_type": "code",
   "execution_count": 26,
   "id": "2d58d657",
   "metadata": {
    "execution": {
     "iopub.execute_input": "2024-01-23T12:09:53.214117Z",
     "iopub.status.busy": "2024-01-23T12:09:53.212420Z",
     "iopub.status.idle": "2024-01-23T12:10:00.098606Z",
     "shell.execute_reply": "2024-01-23T12:10:00.097248Z"
    },
    "papermill": {
     "duration": 6.919254,
     "end_time": "2024-01-23T12:10:00.102066",
     "exception": false,
     "start_time": "2024-01-23T12:09:53.182812",
     "status": "completed"
    },
    "tags": []
   },
   "outputs": [
    {
     "name": "stdout",
     "output_type": "stream",
     "text": [
      "The accuracy of the Random Forests model is :\t 0.8975903614457831\n"
     ]
    }
   ],
   "source": [
    "# Random Forest\n",
    "from sklearn.ensemble import RandomForestClassifier\n",
    "from sklearn import metrics\n",
    "\n",
    "random_forest = RandomForestClassifier(n_estimators=100, random_state=17)\n",
    "random_forest.fit(X_train_ngram, y_train_ngram)\n",
    "random_forest_preds = random_forest.predict(X_test_ngram)\n",
    "print('The accuracy of the Random Forests model is :\\t',metrics.accuracy_score(random_forest_preds,y_test_ngram))"
   ]
  },
  {
   "cell_type": "markdown",
   "id": "ceee4d62",
   "metadata": {
    "papermill": {
     "duration": 0.02722,
     "end_time": "2024-01-23T12:10:00.157700",
     "exception": false,
     "start_time": "2024-01-23T12:10:00.130480",
     "status": "completed"
    },
    "tags": []
   },
   "source": [
    "# **opcode features**"
   ]
  },
  {
   "cell_type": "code",
   "execution_count": 27,
   "id": "2f5b4be7",
   "metadata": {
    "execution": {
     "iopub.execute_input": "2024-01-23T12:10:00.221323Z",
     "iopub.status.busy": "2024-01-23T12:10:00.220674Z",
     "iopub.status.idle": "2024-01-23T12:10:02.334459Z",
     "shell.execute_reply": "2024-01-23T12:10:02.333146Z"
    },
    "papermill": {
     "duration": 2.148563,
     "end_time": "2024-01-23T12:10:02.337698",
     "exception": false,
     "start_time": "2024-01-23T12:10:00.189135",
     "status": "completed"
    },
    "tags": []
   },
   "outputs": [],
   "source": [
    "kkrunchy = pd.read_pickle('/kaggle/input/packer-balance-pickle/kkrunchy_balance.pickle')\n",
    "kkrunchy = kkrunchy.drop(['sample_sha1','benign','unpacked_sample_sha1','unpacked_sample_id'], axis=1)\n",
    "kkrunchy = kkrunchy.drop(['benign_vt','malicious_vt'], axis=1)\n",
    "string_columns = kkrunchy.select_dtypes(include=['object']).columns\n",
    "kkrunchy = kkrunchy.drop(string_columns, axis=1)"
   ]
  },
  {
   "cell_type": "code",
   "execution_count": 28,
   "id": "99eb8626",
   "metadata": {
    "execution": {
     "iopub.execute_input": "2024-01-23T12:10:02.393022Z",
     "iopub.status.busy": "2024-01-23T12:10:02.392602Z",
     "iopub.status.idle": "2024-01-23T12:10:04.118169Z",
     "shell.execute_reply": "2024-01-23T12:10:04.116641Z"
    },
    "papermill": {
     "duration": 1.758377,
     "end_time": "2024-01-23T12:10:04.121881",
     "exception": false,
     "start_time": "2024-01-23T12:10:02.363504",
     "status": "completed"
    },
    "tags": []
   },
   "outputs": [
    {
     "name": "stdout",
     "output_type": "stream",
     "text": [
      "removing 13000 features\n",
      "removing 2 features\n",
      "removing 16900 features\n",
      "removing 66 features\n",
      "removing 19169 features\n",
      "removing 4306 features\n",
      "removing 550 features\n",
      "removing 29 features\n"
     ]
    }
   ],
   "source": [
    "opcode = remove_cols(kkrunchy, [c for c in cols if c.startswith('ngram_')])\n",
    "# opcode = remove_cols(kkrunchy, [c for c in cols if c.startswith('opcode_')])\n",
    "opcode = remove_cols(kkrunchy, [c for c in cols if c.startswith('generic_')])\n",
    "opcode = remove_cols(kkrunchy, [c for c in cols if c.startswith('string_')])\n",
    "opcode = remove_cols(kkrunchy, [c for c in cols if c.startswith('rich_')])\n",
    "opcode = remove_cols(kkrunchy, [c for c in cols if c.startswith('imp_') or 'api_import_nb' == c])\n",
    "opcode = remove_cols(kkrunchy, [c for c in cols if c.endswith('.dll') or 'dll_import_nb' == c])\n",
    "opcode = remove_cols(kkrunchy, [c for c in cols if c.startswith('pesection')])\n",
    "opcode = remove_cols(kkrunchy, [c for c in cols if c.startswith('header_')])"
   ]
  },
  {
   "cell_type": "code",
   "execution_count": 29,
   "id": "4fe16566",
   "metadata": {
    "execution": {
     "iopub.execute_input": "2024-01-23T12:10:04.180050Z",
     "iopub.status.busy": "2024-01-23T12:10:04.179611Z",
     "iopub.status.idle": "2024-01-23T12:10:04.404914Z",
     "shell.execute_reply": "2024-01-23T12:10:04.403768Z"
    },
    "papermill": {
     "duration": 0.258691,
     "end_time": "2024-01-23T12:10:04.408052",
     "exception": false,
     "start_time": "2024-01-23T12:10:04.149361",
     "status": "completed"
    },
    "tags": []
   },
   "outputs": [],
   "source": [
    "df_7000_opcode = opcode.sample(n=7000, random_state=102)\n",
    "df_3000_opcode = opcode.drop(df_7000.index)\n",
    "data_opcode = df_7000_opcode.sample(n=3500, random_state=102)"
   ]
  },
  {
   "cell_type": "code",
   "execution_count": 30,
   "id": "3c229d86",
   "metadata": {
    "execution": {
     "iopub.execute_input": "2024-01-23T12:10:04.463903Z",
     "iopub.status.busy": "2024-01-23T12:10:04.463457Z",
     "iopub.status.idle": "2024-01-23T12:10:04.716931Z",
     "shell.execute_reply": "2024-01-23T12:10:04.715227Z"
    },
    "papermill": {
     "duration": 0.285461,
     "end_time": "2024-01-23T12:10:04.719876",
     "exception": false,
     "start_time": "2024-01-23T12:10:04.434415",
     "status": "completed"
    },
    "tags": []
   },
   "outputs": [
    {
     "name": "stdout",
     "output_type": "stream",
     "text": [
      "Packed Malware: 2411 samples\n",
      "Packed Benign: 1089 samples\n",
      "Total TRAIN set: 3500 samples\n",
      "Packed Malware: 1089 samples\n",
      "Packed Benign: 1089 samples\n",
      "Total TRAIN set: 2178 samples\n",
      "Packed Malware: 913 samples\n",
      "Packed Benign: 913 samples\n",
      "Total TEST set: 1826 samples\n"
     ]
    }
   ],
   "source": [
    "#Kiểm tra số lượng mẫu\n",
    "PM = data_opcode[(data_opcode['malicious'] == True) & (data_opcode['packed'] == True)].shape[0]\n",
    "PB = data_opcode[(data_opcode['malicious'] == False) & (data_opcode['packed'] == True)].shape[0]\n",
    "print('Packed Malware: %i samples' % PM)\n",
    "print('Packed Benign: %i samples' % PB)\n",
    "print('Total TRAIN set: %i samples'% (PM+PB))\n",
    "\n",
    "#Chia tỉ lệ 50 - 50\n",
    "data_PM_opcode = data_opcode[(data_opcode['malicious'] == True) & (data_opcode['packed'] == True)].sample(n=(PM-PB), random_state=102)\n",
    "data_opcode = data_opcode.drop(data_PM_opcode.index)\n",
    "      \n",
    "#Số lượng tập train\n",
    "PM = data_opcode[(data_opcode['malicious'] == True) & (data_opcode['packed'] == True)].shape[0]\n",
    "PB = data_opcode[(data_opcode['malicious'] == False) & (data_opcode['packed'] == True)].shape[0]\n",
    "print('Packed Malware: %i samples' % PM)\n",
    "print('Packed Benign: %i samples' % PB)\n",
    "print('Total TRAIN set: %i samples'% (PM+PB))\n",
    "\n",
    "#Xử lý tập train\n",
    "y = data_opcode['malicious'].values\n",
    "data_opcode = data_opcode.drop(['malicious','packed'], axis=1)\n",
    "\n",
    "PM = df_3000_opcode[(df_3000_opcode['malicious'] == True) & (df_3000_opcode['packed'] == True)].shape[0]\n",
    "PB = df_3000_opcode[(df_3000_opcode['malicious'] == False) & (df_3000_opcode['packed'] == True)].shape[0]\n",
    "\n",
    "df_3000_PM_opcode = df_3000_opcode[(df_3000_opcode['malicious'] == True) & (df_3000_opcode['packed'] == True)].sample(n=(PM-PB), random_state=102)\n",
    "df_3000_opcode = df_3000_opcode.drop(df_3000_PM_opcode.index)\n",
    "\n",
    "PM = df_3000_opcode[(df_3000_opcode['malicious'] == True) & (df_3000_opcode['packed'] == True)].shape[0]\n",
    "PB = df_3000_opcode[(df_3000_opcode['malicious'] == False) & (df_3000_opcode['packed'] == True)].shape[0]\n",
    "\n",
    "print('Packed Malware: %i samples' % PM)\n",
    "print('Packed Benign: %i samples' % PB)\n",
    "print('Total TEST set: %i samples'% (PM+PB))"
   ]
  },
  {
   "cell_type": "code",
   "execution_count": 31,
   "id": "7e6a4c6c",
   "metadata": {
    "execution": {
     "iopub.execute_input": "2024-01-23T12:10:04.775633Z",
     "iopub.status.busy": "2024-01-23T12:10:04.774372Z",
     "iopub.status.idle": "2024-01-23T12:10:04.821061Z",
     "shell.execute_reply": "2024-01-23T12:10:04.820026Z"
    },
    "papermill": {
     "duration": 0.077436,
     "end_time": "2024-01-23T12:10:04.824048",
     "exception": false,
     "start_time": "2024-01-23T12:10:04.746612",
     "status": "completed"
    },
    "tags": []
   },
   "outputs": [],
   "source": [
    "# model = SelectFromModel(fsel, prefit=True)\n",
    "\n",
    "X_train_opcode = data_opcode\n",
    "X_test_opcode = df_3000_opcode.drop(['malicious','packed'], axis=1)\n",
    "\n",
    "# data_opcode = data_opcode.loc[:, (data_opcode != 0).any(axis=0)]\n",
    "x_train_opcode = data_opcode\n",
    "X_test_opcode = df_3000_opcode.drop(['malicious','packed'], axis=1)\n",
    "y_train_opcode = y\n",
    "y_test_opcode = df_3000_opcode['malicious'].values"
   ]
  },
  {
   "cell_type": "code",
   "execution_count": 32,
   "id": "fd2ede8d",
   "metadata": {
    "execution": {
     "iopub.execute_input": "2024-01-23T12:10:04.880803Z",
     "iopub.status.busy": "2024-01-23T12:10:04.880312Z",
     "iopub.status.idle": "2024-01-23T12:10:07.311577Z",
     "shell.execute_reply": "2024-01-23T12:10:07.310234Z"
    },
    "papermill": {
     "duration": 2.463143,
     "end_time": "2024-01-23T12:10:07.314267",
     "exception": false,
     "start_time": "2024-01-23T12:10:04.851124",
     "status": "completed"
    },
    "tags": []
   },
   "outputs": [
    {
     "name": "stdout",
     "output_type": "stream",
     "text": [
      "The accuracy of the Random Forests model is :\t 0.7628696604600219\n"
     ]
    }
   ],
   "source": [
    "# Random Forest\n",
    "from sklearn.ensemble import RandomForestClassifier\n",
    "from sklearn import metrics\n",
    "\n",
    "random_forest = RandomForestClassifier(n_estimators=100, random_state=17)\n",
    "random_forest.fit(x_train_opcode, y_train_opcode)\n",
    "random_forest_preds = random_forest.predict(X_test_opcode)\n",
    "print('The accuracy of the Random Forests model is :\\t',metrics.accuracy_score(random_forest_preds,y_test_opcode))"
   ]
  },
  {
   "cell_type": "markdown",
   "id": "ebd69b14",
   "metadata": {
    "papermill": {
     "duration": 0.025904,
     "end_time": "2024-01-23T12:10:07.366749",
     "exception": false,
     "start_time": "2024-01-23T12:10:07.340845",
     "status": "completed"
    },
    "tags": []
   },
   "source": [
    "# **rich header features**"
   ]
  },
  {
   "cell_type": "code",
   "execution_count": 33,
   "id": "243cdc62",
   "metadata": {
    "execution": {
     "iopub.execute_input": "2024-01-23T12:10:07.425862Z",
     "iopub.status.busy": "2024-01-23T12:10:07.425382Z",
     "iopub.status.idle": "2024-01-23T12:10:09.426470Z",
     "shell.execute_reply": "2024-01-23T12:10:09.424760Z"
    },
    "papermill": {
     "duration": 2.034189,
     "end_time": "2024-01-23T12:10:09.429937",
     "exception": false,
     "start_time": "2024-01-23T12:10:07.395748",
     "status": "completed"
    },
    "tags": []
   },
   "outputs": [],
   "source": [
    "kkrunchy = pd.read_pickle('/kaggle/input/packer-balance-pickle/kkrunchy_balance.pickle')\n",
    "kkrunchy = kkrunchy.drop(['sample_sha1','benign','unpacked_sample_sha1','unpacked_sample_id'], axis=1)\n",
    "kkrunchy = kkrunchy.drop(['benign_vt','malicious_vt'], axis=1)\n",
    "string_columns = kkrunchy.select_dtypes(include=['object']).columns\n",
    "kkrunchy = kkrunchy.drop(string_columns, axis=1)"
   ]
  },
  {
   "cell_type": "code",
   "execution_count": 34,
   "id": "1eec29bf",
   "metadata": {
    "execution": {
     "iopub.execute_input": "2024-01-23T12:10:09.489722Z",
     "iopub.status.busy": "2024-01-23T12:10:09.489272Z",
     "iopub.status.idle": "2024-01-23T12:10:10.845783Z",
     "shell.execute_reply": "2024-01-23T12:10:10.843459Z"
    },
    "papermill": {
     "duration": 1.389087,
     "end_time": "2024-01-23T12:10:10.849033",
     "exception": false,
     "start_time": "2024-01-23T12:10:09.459946",
     "status": "completed"
    },
    "tags": []
   },
   "outputs": [
    {
     "name": "stdout",
     "output_type": "stream",
     "text": [
      "removing 13000 features\n",
      "removing 2500 features\n",
      "removing 2 features\n",
      "removing 16900 features\n",
      "removing 19169 features\n",
      "removing 4306 features\n",
      "removing 550 features\n",
      "removing 29 features\n"
     ]
    }
   ],
   "source": [
    "rich = remove_cols(kkrunchy, [c for c in cols if c.startswith('ngram_')])\n",
    "rich = remove_cols(kkrunchy, [c for c in cols if c.startswith('opcode_')])\n",
    "rich = remove_cols(kkrunchy, [c for c in cols if c.startswith('generic_')])\n",
    "rich = remove_cols(kkrunchy, [c for c in cols if c.startswith('string_')])\n",
    "# rich = remove_cols(kkrunchy, [c for c in cols if c.startswith('rich_')])\n",
    "rich = remove_cols(kkrunchy, [c for c in cols if c.startswith('imp_') or 'api_import_nb' == c])\n",
    "rich = remove_cols(kkrunchy, [c for c in cols if c.endswith('.dll') or 'dll_import_nb' == c])\n",
    "rich = remove_cols(kkrunchy, [c for c in cols if c.startswith('pesection')])\n",
    "rich = remove_cols(kkrunchy, [c for c in cols if c.startswith('header_')])"
   ]
  },
  {
   "cell_type": "code",
   "execution_count": 35,
   "id": "a73cd5fc",
   "metadata": {
    "execution": {
     "iopub.execute_input": "2024-01-23T12:10:10.908291Z",
     "iopub.status.busy": "2024-01-23T12:10:10.907821Z",
     "iopub.status.idle": "2024-01-23T12:10:10.923747Z",
     "shell.execute_reply": "2024-01-23T12:10:10.922144Z"
    },
    "papermill": {
     "duration": 0.050132,
     "end_time": "2024-01-23T12:10:10.926983",
     "exception": false,
     "start_time": "2024-01-23T12:10:10.876851",
     "status": "completed"
    },
    "tags": []
   },
   "outputs": [],
   "source": [
    "df_7000_rich = rich.sample(n=7000, random_state=102)\n",
    "df_3000_rich = rich.drop(df_7000.index)\n",
    "data_rich = df_7000_rich.sample(n=3500, random_state=102)"
   ]
  },
  {
   "cell_type": "code",
   "execution_count": 36,
   "id": "c654a0e3",
   "metadata": {
    "execution": {
     "iopub.execute_input": "2024-01-23T12:10:10.987507Z",
     "iopub.status.busy": "2024-01-23T12:10:10.986488Z",
     "iopub.status.idle": "2024-01-23T12:10:11.133124Z",
     "shell.execute_reply": "2024-01-23T12:10:11.131493Z"
    },
    "papermill": {
     "duration": 0.180869,
     "end_time": "2024-01-23T12:10:11.136110",
     "exception": false,
     "start_time": "2024-01-23T12:10:10.955241",
     "status": "completed"
    },
    "tags": []
   },
   "outputs": [
    {
     "name": "stdout",
     "output_type": "stream",
     "text": [
      "Packed Malware: 2411 samples\n",
      "Packed Benign: 1089 samples\n",
      "Total TRAIN set: 3500 samples\n",
      "Packed Malware: 1089 samples\n",
      "Packed Benign: 1089 samples\n",
      "Total TRAIN set: 2178 samples\n",
      "Packed Malware: 913 samples\n",
      "Packed Benign: 913 samples\n",
      "Total TEST set: 1826 samples\n"
     ]
    }
   ],
   "source": [
    "#Kiểm tra số lượng mẫu\n",
    "PM = data_rich[(data_rich['malicious'] == True) & (data_rich['packed'] == True)].shape[0]\n",
    "PB = data_rich[(data_rich['malicious'] == False) & (data_rich['packed'] == True)].shape[0]\n",
    "print('Packed Malware: %i samples' % PM)\n",
    "print('Packed Benign: %i samples' % PB)\n",
    "print('Total TRAIN set: %i samples'% (PM+PB))\n",
    "\n",
    "#Chia tỉ lệ 50 - 50\n",
    "data_PM_rich = data_rich[(data_rich['malicious'] == True) & (data_rich['packed'] == True)].sample(n=(PM-PB), random_state=102)\n",
    "data_rich = data_rich.drop(data_PM_rich.index)\n",
    "      \n",
    "#Số lượng tập train\n",
    "PM = data_rich[(data_rich['malicious'] == True) & (data_rich['packed'] == True)].shape[0]\n",
    "PB = data_rich[(data_rich['malicious'] == False) & (data_rich['packed'] == True)].shape[0]\n",
    "print('Packed Malware: %i samples' % PM)\n",
    "print('Packed Benign: %i samples' % PB)\n",
    "print('Total TRAIN set: %i samples'% (PM+PB))\n",
    "\n",
    "#Xử lý tập train\n",
    "y = data_rich['malicious'].values\n",
    "data_rich= data_rich.drop(['malicious','packed'], axis=1)\n",
    "\n",
    "PM = df_3000_rich[(df_3000_rich['malicious'] == True) & (df_3000_rich['packed'] == True)].shape[0]\n",
    "PB = df_3000_rich[(df_3000_rich['malicious'] == False) & (df_3000_rich['packed'] == True)].shape[0]\n",
    "\n",
    "df_3000_PM_rich = df_3000_rich[(df_3000_rich['malicious'] == True) & (df_3000_rich['packed'] == True)].sample(n=(PM-PB), random_state=102)\n",
    "df_3000_rich = df_3000_rich.drop(df_3000_PM_rich.index)\n",
    "\n",
    "PM = df_3000_rich[(df_3000_rich['malicious'] == True) & (df_3000_rich['packed'] == True)].shape[0]\n",
    "PB = df_3000_rich[(df_3000_rich['malicious'] == False) & (df_3000_rich['packed'] == True)].shape[0]\n",
    "\n",
    "print('Packed Malware: %i samples' % PM)\n",
    "print('Packed Benign: %i samples' % PB)\n",
    "print('Total TEST set: %i samples'% (PM+PB))"
   ]
  },
  {
   "cell_type": "code",
   "execution_count": 37,
   "id": "d1a87426",
   "metadata": {
    "execution": {
     "iopub.execute_input": "2024-01-23T12:10:11.196650Z",
     "iopub.status.busy": "2024-01-23T12:10:11.196213Z",
     "iopub.status.idle": "2024-01-23T12:10:11.208765Z",
     "shell.execute_reply": "2024-01-23T12:10:11.207249Z"
    },
    "papermill": {
     "duration": 0.04502,
     "end_time": "2024-01-23T12:10:11.211751",
     "exception": false,
     "start_time": "2024-01-23T12:10:11.166731",
     "status": "completed"
    },
    "tags": []
   },
   "outputs": [],
   "source": [
    "# model = SelectFromModel(fsel, prefit=True)\n",
    "\n",
    "X_train_rich = data_rich\n",
    "X_test_rich = df_3000_rich.drop(['malicious','packed'], axis=1)\n",
    "\n",
    "data_rich = data_rich.loc[:, (data_rich != 0).any(axis=0)]\n",
    "x_train_rich = data_rich\n",
    "X_test_rich = df_3000_rich.drop(['malicious','packed'], axis=1)\n",
    "y_train_rich = y\n",
    "y_test_rich = df_3000_rich['malicious'].values"
   ]
  },
  {
   "cell_type": "code",
   "execution_count": 38,
   "id": "1c04e2c9",
   "metadata": {
    "execution": {
     "iopub.execute_input": "2024-01-23T12:10:11.274833Z",
     "iopub.status.busy": "2024-01-23T12:10:11.274398Z",
     "iopub.status.idle": "2024-01-23T12:10:11.612912Z",
     "shell.execute_reply": "2024-01-23T12:10:11.611199Z"
    },
    "papermill": {
     "duration": 0.375095,
     "end_time": "2024-01-23T12:10:11.616753",
     "exception": false,
     "start_time": "2024-01-23T12:10:11.241658",
     "status": "completed"
    },
    "tags": []
   },
   "outputs": [
    {
     "name": "stdout",
     "output_type": "stream",
     "text": [
      "The accuracy of the Random Forests model is :\t 0.5043811610076671\n"
     ]
    }
   ],
   "source": [
    "# Random Forest\n",
    "from sklearn.ensemble import RandomForestClassifier\n",
    "from sklearn import metrics\n",
    "\n",
    "random_forest = RandomForestClassifier(n_estimators=100, random_state=17)\n",
    "random_forest.fit(X_train_rich, y_train_rich)\n",
    "random_forest_preds = random_forest.predict(X_test_rich)\n",
    "print('The accuracy of the Random Forests model is :\\t',metrics.accuracy_score(random_forest_preds,y_test_rich))"
   ]
  },
  {
   "cell_type": "markdown",
   "id": "8b3252f9",
   "metadata": {
    "papermill": {
     "duration": 0.026484,
     "end_time": "2024-01-23T12:10:11.670697",
     "exception": false,
     "start_time": "2024-01-23T12:10:11.644213",
     "status": "completed"
    },
    "tags": []
   },
   "source": [
    "# **string features**"
   ]
  },
  {
   "cell_type": "code",
   "execution_count": 39,
   "id": "b669c9c5",
   "metadata": {
    "execution": {
     "iopub.execute_input": "2024-01-23T12:10:11.727656Z",
     "iopub.status.busy": "2024-01-23T12:10:11.727214Z",
     "iopub.status.idle": "2024-01-23T12:10:13.596425Z",
     "shell.execute_reply": "2024-01-23T12:10:13.594979Z"
    },
    "papermill": {
     "duration": 1.902087,
     "end_time": "2024-01-23T12:10:13.599770",
     "exception": false,
     "start_time": "2024-01-23T12:10:11.697683",
     "status": "completed"
    },
    "tags": []
   },
   "outputs": [],
   "source": [
    "kkrunchy = pd.read_pickle('/kaggle/input/packer-balance-pickle/kkrunchy_balance.pickle')\n",
    "kkrunchy = kkrunchy.drop(['sample_sha1','benign','unpacked_sample_sha1','unpacked_sample_id'], axis=1)\n",
    "kkrunchy = kkrunchy.drop(['benign_vt','malicious_vt'], axis=1)\n",
    "string_columns = kkrunchy.select_dtypes(include=['object']).columns\n",
    "kkrunchy = kkrunchy.drop(string_columns, axis=1)"
   ]
  },
  {
   "cell_type": "code",
   "execution_count": 40,
   "id": "f70611bd",
   "metadata": {
    "execution": {
     "iopub.execute_input": "2024-01-23T12:10:13.664344Z",
     "iopub.status.busy": "2024-01-23T12:10:13.663657Z",
     "iopub.status.idle": "2024-01-23T12:10:15.128212Z",
     "shell.execute_reply": "2024-01-23T12:10:15.126644Z"
    },
    "papermill": {
     "duration": 1.499889,
     "end_time": "2024-01-23T12:10:15.131066",
     "exception": false,
     "start_time": "2024-01-23T12:10:13.631177",
     "status": "completed"
    },
    "tags": []
   },
   "outputs": [
    {
     "name": "stdout",
     "output_type": "stream",
     "text": [
      "removing 13000 features\n",
      "removing 2500 features\n",
      "removing 2 features\n",
      "removing 66 features\n",
      "removing 19169 features\n",
      "removing 4306 features\n",
      "removing 550 features\n",
      "removing 29 features\n"
     ]
    }
   ],
   "source": [
    "string = remove_cols(kkrunchy, [c for c in cols if c.startswith('ngram_')])\n",
    "string = remove_cols(kkrunchy, [c for c in cols if c.startswith('opcode_')])\n",
    "string = remove_cols(kkrunchy, [c for c in cols if c.startswith('generic_')])\n",
    "# string = remove_cols(kkrunchy, [c for c in cols if c.startswith('string_')])\n",
    "string = remove_cols(kkrunchy, [c for c in cols if c.startswith('rich_')])\n",
    "string = remove_cols(kkrunchy, [c for c in cols if c.startswith('imp_') or 'api_import_nb' == c])\n",
    "string = remove_cols(kkrunchy, [c for c in cols if c.endswith('.dll') or 'dll_import_nb' == c])\n",
    "string = remove_cols(kkrunchy, [c for c in cols if c.startswith('pesection')])\n",
    "string = remove_cols(kkrunchy, [c for c in cols if c.startswith('header_')])"
   ]
  },
  {
   "cell_type": "code",
   "execution_count": 41,
   "id": "26e80fbf",
   "metadata": {
    "execution": {
     "iopub.execute_input": "2024-01-23T12:10:15.190492Z",
     "iopub.status.busy": "2024-01-23T12:10:15.190035Z",
     "iopub.status.idle": "2024-01-23T12:10:15.534309Z",
     "shell.execute_reply": "2024-01-23T12:10:15.533114Z"
    },
    "papermill": {
     "duration": 0.377231,
     "end_time": "2024-01-23T12:10:15.537291",
     "exception": false,
     "start_time": "2024-01-23T12:10:15.160060",
     "status": "completed"
    },
    "tags": []
   },
   "outputs": [],
   "source": [
    "df_7000_string = string.sample(n=7000, random_state=102)\n",
    "df_3000_string = string.drop(df_7000.index)\n",
    "data_string = df_7000_string.sample(n=3500, random_state=102)"
   ]
  },
  {
   "cell_type": "code",
   "execution_count": 42,
   "id": "f331d073",
   "metadata": {
    "execution": {
     "iopub.execute_input": "2024-01-23T12:10:15.594738Z",
     "iopub.status.busy": "2024-01-23T12:10:15.594186Z",
     "iopub.status.idle": "2024-01-23T12:10:16.046426Z",
     "shell.execute_reply": "2024-01-23T12:10:16.044732Z"
    },
    "papermill": {
     "duration": 0.484514,
     "end_time": "2024-01-23T12:10:16.049225",
     "exception": false,
     "start_time": "2024-01-23T12:10:15.564711",
     "status": "completed"
    },
    "tags": []
   },
   "outputs": [
    {
     "name": "stdout",
     "output_type": "stream",
     "text": [
      "Packed Malware: 2411 samples\n",
      "Packed Benign: 1089 samples\n",
      "Total TRAIN set: 3500 samples\n",
      "Packed Malware: 1089 samples\n",
      "Packed Benign: 1089 samples\n",
      "Total TRAIN set: 2178 samples\n",
      "Packed Malware: 913 samples\n",
      "Packed Benign: 913 samples\n",
      "Total TEST set: 1826 samples\n"
     ]
    }
   ],
   "source": [
    "#Kiểm tra số lượng mẫu\n",
    "PM = data_string[(data_string['malicious'] == True) & (data_string['packed'] == True)].shape[0]\n",
    "PB = data_string[(data_string['malicious'] == False) & (data_string['packed'] == True)].shape[0]\n",
    "print('Packed Malware: %i samples' % PM)\n",
    "print('Packed Benign: %i samples' % PB)\n",
    "print('Total TRAIN set: %i samples'% (PM+PB))\n",
    "\n",
    "#Chia tỉ lệ 50 - 50\n",
    "data_PM_string = data_string[(data_string['malicious'] == True) & (data_string['packed'] == True)].sample(n=(PM-PB), random_state=102)\n",
    "data_string = data_string.drop(data_PM_string.index)\n",
    "      \n",
    "#Số lượng tập train\n",
    "PM = data_string[(data_string['malicious'] == True) & (data_string['packed'] == True)].shape[0]\n",
    "PB = data_string[(data_string['malicious'] == False) & (data_string['packed'] == True)].shape[0]\n",
    "print('Packed Malware: %i samples' % PM)\n",
    "print('Packed Benign: %i samples' % PB)\n",
    "print('Total TRAIN set: %i samples'% (PM+PB))\n",
    "\n",
    "#Xử lý tập train\n",
    "y = data_string['malicious'].values\n",
    "data_string = data_string.drop(['malicious','packed'], axis=1)\n",
    "\n",
    "PM = df_3000_string[(df_3000_string['malicious'] == True) & (df_3000_string['packed'] == True)].shape[0]\n",
    "PB = df_3000_string[(df_3000_string['malicious'] == False) & (df_3000_string['packed'] == True)].shape[0]\n",
    "\n",
    "df_3000_PM_string = df_3000_string[(df_3000_string['malicious'] == True) & (df_3000_string['packed'] == True)].sample(n=(PM-PB), random_state=102)\n",
    "df_3000_string = df_3000_string.drop(df_3000_PM_string.index)\n",
    "\n",
    "PM = df_3000_string[(df_3000_string['malicious'] == True) & (df_3000_string['packed'] == True)].shape[0]\n",
    "PB = df_3000_string[(df_3000_string['malicious'] == False) & (df_3000_string['packed'] == True)].shape[0]\n",
    "\n",
    "print('Packed Malware: %i samples' % PM)\n",
    "print('Packed Benign: %i samples' % PB)\n",
    "print('Total TEST set: %i samples'% (PM+PB))"
   ]
  },
  {
   "cell_type": "code",
   "execution_count": 43,
   "id": "80524398",
   "metadata": {
    "execution": {
     "iopub.execute_input": "2024-01-23T12:10:16.106925Z",
     "iopub.status.busy": "2024-01-23T12:10:16.106080Z",
     "iopub.status.idle": "2024-01-23T12:10:16.199376Z",
     "shell.execute_reply": "2024-01-23T12:10:16.198315Z"
    },
    "papermill": {
     "duration": 0.125898,
     "end_time": "2024-01-23T12:10:16.202678",
     "exception": false,
     "start_time": "2024-01-23T12:10:16.076780",
     "status": "completed"
    },
    "tags": []
   },
   "outputs": [],
   "source": [
    "# model = SelectFromModel(fsel, prefit=True)\n",
    "\n",
    "X_train_string = data_string\n",
    "X_test_string = df_3000_string.drop(['malicious','packed'], axis=1)\n",
    "\n",
    "data_string = data_string.loc[:, (data_string != 0).any(axis=0)]\n",
    "x_train_string = data_string\n",
    "X_test_string = df_3000_string.drop(['malicious','packed'], axis=1)\n",
    "y_train_string = y\n",
    "y_test_string = df_3000_string['malicious'].values"
   ]
  },
  {
   "cell_type": "code",
   "execution_count": 44,
   "id": "9e7b0062",
   "metadata": {
    "execution": {
     "iopub.execute_input": "2024-01-23T12:10:16.260858Z",
     "iopub.status.busy": "2024-01-23T12:10:16.260416Z",
     "iopub.status.idle": "2024-01-23T12:10:29.819370Z",
     "shell.execute_reply": "2024-01-23T12:10:29.817350Z"
    },
    "papermill": {
     "duration": 13.591903,
     "end_time": "2024-01-23T12:10:29.822181",
     "exception": false,
     "start_time": "2024-01-23T12:10:16.230278",
     "status": "completed"
    },
    "tags": []
   },
   "outputs": [
    {
     "name": "stdout",
     "output_type": "stream",
     "text": [
      "The accuracy of the Random Forests model is :\t 0.8154435925520263\n"
     ]
    }
   ],
   "source": [
    "# Random Forest\n",
    "from sklearn.ensemble import RandomForestClassifier\n",
    "from sklearn import metrics\n",
    "\n",
    "random_forest = RandomForestClassifier(n_estimators=100, random_state=17)\n",
    "random_forest.fit(X_train_string, y_train_string)\n",
    "random_forest_preds = random_forest.predict(X_test_string)\n",
    "print('The accuracy of the Random Forests model is :\\t',metrics.accuracy_score(random_forest_preds,y_test_string))"
   ]
  },
  {
   "cell_type": "markdown",
   "id": "c27989b5",
   "metadata": {
    "papermill": {
     "duration": 0.027833,
     "end_time": "2024-01-23T12:10:29.878197",
     "exception": false,
     "start_time": "2024-01-23T12:10:29.850364",
     "status": "completed"
    },
    "tags": []
   },
   "source": [
    "# **api features**"
   ]
  },
  {
   "cell_type": "code",
   "execution_count": 45,
   "id": "a2269426",
   "metadata": {
    "execution": {
     "iopub.execute_input": "2024-01-23T12:10:29.936845Z",
     "iopub.status.busy": "2024-01-23T12:10:29.936006Z",
     "iopub.status.idle": "2024-01-23T12:10:31.867619Z",
     "shell.execute_reply": "2024-01-23T12:10:31.866281Z"
    },
    "papermill": {
     "duration": 1.964767,
     "end_time": "2024-01-23T12:10:31.870841",
     "exception": false,
     "start_time": "2024-01-23T12:10:29.906074",
     "status": "completed"
    },
    "tags": []
   },
   "outputs": [],
   "source": [
    "kkrunchy = pd.read_pickle('/kaggle/input/packer-balance-pickle/kkrunchy_balance.pickle')\n",
    "kkrunchy = kkrunchy.drop(['sample_sha1','benign','unpacked_sample_sha1','unpacked_sample_id'], axis=1)\n",
    "kkrunchy = kkrunchy.drop(['benign_vt','malicious_vt'], axis=1)\n",
    "string_columns = kkrunchy.select_dtypes(include=['object']).columns\n",
    "kkrunchy = kkrunchy.drop(string_columns, axis=1)"
   ]
  },
  {
   "cell_type": "code",
   "execution_count": 46,
   "id": "7048c5f7",
   "metadata": {
    "execution": {
     "iopub.execute_input": "2024-01-23T12:10:31.928891Z",
     "iopub.status.busy": "2024-01-23T12:10:31.928053Z",
     "iopub.status.idle": "2024-01-23T12:10:33.607394Z",
     "shell.execute_reply": "2024-01-23T12:10:33.606144Z"
    },
    "papermill": {
     "duration": 1.711998,
     "end_time": "2024-01-23T12:10:33.610472",
     "exception": false,
     "start_time": "2024-01-23T12:10:31.898474",
     "status": "completed"
    },
    "tags": []
   },
   "outputs": [
    {
     "name": "stdout",
     "output_type": "stream",
     "text": [
      "removing 13000 features\n",
      "removing 2500 features\n",
      "removing 2 features\n",
      "removing 16900 features\n",
      "removing 66 features\n",
      "removing 4306 features\n",
      "removing 550 features\n",
      "removing 29 features\n"
     ]
    }
   ],
   "source": [
    "api = remove_cols(kkrunchy, [c for c in cols if c.startswith('ngram_')])\n",
    "api = remove_cols(kkrunchy, [c for c in cols if c.startswith('opcode_')])\n",
    "api = remove_cols(kkrunchy, [c for c in cols if c.startswith('generic_')])\n",
    "api = remove_cols(kkrunchy, [c for c in cols if c.startswith('string_')])\n",
    "api = remove_cols(kkrunchy, [c for c in cols if c.startswith('rich_')])\n",
    "# api = remove_cols(kkrunchy, [c for c in cols if c.startswith('imp_') or 'api_import_nb' == c])\n",
    "api = remove_cols(kkrunchy, [c for c in cols if c.endswith('.dll') or 'dll_import_nb' == c])\n",
    "api = remove_cols(kkrunchy, [c for c in cols if c.startswith('pesection')])\n",
    "api = remove_cols(kkrunchy, [c for c in cols if c.startswith('header_')])"
   ]
  },
  {
   "cell_type": "code",
   "execution_count": 47,
   "id": "08a05dd1",
   "metadata": {
    "execution": {
     "iopub.execute_input": "2024-01-23T12:10:33.670470Z",
     "iopub.status.busy": "2024-01-23T12:10:33.669368Z",
     "iopub.status.idle": "2024-01-23T12:10:34.094155Z",
     "shell.execute_reply": "2024-01-23T12:10:34.093159Z"
    },
    "papermill": {
     "duration": 0.457036,
     "end_time": "2024-01-23T12:10:34.096731",
     "exception": false,
     "start_time": "2024-01-23T12:10:33.639695",
     "status": "completed"
    },
    "tags": []
   },
   "outputs": [],
   "source": [
    "df_7000_api = api.sample(n=7000, random_state=102)\n",
    "df_3000_api = api.drop(df_7000.index)\n",
    "data_api = df_7000_api.sample(n=3500, random_state=102)"
   ]
  },
  {
   "cell_type": "code",
   "execution_count": 48,
   "id": "e7d575c0",
   "metadata": {
    "execution": {
     "iopub.execute_input": "2024-01-23T12:10:34.156954Z",
     "iopub.status.busy": "2024-01-23T12:10:34.156230Z",
     "iopub.status.idle": "2024-01-23T12:10:34.852924Z",
     "shell.execute_reply": "2024-01-23T12:10:34.851422Z"
    },
    "papermill": {
     "duration": 0.730892,
     "end_time": "2024-01-23T12:10:34.855747",
     "exception": false,
     "start_time": "2024-01-23T12:10:34.124855",
     "status": "completed"
    },
    "tags": []
   },
   "outputs": [
    {
     "name": "stdout",
     "output_type": "stream",
     "text": [
      "Packed Malware: 2411 samples\n",
      "Packed Benign: 1089 samples\n",
      "Total TRAIN set: 3500 samples\n",
      "Packed Malware: 1089 samples\n",
      "Packed Benign: 1089 samples\n",
      "Total TRAIN set: 2178 samples\n",
      "Packed Malware: 913 samples\n",
      "Packed Benign: 913 samples\n",
      "Total TEST set: 1826 samples\n"
     ]
    }
   ],
   "source": [
    "#Kiểm tra số lượng mẫu\n",
    "PM = data_api[(data_api['malicious'] == True) & (data_api['packed'] == True)].shape[0]\n",
    "PB = data_api[(data_api['malicious'] == False) & (data_api['packed'] == True)].shape[0]\n",
    "print('Packed Malware: %i samples' % PM)\n",
    "print('Packed Benign: %i samples' % PB)\n",
    "print('Total TRAIN set: %i samples'% (PM+PB))\n",
    "\n",
    "#Chia tỉ lệ 50 - 50\n",
    "data_PM_api = data_api[(data_api['malicious'] == True) & (data_api['packed'] == True)].sample(n=(PM-PB), random_state=102)\n",
    "data_api = data_api.drop(data_PM_api.index)\n",
    "      \n",
    "#Số lượng tập train\n",
    "PM = data_api[(data_api['malicious'] == True) & (data_api['packed'] == True)].shape[0]\n",
    "PB = data_api[(data_api['malicious'] == False) & (data_api['packed'] == True)].shape[0]\n",
    "print('Packed Malware: %i samples' % PM)\n",
    "print('Packed Benign: %i samples' % PB)\n",
    "print('Total TRAIN set: %i samples'% (PM+PB))\n",
    "\n",
    "#Xử lý tập train\n",
    "y = data_api['malicious'].values\n",
    "data_api = data_api.drop(['malicious','packed'], axis=1)\n",
    "\n",
    "PM = df_3000_api[(df_3000_api['malicious'] == True) & (df_3000_api['packed'] == True)].shape[0]\n",
    "PB = df_3000_api[(df_3000_api['malicious'] == False) & (df_3000_api['packed'] == True)].shape[0]\n",
    "\n",
    "df_3000_PM_api = df_3000_api[(df_3000_api['malicious'] == True) & (df_3000_api['packed'] == True)].sample(n=(PM-PB), random_state=102)\n",
    "df_3000_api = df_3000_api.drop(df_3000_PM_api.index)\n",
    "\n",
    "PM = df_3000_api[(df_3000_api['malicious'] == True) & (df_3000_api['packed'] == True)].shape[0]\n",
    "PB = df_3000_api[(df_3000_api['malicious'] == False) & (df_3000_api['packed'] == True)].shape[0]\n",
    "\n",
    "print('Packed Malware: %i samples' % PM)\n",
    "print('Packed Benign: %i samples' % PB)\n",
    "print('Total TEST set: %i samples'% (PM+PB))"
   ]
  },
  {
   "cell_type": "code",
   "execution_count": 49,
   "id": "72c1027e",
   "metadata": {
    "execution": {
     "iopub.execute_input": "2024-01-23T12:10:34.915897Z",
     "iopub.status.busy": "2024-01-23T12:10:34.915455Z",
     "iopub.status.idle": "2024-01-23T12:10:35.050712Z",
     "shell.execute_reply": "2024-01-23T12:10:35.049584Z"
    },
    "papermill": {
     "duration": 0.168037,
     "end_time": "2024-01-23T12:10:35.053774",
     "exception": false,
     "start_time": "2024-01-23T12:10:34.885737",
     "status": "completed"
    },
    "tags": []
   },
   "outputs": [],
   "source": [
    "# model = SelectFromModel(fsel, prefit=True)\n",
    "\n",
    "X_train_api = data_api\n",
    "X_test_api = df_3000_api.drop(['malicious','packed'], axis=1)\n",
    "\n",
    "data_api = data_api.loc[:, (data_api != 0).any(axis=0)]\n",
    "x_train_api = data_api\n",
    "X_test_api = df_3000_api.drop(['malicious','packed'], axis=1)\n",
    "y_train_api = y\n",
    "y_test_api = df_3000_api['malicious'].values"
   ]
  },
  {
   "cell_type": "code",
   "execution_count": 50,
   "id": "814a0910",
   "metadata": {
    "execution": {
     "iopub.execute_input": "2024-01-23T12:10:35.113217Z",
     "iopub.status.busy": "2024-01-23T12:10:35.112767Z",
     "iopub.status.idle": "2024-01-23T12:10:44.838758Z",
     "shell.execute_reply": "2024-01-23T12:10:44.837077Z"
    },
    "papermill": {
     "duration": 9.759195,
     "end_time": "2024-01-23T12:10:44.841886",
     "exception": false,
     "start_time": "2024-01-23T12:10:35.082691",
     "status": "completed"
    },
    "tags": []
   },
   "outputs": [
    {
     "name": "stdout",
     "output_type": "stream",
     "text": [
      "The accuracy of the Random Forests model is :\t 0.5043811610076671\n"
     ]
    }
   ],
   "source": [
    "# Random Forest\n",
    "from sklearn.ensemble import RandomForestClassifier\n",
    "from sklearn import metrics\n",
    "\n",
    "random_forest = RandomForestClassifier(n_estimators=100, random_state=17)\n",
    "random_forest.fit(X_train_api, y_train_api)\n",
    "random_forest_preds = random_forest.predict(X_test_api)\n",
    "print('The accuracy of the Random Forests model is :\\t',metrics.accuracy_score(random_forest_preds,y_test_api))"
   ]
  },
  {
   "cell_type": "markdown",
   "id": "661598c6",
   "metadata": {
    "papermill": {
     "duration": 0.028403,
     "end_time": "2024-01-23T12:10:44.899098",
     "exception": false,
     "start_time": "2024-01-23T12:10:44.870695",
     "status": "completed"
    },
    "tags": []
   },
   "source": [
    "# **dll features**"
   ]
  },
  {
   "cell_type": "code",
   "execution_count": 51,
   "id": "e15ddfc7",
   "metadata": {
    "execution": {
     "iopub.execute_input": "2024-01-23T12:10:44.959106Z",
     "iopub.status.busy": "2024-01-23T12:10:44.958683Z",
     "iopub.status.idle": "2024-01-23T12:10:46.738261Z",
     "shell.execute_reply": "2024-01-23T12:10:46.737030Z"
    },
    "papermill": {
     "duration": 1.812781,
     "end_time": "2024-01-23T12:10:46.741523",
     "exception": false,
     "start_time": "2024-01-23T12:10:44.928742",
     "status": "completed"
    },
    "tags": []
   },
   "outputs": [],
   "source": [
    "kkrunchy = pd.read_pickle('/kaggle/input/packer-balance-pickle/kkrunchy_balance.pickle')\n",
    "kkrunchy = kkrunchy.drop(['sample_sha1','benign','unpacked_sample_sha1','unpacked_sample_id'], axis=1)\n",
    "kkrunchy = kkrunchy.drop(['benign_vt','malicious_vt'], axis=1)\n",
    "string_columns = kkrunchy.select_dtypes(include=['object']).columns\n",
    "kkrunchy = kkrunchy.drop(string_columns, axis=1)"
   ]
  },
  {
   "cell_type": "code",
   "execution_count": 52,
   "id": "91c5cf45",
   "metadata": {
    "execution": {
     "iopub.execute_input": "2024-01-23T12:10:46.807153Z",
     "iopub.status.busy": "2024-01-23T12:10:46.806754Z",
     "iopub.status.idle": "2024-01-23T12:10:48.195088Z",
     "shell.execute_reply": "2024-01-23T12:10:48.193005Z"
    },
    "papermill": {
     "duration": 1.426822,
     "end_time": "2024-01-23T12:10:48.198382",
     "exception": false,
     "start_time": "2024-01-23T12:10:46.771560",
     "status": "completed"
    },
    "tags": []
   },
   "outputs": [
    {
     "name": "stdout",
     "output_type": "stream",
     "text": [
      "removing 13000 features\n",
      "removing 2500 features\n",
      "removing 2 features\n",
      "removing 16900 features\n",
      "removing 66 features\n",
      "removing 19169 features\n",
      "removing 550 features\n",
      "removing 29 features\n"
     ]
    }
   ],
   "source": [
    "dll = remove_cols(kkrunchy, [c for c in cols if c.startswith('ngram_')])\n",
    "dll = remove_cols(kkrunchy, [c for c in cols if c.startswith('opcode_')])\n",
    "dll = remove_cols(kkrunchy, [c for c in cols if c.startswith('generic_')])\n",
    "dll = remove_cols(kkrunchy, [c for c in cols if c.startswith('string_')])\n",
    "dll = remove_cols(kkrunchy, [c for c in cols if c.startswith('rich_')])\n",
    "dll = remove_cols(kkrunchy, [c for c in cols if c.startswith('imp_') or 'api_import_nb' == c])\n",
    "# api = remove_cols(kkrunchy, [c for c in cols if c.endswith('.dll') or 'dll_import_nb' == c])\n",
    "dll = remove_cols(kkrunchy, [c for c in cols if c.startswith('pesection')])\n",
    "dll = remove_cols(kkrunchy, [c for c in cols if c.startswith('header_')])"
   ]
  },
  {
   "cell_type": "code",
   "execution_count": 53,
   "id": "fe177f2d",
   "metadata": {
    "execution": {
     "iopub.execute_input": "2024-01-23T12:10:48.263713Z",
     "iopub.status.busy": "2024-01-23T12:10:48.262722Z",
     "iopub.status.idle": "2024-01-23T12:10:48.381980Z",
     "shell.execute_reply": "2024-01-23T12:10:48.380226Z"
    },
    "papermill": {
     "duration": 0.155832,
     "end_time": "2024-01-23T12:10:48.385949",
     "exception": false,
     "start_time": "2024-01-23T12:10:48.230117",
     "status": "completed"
    },
    "tags": []
   },
   "outputs": [],
   "source": [
    "df_7000_dll = dll.sample(n=7000, random_state=102)\n",
    "df_3000_dll = dll.drop(df_7000.index)\n",
    "data_dll = df_7000_dll.sample(n=3500, random_state=102)"
   ]
  },
  {
   "cell_type": "code",
   "execution_count": 54,
   "id": "1ee61ff3",
   "metadata": {
    "execution": {
     "iopub.execute_input": "2024-01-23T12:10:48.449192Z",
     "iopub.status.busy": "2024-01-23T12:10:48.448747Z",
     "iopub.status.idle": "2024-01-23T12:10:48.690774Z",
     "shell.execute_reply": "2024-01-23T12:10:48.689208Z"
    },
    "papermill": {
     "duration": 0.277623,
     "end_time": "2024-01-23T12:10:48.693982",
     "exception": false,
     "start_time": "2024-01-23T12:10:48.416359",
     "status": "completed"
    },
    "tags": []
   },
   "outputs": [
    {
     "name": "stdout",
     "output_type": "stream",
     "text": [
      "Packed Malware: 2411 samples\n",
      "Packed Benign: 1089 samples\n",
      "Total TRAIN set: 3500 samples\n",
      "Packed Malware: 1089 samples\n",
      "Packed Benign: 1089 samples\n",
      "Total TRAIN set: 2178 samples\n",
      "Packed Malware: 913 samples\n",
      "Packed Benign: 913 samples\n",
      "Total TEST set: 1826 samples\n"
     ]
    }
   ],
   "source": [
    "#Kiểm tra số lượng mẫu\n",
    "PM = data_dll[(data_dll['malicious'] == True) & (data_dll['packed'] == True)].shape[0]\n",
    "PB = data_dll[(data_dll['malicious'] == False) & (data_dll['packed'] == True)].shape[0]\n",
    "print('Packed Malware: %i samples' % PM)\n",
    "print('Packed Benign: %i samples' % PB)\n",
    "print('Total TRAIN set: %i samples'% (PM+PB))\n",
    "\n",
    "#Chia tỉ lệ 50 - 50\n",
    "data_PM_dll = data_dll[(data_dll['malicious'] == True) & (data_dll['packed'] == True)].sample(n=(PM-PB), random_state=102)\n",
    "data_dll = data_dll.drop(data_PM_dll.index)\n",
    "      \n",
    "#Số lượng tập train\n",
    "PM = data_dll[(data_dll['malicious'] == True) & (data_dll['packed'] == True)].shape[0]\n",
    "PB = data_dll[(data_dll['malicious'] == False) & (data_dll['packed'] == True)].shape[0]\n",
    "print('Packed Malware: %i samples' % PM)\n",
    "print('Packed Benign: %i samples' % PB)\n",
    "print('Total TRAIN set: %i samples'% (PM+PB))\n",
    "\n",
    "#Xử lý tập train\n",
    "y = data_dll['malicious'].values\n",
    "data_dll = data_dll.drop(['malicious','packed'], axis=1)\n",
    "\n",
    "PM = df_3000_dll[(df_3000_dll['malicious'] == True) & (df_3000_dll['packed'] == True)].shape[0]\n",
    "PB = df_3000_dll[(df_3000_dll['malicious'] == False) & (df_3000_dll['packed'] == True)].shape[0]\n",
    "\n",
    "df_3000_PM_dll = df_3000_dll[(df_3000_dll['malicious'] == True) & (df_3000_dll['packed'] == True)].sample(n=(PM-PB), random_state=102)\n",
    "df_3000_dll = df_3000_dll.drop(df_3000_PM_dll.index)\n",
    "\n",
    "PM = df_3000_dll[(df_3000_dll['malicious'] == True) & (df_3000_dll['packed'] == True)].shape[0]\n",
    "PB = df_3000_dll[(df_3000_dll['malicious'] == False) & (df_3000_dll['packed'] == True)].shape[0]\n",
    "\n",
    "print('Packed Malware: %i samples' % PM)\n",
    "print('Packed Benign: %i samples' % PB)\n",
    "print('Total TEST set: %i samples'% (PM+PB))"
   ]
  },
  {
   "cell_type": "code",
   "execution_count": 55,
   "id": "2f33a59b",
   "metadata": {
    "execution": {
     "iopub.execute_input": "2024-01-23T12:10:48.755000Z",
     "iopub.status.busy": "2024-01-23T12:10:48.754573Z",
     "iopub.status.idle": "2024-01-23T12:10:48.807053Z",
     "shell.execute_reply": "2024-01-23T12:10:48.805467Z"
    },
    "papermill": {
     "duration": 0.08888,
     "end_time": "2024-01-23T12:10:48.812089",
     "exception": false,
     "start_time": "2024-01-23T12:10:48.723209",
     "status": "completed"
    },
    "tags": []
   },
   "outputs": [],
   "source": [
    "# model = SelectFromModel(fsel, prefit=True)\n",
    "\n",
    "X_train_dll = data_dll\n",
    "X_test_dll = df_3000_dll.drop(['malicious','packed'], axis=1)\n",
    "\n",
    "data_dll = data_dll.loc[:, (data_dll != 0).any(axis=0)]\n",
    "x_train_dll = data_dll\n",
    "X_test_dll = df_3000_dll.drop(['malicious','packed'], axis=1)\n",
    "y_train_dll = y\n",
    "y_test_dll = df_3000_dll['malicious'].values"
   ]
  },
  {
   "cell_type": "code",
   "execution_count": 56,
   "id": "7af2b2cb",
   "metadata": {
    "execution": {
     "iopub.execute_input": "2024-01-23T12:10:48.881644Z",
     "iopub.status.busy": "2024-01-23T12:10:48.881138Z",
     "iopub.status.idle": "2024-01-23T12:10:51.303319Z",
     "shell.execute_reply": "2024-01-23T12:10:51.301486Z"
    },
    "papermill": {
     "duration": 2.461968,
     "end_time": "2024-01-23T12:10:51.306354",
     "exception": false,
     "start_time": "2024-01-23T12:10:48.844386",
     "status": "completed"
    },
    "tags": []
   },
   "outputs": [
    {
     "name": "stdout",
     "output_type": "stream",
     "text": [
      "The accuracy of the Random Forests model is :\t 0.5043811610076671\n"
     ]
    }
   ],
   "source": [
    "# Random Forest\n",
    "from sklearn.ensemble import RandomForestClassifier\n",
    "from sklearn import metrics\n",
    "\n",
    "random_forest = RandomForestClassifier(n_estimators=100, random_state=17)\n",
    "random_forest.fit(X_train_dll, y_train_dll)\n",
    "random_forest_preds = random_forest.predict(X_test_dll)\n",
    "print('The accuracy of the Random Forests model is :\\t',metrics.accuracy_score(random_forest_preds,y_test_dll))"
   ]
  },
  {
   "cell_type": "markdown",
   "id": "cccc867c",
   "metadata": {
    "papermill": {
     "duration": 0.02879,
     "end_time": "2024-01-23T12:10:51.365239",
     "exception": false,
     "start_time": "2024-01-23T12:10:51.336449",
     "status": "completed"
    },
    "tags": []
   },
   "source": [
    "# **pe sections features**"
   ]
  },
  {
   "cell_type": "code",
   "execution_count": 57,
   "id": "67d7f909",
   "metadata": {
    "execution": {
     "iopub.execute_input": "2024-01-23T12:10:51.426382Z",
     "iopub.status.busy": "2024-01-23T12:10:51.425944Z",
     "iopub.status.idle": "2024-01-23T12:10:53.415120Z",
     "shell.execute_reply": "2024-01-23T12:10:53.413813Z"
    },
    "papermill": {
     "duration": 2.024108,
     "end_time": "2024-01-23T12:10:53.418495",
     "exception": false,
     "start_time": "2024-01-23T12:10:51.394387",
     "status": "completed"
    },
    "tags": []
   },
   "outputs": [],
   "source": [
    "kkrunchy = pd.read_pickle('/kaggle/input/packer-balance-pickle/kkrunchy_balance.pickle')\n",
    "kkrunchy = kkrunchy.drop(['sample_sha1','benign','unpacked_sample_sha1','unpacked_sample_id'], axis=1)\n",
    "kkrunchy = kkrunchy.drop(['benign_vt','malicious_vt'], axis=1)\n",
    "string_columns = kkrunchy.select_dtypes(include=['object']).columns\n",
    "kkrunchy = kkrunchy.drop(string_columns, axis=1)"
   ]
  },
  {
   "cell_type": "code",
   "execution_count": 58,
   "id": "742734e9",
   "metadata": {
    "execution": {
     "iopub.execute_input": "2024-01-23T12:10:53.488933Z",
     "iopub.status.busy": "2024-01-23T12:10:53.488415Z",
     "iopub.status.idle": "2024-01-23T12:10:54.913300Z",
     "shell.execute_reply": "2024-01-23T12:10:54.911984Z"
    },
    "papermill": {
     "duration": 1.464405,
     "end_time": "2024-01-23T12:10:54.916492",
     "exception": false,
     "start_time": "2024-01-23T12:10:53.452087",
     "status": "completed"
    },
    "tags": []
   },
   "outputs": [
    {
     "name": "stdout",
     "output_type": "stream",
     "text": [
      "removing 13000 features\n",
      "removing 2500 features\n",
      "removing 2 features\n",
      "removing 16900 features\n",
      "removing 66 features\n",
      "removing 19169 features\n",
      "removing 4306 features\n",
      "removing 29 features\n"
     ]
    }
   ],
   "source": [
    "pesection = remove_cols(kkrunchy, [c for c in cols if c.startswith('ngram_')])\n",
    "pesection = remove_cols(kkrunchy, [c for c in cols if c.startswith('opcode_')])\n",
    "pesection = remove_cols(kkrunchy, [c for c in cols if c.startswith('generic_')])\n",
    "pesection = remove_cols(kkrunchy, [c for c in cols if c.startswith('string_')])\n",
    "pesection = remove_cols(kkrunchy, [c for c in cols if c.startswith('rich_')])\n",
    "pesection = remove_cols(kkrunchy, [c for c in cols if c.startswith('imp_') or 'api_import_nb' == c])\n",
    "pesection = remove_cols(kkrunchy, [c for c in cols if c.endswith('.dll') or 'dll_import_nb' == c])\n",
    "# pesection = remove_cols(kkrunchy, [c for c in cols if c.startswith('pesection')])\n",
    "pesection = remove_cols(kkrunchy, [c for c in cols if c.startswith('header_')])"
   ]
  },
  {
   "cell_type": "code",
   "execution_count": 59,
   "id": "0175b2f8",
   "metadata": {
    "execution": {
     "iopub.execute_input": "2024-01-23T12:10:54.983160Z",
     "iopub.status.busy": "2024-01-23T12:10:54.982662Z",
     "iopub.status.idle": "2024-01-23T12:10:55.050883Z",
     "shell.execute_reply": "2024-01-23T12:10:55.049022Z"
    },
    "papermill": {
     "duration": 0.10594,
     "end_time": "2024-01-23T12:10:55.054333",
     "exception": false,
     "start_time": "2024-01-23T12:10:54.948393",
     "status": "completed"
    },
    "tags": []
   },
   "outputs": [],
   "source": [
    "df_7000_pesection = pesection.sample(n=7000, random_state=102)\n",
    "df_3000_pesection = pesection.drop(df_7000.index)\n",
    "data_pesection = df_7000_pesection.sample(n=3500, random_state=102)"
   ]
  },
  {
   "cell_type": "code",
   "execution_count": 60,
   "id": "fcd70caf",
   "metadata": {
    "execution": {
     "iopub.execute_input": "2024-01-23T12:10:55.120327Z",
     "iopub.status.busy": "2024-01-23T12:10:55.119840Z",
     "iopub.status.idle": "2024-01-23T12:10:55.280355Z",
     "shell.execute_reply": "2024-01-23T12:10:55.278774Z"
    },
    "papermill": {
     "duration": 0.197874,
     "end_time": "2024-01-23T12:10:55.283350",
     "exception": false,
     "start_time": "2024-01-23T12:10:55.085476",
     "status": "completed"
    },
    "tags": []
   },
   "outputs": [
    {
     "name": "stdout",
     "output_type": "stream",
     "text": [
      "Packed Malware: 2411 samples\n",
      "Packed Benign: 1089 samples\n",
      "Total TRAIN set: 3500 samples\n",
      "Packed Malware: 1089 samples\n",
      "Packed Benign: 1089 samples\n",
      "Total TRAIN set: 2178 samples\n",
      "Packed Malware: 913 samples\n",
      "Packed Benign: 913 samples\n",
      "Total TEST set: 1826 samples\n"
     ]
    }
   ],
   "source": [
    "#Kiểm tra số lượng mẫu\n",
    "PM = data_pesection[(data_pesection['malicious'] == True) & (data_pesection['packed'] == True)].shape[0]\n",
    "PB = data_pesection[(data_pesection['malicious'] == False) & (data_pesection['packed'] == True)].shape[0]\n",
    "print('Packed Malware: %i samples' % PM)\n",
    "print('Packed Benign: %i samples' % PB)\n",
    "print('Total TRAIN set: %i samples'% (PM+PB))\n",
    "\n",
    "#Chia tỉ lệ 50 - 50\n",
    "data_PM_pesection = data_pesection[(data_pesection['malicious'] == True) & (data_pesection['packed'] == True)].sample(n=(PM-PB), random_state=102)\n",
    "data_pesection = data_pesection.drop(data_PM_pesection.index)\n",
    "      \n",
    "#Số lượng tập train\n",
    "PM = data_pesection[(data_pesection['malicious'] == True) & (data_pesection['packed'] == True)].shape[0]\n",
    "PB = data_pesection[(data_pesection['malicious'] == False) & (data_pesection['packed'] == True)].shape[0]\n",
    "print('Packed Malware: %i samples' % PM)\n",
    "print('Packed Benign: %i samples' % PB)\n",
    "print('Total TRAIN set: %i samples'% (PM+PB))\n",
    "\n",
    "#Xử lý tập train\n",
    "y = data_pesection['malicious'].values\n",
    "data_pesection = data_pesection.drop(['malicious','packed'], axis=1)\n",
    "\n",
    "PM = df_3000_pesection[(df_3000_pesection['malicious'] == True) & (df_3000_pesection['packed'] == True)].shape[0]\n",
    "PB = df_3000_pesection[(df_3000_pesection['malicious'] == False) & (df_3000_pesection['packed'] == True)].shape[0]\n",
    "\n",
    "df_3000_PM_pesection = df_3000_pesection[(df_3000_pesection['malicious'] == True) & (df_3000_pesection['packed'] == True)].sample(n=(PM-PB), random_state=102)\n",
    "df_3000_pesection = df_3000_pesection.drop(df_3000_PM_pesection.index)\n",
    "\n",
    "PM = df_3000_pesection[(df_3000_pesection['malicious'] == True) & (df_3000_pesection['packed'] == True)].shape[0]\n",
    "PB = df_3000_pesection[(df_3000_pesection['malicious'] == False) & (df_3000_pesection['packed'] == True)].shape[0]\n",
    "\n",
    "print('Packed Malware: %i samples' % PM)\n",
    "print('Packed Benign: %i samples' % PB)\n",
    "print('Total TEST set: %i samples'% (PM+PB))"
   ]
  },
  {
   "cell_type": "code",
   "execution_count": 61,
   "id": "2780c86d",
   "metadata": {
    "execution": {
     "iopub.execute_input": "2024-01-23T12:10:55.347292Z",
     "iopub.status.busy": "2024-01-23T12:10:55.346862Z",
     "iopub.status.idle": "2024-01-23T12:10:55.392184Z",
     "shell.execute_reply": "2024-01-23T12:10:55.390709Z"
    },
    "papermill": {
     "duration": 0.080278,
     "end_time": "2024-01-23T12:10:55.395712",
     "exception": false,
     "start_time": "2024-01-23T12:10:55.315434",
     "status": "completed"
    },
    "tags": []
   },
   "outputs": [],
   "source": [
    "# model = SelectFromModel(fsel, prefit=True)\n",
    "\n",
    "X_train_pesection = data_pesection\n",
    "X_test_pesection = df_3000_pesection.drop(['malicious','packed'], axis=1)\n",
    "\n",
    "data_pesection = data_pesection.loc[:, (data_pesection != 0).any(axis=0)]\n",
    "x_train_pesection = data_pesection\n",
    "X_test_pesection = df_3000_pesection.drop(['malicious','packed'], axis=1)\n",
    "y_train_pesection = y\n",
    "y_test_pesection = df_3000_pesection['malicious'].values"
   ]
  },
  {
   "cell_type": "code",
   "execution_count": 62,
   "id": "5e812172",
   "metadata": {
    "execution": {
     "iopub.execute_input": "2024-01-23T12:10:55.463509Z",
     "iopub.status.busy": "2024-01-23T12:10:55.463036Z",
     "iopub.status.idle": "2024-01-23T12:10:56.283720Z",
     "shell.execute_reply": "2024-01-23T12:10:56.282495Z"
    },
    "papermill": {
     "duration": 0.858164,
     "end_time": "2024-01-23T12:10:56.286282",
     "exception": false,
     "start_time": "2024-01-23T12:10:55.428118",
     "status": "completed"
    },
    "tags": []
   },
   "outputs": [
    {
     "name": "stdout",
     "output_type": "stream",
     "text": [
      "The accuracy of the Random Forests model is :\t 0.9003285870755751\n"
     ]
    }
   ],
   "source": [
    "# Random Forest\n",
    "from sklearn.ensemble import RandomForestClassifier\n",
    "from sklearn import metrics\n",
    "\n",
    "random_forest = RandomForestClassifier(n_estimators=100, random_state=17)\n",
    "random_forest.fit(X_train_pesection, y_train_pesection)\n",
    "random_forest_preds = random_forest.predict(X_test_pesection)\n",
    "print('The accuracy of the Random Forests model is :\\t',metrics.accuracy_score(random_forest_preds,y_test_pesection))"
   ]
  },
  {
   "cell_type": "markdown",
   "id": "648d5bdb",
   "metadata": {
    "papermill": {
     "duration": 0.030356,
     "end_time": "2024-01-23T12:10:56.348372",
     "exception": false,
     "start_time": "2024-01-23T12:10:56.318016",
     "status": "completed"
    },
    "tags": []
   },
   "source": [
    "# **pe header features**"
   ]
  },
  {
   "cell_type": "code",
   "execution_count": 63,
   "id": "54697ece",
   "metadata": {
    "execution": {
     "iopub.execute_input": "2024-01-23T12:10:56.412189Z",
     "iopub.status.busy": "2024-01-23T12:10:56.411714Z",
     "iopub.status.idle": "2024-01-23T12:10:58.180063Z",
     "shell.execute_reply": "2024-01-23T12:10:58.178458Z"
    },
    "papermill": {
     "duration": 1.803993,
     "end_time": "2024-01-23T12:10:58.182985",
     "exception": false,
     "start_time": "2024-01-23T12:10:56.378992",
     "status": "completed"
    },
    "tags": []
   },
   "outputs": [],
   "source": [
    "kkrunchy = pd.read_pickle('/kaggle/input/packer-balance-pickle/kkrunchy_balance.pickle')\n",
    "kkrunchy = kkrunchy.drop(['sample_sha1','benign','unpacked_sample_sha1','unpacked_sample_id'], axis=1)\n",
    "kkrunchy = kkrunchy.drop(['benign_vt','malicious_vt'], axis=1)\n",
    "string_columns = kkrunchy.select_dtypes(include=['object']).columns\n",
    "kkrunchy = kkrunchy.drop(string_columns, axis=1)"
   ]
  },
  {
   "cell_type": "code",
   "execution_count": 64,
   "id": "3c2126a2",
   "metadata": {
    "execution": {
     "iopub.execute_input": "2024-01-23T12:10:58.246965Z",
     "iopub.status.busy": "2024-01-23T12:10:58.246565Z",
     "iopub.status.idle": "2024-01-23T12:10:59.761105Z",
     "shell.execute_reply": "2024-01-23T12:10:59.759674Z"
    },
    "papermill": {
     "duration": 1.549557,
     "end_time": "2024-01-23T12:10:59.763910",
     "exception": false,
     "start_time": "2024-01-23T12:10:58.214353",
     "status": "completed"
    },
    "tags": []
   },
   "outputs": [
    {
     "name": "stdout",
     "output_type": "stream",
     "text": [
      "removing 13000 features\n",
      "removing 2500 features\n",
      "removing 2 features\n",
      "removing 16900 features\n",
      "removing 66 features\n",
      "removing 19169 features\n",
      "removing 4306 features\n",
      "removing 550 features\n"
     ]
    }
   ],
   "source": [
    "header = remove_cols(kkrunchy, [c for c in cols if c.startswith('ngram_')])\n",
    "header = remove_cols(kkrunchy, [c for c in cols if c.startswith('opcode_')])\n",
    "header = remove_cols(kkrunchy, [c for c in cols if c.startswith('generic_')])\n",
    "header = remove_cols(kkrunchy, [c for c in cols if c.startswith('string_')])\n",
    "header = remove_cols(kkrunchy, [c for c in cols if c.startswith('rich_')])\n",
    "header = remove_cols(kkrunchy, [c for c in cols if c.startswith('imp_') or 'api_import_nb' == c])\n",
    "header = remove_cols(kkrunchy, [c for c in cols if c.endswith('.dll') or 'dll_import_nb' == c])\n",
    "header = remove_cols(kkrunchy, [c for c in cols if c.startswith('pesection')])\n",
    "# header = remove_cols(kkrunchy, [c for c in cols if c.startswith('header_')])"
   ]
  },
  {
   "cell_type": "code",
   "execution_count": 65,
   "id": "c2e3fa69",
   "metadata": {
    "execution": {
     "iopub.execute_input": "2024-01-23T12:10:59.829651Z",
     "iopub.status.busy": "2024-01-23T12:10:59.829192Z",
     "iopub.status.idle": "2024-01-23T12:10:59.844958Z",
     "shell.execute_reply": "2024-01-23T12:10:59.843792Z"
    },
    "papermill": {
     "duration": 0.052183,
     "end_time": "2024-01-23T12:10:59.847780",
     "exception": false,
     "start_time": "2024-01-23T12:10:59.795597",
     "status": "completed"
    },
    "tags": []
   },
   "outputs": [],
   "source": [
    "df_7000_header = header.sample(n=7000, random_state=102)\n",
    "df_3000_header = header.drop(df_7000.index)\n",
    "data_header = df_7000_header.sample(n=3500, random_state=102)"
   ]
  },
  {
   "cell_type": "code",
   "execution_count": 66,
   "id": "26016a84",
   "metadata": {
    "execution": {
     "iopub.execute_input": "2024-01-23T12:10:59.914116Z",
     "iopub.status.busy": "2024-01-23T12:10:59.913294Z",
     "iopub.status.idle": "2024-01-23T12:10:59.955205Z",
     "shell.execute_reply": "2024-01-23T12:10:59.953692Z"
    },
    "papermill": {
     "duration": 0.078339,
     "end_time": "2024-01-23T12:10:59.958164",
     "exception": false,
     "start_time": "2024-01-23T12:10:59.879825",
     "status": "completed"
    },
    "tags": []
   },
   "outputs": [
    {
     "name": "stdout",
     "output_type": "stream",
     "text": [
      "Packed Malware: 2411 samples\n",
      "Packed Benign: 1089 samples\n",
      "Total TRAIN set: 3500 samples\n",
      "Packed Malware: 1089 samples\n",
      "Packed Benign: 1089 samples\n",
      "Total TRAIN set: 2178 samples\n",
      "Packed Malware: 913 samples\n",
      "Packed Benign: 913 samples\n",
      "Total TEST set: 1826 samples\n"
     ]
    }
   ],
   "source": [
    "#Kiểm tra số lượng mẫu\n",
    "PM = data_header[(data_header['malicious'] == True) & (data_header['packed'] == True)].shape[0]\n",
    "PB = data_header[(data_header['malicious'] == False) & (data_header['packed'] == True)].shape[0]\n",
    "print('Packed Malware: %i samples' % PM)\n",
    "print('Packed Benign: %i samples' % PB)\n",
    "print('Total TRAIN set: %i samples'% (PM+PB))\n",
    "\n",
    "#Chia tỉ lệ 50 - 50\n",
    "data_PM_header = data_header[(data_header['malicious'] == True) & (data_header['packed'] == True)].sample(n=(PM-PB), random_state=102)\n",
    "data_header = data_header.drop(data_PM_header.index)\n",
    "      \n",
    "#Số lượng tập train\n",
    "PM = data_header[(data_header['malicious'] == True) & (data_header['packed'] == True)].shape[0]\n",
    "PB = data_header[(data_header['malicious'] == False) & (data_header['packed'] == True)].shape[0]\n",
    "print('Packed Malware: %i samples' % PM)\n",
    "print('Packed Benign: %i samples' % PB)\n",
    "print('Total TRAIN set: %i samples'% (PM+PB))\n",
    "\n",
    "#Xử lý tập train\n",
    "y = data_header['malicious'].values\n",
    "data_header= data_header.drop(['malicious','packed'], axis=1)\n",
    "\n",
    "PM = df_3000_header[(df_3000_header['malicious'] == True) & (df_3000_header['packed'] == True)].shape[0]\n",
    "PB = df_3000_header[(df_3000_header['malicious'] == False) & (df_3000_header['packed'] == True)].shape[0]\n",
    "\n",
    "df_3000_PM_header = df_3000_header[(df_3000_header['malicious'] == True) & (df_3000_header['packed'] == True)].sample(n=(PM-PB), random_state=102)\n",
    "df_3000_header= df_3000_header.drop(df_3000_PM_header.index)\n",
    "\n",
    "PM = df_3000_header[(df_3000_header['malicious'] == True) & (df_3000_header['packed'] == True)].shape[0]\n",
    "PB = df_3000_header[(df_3000_header['malicious'] == False) & (df_3000_header['packed'] == True)].shape[0]\n",
    "\n",
    "print('Packed Malware: %i samples' % PM)\n",
    "print('Packed Benign: %i samples' % PB)\n",
    "print('Total TEST set: %i samples'% (PM+PB))"
   ]
  },
  {
   "cell_type": "code",
   "execution_count": 67,
   "id": "fe13d088",
   "metadata": {
    "execution": {
     "iopub.execute_input": "2024-01-23T12:11:00.022530Z",
     "iopub.status.busy": "2024-01-23T12:11:00.022109Z",
     "iopub.status.idle": "2024-01-23T12:11:00.034709Z",
     "shell.execute_reply": "2024-01-23T12:11:00.033776Z"
    },
    "papermill": {
     "duration": 0.047858,
     "end_time": "2024-01-23T12:11:00.037290",
     "exception": false,
     "start_time": "2024-01-23T12:10:59.989432",
     "status": "completed"
    },
    "tags": []
   },
   "outputs": [],
   "source": [
    "# model = SelectFromModel(fsel, prefit=True)\n",
    "\n",
    "X_train_header = data_header\n",
    "X_test_header = df_3000_header.drop(['malicious','packed'], axis=1)\n",
    "\n",
    "data_header = data_header.loc[:, (data_header != 0).any(axis=0)]\n",
    "x_train_header = data_header\n",
    "X_test_header = df_3000_header.drop(['malicious','packed'], axis=1)\n",
    "y_train_header = y\n",
    "y_test_header = df_3000_header['malicious'].values"
   ]
  },
  {
   "cell_type": "code",
   "execution_count": 68,
   "id": "65c0c244",
   "metadata": {
    "execution": {
     "iopub.execute_input": "2024-01-23T12:11:00.101082Z",
     "iopub.status.busy": "2024-01-23T12:11:00.100355Z",
     "iopub.status.idle": "2024-01-23T12:11:00.584011Z",
     "shell.execute_reply": "2024-01-23T12:11:00.582077Z"
    },
    "papermill": {
     "duration": 0.51914,
     "end_time": "2024-01-23T12:11:00.586877",
     "exception": false,
     "start_time": "2024-01-23T12:11:00.067737",
     "status": "completed"
    },
    "tags": []
   },
   "outputs": [
    {
     "name": "stdout",
     "output_type": "stream",
     "text": [
      "The accuracy of the Random Forests model is :\t 0.8943044906900328\n"
     ]
    }
   ],
   "source": [
    "# Random Forest\n",
    "from sklearn.ensemble import RandomForestClassifier\n",
    "from sklearn import metrics\n",
    "\n",
    "random_forest = RandomForestClassifier(n_estimators=100, random_state=17)\n",
    "random_forest.fit(X_train_header, y_train_header)\n",
    "random_forest_preds = random_forest.predict(X_test_header)\n",
    "print('The accuracy of the Random Forests model is :\\t',metrics.accuracy_score(random_forest_preds,y_test_header))"
   ]
  }
 ],
 "metadata": {
  "kaggle": {
   "accelerator": "none",
   "dataSources": [
    {
     "datasetId": 4192384,
     "sourceId": 7262652,
     "sourceType": "datasetVersion"
    }
   ],
   "dockerImageVersionId": 30626,
   "isGpuEnabled": false,
   "isInternetEnabled": true,
   "language": "python",
   "sourceType": "notebook"
  },
  "kernelspec": {
   "display_name": "Python 3",
   "language": "python",
   "name": "python3"
  },
  "language_info": {
   "codemirror_mode": {
    "name": "ipython",
    "version": 3
   },
   "file_extension": ".py",
   "mimetype": "text/x-python",
   "name": "python",
   "nbconvert_exporter": "python",
   "pygments_lexer": "ipython3",
   "version": "3.10.12"
  },
  "papermill": {
   "default_parameters": {},
   "duration": 100.3059,
   "end_time": "2024-01-23T12:11:01.845196",
   "environment_variables": {},
   "exception": null,
   "input_path": "__notebook__.ipynb",
   "output_path": "__notebook__.ipynb",
   "parameters": {},
   "start_time": "2024-01-23T12:09:21.539296",
   "version": "2.4.0"
  }
 },
 "nbformat": 4,
 "nbformat_minor": 5
}
