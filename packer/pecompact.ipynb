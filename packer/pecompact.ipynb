{
 "cells": [
  {
   "cell_type": "code",
   "execution_count": 1,
   "id": "8c9e3a51",
   "metadata": {
    "execution": {
     "iopub.execute_input": "2024-01-23T12:10:15.677519Z",
     "iopub.status.busy": "2024-01-23T12:10:15.676721Z",
     "iopub.status.idle": "2024-01-23T12:10:18.706166Z",
     "shell.execute_reply": "2024-01-23T12:10:18.704977Z"
    },
    "papermill": {
     "duration": 3.050742,
     "end_time": "2024-01-23T12:10:18.708918",
     "exception": false,
     "start_time": "2024-01-23T12:10:15.658176",
     "status": "completed"
    },
    "tags": []
   },
   "outputs": [],
   "source": [
    "import pandas as pd\n",
    "import numpy as np\n",
    "import sklearn\n",
    "import sklearn.naive_bayes\n",
    "import sklearn.ensemble as ske\n",
    "import sklearn.neighbors\n",
    "import sklearn.pipeline\n",
    "import sklearn.linear_model\n",
    "import joblib\n",
    "from sklearn import preprocessing\n",
    "from sklearn import tree, linear_model\n",
    "from sklearn.metrics import confusion_matrix\n",
    "from sklearn.metrics import classification_report\n",
    "from sklearn.feature_selection import SelectFromModel\n",
    "import sys\n",
    "import sqlite3\n",
    "import importlib\n",
    "import matplotlib.pyplot as plt\n",
    "import seaborn as sn\n",
    "from sklearn import metrics"
   ]
  },
  {
   "cell_type": "code",
   "execution_count": 2,
   "id": "5457d055",
   "metadata": {
    "execution": {
     "iopub.execute_input": "2024-01-23T12:10:18.743524Z",
     "iopub.status.busy": "2024-01-23T12:10:18.742740Z",
     "iopub.status.idle": "2024-01-23T12:10:23.094179Z",
     "shell.execute_reply": "2024-01-23T12:10:23.093255Z"
    },
    "papermill": {
     "duration": 4.373236,
     "end_time": "2024-01-23T12:10:23.097903",
     "exception": false,
     "start_time": "2024-01-23T12:10:18.724667",
     "status": "completed"
    },
    "tags": []
   },
   "outputs": [],
   "source": [
    "pecompact = pd.read_pickle('/kaggle/input/packer-balance-pickle/pecompact_balance.pickle')"
   ]
  },
  {
   "cell_type": "code",
   "execution_count": 3,
   "id": "ddcb93b5",
   "metadata": {
    "execution": {
     "iopub.execute_input": "2024-01-23T12:10:23.135602Z",
     "iopub.status.busy": "2024-01-23T12:10:23.134892Z",
     "iopub.status.idle": "2024-01-23T12:10:24.172121Z",
     "shell.execute_reply": "2024-01-23T12:10:24.170987Z"
    },
    "papermill": {
     "duration": 1.059433,
     "end_time": "2024-01-23T12:10:24.175327",
     "exception": false,
     "start_time": "2024-01-23T12:10:23.115894",
     "status": "completed"
    },
    "tags": []
   },
   "outputs": [],
   "source": [
    "pecompact = pecompact.drop(['sample_sha1','benign','unpacked_sample_sha1','unpacked_sample_id'], axis=1)\n",
    "pecompact = pecompact.drop(['benign_vt','malicious_vt'], axis=1)"
   ]
  },
  {
   "cell_type": "code",
   "execution_count": 4,
   "id": "73ff9c6a",
   "metadata": {
    "execution": {
     "iopub.execute_input": "2024-01-23T12:10:24.211459Z",
     "iopub.status.busy": "2024-01-23T12:10:24.211055Z",
     "iopub.status.idle": "2024-01-23T12:10:24.541545Z",
     "shell.execute_reply": "2024-01-23T12:10:24.539891Z"
    },
    "papermill": {
     "duration": 0.351941,
     "end_time": "2024-01-23T12:10:24.544796",
     "exception": false,
     "start_time": "2024-01-23T12:10:24.192855",
     "status": "completed"
    },
    "tags": []
   },
   "outputs": [],
   "source": [
    "string_columns = pecompact.select_dtypes(include=['object']).columns\n",
    "pecompact = pecompact.drop(string_columns, axis=1)"
   ]
  },
  {
   "cell_type": "code",
   "execution_count": 5,
   "id": "939e3d69",
   "metadata": {
    "execution": {
     "iopub.execute_input": "2024-01-23T12:10:24.580765Z",
     "iopub.status.busy": "2024-01-23T12:10:24.580355Z",
     "iopub.status.idle": "2024-01-23T12:10:24.624854Z",
     "shell.execute_reply": "2024-01-23T12:10:24.623649Z"
    },
    "papermill": {
     "duration": 0.066109,
     "end_time": "2024-01-23T12:10:24.627864",
     "exception": false,
     "start_time": "2024-01-23T12:10:24.561755",
     "status": "completed"
    },
    "tags": []
   },
   "outputs": [
    {
     "data": {
      "text/html": [
       "<div>\n",
       "<style scoped>\n",
       "    .dataframe tbody tr th:only-of-type {\n",
       "        vertical-align: middle;\n",
       "    }\n",
       "\n",
       "    .dataframe tbody tr th {\n",
       "        vertical-align: top;\n",
       "    }\n",
       "\n",
       "    .dataframe thead th {\n",
       "        text-align: right;\n",
       "    }\n",
       "</style>\n",
       "<table border=\"1\" class=\"dataframe\">\n",
       "  <thead>\n",
       "    <tr style=\"text-align: right;\">\n",
       "      <th></th>\n",
       "      <th>malicious</th>\n",
       "      <th>packed</th>\n",
       "      <th>imp_setupremovefilelogentrya</th>\n",
       "      <th>imp_vardeccmp</th>\n",
       "      <th>imp_setdlgitemint</th>\n",
       "      <th>imp_?append@?$basic_string@du?$char_traits@d@std@@v?$allocator@d@2@@std@@qaeaav12@abv12@ii@z</th>\n",
       "      <th>imp_zwwritefile</th>\n",
       "      <th>imp_glstencilop</th>\n",
       "      <th>imp_comparelinkinforeferents</th>\n",
       "      <th>imp__setmbcp</th>\n",
       "      <th>...</th>\n",
       "      <th>opcode_xor sub mov</th>\n",
       "      <th>opcode_xor sub mov add</th>\n",
       "      <th>opcode_xor test</th>\n",
       "      <th>opcode_xor test je</th>\n",
       "      <th>opcode_xor xor</th>\n",
       "      <th>opcode_xor xor mov</th>\n",
       "      <th>opcode_xor xor pop</th>\n",
       "      <th>opcode_xor xor pop mov</th>\n",
       "      <th>opcode_xor xor xor</th>\n",
       "      <th>opcode_xor xor xor pop</th>\n",
       "    </tr>\n",
       "  </thead>\n",
       "  <tbody>\n",
       "    <tr>\n",
       "      <th>1</th>\n",
       "      <td>True</td>\n",
       "      <td>True</td>\n",
       "      <td>False</td>\n",
       "      <td>False</td>\n",
       "      <td>False</td>\n",
       "      <td>False</td>\n",
       "      <td>False</td>\n",
       "      <td>False</td>\n",
       "      <td>False</td>\n",
       "      <td>False</td>\n",
       "      <td>...</td>\n",
       "      <td>0.0</td>\n",
       "      <td>0.0</td>\n",
       "      <td>0.0</td>\n",
       "      <td>0.0</td>\n",
       "      <td>0.0</td>\n",
       "      <td>0.0</td>\n",
       "      <td>0.0</td>\n",
       "      <td>0.0</td>\n",
       "      <td>0.0</td>\n",
       "      <td>0.0</td>\n",
       "    </tr>\n",
       "    <tr>\n",
       "      <th>5</th>\n",
       "      <td>True</td>\n",
       "      <td>True</td>\n",
       "      <td>False</td>\n",
       "      <td>False</td>\n",
       "      <td>False</td>\n",
       "      <td>False</td>\n",
       "      <td>False</td>\n",
       "      <td>False</td>\n",
       "      <td>False</td>\n",
       "      <td>False</td>\n",
       "      <td>...</td>\n",
       "      <td>-1.0</td>\n",
       "      <td>-1.0</td>\n",
       "      <td>-1.0</td>\n",
       "      <td>-1.0</td>\n",
       "      <td>-1.0</td>\n",
       "      <td>-1.0</td>\n",
       "      <td>-1.0</td>\n",
       "      <td>-1.0</td>\n",
       "      <td>-1.0</td>\n",
       "      <td>-1.0</td>\n",
       "    </tr>\n",
       "    <tr>\n",
       "      <th>6</th>\n",
       "      <td>True</td>\n",
       "      <td>True</td>\n",
       "      <td>False</td>\n",
       "      <td>False</td>\n",
       "      <td>False</td>\n",
       "      <td>False</td>\n",
       "      <td>False</td>\n",
       "      <td>False</td>\n",
       "      <td>False</td>\n",
       "      <td>False</td>\n",
       "      <td>...</td>\n",
       "      <td>0.0</td>\n",
       "      <td>0.0</td>\n",
       "      <td>0.0</td>\n",
       "      <td>0.0</td>\n",
       "      <td>0.0</td>\n",
       "      <td>0.0</td>\n",
       "      <td>0.0</td>\n",
       "      <td>0.0</td>\n",
       "      <td>0.0</td>\n",
       "      <td>0.0</td>\n",
       "    </tr>\n",
       "    <tr>\n",
       "      <th>9</th>\n",
       "      <td>False</td>\n",
       "      <td>True</td>\n",
       "      <td>False</td>\n",
       "      <td>False</td>\n",
       "      <td>False</td>\n",
       "      <td>False</td>\n",
       "      <td>False</td>\n",
       "      <td>False</td>\n",
       "      <td>False</td>\n",
       "      <td>False</td>\n",
       "      <td>...</td>\n",
       "      <td>0.0</td>\n",
       "      <td>0.0</td>\n",
       "      <td>0.0</td>\n",
       "      <td>0.0</td>\n",
       "      <td>0.0</td>\n",
       "      <td>0.0</td>\n",
       "      <td>0.0</td>\n",
       "      <td>0.0</td>\n",
       "      <td>0.0</td>\n",
       "      <td>0.0</td>\n",
       "    </tr>\n",
       "    <tr>\n",
       "      <th>11</th>\n",
       "      <td>True</td>\n",
       "      <td>True</td>\n",
       "      <td>False</td>\n",
       "      <td>False</td>\n",
       "      <td>False</td>\n",
       "      <td>False</td>\n",
       "      <td>False</td>\n",
       "      <td>False</td>\n",
       "      <td>False</td>\n",
       "      <td>False</td>\n",
       "      <td>...</td>\n",
       "      <td>0.0</td>\n",
       "      <td>0.0</td>\n",
       "      <td>0.0</td>\n",
       "      <td>0.0</td>\n",
       "      <td>0.0</td>\n",
       "      <td>0.0</td>\n",
       "      <td>0.0</td>\n",
       "      <td>0.0</td>\n",
       "      <td>0.0</td>\n",
       "      <td>0.0</td>\n",
       "    </tr>\n",
       "  </tbody>\n",
       "</table>\n",
       "<p>5 rows × 56526 columns</p>\n",
       "</div>"
      ],
      "text/plain": [
       "    malicious  packed  imp_setupremovefilelogentrya  imp_vardeccmp  \\\n",
       "1        True    True                         False          False   \n",
       "5        True    True                         False          False   \n",
       "6        True    True                         False          False   \n",
       "9       False    True                         False          False   \n",
       "11       True    True                         False          False   \n",
       "\n",
       "    imp_setdlgitemint  \\\n",
       "1               False   \n",
       "5               False   \n",
       "6               False   \n",
       "9               False   \n",
       "11              False   \n",
       "\n",
       "    imp_?append@?$basic_string@du?$char_traits@d@std@@v?$allocator@d@2@@std@@qaeaav12@abv12@ii@z  \\\n",
       "1                                               False                                              \n",
       "5                                               False                                              \n",
       "6                                               False                                              \n",
       "9                                               False                                              \n",
       "11                                              False                                              \n",
       "\n",
       "    imp_zwwritefile  imp_glstencilop  imp_comparelinkinforeferents  \\\n",
       "1             False            False                         False   \n",
       "5             False            False                         False   \n",
       "6             False            False                         False   \n",
       "9             False            False                         False   \n",
       "11            False            False                         False   \n",
       "\n",
       "    imp__setmbcp  ...  opcode_xor sub mov  opcode_xor sub mov add  \\\n",
       "1          False  ...                 0.0                     0.0   \n",
       "5          False  ...                -1.0                    -1.0   \n",
       "6          False  ...                 0.0                     0.0   \n",
       "9          False  ...                 0.0                     0.0   \n",
       "11         False  ...                 0.0                     0.0   \n",
       "\n",
       "    opcode_xor test  opcode_xor test je  opcode_xor xor  opcode_xor xor mov  \\\n",
       "1               0.0                 0.0             0.0                 0.0   \n",
       "5              -1.0                -1.0            -1.0                -1.0   \n",
       "6               0.0                 0.0             0.0                 0.0   \n",
       "9               0.0                 0.0             0.0                 0.0   \n",
       "11              0.0                 0.0             0.0                 0.0   \n",
       "\n",
       "    opcode_xor xor pop  opcode_xor xor pop mov  opcode_xor xor xor  \\\n",
       "1                  0.0                     0.0                 0.0   \n",
       "5                 -1.0                    -1.0                -1.0   \n",
       "6                  0.0                     0.0                 0.0   \n",
       "9                  0.0                     0.0                 0.0   \n",
       "11                 0.0                     0.0                 0.0   \n",
       "\n",
       "    opcode_xor xor xor pop  \n",
       "1                      0.0  \n",
       "5                     -1.0  \n",
       "6                      0.0  \n",
       "9                      0.0  \n",
       "11                     0.0  \n",
       "\n",
       "[5 rows x 56526 columns]"
      ]
     },
     "execution_count": 5,
     "metadata": {},
     "output_type": "execute_result"
    }
   ],
   "source": [
    "pecompact.head()"
   ]
  },
  {
   "cell_type": "code",
   "execution_count": 6,
   "id": "d71ed4fc",
   "metadata": {
    "execution": {
     "iopub.execute_input": "2024-01-23T12:10:24.666573Z",
     "iopub.status.busy": "2024-01-23T12:10:24.666172Z",
     "iopub.status.idle": "2024-01-23T12:10:25.571960Z",
     "shell.execute_reply": "2024-01-23T12:10:25.570383Z"
    },
    "papermill": {
     "duration": 0.928671,
     "end_time": "2024-01-23T12:10:25.575277",
     "exception": false,
     "start_time": "2024-01-23T12:10:24.646606",
     "status": "completed"
    },
    "tags": []
   },
   "outputs": [],
   "source": [
    "df_7000 = pecompact.sample(n=7000, random_state=102)\n",
    "df_3000 = pecompact.drop(df_7000.index)"
   ]
  },
  {
   "cell_type": "code",
   "execution_count": 7,
   "id": "575ea711",
   "metadata": {
    "execution": {
     "iopub.execute_input": "2024-01-23T12:10:25.613106Z",
     "iopub.status.busy": "2024-01-23T12:10:25.612720Z",
     "iopub.status.idle": "2024-01-23T12:10:26.058997Z",
     "shell.execute_reply": "2024-01-23T12:10:26.057660Z"
    },
    "papermill": {
     "duration": 0.468849,
     "end_time": "2024-01-23T12:10:26.062329",
     "exception": false,
     "start_time": "2024-01-23T12:10:25.593480",
     "status": "completed"
    },
    "tags": []
   },
   "outputs": [],
   "source": [
    "data = df_7000.sample(n=3500, random_state=102)"
   ]
  },
  {
   "cell_type": "code",
   "execution_count": 8,
   "id": "ce3f82b9",
   "metadata": {
    "execution": {
     "iopub.execute_input": "2024-01-23T12:10:26.098528Z",
     "iopub.status.busy": "2024-01-23T12:10:26.098160Z",
     "iopub.status.idle": "2024-01-23T12:10:26.479346Z",
     "shell.execute_reply": "2024-01-23T12:10:26.477503Z"
    },
    "papermill": {
     "duration": 0.402716,
     "end_time": "2024-01-23T12:10:26.482250",
     "exception": false,
     "start_time": "2024-01-23T12:10:26.079534",
     "status": "completed"
    },
    "tags": []
   },
   "outputs": [
    {
     "name": "stdout",
     "output_type": "stream",
     "text": [
      "Packed Malware: 2951 samples\n",
      "Packed Benign: 549 samples\n",
      "Total TRAIN set: 3500 samples\n"
     ]
    }
   ],
   "source": [
    "#Kiểm tra số lượng mẫu\n",
    "PM = data[(data['malicious'] == True) & (data['packed'] == True)].shape[0]\n",
    "PB = data[(data['malicious'] == False) & (data['packed'] == True)].shape[0]\n",
    "print('Packed Malware: %i samples' % PM)\n",
    "print('Packed Benign: %i samples' % PB)\n",
    "print('Total TRAIN set: %i samples'% (PM+PB))"
   ]
  },
  {
   "cell_type": "code",
   "execution_count": 9,
   "id": "fb4f5828",
   "metadata": {
    "execution": {
     "iopub.execute_input": "2024-01-23T12:10:26.590796Z",
     "iopub.status.busy": "2024-01-23T12:10:26.590377Z",
     "iopub.status.idle": "2024-01-23T12:10:27.206377Z",
     "shell.execute_reply": "2024-01-23T12:10:27.205286Z"
    },
    "papermill": {
     "duration": 0.709844,
     "end_time": "2024-01-23T12:10:27.209102",
     "exception": false,
     "start_time": "2024-01-23T12:10:26.499258",
     "status": "completed"
    },
    "tags": []
   },
   "outputs": [],
   "source": [
    "#Chia tỉ lệ 50 - 50\n",
    "data_PM = data[(data['malicious'] == True) & (data['packed'] == True)].sample(n=(PM-PB), random_state=102)\n",
    "data = data.drop(data_PM.index)"
   ]
  },
  {
   "cell_type": "code",
   "execution_count": 10,
   "id": "0b9da3de",
   "metadata": {
    "execution": {
     "iopub.execute_input": "2024-01-23T12:10:27.243691Z",
     "iopub.status.busy": "2024-01-23T12:10:27.243293Z",
     "iopub.status.idle": "2024-01-23T12:10:27.349872Z",
     "shell.execute_reply": "2024-01-23T12:10:27.348242Z"
    },
    "papermill": {
     "duration": 0.126787,
     "end_time": "2024-01-23T12:10:27.352315",
     "exception": false,
     "start_time": "2024-01-23T12:10:27.225528",
     "status": "completed"
    },
    "tags": []
   },
   "outputs": [
    {
     "name": "stdout",
     "output_type": "stream",
     "text": [
      "Packed Malware: 549 samples\n",
      "Packed Benign: 549 samples\n",
      "Total TRAIN set: 1098 samples\n"
     ]
    }
   ],
   "source": [
    "#Số lượng tập train\n",
    "PM = data[(data['malicious'] == True) & (data['packed'] == True)].shape[0]\n",
    "PB = data[(data['malicious'] == False) & (data['packed'] == True)].shape[0]\n",
    "print('Packed Malware: %i samples' % PM)\n",
    "print('Packed Benign: %i samples' % PB)\n",
    "print('Total TRAIN set: %i samples'% (PM+PB))"
   ]
  },
  {
   "cell_type": "code",
   "execution_count": 11,
   "id": "d6aa618f",
   "metadata": {
    "execution": {
     "iopub.execute_input": "2024-01-23T12:10:27.388666Z",
     "iopub.status.busy": "2024-01-23T12:10:27.388239Z",
     "iopub.status.idle": "2024-01-23T12:10:27.440244Z",
     "shell.execute_reply": "2024-01-23T12:10:27.438664Z"
    },
    "papermill": {
     "duration": 0.074442,
     "end_time": "2024-01-23T12:10:27.443763",
     "exception": false,
     "start_time": "2024-01-23T12:10:27.369321",
     "status": "completed"
    },
    "tags": []
   },
   "outputs": [],
   "source": [
    "#Xử lý tập train\n",
    "y = data['malicious'].values\n",
    "data = data.drop(['malicious','packed'], axis=1)"
   ]
  },
  {
   "cell_type": "code",
   "execution_count": 12,
   "id": "02a4c58b",
   "metadata": {
    "execution": {
     "iopub.execute_input": "2024-01-23T12:10:27.485476Z",
     "iopub.status.busy": "2024-01-23T12:10:27.485064Z",
     "iopub.status.idle": "2024-01-23T12:10:28.291584Z",
     "shell.execute_reply": "2024-01-23T12:10:28.289982Z"
    },
    "papermill": {
     "duration": 0.832432,
     "end_time": "2024-01-23T12:10:28.295453",
     "exception": false,
     "start_time": "2024-01-23T12:10:27.463021",
     "status": "completed"
    },
    "tags": []
   },
   "outputs": [
    {
     "name": "stdout",
     "output_type": "stream",
     "text": [
      "Packed Malware: 499 samples\n",
      "Packed Benign: 499 samples\n",
      "Total TEST set: 998 samples\n"
     ]
    }
   ],
   "source": [
    "PM = df_3000[(df_3000['malicious'] == True) & (df_3000['packed'] == True)].shape[0]\n",
    "PB = df_3000[(df_3000['malicious'] == False) & (df_3000['packed'] == True)].shape[0]\n",
    "\n",
    "df_3000_PM = df_3000[(df_3000['malicious'] == True) & (df_3000['packed'] == True)].sample(n=(PM-PB), random_state=102)\n",
    "df_3000 = df_3000.drop(df_3000_PM.index)\n",
    "\n",
    "PM = df_3000[(df_3000['malicious'] == True) & (df_3000['packed'] == True)].shape[0]\n",
    "PB = df_3000[(df_3000['malicious'] == False) & (df_3000['packed'] == True)].shape[0]\n",
    "\n",
    "print('Packed Malware: %i samples' % PM)\n",
    "print('Packed Benign: %i samples' % PB)\n",
    "print('Total TEST set: %i samples'% (PM+PB))"
   ]
  },
  {
   "cell_type": "code",
   "execution_count": 13,
   "id": "ea96460d",
   "metadata": {
    "execution": {
     "iopub.execute_input": "2024-01-23T12:10:28.337609Z",
     "iopub.status.busy": "2024-01-23T12:10:28.337139Z",
     "iopub.status.idle": "2024-01-23T12:10:28.615247Z",
     "shell.execute_reply": "2024-01-23T12:10:28.614033Z"
    },
    "papermill": {
     "duration": 0.301757,
     "end_time": "2024-01-23T12:10:28.618317",
     "exception": false,
     "start_time": "2024-01-23T12:10:28.316560",
     "status": "completed"
    },
    "tags": []
   },
   "outputs": [],
   "source": [
    "# model = SelectFromModel(fsel, prefit=True)\n",
    "\n",
    "X_train = data\n",
    "X_test = df_3000.drop(['malicious','packed'], axis=1)\n",
    "\n",
    "data = data.loc[:, (data != 0).any(axis=0)]\n",
    "x_train = data\n",
    "X_test = df_3000.drop(['malicious','packed'], axis=1)\n",
    "y_train = y\n",
    "y_test = df_3000['malicious'].values"
   ]
  },
  {
   "cell_type": "code",
   "execution_count": 14,
   "id": "16883d70",
   "metadata": {
    "execution": {
     "iopub.execute_input": "2024-01-23T12:10:28.660114Z",
     "iopub.status.busy": "2024-01-23T12:10:28.659690Z",
     "iopub.status.idle": "2024-01-23T12:10:31.726431Z",
     "shell.execute_reply": "2024-01-23T12:10:31.725346Z"
    },
    "papermill": {
     "duration": 3.090648,
     "end_time": "2024-01-23T12:10:31.729264",
     "exception": false,
     "start_time": "2024-01-23T12:10:28.638616",
     "status": "completed"
    },
    "tags": []
   },
   "outputs": [
    {
     "name": "stdout",
     "output_type": "stream",
     "text": [
      "The accuracy of the Random Forests model is :\t 0.8897795591182365\n"
     ]
    }
   ],
   "source": [
    "# Random Forest\n",
    "from sklearn.ensemble import RandomForestClassifier\n",
    "from sklearn import metrics\n",
    "\n",
    "random_forest = RandomForestClassifier(n_estimators=100, random_state=17)\n",
    "random_forest.fit(X_train, y_train)\n",
    "random_forest_preds = random_forest.predict(X_test)\n",
    "print('The accuracy of the Random Forests model is :\\t',metrics.accuracy_score(random_forest_preds,y_test))"
   ]
  },
  {
   "cell_type": "code",
   "execution_count": 15,
   "id": "d96c0cd1",
   "metadata": {
    "execution": {
     "iopub.execute_input": "2024-01-23T12:10:31.768867Z",
     "iopub.status.busy": "2024-01-23T12:10:31.768191Z",
     "iopub.status.idle": "2024-01-23T12:10:31.784081Z",
     "shell.execute_reply": "2024-01-23T12:10:31.783296Z"
    },
    "papermill": {
     "duration": 0.039642,
     "end_time": "2024-01-23T12:10:31.787664",
     "exception": false,
     "start_time": "2024-01-23T12:10:31.748022",
     "status": "completed"
    },
    "tags": []
   },
   "outputs": [
    {
     "name": "stdout",
     "output_type": "stream",
     "text": [
      "True positive : 444 \n",
      "True negative : 444 \n",
      "False positive : 55 \n",
      "False negative : 55 \n",
      "Classification Report:\n",
      "               precision    recall  f1-score   support\n",
      "\n",
      "       False       0.89      0.89      0.89       499\n",
      "        True       0.89      0.89      0.89       499\n",
      "\n",
      "    accuracy                           0.89       998\n",
      "   macro avg       0.89      0.89      0.89       998\n",
      "weighted avg       0.89      0.89      0.89       998\n",
      "\n"
     ]
    }
   ],
   "source": [
    "mt = confusion_matrix(y_test, random_forest_preds)\n",
    "report = classification_report(y_test, random_forest_preds)\n",
    "print(\"True positive : %i \" % (mt[1][1]))\n",
    "print(\"True negative : %i \" % (mt[0][0]))\n",
    "print(\"False positive : %i \" % (mt[0][1]))\n",
    "print(\"False negative : %i \" % (mt[1][0]))\n",
    "print(\"Classification Report:\\n\", report)"
   ]
  },
  {
   "cell_type": "code",
   "execution_count": 16,
   "id": "f9b3cead",
   "metadata": {
    "execution": {
     "iopub.execute_input": "2024-01-23T12:10:31.828374Z",
     "iopub.status.busy": "2024-01-23T12:10:31.827796Z",
     "iopub.status.idle": "2024-01-23T12:10:31.889844Z",
     "shell.execute_reply": "2024-01-23T12:10:31.888973Z"
    },
    "papermill": {
     "duration": 0.085389,
     "end_time": "2024-01-23T12:10:31.892557",
     "exception": false,
     "start_time": "2024-01-23T12:10:31.807168",
     "status": "completed"
    },
    "tags": []
   },
   "outputs": [
    {
     "data": {
      "text/plain": [
       "ngram_b'\\t\\x06\\x03U\\x04\\x06'                       0.008017\n",
       "pesectionProcessed_resources_nb                    0.006055\n",
       "pesectionProcessed_resourcesMeanSize               0.005895\n",
       "ngram_b'de Sig'                                    0.005860\n",
       "ngram_b'\\x1d\\x13\\x01\\x01\\xff\\x04'                  0.005521\n",
       "                                                     ...   \n",
       "imp__zn7qwidget14setminimumsizeeii                 0.000000\n",
       "imp__zn7qwidget14setwindowtitleerk7qstring         0.000000\n",
       "imp__zn7qwidget15keyreleaseeventep9qkeyevent       0.000000\n",
       "imp__zn7qwidget15mousepresseventep11qmouseevent    0.000000\n",
       "opcode_xor xor xor pop                             0.000000\n",
       "Length: 56524, dtype: float64"
      ]
     },
     "execution_count": 16,
     "metadata": {},
     "output_type": "execute_result"
    }
   ],
   "source": [
    "feature_scores_rf = pd.Series(random_forest.feature_importances_, index=X_train.columns).sort_values(ascending=False)\n",
    "\n",
    "feature_scores_rf"
   ]
  },
  {
   "cell_type": "code",
   "execution_count": 17,
   "id": "2b8197a9",
   "metadata": {
    "execution": {
     "iopub.execute_input": "2024-01-23T12:10:31.931402Z",
     "iopub.status.busy": "2024-01-23T12:10:31.930797Z",
     "iopub.status.idle": "2024-01-23T12:10:31.983189Z",
     "shell.execute_reply": "2024-01-23T12:10:31.981819Z"
    },
    "papermill": {
     "duration": 0.076127,
     "end_time": "2024-01-23T12:10:31.987069",
     "exception": false,
     "start_time": "2024-01-23T12:10:31.910942",
     "status": "completed"
    },
    "tags": []
   },
   "outputs": [],
   "source": [
    "top50 = pd.Series(random_forest.feature_importances_, index=X_train.columns).sort_values(ascending=False).head(50)"
   ]
  },
  {
   "cell_type": "code",
   "execution_count": 18,
   "id": "d91ef74d",
   "metadata": {
    "execution": {
     "iopub.execute_input": "2024-01-23T12:10:32.030281Z",
     "iopub.status.busy": "2024-01-23T12:10:32.029648Z",
     "iopub.status.idle": "2024-01-23T12:10:32.043767Z",
     "shell.execute_reply": "2024-01-23T12:10:32.042603Z"
    },
    "papermill": {
     "duration": 0.039239,
     "end_time": "2024-01-23T12:10:32.046601",
     "exception": false,
     "start_time": "2024-01-23T12:10:32.007362",
     "status": "completed"
    },
    "tags": []
   },
   "outputs": [
    {
     "name": "stdout",
     "output_type": "stream",
     "text": [
      "'ngram': 17\n",
      "'opcode ngram': 0\n",
      "'generic': 2\n",
      "'strings': 0\n",
      "'rich header': 4\n",
      "'api import': 0\n",
      "'dll': 0\n",
      "'pe section': 22\n",
      "'pe header': 4\n"
     ]
    }
   ],
   "source": [
    "# Tạo DataFrame từ feature_scores_rf\n",
    "df_features = pd.DataFrame(top50, columns=['Score'])\n",
    "\n",
    "count_ngram = df_features[df_features.index.str.startswith('ngram_')].shape[0]\n",
    "count_opcode = df_features[df_features.index.str.startswith('opcode_')].shape[0]\n",
    "count_generic = df_features[df_features.index.str.startswith('generic_')].shape[0]\n",
    "count_string = df_features[df_features.index.str.startswith('string_')].shape[0]\n",
    "count_rich = df_features[df_features.index.str.startswith('rich_')].shape[0]\n",
    "# count_api = df_features[df_features.index.str.startswith('imp_') or 'api_import_nb' == c].shape[0]\n",
    "# count_dll = df_features[df_features.index.str.startswith('.dll') or 'dll_import_nb' == c].shape[0]\n",
    "count_api = df_features[df_features.index.str.startswith('imp_') | (df_features.index == 'api_import_nb')].shape[0]\n",
    "count_dll = df_features[df_features.index.str.endswith('.dll') | (df_features.index == 'dll_import_nb')].shape[0]\n",
    "count_section = df_features[df_features.index.str.startswith('pesection')].shape[0]\n",
    "count_header = df_features[df_features.index.str.startswith('header_')].shape[0]\n",
    "\n",
    "print(f\"'ngram': {count_ngram}\")\n",
    "print(f\"'opcode ngram': {count_opcode}\")\n",
    "print(f\"'generic': {count_generic}\")\n",
    "print(f\"'strings': {count_string}\")\n",
    "print(f\"'rich header': {count_rich}\")\n",
    "print(f\"'api import': {count_api}\")\n",
    "print(f\"'dll': {count_dll}\")\n",
    "print(f\"'pe section': {count_section}\")\n",
    "print(f\"'pe header': {count_header}\")"
   ]
  },
  {
   "cell_type": "code",
   "execution_count": 19,
   "id": "a40380da",
   "metadata": {
    "execution": {
     "iopub.execute_input": "2024-01-23T12:10:32.089562Z",
     "iopub.status.busy": "2024-01-23T12:10:32.089168Z",
     "iopub.status.idle": "2024-01-23T12:10:32.100906Z",
     "shell.execute_reply": "2024-01-23T12:10:32.099512Z"
    },
    "papermill": {
     "duration": 0.036459,
     "end_time": "2024-01-23T12:10:32.103523",
     "exception": false,
     "start_time": "2024-01-23T12:10:32.067064",
     "status": "completed"
    },
    "tags": []
   },
   "outputs": [],
   "source": [
    "cols = list(pecompact.columns)"
   ]
  },
  {
   "cell_type": "markdown",
   "id": "a6f37d72",
   "metadata": {
    "papermill": {
     "duration": 0.016721,
     "end_time": "2024-01-23T12:10:32.137752",
     "exception": false,
     "start_time": "2024-01-23T12:10:32.121031",
     "status": "completed"
    },
    "tags": []
   },
   "source": [
    "# **ngram features**"
   ]
  },
  {
   "cell_type": "code",
   "execution_count": 20,
   "id": "61bd37a6",
   "metadata": {
    "execution": {
     "iopub.execute_input": "2024-01-23T12:10:32.173908Z",
     "iopub.status.busy": "2024-01-23T12:10:32.173335Z",
     "iopub.status.idle": "2024-01-23T12:10:34.241395Z",
     "shell.execute_reply": "2024-01-23T12:10:34.239966Z"
    },
    "papermill": {
     "duration": 2.089737,
     "end_time": "2024-01-23T12:10:34.244447",
     "exception": false,
     "start_time": "2024-01-23T12:10:32.154710",
     "status": "completed"
    },
    "tags": []
   },
   "outputs": [],
   "source": [
    "pecompact = pd.read_pickle('/kaggle/input/packer-balance-pickle/pecompact_balance.pickle')\n",
    "pecompact = pecompact.drop(['sample_sha1','benign','unpacked_sample_sha1','unpacked_sample_id'], axis=1)\n",
    "pecompact = pecompact.drop(['benign_vt','malicious_vt'], axis=1)\n",
    "string_columns = pecompact.select_dtypes(include=['object']).columns\n",
    "pecompact = pecompact.drop(string_columns, axis=1)"
   ]
  },
  {
   "cell_type": "code",
   "execution_count": 21,
   "id": "95c2d9a5",
   "metadata": {
    "execution": {
     "iopub.execute_input": "2024-01-23T12:10:34.282489Z",
     "iopub.status.busy": "2024-01-23T12:10:34.282053Z",
     "iopub.status.idle": "2024-01-23T12:10:34.287520Z",
     "shell.execute_reply": "2024-01-23T12:10:34.286511Z"
    },
    "papermill": {
     "duration": 0.027263,
     "end_time": "2024-01-23T12:10:34.289846",
     "exception": false,
     "start_time": "2024-01-23T12:10:34.262583",
     "status": "completed"
    },
    "tags": []
   },
   "outputs": [],
   "source": [
    "def remove_cols(df, ll):\n",
    "    print(\"removing {} features\".format(len(ll)))\n",
    "    df.drop(columns=ll, axis=1, inplace=True)\n",
    "    return df"
   ]
  },
  {
   "cell_type": "code",
   "execution_count": 22,
   "id": "522fd0d2",
   "metadata": {
    "execution": {
     "iopub.execute_input": "2024-01-23T12:10:34.330293Z",
     "iopub.status.busy": "2024-01-23T12:10:34.329905Z",
     "iopub.status.idle": "2024-01-23T12:10:35.583583Z",
     "shell.execute_reply": "2024-01-23T12:10:35.582667Z"
    },
    "papermill": {
     "duration": 1.277124,
     "end_time": "2024-01-23T12:10:35.586707",
     "exception": false,
     "start_time": "2024-01-23T12:10:34.309583",
     "status": "completed"
    },
    "tags": []
   },
   "outputs": [
    {
     "name": "stdout",
     "output_type": "stream",
     "text": [
      "removing 2500 features\n",
      "removing 2 features\n",
      "removing 16900 features\n",
      "removing 66 features\n",
      "removing 19169 features\n",
      "removing 4306 features\n",
      "removing 550 features\n",
      "removing 29 features\n"
     ]
    }
   ],
   "source": [
    "# ngram = remove_cols(df, [c for c in cols if c.startswith('ngram_')])\n",
    "ngram = remove_cols(pecompact, [c for c in cols if c.startswith('opcode_')])\n",
    "ngram = remove_cols(pecompact, [c for c in cols if c.startswith('generic_')])\n",
    "ngram = remove_cols(pecompact, [c for c in cols if c.startswith('string_')])\n",
    "ngram = remove_cols(pecompact, [c for c in cols if c.startswith('rich_')])\n",
    "ngram = remove_cols(pecompact, [c for c in cols if c.startswith('imp_') or 'api_import_nb' == c])\n",
    "ngram = remove_cols(pecompact, [c for c in cols if c.endswith('.dll') or 'dll_import_nb' == c])\n",
    "ngram = remove_cols(pecompact, [c for c in cols if c.startswith('pesection')])\n",
    "ngram = remove_cols(pecompact, [c for c in cols if c.startswith('header_')])"
   ]
  },
  {
   "cell_type": "code",
   "execution_count": 23,
   "id": "ab33400a",
   "metadata": {
    "execution": {
     "iopub.execute_input": "2024-01-23T12:10:35.630545Z",
     "iopub.status.busy": "2024-01-23T12:10:35.629758Z",
     "iopub.status.idle": "2024-01-23T12:10:35.884923Z",
     "shell.execute_reply": "2024-01-23T12:10:35.883730Z"
    },
    "papermill": {
     "duration": 0.28044,
     "end_time": "2024-01-23T12:10:35.888176",
     "exception": false,
     "start_time": "2024-01-23T12:10:35.607736",
     "status": "completed"
    },
    "tags": []
   },
   "outputs": [],
   "source": [
    "df_7000_ngram = ngram.sample(n=7000, random_state=102)\n",
    "df_3000_ngram = ngram.drop(df_7000.index)\n",
    "data_ngram = df_7000_ngram.sample(n=3500, random_state=102)"
   ]
  },
  {
   "cell_type": "code",
   "execution_count": 24,
   "id": "e66af34a",
   "metadata": {
    "execution": {
     "iopub.execute_input": "2024-01-23T12:10:35.930273Z",
     "iopub.status.busy": "2024-01-23T12:10:35.929873Z",
     "iopub.status.idle": "2024-01-23T12:10:36.263069Z",
     "shell.execute_reply": "2024-01-23T12:10:36.261348Z"
    },
    "papermill": {
     "duration": 0.357107,
     "end_time": "2024-01-23T12:10:36.265875",
     "exception": false,
     "start_time": "2024-01-23T12:10:35.908768",
     "status": "completed"
    },
    "tags": []
   },
   "outputs": [
    {
     "name": "stdout",
     "output_type": "stream",
     "text": [
      "Packed Malware: 2951 samples\n",
      "Packed Benign: 549 samples\n",
      "Total TRAIN set: 3500 samples\n",
      "Packed Malware: 549 samples\n",
      "Packed Benign: 549 samples\n",
      "Total TRAIN set: 1098 samples\n",
      "Packed Malware: 499 samples\n",
      "Packed Benign: 499 samples\n",
      "Total TEST set: 998 samples\n"
     ]
    }
   ],
   "source": [
    "#Kiểm tra số lượng mẫu\n",
    "PM = data_ngram[(data_ngram['malicious'] == True) & (data_ngram['packed'] == True)].shape[0]\n",
    "PB = data_ngram[(data_ngram['malicious'] == False) & (data_ngram['packed'] == True)].shape[0]\n",
    "print('Packed Malware: %i samples' % PM)\n",
    "print('Packed Benign: %i samples' % PB)\n",
    "print('Total TRAIN set: %i samples'% (PM+PB))\n",
    "\n",
    "#Chia tỉ lệ 50 - 50\n",
    "data_PM_ngram = data_ngram[(data_ngram['malicious'] == True) & (data_ngram['packed'] == True)].sample(n=(PM-PB), random_state=102)\n",
    "data_ngram = data_ngram.drop(data_PM_ngram.index)\n",
    "\n",
    "#Số lượng tập train\n",
    "PM = data_ngram[(data_ngram['malicious'] == True) & (data_ngram['packed'] == True)].shape[0]\n",
    "PB = data_ngram[(data_ngram['malicious'] == False) & (data_ngram['packed'] == True)].shape[0]\n",
    "print('Packed Malware: %i samples' % PM)\n",
    "print('Packed Benign: %i samples' % PB)\n",
    "print('Total TRAIN set: %i samples'% (PM+PB))\n",
    "\n",
    "#Xử lý tập train\n",
    "y = data_ngram['malicious'].values\n",
    "data_ngram = data_ngram.drop(['malicious','packed'], axis=1)\n",
    "\n",
    "PM = df_3000_ngram[(df_3000_ngram['malicious'] == True) & (df_3000_ngram['packed'] == True)].shape[0]\n",
    "PB = df_3000_ngram[(df_3000_ngram['malicious'] == False) & (df_3000_ngram['packed'] == True)].shape[0]\n",
    "\n",
    "df_3000_PM_ngram = df_3000_ngram[(df_3000_ngram['malicious'] == True) & (df_3000_ngram['packed'] == True)].sample(n=(PM-PB), random_state=102)\n",
    "df_3000_ngram = df_3000_ngram.drop(df_3000_PM.index)\n",
    "\n",
    "PM = df_3000_ngram[(df_3000_ngram['malicious'] == True) & (df_3000_ngram['packed'] == True)].shape[0]\n",
    "PB = df_3000_ngram[(df_3000_ngram['malicious'] == False) & (df_3000_ngram['packed'] == True)].shape[0]\n",
    "\n",
    "print('Packed Malware: %i samples' % PM)\n",
    "print('Packed Benign: %i samples' % PB)\n",
    "print('Total TEST set: %i samples'% (PM+PB))"
   ]
  },
  {
   "cell_type": "code",
   "execution_count": 25,
   "id": "9d688952",
   "metadata": {
    "execution": {
     "iopub.execute_input": "2024-01-23T12:10:36.303985Z",
     "iopub.status.busy": "2024-01-23T12:10:36.303497Z",
     "iopub.status.idle": "2024-01-23T12:10:36.354492Z",
     "shell.execute_reply": "2024-01-23T12:10:36.352761Z"
    },
    "papermill": {
     "duration": 0.075582,
     "end_time": "2024-01-23T12:10:36.359316",
     "exception": false,
     "start_time": "2024-01-23T12:10:36.283734",
     "status": "completed"
    },
    "tags": []
   },
   "outputs": [],
   "source": [
    "# model = SelectFromModel(fsel, prefit=True)\n",
    "\n",
    "X_train_ngram = data_ngram\n",
    "X_test_ngram = df_3000_ngram.drop(['malicious','packed'], axis=1)\n",
    "\n",
    "data_ngram = data_ngram.loc[:, (data_ngram != 0).any(axis=0)]\n",
    "x_train_ngram = data_ngram\n",
    "X_test_ngram = df_3000_ngram.drop(['malicious','packed'], axis=1)\n",
    "y_train_ngram = y\n",
    "y_test_ngram = df_3000_ngram['malicious'].values"
   ]
  },
  {
   "cell_type": "code",
   "execution_count": 26,
   "id": "2fccf310",
   "metadata": {
    "execution": {
     "iopub.execute_input": "2024-01-23T12:10:36.412497Z",
     "iopub.status.busy": "2024-01-23T12:10:36.411983Z",
     "iopub.status.idle": "2024-01-23T12:10:38.927586Z",
     "shell.execute_reply": "2024-01-23T12:10:38.926227Z"
    },
    "papermill": {
     "duration": 2.548356,
     "end_time": "2024-01-23T12:10:38.930454",
     "exception": false,
     "start_time": "2024-01-23T12:10:36.382098",
     "status": "completed"
    },
    "tags": []
   },
   "outputs": [
    {
     "name": "stdout",
     "output_type": "stream",
     "text": [
      "The accuracy of the Random Forests model is :\t 0.9048096192384769\n"
     ]
    }
   ],
   "source": [
    "# Random Forest\n",
    "from sklearn.ensemble import RandomForestClassifier\n",
    "from sklearn import metrics\n",
    "\n",
    "random_forest = RandomForestClassifier(n_estimators=100, random_state=17)\n",
    "random_forest.fit(X_train_ngram, y_train_ngram)\n",
    "random_forest_preds = random_forest.predict(X_test_ngram)\n",
    "print('The accuracy of the Random Forests model is :\\t',metrics.accuracy_score(random_forest_preds,y_test_ngram))"
   ]
  },
  {
   "cell_type": "markdown",
   "id": "6557832a",
   "metadata": {
    "papermill": {
     "duration": 0.017114,
     "end_time": "2024-01-23T12:10:38.965174",
     "exception": false,
     "start_time": "2024-01-23T12:10:38.948060",
     "status": "completed"
    },
    "tags": []
   },
   "source": [
    "# **opcode features**"
   ]
  },
  {
   "cell_type": "code",
   "execution_count": 27,
   "id": "f6864889",
   "metadata": {
    "execution": {
     "iopub.execute_input": "2024-01-23T12:10:39.001872Z",
     "iopub.status.busy": "2024-01-23T12:10:39.001470Z",
     "iopub.status.idle": "2024-01-23T12:10:40.741853Z",
     "shell.execute_reply": "2024-01-23T12:10:40.740375Z"
    },
    "papermill": {
     "duration": 1.761872,
     "end_time": "2024-01-23T12:10:40.744465",
     "exception": false,
     "start_time": "2024-01-23T12:10:38.982593",
     "status": "completed"
    },
    "tags": []
   },
   "outputs": [],
   "source": [
    "pecompact = pd.read_pickle('/kaggle/input/packer-balance-pickle/pecompact_balance.pickle')\n",
    "pecompact = pecompact.drop(['sample_sha1','benign','unpacked_sample_sha1','unpacked_sample_id'], axis=1)\n",
    "pecompact = pecompact.drop(['benign_vt','malicious_vt'], axis=1)\n",
    "string_columns = pecompact.select_dtypes(include=['object']).columns\n",
    "pecompact = pecompact.drop(string_columns, axis=1)"
   ]
  },
  {
   "cell_type": "code",
   "execution_count": 28,
   "id": "b0e23905",
   "metadata": {
    "execution": {
     "iopub.execute_input": "2024-01-23T12:10:40.782187Z",
     "iopub.status.busy": "2024-01-23T12:10:40.781708Z",
     "iopub.status.idle": "2024-01-23T12:10:42.304347Z",
     "shell.execute_reply": "2024-01-23T12:10:42.302804Z"
    },
    "papermill": {
     "duration": 1.543965,
     "end_time": "2024-01-23T12:10:42.306716",
     "exception": false,
     "start_time": "2024-01-23T12:10:40.762751",
     "status": "completed"
    },
    "tags": []
   },
   "outputs": [
    {
     "name": "stdout",
     "output_type": "stream",
     "text": [
      "removing 13000 features\n",
      "removing 2 features\n",
      "removing 16900 features\n",
      "removing 66 features\n",
      "removing 19169 features\n",
      "removing 4306 features\n",
      "removing 550 features\n",
      "removing 29 features\n"
     ]
    }
   ],
   "source": [
    "opcode = remove_cols(pecompact, [c for c in cols if c.startswith('ngram_')])\n",
    "# opcode = remove_cols(pecompact, [c for c in cols if c.startswith('opcode_')])\n",
    "opcode = remove_cols(pecompact, [c for c in cols if c.startswith('generic_')])\n",
    "opcode = remove_cols(pecompact, [c for c in cols if c.startswith('string_')])\n",
    "opcode = remove_cols(pecompact, [c for c in cols if c.startswith('rich_')])\n",
    "opcode = remove_cols(pecompact, [c for c in cols if c.startswith('imp_') or 'api_import_nb' == c])\n",
    "opcode = remove_cols(pecompact, [c for c in cols if c.endswith('.dll') or 'dll_import_nb' == c])\n",
    "opcode = remove_cols(pecompact, [c for c in cols if c.startswith('pesection')])\n",
    "opcode = remove_cols(pecompact, [c for c in cols if c.startswith('header_')])"
   ]
  },
  {
   "cell_type": "code",
   "execution_count": 29,
   "id": "2b57a899",
   "metadata": {
    "execution": {
     "iopub.execute_input": "2024-01-23T12:10:42.344595Z",
     "iopub.status.busy": "2024-01-23T12:10:42.344212Z",
     "iopub.status.idle": "2024-01-23T12:10:42.509483Z",
     "shell.execute_reply": "2024-01-23T12:10:42.508114Z"
    },
    "papermill": {
     "duration": 0.188206,
     "end_time": "2024-01-23T12:10:42.512959",
     "exception": false,
     "start_time": "2024-01-23T12:10:42.324753",
     "status": "completed"
    },
    "tags": []
   },
   "outputs": [],
   "source": [
    "df_7000_opcode = opcode.sample(n=7000, random_state=102)\n",
    "df_3000_opcode = opcode.drop(df_7000.index)\n",
    "data_opcode = df_7000_opcode.sample(n=3500, random_state=102)"
   ]
  },
  {
   "cell_type": "code",
   "execution_count": 30,
   "id": "98e9675f",
   "metadata": {
    "execution": {
     "iopub.execute_input": "2024-01-23T12:10:42.559097Z",
     "iopub.status.busy": "2024-01-23T12:10:42.557933Z",
     "iopub.status.idle": "2024-01-23T12:10:42.868957Z",
     "shell.execute_reply": "2024-01-23T12:10:42.866993Z"
    },
    "papermill": {
     "duration": 0.33779,
     "end_time": "2024-01-23T12:10:42.871924",
     "exception": false,
     "start_time": "2024-01-23T12:10:42.534134",
     "status": "completed"
    },
    "tags": []
   },
   "outputs": [
    {
     "name": "stdout",
     "output_type": "stream",
     "text": [
      "Packed Malware: 2951 samples\n",
      "Packed Benign: 549 samples\n",
      "Total TRAIN set: 3500 samples\n",
      "Packed Malware: 549 samples\n",
      "Packed Benign: 549 samples\n",
      "Total TRAIN set: 1098 samples\n",
      "Packed Malware: 499 samples\n",
      "Packed Benign: 499 samples\n",
      "Total TEST set: 998 samples\n"
     ]
    }
   ],
   "source": [
    "#Kiểm tra số lượng mẫu\n",
    "PM = data_opcode[(data_opcode['malicious'] == True) & (data_opcode['packed'] == True)].shape[0]\n",
    "PB = data_opcode[(data_opcode['malicious'] == False) & (data_opcode['packed'] == True)].shape[0]\n",
    "print('Packed Malware: %i samples' % PM)\n",
    "print('Packed Benign: %i samples' % PB)\n",
    "print('Total TRAIN set: %i samples'% (PM+PB))\n",
    "\n",
    "#Chia tỉ lệ 50 - 50\n",
    "data_PM_opcode = data_opcode[(data_opcode['malicious'] == True) & (data_opcode['packed'] == True)].sample(n=(PM-PB), random_state=102)\n",
    "data_opcode = data_opcode.drop(data_PM_opcode.index)\n",
    "      \n",
    "#Số lượng tập train\n",
    "PM = data_opcode[(data_opcode['malicious'] == True) & (data_opcode['packed'] == True)].shape[0]\n",
    "PB = data_opcode[(data_opcode['malicious'] == False) & (data_opcode['packed'] == True)].shape[0]\n",
    "print('Packed Malware: %i samples' % PM)\n",
    "print('Packed Benign: %i samples' % PB)\n",
    "print('Total TRAIN set: %i samples'% (PM+PB))\n",
    "\n",
    "#Xử lý tập train\n",
    "y = data_opcode['malicious'].values\n",
    "data_opcode = data_opcode.drop(['malicious','packed'], axis=1)\n",
    "\n",
    "PM = df_3000_opcode[(df_3000_opcode['malicious'] == True) & (df_3000_opcode['packed'] == True)].shape[0]\n",
    "PB = df_3000_opcode[(df_3000_opcode['malicious'] == False) & (df_3000_opcode['packed'] == True)].shape[0]\n",
    "\n",
    "df_3000_PM_opcode = df_3000_opcode[(df_3000_opcode['malicious'] == True) & (df_3000_opcode['packed'] == True)].sample(n=(PM-PB), random_state=102)\n",
    "df_3000_opcode = df_3000_opcode.drop(df_3000_PM_opcode.index)\n",
    "\n",
    "PM = df_3000_opcode[(df_3000_opcode['malicious'] == True) & (df_3000_opcode['packed'] == True)].shape[0]\n",
    "PB = df_3000_opcode[(df_3000_opcode['malicious'] == False) & (df_3000_opcode['packed'] == True)].shape[0]\n",
    "\n",
    "print('Packed Malware: %i samples' % PM)\n",
    "print('Packed Benign: %i samples' % PB)\n",
    "print('Total TEST set: %i samples'% (PM+PB))"
   ]
  },
  {
   "cell_type": "code",
   "execution_count": 31,
   "id": "515bd068",
   "metadata": {
    "execution": {
     "iopub.execute_input": "2024-01-23T12:10:42.912423Z",
     "iopub.status.busy": "2024-01-23T12:10:42.910398Z",
     "iopub.status.idle": "2024-01-23T12:10:42.933796Z",
     "shell.execute_reply": "2024-01-23T12:10:42.932618Z"
    },
    "papermill": {
     "duration": 0.046418,
     "end_time": "2024-01-23T12:10:42.936778",
     "exception": false,
     "start_time": "2024-01-23T12:10:42.890360",
     "status": "completed"
    },
    "tags": []
   },
   "outputs": [],
   "source": [
    "# model = SelectFromModel(fsel, prefit=True)\n",
    "\n",
    "X_train_opcode = data_opcode\n",
    "X_test_opcode = df_3000_opcode.drop(['malicious','packed'], axis=1)\n",
    "\n",
    "# data_opcode = data_opcode.loc[:, (data_opcode != 0).any(axis=0)]\n",
    "x_train_opcode = data_opcode\n",
    "X_test_opcode = df_3000_opcode.drop(['malicious','packed'], axis=1)\n",
    "y_train_opcode = y\n",
    "y_test_opcode = df_3000_opcode['malicious'].values"
   ]
  },
  {
   "cell_type": "code",
   "execution_count": 32,
   "id": "4c52fc78",
   "metadata": {
    "execution": {
     "iopub.execute_input": "2024-01-23T12:10:42.977016Z",
     "iopub.status.busy": "2024-01-23T12:10:42.976305Z",
     "iopub.status.idle": "2024-01-23T12:10:44.239480Z",
     "shell.execute_reply": "2024-01-23T12:10:44.238320Z"
    },
    "papermill": {
     "duration": 1.286573,
     "end_time": "2024-01-23T12:10:44.242104",
     "exception": false,
     "start_time": "2024-01-23T12:10:42.955531",
     "status": "completed"
    },
    "tags": []
   },
   "outputs": [
    {
     "name": "stdout",
     "output_type": "stream",
     "text": [
      "The accuracy of the Random Forests model is :\t 0.6703406813627254\n"
     ]
    }
   ],
   "source": [
    "# Random Forest\n",
    "from sklearn.ensemble import RandomForestClassifier\n",
    "from sklearn import metrics\n",
    "\n",
    "random_forest = RandomForestClassifier(n_estimators=100, random_state=17)\n",
    "random_forest.fit(x_train_opcode, y_train_opcode)\n",
    "random_forest_preds = random_forest.predict(X_test_opcode)\n",
    "print('The accuracy of the Random Forests model is :\\t',metrics.accuracy_score(random_forest_preds,y_test_opcode))"
   ]
  },
  {
   "cell_type": "markdown",
   "id": "a3b973f6",
   "metadata": {
    "papermill": {
     "duration": 0.018933,
     "end_time": "2024-01-23T12:10:44.281448",
     "exception": false,
     "start_time": "2024-01-23T12:10:44.262515",
     "status": "completed"
    },
    "tags": []
   },
   "source": [
    "# **rich header features**"
   ]
  },
  {
   "cell_type": "code",
   "execution_count": 33,
   "id": "7b9dcb83",
   "metadata": {
    "execution": {
     "iopub.execute_input": "2024-01-23T12:10:44.322242Z",
     "iopub.status.busy": "2024-01-23T12:10:44.321746Z",
     "iopub.status.idle": "2024-01-23T12:10:46.272128Z",
     "shell.execute_reply": "2024-01-23T12:10:46.270892Z"
    },
    "papermill": {
     "duration": 1.974723,
     "end_time": "2024-01-23T12:10:46.275312",
     "exception": false,
     "start_time": "2024-01-23T12:10:44.300589",
     "status": "completed"
    },
    "tags": []
   },
   "outputs": [],
   "source": [
    "pecompact = pd.read_pickle('/kaggle/input/packer-balance-pickle/pecompact_balance.pickle')\n",
    "pecompact = pecompact.drop(['sample_sha1','benign','unpacked_sample_sha1','unpacked_sample_id'], axis=1)\n",
    "pecompact = pecompact.drop(['benign_vt','malicious_vt'], axis=1)\n",
    "string_columns = pecompact.select_dtypes(include=['object']).columns\n",
    "pecompact = pecompact.drop(string_columns, axis=1)"
   ]
  },
  {
   "cell_type": "code",
   "execution_count": 34,
   "id": "c6cc4d5d",
   "metadata": {
    "execution": {
     "iopub.execute_input": "2024-01-23T12:10:46.320275Z",
     "iopub.status.busy": "2024-01-23T12:10:46.319826Z",
     "iopub.status.idle": "2024-01-23T12:10:47.475085Z",
     "shell.execute_reply": "2024-01-23T12:10:47.473456Z"
    },
    "papermill": {
     "duration": 1.181231,
     "end_time": "2024-01-23T12:10:47.477425",
     "exception": false,
     "start_time": "2024-01-23T12:10:46.296194",
     "status": "completed"
    },
    "tags": []
   },
   "outputs": [
    {
     "name": "stdout",
     "output_type": "stream",
     "text": [
      "removing 13000 features\n",
      "removing 2500 features\n",
      "removing 2 features\n",
      "removing 16900 features\n",
      "removing 19169 features\n",
      "removing 4306 features\n",
      "removing 550 features\n",
      "removing 29 features\n"
     ]
    }
   ],
   "source": [
    "rich = remove_cols(pecompact, [c for c in cols if c.startswith('ngram_')])\n",
    "rich = remove_cols(pecompact, [c for c in cols if c.startswith('opcode_')])\n",
    "rich = remove_cols(pecompact, [c for c in cols if c.startswith('generic_')])\n",
    "rich = remove_cols(pecompact, [c for c in cols if c.startswith('string_')])\n",
    "# rich = remove_cols(pecompact, [c for c in cols if c.startswith('rich_')])\n",
    "rich = remove_cols(pecompact, [c for c in cols if c.startswith('imp_') or 'api_import_nb' == c])\n",
    "rich = remove_cols(pecompact, [c for c in cols if c.endswith('.dll') or 'dll_import_nb' == c])\n",
    "rich = remove_cols(pecompact, [c for c in cols if c.startswith('pesection')])\n",
    "rich = remove_cols(pecompact, [c for c in cols if c.startswith('header_')])"
   ]
  },
  {
   "cell_type": "code",
   "execution_count": 35,
   "id": "a93e82c0",
   "metadata": {
    "execution": {
     "iopub.execute_input": "2024-01-23T12:10:47.516340Z",
     "iopub.status.busy": "2024-01-23T12:10:47.515901Z",
     "iopub.status.idle": "2024-01-23T12:10:47.532955Z",
     "shell.execute_reply": "2024-01-23T12:10:47.531606Z"
    },
    "papermill": {
     "duration": 0.040095,
     "end_time": "2024-01-23T12:10:47.536192",
     "exception": false,
     "start_time": "2024-01-23T12:10:47.496097",
     "status": "completed"
    },
    "tags": []
   },
   "outputs": [],
   "source": [
    "df_7000_rich = rich.sample(n=7000, random_state=102)\n",
    "df_3000_rich = rich.drop(df_7000.index)\n",
    "data_rich = df_7000_rich.sample(n=3500, random_state=102)"
   ]
  },
  {
   "cell_type": "code",
   "execution_count": 36,
   "id": "518088de",
   "metadata": {
    "execution": {
     "iopub.execute_input": "2024-01-23T12:10:47.580722Z",
     "iopub.status.busy": "2024-01-23T12:10:47.580274Z",
     "iopub.status.idle": "2024-01-23T12:10:47.610384Z",
     "shell.execute_reply": "2024-01-23T12:10:47.609300Z"
    },
    "papermill": {
     "duration": 0.057223,
     "end_time": "2024-01-23T12:10:47.613156",
     "exception": false,
     "start_time": "2024-01-23T12:10:47.555933",
     "status": "completed"
    },
    "tags": []
   },
   "outputs": [
    {
     "name": "stdout",
     "output_type": "stream",
     "text": [
      "Packed Malware: 2951 samples\n",
      "Packed Benign: 549 samples\n",
      "Total TRAIN set: 3500 samples\n",
      "Packed Malware: 549 samples\n",
      "Packed Benign: 549 samples\n",
      "Total TRAIN set: 1098 samples\n",
      "Packed Malware: 499 samples\n",
      "Packed Benign: 499 samples\n",
      "Total TEST set: 998 samples\n"
     ]
    }
   ],
   "source": [
    "#Kiểm tra số lượng mẫu\n",
    "PM = data_rich[(data_rich['malicious'] == True) & (data_rich['packed'] == True)].shape[0]\n",
    "PB = data_rich[(data_rich['malicious'] == False) & (data_rich['packed'] == True)].shape[0]\n",
    "print('Packed Malware: %i samples' % PM)\n",
    "print('Packed Benign: %i samples' % PB)\n",
    "print('Total TRAIN set: %i samples'% (PM+PB))\n",
    "\n",
    "#Chia tỉ lệ 50 - 50\n",
    "data_PM_rich = data_rich[(data_rich['malicious'] == True) & (data_rich['packed'] == True)].sample(n=(PM-PB), random_state=102)\n",
    "data_rich = data_rich.drop(data_PM_rich.index)\n",
    "      \n",
    "#Số lượng tập train\n",
    "PM = data_rich[(data_rich['malicious'] == True) & (data_rich['packed'] == True)].shape[0]\n",
    "PB = data_rich[(data_rich['malicious'] == False) & (data_rich['packed'] == True)].shape[0]\n",
    "print('Packed Malware: %i samples' % PM)\n",
    "print('Packed Benign: %i samples' % PB)\n",
    "print('Total TRAIN set: %i samples'% (PM+PB))\n",
    "\n",
    "#Xử lý tập train\n",
    "y = data_rich['malicious'].values\n",
    "data_rich= data_rich.drop(['malicious','packed'], axis=1)\n",
    "\n",
    "PM = df_3000_rich[(df_3000_rich['malicious'] == True) & (df_3000_rich['packed'] == True)].shape[0]\n",
    "PB = df_3000_rich[(df_3000_rich['malicious'] == False) & (df_3000_rich['packed'] == True)].shape[0]\n",
    "\n",
    "df_3000_PM_rich = df_3000_rich[(df_3000_rich['malicious'] == True) & (df_3000_rich['packed'] == True)].sample(n=(PM-PB), random_state=102)\n",
    "df_3000_rich = df_3000_rich.drop(df_3000_PM_rich.index)\n",
    "\n",
    "PM = df_3000_rich[(df_3000_rich['malicious'] == True) & (df_3000_rich['packed'] == True)].shape[0]\n",
    "PB = df_3000_rich[(df_3000_rich['malicious'] == False) & (df_3000_rich['packed'] == True)].shape[0]\n",
    "\n",
    "print('Packed Malware: %i samples' % PM)\n",
    "print('Packed Benign: %i samples' % PB)\n",
    "print('Total TEST set: %i samples'% (PM+PB))"
   ]
  },
  {
   "cell_type": "code",
   "execution_count": 37,
   "id": "4585c775",
   "metadata": {
    "execution": {
     "iopub.execute_input": "2024-01-23T12:10:47.661263Z",
     "iopub.status.busy": "2024-01-23T12:10:47.660843Z",
     "iopub.status.idle": "2024-01-23T12:10:47.670927Z",
     "shell.execute_reply": "2024-01-23T12:10:47.670056Z"
    },
    "papermill": {
     "duration": 0.037904,
     "end_time": "2024-01-23T12:10:47.674003",
     "exception": false,
     "start_time": "2024-01-23T12:10:47.636099",
     "status": "completed"
    },
    "tags": []
   },
   "outputs": [],
   "source": [
    "# model = SelectFromModel(fsel, prefit=True)\n",
    "\n",
    "X_train_rich = data_rich\n",
    "X_test_rich = df_3000_rich.drop(['malicious','packed'], axis=1)\n",
    "\n",
    "data_rich = data_rich.loc[:, (data_rich != 0).any(axis=0)]\n",
    "x_train_rich = data_rich\n",
    "X_test_rich = df_3000_rich.drop(['malicious','packed'], axis=1)\n",
    "y_train_rich = y\n",
    "y_test_rich = df_3000_rich['malicious'].values"
   ]
  },
  {
   "cell_type": "code",
   "execution_count": 38,
   "id": "ac0f3d88",
   "metadata": {
    "execution": {
     "iopub.execute_input": "2024-01-23T12:10:47.719572Z",
     "iopub.status.busy": "2024-01-23T12:10:47.718678Z",
     "iopub.status.idle": "2024-01-23T12:10:48.031446Z",
     "shell.execute_reply": "2024-01-23T12:10:48.030383Z"
    },
    "papermill": {
     "duration": 0.338093,
     "end_time": "2024-01-23T12:10:48.033780",
     "exception": false,
     "start_time": "2024-01-23T12:10:47.695687",
     "status": "completed"
    },
    "tags": []
   },
   "outputs": [
    {
     "name": "stdout",
     "output_type": "stream",
     "text": [
      "The accuracy of the Random Forests model is :\t 0.8096192384769539\n"
     ]
    }
   ],
   "source": [
    "# Random Forest\n",
    "from sklearn.ensemble import RandomForestClassifier\n",
    "from sklearn import metrics\n",
    "\n",
    "random_forest = RandomForestClassifier(n_estimators=100, random_state=17)\n",
    "random_forest.fit(X_train_rich, y_train_rich)\n",
    "random_forest_preds = random_forest.predict(X_test_rich)\n",
    "print('The accuracy of the Random Forests model is :\\t',metrics.accuracy_score(random_forest_preds,y_test_rich))"
   ]
  },
  {
   "cell_type": "markdown",
   "id": "fc86022c",
   "metadata": {
    "papermill": {
     "duration": 0.018851,
     "end_time": "2024-01-23T12:10:48.071963",
     "exception": false,
     "start_time": "2024-01-23T12:10:48.053112",
     "status": "completed"
    },
    "tags": []
   },
   "source": [
    "# **string features**"
   ]
  },
  {
   "cell_type": "code",
   "execution_count": 39,
   "id": "731260e0",
   "metadata": {
    "execution": {
     "iopub.execute_input": "2024-01-23T12:10:48.112531Z",
     "iopub.status.busy": "2024-01-23T12:10:48.111413Z",
     "iopub.status.idle": "2024-01-23T12:10:49.831233Z",
     "shell.execute_reply": "2024-01-23T12:10:49.829916Z"
    },
    "papermill": {
     "duration": 1.743216,
     "end_time": "2024-01-23T12:10:49.833691",
     "exception": false,
     "start_time": "2024-01-23T12:10:48.090475",
     "status": "completed"
    },
    "tags": []
   },
   "outputs": [],
   "source": [
    "pecompact = pd.read_pickle('/kaggle/input/packer-balance-pickle/pecompact_balance.pickle')\n",
    "pecompact = pecompact.drop(['sample_sha1','benign','unpacked_sample_sha1','unpacked_sample_id'], axis=1)\n",
    "pecompact = pecompact.drop(['benign_vt','malicious_vt'], axis=1)\n",
    "string_columns = pecompact.select_dtypes(include=['object']).columns\n",
    "pecompact = pecompact.drop(string_columns, axis=1)"
   ]
  },
  {
   "cell_type": "code",
   "execution_count": 40,
   "id": "03c56ac4",
   "metadata": {
    "execution": {
     "iopub.execute_input": "2024-01-23T12:10:49.873171Z",
     "iopub.status.busy": "2024-01-23T12:10:49.872780Z",
     "iopub.status.idle": "2024-01-23T12:10:51.441308Z",
     "shell.execute_reply": "2024-01-23T12:10:51.438230Z"
    },
    "papermill": {
     "duration": 1.592564,
     "end_time": "2024-01-23T12:10:51.445566",
     "exception": false,
     "start_time": "2024-01-23T12:10:49.853002",
     "status": "completed"
    },
    "tags": []
   },
   "outputs": [
    {
     "name": "stdout",
     "output_type": "stream",
     "text": [
      "removing 13000 features\n",
      "removing 2500 features\n",
      "removing 2 features\n",
      "removing 66 features\n",
      "removing 19169 features\n",
      "removing 4306 features\n",
      "removing 550 features\n",
      "removing 29 features\n"
     ]
    }
   ],
   "source": [
    "string = remove_cols(pecompact, [c for c in cols if c.startswith('ngram_')])\n",
    "string = remove_cols(pecompact, [c for c in cols if c.startswith('opcode_')])\n",
    "string = remove_cols(pecompact, [c for c in cols if c.startswith('generic_')])\n",
    "# string = remove_cols(pecompact, [c for c in cols if c.startswith('string_')])\n",
    "string = remove_cols(pecompact, [c for c in cols if c.startswith('rich_')])\n",
    "string = remove_cols(pecompact, [c for c in cols if c.startswith('imp_') or 'api_import_nb' == c])\n",
    "string = remove_cols(pecompact, [c for c in cols if c.endswith('.dll') or 'dll_import_nb' == c])\n",
    "string = remove_cols(pecompact, [c for c in cols if c.startswith('pesection')])\n",
    "string = remove_cols(pecompact, [c for c in cols if c.startswith('header_')])"
   ]
  },
  {
   "cell_type": "code",
   "execution_count": 41,
   "id": "02af7ef8",
   "metadata": {
    "execution": {
     "iopub.execute_input": "2024-01-23T12:10:51.487006Z",
     "iopub.status.busy": "2024-01-23T12:10:51.485660Z",
     "iopub.status.idle": "2024-01-23T12:10:51.825001Z",
     "shell.execute_reply": "2024-01-23T12:10:51.823793Z"
    },
    "papermill": {
     "duration": 0.36297,
     "end_time": "2024-01-23T12:10:51.827758",
     "exception": false,
     "start_time": "2024-01-23T12:10:51.464788",
     "status": "completed"
    },
    "tags": []
   },
   "outputs": [],
   "source": [
    "df_7000_string = string.sample(n=7000, random_state=102)\n",
    "df_3000_string = string.drop(df_7000.index)\n",
    "data_string = df_7000_string.sample(n=3500, random_state=102)"
   ]
  },
  {
   "cell_type": "code",
   "execution_count": 42,
   "id": "58b056b9",
   "metadata": {
    "execution": {
     "iopub.execute_input": "2024-01-23T12:10:51.868022Z",
     "iopub.status.busy": "2024-01-23T12:10:51.867611Z",
     "iopub.status.idle": "2024-01-23T12:10:52.330982Z",
     "shell.execute_reply": "2024-01-23T12:10:52.329143Z"
    },
    "papermill": {
     "duration": 0.486965,
     "end_time": "2024-01-23T12:10:52.333695",
     "exception": false,
     "start_time": "2024-01-23T12:10:51.846730",
     "status": "completed"
    },
    "tags": []
   },
   "outputs": [
    {
     "name": "stdout",
     "output_type": "stream",
     "text": [
      "Packed Malware: 2951 samples\n",
      "Packed Benign: 549 samples\n",
      "Total TRAIN set: 3500 samples\n",
      "Packed Malware: 549 samples\n",
      "Packed Benign: 549 samples\n",
      "Total TRAIN set: 1098 samples\n",
      "Packed Malware: 499 samples\n",
      "Packed Benign: 499 samples\n",
      "Total TEST set: 998 samples\n"
     ]
    }
   ],
   "source": [
    "#Kiểm tra số lượng mẫu\n",
    "PM = data_string[(data_string['malicious'] == True) & (data_string['packed'] == True)].shape[0]\n",
    "PB = data_string[(data_string['malicious'] == False) & (data_string['packed'] == True)].shape[0]\n",
    "print('Packed Malware: %i samples' % PM)\n",
    "print('Packed Benign: %i samples' % PB)\n",
    "print('Total TRAIN set: %i samples'% (PM+PB))\n",
    "\n",
    "#Chia tỉ lệ 50 - 50\n",
    "data_PM_string = data_string[(data_string['malicious'] == True) & (data_string['packed'] == True)].sample(n=(PM-PB), random_state=102)\n",
    "data_string = data_string.drop(data_PM_string.index)\n",
    "      \n",
    "#Số lượng tập train\n",
    "PM = data_string[(data_string['malicious'] == True) & (data_string['packed'] == True)].shape[0]\n",
    "PB = data_string[(data_string['malicious'] == False) & (data_string['packed'] == True)].shape[0]\n",
    "print('Packed Malware: %i samples' % PM)\n",
    "print('Packed Benign: %i samples' % PB)\n",
    "print('Total TRAIN set: %i samples'% (PM+PB))\n",
    "\n",
    "#Xử lý tập train\n",
    "y = data_string['malicious'].values\n",
    "data_string = data_string.drop(['malicious','packed'], axis=1)\n",
    "\n",
    "PM = df_3000_string[(df_3000_string['malicious'] == True) & (df_3000_string['packed'] == True)].shape[0]\n",
    "PB = df_3000_string[(df_3000_string['malicious'] == False) & (df_3000_string['packed'] == True)].shape[0]\n",
    "\n",
    "df_3000_PM_string = df_3000_string[(df_3000_string['malicious'] == True) & (df_3000_string['packed'] == True)].sample(n=(PM-PB), random_state=102)\n",
    "df_3000_string = df_3000_string.drop(df_3000_PM_string.index)\n",
    "\n",
    "PM = df_3000_string[(df_3000_string['malicious'] == True) & (df_3000_string['packed'] == True)].shape[0]\n",
    "PB = df_3000_string[(df_3000_string['malicious'] == False) & (df_3000_string['packed'] == True)].shape[0]\n",
    "\n",
    "print('Packed Malware: %i samples' % PM)\n",
    "print('Packed Benign: %i samples' % PB)\n",
    "print('Total TEST set: %i samples'% (PM+PB))"
   ]
  },
  {
   "cell_type": "code",
   "execution_count": 43,
   "id": "1789c7d8",
   "metadata": {
    "execution": {
     "iopub.execute_input": "2024-01-23T12:10:52.374168Z",
     "iopub.status.busy": "2024-01-23T12:10:52.373585Z",
     "iopub.status.idle": "2024-01-23T12:10:52.432904Z",
     "shell.execute_reply": "2024-01-23T12:10:52.431295Z"
    },
    "papermill": {
     "duration": 0.082522,
     "end_time": "2024-01-23T12:10:52.435640",
     "exception": false,
     "start_time": "2024-01-23T12:10:52.353118",
     "status": "completed"
    },
    "tags": []
   },
   "outputs": [],
   "source": [
    "# model = SelectFromModel(fsel, prefit=True)\n",
    "\n",
    "X_train_string = data_string\n",
    "X_test_string = df_3000_string.drop(['malicious','packed'], axis=1)\n",
    "\n",
    "data_string = data_string.loc[:, (data_string != 0).any(axis=0)]\n",
    "x_train_string = data_string\n",
    "X_test_string = df_3000_string.drop(['malicious','packed'], axis=1)\n",
    "y_train_string = y\n",
    "y_test_string = df_3000_string['malicious'].values"
   ]
  },
  {
   "cell_type": "code",
   "execution_count": 44,
   "id": "40c95d27",
   "metadata": {
    "execution": {
     "iopub.execute_input": "2024-01-23T12:10:52.475490Z",
     "iopub.status.busy": "2024-01-23T12:10:52.475129Z",
     "iopub.status.idle": "2024-01-23T12:10:55.291306Z",
     "shell.execute_reply": "2024-01-23T12:10:55.289638Z"
    },
    "papermill": {
     "duration": 2.839674,
     "end_time": "2024-01-23T12:10:55.294225",
     "exception": false,
     "start_time": "2024-01-23T12:10:52.454551",
     "status": "completed"
    },
    "tags": []
   },
   "outputs": [
    {
     "name": "stdout",
     "output_type": "stream",
     "text": [
      "The accuracy of the Random Forests model is :\t 0.814629258517034\n"
     ]
    }
   ],
   "source": [
    "# Random Forest\n",
    "from sklearn.ensemble import RandomForestClassifier\n",
    "from sklearn import metrics\n",
    "\n",
    "random_forest = RandomForestClassifier(n_estimators=100, random_state=17)\n",
    "random_forest.fit(X_train_string, y_train_string)\n",
    "random_forest_preds = random_forest.predict(X_test_string)\n",
    "print('The accuracy of the Random Forests model is :\\t',metrics.accuracy_score(random_forest_preds,y_test_string))"
   ]
  },
  {
   "cell_type": "markdown",
   "id": "b8f5246f",
   "metadata": {
    "papermill": {
     "duration": 0.018756,
     "end_time": "2024-01-23T12:10:55.332154",
     "exception": false,
     "start_time": "2024-01-23T12:10:55.313398",
     "status": "completed"
    },
    "tags": []
   },
   "source": [
    "# **api features**"
   ]
  },
  {
   "cell_type": "code",
   "execution_count": 45,
   "id": "c6be0d16",
   "metadata": {
    "execution": {
     "iopub.execute_input": "2024-01-23T12:10:55.373186Z",
     "iopub.status.busy": "2024-01-23T12:10:55.372390Z",
     "iopub.status.idle": "2024-01-23T12:10:57.107952Z",
     "shell.execute_reply": "2024-01-23T12:10:57.106449Z"
    },
    "papermill": {
     "duration": 1.760162,
     "end_time": "2024-01-23T12:10:57.111276",
     "exception": false,
     "start_time": "2024-01-23T12:10:55.351114",
     "status": "completed"
    },
    "tags": []
   },
   "outputs": [],
   "source": [
    "pecompact = pd.read_pickle('/kaggle/input/packer-balance-pickle/pecompact_balance.pickle')\n",
    "pecompact = pecompact.drop(['sample_sha1','benign','unpacked_sample_sha1','unpacked_sample_id'], axis=1)\n",
    "pecompact = pecompact.drop(['benign_vt','malicious_vt'], axis=1)\n",
    "string_columns = pecompact.select_dtypes(include=['object']).columns\n",
    "pecompact = pecompact.drop(string_columns, axis=1)"
   ]
  },
  {
   "cell_type": "code",
   "execution_count": 46,
   "id": "5a874a45",
   "metadata": {
    "execution": {
     "iopub.execute_input": "2024-01-23T12:10:57.157257Z",
     "iopub.status.busy": "2024-01-23T12:10:57.156650Z",
     "iopub.status.idle": "2024-01-23T12:10:58.757260Z",
     "shell.execute_reply": "2024-01-23T12:10:58.756047Z"
    },
    "papermill": {
     "duration": 1.628001,
     "end_time": "2024-01-23T12:10:58.760385",
     "exception": false,
     "start_time": "2024-01-23T12:10:57.132384",
     "status": "completed"
    },
    "tags": []
   },
   "outputs": [
    {
     "name": "stdout",
     "output_type": "stream",
     "text": [
      "removing 13000 features\n",
      "removing 2500 features\n",
      "removing 2 features\n",
      "removing 16900 features\n",
      "removing 66 features\n",
      "removing 4306 features\n",
      "removing 550 features\n",
      "removing 29 features\n"
     ]
    }
   ],
   "source": [
    "api = remove_cols(pecompact, [c for c in cols if c.startswith('ngram_')])\n",
    "api = remove_cols(pecompact, [c for c in cols if c.startswith('opcode_')])\n",
    "api = remove_cols(pecompact, [c for c in cols if c.startswith('generic_')])\n",
    "api = remove_cols(pecompact, [c for c in cols if c.startswith('string_')])\n",
    "api = remove_cols(pecompact, [c for c in cols if c.startswith('rich_')])\n",
    "# api = remove_cols(pecompact, [c for c in cols if c.startswith('imp_') or 'api_import_nb' == c])\n",
    "api = remove_cols(pecompact, [c for c in cols if c.endswith('.dll') or 'dll_import_nb' == c])\n",
    "api = remove_cols(pecompact, [c for c in cols if c.startswith('pesection')])\n",
    "api = remove_cols(pecompact, [c for c in cols if c.startswith('header_')])"
   ]
  },
  {
   "cell_type": "code",
   "execution_count": 47,
   "id": "f5538eb3",
   "metadata": {
    "execution": {
     "iopub.execute_input": "2024-01-23T12:10:58.808902Z",
     "iopub.status.busy": "2024-01-23T12:10:58.807955Z",
     "iopub.status.idle": "2024-01-23T12:10:59.219726Z",
     "shell.execute_reply": "2024-01-23T12:10:59.218027Z"
    },
    "papermill": {
     "duration": 0.439652,
     "end_time": "2024-01-23T12:10:59.223101",
     "exception": false,
     "start_time": "2024-01-23T12:10:58.783449",
     "status": "completed"
    },
    "tags": []
   },
   "outputs": [],
   "source": [
    "df_7000_api = api.sample(n=7000, random_state=102)\n",
    "df_3000_api = api.drop(df_7000.index)\n",
    "data_api = df_7000_api.sample(n=3500, random_state=102)"
   ]
  },
  {
   "cell_type": "code",
   "execution_count": 48,
   "id": "9fdabfa5",
   "metadata": {
    "execution": {
     "iopub.execute_input": "2024-01-23T12:10:59.268077Z",
     "iopub.status.busy": "2024-01-23T12:10:59.267698Z",
     "iopub.status.idle": "2024-01-23T12:10:59.914954Z",
     "shell.execute_reply": "2024-01-23T12:10:59.913134Z"
    },
    "papermill": {
     "duration": 0.672371,
     "end_time": "2024-01-23T12:10:59.917892",
     "exception": false,
     "start_time": "2024-01-23T12:10:59.245521",
     "status": "completed"
    },
    "tags": []
   },
   "outputs": [
    {
     "name": "stdout",
     "output_type": "stream",
     "text": [
      "Packed Malware: 2951 samples\n",
      "Packed Benign: 549 samples\n",
      "Total TRAIN set: 3500 samples\n",
      "Packed Malware: 549 samples\n",
      "Packed Benign: 549 samples\n",
      "Total TRAIN set: 1098 samples\n",
      "Packed Malware: 499 samples\n",
      "Packed Benign: 499 samples\n",
      "Total TEST set: 998 samples\n"
     ]
    }
   ],
   "source": [
    "#Kiểm tra số lượng mẫu\n",
    "PM = data_api[(data_api['malicious'] == True) & (data_api['packed'] == True)].shape[0]\n",
    "PB = data_api[(data_api['malicious'] == False) & (data_api['packed'] == True)].shape[0]\n",
    "print('Packed Malware: %i samples' % PM)\n",
    "print('Packed Benign: %i samples' % PB)\n",
    "print('Total TRAIN set: %i samples'% (PM+PB))\n",
    "\n",
    "#Chia tỉ lệ 50 - 50\n",
    "data_PM_api = data_api[(data_api['malicious'] == True) & (data_api['packed'] == True)].sample(n=(PM-PB), random_state=102)\n",
    "data_api = data_api.drop(data_PM_api.index)\n",
    "      \n",
    "#Số lượng tập train\n",
    "PM = data_api[(data_api['malicious'] == True) & (data_api['packed'] == True)].shape[0]\n",
    "PB = data_api[(data_api['malicious'] == False) & (data_api['packed'] == True)].shape[0]\n",
    "print('Packed Malware: %i samples' % PM)\n",
    "print('Packed Benign: %i samples' % PB)\n",
    "print('Total TRAIN set: %i samples'% (PM+PB))\n",
    "\n",
    "#Xử lý tập train\n",
    "y = data_api['malicious'].values\n",
    "data_api = data_api.drop(['malicious','packed'], axis=1)\n",
    "\n",
    "PM = df_3000_api[(df_3000_api['malicious'] == True) & (df_3000_api['packed'] == True)].shape[0]\n",
    "PB = df_3000_api[(df_3000_api['malicious'] == False) & (df_3000_api['packed'] == True)].shape[0]\n",
    "\n",
    "df_3000_PM_api = df_3000_api[(df_3000_api['malicious'] == True) & (df_3000_api['packed'] == True)].sample(n=(PM-PB), random_state=102)\n",
    "df_3000_api = df_3000_api.drop(df_3000_PM_api.index)\n",
    "\n",
    "PM = df_3000_api[(df_3000_api['malicious'] == True) & (df_3000_api['packed'] == True)].shape[0]\n",
    "PB = df_3000_api[(df_3000_api['malicious'] == False) & (df_3000_api['packed'] == True)].shape[0]\n",
    "\n",
    "print('Packed Malware: %i samples' % PM)\n",
    "print('Packed Benign: %i samples' % PB)\n",
    "print('Total TEST set: %i samples'% (PM+PB))"
   ]
  },
  {
   "cell_type": "code",
   "execution_count": 49,
   "id": "24946375",
   "metadata": {
    "execution": {
     "iopub.execute_input": "2024-01-23T12:10:59.959325Z",
     "iopub.status.busy": "2024-01-23T12:10:59.958961Z",
     "iopub.status.idle": "2024-01-23T12:11:00.054825Z",
     "shell.execute_reply": "2024-01-23T12:11:00.053377Z"
    },
    "papermill": {
     "duration": 0.119907,
     "end_time": "2024-01-23T12:11:00.057844",
     "exception": false,
     "start_time": "2024-01-23T12:10:59.937937",
     "status": "completed"
    },
    "tags": []
   },
   "outputs": [],
   "source": [
    "# model = SelectFromModel(fsel, prefit=True)\n",
    "\n",
    "X_train_api = data_api\n",
    "X_test_api = df_3000_api.drop(['malicious','packed'], axis=1)\n",
    "\n",
    "data_api = data_api.loc[:, (data_api != 0).any(axis=0)]\n",
    "x_train_api = data_api\n",
    "X_test_api = df_3000_api.drop(['malicious','packed'], axis=1)\n",
    "y_train_api = y\n",
    "y_test_api = df_3000_api['malicious'].values"
   ]
  },
  {
   "cell_type": "code",
   "execution_count": 50,
   "id": "1bb1b67c",
   "metadata": {
    "execution": {
     "iopub.execute_input": "2024-01-23T12:11:00.100297Z",
     "iopub.status.busy": "2024-01-23T12:11:00.099805Z",
     "iopub.status.idle": "2024-01-23T12:11:08.049807Z",
     "shell.execute_reply": "2024-01-23T12:11:08.048149Z"
    },
    "papermill": {
     "duration": 7.977422,
     "end_time": "2024-01-23T12:11:08.054945",
     "exception": false,
     "start_time": "2024-01-23T12:11:00.077523",
     "status": "completed"
    },
    "tags": []
   },
   "outputs": [
    {
     "name": "stdout",
     "output_type": "stream",
     "text": [
      "The accuracy of the Random Forests model is :\t 0.6793587174348698\n"
     ]
    }
   ],
   "source": [
    "# Random Forest\n",
    "from sklearn.ensemble import RandomForestClassifier\n",
    "from sklearn import metrics\n",
    "\n",
    "random_forest = RandomForestClassifier(n_estimators=100, random_state=17)\n",
    "random_forest.fit(X_train_api, y_train_api)\n",
    "random_forest_preds = random_forest.predict(X_test_api)\n",
    "print('The accuracy of the Random Forests model is :\\t',metrics.accuracy_score(random_forest_preds,y_test_api))"
   ]
  },
  {
   "cell_type": "markdown",
   "id": "de9cdf8e",
   "metadata": {
    "papermill": {
     "duration": 0.023134,
     "end_time": "2024-01-23T12:11:08.105854",
     "exception": false,
     "start_time": "2024-01-23T12:11:08.082720",
     "status": "completed"
    },
    "tags": []
   },
   "source": [
    "# **dll features**"
   ]
  },
  {
   "cell_type": "code",
   "execution_count": 51,
   "id": "47a9c469",
   "metadata": {
    "execution": {
     "iopub.execute_input": "2024-01-23T12:11:08.165789Z",
     "iopub.status.busy": "2024-01-23T12:11:08.165372Z",
     "iopub.status.idle": "2024-01-23T12:11:09.951860Z",
     "shell.execute_reply": "2024-01-23T12:11:09.950803Z"
    },
    "papermill": {
     "duration": 1.819597,
     "end_time": "2024-01-23T12:11:09.954804",
     "exception": false,
     "start_time": "2024-01-23T12:11:08.135207",
     "status": "completed"
    },
    "tags": []
   },
   "outputs": [],
   "source": [
    "pecompact = pd.read_pickle('/kaggle/input/packer-balance-pickle/pecompact_balance.pickle')\n",
    "pecompact = pecompact.drop(['sample_sha1','benign','unpacked_sample_sha1','unpacked_sample_id'], axis=1)\n",
    "pecompact = pecompact.drop(['benign_vt','malicious_vt'], axis=1)\n",
    "string_columns = pecompact.select_dtypes(include=['object']).columns\n",
    "pecompact = pecompact.drop(string_columns, axis=1)"
   ]
  },
  {
   "cell_type": "code",
   "execution_count": 52,
   "id": "57675b76",
   "metadata": {
    "execution": {
     "iopub.execute_input": "2024-01-23T12:11:09.996039Z",
     "iopub.status.busy": "2024-01-23T12:11:09.995657Z",
     "iopub.status.idle": "2024-01-23T12:11:11.196972Z",
     "shell.execute_reply": "2024-01-23T12:11:11.195314Z"
    },
    "papermill": {
     "duration": 1.225458,
     "end_time": "2024-01-23T12:11:11.200034",
     "exception": false,
     "start_time": "2024-01-23T12:11:09.974576",
     "status": "completed"
    },
    "tags": []
   },
   "outputs": [
    {
     "name": "stdout",
     "output_type": "stream",
     "text": [
      "removing 13000 features\n",
      "removing 2500 features\n",
      "removing 2 features\n",
      "removing 16900 features\n",
      "removing 66 features\n",
      "removing 19169 features\n",
      "removing 550 features\n",
      "removing 29 features\n"
     ]
    }
   ],
   "source": [
    "dll = remove_cols(pecompact, [c for c in cols if c.startswith('ngram_')])\n",
    "dll = remove_cols(pecompact, [c for c in cols if c.startswith('opcode_')])\n",
    "dll = remove_cols(pecompact, [c for c in cols if c.startswith('generic_')])\n",
    "dll = remove_cols(pecompact, [c for c in cols if c.startswith('string_')])\n",
    "dll = remove_cols(pecompact, [c for c in cols if c.startswith('rich_')])\n",
    "dll = remove_cols(pecompact, [c for c in cols if c.startswith('imp_') or 'api_import_nb' == c])\n",
    "# api = remove_cols(pecompact, [c for c in cols if c.endswith('.dll') or 'dll_import_nb' == c])\n",
    "dll = remove_cols(pecompact, [c for c in cols if c.startswith('pesection')])\n",
    "dll = remove_cols(pecompact, [c for c in cols if c.startswith('header_')])"
   ]
  },
  {
   "cell_type": "code",
   "execution_count": 53,
   "id": "0ad31de9",
   "metadata": {
    "execution": {
     "iopub.execute_input": "2024-01-23T12:11:11.247998Z",
     "iopub.status.busy": "2024-01-23T12:11:11.246908Z",
     "iopub.status.idle": "2024-01-23T12:11:11.358521Z",
     "shell.execute_reply": "2024-01-23T12:11:11.357279Z"
    },
    "papermill": {
     "duration": 0.139749,
     "end_time": "2024-01-23T12:11:11.361771",
     "exception": false,
     "start_time": "2024-01-23T12:11:11.222022",
     "status": "completed"
    },
    "tags": []
   },
   "outputs": [],
   "source": [
    "df_7000_dll = dll.sample(n=7000, random_state=102)\n",
    "df_3000_dll = dll.drop(df_7000.index)\n",
    "data_dll = df_7000_dll.sample(n=3500, random_state=102)"
   ]
  },
  {
   "cell_type": "code",
   "execution_count": 54,
   "id": "b31998a1",
   "metadata": {
    "execution": {
     "iopub.execute_input": "2024-01-23T12:11:11.407314Z",
     "iopub.status.busy": "2024-01-23T12:11:11.406869Z",
     "iopub.status.idle": "2024-01-23T12:11:11.617720Z",
     "shell.execute_reply": "2024-01-23T12:11:11.616499Z"
    },
    "papermill": {
     "duration": 0.236991,
     "end_time": "2024-01-23T12:11:11.620129",
     "exception": false,
     "start_time": "2024-01-23T12:11:11.383138",
     "status": "completed"
    },
    "tags": []
   },
   "outputs": [
    {
     "name": "stdout",
     "output_type": "stream",
     "text": [
      "Packed Malware: 2951 samples\n",
      "Packed Benign: 549 samples\n",
      "Total TRAIN set: 3500 samples\n",
      "Packed Malware: 549 samples\n",
      "Packed Benign: 549 samples\n",
      "Total TRAIN set: 1098 samples\n",
      "Packed Malware: 499 samples\n",
      "Packed Benign: 499 samples\n",
      "Total TEST set: 998 samples\n"
     ]
    }
   ],
   "source": [
    "#Kiểm tra số lượng mẫu\n",
    "PM = data_dll[(data_dll['malicious'] == True) & (data_dll['packed'] == True)].shape[0]\n",
    "PB = data_dll[(data_dll['malicious'] == False) & (data_dll['packed'] == True)].shape[0]\n",
    "print('Packed Malware: %i samples' % PM)\n",
    "print('Packed Benign: %i samples' % PB)\n",
    "print('Total TRAIN set: %i samples'% (PM+PB))\n",
    "\n",
    "#Chia tỉ lệ 50 - 50\n",
    "data_PM_dll = data_dll[(data_dll['malicious'] == True) & (data_dll['packed'] == True)].sample(n=(PM-PB), random_state=102)\n",
    "data_dll = data_dll.drop(data_PM_dll.index)\n",
    "      \n",
    "#Số lượng tập train\n",
    "PM = data_dll[(data_dll['malicious'] == True) & (data_dll['packed'] == True)].shape[0]\n",
    "PB = data_dll[(data_dll['malicious'] == False) & (data_dll['packed'] == True)].shape[0]\n",
    "print('Packed Malware: %i samples' % PM)\n",
    "print('Packed Benign: %i samples' % PB)\n",
    "print('Total TRAIN set: %i samples'% (PM+PB))\n",
    "\n",
    "#Xử lý tập train\n",
    "y = data_dll['malicious'].values\n",
    "data_dll = data_dll.drop(['malicious','packed'], axis=1)\n",
    "\n",
    "PM = df_3000_dll[(df_3000_dll['malicious'] == True) & (df_3000_dll['packed'] == True)].shape[0]\n",
    "PB = df_3000_dll[(df_3000_dll['malicious'] == False) & (df_3000_dll['packed'] == True)].shape[0]\n",
    "\n",
    "df_3000_PM_dll = df_3000_dll[(df_3000_dll['malicious'] == True) & (df_3000_dll['packed'] == True)].sample(n=(PM-PB), random_state=102)\n",
    "df_3000_dll = df_3000_dll.drop(df_3000_PM_dll.index)\n",
    "\n",
    "PM = df_3000_dll[(df_3000_dll['malicious'] == True) & (df_3000_dll['packed'] == True)].shape[0]\n",
    "PB = df_3000_dll[(df_3000_dll['malicious'] == False) & (df_3000_dll['packed'] == True)].shape[0]\n",
    "\n",
    "print('Packed Malware: %i samples' % PM)\n",
    "print('Packed Benign: %i samples' % PB)\n",
    "print('Total TEST set: %i samples'% (PM+PB))"
   ]
  },
  {
   "cell_type": "code",
   "execution_count": 55,
   "id": "06043c79",
   "metadata": {
    "execution": {
     "iopub.execute_input": "2024-01-23T12:11:11.664574Z",
     "iopub.status.busy": "2024-01-23T12:11:11.663201Z",
     "iopub.status.idle": "2024-01-23T12:11:11.705640Z",
     "shell.execute_reply": "2024-01-23T12:11:11.704485Z"
    },
    "papermill": {
     "duration": 0.067385,
     "end_time": "2024-01-23T12:11:11.708253",
     "exception": false,
     "start_time": "2024-01-23T12:11:11.640868",
     "status": "completed"
    },
    "tags": []
   },
   "outputs": [],
   "source": [
    "# model = SelectFromModel(fsel, prefit=True)\n",
    "\n",
    "X_train_dll = data_dll\n",
    "X_test_dll = df_3000_dll.drop(['malicious','packed'], axis=1)\n",
    "\n",
    "data_dll = data_dll.loc[:, (data_dll != 0).any(axis=0)]\n",
    "x_train_dll = data_dll\n",
    "X_test_dll = df_3000_dll.drop(['malicious','packed'], axis=1)\n",
    "y_train_dll = y\n",
    "y_test_dll = df_3000_dll['malicious'].values"
   ]
  },
  {
   "cell_type": "code",
   "execution_count": 56,
   "id": "aaf9d520",
   "metadata": {
    "execution": {
     "iopub.execute_input": "2024-01-23T12:11:11.750912Z",
     "iopub.status.busy": "2024-01-23T12:11:11.750427Z",
     "iopub.status.idle": "2024-01-23T12:11:14.152390Z",
     "shell.execute_reply": "2024-01-23T12:11:14.151023Z"
    },
    "papermill": {
     "duration": 2.427153,
     "end_time": "2024-01-23T12:11:14.155472",
     "exception": false,
     "start_time": "2024-01-23T12:11:11.728319",
     "status": "completed"
    },
    "tags": []
   },
   "outputs": [
    {
     "name": "stdout",
     "output_type": "stream",
     "text": [
      "The accuracy of the Random Forests model is :\t 0.6643286573146293\n"
     ]
    }
   ],
   "source": [
    "# Random Forest\n",
    "from sklearn.ensemble import RandomForestClassifier\n",
    "from sklearn import metrics\n",
    "\n",
    "random_forest = RandomForestClassifier(n_estimators=100, random_state=17)\n",
    "random_forest.fit(X_train_dll, y_train_dll)\n",
    "random_forest_preds = random_forest.predict(X_test_dll)\n",
    "print('The accuracy of the Random Forests model is :\\t',metrics.accuracy_score(random_forest_preds,y_test_dll))"
   ]
  },
  {
   "cell_type": "markdown",
   "id": "7fd1a6c2",
   "metadata": {
    "papermill": {
     "duration": 0.021558,
     "end_time": "2024-01-23T12:11:14.200236",
     "exception": false,
     "start_time": "2024-01-23T12:11:14.178678",
     "status": "completed"
    },
    "tags": []
   },
   "source": [
    "# **pe sections features**"
   ]
  },
  {
   "cell_type": "code",
   "execution_count": 57,
   "id": "931d93b1",
   "metadata": {
    "execution": {
     "iopub.execute_input": "2024-01-23T12:11:14.249225Z",
     "iopub.status.busy": "2024-01-23T12:11:14.248278Z",
     "iopub.status.idle": "2024-01-23T12:11:15.891276Z",
     "shell.execute_reply": "2024-01-23T12:11:15.890195Z"
    },
    "papermill": {
     "duration": 1.67145,
     "end_time": "2024-01-23T12:11:15.894299",
     "exception": false,
     "start_time": "2024-01-23T12:11:14.222849",
     "status": "completed"
    },
    "tags": []
   },
   "outputs": [],
   "source": [
    "pecompact = pd.read_pickle('/kaggle/input/packer-balance-pickle/pecompact_balance.pickle')\n",
    "pecompact = pecompact.drop(['sample_sha1','benign','unpacked_sample_sha1','unpacked_sample_id'], axis=1)\n",
    "pecompact = pecompact.drop(['benign_vt','malicious_vt'], axis=1)\n",
    "string_columns = pecompact.select_dtypes(include=['object']).columns\n",
    "pecompact = pecompact.drop(string_columns, axis=1)"
   ]
  },
  {
   "cell_type": "code",
   "execution_count": 58,
   "id": "dbe44344",
   "metadata": {
    "execution": {
     "iopub.execute_input": "2024-01-23T12:11:15.942151Z",
     "iopub.status.busy": "2024-01-23T12:11:15.941752Z",
     "iopub.status.idle": "2024-01-23T12:11:17.125268Z",
     "shell.execute_reply": "2024-01-23T12:11:17.123965Z"
    },
    "papermill": {
     "duration": 1.211474,
     "end_time": "2024-01-23T12:11:17.128522",
     "exception": false,
     "start_time": "2024-01-23T12:11:15.917048",
     "status": "completed"
    },
    "tags": []
   },
   "outputs": [
    {
     "name": "stdout",
     "output_type": "stream",
     "text": [
      "removing 13000 features\n",
      "removing 2500 features\n",
      "removing 2 features\n",
      "removing 16900 features\n",
      "removing 66 features\n",
      "removing 19169 features\n",
      "removing 4306 features\n",
      "removing 29 features\n"
     ]
    }
   ],
   "source": [
    "pesection = remove_cols(pecompact, [c for c in cols if c.startswith('ngram_')])\n",
    "pesection = remove_cols(pecompact, [c for c in cols if c.startswith('opcode_')])\n",
    "pesection = remove_cols(pecompact, [c for c in cols if c.startswith('generic_')])\n",
    "pesection = remove_cols(pecompact, [c for c in cols if c.startswith('string_')])\n",
    "pesection = remove_cols(pecompact, [c for c in cols if c.startswith('rich_')])\n",
    "pesection = remove_cols(pecompact, [c for c in cols if c.startswith('imp_') or 'api_import_nb' == c])\n",
    "pesection = remove_cols(pecompact, [c for c in cols if c.endswith('.dll') or 'dll_import_nb' == c])\n",
    "# pesection = remove_cols(pecompact, [c for c in cols if c.startswith('pesection')])\n",
    "pesection = remove_cols(pecompact, [c for c in cols if c.startswith('header_')])"
   ]
  },
  {
   "cell_type": "code",
   "execution_count": 59,
   "id": "71ba9222",
   "metadata": {
    "execution": {
     "iopub.execute_input": "2024-01-23T12:11:17.176810Z",
     "iopub.status.busy": "2024-01-23T12:11:17.175993Z",
     "iopub.status.idle": "2024-01-23T12:11:17.232382Z",
     "shell.execute_reply": "2024-01-23T12:11:17.231021Z"
    },
    "papermill": {
     "duration": 0.085339,
     "end_time": "2024-01-23T12:11:17.236162",
     "exception": false,
     "start_time": "2024-01-23T12:11:17.150823",
     "status": "completed"
    },
    "tags": []
   },
   "outputs": [],
   "source": [
    "df_7000_pesection = pesection.sample(n=7000, random_state=102)\n",
    "df_3000_pesection = pesection.drop(df_7000.index)\n",
    "data_pesection = df_7000_pesection.sample(n=3500, random_state=102)"
   ]
  },
  {
   "cell_type": "code",
   "execution_count": 60,
   "id": "d53addfb",
   "metadata": {
    "execution": {
     "iopub.execute_input": "2024-01-23T12:11:17.283348Z",
     "iopub.status.busy": "2024-01-23T12:11:17.282438Z",
     "iopub.status.idle": "2024-01-23T12:11:17.424742Z",
     "shell.execute_reply": "2024-01-23T12:11:17.423370Z"
    },
    "papermill": {
     "duration": 0.170571,
     "end_time": "2024-01-23T12:11:17.428772",
     "exception": false,
     "start_time": "2024-01-23T12:11:17.258201",
     "status": "completed"
    },
    "tags": []
   },
   "outputs": [
    {
     "name": "stdout",
     "output_type": "stream",
     "text": [
      "Packed Malware: 2951 samples\n",
      "Packed Benign: 549 samples\n",
      "Total TRAIN set: 3500 samples\n",
      "Packed Malware: 549 samples\n",
      "Packed Benign: 549 samples\n",
      "Total TRAIN set: 1098 samples\n",
      "Packed Malware: 499 samples\n",
      "Packed Benign: 499 samples\n",
      "Total TEST set: 998 samples\n"
     ]
    }
   ],
   "source": [
    "#Kiểm tra số lượng mẫu\n",
    "PM = data_pesection[(data_pesection['malicious'] == True) & (data_pesection['packed'] == True)].shape[0]\n",
    "PB = data_pesection[(data_pesection['malicious'] == False) & (data_pesection['packed'] == True)].shape[0]\n",
    "print('Packed Malware: %i samples' % PM)\n",
    "print('Packed Benign: %i samples' % PB)\n",
    "print('Total TRAIN set: %i samples'% (PM+PB))\n",
    "\n",
    "#Chia tỉ lệ 50 - 50\n",
    "data_PM_pesection = data_pesection[(data_pesection['malicious'] == True) & (data_pesection['packed'] == True)].sample(n=(PM-PB), random_state=102)\n",
    "data_pesection = data_pesection.drop(data_PM_pesection.index)\n",
    "      \n",
    "#Số lượng tập train\n",
    "PM = data_pesection[(data_pesection['malicious'] == True) & (data_pesection['packed'] == True)].shape[0]\n",
    "PB = data_pesection[(data_pesection['malicious'] == False) & (data_pesection['packed'] == True)].shape[0]\n",
    "print('Packed Malware: %i samples' % PM)\n",
    "print('Packed Benign: %i samples' % PB)\n",
    "print('Total TRAIN set: %i samples'% (PM+PB))\n",
    "\n",
    "#Xử lý tập train\n",
    "y = data_pesection['malicious'].values\n",
    "data_pesection = data_pesection.drop(['malicious','packed'], axis=1)\n",
    "\n",
    "PM = df_3000_pesection[(df_3000_pesection['malicious'] == True) & (df_3000_pesection['packed'] == True)].shape[0]\n",
    "PB = df_3000_pesection[(df_3000_pesection['malicious'] == False) & (df_3000_pesection['packed'] == True)].shape[0]\n",
    "\n",
    "df_3000_PM_pesection = df_3000_pesection[(df_3000_pesection['malicious'] == True) & (df_3000_pesection['packed'] == True)].sample(n=(PM-PB), random_state=102)\n",
    "df_3000_pesection = df_3000_pesection.drop(df_3000_PM_pesection.index)\n",
    "\n",
    "PM = df_3000_pesection[(df_3000_pesection['malicious'] == True) & (df_3000_pesection['packed'] == True)].shape[0]\n",
    "PB = df_3000_pesection[(df_3000_pesection['malicious'] == False) & (df_3000_pesection['packed'] == True)].shape[0]\n",
    "\n",
    "print('Packed Malware: %i samples' % PM)\n",
    "print('Packed Benign: %i samples' % PB)\n",
    "print('Total TEST set: %i samples'% (PM+PB))"
   ]
  },
  {
   "cell_type": "code",
   "execution_count": 61,
   "id": "65d0a0a6",
   "metadata": {
    "execution": {
     "iopub.execute_input": "2024-01-23T12:11:17.476865Z",
     "iopub.status.busy": "2024-01-23T12:11:17.476471Z",
     "iopub.status.idle": "2024-01-23T12:11:17.504955Z",
     "shell.execute_reply": "2024-01-23T12:11:17.503735Z"
    },
    "papermill": {
     "duration": 0.056976,
     "end_time": "2024-01-23T12:11:17.508421",
     "exception": false,
     "start_time": "2024-01-23T12:11:17.451445",
     "status": "completed"
    },
    "tags": []
   },
   "outputs": [],
   "source": [
    "# model = SelectFromModel(fsel, prefit=True)\n",
    "\n",
    "X_train_pesection = data_pesection\n",
    "X_test_pesection = df_3000_pesection.drop(['malicious','packed'], axis=1)\n",
    "\n",
    "data_pesection = data_pesection.loc[:, (data_pesection != 0).any(axis=0)]\n",
    "x_train_pesection = data_pesection\n",
    "X_test_pesection = df_3000_pesection.drop(['malicious','packed'], axis=1)\n",
    "y_train_pesection = y\n",
    "y_test_pesection = df_3000_pesection['malicious'].values"
   ]
  },
  {
   "cell_type": "code",
   "execution_count": 62,
   "id": "bd28ba85",
   "metadata": {
    "execution": {
     "iopub.execute_input": "2024-01-23T12:11:17.555603Z",
     "iopub.status.busy": "2024-01-23T12:11:17.555212Z",
     "iopub.status.idle": "2024-01-23T12:11:17.959065Z",
     "shell.execute_reply": "2024-01-23T12:11:17.957575Z"
    },
    "papermill": {
     "duration": 0.431994,
     "end_time": "2024-01-23T12:11:17.962763",
     "exception": false,
     "start_time": "2024-01-23T12:11:17.530769",
     "status": "completed"
    },
    "tags": []
   },
   "outputs": [
    {
     "name": "stdout",
     "output_type": "stream",
     "text": [
      "The accuracy of the Random Forests model is :\t 0.8527054108216433\n"
     ]
    }
   ],
   "source": [
    "# Random Forest\n",
    "from sklearn.ensemble import RandomForestClassifier\n",
    "from sklearn import metrics\n",
    "\n",
    "random_forest = RandomForestClassifier(n_estimators=100, random_state=17)\n",
    "random_forest.fit(X_train_pesection, y_train_pesection)\n",
    "random_forest_preds = random_forest.predict(X_test_pesection)\n",
    "print('The accuracy of the Random Forests model is :\\t',metrics.accuracy_score(random_forest_preds,y_test_pesection))"
   ]
  },
  {
   "cell_type": "markdown",
   "id": "49871416",
   "metadata": {
    "papermill": {
     "duration": 0.024068,
     "end_time": "2024-01-23T12:11:18.011120",
     "exception": false,
     "start_time": "2024-01-23T12:11:17.987052",
     "status": "completed"
    },
    "tags": []
   },
   "source": [
    "# **pe header features**"
   ]
  },
  {
   "cell_type": "code",
   "execution_count": 63,
   "id": "fc93102d",
   "metadata": {
    "execution": {
     "iopub.execute_input": "2024-01-23T12:11:18.058569Z",
     "iopub.status.busy": "2024-01-23T12:11:18.058135Z",
     "iopub.status.idle": "2024-01-23T12:11:19.773004Z",
     "shell.execute_reply": "2024-01-23T12:11:19.771571Z"
    },
    "papermill": {
     "duration": 1.741682,
     "end_time": "2024-01-23T12:11:19.776510",
     "exception": false,
     "start_time": "2024-01-23T12:11:18.034828",
     "status": "completed"
    },
    "tags": []
   },
   "outputs": [],
   "source": [
    "pecompact = pd.read_pickle('/kaggle/input/packer-balance-pickle/pecompact_balance.pickle')\n",
    "pecompact = pecompact.drop(['sample_sha1','benign','unpacked_sample_sha1','unpacked_sample_id'], axis=1)\n",
    "pecompact = pecompact.drop(['benign_vt','malicious_vt'], axis=1)\n",
    "string_columns = pecompact.select_dtypes(include=['object']).columns\n",
    "pecompact = pecompact.drop(string_columns, axis=1)"
   ]
  },
  {
   "cell_type": "code",
   "execution_count": 64,
   "id": "77ac8472",
   "metadata": {
    "execution": {
     "iopub.execute_input": "2024-01-23T12:11:19.827184Z",
     "iopub.status.busy": "2024-01-23T12:11:19.826802Z",
     "iopub.status.idle": "2024-01-23T12:11:21.027756Z",
     "shell.execute_reply": "2024-01-23T12:11:21.026219Z"
    },
    "papermill": {
     "duration": 1.229195,
     "end_time": "2024-01-23T12:11:21.030568",
     "exception": false,
     "start_time": "2024-01-23T12:11:19.801373",
     "status": "completed"
    },
    "tags": []
   },
   "outputs": [
    {
     "name": "stdout",
     "output_type": "stream",
     "text": [
      "removing 13000 features\n",
      "removing 2500 features\n",
      "removing 2 features\n",
      "removing 16900 features\n",
      "removing 66 features\n",
      "removing 19169 features\n",
      "removing 4306 features\n",
      "removing 550 features\n"
     ]
    }
   ],
   "source": [
    "header = remove_cols(pecompact, [c for c in cols if c.startswith('ngram_')])\n",
    "header = remove_cols(pecompact, [c for c in cols if c.startswith('opcode_')])\n",
    "header = remove_cols(pecompact, [c for c in cols if c.startswith('generic_')])\n",
    "header = remove_cols(pecompact, [c for c in cols if c.startswith('string_')])\n",
    "header = remove_cols(pecompact, [c for c in cols if c.startswith('rich_')])\n",
    "header = remove_cols(pecompact, [c for c in cols if c.startswith('imp_') or 'api_import_nb' == c])\n",
    "header = remove_cols(pecompact, [c for c in cols if c.endswith('.dll') or 'dll_import_nb' == c])\n",
    "header = remove_cols(pecompact, [c for c in cols if c.startswith('pesection')])\n",
    "# header = remove_cols(pecompact, [c for c in cols if c.startswith('header_')])"
   ]
  },
  {
   "cell_type": "code",
   "execution_count": 65,
   "id": "c0ec6da9",
   "metadata": {
    "execution": {
     "iopub.execute_input": "2024-01-23T12:11:21.077809Z",
     "iopub.status.busy": "2024-01-23T12:11:21.076902Z",
     "iopub.status.idle": "2024-01-23T12:11:21.090429Z",
     "shell.execute_reply": "2024-01-23T12:11:21.089074Z"
    },
    "papermill": {
     "duration": 0.04013,
     "end_time": "2024-01-23T12:11:21.093472",
     "exception": false,
     "start_time": "2024-01-23T12:11:21.053342",
     "status": "completed"
    },
    "tags": []
   },
   "outputs": [],
   "source": [
    "df_7000_header = header.sample(n=7000, random_state=102)\n",
    "df_3000_header = header.drop(df_7000.index)\n",
    "data_header = df_7000_header.sample(n=3500, random_state=102)"
   ]
  },
  {
   "cell_type": "code",
   "execution_count": 66,
   "id": "46d82406",
   "metadata": {
    "execution": {
     "iopub.execute_input": "2024-01-23T12:11:21.143805Z",
     "iopub.status.busy": "2024-01-23T12:11:21.142948Z",
     "iopub.status.idle": "2024-01-23T12:11:21.185695Z",
     "shell.execute_reply": "2024-01-23T12:11:21.184045Z"
    },
    "papermill": {
     "duration": 0.070698,
     "end_time": "2024-01-23T12:11:21.188387",
     "exception": false,
     "start_time": "2024-01-23T12:11:21.117689",
     "status": "completed"
    },
    "tags": []
   },
   "outputs": [
    {
     "name": "stdout",
     "output_type": "stream",
     "text": [
      "Packed Malware: 2951 samples\n",
      "Packed Benign: 549 samples\n",
      "Total TRAIN set: 3500 samples\n",
      "Packed Malware: 549 samples\n",
      "Packed Benign: 549 samples\n",
      "Total TRAIN set: 1098 samples\n",
      "Packed Malware: 499 samples\n",
      "Packed Benign: 499 samples\n",
      "Total TEST set: 998 samples\n"
     ]
    }
   ],
   "source": [
    "#Kiểm tra số lượng mẫu\n",
    "PM = data_header[(data_header['malicious'] == True) & (data_header['packed'] == True)].shape[0]\n",
    "PB = data_header[(data_header['malicious'] == False) & (data_header['packed'] == True)].shape[0]\n",
    "print('Packed Malware: %i samples' % PM)\n",
    "print('Packed Benign: %i samples' % PB)\n",
    "print('Total TRAIN set: %i samples'% (PM+PB))\n",
    "\n",
    "#Chia tỉ lệ 50 - 50\n",
    "data_PM_header = data_header[(data_header['malicious'] == True) & (data_header['packed'] == True)].sample(n=(PM-PB), random_state=102)\n",
    "data_header = data_header.drop(data_PM_header.index)\n",
    "      \n",
    "#Số lượng tập train\n",
    "PM = data_header[(data_header['malicious'] == True) & (data_header['packed'] == True)].shape[0]\n",
    "PB = data_header[(data_header['malicious'] == False) & (data_header['packed'] == True)].shape[0]\n",
    "print('Packed Malware: %i samples' % PM)\n",
    "print('Packed Benign: %i samples' % PB)\n",
    "print('Total TRAIN set: %i samples'% (PM+PB))\n",
    "\n",
    "#Xử lý tập train\n",
    "y = data_header['malicious'].values\n",
    "data_header= data_header.drop(['malicious','packed'], axis=1)\n",
    "\n",
    "PM = df_3000_header[(df_3000_header['malicious'] == True) & (df_3000_header['packed'] == True)].shape[0]\n",
    "PB = df_3000_header[(df_3000_header['malicious'] == False) & (df_3000_header['packed'] == True)].shape[0]\n",
    "\n",
    "df_3000_PM_header = df_3000_header[(df_3000_header['malicious'] == True) & (df_3000_header['packed'] == True)].sample(n=(PM-PB), random_state=102)\n",
    "df_3000_header= df_3000_header.drop(df_3000_PM_header.index)\n",
    "\n",
    "PM = df_3000_header[(df_3000_header['malicious'] == True) & (df_3000_header['packed'] == True)].shape[0]\n",
    "PB = df_3000_header[(df_3000_header['malicious'] == False) & (df_3000_header['packed'] == True)].shape[0]\n",
    "\n",
    "print('Packed Malware: %i samples' % PM)\n",
    "print('Packed Benign: %i samples' % PB)\n",
    "print('Total TEST set: %i samples'% (PM+PB))"
   ]
  },
  {
   "cell_type": "code",
   "execution_count": 67,
   "id": "949cced4",
   "metadata": {
    "execution": {
     "iopub.execute_input": "2024-01-23T12:11:21.233840Z",
     "iopub.status.busy": "2024-01-23T12:11:21.232825Z",
     "iopub.status.idle": "2024-01-23T12:11:21.245793Z",
     "shell.execute_reply": "2024-01-23T12:11:21.244505Z"
    },
    "papermill": {
     "duration": 0.038058,
     "end_time": "2024-01-23T12:11:21.248047",
     "exception": false,
     "start_time": "2024-01-23T12:11:21.209989",
     "status": "completed"
    },
    "tags": []
   },
   "outputs": [],
   "source": [
    "# model = SelectFromModel(fsel, prefit=True)\n",
    "\n",
    "X_train_header = data_header\n",
    "X_test_header = df_3000_header.drop(['malicious','packed'], axis=1)\n",
    "\n",
    "data_header = data_header.loc[:, (data_header != 0).any(axis=0)]\n",
    "x_train_header = data_header\n",
    "X_test_header = df_3000_header.drop(['malicious','packed'], axis=1)\n",
    "y_train_header = y\n",
    "y_test_header = df_3000_header['malicious'].values"
   ]
  },
  {
   "cell_type": "code",
   "execution_count": 68,
   "id": "3f530f5a",
   "metadata": {
    "execution": {
     "iopub.execute_input": "2024-01-23T12:11:21.292088Z",
     "iopub.status.busy": "2024-01-23T12:11:21.290857Z",
     "iopub.status.idle": "2024-01-23T12:11:21.598461Z",
     "shell.execute_reply": "2024-01-23T12:11:21.596620Z"
    },
    "papermill": {
     "duration": 0.332728,
     "end_time": "2024-01-23T12:11:21.601409",
     "exception": false,
     "start_time": "2024-01-23T12:11:21.268681",
     "status": "completed"
    },
    "tags": []
   },
   "outputs": [
    {
     "name": "stdout",
     "output_type": "stream",
     "text": [
      "The accuracy of the Random Forests model is :\t 0.8907815631262525\n"
     ]
    }
   ],
   "source": [
    "# Random Forest\n",
    "from sklearn.ensemble import RandomForestClassifier\n",
    "from sklearn import metrics\n",
    "\n",
    "random_forest = RandomForestClassifier(n_estimators=100, random_state=17)\n",
    "random_forest.fit(X_train_header, y_train_header)\n",
    "random_forest_preds = random_forest.predict(X_test_header)\n",
    "print('The accuracy of the Random Forests model is :\\t',metrics.accuracy_score(random_forest_preds,y_test_header))"
   ]
  }
 ],
 "metadata": {
  "kaggle": {
   "accelerator": "none",
   "dataSources": [
    {
     "datasetId": 4192384,
     "sourceId": 7262652,
     "sourceType": "datasetVersion"
    }
   ],
   "dockerImageVersionId": 30626,
   "isGpuEnabled": false,
   "isInternetEnabled": true,
   "language": "python",
   "sourceType": "notebook"
  },
  "kernelspec": {
   "display_name": "Python 3",
   "language": "python",
   "name": "python3"
  },
  "language_info": {
   "codemirror_mode": {
    "name": "ipython",
    "version": 3
   },
   "file_extension": ".py",
   "mimetype": "text/x-python",
   "name": "python",
   "nbconvert_exporter": "python",
   "pygments_lexer": "ipython3",
   "version": "3.10.12"
  },
  "papermill": {
   "default_parameters": {},
   "duration": 70.37437,
   "end_time": "2024-01-23T12:11:22.449878",
   "environment_variables": {},
   "exception": null,
   "input_path": "__notebook__.ipynb",
   "output_path": "__notebook__.ipynb",
   "parameters": {},
   "start_time": "2024-01-23T12:10:12.075508",
   "version": "2.4.0"
  }
 },
 "nbformat": 4,
 "nbformat_minor": 5
}
