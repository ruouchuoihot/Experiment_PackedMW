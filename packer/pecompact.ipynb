{
 "cells": [
  {
   "cell_type": "code",
   "execution_count": 1,
   "id": "e6fb7cba",
   "metadata": {
    "execution": {
     "iopub.execute_input": "2023-12-27T01:17:22.159435Z",
     "iopub.status.busy": "2023-12-27T01:17:22.159030Z",
     "iopub.status.idle": "2023-12-27T01:17:24.684742Z",
     "shell.execute_reply": "2023-12-27T01:17:24.683572Z"
    },
    "papermill": {
     "duration": 2.545476,
     "end_time": "2023-12-27T01:17:24.687553",
     "exception": false,
     "start_time": "2023-12-27T01:17:22.142077",
     "status": "completed"
    },
    "tags": []
   },
   "outputs": [],
   "source": [
    "import pandas as pd\n",
    "import numpy as np\n",
    "import sklearn\n",
    "import sklearn.naive_bayes\n",
    "import sklearn.ensemble as ske\n",
    "import sklearn.neighbors\n",
    "import sklearn.pipeline\n",
    "import sklearn.linear_model\n",
    "import joblib\n",
    "from sklearn import preprocessing\n",
    "from sklearn import tree, linear_model\n",
    "from sklearn.metrics import confusion_matrix\n",
    "from sklearn.metrics import classification_report\n",
    "from sklearn.feature_selection import SelectFromModel\n",
    "import sys\n",
    "import sqlite3\n",
    "import importlib\n",
    "import matplotlib.pyplot as plt\n",
    "import seaborn as sn\n",
    "from sklearn import metrics"
   ]
  },
  {
   "cell_type": "code",
   "execution_count": 2,
   "id": "b5a704d0",
   "metadata": {
    "execution": {
     "iopub.execute_input": "2023-12-27T01:17:24.718742Z",
     "iopub.status.busy": "2023-12-27T01:17:24.718132Z",
     "iopub.status.idle": "2023-12-27T01:17:32.047296Z",
     "shell.execute_reply": "2023-12-27T01:17:32.045101Z"
    },
    "papermill": {
     "duration": 7.347792,
     "end_time": "2023-12-27T01:17:32.050043",
     "exception": false,
     "start_time": "2023-12-27T01:17:24.702251",
     "status": "completed"
    },
    "tags": []
   },
   "outputs": [],
   "source": [
    "pecompact = pd.read_pickle('/kaggle/input/packer-balance-pickle/pecompact_balance.pickle')"
   ]
  },
  {
   "cell_type": "code",
   "execution_count": 3,
   "id": "3d74aa78",
   "metadata": {
    "execution": {
     "iopub.execute_input": "2023-12-27T01:17:32.081694Z",
     "iopub.status.busy": "2023-12-27T01:17:32.081261Z",
     "iopub.status.idle": "2023-12-27T01:17:32.735979Z",
     "shell.execute_reply": "2023-12-27T01:17:32.733945Z"
    },
    "papermill": {
     "duration": 0.674269,
     "end_time": "2023-12-27T01:17:32.738948",
     "exception": false,
     "start_time": "2023-12-27T01:17:32.064679",
     "status": "completed"
    },
    "tags": []
   },
   "outputs": [],
   "source": [
    "pecompact = pecompact.drop(['sample_sha1','benign','unpacked_sample_sha1','unpacked_sample_id'], axis=1)\n",
    "pecompact = pecompact.drop(['benign_vt','malicious_vt'], axis=1)"
   ]
  },
  {
   "cell_type": "code",
   "execution_count": 4,
   "id": "919abdb3",
   "metadata": {
    "execution": {
     "iopub.execute_input": "2023-12-27T01:17:32.773375Z",
     "iopub.status.busy": "2023-12-27T01:17:32.772953Z",
     "iopub.status.idle": "2023-12-27T01:17:32.997874Z",
     "shell.execute_reply": "2023-12-27T01:17:32.996235Z"
    },
    "papermill": {
     "duration": 0.245366,
     "end_time": "2023-12-27T01:17:33.000844",
     "exception": false,
     "start_time": "2023-12-27T01:17:32.755478",
     "status": "completed"
    },
    "tags": []
   },
   "outputs": [],
   "source": [
    "string_columns = pecompact.select_dtypes(include=['object']).columns\n",
    "pecompact = pecompact.drop(string_columns, axis=1)"
   ]
  },
  {
   "cell_type": "code",
   "execution_count": 5,
   "id": "614ff853",
   "metadata": {
    "execution": {
     "iopub.execute_input": "2023-12-27T01:17:33.032116Z",
     "iopub.status.busy": "2023-12-27T01:17:33.031663Z",
     "iopub.status.idle": "2023-12-27T01:17:33.072875Z",
     "shell.execute_reply": "2023-12-27T01:17:33.071492Z"
    },
    "papermill": {
     "duration": 0.060059,
     "end_time": "2023-12-27T01:17:33.075417",
     "exception": false,
     "start_time": "2023-12-27T01:17:33.015358",
     "status": "completed"
    },
    "tags": []
   },
   "outputs": [
    {
     "data": {
      "text/html": [
       "<div>\n",
       "<style scoped>\n",
       "    .dataframe tbody tr th:only-of-type {\n",
       "        vertical-align: middle;\n",
       "    }\n",
       "\n",
       "    .dataframe tbody tr th {\n",
       "        vertical-align: top;\n",
       "    }\n",
       "\n",
       "    .dataframe thead th {\n",
       "        text-align: right;\n",
       "    }\n",
       "</style>\n",
       "<table border=\"1\" class=\"dataframe\">\n",
       "  <thead>\n",
       "    <tr style=\"text-align: right;\">\n",
       "      <th></th>\n",
       "      <th>malicious</th>\n",
       "      <th>packed</th>\n",
       "      <th>imp_setupremovefilelogentrya</th>\n",
       "      <th>imp_vardeccmp</th>\n",
       "      <th>imp_setdlgitemint</th>\n",
       "      <th>imp_?append@?$basic_string@du?$char_traits@d@std@@v?$allocator@d@2@@std@@qaeaav12@abv12@ii@z</th>\n",
       "      <th>imp_zwwritefile</th>\n",
       "      <th>imp_glstencilop</th>\n",
       "      <th>imp_comparelinkinforeferents</th>\n",
       "      <th>imp__setmbcp</th>\n",
       "      <th>...</th>\n",
       "      <th>opcode_xor sub mov</th>\n",
       "      <th>opcode_xor sub mov add</th>\n",
       "      <th>opcode_xor test</th>\n",
       "      <th>opcode_xor test je</th>\n",
       "      <th>opcode_xor xor</th>\n",
       "      <th>opcode_xor xor mov</th>\n",
       "      <th>opcode_xor xor pop</th>\n",
       "      <th>opcode_xor xor pop mov</th>\n",
       "      <th>opcode_xor xor xor</th>\n",
       "      <th>opcode_xor xor xor pop</th>\n",
       "    </tr>\n",
       "  </thead>\n",
       "  <tbody>\n",
       "    <tr>\n",
       "      <th>1</th>\n",
       "      <td>True</td>\n",
       "      <td>True</td>\n",
       "      <td>False</td>\n",
       "      <td>False</td>\n",
       "      <td>False</td>\n",
       "      <td>False</td>\n",
       "      <td>False</td>\n",
       "      <td>False</td>\n",
       "      <td>False</td>\n",
       "      <td>False</td>\n",
       "      <td>...</td>\n",
       "      <td>0.0</td>\n",
       "      <td>0.0</td>\n",
       "      <td>0.0</td>\n",
       "      <td>0.0</td>\n",
       "      <td>0.0</td>\n",
       "      <td>0.0</td>\n",
       "      <td>0.0</td>\n",
       "      <td>0.0</td>\n",
       "      <td>0.0</td>\n",
       "      <td>0.0</td>\n",
       "    </tr>\n",
       "    <tr>\n",
       "      <th>5</th>\n",
       "      <td>True</td>\n",
       "      <td>True</td>\n",
       "      <td>False</td>\n",
       "      <td>False</td>\n",
       "      <td>False</td>\n",
       "      <td>False</td>\n",
       "      <td>False</td>\n",
       "      <td>False</td>\n",
       "      <td>False</td>\n",
       "      <td>False</td>\n",
       "      <td>...</td>\n",
       "      <td>-1.0</td>\n",
       "      <td>-1.0</td>\n",
       "      <td>-1.0</td>\n",
       "      <td>-1.0</td>\n",
       "      <td>-1.0</td>\n",
       "      <td>-1.0</td>\n",
       "      <td>-1.0</td>\n",
       "      <td>-1.0</td>\n",
       "      <td>-1.0</td>\n",
       "      <td>-1.0</td>\n",
       "    </tr>\n",
       "    <tr>\n",
       "      <th>6</th>\n",
       "      <td>True</td>\n",
       "      <td>True</td>\n",
       "      <td>False</td>\n",
       "      <td>False</td>\n",
       "      <td>False</td>\n",
       "      <td>False</td>\n",
       "      <td>False</td>\n",
       "      <td>False</td>\n",
       "      <td>False</td>\n",
       "      <td>False</td>\n",
       "      <td>...</td>\n",
       "      <td>0.0</td>\n",
       "      <td>0.0</td>\n",
       "      <td>0.0</td>\n",
       "      <td>0.0</td>\n",
       "      <td>0.0</td>\n",
       "      <td>0.0</td>\n",
       "      <td>0.0</td>\n",
       "      <td>0.0</td>\n",
       "      <td>0.0</td>\n",
       "      <td>0.0</td>\n",
       "    </tr>\n",
       "    <tr>\n",
       "      <th>9</th>\n",
       "      <td>False</td>\n",
       "      <td>True</td>\n",
       "      <td>False</td>\n",
       "      <td>False</td>\n",
       "      <td>False</td>\n",
       "      <td>False</td>\n",
       "      <td>False</td>\n",
       "      <td>False</td>\n",
       "      <td>False</td>\n",
       "      <td>False</td>\n",
       "      <td>...</td>\n",
       "      <td>0.0</td>\n",
       "      <td>0.0</td>\n",
       "      <td>0.0</td>\n",
       "      <td>0.0</td>\n",
       "      <td>0.0</td>\n",
       "      <td>0.0</td>\n",
       "      <td>0.0</td>\n",
       "      <td>0.0</td>\n",
       "      <td>0.0</td>\n",
       "      <td>0.0</td>\n",
       "    </tr>\n",
       "    <tr>\n",
       "      <th>11</th>\n",
       "      <td>True</td>\n",
       "      <td>True</td>\n",
       "      <td>False</td>\n",
       "      <td>False</td>\n",
       "      <td>False</td>\n",
       "      <td>False</td>\n",
       "      <td>False</td>\n",
       "      <td>False</td>\n",
       "      <td>False</td>\n",
       "      <td>False</td>\n",
       "      <td>...</td>\n",
       "      <td>0.0</td>\n",
       "      <td>0.0</td>\n",
       "      <td>0.0</td>\n",
       "      <td>0.0</td>\n",
       "      <td>0.0</td>\n",
       "      <td>0.0</td>\n",
       "      <td>0.0</td>\n",
       "      <td>0.0</td>\n",
       "      <td>0.0</td>\n",
       "      <td>0.0</td>\n",
       "    </tr>\n",
       "  </tbody>\n",
       "</table>\n",
       "<p>5 rows × 56526 columns</p>\n",
       "</div>"
      ],
      "text/plain": [
       "    malicious  packed  imp_setupremovefilelogentrya  imp_vardeccmp  \\\n",
       "1        True    True                         False          False   \n",
       "5        True    True                         False          False   \n",
       "6        True    True                         False          False   \n",
       "9       False    True                         False          False   \n",
       "11       True    True                         False          False   \n",
       "\n",
       "    imp_setdlgitemint  \\\n",
       "1               False   \n",
       "5               False   \n",
       "6               False   \n",
       "9               False   \n",
       "11              False   \n",
       "\n",
       "    imp_?append@?$basic_string@du?$char_traits@d@std@@v?$allocator@d@2@@std@@qaeaav12@abv12@ii@z  \\\n",
       "1                                               False                                              \n",
       "5                                               False                                              \n",
       "6                                               False                                              \n",
       "9                                               False                                              \n",
       "11                                              False                                              \n",
       "\n",
       "    imp_zwwritefile  imp_glstencilop  imp_comparelinkinforeferents  \\\n",
       "1             False            False                         False   \n",
       "5             False            False                         False   \n",
       "6             False            False                         False   \n",
       "9             False            False                         False   \n",
       "11            False            False                         False   \n",
       "\n",
       "    imp__setmbcp  ...  opcode_xor sub mov  opcode_xor sub mov add  \\\n",
       "1          False  ...                 0.0                     0.0   \n",
       "5          False  ...                -1.0                    -1.0   \n",
       "6          False  ...                 0.0                     0.0   \n",
       "9          False  ...                 0.0                     0.0   \n",
       "11         False  ...                 0.0                     0.0   \n",
       "\n",
       "    opcode_xor test  opcode_xor test je  opcode_xor xor  opcode_xor xor mov  \\\n",
       "1               0.0                 0.0             0.0                 0.0   \n",
       "5              -1.0                -1.0            -1.0                -1.0   \n",
       "6               0.0                 0.0             0.0                 0.0   \n",
       "9               0.0                 0.0             0.0                 0.0   \n",
       "11              0.0                 0.0             0.0                 0.0   \n",
       "\n",
       "    opcode_xor xor pop  opcode_xor xor pop mov  opcode_xor xor xor  \\\n",
       "1                  0.0                     0.0                 0.0   \n",
       "5                 -1.0                    -1.0                -1.0   \n",
       "6                  0.0                     0.0                 0.0   \n",
       "9                  0.0                     0.0                 0.0   \n",
       "11                 0.0                     0.0                 0.0   \n",
       "\n",
       "    opcode_xor xor xor pop  \n",
       "1                      0.0  \n",
       "5                     -1.0  \n",
       "6                      0.0  \n",
       "9                      0.0  \n",
       "11                     0.0  \n",
       "\n",
       "[5 rows x 56526 columns]"
      ]
     },
     "execution_count": 5,
     "metadata": {},
     "output_type": "execute_result"
    }
   ],
   "source": [
    "pecompact.head()"
   ]
  },
  {
   "cell_type": "code",
   "execution_count": 6,
   "id": "61a9d530",
   "metadata": {
    "execution": {
     "iopub.execute_input": "2023-12-27T01:17:33.107477Z",
     "iopub.status.busy": "2023-12-27T01:17:33.107086Z",
     "iopub.status.idle": "2023-12-27T01:17:33.879142Z",
     "shell.execute_reply": "2023-12-27T01:17:33.877486Z"
    },
    "papermill": {
     "duration": 0.791062,
     "end_time": "2023-12-27T01:17:33.881807",
     "exception": false,
     "start_time": "2023-12-27T01:17:33.090745",
     "status": "completed"
    },
    "tags": []
   },
   "outputs": [],
   "source": [
    "df_7000 = pecompact.sample(n=7000, random_state=102)\n",
    "df_3000 = pecompact.drop(df_7000.index)"
   ]
  },
  {
   "cell_type": "code",
   "execution_count": 7,
   "id": "2b4946a3",
   "metadata": {
    "execution": {
     "iopub.execute_input": "2023-12-27T01:17:33.916799Z",
     "iopub.status.busy": "2023-12-27T01:17:33.916377Z",
     "iopub.status.idle": "2023-12-27T01:17:34.288800Z",
     "shell.execute_reply": "2023-12-27T01:17:34.287014Z"
    },
    "papermill": {
     "duration": 0.394557,
     "end_time": "2023-12-27T01:17:34.291708",
     "exception": false,
     "start_time": "2023-12-27T01:17:33.897151",
     "status": "completed"
    },
    "tags": []
   },
   "outputs": [],
   "source": [
    "data = df_7000.sample(n=3500, random_state=102)"
   ]
  },
  {
   "cell_type": "code",
   "execution_count": 8,
   "id": "d492ea4a",
   "metadata": {
    "execution": {
     "iopub.execute_input": "2023-12-27T01:17:34.323590Z",
     "iopub.status.busy": "2023-12-27T01:17:34.323134Z",
     "iopub.status.idle": "2023-12-27T01:17:34.596433Z",
     "shell.execute_reply": "2023-12-27T01:17:34.595266Z"
    },
    "papermill": {
     "duration": 0.292348,
     "end_time": "2023-12-27T01:17:34.599001",
     "exception": false,
     "start_time": "2023-12-27T01:17:34.306653",
     "status": "completed"
    },
    "tags": []
   },
   "outputs": [
    {
     "name": "stdout",
     "output_type": "stream",
     "text": [
      "Packed Malware: 2951 samples\n",
      "Packed Benign: 549 samples\n",
      "Total TRAIN set: 3500 samples\n"
     ]
    }
   ],
   "source": [
    "#Kiểm tra số lượng mẫu\n",
    "PM = data[(data['malicious'] == True) & (data['packed'] == True)].shape[0]\n",
    "PB = data[(data['malicious'] == False) & (data['packed'] == True)].shape[0]\n",
    "print('Packed Malware: %i samples' % PM)\n",
    "print('Packed Benign: %i samples' % PB)\n",
    "print('Total TRAIN set: %i samples'% (PM+PB))"
   ]
  },
  {
   "cell_type": "code",
   "execution_count": 9,
   "id": "f2e96b4a",
   "metadata": {
    "execution": {
     "iopub.execute_input": "2023-12-27T01:17:34.631633Z",
     "iopub.status.busy": "2023-12-27T01:17:34.631235Z",
     "iopub.status.idle": "2023-12-27T01:17:35.085427Z",
     "shell.execute_reply": "2023-12-27T01:17:35.083619Z"
    },
    "papermill": {
     "duration": 0.473151,
     "end_time": "2023-12-27T01:17:35.088036",
     "exception": false,
     "start_time": "2023-12-27T01:17:34.614885",
     "status": "completed"
    },
    "tags": []
   },
   "outputs": [],
   "source": [
    "#Chia tỉ lệ 50 - 50\n",
    "data_PM = data[(data['malicious'] == True) & (data['packed'] == True)].sample(n=(PM-PB), random_state=102)\n",
    "data = data.drop(data_PM.index)"
   ]
  },
  {
   "cell_type": "code",
   "execution_count": 10,
   "id": "86786e42",
   "metadata": {
    "execution": {
     "iopub.execute_input": "2023-12-27T01:17:35.182246Z",
     "iopub.status.busy": "2023-12-27T01:17:35.181873Z",
     "iopub.status.idle": "2023-12-27T01:17:35.269183Z",
     "shell.execute_reply": "2023-12-27T01:17:35.267570Z"
    },
    "papermill": {
     "duration": 0.168145,
     "end_time": "2023-12-27T01:17:35.271309",
     "exception": false,
     "start_time": "2023-12-27T01:17:35.103164",
     "status": "completed"
    },
    "tags": []
   },
   "outputs": [
    {
     "name": "stdout",
     "output_type": "stream",
     "text": [
      "Packed Malware: 549 samples\n",
      "Packed Benign: 549 samples\n",
      "Total TRAIN set: 1098 samples\n"
     ]
    }
   ],
   "source": [
    "#Số lượng tập train\n",
    "PM = data[(data['malicious'] == True) & (data['packed'] == True)].shape[0]\n",
    "PB = data[(data['malicious'] == False) & (data['packed'] == True)].shape[0]\n",
    "print('Packed Malware: %i samples' % PM)\n",
    "print('Packed Benign: %i samples' % PB)\n",
    "print('Total TRAIN set: %i samples'% (PM+PB))"
   ]
  },
  {
   "cell_type": "code",
   "execution_count": 11,
   "id": "18799b32",
   "metadata": {
    "execution": {
     "iopub.execute_input": "2023-12-27T01:17:35.303755Z",
     "iopub.status.busy": "2023-12-27T01:17:35.303280Z",
     "iopub.status.idle": "2023-12-27T01:17:35.341120Z",
     "shell.execute_reply": "2023-12-27T01:17:35.339515Z"
    },
    "papermill": {
     "duration": 0.05778,
     "end_time": "2023-12-27T01:17:35.344230",
     "exception": false,
     "start_time": "2023-12-27T01:17:35.286450",
     "status": "completed"
    },
    "tags": []
   },
   "outputs": [],
   "source": [
    "#Xử lý tập train\n",
    "y = data['malicious'].values\n",
    "data = data.drop(['malicious','packed'], axis=1)"
   ]
  },
  {
   "cell_type": "code",
   "execution_count": 12,
   "id": "42420284",
   "metadata": {
    "execution": {
     "iopub.execute_input": "2023-12-27T01:17:35.376477Z",
     "iopub.status.busy": "2023-12-27T01:17:35.376100Z",
     "iopub.status.idle": "2023-12-27T01:17:35.977349Z",
     "shell.execute_reply": "2023-12-27T01:17:35.975669Z"
    },
    "papermill": {
     "duration": 0.620542,
     "end_time": "2023-12-27T01:17:35.980211",
     "exception": false,
     "start_time": "2023-12-27T01:17:35.359669",
     "status": "completed"
    },
    "tags": []
   },
   "outputs": [
    {
     "name": "stdout",
     "output_type": "stream",
     "text": [
      "Packed Malware: 499 samples\n",
      "Packed Benign: 499 samples\n",
      "Total TEST set: 998 samples\n"
     ]
    }
   ],
   "source": [
    "PM = df_3000[(df_3000['malicious'] == True) & (df_3000['packed'] == True)].shape[0]\n",
    "PB = df_3000[(df_3000['malicious'] == False) & (df_3000['packed'] == True)].shape[0]\n",
    "\n",
    "df_3000_PM = df_3000[(df_3000['malicious'] == True) & (df_3000['packed'] == True)].sample(n=(PM-PB), random_state=102)\n",
    "df_3000 = df_3000.drop(df_3000_PM.index)\n",
    "\n",
    "PM = df_3000[(df_3000['malicious'] == True) & (df_3000['packed'] == True)].shape[0]\n",
    "PB = df_3000[(df_3000['malicious'] == False) & (df_3000['packed'] == True)].shape[0]\n",
    "\n",
    "print('Packed Malware: %i samples' % PM)\n",
    "print('Packed Benign: %i samples' % PB)\n",
    "print('Total TEST set: %i samples'% (PM+PB))"
   ]
  },
  {
   "cell_type": "code",
   "execution_count": 13,
   "id": "991170cd",
   "metadata": {
    "execution": {
     "iopub.execute_input": "2023-12-27T01:17:36.012060Z",
     "iopub.status.busy": "2023-12-27T01:17:36.011627Z",
     "iopub.status.idle": "2023-12-27T01:17:36.202198Z",
     "shell.execute_reply": "2023-12-27T01:17:36.200422Z"
    },
    "papermill": {
     "duration": 0.209541,
     "end_time": "2023-12-27T01:17:36.204982",
     "exception": false,
     "start_time": "2023-12-27T01:17:35.995441",
     "status": "completed"
    },
    "tags": []
   },
   "outputs": [],
   "source": [
    "# model = SelectFromModel(fsel, prefit=True)\n",
    "\n",
    "X_train = data\n",
    "X_test = df_3000.drop(['malicious','packed'], axis=1)\n",
    "\n",
    "data = data.loc[:, (data != 0).any(axis=0)]\n",
    "x_train = data\n",
    "X_test = df_3000.drop(['malicious','packed'], axis=1)\n",
    "y_train = y\n",
    "y_test = df_3000['malicious'].values"
   ]
  },
  {
   "cell_type": "code",
   "execution_count": 14,
   "id": "18b708a5",
   "metadata": {
    "execution": {
     "iopub.execute_input": "2023-12-27T01:17:36.240134Z",
     "iopub.status.busy": "2023-12-27T01:17:36.239731Z",
     "iopub.status.idle": "2023-12-27T01:17:39.043392Z",
     "shell.execute_reply": "2023-12-27T01:17:39.041641Z"
    },
    "papermill": {
     "duration": 2.825462,
     "end_time": "2023-12-27T01:17:39.046524",
     "exception": false,
     "start_time": "2023-12-27T01:17:36.221062",
     "status": "completed"
    },
    "tags": []
   },
   "outputs": [
    {
     "name": "stdout",
     "output_type": "stream",
     "text": [
      "The accuracy of the Random Forests model is :\t 0.8897795591182365\n"
     ]
    }
   ],
   "source": [
    "# Random Forest\n",
    "from sklearn.ensemble import RandomForestClassifier\n",
    "from sklearn import metrics\n",
    "\n",
    "random_forest = RandomForestClassifier(n_estimators=100, random_state=17)\n",
    "random_forest.fit(X_train, y_train)\n",
    "random_forest_preds = random_forest.predict(X_test)\n",
    "print('The accuracy of the Random Forests model is :\\t',metrics.accuracy_score(random_forest_preds,y_test))"
   ]
  },
  {
   "cell_type": "code",
   "execution_count": 15,
   "id": "638415e5",
   "metadata": {
    "execution": {
     "iopub.execute_input": "2023-12-27T01:17:39.078826Z",
     "iopub.status.busy": "2023-12-27T01:17:39.078461Z",
     "iopub.status.idle": "2023-12-27T01:17:39.127855Z",
     "shell.execute_reply": "2023-12-27T01:17:39.125857Z"
    },
    "papermill": {
     "duration": 0.069163,
     "end_time": "2023-12-27T01:17:39.130913",
     "exception": false,
     "start_time": "2023-12-27T01:17:39.061750",
     "status": "completed"
    },
    "tags": []
   },
   "outputs": [
    {
     "data": {
      "text/plain": [
       "ngram_b'\\t\\x06\\x03U\\x04\\x06'                       0.008017\n",
       "pesectionProcessed_resources_nb                    0.006055\n",
       "pesectionProcessed_resourcesMeanSize               0.005895\n",
       "ngram_b'de Sig'                                    0.005860\n",
       "ngram_b'\\x1d\\x13\\x01\\x01\\xff\\x04'                  0.005521\n",
       "                                                     ...   \n",
       "imp__zn7qwidget14setminimumsizeeii                 0.000000\n",
       "imp__zn7qwidget14setwindowtitleerk7qstring         0.000000\n",
       "imp__zn7qwidget15keyreleaseeventep9qkeyevent       0.000000\n",
       "imp__zn7qwidget15mousepresseventep11qmouseevent    0.000000\n",
       "opcode_xor xor xor pop                             0.000000\n",
       "Length: 56524, dtype: float64"
      ]
     },
     "execution_count": 15,
     "metadata": {},
     "output_type": "execute_result"
    }
   ],
   "source": [
    "feature_scores_rf = pd.Series(random_forest.feature_importances_, index=X_train.columns).sort_values(ascending=False)\n",
    "\n",
    "feature_scores_rf"
   ]
  },
  {
   "cell_type": "code",
   "execution_count": 16,
   "id": "2301f9b8",
   "metadata": {
    "execution": {
     "iopub.execute_input": "2023-12-27T01:17:39.163624Z",
     "iopub.status.busy": "2023-12-27T01:17:39.163217Z",
     "iopub.status.idle": "2023-12-27T01:17:39.200145Z",
     "shell.execute_reply": "2023-12-27T01:17:39.198631Z"
    },
    "papermill": {
     "duration": 0.056493,
     "end_time": "2023-12-27T01:17:39.203066",
     "exception": false,
     "start_time": "2023-12-27T01:17:39.146573",
     "status": "completed"
    },
    "tags": []
   },
   "outputs": [],
   "source": [
    "top50 = pd.Series(random_forest.feature_importances_, index=X_train.columns).sort_values(ascending=False).head(50)"
   ]
  },
  {
   "cell_type": "code",
   "execution_count": 17,
   "id": "e5d9775e",
   "metadata": {
    "execution": {
     "iopub.execute_input": "2023-12-27T01:17:39.236722Z",
     "iopub.status.busy": "2023-12-27T01:17:39.236232Z",
     "iopub.status.idle": "2023-12-27T01:17:39.249382Z",
     "shell.execute_reply": "2023-12-27T01:17:39.248575Z"
    },
    "papermill": {
     "duration": 0.032712,
     "end_time": "2023-12-27T01:17:39.251516",
     "exception": false,
     "start_time": "2023-12-27T01:17:39.218804",
     "status": "completed"
    },
    "tags": []
   },
   "outputs": [
    {
     "name": "stdout",
     "output_type": "stream",
     "text": [
      "'ngram': 17\n",
      "'opcode ngram': 0\n",
      "'generic': 2\n",
      "'strings': 0\n",
      "'rich header': 4\n",
      "'api import': 0\n",
      "'dll': 0\n",
      "'pe section': 22\n",
      "'pe header': 4\n"
     ]
    }
   ],
   "source": [
    "# Tạo DataFrame từ feature_scores_rf\n",
    "df_features = pd.DataFrame(top50, columns=['Score'])\n",
    "\n",
    "count_ngram = df_features[df_features.index.str.startswith('ngram_')].shape[0]\n",
    "count_opcode = df_features[df_features.index.str.startswith('opcode_')].shape[0]\n",
    "count_generic = df_features[df_features.index.str.startswith('generic_')].shape[0]\n",
    "count_string = df_features[df_features.index.str.startswith('string_')].shape[0]\n",
    "count_rich = df_features[df_features.index.str.startswith('rich_')].shape[0]\n",
    "# count_api = df_features[df_features.index.str.startswith('imp_') or 'api_import_nb' == c].shape[0]\n",
    "# count_dll = df_features[df_features.index.str.startswith('.dll') or 'dll_import_nb' == c].shape[0]\n",
    "count_api = df_features[df_features.index.str.startswith('imp_') | (df_features.index == 'api_import_nb')].shape[0]\n",
    "count_dll = df_features[df_features.index.str.endswith('.dll') | (df_features.index == 'dll_import_nb')].shape[0]\n",
    "count_section = df_features[df_features.index.str.startswith('pesection')].shape[0]\n",
    "count_header = df_features[df_features.index.str.startswith('header_')].shape[0]\n",
    "\n",
    "print(f\"'ngram': {count_ngram}\")\n",
    "print(f\"'opcode ngram': {count_opcode}\")\n",
    "print(f\"'generic': {count_generic}\")\n",
    "print(f\"'strings': {count_string}\")\n",
    "print(f\"'rich header': {count_rich}\")\n",
    "print(f\"'api import': {count_api}\")\n",
    "print(f\"'dll': {count_dll}\")\n",
    "print(f\"'pe section': {count_section}\")\n",
    "print(f\"'pe header': {count_header}\")"
   ]
  },
  {
   "cell_type": "code",
   "execution_count": 18,
   "id": "12c7a482",
   "metadata": {
    "execution": {
     "iopub.execute_input": "2023-12-27T01:17:39.285444Z",
     "iopub.status.busy": "2023-12-27T01:17:39.285016Z",
     "iopub.status.idle": "2023-12-27T01:17:39.296129Z",
     "shell.execute_reply": "2023-12-27T01:17:39.294457Z"
    },
    "papermill": {
     "duration": 0.031674,
     "end_time": "2023-12-27T01:17:39.298784",
     "exception": false,
     "start_time": "2023-12-27T01:17:39.267110",
     "status": "completed"
    },
    "tags": []
   },
   "outputs": [],
   "source": [
    "cols = list(pecompact.columns)"
   ]
  },
  {
   "cell_type": "markdown",
   "id": "bff51606",
   "metadata": {
    "papermill": {
     "duration": 0.015751,
     "end_time": "2023-12-27T01:17:39.330686",
     "exception": false,
     "start_time": "2023-12-27T01:17:39.314935",
     "status": "completed"
    },
    "tags": []
   },
   "source": [
    "# **ngram features**"
   ]
  },
  {
   "cell_type": "code",
   "execution_count": 19,
   "id": "1df0352a",
   "metadata": {
    "execution": {
     "iopub.execute_input": "2023-12-27T01:17:39.364763Z",
     "iopub.status.busy": "2023-12-27T01:17:39.363615Z",
     "iopub.status.idle": "2023-12-27T01:17:40.444306Z",
     "shell.execute_reply": "2023-12-27T01:17:40.443592Z"
    },
    "papermill": {
     "duration": 1.100011,
     "end_time": "2023-12-27T01:17:40.446641",
     "exception": false,
     "start_time": "2023-12-27T01:17:39.346630",
     "status": "completed"
    },
    "tags": []
   },
   "outputs": [],
   "source": [
    "pecompact = pd.read_pickle('/kaggle/input/packer-balance-pickle/pecompact_balance.pickle')\n",
    "pecompact = pecompact.drop(['sample_sha1','benign','unpacked_sample_sha1','unpacked_sample_id'], axis=1)\n",
    "pecompact = pecompact.drop(['benign_vt','malicious_vt'], axis=1)\n",
    "string_columns = pecompact.select_dtypes(include=['object']).columns\n",
    "pecompact = pecompact.drop(string_columns, axis=1)"
   ]
  },
  {
   "cell_type": "code",
   "execution_count": 20,
   "id": "72f0521c",
   "metadata": {
    "execution": {
     "iopub.execute_input": "2023-12-27T01:17:40.479227Z",
     "iopub.status.busy": "2023-12-27T01:17:40.478811Z",
     "iopub.status.idle": "2023-12-27T01:17:40.486266Z",
     "shell.execute_reply": "2023-12-27T01:17:40.484560Z"
    },
    "papermill": {
     "duration": 0.026956,
     "end_time": "2023-12-27T01:17:40.488980",
     "exception": false,
     "start_time": "2023-12-27T01:17:40.462024",
     "status": "completed"
    },
    "tags": []
   },
   "outputs": [],
   "source": [
    "def remove_cols(df, ll):\n",
    "    print(\"removing {} features\".format(len(ll)))\n",
    "    df.drop(columns=ll, axis=1, inplace=True)\n",
    "    return df"
   ]
  },
  {
   "cell_type": "code",
   "execution_count": 21,
   "id": "b1401869",
   "metadata": {
    "execution": {
     "iopub.execute_input": "2023-12-27T01:17:40.523039Z",
     "iopub.status.busy": "2023-12-27T01:17:40.521785Z",
     "iopub.status.idle": "2023-12-27T01:17:41.339638Z",
     "shell.execute_reply": "2023-12-27T01:17:41.337621Z"
    },
    "papermill": {
     "duration": 0.837319,
     "end_time": "2023-12-27T01:17:41.342211",
     "exception": false,
     "start_time": "2023-12-27T01:17:40.504892",
     "status": "completed"
    },
    "tags": []
   },
   "outputs": [
    {
     "name": "stdout",
     "output_type": "stream",
     "text": [
      "removing 2500 features\n",
      "removing 2 features\n",
      "removing 16900 features\n",
      "removing 66 features\n",
      "removing 19169 features\n",
      "removing 4306 features\n",
      "removing 550 features\n",
      "removing 29 features\n"
     ]
    }
   ],
   "source": [
    "# ngram = remove_cols(df, [c for c in cols if c.startswith('ngram_')])\n",
    "ngram = remove_cols(pecompact, [c for c in cols if c.startswith('opcode_')])\n",
    "ngram = remove_cols(pecompact, [c for c in cols if c.startswith('generic_')])\n",
    "ngram = remove_cols(pecompact, [c for c in cols if c.startswith('string_')])\n",
    "ngram = remove_cols(pecompact, [c for c in cols if c.startswith('rich_')])\n",
    "ngram = remove_cols(pecompact, [c for c in cols if c.startswith('imp_') or 'api_import_nb' == c])\n",
    "ngram = remove_cols(pecompact, [c for c in cols if c.endswith('.dll') or 'dll_import_nb' == c])\n",
    "ngram = remove_cols(pecompact, [c for c in cols if c.startswith('pesection')])\n",
    "ngram = remove_cols(pecompact, [c for c in cols if c.startswith('header_')])"
   ]
  },
  {
   "cell_type": "code",
   "execution_count": 22,
   "id": "8cdc03b3",
   "metadata": {
    "execution": {
     "iopub.execute_input": "2023-12-27T01:17:41.375162Z",
     "iopub.status.busy": "2023-12-27T01:17:41.374169Z",
     "iopub.status.idle": "2023-12-27T01:17:41.575334Z",
     "shell.execute_reply": "2023-12-27T01:17:41.573801Z"
    },
    "papermill": {
     "duration": 0.220355,
     "end_time": "2023-12-27T01:17:41.577901",
     "exception": false,
     "start_time": "2023-12-27T01:17:41.357546",
     "status": "completed"
    },
    "tags": []
   },
   "outputs": [],
   "source": [
    "df_7000_ngram = ngram.sample(n=7000, random_state=102)\n",
    "df_3000_ngram = ngram.drop(df_7000.index)\n",
    "data_ngram = df_7000_ngram.sample(n=3500, random_state=102)"
   ]
  },
  {
   "cell_type": "code",
   "execution_count": 23,
   "id": "705f4d7f",
   "metadata": {
    "execution": {
     "iopub.execute_input": "2023-12-27T01:17:41.611318Z",
     "iopub.status.busy": "2023-12-27T01:17:41.610959Z",
     "iopub.status.idle": "2023-12-27T01:17:41.868642Z",
     "shell.execute_reply": "2023-12-27T01:17:41.866530Z"
    },
    "papermill": {
     "duration": 0.277853,
     "end_time": "2023-12-27T01:17:41.871294",
     "exception": false,
     "start_time": "2023-12-27T01:17:41.593441",
     "status": "completed"
    },
    "tags": []
   },
   "outputs": [
    {
     "name": "stdout",
     "output_type": "stream",
     "text": [
      "Packed Malware: 2951 samples\n",
      "Packed Benign: 549 samples\n",
      "Total TRAIN set: 3500 samples\n",
      "Packed Malware: 549 samples\n",
      "Packed Benign: 549 samples\n",
      "Total TRAIN set: 1098 samples\n",
      "Packed Malware: 499 samples\n",
      "Packed Benign: 499 samples\n",
      "Total TEST set: 998 samples\n"
     ]
    }
   ],
   "source": [
    "#Kiểm tra số lượng mẫu\n",
    "PM = data_ngram[(data_ngram['malicious'] == True) & (data_ngram['packed'] == True)].shape[0]\n",
    "PB = data_ngram[(data_ngram['malicious'] == False) & (data_ngram['packed'] == True)].shape[0]\n",
    "print('Packed Malware: %i samples' % PM)\n",
    "print('Packed Benign: %i samples' % PB)\n",
    "print('Total TRAIN set: %i samples'% (PM+PB))\n",
    "\n",
    "#Chia tỉ lệ 50 - 50\n",
    "data_PM_ngram = data_ngram[(data_ngram['malicious'] == True) & (data_ngram['packed'] == True)].sample(n=(PM-PB), random_state=102)\n",
    "data_ngram = data_ngram.drop(data_PM_ngram.index)\n",
    "\n",
    "#Số lượng tập train\n",
    "PM = data_ngram[(data_ngram['malicious'] == True) & (data_ngram['packed'] == True)].shape[0]\n",
    "PB = data_ngram[(data_ngram['malicious'] == False) & (data_ngram['packed'] == True)].shape[0]\n",
    "print('Packed Malware: %i samples' % PM)\n",
    "print('Packed Benign: %i samples' % PB)\n",
    "print('Total TRAIN set: %i samples'% (PM+PB))\n",
    "\n",
    "#Xử lý tập train\n",
    "y = data_ngram['malicious'].values\n",
    "data_ngram = data_ngram.drop(['malicious','packed'], axis=1)\n",
    "\n",
    "PM = df_3000_ngram[(df_3000_ngram['malicious'] == True) & (df_3000_ngram['packed'] == True)].shape[0]\n",
    "PB = df_3000_ngram[(df_3000_ngram['malicious'] == False) & (df_3000_ngram['packed'] == True)].shape[0]\n",
    "\n",
    "df_3000_PM_ngram = df_3000_ngram[(df_3000_ngram['malicious'] == True) & (df_3000_ngram['packed'] == True)].sample(n=(PM-PB), random_state=102)\n",
    "df_3000_ngram = df_3000_ngram.drop(df_3000_PM.index)\n",
    "\n",
    "PM = df_3000_ngram[(df_3000_ngram['malicious'] == True) & (df_3000_ngram['packed'] == True)].shape[0]\n",
    "PB = df_3000_ngram[(df_3000_ngram['malicious'] == False) & (df_3000_ngram['packed'] == True)].shape[0]\n",
    "\n",
    "print('Packed Malware: %i samples' % PM)\n",
    "print('Packed Benign: %i samples' % PB)\n",
    "print('Total TEST set: %i samples'% (PM+PB))"
   ]
  },
  {
   "cell_type": "code",
   "execution_count": 24,
   "id": "acbcf7a5",
   "metadata": {
    "execution": {
     "iopub.execute_input": "2023-12-27T01:17:41.904905Z",
     "iopub.status.busy": "2023-12-27T01:17:41.904481Z",
     "iopub.status.idle": "2023-12-27T01:17:41.943481Z",
     "shell.execute_reply": "2023-12-27T01:17:41.941597Z"
    },
    "papermill": {
     "duration": 0.059224,
     "end_time": "2023-12-27T01:17:41.946187",
     "exception": false,
     "start_time": "2023-12-27T01:17:41.886963",
     "status": "completed"
    },
    "tags": []
   },
   "outputs": [],
   "source": [
    "# model = SelectFromModel(fsel, prefit=True)\n",
    "\n",
    "X_train_ngram = data_ngram\n",
    "X_test_ngram = df_3000_ngram.drop(['malicious','packed'], axis=1)\n",
    "\n",
    "data_ngram = data_ngram.loc[:, (data_ngram != 0).any(axis=0)]\n",
    "x_train_ngram = data_ngram\n",
    "X_test_ngram = df_3000_ngram.drop(['malicious','packed'], axis=1)\n",
    "y_train_ngram = y\n",
    "y_test_ngram = df_3000_ngram['malicious'].values"
   ]
  },
  {
   "cell_type": "code",
   "execution_count": 25,
   "id": "700ff17c",
   "metadata": {
    "execution": {
     "iopub.execute_input": "2023-12-27T01:17:41.980582Z",
     "iopub.status.busy": "2023-12-27T01:17:41.980158Z",
     "iopub.status.idle": "2023-12-27T01:17:44.188791Z",
     "shell.execute_reply": "2023-12-27T01:17:44.186304Z"
    },
    "papermill": {
     "duration": 2.228008,
     "end_time": "2023-12-27T01:17:44.191240",
     "exception": false,
     "start_time": "2023-12-27T01:17:41.963232",
     "status": "completed"
    },
    "tags": []
   },
   "outputs": [
    {
     "name": "stdout",
     "output_type": "stream",
     "text": [
      "The accuracy of the Random Forests model is :\t 0.9048096192384769\n"
     ]
    }
   ],
   "source": [
    "# Random Forest\n",
    "from sklearn.ensemble import RandomForestClassifier\n",
    "from sklearn import metrics\n",
    "\n",
    "random_forest = RandomForestClassifier(n_estimators=100, random_state=17)\n",
    "random_forest.fit(X_train_ngram, y_train_ngram)\n",
    "random_forest_preds = random_forest.predict(X_test_ngram)\n",
    "print('The accuracy of the Random Forests model is :\\t',metrics.accuracy_score(random_forest_preds,y_test_ngram))"
   ]
  },
  {
   "cell_type": "markdown",
   "id": "6d976c9d",
   "metadata": {
    "papermill": {
     "duration": 0.016877,
     "end_time": "2023-12-27T01:17:44.224197",
     "exception": false,
     "start_time": "2023-12-27T01:17:44.207320",
     "status": "completed"
    },
    "tags": []
   },
   "source": [
    "# **opcode features**"
   ]
  },
  {
   "cell_type": "code",
   "execution_count": 26,
   "id": "c3658d20",
   "metadata": {
    "execution": {
     "iopub.execute_input": "2023-12-27T01:17:44.260149Z",
     "iopub.status.busy": "2023-12-27T01:17:44.259778Z",
     "iopub.status.idle": "2023-12-27T01:17:45.220840Z",
     "shell.execute_reply": "2023-12-27T01:17:45.219122Z"
    },
    "papermill": {
     "duration": 0.982263,
     "end_time": "2023-12-27T01:17:45.223302",
     "exception": false,
     "start_time": "2023-12-27T01:17:44.241039",
     "status": "completed"
    },
    "tags": []
   },
   "outputs": [],
   "source": [
    "pecompact = pd.read_pickle('/kaggle/input/packer-balance-pickle/pecompact_balance.pickle')\n",
    "pecompact = pecompact.drop(['sample_sha1','benign','unpacked_sample_sha1','unpacked_sample_id'], axis=1)\n",
    "pecompact = pecompact.drop(['benign_vt','malicious_vt'], axis=1)\n",
    "string_columns = pecompact.select_dtypes(include=['object']).columns\n",
    "pecompact = pecompact.drop(string_columns, axis=1)"
   ]
  },
  {
   "cell_type": "code",
   "execution_count": 27,
   "id": "1bfc26d8",
   "metadata": {
    "execution": {
     "iopub.execute_input": "2023-12-27T01:17:45.257064Z",
     "iopub.status.busy": "2023-12-27T01:17:45.256670Z",
     "iopub.status.idle": "2023-12-27T01:17:46.140184Z",
     "shell.execute_reply": "2023-12-27T01:17:46.138692Z"
    },
    "papermill": {
     "duration": 0.903099,
     "end_time": "2023-12-27T01:17:46.142289",
     "exception": false,
     "start_time": "2023-12-27T01:17:45.239190",
     "status": "completed"
    },
    "tags": []
   },
   "outputs": [
    {
     "name": "stdout",
     "output_type": "stream",
     "text": [
      "removing 13000 features\n",
      "removing 2 features\n",
      "removing 16900 features\n",
      "removing 66 features\n",
      "removing 19169 features\n",
      "removing 4306 features\n",
      "removing 550 features\n",
      "removing 29 features\n"
     ]
    }
   ],
   "source": [
    "opcode = remove_cols(pecompact, [c for c in cols if c.startswith('ngram_')])\n",
    "# opcode = remove_cols(pecompact, [c for c in cols if c.startswith('opcode_')])\n",
    "opcode = remove_cols(pecompact, [c for c in cols if c.startswith('generic_')])\n",
    "opcode = remove_cols(pecompact, [c for c in cols if c.startswith('string_')])\n",
    "opcode = remove_cols(pecompact, [c for c in cols if c.startswith('rich_')])\n",
    "opcode = remove_cols(pecompact, [c for c in cols if c.startswith('imp_') or 'api_import_nb' == c])\n",
    "opcode = remove_cols(pecompact, [c for c in cols if c.endswith('.dll') or 'dll_import_nb' == c])\n",
    "opcode = remove_cols(pecompact, [c for c in cols if c.startswith('pesection')])\n",
    "opcode = remove_cols(pecompact, [c for c in cols if c.startswith('header_')])"
   ]
  },
  {
   "cell_type": "code",
   "execution_count": 28,
   "id": "21b1260e",
   "metadata": {
    "execution": {
     "iopub.execute_input": "2023-12-27T01:17:46.176924Z",
     "iopub.status.busy": "2023-12-27T01:17:46.176561Z",
     "iopub.status.idle": "2023-12-27T01:17:46.347401Z",
     "shell.execute_reply": "2023-12-27T01:17:46.345821Z"
    },
    "papermill": {
     "duration": 0.191366,
     "end_time": "2023-12-27T01:17:46.350529",
     "exception": false,
     "start_time": "2023-12-27T01:17:46.159163",
     "status": "completed"
    },
    "tags": []
   },
   "outputs": [],
   "source": [
    "df_7000_opcode = opcode.sample(n=7000, random_state=102)\n",
    "df_3000_opcode = opcode.drop(df_7000.index)\n",
    "data_opcode = df_7000_opcode.sample(n=3500, random_state=102)"
   ]
  },
  {
   "cell_type": "code",
   "execution_count": 29,
   "id": "391e3035",
   "metadata": {
    "execution": {
     "iopub.execute_input": "2023-12-27T01:17:46.384963Z",
     "iopub.status.busy": "2023-12-27T01:17:46.384595Z",
     "iopub.status.idle": "2023-12-27T01:17:46.533243Z",
     "shell.execute_reply": "2023-12-27T01:17:46.532156Z"
    },
    "papermill": {
     "duration": 0.168931,
     "end_time": "2023-12-27T01:17:46.535690",
     "exception": false,
     "start_time": "2023-12-27T01:17:46.366759",
     "status": "completed"
    },
    "tags": []
   },
   "outputs": [
    {
     "name": "stdout",
     "output_type": "stream",
     "text": [
      "Packed Malware: 2951 samples\n",
      "Packed Benign: 549 samples\n",
      "Total TRAIN set: 3500 samples\n",
      "Packed Malware: 549 samples\n",
      "Packed Benign: 549 samples\n",
      "Total TRAIN set: 1098 samples\n",
      "Packed Malware: 499 samples\n",
      "Packed Benign: 499 samples\n",
      "Total TEST set: 998 samples\n"
     ]
    }
   ],
   "source": [
    "#Kiểm tra số lượng mẫu\n",
    "PM = data_opcode[(data_opcode['malicious'] == True) & (data_opcode['packed'] == True)].shape[0]\n",
    "PB = data_opcode[(data_opcode['malicious'] == False) & (data_opcode['packed'] == True)].shape[0]\n",
    "print('Packed Malware: %i samples' % PM)\n",
    "print('Packed Benign: %i samples' % PB)\n",
    "print('Total TRAIN set: %i samples'% (PM+PB))\n",
    "\n",
    "#Chia tỉ lệ 50 - 50\n",
    "data_PM_opcode = data_opcode[(data_opcode['malicious'] == True) & (data_opcode['packed'] == True)].sample(n=(PM-PB), random_state=102)\n",
    "data_opcode = data_opcode.drop(data_PM_opcode.index)\n",
    "      \n",
    "#Số lượng tập train\n",
    "PM = data_opcode[(data_opcode['malicious'] == True) & (data_opcode['packed'] == True)].shape[0]\n",
    "PB = data_opcode[(data_opcode['malicious'] == False) & (data_opcode['packed'] == True)].shape[0]\n",
    "print('Packed Malware: %i samples' % PM)\n",
    "print('Packed Benign: %i samples' % PB)\n",
    "print('Total TRAIN set: %i samples'% (PM+PB))\n",
    "\n",
    "#Xử lý tập train\n",
    "y = data_opcode['malicious'].values\n",
    "data_opcode = data_opcode.drop(['malicious','packed'], axis=1)\n",
    "\n",
    "PM = df_3000_opcode[(df_3000_opcode['malicious'] == True) & (df_3000_opcode['packed'] == True)].shape[0]\n",
    "PB = df_3000_opcode[(df_3000_opcode['malicious'] == False) & (df_3000_opcode['packed'] == True)].shape[0]\n",
    "\n",
    "df_3000_PM_opcode = df_3000_opcode[(df_3000_opcode['malicious'] == True) & (df_3000_opcode['packed'] == True)].sample(n=(PM-PB), random_state=102)\n",
    "df_3000_opcode = df_3000_opcode.drop(df_3000_PM_opcode.index)\n",
    "\n",
    "PM = df_3000_opcode[(df_3000_opcode['malicious'] == True) & (df_3000_opcode['packed'] == True)].shape[0]\n",
    "PB = df_3000_opcode[(df_3000_opcode['malicious'] == False) & (df_3000_opcode['packed'] == True)].shape[0]\n",
    "\n",
    "print('Packed Malware: %i samples' % PM)\n",
    "print('Packed Benign: %i samples' % PB)\n",
    "print('Total TEST set: %i samples'% (PM+PB))"
   ]
  },
  {
   "cell_type": "code",
   "execution_count": 30,
   "id": "a6ee9bb2",
   "metadata": {
    "execution": {
     "iopub.execute_input": "2023-12-27T01:17:46.570780Z",
     "iopub.status.busy": "2023-12-27T01:17:46.570386Z",
     "iopub.status.idle": "2023-12-27T01:17:46.586247Z",
     "shell.execute_reply": "2023-12-27T01:17:46.584838Z"
    },
    "papermill": {
     "duration": 0.037189,
     "end_time": "2023-12-27T01:17:46.588981",
     "exception": false,
     "start_time": "2023-12-27T01:17:46.551792",
     "status": "completed"
    },
    "tags": []
   },
   "outputs": [],
   "source": [
    "# model = SelectFromModel(fsel, prefit=True)\n",
    "\n",
    "X_train_opcode = data_opcode\n",
    "X_test_opcode = df_3000_opcode.drop(['malicious','packed'], axis=1)\n",
    "\n",
    "# data_opcode = data_opcode.loc[:, (data_opcode != 0).any(axis=0)]\n",
    "x_train_opcode = data_opcode\n",
    "X_test_opcode = df_3000_opcode.drop(['malicious','packed'], axis=1)\n",
    "y_train_opcode = y\n",
    "y_test_opcode = df_3000_opcode['malicious'].values"
   ]
  },
  {
   "cell_type": "code",
   "execution_count": 31,
   "id": "6c0e09b7",
   "metadata": {
    "execution": {
     "iopub.execute_input": "2023-12-27T01:17:46.622995Z",
     "iopub.status.busy": "2023-12-27T01:17:46.622579Z",
     "iopub.status.idle": "2023-12-27T01:17:47.656027Z",
     "shell.execute_reply": "2023-12-27T01:17:47.654358Z"
    },
    "papermill": {
     "duration": 1.052514,
     "end_time": "2023-12-27T01:17:47.658323",
     "exception": false,
     "start_time": "2023-12-27T01:17:46.605809",
     "status": "completed"
    },
    "tags": []
   },
   "outputs": [
    {
     "name": "stdout",
     "output_type": "stream",
     "text": [
      "The accuracy of the Random Forests model is :\t 0.6703406813627254\n"
     ]
    }
   ],
   "source": [
    "# Random Forest\n",
    "from sklearn.ensemble import RandomForestClassifier\n",
    "from sklearn import metrics\n",
    "\n",
    "random_forest = RandomForestClassifier(n_estimators=100, random_state=17)\n",
    "random_forest.fit(x_train_opcode, y_train_opcode)\n",
    "random_forest_preds = random_forest.predict(X_test_opcode)\n",
    "print('The accuracy of the Random Forests model is :\\t',metrics.accuracy_score(random_forest_preds,y_test_opcode))"
   ]
  },
  {
   "cell_type": "markdown",
   "id": "299bea87",
   "metadata": {
    "papermill": {
     "duration": 0.015302,
     "end_time": "2023-12-27T01:17:47.689679",
     "exception": false,
     "start_time": "2023-12-27T01:17:47.674377",
     "status": "completed"
    },
    "tags": []
   },
   "source": [
    "# **rich header features**"
   ]
  },
  {
   "cell_type": "code",
   "execution_count": 32,
   "id": "b4bd30c0",
   "metadata": {
    "execution": {
     "iopub.execute_input": "2023-12-27T01:17:47.722870Z",
     "iopub.status.busy": "2023-12-27T01:17:47.722052Z",
     "iopub.status.idle": "2023-12-27T01:17:48.754647Z",
     "shell.execute_reply": "2023-12-27T01:17:48.753094Z"
    },
    "papermill": {
     "duration": 1.052032,
     "end_time": "2023-12-27T01:17:48.757242",
     "exception": false,
     "start_time": "2023-12-27T01:17:47.705210",
     "status": "completed"
    },
    "tags": []
   },
   "outputs": [],
   "source": [
    "pecompact = pd.read_pickle('/kaggle/input/packer-balance-pickle/pecompact_balance.pickle')\n",
    "pecompact = pecompact.drop(['sample_sha1','benign','unpacked_sample_sha1','unpacked_sample_id'], axis=1)\n",
    "pecompact = pecompact.drop(['benign_vt','malicious_vt'], axis=1)\n",
    "string_columns = pecompact.select_dtypes(include=['object']).columns\n",
    "pecompact = pecompact.drop(string_columns, axis=1)"
   ]
  },
  {
   "cell_type": "code",
   "execution_count": 33,
   "id": "1ee41341",
   "metadata": {
    "execution": {
     "iopub.execute_input": "2023-12-27T01:17:48.794392Z",
     "iopub.status.busy": "2023-12-27T01:17:48.793993Z",
     "iopub.status.idle": "2023-12-27T01:17:49.595962Z",
     "shell.execute_reply": "2023-12-27T01:17:49.594177Z"
    },
    "papermill": {
     "duration": 0.82481,
     "end_time": "2023-12-27T01:17:49.598436",
     "exception": false,
     "start_time": "2023-12-27T01:17:48.773626",
     "status": "completed"
    },
    "tags": []
   },
   "outputs": [
    {
     "name": "stdout",
     "output_type": "stream",
     "text": [
      "removing 13000 features\n",
      "removing 2500 features\n",
      "removing 2 features\n",
      "removing 16900 features\n",
      "removing 19169 features\n",
      "removing 4306 features\n",
      "removing 550 features\n",
      "removing 29 features\n"
     ]
    }
   ],
   "source": [
    "rich = remove_cols(pecompact, [c for c in cols if c.startswith('ngram_')])\n",
    "rich = remove_cols(pecompact, [c for c in cols if c.startswith('opcode_')])\n",
    "rich = remove_cols(pecompact, [c for c in cols if c.startswith('generic_')])\n",
    "rich = remove_cols(pecompact, [c for c in cols if c.startswith('string_')])\n",
    "# rich = remove_cols(pecompact, [c for c in cols if c.startswith('rich_')])\n",
    "rich = remove_cols(pecompact, [c for c in cols if c.startswith('imp_') or 'api_import_nb' == c])\n",
    "rich = remove_cols(pecompact, [c for c in cols if c.endswith('.dll') or 'dll_import_nb' == c])\n",
    "rich = remove_cols(pecompact, [c for c in cols if c.startswith('pesection')])\n",
    "rich = remove_cols(pecompact, [c for c in cols if c.startswith('header_')])"
   ]
  },
  {
   "cell_type": "code",
   "execution_count": 34,
   "id": "e92f9899",
   "metadata": {
    "execution": {
     "iopub.execute_input": "2023-12-27T01:17:49.633309Z",
     "iopub.status.busy": "2023-12-27T01:17:49.632950Z",
     "iopub.status.idle": "2023-12-27T01:17:49.647531Z",
     "shell.execute_reply": "2023-12-27T01:17:49.646255Z"
    },
    "papermill": {
     "duration": 0.035334,
     "end_time": "2023-12-27T01:17:49.650513",
     "exception": false,
     "start_time": "2023-12-27T01:17:49.615179",
     "status": "completed"
    },
    "tags": []
   },
   "outputs": [],
   "source": [
    "df_7000_rich = rich.sample(n=7000, random_state=102)\n",
    "df_3000_rich = rich.drop(df_7000.index)\n",
    "data_rich = df_7000_rich.sample(n=3500, random_state=102)"
   ]
  },
  {
   "cell_type": "code",
   "execution_count": 35,
   "id": "2200e326",
   "metadata": {
    "execution": {
     "iopub.execute_input": "2023-12-27T01:17:49.684394Z",
     "iopub.status.busy": "2023-12-27T01:17:49.684057Z",
     "iopub.status.idle": "2023-12-27T01:17:49.711336Z",
     "shell.execute_reply": "2023-12-27T01:17:49.709541Z"
    },
    "papermill": {
     "duration": 0.047424,
     "end_time": "2023-12-27T01:17:49.714083",
     "exception": false,
     "start_time": "2023-12-27T01:17:49.666659",
     "status": "completed"
    },
    "tags": []
   },
   "outputs": [
    {
     "name": "stdout",
     "output_type": "stream",
     "text": [
      "Packed Malware: 2951 samples\n",
      "Packed Benign: 549 samples\n",
      "Total TRAIN set: 3500 samples\n",
      "Packed Malware: 549 samples\n",
      "Packed Benign: 549 samples\n",
      "Total TRAIN set: 1098 samples\n",
      "Packed Malware: 499 samples\n",
      "Packed Benign: 499 samples\n",
      "Total TEST set: 998 samples\n"
     ]
    }
   ],
   "source": [
    "#Kiểm tra số lượng mẫu\n",
    "PM = data_rich[(data_rich['malicious'] == True) & (data_rich['packed'] == True)].shape[0]\n",
    "PB = data_rich[(data_rich['malicious'] == False) & (data_rich['packed'] == True)].shape[0]\n",
    "print('Packed Malware: %i samples' % PM)\n",
    "print('Packed Benign: %i samples' % PB)\n",
    "print('Total TRAIN set: %i samples'% (PM+PB))\n",
    "\n",
    "#Chia tỉ lệ 50 - 50\n",
    "data_PM_rich = data_rich[(data_rich['malicious'] == True) & (data_rich['packed'] == True)].sample(n=(PM-PB), random_state=102)\n",
    "data_rich = data_rich.drop(data_PM_rich.index)\n",
    "      \n",
    "#Số lượng tập train\n",
    "PM = data_rich[(data_rich['malicious'] == True) & (data_rich['packed'] == True)].shape[0]\n",
    "PB = data_rich[(data_rich['malicious'] == False) & (data_rich['packed'] == True)].shape[0]\n",
    "print('Packed Malware: %i samples' % PM)\n",
    "print('Packed Benign: %i samples' % PB)\n",
    "print('Total TRAIN set: %i samples'% (PM+PB))\n",
    "\n",
    "#Xử lý tập train\n",
    "y = data_rich['malicious'].values\n",
    "data_rich= data_rich.drop(['malicious','packed'], axis=1)\n",
    "\n",
    "PM = df_3000_rich[(df_3000_rich['malicious'] == True) & (df_3000_rich['packed'] == True)].shape[0]\n",
    "PB = df_3000_rich[(df_3000_rich['malicious'] == False) & (df_3000_rich['packed'] == True)].shape[0]\n",
    "\n",
    "df_3000_PM_rich = df_3000_rich[(df_3000_rich['malicious'] == True) & (df_3000_rich['packed'] == True)].sample(n=(PM-PB), random_state=102)\n",
    "df_3000_rich = df_3000_rich.drop(df_3000_PM_rich.index)\n",
    "\n",
    "PM = df_3000_rich[(df_3000_rich['malicious'] == True) & (df_3000_rich['packed'] == True)].shape[0]\n",
    "PB = df_3000_rich[(df_3000_rich['malicious'] == False) & (df_3000_rich['packed'] == True)].shape[0]\n",
    "\n",
    "print('Packed Malware: %i samples' % PM)\n",
    "print('Packed Benign: %i samples' % PB)\n",
    "print('Total TEST set: %i samples'% (PM+PB))"
   ]
  },
  {
   "cell_type": "code",
   "execution_count": 36,
   "id": "fafc5231",
   "metadata": {
    "execution": {
     "iopub.execute_input": "2023-12-27T01:17:49.749950Z",
     "iopub.status.busy": "2023-12-27T01:17:49.749556Z",
     "iopub.status.idle": "2023-12-27T01:17:49.761656Z",
     "shell.execute_reply": "2023-12-27T01:17:49.760124Z"
    },
    "papermill": {
     "duration": 0.03406,
     "end_time": "2023-12-27T01:17:49.764765",
     "exception": false,
     "start_time": "2023-12-27T01:17:49.730705",
     "status": "completed"
    },
    "tags": []
   },
   "outputs": [],
   "source": [
    "# model = SelectFromModel(fsel, prefit=True)\n",
    "\n",
    "X_train_rich = data_rich\n",
    "X_test_rich = df_3000_rich.drop(['malicious','packed'], axis=1)\n",
    "\n",
    "data_rich = data_rich.loc[:, (data_rich != 0).any(axis=0)]\n",
    "x_train_rich = data_rich\n",
    "X_test_rich = df_3000_rich.drop(['malicious','packed'], axis=1)\n",
    "y_train_rich = y\n",
    "y_test_rich = df_3000_rich['malicious'].values"
   ]
  },
  {
   "cell_type": "code",
   "execution_count": 37,
   "id": "b634bf3a",
   "metadata": {
    "execution": {
     "iopub.execute_input": "2023-12-27T01:17:49.800255Z",
     "iopub.status.busy": "2023-12-27T01:17:49.799891Z",
     "iopub.status.idle": "2023-12-27T01:17:50.061152Z",
     "shell.execute_reply": "2023-12-27T01:17:50.059608Z"
    },
    "papermill": {
     "duration": 0.282029,
     "end_time": "2023-12-27T01:17:50.063103",
     "exception": false,
     "start_time": "2023-12-27T01:17:49.781074",
     "status": "completed"
    },
    "tags": []
   },
   "outputs": [
    {
     "name": "stdout",
     "output_type": "stream",
     "text": [
      "The accuracy of the Random Forests model is :\t 0.8096192384769539\n"
     ]
    }
   ],
   "source": [
    "# Random Forest\n",
    "from sklearn.ensemble import RandomForestClassifier\n",
    "from sklearn import metrics\n",
    "\n",
    "random_forest = RandomForestClassifier(n_estimators=100, random_state=17)\n",
    "random_forest.fit(X_train_rich, y_train_rich)\n",
    "random_forest_preds = random_forest.predict(X_test_rich)\n",
    "print('The accuracy of the Random Forests model is :\\t',metrics.accuracy_score(random_forest_preds,y_test_rich))"
   ]
  },
  {
   "cell_type": "markdown",
   "id": "2dfb7a55",
   "metadata": {
    "papermill": {
     "duration": 0.015647,
     "end_time": "2023-12-27T01:17:50.094807",
     "exception": false,
     "start_time": "2023-12-27T01:17:50.079160",
     "status": "completed"
    },
    "tags": []
   },
   "source": [
    "# **string features**"
   ]
  },
  {
   "cell_type": "code",
   "execution_count": 38,
   "id": "1f3f5183",
   "metadata": {
    "execution": {
     "iopub.execute_input": "2023-12-27T01:17:50.129156Z",
     "iopub.status.busy": "2023-12-27T01:17:50.128753Z",
     "iopub.status.idle": "2023-12-27T01:17:51.099332Z",
     "shell.execute_reply": "2023-12-27T01:17:51.097904Z"
    },
    "papermill": {
     "duration": 0.990805,
     "end_time": "2023-12-27T01:17:51.101845",
     "exception": false,
     "start_time": "2023-12-27T01:17:50.111040",
     "status": "completed"
    },
    "tags": []
   },
   "outputs": [],
   "source": [
    "pecompact = pd.read_pickle('/kaggle/input/packer-balance-pickle/pecompact_balance.pickle')\n",
    "pecompact = pecompact.drop(['sample_sha1','benign','unpacked_sample_sha1','unpacked_sample_id'], axis=1)\n",
    "pecompact = pecompact.drop(['benign_vt','malicious_vt'], axis=1)\n",
    "string_columns = pecompact.select_dtypes(include=['object']).columns\n",
    "pecompact = pecompact.drop(string_columns, axis=1)"
   ]
  },
  {
   "cell_type": "code",
   "execution_count": 39,
   "id": "6c9d171c",
   "metadata": {
    "execution": {
     "iopub.execute_input": "2023-12-27T01:17:51.135926Z",
     "iopub.status.busy": "2023-12-27T01:17:51.135562Z",
     "iopub.status.idle": "2023-12-27T01:17:51.919609Z",
     "shell.execute_reply": "2023-12-27T01:17:51.918639Z"
    },
    "papermill": {
     "duration": 0.803999,
     "end_time": "2023-12-27T01:17:51.922077",
     "exception": false,
     "start_time": "2023-12-27T01:17:51.118078",
     "status": "completed"
    },
    "tags": []
   },
   "outputs": [
    {
     "name": "stdout",
     "output_type": "stream",
     "text": [
      "removing 13000 features\n",
      "removing 2500 features\n",
      "removing 2 features\n",
      "removing 66 features\n",
      "removing 19169 features\n",
      "removing 4306 features\n",
      "removing 550 features\n",
      "removing 29 features\n"
     ]
    }
   ],
   "source": [
    "string = remove_cols(pecompact, [c for c in cols if c.startswith('ngram_')])\n",
    "string = remove_cols(pecompact, [c for c in cols if c.startswith('opcode_')])\n",
    "string = remove_cols(pecompact, [c for c in cols if c.startswith('generic_')])\n",
    "# string = remove_cols(pecompact, [c for c in cols if c.startswith('string_')])\n",
    "string = remove_cols(pecompact, [c for c in cols if c.startswith('rich_')])\n",
    "string = remove_cols(pecompact, [c for c in cols if c.startswith('imp_') or 'api_import_nb' == c])\n",
    "string = remove_cols(pecompact, [c for c in cols if c.endswith('.dll') or 'dll_import_nb' == c])\n",
    "string = remove_cols(pecompact, [c for c in cols if c.startswith('pesection')])\n",
    "string = remove_cols(pecompact, [c for c in cols if c.startswith('header_')])"
   ]
  },
  {
   "cell_type": "code",
   "execution_count": 40,
   "id": "bc3bfe41",
   "metadata": {
    "execution": {
     "iopub.execute_input": "2023-12-27T01:17:51.958494Z",
     "iopub.status.busy": "2023-12-27T01:17:51.957197Z",
     "iopub.status.idle": "2023-12-27T01:17:52.222276Z",
     "shell.execute_reply": "2023-12-27T01:17:52.221148Z"
    },
    "papermill": {
     "duration": 0.285261,
     "end_time": "2023-12-27T01:17:52.224406",
     "exception": false,
     "start_time": "2023-12-27T01:17:51.939145",
     "status": "completed"
    },
    "tags": []
   },
   "outputs": [],
   "source": [
    "df_7000_string = string.sample(n=7000, random_state=102)\n",
    "df_3000_string = string.drop(df_7000.index)\n",
    "data_string = df_7000_string.sample(n=3500, random_state=102)"
   ]
  },
  {
   "cell_type": "code",
   "execution_count": 41,
   "id": "bc6eed82",
   "metadata": {
    "execution": {
     "iopub.execute_input": "2023-12-27T01:17:52.260186Z",
     "iopub.status.busy": "2023-12-27T01:17:52.259819Z",
     "iopub.status.idle": "2023-12-27T01:17:52.604452Z",
     "shell.execute_reply": "2023-12-27T01:17:52.603398Z"
    },
    "papermill": {
     "duration": 0.364687,
     "end_time": "2023-12-27T01:17:52.606623",
     "exception": false,
     "start_time": "2023-12-27T01:17:52.241936",
     "status": "completed"
    },
    "tags": []
   },
   "outputs": [
    {
     "name": "stdout",
     "output_type": "stream",
     "text": [
      "Packed Malware: 2951 samples\n",
      "Packed Benign: 549 samples\n",
      "Total TRAIN set: 3500 samples\n",
      "Packed Malware: 549 samples\n",
      "Packed Benign: 549 samples\n",
      "Total TRAIN set: 1098 samples\n",
      "Packed Malware: 499 samples\n",
      "Packed Benign: 499 samples\n",
      "Total TEST set: 998 samples\n"
     ]
    }
   ],
   "source": [
    "#Kiểm tra số lượng mẫu\n",
    "PM = data_string[(data_string['malicious'] == True) & (data_string['packed'] == True)].shape[0]\n",
    "PB = data_string[(data_string['malicious'] == False) & (data_string['packed'] == True)].shape[0]\n",
    "print('Packed Malware: %i samples' % PM)\n",
    "print('Packed Benign: %i samples' % PB)\n",
    "print('Total TRAIN set: %i samples'% (PM+PB))\n",
    "\n",
    "#Chia tỉ lệ 50 - 50\n",
    "data_PM_string = data_string[(data_string['malicious'] == True) & (data_string['packed'] == True)].sample(n=(PM-PB), random_state=102)\n",
    "data_string = data_string.drop(data_PM_string.index)\n",
    "      \n",
    "#Số lượng tập train\n",
    "PM = data_string[(data_string['malicious'] == True) & (data_string['packed'] == True)].shape[0]\n",
    "PB = data_string[(data_string['malicious'] == False) & (data_string['packed'] == True)].shape[0]\n",
    "print('Packed Malware: %i samples' % PM)\n",
    "print('Packed Benign: %i samples' % PB)\n",
    "print('Total TRAIN set: %i samples'% (PM+PB))\n",
    "\n",
    "#Xử lý tập train\n",
    "y = data_string['malicious'].values\n",
    "data_string = data_string.drop(['malicious','packed'], axis=1)\n",
    "\n",
    "PM = df_3000_string[(df_3000_string['malicious'] == True) & (df_3000_string['packed'] == True)].shape[0]\n",
    "PB = df_3000_string[(df_3000_string['malicious'] == False) & (df_3000_string['packed'] == True)].shape[0]\n",
    "\n",
    "df_3000_PM_string = df_3000_string[(df_3000_string['malicious'] == True) & (df_3000_string['packed'] == True)].sample(n=(PM-PB), random_state=102)\n",
    "df_3000_string = df_3000_string.drop(df_3000_PM_string.index)\n",
    "\n",
    "PM = df_3000_string[(df_3000_string['malicious'] == True) & (df_3000_string['packed'] == True)].shape[0]\n",
    "PB = df_3000_string[(df_3000_string['malicious'] == False) & (df_3000_string['packed'] == True)].shape[0]\n",
    "\n",
    "print('Packed Malware: %i samples' % PM)\n",
    "print('Packed Benign: %i samples' % PB)\n",
    "print('Total TEST set: %i samples'% (PM+PB))"
   ]
  },
  {
   "cell_type": "code",
   "execution_count": 42,
   "id": "292c40aa",
   "metadata": {
    "execution": {
     "iopub.execute_input": "2023-12-27T01:17:52.642159Z",
     "iopub.status.busy": "2023-12-27T01:17:52.641806Z",
     "iopub.status.idle": "2023-12-27T01:17:52.683980Z",
     "shell.execute_reply": "2023-12-27T01:17:52.682679Z"
    },
    "papermill": {
     "duration": 0.063365,
     "end_time": "2023-12-27T01:17:52.687016",
     "exception": false,
     "start_time": "2023-12-27T01:17:52.623651",
     "status": "completed"
    },
    "tags": []
   },
   "outputs": [],
   "source": [
    "# model = SelectFromModel(fsel, prefit=True)\n",
    "\n",
    "X_train_string = data_string\n",
    "X_test_string = df_3000_string.drop(['malicious','packed'], axis=1)\n",
    "\n",
    "data_string = data_string.loc[:, (data_string != 0).any(axis=0)]\n",
    "x_train_string = data_string\n",
    "X_test_string = df_3000_string.drop(['malicious','packed'], axis=1)\n",
    "y_train_string = y\n",
    "y_test_string = df_3000_string['malicious'].values"
   ]
  },
  {
   "cell_type": "code",
   "execution_count": 43,
   "id": "2d05587e",
   "metadata": {
    "execution": {
     "iopub.execute_input": "2023-12-27T01:17:52.722719Z",
     "iopub.status.busy": "2023-12-27T01:17:52.722283Z",
     "iopub.status.idle": "2023-12-27T01:17:55.266641Z",
     "shell.execute_reply": "2023-12-27T01:17:55.265110Z"
    },
    "papermill": {
     "duration": 2.565189,
     "end_time": "2023-12-27T01:17:55.269787",
     "exception": false,
     "start_time": "2023-12-27T01:17:52.704598",
     "status": "completed"
    },
    "tags": []
   },
   "outputs": [
    {
     "name": "stdout",
     "output_type": "stream",
     "text": [
      "The accuracy of the Random Forests model is :\t 0.814629258517034\n"
     ]
    }
   ],
   "source": [
    "# Random Forest\n",
    "from sklearn.ensemble import RandomForestClassifier\n",
    "from sklearn import metrics\n",
    "\n",
    "random_forest = RandomForestClassifier(n_estimators=100, random_state=17)\n",
    "random_forest.fit(X_train_string, y_train_string)\n",
    "random_forest_preds = random_forest.predict(X_test_string)\n",
    "print('The accuracy of the Random Forests model is :\\t',metrics.accuracy_score(random_forest_preds,y_test_string))"
   ]
  },
  {
   "cell_type": "markdown",
   "id": "9c8b1cb7",
   "metadata": {
    "papermill": {
     "duration": 0.016365,
     "end_time": "2023-12-27T01:17:55.302900",
     "exception": false,
     "start_time": "2023-12-27T01:17:55.286535",
     "status": "completed"
    },
    "tags": []
   },
   "source": [
    "# **api features**"
   ]
  },
  {
   "cell_type": "code",
   "execution_count": 44,
   "id": "c0f92d37",
   "metadata": {
    "execution": {
     "iopub.execute_input": "2023-12-27T01:17:55.337948Z",
     "iopub.status.busy": "2023-12-27T01:17:55.337570Z",
     "iopub.status.idle": "2023-12-27T01:17:56.304290Z",
     "shell.execute_reply": "2023-12-27T01:17:56.302780Z"
    },
    "papermill": {
     "duration": 0.987524,
     "end_time": "2023-12-27T01:17:56.307051",
     "exception": false,
     "start_time": "2023-12-27T01:17:55.319527",
     "status": "completed"
    },
    "tags": []
   },
   "outputs": [],
   "source": [
    "pecompact = pd.read_pickle('/kaggle/input/packer-balance-pickle/pecompact_balance.pickle')\n",
    "pecompact = pecompact.drop(['sample_sha1','benign','unpacked_sample_sha1','unpacked_sample_id'], axis=1)\n",
    "pecompact = pecompact.drop(['benign_vt','malicious_vt'], axis=1)\n",
    "string_columns = pecompact.select_dtypes(include=['object']).columns\n",
    "pecompact = pecompact.drop(string_columns, axis=1)"
   ]
  },
  {
   "cell_type": "code",
   "execution_count": 45,
   "id": "d0bb86be",
   "metadata": {
    "execution": {
     "iopub.execute_input": "2023-12-27T01:17:56.343674Z",
     "iopub.status.busy": "2023-12-27T01:17:56.343299Z",
     "iopub.status.idle": "2023-12-27T01:17:57.369920Z",
     "shell.execute_reply": "2023-12-27T01:17:57.368772Z"
    },
    "papermill": {
     "duration": 1.047732,
     "end_time": "2023-12-27T01:17:57.372207",
     "exception": false,
     "start_time": "2023-12-27T01:17:56.324475",
     "status": "completed"
    },
    "tags": []
   },
   "outputs": [
    {
     "name": "stdout",
     "output_type": "stream",
     "text": [
      "removing 13000 features\n",
      "removing 2500 features\n",
      "removing 2 features\n",
      "removing 16900 features\n",
      "removing 66 features\n",
      "removing 4306 features\n",
      "removing 550 features\n",
      "removing 29 features\n"
     ]
    }
   ],
   "source": [
    "api = remove_cols(pecompact, [c for c in cols if c.startswith('ngram_')])\n",
    "api = remove_cols(pecompact, [c for c in cols if c.startswith('opcode_')])\n",
    "api = remove_cols(pecompact, [c for c in cols if c.startswith('generic_')])\n",
    "api = remove_cols(pecompact, [c for c in cols if c.startswith('string_')])\n",
    "api = remove_cols(pecompact, [c for c in cols if c.startswith('rich_')])\n",
    "# api = remove_cols(pecompact, [c for c in cols if c.startswith('imp_') or 'api_import_nb' == c])\n",
    "api = remove_cols(pecompact, [c for c in cols if c.endswith('.dll') or 'dll_import_nb' == c])\n",
    "api = remove_cols(pecompact, [c for c in cols if c.startswith('pesection')])\n",
    "api = remove_cols(pecompact, [c for c in cols if c.startswith('header_')])"
   ]
  },
  {
   "cell_type": "code",
   "execution_count": 46,
   "id": "531b968b",
   "metadata": {
    "execution": {
     "iopub.execute_input": "2023-12-27T01:17:57.409889Z",
     "iopub.status.busy": "2023-12-27T01:17:57.409473Z",
     "iopub.status.idle": "2023-12-27T01:17:57.738849Z",
     "shell.execute_reply": "2023-12-27T01:17:57.737028Z"
    },
    "papermill": {
     "duration": 0.352567,
     "end_time": "2023-12-27T01:17:57.741840",
     "exception": false,
     "start_time": "2023-12-27T01:17:57.389273",
     "status": "completed"
    },
    "tags": []
   },
   "outputs": [],
   "source": [
    "df_7000_api = api.sample(n=7000, random_state=102)\n",
    "df_3000_api = api.drop(df_7000.index)\n",
    "data_api = df_7000_api.sample(n=3500, random_state=102)"
   ]
  },
  {
   "cell_type": "code",
   "execution_count": 47,
   "id": "61d5db15",
   "metadata": {
    "execution": {
     "iopub.execute_input": "2023-12-27T01:17:57.778140Z",
     "iopub.status.busy": "2023-12-27T01:17:57.777737Z",
     "iopub.status.idle": "2023-12-27T01:17:58.267368Z",
     "shell.execute_reply": "2023-12-27T01:17:58.265930Z"
    },
    "papermill": {
     "duration": 0.510145,
     "end_time": "2023-12-27T01:17:58.269527",
     "exception": false,
     "start_time": "2023-12-27T01:17:57.759382",
     "status": "completed"
    },
    "tags": []
   },
   "outputs": [
    {
     "name": "stdout",
     "output_type": "stream",
     "text": [
      "Packed Malware: 2951 samples\n",
      "Packed Benign: 549 samples\n",
      "Total TRAIN set: 3500 samples\n",
      "Packed Malware: 549 samples\n",
      "Packed Benign: 549 samples\n",
      "Total TRAIN set: 1098 samples\n",
      "Packed Malware: 499 samples\n",
      "Packed Benign: 499 samples\n",
      "Total TEST set: 998 samples\n"
     ]
    }
   ],
   "source": [
    "#Kiểm tra số lượng mẫu\n",
    "PM = data_api[(data_api['malicious'] == True) & (data_api['packed'] == True)].shape[0]\n",
    "PB = data_api[(data_api['malicious'] == False) & (data_api['packed'] == True)].shape[0]\n",
    "print('Packed Malware: %i samples' % PM)\n",
    "print('Packed Benign: %i samples' % PB)\n",
    "print('Total TRAIN set: %i samples'% (PM+PB))\n",
    "\n",
    "#Chia tỉ lệ 50 - 50\n",
    "data_PM_api = data_api[(data_api['malicious'] == True) & (data_api['packed'] == True)].sample(n=(PM-PB), random_state=102)\n",
    "data_api = data_api.drop(data_PM_api.index)\n",
    "      \n",
    "#Số lượng tập train\n",
    "PM = data_api[(data_api['malicious'] == True) & (data_api['packed'] == True)].shape[0]\n",
    "PB = data_api[(data_api['malicious'] == False) & (data_api['packed'] == True)].shape[0]\n",
    "print('Packed Malware: %i samples' % PM)\n",
    "print('Packed Benign: %i samples' % PB)\n",
    "print('Total TRAIN set: %i samples'% (PM+PB))\n",
    "\n",
    "#Xử lý tập train\n",
    "y = data_api['malicious'].values\n",
    "data_api = data_api.drop(['malicious','packed'], axis=1)\n",
    "\n",
    "PM = df_3000_api[(df_3000_api['malicious'] == True) & (df_3000_api['packed'] == True)].shape[0]\n",
    "PB = df_3000_api[(df_3000_api['malicious'] == False) & (df_3000_api['packed'] == True)].shape[0]\n",
    "\n",
    "df_3000_PM_api = df_3000_api[(df_3000_api['malicious'] == True) & (df_3000_api['packed'] == True)].sample(n=(PM-PB), random_state=102)\n",
    "df_3000_api = df_3000_api.drop(df_3000_PM_api.index)\n",
    "\n",
    "PM = df_3000_api[(df_3000_api['malicious'] == True) & (df_3000_api['packed'] == True)].shape[0]\n",
    "PB = df_3000_api[(df_3000_api['malicious'] == False) & (df_3000_api['packed'] == True)].shape[0]\n",
    "\n",
    "print('Packed Malware: %i samples' % PM)\n",
    "print('Packed Benign: %i samples' % PB)\n",
    "print('Total TEST set: %i samples'% (PM+PB))"
   ]
  },
  {
   "cell_type": "code",
   "execution_count": 48,
   "id": "9cabdf8f",
   "metadata": {
    "execution": {
     "iopub.execute_input": "2023-12-27T01:17:58.306265Z",
     "iopub.status.busy": "2023-12-27T01:17:58.305885Z",
     "iopub.status.idle": "2023-12-27T01:17:58.377263Z",
     "shell.execute_reply": "2023-12-27T01:17:58.375677Z"
    },
    "papermill": {
     "duration": 0.092855,
     "end_time": "2023-12-27T01:17:58.379801",
     "exception": false,
     "start_time": "2023-12-27T01:17:58.286946",
     "status": "completed"
    },
    "tags": []
   },
   "outputs": [],
   "source": [
    "# model = SelectFromModel(fsel, prefit=True)\n",
    "\n",
    "X_train_api = data_api\n",
    "X_test_api = df_3000_api.drop(['malicious','packed'], axis=1)\n",
    "\n",
    "data_api = data_api.loc[:, (data_api != 0).any(axis=0)]\n",
    "x_train_api = data_api\n",
    "X_test_api = df_3000_api.drop(['malicious','packed'], axis=1)\n",
    "y_train_api = y\n",
    "y_test_api = df_3000_api['malicious'].values"
   ]
  },
  {
   "cell_type": "code",
   "execution_count": 49,
   "id": "58d817de",
   "metadata": {
    "execution": {
     "iopub.execute_input": "2023-12-27T01:17:58.415996Z",
     "iopub.status.busy": "2023-12-27T01:17:58.415427Z",
     "iopub.status.idle": "2023-12-27T01:18:04.724231Z",
     "shell.execute_reply": "2023-12-27T01:18:04.723510Z"
    },
    "papermill": {
     "duration": 6.329355,
     "end_time": "2023-12-27T01:18:04.726135",
     "exception": false,
     "start_time": "2023-12-27T01:17:58.396780",
     "status": "completed"
    },
    "tags": []
   },
   "outputs": [
    {
     "name": "stdout",
     "output_type": "stream",
     "text": [
      "The accuracy of the Random Forests model is :\t 0.6793587174348698\n"
     ]
    }
   ],
   "source": [
    "# Random Forest\n",
    "from sklearn.ensemble import RandomForestClassifier\n",
    "from sklearn import metrics\n",
    "\n",
    "random_forest = RandomForestClassifier(n_estimators=100, random_state=17)\n",
    "random_forest.fit(X_train_api, y_train_api)\n",
    "random_forest_preds = random_forest.predict(X_test_api)\n",
    "print('The accuracy of the Random Forests model is :\\t',metrics.accuracy_score(random_forest_preds,y_test_api))"
   ]
  },
  {
   "cell_type": "markdown",
   "id": "903bfa70",
   "metadata": {
    "papermill": {
     "duration": 0.016805,
     "end_time": "2023-12-27T01:18:04.760710",
     "exception": false,
     "start_time": "2023-12-27T01:18:04.743905",
     "status": "completed"
    },
    "tags": []
   },
   "source": [
    "# **dll features**"
   ]
  },
  {
   "cell_type": "code",
   "execution_count": 50,
   "id": "e020c711",
   "metadata": {
    "execution": {
     "iopub.execute_input": "2023-12-27T01:18:04.796889Z",
     "iopub.status.busy": "2023-12-27T01:18:04.795901Z",
     "iopub.status.idle": "2023-12-27T01:18:05.906213Z",
     "shell.execute_reply": "2023-12-27T01:18:05.905053Z"
    },
    "papermill": {
     "duration": 1.131232,
     "end_time": "2023-12-27T01:18:05.908512",
     "exception": false,
     "start_time": "2023-12-27T01:18:04.777280",
     "status": "completed"
    },
    "tags": []
   },
   "outputs": [],
   "source": [
    "pecompact = pd.read_pickle('/kaggle/input/packer-balance-pickle/pecompact_balance.pickle')\n",
    "pecompact = pecompact.drop(['sample_sha1','benign','unpacked_sample_sha1','unpacked_sample_id'], axis=1)\n",
    "pecompact = pecompact.drop(['benign_vt','malicious_vt'], axis=1)\n",
    "string_columns = pecompact.select_dtypes(include=['object']).columns\n",
    "pecompact = pecompact.drop(string_columns, axis=1)"
   ]
  },
  {
   "cell_type": "code",
   "execution_count": 51,
   "id": "a75d8678",
   "metadata": {
    "execution": {
     "iopub.execute_input": "2023-12-27T01:18:05.944297Z",
     "iopub.status.busy": "2023-12-27T01:18:05.943874Z",
     "iopub.status.idle": "2023-12-27T01:18:06.802384Z",
     "shell.execute_reply": "2023-12-27T01:18:06.799829Z"
    },
    "papermill": {
     "duration": 0.880136,
     "end_time": "2023-12-27T01:18:06.805621",
     "exception": false,
     "start_time": "2023-12-27T01:18:05.925485",
     "status": "completed"
    },
    "tags": []
   },
   "outputs": [
    {
     "name": "stdout",
     "output_type": "stream",
     "text": [
      "removing 13000 features\n",
      "removing 2500 features\n",
      "removing 2 features\n",
      "removing 16900 features\n",
      "removing 66 features\n",
      "removing 19169 features\n",
      "removing 550 features\n",
      "removing 29 features\n"
     ]
    }
   ],
   "source": [
    "dll = remove_cols(pecompact, [c for c in cols if c.startswith('ngram_')])\n",
    "dll = remove_cols(pecompact, [c for c in cols if c.startswith('opcode_')])\n",
    "dll = remove_cols(pecompact, [c for c in cols if c.startswith('generic_')])\n",
    "dll = remove_cols(pecompact, [c for c in cols if c.startswith('string_')])\n",
    "dll = remove_cols(pecompact, [c for c in cols if c.startswith('rich_')])\n",
    "dll = remove_cols(pecompact, [c for c in cols if c.startswith('imp_') or 'api_import_nb' == c])\n",
    "# api = remove_cols(pecompact, [c for c in cols if c.endswith('.dll') or 'dll_import_nb' == c])\n",
    "dll = remove_cols(pecompact, [c for c in cols if c.startswith('pesection')])\n",
    "dll = remove_cols(pecompact, [c for c in cols if c.startswith('header_')])"
   ]
  },
  {
   "cell_type": "code",
   "execution_count": 52,
   "id": "b1621d6b",
   "metadata": {
    "execution": {
     "iopub.execute_input": "2023-12-27T01:18:06.842093Z",
     "iopub.status.busy": "2023-12-27T01:18:06.840832Z",
     "iopub.status.idle": "2023-12-27T01:18:06.922210Z",
     "shell.execute_reply": "2023-12-27T01:18:06.920798Z"
    },
    "papermill": {
     "duration": 0.101755,
     "end_time": "2023-12-27T01:18:06.924748",
     "exception": false,
     "start_time": "2023-12-27T01:18:06.822993",
     "status": "completed"
    },
    "tags": []
   },
   "outputs": [],
   "source": [
    "df_7000_dll = dll.sample(n=7000, random_state=102)\n",
    "df_3000_dll = dll.drop(df_7000.index)\n",
    "data_dll = df_7000_dll.sample(n=3500, random_state=102)"
   ]
  },
  {
   "cell_type": "code",
   "execution_count": 53,
   "id": "c551448c",
   "metadata": {
    "execution": {
     "iopub.execute_input": "2023-12-27T01:18:06.963937Z",
     "iopub.status.busy": "2023-12-27T01:18:06.963490Z",
     "iopub.status.idle": "2023-12-27T01:18:07.125123Z",
     "shell.execute_reply": "2023-12-27T01:18:07.124183Z"
    },
    "papermill": {
     "duration": 0.18403,
     "end_time": "2023-12-27T01:18:07.127574",
     "exception": false,
     "start_time": "2023-12-27T01:18:06.943544",
     "status": "completed"
    },
    "tags": []
   },
   "outputs": [
    {
     "name": "stdout",
     "output_type": "stream",
     "text": [
      "Packed Malware: 2951 samples\n",
      "Packed Benign: 549 samples\n",
      "Total TRAIN set: 3500 samples\n",
      "Packed Malware: 549 samples\n",
      "Packed Benign: 549 samples\n",
      "Total TRAIN set: 1098 samples\n",
      "Packed Malware: 499 samples\n",
      "Packed Benign: 499 samples\n",
      "Total TEST set: 998 samples\n"
     ]
    }
   ],
   "source": [
    "#Kiểm tra số lượng mẫu\n",
    "PM = data_dll[(data_dll['malicious'] == True) & (data_dll['packed'] == True)].shape[0]\n",
    "PB = data_dll[(data_dll['malicious'] == False) & (data_dll['packed'] == True)].shape[0]\n",
    "print('Packed Malware: %i samples' % PM)\n",
    "print('Packed Benign: %i samples' % PB)\n",
    "print('Total TRAIN set: %i samples'% (PM+PB))\n",
    "\n",
    "#Chia tỉ lệ 50 - 50\n",
    "data_PM_dll = data_dll[(data_dll['malicious'] == True) & (data_dll['packed'] == True)].sample(n=(PM-PB), random_state=102)\n",
    "data_dll = data_dll.drop(data_PM_dll.index)\n",
    "      \n",
    "#Số lượng tập train\n",
    "PM = data_dll[(data_dll['malicious'] == True) & (data_dll['packed'] == True)].shape[0]\n",
    "PB = data_dll[(data_dll['malicious'] == False) & (data_dll['packed'] == True)].shape[0]\n",
    "print('Packed Malware: %i samples' % PM)\n",
    "print('Packed Benign: %i samples' % PB)\n",
    "print('Total TRAIN set: %i samples'% (PM+PB))\n",
    "\n",
    "#Xử lý tập train\n",
    "y = data_dll['malicious'].values\n",
    "data_dll = data_dll.drop(['malicious','packed'], axis=1)\n",
    "\n",
    "PM = df_3000_dll[(df_3000_dll['malicious'] == True) & (df_3000_dll['packed'] == True)].shape[0]\n",
    "PB = df_3000_dll[(df_3000_dll['malicious'] == False) & (df_3000_dll['packed'] == True)].shape[0]\n",
    "\n",
    "df_3000_PM_dll = df_3000_dll[(df_3000_dll['malicious'] == True) & (df_3000_dll['packed'] == True)].sample(n=(PM-PB), random_state=102)\n",
    "df_3000_dll = df_3000_dll.drop(df_3000_PM_dll.index)\n",
    "\n",
    "PM = df_3000_dll[(df_3000_dll['malicious'] == True) & (df_3000_dll['packed'] == True)].shape[0]\n",
    "PB = df_3000_dll[(df_3000_dll['malicious'] == False) & (df_3000_dll['packed'] == True)].shape[0]\n",
    "\n",
    "print('Packed Malware: %i samples' % PM)\n",
    "print('Packed Benign: %i samples' % PB)\n",
    "print('Total TEST set: %i samples'% (PM+PB))"
   ]
  },
  {
   "cell_type": "code",
   "execution_count": 54,
   "id": "a7b06221",
   "metadata": {
    "execution": {
     "iopub.execute_input": "2023-12-27T01:18:07.166009Z",
     "iopub.status.busy": "2023-12-27T01:18:07.165280Z",
     "iopub.status.idle": "2023-12-27T01:18:07.199100Z",
     "shell.execute_reply": "2023-12-27T01:18:07.197800Z"
    },
    "papermill": {
     "duration": 0.056135,
     "end_time": "2023-12-27T01:18:07.202158",
     "exception": false,
     "start_time": "2023-12-27T01:18:07.146023",
     "status": "completed"
    },
    "tags": []
   },
   "outputs": [],
   "source": [
    "# model = SelectFromModel(fsel, prefit=True)\n",
    "\n",
    "X_train_dll = data_dll\n",
    "X_test_dll = df_3000_dll.drop(['malicious','packed'], axis=1)\n",
    "\n",
    "data_dll = data_dll.loc[:, (data_dll != 0).any(axis=0)]\n",
    "x_train_dll = data_dll\n",
    "X_test_dll = df_3000_dll.drop(['malicious','packed'], axis=1)\n",
    "y_train_dll = y\n",
    "y_test_dll = df_3000_dll['malicious'].values"
   ]
  },
  {
   "cell_type": "code",
   "execution_count": 55,
   "id": "bdf8164d",
   "metadata": {
    "execution": {
     "iopub.execute_input": "2023-12-27T01:18:07.240818Z",
     "iopub.status.busy": "2023-12-27T01:18:07.240410Z",
     "iopub.status.idle": "2023-12-27T01:18:09.185895Z",
     "shell.execute_reply": "2023-12-27T01:18:09.184419Z"
    },
    "papermill": {
     "duration": 1.967648,
     "end_time": "2023-12-27T01:18:09.188552",
     "exception": false,
     "start_time": "2023-12-27T01:18:07.220904",
     "status": "completed"
    },
    "tags": []
   },
   "outputs": [
    {
     "name": "stdout",
     "output_type": "stream",
     "text": [
      "The accuracy of the Random Forests model is :\t 0.6643286573146293\n"
     ]
    }
   ],
   "source": [
    "# Random Forest\n",
    "from sklearn.ensemble import RandomForestClassifier\n",
    "from sklearn import metrics\n",
    "\n",
    "random_forest = RandomForestClassifier(n_estimators=100, random_state=17)\n",
    "random_forest.fit(X_train_dll, y_train_dll)\n",
    "random_forest_preds = random_forest.predict(X_test_dll)\n",
    "print('The accuracy of the Random Forests model is :\\t',metrics.accuracy_score(random_forest_preds,y_test_dll))"
   ]
  },
  {
   "cell_type": "markdown",
   "id": "0a22e385",
   "metadata": {
    "papermill": {
     "duration": 0.017323,
     "end_time": "2023-12-27T01:18:09.223357",
     "exception": false,
     "start_time": "2023-12-27T01:18:09.206034",
     "status": "completed"
    },
    "tags": []
   },
   "source": [
    "# **pe sections features**"
   ]
  },
  {
   "cell_type": "code",
   "execution_count": 56,
   "id": "0669b0f8",
   "metadata": {
    "execution": {
     "iopub.execute_input": "2023-12-27T01:18:09.259189Z",
     "iopub.status.busy": "2023-12-27T01:18:09.258855Z",
     "iopub.status.idle": "2023-12-27T01:18:10.211434Z",
     "shell.execute_reply": "2023-12-27T01:18:10.209974Z"
    },
    "papermill": {
     "duration": 0.973749,
     "end_time": "2023-12-27T01:18:10.214150",
     "exception": false,
     "start_time": "2023-12-27T01:18:09.240401",
     "status": "completed"
    },
    "tags": []
   },
   "outputs": [],
   "source": [
    "pecompact = pd.read_pickle('/kaggle/input/packer-balance-pickle/pecompact_balance.pickle')\n",
    "pecompact = pecompact.drop(['sample_sha1','benign','unpacked_sample_sha1','unpacked_sample_id'], axis=1)\n",
    "pecompact = pecompact.drop(['benign_vt','malicious_vt'], axis=1)\n",
    "string_columns = pecompact.select_dtypes(include=['object']).columns\n",
    "pecompact = pecompact.drop(string_columns, axis=1)"
   ]
  },
  {
   "cell_type": "code",
   "execution_count": 57,
   "id": "ea35d3bd",
   "metadata": {
    "execution": {
     "iopub.execute_input": "2023-12-27T01:18:10.251419Z",
     "iopub.status.busy": "2023-12-27T01:18:10.251028Z",
     "iopub.status.idle": "2023-12-27T01:18:11.058085Z",
     "shell.execute_reply": "2023-12-27T01:18:11.056583Z"
    },
    "papermill": {
     "duration": 0.828416,
     "end_time": "2023-12-27T01:18:11.060176",
     "exception": false,
     "start_time": "2023-12-27T01:18:10.231760",
     "status": "completed"
    },
    "tags": []
   },
   "outputs": [
    {
     "name": "stdout",
     "output_type": "stream",
     "text": [
      "removing 13000 features\n",
      "removing 2500 features\n",
      "removing 2 features\n",
      "removing 16900 features\n",
      "removing 66 features\n",
      "removing 19169 features\n",
      "removing 4306 features\n",
      "removing 29 features\n"
     ]
    }
   ],
   "source": [
    "pesection = remove_cols(pecompact, [c for c in cols if c.startswith('ngram_')])\n",
    "pesection = remove_cols(pecompact, [c for c in cols if c.startswith('opcode_')])\n",
    "pesection = remove_cols(pecompact, [c for c in cols if c.startswith('generic_')])\n",
    "pesection = remove_cols(pecompact, [c for c in cols if c.startswith('string_')])\n",
    "pesection = remove_cols(pecompact, [c for c in cols if c.startswith('rich_')])\n",
    "pesection = remove_cols(pecompact, [c for c in cols if c.startswith('imp_') or 'api_import_nb' == c])\n",
    "pesection = remove_cols(pecompact, [c for c in cols if c.endswith('.dll') or 'dll_import_nb' == c])\n",
    "# pesection = remove_cols(pecompact, [c for c in cols if c.startswith('pesection')])\n",
    "pesection = remove_cols(pecompact, [c for c in cols if c.startswith('header_')])"
   ]
  },
  {
   "cell_type": "code",
   "execution_count": 58,
   "id": "0bde82e0",
   "metadata": {
    "execution": {
     "iopub.execute_input": "2023-12-27T01:18:11.097613Z",
     "iopub.status.busy": "2023-12-27T01:18:11.097154Z",
     "iopub.status.idle": "2023-12-27T01:18:11.148475Z",
     "shell.execute_reply": "2023-12-27T01:18:11.146995Z"
    },
    "papermill": {
     "duration": 0.073335,
     "end_time": "2023-12-27T01:18:11.151207",
     "exception": false,
     "start_time": "2023-12-27T01:18:11.077872",
     "status": "completed"
    },
    "tags": []
   },
   "outputs": [],
   "source": [
    "df_7000_pesection = pesection.sample(n=7000, random_state=102)\n",
    "df_3000_pesection = pesection.drop(df_7000.index)\n",
    "data_pesection = df_7000_pesection.sample(n=3500, random_state=102)"
   ]
  },
  {
   "cell_type": "code",
   "execution_count": 59,
   "id": "7288f456",
   "metadata": {
    "execution": {
     "iopub.execute_input": "2023-12-27T01:18:11.188950Z",
     "iopub.status.busy": "2023-12-27T01:18:11.188538Z",
     "iopub.status.idle": "2023-12-27T01:18:11.295548Z",
     "shell.execute_reply": "2023-12-27T01:18:11.293584Z"
    },
    "papermill": {
     "duration": 0.128839,
     "end_time": "2023-12-27T01:18:11.298005",
     "exception": false,
     "start_time": "2023-12-27T01:18:11.169166",
     "status": "completed"
    },
    "tags": []
   },
   "outputs": [
    {
     "name": "stdout",
     "output_type": "stream",
     "text": [
      "Packed Malware: 2951 samples\n",
      "Packed Benign: 549 samples\n",
      "Total TRAIN set: 3500 samples\n",
      "Packed Malware: 549 samples\n",
      "Packed Benign: 549 samples\n",
      "Total TRAIN set: 1098 samples\n",
      "Packed Malware: 499 samples\n",
      "Packed Benign: 499 samples\n",
      "Total TEST set: 998 samples\n"
     ]
    }
   ],
   "source": [
    "#Kiểm tra số lượng mẫu\n",
    "PM = data_pesection[(data_pesection['malicious'] == True) & (data_pesection['packed'] == True)].shape[0]\n",
    "PB = data_pesection[(data_pesection['malicious'] == False) & (data_pesection['packed'] == True)].shape[0]\n",
    "print('Packed Malware: %i samples' % PM)\n",
    "print('Packed Benign: %i samples' % PB)\n",
    "print('Total TRAIN set: %i samples'% (PM+PB))\n",
    "\n",
    "#Chia tỉ lệ 50 - 50\n",
    "data_PM_pesection = data_pesection[(data_pesection['malicious'] == True) & (data_pesection['packed'] == True)].sample(n=(PM-PB), random_state=102)\n",
    "data_pesection = data_pesection.drop(data_PM_pesection.index)\n",
    "      \n",
    "#Số lượng tập train\n",
    "PM = data_pesection[(data_pesection['malicious'] == True) & (data_pesection['packed'] == True)].shape[0]\n",
    "PB = data_pesection[(data_pesection['malicious'] == False) & (data_pesection['packed'] == True)].shape[0]\n",
    "print('Packed Malware: %i samples' % PM)\n",
    "print('Packed Benign: %i samples' % PB)\n",
    "print('Total TRAIN set: %i samples'% (PM+PB))\n",
    "\n",
    "#Xử lý tập train\n",
    "y = data_pesection['malicious'].values\n",
    "data_pesection = data_pesection.drop(['malicious','packed'], axis=1)\n",
    "\n",
    "PM = df_3000_pesection[(df_3000_pesection['malicious'] == True) & (df_3000_pesection['packed'] == True)].shape[0]\n",
    "PB = df_3000_pesection[(df_3000_pesection['malicious'] == False) & (df_3000_pesection['packed'] == True)].shape[0]\n",
    "\n",
    "df_3000_PM_pesection = df_3000_pesection[(df_3000_pesection['malicious'] == True) & (df_3000_pesection['packed'] == True)].sample(n=(PM-PB), random_state=102)\n",
    "df_3000_pesection = df_3000_pesection.drop(df_3000_PM_pesection.index)\n",
    "\n",
    "PM = df_3000_pesection[(df_3000_pesection['malicious'] == True) & (df_3000_pesection['packed'] == True)].shape[0]\n",
    "PB = df_3000_pesection[(df_3000_pesection['malicious'] == False) & (df_3000_pesection['packed'] == True)].shape[0]\n",
    "\n",
    "print('Packed Malware: %i samples' % PM)\n",
    "print('Packed Benign: %i samples' % PB)\n",
    "print('Total TEST set: %i samples'% (PM+PB))"
   ]
  },
  {
   "cell_type": "code",
   "execution_count": 60,
   "id": "3c9f993c",
   "metadata": {
    "execution": {
     "iopub.execute_input": "2023-12-27T01:18:11.335668Z",
     "iopub.status.busy": "2023-12-27T01:18:11.334793Z",
     "iopub.status.idle": "2023-12-27T01:18:11.360024Z",
     "shell.execute_reply": "2023-12-27T01:18:11.358683Z"
    },
    "papermill": {
     "duration": 0.046768,
     "end_time": "2023-12-27T01:18:11.362820",
     "exception": false,
     "start_time": "2023-12-27T01:18:11.316052",
     "status": "completed"
    },
    "tags": []
   },
   "outputs": [],
   "source": [
    "# model = SelectFromModel(fsel, prefit=True)\n",
    "\n",
    "X_train_pesection = data_pesection\n",
    "X_test_pesection = df_3000_pesection.drop(['malicious','packed'], axis=1)\n",
    "\n",
    "data_pesection = data_pesection.loc[:, (data_pesection != 0).any(axis=0)]\n",
    "x_train_pesection = data_pesection\n",
    "X_test_pesection = df_3000_pesection.drop(['malicious','packed'], axis=1)\n",
    "y_train_pesection = y\n",
    "y_test_pesection = df_3000_pesection['malicious'].values"
   ]
  },
  {
   "cell_type": "code",
   "execution_count": 61,
   "id": "fcee5eae",
   "metadata": {
    "execution": {
     "iopub.execute_input": "2023-12-27T01:18:11.400307Z",
     "iopub.status.busy": "2023-12-27T01:18:11.399657Z",
     "iopub.status.idle": "2023-12-27T01:18:11.766802Z",
     "shell.execute_reply": "2023-12-27T01:18:11.766061Z"
    },
    "papermill": {
     "duration": 0.388582,
     "end_time": "2023-12-27T01:18:11.768823",
     "exception": false,
     "start_time": "2023-12-27T01:18:11.380241",
     "status": "completed"
    },
    "tags": []
   },
   "outputs": [
    {
     "name": "stdout",
     "output_type": "stream",
     "text": [
      "The accuracy of the Random Forests model is :\t 0.8527054108216433\n"
     ]
    }
   ],
   "source": [
    "# Random Forest\n",
    "from sklearn.ensemble import RandomForestClassifier\n",
    "from sklearn import metrics\n",
    "\n",
    "random_forest = RandomForestClassifier(n_estimators=100, random_state=17)\n",
    "random_forest.fit(X_train_pesection, y_train_pesection)\n",
    "random_forest_preds = random_forest.predict(X_test_pesection)\n",
    "print('The accuracy of the Random Forests model is :\\t',metrics.accuracy_score(random_forest_preds,y_test_pesection))"
   ]
  },
  {
   "cell_type": "markdown",
   "id": "723ebf7d",
   "metadata": {
    "papermill": {
     "duration": 0.017561,
     "end_time": "2023-12-27T01:18:11.804403",
     "exception": false,
     "start_time": "2023-12-27T01:18:11.786842",
     "status": "completed"
    },
    "tags": []
   },
   "source": [
    "# **pe header features**"
   ]
  },
  {
   "cell_type": "code",
   "execution_count": 62,
   "id": "847bc11a",
   "metadata": {
    "execution": {
     "iopub.execute_input": "2023-12-27T01:18:11.844326Z",
     "iopub.status.busy": "2023-12-27T01:18:11.843417Z",
     "iopub.status.idle": "2023-12-27T01:18:12.946987Z",
     "shell.execute_reply": "2023-12-27T01:18:12.945797Z"
    },
    "papermill": {
     "duration": 1.126016,
     "end_time": "2023-12-27T01:18:12.949409",
     "exception": false,
     "start_time": "2023-12-27T01:18:11.823393",
     "status": "completed"
    },
    "tags": []
   },
   "outputs": [],
   "source": [
    "pecompact = pd.read_pickle('/kaggle/input/packer-balance-pickle/pecompact_balance.pickle')\n",
    "pecompact = pecompact.drop(['sample_sha1','benign','unpacked_sample_sha1','unpacked_sample_id'], axis=1)\n",
    "pecompact = pecompact.drop(['benign_vt','malicious_vt'], axis=1)\n",
    "string_columns = pecompact.select_dtypes(include=['object']).columns\n",
    "pecompact = pecompact.drop(string_columns, axis=1)"
   ]
  },
  {
   "cell_type": "code",
   "execution_count": 63,
   "id": "1cf12ec2",
   "metadata": {
    "execution": {
     "iopub.execute_input": "2023-12-27T01:18:12.987469Z",
     "iopub.status.busy": "2023-12-27T01:18:12.986899Z",
     "iopub.status.idle": "2023-12-27T01:18:13.745774Z",
     "shell.execute_reply": "2023-12-27T01:18:13.744680Z"
    },
    "papermill": {
     "duration": 0.780442,
     "end_time": "2023-12-27T01:18:13.747876",
     "exception": false,
     "start_time": "2023-12-27T01:18:12.967434",
     "status": "completed"
    },
    "tags": []
   },
   "outputs": [
    {
     "name": "stdout",
     "output_type": "stream",
     "text": [
      "removing 13000 features\n",
      "removing 2500 features\n",
      "removing 2 features\n",
      "removing 16900 features\n",
      "removing 66 features\n",
      "removing 19169 features\n",
      "removing 4306 features\n",
      "removing 550 features\n"
     ]
    }
   ],
   "source": [
    "header = remove_cols(pecompact, [c for c in cols if c.startswith('ngram_')])\n",
    "header = remove_cols(pecompact, [c for c in cols if c.startswith('opcode_')])\n",
    "header = remove_cols(pecompact, [c for c in cols if c.startswith('generic_')])\n",
    "header = remove_cols(pecompact, [c for c in cols if c.startswith('string_')])\n",
    "header = remove_cols(pecompact, [c for c in cols if c.startswith('rich_')])\n",
    "header = remove_cols(pecompact, [c for c in cols if c.startswith('imp_') or 'api_import_nb' == c])\n",
    "header = remove_cols(pecompact, [c for c in cols if c.endswith('.dll') or 'dll_import_nb' == c])\n",
    "header = remove_cols(pecompact, [c for c in cols if c.startswith('pesection')])\n",
    "# header = remove_cols(pecompact, [c for c in cols if c.startswith('header_')])"
   ]
  },
  {
   "cell_type": "code",
   "execution_count": 64,
   "id": "d845214d",
   "metadata": {
    "execution": {
     "iopub.execute_input": "2023-12-27T01:18:13.787405Z",
     "iopub.status.busy": "2023-12-27T01:18:13.786575Z",
     "iopub.status.idle": "2023-12-27T01:18:13.801728Z",
     "shell.execute_reply": "2023-12-27T01:18:13.799809Z"
    },
    "papermill": {
     "duration": 0.038686,
     "end_time": "2023-12-27T01:18:13.804933",
     "exception": false,
     "start_time": "2023-12-27T01:18:13.766247",
     "status": "completed"
    },
    "tags": []
   },
   "outputs": [],
   "source": [
    "df_7000_header = header.sample(n=7000, random_state=102)\n",
    "df_3000_header = header.drop(df_7000.index)\n",
    "data_header = df_7000_header.sample(n=3500, random_state=102)"
   ]
  },
  {
   "cell_type": "code",
   "execution_count": 65,
   "id": "04d86586",
   "metadata": {
    "execution": {
     "iopub.execute_input": "2023-12-27T01:18:13.843733Z",
     "iopub.status.busy": "2023-12-27T01:18:13.843324Z",
     "iopub.status.idle": "2023-12-27T01:18:13.877481Z",
     "shell.execute_reply": "2023-12-27T01:18:13.875532Z"
    },
    "papermill": {
     "duration": 0.057584,
     "end_time": "2023-12-27T01:18:13.880726",
     "exception": false,
     "start_time": "2023-12-27T01:18:13.823142",
     "status": "completed"
    },
    "tags": []
   },
   "outputs": [
    {
     "name": "stdout",
     "output_type": "stream",
     "text": [
      "Packed Malware: 2951 samples\n",
      "Packed Benign: 549 samples\n",
      "Total TRAIN set: 3500 samples\n",
      "Packed Malware: 549 samples\n",
      "Packed Benign: 549 samples\n",
      "Total TRAIN set: 1098 samples\n",
      "Packed Malware: 499 samples\n",
      "Packed Benign: 499 samples\n",
      "Total TEST set: 998 samples\n"
     ]
    }
   ],
   "source": [
    "#Kiểm tra số lượng mẫu\n",
    "PM = data_header[(data_header['malicious'] == True) & (data_header['packed'] == True)].shape[0]\n",
    "PB = data_header[(data_header['malicious'] == False) & (data_header['packed'] == True)].shape[0]\n",
    "print('Packed Malware: %i samples' % PM)\n",
    "print('Packed Benign: %i samples' % PB)\n",
    "print('Total TRAIN set: %i samples'% (PM+PB))\n",
    "\n",
    "#Chia tỉ lệ 50 - 50\n",
    "data_PM_header = data_header[(data_header['malicious'] == True) & (data_header['packed'] == True)].sample(n=(PM-PB), random_state=102)\n",
    "data_header = data_header.drop(data_PM_header.index)\n",
    "      \n",
    "#Số lượng tập train\n",
    "PM = data_header[(data_header['malicious'] == True) & (data_header['packed'] == True)].shape[0]\n",
    "PB = data_header[(data_header['malicious'] == False) & (data_header['packed'] == True)].shape[0]\n",
    "print('Packed Malware: %i samples' % PM)\n",
    "print('Packed Benign: %i samples' % PB)\n",
    "print('Total TRAIN set: %i samples'% (PM+PB))\n",
    "\n",
    "#Xử lý tập train\n",
    "y = data_header['malicious'].values\n",
    "data_header= data_header.drop(['malicious','packed'], axis=1)\n",
    "\n",
    "PM = df_3000_header[(df_3000_header['malicious'] == True) & (df_3000_header['packed'] == True)].shape[0]\n",
    "PB = df_3000_header[(df_3000_header['malicious'] == False) & (df_3000_header['packed'] == True)].shape[0]\n",
    "\n",
    "df_3000_PM_header = df_3000_header[(df_3000_header['malicious'] == True) & (df_3000_header['packed'] == True)].sample(n=(PM-PB), random_state=102)\n",
    "df_3000_header= df_3000_header.drop(df_3000_PM_header.index)\n",
    "\n",
    "PM = df_3000_header[(df_3000_header['malicious'] == True) & (df_3000_header['packed'] == True)].shape[0]\n",
    "PB = df_3000_header[(df_3000_header['malicious'] == False) & (df_3000_header['packed'] == True)].shape[0]\n",
    "\n",
    "print('Packed Malware: %i samples' % PM)\n",
    "print('Packed Benign: %i samples' % PB)\n",
    "print('Total TEST set: %i samples'% (PM+PB))"
   ]
  },
  {
   "cell_type": "code",
   "execution_count": 66,
   "id": "8824b039",
   "metadata": {
    "execution": {
     "iopub.execute_input": "2023-12-27T01:18:13.920796Z",
     "iopub.status.busy": "2023-12-27T01:18:13.920133Z",
     "iopub.status.idle": "2023-12-27T01:18:13.933100Z",
     "shell.execute_reply": "2023-12-27T01:18:13.931693Z"
    },
    "papermill": {
     "duration": 0.036587,
     "end_time": "2023-12-27T01:18:13.936359",
     "exception": false,
     "start_time": "2023-12-27T01:18:13.899772",
     "status": "completed"
    },
    "tags": []
   },
   "outputs": [],
   "source": [
    "# model = SelectFromModel(fsel, prefit=True)\n",
    "\n",
    "X_train_header = data_header\n",
    "X_test_header = df_3000_header.drop(['malicious','packed'], axis=1)\n",
    "\n",
    "data_header = data_header.loc[:, (data_header != 0).any(axis=0)]\n",
    "x_train_header = data_header\n",
    "X_test_header = df_3000_header.drop(['malicious','packed'], axis=1)\n",
    "y_train_header = y\n",
    "y_test_header = df_3000_header['malicious'].values"
   ]
  },
  {
   "cell_type": "code",
   "execution_count": 67,
   "id": "62255608",
   "metadata": {
    "execution": {
     "iopub.execute_input": "2023-12-27T01:18:13.974320Z",
     "iopub.status.busy": "2023-12-27T01:18:13.973993Z",
     "iopub.status.idle": "2023-12-27T01:18:14.218032Z",
     "shell.execute_reply": "2023-12-27T01:18:14.216685Z"
    },
    "papermill": {
     "duration": 0.266337,
     "end_time": "2023-12-27T01:18:14.220998",
     "exception": false,
     "start_time": "2023-12-27T01:18:13.954661",
     "status": "completed"
    },
    "tags": []
   },
   "outputs": [
    {
     "name": "stdout",
     "output_type": "stream",
     "text": [
      "The accuracy of the Random Forests model is :\t 0.8907815631262525\n"
     ]
    }
   ],
   "source": [
    "# Random Forest\n",
    "from sklearn.ensemble import RandomForestClassifier\n",
    "from sklearn import metrics\n",
    "\n",
    "random_forest = RandomForestClassifier(n_estimators=100, random_state=17)\n",
    "random_forest.fit(X_train_header, y_train_header)\n",
    "random_forest_preds = random_forest.predict(X_test_header)\n",
    "print('The accuracy of the Random Forests model is :\\t',metrics.accuracy_score(random_forest_preds,y_test_header))"
   ]
  }
 ],
 "metadata": {
  "kaggle": {
   "accelerator": "none",
   "dataSources": [
    {
     "datasetId": 4192384,
     "sourceId": 7262652,
     "sourceType": "datasetVersion"
    }
   ],
   "dockerImageVersionId": 30626,
   "isGpuEnabled": false,
   "isInternetEnabled": true,
   "language": "python",
   "sourceType": "notebook"
  },
  "kernelspec": {
   "display_name": "Python 3",
   "language": "python",
   "name": "python3"
  },
  "language_info": {
   "codemirror_mode": {
    "name": "ipython",
    "version": 3
   },
   "file_extension": ".py",
   "mimetype": "text/x-python",
   "name": "python",
   "nbconvert_exporter": "python",
   "pygments_lexer": "ipython3",
   "version": "3.10.12"
  },
  "papermill": {
   "default_parameters": {},
   "duration": 55.664194,
   "end_time": "2023-12-27T01:18:14.962094",
   "environment_variables": {},
   "exception": null,
   "input_path": "__notebook__.ipynb",
   "output_path": "__notebook__.ipynb",
   "parameters": {},
   "start_time": "2023-12-27T01:17:19.297900",
   "version": "2.4.0"
  }
 },
 "nbformat": 4,
 "nbformat_minor": 5
}
