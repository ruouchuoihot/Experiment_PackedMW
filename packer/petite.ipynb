{
 "cells": [
  {
   "cell_type": "code",
   "execution_count": 1,
   "id": "c007d506",
   "metadata": {
    "execution": {
     "iopub.execute_input": "2024-01-23T12:10:48.369037Z",
     "iopub.status.busy": "2024-01-23T12:10:48.368329Z",
     "iopub.status.idle": "2024-01-23T12:10:51.281397Z",
     "shell.execute_reply": "2024-01-23T12:10:51.280344Z"
    },
    "papermill": {
     "duration": 2.941061,
     "end_time": "2024-01-23T12:10:51.284391",
     "exception": false,
     "start_time": "2024-01-23T12:10:48.343330",
     "status": "completed"
    },
    "tags": []
   },
   "outputs": [],
   "source": [
    "import pandas as pd\n",
    "import numpy as np\n",
    "import sklearn\n",
    "import sklearn.naive_bayes\n",
    "import sklearn.ensemble as ske\n",
    "import sklearn.neighbors\n",
    "import sklearn.pipeline\n",
    "import sklearn.linear_model\n",
    "import joblib\n",
    "from sklearn import preprocessing\n",
    "from sklearn import tree, linear_model\n",
    "from sklearn.metrics import confusion_matrix\n",
    "from sklearn.metrics import classification_report\n",
    "from sklearn.feature_selection import SelectFromModel\n",
    "import sys\n",
    "import sqlite3\n",
    "import importlib\n",
    "import matplotlib.pyplot as plt\n",
    "import seaborn as sn\n",
    "from sklearn import metrics"
   ]
  },
  {
   "cell_type": "code",
   "execution_count": 2,
   "id": "5e3d2214",
   "metadata": {
    "execution": {
     "iopub.execute_input": "2024-01-23T12:10:51.333140Z",
     "iopub.status.busy": "2024-01-23T12:10:51.332239Z",
     "iopub.status.idle": "2024-01-23T12:10:56.268121Z",
     "shell.execute_reply": "2024-01-23T12:10:56.266741Z"
    },
    "papermill": {
     "duration": 4.963661,
     "end_time": "2024-01-23T12:10:56.271532",
     "exception": false,
     "start_time": "2024-01-23T12:10:51.307871",
     "status": "completed"
    },
    "tags": []
   },
   "outputs": [],
   "source": [
    "petite = pd.read_pickle('/kaggle/input/packer-balance-pickle/petite_balance.pickle')"
   ]
  },
  {
   "cell_type": "code",
   "execution_count": 3,
   "id": "8de62b86",
   "metadata": {
    "execution": {
     "iopub.execute_input": "2024-01-23T12:10:56.321072Z",
     "iopub.status.busy": "2024-01-23T12:10:56.319952Z",
     "iopub.status.idle": "2024-01-23T12:10:57.356424Z",
     "shell.execute_reply": "2024-01-23T12:10:57.355370Z"
    },
    "papermill": {
     "duration": 1.063839,
     "end_time": "2024-01-23T12:10:57.359050",
     "exception": false,
     "start_time": "2024-01-23T12:10:56.295211",
     "status": "completed"
    },
    "tags": []
   },
   "outputs": [],
   "source": [
    "petite = petite.drop(['sample_sha1','benign','unpacked_sample_sha1','unpacked_sample_id'], axis=1)\n",
    "petite = petite.drop(['benign_vt','malicious_vt'], axis=1)"
   ]
  },
  {
   "cell_type": "code",
   "execution_count": 4,
   "id": "f0a729de",
   "metadata": {
    "execution": {
     "iopub.execute_input": "2024-01-23T12:10:57.406632Z",
     "iopub.status.busy": "2024-01-23T12:10:57.406160Z",
     "iopub.status.idle": "2024-01-23T12:10:57.747956Z",
     "shell.execute_reply": "2024-01-23T12:10:57.746747Z"
    },
    "papermill": {
     "duration": 0.36877,
     "end_time": "2024-01-23T12:10:57.750913",
     "exception": false,
     "start_time": "2024-01-23T12:10:57.382143",
     "status": "completed"
    },
    "tags": []
   },
   "outputs": [],
   "source": [
    "string_columns = petite.select_dtypes(include=['object']).columns\n",
    "petite = petite.drop(string_columns, axis=1)"
   ]
  },
  {
   "cell_type": "code",
   "execution_count": 5,
   "id": "6a712813",
   "metadata": {
    "execution": {
     "iopub.execute_input": "2024-01-23T12:10:57.798557Z",
     "iopub.status.busy": "2024-01-23T12:10:57.798109Z",
     "iopub.status.idle": "2024-01-23T12:10:57.849066Z",
     "shell.execute_reply": "2024-01-23T12:10:57.847947Z"
    },
    "papermill": {
     "duration": 0.077657,
     "end_time": "2024-01-23T12:10:57.851541",
     "exception": false,
     "start_time": "2024-01-23T12:10:57.773884",
     "status": "completed"
    },
    "tags": []
   },
   "outputs": [
    {
     "data": {
      "text/html": [
       "<div>\n",
       "<style scoped>\n",
       "    .dataframe tbody tr th:only-of-type {\n",
       "        vertical-align: middle;\n",
       "    }\n",
       "\n",
       "    .dataframe tbody tr th {\n",
       "        vertical-align: top;\n",
       "    }\n",
       "\n",
       "    .dataframe thead th {\n",
       "        text-align: right;\n",
       "    }\n",
       "</style>\n",
       "<table border=\"1\" class=\"dataframe\">\n",
       "  <thead>\n",
       "    <tr style=\"text-align: right;\">\n",
       "      <th></th>\n",
       "      <th>malicious</th>\n",
       "      <th>packed</th>\n",
       "      <th>imp_setupremovefilelogentrya</th>\n",
       "      <th>imp_vardeccmp</th>\n",
       "      <th>imp_setdlgitemint</th>\n",
       "      <th>imp_?append@?$basic_string@du?$char_traits@d@std@@v?$allocator@d@2@@std@@qaeaav12@abv12@ii@z</th>\n",
       "      <th>imp_zwwritefile</th>\n",
       "      <th>imp_glstencilop</th>\n",
       "      <th>imp_comparelinkinforeferents</th>\n",
       "      <th>imp__setmbcp</th>\n",
       "      <th>...</th>\n",
       "      <th>opcode_xor sub mov</th>\n",
       "      <th>opcode_xor sub mov add</th>\n",
       "      <th>opcode_xor test</th>\n",
       "      <th>opcode_xor test je</th>\n",
       "      <th>opcode_xor xor</th>\n",
       "      <th>opcode_xor xor mov</th>\n",
       "      <th>opcode_xor xor pop</th>\n",
       "      <th>opcode_xor xor pop mov</th>\n",
       "      <th>opcode_xor xor xor</th>\n",
       "      <th>opcode_xor xor xor pop</th>\n",
       "    </tr>\n",
       "  </thead>\n",
       "  <tbody>\n",
       "    <tr>\n",
       "      <th>0</th>\n",
       "      <td>False</td>\n",
       "      <td>True</td>\n",
       "      <td>False</td>\n",
       "      <td>False</td>\n",
       "      <td>False</td>\n",
       "      <td>False</td>\n",
       "      <td>False</td>\n",
       "      <td>False</td>\n",
       "      <td>False</td>\n",
       "      <td>False</td>\n",
       "      <td>...</td>\n",
       "      <td>0.0</td>\n",
       "      <td>0.0</td>\n",
       "      <td>0.0</td>\n",
       "      <td>0.0</td>\n",
       "      <td>0.0</td>\n",
       "      <td>0.0</td>\n",
       "      <td>0.0</td>\n",
       "      <td>0.0</td>\n",
       "      <td>0.0</td>\n",
       "      <td>0.0</td>\n",
       "    </tr>\n",
       "    <tr>\n",
       "      <th>11</th>\n",
       "      <td>True</td>\n",
       "      <td>True</td>\n",
       "      <td>False</td>\n",
       "      <td>False</td>\n",
       "      <td>False</td>\n",
       "      <td>False</td>\n",
       "      <td>False</td>\n",
       "      <td>False</td>\n",
       "      <td>False</td>\n",
       "      <td>False</td>\n",
       "      <td>...</td>\n",
       "      <td>0.0</td>\n",
       "      <td>0.0</td>\n",
       "      <td>0.0</td>\n",
       "      <td>0.0</td>\n",
       "      <td>0.0</td>\n",
       "      <td>0.0</td>\n",
       "      <td>0.0</td>\n",
       "      <td>0.0</td>\n",
       "      <td>0.0</td>\n",
       "      <td>0.0</td>\n",
       "    </tr>\n",
       "    <tr>\n",
       "      <th>12</th>\n",
       "      <td>True</td>\n",
       "      <td>True</td>\n",
       "      <td>False</td>\n",
       "      <td>False</td>\n",
       "      <td>False</td>\n",
       "      <td>False</td>\n",
       "      <td>False</td>\n",
       "      <td>False</td>\n",
       "      <td>False</td>\n",
       "      <td>False</td>\n",
       "      <td>...</td>\n",
       "      <td>0.0</td>\n",
       "      <td>0.0</td>\n",
       "      <td>0.0</td>\n",
       "      <td>0.0</td>\n",
       "      <td>0.0</td>\n",
       "      <td>0.0</td>\n",
       "      <td>0.0</td>\n",
       "      <td>0.0</td>\n",
       "      <td>0.0</td>\n",
       "      <td>0.0</td>\n",
       "    </tr>\n",
       "    <tr>\n",
       "      <th>13</th>\n",
       "      <td>False</td>\n",
       "      <td>True</td>\n",
       "      <td>False</td>\n",
       "      <td>False</td>\n",
       "      <td>False</td>\n",
       "      <td>False</td>\n",
       "      <td>False</td>\n",
       "      <td>False</td>\n",
       "      <td>False</td>\n",
       "      <td>False</td>\n",
       "      <td>...</td>\n",
       "      <td>0.0</td>\n",
       "      <td>0.0</td>\n",
       "      <td>0.0</td>\n",
       "      <td>0.0</td>\n",
       "      <td>0.0</td>\n",
       "      <td>0.0</td>\n",
       "      <td>0.0</td>\n",
       "      <td>0.0</td>\n",
       "      <td>0.0</td>\n",
       "      <td>0.0</td>\n",
       "    </tr>\n",
       "    <tr>\n",
       "      <th>14</th>\n",
       "      <td>True</td>\n",
       "      <td>True</td>\n",
       "      <td>False</td>\n",
       "      <td>False</td>\n",
       "      <td>False</td>\n",
       "      <td>False</td>\n",
       "      <td>False</td>\n",
       "      <td>False</td>\n",
       "      <td>False</td>\n",
       "      <td>False</td>\n",
       "      <td>...</td>\n",
       "      <td>0.0</td>\n",
       "      <td>0.0</td>\n",
       "      <td>0.0</td>\n",
       "      <td>0.0</td>\n",
       "      <td>0.0</td>\n",
       "      <td>0.0</td>\n",
       "      <td>0.0</td>\n",
       "      <td>0.0</td>\n",
       "      <td>0.0</td>\n",
       "      <td>0.0</td>\n",
       "    </tr>\n",
       "  </tbody>\n",
       "</table>\n",
       "<p>5 rows × 56526 columns</p>\n",
       "</div>"
      ],
      "text/plain": [
       "    malicious  packed  imp_setupremovefilelogentrya  imp_vardeccmp  \\\n",
       "0       False    True                         False          False   \n",
       "11       True    True                         False          False   \n",
       "12       True    True                         False          False   \n",
       "13      False    True                         False          False   \n",
       "14       True    True                         False          False   \n",
       "\n",
       "    imp_setdlgitemint  \\\n",
       "0               False   \n",
       "11              False   \n",
       "12              False   \n",
       "13              False   \n",
       "14              False   \n",
       "\n",
       "    imp_?append@?$basic_string@du?$char_traits@d@std@@v?$allocator@d@2@@std@@qaeaav12@abv12@ii@z  \\\n",
       "0                                               False                                              \n",
       "11                                              False                                              \n",
       "12                                              False                                              \n",
       "13                                              False                                              \n",
       "14                                              False                                              \n",
       "\n",
       "    imp_zwwritefile  imp_glstencilop  imp_comparelinkinforeferents  \\\n",
       "0             False            False                         False   \n",
       "11            False            False                         False   \n",
       "12            False            False                         False   \n",
       "13            False            False                         False   \n",
       "14            False            False                         False   \n",
       "\n",
       "    imp__setmbcp  ...  opcode_xor sub mov  opcode_xor sub mov add  \\\n",
       "0          False  ...                 0.0                     0.0   \n",
       "11         False  ...                 0.0                     0.0   \n",
       "12         False  ...                 0.0                     0.0   \n",
       "13         False  ...                 0.0                     0.0   \n",
       "14         False  ...                 0.0                     0.0   \n",
       "\n",
       "    opcode_xor test  opcode_xor test je  opcode_xor xor  opcode_xor xor mov  \\\n",
       "0               0.0                 0.0             0.0                 0.0   \n",
       "11              0.0                 0.0             0.0                 0.0   \n",
       "12              0.0                 0.0             0.0                 0.0   \n",
       "13              0.0                 0.0             0.0                 0.0   \n",
       "14              0.0                 0.0             0.0                 0.0   \n",
       "\n",
       "    opcode_xor xor pop  opcode_xor xor pop mov  opcode_xor xor xor  \\\n",
       "0                  0.0                     0.0                 0.0   \n",
       "11                 0.0                     0.0                 0.0   \n",
       "12                 0.0                     0.0                 0.0   \n",
       "13                 0.0                     0.0                 0.0   \n",
       "14                 0.0                     0.0                 0.0   \n",
       "\n",
       "    opcode_xor xor xor pop  \n",
       "0                      0.0  \n",
       "11                     0.0  \n",
       "12                     0.0  \n",
       "13                     0.0  \n",
       "14                     0.0  \n",
       "\n",
       "[5 rows x 56526 columns]"
      ]
     },
     "execution_count": 5,
     "metadata": {},
     "output_type": "execute_result"
    }
   ],
   "source": [
    "petite.head()"
   ]
  },
  {
   "cell_type": "code",
   "execution_count": 6,
   "id": "b5427fb3",
   "metadata": {
    "execution": {
     "iopub.execute_input": "2024-01-23T12:10:57.900263Z",
     "iopub.status.busy": "2024-01-23T12:10:57.899053Z",
     "iopub.status.idle": "2024-01-23T12:10:58.805943Z",
     "shell.execute_reply": "2024-01-23T12:10:58.804582Z"
    },
    "papermill": {
     "duration": 0.93452,
     "end_time": "2024-01-23T12:10:58.809071",
     "exception": false,
     "start_time": "2024-01-23T12:10:57.874551",
     "status": "completed"
    },
    "tags": []
   },
   "outputs": [],
   "source": [
    "df_7000 = petite.sample(n=7000, random_state=102)\n",
    "df_3000 = petite.drop(df_7000.index)"
   ]
  },
  {
   "cell_type": "code",
   "execution_count": 7,
   "id": "1c928156",
   "metadata": {
    "execution": {
     "iopub.execute_input": "2024-01-23T12:10:58.858071Z",
     "iopub.status.busy": "2024-01-23T12:10:58.857177Z",
     "iopub.status.idle": "2024-01-23T12:10:59.302149Z",
     "shell.execute_reply": "2024-01-23T12:10:59.300750Z"
    },
    "papermill": {
     "duration": 0.472282,
     "end_time": "2024-01-23T12:10:59.304945",
     "exception": false,
     "start_time": "2024-01-23T12:10:58.832663",
     "status": "completed"
    },
    "tags": []
   },
   "outputs": [],
   "source": [
    "data = df_7000.sample(n=3500, random_state=102)"
   ]
  },
  {
   "cell_type": "code",
   "execution_count": 8,
   "id": "35db4603",
   "metadata": {
    "execution": {
     "iopub.execute_input": "2024-01-23T12:10:59.353587Z",
     "iopub.status.busy": "2024-01-23T12:10:59.352735Z",
     "iopub.status.idle": "2024-01-23T12:10:59.734953Z",
     "shell.execute_reply": "2024-01-23T12:10:59.733716Z"
    },
    "papermill": {
     "duration": 0.409384,
     "end_time": "2024-01-23T12:10:59.737599",
     "exception": false,
     "start_time": "2024-01-23T12:10:59.328215",
     "status": "completed"
    },
    "tags": []
   },
   "outputs": [
    {
     "name": "stdout",
     "output_type": "stream",
     "text": [
      "Packed Malware: 2302 samples\n",
      "Packed Benign: 1198 samples\n",
      "Total TRAIN set: 3500 samples\n"
     ]
    }
   ],
   "source": [
    "#Kiểm tra số lượng mẫu\n",
    "PM = data[(data['malicious'] == True) & (data['packed'] == True)].shape[0]\n",
    "PB = data[(data['malicious'] == False) & (data['packed'] == True)].shape[0]\n",
    "print('Packed Malware: %i samples' % PM)\n",
    "print('Packed Benign: %i samples' % PB)\n",
    "print('Total TRAIN set: %i samples'% (PM+PB))"
   ]
  },
  {
   "cell_type": "code",
   "execution_count": 9,
   "id": "b2aad019",
   "metadata": {
    "execution": {
     "iopub.execute_input": "2024-01-23T12:10:59.855893Z",
     "iopub.status.busy": "2024-01-23T12:10:59.855501Z",
     "iopub.status.idle": "2024-01-23T12:11:00.388787Z",
     "shell.execute_reply": "2024-01-23T12:11:00.387752Z"
    },
    "papermill": {
     "duration": 0.62988,
     "end_time": "2024-01-23T12:11:00.391583",
     "exception": false,
     "start_time": "2024-01-23T12:10:59.761703",
     "status": "completed"
    },
    "tags": []
   },
   "outputs": [],
   "source": [
    "#Chia tỉ lệ 50 - 50\n",
    "data_PM = data[(data['malicious'] == True) & (data['packed'] == True)].sample(n=(PM-PB), random_state=102)\n",
    "data = data.drop(data_PM.index)"
   ]
  },
  {
   "cell_type": "code",
   "execution_count": 10,
   "id": "c4a57034",
   "metadata": {
    "execution": {
     "iopub.execute_input": "2024-01-23T12:11:00.441436Z",
     "iopub.status.busy": "2024-01-23T12:11:00.441008Z",
     "iopub.status.idle": "2024-01-23T12:11:00.652307Z",
     "shell.execute_reply": "2024-01-23T12:11:00.651105Z"
    },
    "papermill": {
     "duration": 0.23889,
     "end_time": "2024-01-23T12:11:00.654960",
     "exception": false,
     "start_time": "2024-01-23T12:11:00.416070",
     "status": "completed"
    },
    "tags": []
   },
   "outputs": [
    {
     "name": "stdout",
     "output_type": "stream",
     "text": [
      "Packed Malware: 1198 samples\n",
      "Packed Benign: 1198 samples\n",
      "Total TRAIN set: 2396 samples\n"
     ]
    }
   ],
   "source": [
    "#Số lượng tập train\n",
    "PM = data[(data['malicious'] == True) & (data['packed'] == True)].shape[0]\n",
    "PB = data[(data['malicious'] == False) & (data['packed'] == True)].shape[0]\n",
    "print('Packed Malware: %i samples' % PM)\n",
    "print('Packed Benign: %i samples' % PB)\n",
    "print('Total TRAIN set: %i samples'% (PM+PB))"
   ]
  },
  {
   "cell_type": "code",
   "execution_count": 11,
   "id": "79414768",
   "metadata": {
    "execution": {
     "iopub.execute_input": "2024-01-23T12:11:00.707028Z",
     "iopub.status.busy": "2024-01-23T12:11:00.706593Z",
     "iopub.status.idle": "2024-01-23T12:11:00.804457Z",
     "shell.execute_reply": "2024-01-23T12:11:00.803367Z"
    },
    "papermill": {
     "duration": 0.127799,
     "end_time": "2024-01-23T12:11:00.807381",
     "exception": false,
     "start_time": "2024-01-23T12:11:00.679582",
     "status": "completed"
    },
    "tags": []
   },
   "outputs": [],
   "source": [
    "#Xử lý tập train\n",
    "y = data['malicious'].values\n",
    "data = data.drop(['malicious','packed'], axis=1)"
   ]
  },
  {
   "cell_type": "code",
   "execution_count": 12,
   "id": "779f8ec6",
   "metadata": {
    "execution": {
     "iopub.execute_input": "2024-01-23T12:11:00.857004Z",
     "iopub.status.busy": "2024-01-23T12:11:00.856595Z",
     "iopub.status.idle": "2024-01-23T12:11:01.706371Z",
     "shell.execute_reply": "2024-01-23T12:11:01.705063Z"
    },
    "papermill": {
     "duration": 0.878196,
     "end_time": "2024-01-23T12:11:01.709397",
     "exception": false,
     "start_time": "2024-01-23T12:11:00.831201",
     "status": "completed"
    },
    "tags": []
   },
   "outputs": [
    {
     "name": "stdout",
     "output_type": "stream",
     "text": [
      "Packed Malware: 1056 samples\n",
      "Packed Benign: 1056 samples\n",
      "Total TEST set: 2112 samples\n"
     ]
    }
   ],
   "source": [
    "PM = df_3000[(df_3000['malicious'] == True) & (df_3000['packed'] == True)].shape[0]\n",
    "PB = df_3000[(df_3000['malicious'] == False) & (df_3000['packed'] == True)].shape[0]\n",
    "\n",
    "df_3000_PM = df_3000[(df_3000['malicious'] == True) & (df_3000['packed'] == True)].sample(n=(PM-PB), random_state=102)\n",
    "df_3000 = df_3000.drop(df_3000_PM.index)\n",
    "\n",
    "PM = df_3000[(df_3000['malicious'] == True) & (df_3000['packed'] == True)].shape[0]\n",
    "PB = df_3000[(df_3000['malicious'] == False) & (df_3000['packed'] == True)].shape[0]\n",
    "\n",
    "print('Packed Malware: %i samples' % PM)\n",
    "print('Packed Benign: %i samples' % PB)\n",
    "print('Total TEST set: %i samples'% (PM+PB))"
   ]
  },
  {
   "cell_type": "code",
   "execution_count": 13,
   "id": "46977b12",
   "metadata": {
    "execution": {
     "iopub.execute_input": "2024-01-23T12:11:01.760942Z",
     "iopub.status.busy": "2024-01-23T12:11:01.759769Z",
     "iopub.status.idle": "2024-01-23T12:11:02.207202Z",
     "shell.execute_reply": "2024-01-23T12:11:02.205946Z"
    },
    "papermill": {
     "duration": 0.476168,
     "end_time": "2024-01-23T12:11:02.210289",
     "exception": false,
     "start_time": "2024-01-23T12:11:01.734121",
     "status": "completed"
    },
    "tags": []
   },
   "outputs": [],
   "source": [
    "# model = SelectFromModel(fsel, prefit=True)\n",
    "\n",
    "X_train = data\n",
    "X_test = df_3000.drop(['malicious','packed'], axis=1)\n",
    "\n",
    "data = data.loc[:, (data != 0).any(axis=0)]\n",
    "x_train = data\n",
    "X_test = df_3000.drop(['malicious','packed'], axis=1)\n",
    "y_train = y\n",
    "y_test = df_3000['malicious'].values"
   ]
  },
  {
   "cell_type": "code",
   "execution_count": 14,
   "id": "9dc23061",
   "metadata": {
    "execution": {
     "iopub.execute_input": "2024-01-23T12:11:02.260124Z",
     "iopub.status.busy": "2024-01-23T12:11:02.259664Z",
     "iopub.status.idle": "2024-01-23T12:11:07.942000Z",
     "shell.execute_reply": "2024-01-23T12:11:07.940828Z"
    },
    "papermill": {
     "duration": 5.710094,
     "end_time": "2024-01-23T12:11:07.944656",
     "exception": false,
     "start_time": "2024-01-23T12:11:02.234562",
     "status": "completed"
    },
    "tags": []
   },
   "outputs": [
    {
     "name": "stdout",
     "output_type": "stream",
     "text": [
      "The accuracy of the Random Forests model is :\t 0.9389204545454546\n"
     ]
    }
   ],
   "source": [
    "# Random Forest\n",
    "from sklearn.ensemble import RandomForestClassifier\n",
    "from sklearn import metrics\n",
    "\n",
    "random_forest = RandomForestClassifier(n_estimators=100, random_state=17)\n",
    "random_forest.fit(X_train, y_train)\n",
    "random_forest_preds = random_forest.predict(X_test)\n",
    "print('The accuracy of the Random Forests model is :\\t',metrics.accuracy_score(random_forest_preds,y_test))"
   ]
  },
  {
   "cell_type": "code",
   "execution_count": 15,
   "id": "faa95308",
   "metadata": {
    "execution": {
     "iopub.execute_input": "2024-01-23T12:11:07.995751Z",
     "iopub.status.busy": "2024-01-23T12:11:07.995038Z",
     "iopub.status.idle": "2024-01-23T12:11:08.017860Z",
     "shell.execute_reply": "2024-01-23T12:11:08.016373Z"
    },
    "papermill": {
     "duration": 0.051862,
     "end_time": "2024-01-23T12:11:08.020782",
     "exception": false,
     "start_time": "2024-01-23T12:11:07.968920",
     "status": "completed"
    },
    "tags": []
   },
   "outputs": [
    {
     "name": "stdout",
     "output_type": "stream",
     "text": [
      "True positive : 1009 \n",
      "True negative : 974 \n",
      "False positive : 82 \n",
      "False negative : 47 \n",
      "Classification Report:\n",
      "               precision    recall  f1-score   support\n",
      "\n",
      "       False       0.95      0.92      0.94      1056\n",
      "        True       0.92      0.96      0.94      1056\n",
      "\n",
      "    accuracy                           0.94      2112\n",
      "   macro avg       0.94      0.94      0.94      2112\n",
      "weighted avg       0.94      0.94      0.94      2112\n",
      "\n"
     ]
    }
   ],
   "source": [
    "mt = confusion_matrix(y_test, random_forest_preds)\n",
    "report = classification_report(y_test, random_forest_preds)\n",
    "print(\"True positive : %i \" % (mt[1][1]))\n",
    "print(\"True negative : %i \" % (mt[0][0]))\n",
    "print(\"False positive : %i \" % (mt[0][1]))\n",
    "print(\"False negative : %i \" % (mt[1][0]))\n",
    "print(\"Classification Report:\\n\", report)"
   ]
  },
  {
   "cell_type": "code",
   "execution_count": 16,
   "id": "0fd975a1",
   "metadata": {
    "execution": {
     "iopub.execute_input": "2024-01-23T12:11:08.070685Z",
     "iopub.status.busy": "2024-01-23T12:11:08.070268Z",
     "iopub.status.idle": "2024-01-23T12:11:08.137670Z",
     "shell.execute_reply": "2024-01-23T12:11:08.136519Z"
    },
    "papermill": {
     "duration": 0.095805,
     "end_time": "2024-01-23T12:11:08.140322",
     "exception": false,
     "start_time": "2024-01-23T12:11:08.044517",
     "status": "completed"
    },
    "tags": []
   },
   "outputs": [
    {
     "data": {
      "text/plain": [
       "ngram_b'e\\x00 \\x00D\\x00'                 0.009002\n",
       "pesection_3_virtualSize                  0.007900\n",
       "ngram_b'\\x00e\\x00g\\x00a'                 0.007620\n",
       "ngram_b's\\x00e\\x00r\\x00'                 0.007369\n",
       "pesectionProcessed_sectionsMaxEntropy    0.006709\n",
       "                                           ...   \n",
       "vclbde50.bpl.dll                         0.000000\n",
       "qrpt50.bpl.dll                           0.000000\n",
       "imp_@system@@dynarrayclear$qqrrpvpv      0.000000\n",
       "imp_@system@@dynarrayhigh$qqrv           0.000000\n",
       "string_b'6!7(7E7l7'                      0.000000\n",
       "Length: 56524, dtype: float64"
      ]
     },
     "execution_count": 16,
     "metadata": {},
     "output_type": "execute_result"
    }
   ],
   "source": [
    "feature_scores_rf = pd.Series(random_forest.feature_importances_, index=X_train.columns).sort_values(ascending=False)\n",
    "\n",
    "feature_scores_rf"
   ]
  },
  {
   "cell_type": "code",
   "execution_count": 17,
   "id": "5367dcaa",
   "metadata": {
    "execution": {
     "iopub.execute_input": "2024-01-23T12:11:08.190245Z",
     "iopub.status.busy": "2024-01-23T12:11:08.189795Z",
     "iopub.status.idle": "2024-01-23T12:11:08.245722Z",
     "shell.execute_reply": "2024-01-23T12:11:08.244555Z"
    },
    "papermill": {
     "duration": 0.084736,
     "end_time": "2024-01-23T12:11:08.248945",
     "exception": false,
     "start_time": "2024-01-23T12:11:08.164209",
     "status": "completed"
    },
    "tags": []
   },
   "outputs": [],
   "source": [
    "top50 = pd.Series(random_forest.feature_importances_, index=X_train.columns).sort_values(ascending=False).head(50)"
   ]
  },
  {
   "cell_type": "code",
   "execution_count": 18,
   "id": "d36b2710",
   "metadata": {
    "execution": {
     "iopub.execute_input": "2024-01-23T12:11:08.300944Z",
     "iopub.status.busy": "2024-01-23T12:11:08.299986Z",
     "iopub.status.idle": "2024-01-23T12:11:08.317215Z",
     "shell.execute_reply": "2024-01-23T12:11:08.315978Z"
    },
    "papermill": {
     "duration": 0.046816,
     "end_time": "2024-01-23T12:11:08.319881",
     "exception": false,
     "start_time": "2024-01-23T12:11:08.273065",
     "status": "completed"
    },
    "tags": []
   },
   "outputs": [
    {
     "name": "stdout",
     "output_type": "stream",
     "text": [
      "'ngram': 37\n",
      "'opcode ngram': 0\n",
      "'generic': 0\n",
      "'strings': 0\n",
      "'rich header': 3\n",
      "'api import': 0\n",
      "'dll': 1\n",
      "'pe section': 8\n",
      "'pe header': 1\n"
     ]
    }
   ],
   "source": [
    "# Tạo DataFrame từ feature_scores_rf\n",
    "df_features = pd.DataFrame(top50, columns=['Score'])\n",
    "\n",
    "count_ngram = df_features[df_features.index.str.startswith('ngram_')].shape[0]\n",
    "count_opcode = df_features[df_features.index.str.startswith('opcode_')].shape[0]\n",
    "count_generic = df_features[df_features.index.str.startswith('generic_')].shape[0]\n",
    "count_string = df_features[df_features.index.str.startswith('string_')].shape[0]\n",
    "count_rich = df_features[df_features.index.str.startswith('rich_')].shape[0]\n",
    "# count_api = df_features[df_features.index.str.startswith('imp_') or 'api_import_nb' == c].shape[0]\n",
    "# count_dll = df_features[df_features.index.str.startswith('.dll') or 'dll_import_nb' == c].shape[0]\n",
    "count_api = df_features[df_features.index.str.startswith('imp_') | (df_features.index == 'api_import_nb')].shape[0]\n",
    "count_dll = df_features[df_features.index.str.endswith('.dll') | (df_features.index == 'dll_import_nb')].shape[0]\n",
    "count_section = df_features[df_features.index.str.startswith('pesection')].shape[0]\n",
    "count_header = df_features[df_features.index.str.startswith('header_')].shape[0]\n",
    "\n",
    "print(f\"'ngram': {count_ngram}\")\n",
    "print(f\"'opcode ngram': {count_opcode}\")\n",
    "print(f\"'generic': {count_generic}\")\n",
    "print(f\"'strings': {count_string}\")\n",
    "print(f\"'rich header': {count_rich}\")\n",
    "print(f\"'api import': {count_api}\")\n",
    "print(f\"'dll': {count_dll}\")\n",
    "print(f\"'pe section': {count_section}\")\n",
    "print(f\"'pe header': {count_header}\")"
   ]
  },
  {
   "cell_type": "code",
   "execution_count": 19,
   "id": "d8301258",
   "metadata": {
    "execution": {
     "iopub.execute_input": "2024-01-23T12:11:08.370789Z",
     "iopub.status.busy": "2024-01-23T12:11:08.369955Z",
     "iopub.status.idle": "2024-01-23T12:11:08.383411Z",
     "shell.execute_reply": "2024-01-23T12:11:08.382125Z"
    },
    "papermill": {
     "duration": 0.042255,
     "end_time": "2024-01-23T12:11:08.386278",
     "exception": false,
     "start_time": "2024-01-23T12:11:08.344023",
     "status": "completed"
    },
    "tags": []
   },
   "outputs": [],
   "source": [
    "cols = list(petite.columns)"
   ]
  },
  {
   "cell_type": "markdown",
   "id": "c06ff4f8",
   "metadata": {
    "papermill": {
     "duration": 0.024123,
     "end_time": "2024-01-23T12:11:08.434822",
     "exception": false,
     "start_time": "2024-01-23T12:11:08.410699",
     "status": "completed"
    },
    "tags": []
   },
   "source": [
    "# **ngram features**"
   ]
  },
  {
   "cell_type": "code",
   "execution_count": 20,
   "id": "4b8d49d1",
   "metadata": {
    "execution": {
     "iopub.execute_input": "2024-01-23T12:11:08.485539Z",
     "iopub.status.busy": "2024-01-23T12:11:08.485112Z",
     "iopub.status.idle": "2024-01-23T12:11:10.307698Z",
     "shell.execute_reply": "2024-01-23T12:11:10.306544Z"
    },
    "papermill": {
     "duration": 1.85169,
     "end_time": "2024-01-23T12:11:10.310687",
     "exception": false,
     "start_time": "2024-01-23T12:11:08.458997",
     "status": "completed"
    },
    "tags": []
   },
   "outputs": [],
   "source": [
    "petite = pd.read_pickle('/kaggle/input/packer-balance-pickle/petite_balance.pickle')\n",
    "petite = petite.drop(['sample_sha1','benign','unpacked_sample_sha1','unpacked_sample_id'], axis=1)\n",
    "petite = petite.drop(['benign_vt','malicious_vt'], axis=1)\n",
    "string_columns = petite.select_dtypes(include=['object']).columns\n",
    "petite = petite.drop(string_columns, axis=1)"
   ]
  },
  {
   "cell_type": "code",
   "execution_count": 21,
   "id": "9da4bc89",
   "metadata": {
    "execution": {
     "iopub.execute_input": "2024-01-23T12:11:10.361512Z",
     "iopub.status.busy": "2024-01-23T12:11:10.361070Z",
     "iopub.status.idle": "2024-01-23T12:11:10.366946Z",
     "shell.execute_reply": "2024-01-23T12:11:10.365789Z"
    },
    "papermill": {
     "duration": 0.034015,
     "end_time": "2024-01-23T12:11:10.369535",
     "exception": false,
     "start_time": "2024-01-23T12:11:10.335520",
     "status": "completed"
    },
    "tags": []
   },
   "outputs": [],
   "source": [
    "def remove_cols(df, ll):\n",
    "    print(\"removing {} features\".format(len(ll)))\n",
    "    df.drop(columns=ll, axis=1, inplace=True)\n",
    "    return df"
   ]
  },
  {
   "cell_type": "code",
   "execution_count": 22,
   "id": "fe6f4b00",
   "metadata": {
    "execution": {
     "iopub.execute_input": "2024-01-23T12:11:10.419832Z",
     "iopub.status.busy": "2024-01-23T12:11:10.419410Z",
     "iopub.status.idle": "2024-01-23T12:11:11.830064Z",
     "shell.execute_reply": "2024-01-23T12:11:11.828828Z"
    },
    "papermill": {
     "duration": 1.43914,
     "end_time": "2024-01-23T12:11:11.832825",
     "exception": false,
     "start_time": "2024-01-23T12:11:10.393685",
     "status": "completed"
    },
    "tags": []
   },
   "outputs": [
    {
     "name": "stdout",
     "output_type": "stream",
     "text": [
      "removing 2500 features\n",
      "removing 2 features\n",
      "removing 16900 features\n",
      "removing 66 features\n",
      "removing 19169 features\n",
      "removing 4306 features\n",
      "removing 550 features\n",
      "removing 29 features\n"
     ]
    }
   ],
   "source": [
    "# ngram = remove_cols(df, [c for c in cols if c.startswith('ngram_')])\n",
    "ngram = remove_cols(petite, [c for c in cols if c.startswith('opcode_')])\n",
    "ngram = remove_cols(petite, [c for c in cols if c.startswith('generic_')])\n",
    "ngram = remove_cols(petite, [c for c in cols if c.startswith('string_')])\n",
    "ngram = remove_cols(petite, [c for c in cols if c.startswith('rich_')])\n",
    "ngram = remove_cols(petite, [c for c in cols if c.startswith('imp_') or 'api_import_nb' == c])\n",
    "ngram = remove_cols(petite, [c for c in cols if c.endswith('.dll') or 'dll_import_nb' == c])\n",
    "ngram = remove_cols(petite, [c for c in cols if c.startswith('pesection')])\n",
    "ngram = remove_cols(petite, [c for c in cols if c.startswith('header_')])"
   ]
  },
  {
   "cell_type": "code",
   "execution_count": 23,
   "id": "54722f7d",
   "metadata": {
    "execution": {
     "iopub.execute_input": "2024-01-23T12:11:11.885516Z",
     "iopub.status.busy": "2024-01-23T12:11:11.885034Z",
     "iopub.status.idle": "2024-01-23T12:11:12.141926Z",
     "shell.execute_reply": "2024-01-23T12:11:12.140882Z"
    },
    "papermill": {
     "duration": 0.286122,
     "end_time": "2024-01-23T12:11:12.144761",
     "exception": false,
     "start_time": "2024-01-23T12:11:11.858639",
     "status": "completed"
    },
    "tags": []
   },
   "outputs": [],
   "source": [
    "df_7000_ngram = ngram.sample(n=7000, random_state=102)\n",
    "df_3000_ngram = ngram.drop(df_7000.index)\n",
    "data_ngram = df_7000_ngram.sample(n=3500, random_state=102)"
   ]
  },
  {
   "cell_type": "code",
   "execution_count": 24,
   "id": "5a0edad3",
   "metadata": {
    "execution": {
     "iopub.execute_input": "2024-01-23T12:11:12.196857Z",
     "iopub.status.busy": "2024-01-23T12:11:12.196446Z",
     "iopub.status.idle": "2024-01-23T12:11:12.543268Z",
     "shell.execute_reply": "2024-01-23T12:11:12.541716Z"
    },
    "papermill": {
     "duration": 0.376284,
     "end_time": "2024-01-23T12:11:12.546038",
     "exception": false,
     "start_time": "2024-01-23T12:11:12.169754",
     "status": "completed"
    },
    "tags": []
   },
   "outputs": [
    {
     "name": "stdout",
     "output_type": "stream",
     "text": [
      "Packed Malware: 2302 samples\n",
      "Packed Benign: 1198 samples\n",
      "Total TRAIN set: 3500 samples\n",
      "Packed Malware: 1198 samples\n",
      "Packed Benign: 1198 samples\n",
      "Total TRAIN set: 2396 samples\n",
      "Packed Malware: 1056 samples\n",
      "Packed Benign: 1056 samples\n",
      "Total TEST set: 2112 samples\n"
     ]
    }
   ],
   "source": [
    "#Kiểm tra số lượng mẫu\n",
    "PM = data_ngram[(data_ngram['malicious'] == True) & (data_ngram['packed'] == True)].shape[0]\n",
    "PB = data_ngram[(data_ngram['malicious'] == False) & (data_ngram['packed'] == True)].shape[0]\n",
    "print('Packed Malware: %i samples' % PM)\n",
    "print('Packed Benign: %i samples' % PB)\n",
    "print('Total TRAIN set: %i samples'% (PM+PB))\n",
    "\n",
    "#Chia tỉ lệ 50 - 50\n",
    "data_PM_ngram = data_ngram[(data_ngram['malicious'] == True) & (data_ngram['packed'] == True)].sample(n=(PM-PB), random_state=102)\n",
    "data_ngram = data_ngram.drop(data_PM_ngram.index)\n",
    "\n",
    "#Số lượng tập train\n",
    "PM = data_ngram[(data_ngram['malicious'] == True) & (data_ngram['packed'] == True)].shape[0]\n",
    "PB = data_ngram[(data_ngram['malicious'] == False) & (data_ngram['packed'] == True)].shape[0]\n",
    "print('Packed Malware: %i samples' % PM)\n",
    "print('Packed Benign: %i samples' % PB)\n",
    "print('Total TRAIN set: %i samples'% (PM+PB))\n",
    "\n",
    "#Xử lý tập train\n",
    "y = data_ngram['malicious'].values\n",
    "data_ngram = data_ngram.drop(['malicious','packed'], axis=1)\n",
    "\n",
    "PM = df_3000_ngram[(df_3000_ngram['malicious'] == True) & (df_3000_ngram['packed'] == True)].shape[0]\n",
    "PB = df_3000_ngram[(df_3000_ngram['malicious'] == False) & (df_3000_ngram['packed'] == True)].shape[0]\n",
    "\n",
    "df_3000_PM_ngram = df_3000_ngram[(df_3000_ngram['malicious'] == True) & (df_3000_ngram['packed'] == True)].sample(n=(PM-PB), random_state=102)\n",
    "df_3000_ngram = df_3000_ngram.drop(df_3000_PM.index)\n",
    "\n",
    "PM = df_3000_ngram[(df_3000_ngram['malicious'] == True) & (df_3000_ngram['packed'] == True)].shape[0]\n",
    "PB = df_3000_ngram[(df_3000_ngram['malicious'] == False) & (df_3000_ngram['packed'] == True)].shape[0]\n",
    "\n",
    "print('Packed Malware: %i samples' % PM)\n",
    "print('Packed Benign: %i samples' % PB)\n",
    "print('Total TEST set: %i samples'% (PM+PB))"
   ]
  },
  {
   "cell_type": "code",
   "execution_count": 25,
   "id": "7e61acc2",
   "metadata": {
    "execution": {
     "iopub.execute_input": "2024-01-23T12:11:12.598329Z",
     "iopub.status.busy": "2024-01-23T12:11:12.597868Z",
     "iopub.status.idle": "2024-01-23T12:11:12.673821Z",
     "shell.execute_reply": "2024-01-23T12:11:12.672586Z"
    },
    "papermill": {
     "duration": 0.105306,
     "end_time": "2024-01-23T12:11:12.676629",
     "exception": false,
     "start_time": "2024-01-23T12:11:12.571323",
     "status": "completed"
    },
    "tags": []
   },
   "outputs": [],
   "source": [
    "# model = SelectFromModel(fsel, prefit=True)\n",
    "\n",
    "X_train_ngram = data_ngram\n",
    "X_test_ngram = df_3000_ngram.drop(['malicious','packed'], axis=1)\n",
    "\n",
    "data_ngram = data_ngram.loc[:, (data_ngram != 0).any(axis=0)]\n",
    "x_train_ngram = data_ngram\n",
    "X_test_ngram = df_3000_ngram.drop(['malicious','packed'], axis=1)\n",
    "y_train_ngram = y\n",
    "y_test_ngram = df_3000_ngram['malicious'].values"
   ]
  },
  {
   "cell_type": "code",
   "execution_count": 26,
   "id": "d40ad177",
   "metadata": {
    "execution": {
     "iopub.execute_input": "2024-01-23T12:11:12.741257Z",
     "iopub.status.busy": "2024-01-23T12:11:12.740770Z",
     "iopub.status.idle": "2024-01-23T12:11:16.004852Z",
     "shell.execute_reply": "2024-01-23T12:11:16.003643Z"
    },
    "papermill": {
     "duration": 3.302187,
     "end_time": "2024-01-23T12:11:16.007898",
     "exception": false,
     "start_time": "2024-01-23T12:11:12.705711",
     "status": "completed"
    },
    "tags": []
   },
   "outputs": [
    {
     "name": "stdout",
     "output_type": "stream",
     "text": [
      "The accuracy of the Random Forests model is :\t 0.9417613636363636\n"
     ]
    }
   ],
   "source": [
    "# Random Forest\n",
    "from sklearn.ensemble import RandomForestClassifier\n",
    "from sklearn import metrics\n",
    "\n",
    "random_forest = RandomForestClassifier(n_estimators=100, random_state=17)\n",
    "random_forest.fit(X_train_ngram, y_train_ngram)\n",
    "random_forest_preds = random_forest.predict(X_test_ngram)\n",
    "print('The accuracy of the Random Forests model is :\\t',metrics.accuracy_score(random_forest_preds,y_test_ngram))"
   ]
  },
  {
   "cell_type": "markdown",
   "id": "00171c8e",
   "metadata": {
    "papermill": {
     "duration": 0.024653,
     "end_time": "2024-01-23T12:11:16.057840",
     "exception": false,
     "start_time": "2024-01-23T12:11:16.033187",
     "status": "completed"
    },
    "tags": []
   },
   "source": [
    "# **opcode features**"
   ]
  },
  {
   "cell_type": "code",
   "execution_count": 27,
   "id": "08bc276d",
   "metadata": {
    "execution": {
     "iopub.execute_input": "2024-01-23T12:11:16.110528Z",
     "iopub.status.busy": "2024-01-23T12:11:16.110054Z",
     "iopub.status.idle": "2024-01-23T12:11:17.836759Z",
     "shell.execute_reply": "2024-01-23T12:11:17.835383Z"
    },
    "papermill": {
     "duration": 1.756111,
     "end_time": "2024-01-23T12:11:17.839726",
     "exception": false,
     "start_time": "2024-01-23T12:11:16.083615",
     "status": "completed"
    },
    "tags": []
   },
   "outputs": [],
   "source": [
    "petite = pd.read_pickle('/kaggle/input/packer-balance-pickle/petite_balance.pickle')\n",
    "petite = petite.drop(['sample_sha1','benign','unpacked_sample_sha1','unpacked_sample_id'], axis=1)\n",
    "petite = petite.drop(['benign_vt','malicious_vt'], axis=1)\n",
    "string_columns = petite.select_dtypes(include=['object']).columns\n",
    "petite = petite.drop(string_columns, axis=1)"
   ]
  },
  {
   "cell_type": "code",
   "execution_count": 28,
   "id": "97f9aac4",
   "metadata": {
    "execution": {
     "iopub.execute_input": "2024-01-23T12:11:17.892431Z",
     "iopub.status.busy": "2024-01-23T12:11:17.891739Z",
     "iopub.status.idle": "2024-01-23T12:11:19.430933Z",
     "shell.execute_reply": "2024-01-23T12:11:19.429336Z"
    },
    "papermill": {
     "duration": 1.568347,
     "end_time": "2024-01-23T12:11:19.433707",
     "exception": false,
     "start_time": "2024-01-23T12:11:17.865360",
     "status": "completed"
    },
    "tags": []
   },
   "outputs": [
    {
     "name": "stdout",
     "output_type": "stream",
     "text": [
      "removing 13000 features\n",
      "removing 2 features\n",
      "removing 16900 features\n",
      "removing 66 features\n",
      "removing 19169 features\n",
      "removing 4306 features\n",
      "removing 550 features\n",
      "removing 29 features\n"
     ]
    }
   ],
   "source": [
    "opcode = remove_cols(petite, [c for c in cols if c.startswith('ngram_')])\n",
    "# opcode = remove_cols(petite, [c for c in cols if c.startswith('opcode_')])\n",
    "opcode = remove_cols(petite, [c for c in cols if c.startswith('generic_')])\n",
    "opcode = remove_cols(petite, [c for c in cols if c.startswith('string_')])\n",
    "opcode = remove_cols(petite, [c for c in cols if c.startswith('rich_')])\n",
    "opcode = remove_cols(petite, [c for c in cols if c.startswith('imp_') or 'api_import_nb' == c])\n",
    "opcode = remove_cols(petite, [c for c in cols if c.endswith('.dll') or 'dll_import_nb' == c])\n",
    "opcode = remove_cols(petite, [c for c in cols if c.startswith('pesection')])\n",
    "opcode = remove_cols(petite, [c for c in cols if c.startswith('header_')])"
   ]
  },
  {
   "cell_type": "code",
   "execution_count": 29,
   "id": "9150e344",
   "metadata": {
    "execution": {
     "iopub.execute_input": "2024-01-23T12:11:19.487625Z",
     "iopub.status.busy": "2024-01-23T12:11:19.486966Z",
     "iopub.status.idle": "2024-01-23T12:11:19.645700Z",
     "shell.execute_reply": "2024-01-23T12:11:19.644213Z"
    },
    "papermill": {
     "duration": 0.188775,
     "end_time": "2024-01-23T12:11:19.648559",
     "exception": false,
     "start_time": "2024-01-23T12:11:19.459784",
     "status": "completed"
    },
    "tags": []
   },
   "outputs": [],
   "source": [
    "df_7000_opcode = opcode.sample(n=7000, random_state=102)\n",
    "df_3000_opcode = opcode.drop(df_7000.index)\n",
    "data_opcode = df_7000_opcode.sample(n=3500, random_state=102)"
   ]
  },
  {
   "cell_type": "code",
   "execution_count": 30,
   "id": "a17e1fd6",
   "metadata": {
    "execution": {
     "iopub.execute_input": "2024-01-23T12:11:19.703214Z",
     "iopub.status.busy": "2024-01-23T12:11:19.702791Z",
     "iopub.status.idle": "2024-01-23T12:11:19.903743Z",
     "shell.execute_reply": "2024-01-23T12:11:19.902191Z"
    },
    "papermill": {
     "duration": 0.231293,
     "end_time": "2024-01-23T12:11:19.906577",
     "exception": false,
     "start_time": "2024-01-23T12:11:19.675284",
     "status": "completed"
    },
    "tags": []
   },
   "outputs": [
    {
     "name": "stdout",
     "output_type": "stream",
     "text": [
      "Packed Malware: 2302 samples\n",
      "Packed Benign: 1198 samples\n",
      "Total TRAIN set: 3500 samples\n",
      "Packed Malware: 1198 samples\n",
      "Packed Benign: 1198 samples\n",
      "Total TRAIN set: 2396 samples\n",
      "Packed Malware: 1056 samples\n",
      "Packed Benign: 1056 samples\n",
      "Total TEST set: 2112 samples\n"
     ]
    }
   ],
   "source": [
    "#Kiểm tra số lượng mẫu\n",
    "PM = data_opcode[(data_opcode['malicious'] == True) & (data_opcode['packed'] == True)].shape[0]\n",
    "PB = data_opcode[(data_opcode['malicious'] == False) & (data_opcode['packed'] == True)].shape[0]\n",
    "print('Packed Malware: %i samples' % PM)\n",
    "print('Packed Benign: %i samples' % PB)\n",
    "print('Total TRAIN set: %i samples'% (PM+PB))\n",
    "\n",
    "#Chia tỉ lệ 50 - 50\n",
    "data_PM_opcode = data_opcode[(data_opcode['malicious'] == True) & (data_opcode['packed'] == True)].sample(n=(PM-PB), random_state=102)\n",
    "data_opcode = data_opcode.drop(data_PM_opcode.index)\n",
    "      \n",
    "#Số lượng tập train\n",
    "PM = data_opcode[(data_opcode['malicious'] == True) & (data_opcode['packed'] == True)].shape[0]\n",
    "PB = data_opcode[(data_opcode['malicious'] == False) & (data_opcode['packed'] == True)].shape[0]\n",
    "print('Packed Malware: %i samples' % PM)\n",
    "print('Packed Benign: %i samples' % PB)\n",
    "print('Total TRAIN set: %i samples'% (PM+PB))\n",
    "\n",
    "#Xử lý tập train\n",
    "y = data_opcode['malicious'].values\n",
    "data_opcode = data_opcode.drop(['malicious','packed'], axis=1)\n",
    "\n",
    "PM = df_3000_opcode[(df_3000_opcode['malicious'] == True) & (df_3000_opcode['packed'] == True)].shape[0]\n",
    "PB = df_3000_opcode[(df_3000_opcode['malicious'] == False) & (df_3000_opcode['packed'] == True)].shape[0]\n",
    "\n",
    "df_3000_PM_opcode = df_3000_opcode[(df_3000_opcode['malicious'] == True) & (df_3000_opcode['packed'] == True)].sample(n=(PM-PB), random_state=102)\n",
    "df_3000_opcode = df_3000_opcode.drop(df_3000_PM_opcode.index)\n",
    "\n",
    "PM = df_3000_opcode[(df_3000_opcode['malicious'] == True) & (df_3000_opcode['packed'] == True)].shape[0]\n",
    "PB = df_3000_opcode[(df_3000_opcode['malicious'] == False) & (df_3000_opcode['packed'] == True)].shape[0]\n",
    "\n",
    "print('Packed Malware: %i samples' % PM)\n",
    "print('Packed Benign: %i samples' % PB)\n",
    "print('Total TEST set: %i samples'% (PM+PB))"
   ]
  },
  {
   "cell_type": "code",
   "execution_count": 31,
   "id": "41f2ad2c",
   "metadata": {
    "execution": {
     "iopub.execute_input": "2024-01-23T12:11:19.960799Z",
     "iopub.status.busy": "2024-01-23T12:11:19.960384Z",
     "iopub.status.idle": "2024-01-23T12:11:19.998661Z",
     "shell.execute_reply": "2024-01-23T12:11:19.997468Z"
    },
    "papermill": {
     "duration": 0.0685,
     "end_time": "2024-01-23T12:11:20.001360",
     "exception": false,
     "start_time": "2024-01-23T12:11:19.932860",
     "status": "completed"
    },
    "tags": []
   },
   "outputs": [],
   "source": [
    "# model = SelectFromModel(fsel, prefit=True)\n",
    "\n",
    "X_train_opcode = data_opcode\n",
    "X_test_opcode = df_3000_opcode.drop(['malicious','packed'], axis=1)\n",
    "\n",
    "# data_opcode = data_opcode.loc[:, (data_opcode != 0).any(axis=0)]\n",
    "x_train_opcode = data_opcode\n",
    "X_test_opcode = df_3000_opcode.drop(['malicious','packed'], axis=1)\n",
    "y_train_opcode = y\n",
    "y_test_opcode = df_3000_opcode['malicious'].values"
   ]
  },
  {
   "cell_type": "code",
   "execution_count": 32,
   "id": "cfb01f18",
   "metadata": {
    "execution": {
     "iopub.execute_input": "2024-01-23T12:11:20.054579Z",
     "iopub.status.busy": "2024-01-23T12:11:20.054177Z",
     "iopub.status.idle": "2024-01-23T12:11:22.068903Z",
     "shell.execute_reply": "2024-01-23T12:11:22.067707Z"
    },
    "papermill": {
     "duration": 2.04478,
     "end_time": "2024-01-23T12:11:22.071778",
     "exception": false,
     "start_time": "2024-01-23T12:11:20.026998",
     "status": "completed"
    },
    "tags": []
   },
   "outputs": [
    {
     "name": "stdout",
     "output_type": "stream",
     "text": [
      "The accuracy of the Random Forests model is :\t 0.8465909090909091\n"
     ]
    }
   ],
   "source": [
    "# Random Forest\n",
    "from sklearn.ensemble import RandomForestClassifier\n",
    "from sklearn import metrics\n",
    "\n",
    "random_forest = RandomForestClassifier(n_estimators=100, random_state=17)\n",
    "random_forest.fit(x_train_opcode, y_train_opcode)\n",
    "random_forest_preds = random_forest.predict(X_test_opcode)\n",
    "print('The accuracy of the Random Forests model is :\\t',metrics.accuracy_score(random_forest_preds,y_test_opcode))"
   ]
  },
  {
   "cell_type": "markdown",
   "id": "c8fa1047",
   "metadata": {
    "papermill": {
     "duration": 0.025367,
     "end_time": "2024-01-23T12:11:22.123770",
     "exception": false,
     "start_time": "2024-01-23T12:11:22.098403",
     "status": "completed"
    },
    "tags": []
   },
   "source": [
    "# **rich header features**"
   ]
  },
  {
   "cell_type": "code",
   "execution_count": 33,
   "id": "fe9f62cc",
   "metadata": {
    "execution": {
     "iopub.execute_input": "2024-01-23T12:11:22.177361Z",
     "iopub.status.busy": "2024-01-23T12:11:22.176927Z",
     "iopub.status.idle": "2024-01-23T12:11:23.915788Z",
     "shell.execute_reply": "2024-01-23T12:11:23.914526Z"
    },
    "papermill": {
     "duration": 1.769103,
     "end_time": "2024-01-23T12:11:23.918670",
     "exception": false,
     "start_time": "2024-01-23T12:11:22.149567",
     "status": "completed"
    },
    "tags": []
   },
   "outputs": [],
   "source": [
    "petite = pd.read_pickle('/kaggle/input/packer-balance-pickle/petite_balance.pickle')\n",
    "petite = petite.drop(['sample_sha1','benign','unpacked_sample_sha1','unpacked_sample_id'], axis=1)\n",
    "petite = petite.drop(['benign_vt','malicious_vt'], axis=1)\n",
    "string_columns = petite.select_dtypes(include=['object']).columns\n",
    "petite = petite.drop(string_columns, axis=1)"
   ]
  },
  {
   "cell_type": "code",
   "execution_count": 34,
   "id": "e9f58029",
   "metadata": {
    "execution": {
     "iopub.execute_input": "2024-01-23T12:11:23.973353Z",
     "iopub.status.busy": "2024-01-23T12:11:23.972906Z",
     "iopub.status.idle": "2024-01-23T12:11:25.264701Z",
     "shell.execute_reply": "2024-01-23T12:11:25.263422Z"
    },
    "papermill": {
     "duration": 1.322459,
     "end_time": "2024-01-23T12:11:25.267423",
     "exception": false,
     "start_time": "2024-01-23T12:11:23.944964",
     "status": "completed"
    },
    "tags": []
   },
   "outputs": [
    {
     "name": "stdout",
     "output_type": "stream",
     "text": [
      "removing 13000 features\n",
      "removing 2500 features\n",
      "removing 2 features\n",
      "removing 16900 features\n",
      "removing 19169 features\n",
      "removing 4306 features\n",
      "removing 550 features\n",
      "removing 29 features\n"
     ]
    }
   ],
   "source": [
    "rich = remove_cols(petite, [c for c in cols if c.startswith('ngram_')])\n",
    "rich = remove_cols(petite, [c for c in cols if c.startswith('opcode_')])\n",
    "rich = remove_cols(petite, [c for c in cols if c.startswith('generic_')])\n",
    "rich = remove_cols(petite, [c for c in cols if c.startswith('string_')])\n",
    "# rich = remove_cols(petite, [c for c in cols if c.startswith('rich_')])\n",
    "rich = remove_cols(petite, [c for c in cols if c.startswith('imp_') or 'api_import_nb' == c])\n",
    "rich = remove_cols(petite, [c for c in cols if c.endswith('.dll') or 'dll_import_nb' == c])\n",
    "rich = remove_cols(petite, [c for c in cols if c.startswith('pesection')])\n",
    "rich = remove_cols(petite, [c for c in cols if c.startswith('header_')])"
   ]
  },
  {
   "cell_type": "code",
   "execution_count": 35,
   "id": "034ee9ad",
   "metadata": {
    "execution": {
     "iopub.execute_input": "2024-01-23T12:11:25.323029Z",
     "iopub.status.busy": "2024-01-23T12:11:25.321751Z",
     "iopub.status.idle": "2024-01-23T12:11:25.335148Z",
     "shell.execute_reply": "2024-01-23T12:11:25.334279Z"
    },
    "papermill": {
     "duration": 0.043623,
     "end_time": "2024-01-23T12:11:25.337637",
     "exception": false,
     "start_time": "2024-01-23T12:11:25.294014",
     "status": "completed"
    },
    "tags": []
   },
   "outputs": [],
   "source": [
    "df_7000_rich = rich.sample(n=7000, random_state=102)\n",
    "df_3000_rich = rich.drop(df_7000.index)\n",
    "data_rich = df_7000_rich.sample(n=3500, random_state=102)"
   ]
  },
  {
   "cell_type": "code",
   "execution_count": 36,
   "id": "e2576896",
   "metadata": {
    "execution": {
     "iopub.execute_input": "2024-01-23T12:11:25.393497Z",
     "iopub.status.busy": "2024-01-23T12:11:25.392754Z",
     "iopub.status.idle": "2024-01-23T12:11:25.430687Z",
     "shell.execute_reply": "2024-01-23T12:11:25.429443Z"
    },
    "papermill": {
     "duration": 0.06883,
     "end_time": "2024-01-23T12:11:25.433291",
     "exception": false,
     "start_time": "2024-01-23T12:11:25.364461",
     "status": "completed"
    },
    "tags": []
   },
   "outputs": [
    {
     "name": "stdout",
     "output_type": "stream",
     "text": [
      "Packed Malware: 2302 samples\n",
      "Packed Benign: 1198 samples\n",
      "Total TRAIN set: 3500 samples\n",
      "Packed Malware: 1198 samples\n",
      "Packed Benign: 1198 samples\n",
      "Total TRAIN set: 2396 samples\n",
      "Packed Malware: 1056 samples\n",
      "Packed Benign: 1056 samples\n",
      "Total TEST set: 2112 samples\n"
     ]
    }
   ],
   "source": [
    "#Kiểm tra số lượng mẫu\n",
    "PM = data_rich[(data_rich['malicious'] == True) & (data_rich['packed'] == True)].shape[0]\n",
    "PB = data_rich[(data_rich['malicious'] == False) & (data_rich['packed'] == True)].shape[0]\n",
    "print('Packed Malware: %i samples' % PM)\n",
    "print('Packed Benign: %i samples' % PB)\n",
    "print('Total TRAIN set: %i samples'% (PM+PB))\n",
    "\n",
    "#Chia tỉ lệ 50 - 50\n",
    "data_PM_rich = data_rich[(data_rich['malicious'] == True) & (data_rich['packed'] == True)].sample(n=(PM-PB), random_state=102)\n",
    "data_rich = data_rich.drop(data_PM_rich.index)\n",
    "      \n",
    "#Số lượng tập train\n",
    "PM = data_rich[(data_rich['malicious'] == True) & (data_rich['packed'] == True)].shape[0]\n",
    "PB = data_rich[(data_rich['malicious'] == False) & (data_rich['packed'] == True)].shape[0]\n",
    "print('Packed Malware: %i samples' % PM)\n",
    "print('Packed Benign: %i samples' % PB)\n",
    "print('Total TRAIN set: %i samples'% (PM+PB))\n",
    "\n",
    "#Xử lý tập train\n",
    "y = data_rich['malicious'].values\n",
    "data_rich= data_rich.drop(['malicious','packed'], axis=1)\n",
    "\n",
    "PM = df_3000_rich[(df_3000_rich['malicious'] == True) & (df_3000_rich['packed'] == True)].shape[0]\n",
    "PB = df_3000_rich[(df_3000_rich['malicious'] == False) & (df_3000_rich['packed'] == True)].shape[0]\n",
    "\n",
    "df_3000_PM_rich = df_3000_rich[(df_3000_rich['malicious'] == True) & (df_3000_rich['packed'] == True)].sample(n=(PM-PB), random_state=102)\n",
    "df_3000_rich = df_3000_rich.drop(df_3000_PM_rich.index)\n",
    "\n",
    "PM = df_3000_rich[(df_3000_rich['malicious'] == True) & (df_3000_rich['packed'] == True)].shape[0]\n",
    "PB = df_3000_rich[(df_3000_rich['malicious'] == False) & (df_3000_rich['packed'] == True)].shape[0]\n",
    "\n",
    "print('Packed Malware: %i samples' % PM)\n",
    "print('Packed Benign: %i samples' % PB)\n",
    "print('Total TEST set: %i samples'% (PM+PB))"
   ]
  },
  {
   "cell_type": "code",
   "execution_count": 37,
   "id": "790c2f15",
   "metadata": {
    "execution": {
     "iopub.execute_input": "2024-01-23T12:11:25.488647Z",
     "iopub.status.busy": "2024-01-23T12:11:25.488241Z",
     "iopub.status.idle": "2024-01-23T12:11:25.500788Z",
     "shell.execute_reply": "2024-01-23T12:11:25.499521Z"
    },
    "papermill": {
     "duration": 0.043553,
     "end_time": "2024-01-23T12:11:25.503613",
     "exception": false,
     "start_time": "2024-01-23T12:11:25.460060",
     "status": "completed"
    },
    "tags": []
   },
   "outputs": [],
   "source": [
    "# model = SelectFromModel(fsel, prefit=True)\n",
    "\n",
    "X_train_rich = data_rich\n",
    "X_test_rich = df_3000_rich.drop(['malicious','packed'], axis=1)\n",
    "\n",
    "data_rich = data_rich.loc[:, (data_rich != 0).any(axis=0)]\n",
    "x_train_rich = data_rich\n",
    "X_test_rich = df_3000_rich.drop(['malicious','packed'], axis=1)\n",
    "y_train_rich = y\n",
    "y_test_rich = df_3000_rich['malicious'].values"
   ]
  },
  {
   "cell_type": "code",
   "execution_count": 38,
   "id": "d423d286",
   "metadata": {
    "execution": {
     "iopub.execute_input": "2024-01-23T12:11:25.558306Z",
     "iopub.status.busy": "2024-01-23T12:11:25.557832Z",
     "iopub.status.idle": "2024-01-23T12:11:26.066060Z",
     "shell.execute_reply": "2024-01-23T12:11:26.064720Z"
    },
    "papermill": {
     "duration": 0.538823,
     "end_time": "2024-01-23T12:11:26.068871",
     "exception": false,
     "start_time": "2024-01-23T12:11:25.530048",
     "status": "completed"
    },
    "tags": []
   },
   "outputs": [
    {
     "name": "stdout",
     "output_type": "stream",
     "text": [
      "The accuracy of the Random Forests model is :\t 0.8972537878787878\n"
     ]
    }
   ],
   "source": [
    "# Random Forest\n",
    "from sklearn.ensemble import RandomForestClassifier\n",
    "from sklearn import metrics\n",
    "\n",
    "random_forest = RandomForestClassifier(n_estimators=100, random_state=17)\n",
    "random_forest.fit(X_train_rich, y_train_rich)\n",
    "random_forest_preds = random_forest.predict(X_test_rich)\n",
    "print('The accuracy of the Random Forests model is :\\t',metrics.accuracy_score(random_forest_preds,y_test_rich))"
   ]
  },
  {
   "cell_type": "markdown",
   "id": "94aca7cc",
   "metadata": {
    "papermill": {
     "duration": 0.026775,
     "end_time": "2024-01-23T12:11:26.123803",
     "exception": false,
     "start_time": "2024-01-23T12:11:26.097028",
     "status": "completed"
    },
    "tags": []
   },
   "source": [
    "# **string features**"
   ]
  },
  {
   "cell_type": "code",
   "execution_count": 39,
   "id": "3ac89419",
   "metadata": {
    "execution": {
     "iopub.execute_input": "2024-01-23T12:11:26.180105Z",
     "iopub.status.busy": "2024-01-23T12:11:26.178943Z",
     "iopub.status.idle": "2024-01-23T12:11:27.819562Z",
     "shell.execute_reply": "2024-01-23T12:11:27.818486Z"
    },
    "papermill": {
     "duration": 1.671497,
     "end_time": "2024-01-23T12:11:27.822560",
     "exception": false,
     "start_time": "2024-01-23T12:11:26.151063",
     "status": "completed"
    },
    "tags": []
   },
   "outputs": [],
   "source": [
    "petite = pd.read_pickle('/kaggle/input/packer-balance-pickle/petite_balance.pickle')\n",
    "petite = petite.drop(['sample_sha1','benign','unpacked_sample_sha1','unpacked_sample_id'], axis=1)\n",
    "petite = petite.drop(['benign_vt','malicious_vt'], axis=1)\n",
    "string_columns = petite.select_dtypes(include=['object']).columns\n",
    "petite = petite.drop(string_columns, axis=1)"
   ]
  },
  {
   "cell_type": "code",
   "execution_count": 40,
   "id": "6a377ce2",
   "metadata": {
    "execution": {
     "iopub.execute_input": "2024-01-23T12:11:27.880126Z",
     "iopub.status.busy": "2024-01-23T12:11:27.879153Z",
     "iopub.status.idle": "2024-01-23T12:11:29.264698Z",
     "shell.execute_reply": "2024-01-23T12:11:29.263006Z"
    },
    "papermill": {
     "duration": 1.417617,
     "end_time": "2024-01-23T12:11:29.267421",
     "exception": false,
     "start_time": "2024-01-23T12:11:27.849804",
     "status": "completed"
    },
    "tags": []
   },
   "outputs": [
    {
     "name": "stdout",
     "output_type": "stream",
     "text": [
      "removing 13000 features\n",
      "removing 2500 features\n",
      "removing 2 features\n",
      "removing 66 features\n",
      "removing 19169 features\n",
      "removing 4306 features\n",
      "removing 550 features\n",
      "removing 29 features\n"
     ]
    }
   ],
   "source": [
    "string = remove_cols(petite, [c for c in cols if c.startswith('ngram_')])\n",
    "string = remove_cols(petite, [c for c in cols if c.startswith('opcode_')])\n",
    "string = remove_cols(petite, [c for c in cols if c.startswith('generic_')])\n",
    "# string = remove_cols(petite, [c for c in cols if c.startswith('string_')])\n",
    "string = remove_cols(petite, [c for c in cols if c.startswith('rich_')])\n",
    "string = remove_cols(petite, [c for c in cols if c.startswith('imp_') or 'api_import_nb' == c])\n",
    "string = remove_cols(petite, [c for c in cols if c.endswith('.dll') or 'dll_import_nb' == c])\n",
    "string = remove_cols(petite, [c for c in cols if c.startswith('pesection')])\n",
    "string = remove_cols(petite, [c for c in cols if c.startswith('header_')])"
   ]
  },
  {
   "cell_type": "code",
   "execution_count": 41,
   "id": "ff31d92e",
   "metadata": {
    "execution": {
     "iopub.execute_input": "2024-01-23T12:11:29.325178Z",
     "iopub.status.busy": "2024-01-23T12:11:29.324399Z",
     "iopub.status.idle": "2024-01-23T12:11:29.651422Z",
     "shell.execute_reply": "2024-01-23T12:11:29.650298Z"
    },
    "papermill": {
     "duration": 0.359164,
     "end_time": "2024-01-23T12:11:29.654469",
     "exception": false,
     "start_time": "2024-01-23T12:11:29.295305",
     "status": "completed"
    },
    "tags": []
   },
   "outputs": [],
   "source": [
    "df_7000_string = string.sample(n=7000, random_state=102)\n",
    "df_3000_string = string.drop(df_7000.index)\n",
    "data_string = df_7000_string.sample(n=3500, random_state=102)"
   ]
  },
  {
   "cell_type": "code",
   "execution_count": 42,
   "id": "82b3a0a8",
   "metadata": {
    "execution": {
     "iopub.execute_input": "2024-01-23T12:11:29.712143Z",
     "iopub.status.busy": "2024-01-23T12:11:29.710946Z",
     "iopub.status.idle": "2024-01-23T12:11:30.200511Z",
     "shell.execute_reply": "2024-01-23T12:11:30.199137Z"
    },
    "papermill": {
     "duration": 0.521192,
     "end_time": "2024-01-23T12:11:30.203463",
     "exception": false,
     "start_time": "2024-01-23T12:11:29.682271",
     "status": "completed"
    },
    "tags": []
   },
   "outputs": [
    {
     "name": "stdout",
     "output_type": "stream",
     "text": [
      "Packed Malware: 2302 samples\n",
      "Packed Benign: 1198 samples\n",
      "Total TRAIN set: 3500 samples\n",
      "Packed Malware: 1198 samples\n",
      "Packed Benign: 1198 samples\n",
      "Total TRAIN set: 2396 samples\n",
      "Packed Malware: 1056 samples\n",
      "Packed Benign: 1056 samples\n",
      "Total TEST set: 2112 samples\n"
     ]
    }
   ],
   "source": [
    "#Kiểm tra số lượng mẫu\n",
    "PM = data_string[(data_string['malicious'] == True) & (data_string['packed'] == True)].shape[0]\n",
    "PB = data_string[(data_string['malicious'] == False) & (data_string['packed'] == True)].shape[0]\n",
    "print('Packed Malware: %i samples' % PM)\n",
    "print('Packed Benign: %i samples' % PB)\n",
    "print('Total TRAIN set: %i samples'% (PM+PB))\n",
    "\n",
    "#Chia tỉ lệ 50 - 50\n",
    "data_PM_string = data_string[(data_string['malicious'] == True) & (data_string['packed'] == True)].sample(n=(PM-PB), random_state=102)\n",
    "data_string = data_string.drop(data_PM_string.index)\n",
    "      \n",
    "#Số lượng tập train\n",
    "PM = data_string[(data_string['malicious'] == True) & (data_string['packed'] == True)].shape[0]\n",
    "PB = data_string[(data_string['malicious'] == False) & (data_string['packed'] == True)].shape[0]\n",
    "print('Packed Malware: %i samples' % PM)\n",
    "print('Packed Benign: %i samples' % PB)\n",
    "print('Total TRAIN set: %i samples'% (PM+PB))\n",
    "\n",
    "#Xử lý tập train\n",
    "y = data_string['malicious'].values\n",
    "data_string = data_string.drop(['malicious','packed'], axis=1)\n",
    "\n",
    "PM = df_3000_string[(df_3000_string['malicious'] == True) & (df_3000_string['packed'] == True)].shape[0]\n",
    "PB = df_3000_string[(df_3000_string['malicious'] == False) & (df_3000_string['packed'] == True)].shape[0]\n",
    "\n",
    "df_3000_PM_string = df_3000_string[(df_3000_string['malicious'] == True) & (df_3000_string['packed'] == True)].sample(n=(PM-PB), random_state=102)\n",
    "df_3000_string = df_3000_string.drop(df_3000_PM_string.index)\n",
    "\n",
    "PM = df_3000_string[(df_3000_string['malicious'] == True) & (df_3000_string['packed'] == True)].shape[0]\n",
    "PB = df_3000_string[(df_3000_string['malicious'] == False) & (df_3000_string['packed'] == True)].shape[0]\n",
    "\n",
    "print('Packed Malware: %i samples' % PM)\n",
    "print('Packed Benign: %i samples' % PB)\n",
    "print('Total TEST set: %i samples'% (PM+PB))"
   ]
  },
  {
   "cell_type": "code",
   "execution_count": 43,
   "id": "39b8eacc",
   "metadata": {
    "execution": {
     "iopub.execute_input": "2024-01-23T12:11:30.261595Z",
     "iopub.status.busy": "2024-01-23T12:11:30.261139Z",
     "iopub.status.idle": "2024-01-23T12:11:30.359337Z",
     "shell.execute_reply": "2024-01-23T12:11:30.358144Z"
    },
    "papermill": {
     "duration": 0.129999,
     "end_time": "2024-01-23T12:11:30.362229",
     "exception": false,
     "start_time": "2024-01-23T12:11:30.232230",
     "status": "completed"
    },
    "tags": []
   },
   "outputs": [],
   "source": [
    "# model = SelectFromModel(fsel, prefit=True)\n",
    "\n",
    "X_train_string = data_string\n",
    "X_test_string = df_3000_string.drop(['malicious','packed'], axis=1)\n",
    "\n",
    "data_string = data_string.loc[:, (data_string != 0).any(axis=0)]\n",
    "x_train_string = data_string\n",
    "X_test_string = df_3000_string.drop(['malicious','packed'], axis=1)\n",
    "y_train_string = y\n",
    "y_test_string = df_3000_string['malicious'].values"
   ]
  },
  {
   "cell_type": "code",
   "execution_count": 44,
   "id": "c86d4f18",
   "metadata": {
    "execution": {
     "iopub.execute_input": "2024-01-23T12:11:30.420076Z",
     "iopub.status.busy": "2024-01-23T12:11:30.419623Z",
     "iopub.status.idle": "2024-01-23T12:11:37.250978Z",
     "shell.execute_reply": "2024-01-23T12:11:37.249652Z"
    },
    "papermill": {
     "duration": 6.863162,
     "end_time": "2024-01-23T12:11:37.253541",
     "exception": false,
     "start_time": "2024-01-23T12:11:30.390379",
     "status": "completed"
    },
    "tags": []
   },
   "outputs": [
    {
     "name": "stdout",
     "output_type": "stream",
     "text": [
      "The accuracy of the Random Forests model is :\t 0.9232954545454546\n"
     ]
    }
   ],
   "source": [
    "# Random Forest\n",
    "from sklearn.ensemble import RandomForestClassifier\n",
    "from sklearn import metrics\n",
    "\n",
    "random_forest = RandomForestClassifier(n_estimators=100, random_state=17)\n",
    "random_forest.fit(X_train_string, y_train_string)\n",
    "random_forest_preds = random_forest.predict(X_test_string)\n",
    "print('The accuracy of the Random Forests model is :\\t',metrics.accuracy_score(random_forest_preds,y_test_string))"
   ]
  },
  {
   "cell_type": "markdown",
   "id": "397e0c7c",
   "metadata": {
    "papermill": {
     "duration": 0.028012,
     "end_time": "2024-01-23T12:11:37.309528",
     "exception": false,
     "start_time": "2024-01-23T12:11:37.281516",
     "status": "completed"
    },
    "tags": []
   },
   "source": [
    "# **api features**"
   ]
  },
  {
   "cell_type": "code",
   "execution_count": 45,
   "id": "2656f783",
   "metadata": {
    "execution": {
     "iopub.execute_input": "2024-01-23T12:11:37.366934Z",
     "iopub.status.busy": "2024-01-23T12:11:37.366447Z",
     "iopub.status.idle": "2024-01-23T12:11:39.088285Z",
     "shell.execute_reply": "2024-01-23T12:11:39.086953Z"
    },
    "papermill": {
     "duration": 1.75431,
     "end_time": "2024-01-23T12:11:39.091199",
     "exception": false,
     "start_time": "2024-01-23T12:11:37.336889",
     "status": "completed"
    },
    "tags": []
   },
   "outputs": [],
   "source": [
    "petite = pd.read_pickle('/kaggle/input/packer-balance-pickle/petite_balance.pickle')\n",
    "petite = petite.drop(['sample_sha1','benign','unpacked_sample_sha1','unpacked_sample_id'], axis=1)\n",
    "petite = petite.drop(['benign_vt','malicious_vt'], axis=1)\n",
    "string_columns = petite.select_dtypes(include=['object']).columns\n",
    "petite = petite.drop(string_columns, axis=1)"
   ]
  },
  {
   "cell_type": "code",
   "execution_count": 46,
   "id": "fd66181a",
   "metadata": {
    "execution": {
     "iopub.execute_input": "2024-01-23T12:11:39.150239Z",
     "iopub.status.busy": "2024-01-23T12:11:39.149552Z",
     "iopub.status.idle": "2024-01-23T12:11:40.825846Z",
     "shell.execute_reply": "2024-01-23T12:11:40.824580Z"
    },
    "papermill": {
     "duration": 1.709236,
     "end_time": "2024-01-23T12:11:40.828814",
     "exception": false,
     "start_time": "2024-01-23T12:11:39.119578",
     "status": "completed"
    },
    "tags": []
   },
   "outputs": [
    {
     "name": "stdout",
     "output_type": "stream",
     "text": [
      "removing 13000 features\n",
      "removing 2500 features\n",
      "removing 2 features\n",
      "removing 16900 features\n",
      "removing 66 features\n",
      "removing 4306 features\n",
      "removing 550 features\n",
      "removing 29 features\n"
     ]
    }
   ],
   "source": [
    "api = remove_cols(petite, [c for c in cols if c.startswith('ngram_')])\n",
    "api = remove_cols(petite, [c for c in cols if c.startswith('opcode_')])\n",
    "api = remove_cols(petite, [c for c in cols if c.startswith('generic_')])\n",
    "api = remove_cols(petite, [c for c in cols if c.startswith('string_')])\n",
    "api = remove_cols(petite, [c for c in cols if c.startswith('rich_')])\n",
    "# api = remove_cols(petite, [c for c in cols if c.startswith('imp_') or 'api_import_nb' == c])\n",
    "api = remove_cols(petite, [c for c in cols if c.endswith('.dll') or 'dll_import_nb' == c])\n",
    "api = remove_cols(petite, [c for c in cols if c.startswith('pesection')])\n",
    "api = remove_cols(petite, [c for c in cols if c.startswith('header_')])"
   ]
  },
  {
   "cell_type": "code",
   "execution_count": 47,
   "id": "2ab5ef85",
   "metadata": {
    "execution": {
     "iopub.execute_input": "2024-01-23T12:11:40.888758Z",
     "iopub.status.busy": "2024-01-23T12:11:40.888341Z",
     "iopub.status.idle": "2024-01-23T12:11:41.319203Z",
     "shell.execute_reply": "2024-01-23T12:11:41.318031Z"
    },
    "papermill": {
     "duration": 0.463346,
     "end_time": "2024-01-23T12:11:41.321929",
     "exception": false,
     "start_time": "2024-01-23T12:11:40.858583",
     "status": "completed"
    },
    "tags": []
   },
   "outputs": [],
   "source": [
    "df_7000_api = api.sample(n=7000, random_state=102)\n",
    "df_3000_api = api.drop(df_7000.index)\n",
    "data_api = df_7000_api.sample(n=3500, random_state=102)"
   ]
  },
  {
   "cell_type": "code",
   "execution_count": 48,
   "id": "0349292b",
   "metadata": {
    "execution": {
     "iopub.execute_input": "2024-01-23T12:11:41.379712Z",
     "iopub.status.busy": "2024-01-23T12:11:41.379319Z",
     "iopub.status.idle": "2024-01-23T12:11:42.070320Z",
     "shell.execute_reply": "2024-01-23T12:11:42.068873Z"
    },
    "papermill": {
     "duration": 0.723203,
     "end_time": "2024-01-23T12:11:42.073125",
     "exception": false,
     "start_time": "2024-01-23T12:11:41.349922",
     "status": "completed"
    },
    "tags": []
   },
   "outputs": [
    {
     "name": "stdout",
     "output_type": "stream",
     "text": [
      "Packed Malware: 2302 samples\n",
      "Packed Benign: 1198 samples\n",
      "Total TRAIN set: 3500 samples\n",
      "Packed Malware: 1198 samples\n",
      "Packed Benign: 1198 samples\n",
      "Total TRAIN set: 2396 samples\n",
      "Packed Malware: 1056 samples\n",
      "Packed Benign: 1056 samples\n",
      "Total TEST set: 2112 samples\n"
     ]
    }
   ],
   "source": [
    "#Kiểm tra số lượng mẫu\n",
    "PM = data_api[(data_api['malicious'] == True) & (data_api['packed'] == True)].shape[0]\n",
    "PB = data_api[(data_api['malicious'] == False) & (data_api['packed'] == True)].shape[0]\n",
    "print('Packed Malware: %i samples' % PM)\n",
    "print('Packed Benign: %i samples' % PB)\n",
    "print('Total TRAIN set: %i samples'% (PM+PB))\n",
    "\n",
    "#Chia tỉ lệ 50 - 50\n",
    "data_PM_api = data_api[(data_api['malicious'] == True) & (data_api['packed'] == True)].sample(n=(PM-PB), random_state=102)\n",
    "data_api = data_api.drop(data_PM_api.index)\n",
    "      \n",
    "#Số lượng tập train\n",
    "PM = data_api[(data_api['malicious'] == True) & (data_api['packed'] == True)].shape[0]\n",
    "PB = data_api[(data_api['malicious'] == False) & (data_api['packed'] == True)].shape[0]\n",
    "print('Packed Malware: %i samples' % PM)\n",
    "print('Packed Benign: %i samples' % PB)\n",
    "print('Total TRAIN set: %i samples'% (PM+PB))\n",
    "\n",
    "#Xử lý tập train\n",
    "y = data_api['malicious'].values\n",
    "data_api = data_api.drop(['malicious','packed'], axis=1)\n",
    "\n",
    "PM = df_3000_api[(df_3000_api['malicious'] == True) & (df_3000_api['packed'] == True)].shape[0]\n",
    "PB = df_3000_api[(df_3000_api['malicious'] == False) & (df_3000_api['packed'] == True)].shape[0]\n",
    "\n",
    "df_3000_PM_api = df_3000_api[(df_3000_api['malicious'] == True) & (df_3000_api['packed'] == True)].sample(n=(PM-PB), random_state=102)\n",
    "df_3000_api = df_3000_api.drop(df_3000_PM_api.index)\n",
    "\n",
    "PM = df_3000_api[(df_3000_api['malicious'] == True) & (df_3000_api['packed'] == True)].shape[0]\n",
    "PB = df_3000_api[(df_3000_api['malicious'] == False) & (df_3000_api['packed'] == True)].shape[0]\n",
    "\n",
    "print('Packed Malware: %i samples' % PM)\n",
    "print('Packed Benign: %i samples' % PB)\n",
    "print('Total TEST set: %i samples'% (PM+PB))"
   ]
  },
  {
   "cell_type": "code",
   "execution_count": 49,
   "id": "d71e37e1",
   "metadata": {
    "execution": {
     "iopub.execute_input": "2024-01-23T12:11:42.133282Z",
     "iopub.status.busy": "2024-01-23T12:11:42.132838Z",
     "iopub.status.idle": "2024-01-23T12:11:42.281803Z",
     "shell.execute_reply": "2024-01-23T12:11:42.280772Z"
    },
    "papermill": {
     "duration": 0.182456,
     "end_time": "2024-01-23T12:11:42.284699",
     "exception": false,
     "start_time": "2024-01-23T12:11:42.102243",
     "status": "completed"
    },
    "tags": []
   },
   "outputs": [],
   "source": [
    "# model = SelectFromModel(fsel, prefit=True)\n",
    "\n",
    "X_train_api = data_api\n",
    "X_test_api = df_3000_api.drop(['malicious','packed'], axis=1)\n",
    "\n",
    "data_api = data_api.loc[:, (data_api != 0).any(axis=0)]\n",
    "x_train_api = data_api\n",
    "X_test_api = df_3000_api.drop(['malicious','packed'], axis=1)\n",
    "y_train_api = y\n",
    "y_test_api = df_3000_api['malicious'].values"
   ]
  },
  {
   "cell_type": "code",
   "execution_count": 50,
   "id": "b8ff7efc",
   "metadata": {
    "execution": {
     "iopub.execute_input": "2024-01-23T12:11:42.345406Z",
     "iopub.status.busy": "2024-01-23T12:11:42.344832Z",
     "iopub.status.idle": "2024-01-23T12:11:55.524553Z",
     "shell.execute_reply": "2024-01-23T12:11:55.523386Z"
    },
    "papermill": {
     "duration": 13.212357,
     "end_time": "2024-01-23T12:11:55.527310",
     "exception": false,
     "start_time": "2024-01-23T12:11:42.314953",
     "status": "completed"
    },
    "tags": []
   },
   "outputs": [
    {
     "name": "stdout",
     "output_type": "stream",
     "text": [
      "The accuracy of the Random Forests model is :\t 0.8910984848484849\n"
     ]
    }
   ],
   "source": [
    "# Random Forest\n",
    "from sklearn.ensemble import RandomForestClassifier\n",
    "from sklearn import metrics\n",
    "\n",
    "random_forest = RandomForestClassifier(n_estimators=100, random_state=17)\n",
    "random_forest.fit(X_train_api, y_train_api)\n",
    "random_forest_preds = random_forest.predict(X_test_api)\n",
    "print('The accuracy of the Random Forests model is :\\t',metrics.accuracy_score(random_forest_preds,y_test_api))"
   ]
  },
  {
   "cell_type": "markdown",
   "id": "38f134fa",
   "metadata": {
    "papermill": {
     "duration": 0.027936,
     "end_time": "2024-01-23T12:11:55.583437",
     "exception": false,
     "start_time": "2024-01-23T12:11:55.555501",
     "status": "completed"
    },
    "tags": []
   },
   "source": [
    "# **dll features**"
   ]
  },
  {
   "cell_type": "code",
   "execution_count": 51,
   "id": "0a47fb0a",
   "metadata": {
    "execution": {
     "iopub.execute_input": "2024-01-23T12:11:55.642306Z",
     "iopub.status.busy": "2024-01-23T12:11:55.641899Z",
     "iopub.status.idle": "2024-01-23T12:11:57.486185Z",
     "shell.execute_reply": "2024-01-23T12:11:57.485157Z"
    },
    "papermill": {
     "duration": 1.877447,
     "end_time": "2024-01-23T12:11:57.489315",
     "exception": false,
     "start_time": "2024-01-23T12:11:55.611868",
     "status": "completed"
    },
    "tags": []
   },
   "outputs": [],
   "source": [
    "petite = pd.read_pickle('/kaggle/input/packer-balance-pickle/petite_balance.pickle')\n",
    "petite = petite.drop(['sample_sha1','benign','unpacked_sample_sha1','unpacked_sample_id'], axis=1)\n",
    "petite = petite.drop(['benign_vt','malicious_vt'], axis=1)\n",
    "string_columns = petite.select_dtypes(include=['object']).columns\n",
    "petite = petite.drop(string_columns, axis=1)"
   ]
  },
  {
   "cell_type": "code",
   "execution_count": 52,
   "id": "b4b91910",
   "metadata": {
    "execution": {
     "iopub.execute_input": "2024-01-23T12:11:57.547967Z",
     "iopub.status.busy": "2024-01-23T12:11:57.547527Z",
     "iopub.status.idle": "2024-01-23T12:11:58.906206Z",
     "shell.execute_reply": "2024-01-23T12:11:58.904897Z"
    },
    "papermill": {
     "duration": 1.390911,
     "end_time": "2024-01-23T12:11:58.908606",
     "exception": false,
     "start_time": "2024-01-23T12:11:57.517695",
     "status": "completed"
    },
    "tags": []
   },
   "outputs": [
    {
     "name": "stdout",
     "output_type": "stream",
     "text": [
      "removing 13000 features\n",
      "removing 2500 features\n",
      "removing 2 features\n",
      "removing 16900 features\n",
      "removing 66 features\n",
      "removing 19169 features\n",
      "removing 550 features\n",
      "removing 29 features\n"
     ]
    }
   ],
   "source": [
    "dll = remove_cols(petite, [c for c in cols if c.startswith('ngram_')])\n",
    "dll = remove_cols(petite, [c for c in cols if c.startswith('opcode_')])\n",
    "dll = remove_cols(petite, [c for c in cols if c.startswith('generic_')])\n",
    "dll = remove_cols(petite, [c for c in cols if c.startswith('string_')])\n",
    "dll = remove_cols(petite, [c for c in cols if c.startswith('rich_')])\n",
    "dll = remove_cols(petite, [c for c in cols if c.startswith('imp_') or 'api_import_nb' == c])\n",
    "# api = remove_cols(petite, [c for c in cols if c.endswith('.dll') or 'dll_import_nb' == c])\n",
    "dll = remove_cols(petite, [c for c in cols if c.startswith('pesection')])\n",
    "dll = remove_cols(petite, [c for c in cols if c.startswith('header_')])"
   ]
  },
  {
   "cell_type": "code",
   "execution_count": 53,
   "id": "0b7cbbd8",
   "metadata": {
    "execution": {
     "iopub.execute_input": "2024-01-23T12:11:58.971442Z",
     "iopub.status.busy": "2024-01-23T12:11:58.970374Z",
     "iopub.status.idle": "2024-01-23T12:11:59.074943Z",
     "shell.execute_reply": "2024-01-23T12:11:59.073874Z"
    },
    "papermill": {
     "duration": 0.138023,
     "end_time": "2024-01-23T12:11:59.077651",
     "exception": false,
     "start_time": "2024-01-23T12:11:58.939628",
     "status": "completed"
    },
    "tags": []
   },
   "outputs": [],
   "source": [
    "df_7000_dll = dll.sample(n=7000, random_state=102)\n",
    "df_3000_dll = dll.drop(df_7000.index)\n",
    "data_dll = df_7000_dll.sample(n=3500, random_state=102)"
   ]
  },
  {
   "cell_type": "code",
   "execution_count": 54,
   "id": "d7804aaa",
   "metadata": {
    "execution": {
     "iopub.execute_input": "2024-01-23T12:11:59.138939Z",
     "iopub.status.busy": "2024-01-23T12:11:59.138153Z",
     "iopub.status.idle": "2024-01-23T12:11:59.364637Z",
     "shell.execute_reply": "2024-01-23T12:11:59.362859Z"
    },
    "papermill": {
     "duration": 0.260947,
     "end_time": "2024-01-23T12:11:59.367651",
     "exception": false,
     "start_time": "2024-01-23T12:11:59.106704",
     "status": "completed"
    },
    "tags": []
   },
   "outputs": [
    {
     "name": "stdout",
     "output_type": "stream",
     "text": [
      "Packed Malware: 2302 samples\n",
      "Packed Benign: 1198 samples\n",
      "Total TRAIN set: 3500 samples\n",
      "Packed Malware: 1198 samples\n",
      "Packed Benign: 1198 samples\n",
      "Total TRAIN set: 2396 samples\n",
      "Packed Malware: 1056 samples\n",
      "Packed Benign: 1056 samples\n",
      "Total TEST set: 2112 samples\n"
     ]
    }
   ],
   "source": [
    "#Kiểm tra số lượng mẫu\n",
    "PM = data_dll[(data_dll['malicious'] == True) & (data_dll['packed'] == True)].shape[0]\n",
    "PB = data_dll[(data_dll['malicious'] == False) & (data_dll['packed'] == True)].shape[0]\n",
    "print('Packed Malware: %i samples' % PM)\n",
    "print('Packed Benign: %i samples' % PB)\n",
    "print('Total TRAIN set: %i samples'% (PM+PB))\n",
    "\n",
    "#Chia tỉ lệ 50 - 50\n",
    "data_PM_dll = data_dll[(data_dll['malicious'] == True) & (data_dll['packed'] == True)].sample(n=(PM-PB), random_state=102)\n",
    "data_dll = data_dll.drop(data_PM_dll.index)\n",
    "      \n",
    "#Số lượng tập train\n",
    "PM = data_dll[(data_dll['malicious'] == True) & (data_dll['packed'] == True)].shape[0]\n",
    "PB = data_dll[(data_dll['malicious'] == False) & (data_dll['packed'] == True)].shape[0]\n",
    "print('Packed Malware: %i samples' % PM)\n",
    "print('Packed Benign: %i samples' % PB)\n",
    "print('Total TRAIN set: %i samples'% (PM+PB))\n",
    "\n",
    "#Xử lý tập train\n",
    "y = data_dll['malicious'].values\n",
    "data_dll = data_dll.drop(['malicious','packed'], axis=1)\n",
    "\n",
    "PM = df_3000_dll[(df_3000_dll['malicious'] == True) & (df_3000_dll['packed'] == True)].shape[0]\n",
    "PB = df_3000_dll[(df_3000_dll['malicious'] == False) & (df_3000_dll['packed'] == True)].shape[0]\n",
    "\n",
    "df_3000_PM_dll = df_3000_dll[(df_3000_dll['malicious'] == True) & (df_3000_dll['packed'] == True)].sample(n=(PM-PB), random_state=102)\n",
    "df_3000_dll = df_3000_dll.drop(df_3000_PM_dll.index)\n",
    "\n",
    "PM = df_3000_dll[(df_3000_dll['malicious'] == True) & (df_3000_dll['packed'] == True)].shape[0]\n",
    "PB = df_3000_dll[(df_3000_dll['malicious'] == False) & (df_3000_dll['packed'] == True)].shape[0]\n",
    "\n",
    "print('Packed Malware: %i samples' % PM)\n",
    "print('Packed Benign: %i samples' % PB)\n",
    "print('Total TEST set: %i samples'% (PM+PB))"
   ]
  },
  {
   "cell_type": "code",
   "execution_count": 55,
   "id": "096a9c6e",
   "metadata": {
    "execution": {
     "iopub.execute_input": "2024-01-23T12:11:59.428863Z",
     "iopub.status.busy": "2024-01-23T12:11:59.428406Z",
     "iopub.status.idle": "2024-01-23T12:11:59.483274Z",
     "shell.execute_reply": "2024-01-23T12:11:59.481997Z"
    },
    "papermill": {
     "duration": 0.088493,
     "end_time": "2024-01-23T12:11:59.486288",
     "exception": false,
     "start_time": "2024-01-23T12:11:59.397795",
     "status": "completed"
    },
    "tags": []
   },
   "outputs": [],
   "source": [
    "# model = SelectFromModel(fsel, prefit=True)\n",
    "\n",
    "X_train_dll = data_dll\n",
    "X_test_dll = df_3000_dll.drop(['malicious','packed'], axis=1)\n",
    "\n",
    "data_dll = data_dll.loc[:, (data_dll != 0).any(axis=0)]\n",
    "x_train_dll = data_dll\n",
    "X_test_dll = df_3000_dll.drop(['malicious','packed'], axis=1)\n",
    "y_train_dll = y\n",
    "y_test_dll = df_3000_dll['malicious'].values"
   ]
  },
  {
   "cell_type": "code",
   "execution_count": 56,
   "id": "b3ea1293",
   "metadata": {
    "execution": {
     "iopub.execute_input": "2024-01-23T12:11:59.547440Z",
     "iopub.status.busy": "2024-01-23T12:11:59.546944Z",
     "iopub.status.idle": "2024-01-23T12:12:04.262593Z",
     "shell.execute_reply": "2024-01-23T12:12:04.261268Z"
    },
    "papermill": {
     "duration": 4.750153,
     "end_time": "2024-01-23T12:12:04.265438",
     "exception": false,
     "start_time": "2024-01-23T12:11:59.515285",
     "status": "completed"
    },
    "tags": []
   },
   "outputs": [
    {
     "name": "stdout",
     "output_type": "stream",
     "text": [
      "The accuracy of the Random Forests model is :\t 0.8892045454545454\n"
     ]
    }
   ],
   "source": [
    "# Random Forest\n",
    "from sklearn.ensemble import RandomForestClassifier\n",
    "from sklearn import metrics\n",
    "\n",
    "random_forest = RandomForestClassifier(n_estimators=100, random_state=17)\n",
    "random_forest.fit(X_train_dll, y_train_dll)\n",
    "random_forest_preds = random_forest.predict(X_test_dll)\n",
    "print('The accuracy of the Random Forests model is :\\t',metrics.accuracy_score(random_forest_preds,y_test_dll))"
   ]
  },
  {
   "cell_type": "markdown",
   "id": "fc79de3f",
   "metadata": {
    "papermill": {
     "duration": 0.029983,
     "end_time": "2024-01-23T12:12:04.326020",
     "exception": false,
     "start_time": "2024-01-23T12:12:04.296037",
     "status": "completed"
    },
    "tags": []
   },
   "source": [
    "# **pe sections features**"
   ]
  },
  {
   "cell_type": "code",
   "execution_count": 57,
   "id": "75bb897d",
   "metadata": {
    "execution": {
     "iopub.execute_input": "2024-01-23T12:12:04.387481Z",
     "iopub.status.busy": "2024-01-23T12:12:04.386747Z",
     "iopub.status.idle": "2024-01-23T12:12:06.068448Z",
     "shell.execute_reply": "2024-01-23T12:12:06.066871Z"
    },
    "papermill": {
     "duration": 1.71532,
     "end_time": "2024-01-23T12:12:06.071502",
     "exception": false,
     "start_time": "2024-01-23T12:12:04.356182",
     "status": "completed"
    },
    "tags": []
   },
   "outputs": [],
   "source": [
    "petite = pd.read_pickle('/kaggle/input/packer-balance-pickle/petite_balance.pickle')\n",
    "petite = petite.drop(['sample_sha1','benign','unpacked_sample_sha1','unpacked_sample_id'], axis=1)\n",
    "petite = petite.drop(['benign_vt','malicious_vt'], axis=1)\n",
    "string_columns = petite.select_dtypes(include=['object']).columns\n",
    "petite = petite.drop(string_columns, axis=1)"
   ]
  },
  {
   "cell_type": "code",
   "execution_count": 58,
   "id": "de801de5",
   "metadata": {
    "execution": {
     "iopub.execute_input": "2024-01-23T12:12:06.132650Z",
     "iopub.status.busy": "2024-01-23T12:12:06.132229Z",
     "iopub.status.idle": "2024-01-23T12:12:07.402353Z",
     "shell.execute_reply": "2024-01-23T12:12:07.401192Z"
    },
    "papermill": {
     "duration": 1.304524,
     "end_time": "2024-01-23T12:12:07.405749",
     "exception": false,
     "start_time": "2024-01-23T12:12:06.101225",
     "status": "completed"
    },
    "tags": []
   },
   "outputs": [
    {
     "name": "stdout",
     "output_type": "stream",
     "text": [
      "removing 13000 features\n",
      "removing 2500 features\n",
      "removing 2 features\n",
      "removing 16900 features\n",
      "removing 66 features\n",
      "removing 19169 features\n",
      "removing 4306 features\n",
      "removing 29 features\n"
     ]
    }
   ],
   "source": [
    "pesection = remove_cols(petite, [c for c in cols if c.startswith('ngram_')])\n",
    "pesection = remove_cols(petite, [c for c in cols if c.startswith('opcode_')])\n",
    "pesection = remove_cols(petite, [c for c in cols if c.startswith('generic_')])\n",
    "pesection = remove_cols(petite, [c for c in cols if c.startswith('string_')])\n",
    "pesection = remove_cols(petite, [c for c in cols if c.startswith('rich_')])\n",
    "pesection = remove_cols(petite, [c for c in cols if c.startswith('imp_') or 'api_import_nb' == c])\n",
    "pesection = remove_cols(petite, [c for c in cols if c.endswith('.dll') or 'dll_import_nb' == c])\n",
    "# pesection = remove_cols(petite, [c for c in cols if c.startswith('pesection')])\n",
    "pesection = remove_cols(petite, [c for c in cols if c.startswith('header_')])"
   ]
  },
  {
   "cell_type": "code",
   "execution_count": 59,
   "id": "73fe6836",
   "metadata": {
    "execution": {
     "iopub.execute_input": "2024-01-23T12:12:07.475489Z",
     "iopub.status.busy": "2024-01-23T12:12:07.474796Z",
     "iopub.status.idle": "2024-01-23T12:12:07.538770Z",
     "shell.execute_reply": "2024-01-23T12:12:07.537432Z"
    },
    "papermill": {
     "duration": 0.102817,
     "end_time": "2024-01-23T12:12:07.542456",
     "exception": false,
     "start_time": "2024-01-23T12:12:07.439639",
     "status": "completed"
    },
    "tags": []
   },
   "outputs": [],
   "source": [
    "df_7000_pesection = pesection.sample(n=7000, random_state=102)\n",
    "df_3000_pesection = pesection.drop(df_7000.index)\n",
    "data_pesection = df_7000_pesection.sample(n=3500, random_state=102)"
   ]
  },
  {
   "cell_type": "code",
   "execution_count": 60,
   "id": "5c0a4b83",
   "metadata": {
    "execution": {
     "iopub.execute_input": "2024-01-23T12:12:07.609243Z",
     "iopub.status.busy": "2024-01-23T12:12:07.608658Z",
     "iopub.status.idle": "2024-01-23T12:12:07.774283Z",
     "shell.execute_reply": "2024-01-23T12:12:07.773064Z"
    },
    "papermill": {
     "duration": 0.20004,
     "end_time": "2024-01-23T12:12:07.777072",
     "exception": false,
     "start_time": "2024-01-23T12:12:07.577032",
     "status": "completed"
    },
    "tags": []
   },
   "outputs": [
    {
     "name": "stdout",
     "output_type": "stream",
     "text": [
      "Packed Malware: 2302 samples\n",
      "Packed Benign: 1198 samples\n",
      "Total TRAIN set: 3500 samples\n",
      "Packed Malware: 1198 samples\n",
      "Packed Benign: 1198 samples\n",
      "Total TRAIN set: 2396 samples\n",
      "Packed Malware: 1056 samples\n",
      "Packed Benign: 1056 samples\n",
      "Total TEST set: 2112 samples\n"
     ]
    }
   ],
   "source": [
    "#Kiểm tra số lượng mẫu\n",
    "PM = data_pesection[(data_pesection['malicious'] == True) & (data_pesection['packed'] == True)].shape[0]\n",
    "PB = data_pesection[(data_pesection['malicious'] == False) & (data_pesection['packed'] == True)].shape[0]\n",
    "print('Packed Malware: %i samples' % PM)\n",
    "print('Packed Benign: %i samples' % PB)\n",
    "print('Total TRAIN set: %i samples'% (PM+PB))\n",
    "\n",
    "#Chia tỉ lệ 50 - 50\n",
    "data_PM_pesection = data_pesection[(data_pesection['malicious'] == True) & (data_pesection['packed'] == True)].sample(n=(PM-PB), random_state=102)\n",
    "data_pesection = data_pesection.drop(data_PM_pesection.index)\n",
    "      \n",
    "#Số lượng tập train\n",
    "PM = data_pesection[(data_pesection['malicious'] == True) & (data_pesection['packed'] == True)].shape[0]\n",
    "PB = data_pesection[(data_pesection['malicious'] == False) & (data_pesection['packed'] == True)].shape[0]\n",
    "print('Packed Malware: %i samples' % PM)\n",
    "print('Packed Benign: %i samples' % PB)\n",
    "print('Total TRAIN set: %i samples'% (PM+PB))\n",
    "\n",
    "#Xử lý tập train\n",
    "y = data_pesection['malicious'].values\n",
    "data_pesection = data_pesection.drop(['malicious','packed'], axis=1)\n",
    "\n",
    "PM = df_3000_pesection[(df_3000_pesection['malicious'] == True) & (df_3000_pesection['packed'] == True)].shape[0]\n",
    "PB = df_3000_pesection[(df_3000_pesection['malicious'] == False) & (df_3000_pesection['packed'] == True)].shape[0]\n",
    "\n",
    "df_3000_PM_pesection = df_3000_pesection[(df_3000_pesection['malicious'] == True) & (df_3000_pesection['packed'] == True)].sample(n=(PM-PB), random_state=102)\n",
    "df_3000_pesection = df_3000_pesection.drop(df_3000_PM_pesection.index)\n",
    "\n",
    "PM = df_3000_pesection[(df_3000_pesection['malicious'] == True) & (df_3000_pesection['packed'] == True)].shape[0]\n",
    "PB = df_3000_pesection[(df_3000_pesection['malicious'] == False) & (df_3000_pesection['packed'] == True)].shape[0]\n",
    "\n",
    "print('Packed Malware: %i samples' % PM)\n",
    "print('Packed Benign: %i samples' % PB)\n",
    "print('Total TEST set: %i samples'% (PM+PB))"
   ]
  },
  {
   "cell_type": "code",
   "execution_count": 61,
   "id": "8e5002e1",
   "metadata": {
    "execution": {
     "iopub.execute_input": "2024-01-23T12:12:07.839584Z",
     "iopub.status.busy": "2024-01-23T12:12:07.838534Z",
     "iopub.status.idle": "2024-01-23T12:12:07.877905Z",
     "shell.execute_reply": "2024-01-23T12:12:07.876942Z"
    },
    "papermill": {
     "duration": 0.072959,
     "end_time": "2024-01-23T12:12:07.880534",
     "exception": false,
     "start_time": "2024-01-23T12:12:07.807575",
     "status": "completed"
    },
    "tags": []
   },
   "outputs": [],
   "source": [
    "# model = SelectFromModel(fsel, prefit=True)\n",
    "\n",
    "X_train_pesection = data_pesection\n",
    "X_test_pesection = df_3000_pesection.drop(['malicious','packed'], axis=1)\n",
    "\n",
    "data_pesection = data_pesection.loc[:, (data_pesection != 0).any(axis=0)]\n",
    "x_train_pesection = data_pesection\n",
    "X_test_pesection = df_3000_pesection.drop(['malicious','packed'], axis=1)\n",
    "y_train_pesection = y\n",
    "y_test_pesection = df_3000_pesection['malicious'].values"
   ]
  },
  {
   "cell_type": "code",
   "execution_count": 62,
   "id": "3953ccc9",
   "metadata": {
    "execution": {
     "iopub.execute_input": "2024-01-23T12:12:07.942977Z",
     "iopub.status.busy": "2024-01-23T12:12:07.942251Z",
     "iopub.status.idle": "2024-01-23T12:12:08.681172Z",
     "shell.execute_reply": "2024-01-23T12:12:08.679978Z"
    },
    "papermill": {
     "duration": 0.773271,
     "end_time": "2024-01-23T12:12:08.683740",
     "exception": false,
     "start_time": "2024-01-23T12:12:07.910469",
     "status": "completed"
    },
    "tags": []
   },
   "outputs": [
    {
     "name": "stdout",
     "output_type": "stream",
     "text": [
      "The accuracy of the Random Forests model is :\t 0.9389204545454546\n"
     ]
    }
   ],
   "source": [
    "# Random Forest\n",
    "from sklearn.ensemble import RandomForestClassifier\n",
    "from sklearn import metrics\n",
    "\n",
    "random_forest = RandomForestClassifier(n_estimators=100, random_state=17)\n",
    "random_forest.fit(X_train_pesection, y_train_pesection)\n",
    "random_forest_preds = random_forest.predict(X_test_pesection)\n",
    "print('The accuracy of the Random Forests model is :\\t',metrics.accuracy_score(random_forest_preds,y_test_pesection))"
   ]
  },
  {
   "cell_type": "markdown",
   "id": "065dac46",
   "metadata": {
    "papermill": {
     "duration": 0.029434,
     "end_time": "2024-01-23T12:12:08.743424",
     "exception": false,
     "start_time": "2024-01-23T12:12:08.713990",
     "status": "completed"
    },
    "tags": []
   },
   "source": [
    "# **pe header features**"
   ]
  },
  {
   "cell_type": "code",
   "execution_count": 63,
   "id": "f92023b7",
   "metadata": {
    "execution": {
     "iopub.execute_input": "2024-01-23T12:12:08.805014Z",
     "iopub.status.busy": "2024-01-23T12:12:08.804556Z",
     "iopub.status.idle": "2024-01-23T12:12:10.588464Z",
     "shell.execute_reply": "2024-01-23T12:12:10.587041Z"
    },
    "papermill": {
     "duration": 1.818084,
     "end_time": "2024-01-23T12:12:10.591375",
     "exception": false,
     "start_time": "2024-01-23T12:12:08.773291",
     "status": "completed"
    },
    "tags": []
   },
   "outputs": [],
   "source": [
    "petite = pd.read_pickle('/kaggle/input/packer-balance-pickle/petite_balance.pickle')\n",
    "petite = petite.drop(['sample_sha1','benign','unpacked_sample_sha1','unpacked_sample_id'], axis=1)\n",
    "petite = petite.drop(['benign_vt','malicious_vt'], axis=1)\n",
    "string_columns = petite.select_dtypes(include=['object']).columns\n",
    "petite = petite.drop(string_columns, axis=1)"
   ]
  },
  {
   "cell_type": "code",
   "execution_count": 64,
   "id": "45e8db99",
   "metadata": {
    "execution": {
     "iopub.execute_input": "2024-01-23T12:12:10.654723Z",
     "iopub.status.busy": "2024-01-23T12:12:10.654054Z",
     "iopub.status.idle": "2024-01-23T12:12:12.012737Z",
     "shell.execute_reply": "2024-01-23T12:12:12.010867Z"
    },
    "papermill": {
     "duration": 1.394212,
     "end_time": "2024-01-23T12:12:12.015772",
     "exception": false,
     "start_time": "2024-01-23T12:12:10.621560",
     "status": "completed"
    },
    "tags": []
   },
   "outputs": [
    {
     "name": "stdout",
     "output_type": "stream",
     "text": [
      "removing 13000 features\n",
      "removing 2500 features\n",
      "removing 2 features\n",
      "removing 16900 features\n",
      "removing 66 features\n",
      "removing 19169 features\n",
      "removing 4306 features\n",
      "removing 550 features\n"
     ]
    }
   ],
   "source": [
    "header = remove_cols(petite, [c for c in cols if c.startswith('ngram_')])\n",
    "header = remove_cols(petite, [c for c in cols if c.startswith('opcode_')])\n",
    "header = remove_cols(petite, [c for c in cols if c.startswith('generic_')])\n",
    "header = remove_cols(petite, [c for c in cols if c.startswith('string_')])\n",
    "header = remove_cols(petite, [c for c in cols if c.startswith('rich_')])\n",
    "header = remove_cols(petite, [c for c in cols if c.startswith('imp_') or 'api_import_nb' == c])\n",
    "header = remove_cols(petite, [c for c in cols if c.endswith('.dll') or 'dll_import_nb' == c])\n",
    "header = remove_cols(petite, [c for c in cols if c.startswith('pesection')])\n",
    "# header = remove_cols(petite, [c for c in cols if c.startswith('header_')])"
   ]
  },
  {
   "cell_type": "code",
   "execution_count": 65,
   "id": "2f172808",
   "metadata": {
    "execution": {
     "iopub.execute_input": "2024-01-23T12:12:12.078032Z",
     "iopub.status.busy": "2024-01-23T12:12:12.077654Z",
     "iopub.status.idle": "2024-01-23T12:12:12.091424Z",
     "shell.execute_reply": "2024-01-23T12:12:12.090302Z"
    },
    "papermill": {
     "duration": 0.048439,
     "end_time": "2024-01-23T12:12:12.094325",
     "exception": false,
     "start_time": "2024-01-23T12:12:12.045886",
     "status": "completed"
    },
    "tags": []
   },
   "outputs": [],
   "source": [
    "df_7000_header = header.sample(n=7000, random_state=102)\n",
    "df_3000_header = header.drop(df_7000.index)\n",
    "data_header = df_7000_header.sample(n=3500, random_state=102)"
   ]
  },
  {
   "cell_type": "code",
   "execution_count": 66,
   "id": "3ded6288",
   "metadata": {
    "execution": {
     "iopub.execute_input": "2024-01-23T12:12:12.159754Z",
     "iopub.status.busy": "2024-01-23T12:12:12.159324Z",
     "iopub.status.idle": "2024-01-23T12:12:12.203760Z",
     "shell.execute_reply": "2024-01-23T12:12:12.202471Z"
    },
    "papermill": {
     "duration": 0.080969,
     "end_time": "2024-01-23T12:12:12.206981",
     "exception": false,
     "start_time": "2024-01-23T12:12:12.126012",
     "status": "completed"
    },
    "tags": []
   },
   "outputs": [
    {
     "name": "stdout",
     "output_type": "stream",
     "text": [
      "Packed Malware: 2302 samples\n",
      "Packed Benign: 1198 samples\n",
      "Total TRAIN set: 3500 samples\n",
      "Packed Malware: 1198 samples\n",
      "Packed Benign: 1198 samples\n",
      "Total TRAIN set: 2396 samples\n",
      "Packed Malware: 1056 samples\n",
      "Packed Benign: 1056 samples\n",
      "Total TEST set: 2112 samples\n"
     ]
    }
   ],
   "source": [
    "#Kiểm tra số lượng mẫu\n",
    "PM = data_header[(data_header['malicious'] == True) & (data_header['packed'] == True)].shape[0]\n",
    "PB = data_header[(data_header['malicious'] == False) & (data_header['packed'] == True)].shape[0]\n",
    "print('Packed Malware: %i samples' % PM)\n",
    "print('Packed Benign: %i samples' % PB)\n",
    "print('Total TRAIN set: %i samples'% (PM+PB))\n",
    "\n",
    "#Chia tỉ lệ 50 - 50\n",
    "data_PM_header = data_header[(data_header['malicious'] == True) & (data_header['packed'] == True)].sample(n=(PM-PB), random_state=102)\n",
    "data_header = data_header.drop(data_PM_header.index)\n",
    "      \n",
    "#Số lượng tập train\n",
    "PM = data_header[(data_header['malicious'] == True) & (data_header['packed'] == True)].shape[0]\n",
    "PB = data_header[(data_header['malicious'] == False) & (data_header['packed'] == True)].shape[0]\n",
    "print('Packed Malware: %i samples' % PM)\n",
    "print('Packed Benign: %i samples' % PB)\n",
    "print('Total TRAIN set: %i samples'% (PM+PB))\n",
    "\n",
    "#Xử lý tập train\n",
    "y = data_header['malicious'].values\n",
    "data_header= data_header.drop(['malicious','packed'], axis=1)\n",
    "\n",
    "PM = df_3000_header[(df_3000_header['malicious'] == True) & (df_3000_header['packed'] == True)].shape[0]\n",
    "PB = df_3000_header[(df_3000_header['malicious'] == False) & (df_3000_header['packed'] == True)].shape[0]\n",
    "\n",
    "df_3000_PM_header = df_3000_header[(df_3000_header['malicious'] == True) & (df_3000_header['packed'] == True)].sample(n=(PM-PB), random_state=102)\n",
    "df_3000_header= df_3000_header.drop(df_3000_PM_header.index)\n",
    "\n",
    "PM = df_3000_header[(df_3000_header['malicious'] == True) & (df_3000_header['packed'] == True)].shape[0]\n",
    "PB = df_3000_header[(df_3000_header['malicious'] == False) & (df_3000_header['packed'] == True)].shape[0]\n",
    "\n",
    "print('Packed Malware: %i samples' % PM)\n",
    "print('Packed Benign: %i samples' % PB)\n",
    "print('Total TEST set: %i samples'% (PM+PB))"
   ]
  },
  {
   "cell_type": "code",
   "execution_count": 67,
   "id": "097a91d3",
   "metadata": {
    "execution": {
     "iopub.execute_input": "2024-01-23T12:12:12.270847Z",
     "iopub.status.busy": "2024-01-23T12:12:12.270061Z",
     "iopub.status.idle": "2024-01-23T12:12:12.283550Z",
     "shell.execute_reply": "2024-01-23T12:12:12.282170Z"
    },
    "papermill": {
     "duration": 0.04876,
     "end_time": "2024-01-23T12:12:12.286697",
     "exception": false,
     "start_time": "2024-01-23T12:12:12.237937",
     "status": "completed"
    },
    "tags": []
   },
   "outputs": [],
   "source": [
    "# model = SelectFromModel(fsel, prefit=True)\n",
    "\n",
    "X_train_header = data_header\n",
    "X_test_header = df_3000_header.drop(['malicious','packed'], axis=1)\n",
    "\n",
    "data_header = data_header.loc[:, (data_header != 0).any(axis=0)]\n",
    "x_train_header = data_header\n",
    "X_test_header = df_3000_header.drop(['malicious','packed'], axis=1)\n",
    "y_train_header = y\n",
    "y_test_header = df_3000_header['malicious'].values"
   ]
  },
  {
   "cell_type": "code",
   "execution_count": 68,
   "id": "32cf804b",
   "metadata": {
    "execution": {
     "iopub.execute_input": "2024-01-23T12:12:12.349472Z",
     "iopub.status.busy": "2024-01-23T12:12:12.349023Z",
     "iopub.status.idle": "2024-01-23T12:12:12.858757Z",
     "shell.execute_reply": "2024-01-23T12:12:12.857175Z"
    },
    "papermill": {
     "duration": 0.544112,
     "end_time": "2024-01-23T12:12:12.861326",
     "exception": false,
     "start_time": "2024-01-23T12:12:12.317214",
     "status": "completed"
    },
    "tags": []
   },
   "outputs": [
    {
     "name": "stdout",
     "output_type": "stream",
     "text": [
      "The accuracy of the Random Forests model is :\t 0.9299242424242424\n"
     ]
    }
   ],
   "source": [
    "# Random Forest\n",
    "from sklearn.ensemble import RandomForestClassifier\n",
    "from sklearn import metrics\n",
    "\n",
    "random_forest = RandomForestClassifier(n_estimators=100, random_state=17)\n",
    "random_forest.fit(X_train_header, y_train_header)\n",
    "random_forest_preds = random_forest.predict(X_test_header)\n",
    "print('The accuracy of the Random Forests model is :\\t',metrics.accuracy_score(random_forest_preds,y_test_header))"
   ]
  }
 ],
 "metadata": {
  "kaggle": {
   "accelerator": "none",
   "dataSources": [
    {
     "datasetId": 4192384,
     "sourceId": 7262652,
     "sourceType": "datasetVersion"
    }
   ],
   "dockerImageVersionId": 30626,
   "isGpuEnabled": false,
   "isInternetEnabled": true,
   "language": "python",
   "sourceType": "notebook"
  },
  "kernelspec": {
   "display_name": "Python 3",
   "language": "python",
   "name": "python3"
  },
  "language_info": {
   "codemirror_mode": {
    "name": "ipython",
    "version": 3
   },
   "file_extension": ".py",
   "mimetype": "text/x-python",
   "name": "python",
   "nbconvert_exporter": "python",
   "pygments_lexer": "ipython3",
   "version": "3.10.12"
  },
  "papermill": {
   "default_parameters": {},
   "duration": 89.193818,
   "end_time": "2024-01-23T12:12:13.714718",
   "environment_variables": {},
   "exception": null,
   "input_path": "__notebook__.ipynb",
   "output_path": "__notebook__.ipynb",
   "parameters": {},
   "start_time": "2024-01-23T12:10:44.520900",
   "version": "2.4.0"
  }
 },
 "nbformat": 4,
 "nbformat_minor": 5
}
