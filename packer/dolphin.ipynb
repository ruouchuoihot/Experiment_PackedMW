{
 "cells": [
  {
   "cell_type": "code",
   "execution_count": 1,
   "id": "fe8f4e82",
   "metadata": {
    "execution": {
     "iopub.execute_input": "2024-01-23T12:09:35.550176Z",
     "iopub.status.busy": "2024-01-23T12:09:35.549392Z",
     "iopub.status.idle": "2024-01-23T12:09:39.218534Z",
     "shell.execute_reply": "2024-01-23T12:09:39.216985Z"
    },
    "papermill": {
     "duration": 3.701637,
     "end_time": "2024-01-23T12:09:39.221934",
     "exception": false,
     "start_time": "2024-01-23T12:09:35.520297",
     "status": "completed"
    },
    "tags": []
   },
   "outputs": [],
   "source": [
    "import pandas as pd\n",
    "import numpy as np\n",
    "import sklearn\n",
    "import sklearn.naive_bayes\n",
    "import sklearn.ensemble as ske\n",
    "import sklearn.neighbors\n",
    "import sklearn.pipeline\n",
    "import sklearn.linear_model\n",
    "import joblib\n",
    "from sklearn import preprocessing\n",
    "from sklearn import tree, linear_model\n",
    "from sklearn.metrics import confusion_matrix\n",
    "from sklearn.metrics import classification_report\n",
    "from sklearn.feature_selection import SelectFromModel\n",
    "import sys\n",
    "import sqlite3\n",
    "import importlib\n",
    "import matplotlib.pyplot as plt\n",
    "import seaborn as sn\n",
    "from sklearn import metrics"
   ]
  },
  {
   "cell_type": "code",
   "execution_count": 2,
   "id": "e4ebaf52",
   "metadata": {
    "execution": {
     "iopub.execute_input": "2024-01-23T12:09:39.286675Z",
     "iopub.status.busy": "2024-01-23T12:09:39.286116Z",
     "iopub.status.idle": "2024-01-23T12:09:39.291699Z",
     "shell.execute_reply": "2024-01-23T12:09:39.289816Z"
    },
    "papermill": {
     "duration": 0.046428,
     "end_time": "2024-01-23T12:09:39.294397",
     "exception": false,
     "start_time": "2024-01-23T12:09:39.247969",
     "status": "completed"
    },
    "tags": []
   },
   "outputs": [],
   "source": [
    "# !pip install shap"
   ]
  },
  {
   "cell_type": "code",
   "execution_count": 3,
   "id": "4f9e53a4",
   "metadata": {
    "execution": {
     "iopub.execute_input": "2024-01-23T12:09:39.369801Z",
     "iopub.status.busy": "2024-01-23T12:09:39.368809Z",
     "iopub.status.idle": "2024-01-23T12:09:43.195733Z",
     "shell.execute_reply": "2024-01-23T12:09:43.194555Z"
    },
    "papermill": {
     "duration": 3.86841,
     "end_time": "2024-01-23T12:09:43.198497",
     "exception": false,
     "start_time": "2024-01-23T12:09:39.330087",
     "status": "completed"
    },
    "tags": []
   },
   "outputs": [],
   "source": [
    "df_dolphin = pd.read_pickle('/kaggle/input/packer-balance-pickle/dolphin_balance.pickle')"
   ]
  },
  {
   "cell_type": "code",
   "execution_count": 4,
   "id": "e9c44d47",
   "metadata": {
    "execution": {
     "iopub.execute_input": "2024-01-23T12:09:43.252422Z",
     "iopub.status.busy": "2024-01-23T12:09:43.252003Z",
     "iopub.status.idle": "2024-01-23T12:09:43.319304Z",
     "shell.execute_reply": "2024-01-23T12:09:43.318033Z"
    },
    "papermill": {
     "duration": 0.097035,
     "end_time": "2024-01-23T12:09:43.321882",
     "exception": false,
     "start_time": "2024-01-23T12:09:43.224847",
     "status": "completed"
    },
    "tags": []
   },
   "outputs": [
    {
     "data": {
      "text/html": [
       "<div>\n",
       "<style scoped>\n",
       "    .dataframe tbody tr th:only-of-type {\n",
       "        vertical-align: middle;\n",
       "    }\n",
       "\n",
       "    .dataframe tbody tr th {\n",
       "        vertical-align: top;\n",
       "    }\n",
       "\n",
       "    .dataframe thead th {\n",
       "        text-align: right;\n",
       "    }\n",
       "</style>\n",
       "<table border=\"1\" class=\"dataframe\">\n",
       "  <thead>\n",
       "    <tr style=\"text-align: right;\">\n",
       "      <th></th>\n",
       "      <th>sample_sha1</th>\n",
       "      <th>benign</th>\n",
       "      <th>malicious</th>\n",
       "      <th>packed</th>\n",
       "      <th>unpacked_sample_sha1</th>\n",
       "      <th>unpacked_sample_id</th>\n",
       "      <th>packer_name</th>\n",
       "      <th>imp_setupremovefilelogentrya</th>\n",
       "      <th>imp_vardeccmp</th>\n",
       "      <th>imp_setdlgitemint</th>\n",
       "      <th>...</th>\n",
       "      <th>opcode_xor sub mov</th>\n",
       "      <th>opcode_xor sub mov add</th>\n",
       "      <th>opcode_xor test</th>\n",
       "      <th>opcode_xor test je</th>\n",
       "      <th>opcode_xor xor</th>\n",
       "      <th>opcode_xor xor mov</th>\n",
       "      <th>opcode_xor xor pop</th>\n",
       "      <th>opcode_xor xor pop mov</th>\n",
       "      <th>opcode_xor xor xor</th>\n",
       "      <th>opcode_xor xor xor pop</th>\n",
       "    </tr>\n",
       "  </thead>\n",
       "  <tbody>\n",
       "    <tr>\n",
       "      <th>0</th>\n",
       "      <td>973ec487dda24c74207945fb3ac18fc91426a88c</td>\n",
       "      <td>False</td>\n",
       "      <td>True</td>\n",
       "      <td>True</td>\n",
       "      <td>ea4e26df309eae3d4f6c07c47254d0fff021bd5a</td>\n",
       "      <td>183243</td>\n",
       "      <td>dolphin-dropper-3</td>\n",
       "      <td>False</td>\n",
       "      <td>False</td>\n",
       "      <td>False</td>\n",
       "      <td>...</td>\n",
       "      <td>0.0</td>\n",
       "      <td>0.0</td>\n",
       "      <td>0.000479</td>\n",
       "      <td>0.000172</td>\n",
       "      <td>0.000597</td>\n",
       "      <td>0.000481</td>\n",
       "      <td>0.0</td>\n",
       "      <td>0.0</td>\n",
       "      <td>0.000641</td>\n",
       "      <td>0.0</td>\n",
       "    </tr>\n",
       "    <tr>\n",
       "      <th>2</th>\n",
       "      <td>9e5f5d4d33c4fd594a609e51068933809e28c982</td>\n",
       "      <td>True</td>\n",
       "      <td>False</td>\n",
       "      <td>True</td>\n",
       "      <td>4e276aed9cf22b997966f0215fcf445bec1a0674</td>\n",
       "      <td>14664</td>\n",
       "      <td>dolphin-dropper-3</td>\n",
       "      <td>False</td>\n",
       "      <td>False</td>\n",
       "      <td>False</td>\n",
       "      <td>...</td>\n",
       "      <td>0.0</td>\n",
       "      <td>0.0</td>\n",
       "      <td>0.000479</td>\n",
       "      <td>0.000172</td>\n",
       "      <td>0.000597</td>\n",
       "      <td>0.000481</td>\n",
       "      <td>0.0</td>\n",
       "      <td>0.0</td>\n",
       "      <td>0.000641</td>\n",
       "      <td>0.0</td>\n",
       "    </tr>\n",
       "    <tr>\n",
       "      <th>9</th>\n",
       "      <td>ecc46a22630162d655d50580d218c44b1db468c8</td>\n",
       "      <td>True</td>\n",
       "      <td>False</td>\n",
       "      <td>True</td>\n",
       "      <td>3cbd2be565f3a29207dba7dbd69cb4cfb4f5771f</td>\n",
       "      <td>11103</td>\n",
       "      <td>dolphin-dropper-3</td>\n",
       "      <td>False</td>\n",
       "      <td>False</td>\n",
       "      <td>False</td>\n",
       "      <td>...</td>\n",
       "      <td>0.0</td>\n",
       "      <td>0.0</td>\n",
       "      <td>0.000479</td>\n",
       "      <td>0.000172</td>\n",
       "      <td>0.000597</td>\n",
       "      <td>0.000481</td>\n",
       "      <td>0.0</td>\n",
       "      <td>0.0</td>\n",
       "      <td>0.000641</td>\n",
       "      <td>0.0</td>\n",
       "    </tr>\n",
       "    <tr>\n",
       "      <th>25</th>\n",
       "      <td>ea54c015a7bccd29626d0d708595ea7bad53e673</td>\n",
       "      <td>False</td>\n",
       "      <td>True</td>\n",
       "      <td>True</td>\n",
       "      <td>8ce1d6dbc590745c1cd28632fa0f1e10c7d83412</td>\n",
       "      <td>3977</td>\n",
       "      <td>dolphin-dropper-3</td>\n",
       "      <td>False</td>\n",
       "      <td>False</td>\n",
       "      <td>False</td>\n",
       "      <td>...</td>\n",
       "      <td>0.0</td>\n",
       "      <td>0.0</td>\n",
       "      <td>0.000479</td>\n",
       "      <td>0.000172</td>\n",
       "      <td>0.000597</td>\n",
       "      <td>0.000481</td>\n",
       "      <td>0.0</td>\n",
       "      <td>0.0</td>\n",
       "      <td>0.000641</td>\n",
       "      <td>0.0</td>\n",
       "    </tr>\n",
       "    <tr>\n",
       "      <th>27</th>\n",
       "      <td>1cbe7ecea7677b911a68691f7865da615f859ee8</td>\n",
       "      <td>False</td>\n",
       "      <td>True</td>\n",
       "      <td>True</td>\n",
       "      <td>63771c9bbc7adb064b3f566417666650fc44871d</td>\n",
       "      <td>162730</td>\n",
       "      <td>dolphin-dropper-3</td>\n",
       "      <td>False</td>\n",
       "      <td>False</td>\n",
       "      <td>False</td>\n",
       "      <td>...</td>\n",
       "      <td>0.0</td>\n",
       "      <td>0.0</td>\n",
       "      <td>0.000479</td>\n",
       "      <td>0.000172</td>\n",
       "      <td>0.000597</td>\n",
       "      <td>0.000481</td>\n",
       "      <td>0.0</td>\n",
       "      <td>0.0</td>\n",
       "      <td>0.000641</td>\n",
       "      <td>0.0</td>\n",
       "    </tr>\n",
       "  </tbody>\n",
       "</table>\n",
       "<p>5 rows × 56555 columns</p>\n",
       "</div>"
      ],
      "text/plain": [
       "                                 sample_sha1  benign  malicious  packed  \\\n",
       "0   973ec487dda24c74207945fb3ac18fc91426a88c   False       True    True   \n",
       "2   9e5f5d4d33c4fd594a609e51068933809e28c982    True      False    True   \n",
       "9   ecc46a22630162d655d50580d218c44b1db468c8    True      False    True   \n",
       "25  ea54c015a7bccd29626d0d708595ea7bad53e673   False       True    True   \n",
       "27  1cbe7ecea7677b911a68691f7865da615f859ee8   False       True    True   \n",
       "\n",
       "                        unpacked_sample_sha1  unpacked_sample_id  \\\n",
       "0   ea4e26df309eae3d4f6c07c47254d0fff021bd5a              183243   \n",
       "2   4e276aed9cf22b997966f0215fcf445bec1a0674               14664   \n",
       "9   3cbd2be565f3a29207dba7dbd69cb4cfb4f5771f               11103   \n",
       "25  8ce1d6dbc590745c1cd28632fa0f1e10c7d83412                3977   \n",
       "27  63771c9bbc7adb064b3f566417666650fc44871d              162730   \n",
       "\n",
       "          packer_name  imp_setupremovefilelogentrya  imp_vardeccmp  \\\n",
       "0   dolphin-dropper-3                         False          False   \n",
       "2   dolphin-dropper-3                         False          False   \n",
       "9   dolphin-dropper-3                         False          False   \n",
       "25  dolphin-dropper-3                         False          False   \n",
       "27  dolphin-dropper-3                         False          False   \n",
       "\n",
       "    imp_setdlgitemint  ...  opcode_xor sub mov  opcode_xor sub mov add  \\\n",
       "0               False  ...                 0.0                     0.0   \n",
       "2               False  ...                 0.0                     0.0   \n",
       "9               False  ...                 0.0                     0.0   \n",
       "25              False  ...                 0.0                     0.0   \n",
       "27              False  ...                 0.0                     0.0   \n",
       "\n",
       "    opcode_xor test  opcode_xor test je  opcode_xor xor  opcode_xor xor mov  \\\n",
       "0          0.000479            0.000172        0.000597            0.000481   \n",
       "2          0.000479            0.000172        0.000597            0.000481   \n",
       "9          0.000479            0.000172        0.000597            0.000481   \n",
       "25         0.000479            0.000172        0.000597            0.000481   \n",
       "27         0.000479            0.000172        0.000597            0.000481   \n",
       "\n",
       "    opcode_xor xor pop  opcode_xor xor pop mov  opcode_xor xor xor  \\\n",
       "0                  0.0                     0.0            0.000641   \n",
       "2                  0.0                     0.0            0.000641   \n",
       "9                  0.0                     0.0            0.000641   \n",
       "25                 0.0                     0.0            0.000641   \n",
       "27                 0.0                     0.0            0.000641   \n",
       "\n",
       "    opcode_xor xor xor pop  \n",
       "0                      0.0  \n",
       "2                      0.0  \n",
       "9                      0.0  \n",
       "25                     0.0  \n",
       "27                     0.0  \n",
       "\n",
       "[5 rows x 56555 columns]"
      ]
     },
     "execution_count": 4,
     "metadata": {},
     "output_type": "execute_result"
    }
   ],
   "source": [
    "df_dolphin.head()"
   ]
  },
  {
   "cell_type": "code",
   "execution_count": 5,
   "id": "644900c8",
   "metadata": {
    "execution": {
     "iopub.execute_input": "2024-01-23T12:09:43.374279Z",
     "iopub.status.busy": "2024-01-23T12:09:43.373872Z",
     "iopub.status.idle": "2024-01-23T12:09:44.516084Z",
     "shell.execute_reply": "2024-01-23T12:09:44.514811Z"
    },
    "papermill": {
     "duration": 1.17178,
     "end_time": "2024-01-23T12:09:44.518938",
     "exception": false,
     "start_time": "2024-01-23T12:09:43.347158",
     "status": "completed"
    },
    "tags": []
   },
   "outputs": [],
   "source": [
    "df_dolphin = df_dolphin.drop(['sample_sha1','benign','unpacked_sample_sha1','unpacked_sample_id'], axis=1)\n",
    "df_dolphin = df_dolphin.drop(['benign_vt','malicious_vt'], axis=1)"
   ]
  },
  {
   "cell_type": "code",
   "execution_count": 6,
   "id": "00f94ff3",
   "metadata": {
    "execution": {
     "iopub.execute_input": "2024-01-23T12:09:44.573138Z",
     "iopub.status.busy": "2024-01-23T12:09:44.572695Z",
     "iopub.status.idle": "2024-01-23T12:09:44.913859Z",
     "shell.execute_reply": "2024-01-23T12:09:44.912807Z"
    },
    "papermill": {
     "duration": 0.371552,
     "end_time": "2024-01-23T12:09:44.916701",
     "exception": false,
     "start_time": "2024-01-23T12:09:44.545149",
     "status": "completed"
    },
    "tags": []
   },
   "outputs": [],
   "source": [
    "string_columns = df_dolphin.select_dtypes(include=['object']).columns\n",
    "df_dolphin = df_dolphin.drop(string_columns, axis=1)"
   ]
  },
  {
   "cell_type": "code",
   "execution_count": 7,
   "id": "9e57f248",
   "metadata": {
    "execution": {
     "iopub.execute_input": "2024-01-23T12:09:44.968891Z",
     "iopub.status.busy": "2024-01-23T12:09:44.968461Z",
     "iopub.status.idle": "2024-01-23T12:09:45.015971Z",
     "shell.execute_reply": "2024-01-23T12:09:45.013479Z"
    },
    "papermill": {
     "duration": 0.07714,
     "end_time": "2024-01-23T12:09:45.019208",
     "exception": false,
     "start_time": "2024-01-23T12:09:44.942068",
     "status": "completed"
    },
    "tags": []
   },
   "outputs": [
    {
     "data": {
      "text/html": [
       "<div>\n",
       "<style scoped>\n",
       "    .dataframe tbody tr th:only-of-type {\n",
       "        vertical-align: middle;\n",
       "    }\n",
       "\n",
       "    .dataframe tbody tr th {\n",
       "        vertical-align: top;\n",
       "    }\n",
       "\n",
       "    .dataframe thead th {\n",
       "        text-align: right;\n",
       "    }\n",
       "</style>\n",
       "<table border=\"1\" class=\"dataframe\">\n",
       "  <thead>\n",
       "    <tr style=\"text-align: right;\">\n",
       "      <th></th>\n",
       "      <th>malicious</th>\n",
       "      <th>packed</th>\n",
       "      <th>imp_setupremovefilelogentrya</th>\n",
       "      <th>imp_vardeccmp</th>\n",
       "      <th>imp_setdlgitemint</th>\n",
       "      <th>imp_?append@?$basic_string@du?$char_traits@d@std@@v?$allocator@d@2@@std@@qaeaav12@abv12@ii@z</th>\n",
       "      <th>imp_zwwritefile</th>\n",
       "      <th>imp_glstencilop</th>\n",
       "      <th>imp_comparelinkinforeferents</th>\n",
       "      <th>imp__setmbcp</th>\n",
       "      <th>...</th>\n",
       "      <th>opcode_xor sub mov</th>\n",
       "      <th>opcode_xor sub mov add</th>\n",
       "      <th>opcode_xor test</th>\n",
       "      <th>opcode_xor test je</th>\n",
       "      <th>opcode_xor xor</th>\n",
       "      <th>opcode_xor xor mov</th>\n",
       "      <th>opcode_xor xor pop</th>\n",
       "      <th>opcode_xor xor pop mov</th>\n",
       "      <th>opcode_xor xor xor</th>\n",
       "      <th>opcode_xor xor xor pop</th>\n",
       "    </tr>\n",
       "  </thead>\n",
       "  <tbody>\n",
       "    <tr>\n",
       "      <th>0</th>\n",
       "      <td>True</td>\n",
       "      <td>True</td>\n",
       "      <td>False</td>\n",
       "      <td>False</td>\n",
       "      <td>False</td>\n",
       "      <td>False</td>\n",
       "      <td>False</td>\n",
       "      <td>False</td>\n",
       "      <td>False</td>\n",
       "      <td>False</td>\n",
       "      <td>...</td>\n",
       "      <td>0.0</td>\n",
       "      <td>0.0</td>\n",
       "      <td>0.000479</td>\n",
       "      <td>0.000172</td>\n",
       "      <td>0.000597</td>\n",
       "      <td>0.000481</td>\n",
       "      <td>0.0</td>\n",
       "      <td>0.0</td>\n",
       "      <td>0.000641</td>\n",
       "      <td>0.0</td>\n",
       "    </tr>\n",
       "    <tr>\n",
       "      <th>2</th>\n",
       "      <td>False</td>\n",
       "      <td>True</td>\n",
       "      <td>False</td>\n",
       "      <td>False</td>\n",
       "      <td>False</td>\n",
       "      <td>False</td>\n",
       "      <td>False</td>\n",
       "      <td>False</td>\n",
       "      <td>False</td>\n",
       "      <td>False</td>\n",
       "      <td>...</td>\n",
       "      <td>0.0</td>\n",
       "      <td>0.0</td>\n",
       "      <td>0.000479</td>\n",
       "      <td>0.000172</td>\n",
       "      <td>0.000597</td>\n",
       "      <td>0.000481</td>\n",
       "      <td>0.0</td>\n",
       "      <td>0.0</td>\n",
       "      <td>0.000641</td>\n",
       "      <td>0.0</td>\n",
       "    </tr>\n",
       "    <tr>\n",
       "      <th>9</th>\n",
       "      <td>False</td>\n",
       "      <td>True</td>\n",
       "      <td>False</td>\n",
       "      <td>False</td>\n",
       "      <td>False</td>\n",
       "      <td>False</td>\n",
       "      <td>False</td>\n",
       "      <td>False</td>\n",
       "      <td>False</td>\n",
       "      <td>False</td>\n",
       "      <td>...</td>\n",
       "      <td>0.0</td>\n",
       "      <td>0.0</td>\n",
       "      <td>0.000479</td>\n",
       "      <td>0.000172</td>\n",
       "      <td>0.000597</td>\n",
       "      <td>0.000481</td>\n",
       "      <td>0.0</td>\n",
       "      <td>0.0</td>\n",
       "      <td>0.000641</td>\n",
       "      <td>0.0</td>\n",
       "    </tr>\n",
       "    <tr>\n",
       "      <th>25</th>\n",
       "      <td>True</td>\n",
       "      <td>True</td>\n",
       "      <td>False</td>\n",
       "      <td>False</td>\n",
       "      <td>False</td>\n",
       "      <td>False</td>\n",
       "      <td>False</td>\n",
       "      <td>False</td>\n",
       "      <td>False</td>\n",
       "      <td>False</td>\n",
       "      <td>...</td>\n",
       "      <td>0.0</td>\n",
       "      <td>0.0</td>\n",
       "      <td>0.000479</td>\n",
       "      <td>0.000172</td>\n",
       "      <td>0.000597</td>\n",
       "      <td>0.000481</td>\n",
       "      <td>0.0</td>\n",
       "      <td>0.0</td>\n",
       "      <td>0.000641</td>\n",
       "      <td>0.0</td>\n",
       "    </tr>\n",
       "    <tr>\n",
       "      <th>27</th>\n",
       "      <td>True</td>\n",
       "      <td>True</td>\n",
       "      <td>False</td>\n",
       "      <td>False</td>\n",
       "      <td>False</td>\n",
       "      <td>False</td>\n",
       "      <td>False</td>\n",
       "      <td>False</td>\n",
       "      <td>False</td>\n",
       "      <td>False</td>\n",
       "      <td>...</td>\n",
       "      <td>0.0</td>\n",
       "      <td>0.0</td>\n",
       "      <td>0.000479</td>\n",
       "      <td>0.000172</td>\n",
       "      <td>0.000597</td>\n",
       "      <td>0.000481</td>\n",
       "      <td>0.0</td>\n",
       "      <td>0.0</td>\n",
       "      <td>0.000641</td>\n",
       "      <td>0.0</td>\n",
       "    </tr>\n",
       "  </tbody>\n",
       "</table>\n",
       "<p>5 rows × 56526 columns</p>\n",
       "</div>"
      ],
      "text/plain": [
       "    malicious  packed  imp_setupremovefilelogentrya  imp_vardeccmp  \\\n",
       "0        True    True                         False          False   \n",
       "2       False    True                         False          False   \n",
       "9       False    True                         False          False   \n",
       "25       True    True                         False          False   \n",
       "27       True    True                         False          False   \n",
       "\n",
       "    imp_setdlgitemint  \\\n",
       "0               False   \n",
       "2               False   \n",
       "9               False   \n",
       "25              False   \n",
       "27              False   \n",
       "\n",
       "    imp_?append@?$basic_string@du?$char_traits@d@std@@v?$allocator@d@2@@std@@qaeaav12@abv12@ii@z  \\\n",
       "0                                               False                                              \n",
       "2                                               False                                              \n",
       "9                                               False                                              \n",
       "25                                              False                                              \n",
       "27                                              False                                              \n",
       "\n",
       "    imp_zwwritefile  imp_glstencilop  imp_comparelinkinforeferents  \\\n",
       "0             False            False                         False   \n",
       "2             False            False                         False   \n",
       "9             False            False                         False   \n",
       "25            False            False                         False   \n",
       "27            False            False                         False   \n",
       "\n",
       "    imp__setmbcp  ...  opcode_xor sub mov  opcode_xor sub mov add  \\\n",
       "0          False  ...                 0.0                     0.0   \n",
       "2          False  ...                 0.0                     0.0   \n",
       "9          False  ...                 0.0                     0.0   \n",
       "25         False  ...                 0.0                     0.0   \n",
       "27         False  ...                 0.0                     0.0   \n",
       "\n",
       "    opcode_xor test  opcode_xor test je  opcode_xor xor  opcode_xor xor mov  \\\n",
       "0          0.000479            0.000172        0.000597            0.000481   \n",
       "2          0.000479            0.000172        0.000597            0.000481   \n",
       "9          0.000479            0.000172        0.000597            0.000481   \n",
       "25         0.000479            0.000172        0.000597            0.000481   \n",
       "27         0.000479            0.000172        0.000597            0.000481   \n",
       "\n",
       "    opcode_xor xor pop  opcode_xor xor pop mov  opcode_xor xor xor  \\\n",
       "0                  0.0                     0.0            0.000641   \n",
       "2                  0.0                     0.0            0.000641   \n",
       "9                  0.0                     0.0            0.000641   \n",
       "25                 0.0                     0.0            0.000641   \n",
       "27                 0.0                     0.0            0.000641   \n",
       "\n",
       "    opcode_xor xor xor pop  \n",
       "0                      0.0  \n",
       "2                      0.0  \n",
       "9                      0.0  \n",
       "25                     0.0  \n",
       "27                     0.0  \n",
       "\n",
       "[5 rows x 56526 columns]"
      ]
     },
     "execution_count": 7,
     "metadata": {},
     "output_type": "execute_result"
    }
   ],
   "source": [
    "df_dolphin.head()"
   ]
  },
  {
   "cell_type": "code",
   "execution_count": 8,
   "id": "f92300d9",
   "metadata": {
    "execution": {
     "iopub.execute_input": "2024-01-23T12:09:45.072470Z",
     "iopub.status.busy": "2024-01-23T12:09:45.072073Z",
     "iopub.status.idle": "2024-01-23T12:09:46.017080Z",
     "shell.execute_reply": "2024-01-23T12:09:46.015804Z"
    },
    "papermill": {
     "duration": 0.975094,
     "end_time": "2024-01-23T12:09:46.020004",
     "exception": false,
     "start_time": "2024-01-23T12:09:45.044910",
     "status": "completed"
    },
    "tags": []
   },
   "outputs": [],
   "source": [
    "df_7000 = df_dolphin.sample(n=7000, random_state=102)\n",
    "df_3000 = df_dolphin.drop(df_7000.index)"
   ]
  },
  {
   "cell_type": "code",
   "execution_count": 9,
   "id": "f80d5b5f",
   "metadata": {
    "execution": {
     "iopub.execute_input": "2024-01-23T12:09:46.138602Z",
     "iopub.status.busy": "2024-01-23T12:09:46.137632Z",
     "iopub.status.idle": "2024-01-23T12:09:46.601488Z",
     "shell.execute_reply": "2024-01-23T12:09:46.600151Z"
    },
    "papermill": {
     "duration": 0.49435,
     "end_time": "2024-01-23T12:09:46.604345",
     "exception": false,
     "start_time": "2024-01-23T12:09:46.109995",
     "status": "completed"
    },
    "tags": []
   },
   "outputs": [],
   "source": [
    "data = df_7000.sample(n=3500, random_state=102)"
   ]
  },
  {
   "cell_type": "code",
   "execution_count": 10,
   "id": "0c2b0bdb",
   "metadata": {
    "execution": {
     "iopub.execute_input": "2024-01-23T12:09:46.658506Z",
     "iopub.status.busy": "2024-01-23T12:09:46.658079Z",
     "iopub.status.idle": "2024-01-23T12:09:47.055546Z",
     "shell.execute_reply": "2024-01-23T12:09:47.054173Z"
    },
    "papermill": {
     "duration": 0.428291,
     "end_time": "2024-01-23T12:09:47.058714",
     "exception": false,
     "start_time": "2024-01-23T12:09:46.630423",
     "status": "completed"
    },
    "tags": []
   },
   "outputs": [
    {
     "name": "stdout",
     "output_type": "stream",
     "text": [
      "Packed Malware: 2322 samples\n",
      "Packed Benign: 1178 samples\n",
      "Total TRAIN set: 3500 samples\n"
     ]
    }
   ],
   "source": [
    "#Kiểm tra số lượng mẫu\n",
    "PM = data[(data['malicious'] == True) & (data['packed'] == True)].shape[0]\n",
    "PB = data[(data['malicious'] == False) & (data['packed'] == True)].shape[0]\n",
    "print('Packed Malware: %i samples' % PM)\n",
    "print('Packed Benign: %i samples' % PB)\n",
    "print('Total TRAIN set: %i samples'% (PM+PB))"
   ]
  },
  {
   "cell_type": "code",
   "execution_count": 11,
   "id": "c78fd93a",
   "metadata": {
    "execution": {
     "iopub.execute_input": "2024-01-23T12:09:47.114039Z",
     "iopub.status.busy": "2024-01-23T12:09:47.113562Z",
     "iopub.status.idle": "2024-01-23T12:09:47.666668Z",
     "shell.execute_reply": "2024-01-23T12:09:47.665278Z"
    },
    "papermill": {
     "duration": 0.583982,
     "end_time": "2024-01-23T12:09:47.669560",
     "exception": false,
     "start_time": "2024-01-23T12:09:47.085578",
     "status": "completed"
    },
    "tags": []
   },
   "outputs": [],
   "source": [
    "#Chia tỉ lệ 50 - 50\n",
    "data_PM = data[(data['malicious'] == True) & (data['packed'] == True)].sample(n=(PM-PB), random_state=102)\n",
    "data = data.drop(data_PM.index)"
   ]
  },
  {
   "cell_type": "code",
   "execution_count": 12,
   "id": "aabe8683",
   "metadata": {
    "execution": {
     "iopub.execute_input": "2024-01-23T12:09:47.725733Z",
     "iopub.status.busy": "2024-01-23T12:09:47.724994Z",
     "iopub.status.idle": "2024-01-23T12:09:47.933422Z",
     "shell.execute_reply": "2024-01-23T12:09:47.932635Z"
    },
    "papermill": {
     "duration": 0.239074,
     "end_time": "2024-01-23T12:09:47.935786",
     "exception": false,
     "start_time": "2024-01-23T12:09:47.696712",
     "status": "completed"
    },
    "tags": []
   },
   "outputs": [
    {
     "name": "stdout",
     "output_type": "stream",
     "text": [
      "Packed Malware: 1178 samples\n",
      "Packed Benign: 1178 samples\n",
      "Total TRAIN set: 2356 samples\n"
     ]
    }
   ],
   "source": [
    "#Số lượng tập train\n",
    "PM = data[(data['malicious'] == True) & (data['packed'] == True)].shape[0]\n",
    "PB = data[(data['malicious'] == False) & (data['packed'] == True)].shape[0]\n",
    "print('Packed Malware: %i samples' % PM)\n",
    "print('Packed Benign: %i samples' % PB)\n",
    "print('Total TRAIN set: %i samples'% (PM+PB))"
   ]
  },
  {
   "cell_type": "code",
   "execution_count": 13,
   "id": "3451289a",
   "metadata": {
    "execution": {
     "iopub.execute_input": "2024-01-23T12:09:47.990226Z",
     "iopub.status.busy": "2024-01-23T12:09:47.989767Z",
     "iopub.status.idle": "2024-01-23T12:09:48.085066Z",
     "shell.execute_reply": "2024-01-23T12:09:48.083705Z"
    },
    "papermill": {
     "duration": 0.126062,
     "end_time": "2024-01-23T12:09:48.088027",
     "exception": false,
     "start_time": "2024-01-23T12:09:47.961965",
     "status": "completed"
    },
    "tags": []
   },
   "outputs": [],
   "source": [
    "#Xử lý tập train\n",
    "y = data['malicious'].values\n",
    "data = data.drop(['malicious','packed'], axis=1)"
   ]
  },
  {
   "cell_type": "code",
   "execution_count": 14,
   "id": "518e7740",
   "metadata": {
    "execution": {
     "iopub.execute_input": "2024-01-23T12:09:48.144301Z",
     "iopub.status.busy": "2024-01-23T12:09:48.143895Z",
     "iopub.status.idle": "2024-01-23T12:09:49.004065Z",
     "shell.execute_reply": "2024-01-23T12:09:49.002721Z"
    },
    "papermill": {
     "duration": 0.89243,
     "end_time": "2024-01-23T12:09:49.006961",
     "exception": false,
     "start_time": "2024-01-23T12:09:48.114531",
     "status": "completed"
    },
    "tags": []
   },
   "outputs": [
    {
     "name": "stdout",
     "output_type": "stream",
     "text": [
      "Packed Malware: 1022 samples\n",
      "Packed Benign: 1022 samples\n",
      "Total TEST set: 2044 samples\n"
     ]
    }
   ],
   "source": [
    "PM = df_3000[(df_3000['malicious'] == True) & (df_3000['packed'] == True)].shape[0]\n",
    "PB = df_3000[(df_3000['malicious'] == False) & (df_3000['packed'] == True)].shape[0]\n",
    "\n",
    "df_3000_PM = df_3000[(df_3000['malicious'] == True) & (df_3000['packed'] == True)].sample(n=(PM-PB), random_state=102)\n",
    "df_3000 = df_3000.drop(df_3000_PM.index)\n",
    "\n",
    "PM = df_3000[(df_3000['malicious'] == True) & (df_3000['packed'] == True)].shape[0]\n",
    "PB = df_3000[(df_3000['malicious'] == False) & (df_3000['packed'] == True)].shape[0]\n",
    "\n",
    "print('Packed Malware: %i samples' % PM)\n",
    "print('Packed Benign: %i samples' % PB)\n",
    "print('Total TEST set: %i samples'% (PM+PB))"
   ]
  },
  {
   "cell_type": "code",
   "execution_count": 15,
   "id": "35065335",
   "metadata": {
    "execution": {
     "iopub.execute_input": "2024-01-23T12:09:49.079418Z",
     "iopub.status.busy": "2024-01-23T12:09:49.078375Z",
     "iopub.status.idle": "2024-01-23T12:09:49.491300Z",
     "shell.execute_reply": "2024-01-23T12:09:49.490056Z"
    },
    "papermill": {
     "duration": 0.451665,
     "end_time": "2024-01-23T12:09:49.494185",
     "exception": false,
     "start_time": "2024-01-23T12:09:49.042520",
     "status": "completed"
    },
    "tags": []
   },
   "outputs": [],
   "source": [
    "# model = SelectFromModel(fsel, prefit=True)\n",
    "\n",
    "X_train = data\n",
    "X_test = df_3000.drop(['malicious','packed'], axis=1)\n",
    "\n",
    "data = data.loc[:, (data != 0).any(axis=0)]\n",
    "x_train = data\n",
    "X_test = df_3000.drop(['malicious','packed'], axis=1)\n",
    "y_train = y\n",
    "y_test = df_3000['malicious'].values"
   ]
  },
  {
   "cell_type": "code",
   "execution_count": 16,
   "id": "03a3a4b5",
   "metadata": {
    "execution": {
     "iopub.execute_input": "2024-01-23T12:09:49.549633Z",
     "iopub.status.busy": "2024-01-23T12:09:49.549224Z",
     "iopub.status.idle": "2024-01-23T12:10:45.474325Z",
     "shell.execute_reply": "2024-01-23T12:10:45.473039Z"
    },
    "papermill": {
     "duration": 55.98268,
     "end_time": "2024-01-23T12:10:45.503721",
     "exception": false,
     "start_time": "2024-01-23T12:09:49.521041",
     "status": "completed"
    },
    "tags": []
   },
   "outputs": [
    {
     "name": "stdout",
     "output_type": "stream",
     "text": [
      "The accuracy of the Random Forests model is :\t 0.724559686888454\n"
     ]
    }
   ],
   "source": [
    "# Random Forest\n",
    "from sklearn.ensemble import RandomForestClassifier\n",
    "from sklearn import metrics\n",
    "\n",
    "random_forest = RandomForestClassifier(n_estimators=100, random_state=17)\n",
    "random_forest.fit(X_train, y_train)\n",
    "random_forest_preds = random_forest.predict(X_test)\n",
    "print('The accuracy of the Random Forests model is :\\t',metrics.accuracy_score(random_forest_preds,y_test))"
   ]
  },
  {
   "cell_type": "code",
   "execution_count": 17,
   "id": "02c02bfd",
   "metadata": {
    "execution": {
     "iopub.execute_input": "2024-01-23T12:10:45.560342Z",
     "iopub.status.busy": "2024-01-23T12:10:45.559875Z",
     "iopub.status.idle": "2024-01-23T12:10:45.582573Z",
     "shell.execute_reply": "2024-01-23T12:10:45.580933Z"
    },
    "papermill": {
     "duration": 0.0547,
     "end_time": "2024-01-23T12:10:45.585393",
     "exception": false,
     "start_time": "2024-01-23T12:10:45.530693",
     "status": "completed"
    },
    "tags": []
   },
   "outputs": [
    {
     "name": "stdout",
     "output_type": "stream",
     "text": [
      "True positive : 724 \n",
      "True negative : 757 \n",
      "False positive : 265 \n",
      "False negative : 298 \n",
      "Classification Report:\n",
      "               precision    recall  f1-score   support\n",
      "\n",
      "       False       0.72      0.74      0.73      1022\n",
      "        True       0.73      0.71      0.72      1022\n",
      "\n",
      "    accuracy                           0.72      2044\n",
      "   macro avg       0.72      0.72      0.72      2044\n",
      "weighted avg       0.72      0.72      0.72      2044\n",
      "\n"
     ]
    }
   ],
   "source": [
    "mt = confusion_matrix(y_test, random_forest_preds)\n",
    "report = classification_report(y_test, random_forest_preds)\n",
    "print(\"True positive : %i \" % (mt[1][1]))\n",
    "print(\"True negative : %i \" % (mt[0][0]))\n",
    "print(\"False positive : %i \" % (mt[0][1]))\n",
    "print(\"False negative : %i \" % (mt[1][0]))\n",
    "print(\"Classification Report:\\n\", report)"
   ]
  },
  {
   "cell_type": "code",
   "execution_count": 18,
   "id": "2fab48c2",
   "metadata": {
    "execution": {
     "iopub.execute_input": "2024-01-23T12:10:45.641192Z",
     "iopub.status.busy": "2024-01-23T12:10:45.640797Z",
     "iopub.status.idle": "2024-01-23T12:10:45.720948Z",
     "shell.execute_reply": "2024-01-23T12:10:45.719708Z"
    },
    "papermill": {
     "duration": 0.110986,
     "end_time": "2024-01-23T12:10:45.723332",
     "exception": false,
     "start_time": "2024-01-23T12:10:45.612346",
     "status": "completed"
    },
    "tags": []
   },
   "outputs": [
    {
     "data": {
      "text/plain": [
       "generic_fileSize              0.365492\n",
       "generic_fileEntropy           0.345911\n",
       "string_b'ezkb'                0.001567\n",
       "string_b'a=O&'                0.001400\n",
       "string_b'E WW'                0.001232\n",
       "                                ...   \n",
       "imp_pyobject_gc_untrack       0.000000\n",
       "imp_pycfunction_newex         0.000000\n",
       "imp_pytype_ready              0.000000\n",
       "imp_pyobject_setattrstring    0.000000\n",
       "opcode_xor xor xor pop        0.000000\n",
       "Length: 56524, dtype: float64"
      ]
     },
     "execution_count": 18,
     "metadata": {},
     "output_type": "execute_result"
    }
   ],
   "source": [
    "feature_scores_rf = pd.Series(random_forest.feature_importances_, index=X_train.columns).sort_values(ascending=False)\n",
    "feature_scores_rf"
   ]
  },
  {
   "cell_type": "code",
   "execution_count": 19,
   "id": "0adf21c9",
   "metadata": {
    "execution": {
     "iopub.execute_input": "2024-01-23T12:10:45.780031Z",
     "iopub.status.busy": "2024-01-23T12:10:45.779393Z",
     "iopub.status.idle": "2024-01-23T12:10:45.840294Z",
     "shell.execute_reply": "2024-01-23T12:10:45.839048Z"
    },
    "papermill": {
     "duration": 0.093307,
     "end_time": "2024-01-23T12:10:45.843449",
     "exception": false,
     "start_time": "2024-01-23T12:10:45.750142",
     "status": "completed"
    },
    "tags": []
   },
   "outputs": [],
   "source": [
    "top50 = pd.Series(random_forest.feature_importances_, index=X_train.columns).sort_values(ascending=False).head(50)"
   ]
  },
  {
   "cell_type": "code",
   "execution_count": 20,
   "id": "6289da70",
   "metadata": {
    "execution": {
     "iopub.execute_input": "2024-01-23T12:10:45.900521Z",
     "iopub.status.busy": "2024-01-23T12:10:45.900104Z",
     "iopub.status.idle": "2024-01-23T12:10:45.905712Z",
     "shell.execute_reply": "2024-01-23T12:10:45.904479Z"
    },
    "papermill": {
     "duration": 0.037919,
     "end_time": "2024-01-23T12:10:45.908552",
     "exception": false,
     "start_time": "2024-01-23T12:10:45.870633",
     "status": "completed"
    },
    "tags": []
   },
   "outputs": [],
   "source": [
    "# Tạo DataFrame từ feature_scores_rf\n",
    "df_features = pd.DataFrame(top50, columns=['Score'])"
   ]
  },
  {
   "cell_type": "code",
   "execution_count": 21,
   "id": "490a78f6",
   "metadata": {
    "execution": {
     "iopub.execute_input": "2024-01-23T12:10:45.966158Z",
     "iopub.status.busy": "2024-01-23T12:10:45.965762Z",
     "iopub.status.idle": "2024-01-23T12:10:45.981414Z",
     "shell.execute_reply": "2024-01-23T12:10:45.980242Z"
    },
    "papermill": {
     "duration": 0.047873,
     "end_time": "2024-01-23T12:10:45.984119",
     "exception": false,
     "start_time": "2024-01-23T12:10:45.936246",
     "status": "completed"
    },
    "tags": []
   },
   "outputs": [
    {
     "name": "stdout",
     "output_type": "stream",
     "text": [
      "'ngram': 0\n",
      "'opcode ngram': 0\n",
      "'generic': 2\n",
      "'strings': 48\n",
      "'rich header': 0\n",
      "'api import': 0\n",
      "'dll': 0\n",
      "'pe section': 0\n",
      "'pe header': 0\n"
     ]
    }
   ],
   "source": [
    "count_ngram = df_features[df_features.index.str.startswith('ngram_')].shape[0]\n",
    "count_opcode = df_features[df_features.index.str.startswith('opcode_')].shape[0]\n",
    "count_generic = df_features[df_features.index.str.startswith('generic_')].shape[0]\n",
    "count_string = df_features[df_features.index.str.startswith('string_')].shape[0]\n",
    "count_rich = df_features[df_features.index.str.startswith('rich_')].shape[0]\n",
    "# count_api = df_features[df_features.index.str.startswith('imp_') or 'api_import_nb' == c].shape[0]\n",
    "# count_dll = df_features[df_features.index.str.startswith('.dll') or 'dll_import_nb' == c].shape[0]\n",
    "count_api = df_features[df_features.index.str.startswith('imp_') | (df_features.index == 'api_import_nb')].shape[0]\n",
    "count_dll = df_features[df_features.index.str.endswith('.dll') | (df_features.index == 'dll_import_nb')].shape[0]\n",
    "count_section = df_features[df_features.index.str.startswith('pesection')].shape[0]\n",
    "count_header = df_features[df_features.index.str.startswith('header_')].shape[0]\n",
    "\n",
    "print(f\"'ngram': {count_ngram}\")\n",
    "print(f\"'opcode ngram': {count_opcode}\")\n",
    "print(f\"'generic': {count_generic}\")\n",
    "print(f\"'strings': {count_string}\")\n",
    "print(f\"'rich header': {count_rich}\")\n",
    "print(f\"'api import': {count_api}\")\n",
    "print(f\"'dll': {count_dll}\")\n",
    "print(f\"'pe section': {count_section}\")\n",
    "print(f\"'pe header': {count_header}\")"
   ]
  },
  {
   "cell_type": "code",
   "execution_count": 22,
   "id": "c94c62b5",
   "metadata": {
    "execution": {
     "iopub.execute_input": "2024-01-23T12:10:46.042156Z",
     "iopub.status.busy": "2024-01-23T12:10:46.041704Z",
     "iopub.status.idle": "2024-01-23T12:10:46.054283Z",
     "shell.execute_reply": "2024-01-23T12:10:46.053129Z"
    },
    "papermill": {
     "duration": 0.045029,
     "end_time": "2024-01-23T12:10:46.056924",
     "exception": false,
     "start_time": "2024-01-23T12:10:46.011895",
     "status": "completed"
    },
    "tags": []
   },
   "outputs": [],
   "source": [
    "cols = list(df_dolphin.columns)"
   ]
  },
  {
   "cell_type": "markdown",
   "id": "800018a3",
   "metadata": {
    "papermill": {
     "duration": 0.027013,
     "end_time": "2024-01-23T12:10:46.112524",
     "exception": false,
     "start_time": "2024-01-23T12:10:46.085511",
     "status": "completed"
    },
    "tags": []
   },
   "source": [
    "# **ngram features**"
   ]
  },
  {
   "cell_type": "code",
   "execution_count": 23,
   "id": "14e6ee8b",
   "metadata": {
    "execution": {
     "iopub.execute_input": "2024-01-23T12:10:46.169165Z",
     "iopub.status.busy": "2024-01-23T12:10:46.168728Z",
     "iopub.status.idle": "2024-01-23T12:10:48.036314Z",
     "shell.execute_reply": "2024-01-23T12:10:48.035045Z"
    },
    "papermill": {
     "duration": 1.899696,
     "end_time": "2024-01-23T12:10:48.039339",
     "exception": false,
     "start_time": "2024-01-23T12:10:46.139643",
     "status": "completed"
    },
    "tags": []
   },
   "outputs": [],
   "source": [
    "df_dolphin = pd.read_pickle('/kaggle/input/packer-balance-pickle/dolphin_balance.pickle')\n",
    "df_dolphin = df_dolphin.drop(['sample_sha1','benign','unpacked_sample_sha1','unpacked_sample_id'], axis=1)\n",
    "df_dolphin = df_dolphin.drop(['benign_vt','malicious_vt'], axis=1)\n",
    "string_columns = df_dolphin.select_dtypes(include=['object']).columns\n",
    "df_dolphin = df_dolphin.drop(string_columns, axis=1)"
   ]
  },
  {
   "cell_type": "code",
   "execution_count": 24,
   "id": "d976a4e9",
   "metadata": {
    "execution": {
     "iopub.execute_input": "2024-01-23T12:10:48.096652Z",
     "iopub.status.busy": "2024-01-23T12:10:48.096194Z",
     "iopub.status.idle": "2024-01-23T12:10:48.102331Z",
     "shell.execute_reply": "2024-01-23T12:10:48.101076Z"
    },
    "papermill": {
     "duration": 0.037799,
     "end_time": "2024-01-23T12:10:48.104954",
     "exception": false,
     "start_time": "2024-01-23T12:10:48.067155",
     "status": "completed"
    },
    "tags": []
   },
   "outputs": [],
   "source": [
    "def remove_cols(df, ll):\n",
    "    print(\"removing {} features\".format(len(ll)))\n",
    "    df.drop(columns=ll, axis=1, inplace=True)\n",
    "    return df"
   ]
  },
  {
   "cell_type": "code",
   "execution_count": 25,
   "id": "08374bfb",
   "metadata": {
    "execution": {
     "iopub.execute_input": "2024-01-23T12:10:48.162581Z",
     "iopub.status.busy": "2024-01-23T12:10:48.162127Z",
     "iopub.status.idle": "2024-01-23T12:10:49.610105Z",
     "shell.execute_reply": "2024-01-23T12:10:49.608519Z"
    },
    "papermill": {
     "duration": 1.479928,
     "end_time": "2024-01-23T12:10:49.612560",
     "exception": false,
     "start_time": "2024-01-23T12:10:48.132632",
     "status": "completed"
    },
    "tags": []
   },
   "outputs": [
    {
     "name": "stdout",
     "output_type": "stream",
     "text": [
      "removing 2500 features\n",
      "removing 2 features\n",
      "removing 16900 features\n",
      "removing 66 features\n",
      "removing 19169 features\n",
      "removing 4306 features\n",
      "removing 550 features\n",
      "removing 29 features\n"
     ]
    }
   ],
   "source": [
    "# ngram = remove_cols(df, [c for c in cols if c.startswith('ngram_')])\n",
    "ngram = remove_cols(df_dolphin, [c for c in cols if c.startswith('opcode_')])\n",
    "ngram = remove_cols(df_dolphin, [c for c in cols if c.startswith('generic_')])\n",
    "ngram = remove_cols(df_dolphin, [c for c in cols if c.startswith('string_')])\n",
    "ngram = remove_cols(df_dolphin, [c for c in cols if c.startswith('rich_')])\n",
    "ngram = remove_cols(df_dolphin, [c for c in cols if c.startswith('imp_') or 'api_import_nb' == c])\n",
    "ngram = remove_cols(df_dolphin, [c for c in cols if c.endswith('.dll') or 'dll_import_nb' == c])\n",
    "ngram = remove_cols(df_dolphin, [c for c in cols if c.startswith('pesection')])\n",
    "ngram = remove_cols(df_dolphin, [c for c in cols if c.startswith('header_')])"
   ]
  },
  {
   "cell_type": "code",
   "execution_count": 26,
   "id": "3055126a",
   "metadata": {
    "execution": {
     "iopub.execute_input": "2024-01-23T12:10:49.669719Z",
     "iopub.status.busy": "2024-01-23T12:10:49.669312Z",
     "iopub.status.idle": "2024-01-23T12:10:49.700489Z",
     "shell.execute_reply": "2024-01-23T12:10:49.699052Z"
    },
    "papermill": {
     "duration": 0.063076,
     "end_time": "2024-01-23T12:10:49.703107",
     "exception": false,
     "start_time": "2024-01-23T12:10:49.640031",
     "status": "completed"
    },
    "tags": []
   },
   "outputs": [
    {
     "data": {
      "text/html": [
       "<div>\n",
       "<style scoped>\n",
       "    .dataframe tbody tr th:only-of-type {\n",
       "        vertical-align: middle;\n",
       "    }\n",
       "\n",
       "    .dataframe tbody tr th {\n",
       "        vertical-align: top;\n",
       "    }\n",
       "\n",
       "    .dataframe thead th {\n",
       "        text-align: right;\n",
       "    }\n",
       "</style>\n",
       "<table border=\"1\" class=\"dataframe\">\n",
       "  <thead>\n",
       "    <tr style=\"text-align: right;\">\n",
       "      <th></th>\n",
       "      <th>malicious</th>\n",
       "      <th>packed</th>\n",
       "      <th>similarity</th>\n",
       "      <th>unpacked_similarity</th>\n",
       "      <th>ngram_b'\\x00C\\x00A\\x00B'</th>\n",
       "      <th>ngram_b'C\\x00A\\x00B\\x00'</th>\n",
       "      <th>ngram_b'\\x00\\x04\\x00\\x00 \\x00'</th>\n",
       "      <th>ngram_b'\\x00\\x00\\x04\\x00\\x00 '</th>\n",
       "      <th>ngram_b'porati'</th>\n",
       "      <th>ngram_b'oratio'</th>\n",
       "      <th>...</th>\n",
       "      <th>ngram_b'\\x01\\x00\\x00\\x83\\x7f\\x0c'</th>\n",
       "      <th>ngram_b'\\xc2?Ac\\x1a\\r'</th>\n",
       "      <th>ngram_b'\\xfc\\x03\\x80\\x00\\x7f\\xff'</th>\n",
       "      <th>ngram_b'\\xff\\x95\\xb4\\xc7?\\xc5'</th>\n",
       "      <th>ngram_b't\\x00a\\x00t\\x00'</th>\n",
       "      <th>ngram_b'\\x00t\\x00a\\x00t'</th>\n",
       "      <th>ngram_b'\\x00\\x00\\x00\\x8dE\\x08'</th>\n",
       "      <th>ngram_b's\\x00y\\x00s\\x00'</th>\n",
       "      <th>ngram_b'&lt;$\\x7f\\x02t\\x06'</th>\n",
       "      <th>ngram_b'\\x08\\x8b\\x14\\x16\\x8b\\x0c'</th>\n",
       "    </tr>\n",
       "  </thead>\n",
       "  <tbody>\n",
       "    <tr>\n",
       "      <th>0</th>\n",
       "      <td>True</td>\n",
       "      <td>True</td>\n",
       "      <td>0</td>\n",
       "      <td>0</td>\n",
       "      <td>False</td>\n",
       "      <td>False</td>\n",
       "      <td>False</td>\n",
       "      <td>False</td>\n",
       "      <td>False</td>\n",
       "      <td>False</td>\n",
       "      <td>...</td>\n",
       "      <td>False</td>\n",
       "      <td>False</td>\n",
       "      <td>False</td>\n",
       "      <td>False</td>\n",
       "      <td>False</td>\n",
       "      <td>False</td>\n",
       "      <td>False</td>\n",
       "      <td>False</td>\n",
       "      <td>False</td>\n",
       "      <td>False</td>\n",
       "    </tr>\n",
       "    <tr>\n",
       "      <th>2</th>\n",
       "      <td>False</td>\n",
       "      <td>True</td>\n",
       "      <td>0</td>\n",
       "      <td>0</td>\n",
       "      <td>False</td>\n",
       "      <td>False</td>\n",
       "      <td>False</td>\n",
       "      <td>False</td>\n",
       "      <td>False</td>\n",
       "      <td>False</td>\n",
       "      <td>...</td>\n",
       "      <td>False</td>\n",
       "      <td>False</td>\n",
       "      <td>False</td>\n",
       "      <td>False</td>\n",
       "      <td>False</td>\n",
       "      <td>False</td>\n",
       "      <td>False</td>\n",
       "      <td>False</td>\n",
       "      <td>False</td>\n",
       "      <td>False</td>\n",
       "    </tr>\n",
       "    <tr>\n",
       "      <th>9</th>\n",
       "      <td>False</td>\n",
       "      <td>True</td>\n",
       "      <td>0</td>\n",
       "      <td>0</td>\n",
       "      <td>False</td>\n",
       "      <td>False</td>\n",
       "      <td>False</td>\n",
       "      <td>False</td>\n",
       "      <td>False</td>\n",
       "      <td>False</td>\n",
       "      <td>...</td>\n",
       "      <td>False</td>\n",
       "      <td>False</td>\n",
       "      <td>False</td>\n",
       "      <td>False</td>\n",
       "      <td>False</td>\n",
       "      <td>False</td>\n",
       "      <td>False</td>\n",
       "      <td>False</td>\n",
       "      <td>False</td>\n",
       "      <td>False</td>\n",
       "    </tr>\n",
       "    <tr>\n",
       "      <th>25</th>\n",
       "      <td>True</td>\n",
       "      <td>True</td>\n",
       "      <td>0</td>\n",
       "      <td>0</td>\n",
       "      <td>False</td>\n",
       "      <td>False</td>\n",
       "      <td>False</td>\n",
       "      <td>False</td>\n",
       "      <td>False</td>\n",
       "      <td>False</td>\n",
       "      <td>...</td>\n",
       "      <td>False</td>\n",
       "      <td>False</td>\n",
       "      <td>False</td>\n",
       "      <td>False</td>\n",
       "      <td>False</td>\n",
       "      <td>False</td>\n",
       "      <td>False</td>\n",
       "      <td>False</td>\n",
       "      <td>False</td>\n",
       "      <td>False</td>\n",
       "    </tr>\n",
       "    <tr>\n",
       "      <th>27</th>\n",
       "      <td>True</td>\n",
       "      <td>True</td>\n",
       "      <td>0</td>\n",
       "      <td>0</td>\n",
       "      <td>False</td>\n",
       "      <td>False</td>\n",
       "      <td>False</td>\n",
       "      <td>False</td>\n",
       "      <td>False</td>\n",
       "      <td>False</td>\n",
       "      <td>...</td>\n",
       "      <td>False</td>\n",
       "      <td>False</td>\n",
       "      <td>False</td>\n",
       "      <td>False</td>\n",
       "      <td>False</td>\n",
       "      <td>False</td>\n",
       "      <td>False</td>\n",
       "      <td>False</td>\n",
       "      <td>False</td>\n",
       "      <td>False</td>\n",
       "    </tr>\n",
       "  </tbody>\n",
       "</table>\n",
       "<p>5 rows × 13004 columns</p>\n",
       "</div>"
      ],
      "text/plain": [
       "    malicious  packed  similarity  unpacked_similarity  \\\n",
       "0        True    True           0                    0   \n",
       "2       False    True           0                    0   \n",
       "9       False    True           0                    0   \n",
       "25       True    True           0                    0   \n",
       "27       True    True           0                    0   \n",
       "\n",
       "    ngram_b'\\x00C\\x00A\\x00B'  ngram_b'C\\x00A\\x00B\\x00'  \\\n",
       "0                      False                     False   \n",
       "2                      False                     False   \n",
       "9                      False                     False   \n",
       "25                     False                     False   \n",
       "27                     False                     False   \n",
       "\n",
       "    ngram_b'\\x00\\x04\\x00\\x00 \\x00'  ngram_b'\\x00\\x00\\x04\\x00\\x00 '  \\\n",
       "0                            False                           False   \n",
       "2                            False                           False   \n",
       "9                            False                           False   \n",
       "25                           False                           False   \n",
       "27                           False                           False   \n",
       "\n",
       "    ngram_b'porati'  ngram_b'oratio'  ...  ngram_b'\\x01\\x00\\x00\\x83\\x7f\\x0c'  \\\n",
       "0             False            False  ...                              False   \n",
       "2             False            False  ...                              False   \n",
       "9             False            False  ...                              False   \n",
       "25            False            False  ...                              False   \n",
       "27            False            False  ...                              False   \n",
       "\n",
       "    ngram_b'\\xc2?Ac\\x1a\\r'  ngram_b'\\xfc\\x03\\x80\\x00\\x7f\\xff'  \\\n",
       "0                    False                              False   \n",
       "2                    False                              False   \n",
       "9                    False                              False   \n",
       "25                   False                              False   \n",
       "27                   False                              False   \n",
       "\n",
       "    ngram_b'\\xff\\x95\\xb4\\xc7?\\xc5'  ngram_b't\\x00a\\x00t\\x00'  \\\n",
       "0                            False                     False   \n",
       "2                            False                     False   \n",
       "9                            False                     False   \n",
       "25                           False                     False   \n",
       "27                           False                     False   \n",
       "\n",
       "    ngram_b'\\x00t\\x00a\\x00t'  ngram_b'\\x00\\x00\\x00\\x8dE\\x08'  \\\n",
       "0                      False                           False   \n",
       "2                      False                           False   \n",
       "9                      False                           False   \n",
       "25                     False                           False   \n",
       "27                     False                           False   \n",
       "\n",
       "    ngram_b's\\x00y\\x00s\\x00'  ngram_b'<$\\x7f\\x02t\\x06'  \\\n",
       "0                      False                     False   \n",
       "2                      False                     False   \n",
       "9                      False                     False   \n",
       "25                     False                     False   \n",
       "27                     False                     False   \n",
       "\n",
       "    ngram_b'\\x08\\x8b\\x14\\x16\\x8b\\x0c'  \n",
       "0                               False  \n",
       "2                               False  \n",
       "9                               False  \n",
       "25                              False  \n",
       "27                              False  \n",
       "\n",
       "[5 rows x 13004 columns]"
      ]
     },
     "execution_count": 26,
     "metadata": {},
     "output_type": "execute_result"
    }
   ],
   "source": [
    "ngram.head()"
   ]
  },
  {
   "cell_type": "code",
   "execution_count": 27,
   "id": "df04bbc8",
   "metadata": {
    "execution": {
     "iopub.execute_input": "2024-01-23T12:10:49.760635Z",
     "iopub.status.busy": "2024-01-23T12:10:49.760207Z",
     "iopub.status.idle": "2024-01-23T12:10:50.009638Z",
     "shell.execute_reply": "2024-01-23T12:10:50.008602Z"
    },
    "papermill": {
     "duration": 0.281533,
     "end_time": "2024-01-23T12:10:50.012488",
     "exception": false,
     "start_time": "2024-01-23T12:10:49.730955",
     "status": "completed"
    },
    "tags": []
   },
   "outputs": [],
   "source": [
    "df_7000_ngram = ngram.sample(n=7000, random_state=102)\n",
    "df_3000_ngram = ngram.drop(df_7000.index)\n",
    "data_ngram = df_7000_ngram.sample(n=3500, random_state=102)"
   ]
  },
  {
   "cell_type": "code",
   "execution_count": 28,
   "id": "9b3148af",
   "metadata": {
    "execution": {
     "iopub.execute_input": "2024-01-23T12:10:50.070544Z",
     "iopub.status.busy": "2024-01-23T12:10:50.069486Z",
     "iopub.status.idle": "2024-01-23T12:10:50.426576Z",
     "shell.execute_reply": "2024-01-23T12:10:50.425086Z"
    },
    "papermill": {
     "duration": 0.388747,
     "end_time": "2024-01-23T12:10:50.429041",
     "exception": false,
     "start_time": "2024-01-23T12:10:50.040294",
     "status": "completed"
    },
    "tags": []
   },
   "outputs": [
    {
     "name": "stdout",
     "output_type": "stream",
     "text": [
      "Packed Malware: 2322 samples\n",
      "Packed Benign: 1178 samples\n",
      "Total TRAIN set: 3500 samples\n",
      "Packed Malware: 1178 samples\n",
      "Packed Benign: 1178 samples\n",
      "Total TRAIN set: 2356 samples\n",
      "Packed Malware: 1022 samples\n",
      "Packed Benign: 1022 samples\n",
      "Total TEST set: 2044 samples\n"
     ]
    }
   ],
   "source": [
    "#Kiểm tra số lượng mẫu\n",
    "PM = data_ngram[(data_ngram['malicious'] == True) & (data_ngram['packed'] == True)].shape[0]\n",
    "PB = data_ngram[(data_ngram['malicious'] == False) & (data_ngram['packed'] == True)].shape[0]\n",
    "print('Packed Malware: %i samples' % PM)\n",
    "print('Packed Benign: %i samples' % PB)\n",
    "print('Total TRAIN set: %i samples'% (PM+PB))\n",
    "\n",
    "#Chia tỉ lệ 50 - 50\n",
    "data_PM_ngram = data_ngram[(data_ngram['malicious'] == True) & (data_ngram['packed'] == True)].sample(n=(PM-PB), random_state=102)\n",
    "data_ngram = data_ngram.drop(data_PM_ngram.index)\n",
    "\n",
    "#Số lượng tập train\n",
    "PM = data_ngram[(data_ngram['malicious'] == True) & (data_ngram['packed'] == True)].shape[0]\n",
    "PB = data_ngram[(data_ngram['malicious'] == False) & (data_ngram['packed'] == True)].shape[0]\n",
    "print('Packed Malware: %i samples' % PM)\n",
    "print('Packed Benign: %i samples' % PB)\n",
    "print('Total TRAIN set: %i samples'% (PM+PB))\n",
    "\n",
    "#Xử lý tập train\n",
    "y = data_ngram['malicious'].values\n",
    "data_ngram = data_ngram.drop(['malicious','packed'], axis=1)\n",
    "\n",
    "PM = df_3000_ngram[(df_3000_ngram['malicious'] == True) & (df_3000_ngram['packed'] == True)].shape[0]\n",
    "PB = df_3000_ngram[(df_3000_ngram['malicious'] == False) & (df_3000_ngram['packed'] == True)].shape[0]\n",
    "\n",
    "df_3000_PM_ngram = df_3000_ngram[(df_3000_ngram['malicious'] == True) & (df_3000_ngram['packed'] == True)].sample(n=(PM-PB), random_state=102)\n",
    "df_3000_ngram = df_3000_ngram.drop(df_3000_PM.index)\n",
    "\n",
    "PM = df_3000_ngram[(df_3000_ngram['malicious'] == True) & (df_3000_ngram['packed'] == True)].shape[0]\n",
    "PB = df_3000_ngram[(df_3000_ngram['malicious'] == False) & (df_3000_ngram['packed'] == True)].shape[0]\n",
    "\n",
    "print('Packed Malware: %i samples' % PM)\n",
    "print('Packed Benign: %i samples' % PB)\n",
    "print('Total TEST set: %i samples'% (PM+PB))"
   ]
  },
  {
   "cell_type": "code",
   "execution_count": 29,
   "id": "f36fbe1b",
   "metadata": {
    "execution": {
     "iopub.execute_input": "2024-01-23T12:10:50.489706Z",
     "iopub.status.busy": "2024-01-23T12:10:50.489317Z",
     "iopub.status.idle": "2024-01-23T12:10:50.558090Z",
     "shell.execute_reply": "2024-01-23T12:10:50.556764Z"
    },
    "papermill": {
     "duration": 0.10284,
     "end_time": "2024-01-23T12:10:50.561148",
     "exception": false,
     "start_time": "2024-01-23T12:10:50.458308",
     "status": "completed"
    },
    "tags": []
   },
   "outputs": [],
   "source": [
    "# model = SelectFromModel(fsel, prefit=True)\n",
    "\n",
    "X_train_ngram = data_ngram\n",
    "X_test_ngram = df_3000_ngram.drop(['malicious','packed'], axis=1)\n",
    "\n",
    "data_ngram = data_ngram.loc[:, (data_ngram != 0).any(axis=0)]\n",
    "x_train_ngram = data_ngram\n",
    "X_test_ngram = df_3000_ngram.drop(['malicious','packed'], axis=1)\n",
    "y_train_ngram = y\n",
    "y_test_ngram = df_3000_ngram['malicious'].values"
   ]
  },
  {
   "cell_type": "code",
   "execution_count": 30,
   "id": "3fda3272",
   "metadata": {
    "execution": {
     "iopub.execute_input": "2024-01-23T12:10:50.624420Z",
     "iopub.status.busy": "2024-01-23T12:10:50.623970Z",
     "iopub.status.idle": "2024-01-23T12:10:56.154333Z",
     "shell.execute_reply": "2024-01-23T12:10:56.153216Z"
    },
    "papermill": {
     "duration": 5.566034,
     "end_time": "2024-01-23T12:10:56.157450",
     "exception": false,
     "start_time": "2024-01-23T12:10:50.591416",
     "status": "completed"
    },
    "tags": []
   },
   "outputs": [
    {
     "name": "stdout",
     "output_type": "stream",
     "text": [
      "The accuracy of the Random Forests model is :\t 0.5\n"
     ]
    }
   ],
   "source": [
    "# Random Forest\n",
    "from sklearn.ensemble import RandomForestClassifier\n",
    "from sklearn import metrics\n",
    "\n",
    "random_forest = RandomForestClassifier(n_estimators=100, random_state=17)\n",
    "random_forest.fit(X_train_ngram, y_train_ngram)\n",
    "random_forest_preds = random_forest.predict(X_test_ngram)\n",
    "print('The accuracy of the Random Forests model is :\\t',metrics.accuracy_score(random_forest_preds,y_test_ngram))"
   ]
  },
  {
   "cell_type": "markdown",
   "id": "60078af3",
   "metadata": {
    "papermill": {
     "duration": 0.027594,
     "end_time": "2024-01-23T12:10:56.213579",
     "exception": false,
     "start_time": "2024-01-23T12:10:56.185985",
     "status": "completed"
    },
    "tags": []
   },
   "source": [
    "# **opcode features**"
   ]
  },
  {
   "cell_type": "code",
   "execution_count": 31,
   "id": "441a3615",
   "metadata": {
    "execution": {
     "iopub.execute_input": "2024-01-23T12:10:56.273569Z",
     "iopub.status.busy": "2024-01-23T12:10:56.272664Z",
     "iopub.status.idle": "2024-01-23T12:10:58.047554Z",
     "shell.execute_reply": "2024-01-23T12:10:58.046326Z"
    },
    "papermill": {
     "duration": 1.808923,
     "end_time": "2024-01-23T12:10:58.050851",
     "exception": false,
     "start_time": "2024-01-23T12:10:56.241928",
     "status": "completed"
    },
    "tags": []
   },
   "outputs": [],
   "source": [
    "df_dolphin = pd.read_pickle('/kaggle/input/packer-balance-pickle/dolphin_balance.pickle')\n",
    "df_dolphin = df_dolphin.drop(['sample_sha1','benign','unpacked_sample_sha1','unpacked_sample_id'], axis=1)\n",
    "df_dolphin = df_dolphin.drop(['benign_vt','malicious_vt'], axis=1)\n",
    "string_columns = df_dolphin.select_dtypes(include=['object']).columns\n",
    "df_dolphin = df_dolphin.drop(string_columns, axis=1)"
   ]
  },
  {
   "cell_type": "code",
   "execution_count": 32,
   "id": "f07bdc4e",
   "metadata": {
    "execution": {
     "iopub.execute_input": "2024-01-23T12:10:58.111249Z",
     "iopub.status.busy": "2024-01-23T12:10:58.110570Z",
     "iopub.status.idle": "2024-01-23T12:10:59.621206Z",
     "shell.execute_reply": "2024-01-23T12:10:59.619834Z"
    },
    "papermill": {
     "duration": 1.544677,
     "end_time": "2024-01-23T12:10:59.624063",
     "exception": false,
     "start_time": "2024-01-23T12:10:58.079386",
     "status": "completed"
    },
    "tags": []
   },
   "outputs": [
    {
     "name": "stdout",
     "output_type": "stream",
     "text": [
      "removing 13000 features\n",
      "removing 2 features\n",
      "removing 16900 features\n",
      "removing 66 features\n",
      "removing 19169 features\n",
      "removing 4306 features\n",
      "removing 550 features\n",
      "removing 29 features\n"
     ]
    }
   ],
   "source": [
    "opcode = remove_cols(df_dolphin, [c for c in cols if c.startswith('ngram_')])\n",
    "# opcode = remove_cols(df_dolphin, [c for c in cols if c.startswith('opcode_')])\n",
    "opcode = remove_cols(df_dolphin, [c for c in cols if c.startswith('generic_')])\n",
    "opcode = remove_cols(df_dolphin, [c for c in cols if c.startswith('string_')])\n",
    "opcode = remove_cols(df_dolphin, [c for c in cols if c.startswith('rich_')])\n",
    "opcode = remove_cols(df_dolphin, [c for c in cols if c.startswith('imp_') or 'api_import_nb' == c])\n",
    "opcode = remove_cols(df_dolphin, [c for c in cols if c.endswith('.dll') or 'dll_import_nb' == c])\n",
    "opcode = remove_cols(df_dolphin, [c for c in cols if c.startswith('pesection')])\n",
    "opcode = remove_cols(df_dolphin, [c for c in cols if c.startswith('header_')])"
   ]
  },
  {
   "cell_type": "code",
   "execution_count": 33,
   "id": "9ba97f33",
   "metadata": {
    "execution": {
     "iopub.execute_input": "2024-01-23T12:10:59.684447Z",
     "iopub.status.busy": "2024-01-23T12:10:59.683449Z",
     "iopub.status.idle": "2024-01-23T12:10:59.714680Z",
     "shell.execute_reply": "2024-01-23T12:10:59.713513Z"
    },
    "papermill": {
     "duration": 0.064451,
     "end_time": "2024-01-23T12:10:59.717228",
     "exception": false,
     "start_time": "2024-01-23T12:10:59.652777",
     "status": "completed"
    },
    "tags": []
   },
   "outputs": [
    {
     "data": {
      "text/html": [
       "<div>\n",
       "<style scoped>\n",
       "    .dataframe tbody tr th:only-of-type {\n",
       "        vertical-align: middle;\n",
       "    }\n",
       "\n",
       "    .dataframe tbody tr th {\n",
       "        vertical-align: top;\n",
       "    }\n",
       "\n",
       "    .dataframe thead th {\n",
       "        text-align: right;\n",
       "    }\n",
       "</style>\n",
       "<table border=\"1\" class=\"dataframe\">\n",
       "  <thead>\n",
       "    <tr style=\"text-align: right;\">\n",
       "      <th></th>\n",
       "      <th>malicious</th>\n",
       "      <th>packed</th>\n",
       "      <th>similarity</th>\n",
       "      <th>unpacked_similarity</th>\n",
       "      <th>opcode_aaa</th>\n",
       "      <th>opcode_aad</th>\n",
       "      <th>opcode_aam</th>\n",
       "      <th>opcode_aas</th>\n",
       "      <th>opcode_adc</th>\n",
       "      <th>opcode_adc add</th>\n",
       "      <th>...</th>\n",
       "      <th>opcode_xor sub mov</th>\n",
       "      <th>opcode_xor sub mov add</th>\n",
       "      <th>opcode_xor test</th>\n",
       "      <th>opcode_xor test je</th>\n",
       "      <th>opcode_xor xor</th>\n",
       "      <th>opcode_xor xor mov</th>\n",
       "      <th>opcode_xor xor pop</th>\n",
       "      <th>opcode_xor xor pop mov</th>\n",
       "      <th>opcode_xor xor xor</th>\n",
       "      <th>opcode_xor xor xor pop</th>\n",
       "    </tr>\n",
       "  </thead>\n",
       "  <tbody>\n",
       "    <tr>\n",
       "      <th>0</th>\n",
       "      <td>True</td>\n",
       "      <td>True</td>\n",
       "      <td>0</td>\n",
       "      <td>0</td>\n",
       "      <td>0.0</td>\n",
       "      <td>0.0</td>\n",
       "      <td>0.0</td>\n",
       "      <td>0.0</td>\n",
       "      <td>0.0</td>\n",
       "      <td>0.0</td>\n",
       "      <td>...</td>\n",
       "      <td>0.0</td>\n",
       "      <td>0.0</td>\n",
       "      <td>0.000479</td>\n",
       "      <td>0.000172</td>\n",
       "      <td>0.000597</td>\n",
       "      <td>0.000481</td>\n",
       "      <td>0.0</td>\n",
       "      <td>0.0</td>\n",
       "      <td>0.000641</td>\n",
       "      <td>0.0</td>\n",
       "    </tr>\n",
       "    <tr>\n",
       "      <th>2</th>\n",
       "      <td>False</td>\n",
       "      <td>True</td>\n",
       "      <td>0</td>\n",
       "      <td>0</td>\n",
       "      <td>0.0</td>\n",
       "      <td>0.0</td>\n",
       "      <td>0.0</td>\n",
       "      <td>0.0</td>\n",
       "      <td>0.0</td>\n",
       "      <td>0.0</td>\n",
       "      <td>...</td>\n",
       "      <td>0.0</td>\n",
       "      <td>0.0</td>\n",
       "      <td>0.000479</td>\n",
       "      <td>0.000172</td>\n",
       "      <td>0.000597</td>\n",
       "      <td>0.000481</td>\n",
       "      <td>0.0</td>\n",
       "      <td>0.0</td>\n",
       "      <td>0.000641</td>\n",
       "      <td>0.0</td>\n",
       "    </tr>\n",
       "    <tr>\n",
       "      <th>9</th>\n",
       "      <td>False</td>\n",
       "      <td>True</td>\n",
       "      <td>0</td>\n",
       "      <td>0</td>\n",
       "      <td>0.0</td>\n",
       "      <td>0.0</td>\n",
       "      <td>0.0</td>\n",
       "      <td>0.0</td>\n",
       "      <td>0.0</td>\n",
       "      <td>0.0</td>\n",
       "      <td>...</td>\n",
       "      <td>0.0</td>\n",
       "      <td>0.0</td>\n",
       "      <td>0.000479</td>\n",
       "      <td>0.000172</td>\n",
       "      <td>0.000597</td>\n",
       "      <td>0.000481</td>\n",
       "      <td>0.0</td>\n",
       "      <td>0.0</td>\n",
       "      <td>0.000641</td>\n",
       "      <td>0.0</td>\n",
       "    </tr>\n",
       "    <tr>\n",
       "      <th>25</th>\n",
       "      <td>True</td>\n",
       "      <td>True</td>\n",
       "      <td>0</td>\n",
       "      <td>0</td>\n",
       "      <td>0.0</td>\n",
       "      <td>0.0</td>\n",
       "      <td>0.0</td>\n",
       "      <td>0.0</td>\n",
       "      <td>0.0</td>\n",
       "      <td>0.0</td>\n",
       "      <td>...</td>\n",
       "      <td>0.0</td>\n",
       "      <td>0.0</td>\n",
       "      <td>0.000479</td>\n",
       "      <td>0.000172</td>\n",
       "      <td>0.000597</td>\n",
       "      <td>0.000481</td>\n",
       "      <td>0.0</td>\n",
       "      <td>0.0</td>\n",
       "      <td>0.000641</td>\n",
       "      <td>0.0</td>\n",
       "    </tr>\n",
       "    <tr>\n",
       "      <th>27</th>\n",
       "      <td>True</td>\n",
       "      <td>True</td>\n",
       "      <td>0</td>\n",
       "      <td>0</td>\n",
       "      <td>0.0</td>\n",
       "      <td>0.0</td>\n",
       "      <td>0.0</td>\n",
       "      <td>0.0</td>\n",
       "      <td>0.0</td>\n",
       "      <td>0.0</td>\n",
       "      <td>...</td>\n",
       "      <td>0.0</td>\n",
       "      <td>0.0</td>\n",
       "      <td>0.000479</td>\n",
       "      <td>0.000172</td>\n",
       "      <td>0.000597</td>\n",
       "      <td>0.000481</td>\n",
       "      <td>0.0</td>\n",
       "      <td>0.0</td>\n",
       "      <td>0.000641</td>\n",
       "      <td>0.0</td>\n",
       "    </tr>\n",
       "  </tbody>\n",
       "</table>\n",
       "<p>5 rows × 2504 columns</p>\n",
       "</div>"
      ],
      "text/plain": [
       "    malicious  packed  similarity  unpacked_similarity  opcode_aaa  \\\n",
       "0        True    True           0                    0         0.0   \n",
       "2       False    True           0                    0         0.0   \n",
       "9       False    True           0                    0         0.0   \n",
       "25       True    True           0                    0         0.0   \n",
       "27       True    True           0                    0         0.0   \n",
       "\n",
       "    opcode_aad  opcode_aam  opcode_aas  opcode_adc  opcode_adc add  ...  \\\n",
       "0          0.0         0.0         0.0         0.0             0.0  ...   \n",
       "2          0.0         0.0         0.0         0.0             0.0  ...   \n",
       "9          0.0         0.0         0.0         0.0             0.0  ...   \n",
       "25         0.0         0.0         0.0         0.0             0.0  ...   \n",
       "27         0.0         0.0         0.0         0.0             0.0  ...   \n",
       "\n",
       "    opcode_xor sub mov  opcode_xor sub mov add  opcode_xor test  \\\n",
       "0                  0.0                     0.0         0.000479   \n",
       "2                  0.0                     0.0         0.000479   \n",
       "9                  0.0                     0.0         0.000479   \n",
       "25                 0.0                     0.0         0.000479   \n",
       "27                 0.0                     0.0         0.000479   \n",
       "\n",
       "    opcode_xor test je  opcode_xor xor  opcode_xor xor mov  \\\n",
       "0             0.000172        0.000597            0.000481   \n",
       "2             0.000172        0.000597            0.000481   \n",
       "9             0.000172        0.000597            0.000481   \n",
       "25            0.000172        0.000597            0.000481   \n",
       "27            0.000172        0.000597            0.000481   \n",
       "\n",
       "    opcode_xor xor pop  opcode_xor xor pop mov  opcode_xor xor xor  \\\n",
       "0                  0.0                     0.0            0.000641   \n",
       "2                  0.0                     0.0            0.000641   \n",
       "9                  0.0                     0.0            0.000641   \n",
       "25                 0.0                     0.0            0.000641   \n",
       "27                 0.0                     0.0            0.000641   \n",
       "\n",
       "    opcode_xor xor xor pop  \n",
       "0                      0.0  \n",
       "2                      0.0  \n",
       "9                      0.0  \n",
       "25                     0.0  \n",
       "27                     0.0  \n",
       "\n",
       "[5 rows x 2504 columns]"
      ]
     },
     "execution_count": 33,
     "metadata": {},
     "output_type": "execute_result"
    }
   ],
   "source": [
    "opcode.head()"
   ]
  },
  {
   "cell_type": "code",
   "execution_count": 34,
   "id": "14dab0b9",
   "metadata": {
    "execution": {
     "iopub.execute_input": "2024-01-23T12:10:59.777157Z",
     "iopub.status.busy": "2024-01-23T12:10:59.776680Z",
     "iopub.status.idle": "2024-01-23T12:10:59.935354Z",
     "shell.execute_reply": "2024-01-23T12:10:59.934359Z"
    },
    "papermill": {
     "duration": 0.191884,
     "end_time": "2024-01-23T12:10:59.938067",
     "exception": false,
     "start_time": "2024-01-23T12:10:59.746183",
     "status": "completed"
    },
    "tags": []
   },
   "outputs": [],
   "source": [
    "df_7000_opcode = opcode.sample(n=7000, random_state=102)\n",
    "df_3000_opcode = opcode.drop(df_7000.index)\n",
    "data_opcode = df_7000_opcode.sample(n=3500, random_state=102)"
   ]
  },
  {
   "cell_type": "code",
   "execution_count": 35,
   "id": "2b145232",
   "metadata": {
    "execution": {
     "iopub.execute_input": "2024-01-23T12:10:59.998655Z",
     "iopub.status.busy": "2024-01-23T12:10:59.998222Z",
     "iopub.status.idle": "2024-01-23T12:11:00.227452Z",
     "shell.execute_reply": "2024-01-23T12:11:00.225943Z"
    },
    "papermill": {
     "duration": 0.263137,
     "end_time": "2024-01-23T12:11:00.230567",
     "exception": false,
     "start_time": "2024-01-23T12:10:59.967430",
     "status": "completed"
    },
    "tags": []
   },
   "outputs": [
    {
     "name": "stdout",
     "output_type": "stream",
     "text": [
      "Packed Malware: 2322 samples\n",
      "Packed Benign: 1178 samples\n",
      "Total TRAIN set: 3500 samples\n",
      "Packed Malware: 1178 samples\n",
      "Packed Benign: 1178 samples\n",
      "Total TRAIN set: 2356 samples\n",
      "Packed Malware: 1022 samples\n",
      "Packed Benign: 1022 samples\n",
      "Total TEST set: 2044 samples\n"
     ]
    }
   ],
   "source": [
    "#Kiểm tra số lượng mẫu\n",
    "PM = data_opcode[(data_opcode['malicious'] == True) & (data_opcode['packed'] == True)].shape[0]\n",
    "PB = data_opcode[(data_opcode['malicious'] == False) & (data_opcode['packed'] == True)].shape[0]\n",
    "print('Packed Malware: %i samples' % PM)\n",
    "print('Packed Benign: %i samples' % PB)\n",
    "print('Total TRAIN set: %i samples'% (PM+PB))\n",
    "\n",
    "#Chia tỉ lệ 50 - 50\n",
    "data_PM_opcode = data_opcode[(data_opcode['malicious'] == True) & (data_opcode['packed'] == True)].sample(n=(PM-PB), random_state=102)\n",
    "data_opcode = data_opcode.drop(data_PM_opcode.index)\n",
    "      \n",
    "#Số lượng tập train\n",
    "PM = data_opcode[(data_opcode['malicious'] == True) & (data_opcode['packed'] == True)].shape[0]\n",
    "PB = data_opcode[(data_opcode['malicious'] == False) & (data_opcode['packed'] == True)].shape[0]\n",
    "print('Packed Malware: %i samples' % PM)\n",
    "print('Packed Benign: %i samples' % PB)\n",
    "print('Total TRAIN set: %i samples'% (PM+PB))\n",
    "\n",
    "#Xử lý tập train\n",
    "y = data_opcode['malicious'].values\n",
    "data_opcode = data_opcode.drop(['malicious','packed'], axis=1)\n",
    "\n",
    "PM = df_3000_opcode[(df_3000_opcode['malicious'] == True) & (df_3000_opcode['packed'] == True)].shape[0]\n",
    "PB = df_3000_opcode[(df_3000_opcode['malicious'] == False) & (df_3000_opcode['packed'] == True)].shape[0]\n",
    "\n",
    "df_3000_PM_opcode = df_3000_opcode[(df_3000_opcode['malicious'] == True) & (df_3000_opcode['packed'] == True)].sample(n=(PM-PB), random_state=102)\n",
    "df_3000_opcode = df_3000_opcode.drop(df_3000_PM_opcode.index)\n",
    "\n",
    "PM = df_3000_opcode[(df_3000_opcode['malicious'] == True) & (df_3000_opcode['packed'] == True)].shape[0]\n",
    "PB = df_3000_opcode[(df_3000_opcode['malicious'] == False) & (df_3000_opcode['packed'] == True)].shape[0]\n",
    "\n",
    "print('Packed Malware: %i samples' % PM)\n",
    "print('Packed Benign: %i samples' % PB)\n",
    "print('Total TEST set: %i samples'% (PM+PB))"
   ]
  },
  {
   "cell_type": "code",
   "execution_count": 36,
   "id": "3d378a97",
   "metadata": {
    "execution": {
     "iopub.execute_input": "2024-01-23T12:11:00.294248Z",
     "iopub.status.busy": "2024-01-23T12:11:00.293848Z",
     "iopub.status.idle": "2024-01-23T12:11:00.331906Z",
     "shell.execute_reply": "2024-01-23T12:11:00.330953Z"
    },
    "papermill": {
     "duration": 0.073197,
     "end_time": "2024-01-23T12:11:00.334633",
     "exception": false,
     "start_time": "2024-01-23T12:11:00.261436",
     "status": "completed"
    },
    "tags": []
   },
   "outputs": [],
   "source": [
    "# model = SelectFromModel(fsel, prefit=True)\n",
    "\n",
    "X_train_opcode = data_opcode\n",
    "X_test_opcode = df_3000_opcode.drop(['malicious','packed'], axis=1)\n",
    "\n",
    "# data_opcode = data_opcode.loc[:, (data_opcode != 0).any(axis=0)]\n",
    "x_train_opcode = data_opcode\n",
    "X_test_opcode = df_3000_opcode.drop(['malicious','packed'], axis=1)\n",
    "y_train_opcode = y\n",
    "y_test_opcode = df_3000_opcode['malicious'].values"
   ]
  },
  {
   "cell_type": "code",
   "execution_count": 37,
   "id": "b7d9c6e2",
   "metadata": {
    "execution": {
     "iopub.execute_input": "2024-01-23T12:11:00.396047Z",
     "iopub.status.busy": "2024-01-23T12:11:00.395368Z",
     "iopub.status.idle": "2024-01-23T12:11:01.784360Z",
     "shell.execute_reply": "2024-01-23T12:11:01.782839Z"
    },
    "papermill": {
     "duration": 1.422556,
     "end_time": "2024-01-23T12:11:01.787187",
     "exception": false,
     "start_time": "2024-01-23T12:11:00.364631",
     "status": "completed"
    },
    "tags": []
   },
   "outputs": [
    {
     "name": "stdout",
     "output_type": "stream",
     "text": [
      "The accuracy of the Random Forests model is :\t 0.5\n"
     ]
    }
   ],
   "source": [
    "# Random Forest\n",
    "from sklearn.ensemble import RandomForestClassifier\n",
    "from sklearn import metrics\n",
    "\n",
    "random_forest = RandomForestClassifier(n_estimators=100, random_state=17)\n",
    "random_forest.fit(x_train_opcode, y_train_opcode)\n",
    "random_forest_preds = random_forest.predict(X_test_opcode)\n",
    "print('The accuracy of the Random Forests model is :\\t',metrics.accuracy_score(random_forest_preds,y_test_opcode))"
   ]
  },
  {
   "cell_type": "markdown",
   "id": "4a8c048c",
   "metadata": {
    "papermill": {
     "duration": 0.029457,
     "end_time": "2024-01-23T12:11:01.846556",
     "exception": false,
     "start_time": "2024-01-23T12:11:01.817099",
     "status": "completed"
    },
    "tags": []
   },
   "source": [
    "# **string features**"
   ]
  },
  {
   "cell_type": "code",
   "execution_count": 38,
   "id": "d7b335ad",
   "metadata": {
    "execution": {
     "iopub.execute_input": "2024-01-23T12:11:01.910243Z",
     "iopub.status.busy": "2024-01-23T12:11:01.909841Z",
     "iopub.status.idle": "2024-01-23T12:11:03.717877Z",
     "shell.execute_reply": "2024-01-23T12:11:03.716855Z"
    },
    "papermill": {
     "duration": 1.844325,
     "end_time": "2024-01-23T12:11:03.720666",
     "exception": false,
     "start_time": "2024-01-23T12:11:01.876341",
     "status": "completed"
    },
    "tags": []
   },
   "outputs": [],
   "source": [
    "df_dolphin = pd.read_pickle('/kaggle/input/packer-balance-pickle/dolphin_balance.pickle')\n",
    "df_dolphin = df_dolphin.drop(['sample_sha1','benign','unpacked_sample_sha1','unpacked_sample_id'], axis=1)\n",
    "df_dolphin = df_dolphin.drop(['benign_vt','malicious_vt'], axis=1)\n",
    "string_columns = df_dolphin.select_dtypes(include=['object']).columns\n",
    "df_dolphin = df_dolphin.drop(string_columns, axis=1)"
   ]
  },
  {
   "cell_type": "code",
   "execution_count": 39,
   "id": "287459bb",
   "metadata": {
    "execution": {
     "iopub.execute_input": "2024-01-23T12:11:03.784733Z",
     "iopub.status.busy": "2024-01-23T12:11:03.783591Z",
     "iopub.status.idle": "2024-01-23T12:11:05.181214Z",
     "shell.execute_reply": "2024-01-23T12:11:05.180328Z"
    },
    "papermill": {
     "duration": 1.431976,
     "end_time": "2024-01-23T12:11:05.183813",
     "exception": false,
     "start_time": "2024-01-23T12:11:03.751837",
     "status": "completed"
    },
    "tags": []
   },
   "outputs": [
    {
     "name": "stdout",
     "output_type": "stream",
     "text": [
      "removing 13000 features\n",
      "removing 2500 features\n",
      "removing 2 features\n",
      "removing 66 features\n",
      "removing 19169 features\n",
      "removing 4306 features\n",
      "removing 550 features\n",
      "removing 29 features\n"
     ]
    }
   ],
   "source": [
    "string = remove_cols(df_dolphin, [c for c in cols if c.startswith('ngram_')])\n",
    "string = remove_cols(df_dolphin, [c for c in cols if c.startswith('opcode_')])\n",
    "string = remove_cols(df_dolphin, [c for c in cols if c.startswith('generic_')])\n",
    "# string = remove_cols(df_dolphin, [c for c in cols if c.startswith('string_')])\n",
    "string = remove_cols(df_dolphin, [c for c in cols if c.startswith('rich_')])\n",
    "string = remove_cols(df_dolphin, [c for c in cols if c.startswith('imp_') or 'api_import_nb' == c])\n",
    "string = remove_cols(df_dolphin, [c for c in cols if c.endswith('.dll') or 'dll_import_nb' == c])\n",
    "string = remove_cols(df_dolphin, [c for c in cols if c.startswith('pesection')])\n",
    "string = remove_cols(df_dolphin, [c for c in cols if c.startswith('header_')])"
   ]
  },
  {
   "cell_type": "code",
   "execution_count": 40,
   "id": "2b9a8a0b",
   "metadata": {
    "execution": {
     "iopub.execute_input": "2024-01-23T12:11:05.248519Z",
     "iopub.status.busy": "2024-01-23T12:11:05.248056Z",
     "iopub.status.idle": "2024-01-23T12:11:05.287361Z",
     "shell.execute_reply": "2024-01-23T12:11:05.286010Z"
    },
    "papermill": {
     "duration": 0.075959,
     "end_time": "2024-01-23T12:11:05.290334",
     "exception": false,
     "start_time": "2024-01-23T12:11:05.214375",
     "status": "completed"
    },
    "tags": []
   },
   "outputs": [
    {
     "data": {
      "text/html": [
       "<div>\n",
       "<style scoped>\n",
       "    .dataframe tbody tr th:only-of-type {\n",
       "        vertical-align: middle;\n",
       "    }\n",
       "\n",
       "    .dataframe tbody tr th {\n",
       "        vertical-align: top;\n",
       "    }\n",
       "\n",
       "    .dataframe thead th {\n",
       "        text-align: right;\n",
       "    }\n",
       "</style>\n",
       "<table border=\"1\" class=\"dataframe\">\n",
       "  <thead>\n",
       "    <tr style=\"text-align: right;\">\n",
       "      <th></th>\n",
       "      <th>malicious</th>\n",
       "      <th>packed</th>\n",
       "      <th>similarity</th>\n",
       "      <th>unpacked_similarity</th>\n",
       "      <th>string_b'\\t\\t\\t\\t'</th>\n",
       "      <th>string_b'\\t\\t\\t\\t\\t'</th>\n",
       "      <th>string_b'\\t\\t\\t\\t\\t\\t'</th>\n",
       "      <th>string_b'\\t\\t\\t\\t\\t\\t\\t'</th>\n",
       "      <th>string_b'\\t\\t\\t\\t\\t\\t\\t\\t'</th>\n",
       "      <th>string_b'\\t\\t\\t\\t\\t\\t\\t\\t\\t\\t\\t\\t\\t\\t'</th>\n",
       "      <th>...</th>\n",
       "      <th>string_b'~xYp'</th>\n",
       "      <th>string_b'~y\\ta('</th>\n",
       "      <th>string_b'~y~K'</th>\n",
       "      <th>string_b'~zzPKK1+,% '</th>\n",
       "      <th>string_b'~}}}}'</th>\n",
       "      <th>string_b'~~ZTT910&amp;'</th>\n",
       "      <th>string_b'~~}}}'</th>\n",
       "      <th>string_b'~~~~'</th>\n",
       "      <th>string_b'~~~~~'</th>\n",
       "      <th>string_b'~~~~~~}}}z'</th>\n",
       "    </tr>\n",
       "  </thead>\n",
       "  <tbody>\n",
       "    <tr>\n",
       "      <th>0</th>\n",
       "      <td>True</td>\n",
       "      <td>True</td>\n",
       "      <td>0</td>\n",
       "      <td>0</td>\n",
       "      <td>False</td>\n",
       "      <td>False</td>\n",
       "      <td>False</td>\n",
       "      <td>False</td>\n",
       "      <td>False</td>\n",
       "      <td>False</td>\n",
       "      <td>...</td>\n",
       "      <td>False</td>\n",
       "      <td>False</td>\n",
       "      <td>False</td>\n",
       "      <td>False</td>\n",
       "      <td>False</td>\n",
       "      <td>False</td>\n",
       "      <td>False</td>\n",
       "      <td>False</td>\n",
       "      <td>False</td>\n",
       "      <td>False</td>\n",
       "    </tr>\n",
       "    <tr>\n",
       "      <th>2</th>\n",
       "      <td>False</td>\n",
       "      <td>True</td>\n",
       "      <td>0</td>\n",
       "      <td>0</td>\n",
       "      <td>False</td>\n",
       "      <td>False</td>\n",
       "      <td>False</td>\n",
       "      <td>False</td>\n",
       "      <td>False</td>\n",
       "      <td>False</td>\n",
       "      <td>...</td>\n",
       "      <td>False</td>\n",
       "      <td>False</td>\n",
       "      <td>False</td>\n",
       "      <td>False</td>\n",
       "      <td>False</td>\n",
       "      <td>False</td>\n",
       "      <td>False</td>\n",
       "      <td>False</td>\n",
       "      <td>False</td>\n",
       "      <td>False</td>\n",
       "    </tr>\n",
       "    <tr>\n",
       "      <th>9</th>\n",
       "      <td>False</td>\n",
       "      <td>True</td>\n",
       "      <td>0</td>\n",
       "      <td>0</td>\n",
       "      <td>False</td>\n",
       "      <td>False</td>\n",
       "      <td>False</td>\n",
       "      <td>False</td>\n",
       "      <td>False</td>\n",
       "      <td>False</td>\n",
       "      <td>...</td>\n",
       "      <td>False</td>\n",
       "      <td>False</td>\n",
       "      <td>False</td>\n",
       "      <td>False</td>\n",
       "      <td>False</td>\n",
       "      <td>False</td>\n",
       "      <td>False</td>\n",
       "      <td>False</td>\n",
       "      <td>False</td>\n",
       "      <td>False</td>\n",
       "    </tr>\n",
       "    <tr>\n",
       "      <th>25</th>\n",
       "      <td>True</td>\n",
       "      <td>True</td>\n",
       "      <td>0</td>\n",
       "      <td>0</td>\n",
       "      <td>False</td>\n",
       "      <td>False</td>\n",
       "      <td>False</td>\n",
       "      <td>False</td>\n",
       "      <td>False</td>\n",
       "      <td>False</td>\n",
       "      <td>...</td>\n",
       "      <td>False</td>\n",
       "      <td>False</td>\n",
       "      <td>False</td>\n",
       "      <td>False</td>\n",
       "      <td>False</td>\n",
       "      <td>False</td>\n",
       "      <td>False</td>\n",
       "      <td>False</td>\n",
       "      <td>False</td>\n",
       "      <td>False</td>\n",
       "    </tr>\n",
       "    <tr>\n",
       "      <th>27</th>\n",
       "      <td>True</td>\n",
       "      <td>True</td>\n",
       "      <td>0</td>\n",
       "      <td>0</td>\n",
       "      <td>False</td>\n",
       "      <td>False</td>\n",
       "      <td>False</td>\n",
       "      <td>False</td>\n",
       "      <td>False</td>\n",
       "      <td>False</td>\n",
       "      <td>...</td>\n",
       "      <td>False</td>\n",
       "      <td>False</td>\n",
       "      <td>False</td>\n",
       "      <td>False</td>\n",
       "      <td>False</td>\n",
       "      <td>False</td>\n",
       "      <td>False</td>\n",
       "      <td>False</td>\n",
       "      <td>False</td>\n",
       "      <td>False</td>\n",
       "    </tr>\n",
       "  </tbody>\n",
       "</table>\n",
       "<p>5 rows × 16904 columns</p>\n",
       "</div>"
      ],
      "text/plain": [
       "    malicious  packed  similarity  unpacked_similarity  string_b'\\t\\t\\t\\t'  \\\n",
       "0        True    True           0                    0               False   \n",
       "2       False    True           0                    0               False   \n",
       "9       False    True           0                    0               False   \n",
       "25       True    True           0                    0               False   \n",
       "27       True    True           0                    0               False   \n",
       "\n",
       "    string_b'\\t\\t\\t\\t\\t'  string_b'\\t\\t\\t\\t\\t\\t'  string_b'\\t\\t\\t\\t\\t\\t\\t'  \\\n",
       "0                  False                   False                     False   \n",
       "2                  False                   False                     False   \n",
       "9                  False                   False                     False   \n",
       "25                 False                   False                     False   \n",
       "27                 False                   False                     False   \n",
       "\n",
       "    string_b'\\t\\t\\t\\t\\t\\t\\t\\t'  string_b'\\t\\t\\t\\t\\t\\t\\t\\t\\t\\t\\t\\t\\t\\t'  ...  \\\n",
       "0                        False                                   False  ...   \n",
       "2                        False                                   False  ...   \n",
       "9                        False                                   False  ...   \n",
       "25                       False                                   False  ...   \n",
       "27                       False                                   False  ...   \n",
       "\n",
       "    string_b'~xYp'  string_b'~y\\ta('  string_b'~y~K'  string_b'~zzPKK1+,% '  \\\n",
       "0            False             False           False                  False   \n",
       "2            False             False           False                  False   \n",
       "9            False             False           False                  False   \n",
       "25           False             False           False                  False   \n",
       "27           False             False           False                  False   \n",
       "\n",
       "    string_b'~}}}}'  string_b'~~ZTT910&'  string_b'~~}}}'  string_b'~~~~'  \\\n",
       "0             False                False            False           False   \n",
       "2             False                False            False           False   \n",
       "9             False                False            False           False   \n",
       "25            False                False            False           False   \n",
       "27            False                False            False           False   \n",
       "\n",
       "    string_b'~~~~~'  string_b'~~~~~~}}}z'  \n",
       "0             False                 False  \n",
       "2             False                 False  \n",
       "9             False                 False  \n",
       "25            False                 False  \n",
       "27            False                 False  \n",
       "\n",
       "[5 rows x 16904 columns]"
      ]
     },
     "execution_count": 40,
     "metadata": {},
     "output_type": "execute_result"
    }
   ],
   "source": [
    "string.head()"
   ]
  },
  {
   "cell_type": "code",
   "execution_count": 41,
   "id": "7ab07f79",
   "metadata": {
    "execution": {
     "iopub.execute_input": "2024-01-23T12:11:05.354771Z",
     "iopub.status.busy": "2024-01-23T12:11:05.354352Z",
     "iopub.status.idle": "2024-01-23T12:11:05.698994Z",
     "shell.execute_reply": "2024-01-23T12:11:05.697618Z"
    },
    "papermill": {
     "duration": 0.380936,
     "end_time": "2024-01-23T12:11:05.702994",
     "exception": false,
     "start_time": "2024-01-23T12:11:05.322058",
     "status": "completed"
    },
    "tags": []
   },
   "outputs": [],
   "source": [
    "df_7000_string = string.sample(n=7000, random_state=102)\n",
    "df_3000_string = string.drop(df_7000.index)\n",
    "data_string = df_7000_string.sample(n=3500, random_state=102)"
   ]
  },
  {
   "cell_type": "code",
   "execution_count": 42,
   "id": "a2e094fc",
   "metadata": {
    "execution": {
     "iopub.execute_input": "2024-01-23T12:11:05.772019Z",
     "iopub.status.busy": "2024-01-23T12:11:05.771566Z",
     "iopub.status.idle": "2024-01-23T12:11:06.271493Z",
     "shell.execute_reply": "2024-01-23T12:11:06.270492Z"
    },
    "papermill": {
     "duration": 0.535491,
     "end_time": "2024-01-23T12:11:06.273934",
     "exception": false,
     "start_time": "2024-01-23T12:11:05.738443",
     "status": "completed"
    },
    "tags": []
   },
   "outputs": [
    {
     "name": "stdout",
     "output_type": "stream",
     "text": [
      "Packed Malware: 2322 samples\n",
      "Packed Benign: 1178 samples\n",
      "Total TRAIN set: 3500 samples\n",
      "Packed Malware: 1178 samples\n",
      "Packed Benign: 1178 samples\n",
      "Total TRAIN set: 2356 samples\n",
      "Packed Malware: 1022 samples\n",
      "Packed Benign: 1022 samples\n",
      "Total TEST set: 2044 samples\n"
     ]
    }
   ],
   "source": [
    "#Kiểm tra số lượng mẫu\n",
    "PM = data_string[(data_string['malicious'] == True) & (data_string['packed'] == True)].shape[0]\n",
    "PB = data_string[(data_string['malicious'] == False) & (data_string['packed'] == True)].shape[0]\n",
    "print('Packed Malware: %i samples' % PM)\n",
    "print('Packed Benign: %i samples' % PB)\n",
    "print('Total TRAIN set: %i samples'% (PM+PB))\n",
    "\n",
    "#Chia tỉ lệ 50 - 50\n",
    "data_PM_string = data_string[(data_string['malicious'] == True) & (data_string['packed'] == True)].sample(n=(PM-PB), random_state=102)\n",
    "data_string = data_string.drop(data_PM_string.index)\n",
    "      \n",
    "#Số lượng tập train\n",
    "PM = data_string[(data_string['malicious'] == True) & (data_string['packed'] == True)].shape[0]\n",
    "PB = data_string[(data_string['malicious'] == False) & (data_string['packed'] == True)].shape[0]\n",
    "print('Packed Malware: %i samples' % PM)\n",
    "print('Packed Benign: %i samples' % PB)\n",
    "print('Total TRAIN set: %i samples'% (PM+PB))\n",
    "\n",
    "#Xử lý tập train\n",
    "y = data_string['malicious'].values\n",
    "data_string = data_string.drop(['malicious','packed'], axis=1)\n",
    "\n",
    "PM = df_3000_string[(df_3000_string['malicious'] == True) & (df_3000_string['packed'] == True)].shape[0]\n",
    "PB = df_3000_string[(df_3000_string['malicious'] == False) & (df_3000_string['packed'] == True)].shape[0]\n",
    "\n",
    "df_3000_PM_string = df_3000_string[(df_3000_string['malicious'] == True) & (df_3000_string['packed'] == True)].sample(n=(PM-PB), random_state=102)\n",
    "df_3000_string = df_3000_string.drop(df_3000_PM_string.index)\n",
    "\n",
    "PM = df_3000_string[(df_3000_string['malicious'] == True) & (df_3000_string['packed'] == True)].shape[0]\n",
    "PB = df_3000_string[(df_3000_string['malicious'] == False) & (df_3000_string['packed'] == True)].shape[0]\n",
    "\n",
    "print('Packed Malware: %i samples' % PM)\n",
    "print('Packed Benign: %i samples' % PB)\n",
    "print('Total TEST set: %i samples'% (PM+PB))"
   ]
  },
  {
   "cell_type": "code",
   "execution_count": 43,
   "id": "7921b541",
   "metadata": {
    "execution": {
     "iopub.execute_input": "2024-01-23T12:11:06.342308Z",
     "iopub.status.busy": "2024-01-23T12:11:06.341700Z",
     "iopub.status.idle": "2024-01-23T12:11:06.437840Z",
     "shell.execute_reply": "2024-01-23T12:11:06.436550Z"
    },
    "papermill": {
     "duration": 0.133686,
     "end_time": "2024-01-23T12:11:06.440690",
     "exception": false,
     "start_time": "2024-01-23T12:11:06.307004",
     "status": "completed"
    },
    "tags": []
   },
   "outputs": [],
   "source": [
    "# model = SelectFromModel(fsel, prefit=True)\n",
    "\n",
    "X_train_string = data_string\n",
    "X_test_string = df_3000_string.drop(['malicious','packed'], axis=1)\n",
    "\n",
    "data_string = data_string.loc[:, (data_string != 0).any(axis=0)]\n",
    "x_train_string = data_string\n",
    "X_test_string = df_3000_string.drop(['malicious','packed'], axis=1)\n",
    "y_train_string = y\n",
    "y_test_string = df_3000_string['malicious'].values"
   ]
  },
  {
   "cell_type": "code",
   "execution_count": 44,
   "id": "00d7e6a7",
   "metadata": {
    "execution": {
     "iopub.execute_input": "2024-01-23T12:11:06.504326Z",
     "iopub.status.busy": "2024-01-23T12:11:06.503093Z",
     "iopub.status.idle": "2024-01-23T12:11:17.236687Z",
     "shell.execute_reply": "2024-01-23T12:11:17.235457Z"
    },
    "papermill": {
     "duration": 10.768239,
     "end_time": "2024-01-23T12:11:17.239310",
     "exception": false,
     "start_time": "2024-01-23T12:11:06.471071",
     "status": "completed"
    },
    "tags": []
   },
   "outputs": [
    {
     "name": "stdout",
     "output_type": "stream",
     "text": [
      "The accuracy of the Random Forests model is :\t 0.5420743639921722\n"
     ]
    }
   ],
   "source": [
    "# Random Forest\n",
    "from sklearn.ensemble import RandomForestClassifier\n",
    "from sklearn import metrics\n",
    "\n",
    "random_forest = RandomForestClassifier(n_estimators=100, random_state=17)\n",
    "random_forest.fit(X_train_string, y_train_string)\n",
    "random_forest_preds = random_forest.predict(X_test_string)\n",
    "print('The accuracy of the Random Forests model is :\\t',metrics.accuracy_score(random_forest_preds,y_test_string))"
   ]
  },
  {
   "cell_type": "markdown",
   "id": "28cf608a",
   "metadata": {
    "papermill": {
     "duration": 0.031783,
     "end_time": "2024-01-23T12:11:17.301649",
     "exception": false,
     "start_time": "2024-01-23T12:11:17.269866",
     "status": "completed"
    },
    "tags": []
   },
   "source": [
    "# **api features**"
   ]
  },
  {
   "cell_type": "code",
   "execution_count": 45,
   "id": "83a44665",
   "metadata": {
    "execution": {
     "iopub.execute_input": "2024-01-23T12:11:17.365195Z",
     "iopub.status.busy": "2024-01-23T12:11:17.364674Z",
     "iopub.status.idle": "2024-01-23T12:11:19.273416Z",
     "shell.execute_reply": "2024-01-23T12:11:19.272211Z"
    },
    "papermill": {
     "duration": 1.943744,
     "end_time": "2024-01-23T12:11:19.276141",
     "exception": false,
     "start_time": "2024-01-23T12:11:17.332397",
     "status": "completed"
    },
    "tags": []
   },
   "outputs": [],
   "source": [
    "df_dolphin = pd.read_pickle('/kaggle/input/packer-balance-pickle/dolphin_balance.pickle')\n",
    "df_dolphin = df_dolphin.drop(['sample_sha1','benign','unpacked_sample_sha1','unpacked_sample_id'], axis=1)\n",
    "df_dolphin = df_dolphin.drop(['benign_vt','malicious_vt'], axis=1)\n",
    "string_columns = df_dolphin.select_dtypes(include=['object']).columns\n",
    "df_dolphin = df_dolphin.drop(string_columns, axis=1)"
   ]
  },
  {
   "cell_type": "code",
   "execution_count": 46,
   "id": "f48825be",
   "metadata": {
    "execution": {
     "iopub.execute_input": "2024-01-23T12:11:19.340319Z",
     "iopub.status.busy": "2024-01-23T12:11:19.339884Z",
     "iopub.status.idle": "2024-01-23T12:11:21.038847Z",
     "shell.execute_reply": "2024-01-23T12:11:21.037673Z"
    },
    "papermill": {
     "duration": 1.734112,
     "end_time": "2024-01-23T12:11:21.041649",
     "exception": false,
     "start_time": "2024-01-23T12:11:19.307537",
     "status": "completed"
    },
    "tags": []
   },
   "outputs": [
    {
     "name": "stdout",
     "output_type": "stream",
     "text": [
      "removing 13000 features\n",
      "removing 2500 features\n",
      "removing 2 features\n",
      "removing 16900 features\n",
      "removing 66 features\n",
      "removing 4306 features\n",
      "removing 550 features\n",
      "removing 29 features\n"
     ]
    }
   ],
   "source": [
    "api = remove_cols(df_dolphin, [c for c in cols if c.startswith('ngram_')])\n",
    "api = remove_cols(df_dolphin, [c for c in cols if c.startswith('opcode_')])\n",
    "api = remove_cols(df_dolphin, [c for c in cols if c.startswith('generic_')])\n",
    "api = remove_cols(df_dolphin, [c for c in cols if c.startswith('string_')])\n",
    "api = remove_cols(df_dolphin, [c for c in cols if c.startswith('rich_')])\n",
    "# api = remove_cols(df_dolphin, [c for c in cols if c.startswith('imp_') or 'api_import_nb' == c])\n",
    "api = remove_cols(df_dolphin, [c for c in cols if c.endswith('.dll') or 'dll_import_nb' == c])\n",
    "api = remove_cols(df_dolphin, [c for c in cols if c.startswith('pesection')])\n",
    "api = remove_cols(df_dolphin, [c for c in cols if c.startswith('header_')])"
   ]
  },
  {
   "cell_type": "code",
   "execution_count": 47,
   "id": "09dddb96",
   "metadata": {
    "execution": {
     "iopub.execute_input": "2024-01-23T12:11:21.110544Z",
     "iopub.status.busy": "2024-01-23T12:11:21.110124Z",
     "iopub.status.idle": "2024-01-23T12:11:21.141229Z",
     "shell.execute_reply": "2024-01-23T12:11:21.140329Z"
    },
    "papermill": {
     "duration": 0.066396,
     "end_time": "2024-01-23T12:11:21.143370",
     "exception": false,
     "start_time": "2024-01-23T12:11:21.076974",
     "status": "completed"
    },
    "tags": []
   },
   "outputs": [
    {
     "data": {
      "text/html": [
       "<div>\n",
       "<style scoped>\n",
       "    .dataframe tbody tr th:only-of-type {\n",
       "        vertical-align: middle;\n",
       "    }\n",
       "\n",
       "    .dataframe tbody tr th {\n",
       "        vertical-align: top;\n",
       "    }\n",
       "\n",
       "    .dataframe thead th {\n",
       "        text-align: right;\n",
       "    }\n",
       "</style>\n",
       "<table border=\"1\" class=\"dataframe\">\n",
       "  <thead>\n",
       "    <tr style=\"text-align: right;\">\n",
       "      <th></th>\n",
       "      <th>malicious</th>\n",
       "      <th>packed</th>\n",
       "      <th>imp_setupremovefilelogentrya</th>\n",
       "      <th>imp_vardeccmp</th>\n",
       "      <th>imp_setdlgitemint</th>\n",
       "      <th>imp_?append@?$basic_string@du?$char_traits@d@std@@v?$allocator@d@2@@std@@qaeaav12@abv12@ii@z</th>\n",
       "      <th>imp_zwwritefile</th>\n",
       "      <th>imp_glstencilop</th>\n",
       "      <th>imp_comparelinkinforeferents</th>\n",
       "      <th>imp__setmbcp</th>\n",
       "      <th>...</th>\n",
       "      <th>imp_??1configitem@utl@@uae@xz</th>\n",
       "      <th>imp_??1critical_section@concurrency@@qae@xz</th>\n",
       "      <th>imp__zn12qdomdocumentc1ev</th>\n",
       "      <th>imp__efree</th>\n",
       "      <th>imp_sws_alloc_context</th>\n",
       "      <th>imp_nc_get_vara_double</th>\n",
       "      <th>imp_?startextsubset@abstractdomparser@xercesc_2_7@@uaexxz</th>\n",
       "      <th>imp_direct3dcreate9ex</th>\n",
       "      <th>imp_trusteeaccesstoobjecta</th>\n",
       "      <th>unpacked_similarity</th>\n",
       "    </tr>\n",
       "  </thead>\n",
       "  <tbody>\n",
       "    <tr>\n",
       "      <th>0</th>\n",
       "      <td>True</td>\n",
       "      <td>True</td>\n",
       "      <td>False</td>\n",
       "      <td>False</td>\n",
       "      <td>False</td>\n",
       "      <td>False</td>\n",
       "      <td>False</td>\n",
       "      <td>False</td>\n",
       "      <td>False</td>\n",
       "      <td>False</td>\n",
       "      <td>...</td>\n",
       "      <td>False</td>\n",
       "      <td>False</td>\n",
       "      <td>False</td>\n",
       "      <td>False</td>\n",
       "      <td>False</td>\n",
       "      <td>False</td>\n",
       "      <td>False</td>\n",
       "      <td>False</td>\n",
       "      <td>False</td>\n",
       "      <td>0</td>\n",
       "    </tr>\n",
       "    <tr>\n",
       "      <th>2</th>\n",
       "      <td>False</td>\n",
       "      <td>True</td>\n",
       "      <td>False</td>\n",
       "      <td>False</td>\n",
       "      <td>False</td>\n",
       "      <td>False</td>\n",
       "      <td>False</td>\n",
       "      <td>False</td>\n",
       "      <td>False</td>\n",
       "      <td>False</td>\n",
       "      <td>...</td>\n",
       "      <td>False</td>\n",
       "      <td>False</td>\n",
       "      <td>False</td>\n",
       "      <td>False</td>\n",
       "      <td>False</td>\n",
       "      <td>False</td>\n",
       "      <td>False</td>\n",
       "      <td>False</td>\n",
       "      <td>False</td>\n",
       "      <td>0</td>\n",
       "    </tr>\n",
       "    <tr>\n",
       "      <th>9</th>\n",
       "      <td>False</td>\n",
       "      <td>True</td>\n",
       "      <td>False</td>\n",
       "      <td>False</td>\n",
       "      <td>False</td>\n",
       "      <td>False</td>\n",
       "      <td>False</td>\n",
       "      <td>False</td>\n",
       "      <td>False</td>\n",
       "      <td>False</td>\n",
       "      <td>...</td>\n",
       "      <td>False</td>\n",
       "      <td>False</td>\n",
       "      <td>False</td>\n",
       "      <td>False</td>\n",
       "      <td>False</td>\n",
       "      <td>False</td>\n",
       "      <td>False</td>\n",
       "      <td>False</td>\n",
       "      <td>False</td>\n",
       "      <td>0</td>\n",
       "    </tr>\n",
       "    <tr>\n",
       "      <th>25</th>\n",
       "      <td>True</td>\n",
       "      <td>True</td>\n",
       "      <td>False</td>\n",
       "      <td>False</td>\n",
       "      <td>False</td>\n",
       "      <td>False</td>\n",
       "      <td>False</td>\n",
       "      <td>False</td>\n",
       "      <td>False</td>\n",
       "      <td>False</td>\n",
       "      <td>...</td>\n",
       "      <td>False</td>\n",
       "      <td>False</td>\n",
       "      <td>False</td>\n",
       "      <td>False</td>\n",
       "      <td>False</td>\n",
       "      <td>False</td>\n",
       "      <td>False</td>\n",
       "      <td>False</td>\n",
       "      <td>False</td>\n",
       "      <td>0</td>\n",
       "    </tr>\n",
       "    <tr>\n",
       "      <th>27</th>\n",
       "      <td>True</td>\n",
       "      <td>True</td>\n",
       "      <td>False</td>\n",
       "      <td>False</td>\n",
       "      <td>False</td>\n",
       "      <td>False</td>\n",
       "      <td>False</td>\n",
       "      <td>False</td>\n",
       "      <td>False</td>\n",
       "      <td>False</td>\n",
       "      <td>...</td>\n",
       "      <td>False</td>\n",
       "      <td>False</td>\n",
       "      <td>False</td>\n",
       "      <td>False</td>\n",
       "      <td>False</td>\n",
       "      <td>False</td>\n",
       "      <td>False</td>\n",
       "      <td>False</td>\n",
       "      <td>False</td>\n",
       "      <td>0</td>\n",
       "    </tr>\n",
       "  </tbody>\n",
       "</table>\n",
       "<p>5 rows × 19173 columns</p>\n",
       "</div>"
      ],
      "text/plain": [
       "    malicious  packed  imp_setupremovefilelogentrya  imp_vardeccmp  \\\n",
       "0        True    True                         False          False   \n",
       "2       False    True                         False          False   \n",
       "9       False    True                         False          False   \n",
       "25       True    True                         False          False   \n",
       "27       True    True                         False          False   \n",
       "\n",
       "    imp_setdlgitemint  \\\n",
       "0               False   \n",
       "2               False   \n",
       "9               False   \n",
       "25              False   \n",
       "27              False   \n",
       "\n",
       "    imp_?append@?$basic_string@du?$char_traits@d@std@@v?$allocator@d@2@@std@@qaeaav12@abv12@ii@z  \\\n",
       "0                                               False                                              \n",
       "2                                               False                                              \n",
       "9                                               False                                              \n",
       "25                                              False                                              \n",
       "27                                              False                                              \n",
       "\n",
       "    imp_zwwritefile  imp_glstencilop  imp_comparelinkinforeferents  \\\n",
       "0             False            False                         False   \n",
       "2             False            False                         False   \n",
       "9             False            False                         False   \n",
       "25            False            False                         False   \n",
       "27            False            False                         False   \n",
       "\n",
       "    imp__setmbcp  ...  imp_??1configitem@utl@@uae@xz  \\\n",
       "0          False  ...                          False   \n",
       "2          False  ...                          False   \n",
       "9          False  ...                          False   \n",
       "25         False  ...                          False   \n",
       "27         False  ...                          False   \n",
       "\n",
       "    imp_??1critical_section@concurrency@@qae@xz  imp__zn12qdomdocumentc1ev  \\\n",
       "0                                         False                      False   \n",
       "2                                         False                      False   \n",
       "9                                         False                      False   \n",
       "25                                        False                      False   \n",
       "27                                        False                      False   \n",
       "\n",
       "    imp__efree  imp_sws_alloc_context  imp_nc_get_vara_double  \\\n",
       "0        False                  False                   False   \n",
       "2        False                  False                   False   \n",
       "9        False                  False                   False   \n",
       "25       False                  False                   False   \n",
       "27       False                  False                   False   \n",
       "\n",
       "    imp_?startextsubset@abstractdomparser@xercesc_2_7@@uaexxz  \\\n",
       "0                                               False           \n",
       "2                                               False           \n",
       "9                                               False           \n",
       "25                                              False           \n",
       "27                                              False           \n",
       "\n",
       "    imp_direct3dcreate9ex  imp_trusteeaccesstoobjecta  unpacked_similarity  \n",
       "0                   False                       False                    0  \n",
       "2                   False                       False                    0  \n",
       "9                   False                       False                    0  \n",
       "25                  False                       False                    0  \n",
       "27                  False                       False                    0  \n",
       "\n",
       "[5 rows x 19173 columns]"
      ]
     },
     "execution_count": 47,
     "metadata": {},
     "output_type": "execute_result"
    }
   ],
   "source": [
    "api.head()"
   ]
  },
  {
   "cell_type": "code",
   "execution_count": 48,
   "id": "a814957b",
   "metadata": {
    "execution": {
     "iopub.execute_input": "2024-01-23T12:11:21.209412Z",
     "iopub.status.busy": "2024-01-23T12:11:21.208604Z",
     "iopub.status.idle": "2024-01-23T12:11:21.653449Z",
     "shell.execute_reply": "2024-01-23T12:11:21.652203Z"
    },
    "papermill": {
     "duration": 0.481009,
     "end_time": "2024-01-23T12:11:21.656351",
     "exception": false,
     "start_time": "2024-01-23T12:11:21.175342",
     "status": "completed"
    },
    "tags": []
   },
   "outputs": [],
   "source": [
    "df_7000_api = api.sample(n=7000, random_state=102)\n",
    "df_3000_api = api.drop(df_7000.index)\n",
    "data_api = df_7000_api.sample(n=3500, random_state=102)"
   ]
  },
  {
   "cell_type": "code",
   "execution_count": 49,
   "id": "98f5aaea",
   "metadata": {
    "execution": {
     "iopub.execute_input": "2024-01-23T12:11:21.725489Z",
     "iopub.status.busy": "2024-01-23T12:11:21.724990Z",
     "iopub.status.idle": "2024-01-23T12:11:22.443259Z",
     "shell.execute_reply": "2024-01-23T12:11:22.441816Z"
    },
    "papermill": {
     "duration": 0.755292,
     "end_time": "2024-01-23T12:11:22.446028",
     "exception": false,
     "start_time": "2024-01-23T12:11:21.690736",
     "status": "completed"
    },
    "tags": []
   },
   "outputs": [
    {
     "name": "stdout",
     "output_type": "stream",
     "text": [
      "Packed Malware: 2322 samples\n",
      "Packed Benign: 1178 samples\n",
      "Total TRAIN set: 3500 samples\n",
      "Packed Malware: 1178 samples\n",
      "Packed Benign: 1178 samples\n",
      "Total TRAIN set: 2356 samples\n",
      "Packed Malware: 1022 samples\n",
      "Packed Benign: 1022 samples\n",
      "Total TEST set: 2044 samples\n"
     ]
    }
   ],
   "source": [
    "#Kiểm tra số lượng mẫu\n",
    "PM = data_api[(data_api['malicious'] == True) & (data_api['packed'] == True)].shape[0]\n",
    "PB = data_api[(data_api['malicious'] == False) & (data_api['packed'] == True)].shape[0]\n",
    "print('Packed Malware: %i samples' % PM)\n",
    "print('Packed Benign: %i samples' % PB)\n",
    "print('Total TRAIN set: %i samples'% (PM+PB))\n",
    "\n",
    "#Chia tỉ lệ 50 - 50\n",
    "data_PM_api = data_api[(data_api['malicious'] == True) & (data_api['packed'] == True)].sample(n=(PM-PB), random_state=102)\n",
    "data_api = data_api.drop(data_PM_api.index)\n",
    "      \n",
    "#Số lượng tập train\n",
    "PM = data_api[(data_api['malicious'] == True) & (data_api['packed'] == True)].shape[0]\n",
    "PB = data_api[(data_api['malicious'] == False) & (data_api['packed'] == True)].shape[0]\n",
    "print('Packed Malware: %i samples' % PM)\n",
    "print('Packed Benign: %i samples' % PB)\n",
    "print('Total TRAIN set: %i samples'% (PM+PB))\n",
    "\n",
    "#Xử lý tập train\n",
    "y = data_api['malicious'].values\n",
    "data_api = data_api.drop(['malicious','packed'], axis=1)\n",
    "\n",
    "PM = df_3000_api[(df_3000_api['malicious'] == True) & (df_3000_api['packed'] == True)].shape[0]\n",
    "PB = df_3000_api[(df_3000_api['malicious'] == False) & (df_3000_api['packed'] == True)].shape[0]\n",
    "\n",
    "df_3000_PM_api = df_3000_api[(df_3000_api['malicious'] == True) & (df_3000_api['packed'] == True)].sample(n=(PM-PB), random_state=102)\n",
    "df_3000_api = df_3000_api.drop(df_3000_PM_api.index)\n",
    "\n",
    "PM = df_3000_api[(df_3000_api['malicious'] == True) & (df_3000_api['packed'] == True)].shape[0]\n",
    "PB = df_3000_api[(df_3000_api['malicious'] == False) & (df_3000_api['packed'] == True)].shape[0]\n",
    "\n",
    "print('Packed Malware: %i samples' % PM)\n",
    "print('Packed Benign: %i samples' % PB)\n",
    "print('Total TEST set: %i samples'% (PM+PB))"
   ]
  },
  {
   "cell_type": "code",
   "execution_count": 50,
   "id": "60c08e54",
   "metadata": {
    "execution": {
     "iopub.execute_input": "2024-01-23T12:11:22.515030Z",
     "iopub.status.busy": "2024-01-23T12:11:22.514360Z",
     "iopub.status.idle": "2024-01-23T12:11:22.653650Z",
     "shell.execute_reply": "2024-01-23T12:11:22.652418Z"
    },
    "papermill": {
     "duration": 0.177799,
     "end_time": "2024-01-23T12:11:22.656432",
     "exception": false,
     "start_time": "2024-01-23T12:11:22.478633",
     "status": "completed"
    },
    "tags": []
   },
   "outputs": [],
   "source": [
    "# model = SelectFromModel(fsel, prefit=True)\n",
    "\n",
    "X_train_api = data_api\n",
    "X_test_api = df_3000_api.drop(['malicious','packed'], axis=1)\n",
    "\n",
    "data_api = data_api.loc[:, (data_api != 0).any(axis=0)]\n",
    "x_train_api = data_api\n",
    "X_test_api = df_3000_api.drop(['malicious','packed'], axis=1)\n",
    "y_train_api = y\n",
    "y_test_api = df_3000_api['malicious'].values"
   ]
  },
  {
   "cell_type": "code",
   "execution_count": 51,
   "id": "669a604b",
   "metadata": {
    "execution": {
     "iopub.execute_input": "2024-01-23T12:11:22.724274Z",
     "iopub.status.busy": "2024-01-23T12:11:22.723819Z",
     "iopub.status.idle": "2024-01-23T12:11:30.843895Z",
     "shell.execute_reply": "2024-01-23T12:11:30.842663Z"
    },
    "papermill": {
     "duration": 8.157505,
     "end_time": "2024-01-23T12:11:30.846696",
     "exception": false,
     "start_time": "2024-01-23T12:11:22.689191",
     "status": "completed"
    },
    "tags": []
   },
   "outputs": [
    {
     "name": "stdout",
     "output_type": "stream",
     "text": [
      "The accuracy of the Random Forests model is :\t 0.5\n"
     ]
    }
   ],
   "source": [
    "# Random Forest\n",
    "from sklearn.ensemble import RandomForestClassifier\n",
    "from sklearn import metrics\n",
    "\n",
    "random_forest = RandomForestClassifier(n_estimators=100, random_state=17)\n",
    "random_forest.fit(X_train_api, y_train_api)\n",
    "random_forest_preds = random_forest.predict(X_test_api)\n",
    "print('The accuracy of the Random Forests model is :\\t',metrics.accuracy_score(random_forest_preds,y_test_api))"
   ]
  },
  {
   "cell_type": "markdown",
   "id": "a39f68f4",
   "metadata": {
    "papermill": {
     "duration": 0.032647,
     "end_time": "2024-01-23T12:11:30.911851",
     "exception": false,
     "start_time": "2024-01-23T12:11:30.879204",
     "status": "completed"
    },
    "tags": []
   },
   "source": [
    "# **dll features**"
   ]
  },
  {
   "cell_type": "code",
   "execution_count": 52,
   "id": "23b83ced",
   "metadata": {
    "execution": {
     "iopub.execute_input": "2024-01-23T12:11:30.978268Z",
     "iopub.status.busy": "2024-01-23T12:11:30.977854Z",
     "iopub.status.idle": "2024-01-23T12:11:32.772195Z",
     "shell.execute_reply": "2024-01-23T12:11:32.770774Z"
    },
    "papermill": {
     "duration": 1.830801,
     "end_time": "2024-01-23T12:11:32.774921",
     "exception": false,
     "start_time": "2024-01-23T12:11:30.944120",
     "status": "completed"
    },
    "tags": []
   },
   "outputs": [],
   "source": [
    "df_dolphin = pd.read_pickle('/kaggle/input/packer-balance-pickle/dolphin_balance.pickle')\n",
    "df_dolphin = df_dolphin.drop(['sample_sha1','benign','unpacked_sample_sha1','unpacked_sample_id'], axis=1)\n",
    "df_dolphin = df_dolphin.drop(['benign_vt','malicious_vt'], axis=1)\n",
    "string_columns = df_dolphin.select_dtypes(include=['object']).columns\n",
    "df_dolphin = df_dolphin.drop(string_columns, axis=1)"
   ]
  },
  {
   "cell_type": "code",
   "execution_count": 53,
   "id": "0915c76e",
   "metadata": {
    "execution": {
     "iopub.execute_input": "2024-01-23T12:11:32.844267Z",
     "iopub.status.busy": "2024-01-23T12:11:32.843833Z",
     "iopub.status.idle": "2024-01-23T12:11:34.118661Z",
     "shell.execute_reply": "2024-01-23T12:11:34.117434Z"
    },
    "papermill": {
     "duration": 1.311995,
     "end_time": "2024-01-23T12:11:34.121469",
     "exception": false,
     "start_time": "2024-01-23T12:11:32.809474",
     "status": "completed"
    },
    "tags": []
   },
   "outputs": [
    {
     "name": "stdout",
     "output_type": "stream",
     "text": [
      "removing 13000 features\n",
      "removing 2500 features\n",
      "removing 2 features\n",
      "removing 16900 features\n",
      "removing 66 features\n",
      "removing 19169 features\n",
      "removing 550 features\n",
      "removing 29 features\n"
     ]
    }
   ],
   "source": [
    "dll = remove_cols(df_dolphin, [c for c in cols if c.startswith('ngram_')])\n",
    "dll = remove_cols(df_dolphin, [c for c in cols if c.startswith('opcode_')])\n",
    "dll = remove_cols(df_dolphin, [c for c in cols if c.startswith('generic_')])\n",
    "dll = remove_cols(df_dolphin, [c for c in cols if c.startswith('string_')])\n",
    "dll = remove_cols(df_dolphin, [c for c in cols if c.startswith('rich_')])\n",
    "dll = remove_cols(df_dolphin, [c for c in cols if c.startswith('imp_') or 'api_import_nb' == c])\n",
    "# api = remove_cols(df_dolphin, [c for c in cols if c.endswith('.dll') or 'dll_import_nb' == c])\n",
    "dll = remove_cols(df_dolphin, [c for c in cols if c.startswith('pesection')])\n",
    "dll = remove_cols(df_dolphin, [c for c in cols if c.startswith('header_')])"
   ]
  },
  {
   "cell_type": "code",
   "execution_count": 54,
   "id": "17057c62",
   "metadata": {
    "execution": {
     "iopub.execute_input": "2024-01-23T12:11:34.190044Z",
     "iopub.status.busy": "2024-01-23T12:11:34.189589Z",
     "iopub.status.idle": "2024-01-23T12:11:34.299066Z",
     "shell.execute_reply": "2024-01-23T12:11:34.297652Z"
    },
    "papermill": {
     "duration": 0.14683,
     "end_time": "2024-01-23T12:11:34.302165",
     "exception": false,
     "start_time": "2024-01-23T12:11:34.155335",
     "status": "completed"
    },
    "tags": []
   },
   "outputs": [],
   "source": [
    "df_7000_dll = dll.sample(n=7000, random_state=102)\n",
    "df_3000_dll = dll.drop(df_7000.index)\n",
    "data_dll = df_7000_dll.sample(n=3500, random_state=102)"
   ]
  },
  {
   "cell_type": "code",
   "execution_count": 55,
   "id": "21f27675",
   "metadata": {
    "execution": {
     "iopub.execute_input": "2024-01-23T12:11:34.371372Z",
     "iopub.status.busy": "2024-01-23T12:11:34.370382Z",
     "iopub.status.idle": "2024-01-23T12:11:34.596599Z",
     "shell.execute_reply": "2024-01-23T12:11:34.595258Z"
    },
    "papermill": {
     "duration": 0.263821,
     "end_time": "2024-01-23T12:11:34.599161",
     "exception": false,
     "start_time": "2024-01-23T12:11:34.335340",
     "status": "completed"
    },
    "tags": []
   },
   "outputs": [
    {
     "name": "stdout",
     "output_type": "stream",
     "text": [
      "Packed Malware: 2322 samples\n",
      "Packed Benign: 1178 samples\n",
      "Total TRAIN set: 3500 samples\n",
      "Packed Malware: 1178 samples\n",
      "Packed Benign: 1178 samples\n",
      "Total TRAIN set: 2356 samples\n",
      "Packed Malware: 1022 samples\n",
      "Packed Benign: 1022 samples\n",
      "Total TEST set: 2044 samples\n"
     ]
    }
   ],
   "source": [
    "#Kiểm tra số lượng mẫu\n",
    "PM = data_dll[(data_dll['malicious'] == True) & (data_dll['packed'] == True)].shape[0]\n",
    "PB = data_dll[(data_dll['malicious'] == False) & (data_dll['packed'] == True)].shape[0]\n",
    "print('Packed Malware: %i samples' % PM)\n",
    "print('Packed Benign: %i samples' % PB)\n",
    "print('Total TRAIN set: %i samples'% (PM+PB))\n",
    "\n",
    "#Chia tỉ lệ 50 - 50\n",
    "data_PM_dll = data_dll[(data_dll['malicious'] == True) & (data_dll['packed'] == True)].sample(n=(PM-PB), random_state=102)\n",
    "data_dll = data_dll.drop(data_PM_dll.index)\n",
    "      \n",
    "#Số lượng tập train\n",
    "PM = data_dll[(data_dll['malicious'] == True) & (data_dll['packed'] == True)].shape[0]\n",
    "PB = data_dll[(data_dll['malicious'] == False) & (data_dll['packed'] == True)].shape[0]\n",
    "print('Packed Malware: %i samples' % PM)\n",
    "print('Packed Benign: %i samples' % PB)\n",
    "print('Total TRAIN set: %i samples'% (PM+PB))\n",
    "\n",
    "#Xử lý tập train\n",
    "y = data_dll['malicious'].values\n",
    "data_dll = data_dll.drop(['malicious','packed'], axis=1)\n",
    "\n",
    "PM = df_3000_dll[(df_3000_dll['malicious'] == True) & (df_3000_dll['packed'] == True)].shape[0]\n",
    "PB = df_3000_dll[(df_3000_dll['malicious'] == False) & (df_3000_dll['packed'] == True)].shape[0]\n",
    "\n",
    "df_3000_PM_dll = df_3000_dll[(df_3000_dll['malicious'] == True) & (df_3000_dll['packed'] == True)].sample(n=(PM-PB), random_state=102)\n",
    "df_3000_dll = df_3000_dll.drop(df_3000_PM_dll.index)\n",
    "\n",
    "PM = df_3000_dll[(df_3000_dll['malicious'] == True) & (df_3000_dll['packed'] == True)].shape[0]\n",
    "PB = df_3000_dll[(df_3000_dll['malicious'] == False) & (df_3000_dll['packed'] == True)].shape[0]\n",
    "\n",
    "print('Packed Malware: %i samples' % PM)\n",
    "print('Packed Benign: %i samples' % PB)\n",
    "print('Total TEST set: %i samples'% (PM+PB))"
   ]
  },
  {
   "cell_type": "code",
   "execution_count": 56,
   "id": "ca899c4c",
   "metadata": {
    "execution": {
     "iopub.execute_input": "2024-01-23T12:11:34.667095Z",
     "iopub.status.busy": "2024-01-23T12:11:34.665980Z",
     "iopub.status.idle": "2024-01-23T12:11:34.713091Z",
     "shell.execute_reply": "2024-01-23T12:11:34.711980Z"
    },
    "papermill": {
     "duration": 0.084113,
     "end_time": "2024-01-23T12:11:34.715739",
     "exception": false,
     "start_time": "2024-01-23T12:11:34.631626",
     "status": "completed"
    },
    "tags": []
   },
   "outputs": [],
   "source": [
    "# model = SelectFromModel(fsel, prefit=True)\n",
    "\n",
    "X_train_dll = data_dll\n",
    "X_test_dll = df_3000_dll.drop(['malicious','packed'], axis=1)\n",
    "\n",
    "data_dll = data_dll.loc[:, (data_dll != 0).any(axis=0)]\n",
    "x_train_dll = data_dll\n",
    "X_test_dll = df_3000_dll.drop(['malicious','packed'], axis=1)\n",
    "y_train_dll = y\n",
    "y_test_dll = df_3000_dll['malicious'].values"
   ]
  },
  {
   "cell_type": "code",
   "execution_count": 57,
   "id": "37b91f66",
   "metadata": {
    "execution": {
     "iopub.execute_input": "2024-01-23T12:11:34.784767Z",
     "iopub.status.busy": "2024-01-23T12:11:34.784331Z",
     "iopub.status.idle": "2024-01-23T12:11:36.854162Z",
     "shell.execute_reply": "2024-01-23T12:11:36.852669Z"
    },
    "papermill": {
     "duration": 2.106912,
     "end_time": "2024-01-23T12:11:36.856740",
     "exception": false,
     "start_time": "2024-01-23T12:11:34.749828",
     "status": "completed"
    },
    "tags": []
   },
   "outputs": [
    {
     "name": "stdout",
     "output_type": "stream",
     "text": [
      "The accuracy of the Random Forests model is :\t 0.5\n"
     ]
    }
   ],
   "source": [
    "# Random Forest\n",
    "from sklearn.ensemble import RandomForestClassifier\n",
    "from sklearn import metrics\n",
    "\n",
    "random_forest = RandomForestClassifier(n_estimators=100, random_state=17)\n",
    "random_forest.fit(X_train_dll, y_train_dll)\n",
    "random_forest_preds = random_forest.predict(X_test_dll)\n",
    "print('The accuracy of the Random Forests model is :\\t',metrics.accuracy_score(random_forest_preds,y_test_dll))"
   ]
  },
  {
   "cell_type": "markdown",
   "id": "964a83b7",
   "metadata": {
    "papermill": {
     "duration": 0.032848,
     "end_time": "2024-01-23T12:11:36.923719",
     "exception": false,
     "start_time": "2024-01-23T12:11:36.890871",
     "status": "completed"
    },
    "tags": []
   },
   "source": [
    "# **pe sections features**"
   ]
  },
  {
   "cell_type": "code",
   "execution_count": 58,
   "id": "65a6a8aa",
   "metadata": {
    "execution": {
     "iopub.execute_input": "2024-01-23T12:11:36.993098Z",
     "iopub.status.busy": "2024-01-23T12:11:36.992402Z",
     "iopub.status.idle": "2024-01-23T12:11:38.883730Z",
     "shell.execute_reply": "2024-01-23T12:11:38.882261Z"
    },
    "papermill": {
     "duration": 1.929846,
     "end_time": "2024-01-23T12:11:38.887007",
     "exception": false,
     "start_time": "2024-01-23T12:11:36.957161",
     "status": "completed"
    },
    "tags": []
   },
   "outputs": [],
   "source": [
    "df_dolphin = pd.read_pickle('/kaggle/input/packer-balance-pickle/dolphin_balance.pickle')\n",
    "df_dolphin = df_dolphin.drop(['sample_sha1','benign','unpacked_sample_sha1','unpacked_sample_id'], axis=1)\n",
    "df_dolphin = df_dolphin.drop(['benign_vt','malicious_vt'], axis=1)\n",
    "string_columns = df_dolphin.select_dtypes(include=['object']).columns\n",
    "df_dolphin = df_dolphin.drop(string_columns, axis=1)"
   ]
  },
  {
   "cell_type": "code",
   "execution_count": 59,
   "id": "4eabb2f9",
   "metadata": {
    "execution": {
     "iopub.execute_input": "2024-01-23T12:11:38.958142Z",
     "iopub.status.busy": "2024-01-23T12:11:38.957112Z",
     "iopub.status.idle": "2024-01-23T12:11:40.240805Z",
     "shell.execute_reply": "2024-01-23T12:11:40.239439Z"
    },
    "papermill": {
     "duration": 1.323099,
     "end_time": "2024-01-23T12:11:40.243469",
     "exception": false,
     "start_time": "2024-01-23T12:11:38.920370",
     "status": "completed"
    },
    "tags": []
   },
   "outputs": [
    {
     "name": "stdout",
     "output_type": "stream",
     "text": [
      "removing 13000 features\n",
      "removing 2500 features\n",
      "removing 2 features\n",
      "removing 16900 features\n",
      "removing 66 features\n",
      "removing 19169 features\n",
      "removing 4306 features\n",
      "removing 29 features\n"
     ]
    }
   ],
   "source": [
    "pesection = remove_cols(df_dolphin, [c for c in cols if c.startswith('ngram_')])\n",
    "pesection = remove_cols(df_dolphin, [c for c in cols if c.startswith('opcode_')])\n",
    "pesection = remove_cols(df_dolphin, [c for c in cols if c.startswith('generic_')])\n",
    "pesection = remove_cols(df_dolphin, [c for c in cols if c.startswith('string_')])\n",
    "pesection = remove_cols(df_dolphin, [c for c in cols if c.startswith('rich_')])\n",
    "pesection = remove_cols(df_dolphin, [c for c in cols if c.startswith('imp_') or 'api_import_nb' == c])\n",
    "pesection = remove_cols(df_dolphin, [c for c in cols if c.endswith('.dll') or 'dll_import_nb' == c])\n",
    "# pesection = remove_cols(df_dolphin, [c for c in cols if c.startswith('pesection')])\n",
    "pesection = remove_cols(df_dolphin, [c for c in cols if c.startswith('header_')])"
   ]
  },
  {
   "cell_type": "code",
   "execution_count": 60,
   "id": "816aae33",
   "metadata": {
    "execution": {
     "iopub.execute_input": "2024-01-23T12:11:40.313902Z",
     "iopub.status.busy": "2024-01-23T12:11:40.313470Z",
     "iopub.status.idle": "2024-01-23T12:11:40.368434Z",
     "shell.execute_reply": "2024-01-23T12:11:40.367298Z"
    },
    "papermill": {
     "duration": 0.093416,
     "end_time": "2024-01-23T12:11:40.371143",
     "exception": false,
     "start_time": "2024-01-23T12:11:40.277727",
     "status": "completed"
    },
    "tags": []
   },
   "outputs": [],
   "source": [
    "df_7000_pesection = pesection.sample(n=7000, random_state=102)\n",
    "df_3000_pesection = pesection.drop(df_7000.index)\n",
    "data_pesection = df_7000_pesection.sample(n=3500, random_state=102)"
   ]
  },
  {
   "cell_type": "code",
   "execution_count": 61,
   "id": "4b3372ee",
   "metadata": {
    "execution": {
     "iopub.execute_input": "2024-01-23T12:11:40.442136Z",
     "iopub.status.busy": "2024-01-23T12:11:40.439829Z",
     "iopub.status.idle": "2024-01-23T12:11:40.591878Z",
     "shell.execute_reply": "2024-01-23T12:11:40.590627Z"
    },
    "papermill": {
     "duration": 0.190023,
     "end_time": "2024-01-23T12:11:40.594667",
     "exception": false,
     "start_time": "2024-01-23T12:11:40.404644",
     "status": "completed"
    },
    "tags": []
   },
   "outputs": [
    {
     "name": "stdout",
     "output_type": "stream",
     "text": [
      "Packed Malware: 2322 samples\n",
      "Packed Benign: 1178 samples\n",
      "Total TRAIN set: 3500 samples\n",
      "Packed Malware: 1178 samples\n",
      "Packed Benign: 1178 samples\n",
      "Total TRAIN set: 2356 samples\n",
      "Packed Malware: 1022 samples\n",
      "Packed Benign: 1022 samples\n",
      "Total TEST set: 2044 samples\n"
     ]
    }
   ],
   "source": [
    "#Kiểm tra số lượng mẫu\n",
    "PM = data_pesection[(data_pesection['malicious'] == True) & (data_pesection['packed'] == True)].shape[0]\n",
    "PB = data_pesection[(data_pesection['malicious'] == False) & (data_pesection['packed'] == True)].shape[0]\n",
    "print('Packed Malware: %i samples' % PM)\n",
    "print('Packed Benign: %i samples' % PB)\n",
    "print('Total TRAIN set: %i samples'% (PM+PB))\n",
    "\n",
    "#Chia tỉ lệ 50 - 50\n",
    "data_PM_pesection = data_pesection[(data_pesection['malicious'] == True) & (data_pesection['packed'] == True)].sample(n=(PM-PB), random_state=102)\n",
    "data_pesection = data_pesection.drop(data_PM_pesection.index)\n",
    "      \n",
    "#Số lượng tập train\n",
    "PM = data_pesection[(data_pesection['malicious'] == True) & (data_pesection['packed'] == True)].shape[0]\n",
    "PB = data_pesection[(data_pesection['malicious'] == False) & (data_pesection['packed'] == True)].shape[0]\n",
    "print('Packed Malware: %i samples' % PM)\n",
    "print('Packed Benign: %i samples' % PB)\n",
    "print('Total TRAIN set: %i samples'% (PM+PB))\n",
    "\n",
    "#Xử lý tập train\n",
    "y = data_pesection['malicious'].values\n",
    "data_pesection = data_pesection.drop(['malicious','packed'], axis=1)\n",
    "\n",
    "PM = df_3000_pesection[(df_3000_pesection['malicious'] == True) & (df_3000_pesection['packed'] == True)].shape[0]\n",
    "PB = df_3000_pesection[(df_3000_pesection['malicious'] == False) & (df_3000_pesection['packed'] == True)].shape[0]\n",
    "\n",
    "df_3000_PM_pesection = df_3000_pesection[(df_3000_pesection['malicious'] == True) & (df_3000_pesection['packed'] == True)].sample(n=(PM-PB), random_state=102)\n",
    "df_3000_pesection = df_3000_pesection.drop(df_3000_PM_pesection.index)\n",
    "\n",
    "PM = df_3000_pesection[(df_3000_pesection['malicious'] == True) & (df_3000_pesection['packed'] == True)].shape[0]\n",
    "PB = df_3000_pesection[(df_3000_pesection['malicious'] == False) & (df_3000_pesection['packed'] == True)].shape[0]\n",
    "\n",
    "print('Packed Malware: %i samples' % PM)\n",
    "print('Packed Benign: %i samples' % PB)\n",
    "print('Total TEST set: %i samples'% (PM+PB))"
   ]
  },
  {
   "cell_type": "code",
   "execution_count": 62,
   "id": "8c95300d",
   "metadata": {
    "execution": {
     "iopub.execute_input": "2024-01-23T12:11:40.665724Z",
     "iopub.status.busy": "2024-01-23T12:11:40.664644Z",
     "iopub.status.idle": "2024-01-23T12:11:40.705309Z",
     "shell.execute_reply": "2024-01-23T12:11:40.704086Z"
    },
    "papermill": {
     "duration": 0.079353,
     "end_time": "2024-01-23T12:11:40.708039",
     "exception": false,
     "start_time": "2024-01-23T12:11:40.628686",
     "status": "completed"
    },
    "tags": []
   },
   "outputs": [],
   "source": [
    "# model = SelectFromModel(fsel, prefit=True)\n",
    "\n",
    "X_train_pesection = data_pesection\n",
    "X_test_pesection = df_3000_pesection.drop(['malicious','packed'], axis=1)\n",
    "\n",
    "data_pesection = data_pesection.loc[:, (data_pesection != 0).any(axis=0)]\n",
    "x_train_pesection = data_pesection\n",
    "X_test_pesection = df_3000_pesection.drop(['malicious','packed'], axis=1)\n",
    "y_train_pesection = y\n",
    "y_test_pesection = df_3000_pesection['malicious'].values"
   ]
  },
  {
   "cell_type": "code",
   "execution_count": 63,
   "id": "e967052f",
   "metadata": {
    "execution": {
     "iopub.execute_input": "2024-01-23T12:11:40.777674Z",
     "iopub.status.busy": "2024-01-23T12:11:40.776603Z",
     "iopub.status.idle": "2024-01-23T12:11:41.321504Z",
     "shell.execute_reply": "2024-01-23T12:11:41.320157Z"
    },
    "papermill": {
     "duration": 0.583037,
     "end_time": "2024-01-23T12:11:41.324444",
     "exception": false,
     "start_time": "2024-01-23T12:11:40.741407",
     "status": "completed"
    },
    "tags": []
   },
   "outputs": [
    {
     "name": "stdout",
     "output_type": "stream",
     "text": [
      "The accuracy of the Random Forests model is :\t 0.5\n"
     ]
    }
   ],
   "source": [
    "# Random Forest\n",
    "from sklearn.ensemble import RandomForestClassifier\n",
    "from sklearn import metrics\n",
    "\n",
    "random_forest = RandomForestClassifier(n_estimators=100, random_state=17)\n",
    "random_forest.fit(X_train_pesection, y_train_pesection)\n",
    "random_forest_preds = random_forest.predict(X_test_pesection)\n",
    "print('The accuracy of the Random Forests model is :\\t',metrics.accuracy_score(random_forest_preds,y_test_pesection))"
   ]
  },
  {
   "cell_type": "markdown",
   "id": "b343887c",
   "metadata": {
    "papermill": {
     "duration": 0.033891,
     "end_time": "2024-01-23T12:11:41.391608",
     "exception": false,
     "start_time": "2024-01-23T12:11:41.357717",
     "status": "completed"
    },
    "tags": []
   },
   "source": [
    "# **pe header features**"
   ]
  },
  {
   "cell_type": "code",
   "execution_count": 64,
   "id": "6ae1f88b",
   "metadata": {
    "execution": {
     "iopub.execute_input": "2024-01-23T12:11:41.460683Z",
     "iopub.status.busy": "2024-01-23T12:11:41.460207Z",
     "iopub.status.idle": "2024-01-23T12:11:43.158149Z",
     "shell.execute_reply": "2024-01-23T12:11:43.156832Z"
    },
    "papermill": {
     "duration": 1.735967,
     "end_time": "2024-01-23T12:11:43.161290",
     "exception": false,
     "start_time": "2024-01-23T12:11:41.425323",
     "status": "completed"
    },
    "tags": []
   },
   "outputs": [],
   "source": [
    "df_dolphin = pd.read_pickle('/kaggle/input/packer-balance-pickle/dolphin_balance.pickle')\n",
    "df_dolphin = df_dolphin.drop(['sample_sha1','benign','unpacked_sample_sha1','unpacked_sample_id'], axis=1)\n",
    "df_dolphin = df_dolphin.drop(['benign_vt','malicious_vt'], axis=1)\n",
    "string_columns = df_dolphin.select_dtypes(include=['object']).columns\n",
    "df_dolphin = df_dolphin.drop(string_columns, axis=1)"
   ]
  },
  {
   "cell_type": "code",
   "execution_count": 65,
   "id": "5d2d0c57",
   "metadata": {
    "execution": {
     "iopub.execute_input": "2024-01-23T12:11:43.233148Z",
     "iopub.status.busy": "2024-01-23T12:11:43.232667Z",
     "iopub.status.idle": "2024-01-23T12:11:44.489996Z",
     "shell.execute_reply": "2024-01-23T12:11:44.486393Z"
    },
    "papermill": {
     "duration": 1.296792,
     "end_time": "2024-01-23T12:11:44.492910",
     "exception": false,
     "start_time": "2024-01-23T12:11:43.196118",
     "status": "completed"
    },
    "tags": []
   },
   "outputs": [
    {
     "name": "stdout",
     "output_type": "stream",
     "text": [
      "removing 13000 features\n",
      "removing 2500 features\n",
      "removing 2 features\n",
      "removing 16900 features\n",
      "removing 66 features\n",
      "removing 19169 features\n",
      "removing 4306 features\n",
      "removing 550 features\n"
     ]
    }
   ],
   "source": [
    "header = remove_cols(df_dolphin, [c for c in cols if c.startswith('ngram_')])\n",
    "header = remove_cols(df_dolphin, [c for c in cols if c.startswith('opcode_')])\n",
    "header = remove_cols(df_dolphin, [c for c in cols if c.startswith('generic_')])\n",
    "header = remove_cols(df_dolphin, [c for c in cols if c.startswith('string_')])\n",
    "header = remove_cols(df_dolphin, [c for c in cols if c.startswith('rich_')])\n",
    "header = remove_cols(df_dolphin, [c for c in cols if c.startswith('imp_') or 'api_import_nb' == c])\n",
    "header = remove_cols(df_dolphin, [c for c in cols if c.endswith('.dll') or 'dll_import_nb' == c])\n",
    "header = remove_cols(df_dolphin, [c for c in cols if c.startswith('pesection')])\n",
    "# header = remove_cols(df_dolphin, [c for c in cols if c.startswith('header_')])"
   ]
  },
  {
   "cell_type": "code",
   "execution_count": 66,
   "id": "b5462fe2",
   "metadata": {
    "execution": {
     "iopub.execute_input": "2024-01-23T12:11:44.562644Z",
     "iopub.status.busy": "2024-01-23T12:11:44.561859Z",
     "iopub.status.idle": "2024-01-23T12:11:44.575362Z",
     "shell.execute_reply": "2024-01-23T12:11:44.574140Z"
    },
    "papermill": {
     "duration": 0.051229,
     "end_time": "2024-01-23T12:11:44.578100",
     "exception": false,
     "start_time": "2024-01-23T12:11:44.526871",
     "status": "completed"
    },
    "tags": []
   },
   "outputs": [],
   "source": [
    "df_7000_header = header.sample(n=7000, random_state=102)\n",
    "df_3000_header = header.drop(df_7000.index)\n",
    "data_header = df_7000_header.sample(n=3500, random_state=102)"
   ]
  },
  {
   "cell_type": "code",
   "execution_count": 67,
   "id": "3cb12ba0",
   "metadata": {
    "execution": {
     "iopub.execute_input": "2024-01-23T12:11:44.651696Z",
     "iopub.status.busy": "2024-01-23T12:11:44.650889Z",
     "iopub.status.idle": "2024-01-23T12:11:44.692683Z",
     "shell.execute_reply": "2024-01-23T12:11:44.691079Z"
    },
    "papermill": {
     "duration": 0.081124,
     "end_time": "2024-01-23T12:11:44.695452",
     "exception": false,
     "start_time": "2024-01-23T12:11:44.614328",
     "status": "completed"
    },
    "tags": []
   },
   "outputs": [
    {
     "name": "stdout",
     "output_type": "stream",
     "text": [
      "Packed Malware: 2322 samples\n",
      "Packed Benign: 1178 samples\n",
      "Total TRAIN set: 3500 samples\n",
      "Packed Malware: 1178 samples\n",
      "Packed Benign: 1178 samples\n",
      "Total TRAIN set: 2356 samples\n",
      "Packed Malware: 1022 samples\n",
      "Packed Benign: 1022 samples\n",
      "Total TEST set: 2044 samples\n"
     ]
    }
   ],
   "source": [
    "#Kiểm tra số lượng mẫu\n",
    "PM = data_header[(data_header['malicious'] == True) & (data_header['packed'] == True)].shape[0]\n",
    "PB = data_header[(data_header['malicious'] == False) & (data_header['packed'] == True)].shape[0]\n",
    "print('Packed Malware: %i samples' % PM)\n",
    "print('Packed Benign: %i samples' % PB)\n",
    "print('Total TRAIN set: %i samples'% (PM+PB))\n",
    "\n",
    "#Chia tỉ lệ 50 - 50\n",
    "data_PM_header = data_header[(data_header['malicious'] == True) & (data_header['packed'] == True)].sample(n=(PM-PB), random_state=102)\n",
    "data_header = data_header.drop(data_PM_header.index)\n",
    "      \n",
    "#Số lượng tập train\n",
    "PM = data_header[(data_header['malicious'] == True) & (data_header['packed'] == True)].shape[0]\n",
    "PB = data_header[(data_header['malicious'] == False) & (data_header['packed'] == True)].shape[0]\n",
    "print('Packed Malware: %i samples' % PM)\n",
    "print('Packed Benign: %i samples' % PB)\n",
    "print('Total TRAIN set: %i samples'% (PM+PB))\n",
    "\n",
    "#Xử lý tập train\n",
    "y = data_header['malicious'].values\n",
    "data_header= data_header.drop(['malicious','packed'], axis=1)\n",
    "\n",
    "PM = df_3000_header[(df_3000_header['malicious'] == True) & (df_3000_header['packed'] == True)].shape[0]\n",
    "PB = df_3000_header[(df_3000_header['malicious'] == False) & (df_3000_header['packed'] == True)].shape[0]\n",
    "\n",
    "df_3000_PM_header = df_3000_header[(df_3000_header['malicious'] == True) & (df_3000_header['packed'] == True)].sample(n=(PM-PB), random_state=102)\n",
    "df_3000_header= df_3000_header.drop(df_3000_PM_header.index)\n",
    "\n",
    "PM = df_3000_header[(df_3000_header['malicious'] == True) & (df_3000_header['packed'] == True)].shape[0]\n",
    "PB = df_3000_header[(df_3000_header['malicious'] == False) & (df_3000_header['packed'] == True)].shape[0]\n",
    "\n",
    "print('Packed Malware: %i samples' % PM)\n",
    "print('Packed Benign: %i samples' % PB)\n",
    "print('Total TEST set: %i samples'% (PM+PB))"
   ]
  },
  {
   "cell_type": "code",
   "execution_count": 68,
   "id": "1671a7d9",
   "metadata": {
    "execution": {
     "iopub.execute_input": "2024-01-23T12:11:44.770217Z",
     "iopub.status.busy": "2024-01-23T12:11:44.769221Z",
     "iopub.status.idle": "2024-01-23T12:11:44.783938Z",
     "shell.execute_reply": "2024-01-23T12:11:44.782841Z"
    },
    "papermill": {
     "duration": 0.054457,
     "end_time": "2024-01-23T12:11:44.787040",
     "exception": false,
     "start_time": "2024-01-23T12:11:44.732583",
     "status": "completed"
    },
    "tags": []
   },
   "outputs": [],
   "source": [
    "# model = SelectFromModel(fsel, prefit=True)\n",
    "\n",
    "X_train_header = data_header\n",
    "X_test_header = df_3000_header.drop(['malicious','packed'], axis=1)\n",
    "\n",
    "data_header = data_header.loc[:, (data_header != 0).any(axis=0)]\n",
    "x_train_header = data_header\n",
    "X_test_header = df_3000_header.drop(['malicious','packed'], axis=1)\n",
    "y_train_header = y\n",
    "y_test_header = df_3000_header['malicious'].values"
   ]
  },
  {
   "cell_type": "code",
   "execution_count": 69,
   "id": "b41caf2f",
   "metadata": {
    "execution": {
     "iopub.execute_input": "2024-01-23T12:11:44.861313Z",
     "iopub.status.busy": "2024-01-23T12:11:44.860026Z",
     "iopub.status.idle": "2024-01-23T12:11:45.145700Z",
     "shell.execute_reply": "2024-01-23T12:11:45.143479Z"
    },
    "papermill": {
     "duration": 0.326142,
     "end_time": "2024-01-23T12:11:45.148613",
     "exception": false,
     "start_time": "2024-01-23T12:11:44.822471",
     "status": "completed"
    },
    "tags": []
   },
   "outputs": [
    {
     "name": "stdout",
     "output_type": "stream",
     "text": [
      "The accuracy of the Random Forests model is :\t 0.5\n"
     ]
    }
   ],
   "source": [
    "# Random Forest\n",
    "from sklearn.ensemble import RandomForestClassifier\n",
    "from sklearn import metrics\n",
    "\n",
    "random_forest = RandomForestClassifier(n_estimators=100, random_state=17)\n",
    "random_forest.fit(X_train_header, y_train_header)\n",
    "random_forest_preds = random_forest.predict(X_test_header)\n",
    "print('The accuracy of the Random Forests model is :\\t',metrics.accuracy_score(random_forest_preds,y_test_header))"
   ]
  },
  {
   "cell_type": "markdown",
   "id": "158d7a32",
   "metadata": {
    "papermill": {
     "duration": 0.033342,
     "end_time": "2024-01-23T12:11:45.215863",
     "exception": false,
     "start_time": "2024-01-23T12:11:45.182521",
     "status": "completed"
    },
    "tags": []
   },
   "source": [
    "# **rich header features**"
   ]
  },
  {
   "cell_type": "code",
   "execution_count": 70,
   "id": "e2d68ee1",
   "metadata": {
    "execution": {
     "iopub.execute_input": "2024-01-23T12:11:45.286764Z",
     "iopub.status.busy": "2024-01-23T12:11:45.286312Z",
     "iopub.status.idle": "2024-01-23T12:11:47.031124Z",
     "shell.execute_reply": "2024-01-23T12:11:47.029856Z"
    },
    "papermill": {
     "duration": 1.783831,
     "end_time": "2024-01-23T12:11:47.034279",
     "exception": false,
     "start_time": "2024-01-23T12:11:45.250448",
     "status": "completed"
    },
    "tags": []
   },
   "outputs": [],
   "source": [
    "df_dolphin = pd.read_pickle('/kaggle/input/packer-balance-pickle/dolphin_balance.pickle')\n",
    "df_dolphin = df_dolphin.drop(['sample_sha1','benign','unpacked_sample_sha1','unpacked_sample_id'], axis=1)\n",
    "df_dolphin = df_dolphin.drop(['benign_vt','malicious_vt'], axis=1)\n",
    "string_columns = df_dolphin.select_dtypes(include=['object']).columns\n",
    "df_dolphin = df_dolphin.drop(string_columns, axis=1)"
   ]
  },
  {
   "cell_type": "code",
   "execution_count": 71,
   "id": "55418799",
   "metadata": {
    "execution": {
     "iopub.execute_input": "2024-01-23T12:11:47.105779Z",
     "iopub.status.busy": "2024-01-23T12:11:47.105364Z",
     "iopub.status.idle": "2024-01-23T12:11:48.314101Z",
     "shell.execute_reply": "2024-01-23T12:11:48.312789Z"
    },
    "papermill": {
     "duration": 1.24785,
     "end_time": "2024-01-23T12:11:48.316770",
     "exception": false,
     "start_time": "2024-01-23T12:11:47.068920",
     "status": "completed"
    },
    "tags": []
   },
   "outputs": [
    {
     "name": "stdout",
     "output_type": "stream",
     "text": [
      "removing 13000 features\n",
      "removing 2500 features\n",
      "removing 2 features\n",
      "removing 16900 features\n",
      "removing 19169 features\n",
      "removing 4306 features\n",
      "removing 550 features\n",
      "removing 29 features\n"
     ]
    }
   ],
   "source": [
    "rich = remove_cols(df_dolphin, [c for c in cols if c.startswith('ngram_')])\n",
    "rich = remove_cols(df_dolphin, [c for c in cols if c.startswith('opcode_')])\n",
    "rich = remove_cols(df_dolphin, [c for c in cols if c.startswith('generic_')])\n",
    "rich = remove_cols(df_dolphin, [c for c in cols if c.startswith('string_')])\n",
    "# rich = remove_cols(df_dolphin, [c for c in cols if c.startswith('rich_')])\n",
    "rich = remove_cols(df_dolphin, [c for c in cols if c.startswith('imp_') or 'api_import_nb' == c])\n",
    "rich = remove_cols(df_dolphin, [c for c in cols if c.endswith('.dll') or 'dll_import_nb' == c])\n",
    "rich = remove_cols(df_dolphin, [c for c in cols if c.startswith('pesection')])\n",
    "rich = remove_cols(df_dolphin, [c for c in cols if c.startswith('header_')])"
   ]
  },
  {
   "cell_type": "code",
   "execution_count": 72,
   "id": "311802c8",
   "metadata": {
    "execution": {
     "iopub.execute_input": "2024-01-23T12:11:48.390188Z",
     "iopub.status.busy": "2024-01-23T12:11:48.389733Z",
     "iopub.status.idle": "2024-01-23T12:11:48.403268Z",
     "shell.execute_reply": "2024-01-23T12:11:48.402038Z"
    },
    "papermill": {
     "duration": 0.05441,
     "end_time": "2024-01-23T12:11:48.406080",
     "exception": false,
     "start_time": "2024-01-23T12:11:48.351670",
     "status": "completed"
    },
    "tags": []
   },
   "outputs": [],
   "source": [
    "df_7000_rich = rich.sample(n=7000, random_state=102)\n",
    "df_3000_rich = rich.drop(df_7000.index)\n",
    "data_rich = df_7000_rich.sample(n=3500, random_state=102)"
   ]
  },
  {
   "cell_type": "code",
   "execution_count": 73,
   "id": "0fe943aa",
   "metadata": {
    "execution": {
     "iopub.execute_input": "2024-01-23T12:11:48.477172Z",
     "iopub.status.busy": "2024-01-23T12:11:48.476718Z",
     "iopub.status.idle": "2024-01-23T12:11:48.515861Z",
     "shell.execute_reply": "2024-01-23T12:11:48.514618Z"
    },
    "papermill": {
     "duration": 0.077722,
     "end_time": "2024-01-23T12:11:48.518599",
     "exception": false,
     "start_time": "2024-01-23T12:11:48.440877",
     "status": "completed"
    },
    "tags": []
   },
   "outputs": [
    {
     "name": "stdout",
     "output_type": "stream",
     "text": [
      "Packed Malware: 2322 samples\n",
      "Packed Benign: 1178 samples\n",
      "Total TRAIN set: 3500 samples\n",
      "Packed Malware: 1178 samples\n",
      "Packed Benign: 1178 samples\n",
      "Total TRAIN set: 2356 samples\n",
      "Packed Malware: 1022 samples\n",
      "Packed Benign: 1022 samples\n",
      "Total TEST set: 2044 samples\n"
     ]
    }
   ],
   "source": [
    "#Kiểm tra số lượng mẫu\n",
    "PM = data_rich[(data_rich['malicious'] == True) & (data_rich['packed'] == True)].shape[0]\n",
    "PB = data_rich[(data_rich['malicious'] == False) & (data_rich['packed'] == True)].shape[0]\n",
    "print('Packed Malware: %i samples' % PM)\n",
    "print('Packed Benign: %i samples' % PB)\n",
    "print('Total TRAIN set: %i samples'% (PM+PB))\n",
    "\n",
    "#Chia tỉ lệ 50 - 50\n",
    "data_PM_rich = data_rich[(data_rich['malicious'] == True) & (data_rich['packed'] == True)].sample(n=(PM-PB), random_state=102)\n",
    "data_rich = data_rich.drop(data_PM_rich.index)\n",
    "      \n",
    "#Số lượng tập train\n",
    "PM = data_rich[(data_rich['malicious'] == True) & (data_rich['packed'] == True)].shape[0]\n",
    "PB = data_rich[(data_rich['malicious'] == False) & (data_rich['packed'] == True)].shape[0]\n",
    "print('Packed Malware: %i samples' % PM)\n",
    "print('Packed Benign: %i samples' % PB)\n",
    "print('Total TRAIN set: %i samples'% (PM+PB))\n",
    "\n",
    "#Xử lý tập train\n",
    "y = data_rich['malicious'].values\n",
    "data_rich= data_rich.drop(['malicious','packed'], axis=1)\n",
    "\n",
    "PM = df_3000_rich[(df_3000_rich['malicious'] == True) & (df_3000_rich['packed'] == True)].shape[0]\n",
    "PB = df_3000_rich[(df_3000_rich['malicious'] == False) & (df_3000_rich['packed'] == True)].shape[0]\n",
    "\n",
    "df_3000_PM_rich = df_3000_rich[(df_3000_rich['malicious'] == True) & (df_3000_rich['packed'] == True)].sample(n=(PM-PB), random_state=102)\n",
    "df_3000_rich = df_3000_rich.drop(df_3000_PM_rich.index)\n",
    "\n",
    "PM = df_3000_rich[(df_3000_rich['malicious'] == True) & (df_3000_rich['packed'] == True)].shape[0]\n",
    "PB = df_3000_rich[(df_3000_rich['malicious'] == False) & (df_3000_rich['packed'] == True)].shape[0]\n",
    "\n",
    "print('Packed Malware: %i samples' % PM)\n",
    "print('Packed Benign: %i samples' % PB)\n",
    "print('Total TEST set: %i samples'% (PM+PB))"
   ]
  },
  {
   "cell_type": "code",
   "execution_count": 74,
   "id": "15f23c2d",
   "metadata": {
    "execution": {
     "iopub.execute_input": "2024-01-23T12:11:48.592664Z",
     "iopub.status.busy": "2024-01-23T12:11:48.591791Z",
     "iopub.status.idle": "2024-01-23T12:11:48.603303Z",
     "shell.execute_reply": "2024-01-23T12:11:48.602203Z"
    },
    "papermill": {
     "duration": 0.052296,
     "end_time": "2024-01-23T12:11:48.606204",
     "exception": false,
     "start_time": "2024-01-23T12:11:48.553908",
     "status": "completed"
    },
    "tags": []
   },
   "outputs": [],
   "source": [
    "# model = SelectFromModel(fsel, prefit=True)\n",
    "\n",
    "X_train_rich = data_rich\n",
    "X_test_rich = df_3000_rich.drop(['malicious','packed'], axis=1)\n",
    "\n",
    "data_rich = data_rich.loc[:, (data_rich != 0).any(axis=0)]\n",
    "x_train_rich = data_rich\n",
    "X_test_rich = df_3000_rich.drop(['malicious','packed'], axis=1)\n",
    "y_train_rich = y\n",
    "y_test_rich = df_3000_rich['malicious'].values"
   ]
  },
  {
   "cell_type": "code",
   "execution_count": 75,
   "id": "f95adaeb",
   "metadata": {
    "execution": {
     "iopub.execute_input": "2024-01-23T12:11:48.677879Z",
     "iopub.status.busy": "2024-01-23T12:11:48.676876Z",
     "iopub.status.idle": "2024-01-23T12:11:48.968317Z",
     "shell.execute_reply": "2024-01-23T12:11:48.967467Z"
    },
    "papermill": {
     "duration": 0.329911,
     "end_time": "2024-01-23T12:11:48.970872",
     "exception": false,
     "start_time": "2024-01-23T12:11:48.640961",
     "status": "completed"
    },
    "tags": []
   },
   "outputs": [
    {
     "name": "stdout",
     "output_type": "stream",
     "text": [
      "The accuracy of the Random Forests model is :\t 0.5\n"
     ]
    }
   ],
   "source": [
    "# Random Forest\n",
    "from sklearn.ensemble import RandomForestClassifier\n",
    "from sklearn import metrics\n",
    "\n",
    "random_forest = RandomForestClassifier(n_estimators=100, random_state=17)\n",
    "random_forest.fit(X_train_rich, y_train_rich)\n",
    "random_forest_preds = random_forest.predict(X_test_rich)\n",
    "print('The accuracy of the Random Forests model is :\\t',metrics.accuracy_score(random_forest_preds,y_test_rich))"
   ]
  }
 ],
 "metadata": {
  "kaggle": {
   "accelerator": "none",
   "dataSources": [
    {
     "datasetId": 4192384,
     "sourceId": 7262652,
     "sourceType": "datasetVersion"
    }
   ],
   "dockerImageVersionId": 30626,
   "isGpuEnabled": false,
   "isInternetEnabled": true,
   "language": "python",
   "sourceType": "notebook"
  },
  "kernelspec": {
   "display_name": "Python 3",
   "language": "python",
   "name": "python3"
  },
  "language_info": {
   "codemirror_mode": {
    "name": "ipython",
    "version": 3
   },
   "file_extension": ".py",
   "mimetype": "text/x-python",
   "name": "python",
   "nbconvert_exporter": "python",
   "pygments_lexer": "ipython3",
   "version": "3.10.12"
  },
  "papermill": {
   "default_parameters": {},
   "duration": 138.54477,
   "end_time": "2024-01-23T12:11:49.929669",
   "environment_variables": {},
   "exception": null,
   "input_path": "__notebook__.ipynb",
   "output_path": "__notebook__.ipynb",
   "parameters": {},
   "start_time": "2024-01-23T12:09:31.384899",
   "version": "2.4.0"
  }
 },
 "nbformat": 4,
 "nbformat_minor": 5
}
