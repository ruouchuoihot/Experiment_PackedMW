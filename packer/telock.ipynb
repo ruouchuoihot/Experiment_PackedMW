{
 "cells": [
  {
   "cell_type": "code",
   "execution_count": 1,
   "id": "5bb94725",
   "metadata": {
    "execution": {
     "iopub.execute_input": "2024-01-23T12:09:25.567235Z",
     "iopub.status.busy": "2024-01-23T12:09:25.566298Z",
     "iopub.status.idle": "2024-01-23T12:09:28.850833Z",
     "shell.execute_reply": "2024-01-23T12:09:28.849487Z"
    },
    "papermill": {
     "duration": 3.313499,
     "end_time": "2024-01-23T12:09:28.854030",
     "exception": false,
     "start_time": "2024-01-23T12:09:25.540531",
     "status": "completed"
    },
    "tags": []
   },
   "outputs": [],
   "source": [
    "import pandas as pd\n",
    "import numpy as np\n",
    "import sklearn\n",
    "import sklearn.naive_bayes\n",
    "import sklearn.ensemble as ske\n",
    "import sklearn.neighbors\n",
    "import sklearn.pipeline\n",
    "import sklearn.linear_model\n",
    "import joblib\n",
    "from sklearn import preprocessing\n",
    "from sklearn import tree, linear_model\n",
    "from sklearn.metrics import confusion_matrix\n",
    "from sklearn.metrics import classification_report\n",
    "from sklearn.feature_selection import SelectFromModel\n",
    "import sys\n",
    "import sqlite3\n",
    "import importlib\n",
    "import matplotlib.pyplot as plt\n",
    "import seaborn as sn\n",
    "from sklearn import metrics"
   ]
  },
  {
   "cell_type": "code",
   "execution_count": 2,
   "id": "9bcd4849",
   "metadata": {
    "execution": {
     "iopub.execute_input": "2024-01-23T12:09:28.908447Z",
     "iopub.status.busy": "2024-01-23T12:09:28.906629Z",
     "iopub.status.idle": "2024-01-23T12:09:33.492648Z",
     "shell.execute_reply": "2024-01-23T12:09:33.490950Z"
    },
    "papermill": {
     "duration": 4.615985,
     "end_time": "2024-01-23T12:09:33.496099",
     "exception": false,
     "start_time": "2024-01-23T12:09:28.880114",
     "status": "completed"
    },
    "tags": []
   },
   "outputs": [],
   "source": [
    "telock = pd.read_pickle('/kaggle/input/packer-balance-pickle/telock_balance.pickle')"
   ]
  },
  {
   "cell_type": "code",
   "execution_count": 3,
   "id": "c8a4fbcf",
   "metadata": {
    "execution": {
     "iopub.execute_input": "2024-01-23T12:09:33.544882Z",
     "iopub.status.busy": "2024-01-23T12:09:33.544424Z",
     "iopub.status.idle": "2024-01-23T12:09:34.567466Z",
     "shell.execute_reply": "2024-01-23T12:09:34.566528Z"
    },
    "papermill": {
     "duration": 1.050702,
     "end_time": "2024-01-23T12:09:34.570278",
     "exception": false,
     "start_time": "2024-01-23T12:09:33.519576",
     "status": "completed"
    },
    "tags": []
   },
   "outputs": [],
   "source": [
    "telock = telock.drop(['sample_sha1','benign','unpacked_sample_sha1','unpacked_sample_id'], axis=1)\n",
    "telock = telock.drop(['benign_vt','malicious_vt'], axis=1)"
   ]
  },
  {
   "cell_type": "code",
   "execution_count": 4,
   "id": "72516a5a",
   "metadata": {
    "execution": {
     "iopub.execute_input": "2024-01-23T12:09:34.617660Z",
     "iopub.status.busy": "2024-01-23T12:09:34.617082Z",
     "iopub.status.idle": "2024-01-23T12:09:34.960357Z",
     "shell.execute_reply": "2024-01-23T12:09:34.959405Z"
    },
    "papermill": {
     "duration": 0.370557,
     "end_time": "2024-01-23T12:09:34.963547",
     "exception": false,
     "start_time": "2024-01-23T12:09:34.592990",
     "status": "completed"
    },
    "tags": []
   },
   "outputs": [],
   "source": [
    "string_columns = telock.select_dtypes(include=['object']).columns\n",
    "telock = telock.drop(string_columns, axis=1)"
   ]
  },
  {
   "cell_type": "code",
   "execution_count": 5,
   "id": "cedb6bfe",
   "metadata": {
    "execution": {
     "iopub.execute_input": "2024-01-23T12:09:35.016534Z",
     "iopub.status.busy": "2024-01-23T12:09:35.015692Z",
     "iopub.status.idle": "2024-01-23T12:09:35.067118Z",
     "shell.execute_reply": "2024-01-23T12:09:35.065881Z"
    },
    "papermill": {
     "duration": 0.080835,
     "end_time": "2024-01-23T12:09:35.070110",
     "exception": false,
     "start_time": "2024-01-23T12:09:34.989275",
     "status": "completed"
    },
    "tags": []
   },
   "outputs": [
    {
     "data": {
      "text/html": [
       "<div>\n",
       "<style scoped>\n",
       "    .dataframe tbody tr th:only-of-type {\n",
       "        vertical-align: middle;\n",
       "    }\n",
       "\n",
       "    .dataframe tbody tr th {\n",
       "        vertical-align: top;\n",
       "    }\n",
       "\n",
       "    .dataframe thead th {\n",
       "        text-align: right;\n",
       "    }\n",
       "</style>\n",
       "<table border=\"1\" class=\"dataframe\">\n",
       "  <thead>\n",
       "    <tr style=\"text-align: right;\">\n",
       "      <th></th>\n",
       "      <th>malicious</th>\n",
       "      <th>packed</th>\n",
       "      <th>imp_setupremovefilelogentrya</th>\n",
       "      <th>imp_vardeccmp</th>\n",
       "      <th>imp_setdlgitemint</th>\n",
       "      <th>imp_?append@?$basic_string@du?$char_traits@d@std@@v?$allocator@d@2@@std@@qaeaav12@abv12@ii@z</th>\n",
       "      <th>imp_zwwritefile</th>\n",
       "      <th>imp_glstencilop</th>\n",
       "      <th>imp_comparelinkinforeferents</th>\n",
       "      <th>imp__setmbcp</th>\n",
       "      <th>...</th>\n",
       "      <th>opcode_xor sub mov</th>\n",
       "      <th>opcode_xor sub mov add</th>\n",
       "      <th>opcode_xor test</th>\n",
       "      <th>opcode_xor test je</th>\n",
       "      <th>opcode_xor xor</th>\n",
       "      <th>opcode_xor xor mov</th>\n",
       "      <th>opcode_xor xor pop</th>\n",
       "      <th>opcode_xor xor pop mov</th>\n",
       "      <th>opcode_xor xor xor</th>\n",
       "      <th>opcode_xor xor xor pop</th>\n",
       "    </tr>\n",
       "  </thead>\n",
       "  <tbody>\n",
       "    <tr>\n",
       "      <th>12</th>\n",
       "      <td>False</td>\n",
       "      <td>True</td>\n",
       "      <td>False</td>\n",
       "      <td>False</td>\n",
       "      <td>False</td>\n",
       "      <td>False</td>\n",
       "      <td>False</td>\n",
       "      <td>False</td>\n",
       "      <td>False</td>\n",
       "      <td>False</td>\n",
       "      <td>...</td>\n",
       "      <td>0.0</td>\n",
       "      <td>0.0</td>\n",
       "      <td>0.0</td>\n",
       "      <td>0.0</td>\n",
       "      <td>0.0</td>\n",
       "      <td>0.0</td>\n",
       "      <td>0.0</td>\n",
       "      <td>0.0</td>\n",
       "      <td>0.0</td>\n",
       "      <td>0.0</td>\n",
       "    </tr>\n",
       "    <tr>\n",
       "      <th>14</th>\n",
       "      <td>False</td>\n",
       "      <td>True</td>\n",
       "      <td>False</td>\n",
       "      <td>False</td>\n",
       "      <td>False</td>\n",
       "      <td>False</td>\n",
       "      <td>False</td>\n",
       "      <td>False</td>\n",
       "      <td>False</td>\n",
       "      <td>False</td>\n",
       "      <td>...</td>\n",
       "      <td>0.0</td>\n",
       "      <td>0.0</td>\n",
       "      <td>0.0</td>\n",
       "      <td>0.0</td>\n",
       "      <td>0.0</td>\n",
       "      <td>0.0</td>\n",
       "      <td>0.0</td>\n",
       "      <td>0.0</td>\n",
       "      <td>0.0</td>\n",
       "      <td>0.0</td>\n",
       "    </tr>\n",
       "    <tr>\n",
       "      <th>22</th>\n",
       "      <td>True</td>\n",
       "      <td>True</td>\n",
       "      <td>False</td>\n",
       "      <td>False</td>\n",
       "      <td>False</td>\n",
       "      <td>False</td>\n",
       "      <td>False</td>\n",
       "      <td>False</td>\n",
       "      <td>False</td>\n",
       "      <td>False</td>\n",
       "      <td>...</td>\n",
       "      <td>0.0</td>\n",
       "      <td>0.0</td>\n",
       "      <td>0.0</td>\n",
       "      <td>0.0</td>\n",
       "      <td>0.0</td>\n",
       "      <td>0.0</td>\n",
       "      <td>0.0</td>\n",
       "      <td>0.0</td>\n",
       "      <td>0.0</td>\n",
       "      <td>0.0</td>\n",
       "    </tr>\n",
       "    <tr>\n",
       "      <th>29</th>\n",
       "      <td>False</td>\n",
       "      <td>True</td>\n",
       "      <td>False</td>\n",
       "      <td>False</td>\n",
       "      <td>False</td>\n",
       "      <td>False</td>\n",
       "      <td>False</td>\n",
       "      <td>False</td>\n",
       "      <td>False</td>\n",
       "      <td>False</td>\n",
       "      <td>...</td>\n",
       "      <td>0.0</td>\n",
       "      <td>0.0</td>\n",
       "      <td>0.0</td>\n",
       "      <td>0.0</td>\n",
       "      <td>0.0</td>\n",
       "      <td>0.0</td>\n",
       "      <td>0.0</td>\n",
       "      <td>0.0</td>\n",
       "      <td>0.0</td>\n",
       "      <td>0.0</td>\n",
       "    </tr>\n",
       "    <tr>\n",
       "      <th>33</th>\n",
       "      <td>True</td>\n",
       "      <td>True</td>\n",
       "      <td>False</td>\n",
       "      <td>False</td>\n",
       "      <td>False</td>\n",
       "      <td>False</td>\n",
       "      <td>False</td>\n",
       "      <td>False</td>\n",
       "      <td>False</td>\n",
       "      <td>False</td>\n",
       "      <td>...</td>\n",
       "      <td>0.0</td>\n",
       "      <td>0.0</td>\n",
       "      <td>0.0</td>\n",
       "      <td>0.0</td>\n",
       "      <td>0.0</td>\n",
       "      <td>0.0</td>\n",
       "      <td>0.0</td>\n",
       "      <td>0.0</td>\n",
       "      <td>0.0</td>\n",
       "      <td>0.0</td>\n",
       "    </tr>\n",
       "  </tbody>\n",
       "</table>\n",
       "<p>5 rows × 56526 columns</p>\n",
       "</div>"
      ],
      "text/plain": [
       "    malicious  packed  imp_setupremovefilelogentrya  imp_vardeccmp  \\\n",
       "12      False    True                         False          False   \n",
       "14      False    True                         False          False   \n",
       "22       True    True                         False          False   \n",
       "29      False    True                         False          False   \n",
       "33       True    True                         False          False   \n",
       "\n",
       "    imp_setdlgitemint  \\\n",
       "12              False   \n",
       "14              False   \n",
       "22              False   \n",
       "29              False   \n",
       "33              False   \n",
       "\n",
       "    imp_?append@?$basic_string@du?$char_traits@d@std@@v?$allocator@d@2@@std@@qaeaav12@abv12@ii@z  \\\n",
       "12                                              False                                              \n",
       "14                                              False                                              \n",
       "22                                              False                                              \n",
       "29                                              False                                              \n",
       "33                                              False                                              \n",
       "\n",
       "    imp_zwwritefile  imp_glstencilop  imp_comparelinkinforeferents  \\\n",
       "12            False            False                         False   \n",
       "14            False            False                         False   \n",
       "22            False            False                         False   \n",
       "29            False            False                         False   \n",
       "33            False            False                         False   \n",
       "\n",
       "    imp__setmbcp  ...  opcode_xor sub mov  opcode_xor sub mov add  \\\n",
       "12         False  ...                 0.0                     0.0   \n",
       "14         False  ...                 0.0                     0.0   \n",
       "22         False  ...                 0.0                     0.0   \n",
       "29         False  ...                 0.0                     0.0   \n",
       "33         False  ...                 0.0                     0.0   \n",
       "\n",
       "    opcode_xor test  opcode_xor test je  opcode_xor xor  opcode_xor xor mov  \\\n",
       "12              0.0                 0.0             0.0                 0.0   \n",
       "14              0.0                 0.0             0.0                 0.0   \n",
       "22              0.0                 0.0             0.0                 0.0   \n",
       "29              0.0                 0.0             0.0                 0.0   \n",
       "33              0.0                 0.0             0.0                 0.0   \n",
       "\n",
       "    opcode_xor xor pop  opcode_xor xor pop mov  opcode_xor xor xor  \\\n",
       "12                 0.0                     0.0                 0.0   \n",
       "14                 0.0                     0.0                 0.0   \n",
       "22                 0.0                     0.0                 0.0   \n",
       "29                 0.0                     0.0                 0.0   \n",
       "33                 0.0                     0.0                 0.0   \n",
       "\n",
       "    opcode_xor xor xor pop  \n",
       "12                     0.0  \n",
       "14                     0.0  \n",
       "22                     0.0  \n",
       "29                     0.0  \n",
       "33                     0.0  \n",
       "\n",
       "[5 rows x 56526 columns]"
      ]
     },
     "execution_count": 5,
     "metadata": {},
     "output_type": "execute_result"
    }
   ],
   "source": [
    "telock.head()"
   ]
  },
  {
   "cell_type": "code",
   "execution_count": 6,
   "id": "f5cff0b1",
   "metadata": {
    "execution": {
     "iopub.execute_input": "2024-01-23T12:09:35.121162Z",
     "iopub.status.busy": "2024-01-23T12:09:35.120690Z",
     "iopub.status.idle": "2024-01-23T12:09:36.073089Z",
     "shell.execute_reply": "2024-01-23T12:09:36.071648Z"
    },
    "papermill": {
     "duration": 0.981317,
     "end_time": "2024-01-23T12:09:36.076264",
     "exception": false,
     "start_time": "2024-01-23T12:09:35.094947",
     "status": "completed"
    },
    "tags": []
   },
   "outputs": [],
   "source": [
    "df_7000 = telock.sample(n=7000, random_state=102)\n",
    "df_3000 = telock.drop(df_7000.index)"
   ]
  },
  {
   "cell_type": "code",
   "execution_count": 7,
   "id": "306d28ee",
   "metadata": {
    "execution": {
     "iopub.execute_input": "2024-01-23T12:09:36.126743Z",
     "iopub.status.busy": "2024-01-23T12:09:36.126220Z",
     "iopub.status.idle": "2024-01-23T12:09:36.638480Z",
     "shell.execute_reply": "2024-01-23T12:09:36.637251Z"
    },
    "papermill": {
     "duration": 0.54142,
     "end_time": "2024-01-23T12:09:36.641620",
     "exception": false,
     "start_time": "2024-01-23T12:09:36.100200",
     "status": "completed"
    },
    "tags": []
   },
   "outputs": [],
   "source": [
    "data = df_7000.sample(n=3500, random_state=102)"
   ]
  },
  {
   "cell_type": "code",
   "execution_count": 8,
   "id": "d5722fd6",
   "metadata": {
    "execution": {
     "iopub.execute_input": "2024-01-23T12:09:36.690380Z",
     "iopub.status.busy": "2024-01-23T12:09:36.689885Z",
     "iopub.status.idle": "2024-01-23T12:09:37.138251Z",
     "shell.execute_reply": "2024-01-23T12:09:37.137053Z"
    },
    "papermill": {
     "duration": 0.476503,
     "end_time": "2024-01-23T12:09:37.141456",
     "exception": false,
     "start_time": "2024-01-23T12:09:36.664953",
     "status": "completed"
    },
    "tags": []
   },
   "outputs": [
    {
     "name": "stdout",
     "output_type": "stream",
     "text": [
      "Packed Malware: 2995 samples\n",
      "Packed Benign: 505 samples\n",
      "Total TRAIN set: 3500 samples\n"
     ]
    }
   ],
   "source": [
    "#Kiểm tra số lượng mẫu\n",
    "PM = data[(data['malicious'] == True) & (data['packed'] == True)].shape[0]\n",
    "PB = data[(data['malicious'] == False) & (data['packed'] == True)].shape[0]\n",
    "print('Packed Malware: %i samples' % PM)\n",
    "print('Packed Benign: %i samples' % PB)\n",
    "print('Total TRAIN set: %i samples'% (PM+PB))"
   ]
  },
  {
   "cell_type": "code",
   "execution_count": 9,
   "id": "68c1fa06",
   "metadata": {
    "execution": {
     "iopub.execute_input": "2024-01-23T12:09:37.285289Z",
     "iopub.status.busy": "2024-01-23T12:09:37.284791Z",
     "iopub.status.idle": "2024-01-23T12:09:37.910542Z",
     "shell.execute_reply": "2024-01-23T12:09:37.909403Z"
    },
    "papermill": {
     "duration": 0.748673,
     "end_time": "2024-01-23T12:09:37.913869",
     "exception": false,
     "start_time": "2024-01-23T12:09:37.165196",
     "status": "completed"
    },
    "tags": []
   },
   "outputs": [],
   "source": [
    "#Chia tỉ lệ 50 - 50\n",
    "data_PM = data[(data['malicious'] == True) & (data['packed'] == True)].sample(n=(PM-PB), random_state=102)\n",
    "data = data.drop(data_PM.index)"
   ]
  },
  {
   "cell_type": "code",
   "execution_count": 10,
   "id": "d9be050e",
   "metadata": {
    "execution": {
     "iopub.execute_input": "2024-01-23T12:09:37.968839Z",
     "iopub.status.busy": "2024-01-23T12:09:37.968391Z",
     "iopub.status.idle": "2024-01-23T12:09:38.086436Z",
     "shell.execute_reply": "2024-01-23T12:09:38.084898Z"
    },
    "papermill": {
     "duration": 0.150518,
     "end_time": "2024-01-23T12:09:38.089684",
     "exception": false,
     "start_time": "2024-01-23T12:09:37.939166",
     "status": "completed"
    },
    "tags": []
   },
   "outputs": [
    {
     "name": "stdout",
     "output_type": "stream",
     "text": [
      "Packed Malware: 505 samples\n",
      "Packed Benign: 505 samples\n",
      "Total TRAIN set: 1010 samples\n"
     ]
    }
   ],
   "source": [
    "#Số lượng tập train\n",
    "PM = data[(data['malicious'] == True) & (data['packed'] == True)].shape[0]\n",
    "PB = data[(data['malicious'] == False) & (data['packed'] == True)].shape[0]\n",
    "print('Packed Malware: %i samples' % PM)\n",
    "print('Packed Benign: %i samples' % PB)\n",
    "print('Total TRAIN set: %i samples'% (PM+PB))"
   ]
  },
  {
   "cell_type": "code",
   "execution_count": 11,
   "id": "e85298a3",
   "metadata": {
    "execution": {
     "iopub.execute_input": "2024-01-23T12:09:38.140169Z",
     "iopub.status.busy": "2024-01-23T12:09:38.139268Z",
     "iopub.status.idle": "2024-01-23T12:09:38.201838Z",
     "shell.execute_reply": "2024-01-23T12:09:38.200862Z"
    },
    "papermill": {
     "duration": 0.090779,
     "end_time": "2024-01-23T12:09:38.204617",
     "exception": false,
     "start_time": "2024-01-23T12:09:38.113838",
     "status": "completed"
    },
    "tags": []
   },
   "outputs": [],
   "source": [
    "#Xử lý tập train\n",
    "y = data['malicious'].values\n",
    "data = data.drop(['malicious','packed'], axis=1)"
   ]
  },
  {
   "cell_type": "code",
   "execution_count": 12,
   "id": "e46b2ef4",
   "metadata": {
    "execution": {
     "iopub.execute_input": "2024-01-23T12:09:38.255266Z",
     "iopub.status.busy": "2024-01-23T12:09:38.254537Z",
     "iopub.status.idle": "2024-01-23T12:09:39.241452Z",
     "shell.execute_reply": "2024-01-23T12:09:39.239796Z"
    },
    "papermill": {
     "duration": 1.016484,
     "end_time": "2024-01-23T12:09:39.244832",
     "exception": false,
     "start_time": "2024-01-23T12:09:38.228348",
     "status": "completed"
    },
    "tags": []
   },
   "outputs": [
    {
     "name": "stdout",
     "output_type": "stream",
     "text": [
      "Packed Malware: 432 samples\n",
      "Packed Benign: 432 samples\n",
      "Total TEST set: 864 samples\n"
     ]
    }
   ],
   "source": [
    "PM = df_3000[(df_3000['malicious'] == True) & (df_3000['packed'] == True)].shape[0]\n",
    "PB = df_3000[(df_3000['malicious'] == False) & (df_3000['packed'] == True)].shape[0]\n",
    "\n",
    "df_3000_PM = df_3000[(df_3000['malicious'] == True) & (df_3000['packed'] == True)].sample(n=(PM-PB), random_state=102)\n",
    "df_3000 = df_3000.drop(df_3000_PM.index)\n",
    "\n",
    "PM = df_3000[(df_3000['malicious'] == True) & (df_3000['packed'] == True)].shape[0]\n",
    "PB = df_3000[(df_3000['malicious'] == False) & (df_3000['packed'] == True)].shape[0]\n",
    "\n",
    "print('Packed Malware: %i samples' % PM)\n",
    "print('Packed Benign: %i samples' % PB)\n",
    "print('Total TEST set: %i samples'% (PM+PB))"
   ]
  },
  {
   "cell_type": "code",
   "execution_count": 13,
   "id": "8ae9129c",
   "metadata": {
    "execution": {
     "iopub.execute_input": "2024-01-23T12:09:39.297343Z",
     "iopub.status.busy": "2024-01-23T12:09:39.296399Z",
     "iopub.status.idle": "2024-01-23T12:09:39.573266Z",
     "shell.execute_reply": "2024-01-23T12:09:39.571737Z"
    },
    "papermill": {
     "duration": 0.307454,
     "end_time": "2024-01-23T12:09:39.576657",
     "exception": false,
     "start_time": "2024-01-23T12:09:39.269203",
     "status": "completed"
    },
    "tags": []
   },
   "outputs": [],
   "source": [
    "# model = SelectFromModel(fsel, prefit=True)\n",
    "\n",
    "X_train = data\n",
    "X_test = df_3000.drop(['malicious','packed'], axis=1)\n",
    "\n",
    "data = data.loc[:, (data != 0).any(axis=0)]\n",
    "x_train = data\n",
    "X_test = df_3000.drop(['malicious','packed'], axis=1)\n",
    "y_train = y\n",
    "y_test = df_3000['malicious'].values"
   ]
  },
  {
   "cell_type": "code",
   "execution_count": 14,
   "id": "2152bb14",
   "metadata": {
    "execution": {
     "iopub.execute_input": "2024-01-23T12:09:39.628910Z",
     "iopub.status.busy": "2024-01-23T12:09:39.628179Z",
     "iopub.status.idle": "2024-01-23T12:09:43.703923Z",
     "shell.execute_reply": "2024-01-23T12:09:43.702752Z"
    },
    "papermill": {
     "duration": 4.104625,
     "end_time": "2024-01-23T12:09:43.706492",
     "exception": false,
     "start_time": "2024-01-23T12:09:39.601867",
     "status": "completed"
    },
    "tags": []
   },
   "outputs": [
    {
     "name": "stdout",
     "output_type": "stream",
     "text": [
      "The accuracy of the Random Forests model is :\t 0.8495370370370371\n"
     ]
    }
   ],
   "source": [
    "# Random Forest\n",
    "from sklearn.ensemble import RandomForestClassifier\n",
    "from sklearn import metrics\n",
    "\n",
    "random_forest = RandomForestClassifier(n_estimators=100, random_state=17)\n",
    "random_forest.fit(X_train, y_train)\n",
    "random_forest_preds = random_forest.predict(X_test)\n",
    "print('The accuracy of the Random Forests model is :\\t',metrics.accuracy_score(random_forest_preds,y_test))"
   ]
  },
  {
   "cell_type": "code",
   "execution_count": 15,
   "id": "1d080fe5",
   "metadata": {
    "execution": {
     "iopub.execute_input": "2024-01-23T12:09:43.757557Z",
     "iopub.status.busy": "2024-01-23T12:09:43.756709Z",
     "iopub.status.idle": "2024-01-23T12:09:43.777373Z",
     "shell.execute_reply": "2024-01-23T12:09:43.776090Z"
    },
    "papermill": {
     "duration": 0.049455,
     "end_time": "2024-01-23T12:09:43.780030",
     "exception": false,
     "start_time": "2024-01-23T12:09:43.730575",
     "status": "completed"
    },
    "tags": []
   },
   "outputs": [
    {
     "name": "stdout",
     "output_type": "stream",
     "text": [
      "True positive : 350 \n",
      "True negative : 384 \n",
      "False positive : 48 \n",
      "False negative : 82 \n",
      "Classification Report:\n",
      "               precision    recall  f1-score   support\n",
      "\n",
      "       False       0.82      0.89      0.86       432\n",
      "        True       0.88      0.81      0.84       432\n",
      "\n",
      "    accuracy                           0.85       864\n",
      "   macro avg       0.85      0.85      0.85       864\n",
      "weighted avg       0.85      0.85      0.85       864\n",
      "\n"
     ]
    }
   ],
   "source": [
    "mt = confusion_matrix(y_test, random_forest_preds)\n",
    "report = classification_report(y_test, random_forest_preds)\n",
    "print(\"True positive : %i \" % (mt[1][1]))\n",
    "print(\"True negative : %i \" % (mt[0][0]))\n",
    "print(\"False positive : %i \" % (mt[0][1]))\n",
    "print(\"False negative : %i \" % (mt[1][0]))\n",
    "print(\"Classification Report:\\n\", report)"
   ]
  },
  {
   "cell_type": "code",
   "execution_count": 16,
   "id": "af08d17e",
   "metadata": {
    "execution": {
     "iopub.execute_input": "2024-01-23T12:09:43.830882Z",
     "iopub.status.busy": "2024-01-23T12:09:43.830362Z",
     "iopub.status.idle": "2024-01-23T12:09:43.916283Z",
     "shell.execute_reply": "2024-01-23T12:09:43.915049Z"
    },
    "papermill": {
     "duration": 0.114498,
     "end_time": "2024-01-23T12:09:43.918935",
     "exception": false,
     "start_time": "2024-01-23T12:09:43.804437",
     "status": "completed"
    },
    "tags": []
   },
   "outputs": [
    {
     "data": {
      "text/plain": [
       "pesectionProcessed_sectionsMeanSize           0.006096\n",
       "header_BaseOfData                             0.005977\n",
       "pesectionProcessed_sectionsMeanVirtualSize    0.005230\n",
       "pesection_4_virtualAddress                    0.005220\n",
       "pesection_4_virtualSize                       0.005029\n",
       "                                                ...   \n",
       "nss3.dll                                      0.000000\n",
       "imp_pr_now                                    0.000000\n",
       "imp_pr_smprintf                               0.000000\n",
       "imp_pr_smprintf_free                          0.000000\n",
       "opcode_xor xor xor pop                        0.000000\n",
       "Length: 56524, dtype: float64"
      ]
     },
     "execution_count": 16,
     "metadata": {},
     "output_type": "execute_result"
    }
   ],
   "source": [
    "feature_scores_rf = pd.Series(random_forest.feature_importances_, index=X_train.columns).sort_values(ascending=False)\n",
    "\n",
    "feature_scores_rf"
   ]
  },
  {
   "cell_type": "code",
   "execution_count": 17,
   "id": "b822a587",
   "metadata": {
    "execution": {
     "iopub.execute_input": "2024-01-23T12:09:43.970911Z",
     "iopub.status.busy": "2024-01-23T12:09:43.970164Z",
     "iopub.status.idle": "2024-01-23T12:09:44.042832Z",
     "shell.execute_reply": "2024-01-23T12:09:44.041441Z"
    },
    "papermill": {
     "duration": 0.102489,
     "end_time": "2024-01-23T12:09:44.046067",
     "exception": false,
     "start_time": "2024-01-23T12:09:43.943578",
     "status": "completed"
    },
    "tags": []
   },
   "outputs": [],
   "source": [
    "top50 = pd.Series(random_forest.feature_importances_, index=X_train.columns).sort_values(ascending=False).head(50)"
   ]
  },
  {
   "cell_type": "code",
   "execution_count": 18,
   "id": "c2850c7f",
   "metadata": {
    "execution": {
     "iopub.execute_input": "2024-01-23T12:09:44.099058Z",
     "iopub.status.busy": "2024-01-23T12:09:44.098246Z",
     "iopub.status.idle": "2024-01-23T12:09:44.116092Z",
     "shell.execute_reply": "2024-01-23T12:09:44.114764Z"
    },
    "papermill": {
     "duration": 0.04726,
     "end_time": "2024-01-23T12:09:44.118730",
     "exception": false,
     "start_time": "2024-01-23T12:09:44.071470",
     "status": "completed"
    },
    "tags": []
   },
   "outputs": [
    {
     "name": "stdout",
     "output_type": "stream",
     "text": [
      "'ngram': 4\n",
      "'opcode ngram': 0\n",
      "'generic': 1\n",
      "'strings': 0\n",
      "'rich header': 3\n",
      "'api import': 0\n",
      "'dll': 0\n",
      "'pe section': 39\n",
      "'pe header': 3\n"
     ]
    }
   ],
   "source": [
    "# Tạo DataFrame từ feature_scores_rf\n",
    "df_features = pd.DataFrame(top50, columns=['Score'])\n",
    "\n",
    "count_ngram = df_features[df_features.index.str.startswith('ngram_')].shape[0]\n",
    "count_opcode = df_features[df_features.index.str.startswith('opcode_')].shape[0]\n",
    "count_generic = df_features[df_features.index.str.startswith('generic_')].shape[0]\n",
    "count_string = df_features[df_features.index.str.startswith('string_')].shape[0]\n",
    "count_rich = df_features[df_features.index.str.startswith('rich_')].shape[0]\n",
    "# count_api = df_features[df_features.index.str.startswith('imp_') or 'api_import_nb' == c].shape[0]\n",
    "# count_dll = df_features[df_features.index.str.startswith('.dll') or 'dll_import_nb' == c].shape[0]\n",
    "count_api = df_features[df_features.index.str.startswith('imp_') | (df_features.index == 'api_import_nb')].shape[0]\n",
    "count_dll = df_features[df_features.index.str.endswith('.dll') | (df_features.index == 'dll_import_nb')].shape[0]\n",
    "count_section = df_features[df_features.index.str.startswith('pesection')].shape[0]\n",
    "count_header = df_features[df_features.index.str.startswith('header_')].shape[0]\n",
    "\n",
    "print(f\"'ngram': {count_ngram}\")\n",
    "print(f\"'opcode ngram': {count_opcode}\")\n",
    "print(f\"'generic': {count_generic}\")\n",
    "print(f\"'strings': {count_string}\")\n",
    "print(f\"'rich header': {count_rich}\")\n",
    "print(f\"'api import': {count_api}\")\n",
    "print(f\"'dll': {count_dll}\")\n",
    "print(f\"'pe section': {count_section}\")\n",
    "print(f\"'pe header': {count_header}\")"
   ]
  },
  {
   "cell_type": "code",
   "execution_count": 19,
   "id": "8df0a4d3",
   "metadata": {
    "execution": {
     "iopub.execute_input": "2024-01-23T12:09:44.172907Z",
     "iopub.status.busy": "2024-01-23T12:09:44.172159Z",
     "iopub.status.idle": "2024-01-23T12:09:44.185585Z",
     "shell.execute_reply": "2024-01-23T12:09:44.184545Z"
    },
    "papermill": {
     "duration": 0.04415,
     "end_time": "2024-01-23T12:09:44.188316",
     "exception": false,
     "start_time": "2024-01-23T12:09:44.144166",
     "status": "completed"
    },
    "tags": []
   },
   "outputs": [],
   "source": [
    "cols = list(telock.columns)"
   ]
  },
  {
   "cell_type": "markdown",
   "id": "44daf1a0",
   "metadata": {
    "papermill": {
     "duration": 0.024375,
     "end_time": "2024-01-23T12:09:44.237529",
     "exception": false,
     "start_time": "2024-01-23T12:09:44.213154",
     "status": "completed"
    },
    "tags": []
   },
   "source": [
    "# **ngram features**"
   ]
  },
  {
   "cell_type": "code",
   "execution_count": 20,
   "id": "937bbd28",
   "metadata": {
    "execution": {
     "iopub.execute_input": "2024-01-23T12:09:44.290310Z",
     "iopub.status.busy": "2024-01-23T12:09:44.289464Z",
     "iopub.status.idle": "2024-01-23T12:09:46.744342Z",
     "shell.execute_reply": "2024-01-23T12:09:46.742932Z"
    },
    "papermill": {
     "duration": 2.485421,
     "end_time": "2024-01-23T12:09:46.747667",
     "exception": false,
     "start_time": "2024-01-23T12:09:44.262246",
     "status": "completed"
    },
    "tags": []
   },
   "outputs": [],
   "source": [
    "telock = pd.read_pickle('/kaggle/input/packer-balance-pickle/telock_balance.pickle')\n",
    "telock = telock.drop(['sample_sha1','benign','unpacked_sample_sha1','unpacked_sample_id'], axis=1)\n",
    "telock = telock.drop(['benign_vt','malicious_vt'], axis=1)\n",
    "string_columns = telock.select_dtypes(include=['object']).columns\n",
    "telock = telock.drop(string_columns, axis=1)"
   ]
  },
  {
   "cell_type": "code",
   "execution_count": 21,
   "id": "08c4092a",
   "metadata": {
    "execution": {
     "iopub.execute_input": "2024-01-23T12:09:46.798772Z",
     "iopub.status.busy": "2024-01-23T12:09:46.798262Z",
     "iopub.status.idle": "2024-01-23T12:09:46.805337Z",
     "shell.execute_reply": "2024-01-23T12:09:46.803844Z"
    },
    "papermill": {
     "duration": 0.035532,
     "end_time": "2024-01-23T12:09:46.807800",
     "exception": false,
     "start_time": "2024-01-23T12:09:46.772268",
     "status": "completed"
    },
    "tags": []
   },
   "outputs": [],
   "source": [
    "def remove_cols(df, ll):\n",
    "    print(\"removing {} features\".format(len(ll)))\n",
    "    df.drop(columns=ll, axis=1, inplace=True)\n",
    "    return df"
   ]
  },
  {
   "cell_type": "code",
   "execution_count": 22,
   "id": "e3b0900d",
   "metadata": {
    "execution": {
     "iopub.execute_input": "2024-01-23T12:09:46.858926Z",
     "iopub.status.busy": "2024-01-23T12:09:46.857773Z",
     "iopub.status.idle": "2024-01-23T12:09:48.597626Z",
     "shell.execute_reply": "2024-01-23T12:09:48.596057Z"
    },
    "papermill": {
     "duration": 1.768493,
     "end_time": "2024-01-23T12:09:48.600390",
     "exception": false,
     "start_time": "2024-01-23T12:09:46.831897",
     "status": "completed"
    },
    "tags": []
   },
   "outputs": [
    {
     "name": "stdout",
     "output_type": "stream",
     "text": [
      "removing 2500 features\n",
      "removing 2 features\n",
      "removing 16900 features\n",
      "removing 66 features\n",
      "removing 19169 features\n",
      "removing 4306 features\n",
      "removing 550 features\n",
      "removing 29 features\n"
     ]
    }
   ],
   "source": [
    "# ngram = remove_cols(df, [c for c in cols if c.startswith('ngram_')])\n",
    "ngram = remove_cols(telock, [c for c in cols if c.startswith('opcode_')])\n",
    "ngram = remove_cols(telock, [c for c in cols if c.startswith('generic_')])\n",
    "ngram = remove_cols(telock, [c for c in cols if c.startswith('string_')])\n",
    "ngram = remove_cols(telock, [c for c in cols if c.startswith('rich_')])\n",
    "ngram = remove_cols(telock, [c for c in cols if c.startswith('imp_') or 'api_import_nb' == c])\n",
    "ngram = remove_cols(telock, [c for c in cols if c.endswith('.dll') or 'dll_import_nb' == c])\n",
    "ngram = remove_cols(telock, [c for c in cols if c.startswith('pesection')])\n",
    "ngram = remove_cols(telock, [c for c in cols if c.startswith('header_')])"
   ]
  },
  {
   "cell_type": "code",
   "execution_count": 23,
   "id": "3cedf710",
   "metadata": {
    "execution": {
     "iopub.execute_input": "2024-01-23T12:09:48.652218Z",
     "iopub.status.busy": "2024-01-23T12:09:48.651758Z",
     "iopub.status.idle": "2024-01-23T12:09:48.915869Z",
     "shell.execute_reply": "2024-01-23T12:09:48.914249Z"
    },
    "papermill": {
     "duration": 0.294413,
     "end_time": "2024-01-23T12:09:48.919351",
     "exception": false,
     "start_time": "2024-01-23T12:09:48.624938",
     "status": "completed"
    },
    "tags": []
   },
   "outputs": [],
   "source": [
    "df_7000_ngram = ngram.sample(n=7000, random_state=102)\n",
    "df_3000_ngram = ngram.drop(df_7000.index)\n",
    "data_ngram = df_7000_ngram.sample(n=3500, random_state=102)"
   ]
  },
  {
   "cell_type": "code",
   "execution_count": 24,
   "id": "31905377",
   "metadata": {
    "execution": {
     "iopub.execute_input": "2024-01-23T12:09:48.974233Z",
     "iopub.status.busy": "2024-01-23T12:09:48.973837Z",
     "iopub.status.idle": "2024-01-23T12:09:49.365747Z",
     "shell.execute_reply": "2024-01-23T12:09:49.364476Z"
    },
    "papermill": {
     "duration": 0.422655,
     "end_time": "2024-01-23T12:09:49.368624",
     "exception": false,
     "start_time": "2024-01-23T12:09:48.945969",
     "status": "completed"
    },
    "tags": []
   },
   "outputs": [
    {
     "name": "stdout",
     "output_type": "stream",
     "text": [
      "Packed Malware: 2995 samples\n",
      "Packed Benign: 505 samples\n",
      "Total TRAIN set: 3500 samples\n",
      "Packed Malware: 505 samples\n",
      "Packed Benign: 505 samples\n",
      "Total TRAIN set: 1010 samples\n",
      "Packed Malware: 432 samples\n",
      "Packed Benign: 432 samples\n",
      "Total TEST set: 864 samples\n"
     ]
    }
   ],
   "source": [
    "#Kiểm tra số lượng mẫu\n",
    "PM = data_ngram[(data_ngram['malicious'] == True) & (data_ngram['packed'] == True)].shape[0]\n",
    "PB = data_ngram[(data_ngram['malicious'] == False) & (data_ngram['packed'] == True)].shape[0]\n",
    "print('Packed Malware: %i samples' % PM)\n",
    "print('Packed Benign: %i samples' % PB)\n",
    "print('Total TRAIN set: %i samples'% (PM+PB))\n",
    "\n",
    "#Chia tỉ lệ 50 - 50\n",
    "data_PM_ngram = data_ngram[(data_ngram['malicious'] == True) & (data_ngram['packed'] == True)].sample(n=(PM-PB), random_state=102)\n",
    "data_ngram = data_ngram.drop(data_PM_ngram.index)\n",
    "\n",
    "#Số lượng tập train\n",
    "PM = data_ngram[(data_ngram['malicious'] == True) & (data_ngram['packed'] == True)].shape[0]\n",
    "PB = data_ngram[(data_ngram['malicious'] == False) & (data_ngram['packed'] == True)].shape[0]\n",
    "print('Packed Malware: %i samples' % PM)\n",
    "print('Packed Benign: %i samples' % PB)\n",
    "print('Total TRAIN set: %i samples'% (PM+PB))\n",
    "\n",
    "#Xử lý tập train\n",
    "y = data_ngram['malicious'].values\n",
    "data_ngram = data_ngram.drop(['malicious','packed'], axis=1)\n",
    "\n",
    "PM = df_3000_ngram[(df_3000_ngram['malicious'] == True) & (df_3000_ngram['packed'] == True)].shape[0]\n",
    "PB = df_3000_ngram[(df_3000_ngram['malicious'] == False) & (df_3000_ngram['packed'] == True)].shape[0]\n",
    "\n",
    "df_3000_PM_ngram = df_3000_ngram[(df_3000_ngram['malicious'] == True) & (df_3000_ngram['packed'] == True)].sample(n=(PM-PB), random_state=102)\n",
    "df_3000_ngram = df_3000_ngram.drop(df_3000_PM.index)\n",
    "\n",
    "PM = df_3000_ngram[(df_3000_ngram['malicious'] == True) & (df_3000_ngram['packed'] == True)].shape[0]\n",
    "PB = df_3000_ngram[(df_3000_ngram['malicious'] == False) & (df_3000_ngram['packed'] == True)].shape[0]\n",
    "\n",
    "print('Packed Malware: %i samples' % PM)\n",
    "print('Packed Benign: %i samples' % PB)\n",
    "print('Total TEST set: %i samples'% (PM+PB))"
   ]
  },
  {
   "cell_type": "code",
   "execution_count": 25,
   "id": "0f0c8cd8",
   "metadata": {
    "execution": {
     "iopub.execute_input": "2024-01-23T12:09:49.424021Z",
     "iopub.status.busy": "2024-01-23T12:09:49.422583Z",
     "iopub.status.idle": "2024-01-23T12:09:49.472221Z",
     "shell.execute_reply": "2024-01-23T12:09:49.470635Z"
    },
    "papermill": {
     "duration": 0.080725,
     "end_time": "2024-01-23T12:09:49.475386",
     "exception": false,
     "start_time": "2024-01-23T12:09:49.394661",
     "status": "completed"
    },
    "tags": []
   },
   "outputs": [],
   "source": [
    "# model = SelectFromModel(fsel, prefit=True)\n",
    "\n",
    "X_train_ngram = data_ngram\n",
    "X_test_ngram = df_3000_ngram.drop(['malicious','packed'], axis=1)\n",
    "\n",
    "data_ngram = data_ngram.loc[:, (data_ngram != 0).any(axis=0)]\n",
    "x_train_ngram = data_ngram\n",
    "X_test_ngram = df_3000_ngram.drop(['malicious','packed'], axis=1)\n",
    "y_train_ngram = y\n",
    "y_test_ngram = df_3000_ngram['malicious'].values"
   ]
  },
  {
   "cell_type": "code",
   "execution_count": 26,
   "id": "e8290469",
   "metadata": {
    "execution": {
     "iopub.execute_input": "2024-01-23T12:09:49.527494Z",
     "iopub.status.busy": "2024-01-23T12:09:49.527074Z",
     "iopub.status.idle": "2024-01-23T12:09:52.021533Z",
     "shell.execute_reply": "2024-01-23T12:09:52.019922Z"
    },
    "papermill": {
     "duration": 2.524736,
     "end_time": "2024-01-23T12:09:52.025399",
     "exception": false,
     "start_time": "2024-01-23T12:09:49.500663",
     "status": "completed"
    },
    "tags": []
   },
   "outputs": [
    {
     "name": "stdout",
     "output_type": "stream",
     "text": [
      "The accuracy of the Random Forests model is :\t 0.875\n"
     ]
    }
   ],
   "source": [
    "# Random Forest\n",
    "from sklearn.ensemble import RandomForestClassifier\n",
    "from sklearn import metrics\n",
    "\n",
    "random_forest = RandomForestClassifier(n_estimators=100, random_state=17)\n",
    "random_forest.fit(X_train_ngram, y_train_ngram)\n",
    "random_forest_preds = random_forest.predict(X_test_ngram)\n",
    "print('The accuracy of the Random Forests model is :\\t',metrics.accuracy_score(random_forest_preds,y_test_ngram))"
   ]
  },
  {
   "cell_type": "markdown",
   "id": "457f7ab7",
   "metadata": {
    "papermill": {
     "duration": 0.025018,
     "end_time": "2024-01-23T12:09:52.076343",
     "exception": false,
     "start_time": "2024-01-23T12:09:52.051325",
     "status": "completed"
    },
    "tags": []
   },
   "source": [
    "# **opcode features**"
   ]
  },
  {
   "cell_type": "code",
   "execution_count": 27,
   "id": "46d9d00a",
   "metadata": {
    "execution": {
     "iopub.execute_input": "2024-01-23T12:09:52.129361Z",
     "iopub.status.busy": "2024-01-23T12:09:52.128636Z",
     "iopub.status.idle": "2024-01-23T12:09:54.350996Z",
     "shell.execute_reply": "2024-01-23T12:09:54.349661Z"
    },
    "papermill": {
     "duration": 2.252786,
     "end_time": "2024-01-23T12:09:54.354400",
     "exception": false,
     "start_time": "2024-01-23T12:09:52.101614",
     "status": "completed"
    },
    "tags": []
   },
   "outputs": [],
   "source": [
    "telock = pd.read_pickle('/kaggle/input/packer-balance-pickle/telock_balance.pickle')\n",
    "telock = telock.drop(['sample_sha1','benign','unpacked_sample_sha1','unpacked_sample_id'], axis=1)\n",
    "telock = telock.drop(['benign_vt','malicious_vt'], axis=1)\n",
    "string_columns = telock.select_dtypes(include=['object']).columns\n",
    "telock = telock.drop(string_columns, axis=1)"
   ]
  },
  {
   "cell_type": "code",
   "execution_count": 28,
   "id": "0adedbbf",
   "metadata": {
    "execution": {
     "iopub.execute_input": "2024-01-23T12:09:54.409212Z",
     "iopub.status.busy": "2024-01-23T12:09:54.408490Z",
     "iopub.status.idle": "2024-01-23T12:09:55.955427Z",
     "shell.execute_reply": "2024-01-23T12:09:55.953821Z"
    },
    "papermill": {
     "duration": 1.577689,
     "end_time": "2024-01-23T12:09:55.958563",
     "exception": false,
     "start_time": "2024-01-23T12:09:54.380874",
     "status": "completed"
    },
    "tags": []
   },
   "outputs": [
    {
     "name": "stdout",
     "output_type": "stream",
     "text": [
      "removing 13000 features\n",
      "removing 2 features\n",
      "removing 16900 features\n",
      "removing 66 features\n",
      "removing 19169 features\n",
      "removing 4306 features\n",
      "removing 550 features\n",
      "removing 29 features\n"
     ]
    }
   ],
   "source": [
    "opcode = remove_cols(telock, [c for c in cols if c.startswith('ngram_')])\n",
    "# opcode = remove_cols(telock, [c for c in cols if c.startswith('opcode_')])\n",
    "opcode = remove_cols(telock, [c for c in cols if c.startswith('generic_')])\n",
    "opcode = remove_cols(telock, [c for c in cols if c.startswith('string_')])\n",
    "opcode = remove_cols(telock, [c for c in cols if c.startswith('rich_')])\n",
    "opcode = remove_cols(telock, [c for c in cols if c.startswith('imp_') or 'api_import_nb' == c])\n",
    "opcode = remove_cols(telock, [c for c in cols if c.endswith('.dll') or 'dll_import_nb' == c])\n",
    "opcode = remove_cols(telock, [c for c in cols if c.startswith('pesection')])\n",
    "opcode = remove_cols(telock, [c for c in cols if c.startswith('header_')])"
   ]
  },
  {
   "cell_type": "code",
   "execution_count": 29,
   "id": "2cd9741a",
   "metadata": {
    "execution": {
     "iopub.execute_input": "2024-01-23T12:09:56.013653Z",
     "iopub.status.busy": "2024-01-23T12:09:56.013227Z",
     "iopub.status.idle": "2024-01-23T12:09:56.166064Z",
     "shell.execute_reply": "2024-01-23T12:09:56.164975Z"
    },
    "papermill": {
     "duration": 0.183991,
     "end_time": "2024-01-23T12:09:56.169121",
     "exception": false,
     "start_time": "2024-01-23T12:09:55.985130",
     "status": "completed"
    },
    "tags": []
   },
   "outputs": [],
   "source": [
    "df_7000_opcode = opcode.sample(n=7000, random_state=102)\n",
    "df_3000_opcode = opcode.drop(df_7000.index)\n",
    "data_opcode = df_7000_opcode.sample(n=3500, random_state=102)"
   ]
  },
  {
   "cell_type": "code",
   "execution_count": 30,
   "id": "a70eee98",
   "metadata": {
    "execution": {
     "iopub.execute_input": "2024-01-23T12:09:56.223189Z",
     "iopub.status.busy": "2024-01-23T12:09:56.222766Z",
     "iopub.status.idle": "2024-01-23T12:09:56.517406Z",
     "shell.execute_reply": "2024-01-23T12:09:56.515577Z"
    },
    "papermill": {
     "duration": 0.324541,
     "end_time": "2024-01-23T12:09:56.520001",
     "exception": false,
     "start_time": "2024-01-23T12:09:56.195460",
     "status": "completed"
    },
    "tags": []
   },
   "outputs": [
    {
     "name": "stdout",
     "output_type": "stream",
     "text": [
      "Packed Malware: 2995 samples\n",
      "Packed Benign: 505 samples\n",
      "Total TRAIN set: 3500 samples\n",
      "Packed Malware: 505 samples\n",
      "Packed Benign: 505 samples\n",
      "Total TRAIN set: 1010 samples\n",
      "Packed Malware: 432 samples\n",
      "Packed Benign: 432 samples\n",
      "Total TEST set: 864 samples\n"
     ]
    }
   ],
   "source": [
    "#Kiểm tra số lượng mẫu\n",
    "PM = data_opcode[(data_opcode['malicious'] == True) & (data_opcode['packed'] == True)].shape[0]\n",
    "PB = data_opcode[(data_opcode['malicious'] == False) & (data_opcode['packed'] == True)].shape[0]\n",
    "print('Packed Malware: %i samples' % PM)\n",
    "print('Packed Benign: %i samples' % PB)\n",
    "print('Total TRAIN set: %i samples'% (PM+PB))\n",
    "\n",
    "#Chia tỉ lệ 50 - 50\n",
    "data_PM_opcode = data_opcode[(data_opcode['malicious'] == True) & (data_opcode['packed'] == True)].sample(n=(PM-PB), random_state=102)\n",
    "data_opcode = data_opcode.drop(data_PM_opcode.index)\n",
    "      \n",
    "#Số lượng tập train\n",
    "PM = data_opcode[(data_opcode['malicious'] == True) & (data_opcode['packed'] == True)].shape[0]\n",
    "PB = data_opcode[(data_opcode['malicious'] == False) & (data_opcode['packed'] == True)].shape[0]\n",
    "print('Packed Malware: %i samples' % PM)\n",
    "print('Packed Benign: %i samples' % PB)\n",
    "print('Total TRAIN set: %i samples'% (PM+PB))\n",
    "\n",
    "#Xử lý tập train\n",
    "y = data_opcode['malicious'].values\n",
    "data_opcode = data_opcode.drop(['malicious','packed'], axis=1)\n",
    "\n",
    "PM = df_3000_opcode[(df_3000_opcode['malicious'] == True) & (df_3000_opcode['packed'] == True)].shape[0]\n",
    "PB = df_3000_opcode[(df_3000_opcode['malicious'] == False) & (df_3000_opcode['packed'] == True)].shape[0]\n",
    "\n",
    "df_3000_PM_opcode = df_3000_opcode[(df_3000_opcode['malicious'] == True) & (df_3000_opcode['packed'] == True)].sample(n=(PM-PB), random_state=102)\n",
    "df_3000_opcode = df_3000_opcode.drop(df_3000_PM_opcode.index)\n",
    "\n",
    "PM = df_3000_opcode[(df_3000_opcode['malicious'] == True) & (df_3000_opcode['packed'] == True)].shape[0]\n",
    "PB = df_3000_opcode[(df_3000_opcode['malicious'] == False) & (df_3000_opcode['packed'] == True)].shape[0]\n",
    "\n",
    "print('Packed Malware: %i samples' % PM)\n",
    "print('Packed Benign: %i samples' % PB)\n",
    "print('Total TEST set: %i samples'% (PM+PB))"
   ]
  },
  {
   "cell_type": "code",
   "execution_count": 31,
   "id": "f2356fa4",
   "metadata": {
    "execution": {
     "iopub.execute_input": "2024-01-23T12:09:56.575365Z",
     "iopub.status.busy": "2024-01-23T12:09:56.574948Z",
     "iopub.status.idle": "2024-01-23T12:09:56.594866Z",
     "shell.execute_reply": "2024-01-23T12:09:56.593543Z"
    },
    "papermill": {
     "duration": 0.051057,
     "end_time": "2024-01-23T12:09:56.597849",
     "exception": false,
     "start_time": "2024-01-23T12:09:56.546792",
     "status": "completed"
    },
    "tags": []
   },
   "outputs": [],
   "source": [
    "# model = SelectFromModel(fsel, prefit=True)\n",
    "\n",
    "X_train_opcode = data_opcode\n",
    "X_test_opcode = df_3000_opcode.drop(['malicious','packed'], axis=1)\n",
    "\n",
    "# data_opcode = data_opcode.loc[:, (data_opcode != 0).any(axis=0)]\n",
    "x_train_opcode = data_opcode\n",
    "X_test_opcode = df_3000_opcode.drop(['malicious','packed'], axis=1)\n",
    "y_train_opcode = y\n",
    "y_test_opcode = df_3000_opcode['malicious'].values"
   ]
  },
  {
   "cell_type": "code",
   "execution_count": 32,
   "id": "9dc9e396",
   "metadata": {
    "execution": {
     "iopub.execute_input": "2024-01-23T12:09:56.653528Z",
     "iopub.status.busy": "2024-01-23T12:09:56.652757Z",
     "iopub.status.idle": "2024-01-23T12:09:58.479004Z",
     "shell.execute_reply": "2024-01-23T12:09:58.477888Z"
    },
    "papermill": {
     "duration": 1.856791,
     "end_time": "2024-01-23T12:09:58.481558",
     "exception": false,
     "start_time": "2024-01-23T12:09:56.624767",
     "status": "completed"
    },
    "tags": []
   },
   "outputs": [
    {
     "name": "stdout",
     "output_type": "stream",
     "text": [
      "The accuracy of the Random Forests model is :\t 0.5393518518518519\n"
     ]
    }
   ],
   "source": [
    "# Random Forest\n",
    "from sklearn.ensemble import RandomForestClassifier\n",
    "from sklearn import metrics\n",
    "\n",
    "random_forest = RandomForestClassifier(n_estimators=100, random_state=17)\n",
    "random_forest.fit(x_train_opcode, y_train_opcode)\n",
    "random_forest_preds = random_forest.predict(X_test_opcode)\n",
    "print('The accuracy of the Random Forests model is :\\t',metrics.accuracy_score(random_forest_preds,y_test_opcode))"
   ]
  },
  {
   "cell_type": "markdown",
   "id": "eadb33ce",
   "metadata": {
    "papermill": {
     "duration": 0.031862,
     "end_time": "2024-01-23T12:09:58.547316",
     "exception": false,
     "start_time": "2024-01-23T12:09:58.515454",
     "status": "completed"
    },
    "tags": []
   },
   "source": [
    "# **rich header features**"
   ]
  },
  {
   "cell_type": "code",
   "execution_count": 33,
   "id": "f3492515",
   "metadata": {
    "execution": {
     "iopub.execute_input": "2024-01-23T12:09:58.606974Z",
     "iopub.status.busy": "2024-01-23T12:09:58.605337Z",
     "iopub.status.idle": "2024-01-23T12:10:00.451333Z",
     "shell.execute_reply": "2024-01-23T12:10:00.449605Z"
    },
    "papermill": {
     "duration": 1.8809,
     "end_time": "2024-01-23T12:10:00.454361",
     "exception": false,
     "start_time": "2024-01-23T12:09:58.573461",
     "status": "completed"
    },
    "tags": []
   },
   "outputs": [],
   "source": [
    "telock = pd.read_pickle('/kaggle/input/packer-balance-pickle/telock_balance.pickle')\n",
    "telock = telock.drop(['sample_sha1','benign','unpacked_sample_sha1','unpacked_sample_id'], axis=1)\n",
    "telock = telock.drop(['benign_vt','malicious_vt'], axis=1)\n",
    "string_columns = telock.select_dtypes(include=['object']).columns\n",
    "telock = telock.drop(string_columns, axis=1)"
   ]
  },
  {
   "cell_type": "code",
   "execution_count": 34,
   "id": "d83a6478",
   "metadata": {
    "execution": {
     "iopub.execute_input": "2024-01-23T12:10:00.509174Z",
     "iopub.status.busy": "2024-01-23T12:10:00.508658Z",
     "iopub.status.idle": "2024-01-23T12:10:01.909316Z",
     "shell.execute_reply": "2024-01-23T12:10:01.907402Z"
    },
    "papermill": {
     "duration": 1.43102,
     "end_time": "2024-01-23T12:10:01.911953",
     "exception": false,
     "start_time": "2024-01-23T12:10:00.480933",
     "status": "completed"
    },
    "tags": []
   },
   "outputs": [
    {
     "name": "stdout",
     "output_type": "stream",
     "text": [
      "removing 13000 features\n",
      "removing 2500 features\n",
      "removing 2 features\n",
      "removing 16900 features\n",
      "removing 19169 features\n",
      "removing 4306 features\n",
      "removing 550 features\n",
      "removing 29 features\n"
     ]
    }
   ],
   "source": [
    "rich = remove_cols(telock, [c for c in cols if c.startswith('ngram_')])\n",
    "rich = remove_cols(telock, [c for c in cols if c.startswith('opcode_')])\n",
    "rich = remove_cols(telock, [c for c in cols if c.startswith('generic_')])\n",
    "rich = remove_cols(telock, [c for c in cols if c.startswith('string_')])\n",
    "# rich = remove_cols(telock, [c for c in cols if c.startswith('rich_')])\n",
    "rich = remove_cols(telock, [c for c in cols if c.startswith('imp_') or 'api_import_nb' == c])\n",
    "rich = remove_cols(telock, [c for c in cols if c.endswith('.dll') or 'dll_import_nb' == c])\n",
    "rich = remove_cols(telock, [c for c in cols if c.startswith('pesection')])\n",
    "rich = remove_cols(telock, [c for c in cols if c.startswith('header_')])"
   ]
  },
  {
   "cell_type": "code",
   "execution_count": 35,
   "id": "fe2d4381",
   "metadata": {
    "execution": {
     "iopub.execute_input": "2024-01-23T12:10:01.967034Z",
     "iopub.status.busy": "2024-01-23T12:10:01.966581Z",
     "iopub.status.idle": "2024-01-23T12:10:01.983571Z",
     "shell.execute_reply": "2024-01-23T12:10:01.982083Z"
    },
    "papermill": {
     "duration": 0.048234,
     "end_time": "2024-01-23T12:10:01.986594",
     "exception": false,
     "start_time": "2024-01-23T12:10:01.938360",
     "status": "completed"
    },
    "tags": []
   },
   "outputs": [],
   "source": [
    "df_7000_rich = rich.sample(n=7000, random_state=102)\n",
    "df_3000_rich = rich.drop(df_7000.index)\n",
    "data_rich = df_7000_rich.sample(n=3500, random_state=102)"
   ]
  },
  {
   "cell_type": "code",
   "execution_count": 36,
   "id": "2781e909",
   "metadata": {
    "execution": {
     "iopub.execute_input": "2024-01-23T12:10:02.043455Z",
     "iopub.status.busy": "2024-01-23T12:10:02.042922Z",
     "iopub.status.idle": "2024-01-23T12:10:02.229171Z",
     "shell.execute_reply": "2024-01-23T12:10:02.227857Z"
    },
    "papermill": {
     "duration": 0.218102,
     "end_time": "2024-01-23T12:10:02.232091",
     "exception": false,
     "start_time": "2024-01-23T12:10:02.013989",
     "status": "completed"
    },
    "tags": []
   },
   "outputs": [
    {
     "name": "stdout",
     "output_type": "stream",
     "text": [
      "Packed Malware: 2995 samples\n",
      "Packed Benign: 505 samples\n",
      "Total TRAIN set: 3500 samples\n",
      "Packed Malware: 505 samples\n",
      "Packed Benign: 505 samples\n",
      "Total TRAIN set: 1010 samples\n",
      "Packed Malware: 432 samples\n",
      "Packed Benign: 432 samples\n",
      "Total TEST set: 864 samples\n"
     ]
    }
   ],
   "source": [
    "#Kiểm tra số lượng mẫu\n",
    "PM = data_rich[(data_rich['malicious'] == True) & (data_rich['packed'] == True)].shape[0]\n",
    "PB = data_rich[(data_rich['malicious'] == False) & (data_rich['packed'] == True)].shape[0]\n",
    "print('Packed Malware: %i samples' % PM)\n",
    "print('Packed Benign: %i samples' % PB)\n",
    "print('Total TRAIN set: %i samples'% (PM+PB))\n",
    "\n",
    "#Chia tỉ lệ 50 - 50\n",
    "data_PM_rich = data_rich[(data_rich['malicious'] == True) & (data_rich['packed'] == True)].sample(n=(PM-PB), random_state=102)\n",
    "data_rich = data_rich.drop(data_PM_rich.index)\n",
    "      \n",
    "#Số lượng tập train\n",
    "PM = data_rich[(data_rich['malicious'] == True) & (data_rich['packed'] == True)].shape[0]\n",
    "PB = data_rich[(data_rich['malicious'] == False) & (data_rich['packed'] == True)].shape[0]\n",
    "print('Packed Malware: %i samples' % PM)\n",
    "print('Packed Benign: %i samples' % PB)\n",
    "print('Total TRAIN set: %i samples'% (PM+PB))\n",
    "\n",
    "#Xử lý tập train\n",
    "y = data_rich['malicious'].values\n",
    "data_rich= data_rich.drop(['malicious','packed'], axis=1)\n",
    "\n",
    "PM = df_3000_rich[(df_3000_rich['malicious'] == True) & (df_3000_rich['packed'] == True)].shape[0]\n",
    "PB = df_3000_rich[(df_3000_rich['malicious'] == False) & (df_3000_rich['packed'] == True)].shape[0]\n",
    "\n",
    "df_3000_PM_rich = df_3000_rich[(df_3000_rich['malicious'] == True) & (df_3000_rich['packed'] == True)].sample(n=(PM-PB), random_state=102)\n",
    "df_3000_rich = df_3000_rich.drop(df_3000_PM_rich.index)\n",
    "\n",
    "PM = df_3000_rich[(df_3000_rich['malicious'] == True) & (df_3000_rich['packed'] == True)].shape[0]\n",
    "PB = df_3000_rich[(df_3000_rich['malicious'] == False) & (df_3000_rich['packed'] == True)].shape[0]\n",
    "\n",
    "print('Packed Malware: %i samples' % PM)\n",
    "print('Packed Benign: %i samples' % PB)\n",
    "print('Total TEST set: %i samples'% (PM+PB))"
   ]
  },
  {
   "cell_type": "code",
   "execution_count": 37,
   "id": "d1f6f17e",
   "metadata": {
    "execution": {
     "iopub.execute_input": "2024-01-23T12:10:02.288242Z",
     "iopub.status.busy": "2024-01-23T12:10:02.286864Z",
     "iopub.status.idle": "2024-01-23T12:10:02.298353Z",
     "shell.execute_reply": "2024-01-23T12:10:02.297136Z"
    },
    "papermill": {
     "duration": 0.042991,
     "end_time": "2024-01-23T12:10:02.301664",
     "exception": false,
     "start_time": "2024-01-23T12:10:02.258673",
     "status": "completed"
    },
    "tags": []
   },
   "outputs": [],
   "source": [
    "# model = SelectFromModel(fsel, prefit=True)\n",
    "\n",
    "X_train_rich = data_rich\n",
    "X_test_rich = df_3000_rich.drop(['malicious','packed'], axis=1)\n",
    "\n",
    "data_rich = data_rich.loc[:, (data_rich != 0).any(axis=0)]\n",
    "x_train_rich = data_rich\n",
    "X_test_rich = df_3000_rich.drop(['malicious','packed'], axis=1)\n",
    "y_train_rich = y\n",
    "y_test_rich = df_3000_rich['malicious'].values"
   ]
  },
  {
   "cell_type": "code",
   "execution_count": 38,
   "id": "36011c99",
   "metadata": {
    "execution": {
     "iopub.execute_input": "2024-01-23T12:10:02.357264Z",
     "iopub.status.busy": "2024-01-23T12:10:02.356834Z",
     "iopub.status.idle": "2024-01-23T12:10:02.714425Z",
     "shell.execute_reply": "2024-01-23T12:10:02.713019Z"
    },
    "papermill": {
     "duration": 0.38934,
     "end_time": "2024-01-23T12:10:02.717730",
     "exception": false,
     "start_time": "2024-01-23T12:10:02.328390",
     "status": "completed"
    },
    "tags": []
   },
   "outputs": [
    {
     "name": "stdout",
     "output_type": "stream",
     "text": [
      "The accuracy of the Random Forests model is :\t 0.75\n"
     ]
    }
   ],
   "source": [
    "# Random Forest\n",
    "from sklearn.ensemble import RandomForestClassifier\n",
    "from sklearn import metrics\n",
    "\n",
    "random_forest = RandomForestClassifier(n_estimators=100, random_state=17)\n",
    "random_forest.fit(X_train_rich, y_train_rich)\n",
    "random_forest_preds = random_forest.predict(X_test_rich)\n",
    "print('The accuracy of the Random Forests model is :\\t',metrics.accuracy_score(random_forest_preds,y_test_rich))"
   ]
  },
  {
   "cell_type": "markdown",
   "id": "d04bf19f",
   "metadata": {
    "papermill": {
     "duration": 0.026389,
     "end_time": "2024-01-23T12:10:02.770885",
     "exception": false,
     "start_time": "2024-01-23T12:10:02.744496",
     "status": "completed"
    },
    "tags": []
   },
   "source": [
    "# **string features**"
   ]
  },
  {
   "cell_type": "code",
   "execution_count": 39,
   "id": "ae50ff57",
   "metadata": {
    "execution": {
     "iopub.execute_input": "2024-01-23T12:10:02.828462Z",
     "iopub.status.busy": "2024-01-23T12:10:02.827018Z",
     "iopub.status.idle": "2024-01-23T12:10:04.874020Z",
     "shell.execute_reply": "2024-01-23T12:10:04.872778Z"
    },
    "papermill": {
     "duration": 2.078981,
     "end_time": "2024-01-23T12:10:04.877111",
     "exception": false,
     "start_time": "2024-01-23T12:10:02.798130",
     "status": "completed"
    },
    "tags": []
   },
   "outputs": [],
   "source": [
    "telock = pd.read_pickle('/kaggle/input/packer-balance-pickle/telock_balance.pickle')\n",
    "telock = telock.drop(['sample_sha1','benign','unpacked_sample_sha1','unpacked_sample_id'], axis=1)\n",
    "telock = telock.drop(['benign_vt','malicious_vt'], axis=1)\n",
    "string_columns = telock.select_dtypes(include=['object']).columns\n",
    "telock = telock.drop(string_columns, axis=1)"
   ]
  },
  {
   "cell_type": "code",
   "execution_count": 40,
   "id": "d8edcfcf",
   "metadata": {
    "execution": {
     "iopub.execute_input": "2024-01-23T12:10:04.935115Z",
     "iopub.status.busy": "2024-01-23T12:10:04.934095Z",
     "iopub.status.idle": "2024-01-23T12:10:06.773340Z",
     "shell.execute_reply": "2024-01-23T12:10:06.771899Z"
    },
    "papermill": {
     "duration": 1.871717,
     "end_time": "2024-01-23T12:10:06.776411",
     "exception": false,
     "start_time": "2024-01-23T12:10:04.904694",
     "status": "completed"
    },
    "tags": []
   },
   "outputs": [
    {
     "name": "stdout",
     "output_type": "stream",
     "text": [
      "removing 13000 features\n",
      "removing 2500 features\n",
      "removing 2 features\n",
      "removing 66 features\n",
      "removing 19169 features\n",
      "removing 4306 features\n",
      "removing 550 features\n",
      "removing 29 features\n"
     ]
    }
   ],
   "source": [
    "string = remove_cols(telock, [c for c in cols if c.startswith('ngram_')])\n",
    "string = remove_cols(telock, [c for c in cols if c.startswith('opcode_')])\n",
    "string = remove_cols(telock, [c for c in cols if c.startswith('generic_')])\n",
    "# string = remove_cols(telock, [c for c in cols if c.startswith('string_')])\n",
    "string = remove_cols(telock, [c for c in cols if c.startswith('rich_')])\n",
    "string = remove_cols(telock, [c for c in cols if c.startswith('imp_') or 'api_import_nb' == c])\n",
    "string = remove_cols(telock, [c for c in cols if c.endswith('.dll') or 'dll_import_nb' == c])\n",
    "string = remove_cols(telock, [c for c in cols if c.startswith('pesection')])\n",
    "string = remove_cols(telock, [c for c in cols if c.startswith('header_')])"
   ]
  },
  {
   "cell_type": "code",
   "execution_count": 41,
   "id": "a43c08bc",
   "metadata": {
    "execution": {
     "iopub.execute_input": "2024-01-23T12:10:06.834738Z",
     "iopub.status.busy": "2024-01-23T12:10:06.834264Z",
     "iopub.status.idle": "2024-01-23T12:10:07.218866Z",
     "shell.execute_reply": "2024-01-23T12:10:07.217263Z"
    },
    "papermill": {
     "duration": 0.417646,
     "end_time": "2024-01-23T12:10:07.222117",
     "exception": false,
     "start_time": "2024-01-23T12:10:06.804471",
     "status": "completed"
    },
    "tags": []
   },
   "outputs": [],
   "source": [
    "df_7000_string = string.sample(n=7000, random_state=102)\n",
    "df_3000_string = string.drop(df_7000.index)\n",
    "data_string = df_7000_string.sample(n=3500, random_state=102)"
   ]
  },
  {
   "cell_type": "code",
   "execution_count": 42,
   "id": "8d182ecc",
   "metadata": {
    "execution": {
     "iopub.execute_input": "2024-01-23T12:10:07.279033Z",
     "iopub.status.busy": "2024-01-23T12:10:07.278556Z",
     "iopub.status.idle": "2024-01-23T12:10:07.815778Z",
     "shell.execute_reply": "2024-01-23T12:10:07.813891Z"
    },
    "papermill": {
     "duration": 0.569337,
     "end_time": "2024-01-23T12:10:07.818886",
     "exception": false,
     "start_time": "2024-01-23T12:10:07.249549",
     "status": "completed"
    },
    "tags": []
   },
   "outputs": [
    {
     "name": "stdout",
     "output_type": "stream",
     "text": [
      "Packed Malware: 2995 samples\n",
      "Packed Benign: 505 samples\n",
      "Total TRAIN set: 3500 samples\n",
      "Packed Malware: 505 samples\n",
      "Packed Benign: 505 samples\n",
      "Total TRAIN set: 1010 samples\n",
      "Packed Malware: 432 samples\n",
      "Packed Benign: 432 samples\n",
      "Total TEST set: 864 samples\n"
     ]
    }
   ],
   "source": [
    "#Kiểm tra số lượng mẫu\n",
    "PM = data_string[(data_string['malicious'] == True) & (data_string['packed'] == True)].shape[0]\n",
    "PB = data_string[(data_string['malicious'] == False) & (data_string['packed'] == True)].shape[0]\n",
    "print('Packed Malware: %i samples' % PM)\n",
    "print('Packed Benign: %i samples' % PB)\n",
    "print('Total TRAIN set: %i samples'% (PM+PB))\n",
    "\n",
    "#Chia tỉ lệ 50 - 50\n",
    "data_PM_string = data_string[(data_string['malicious'] == True) & (data_string['packed'] == True)].sample(n=(PM-PB), random_state=102)\n",
    "data_string = data_string.drop(data_PM_string.index)\n",
    "      \n",
    "#Số lượng tập train\n",
    "PM = data_string[(data_string['malicious'] == True) & (data_string['packed'] == True)].shape[0]\n",
    "PB = data_string[(data_string['malicious'] == False) & (data_string['packed'] == True)].shape[0]\n",
    "print('Packed Malware: %i samples' % PM)\n",
    "print('Packed Benign: %i samples' % PB)\n",
    "print('Total TRAIN set: %i samples'% (PM+PB))\n",
    "\n",
    "#Xử lý tập train\n",
    "y = data_string['malicious'].values\n",
    "data_string = data_string.drop(['malicious','packed'], axis=1)\n",
    "\n",
    "PM = df_3000_string[(df_3000_string['malicious'] == True) & (df_3000_string['packed'] == True)].shape[0]\n",
    "PB = df_3000_string[(df_3000_string['malicious'] == False) & (df_3000_string['packed'] == True)].shape[0]\n",
    "\n",
    "df_3000_PM_string = df_3000_string[(df_3000_string['malicious'] == True) & (df_3000_string['packed'] == True)].sample(n=(PM-PB), random_state=102)\n",
    "df_3000_string = df_3000_string.drop(df_3000_PM_string.index)\n",
    "\n",
    "PM = df_3000_string[(df_3000_string['malicious'] == True) & (df_3000_string['packed'] == True)].shape[0]\n",
    "PB = df_3000_string[(df_3000_string['malicious'] == False) & (df_3000_string['packed'] == True)].shape[0]\n",
    "\n",
    "print('Packed Malware: %i samples' % PM)\n",
    "print('Packed Benign: %i samples' % PB)\n",
    "print('Total TEST set: %i samples'% (PM+PB))"
   ]
  },
  {
   "cell_type": "code",
   "execution_count": 43,
   "id": "89165611",
   "metadata": {
    "execution": {
     "iopub.execute_input": "2024-01-23T12:10:07.877477Z",
     "iopub.status.busy": "2024-01-23T12:10:07.876985Z",
     "iopub.status.idle": "2024-01-23T12:10:07.939870Z",
     "shell.execute_reply": "2024-01-23T12:10:07.938397Z"
    },
    "papermill": {
     "duration": 0.096331,
     "end_time": "2024-01-23T12:10:07.942782",
     "exception": false,
     "start_time": "2024-01-23T12:10:07.846451",
     "status": "completed"
    },
    "tags": []
   },
   "outputs": [],
   "source": [
    "# model = SelectFromModel(fsel, prefit=True)\n",
    "\n",
    "X_train_string = data_string\n",
    "X_test_string = df_3000_string.drop(['malicious','packed'], axis=1)\n",
    "\n",
    "data_string = data_string.loc[:, (data_string != 0).any(axis=0)]\n",
    "x_train_string = data_string\n",
    "X_test_string = df_3000_string.drop(['malicious','packed'], axis=1)\n",
    "y_train_string = y\n",
    "y_test_string = df_3000_string['malicious'].values"
   ]
  },
  {
   "cell_type": "code",
   "execution_count": 44,
   "id": "6ddeb82c",
   "metadata": {
    "execution": {
     "iopub.execute_input": "2024-01-23T12:10:08.002105Z",
     "iopub.status.busy": "2024-01-23T12:10:08.001619Z",
     "iopub.status.idle": "2024-01-23T12:10:18.120516Z",
     "shell.execute_reply": "2024-01-23T12:10:18.119148Z"
    },
    "papermill": {
     "duration": 10.151732,
     "end_time": "2024-01-23T12:10:18.123318",
     "exception": false,
     "start_time": "2024-01-23T12:10:07.971586",
     "status": "completed"
    },
    "tags": []
   },
   "outputs": [
    {
     "name": "stdout",
     "output_type": "stream",
     "text": [
      "The accuracy of the Random Forests model is :\t 0.7592592592592593\n"
     ]
    }
   ],
   "source": [
    "# Random Forest\n",
    "from sklearn.ensemble import RandomForestClassifier\n",
    "from sklearn import metrics\n",
    "\n",
    "random_forest = RandomForestClassifier(n_estimators=100, random_state=17)\n",
    "random_forest.fit(X_train_string, y_train_string)\n",
    "random_forest_preds = random_forest.predict(X_test_string)\n",
    "print('The accuracy of the Random Forests model is :\\t',metrics.accuracy_score(random_forest_preds,y_test_string))"
   ]
  },
  {
   "cell_type": "markdown",
   "id": "563bf567",
   "metadata": {
    "papermill": {
     "duration": 0.027627,
     "end_time": "2024-01-23T12:10:18.179347",
     "exception": false,
     "start_time": "2024-01-23T12:10:18.151720",
     "status": "completed"
    },
    "tags": []
   },
   "source": [
    "# **api features**"
   ]
  },
  {
   "cell_type": "code",
   "execution_count": 45,
   "id": "aaa319fe",
   "metadata": {
    "execution": {
     "iopub.execute_input": "2024-01-23T12:10:18.237450Z",
     "iopub.status.busy": "2024-01-23T12:10:18.236994Z",
     "iopub.status.idle": "2024-01-23T12:10:20.505167Z",
     "shell.execute_reply": "2024-01-23T12:10:20.503714Z"
    },
    "papermill": {
     "duration": 2.300735,
     "end_time": "2024-01-23T12:10:20.508304",
     "exception": false,
     "start_time": "2024-01-23T12:10:18.207569",
     "status": "completed"
    },
    "tags": []
   },
   "outputs": [],
   "source": [
    "telock = pd.read_pickle('/kaggle/input/packer-balance-pickle/telock_balance.pickle')\n",
    "telock = telock.drop(['sample_sha1','benign','unpacked_sample_sha1','unpacked_sample_id'], axis=1)\n",
    "telock = telock.drop(['benign_vt','malicious_vt'], axis=1)\n",
    "string_columns = telock.select_dtypes(include=['object']).columns\n",
    "telock = telock.drop(string_columns, axis=1)"
   ]
  },
  {
   "cell_type": "code",
   "execution_count": 46,
   "id": "358ff091",
   "metadata": {
    "execution": {
     "iopub.execute_input": "2024-01-23T12:10:20.566678Z",
     "iopub.status.busy": "2024-01-23T12:10:20.566227Z",
     "iopub.status.idle": "2024-01-23T12:10:22.602896Z",
     "shell.execute_reply": "2024-01-23T12:10:22.601402Z"
    },
    "papermill": {
     "duration": 2.069324,
     "end_time": "2024-01-23T12:10:22.606061",
     "exception": false,
     "start_time": "2024-01-23T12:10:20.536737",
     "status": "completed"
    },
    "tags": []
   },
   "outputs": [
    {
     "name": "stdout",
     "output_type": "stream",
     "text": [
      "removing 13000 features\n",
      "removing 2500 features\n",
      "removing 2 features\n",
      "removing 16900 features\n",
      "removing 66 features\n",
      "removing 4306 features\n",
      "removing 550 features\n",
      "removing 29 features\n"
     ]
    }
   ],
   "source": [
    "api = remove_cols(telock, [c for c in cols if c.startswith('ngram_')])\n",
    "api = remove_cols(telock, [c for c in cols if c.startswith('opcode_')])\n",
    "api = remove_cols(telock, [c for c in cols if c.startswith('generic_')])\n",
    "api = remove_cols(telock, [c for c in cols if c.startswith('string_')])\n",
    "api = remove_cols(telock, [c for c in cols if c.startswith('rich_')])\n",
    "# api = remove_cols(telock, [c for c in cols if c.startswith('imp_') or 'api_import_nb' == c])\n",
    "api = remove_cols(telock, [c for c in cols if c.endswith('.dll') or 'dll_import_nb' == c])\n",
    "api = remove_cols(telock, [c for c in cols if c.startswith('pesection')])\n",
    "api = remove_cols(telock, [c for c in cols if c.startswith('header_')])"
   ]
  },
  {
   "cell_type": "code",
   "execution_count": 47,
   "id": "48d56f73",
   "metadata": {
    "execution": {
     "iopub.execute_input": "2024-01-23T12:10:22.664884Z",
     "iopub.status.busy": "2024-01-23T12:10:22.664409Z",
     "iopub.status.idle": "2024-01-23T12:10:23.144489Z",
     "shell.execute_reply": "2024-01-23T12:10:23.143245Z"
    },
    "papermill": {
     "duration": 0.512743,
     "end_time": "2024-01-23T12:10:23.147361",
     "exception": false,
     "start_time": "2024-01-23T12:10:22.634618",
     "status": "completed"
    },
    "tags": []
   },
   "outputs": [],
   "source": [
    "df_7000_api = api.sample(n=7000, random_state=102)\n",
    "df_3000_api = api.drop(df_7000.index)\n",
    "data_api = df_7000_api.sample(n=3500, random_state=102)"
   ]
  },
  {
   "cell_type": "code",
   "execution_count": 48,
   "id": "8dc3e197",
   "metadata": {
    "execution": {
     "iopub.execute_input": "2024-01-23T12:10:23.210097Z",
     "iopub.status.busy": "2024-01-23T12:10:23.208787Z",
     "iopub.status.idle": "2024-01-23T12:10:23.955281Z",
     "shell.execute_reply": "2024-01-23T12:10:23.953797Z"
    },
    "papermill": {
     "duration": 0.780145,
     "end_time": "2024-01-23T12:10:23.958360",
     "exception": false,
     "start_time": "2024-01-23T12:10:23.178215",
     "status": "completed"
    },
    "tags": []
   },
   "outputs": [
    {
     "name": "stdout",
     "output_type": "stream",
     "text": [
      "Packed Malware: 2995 samples\n",
      "Packed Benign: 505 samples\n",
      "Total TRAIN set: 3500 samples\n",
      "Packed Malware: 505 samples\n",
      "Packed Benign: 505 samples\n",
      "Total TRAIN set: 1010 samples\n",
      "Packed Malware: 432 samples\n",
      "Packed Benign: 432 samples\n",
      "Total TEST set: 864 samples\n"
     ]
    }
   ],
   "source": [
    "#Kiểm tra số lượng mẫu\n",
    "PM = data_api[(data_api['malicious'] == True) & (data_api['packed'] == True)].shape[0]\n",
    "PB = data_api[(data_api['malicious'] == False) & (data_api['packed'] == True)].shape[0]\n",
    "print('Packed Malware: %i samples' % PM)\n",
    "print('Packed Benign: %i samples' % PB)\n",
    "print('Total TRAIN set: %i samples'% (PM+PB))\n",
    "\n",
    "#Chia tỉ lệ 50 - 50\n",
    "data_PM_api = data_api[(data_api['malicious'] == True) & (data_api['packed'] == True)].sample(n=(PM-PB), random_state=102)\n",
    "data_api = data_api.drop(data_PM_api.index)\n",
    "      \n",
    "#Số lượng tập train\n",
    "PM = data_api[(data_api['malicious'] == True) & (data_api['packed'] == True)].shape[0]\n",
    "PB = data_api[(data_api['malicious'] == False) & (data_api['packed'] == True)].shape[0]\n",
    "print('Packed Malware: %i samples' % PM)\n",
    "print('Packed Benign: %i samples' % PB)\n",
    "print('Total TRAIN set: %i samples'% (PM+PB))\n",
    "\n",
    "#Xử lý tập train\n",
    "y = data_api['malicious'].values\n",
    "data_api = data_api.drop(['malicious','packed'], axis=1)\n",
    "\n",
    "PM = df_3000_api[(df_3000_api['malicious'] == True) & (df_3000_api['packed'] == True)].shape[0]\n",
    "PB = df_3000_api[(df_3000_api['malicious'] == False) & (df_3000_api['packed'] == True)].shape[0]\n",
    "\n",
    "df_3000_PM_api = df_3000_api[(df_3000_api['malicious'] == True) & (df_3000_api['packed'] == True)].sample(n=(PM-PB), random_state=102)\n",
    "df_3000_api = df_3000_api.drop(df_3000_PM_api.index)\n",
    "\n",
    "PM = df_3000_api[(df_3000_api['malicious'] == True) & (df_3000_api['packed'] == True)].shape[0]\n",
    "PB = df_3000_api[(df_3000_api['malicious'] == False) & (df_3000_api['packed'] == True)].shape[0]\n",
    "\n",
    "print('Packed Malware: %i samples' % PM)\n",
    "print('Packed Benign: %i samples' % PB)\n",
    "print('Total TEST set: %i samples'% (PM+PB))"
   ]
  },
  {
   "cell_type": "code",
   "execution_count": 49,
   "id": "b80f58b8",
   "metadata": {
    "execution": {
     "iopub.execute_input": "2024-01-23T12:10:24.018096Z",
     "iopub.status.busy": "2024-01-23T12:10:24.017559Z",
     "iopub.status.idle": "2024-01-23T12:10:24.121676Z",
     "shell.execute_reply": "2024-01-23T12:10:24.120281Z"
    },
    "papermill": {
     "duration": 0.137954,
     "end_time": "2024-01-23T12:10:24.124487",
     "exception": false,
     "start_time": "2024-01-23T12:10:23.986533",
     "status": "completed"
    },
    "tags": []
   },
   "outputs": [],
   "source": [
    "# model = SelectFromModel(fsel, prefit=True)\n",
    "\n",
    "X_train_api = data_api\n",
    "X_test_api = df_3000_api.drop(['malicious','packed'], axis=1)\n",
    "\n",
    "data_api = data_api.loc[:, (data_api != 0).any(axis=0)]\n",
    "x_train_api = data_api\n",
    "X_test_api = df_3000_api.drop(['malicious','packed'], axis=1)\n",
    "y_train_api = y\n",
    "y_test_api = df_3000_api['malicious'].values"
   ]
  },
  {
   "cell_type": "code",
   "execution_count": 50,
   "id": "1c9941e3",
   "metadata": {
    "execution": {
     "iopub.execute_input": "2024-01-23T12:10:24.184753Z",
     "iopub.status.busy": "2024-01-23T12:10:24.184282Z",
     "iopub.status.idle": "2024-01-23T12:10:32.768360Z",
     "shell.execute_reply": "2024-01-23T12:10:32.766737Z"
    },
    "papermill": {
     "duration": 8.618766,
     "end_time": "2024-01-23T12:10:32.771385",
     "exception": false,
     "start_time": "2024-01-23T12:10:24.152619",
     "status": "completed"
    },
    "tags": []
   },
   "outputs": [
    {
     "name": "stdout",
     "output_type": "stream",
     "text": [
      "The accuracy of the Random Forests model is :\t 0.5706018518518519\n"
     ]
    }
   ],
   "source": [
    "# Random Forest\n",
    "from sklearn.ensemble import RandomForestClassifier\n",
    "from sklearn import metrics\n",
    "\n",
    "random_forest = RandomForestClassifier(n_estimators=100, random_state=17)\n",
    "random_forest.fit(X_train_api, y_train_api)\n",
    "random_forest_preds = random_forest.predict(X_test_api)\n",
    "print('The accuracy of the Random Forests model is :\\t',metrics.accuracy_score(random_forest_preds,y_test_api))"
   ]
  },
  {
   "cell_type": "markdown",
   "id": "5b26603e",
   "metadata": {
    "papermill": {
     "duration": 0.028656,
     "end_time": "2024-01-23T12:10:32.829571",
     "exception": false,
     "start_time": "2024-01-23T12:10:32.800915",
     "status": "completed"
    },
    "tags": []
   },
   "source": [
    "# **dll features**"
   ]
  },
  {
   "cell_type": "code",
   "execution_count": 51,
   "id": "14bd3132",
   "metadata": {
    "execution": {
     "iopub.execute_input": "2024-01-23T12:10:32.890582Z",
     "iopub.status.busy": "2024-01-23T12:10:32.890131Z",
     "iopub.status.idle": "2024-01-23T12:10:35.154580Z",
     "shell.execute_reply": "2024-01-23T12:10:35.153179Z"
    },
    "papermill": {
     "duration": 2.299293,
     "end_time": "2024-01-23T12:10:35.157909",
     "exception": false,
     "start_time": "2024-01-23T12:10:32.858616",
     "status": "completed"
    },
    "tags": []
   },
   "outputs": [],
   "source": [
    "telock = pd.read_pickle('/kaggle/input/packer-balance-pickle/telock_balance.pickle')\n",
    "telock = telock.drop(['sample_sha1','benign','unpacked_sample_sha1','unpacked_sample_id'], axis=1)\n",
    "telock = telock.drop(['benign_vt','malicious_vt'], axis=1)\n",
    "string_columns = telock.select_dtypes(include=['object']).columns\n",
    "telock = telock.drop(string_columns, axis=1)"
   ]
  },
  {
   "cell_type": "code",
   "execution_count": 52,
   "id": "004a6f27",
   "metadata": {
    "execution": {
     "iopub.execute_input": "2024-01-23T12:10:35.221116Z",
     "iopub.status.busy": "2024-01-23T12:10:35.219944Z",
     "iopub.status.idle": "2024-01-23T12:10:36.675872Z",
     "shell.execute_reply": "2024-01-23T12:10:36.674534Z"
    },
    "papermill": {
     "duration": 1.490539,
     "end_time": "2024-01-23T12:10:36.678398",
     "exception": false,
     "start_time": "2024-01-23T12:10:35.187859",
     "status": "completed"
    },
    "tags": []
   },
   "outputs": [
    {
     "name": "stdout",
     "output_type": "stream",
     "text": [
      "removing 13000 features\n",
      "removing 2500 features\n",
      "removing 2 features\n",
      "removing 16900 features\n",
      "removing 66 features\n",
      "removing 19169 features\n",
      "removing 550 features\n",
      "removing 29 features\n"
     ]
    }
   ],
   "source": [
    "dll = remove_cols(telock, [c for c in cols if c.startswith('ngram_')])\n",
    "dll = remove_cols(telock, [c for c in cols if c.startswith('opcode_')])\n",
    "dll = remove_cols(telock, [c for c in cols if c.startswith('generic_')])\n",
    "dll = remove_cols(telock, [c for c in cols if c.startswith('string_')])\n",
    "dll = remove_cols(telock, [c for c in cols if c.startswith('rich_')])\n",
    "dll = remove_cols(telock, [c for c in cols if c.startswith('imp_') or 'api_import_nb' == c])\n",
    "# api = remove_cols(telock, [c for c in cols if c.endswith('.dll') or 'dll_import_nb' == c])\n",
    "dll = remove_cols(telock, [c for c in cols if c.startswith('pesection')])\n",
    "dll = remove_cols(telock, [c for c in cols if c.startswith('header_')])"
   ]
  },
  {
   "cell_type": "code",
   "execution_count": 53,
   "id": "9af4b923",
   "metadata": {
    "execution": {
     "iopub.execute_input": "2024-01-23T12:10:36.738343Z",
     "iopub.status.busy": "2024-01-23T12:10:36.737830Z",
     "iopub.status.idle": "2024-01-23T12:10:36.852673Z",
     "shell.execute_reply": "2024-01-23T12:10:36.851192Z"
    },
    "papermill": {
     "duration": 0.148197,
     "end_time": "2024-01-23T12:10:36.855526",
     "exception": false,
     "start_time": "2024-01-23T12:10:36.707329",
     "status": "completed"
    },
    "tags": []
   },
   "outputs": [],
   "source": [
    "df_7000_dll = dll.sample(n=7000, random_state=102)\n",
    "df_3000_dll = dll.drop(df_7000.index)\n",
    "data_dll = df_7000_dll.sample(n=3500, random_state=102)"
   ]
  },
  {
   "cell_type": "code",
   "execution_count": 54,
   "id": "4b27791f",
   "metadata": {
    "execution": {
     "iopub.execute_input": "2024-01-23T12:10:36.916134Z",
     "iopub.status.busy": "2024-01-23T12:10:36.915617Z",
     "iopub.status.idle": "2024-01-23T12:10:37.149356Z",
     "shell.execute_reply": "2024-01-23T12:10:37.147802Z"
    },
    "papermill": {
     "duration": 0.267208,
     "end_time": "2024-01-23T12:10:37.152377",
     "exception": false,
     "start_time": "2024-01-23T12:10:36.885169",
     "status": "completed"
    },
    "tags": []
   },
   "outputs": [
    {
     "name": "stdout",
     "output_type": "stream",
     "text": [
      "Packed Malware: 2995 samples\n",
      "Packed Benign: 505 samples\n",
      "Total TRAIN set: 3500 samples\n",
      "Packed Malware: 505 samples\n",
      "Packed Benign: 505 samples\n",
      "Total TRAIN set: 1010 samples\n",
      "Packed Malware: 432 samples\n",
      "Packed Benign: 432 samples\n",
      "Total TEST set: 864 samples\n"
     ]
    }
   ],
   "source": [
    "#Kiểm tra số lượng mẫu\n",
    "PM = data_dll[(data_dll['malicious'] == True) & (data_dll['packed'] == True)].shape[0]\n",
    "PB = data_dll[(data_dll['malicious'] == False) & (data_dll['packed'] == True)].shape[0]\n",
    "print('Packed Malware: %i samples' % PM)\n",
    "print('Packed Benign: %i samples' % PB)\n",
    "print('Total TRAIN set: %i samples'% (PM+PB))\n",
    "\n",
    "#Chia tỉ lệ 50 - 50\n",
    "data_PM_dll = data_dll[(data_dll['malicious'] == True) & (data_dll['packed'] == True)].sample(n=(PM-PB), random_state=102)\n",
    "data_dll = data_dll.drop(data_PM_dll.index)\n",
    "      \n",
    "#Số lượng tập train\n",
    "PM = data_dll[(data_dll['malicious'] == True) & (data_dll['packed'] == True)].shape[0]\n",
    "PB = data_dll[(data_dll['malicious'] == False) & (data_dll['packed'] == True)].shape[0]\n",
    "print('Packed Malware: %i samples' % PM)\n",
    "print('Packed Benign: %i samples' % PB)\n",
    "print('Total TRAIN set: %i samples'% (PM+PB))\n",
    "\n",
    "#Xử lý tập train\n",
    "y = data_dll['malicious'].values\n",
    "data_dll = data_dll.drop(['malicious','packed'], axis=1)\n",
    "\n",
    "PM = df_3000_dll[(df_3000_dll['malicious'] == True) & (df_3000_dll['packed'] == True)].shape[0]\n",
    "PB = df_3000_dll[(df_3000_dll['malicious'] == False) & (df_3000_dll['packed'] == True)].shape[0]\n",
    "\n",
    "df_3000_PM_dll = df_3000_dll[(df_3000_dll['malicious'] == True) & (df_3000_dll['packed'] == True)].sample(n=(PM-PB), random_state=102)\n",
    "df_3000_dll = df_3000_dll.drop(df_3000_PM_dll.index)\n",
    "\n",
    "PM = df_3000_dll[(df_3000_dll['malicious'] == True) & (df_3000_dll['packed'] == True)].shape[0]\n",
    "PB = df_3000_dll[(df_3000_dll['malicious'] == False) & (df_3000_dll['packed'] == True)].shape[0]\n",
    "\n",
    "print('Packed Malware: %i samples' % PM)\n",
    "print('Packed Benign: %i samples' % PB)\n",
    "print('Total TEST set: %i samples'% (PM+PB))"
   ]
  },
  {
   "cell_type": "code",
   "execution_count": 55,
   "id": "0e149f0e",
   "metadata": {
    "execution": {
     "iopub.execute_input": "2024-01-23T12:10:37.214065Z",
     "iopub.status.busy": "2024-01-23T12:10:37.213573Z",
     "iopub.status.idle": "2024-01-23T12:10:37.258103Z",
     "shell.execute_reply": "2024-01-23T12:10:37.256950Z"
    },
    "papermill": {
     "duration": 0.078812,
     "end_time": "2024-01-23T12:10:37.261129",
     "exception": false,
     "start_time": "2024-01-23T12:10:37.182317",
     "status": "completed"
    },
    "tags": []
   },
   "outputs": [],
   "source": [
    "# model = SelectFromModel(fsel, prefit=True)\n",
    "\n",
    "X_train_dll = data_dll\n",
    "X_test_dll = df_3000_dll.drop(['malicious','packed'], axis=1)\n",
    "\n",
    "data_dll = data_dll.loc[:, (data_dll != 0).any(axis=0)]\n",
    "x_train_dll = data_dll\n",
    "X_test_dll = df_3000_dll.drop(['malicious','packed'], axis=1)\n",
    "y_train_dll = y\n",
    "y_test_dll = df_3000_dll['malicious'].values"
   ]
  },
  {
   "cell_type": "code",
   "execution_count": 56,
   "id": "2d486ad1",
   "metadata": {
    "execution": {
     "iopub.execute_input": "2024-01-23T12:10:37.324562Z",
     "iopub.status.busy": "2024-01-23T12:10:37.323777Z",
     "iopub.status.idle": "2024-01-23T12:10:39.434726Z",
     "shell.execute_reply": "2024-01-23T12:10:39.433560Z"
    },
    "papermill": {
     "duration": 2.145704,
     "end_time": "2024-01-23T12:10:39.437245",
     "exception": false,
     "start_time": "2024-01-23T12:10:37.291541",
     "status": "completed"
    },
    "tags": []
   },
   "outputs": [
    {
     "name": "stdout",
     "output_type": "stream",
     "text": [
      "The accuracy of the Random Forests model is :\t 0.5706018518518519\n"
     ]
    }
   ],
   "source": [
    "# Random Forest\n",
    "from sklearn.ensemble import RandomForestClassifier\n",
    "from sklearn import metrics\n",
    "\n",
    "random_forest = RandomForestClassifier(n_estimators=100, random_state=17)\n",
    "random_forest.fit(X_train_dll, y_train_dll)\n",
    "random_forest_preds = random_forest.predict(X_test_dll)\n",
    "print('The accuracy of the Random Forests model is :\\t',metrics.accuracy_score(random_forest_preds,y_test_dll))"
   ]
  },
  {
   "cell_type": "markdown",
   "id": "af0d85f5",
   "metadata": {
    "papermill": {
     "duration": 0.029194,
     "end_time": "2024-01-23T12:10:39.496485",
     "exception": false,
     "start_time": "2024-01-23T12:10:39.467291",
     "status": "completed"
    },
    "tags": []
   },
   "source": [
    "# **pe sections features**"
   ]
  },
  {
   "cell_type": "code",
   "execution_count": 57,
   "id": "636f73c1",
   "metadata": {
    "execution": {
     "iopub.execute_input": "2024-01-23T12:10:39.559254Z",
     "iopub.status.busy": "2024-01-23T12:10:39.558428Z",
     "iopub.status.idle": "2024-01-23T12:10:41.836953Z",
     "shell.execute_reply": "2024-01-23T12:10:41.835853Z"
    },
    "papermill": {
     "duration": 2.313855,
     "end_time": "2024-01-23T12:10:41.839915",
     "exception": false,
     "start_time": "2024-01-23T12:10:39.526060",
     "status": "completed"
    },
    "tags": []
   },
   "outputs": [],
   "source": [
    "telock = pd.read_pickle('/kaggle/input/packer-balance-pickle/telock_balance.pickle')\n",
    "telock = telock.drop(['sample_sha1','benign','unpacked_sample_sha1','unpacked_sample_id'], axis=1)\n",
    "telock = telock.drop(['benign_vt','malicious_vt'], axis=1)\n",
    "string_columns = telock.select_dtypes(include=['object']).columns\n",
    "telock = telock.drop(string_columns, axis=1)"
   ]
  },
  {
   "cell_type": "code",
   "execution_count": 58,
   "id": "817e0988",
   "metadata": {
    "execution": {
     "iopub.execute_input": "2024-01-23T12:10:41.902584Z",
     "iopub.status.busy": "2024-01-23T12:10:41.901735Z",
     "iopub.status.idle": "2024-01-23T12:10:43.412643Z",
     "shell.execute_reply": "2024-01-23T12:10:43.410868Z"
    },
    "papermill": {
     "duration": 1.545866,
     "end_time": "2024-01-23T12:10:43.415642",
     "exception": false,
     "start_time": "2024-01-23T12:10:41.869776",
     "status": "completed"
    },
    "tags": []
   },
   "outputs": [
    {
     "name": "stdout",
     "output_type": "stream",
     "text": [
      "removing 13000 features\n",
      "removing 2500 features\n",
      "removing 2 features\n",
      "removing 16900 features\n",
      "removing 66 features\n",
      "removing 19169 features\n",
      "removing 4306 features\n",
      "removing 29 features\n"
     ]
    }
   ],
   "source": [
    "pesection = remove_cols(telock, [c for c in cols if c.startswith('ngram_')])\n",
    "pesection = remove_cols(telock, [c for c in cols if c.startswith('opcode_')])\n",
    "pesection = remove_cols(telock, [c for c in cols if c.startswith('generic_')])\n",
    "pesection = remove_cols(telock, [c for c in cols if c.startswith('string_')])\n",
    "pesection = remove_cols(telock, [c for c in cols if c.startswith('rich_')])\n",
    "pesection = remove_cols(telock, [c for c in cols if c.startswith('imp_') or 'api_import_nb' == c])\n",
    "pesection = remove_cols(telock, [c for c in cols if c.endswith('.dll') or 'dll_import_nb' == c])\n",
    "# pesection = remove_cols(telock, [c for c in cols if c.startswith('pesection')])\n",
    "pesection = remove_cols(telock, [c for c in cols if c.startswith('header_')])"
   ]
  },
  {
   "cell_type": "code",
   "execution_count": 59,
   "id": "a5ce3ecd",
   "metadata": {
    "execution": {
     "iopub.execute_input": "2024-01-23T12:10:43.478681Z",
     "iopub.status.busy": "2024-01-23T12:10:43.478229Z",
     "iopub.status.idle": "2024-01-23T12:10:43.537263Z",
     "shell.execute_reply": "2024-01-23T12:10:43.536108Z"
    },
    "papermill": {
     "duration": 0.094024,
     "end_time": "2024-01-23T12:10:43.540523",
     "exception": false,
     "start_time": "2024-01-23T12:10:43.446499",
     "status": "completed"
    },
    "tags": []
   },
   "outputs": [],
   "source": [
    "df_7000_pesection = pesection.sample(n=7000, random_state=102)\n",
    "df_3000_pesection = pesection.drop(df_7000.index)\n",
    "data_pesection = df_7000_pesection.sample(n=3500, random_state=102)"
   ]
  },
  {
   "cell_type": "code",
   "execution_count": 60,
   "id": "1e07d70e",
   "metadata": {
    "execution": {
     "iopub.execute_input": "2024-01-23T12:10:43.603635Z",
     "iopub.status.busy": "2024-01-23T12:10:43.603198Z",
     "iopub.status.idle": "2024-01-23T12:10:43.756246Z",
     "shell.execute_reply": "2024-01-23T12:10:43.755062Z"
    },
    "papermill": {
     "duration": 0.187991,
     "end_time": "2024-01-23T12:10:43.759232",
     "exception": false,
     "start_time": "2024-01-23T12:10:43.571241",
     "status": "completed"
    },
    "tags": []
   },
   "outputs": [
    {
     "name": "stdout",
     "output_type": "stream",
     "text": [
      "Packed Malware: 2995 samples\n",
      "Packed Benign: 505 samples\n",
      "Total TRAIN set: 3500 samples\n",
      "Packed Malware: 505 samples\n",
      "Packed Benign: 505 samples\n",
      "Total TRAIN set: 1010 samples\n",
      "Packed Malware: 432 samples\n",
      "Packed Benign: 432 samples\n",
      "Total TEST set: 864 samples\n"
     ]
    }
   ],
   "source": [
    "#Kiểm tra số lượng mẫu\n",
    "PM = data_pesection[(data_pesection['malicious'] == True) & (data_pesection['packed'] == True)].shape[0]\n",
    "PB = data_pesection[(data_pesection['malicious'] == False) & (data_pesection['packed'] == True)].shape[0]\n",
    "print('Packed Malware: %i samples' % PM)\n",
    "print('Packed Benign: %i samples' % PB)\n",
    "print('Total TRAIN set: %i samples'% (PM+PB))\n",
    "\n",
    "#Chia tỉ lệ 50 - 50\n",
    "data_PM_pesection = data_pesection[(data_pesection['malicious'] == True) & (data_pesection['packed'] == True)].sample(n=(PM-PB), random_state=102)\n",
    "data_pesection = data_pesection.drop(data_PM_pesection.index)\n",
    "      \n",
    "#Số lượng tập train\n",
    "PM = data_pesection[(data_pesection['malicious'] == True) & (data_pesection['packed'] == True)].shape[0]\n",
    "PB = data_pesection[(data_pesection['malicious'] == False) & (data_pesection['packed'] == True)].shape[0]\n",
    "print('Packed Malware: %i samples' % PM)\n",
    "print('Packed Benign: %i samples' % PB)\n",
    "print('Total TRAIN set: %i samples'% (PM+PB))\n",
    "\n",
    "#Xử lý tập train\n",
    "y = data_pesection['malicious'].values\n",
    "data_pesection = data_pesection.drop(['malicious','packed'], axis=1)\n",
    "\n",
    "PM = df_3000_pesection[(df_3000_pesection['malicious'] == True) & (df_3000_pesection['packed'] == True)].shape[0]\n",
    "PB = df_3000_pesection[(df_3000_pesection['malicious'] == False) & (df_3000_pesection['packed'] == True)].shape[0]\n",
    "\n",
    "df_3000_PM_pesection = df_3000_pesection[(df_3000_pesection['malicious'] == True) & (df_3000_pesection['packed'] == True)].sample(n=(PM-PB), random_state=102)\n",
    "df_3000_pesection = df_3000_pesection.drop(df_3000_PM_pesection.index)\n",
    "\n",
    "PM = df_3000_pesection[(df_3000_pesection['malicious'] == True) & (df_3000_pesection['packed'] == True)].shape[0]\n",
    "PB = df_3000_pesection[(df_3000_pesection['malicious'] == False) & (df_3000_pesection['packed'] == True)].shape[0]\n",
    "\n",
    "print('Packed Malware: %i samples' % PM)\n",
    "print('Packed Benign: %i samples' % PB)\n",
    "print('Total TEST set: %i samples'% (PM+PB))"
   ]
  },
  {
   "cell_type": "code",
   "execution_count": 61,
   "id": "62e41200",
   "metadata": {
    "execution": {
     "iopub.execute_input": "2024-01-23T12:10:43.822115Z",
     "iopub.status.busy": "2024-01-23T12:10:43.821693Z",
     "iopub.status.idle": "2024-01-23T12:10:43.863404Z",
     "shell.execute_reply": "2024-01-23T12:10:43.862015Z"
    },
    "papermill": {
     "duration": 0.076843,
     "end_time": "2024-01-23T12:10:43.866537",
     "exception": false,
     "start_time": "2024-01-23T12:10:43.789694",
     "status": "completed"
    },
    "tags": []
   },
   "outputs": [],
   "source": [
    "# model = SelectFromModel(fsel, prefit=True)\n",
    "\n",
    "X_train_pesection = data_pesection\n",
    "X_test_pesection = df_3000_pesection.drop(['malicious','packed'], axis=1)\n",
    "\n",
    "data_pesection = data_pesection.loc[:, (data_pesection != 0).any(axis=0)]\n",
    "x_train_pesection = data_pesection\n",
    "X_test_pesection = df_3000_pesection.drop(['malicious','packed'], axis=1)\n",
    "y_train_pesection = y\n",
    "y_test_pesection = df_3000_pesection['malicious'].values"
   ]
  },
  {
   "cell_type": "code",
   "execution_count": 62,
   "id": "353b1aa5",
   "metadata": {
    "execution": {
     "iopub.execute_input": "2024-01-23T12:10:43.930750Z",
     "iopub.status.busy": "2024-01-23T12:10:43.929597Z",
     "iopub.status.idle": "2024-01-23T12:10:44.434975Z",
     "shell.execute_reply": "2024-01-23T12:10:44.433261Z"
    },
    "papermill": {
     "duration": 0.54013,
     "end_time": "2024-01-23T12:10:44.437602",
     "exception": false,
     "start_time": "2024-01-23T12:10:43.897472",
     "status": "completed"
    },
    "tags": []
   },
   "outputs": [
    {
     "name": "stdout",
     "output_type": "stream",
     "text": [
      "The accuracy of the Random Forests model is :\t 0.8923611111111112\n"
     ]
    }
   ],
   "source": [
    "# Random Forest\n",
    "from sklearn.ensemble import RandomForestClassifier\n",
    "from sklearn import metrics\n",
    "\n",
    "random_forest = RandomForestClassifier(n_estimators=100, random_state=17)\n",
    "random_forest.fit(X_train_pesection, y_train_pesection)\n",
    "random_forest_preds = random_forest.predict(X_test_pesection)\n",
    "print('The accuracy of the Random Forests model is :\\t',metrics.accuracy_score(random_forest_preds,y_test_pesection))"
   ]
  },
  {
   "cell_type": "markdown",
   "id": "f663e7f0",
   "metadata": {
    "papermill": {
     "duration": 0.030079,
     "end_time": "2024-01-23T12:10:44.499715",
     "exception": false,
     "start_time": "2024-01-23T12:10:44.469636",
     "status": "completed"
    },
    "tags": []
   },
   "source": [
    "# **pe header features**"
   ]
  },
  {
   "cell_type": "code",
   "execution_count": 63,
   "id": "dad0d613",
   "metadata": {
    "execution": {
     "iopub.execute_input": "2024-01-23T12:10:44.563008Z",
     "iopub.status.busy": "2024-01-23T12:10:44.562463Z",
     "iopub.status.idle": "2024-01-23T12:10:46.842820Z",
     "shell.execute_reply": "2024-01-23T12:10:46.841459Z"
    },
    "papermill": {
     "duration": 2.316083,
     "end_time": "2024-01-23T12:10:46.845915",
     "exception": false,
     "start_time": "2024-01-23T12:10:44.529832",
     "status": "completed"
    },
    "tags": []
   },
   "outputs": [],
   "source": [
    "telock = pd.read_pickle('/kaggle/input/packer-balance-pickle/telock_balance.pickle')\n",
    "telock = telock.drop(['sample_sha1','benign','unpacked_sample_sha1','unpacked_sample_id'], axis=1)\n",
    "telock = telock.drop(['benign_vt','malicious_vt'], axis=1)\n",
    "string_columns = telock.select_dtypes(include=['object']).columns\n",
    "telock = telock.drop(string_columns, axis=1)"
   ]
  },
  {
   "cell_type": "code",
   "execution_count": 64,
   "id": "9d62d837",
   "metadata": {
    "execution": {
     "iopub.execute_input": "2024-01-23T12:10:46.908912Z",
     "iopub.status.busy": "2024-01-23T12:10:46.908380Z",
     "iopub.status.idle": "2024-01-23T12:10:48.626047Z",
     "shell.execute_reply": "2024-01-23T12:10:48.623882Z"
    },
    "papermill": {
     "duration": 1.752884,
     "end_time": "2024-01-23T12:10:48.628878",
     "exception": false,
     "start_time": "2024-01-23T12:10:46.875994",
     "status": "completed"
    },
    "tags": []
   },
   "outputs": [
    {
     "name": "stdout",
     "output_type": "stream",
     "text": [
      "removing 13000 features\n",
      "removing 2500 features\n",
      "removing 2 features\n",
      "removing 16900 features\n",
      "removing 66 features\n",
      "removing 19169 features\n",
      "removing 4306 features\n",
      "removing 550 features\n"
     ]
    }
   ],
   "source": [
    "header = remove_cols(telock, [c for c in cols if c.startswith('ngram_')])\n",
    "header = remove_cols(telock, [c for c in cols if c.startswith('opcode_')])\n",
    "header = remove_cols(telock, [c for c in cols if c.startswith('generic_')])\n",
    "header = remove_cols(telock, [c for c in cols if c.startswith('string_')])\n",
    "header = remove_cols(telock, [c for c in cols if c.startswith('rich_')])\n",
    "header = remove_cols(telock, [c for c in cols if c.startswith('imp_') or 'api_import_nb' == c])\n",
    "header = remove_cols(telock, [c for c in cols if c.endswith('.dll') or 'dll_import_nb' == c])\n",
    "header = remove_cols(telock, [c for c in cols if c.startswith('pesection')])\n",
    "# header = remove_cols(telock, [c for c in cols if c.startswith('header_')])"
   ]
  },
  {
   "cell_type": "code",
   "execution_count": 65,
   "id": "a1e90f46",
   "metadata": {
    "execution": {
     "iopub.execute_input": "2024-01-23T12:10:48.691430Z",
     "iopub.status.busy": "2024-01-23T12:10:48.690918Z",
     "iopub.status.idle": "2024-01-23T12:10:48.706688Z",
     "shell.execute_reply": "2024-01-23T12:10:48.705466Z"
    },
    "papermill": {
     "duration": 0.05046,
     "end_time": "2024-01-23T12:10:48.709346",
     "exception": false,
     "start_time": "2024-01-23T12:10:48.658886",
     "status": "completed"
    },
    "tags": []
   },
   "outputs": [],
   "source": [
    "df_7000_header = header.sample(n=7000, random_state=102)\n",
    "df_3000_header = header.drop(df_7000.index)\n",
    "data_header = df_7000_header.sample(n=3500, random_state=102)"
   ]
  },
  {
   "cell_type": "code",
   "execution_count": 66,
   "id": "041d1526",
   "metadata": {
    "execution": {
     "iopub.execute_input": "2024-01-23T12:10:48.771555Z",
     "iopub.status.busy": "2024-01-23T12:10:48.771045Z",
     "iopub.status.idle": "2024-01-23T12:10:48.816186Z",
     "shell.execute_reply": "2024-01-23T12:10:48.814153Z"
    },
    "papermill": {
     "duration": 0.07967,
     "end_time": "2024-01-23T12:10:48.818959",
     "exception": false,
     "start_time": "2024-01-23T12:10:48.739289",
     "status": "completed"
    },
    "tags": []
   },
   "outputs": [
    {
     "name": "stdout",
     "output_type": "stream",
     "text": [
      "Packed Malware: 2995 samples\n",
      "Packed Benign: 505 samples\n",
      "Total TRAIN set: 3500 samples\n",
      "Packed Malware: 505 samples\n",
      "Packed Benign: 505 samples\n",
      "Total TRAIN set: 1010 samples\n",
      "Packed Malware: 432 samples\n",
      "Packed Benign: 432 samples\n",
      "Total TEST set: 864 samples\n"
     ]
    }
   ],
   "source": [
    "#Kiểm tra số lượng mẫu\n",
    "PM = data_header[(data_header['malicious'] == True) & (data_header['packed'] == True)].shape[0]\n",
    "PB = data_header[(data_header['malicious'] == False) & (data_header['packed'] == True)].shape[0]\n",
    "print('Packed Malware: %i samples' % PM)\n",
    "print('Packed Benign: %i samples' % PB)\n",
    "print('Total TRAIN set: %i samples'% (PM+PB))\n",
    "\n",
    "#Chia tỉ lệ 50 - 50\n",
    "data_PM_header = data_header[(data_header['malicious'] == True) & (data_header['packed'] == True)].sample(n=(PM-PB), random_state=102)\n",
    "data_header = data_header.drop(data_PM_header.index)\n",
    "      \n",
    "#Số lượng tập train\n",
    "PM = data_header[(data_header['malicious'] == True) & (data_header['packed'] == True)].shape[0]\n",
    "PB = data_header[(data_header['malicious'] == False) & (data_header['packed'] == True)].shape[0]\n",
    "print('Packed Malware: %i samples' % PM)\n",
    "print('Packed Benign: %i samples' % PB)\n",
    "print('Total TRAIN set: %i samples'% (PM+PB))\n",
    "\n",
    "#Xử lý tập train\n",
    "y = data_header['malicious'].values\n",
    "data_header= data_header.drop(['malicious','packed'], axis=1)\n",
    "\n",
    "PM = df_3000_header[(df_3000_header['malicious'] == True) & (df_3000_header['packed'] == True)].shape[0]\n",
    "PB = df_3000_header[(df_3000_header['malicious'] == False) & (df_3000_header['packed'] == True)].shape[0]\n",
    "\n",
    "df_3000_PM_header = df_3000_header[(df_3000_header['malicious'] == True) & (df_3000_header['packed'] == True)].sample(n=(PM-PB), random_state=102)\n",
    "df_3000_header= df_3000_header.drop(df_3000_PM_header.index)\n",
    "\n",
    "PM = df_3000_header[(df_3000_header['malicious'] == True) & (df_3000_header['packed'] == True)].shape[0]\n",
    "PB = df_3000_header[(df_3000_header['malicious'] == False) & (df_3000_header['packed'] == True)].shape[0]\n",
    "\n",
    "print('Packed Malware: %i samples' % PM)\n",
    "print('Packed Benign: %i samples' % PB)\n",
    "print('Total TEST set: %i samples'% (PM+PB))"
   ]
  },
  {
   "cell_type": "code",
   "execution_count": 67,
   "id": "1f371ff3",
   "metadata": {
    "execution": {
     "iopub.execute_input": "2024-01-23T12:10:48.888391Z",
     "iopub.status.busy": "2024-01-23T12:10:48.887976Z",
     "iopub.status.idle": "2024-01-23T12:10:48.902236Z",
     "shell.execute_reply": "2024-01-23T12:10:48.900905Z"
    },
    "papermill": {
     "duration": 0.055474,
     "end_time": "2024-01-23T12:10:48.904532",
     "exception": false,
     "start_time": "2024-01-23T12:10:48.849058",
     "status": "completed"
    },
    "tags": []
   },
   "outputs": [],
   "source": [
    "# model = SelectFromModel(fsel, prefit=True)\n",
    "\n",
    "X_train_header = data_header\n",
    "X_test_header = df_3000_header.drop(['malicious','packed'], axis=1)\n",
    "\n",
    "data_header = data_header.loc[:, (data_header != 0).any(axis=0)]\n",
    "x_train_header = data_header\n",
    "X_test_header = df_3000_header.drop(['malicious','packed'], axis=1)\n",
    "y_train_header = y\n",
    "y_test_header = df_3000_header['malicious'].values"
   ]
  },
  {
   "cell_type": "code",
   "execution_count": 68,
   "id": "f2a61b4b",
   "metadata": {
    "execution": {
     "iopub.execute_input": "2024-01-23T12:10:48.967765Z",
     "iopub.status.busy": "2024-01-23T12:10:48.967311Z",
     "iopub.status.idle": "2024-01-23T12:10:49.337106Z",
     "shell.execute_reply": "2024-01-23T12:10:49.335796Z"
    },
    "papermill": {
     "duration": 0.405097,
     "end_time": "2024-01-23T12:10:49.339937",
     "exception": false,
     "start_time": "2024-01-23T12:10:48.934840",
     "status": "completed"
    },
    "tags": []
   },
   "outputs": [
    {
     "name": "stdout",
     "output_type": "stream",
     "text": [
      "The accuracy of the Random Forests model is :\t 0.8645833333333334\n"
     ]
    }
   ],
   "source": [
    "# Random Forest\n",
    "from sklearn.ensemble import RandomForestClassifier\n",
    "from sklearn import metrics\n",
    "\n",
    "random_forest = RandomForestClassifier(n_estimators=100, random_state=17)\n",
    "random_forest.fit(X_train_header, y_train_header)\n",
    "random_forest_preds = random_forest.predict(X_test_header)\n",
    "print('The accuracy of the Random Forests model is :\\t',metrics.accuracy_score(random_forest_preds,y_test_header))"
   ]
  }
 ],
 "metadata": {
  "kaggle": {
   "accelerator": "none",
   "dataSources": [
    {
     "datasetId": 4192384,
     "sourceId": 7262652,
     "sourceType": "datasetVersion"
    }
   ],
   "dockerImageVersionId": 30626,
   "isGpuEnabled": false,
   "isInternetEnabled": true,
   "language": "python",
   "sourceType": "notebook"
  },
  "kernelspec": {
   "display_name": "Python 3",
   "language": "python",
   "name": "python3"
  },
  "language_info": {
   "codemirror_mode": {
    "name": "ipython",
    "version": 3
   },
   "file_extension": ".py",
   "mimetype": "text/x-python",
   "name": "python",
   "nbconvert_exporter": "python",
   "pygments_lexer": "ipython3",
   "version": "3.10.12"
  },
  "papermill": {
   "default_parameters": {},
   "duration": 88.946249,
   "end_time": "2024-01-23T12:10:50.495311",
   "environment_variables": {},
   "exception": null,
   "input_path": "__notebook__.ipynb",
   "output_path": "__notebook__.ipynb",
   "parameters": {},
   "start_time": "2024-01-23T12:09:21.549062",
   "version": "2.4.0"
  }
 },
 "nbformat": 4,
 "nbformat_minor": 5
}
