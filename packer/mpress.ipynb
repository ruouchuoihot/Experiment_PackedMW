{
 "cells": [
  {
   "cell_type": "code",
   "execution_count": 1,
   "id": "b6438850",
   "metadata": {
    "execution": {
     "iopub.execute_input": "2024-01-23T12:09:24.472783Z",
     "iopub.status.busy": "2024-01-23T12:09:24.472223Z",
     "iopub.status.idle": "2024-01-23T12:09:27.560871Z",
     "shell.execute_reply": "2024-01-23T12:09:27.559675Z"
    },
    "papermill": {
     "duration": 3.11782,
     "end_time": "2024-01-23T12:09:27.563936",
     "exception": false,
     "start_time": "2024-01-23T12:09:24.446116",
     "status": "completed"
    },
    "tags": []
   },
   "outputs": [],
   "source": [
    "import pandas as pd\n",
    "import numpy as np\n",
    "import sklearn\n",
    "import sklearn.naive_bayes\n",
    "import sklearn.ensemble as ske\n",
    "import sklearn.neighbors\n",
    "import sklearn.pipeline\n",
    "import sklearn.linear_model\n",
    "import joblib\n",
    "from sklearn import preprocessing\n",
    "from sklearn import tree, linear_model\n",
    "from sklearn.metrics import confusion_matrix\n",
    "from sklearn.metrics import classification_report\n",
    "from sklearn.feature_selection import SelectFromModel\n",
    "import sys\n",
    "import sqlite3\n",
    "import importlib\n",
    "import matplotlib.pyplot as plt\n",
    "import seaborn as sn\n",
    "from sklearn import metrics"
   ]
  },
  {
   "cell_type": "code",
   "execution_count": 2,
   "id": "54c56a7b",
   "metadata": {
    "execution": {
     "iopub.execute_input": "2024-01-23T12:09:27.613323Z",
     "iopub.status.busy": "2024-01-23T12:09:27.612794Z",
     "iopub.status.idle": "2024-01-23T12:09:32.553033Z",
     "shell.execute_reply": "2024-01-23T12:09:32.551898Z"
    },
    "papermill": {
     "duration": 4.967973,
     "end_time": "2024-01-23T12:09:32.556274",
     "exception": false,
     "start_time": "2024-01-23T12:09:27.588301",
     "status": "completed"
    },
    "tags": []
   },
   "outputs": [],
   "source": [
    "mpress = pd.read_pickle('/kaggle/input/packer-balance-pickle/mpress_balance.pickle')"
   ]
  },
  {
   "cell_type": "code",
   "execution_count": 3,
   "id": "d5470934",
   "metadata": {
    "execution": {
     "iopub.execute_input": "2024-01-23T12:09:32.608481Z",
     "iopub.status.busy": "2024-01-23T12:09:32.608071Z",
     "iopub.status.idle": "2024-01-23T12:09:33.677380Z",
     "shell.execute_reply": "2024-01-23T12:09:33.676193Z"
    },
    "papermill": {
     "duration": 1.098599,
     "end_time": "2024-01-23T12:09:33.680616",
     "exception": false,
     "start_time": "2024-01-23T12:09:32.582017",
     "status": "completed"
    },
    "tags": []
   },
   "outputs": [],
   "source": [
    "mpress = mpress.drop(['sample_sha1','benign','unpacked_sample_sha1','unpacked_sample_id'], axis=1)\n",
    "mpress = mpress.drop(['benign_vt','malicious_vt'], axis=1)"
   ]
  },
  {
   "cell_type": "code",
   "execution_count": 4,
   "id": "f17d47a9",
   "metadata": {
    "execution": {
     "iopub.execute_input": "2024-01-23T12:09:33.731143Z",
     "iopub.status.busy": "2024-01-23T12:09:33.730754Z",
     "iopub.status.idle": "2024-01-23T12:09:34.073743Z",
     "shell.execute_reply": "2024-01-23T12:09:34.072532Z"
    },
    "papermill": {
     "duration": 0.372959,
     "end_time": "2024-01-23T12:09:34.076865",
     "exception": false,
     "start_time": "2024-01-23T12:09:33.703906",
     "status": "completed"
    },
    "tags": []
   },
   "outputs": [],
   "source": [
    "string_columns = mpress.select_dtypes(include=['object']).columns\n",
    "mpress = mpress.drop(string_columns, axis=1)"
   ]
  },
  {
   "cell_type": "code",
   "execution_count": 5,
   "id": "3987c214",
   "metadata": {
    "execution": {
     "iopub.execute_input": "2024-01-23T12:09:34.126310Z",
     "iopub.status.busy": "2024-01-23T12:09:34.125914Z",
     "iopub.status.idle": "2024-01-23T12:09:34.177783Z",
     "shell.execute_reply": "2024-01-23T12:09:34.176605Z"
    },
    "papermill": {
     "duration": 0.079725,
     "end_time": "2024-01-23T12:09:34.180712",
     "exception": false,
     "start_time": "2024-01-23T12:09:34.100987",
     "status": "completed"
    },
    "tags": []
   },
   "outputs": [
    {
     "data": {
      "text/html": [
       "<div>\n",
       "<style scoped>\n",
       "    .dataframe tbody tr th:only-of-type {\n",
       "        vertical-align: middle;\n",
       "    }\n",
       "\n",
       "    .dataframe tbody tr th {\n",
       "        vertical-align: top;\n",
       "    }\n",
       "\n",
       "    .dataframe thead th {\n",
       "        text-align: right;\n",
       "    }\n",
       "</style>\n",
       "<table border=\"1\" class=\"dataframe\">\n",
       "  <thead>\n",
       "    <tr style=\"text-align: right;\">\n",
       "      <th></th>\n",
       "      <th>malicious</th>\n",
       "      <th>packed</th>\n",
       "      <th>imp_setupremovefilelogentrya</th>\n",
       "      <th>imp_vardeccmp</th>\n",
       "      <th>imp_setdlgitemint</th>\n",
       "      <th>imp_?append@?$basic_string@du?$char_traits@d@std@@v?$allocator@d@2@@std@@qaeaav12@abv12@ii@z</th>\n",
       "      <th>imp_zwwritefile</th>\n",
       "      <th>imp_glstencilop</th>\n",
       "      <th>imp_comparelinkinforeferents</th>\n",
       "      <th>imp__setmbcp</th>\n",
       "      <th>...</th>\n",
       "      <th>opcode_xor sub mov</th>\n",
       "      <th>opcode_xor sub mov add</th>\n",
       "      <th>opcode_xor test</th>\n",
       "      <th>opcode_xor test je</th>\n",
       "      <th>opcode_xor xor</th>\n",
       "      <th>opcode_xor xor mov</th>\n",
       "      <th>opcode_xor xor pop</th>\n",
       "      <th>opcode_xor xor pop mov</th>\n",
       "      <th>opcode_xor xor xor</th>\n",
       "      <th>opcode_xor xor xor pop</th>\n",
       "    </tr>\n",
       "  </thead>\n",
       "  <tbody>\n",
       "    <tr>\n",
       "      <th>0</th>\n",
       "      <td>True</td>\n",
       "      <td>True</td>\n",
       "      <td>False</td>\n",
       "      <td>False</td>\n",
       "      <td>False</td>\n",
       "      <td>False</td>\n",
       "      <td>False</td>\n",
       "      <td>False</td>\n",
       "      <td>False</td>\n",
       "      <td>False</td>\n",
       "      <td>...</td>\n",
       "      <td>0.0</td>\n",
       "      <td>0.0</td>\n",
       "      <td>0.0</td>\n",
       "      <td>0.0</td>\n",
       "      <td>0.0</td>\n",
       "      <td>0.0</td>\n",
       "      <td>0.0</td>\n",
       "      <td>0.0</td>\n",
       "      <td>0.0</td>\n",
       "      <td>0.0</td>\n",
       "    </tr>\n",
       "    <tr>\n",
       "      <th>1</th>\n",
       "      <td>False</td>\n",
       "      <td>True</td>\n",
       "      <td>False</td>\n",
       "      <td>False</td>\n",
       "      <td>False</td>\n",
       "      <td>False</td>\n",
       "      <td>False</td>\n",
       "      <td>False</td>\n",
       "      <td>False</td>\n",
       "      <td>False</td>\n",
       "      <td>...</td>\n",
       "      <td>0.0</td>\n",
       "      <td>0.0</td>\n",
       "      <td>0.0</td>\n",
       "      <td>0.0</td>\n",
       "      <td>0.0</td>\n",
       "      <td>0.0</td>\n",
       "      <td>0.0</td>\n",
       "      <td>0.0</td>\n",
       "      <td>0.0</td>\n",
       "      <td>0.0</td>\n",
       "    </tr>\n",
       "    <tr>\n",
       "      <th>6</th>\n",
       "      <td>False</td>\n",
       "      <td>True</td>\n",
       "      <td>False</td>\n",
       "      <td>False</td>\n",
       "      <td>False</td>\n",
       "      <td>False</td>\n",
       "      <td>False</td>\n",
       "      <td>False</td>\n",
       "      <td>False</td>\n",
       "      <td>False</td>\n",
       "      <td>...</td>\n",
       "      <td>0.0</td>\n",
       "      <td>0.0</td>\n",
       "      <td>0.0</td>\n",
       "      <td>0.0</td>\n",
       "      <td>0.0</td>\n",
       "      <td>0.0</td>\n",
       "      <td>0.0</td>\n",
       "      <td>0.0</td>\n",
       "      <td>0.0</td>\n",
       "      <td>0.0</td>\n",
       "    </tr>\n",
       "    <tr>\n",
       "      <th>8</th>\n",
       "      <td>False</td>\n",
       "      <td>True</td>\n",
       "      <td>False</td>\n",
       "      <td>False</td>\n",
       "      <td>False</td>\n",
       "      <td>False</td>\n",
       "      <td>False</td>\n",
       "      <td>False</td>\n",
       "      <td>False</td>\n",
       "      <td>False</td>\n",
       "      <td>...</td>\n",
       "      <td>0.0</td>\n",
       "      <td>0.0</td>\n",
       "      <td>0.0</td>\n",
       "      <td>0.0</td>\n",
       "      <td>0.0</td>\n",
       "      <td>0.0</td>\n",
       "      <td>0.0</td>\n",
       "      <td>0.0</td>\n",
       "      <td>0.0</td>\n",
       "      <td>0.0</td>\n",
       "    </tr>\n",
       "    <tr>\n",
       "      <th>9</th>\n",
       "      <td>False</td>\n",
       "      <td>True</td>\n",
       "      <td>False</td>\n",
       "      <td>False</td>\n",
       "      <td>False</td>\n",
       "      <td>False</td>\n",
       "      <td>False</td>\n",
       "      <td>False</td>\n",
       "      <td>False</td>\n",
       "      <td>False</td>\n",
       "      <td>...</td>\n",
       "      <td>0.0</td>\n",
       "      <td>0.0</td>\n",
       "      <td>0.0</td>\n",
       "      <td>0.0</td>\n",
       "      <td>0.0</td>\n",
       "      <td>0.0</td>\n",
       "      <td>0.0</td>\n",
       "      <td>0.0</td>\n",
       "      <td>0.0</td>\n",
       "      <td>0.0</td>\n",
       "    </tr>\n",
       "  </tbody>\n",
       "</table>\n",
       "<p>5 rows × 56526 columns</p>\n",
       "</div>"
      ],
      "text/plain": [
       "   malicious  packed  imp_setupremovefilelogentrya  imp_vardeccmp  \\\n",
       "0       True    True                         False          False   \n",
       "1      False    True                         False          False   \n",
       "6      False    True                         False          False   \n",
       "8      False    True                         False          False   \n",
       "9      False    True                         False          False   \n",
       "\n",
       "   imp_setdlgitemint  \\\n",
       "0              False   \n",
       "1              False   \n",
       "6              False   \n",
       "8              False   \n",
       "9              False   \n",
       "\n",
       "   imp_?append@?$basic_string@du?$char_traits@d@std@@v?$allocator@d@2@@std@@qaeaav12@abv12@ii@z  \\\n",
       "0                                              False                                              \n",
       "1                                              False                                              \n",
       "6                                              False                                              \n",
       "8                                              False                                              \n",
       "9                                              False                                              \n",
       "\n",
       "   imp_zwwritefile  imp_glstencilop  imp_comparelinkinforeferents  \\\n",
       "0            False            False                         False   \n",
       "1            False            False                         False   \n",
       "6            False            False                         False   \n",
       "8            False            False                         False   \n",
       "9            False            False                         False   \n",
       "\n",
       "   imp__setmbcp  ...  opcode_xor sub mov  opcode_xor sub mov add  \\\n",
       "0         False  ...                 0.0                     0.0   \n",
       "1         False  ...                 0.0                     0.0   \n",
       "6         False  ...                 0.0                     0.0   \n",
       "8         False  ...                 0.0                     0.0   \n",
       "9         False  ...                 0.0                     0.0   \n",
       "\n",
       "   opcode_xor test  opcode_xor test je  opcode_xor xor  opcode_xor xor mov  \\\n",
       "0              0.0                 0.0             0.0                 0.0   \n",
       "1              0.0                 0.0             0.0                 0.0   \n",
       "6              0.0                 0.0             0.0                 0.0   \n",
       "8              0.0                 0.0             0.0                 0.0   \n",
       "9              0.0                 0.0             0.0                 0.0   \n",
       "\n",
       "   opcode_xor xor pop  opcode_xor xor pop mov  opcode_xor xor xor  \\\n",
       "0                 0.0                     0.0                 0.0   \n",
       "1                 0.0                     0.0                 0.0   \n",
       "6                 0.0                     0.0                 0.0   \n",
       "8                 0.0                     0.0                 0.0   \n",
       "9                 0.0                     0.0                 0.0   \n",
       "\n",
       "   opcode_xor xor xor pop  \n",
       "0                     0.0  \n",
       "1                     0.0  \n",
       "6                     0.0  \n",
       "8                     0.0  \n",
       "9                     0.0  \n",
       "\n",
       "[5 rows x 56526 columns]"
      ]
     },
     "execution_count": 5,
     "metadata": {},
     "output_type": "execute_result"
    }
   ],
   "source": [
    "mpress.head()"
   ]
  },
  {
   "cell_type": "code",
   "execution_count": 6,
   "id": "5ae35627",
   "metadata": {
    "execution": {
     "iopub.execute_input": "2024-01-23T12:09:34.231153Z",
     "iopub.status.busy": "2024-01-23T12:09:34.230753Z",
     "iopub.status.idle": "2024-01-23T12:09:35.130061Z",
     "shell.execute_reply": "2024-01-23T12:09:35.128859Z"
    },
    "papermill": {
     "duration": 0.928318,
     "end_time": "2024-01-23T12:09:35.133300",
     "exception": false,
     "start_time": "2024-01-23T12:09:34.204982",
     "status": "completed"
    },
    "tags": []
   },
   "outputs": [],
   "source": [
    "df_7000 = mpress.sample(n=7000, random_state=102)\n",
    "df_3000 = mpress.drop(df_7000.index)"
   ]
  },
  {
   "cell_type": "code",
   "execution_count": 7,
   "id": "aa2953a3",
   "metadata": {
    "execution": {
     "iopub.execute_input": "2024-01-23T12:09:35.183587Z",
     "iopub.status.busy": "2024-01-23T12:09:35.183164Z",
     "iopub.status.idle": "2024-01-23T12:09:35.691229Z",
     "shell.execute_reply": "2024-01-23T12:09:35.689812Z"
    },
    "papermill": {
     "duration": 0.536733,
     "end_time": "2024-01-23T12:09:35.694560",
     "exception": false,
     "start_time": "2024-01-23T12:09:35.157827",
     "status": "completed"
    },
    "tags": []
   },
   "outputs": [],
   "source": [
    "data = df_7000.sample(n=3500, random_state=102)"
   ]
  },
  {
   "cell_type": "code",
   "execution_count": 8,
   "id": "53c714ed",
   "metadata": {
    "execution": {
     "iopub.execute_input": "2024-01-23T12:09:35.747479Z",
     "iopub.status.busy": "2024-01-23T12:09:35.746993Z",
     "iopub.status.idle": "2024-01-23T12:09:36.165078Z",
     "shell.execute_reply": "2024-01-23T12:09:36.163608Z"
    },
    "papermill": {
     "duration": 0.449479,
     "end_time": "2024-01-23T12:09:36.168204",
     "exception": false,
     "start_time": "2024-01-23T12:09:35.718725",
     "status": "completed"
    },
    "tags": []
   },
   "outputs": [
    {
     "name": "stdout",
     "output_type": "stream",
     "text": [
      "Packed Malware: 1790 samples\n",
      "Packed Benign: 1710 samples\n",
      "Total TRAIN set: 3500 samples\n"
     ]
    }
   ],
   "source": [
    "#Kiểm tra số lượng mẫu\n",
    "PM = data[(data['malicious'] == True) & (data['packed'] == True)].shape[0]\n",
    "PB = data[(data['malicious'] == False) & (data['packed'] == True)].shape[0]\n",
    "print('Packed Malware: %i samples' % PM)\n",
    "print('Packed Benign: %i samples' % PB)\n",
    "print('Total TRAIN set: %i samples'% (PM+PB))"
   ]
  },
  {
   "cell_type": "code",
   "execution_count": 9,
   "id": "766f0416",
   "metadata": {
    "execution": {
     "iopub.execute_input": "2024-01-23T12:09:36.315732Z",
     "iopub.status.busy": "2024-01-23T12:09:36.315303Z",
     "iopub.status.idle": "2024-01-23T12:09:36.814402Z",
     "shell.execute_reply": "2024-01-23T12:09:36.812990Z"
    },
    "papermill": {
     "duration": 0.624146,
     "end_time": "2024-01-23T12:09:36.817641",
     "exception": false,
     "start_time": "2024-01-23T12:09:36.193495",
     "status": "completed"
    },
    "tags": []
   },
   "outputs": [],
   "source": [
    "#Chia tỉ lệ 50 - 50\n",
    "data_PM = data[(data['malicious'] == True) & (data['packed'] == True)].sample(n=(PM-PB), random_state=102)\n",
    "data = data.drop(data_PM.index)"
   ]
  },
  {
   "cell_type": "code",
   "execution_count": 10,
   "id": "72b4a85c",
   "metadata": {
    "execution": {
     "iopub.execute_input": "2024-01-23T12:09:36.870361Z",
     "iopub.status.busy": "2024-01-23T12:09:36.869931Z",
     "iopub.status.idle": "2024-01-23T12:09:37.165796Z",
     "shell.execute_reply": "2024-01-23T12:09:37.163757Z"
    },
    "papermill": {
     "duration": 0.326278,
     "end_time": "2024-01-23T12:09:37.168704",
     "exception": false,
     "start_time": "2024-01-23T12:09:36.842426",
     "status": "completed"
    },
    "tags": []
   },
   "outputs": [
    {
     "name": "stdout",
     "output_type": "stream",
     "text": [
      "Packed Malware: 1710 samples\n",
      "Packed Benign: 1710 samples\n",
      "Total TRAIN set: 3420 samples\n"
     ]
    }
   ],
   "source": [
    "#Số lượng tập train\n",
    "PM = data[(data['malicious'] == True) & (data['packed'] == True)].shape[0]\n",
    "PB = data[(data['malicious'] == False) & (data['packed'] == True)].shape[0]\n",
    "print('Packed Malware: %i samples' % PM)\n",
    "print('Packed Benign: %i samples' % PB)\n",
    "print('Total TRAIN set: %i samples'% (PM+PB))"
   ]
  },
  {
   "cell_type": "code",
   "execution_count": 11,
   "id": "94ce6007",
   "metadata": {
    "execution": {
     "iopub.execute_input": "2024-01-23T12:09:37.221172Z",
     "iopub.status.busy": "2024-01-23T12:09:37.219724Z",
     "iopub.status.idle": "2024-01-23T12:09:37.394052Z",
     "shell.execute_reply": "2024-01-23T12:09:37.392815Z"
    },
    "papermill": {
     "duration": 0.203558,
     "end_time": "2024-01-23T12:09:37.397168",
     "exception": false,
     "start_time": "2024-01-23T12:09:37.193610",
     "status": "completed"
    },
    "tags": []
   },
   "outputs": [],
   "source": [
    "#Xử lý tập train\n",
    "y = data['malicious'].values\n",
    "data = data.drop(['malicious','packed'], axis=1)"
   ]
  },
  {
   "cell_type": "code",
   "execution_count": 12,
   "id": "8190e935",
   "metadata": {
    "execution": {
     "iopub.execute_input": "2024-01-23T12:09:37.447796Z",
     "iopub.status.busy": "2024-01-23T12:09:37.447257Z",
     "iopub.status.idle": "2024-01-23T12:09:38.345113Z",
     "shell.execute_reply": "2024-01-23T12:09:38.343326Z"
    },
    "papermill": {
     "duration": 0.927415,
     "end_time": "2024-01-23T12:09:38.348820",
     "exception": false,
     "start_time": "2024-01-23T12:09:37.421405",
     "status": "completed"
    },
    "tags": []
   },
   "outputs": [
    {
     "name": "stdout",
     "output_type": "stream",
     "text": [
      "Packed Malware: 1477 samples\n",
      "Packed Benign: 1477 samples\n",
      "Total TEST set: 2954 samples\n"
     ]
    }
   ],
   "source": [
    "PM = df_3000[(df_3000['malicious'] == True) & (df_3000['packed'] == True)].shape[0]\n",
    "PB = df_3000[(df_3000['malicious'] == False) & (df_3000['packed'] == True)].shape[0]\n",
    "\n",
    "df_3000_PM = df_3000[(df_3000['malicious'] == True) & (df_3000['packed'] == True)].sample(n=(PM-PB), random_state=102)\n",
    "df_3000 = df_3000.drop(df_3000_PM.index)\n",
    "\n",
    "PM = df_3000[(df_3000['malicious'] == True) & (df_3000['packed'] == True)].shape[0]\n",
    "PB = df_3000[(df_3000['malicious'] == False) & (df_3000['packed'] == True)].shape[0]\n",
    "\n",
    "print('Packed Malware: %i samples' % PM)\n",
    "print('Packed Benign: %i samples' % PB)\n",
    "print('Total TEST set: %i samples'% (PM+PB))"
   ]
  },
  {
   "cell_type": "code",
   "execution_count": 13,
   "id": "5544b328",
   "metadata": {
    "execution": {
     "iopub.execute_input": "2024-01-23T12:09:38.402856Z",
     "iopub.status.busy": "2024-01-23T12:09:38.401503Z",
     "iopub.status.idle": "2024-01-23T12:09:39.050081Z",
     "shell.execute_reply": "2024-01-23T12:09:39.048715Z"
    },
    "papermill": {
     "duration": 0.678455,
     "end_time": "2024-01-23T12:09:39.053008",
     "exception": false,
     "start_time": "2024-01-23T12:09:38.374553",
     "status": "completed"
    },
    "tags": []
   },
   "outputs": [],
   "source": [
    "# model = SelectFromModel(fsel, prefit=True)\n",
    "\n",
    "X_train = data\n",
    "X_test = df_3000.drop(['malicious','packed'], axis=1)\n",
    "\n",
    "data = data.loc[:, (data != 0).any(axis=0)]\n",
    "x_train = data\n",
    "X_test = df_3000.drop(['malicious','packed'], axis=1)\n",
    "y_train = y\n",
    "y_test = df_3000['malicious'].values"
   ]
  },
  {
   "cell_type": "code",
   "execution_count": 14,
   "id": "9c1ee5f3",
   "metadata": {
    "execution": {
     "iopub.execute_input": "2024-01-23T12:09:39.103571Z",
     "iopub.status.busy": "2024-01-23T12:09:39.103064Z",
     "iopub.status.idle": "2024-01-23T12:09:46.936752Z",
     "shell.execute_reply": "2024-01-23T12:09:46.935493Z"
    },
    "papermill": {
     "duration": 7.862066,
     "end_time": "2024-01-23T12:09:46.939446",
     "exception": false,
     "start_time": "2024-01-23T12:09:39.077380",
     "status": "completed"
    },
    "tags": []
   },
   "outputs": [
    {
     "name": "stdout",
     "output_type": "stream",
     "text": [
      "The accuracy of the Random Forests model is :\t 0.9126607989167231\n"
     ]
    }
   ],
   "source": [
    "# Random Forest\n",
    "from sklearn.ensemble import RandomForestClassifier\n",
    "from sklearn import metrics\n",
    "\n",
    "random_forest = RandomForestClassifier(n_estimators=100, random_state=17)\n",
    "random_forest.fit(X_train, y_train)\n",
    "random_forest_preds = random_forest.predict(X_test)\n",
    "print('The accuracy of the Random Forests model is :\\t',metrics.accuracy_score(random_forest_preds,y_test))"
   ]
  },
  {
   "cell_type": "code",
   "execution_count": 15,
   "id": "271dcfc3",
   "metadata": {
    "execution": {
     "iopub.execute_input": "2024-01-23T12:09:47.003595Z",
     "iopub.status.busy": "2024-01-23T12:09:47.002767Z",
     "iopub.status.idle": "2024-01-23T12:09:47.025941Z",
     "shell.execute_reply": "2024-01-23T12:09:47.024750Z"
    },
    "papermill": {
     "duration": 0.054114,
     "end_time": "2024-01-23T12:09:47.029129",
     "exception": false,
     "start_time": "2024-01-23T12:09:46.975015",
     "status": "completed"
    },
    "tags": []
   },
   "outputs": [
    {
     "name": "stdout",
     "output_type": "stream",
     "text": [
      "True positive : 1387 \n",
      "True negative : 1309 \n",
      "False positive : 168 \n",
      "False negative : 90 \n",
      "Classification Report:\n",
      "               precision    recall  f1-score   support\n",
      "\n",
      "       False       0.94      0.89      0.91      1477\n",
      "        True       0.89      0.94      0.91      1477\n",
      "\n",
      "    accuracy                           0.91      2954\n",
      "   macro avg       0.91      0.91      0.91      2954\n",
      "weighted avg       0.91      0.91      0.91      2954\n",
      "\n"
     ]
    }
   ],
   "source": [
    "mt = confusion_matrix(y_test, random_forest_preds)\n",
    "report = classification_report(y_test, random_forest_preds)\n",
    "print(\"True positive : %i \" % (mt[1][1]))\n",
    "print(\"True negative : %i \" % (mt[0][0]))\n",
    "print(\"False positive : %i \" % (mt[0][1]))\n",
    "print(\"False negative : %i \" % (mt[1][0]))\n",
    "print(\"Classification Report:\\n\", report)"
   ]
  },
  {
   "cell_type": "code",
   "execution_count": 16,
   "id": "1f6e0e04",
   "metadata": {
    "execution": {
     "iopub.execute_input": "2024-01-23T12:09:47.090383Z",
     "iopub.status.busy": "2024-01-23T12:09:47.089795Z",
     "iopub.status.idle": "2024-01-23T12:09:47.179933Z",
     "shell.execute_reply": "2024-01-23T12:09:47.178458Z"
    },
    "papermill": {
     "duration": 0.120876,
     "end_time": "2024-01-23T12:09:47.182677",
     "exception": false,
     "start_time": "2024-01-23T12:09:47.061801",
     "status": "completed"
    },
    "tags": []
   },
   "outputs": [
    {
     "data": {
      "text/plain": [
       "ngram_b'A\\x00l\\x00l\\x00'                                             0.011622\n",
       "ngram_b's\\x00e\\x00r\\x00'                                             0.008037\n",
       "ngram_b'.\\x00 \\x00A\\x00'                                             0.007380\n",
       "ngram_b'\\x00.\\x000\\x00\\x00'                                          0.006771\n",
       "pesection_2_entropy                                                  0.006515\n",
       "                                                                       ...   \n",
       "oxyg2.dll                                                            0.000000\n",
       "oxymod.dll                                                           0.000000\n",
       "gcmutil.dll                                                          0.000000\n",
       "imp_@system@tinterfacedobject@newinstance$qqrp17system@tmetaclass    0.000000\n",
       "string_b'6!7(7E7l7'                                                  0.000000\n",
       "Length: 56524, dtype: float64"
      ]
     },
     "execution_count": 16,
     "metadata": {},
     "output_type": "execute_result"
    }
   ],
   "source": [
    "feature_scores_rf = pd.Series(random_forest.feature_importances_, index=X_train.columns).sort_values(ascending=False)\n",
    "\n",
    "feature_scores_rf"
   ]
  },
  {
   "cell_type": "code",
   "execution_count": 17,
   "id": "05374ea5",
   "metadata": {
    "execution": {
     "iopub.execute_input": "2024-01-23T12:09:47.235972Z",
     "iopub.status.busy": "2024-01-23T12:09:47.235167Z",
     "iopub.status.idle": "2024-01-23T12:09:47.306810Z",
     "shell.execute_reply": "2024-01-23T12:09:47.305708Z"
    },
    "papermill": {
     "duration": 0.101784,
     "end_time": "2024-01-23T12:09:47.309646",
     "exception": false,
     "start_time": "2024-01-23T12:09:47.207862",
     "status": "completed"
    },
    "tags": []
   },
   "outputs": [],
   "source": [
    "top50 = pd.Series(random_forest.feature_importances_, index=X_train.columns).sort_values(ascending=False).head(50)"
   ]
  },
  {
   "cell_type": "code",
   "execution_count": 18,
   "id": "0b9e3f63",
   "metadata": {
    "execution": {
     "iopub.execute_input": "2024-01-23T12:09:47.362125Z",
     "iopub.status.busy": "2024-01-23T12:09:47.361252Z",
     "iopub.status.idle": "2024-01-23T12:09:47.378406Z",
     "shell.execute_reply": "2024-01-23T12:09:47.377230Z"
    },
    "papermill": {
     "duration": 0.046986,
     "end_time": "2024-01-23T12:09:47.381524",
     "exception": false,
     "start_time": "2024-01-23T12:09:47.334538",
     "status": "completed"
    },
    "tags": []
   },
   "outputs": [
    {
     "name": "stdout",
     "output_type": "stream",
     "text": [
      "'ngram': 45\n",
      "'opcode ngram': 0\n",
      "'generic': 1\n",
      "'strings': 0\n",
      "'rich header': 0\n",
      "'api import': 0\n",
      "'dll': 1\n",
      "'pe section': 3\n",
      "'pe header': 0\n"
     ]
    }
   ],
   "source": [
    "# Tạo DataFrame từ feature_scores_rf\n",
    "df_features = pd.DataFrame(top50, columns=['Score'])\n",
    "\n",
    "count_ngram = df_features[df_features.index.str.startswith('ngram_')].shape[0]\n",
    "count_opcode = df_features[df_features.index.str.startswith('opcode_')].shape[0]\n",
    "count_generic = df_features[df_features.index.str.startswith('generic_')].shape[0]\n",
    "count_string = df_features[df_features.index.str.startswith('string_')].shape[0]\n",
    "count_rich = df_features[df_features.index.str.startswith('rich_')].shape[0]\n",
    "# count_api = df_features[df_features.index.str.startswith('imp_') or 'api_import_nb' == c].shape[0]\n",
    "# count_dll = df_features[df_features.index.str.startswith('.dll') or 'dll_import_nb' == c].shape[0]\n",
    "count_api = df_features[df_features.index.str.startswith('imp_') | (df_features.index == 'api_import_nb')].shape[0]\n",
    "count_dll = df_features[df_features.index.str.endswith('.dll') | (df_features.index == 'dll_import_nb')].shape[0]\n",
    "count_section = df_features[df_features.index.str.startswith('pesection')].shape[0]\n",
    "count_header = df_features[df_features.index.str.startswith('header_')].shape[0]\n",
    "\n",
    "print(f\"'ngram': {count_ngram}\")\n",
    "print(f\"'opcode ngram': {count_opcode}\")\n",
    "print(f\"'generic': {count_generic}\")\n",
    "print(f\"'strings': {count_string}\")\n",
    "print(f\"'rich header': {count_rich}\")\n",
    "print(f\"'api import': {count_api}\")\n",
    "print(f\"'dll': {count_dll}\")\n",
    "print(f\"'pe section': {count_section}\")\n",
    "print(f\"'pe header': {count_header}\")"
   ]
  },
  {
   "cell_type": "code",
   "execution_count": 19,
   "id": "b76f12e2",
   "metadata": {
    "execution": {
     "iopub.execute_input": "2024-01-23T12:09:47.433993Z",
     "iopub.status.busy": "2024-01-23T12:09:47.433206Z",
     "iopub.status.idle": "2024-01-23T12:09:47.446421Z",
     "shell.execute_reply": "2024-01-23T12:09:47.445519Z"
    },
    "papermill": {
     "duration": 0.042281,
     "end_time": "2024-01-23T12:09:47.448903",
     "exception": false,
     "start_time": "2024-01-23T12:09:47.406622",
     "status": "completed"
    },
    "tags": []
   },
   "outputs": [],
   "source": [
    "cols = list(mpress.columns)"
   ]
  },
  {
   "cell_type": "markdown",
   "id": "dd1dcc63",
   "metadata": {
    "papermill": {
     "duration": 0.023755,
     "end_time": "2024-01-23T12:09:47.497289",
     "exception": false,
     "start_time": "2024-01-23T12:09:47.473534",
     "status": "completed"
    },
    "tags": []
   },
   "source": [
    "# **ngram features**"
   ]
  },
  {
   "cell_type": "code",
   "execution_count": 20,
   "id": "32f8d68b",
   "metadata": {
    "execution": {
     "iopub.execute_input": "2024-01-23T12:09:47.549489Z",
     "iopub.status.busy": "2024-01-23T12:09:47.548730Z",
     "iopub.status.idle": "2024-01-23T12:09:49.470958Z",
     "shell.execute_reply": "2024-01-23T12:09:49.470028Z"
    },
    "papermill": {
     "duration": 1.951641,
     "end_time": "2024-01-23T12:09:49.473638",
     "exception": false,
     "start_time": "2024-01-23T12:09:47.521997",
     "status": "completed"
    },
    "tags": []
   },
   "outputs": [],
   "source": [
    "mpress = pd.read_pickle('/kaggle/input/packer-balance-pickle/mpress_balance.pickle')\n",
    "mpress = mpress.drop(['sample_sha1','benign','unpacked_sample_sha1','unpacked_sample_id'], axis=1)\n",
    "mpress = mpress.drop(['benign_vt','malicious_vt'], axis=1)\n",
    "string_columns = mpress.select_dtypes(include=['object']).columns\n",
    "mpress = mpress.drop(string_columns, axis=1)"
   ]
  },
  {
   "cell_type": "code",
   "execution_count": 21,
   "id": "3fcf04aa",
   "metadata": {
    "execution": {
     "iopub.execute_input": "2024-01-23T12:09:49.524782Z",
     "iopub.status.busy": "2024-01-23T12:09:49.524111Z",
     "iopub.status.idle": "2024-01-23T12:09:49.530270Z",
     "shell.execute_reply": "2024-01-23T12:09:49.528976Z"
    },
    "papermill": {
     "duration": 0.035014,
     "end_time": "2024-01-23T12:09:49.533133",
     "exception": false,
     "start_time": "2024-01-23T12:09:49.498119",
     "status": "completed"
    },
    "tags": []
   },
   "outputs": [],
   "source": [
    "def remove_cols(df, ll):\n",
    "    print(\"removing {} features\".format(len(ll)))\n",
    "    df.drop(columns=ll, axis=1, inplace=True)\n",
    "    return df"
   ]
  },
  {
   "cell_type": "code",
   "execution_count": 22,
   "id": "99b0220d",
   "metadata": {
    "execution": {
     "iopub.execute_input": "2024-01-23T12:09:49.584980Z",
     "iopub.status.busy": "2024-01-23T12:09:49.584537Z",
     "iopub.status.idle": "2024-01-23T12:09:50.994310Z",
     "shell.execute_reply": "2024-01-23T12:09:50.993126Z"
    },
    "papermill": {
     "duration": 1.438728,
     "end_time": "2024-01-23T12:09:50.997328",
     "exception": false,
     "start_time": "2024-01-23T12:09:49.558600",
     "status": "completed"
    },
    "tags": []
   },
   "outputs": [
    {
     "name": "stdout",
     "output_type": "stream",
     "text": [
      "removing 2500 features\n",
      "removing 2 features\n",
      "removing 16900 features\n",
      "removing 66 features\n",
      "removing 19169 features\n",
      "removing 4306 features\n",
      "removing 550 features\n",
      "removing 29 features\n"
     ]
    }
   ],
   "source": [
    "# ngram = remove_cols(df, [c for c in cols if c.startswith('ngram_')])\n",
    "ngram = remove_cols(mpress, [c for c in cols if c.startswith('opcode_')])\n",
    "ngram = remove_cols(mpress, [c for c in cols if c.startswith('generic_')])\n",
    "ngram = remove_cols(mpress, [c for c in cols if c.startswith('string_')])\n",
    "ngram = remove_cols(mpress, [c for c in cols if c.startswith('rich_')])\n",
    "ngram = remove_cols(mpress, [c for c in cols if c.startswith('imp_') or 'api_import_nb' == c])\n",
    "ngram = remove_cols(mpress, [c for c in cols if c.endswith('.dll') or 'dll_import_nb' == c])\n",
    "ngram = remove_cols(mpress, [c for c in cols if c.startswith('pesection')])\n",
    "ngram = remove_cols(mpress, [c for c in cols if c.startswith('header_')])"
   ]
  },
  {
   "cell_type": "code",
   "execution_count": 23,
   "id": "05783385",
   "metadata": {
    "execution": {
     "iopub.execute_input": "2024-01-23T12:09:51.051391Z",
     "iopub.status.busy": "2024-01-23T12:09:51.050607Z",
     "iopub.status.idle": "2024-01-23T12:09:51.305215Z",
     "shell.execute_reply": "2024-01-23T12:09:51.304281Z"
    },
    "papermill": {
     "duration": 0.2848,
     "end_time": "2024-01-23T12:09:51.308243",
     "exception": false,
     "start_time": "2024-01-23T12:09:51.023443",
     "status": "completed"
    },
    "tags": []
   },
   "outputs": [],
   "source": [
    "df_7000_ngram = ngram.sample(n=7000, random_state=102)\n",
    "df_3000_ngram = ngram.drop(df_7000.index)\n",
    "data_ngram = df_7000_ngram.sample(n=3500, random_state=102)"
   ]
  },
  {
   "cell_type": "code",
   "execution_count": 24,
   "id": "e4aa00a4",
   "metadata": {
    "execution": {
     "iopub.execute_input": "2024-01-23T12:09:51.361823Z",
     "iopub.status.busy": "2024-01-23T12:09:51.361356Z",
     "iopub.status.idle": "2024-01-23T12:09:51.734563Z",
     "shell.execute_reply": "2024-01-23T12:09:51.733133Z"
    },
    "papermill": {
     "duration": 0.403452,
     "end_time": "2024-01-23T12:09:51.737177",
     "exception": false,
     "start_time": "2024-01-23T12:09:51.333725",
     "status": "completed"
    },
    "tags": []
   },
   "outputs": [
    {
     "name": "stdout",
     "output_type": "stream",
     "text": [
      "Packed Malware: 1790 samples\n",
      "Packed Benign: 1710 samples\n",
      "Total TRAIN set: 3500 samples\n",
      "Packed Malware: 1710 samples\n",
      "Packed Benign: 1710 samples\n",
      "Total TRAIN set: 3420 samples\n",
      "Packed Malware: 1477 samples\n",
      "Packed Benign: 1477 samples\n",
      "Total TEST set: 2954 samples\n"
     ]
    }
   ],
   "source": [
    "#Kiểm tra số lượng mẫu\n",
    "PM = data_ngram[(data_ngram['malicious'] == True) & (data_ngram['packed'] == True)].shape[0]\n",
    "PB = data_ngram[(data_ngram['malicious'] == False) & (data_ngram['packed'] == True)].shape[0]\n",
    "print('Packed Malware: %i samples' % PM)\n",
    "print('Packed Benign: %i samples' % PB)\n",
    "print('Total TRAIN set: %i samples'% (PM+PB))\n",
    "\n",
    "#Chia tỉ lệ 50 - 50\n",
    "data_PM_ngram = data_ngram[(data_ngram['malicious'] == True) & (data_ngram['packed'] == True)].sample(n=(PM-PB), random_state=102)\n",
    "data_ngram = data_ngram.drop(data_PM_ngram.index)\n",
    "\n",
    "#Số lượng tập train\n",
    "PM = data_ngram[(data_ngram['malicious'] == True) & (data_ngram['packed'] == True)].shape[0]\n",
    "PB = data_ngram[(data_ngram['malicious'] == False) & (data_ngram['packed'] == True)].shape[0]\n",
    "print('Packed Malware: %i samples' % PM)\n",
    "print('Packed Benign: %i samples' % PB)\n",
    "print('Total TRAIN set: %i samples'% (PM+PB))\n",
    "\n",
    "#Xử lý tập train\n",
    "y = data_ngram['malicious'].values\n",
    "data_ngram = data_ngram.drop(['malicious','packed'], axis=1)\n",
    "\n",
    "PM = df_3000_ngram[(df_3000_ngram['malicious'] == True) & (df_3000_ngram['packed'] == True)].shape[0]\n",
    "PB = df_3000_ngram[(df_3000_ngram['malicious'] == False) & (df_3000_ngram['packed'] == True)].shape[0]\n",
    "\n",
    "df_3000_PM_ngram = df_3000_ngram[(df_3000_ngram['malicious'] == True) & (df_3000_ngram['packed'] == True)].sample(n=(PM-PB), random_state=102)\n",
    "df_3000_ngram = df_3000_ngram.drop(df_3000_PM.index)\n",
    "\n",
    "PM = df_3000_ngram[(df_3000_ngram['malicious'] == True) & (df_3000_ngram['packed'] == True)].shape[0]\n",
    "PB = df_3000_ngram[(df_3000_ngram['malicious'] == False) & (df_3000_ngram['packed'] == True)].shape[0]\n",
    "\n",
    "print('Packed Malware: %i samples' % PM)\n",
    "print('Packed Benign: %i samples' % PB)\n",
    "print('Total TEST set: %i samples'% (PM+PB))"
   ]
  },
  {
   "cell_type": "code",
   "execution_count": 25,
   "id": "f93ef8ab",
   "metadata": {
    "execution": {
     "iopub.execute_input": "2024-01-23T12:09:51.790341Z",
     "iopub.status.busy": "2024-01-23T12:09:51.789873Z",
     "iopub.status.idle": "2024-01-23T12:09:51.890601Z",
     "shell.execute_reply": "2024-01-23T12:09:51.889453Z"
    },
    "papermill": {
     "duration": 0.131151,
     "end_time": "2024-01-23T12:09:51.893737",
     "exception": false,
     "start_time": "2024-01-23T12:09:51.762586",
     "status": "completed"
    },
    "tags": []
   },
   "outputs": [],
   "source": [
    "# model = SelectFromModel(fsel, prefit=True)\n",
    "\n",
    "X_train_ngram = data_ngram\n",
    "X_test_ngram = df_3000_ngram.drop(['malicious','packed'], axis=1)\n",
    "\n",
    "data_ngram = data_ngram.loc[:, (data_ngram != 0).any(axis=0)]\n",
    "x_train_ngram = data_ngram\n",
    "X_test_ngram = df_3000_ngram.drop(['malicious','packed'], axis=1)\n",
    "y_train_ngram = y\n",
    "y_test_ngram = df_3000_ngram['malicious'].values"
   ]
  },
  {
   "cell_type": "code",
   "execution_count": 26,
   "id": "4cafc93a",
   "metadata": {
    "execution": {
     "iopub.execute_input": "2024-01-23T12:09:51.948092Z",
     "iopub.status.busy": "2024-01-23T12:09:51.947672Z",
     "iopub.status.idle": "2024-01-23T12:09:56.436624Z",
     "shell.execute_reply": "2024-01-23T12:09:56.435460Z"
    },
    "papermill": {
     "duration": 4.520253,
     "end_time": "2024-01-23T12:09:56.439554",
     "exception": false,
     "start_time": "2024-01-23T12:09:51.919301",
     "status": "completed"
    },
    "tags": []
   },
   "outputs": [
    {
     "name": "stdout",
     "output_type": "stream",
     "text": [
      "The accuracy of the Random Forests model is :\t 0.9204468517264726\n"
     ]
    }
   ],
   "source": [
    "# Random Forest\n",
    "from sklearn.ensemble import RandomForestClassifier\n",
    "from sklearn import metrics\n",
    "\n",
    "random_forest = RandomForestClassifier(n_estimators=100, random_state=17)\n",
    "random_forest.fit(X_train_ngram, y_train_ngram)\n",
    "random_forest_preds = random_forest.predict(X_test_ngram)\n",
    "print('The accuracy of the Random Forests model is :\\t',metrics.accuracy_score(random_forest_preds,y_test_ngram))"
   ]
  },
  {
   "cell_type": "markdown",
   "id": "28a7f80e",
   "metadata": {
    "papermill": {
     "duration": 0.026757,
     "end_time": "2024-01-23T12:09:56.492910",
     "exception": false,
     "start_time": "2024-01-23T12:09:56.466153",
     "status": "completed"
    },
    "tags": []
   },
   "source": [
    "# **opcode features**"
   ]
  },
  {
   "cell_type": "code",
   "execution_count": 27,
   "id": "02e1f3b9",
   "metadata": {
    "execution": {
     "iopub.execute_input": "2024-01-23T12:09:56.548394Z",
     "iopub.status.busy": "2024-01-23T12:09:56.547255Z",
     "iopub.status.idle": "2024-01-23T12:09:58.509251Z",
     "shell.execute_reply": "2024-01-23T12:09:58.508238Z"
    },
    "papermill": {
     "duration": 1.993108,
     "end_time": "2024-01-23T12:09:58.512269",
     "exception": false,
     "start_time": "2024-01-23T12:09:56.519161",
     "status": "completed"
    },
    "tags": []
   },
   "outputs": [],
   "source": [
    "mpress = pd.read_pickle('/kaggle/input/packer-balance-pickle/mpress_balance.pickle')\n",
    "mpress = mpress.drop(['sample_sha1','benign','unpacked_sample_sha1','unpacked_sample_id'], axis=1)\n",
    "mpress = mpress.drop(['benign_vt','malicious_vt'], axis=1)\n",
    "string_columns = mpress.select_dtypes(include=['object']).columns\n",
    "mpress = mpress.drop(string_columns, axis=1)"
   ]
  },
  {
   "cell_type": "code",
   "execution_count": 28,
   "id": "cdd44a9a",
   "metadata": {
    "execution": {
     "iopub.execute_input": "2024-01-23T12:09:58.568404Z",
     "iopub.status.busy": "2024-01-23T12:09:58.567743Z",
     "iopub.status.idle": "2024-01-23T12:10:00.320212Z",
     "shell.execute_reply": "2024-01-23T12:10:00.318750Z"
    },
    "papermill": {
     "duration": 1.784821,
     "end_time": "2024-01-23T12:10:00.323704",
     "exception": false,
     "start_time": "2024-01-23T12:09:58.538883",
     "status": "completed"
    },
    "tags": []
   },
   "outputs": [
    {
     "name": "stdout",
     "output_type": "stream",
     "text": [
      "removing 13000 features\n",
      "removing 2 features\n",
      "removing 16900 features\n",
      "removing 66 features\n",
      "removing 19169 features\n",
      "removing 4306 features\n",
      "removing 550 features\n",
      "removing 29 features\n"
     ]
    }
   ],
   "source": [
    "opcode = remove_cols(mpress, [c for c in cols if c.startswith('ngram_')])\n",
    "# opcode = remove_cols(mpress, [c for c in cols if c.startswith('opcode_')])\n",
    "opcode = remove_cols(mpress, [c for c in cols if c.startswith('generic_')])\n",
    "opcode = remove_cols(mpress, [c for c in cols if c.startswith('string_')])\n",
    "opcode = remove_cols(mpress, [c for c in cols if c.startswith('rich_')])\n",
    "opcode = remove_cols(mpress, [c for c in cols if c.startswith('imp_') or 'api_import_nb' == c])\n",
    "opcode = remove_cols(mpress, [c for c in cols if c.endswith('.dll') or 'dll_import_nb' == c])\n",
    "opcode = remove_cols(mpress, [c for c in cols if c.startswith('pesection')])\n",
    "opcode = remove_cols(mpress, [c for c in cols if c.startswith('header_')])"
   ]
  },
  {
   "cell_type": "code",
   "execution_count": 29,
   "id": "8b8ddc20",
   "metadata": {
    "execution": {
     "iopub.execute_input": "2024-01-23T12:10:00.377686Z",
     "iopub.status.busy": "2024-01-23T12:10:00.377223Z",
     "iopub.status.idle": "2024-01-23T12:10:00.577288Z",
     "shell.execute_reply": "2024-01-23T12:10:00.575796Z"
    },
    "papermill": {
     "duration": 0.230229,
     "end_time": "2024-01-23T12:10:00.580104",
     "exception": false,
     "start_time": "2024-01-23T12:10:00.349875",
     "status": "completed"
    },
    "tags": []
   },
   "outputs": [],
   "source": [
    "df_7000_opcode = opcode.sample(n=7000, random_state=102)\n",
    "df_3000_opcode = opcode.drop(df_7000.index)\n",
    "data_opcode = df_7000_opcode.sample(n=3500, random_state=102)"
   ]
  },
  {
   "cell_type": "code",
   "execution_count": 30,
   "id": "52c303be",
   "metadata": {
    "execution": {
     "iopub.execute_input": "2024-01-23T12:10:00.634327Z",
     "iopub.status.busy": "2024-01-23T12:10:00.632975Z",
     "iopub.status.idle": "2024-01-23T12:10:00.834981Z",
     "shell.execute_reply": "2024-01-23T12:10:00.833501Z"
    },
    "papermill": {
     "duration": 0.2319,
     "end_time": "2024-01-23T12:10:00.837717",
     "exception": false,
     "start_time": "2024-01-23T12:10:00.605817",
     "status": "completed"
    },
    "tags": []
   },
   "outputs": [
    {
     "name": "stdout",
     "output_type": "stream",
     "text": [
      "Packed Malware: 1790 samples\n",
      "Packed Benign: 1710 samples\n",
      "Total TRAIN set: 3500 samples\n",
      "Packed Malware: 1710 samples\n",
      "Packed Benign: 1710 samples\n",
      "Total TRAIN set: 3420 samples\n",
      "Packed Malware: 1477 samples\n",
      "Packed Benign: 1477 samples\n",
      "Total TEST set: 2954 samples\n"
     ]
    }
   ],
   "source": [
    "#Kiểm tra số lượng mẫu\n",
    "PM = data_opcode[(data_opcode['malicious'] == True) & (data_opcode['packed'] == True)].shape[0]\n",
    "PB = data_opcode[(data_opcode['malicious'] == False) & (data_opcode['packed'] == True)].shape[0]\n",
    "print('Packed Malware: %i samples' % PM)\n",
    "print('Packed Benign: %i samples' % PB)\n",
    "print('Total TRAIN set: %i samples'% (PM+PB))\n",
    "\n",
    "#Chia tỉ lệ 50 - 50\n",
    "data_PM_opcode = data_opcode[(data_opcode['malicious'] == True) & (data_opcode['packed'] == True)].sample(n=(PM-PB), random_state=102)\n",
    "data_opcode = data_opcode.drop(data_PM_opcode.index)\n",
    "      \n",
    "#Số lượng tập train\n",
    "PM = data_opcode[(data_opcode['malicious'] == True) & (data_opcode['packed'] == True)].shape[0]\n",
    "PB = data_opcode[(data_opcode['malicious'] == False) & (data_opcode['packed'] == True)].shape[0]\n",
    "print('Packed Malware: %i samples' % PM)\n",
    "print('Packed Benign: %i samples' % PB)\n",
    "print('Total TRAIN set: %i samples'% (PM+PB))\n",
    "\n",
    "#Xử lý tập train\n",
    "y = data_opcode['malicious'].values\n",
    "data_opcode = data_opcode.drop(['malicious','packed'], axis=1)\n",
    "\n",
    "PM = df_3000_opcode[(df_3000_opcode['malicious'] == True) & (df_3000_opcode['packed'] == True)].shape[0]\n",
    "PB = df_3000_opcode[(df_3000_opcode['malicious'] == False) & (df_3000_opcode['packed'] == True)].shape[0]\n",
    "\n",
    "df_3000_PM_opcode = df_3000_opcode[(df_3000_opcode['malicious'] == True) & (df_3000_opcode['packed'] == True)].sample(n=(PM-PB), random_state=102)\n",
    "df_3000_opcode = df_3000_opcode.drop(df_3000_PM_opcode.index)\n",
    "\n",
    "PM = df_3000_opcode[(df_3000_opcode['malicious'] == True) & (df_3000_opcode['packed'] == True)].shape[0]\n",
    "PB = df_3000_opcode[(df_3000_opcode['malicious'] == False) & (df_3000_opcode['packed'] == True)].shape[0]\n",
    "\n",
    "print('Packed Malware: %i samples' % PM)\n",
    "print('Packed Benign: %i samples' % PB)\n",
    "print('Total TEST set: %i samples'% (PM+PB))"
   ]
  },
  {
   "cell_type": "code",
   "execution_count": 31,
   "id": "0120f589",
   "metadata": {
    "execution": {
     "iopub.execute_input": "2024-01-23T12:10:00.893614Z",
     "iopub.status.busy": "2024-01-23T12:10:00.892453Z",
     "iopub.status.idle": "2024-01-23T12:10:00.965933Z",
     "shell.execute_reply": "2024-01-23T12:10:00.964629Z"
    },
    "papermill": {
     "duration": 0.103574,
     "end_time": "2024-01-23T12:10:00.968722",
     "exception": false,
     "start_time": "2024-01-23T12:10:00.865148",
     "status": "completed"
    },
    "tags": []
   },
   "outputs": [],
   "source": [
    "# model = SelectFromModel(fsel, prefit=True)\n",
    "\n",
    "X_train_opcode = data_opcode\n",
    "X_test_opcode = df_3000_opcode.drop(['malicious','packed'], axis=1)\n",
    "\n",
    "# data_opcode = data_opcode.loc[:, (data_opcode != 0).any(axis=0)]\n",
    "x_train_opcode = data_opcode\n",
    "X_test_opcode = df_3000_opcode.drop(['malicious','packed'], axis=1)\n",
    "y_train_opcode = y\n",
    "y_test_opcode = df_3000_opcode['malicious'].values"
   ]
  },
  {
   "cell_type": "code",
   "execution_count": 32,
   "id": "5ef6f0d9",
   "metadata": {
    "execution": {
     "iopub.execute_input": "2024-01-23T12:10:01.026350Z",
     "iopub.status.busy": "2024-01-23T12:10:01.025866Z",
     "iopub.status.idle": "2024-01-23T12:10:06.845396Z",
     "shell.execute_reply": "2024-01-23T12:10:06.844325Z"
    },
    "papermill": {
     "duration": 5.852837,
     "end_time": "2024-01-23T12:10:06.848192",
     "exception": false,
     "start_time": "2024-01-23T12:10:00.995355",
     "status": "completed"
    },
    "tags": []
   },
   "outputs": [
    {
     "name": "stdout",
     "output_type": "stream",
     "text": [
      "The accuracy of the Random Forests model is :\t 0.8503723764387271\n"
     ]
    }
   ],
   "source": [
    "# Random Forest\n",
    "from sklearn.ensemble import RandomForestClassifier\n",
    "from sklearn import metrics\n",
    "\n",
    "random_forest = RandomForestClassifier(n_estimators=100, random_state=17)\n",
    "random_forest.fit(x_train_opcode, y_train_opcode)\n",
    "random_forest_preds = random_forest.predict(X_test_opcode)\n",
    "print('The accuracy of the Random Forests model is :\\t',metrics.accuracy_score(random_forest_preds,y_test_opcode))"
   ]
  },
  {
   "cell_type": "markdown",
   "id": "d6428440",
   "metadata": {
    "papermill": {
     "duration": 0.028103,
     "end_time": "2024-01-23T12:10:06.903318",
     "exception": false,
     "start_time": "2024-01-23T12:10:06.875215",
     "status": "completed"
    },
    "tags": []
   },
   "source": [
    "# **rich header features**"
   ]
  },
  {
   "cell_type": "code",
   "execution_count": 33,
   "id": "f98df1ab",
   "metadata": {
    "execution": {
     "iopub.execute_input": "2024-01-23T12:10:06.959007Z",
     "iopub.status.busy": "2024-01-23T12:10:06.958547Z",
     "iopub.status.idle": "2024-01-23T12:10:08.697958Z",
     "shell.execute_reply": "2024-01-23T12:10:08.697084Z"
    },
    "papermill": {
     "duration": 1.770751,
     "end_time": "2024-01-23T12:10:08.700984",
     "exception": false,
     "start_time": "2024-01-23T12:10:06.930233",
     "status": "completed"
    },
    "tags": []
   },
   "outputs": [],
   "source": [
    "mpress = pd.read_pickle('/kaggle/input/packer-balance-pickle/mpress_balance.pickle')\n",
    "mpress = mpress.drop(['sample_sha1','benign','unpacked_sample_sha1','unpacked_sample_id'], axis=1)\n",
    "mpress = mpress.drop(['benign_vt','malicious_vt'], axis=1)\n",
    "string_columns = mpress.select_dtypes(include=['object']).columns\n",
    "mpress = mpress.drop(string_columns, axis=1)"
   ]
  },
  {
   "cell_type": "code",
   "execution_count": 34,
   "id": "932fa10d",
   "metadata": {
    "execution": {
     "iopub.execute_input": "2024-01-23T12:10:08.758094Z",
     "iopub.status.busy": "2024-01-23T12:10:08.757052Z",
     "iopub.status.idle": "2024-01-23T12:10:09.948466Z",
     "shell.execute_reply": "2024-01-23T12:10:09.947446Z"
    },
    "papermill": {
     "duration": 1.222309,
     "end_time": "2024-01-23T12:10:09.950846",
     "exception": false,
     "start_time": "2024-01-23T12:10:08.728537",
     "status": "completed"
    },
    "tags": []
   },
   "outputs": [
    {
     "name": "stdout",
     "output_type": "stream",
     "text": [
      "removing 13000 features\n",
      "removing 2500 features\n",
      "removing 2 features\n",
      "removing 16900 features\n",
      "removing 19169 features\n",
      "removing 4306 features\n",
      "removing 550 features\n",
      "removing 29 features\n"
     ]
    }
   ],
   "source": [
    "rich = remove_cols(mpress, [c for c in cols if c.startswith('ngram_')])\n",
    "rich = remove_cols(mpress, [c for c in cols if c.startswith('opcode_')])\n",
    "rich = remove_cols(mpress, [c for c in cols if c.startswith('generic_')])\n",
    "rich = remove_cols(mpress, [c for c in cols if c.startswith('string_')])\n",
    "# rich = remove_cols(mpress, [c for c in cols if c.startswith('rich_')])\n",
    "rich = remove_cols(mpress, [c for c in cols if c.startswith('imp_') or 'api_import_nb' == c])\n",
    "rich = remove_cols(mpress, [c for c in cols if c.endswith('.dll') or 'dll_import_nb' == c])\n",
    "rich = remove_cols(mpress, [c for c in cols if c.startswith('pesection')])\n",
    "rich = remove_cols(mpress, [c for c in cols if c.startswith('header_')])"
   ]
  },
  {
   "cell_type": "code",
   "execution_count": 35,
   "id": "3dbeb330",
   "metadata": {
    "execution": {
     "iopub.execute_input": "2024-01-23T12:10:10.006586Z",
     "iopub.status.busy": "2024-01-23T12:10:10.006126Z",
     "iopub.status.idle": "2024-01-23T12:10:10.021920Z",
     "shell.execute_reply": "2024-01-23T12:10:10.020590Z"
    },
    "papermill": {
     "duration": 0.047279,
     "end_time": "2024-01-23T12:10:10.024644",
     "exception": false,
     "start_time": "2024-01-23T12:10:09.977365",
     "status": "completed"
    },
    "tags": []
   },
   "outputs": [],
   "source": [
    "df_7000_rich = rich.sample(n=7000, random_state=102)\n",
    "df_3000_rich = rich.drop(df_7000.index)\n",
    "data_rich = df_7000_rich.sample(n=3500, random_state=102)"
   ]
  },
  {
   "cell_type": "code",
   "execution_count": 36,
   "id": "64d42c2a",
   "metadata": {
    "execution": {
     "iopub.execute_input": "2024-01-23T12:10:10.079454Z",
     "iopub.status.busy": "2024-01-23T12:10:10.078969Z",
     "iopub.status.idle": "2024-01-23T12:10:10.115922Z",
     "shell.execute_reply": "2024-01-23T12:10:10.114728Z"
    },
    "papermill": {
     "duration": 0.067508,
     "end_time": "2024-01-23T12:10:10.118388",
     "exception": false,
     "start_time": "2024-01-23T12:10:10.050880",
     "status": "completed"
    },
    "tags": []
   },
   "outputs": [
    {
     "name": "stdout",
     "output_type": "stream",
     "text": [
      "Packed Malware: 1790 samples\n",
      "Packed Benign: 1710 samples\n",
      "Total TRAIN set: 3500 samples\n",
      "Packed Malware: 1710 samples\n",
      "Packed Benign: 1710 samples\n",
      "Total TRAIN set: 3420 samples\n",
      "Packed Malware: 1477 samples\n",
      "Packed Benign: 1477 samples\n",
      "Total TEST set: 2954 samples\n"
     ]
    }
   ],
   "source": [
    "#Kiểm tra số lượng mẫu\n",
    "PM = data_rich[(data_rich['malicious'] == True) & (data_rich['packed'] == True)].shape[0]\n",
    "PB = data_rich[(data_rich['malicious'] == False) & (data_rich['packed'] == True)].shape[0]\n",
    "print('Packed Malware: %i samples' % PM)\n",
    "print('Packed Benign: %i samples' % PB)\n",
    "print('Total TRAIN set: %i samples'% (PM+PB))\n",
    "\n",
    "#Chia tỉ lệ 50 - 50\n",
    "data_PM_rich = data_rich[(data_rich['malicious'] == True) & (data_rich['packed'] == True)].sample(n=(PM-PB), random_state=102)\n",
    "data_rich = data_rich.drop(data_PM_rich.index)\n",
    "      \n",
    "#Số lượng tập train\n",
    "PM = data_rich[(data_rich['malicious'] == True) & (data_rich['packed'] == True)].shape[0]\n",
    "PB = data_rich[(data_rich['malicious'] == False) & (data_rich['packed'] == True)].shape[0]\n",
    "print('Packed Malware: %i samples' % PM)\n",
    "print('Packed Benign: %i samples' % PB)\n",
    "print('Total TRAIN set: %i samples'% (PM+PB))\n",
    "\n",
    "#Xử lý tập train\n",
    "y = data_rich['malicious'].values\n",
    "data_rich= data_rich.drop(['malicious','packed'], axis=1)\n",
    "\n",
    "PM = df_3000_rich[(df_3000_rich['malicious'] == True) & (df_3000_rich['packed'] == True)].shape[0]\n",
    "PB = df_3000_rich[(df_3000_rich['malicious'] == False) & (df_3000_rich['packed'] == True)].shape[0]\n",
    "\n",
    "df_3000_PM_rich = df_3000_rich[(df_3000_rich['malicious'] == True) & (df_3000_rich['packed'] == True)].sample(n=(PM-PB), random_state=102)\n",
    "df_3000_rich = df_3000_rich.drop(df_3000_PM_rich.index)\n",
    "\n",
    "PM = df_3000_rich[(df_3000_rich['malicious'] == True) & (df_3000_rich['packed'] == True)].shape[0]\n",
    "PB = df_3000_rich[(df_3000_rich['malicious'] == False) & (df_3000_rich['packed'] == True)].shape[0]\n",
    "\n",
    "print('Packed Malware: %i samples' % PM)\n",
    "print('Packed Benign: %i samples' % PB)\n",
    "print('Total TEST set: %i samples'% (PM+PB))"
   ]
  },
  {
   "cell_type": "code",
   "execution_count": 37,
   "id": "d9b3c372",
   "metadata": {
    "execution": {
     "iopub.execute_input": "2024-01-23T12:10:10.175545Z",
     "iopub.status.busy": "2024-01-23T12:10:10.175039Z",
     "iopub.status.idle": "2024-01-23T12:10:10.189301Z",
     "shell.execute_reply": "2024-01-23T12:10:10.187942Z"
    },
    "papermill": {
     "duration": 0.046651,
     "end_time": "2024-01-23T12:10:10.192058",
     "exception": false,
     "start_time": "2024-01-23T12:10:10.145407",
     "status": "completed"
    },
    "tags": []
   },
   "outputs": [],
   "source": [
    "# model = SelectFromModel(fsel, prefit=True)\n",
    "\n",
    "X_train_rich = data_rich\n",
    "X_test_rich = df_3000_rich.drop(['malicious','packed'], axis=1)\n",
    "\n",
    "data_rich = data_rich.loc[:, (data_rich != 0).any(axis=0)]\n",
    "x_train_rich = data_rich\n",
    "X_test_rich = df_3000_rich.drop(['malicious','packed'], axis=1)\n",
    "y_train_rich = y\n",
    "y_test_rich = df_3000_rich['malicious'].values"
   ]
  },
  {
   "cell_type": "code",
   "execution_count": 38,
   "id": "f5123324",
   "metadata": {
    "execution": {
     "iopub.execute_input": "2024-01-23T12:10:10.248449Z",
     "iopub.status.busy": "2024-01-23T12:10:10.248056Z",
     "iopub.status.idle": "2024-01-23T12:10:10.597820Z",
     "shell.execute_reply": "2024-01-23T12:10:10.596408Z"
    },
    "papermill": {
     "duration": 0.381802,
     "end_time": "2024-01-23T12:10:10.600746",
     "exception": false,
     "start_time": "2024-01-23T12:10:10.218944",
     "status": "completed"
    },
    "tags": []
   },
   "outputs": [
    {
     "name": "stdout",
     "output_type": "stream",
     "text": [
      "The accuracy of the Random Forests model is :\t 0.5179417738659445\n"
     ]
    }
   ],
   "source": [
    "# Random Forest\n",
    "from sklearn.ensemble import RandomForestClassifier\n",
    "from sklearn import metrics\n",
    "\n",
    "random_forest = RandomForestClassifier(n_estimators=100, random_state=17)\n",
    "random_forest.fit(X_train_rich, y_train_rich)\n",
    "random_forest_preds = random_forest.predict(X_test_rich)\n",
    "print('The accuracy of the Random Forests model is :\\t',metrics.accuracy_score(random_forest_preds,y_test_rich))"
   ]
  },
  {
   "cell_type": "markdown",
   "id": "8c959d73",
   "metadata": {
    "papermill": {
     "duration": 0.026817,
     "end_time": "2024-01-23T12:10:10.655634",
     "exception": false,
     "start_time": "2024-01-23T12:10:10.628817",
     "status": "completed"
    },
    "tags": []
   },
   "source": [
    "# **string features**"
   ]
  },
  {
   "cell_type": "code",
   "execution_count": 39,
   "id": "198f8ddc",
   "metadata": {
    "execution": {
     "iopub.execute_input": "2024-01-23T12:10:10.713367Z",
     "iopub.status.busy": "2024-01-23T12:10:10.712942Z",
     "iopub.status.idle": "2024-01-23T12:10:12.385364Z",
     "shell.execute_reply": "2024-01-23T12:10:12.384078Z"
    },
    "papermill": {
     "duration": 1.705682,
     "end_time": "2024-01-23T12:10:12.388665",
     "exception": false,
     "start_time": "2024-01-23T12:10:10.682983",
     "status": "completed"
    },
    "tags": []
   },
   "outputs": [],
   "source": [
    "mpress = pd.read_pickle('/kaggle/input/packer-balance-pickle/mpress_balance.pickle')\n",
    "mpress = mpress.drop(['sample_sha1','benign','unpacked_sample_sha1','unpacked_sample_id'], axis=1)\n",
    "mpress = mpress.drop(['benign_vt','malicious_vt'], axis=1)\n",
    "string_columns = mpress.select_dtypes(include=['object']).columns\n",
    "mpress = mpress.drop(string_columns, axis=1)"
   ]
  },
  {
   "cell_type": "code",
   "execution_count": 40,
   "id": "14316fd3",
   "metadata": {
    "execution": {
     "iopub.execute_input": "2024-01-23T12:10:12.446182Z",
     "iopub.status.busy": "2024-01-23T12:10:12.445762Z",
     "iopub.status.idle": "2024-01-23T12:10:13.801976Z",
     "shell.execute_reply": "2024-01-23T12:10:13.800740Z"
    },
    "papermill": {
     "duration": 1.388047,
     "end_time": "2024-01-23T12:10:13.804930",
     "exception": false,
     "start_time": "2024-01-23T12:10:12.416883",
     "status": "completed"
    },
    "tags": []
   },
   "outputs": [
    {
     "name": "stdout",
     "output_type": "stream",
     "text": [
      "removing 13000 features\n",
      "removing 2500 features\n",
      "removing 2 features\n",
      "removing 66 features\n",
      "removing 19169 features\n",
      "removing 4306 features\n",
      "removing 550 features\n",
      "removing 29 features\n"
     ]
    }
   ],
   "source": [
    "string = remove_cols(mpress, [c for c in cols if c.startswith('ngram_')])\n",
    "string = remove_cols(mpress, [c for c in cols if c.startswith('opcode_')])\n",
    "string = remove_cols(mpress, [c for c in cols if c.startswith('generic_')])\n",
    "# string = remove_cols(mpress, [c for c in cols if c.startswith('string_')])\n",
    "string = remove_cols(mpress, [c for c in cols if c.startswith('rich_')])\n",
    "string = remove_cols(mpress, [c for c in cols if c.startswith('imp_') or 'api_import_nb' == c])\n",
    "string = remove_cols(mpress, [c for c in cols if c.endswith('.dll') or 'dll_import_nb' == c])\n",
    "string = remove_cols(mpress, [c for c in cols if c.startswith('pesection')])\n",
    "string = remove_cols(mpress, [c for c in cols if c.startswith('header_')])"
   ]
  },
  {
   "cell_type": "code",
   "execution_count": 41,
   "id": "eae39d69",
   "metadata": {
    "execution": {
     "iopub.execute_input": "2024-01-23T12:10:13.862411Z",
     "iopub.status.busy": "2024-01-23T12:10:13.861570Z",
     "iopub.status.idle": "2024-01-23T12:10:14.207276Z",
     "shell.execute_reply": "2024-01-23T12:10:14.205956Z"
    },
    "papermill": {
     "duration": 0.377578,
     "end_time": "2024-01-23T12:10:14.210294",
     "exception": false,
     "start_time": "2024-01-23T12:10:13.832716",
     "status": "completed"
    },
    "tags": []
   },
   "outputs": [],
   "source": [
    "df_7000_string = string.sample(n=7000, random_state=102)\n",
    "df_3000_string = string.drop(df_7000.index)\n",
    "data_string = df_7000_string.sample(n=3500, random_state=102)"
   ]
  },
  {
   "cell_type": "code",
   "execution_count": 42,
   "id": "33483764",
   "metadata": {
    "execution": {
     "iopub.execute_input": "2024-01-23T12:10:14.268633Z",
     "iopub.status.busy": "2024-01-23T12:10:14.267213Z",
     "iopub.status.idle": "2024-01-23T12:10:14.814141Z",
     "shell.execute_reply": "2024-01-23T12:10:14.812466Z"
    },
    "papermill": {
     "duration": 0.579552,
     "end_time": "2024-01-23T12:10:14.816962",
     "exception": false,
     "start_time": "2024-01-23T12:10:14.237410",
     "status": "completed"
    },
    "tags": []
   },
   "outputs": [
    {
     "name": "stdout",
     "output_type": "stream",
     "text": [
      "Packed Malware: 1790 samples\n",
      "Packed Benign: 1710 samples\n",
      "Total TRAIN set: 3500 samples\n",
      "Packed Malware: 1710 samples\n",
      "Packed Benign: 1710 samples\n",
      "Total TRAIN set: 3420 samples\n",
      "Packed Malware: 1477 samples\n",
      "Packed Benign: 1477 samples\n",
      "Total TEST set: 2954 samples\n"
     ]
    }
   ],
   "source": [
    "#Kiểm tra số lượng mẫu\n",
    "PM = data_string[(data_string['malicious'] == True) & (data_string['packed'] == True)].shape[0]\n",
    "PB = data_string[(data_string['malicious'] == False) & (data_string['packed'] == True)].shape[0]\n",
    "print('Packed Malware: %i samples' % PM)\n",
    "print('Packed Benign: %i samples' % PB)\n",
    "print('Total TRAIN set: %i samples'% (PM+PB))\n",
    "\n",
    "#Chia tỉ lệ 50 - 50\n",
    "data_PM_string = data_string[(data_string['malicious'] == True) & (data_string['packed'] == True)].sample(n=(PM-PB), random_state=102)\n",
    "data_string = data_string.drop(data_PM_string.index)\n",
    "      \n",
    "#Số lượng tập train\n",
    "PM = data_string[(data_string['malicious'] == True) & (data_string['packed'] == True)].shape[0]\n",
    "PB = data_string[(data_string['malicious'] == False) & (data_string['packed'] == True)].shape[0]\n",
    "print('Packed Malware: %i samples' % PM)\n",
    "print('Packed Benign: %i samples' % PB)\n",
    "print('Total TRAIN set: %i samples'% (PM+PB))\n",
    "\n",
    "#Xử lý tập train\n",
    "y = data_string['malicious'].values\n",
    "data_string = data_string.drop(['malicious','packed'], axis=1)\n",
    "\n",
    "PM = df_3000_string[(df_3000_string['malicious'] == True) & (df_3000_string['packed'] == True)].shape[0]\n",
    "PB = df_3000_string[(df_3000_string['malicious'] == False) & (df_3000_string['packed'] == True)].shape[0]\n",
    "\n",
    "df_3000_PM_string = df_3000_string[(df_3000_string['malicious'] == True) & (df_3000_string['packed'] == True)].sample(n=(PM-PB), random_state=102)\n",
    "df_3000_string = df_3000_string.drop(df_3000_PM_string.index)\n",
    "\n",
    "PM = df_3000_string[(df_3000_string['malicious'] == True) & (df_3000_string['packed'] == True)].shape[0]\n",
    "PB = df_3000_string[(df_3000_string['malicious'] == False) & (df_3000_string['packed'] == True)].shape[0]\n",
    "\n",
    "print('Packed Malware: %i samples' % PM)\n",
    "print('Packed Benign: %i samples' % PB)\n",
    "print('Total TEST set: %i samples'% (PM+PB))"
   ]
  },
  {
   "cell_type": "code",
   "execution_count": 43,
   "id": "ae5eaf40",
   "metadata": {
    "execution": {
     "iopub.execute_input": "2024-01-23T12:10:14.873943Z",
     "iopub.status.busy": "2024-01-23T12:10:14.873428Z",
     "iopub.status.idle": "2024-01-23T12:10:15.026130Z",
     "shell.execute_reply": "2024-01-23T12:10:15.024748Z"
    },
    "papermill": {
     "duration": 0.184652,
     "end_time": "2024-01-23T12:10:15.029128",
     "exception": false,
     "start_time": "2024-01-23T12:10:14.844476",
     "status": "completed"
    },
    "tags": []
   },
   "outputs": [],
   "source": [
    "# model = SelectFromModel(fsel, prefit=True)\n",
    "\n",
    "X_train_string = data_string\n",
    "X_test_string = df_3000_string.drop(['malicious','packed'], axis=1)\n",
    "\n",
    "data_string = data_string.loc[:, (data_string != 0).any(axis=0)]\n",
    "x_train_string = data_string\n",
    "X_test_string = df_3000_string.drop(['malicious','packed'], axis=1)\n",
    "y_train_string = y\n",
    "y_test_string = df_3000_string['malicious'].values"
   ]
  },
  {
   "cell_type": "code",
   "execution_count": 44,
   "id": "2bebcd82",
   "metadata": {
    "execution": {
     "iopub.execute_input": "2024-01-23T12:10:15.085447Z",
     "iopub.status.busy": "2024-01-23T12:10:15.084926Z",
     "iopub.status.idle": "2024-01-23T12:10:27.890833Z",
     "shell.execute_reply": "2024-01-23T12:10:27.889199Z"
    },
    "papermill": {
     "duration": 12.837972,
     "end_time": "2024-01-23T12:10:27.893942",
     "exception": false,
     "start_time": "2024-01-23T12:10:15.055970",
     "status": "completed"
    },
    "tags": []
   },
   "outputs": [
    {
     "name": "stdout",
     "output_type": "stream",
     "text": [
      "The accuracy of the Random Forests model is :\t 0.9113067027758971\n"
     ]
    }
   ],
   "source": [
    "# Random Forest\n",
    "from sklearn.ensemble import RandomForestClassifier\n",
    "from sklearn import metrics\n",
    "\n",
    "random_forest = RandomForestClassifier(n_estimators=100, random_state=17)\n",
    "random_forest.fit(X_train_string, y_train_string)\n",
    "random_forest_preds = random_forest.predict(X_test_string)\n",
    "print('The accuracy of the Random Forests model is :\\t',metrics.accuracy_score(random_forest_preds,y_test_string))"
   ]
  },
  {
   "cell_type": "markdown",
   "id": "ad78cb03",
   "metadata": {
    "papermill": {
     "duration": 0.027192,
     "end_time": "2024-01-23T12:10:27.952648",
     "exception": false,
     "start_time": "2024-01-23T12:10:27.925456",
     "status": "completed"
    },
    "tags": []
   },
   "source": [
    "# **api features**"
   ]
  },
  {
   "cell_type": "code",
   "execution_count": 45,
   "id": "f1fdf43d",
   "metadata": {
    "execution": {
     "iopub.execute_input": "2024-01-23T12:10:28.011461Z",
     "iopub.status.busy": "2024-01-23T12:10:28.011017Z",
     "iopub.status.idle": "2024-01-23T12:10:29.779398Z",
     "shell.execute_reply": "2024-01-23T12:10:29.778128Z"
    },
    "papermill": {
     "duration": 1.802374,
     "end_time": "2024-01-23T12:10:29.782483",
     "exception": false,
     "start_time": "2024-01-23T12:10:27.980109",
     "status": "completed"
    },
    "tags": []
   },
   "outputs": [],
   "source": [
    "mpress = pd.read_pickle('/kaggle/input/packer-balance-pickle/mpress_balance.pickle')\n",
    "mpress = mpress.drop(['sample_sha1','benign','unpacked_sample_sha1','unpacked_sample_id'], axis=1)\n",
    "mpress = mpress.drop(['benign_vt','malicious_vt'], axis=1)\n",
    "string_columns = mpress.select_dtypes(include=['object']).columns\n",
    "mpress = mpress.drop(string_columns, axis=1)"
   ]
  },
  {
   "cell_type": "code",
   "execution_count": 46,
   "id": "a9c2958b",
   "metadata": {
    "execution": {
     "iopub.execute_input": "2024-01-23T12:10:29.840025Z",
     "iopub.status.busy": "2024-01-23T12:10:29.839581Z",
     "iopub.status.idle": "2024-01-23T12:10:31.543622Z",
     "shell.execute_reply": "2024-01-23T12:10:31.542113Z"
    },
    "papermill": {
     "duration": 1.736464,
     "end_time": "2024-01-23T12:10:31.546916",
     "exception": false,
     "start_time": "2024-01-23T12:10:29.810452",
     "status": "completed"
    },
    "tags": []
   },
   "outputs": [
    {
     "name": "stdout",
     "output_type": "stream",
     "text": [
      "removing 13000 features\n",
      "removing 2500 features\n",
      "removing 2 features\n",
      "removing 16900 features\n",
      "removing 66 features\n",
      "removing 4306 features\n",
      "removing 550 features\n",
      "removing 29 features\n"
     ]
    }
   ],
   "source": [
    "api = remove_cols(mpress, [c for c in cols if c.startswith('ngram_')])\n",
    "api = remove_cols(mpress, [c for c in cols if c.startswith('opcode_')])\n",
    "api = remove_cols(mpress, [c for c in cols if c.startswith('generic_')])\n",
    "api = remove_cols(mpress, [c for c in cols if c.startswith('string_')])\n",
    "api = remove_cols(mpress, [c for c in cols if c.startswith('rich_')])\n",
    "# api = remove_cols(mpress, [c for c in cols if c.startswith('imp_') or 'api_import_nb' == c])\n",
    "api = remove_cols(mpress, [c for c in cols if c.endswith('.dll') or 'dll_import_nb' == c])\n",
    "api = remove_cols(mpress, [c for c in cols if c.startswith('pesection')])\n",
    "api = remove_cols(mpress, [c for c in cols if c.startswith('header_')])"
   ]
  },
  {
   "cell_type": "code",
   "execution_count": 47,
   "id": "711655cd",
   "metadata": {
    "execution": {
     "iopub.execute_input": "2024-01-23T12:10:31.607399Z",
     "iopub.status.busy": "2024-01-23T12:10:31.606957Z",
     "iopub.status.idle": "2024-01-23T12:10:32.036320Z",
     "shell.execute_reply": "2024-01-23T12:10:32.034913Z"
    },
    "papermill": {
     "duration": 0.46339,
     "end_time": "2024-01-23T12:10:32.039578",
     "exception": false,
     "start_time": "2024-01-23T12:10:31.576188",
     "status": "completed"
    },
    "tags": []
   },
   "outputs": [],
   "source": [
    "df_7000_api = api.sample(n=7000, random_state=102)\n",
    "df_3000_api = api.drop(df_7000.index)\n",
    "data_api = df_7000_api.sample(n=3500, random_state=102)"
   ]
  },
  {
   "cell_type": "code",
   "execution_count": 48,
   "id": "7ec0b7ec",
   "metadata": {
    "execution": {
     "iopub.execute_input": "2024-01-23T12:10:32.102121Z",
     "iopub.status.busy": "2024-01-23T12:10:32.101617Z",
     "iopub.status.idle": "2024-01-23T12:10:32.821334Z",
     "shell.execute_reply": "2024-01-23T12:10:32.819644Z"
    },
    "papermill": {
     "duration": 0.755596,
     "end_time": "2024-01-23T12:10:32.824560",
     "exception": false,
     "start_time": "2024-01-23T12:10:32.068964",
     "status": "completed"
    },
    "tags": []
   },
   "outputs": [
    {
     "name": "stdout",
     "output_type": "stream",
     "text": [
      "Packed Malware: 1790 samples\n",
      "Packed Benign: 1710 samples\n",
      "Total TRAIN set: 3500 samples\n",
      "Packed Malware: 1710 samples\n",
      "Packed Benign: 1710 samples\n",
      "Total TRAIN set: 3420 samples\n",
      "Packed Malware: 1477 samples\n",
      "Packed Benign: 1477 samples\n",
      "Total TEST set: 2954 samples\n"
     ]
    }
   ],
   "source": [
    "#Kiểm tra số lượng mẫu\n",
    "PM = data_api[(data_api['malicious'] == True) & (data_api['packed'] == True)].shape[0]\n",
    "PB = data_api[(data_api['malicious'] == False) & (data_api['packed'] == True)].shape[0]\n",
    "print('Packed Malware: %i samples' % PM)\n",
    "print('Packed Benign: %i samples' % PB)\n",
    "print('Total TRAIN set: %i samples'% (PM+PB))\n",
    "\n",
    "#Chia tỉ lệ 50 - 50\n",
    "data_PM_api = data_api[(data_api['malicious'] == True) & (data_api['packed'] == True)].sample(n=(PM-PB), random_state=102)\n",
    "data_api = data_api.drop(data_PM_api.index)\n",
    "      \n",
    "#Số lượng tập train\n",
    "PM = data_api[(data_api['malicious'] == True) & (data_api['packed'] == True)].shape[0]\n",
    "PB = data_api[(data_api['malicious'] == False) & (data_api['packed'] == True)].shape[0]\n",
    "print('Packed Malware: %i samples' % PM)\n",
    "print('Packed Benign: %i samples' % PB)\n",
    "print('Total TRAIN set: %i samples'% (PM+PB))\n",
    "\n",
    "#Xử lý tập train\n",
    "y = data_api['malicious'].values\n",
    "data_api = data_api.drop(['malicious','packed'], axis=1)\n",
    "\n",
    "PM = df_3000_api[(df_3000_api['malicious'] == True) & (df_3000_api['packed'] == True)].shape[0]\n",
    "PB = df_3000_api[(df_3000_api['malicious'] == False) & (df_3000_api['packed'] == True)].shape[0]\n",
    "\n",
    "df_3000_PM_api = df_3000_api[(df_3000_api['malicious'] == True) & (df_3000_api['packed'] == True)].sample(n=(PM-PB), random_state=102)\n",
    "df_3000_api = df_3000_api.drop(df_3000_PM_api.index)\n",
    "\n",
    "PM = df_3000_api[(df_3000_api['malicious'] == True) & (df_3000_api['packed'] == True)].shape[0]\n",
    "PB = df_3000_api[(df_3000_api['malicious'] == False) & (df_3000_api['packed'] == True)].shape[0]\n",
    "\n",
    "print('Packed Malware: %i samples' % PM)\n",
    "print('Packed Benign: %i samples' % PB)\n",
    "print('Total TEST set: %i samples'% (PM+PB))"
   ]
  },
  {
   "cell_type": "code",
   "execution_count": 49,
   "id": "8d8dc239",
   "metadata": {
    "execution": {
     "iopub.execute_input": "2024-01-23T12:10:32.885750Z",
     "iopub.status.busy": "2024-01-23T12:10:32.885263Z",
     "iopub.status.idle": "2024-01-23T12:10:33.161887Z",
     "shell.execute_reply": "2024-01-23T12:10:33.160475Z"
    },
    "papermill": {
     "duration": 0.310258,
     "end_time": "2024-01-23T12:10:33.164844",
     "exception": false,
     "start_time": "2024-01-23T12:10:32.854586",
     "status": "completed"
    },
    "tags": []
   },
   "outputs": [],
   "source": [
    "# model = SelectFromModel(fsel, prefit=True)\n",
    "\n",
    "X_train_api = data_api\n",
    "X_test_api = df_3000_api.drop(['malicious','packed'], axis=1)\n",
    "\n",
    "data_api = data_api.loc[:, (data_api != 0).any(axis=0)]\n",
    "x_train_api = data_api\n",
    "X_test_api = df_3000_api.drop(['malicious','packed'], axis=1)\n",
    "y_train_api = y\n",
    "y_test_api = df_3000_api['malicious'].values"
   ]
  },
  {
   "cell_type": "code",
   "execution_count": 50,
   "id": "4d3321e0",
   "metadata": {
    "execution": {
     "iopub.execute_input": "2024-01-23T12:10:33.227945Z",
     "iopub.status.busy": "2024-01-23T12:10:33.227431Z",
     "iopub.status.idle": "2024-01-23T12:10:52.017940Z",
     "shell.execute_reply": "2024-01-23T12:10:52.016628Z"
    },
    "papermill": {
     "duration": 18.824075,
     "end_time": "2024-01-23T12:10:52.020719",
     "exception": false,
     "start_time": "2024-01-23T12:10:33.196644",
     "status": "completed"
    },
    "tags": []
   },
   "outputs": [
    {
     "name": "stdout",
     "output_type": "stream",
     "text": [
      "The accuracy of the Random Forests model is :\t 0.8825321597833446\n"
     ]
    }
   ],
   "source": [
    "# Random Forest\n",
    "from sklearn.ensemble import RandomForestClassifier\n",
    "from sklearn import metrics\n",
    "\n",
    "random_forest = RandomForestClassifier(n_estimators=100, random_state=17)\n",
    "random_forest.fit(X_train_api, y_train_api)\n",
    "random_forest_preds = random_forest.predict(X_test_api)\n",
    "print('The accuracy of the Random Forests model is :\\t',metrics.accuracy_score(random_forest_preds,y_test_api))"
   ]
  },
  {
   "cell_type": "markdown",
   "id": "76168688",
   "metadata": {
    "papermill": {
     "duration": 0.027607,
     "end_time": "2024-01-23T12:10:52.076813",
     "exception": false,
     "start_time": "2024-01-23T12:10:52.049206",
     "status": "completed"
    },
    "tags": []
   },
   "source": [
    "# **dll features**"
   ]
  },
  {
   "cell_type": "code",
   "execution_count": 51,
   "id": "2825925c",
   "metadata": {
    "execution": {
     "iopub.execute_input": "2024-01-23T12:10:52.136547Z",
     "iopub.status.busy": "2024-01-23T12:10:52.136154Z",
     "iopub.status.idle": "2024-01-23T12:10:54.129865Z",
     "shell.execute_reply": "2024-01-23T12:10:54.128640Z"
    },
    "papermill": {
     "duration": 2.026433,
     "end_time": "2024-01-23T12:10:54.133061",
     "exception": false,
     "start_time": "2024-01-23T12:10:52.106628",
     "status": "completed"
    },
    "tags": []
   },
   "outputs": [],
   "source": [
    "mpress = pd.read_pickle('/kaggle/input/packer-balance-pickle/mpress_balance.pickle')\n",
    "mpress = mpress.drop(['sample_sha1','benign','unpacked_sample_sha1','unpacked_sample_id'], axis=1)\n",
    "mpress = mpress.drop(['benign_vt','malicious_vt'], axis=1)\n",
    "string_columns = mpress.select_dtypes(include=['object']).columns\n",
    "mpress = mpress.drop(string_columns, axis=1)"
   ]
  },
  {
   "cell_type": "code",
   "execution_count": 52,
   "id": "f320137c",
   "metadata": {
    "execution": {
     "iopub.execute_input": "2024-01-23T12:10:54.194938Z",
     "iopub.status.busy": "2024-01-23T12:10:54.194520Z",
     "iopub.status.idle": "2024-01-23T12:10:55.577164Z",
     "shell.execute_reply": "2024-01-23T12:10:55.575477Z"
    },
    "papermill": {
     "duration": 1.417972,
     "end_time": "2024-01-23T12:10:55.579884",
     "exception": false,
     "start_time": "2024-01-23T12:10:54.161912",
     "status": "completed"
    },
    "tags": []
   },
   "outputs": [
    {
     "name": "stdout",
     "output_type": "stream",
     "text": [
      "removing 13000 features\n",
      "removing 2500 features\n",
      "removing 2 features\n",
      "removing 16900 features\n",
      "removing 66 features\n",
      "removing 19169 features\n",
      "removing 550 features\n",
      "removing 29 features\n"
     ]
    }
   ],
   "source": [
    "dll = remove_cols(mpress, [c for c in cols if c.startswith('ngram_')])\n",
    "dll = remove_cols(mpress, [c for c in cols if c.startswith('opcode_')])\n",
    "dll = remove_cols(mpress, [c for c in cols if c.startswith('generic_')])\n",
    "dll = remove_cols(mpress, [c for c in cols if c.startswith('string_')])\n",
    "dll = remove_cols(mpress, [c for c in cols if c.startswith('rich_')])\n",
    "dll = remove_cols(mpress, [c for c in cols if c.startswith('imp_') or 'api_import_nb' == c])\n",
    "# api = remove_cols(mpress, [c for c in cols if c.endswith('.dll') or 'dll_import_nb' == c])\n",
    "dll = remove_cols(mpress, [c for c in cols if c.startswith('pesection')])\n",
    "dll = remove_cols(mpress, [c for c in cols if c.startswith('header_')])"
   ]
  },
  {
   "cell_type": "code",
   "execution_count": 53,
   "id": "506de142",
   "metadata": {
    "execution": {
     "iopub.execute_input": "2024-01-23T12:10:55.640597Z",
     "iopub.status.busy": "2024-01-23T12:10:55.640167Z",
     "iopub.status.idle": "2024-01-23T12:10:55.742539Z",
     "shell.execute_reply": "2024-01-23T12:10:55.741608Z"
    },
    "papermill": {
     "duration": 0.136372,
     "end_time": "2024-01-23T12:10:55.745467",
     "exception": false,
     "start_time": "2024-01-23T12:10:55.609095",
     "status": "completed"
    },
    "tags": []
   },
   "outputs": [],
   "source": [
    "df_7000_dll = dll.sample(n=7000, random_state=102)\n",
    "df_3000_dll = dll.drop(df_7000.index)\n",
    "data_dll = df_7000_dll.sample(n=3500, random_state=102)"
   ]
  },
  {
   "cell_type": "code",
   "execution_count": 54,
   "id": "8374fb98",
   "metadata": {
    "execution": {
     "iopub.execute_input": "2024-01-23T12:10:55.808570Z",
     "iopub.status.busy": "2024-01-23T12:10:55.807681Z",
     "iopub.status.idle": "2024-01-23T12:10:56.033845Z",
     "shell.execute_reply": "2024-01-23T12:10:56.032959Z"
    },
    "papermill": {
     "duration": 0.260086,
     "end_time": "2024-01-23T12:10:56.036466",
     "exception": false,
     "start_time": "2024-01-23T12:10:55.776380",
     "status": "completed"
    },
    "tags": []
   },
   "outputs": [
    {
     "name": "stdout",
     "output_type": "stream",
     "text": [
      "Packed Malware: 1790 samples\n",
      "Packed Benign: 1710 samples\n",
      "Total TRAIN set: 3500 samples\n",
      "Packed Malware: 1710 samples\n",
      "Packed Benign: 1710 samples\n",
      "Total TRAIN set: 3420 samples\n",
      "Packed Malware: 1477 samples\n",
      "Packed Benign: 1477 samples\n",
      "Total TEST set: 2954 samples\n"
     ]
    }
   ],
   "source": [
    "#Kiểm tra số lượng mẫu\n",
    "PM = data_dll[(data_dll['malicious'] == True) & (data_dll['packed'] == True)].shape[0]\n",
    "PB = data_dll[(data_dll['malicious'] == False) & (data_dll['packed'] == True)].shape[0]\n",
    "print('Packed Malware: %i samples' % PM)\n",
    "print('Packed Benign: %i samples' % PB)\n",
    "print('Total TRAIN set: %i samples'% (PM+PB))\n",
    "\n",
    "#Chia tỉ lệ 50 - 50\n",
    "data_PM_dll = data_dll[(data_dll['malicious'] == True) & (data_dll['packed'] == True)].sample(n=(PM-PB), random_state=102)\n",
    "data_dll = data_dll.drop(data_PM_dll.index)\n",
    "      \n",
    "#Số lượng tập train\n",
    "PM = data_dll[(data_dll['malicious'] == True) & (data_dll['packed'] == True)].shape[0]\n",
    "PB = data_dll[(data_dll['malicious'] == False) & (data_dll['packed'] == True)].shape[0]\n",
    "print('Packed Malware: %i samples' % PM)\n",
    "print('Packed Benign: %i samples' % PB)\n",
    "print('Total TRAIN set: %i samples'% (PM+PB))\n",
    "\n",
    "#Xử lý tập train\n",
    "y = data_dll['malicious'].values\n",
    "data_dll = data_dll.drop(['malicious','packed'], axis=1)\n",
    "\n",
    "PM = df_3000_dll[(df_3000_dll['malicious'] == True) & (df_3000_dll['packed'] == True)].shape[0]\n",
    "PB = df_3000_dll[(df_3000_dll['malicious'] == False) & (df_3000_dll['packed'] == True)].shape[0]\n",
    "\n",
    "df_3000_PM_dll = df_3000_dll[(df_3000_dll['malicious'] == True) & (df_3000_dll['packed'] == True)].sample(n=(PM-PB), random_state=102)\n",
    "df_3000_dll = df_3000_dll.drop(df_3000_PM_dll.index)\n",
    "\n",
    "PM = df_3000_dll[(df_3000_dll['malicious'] == True) & (df_3000_dll['packed'] == True)].shape[0]\n",
    "PB = df_3000_dll[(df_3000_dll['malicious'] == False) & (df_3000_dll['packed'] == True)].shape[0]\n",
    "\n",
    "print('Packed Malware: %i samples' % PM)\n",
    "print('Packed Benign: %i samples' % PB)\n",
    "print('Total TEST set: %i samples'% (PM+PB))"
   ]
  },
  {
   "cell_type": "code",
   "execution_count": 55,
   "id": "091078ad",
   "metadata": {
    "execution": {
     "iopub.execute_input": "2024-01-23T12:10:56.098195Z",
     "iopub.status.busy": "2024-01-23T12:10:56.097076Z",
     "iopub.status.idle": "2024-01-23T12:10:56.160495Z",
     "shell.execute_reply": "2024-01-23T12:10:56.159190Z"
    },
    "papermill": {
     "duration": 0.09741,
     "end_time": "2024-01-23T12:10:56.163635",
     "exception": false,
     "start_time": "2024-01-23T12:10:56.066225",
     "status": "completed"
    },
    "tags": []
   },
   "outputs": [],
   "source": [
    "# model = SelectFromModel(fsel, prefit=True)\n",
    "\n",
    "X_train_dll = data_dll\n",
    "X_test_dll = df_3000_dll.drop(['malicious','packed'], axis=1)\n",
    "\n",
    "data_dll = data_dll.loc[:, (data_dll != 0).any(axis=0)]\n",
    "x_train_dll = data_dll\n",
    "X_test_dll = df_3000_dll.drop(['malicious','packed'], axis=1)\n",
    "y_train_dll = y\n",
    "y_test_dll = df_3000_dll['malicious'].values"
   ]
  },
  {
   "cell_type": "code",
   "execution_count": 56,
   "id": "5bc8da23",
   "metadata": {
    "execution": {
     "iopub.execute_input": "2024-01-23T12:10:56.226901Z",
     "iopub.status.busy": "2024-01-23T12:10:56.226454Z",
     "iopub.status.idle": "2024-01-23T12:11:02.754333Z",
     "shell.execute_reply": "2024-01-23T12:11:02.753184Z"
    },
    "papermill": {
     "duration": 6.563406,
     "end_time": "2024-01-23T12:11:02.757322",
     "exception": false,
     "start_time": "2024-01-23T12:10:56.193916",
     "status": "completed"
    },
    "tags": []
   },
   "outputs": [
    {
     "name": "stdout",
     "output_type": "stream",
     "text": [
      "The accuracy of the Random Forests model is :\t 0.8859174001354096\n"
     ]
    }
   ],
   "source": [
    "# Random Forest\n",
    "from sklearn.ensemble import RandomForestClassifier\n",
    "from sklearn import metrics\n",
    "\n",
    "random_forest = RandomForestClassifier(n_estimators=100, random_state=17)\n",
    "random_forest.fit(X_train_dll, y_train_dll)\n",
    "random_forest_preds = random_forest.predict(X_test_dll)\n",
    "print('The accuracy of the Random Forests model is :\\t',metrics.accuracy_score(random_forest_preds,y_test_dll))"
   ]
  },
  {
   "cell_type": "markdown",
   "id": "84e60515",
   "metadata": {
    "papermill": {
     "duration": 0.028309,
     "end_time": "2024-01-23T12:11:02.814772",
     "exception": false,
     "start_time": "2024-01-23T12:11:02.786463",
     "status": "completed"
    },
    "tags": []
   },
   "source": [
    "# **pe sections features**"
   ]
  },
  {
   "cell_type": "code",
   "execution_count": 57,
   "id": "81c1db4d",
   "metadata": {
    "execution": {
     "iopub.execute_input": "2024-01-23T12:11:02.874541Z",
     "iopub.status.busy": "2024-01-23T12:11:02.874040Z",
     "iopub.status.idle": "2024-01-23T12:11:04.653645Z",
     "shell.execute_reply": "2024-01-23T12:11:04.652458Z"
    },
    "papermill": {
     "duration": 1.813151,
     "end_time": "2024-01-23T12:11:04.656572",
     "exception": false,
     "start_time": "2024-01-23T12:11:02.843421",
     "status": "completed"
    },
    "tags": []
   },
   "outputs": [],
   "source": [
    "mpress = pd.read_pickle('/kaggle/input/packer-balance-pickle/mpress_balance.pickle')\n",
    "mpress = mpress.drop(['sample_sha1','benign','unpacked_sample_sha1','unpacked_sample_id'], axis=1)\n",
    "mpress = mpress.drop(['benign_vt','malicious_vt'], axis=1)\n",
    "string_columns = mpress.select_dtypes(include=['object']).columns\n",
    "mpress = mpress.drop(string_columns, axis=1)"
   ]
  },
  {
   "cell_type": "code",
   "execution_count": 58,
   "id": "342cda27",
   "metadata": {
    "execution": {
     "iopub.execute_input": "2024-01-23T12:11:04.716604Z",
     "iopub.status.busy": "2024-01-23T12:11:04.716088Z",
     "iopub.status.idle": "2024-01-23T12:11:06.243271Z",
     "shell.execute_reply": "2024-01-23T12:11:06.241964Z"
    },
    "papermill": {
     "duration": 1.560451,
     "end_time": "2024-01-23T12:11:06.245755",
     "exception": false,
     "start_time": "2024-01-23T12:11:04.685304",
     "status": "completed"
    },
    "tags": []
   },
   "outputs": [
    {
     "name": "stdout",
     "output_type": "stream",
     "text": [
      "removing 13000 features\n",
      "removing 2500 features\n",
      "removing 2 features\n",
      "removing 16900 features\n",
      "removing 66 features\n",
      "removing 19169 features\n",
      "removing 4306 features\n",
      "removing 29 features\n"
     ]
    }
   ],
   "source": [
    "pesection = remove_cols(mpress, [c for c in cols if c.startswith('ngram_')])\n",
    "pesection = remove_cols(mpress, [c for c in cols if c.startswith('opcode_')])\n",
    "pesection = remove_cols(mpress, [c for c in cols if c.startswith('generic_')])\n",
    "pesection = remove_cols(mpress, [c for c in cols if c.startswith('string_')])\n",
    "pesection = remove_cols(mpress, [c for c in cols if c.startswith('rich_')])\n",
    "pesection = remove_cols(mpress, [c for c in cols if c.startswith('imp_') or 'api_import_nb' == c])\n",
    "pesection = remove_cols(mpress, [c for c in cols if c.endswith('.dll') or 'dll_import_nb' == c])\n",
    "# pesection = remove_cols(mpress, [c for c in cols if c.startswith('pesection')])\n",
    "pesection = remove_cols(mpress, [c for c in cols if c.startswith('header_')])"
   ]
  },
  {
   "cell_type": "code",
   "execution_count": 59,
   "id": "6af094b0",
   "metadata": {
    "execution": {
     "iopub.execute_input": "2024-01-23T12:11:06.306369Z",
     "iopub.status.busy": "2024-01-23T12:11:06.305865Z",
     "iopub.status.idle": "2024-01-23T12:11:06.369285Z",
     "shell.execute_reply": "2024-01-23T12:11:06.368022Z"
    },
    "papermill": {
     "duration": 0.09738,
     "end_time": "2024-01-23T12:11:06.372423",
     "exception": false,
     "start_time": "2024-01-23T12:11:06.275043",
     "status": "completed"
    },
    "tags": []
   },
   "outputs": [],
   "source": [
    "df_7000_pesection = pesection.sample(n=7000, random_state=102)\n",
    "df_3000_pesection = pesection.drop(df_7000.index)\n",
    "data_pesection = df_7000_pesection.sample(n=3500, random_state=102)"
   ]
  },
  {
   "cell_type": "code",
   "execution_count": 60,
   "id": "deebbf35",
   "metadata": {
    "execution": {
     "iopub.execute_input": "2024-01-23T12:11:06.435282Z",
     "iopub.status.busy": "2024-01-23T12:11:06.434825Z",
     "iopub.status.idle": "2024-01-23T12:11:06.595508Z",
     "shell.execute_reply": "2024-01-23T12:11:06.594138Z"
    },
    "papermill": {
     "duration": 0.196111,
     "end_time": "2024-01-23T12:11:06.598814",
     "exception": false,
     "start_time": "2024-01-23T12:11:06.402703",
     "status": "completed"
    },
    "tags": []
   },
   "outputs": [
    {
     "name": "stdout",
     "output_type": "stream",
     "text": [
      "Packed Malware: 1790 samples\n",
      "Packed Benign: 1710 samples\n",
      "Total TRAIN set: 3500 samples\n",
      "Packed Malware: 1710 samples\n",
      "Packed Benign: 1710 samples\n",
      "Total TRAIN set: 3420 samples\n",
      "Packed Malware: 1477 samples\n",
      "Packed Benign: 1477 samples\n",
      "Total TEST set: 2954 samples\n"
     ]
    }
   ],
   "source": [
    "#Kiểm tra số lượng mẫu\n",
    "PM = data_pesection[(data_pesection['malicious'] == True) & (data_pesection['packed'] == True)].shape[0]\n",
    "PB = data_pesection[(data_pesection['malicious'] == False) & (data_pesection['packed'] == True)].shape[0]\n",
    "print('Packed Malware: %i samples' % PM)\n",
    "print('Packed Benign: %i samples' % PB)\n",
    "print('Total TRAIN set: %i samples'% (PM+PB))\n",
    "\n",
    "#Chia tỉ lệ 50 - 50\n",
    "data_PM_pesection = data_pesection[(data_pesection['malicious'] == True) & (data_pesection['packed'] == True)].sample(n=(PM-PB), random_state=102)\n",
    "data_pesection = data_pesection.drop(data_PM_pesection.index)\n",
    "      \n",
    "#Số lượng tập train\n",
    "PM = data_pesection[(data_pesection['malicious'] == True) & (data_pesection['packed'] == True)].shape[0]\n",
    "PB = data_pesection[(data_pesection['malicious'] == False) & (data_pesection['packed'] == True)].shape[0]\n",
    "print('Packed Malware: %i samples' % PM)\n",
    "print('Packed Benign: %i samples' % PB)\n",
    "print('Total TRAIN set: %i samples'% (PM+PB))\n",
    "\n",
    "#Xử lý tập train\n",
    "y = data_pesection['malicious'].values\n",
    "data_pesection = data_pesection.drop(['malicious','packed'], axis=1)\n",
    "\n",
    "PM = df_3000_pesection[(df_3000_pesection['malicious'] == True) & (df_3000_pesection['packed'] == True)].shape[0]\n",
    "PB = df_3000_pesection[(df_3000_pesection['malicious'] == False) & (df_3000_pesection['packed'] == True)].shape[0]\n",
    "\n",
    "df_3000_PM_pesection = df_3000_pesection[(df_3000_pesection['malicious'] == True) & (df_3000_pesection['packed'] == True)].sample(n=(PM-PB), random_state=102)\n",
    "df_3000_pesection = df_3000_pesection.drop(df_3000_PM_pesection.index)\n",
    "\n",
    "PM = df_3000_pesection[(df_3000_pesection['malicious'] == True) & (df_3000_pesection['packed'] == True)].shape[0]\n",
    "PB = df_3000_pesection[(df_3000_pesection['malicious'] == False) & (df_3000_pesection['packed'] == True)].shape[0]\n",
    "\n",
    "print('Packed Malware: %i samples' % PM)\n",
    "print('Packed Benign: %i samples' % PB)\n",
    "print('Total TEST set: %i samples'% (PM+PB))"
   ]
  },
  {
   "cell_type": "code",
   "execution_count": 61,
   "id": "b03ea328",
   "metadata": {
    "execution": {
     "iopub.execute_input": "2024-01-23T12:11:06.661495Z",
     "iopub.status.busy": "2024-01-23T12:11:06.660872Z",
     "iopub.status.idle": "2024-01-23T12:11:06.705616Z",
     "shell.execute_reply": "2024-01-23T12:11:06.704135Z"
    },
    "papermill": {
     "duration": 0.079224,
     "end_time": "2024-01-23T12:11:06.708571",
     "exception": false,
     "start_time": "2024-01-23T12:11:06.629347",
     "status": "completed"
    },
    "tags": []
   },
   "outputs": [],
   "source": [
    "# model = SelectFromModel(fsel, prefit=True)\n",
    "\n",
    "X_train_pesection = data_pesection\n",
    "X_test_pesection = df_3000_pesection.drop(['malicious','packed'], axis=1)\n",
    "\n",
    "data_pesection = data_pesection.loc[:, (data_pesection != 0).any(axis=0)]\n",
    "x_train_pesection = data_pesection\n",
    "X_test_pesection = df_3000_pesection.drop(['malicious','packed'], axis=1)\n",
    "y_train_pesection = y\n",
    "y_test_pesection = df_3000_pesection['malicious'].values"
   ]
  },
  {
   "cell_type": "code",
   "execution_count": 62,
   "id": "78a8da6c",
   "metadata": {
    "execution": {
     "iopub.execute_input": "2024-01-23T12:11:06.770607Z",
     "iopub.status.busy": "2024-01-23T12:11:06.770130Z",
     "iopub.status.idle": "2024-01-23T12:11:07.825194Z",
     "shell.execute_reply": "2024-01-23T12:11:07.822822Z"
    },
    "papermill": {
     "duration": 1.089985,
     "end_time": "2024-01-23T12:11:07.828208",
     "exception": false,
     "start_time": "2024-01-23T12:11:06.738223",
     "status": "completed"
    },
    "tags": []
   },
   "outputs": [
    {
     "name": "stdout",
     "output_type": "stream",
     "text": [
      "The accuracy of the Random Forests model is :\t 0.9136763710223426\n"
     ]
    }
   ],
   "source": [
    "# Random Forest\n",
    "from sklearn.ensemble import RandomForestClassifier\n",
    "from sklearn import metrics\n",
    "\n",
    "random_forest = RandomForestClassifier(n_estimators=100, random_state=17)\n",
    "random_forest.fit(X_train_pesection, y_train_pesection)\n",
    "random_forest_preds = random_forest.predict(X_test_pesection)\n",
    "print('The accuracy of the Random Forests model is :\\t',metrics.accuracy_score(random_forest_preds,y_test_pesection))"
   ]
  },
  {
   "cell_type": "markdown",
   "id": "352be108",
   "metadata": {
    "papermill": {
     "duration": 0.039601,
     "end_time": "2024-01-23T12:11:07.906175",
     "exception": false,
     "start_time": "2024-01-23T12:11:07.866574",
     "status": "completed"
    },
    "tags": []
   },
   "source": [
    "# **pe header features**"
   ]
  },
  {
   "cell_type": "code",
   "execution_count": 63,
   "id": "25aa5b96",
   "metadata": {
    "execution": {
     "iopub.execute_input": "2024-01-23T12:11:07.971092Z",
     "iopub.status.busy": "2024-01-23T12:11:07.970106Z",
     "iopub.status.idle": "2024-01-23T12:11:09.737278Z",
     "shell.execute_reply": "2024-01-23T12:11:09.736097Z"
    },
    "papermill": {
     "duration": 1.803057,
     "end_time": "2024-01-23T12:11:09.740811",
     "exception": false,
     "start_time": "2024-01-23T12:11:07.937754",
     "status": "completed"
    },
    "tags": []
   },
   "outputs": [],
   "source": [
    "mpress = pd.read_pickle('/kaggle/input/packer-balance-pickle/mpress_balance.pickle')\n",
    "mpress = mpress.drop(['sample_sha1','benign','unpacked_sample_sha1','unpacked_sample_id'], axis=1)\n",
    "mpress = mpress.drop(['benign_vt','malicious_vt'], axis=1)\n",
    "string_columns = mpress.select_dtypes(include=['object']).columns\n",
    "mpress = mpress.drop(string_columns, axis=1)"
   ]
  },
  {
   "cell_type": "code",
   "execution_count": 64,
   "id": "56c6aa0d",
   "metadata": {
    "execution": {
     "iopub.execute_input": "2024-01-23T12:11:09.805834Z",
     "iopub.status.busy": "2024-01-23T12:11:09.805391Z",
     "iopub.status.idle": "2024-01-23T12:11:11.123123Z",
     "shell.execute_reply": "2024-01-23T12:11:11.121969Z"
    },
    "papermill": {
     "duration": 1.353621,
     "end_time": "2024-01-23T12:11:11.126138",
     "exception": false,
     "start_time": "2024-01-23T12:11:09.772517",
     "status": "completed"
    },
    "tags": []
   },
   "outputs": [
    {
     "name": "stdout",
     "output_type": "stream",
     "text": [
      "removing 13000 features\n",
      "removing 2500 features\n",
      "removing 2 features\n",
      "removing 16900 features\n",
      "removing 66 features\n",
      "removing 19169 features\n",
      "removing 4306 features\n",
      "removing 550 features\n"
     ]
    }
   ],
   "source": [
    "header = remove_cols(mpress, [c for c in cols if c.startswith('ngram_')])\n",
    "header = remove_cols(mpress, [c for c in cols if c.startswith('opcode_')])\n",
    "header = remove_cols(mpress, [c for c in cols if c.startswith('generic_')])\n",
    "header = remove_cols(mpress, [c for c in cols if c.startswith('string_')])\n",
    "header = remove_cols(mpress, [c for c in cols if c.startswith('rich_')])\n",
    "header = remove_cols(mpress, [c for c in cols if c.startswith('imp_') or 'api_import_nb' == c])\n",
    "header = remove_cols(mpress, [c for c in cols if c.endswith('.dll') or 'dll_import_nb' == c])\n",
    "header = remove_cols(mpress, [c for c in cols if c.startswith('pesection')])\n",
    "# header = remove_cols(mpress, [c for c in cols if c.startswith('header_')])"
   ]
  },
  {
   "cell_type": "code",
   "execution_count": 65,
   "id": "e7f5ccbc",
   "metadata": {
    "execution": {
     "iopub.execute_input": "2024-01-23T12:11:11.191492Z",
     "iopub.status.busy": "2024-01-23T12:11:11.191076Z",
     "iopub.status.idle": "2024-01-23T12:11:11.205794Z",
     "shell.execute_reply": "2024-01-23T12:11:11.204808Z"
    },
    "papermill": {
     "duration": 0.051007,
     "end_time": "2024-01-23T12:11:11.208511",
     "exception": false,
     "start_time": "2024-01-23T12:11:11.157504",
     "status": "completed"
    },
    "tags": []
   },
   "outputs": [],
   "source": [
    "df_7000_header = header.sample(n=7000, random_state=102)\n",
    "df_3000_header = header.drop(df_7000.index)\n",
    "data_header = df_7000_header.sample(n=3500, random_state=102)"
   ]
  },
  {
   "cell_type": "code",
   "execution_count": 66,
   "id": "176749f9",
   "metadata": {
    "execution": {
     "iopub.execute_input": "2024-01-23T12:11:11.272954Z",
     "iopub.status.busy": "2024-01-23T12:11:11.272284Z",
     "iopub.status.idle": "2024-01-23T12:11:11.315722Z",
     "shell.execute_reply": "2024-01-23T12:11:11.314564Z"
    },
    "papermill": {
     "duration": 0.07795,
     "end_time": "2024-01-23T12:11:11.318164",
     "exception": false,
     "start_time": "2024-01-23T12:11:11.240214",
     "status": "completed"
    },
    "tags": []
   },
   "outputs": [
    {
     "name": "stdout",
     "output_type": "stream",
     "text": [
      "Packed Malware: 1790 samples\n",
      "Packed Benign: 1710 samples\n",
      "Total TRAIN set: 3500 samples\n",
      "Packed Malware: 1710 samples\n",
      "Packed Benign: 1710 samples\n",
      "Total TRAIN set: 3420 samples\n",
      "Packed Malware: 1477 samples\n",
      "Packed Benign: 1477 samples\n",
      "Total TEST set: 2954 samples\n"
     ]
    }
   ],
   "source": [
    "#Kiểm tra số lượng mẫu\n",
    "PM = data_header[(data_header['malicious'] == True) & (data_header['packed'] == True)].shape[0]\n",
    "PB = data_header[(data_header['malicious'] == False) & (data_header['packed'] == True)].shape[0]\n",
    "print('Packed Malware: %i samples' % PM)\n",
    "print('Packed Benign: %i samples' % PB)\n",
    "print('Total TRAIN set: %i samples'% (PM+PB))\n",
    "\n",
    "#Chia tỉ lệ 50 - 50\n",
    "data_PM_header = data_header[(data_header['malicious'] == True) & (data_header['packed'] == True)].sample(n=(PM-PB), random_state=102)\n",
    "data_header = data_header.drop(data_PM_header.index)\n",
    "      \n",
    "#Số lượng tập train\n",
    "PM = data_header[(data_header['malicious'] == True) & (data_header['packed'] == True)].shape[0]\n",
    "PB = data_header[(data_header['malicious'] == False) & (data_header['packed'] == True)].shape[0]\n",
    "print('Packed Malware: %i samples' % PM)\n",
    "print('Packed Benign: %i samples' % PB)\n",
    "print('Total TRAIN set: %i samples'% (PM+PB))\n",
    "\n",
    "#Xử lý tập train\n",
    "y = data_header['malicious'].values\n",
    "data_header= data_header.drop(['malicious','packed'], axis=1)\n",
    "\n",
    "PM = df_3000_header[(df_3000_header['malicious'] == True) & (df_3000_header['packed'] == True)].shape[0]\n",
    "PB = df_3000_header[(df_3000_header['malicious'] == False) & (df_3000_header['packed'] == True)].shape[0]\n",
    "\n",
    "df_3000_PM_header = df_3000_header[(df_3000_header['malicious'] == True) & (df_3000_header['packed'] == True)].sample(n=(PM-PB), random_state=102)\n",
    "df_3000_header= df_3000_header.drop(df_3000_PM_header.index)\n",
    "\n",
    "PM = df_3000_header[(df_3000_header['malicious'] == True) & (df_3000_header['packed'] == True)].shape[0]\n",
    "PB = df_3000_header[(df_3000_header['malicious'] == False) & (df_3000_header['packed'] == True)].shape[0]\n",
    "\n",
    "print('Packed Malware: %i samples' % PM)\n",
    "print('Packed Benign: %i samples' % PB)\n",
    "print('Total TEST set: %i samples'% (PM+PB))"
   ]
  },
  {
   "cell_type": "code",
   "execution_count": 67,
   "id": "7f9fda3e",
   "metadata": {
    "execution": {
     "iopub.execute_input": "2024-01-23T12:11:11.381738Z",
     "iopub.status.busy": "2024-01-23T12:11:11.381292Z",
     "iopub.status.idle": "2024-01-23T12:11:11.394791Z",
     "shell.execute_reply": "2024-01-23T12:11:11.393861Z"
    },
    "papermill": {
     "duration": 0.048235,
     "end_time": "2024-01-23T12:11:11.397229",
     "exception": false,
     "start_time": "2024-01-23T12:11:11.348994",
     "status": "completed"
    },
    "tags": []
   },
   "outputs": [],
   "source": [
    "# model = SelectFromModel(fsel, prefit=True)\n",
    "\n",
    "X_train_header = data_header\n",
    "X_test_header = df_3000_header.drop(['malicious','packed'], axis=1)\n",
    "\n",
    "data_header = data_header.loc[:, (data_header != 0).any(axis=0)]\n",
    "x_train_header = data_header\n",
    "X_test_header = df_3000_header.drop(['malicious','packed'], axis=1)\n",
    "y_train_header = y\n",
    "y_test_header = df_3000_header['malicious'].values"
   ]
  },
  {
   "cell_type": "code",
   "execution_count": 68,
   "id": "33e55141",
   "metadata": {
    "execution": {
     "iopub.execute_input": "2024-01-23T12:11:11.459952Z",
     "iopub.status.busy": "2024-01-23T12:11:11.459531Z",
     "iopub.status.idle": "2024-01-23T12:11:12.070161Z",
     "shell.execute_reply": "2024-01-23T12:11:12.068539Z"
    },
    "papermill": {
     "duration": 0.645634,
     "end_time": "2024-01-23T12:11:12.073027",
     "exception": false,
     "start_time": "2024-01-23T12:11:11.427393",
     "status": "completed"
    },
    "tags": []
   },
   "outputs": [
    {
     "name": "stdout",
     "output_type": "stream",
     "text": [
      "The accuracy of the Random Forests model is :\t 0.8937034529451591\n"
     ]
    }
   ],
   "source": [
    "# Random Forest\n",
    "from sklearn.ensemble import RandomForestClassifier\n",
    "from sklearn import metrics\n",
    "\n",
    "random_forest = RandomForestClassifier(n_estimators=100, random_state=17)\n",
    "random_forest.fit(X_train_header, y_train_header)\n",
    "random_forest_preds = random_forest.predict(X_test_header)\n",
    "print('The accuracy of the Random Forests model is :\\t',metrics.accuracy_score(random_forest_preds,y_test_header))"
   ]
  }
 ],
 "metadata": {
  "kaggle": {
   "accelerator": "none",
   "dataSources": [
    {
     "datasetId": 4192384,
     "sourceId": 7262652,
     "sourceType": "datasetVersion"
    }
   ],
   "dockerImageVersionId": 30626,
   "isGpuEnabled": false,
   "isInternetEnabled": true,
   "language": "python",
   "sourceType": "notebook"
  },
  "kernelspec": {
   "display_name": "Python 3",
   "language": "python",
   "name": "python3"
  },
  "language_info": {
   "codemirror_mode": {
    "name": "ipython",
    "version": 3
   },
   "file_extension": ".py",
   "mimetype": "text/x-python",
   "name": "python",
   "nbconvert_exporter": "python",
   "pygments_lexer": "ipython3",
   "version": "3.10.12"
  },
  "papermill": {
   "default_parameters": {},
   "duration": 112.388358,
   "end_time": "2024-01-23T12:11:12.927211",
   "environment_variables": {},
   "exception": null,
   "input_path": "__notebook__.ipynb",
   "output_path": "__notebook__.ipynb",
   "parameters": {},
   "start_time": "2024-01-23T12:09:20.538853",
   "version": "2.4.0"
  }
 },
 "nbformat": 4,
 "nbformat_minor": 5
}
