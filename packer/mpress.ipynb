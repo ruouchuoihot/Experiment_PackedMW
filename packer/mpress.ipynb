{
 "cells": [
  {
   "cell_type": "code",
   "execution_count": 1,
   "id": "19420f0e",
   "metadata": {
    "execution": {
     "iopub.execute_input": "2023-12-27T01:16:37.262899Z",
     "iopub.status.busy": "2023-12-27T01:16:37.262521Z",
     "iopub.status.idle": "2023-12-27T01:16:39.772838Z",
     "shell.execute_reply": "2023-12-27T01:16:39.771689Z"
    },
    "papermill": {
     "duration": 2.538823,
     "end_time": "2023-12-27T01:16:39.775717",
     "exception": false,
     "start_time": "2023-12-27T01:16:37.236894",
     "status": "completed"
    },
    "tags": []
   },
   "outputs": [],
   "source": [
    "import pandas as pd\n",
    "import numpy as np\n",
    "import sklearn\n",
    "import sklearn.naive_bayes\n",
    "import sklearn.ensemble as ske\n",
    "import sklearn.neighbors\n",
    "import sklearn.pipeline\n",
    "import sklearn.linear_model\n",
    "import joblib\n",
    "from sklearn import preprocessing\n",
    "from sklearn import tree, linear_model\n",
    "from sklearn.metrics import confusion_matrix\n",
    "from sklearn.metrics import classification_report\n",
    "from sklearn.feature_selection import SelectFromModel\n",
    "import sys\n",
    "import sqlite3\n",
    "import importlib\n",
    "import matplotlib.pyplot as plt\n",
    "import seaborn as sn\n",
    "from sklearn import metrics"
   ]
  },
  {
   "cell_type": "code",
   "execution_count": 2,
   "id": "630f2bd2",
   "metadata": {
    "execution": {
     "iopub.execute_input": "2023-12-27T01:16:39.823947Z",
     "iopub.status.busy": "2023-12-27T01:16:39.822994Z",
     "iopub.status.idle": "2023-12-27T01:16:47.235995Z",
     "shell.execute_reply": "2023-12-27T01:16:47.235068Z"
    },
    "papermill": {
     "duration": 7.440067,
     "end_time": "2023-12-27T01:16:47.238605",
     "exception": false,
     "start_time": "2023-12-27T01:16:39.798538",
     "status": "completed"
    },
    "tags": []
   },
   "outputs": [],
   "source": [
    "mpress = pd.read_pickle('/kaggle/input/packer-balance-pickle/mpress_balance.pickle')"
   ]
  },
  {
   "cell_type": "code",
   "execution_count": 3,
   "id": "25405990",
   "metadata": {
    "execution": {
     "iopub.execute_input": "2023-12-27T01:16:47.287734Z",
     "iopub.status.busy": "2023-12-27T01:16:47.287300Z",
     "iopub.status.idle": "2023-12-27T01:16:48.250786Z",
     "shell.execute_reply": "2023-12-27T01:16:48.249517Z"
    },
    "papermill": {
     "duration": 0.990621,
     "end_time": "2023-12-27T01:16:48.253567",
     "exception": false,
     "start_time": "2023-12-27T01:16:47.262946",
     "status": "completed"
    },
    "tags": []
   },
   "outputs": [],
   "source": [
    "mpress = mpress.drop(['sample_sha1','benign','unpacked_sample_sha1','unpacked_sample_id'], axis=1)\n",
    "mpress = mpress.drop(['benign_vt','malicious_vt'], axis=1)"
   ]
  },
  {
   "cell_type": "code",
   "execution_count": 4,
   "id": "76ae66b8",
   "metadata": {
    "execution": {
     "iopub.execute_input": "2023-12-27T01:16:48.302034Z",
     "iopub.status.busy": "2023-12-27T01:16:48.301375Z",
     "iopub.status.idle": "2023-12-27T01:16:48.636121Z",
     "shell.execute_reply": "2023-12-27T01:16:48.634926Z"
    },
    "papermill": {
     "duration": 0.362085,
     "end_time": "2023-12-27T01:16:48.638891",
     "exception": false,
     "start_time": "2023-12-27T01:16:48.276806",
     "status": "completed"
    },
    "tags": []
   },
   "outputs": [],
   "source": [
    "string_columns = mpress.select_dtypes(include=['object']).columns\n",
    "mpress = mpress.drop(string_columns, axis=1)"
   ]
  },
  {
   "cell_type": "code",
   "execution_count": 5,
   "id": "410908a7",
   "metadata": {
    "execution": {
     "iopub.execute_input": "2023-12-27T01:16:48.702251Z",
     "iopub.status.busy": "2023-12-27T01:16:48.701708Z",
     "iopub.status.idle": "2023-12-27T01:16:48.755965Z",
     "shell.execute_reply": "2023-12-27T01:16:48.754797Z"
    },
    "papermill": {
     "duration": 0.096795,
     "end_time": "2023-12-27T01:16:48.758808",
     "exception": false,
     "start_time": "2023-12-27T01:16:48.662013",
     "status": "completed"
    },
    "tags": []
   },
   "outputs": [
    {
     "data": {
      "text/html": [
       "<div>\n",
       "<style scoped>\n",
       "    .dataframe tbody tr th:only-of-type {\n",
       "        vertical-align: middle;\n",
       "    }\n",
       "\n",
       "    .dataframe tbody tr th {\n",
       "        vertical-align: top;\n",
       "    }\n",
       "\n",
       "    .dataframe thead th {\n",
       "        text-align: right;\n",
       "    }\n",
       "</style>\n",
       "<table border=\"1\" class=\"dataframe\">\n",
       "  <thead>\n",
       "    <tr style=\"text-align: right;\">\n",
       "      <th></th>\n",
       "      <th>malicious</th>\n",
       "      <th>packed</th>\n",
       "      <th>imp_setupremovefilelogentrya</th>\n",
       "      <th>imp_vardeccmp</th>\n",
       "      <th>imp_setdlgitemint</th>\n",
       "      <th>imp_?append@?$basic_string@du?$char_traits@d@std@@v?$allocator@d@2@@std@@qaeaav12@abv12@ii@z</th>\n",
       "      <th>imp_zwwritefile</th>\n",
       "      <th>imp_glstencilop</th>\n",
       "      <th>imp_comparelinkinforeferents</th>\n",
       "      <th>imp__setmbcp</th>\n",
       "      <th>...</th>\n",
       "      <th>opcode_xor sub mov</th>\n",
       "      <th>opcode_xor sub mov add</th>\n",
       "      <th>opcode_xor test</th>\n",
       "      <th>opcode_xor test je</th>\n",
       "      <th>opcode_xor xor</th>\n",
       "      <th>opcode_xor xor mov</th>\n",
       "      <th>opcode_xor xor pop</th>\n",
       "      <th>opcode_xor xor pop mov</th>\n",
       "      <th>opcode_xor xor xor</th>\n",
       "      <th>opcode_xor xor xor pop</th>\n",
       "    </tr>\n",
       "  </thead>\n",
       "  <tbody>\n",
       "    <tr>\n",
       "      <th>0</th>\n",
       "      <td>True</td>\n",
       "      <td>True</td>\n",
       "      <td>False</td>\n",
       "      <td>False</td>\n",
       "      <td>False</td>\n",
       "      <td>False</td>\n",
       "      <td>False</td>\n",
       "      <td>False</td>\n",
       "      <td>False</td>\n",
       "      <td>False</td>\n",
       "      <td>...</td>\n",
       "      <td>0.0</td>\n",
       "      <td>0.0</td>\n",
       "      <td>0.0</td>\n",
       "      <td>0.0</td>\n",
       "      <td>0.0</td>\n",
       "      <td>0.0</td>\n",
       "      <td>0.0</td>\n",
       "      <td>0.0</td>\n",
       "      <td>0.0</td>\n",
       "      <td>0.0</td>\n",
       "    </tr>\n",
       "    <tr>\n",
       "      <th>1</th>\n",
       "      <td>False</td>\n",
       "      <td>True</td>\n",
       "      <td>False</td>\n",
       "      <td>False</td>\n",
       "      <td>False</td>\n",
       "      <td>False</td>\n",
       "      <td>False</td>\n",
       "      <td>False</td>\n",
       "      <td>False</td>\n",
       "      <td>False</td>\n",
       "      <td>...</td>\n",
       "      <td>0.0</td>\n",
       "      <td>0.0</td>\n",
       "      <td>0.0</td>\n",
       "      <td>0.0</td>\n",
       "      <td>0.0</td>\n",
       "      <td>0.0</td>\n",
       "      <td>0.0</td>\n",
       "      <td>0.0</td>\n",
       "      <td>0.0</td>\n",
       "      <td>0.0</td>\n",
       "    </tr>\n",
       "    <tr>\n",
       "      <th>6</th>\n",
       "      <td>False</td>\n",
       "      <td>True</td>\n",
       "      <td>False</td>\n",
       "      <td>False</td>\n",
       "      <td>False</td>\n",
       "      <td>False</td>\n",
       "      <td>False</td>\n",
       "      <td>False</td>\n",
       "      <td>False</td>\n",
       "      <td>False</td>\n",
       "      <td>...</td>\n",
       "      <td>0.0</td>\n",
       "      <td>0.0</td>\n",
       "      <td>0.0</td>\n",
       "      <td>0.0</td>\n",
       "      <td>0.0</td>\n",
       "      <td>0.0</td>\n",
       "      <td>0.0</td>\n",
       "      <td>0.0</td>\n",
       "      <td>0.0</td>\n",
       "      <td>0.0</td>\n",
       "    </tr>\n",
       "    <tr>\n",
       "      <th>8</th>\n",
       "      <td>False</td>\n",
       "      <td>True</td>\n",
       "      <td>False</td>\n",
       "      <td>False</td>\n",
       "      <td>False</td>\n",
       "      <td>False</td>\n",
       "      <td>False</td>\n",
       "      <td>False</td>\n",
       "      <td>False</td>\n",
       "      <td>False</td>\n",
       "      <td>...</td>\n",
       "      <td>0.0</td>\n",
       "      <td>0.0</td>\n",
       "      <td>0.0</td>\n",
       "      <td>0.0</td>\n",
       "      <td>0.0</td>\n",
       "      <td>0.0</td>\n",
       "      <td>0.0</td>\n",
       "      <td>0.0</td>\n",
       "      <td>0.0</td>\n",
       "      <td>0.0</td>\n",
       "    </tr>\n",
       "    <tr>\n",
       "      <th>9</th>\n",
       "      <td>False</td>\n",
       "      <td>True</td>\n",
       "      <td>False</td>\n",
       "      <td>False</td>\n",
       "      <td>False</td>\n",
       "      <td>False</td>\n",
       "      <td>False</td>\n",
       "      <td>False</td>\n",
       "      <td>False</td>\n",
       "      <td>False</td>\n",
       "      <td>...</td>\n",
       "      <td>0.0</td>\n",
       "      <td>0.0</td>\n",
       "      <td>0.0</td>\n",
       "      <td>0.0</td>\n",
       "      <td>0.0</td>\n",
       "      <td>0.0</td>\n",
       "      <td>0.0</td>\n",
       "      <td>0.0</td>\n",
       "      <td>0.0</td>\n",
       "      <td>0.0</td>\n",
       "    </tr>\n",
       "  </tbody>\n",
       "</table>\n",
       "<p>5 rows × 56526 columns</p>\n",
       "</div>"
      ],
      "text/plain": [
       "   malicious  packed  imp_setupremovefilelogentrya  imp_vardeccmp  \\\n",
       "0       True    True                         False          False   \n",
       "1      False    True                         False          False   \n",
       "6      False    True                         False          False   \n",
       "8      False    True                         False          False   \n",
       "9      False    True                         False          False   \n",
       "\n",
       "   imp_setdlgitemint  \\\n",
       "0              False   \n",
       "1              False   \n",
       "6              False   \n",
       "8              False   \n",
       "9              False   \n",
       "\n",
       "   imp_?append@?$basic_string@du?$char_traits@d@std@@v?$allocator@d@2@@std@@qaeaav12@abv12@ii@z  \\\n",
       "0                                              False                                              \n",
       "1                                              False                                              \n",
       "6                                              False                                              \n",
       "8                                              False                                              \n",
       "9                                              False                                              \n",
       "\n",
       "   imp_zwwritefile  imp_glstencilop  imp_comparelinkinforeferents  \\\n",
       "0            False            False                         False   \n",
       "1            False            False                         False   \n",
       "6            False            False                         False   \n",
       "8            False            False                         False   \n",
       "9            False            False                         False   \n",
       "\n",
       "   imp__setmbcp  ...  opcode_xor sub mov  opcode_xor sub mov add  \\\n",
       "0         False  ...                 0.0                     0.0   \n",
       "1         False  ...                 0.0                     0.0   \n",
       "6         False  ...                 0.0                     0.0   \n",
       "8         False  ...                 0.0                     0.0   \n",
       "9         False  ...                 0.0                     0.0   \n",
       "\n",
       "   opcode_xor test  opcode_xor test je  opcode_xor xor  opcode_xor xor mov  \\\n",
       "0              0.0                 0.0             0.0                 0.0   \n",
       "1              0.0                 0.0             0.0                 0.0   \n",
       "6              0.0                 0.0             0.0                 0.0   \n",
       "8              0.0                 0.0             0.0                 0.0   \n",
       "9              0.0                 0.0             0.0                 0.0   \n",
       "\n",
       "   opcode_xor xor pop  opcode_xor xor pop mov  opcode_xor xor xor  \\\n",
       "0                 0.0                     0.0                 0.0   \n",
       "1                 0.0                     0.0                 0.0   \n",
       "6                 0.0                     0.0                 0.0   \n",
       "8                 0.0                     0.0                 0.0   \n",
       "9                 0.0                     0.0                 0.0   \n",
       "\n",
       "   opcode_xor xor xor pop  \n",
       "0                     0.0  \n",
       "1                     0.0  \n",
       "6                     0.0  \n",
       "8                     0.0  \n",
       "9                     0.0  \n",
       "\n",
       "[5 rows x 56526 columns]"
      ]
     },
     "execution_count": 5,
     "metadata": {},
     "output_type": "execute_result"
    }
   ],
   "source": [
    "mpress.head()"
   ]
  },
  {
   "cell_type": "code",
   "execution_count": 6,
   "id": "0d5f22bc",
   "metadata": {
    "execution": {
     "iopub.execute_input": "2023-12-27T01:16:48.809052Z",
     "iopub.status.busy": "2023-12-27T01:16:48.808152Z",
     "iopub.status.idle": "2023-12-27T01:16:49.734007Z",
     "shell.execute_reply": "2023-12-27T01:16:49.732654Z"
    },
    "papermill": {
     "duration": 0.953857,
     "end_time": "2023-12-27T01:16:49.736722",
     "exception": false,
     "start_time": "2023-12-27T01:16:48.782865",
     "status": "completed"
    },
    "tags": []
   },
   "outputs": [],
   "source": [
    "df_7000 = mpress.sample(n=7000, random_state=102)\n",
    "df_3000 = mpress.drop(df_7000.index)"
   ]
  },
  {
   "cell_type": "code",
   "execution_count": 7,
   "id": "673479d3",
   "metadata": {
    "execution": {
     "iopub.execute_input": "2023-12-27T01:16:49.785832Z",
     "iopub.status.busy": "2023-12-27T01:16:49.785400Z",
     "iopub.status.idle": "2023-12-27T01:16:50.231387Z",
     "shell.execute_reply": "2023-12-27T01:16:50.229960Z"
    },
    "papermill": {
     "duration": 0.473849,
     "end_time": "2023-12-27T01:16:50.234139",
     "exception": false,
     "start_time": "2023-12-27T01:16:49.760290",
     "status": "completed"
    },
    "tags": []
   },
   "outputs": [],
   "source": [
    "data = df_7000.sample(n=3500, random_state=102)"
   ]
  },
  {
   "cell_type": "code",
   "execution_count": 8,
   "id": "61ceef63",
   "metadata": {
    "execution": {
     "iopub.execute_input": "2023-12-27T01:16:50.282804Z",
     "iopub.status.busy": "2023-12-27T01:16:50.282354Z",
     "iopub.status.idle": "2023-12-27T01:16:50.657692Z",
     "shell.execute_reply": "2023-12-27T01:16:50.656386Z"
    },
    "papermill": {
     "duration": 0.402765,
     "end_time": "2023-12-27T01:16:50.660527",
     "exception": false,
     "start_time": "2023-12-27T01:16:50.257762",
     "status": "completed"
    },
    "tags": []
   },
   "outputs": [
    {
     "name": "stdout",
     "output_type": "stream",
     "text": [
      "Packed Malware: 1790 samples\n",
      "Packed Benign: 1710 samples\n",
      "Total TRAIN set: 3500 samples\n"
     ]
    }
   ],
   "source": [
    "#Kiểm tra số lượng mẫu\n",
    "PM = data[(data['malicious'] == True) & (data['packed'] == True)].shape[0]\n",
    "PB = data[(data['malicious'] == False) & (data['packed'] == True)].shape[0]\n",
    "print('Packed Malware: %i samples' % PM)\n",
    "print('Packed Benign: %i samples' % PB)\n",
    "print('Total TRAIN set: %i samples'% (PM+PB))"
   ]
  },
  {
   "cell_type": "code",
   "execution_count": 9,
   "id": "ef40e0f7",
   "metadata": {
    "execution": {
     "iopub.execute_input": "2023-12-27T01:16:50.710507Z",
     "iopub.status.busy": "2023-12-27T01:16:50.709162Z",
     "iopub.status.idle": "2023-12-27T01:16:51.214577Z",
     "shell.execute_reply": "2023-12-27T01:16:51.212978Z"
    },
    "papermill": {
     "duration": 0.532728,
     "end_time": "2023-12-27T01:16:51.217351",
     "exception": false,
     "start_time": "2023-12-27T01:16:50.684623",
     "status": "completed"
    },
    "tags": []
   },
   "outputs": [],
   "source": [
    "#Chia tỉ lệ 50 - 50\n",
    "data_PM = data[(data['malicious'] == True) & (data['packed'] == True)].sample(n=(PM-PB), random_state=102)\n",
    "data = data.drop(data_PM.index)"
   ]
  },
  {
   "cell_type": "code",
   "execution_count": 10,
   "id": "d9a7d6c7",
   "metadata": {
    "execution": {
     "iopub.execute_input": "2023-12-27T01:16:51.334387Z",
     "iopub.status.busy": "2023-12-27T01:16:51.333408Z",
     "iopub.status.idle": "2023-12-27T01:16:51.625725Z",
     "shell.execute_reply": "2023-12-27T01:16:51.624521Z"
    },
    "papermill": {
     "duration": 0.387643,
     "end_time": "2023-12-27T01:16:51.628368",
     "exception": false,
     "start_time": "2023-12-27T01:16:51.240725",
     "status": "completed"
    },
    "tags": []
   },
   "outputs": [
    {
     "name": "stdout",
     "output_type": "stream",
     "text": [
      "Packed Malware: 1710 samples\n",
      "Packed Benign: 1710 samples\n",
      "Total TRAIN set: 3420 samples\n"
     ]
    }
   ],
   "source": [
    "#Số lượng tập train\n",
    "PM = data[(data['malicious'] == True) & (data['packed'] == True)].shape[0]\n",
    "PB = data[(data['malicious'] == False) & (data['packed'] == True)].shape[0]\n",
    "print('Packed Malware: %i samples' % PM)\n",
    "print('Packed Benign: %i samples' % PB)\n",
    "print('Total TRAIN set: %i samples'% (PM+PB))"
   ]
  },
  {
   "cell_type": "code",
   "execution_count": 11,
   "id": "450550a9",
   "metadata": {
    "execution": {
     "iopub.execute_input": "2023-12-27T01:16:51.677999Z",
     "iopub.status.busy": "2023-12-27T01:16:51.677105Z",
     "iopub.status.idle": "2023-12-27T01:16:51.797820Z",
     "shell.execute_reply": "2023-12-27T01:16:51.796645Z"
    },
    "papermill": {
     "duration": 0.148896,
     "end_time": "2023-12-27T01:16:51.800748",
     "exception": false,
     "start_time": "2023-12-27T01:16:51.651852",
     "status": "completed"
    },
    "tags": []
   },
   "outputs": [],
   "source": [
    "#Xử lý tập train\n",
    "y = data['malicious'].values\n",
    "data = data.drop(['malicious','packed'], axis=1)"
   ]
  },
  {
   "cell_type": "code",
   "execution_count": 12,
   "id": "5ae5306c",
   "metadata": {
    "execution": {
     "iopub.execute_input": "2023-12-27T01:16:51.849884Z",
     "iopub.status.busy": "2023-12-27T01:16:51.849427Z",
     "iopub.status.idle": "2023-12-27T01:16:52.718425Z",
     "shell.execute_reply": "2023-12-27T01:16:52.717185Z"
    },
    "papermill": {
     "duration": 0.896909,
     "end_time": "2023-12-27T01:16:52.721222",
     "exception": false,
     "start_time": "2023-12-27T01:16:51.824313",
     "status": "completed"
    },
    "tags": []
   },
   "outputs": [
    {
     "name": "stdout",
     "output_type": "stream",
     "text": [
      "Packed Malware: 1477 samples\n",
      "Packed Benign: 1477 samples\n",
      "Total TEST set: 2954 samples\n"
     ]
    }
   ],
   "source": [
    "PM = df_3000[(df_3000['malicious'] == True) & (df_3000['packed'] == True)].shape[0]\n",
    "PB = df_3000[(df_3000['malicious'] == False) & (df_3000['packed'] == True)].shape[0]\n",
    "\n",
    "df_3000_PM = df_3000[(df_3000['malicious'] == True) & (df_3000['packed'] == True)].sample(n=(PM-PB), random_state=102)\n",
    "df_3000 = df_3000.drop(df_3000_PM.index)\n",
    "\n",
    "PM = df_3000[(df_3000['malicious'] == True) & (df_3000['packed'] == True)].shape[0]\n",
    "PB = df_3000[(df_3000['malicious'] == False) & (df_3000['packed'] == True)].shape[0]\n",
    "\n",
    "print('Packed Malware: %i samples' % PM)\n",
    "print('Packed Benign: %i samples' % PB)\n",
    "print('Total TEST set: %i samples'% (PM+PB))"
   ]
  },
  {
   "cell_type": "code",
   "execution_count": 13,
   "id": "58a008f4",
   "metadata": {
    "execution": {
     "iopub.execute_input": "2023-12-27T01:16:52.770198Z",
     "iopub.status.busy": "2023-12-27T01:16:52.769779Z",
     "iopub.status.idle": "2023-12-27T01:16:53.346708Z",
     "shell.execute_reply": "2023-12-27T01:16:53.344956Z"
    },
    "papermill": {
     "duration": 0.604708,
     "end_time": "2023-12-27T01:16:53.349518",
     "exception": false,
     "start_time": "2023-12-27T01:16:52.744810",
     "status": "completed"
    },
    "tags": []
   },
   "outputs": [],
   "source": [
    "# model = SelectFromModel(fsel, prefit=True)\n",
    "\n",
    "X_train = data\n",
    "X_test = df_3000.drop(['malicious','packed'], axis=1)\n",
    "\n",
    "data = data.loc[:, (data != 0).any(axis=0)]\n",
    "x_train = data\n",
    "X_test = df_3000.drop(['malicious','packed'], axis=1)\n",
    "y_train = y\n",
    "y_test = df_3000['malicious'].values"
   ]
  },
  {
   "cell_type": "code",
   "execution_count": 14,
   "id": "f8a0d475",
   "metadata": {
    "execution": {
     "iopub.execute_input": "2023-12-27T01:16:53.398622Z",
     "iopub.status.busy": "2023-12-27T01:16:53.398206Z",
     "iopub.status.idle": "2023-12-27T01:17:01.227159Z",
     "shell.execute_reply": "2023-12-27T01:17:01.225888Z"
    },
    "papermill": {
     "duration": 7.856805,
     "end_time": "2023-12-27T01:17:01.230158",
     "exception": false,
     "start_time": "2023-12-27T01:16:53.373353",
     "status": "completed"
    },
    "tags": []
   },
   "outputs": [
    {
     "name": "stdout",
     "output_type": "stream",
     "text": [
      "The accuracy of the Random Forests model is :\t 0.9126607989167231\n"
     ]
    }
   ],
   "source": [
    "# Random Forest\n",
    "from sklearn.ensemble import RandomForestClassifier\n",
    "from sklearn import metrics\n",
    "\n",
    "random_forest = RandomForestClassifier(n_estimators=100, random_state=17)\n",
    "random_forest.fit(X_train, y_train)\n",
    "random_forest_preds = random_forest.predict(X_test)\n",
    "print('The accuracy of the Random Forests model is :\\t',metrics.accuracy_score(random_forest_preds,y_test))"
   ]
  },
  {
   "cell_type": "code",
   "execution_count": 15,
   "id": "5879b69c",
   "metadata": {
    "execution": {
     "iopub.execute_input": "2023-12-27T01:17:01.279930Z",
     "iopub.status.busy": "2023-12-27T01:17:01.278931Z",
     "iopub.status.idle": "2023-12-27T01:17:01.343543Z",
     "shell.execute_reply": "2023-12-27T01:17:01.342366Z"
    },
    "papermill": {
     "duration": 0.091737,
     "end_time": "2023-12-27T01:17:01.345924",
     "exception": false,
     "start_time": "2023-12-27T01:17:01.254187",
     "status": "completed"
    },
    "tags": []
   },
   "outputs": [
    {
     "data": {
      "text/plain": [
       "ngram_b'A\\x00l\\x00l\\x00'                                             0.011622\n",
       "ngram_b's\\x00e\\x00r\\x00'                                             0.008037\n",
       "ngram_b'.\\x00 \\x00A\\x00'                                             0.007380\n",
       "ngram_b'\\x00.\\x000\\x00\\x00'                                          0.006771\n",
       "pesection_2_entropy                                                  0.006515\n",
       "                                                                       ...   \n",
       "oxyg2.dll                                                            0.000000\n",
       "oxymod.dll                                                           0.000000\n",
       "gcmutil.dll                                                          0.000000\n",
       "imp_@system@tinterfacedobject@newinstance$qqrp17system@tmetaclass    0.000000\n",
       "string_b'6!7(7E7l7'                                                  0.000000\n",
       "Length: 56524, dtype: float64"
      ]
     },
     "execution_count": 15,
     "metadata": {},
     "output_type": "execute_result"
    }
   ],
   "source": [
    "feature_scores_rf = pd.Series(random_forest.feature_importances_, index=X_train.columns).sort_values(ascending=False)\n",
    "\n",
    "feature_scores_rf"
   ]
  },
  {
   "cell_type": "code",
   "execution_count": 16,
   "id": "970e50ed",
   "metadata": {
    "execution": {
     "iopub.execute_input": "2023-12-27T01:17:01.395625Z",
     "iopub.status.busy": "2023-12-27T01:17:01.394864Z",
     "iopub.status.idle": "2023-12-27T01:17:01.449404Z",
     "shell.execute_reply": "2023-12-27T01:17:01.448387Z"
    },
    "papermill": {
     "duration": 0.082222,
     "end_time": "2023-12-27T01:17:01.451975",
     "exception": false,
     "start_time": "2023-12-27T01:17:01.369753",
     "status": "completed"
    },
    "tags": []
   },
   "outputs": [],
   "source": [
    "top50 = pd.Series(random_forest.feature_importances_, index=X_train.columns).sort_values(ascending=False).head(50)"
   ]
  },
  {
   "cell_type": "code",
   "execution_count": 17,
   "id": "96b2abd7",
   "metadata": {
    "execution": {
     "iopub.execute_input": "2023-12-27T01:17:01.502259Z",
     "iopub.status.busy": "2023-12-27T01:17:01.501534Z",
     "iopub.status.idle": "2023-12-27T01:17:01.517021Z",
     "shell.execute_reply": "2023-12-27T01:17:01.515779Z"
    },
    "papermill": {
     "duration": 0.043576,
     "end_time": "2023-12-27T01:17:01.519724",
     "exception": false,
     "start_time": "2023-12-27T01:17:01.476148",
     "status": "completed"
    },
    "tags": []
   },
   "outputs": [
    {
     "name": "stdout",
     "output_type": "stream",
     "text": [
      "'ngram': 45\n",
      "'opcode ngram': 0\n",
      "'generic': 1\n",
      "'strings': 0\n",
      "'rich header': 0\n",
      "'api import': 0\n",
      "'dll': 1\n",
      "'pe section': 3\n",
      "'pe header': 0\n"
     ]
    }
   ],
   "source": [
    "# Tạo DataFrame từ feature_scores_rf\n",
    "df_features = pd.DataFrame(top50, columns=['Score'])\n",
    "\n",
    "count_ngram = df_features[df_features.index.str.startswith('ngram_')].shape[0]\n",
    "count_opcode = df_features[df_features.index.str.startswith('opcode_')].shape[0]\n",
    "count_generic = df_features[df_features.index.str.startswith('generic_')].shape[0]\n",
    "count_string = df_features[df_features.index.str.startswith('string_')].shape[0]\n",
    "count_rich = df_features[df_features.index.str.startswith('rich_')].shape[0]\n",
    "# count_api = df_features[df_features.index.str.startswith('imp_') or 'api_import_nb' == c].shape[0]\n",
    "# count_dll = df_features[df_features.index.str.startswith('.dll') or 'dll_import_nb' == c].shape[0]\n",
    "count_api = df_features[df_features.index.str.startswith('imp_') | (df_features.index == 'api_import_nb')].shape[0]\n",
    "count_dll = df_features[df_features.index.str.endswith('.dll') | (df_features.index == 'dll_import_nb')].shape[0]\n",
    "count_section = df_features[df_features.index.str.startswith('pesection')].shape[0]\n",
    "count_header = df_features[df_features.index.str.startswith('header_')].shape[0]\n",
    "\n",
    "print(f\"'ngram': {count_ngram}\")\n",
    "print(f\"'opcode ngram': {count_opcode}\")\n",
    "print(f\"'generic': {count_generic}\")\n",
    "print(f\"'strings': {count_string}\")\n",
    "print(f\"'rich header': {count_rich}\")\n",
    "print(f\"'api import': {count_api}\")\n",
    "print(f\"'dll': {count_dll}\")\n",
    "print(f\"'pe section': {count_section}\")\n",
    "print(f\"'pe header': {count_header}\")"
   ]
  },
  {
   "cell_type": "code",
   "execution_count": 18,
   "id": "c64a9016",
   "metadata": {
    "execution": {
     "iopub.execute_input": "2023-12-27T01:17:01.571090Z",
     "iopub.status.busy": "2023-12-27T01:17:01.570690Z",
     "iopub.status.idle": "2023-12-27T01:17:01.582881Z",
     "shell.execute_reply": "2023-12-27T01:17:01.581677Z"
    },
    "papermill": {
     "duration": 0.041177,
     "end_time": "2023-12-27T01:17:01.585199",
     "exception": false,
     "start_time": "2023-12-27T01:17:01.544022",
     "status": "completed"
    },
    "tags": []
   },
   "outputs": [],
   "source": [
    "cols = list(mpress.columns)"
   ]
  },
  {
   "cell_type": "markdown",
   "id": "3ed5db0a",
   "metadata": {
    "papermill": {
     "duration": 0.023467,
     "end_time": "2023-12-27T01:17:01.632669",
     "exception": false,
     "start_time": "2023-12-27T01:17:01.609202",
     "status": "completed"
    },
    "tags": []
   },
   "source": [
    "# **ngram features**"
   ]
  },
  {
   "cell_type": "code",
   "execution_count": 19,
   "id": "f48768c0",
   "metadata": {
    "execution": {
     "iopub.execute_input": "2023-12-27T01:17:01.682514Z",
     "iopub.status.busy": "2023-12-27T01:17:01.681571Z",
     "iopub.status.idle": "2023-12-27T01:17:03.418861Z",
     "shell.execute_reply": "2023-12-27T01:17:03.417599Z"
    },
    "papermill": {
     "duration": 1.765957,
     "end_time": "2023-12-27T01:17:03.422568",
     "exception": false,
     "start_time": "2023-12-27T01:17:01.656611",
     "status": "completed"
    },
    "tags": []
   },
   "outputs": [],
   "source": [
    "mpress = pd.read_pickle('/kaggle/input/packer-balance-pickle/mpress_balance.pickle')\n",
    "mpress = mpress.drop(['sample_sha1','benign','unpacked_sample_sha1','unpacked_sample_id'], axis=1)\n",
    "mpress = mpress.drop(['benign_vt','malicious_vt'], axis=1)\n",
    "string_columns = mpress.select_dtypes(include=['object']).columns\n",
    "mpress = mpress.drop(string_columns, axis=1)"
   ]
  },
  {
   "cell_type": "code",
   "execution_count": 20,
   "id": "08323e08",
   "metadata": {
    "execution": {
     "iopub.execute_input": "2023-12-27T01:17:03.487031Z",
     "iopub.status.busy": "2023-12-27T01:17:03.486629Z",
     "iopub.status.idle": "2023-12-27T01:17:03.491980Z",
     "shell.execute_reply": "2023-12-27T01:17:03.490848Z"
    },
    "papermill": {
     "duration": 0.038355,
     "end_time": "2023-12-27T01:17:03.494440",
     "exception": false,
     "start_time": "2023-12-27T01:17:03.456085",
     "status": "completed"
    },
    "tags": []
   },
   "outputs": [],
   "source": [
    "def remove_cols(df, ll):\n",
    "    print(\"removing {} features\".format(len(ll)))\n",
    "    df.drop(columns=ll, axis=1, inplace=True)\n",
    "    return df"
   ]
  },
  {
   "cell_type": "code",
   "execution_count": 21,
   "id": "0b94c01f",
   "metadata": {
    "execution": {
     "iopub.execute_input": "2023-12-27T01:17:03.544234Z",
     "iopub.status.busy": "2023-12-27T01:17:03.543834Z",
     "iopub.status.idle": "2023-12-27T01:17:04.919361Z",
     "shell.execute_reply": "2023-12-27T01:17:04.917816Z"
    },
    "papermill": {
     "duration": 1.403199,
     "end_time": "2023-12-27T01:17:04.921900",
     "exception": false,
     "start_time": "2023-12-27T01:17:03.518701",
     "status": "completed"
    },
    "tags": []
   },
   "outputs": [
    {
     "name": "stdout",
     "output_type": "stream",
     "text": [
      "removing 2500 features\n",
      "removing 2 features\n",
      "removing 16900 features\n",
      "removing 66 features\n",
      "removing 19169 features\n",
      "removing 4306 features\n",
      "removing 550 features\n",
      "removing 29 features\n"
     ]
    }
   ],
   "source": [
    "# ngram = remove_cols(df, [c for c in cols if c.startswith('ngram_')])\n",
    "ngram = remove_cols(mpress, [c for c in cols if c.startswith('opcode_')])\n",
    "ngram = remove_cols(mpress, [c for c in cols if c.startswith('generic_')])\n",
    "ngram = remove_cols(mpress, [c for c in cols if c.startswith('string_')])\n",
    "ngram = remove_cols(mpress, [c for c in cols if c.startswith('rich_')])\n",
    "ngram = remove_cols(mpress, [c for c in cols if c.startswith('imp_') or 'api_import_nb' == c])\n",
    "ngram = remove_cols(mpress, [c for c in cols if c.endswith('.dll') or 'dll_import_nb' == c])\n",
    "ngram = remove_cols(mpress, [c for c in cols if c.startswith('pesection')])\n",
    "ngram = remove_cols(mpress, [c for c in cols if c.startswith('header_')])"
   ]
  },
  {
   "cell_type": "code",
   "execution_count": 22,
   "id": "a8d34302",
   "metadata": {
    "execution": {
     "iopub.execute_input": "2023-12-27T01:17:04.973613Z",
     "iopub.status.busy": "2023-12-27T01:17:04.972705Z",
     "iopub.status.idle": "2023-12-27T01:17:05.228220Z",
     "shell.execute_reply": "2023-12-27T01:17:05.226702Z"
    },
    "papermill": {
     "duration": 0.284495,
     "end_time": "2023-12-27T01:17:05.231397",
     "exception": false,
     "start_time": "2023-12-27T01:17:04.946902",
     "status": "completed"
    },
    "tags": []
   },
   "outputs": [],
   "source": [
    "df_7000_ngram = ngram.sample(n=7000, random_state=102)\n",
    "df_3000_ngram = ngram.drop(df_7000.index)\n",
    "data_ngram = df_7000_ngram.sample(n=3500, random_state=102)"
   ]
  },
  {
   "cell_type": "code",
   "execution_count": 23,
   "id": "0e4ce800",
   "metadata": {
    "execution": {
     "iopub.execute_input": "2023-12-27T01:17:05.284355Z",
     "iopub.status.busy": "2023-12-27T01:17:05.283218Z",
     "iopub.status.idle": "2023-12-27T01:17:05.659242Z",
     "shell.execute_reply": "2023-12-27T01:17:05.657717Z"
    },
    "papermill": {
     "duration": 0.405319,
     "end_time": "2023-12-27T01:17:05.661976",
     "exception": false,
     "start_time": "2023-12-27T01:17:05.256657",
     "status": "completed"
    },
    "tags": []
   },
   "outputs": [
    {
     "name": "stdout",
     "output_type": "stream",
     "text": [
      "Packed Malware: 1790 samples\n",
      "Packed Benign: 1710 samples\n",
      "Total TRAIN set: 3500 samples\n",
      "Packed Malware: 1710 samples\n",
      "Packed Benign: 1710 samples\n",
      "Total TRAIN set: 3420 samples\n",
      "Packed Malware: 1477 samples\n",
      "Packed Benign: 1477 samples\n",
      "Total TEST set: 2954 samples\n"
     ]
    }
   ],
   "source": [
    "#Kiểm tra số lượng mẫu\n",
    "PM = data_ngram[(data_ngram['malicious'] == True) & (data_ngram['packed'] == True)].shape[0]\n",
    "PB = data_ngram[(data_ngram['malicious'] == False) & (data_ngram['packed'] == True)].shape[0]\n",
    "print('Packed Malware: %i samples' % PM)\n",
    "print('Packed Benign: %i samples' % PB)\n",
    "print('Total TRAIN set: %i samples'% (PM+PB))\n",
    "\n",
    "#Chia tỉ lệ 50 - 50\n",
    "data_PM_ngram = data_ngram[(data_ngram['malicious'] == True) & (data_ngram['packed'] == True)].sample(n=(PM-PB), random_state=102)\n",
    "data_ngram = data_ngram.drop(data_PM_ngram.index)\n",
    "\n",
    "#Số lượng tập train\n",
    "PM = data_ngram[(data_ngram['malicious'] == True) & (data_ngram['packed'] == True)].shape[0]\n",
    "PB = data_ngram[(data_ngram['malicious'] == False) & (data_ngram['packed'] == True)].shape[0]\n",
    "print('Packed Malware: %i samples' % PM)\n",
    "print('Packed Benign: %i samples' % PB)\n",
    "print('Total TRAIN set: %i samples'% (PM+PB))\n",
    "\n",
    "#Xử lý tập train\n",
    "y = data_ngram['malicious'].values\n",
    "data_ngram = data_ngram.drop(['malicious','packed'], axis=1)\n",
    "\n",
    "PM = df_3000_ngram[(df_3000_ngram['malicious'] == True) & (df_3000_ngram['packed'] == True)].shape[0]\n",
    "PB = df_3000_ngram[(df_3000_ngram['malicious'] == False) & (df_3000_ngram['packed'] == True)].shape[0]\n",
    "\n",
    "df_3000_PM_ngram = df_3000_ngram[(df_3000_ngram['malicious'] == True) & (df_3000_ngram['packed'] == True)].sample(n=(PM-PB), random_state=102)\n",
    "df_3000_ngram = df_3000_ngram.drop(df_3000_PM.index)\n",
    "\n",
    "PM = df_3000_ngram[(df_3000_ngram['malicious'] == True) & (df_3000_ngram['packed'] == True)].shape[0]\n",
    "PB = df_3000_ngram[(df_3000_ngram['malicious'] == False) & (df_3000_ngram['packed'] == True)].shape[0]\n",
    "\n",
    "print('Packed Malware: %i samples' % PM)\n",
    "print('Packed Benign: %i samples' % PB)\n",
    "print('Total TEST set: %i samples'% (PM+PB))"
   ]
  },
  {
   "cell_type": "code",
   "execution_count": 24,
   "id": "040188e3",
   "metadata": {
    "execution": {
     "iopub.execute_input": "2023-12-27T01:17:05.714727Z",
     "iopub.status.busy": "2023-12-27T01:17:05.714060Z",
     "iopub.status.idle": "2023-12-27T01:17:05.805048Z",
     "shell.execute_reply": "2023-12-27T01:17:05.804050Z"
    },
    "papermill": {
     "duration": 0.119908,
     "end_time": "2023-12-27T01:17:05.807555",
     "exception": false,
     "start_time": "2023-12-27T01:17:05.687647",
     "status": "completed"
    },
    "tags": []
   },
   "outputs": [],
   "source": [
    "# model = SelectFromModel(fsel, prefit=True)\n",
    "\n",
    "X_train_ngram = data_ngram\n",
    "X_test_ngram = df_3000_ngram.drop(['malicious','packed'], axis=1)\n",
    "\n",
    "data_ngram = data_ngram.loc[:, (data_ngram != 0).any(axis=0)]\n",
    "x_train_ngram = data_ngram\n",
    "X_test_ngram = df_3000_ngram.drop(['malicious','packed'], axis=1)\n",
    "y_train_ngram = y\n",
    "y_test_ngram = df_3000_ngram['malicious'].values"
   ]
  },
  {
   "cell_type": "code",
   "execution_count": 25,
   "id": "b33159d4",
   "metadata": {
    "execution": {
     "iopub.execute_input": "2023-12-27T01:17:05.859361Z",
     "iopub.status.busy": "2023-12-27T01:17:05.858627Z",
     "iopub.status.idle": "2023-12-27T01:17:10.340461Z",
     "shell.execute_reply": "2023-12-27T01:17:10.339184Z"
    },
    "papermill": {
     "duration": 4.511487,
     "end_time": "2023-12-27T01:17:10.343524",
     "exception": false,
     "start_time": "2023-12-27T01:17:05.832037",
     "status": "completed"
    },
    "tags": []
   },
   "outputs": [
    {
     "name": "stdout",
     "output_type": "stream",
     "text": [
      "The accuracy of the Random Forests model is :\t 0.9204468517264726\n"
     ]
    }
   ],
   "source": [
    "# Random Forest\n",
    "from sklearn.ensemble import RandomForestClassifier\n",
    "from sklearn import metrics\n",
    "\n",
    "random_forest = RandomForestClassifier(n_estimators=100, random_state=17)\n",
    "random_forest.fit(X_train_ngram, y_train_ngram)\n",
    "random_forest_preds = random_forest.predict(X_test_ngram)\n",
    "print('The accuracy of the Random Forests model is :\\t',metrics.accuracy_score(random_forest_preds,y_test_ngram))"
   ]
  },
  {
   "cell_type": "markdown",
   "id": "015715db",
   "metadata": {
    "papermill": {
     "duration": 0.024981,
     "end_time": "2023-12-27T01:17:10.401884",
     "exception": false,
     "start_time": "2023-12-27T01:17:10.376903",
     "status": "completed"
    },
    "tags": []
   },
   "source": [
    "# **opcode features**"
   ]
  },
  {
   "cell_type": "code",
   "execution_count": 26,
   "id": "2b6d70dd",
   "metadata": {
    "execution": {
     "iopub.execute_input": "2023-12-27T01:17:10.468567Z",
     "iopub.status.busy": "2023-12-27T01:17:10.467634Z",
     "iopub.status.idle": "2023-12-27T01:17:12.192802Z",
     "shell.execute_reply": "2023-12-27T01:17:12.191108Z"
    },
    "papermill": {
     "duration": 1.765078,
     "end_time": "2023-12-27T01:17:12.195777",
     "exception": false,
     "start_time": "2023-12-27T01:17:10.430699",
     "status": "completed"
    },
    "tags": []
   },
   "outputs": [],
   "source": [
    "mpress = pd.read_pickle('/kaggle/input/packer-balance-pickle/mpress_balance.pickle')\n",
    "mpress = mpress.drop(['sample_sha1','benign','unpacked_sample_sha1','unpacked_sample_id'], axis=1)\n",
    "mpress = mpress.drop(['benign_vt','malicious_vt'], axis=1)\n",
    "string_columns = mpress.select_dtypes(include=['object']).columns\n",
    "mpress = mpress.drop(string_columns, axis=1)"
   ]
  },
  {
   "cell_type": "code",
   "execution_count": 27,
   "id": "df08725f",
   "metadata": {
    "execution": {
     "iopub.execute_input": "2023-12-27T01:17:12.248958Z",
     "iopub.status.busy": "2023-12-27T01:17:12.248531Z",
     "iopub.status.idle": "2023-12-27T01:17:13.806643Z",
     "shell.execute_reply": "2023-12-27T01:17:13.804885Z"
    },
    "papermill": {
     "duration": 1.58751,
     "end_time": "2023-12-27T01:17:13.809329",
     "exception": false,
     "start_time": "2023-12-27T01:17:12.221819",
     "status": "completed"
    },
    "tags": []
   },
   "outputs": [
    {
     "name": "stdout",
     "output_type": "stream",
     "text": [
      "removing 13000 features\n",
      "removing 2 features\n",
      "removing 16900 features\n",
      "removing 66 features\n",
      "removing 19169 features\n",
      "removing 4306 features\n",
      "removing 550 features\n",
      "removing 29 features\n"
     ]
    }
   ],
   "source": [
    "opcode = remove_cols(mpress, [c for c in cols if c.startswith('ngram_')])\n",
    "# opcode = remove_cols(mpress, [c for c in cols if c.startswith('opcode_')])\n",
    "opcode = remove_cols(mpress, [c for c in cols if c.startswith('generic_')])\n",
    "opcode = remove_cols(mpress, [c for c in cols if c.startswith('string_')])\n",
    "opcode = remove_cols(mpress, [c for c in cols if c.startswith('rich_')])\n",
    "opcode = remove_cols(mpress, [c for c in cols if c.startswith('imp_') or 'api_import_nb' == c])\n",
    "opcode = remove_cols(mpress, [c for c in cols if c.endswith('.dll') or 'dll_import_nb' == c])\n",
    "opcode = remove_cols(mpress, [c for c in cols if c.startswith('pesection')])\n",
    "opcode = remove_cols(mpress, [c for c in cols if c.startswith('header_')])"
   ]
  },
  {
   "cell_type": "code",
   "execution_count": 28,
   "id": "26ef3a27",
   "metadata": {
    "execution": {
     "iopub.execute_input": "2023-12-27T01:17:13.863002Z",
     "iopub.status.busy": "2023-12-27T01:17:13.862562Z",
     "iopub.status.idle": "2023-12-27T01:17:14.018090Z",
     "shell.execute_reply": "2023-12-27T01:17:14.017017Z"
    },
    "papermill": {
     "duration": 0.185036,
     "end_time": "2023-12-27T01:17:14.020810",
     "exception": false,
     "start_time": "2023-12-27T01:17:13.835774",
     "status": "completed"
    },
    "tags": []
   },
   "outputs": [],
   "source": [
    "df_7000_opcode = opcode.sample(n=7000, random_state=102)\n",
    "df_3000_opcode = opcode.drop(df_7000.index)\n",
    "data_opcode = df_7000_opcode.sample(n=3500, random_state=102)"
   ]
  },
  {
   "cell_type": "code",
   "execution_count": 29,
   "id": "4d8246b3",
   "metadata": {
    "execution": {
     "iopub.execute_input": "2023-12-27T01:17:14.073556Z",
     "iopub.status.busy": "2023-12-27T01:17:14.073151Z",
     "iopub.status.idle": "2023-12-27T01:17:14.268859Z",
     "shell.execute_reply": "2023-12-27T01:17:14.267457Z"
    },
    "papermill": {
     "duration": 0.224779,
     "end_time": "2023-12-27T01:17:14.271403",
     "exception": false,
     "start_time": "2023-12-27T01:17:14.046624",
     "status": "completed"
    },
    "tags": []
   },
   "outputs": [
    {
     "name": "stdout",
     "output_type": "stream",
     "text": [
      "Packed Malware: 1790 samples\n",
      "Packed Benign: 1710 samples\n",
      "Total TRAIN set: 3500 samples\n",
      "Packed Malware: 1710 samples\n",
      "Packed Benign: 1710 samples\n",
      "Total TRAIN set: 3420 samples\n",
      "Packed Malware: 1477 samples\n",
      "Packed Benign: 1477 samples\n",
      "Total TEST set: 2954 samples\n"
     ]
    }
   ],
   "source": [
    "#Kiểm tra số lượng mẫu\n",
    "PM = data_opcode[(data_opcode['malicious'] == True) & (data_opcode['packed'] == True)].shape[0]\n",
    "PB = data_opcode[(data_opcode['malicious'] == False) & (data_opcode['packed'] == True)].shape[0]\n",
    "print('Packed Malware: %i samples' % PM)\n",
    "print('Packed Benign: %i samples' % PB)\n",
    "print('Total TRAIN set: %i samples'% (PM+PB))\n",
    "\n",
    "#Chia tỉ lệ 50 - 50\n",
    "data_PM_opcode = data_opcode[(data_opcode['malicious'] == True) & (data_opcode['packed'] == True)].sample(n=(PM-PB), random_state=102)\n",
    "data_opcode = data_opcode.drop(data_PM_opcode.index)\n",
    "      \n",
    "#Số lượng tập train\n",
    "PM = data_opcode[(data_opcode['malicious'] == True) & (data_opcode['packed'] == True)].shape[0]\n",
    "PB = data_opcode[(data_opcode['malicious'] == False) & (data_opcode['packed'] == True)].shape[0]\n",
    "print('Packed Malware: %i samples' % PM)\n",
    "print('Packed Benign: %i samples' % PB)\n",
    "print('Total TRAIN set: %i samples'% (PM+PB))\n",
    "\n",
    "#Xử lý tập train\n",
    "y = data_opcode['malicious'].values\n",
    "data_opcode = data_opcode.drop(['malicious','packed'], axis=1)\n",
    "\n",
    "PM = df_3000_opcode[(df_3000_opcode['malicious'] == True) & (df_3000_opcode['packed'] == True)].shape[0]\n",
    "PB = df_3000_opcode[(df_3000_opcode['malicious'] == False) & (df_3000_opcode['packed'] == True)].shape[0]\n",
    "\n",
    "df_3000_PM_opcode = df_3000_opcode[(df_3000_opcode['malicious'] == True) & (df_3000_opcode['packed'] == True)].sample(n=(PM-PB), random_state=102)\n",
    "df_3000_opcode = df_3000_opcode.drop(df_3000_PM_opcode.index)\n",
    "\n",
    "PM = df_3000_opcode[(df_3000_opcode['malicious'] == True) & (df_3000_opcode['packed'] == True)].shape[0]\n",
    "PB = df_3000_opcode[(df_3000_opcode['malicious'] == False) & (df_3000_opcode['packed'] == True)].shape[0]\n",
    "\n",
    "print('Packed Malware: %i samples' % PM)\n",
    "print('Packed Benign: %i samples' % PB)\n",
    "print('Total TEST set: %i samples'% (PM+PB))"
   ]
  },
  {
   "cell_type": "code",
   "execution_count": 30,
   "id": "aeae5ff2",
   "metadata": {
    "execution": {
     "iopub.execute_input": "2023-12-27T01:17:14.324653Z",
     "iopub.status.busy": "2023-12-27T01:17:14.324188Z",
     "iopub.status.idle": "2023-12-27T01:17:14.369985Z",
     "shell.execute_reply": "2023-12-27T01:17:14.368834Z"
    },
    "papermill": {
     "duration": 0.076054,
     "end_time": "2023-12-27T01:17:14.372858",
     "exception": false,
     "start_time": "2023-12-27T01:17:14.296804",
     "status": "completed"
    },
    "tags": []
   },
   "outputs": [],
   "source": [
    "# model = SelectFromModel(fsel, prefit=True)\n",
    "\n",
    "X_train_opcode = data_opcode\n",
    "X_test_opcode = df_3000_opcode.drop(['malicious','packed'], axis=1)\n",
    "\n",
    "# data_opcode = data_opcode.loc[:, (data_opcode != 0).any(axis=0)]\n",
    "x_train_opcode = data_opcode\n",
    "X_test_opcode = df_3000_opcode.drop(['malicious','packed'], axis=1)\n",
    "y_train_opcode = y\n",
    "y_test_opcode = df_3000_opcode['malicious'].values"
   ]
  },
  {
   "cell_type": "code",
   "execution_count": 31,
   "id": "05bb7199",
   "metadata": {
    "execution": {
     "iopub.execute_input": "2023-12-27T01:17:14.427355Z",
     "iopub.status.busy": "2023-12-27T01:17:14.426361Z",
     "iopub.status.idle": "2023-12-27T01:17:20.099567Z",
     "shell.execute_reply": "2023-12-27T01:17:20.098431Z"
    },
    "papermill": {
     "duration": 5.702469,
     "end_time": "2023-12-27T01:17:20.102011",
     "exception": false,
     "start_time": "2023-12-27T01:17:14.399542",
     "status": "completed"
    },
    "tags": []
   },
   "outputs": [
    {
     "name": "stdout",
     "output_type": "stream",
     "text": [
      "The accuracy of the Random Forests model is :\t 0.8503723764387271\n"
     ]
    }
   ],
   "source": [
    "# Random Forest\n",
    "from sklearn.ensemble import RandomForestClassifier\n",
    "from sklearn import metrics\n",
    "\n",
    "random_forest = RandomForestClassifier(n_estimators=100, random_state=17)\n",
    "random_forest.fit(x_train_opcode, y_train_opcode)\n",
    "random_forest_preds = random_forest.predict(X_test_opcode)\n",
    "print('The accuracy of the Random Forests model is :\\t',metrics.accuracy_score(random_forest_preds,y_test_opcode))"
   ]
  },
  {
   "cell_type": "markdown",
   "id": "753e84fb",
   "metadata": {
    "papermill": {
     "duration": 0.025082,
     "end_time": "2023-12-27T01:17:20.153189",
     "exception": false,
     "start_time": "2023-12-27T01:17:20.128107",
     "status": "completed"
    },
    "tags": []
   },
   "source": [
    "# **rich header features**"
   ]
  },
  {
   "cell_type": "code",
   "execution_count": 32,
   "id": "a3d86519",
   "metadata": {
    "execution": {
     "iopub.execute_input": "2023-12-27T01:17:20.206327Z",
     "iopub.status.busy": "2023-12-27T01:17:20.205616Z",
     "iopub.status.idle": "2023-12-27T01:17:21.912438Z",
     "shell.execute_reply": "2023-12-27T01:17:21.911229Z"
    },
    "papermill": {
     "duration": 1.736659,
     "end_time": "2023-12-27T01:17:21.915343",
     "exception": false,
     "start_time": "2023-12-27T01:17:20.178684",
     "status": "completed"
    },
    "tags": []
   },
   "outputs": [],
   "source": [
    "mpress = pd.read_pickle('/kaggle/input/packer-balance-pickle/mpress_balance.pickle')\n",
    "mpress = mpress.drop(['sample_sha1','benign','unpacked_sample_sha1','unpacked_sample_id'], axis=1)\n",
    "mpress = mpress.drop(['benign_vt','malicious_vt'], axis=1)\n",
    "string_columns = mpress.select_dtypes(include=['object']).columns\n",
    "mpress = mpress.drop(string_columns, axis=1)"
   ]
  },
  {
   "cell_type": "code",
   "execution_count": 33,
   "id": "a78d8b03",
   "metadata": {
    "execution": {
     "iopub.execute_input": "2023-12-27T01:17:21.968703Z",
     "iopub.status.busy": "2023-12-27T01:17:21.968263Z",
     "iopub.status.idle": "2023-12-27T01:17:23.139569Z",
     "shell.execute_reply": "2023-12-27T01:17:23.138309Z"
    },
    "papermill": {
     "duration": 1.201029,
     "end_time": "2023-12-27T01:17:23.142045",
     "exception": false,
     "start_time": "2023-12-27T01:17:21.941016",
     "status": "completed"
    },
    "tags": []
   },
   "outputs": [
    {
     "name": "stdout",
     "output_type": "stream",
     "text": [
      "removing 13000 features\n",
      "removing 2500 features\n",
      "removing 2 features\n",
      "removing 16900 features\n",
      "removing 19169 features\n",
      "removing 4306 features\n",
      "removing 550 features\n",
      "removing 29 features\n"
     ]
    }
   ],
   "source": [
    "rich = remove_cols(mpress, [c for c in cols if c.startswith('ngram_')])\n",
    "rich = remove_cols(mpress, [c for c in cols if c.startswith('opcode_')])\n",
    "rich = remove_cols(mpress, [c for c in cols if c.startswith('generic_')])\n",
    "rich = remove_cols(mpress, [c for c in cols if c.startswith('string_')])\n",
    "# rich = remove_cols(mpress, [c for c in cols if c.startswith('rich_')])\n",
    "rich = remove_cols(mpress, [c for c in cols if c.startswith('imp_') or 'api_import_nb' == c])\n",
    "rich = remove_cols(mpress, [c for c in cols if c.endswith('.dll') or 'dll_import_nb' == c])\n",
    "rich = remove_cols(mpress, [c for c in cols if c.startswith('pesection')])\n",
    "rich = remove_cols(mpress, [c for c in cols if c.startswith('header_')])"
   ]
  },
  {
   "cell_type": "code",
   "execution_count": 34,
   "id": "c71f1be6",
   "metadata": {
    "execution": {
     "iopub.execute_input": "2023-12-27T01:17:23.195678Z",
     "iopub.status.busy": "2023-12-27T01:17:23.195237Z",
     "iopub.status.idle": "2023-12-27T01:17:23.208229Z",
     "shell.execute_reply": "2023-12-27T01:17:23.207310Z"
    },
    "papermill": {
     "duration": 0.04252,
     "end_time": "2023-12-27T01:17:23.210678",
     "exception": false,
     "start_time": "2023-12-27T01:17:23.168158",
     "status": "completed"
    },
    "tags": []
   },
   "outputs": [],
   "source": [
    "df_7000_rich = rich.sample(n=7000, random_state=102)\n",
    "df_3000_rich = rich.drop(df_7000.index)\n",
    "data_rich = df_7000_rich.sample(n=3500, random_state=102)"
   ]
  },
  {
   "cell_type": "code",
   "execution_count": 35,
   "id": "6f679929",
   "metadata": {
    "execution": {
     "iopub.execute_input": "2023-12-27T01:17:23.264597Z",
     "iopub.status.busy": "2023-12-27T01:17:23.264145Z",
     "iopub.status.idle": "2023-12-27T01:17:23.300142Z",
     "shell.execute_reply": "2023-12-27T01:17:23.298559Z"
    },
    "papermill": {
     "duration": 0.065682,
     "end_time": "2023-12-27T01:17:23.302638",
     "exception": false,
     "start_time": "2023-12-27T01:17:23.236956",
     "status": "completed"
    },
    "tags": []
   },
   "outputs": [
    {
     "name": "stdout",
     "output_type": "stream",
     "text": [
      "Packed Malware: 1790 samples\n",
      "Packed Benign: 1710 samples\n",
      "Total TRAIN set: 3500 samples\n",
      "Packed Malware: 1710 samples\n",
      "Packed Benign: 1710 samples\n",
      "Total TRAIN set: 3420 samples\n",
      "Packed Malware: 1477 samples\n",
      "Packed Benign: 1477 samples\n",
      "Total TEST set: 2954 samples\n"
     ]
    }
   ],
   "source": [
    "#Kiểm tra số lượng mẫu\n",
    "PM = data_rich[(data_rich['malicious'] == True) & (data_rich['packed'] == True)].shape[0]\n",
    "PB = data_rich[(data_rich['malicious'] == False) & (data_rich['packed'] == True)].shape[0]\n",
    "print('Packed Malware: %i samples' % PM)\n",
    "print('Packed Benign: %i samples' % PB)\n",
    "print('Total TRAIN set: %i samples'% (PM+PB))\n",
    "\n",
    "#Chia tỉ lệ 50 - 50\n",
    "data_PM_rich = data_rich[(data_rich['malicious'] == True) & (data_rich['packed'] == True)].sample(n=(PM-PB), random_state=102)\n",
    "data_rich = data_rich.drop(data_PM_rich.index)\n",
    "      \n",
    "#Số lượng tập train\n",
    "PM = data_rich[(data_rich['malicious'] == True) & (data_rich['packed'] == True)].shape[0]\n",
    "PB = data_rich[(data_rich['malicious'] == False) & (data_rich['packed'] == True)].shape[0]\n",
    "print('Packed Malware: %i samples' % PM)\n",
    "print('Packed Benign: %i samples' % PB)\n",
    "print('Total TRAIN set: %i samples'% (PM+PB))\n",
    "\n",
    "#Xử lý tập train\n",
    "y = data_rich['malicious'].values\n",
    "data_rich= data_rich.drop(['malicious','packed'], axis=1)\n",
    "\n",
    "PM = df_3000_rich[(df_3000_rich['malicious'] == True) & (df_3000_rich['packed'] == True)].shape[0]\n",
    "PB = df_3000_rich[(df_3000_rich['malicious'] == False) & (df_3000_rich['packed'] == True)].shape[0]\n",
    "\n",
    "df_3000_PM_rich = df_3000_rich[(df_3000_rich['malicious'] == True) & (df_3000_rich['packed'] == True)].sample(n=(PM-PB), random_state=102)\n",
    "df_3000_rich = df_3000_rich.drop(df_3000_PM_rich.index)\n",
    "\n",
    "PM = df_3000_rich[(df_3000_rich['malicious'] == True) & (df_3000_rich['packed'] == True)].shape[0]\n",
    "PB = df_3000_rich[(df_3000_rich['malicious'] == False) & (df_3000_rich['packed'] == True)].shape[0]\n",
    "\n",
    "print('Packed Malware: %i samples' % PM)\n",
    "print('Packed Benign: %i samples' % PB)\n",
    "print('Total TEST set: %i samples'% (PM+PB))"
   ]
  },
  {
   "cell_type": "code",
   "execution_count": 36,
   "id": "2a2dc450",
   "metadata": {
    "execution": {
     "iopub.execute_input": "2023-12-27T01:17:23.359554Z",
     "iopub.status.busy": "2023-12-27T01:17:23.358300Z",
     "iopub.status.idle": "2023-12-27T01:17:23.370147Z",
     "shell.execute_reply": "2023-12-27T01:17:23.369205Z"
    },
    "papermill": {
     "duration": 0.044067,
     "end_time": "2023-12-27T01:17:23.372757",
     "exception": false,
     "start_time": "2023-12-27T01:17:23.328690",
     "status": "completed"
    },
    "tags": []
   },
   "outputs": [],
   "source": [
    "# model = SelectFromModel(fsel, prefit=True)\n",
    "\n",
    "X_train_rich = data_rich\n",
    "X_test_rich = df_3000_rich.drop(['malicious','packed'], axis=1)\n",
    "\n",
    "data_rich = data_rich.loc[:, (data_rich != 0).any(axis=0)]\n",
    "x_train_rich = data_rich\n",
    "X_test_rich = df_3000_rich.drop(['malicious','packed'], axis=1)\n",
    "y_train_rich = y\n",
    "y_test_rich = df_3000_rich['malicious'].values"
   ]
  },
  {
   "cell_type": "code",
   "execution_count": 37,
   "id": "7bfcea18",
   "metadata": {
    "execution": {
     "iopub.execute_input": "2023-12-27T01:17:23.434178Z",
     "iopub.status.busy": "2023-12-27T01:17:23.433117Z",
     "iopub.status.idle": "2023-12-27T01:17:23.802795Z",
     "shell.execute_reply": "2023-12-27T01:17:23.801629Z"
    },
    "papermill": {
     "duration": 0.405574,
     "end_time": "2023-12-27T01:17:23.805499",
     "exception": false,
     "start_time": "2023-12-27T01:17:23.399925",
     "status": "completed"
    },
    "tags": []
   },
   "outputs": [
    {
     "name": "stdout",
     "output_type": "stream",
     "text": [
      "The accuracy of the Random Forests model is :\t 0.5179417738659445\n"
     ]
    }
   ],
   "source": [
    "# Random Forest\n",
    "from sklearn.ensemble import RandomForestClassifier\n",
    "from sklearn import metrics\n",
    "\n",
    "random_forest = RandomForestClassifier(n_estimators=100, random_state=17)\n",
    "random_forest.fit(X_train_rich, y_train_rich)\n",
    "random_forest_preds = random_forest.predict(X_test_rich)\n",
    "print('The accuracy of the Random Forests model is :\\t',metrics.accuracy_score(random_forest_preds,y_test_rich))"
   ]
  },
  {
   "cell_type": "markdown",
   "id": "b2918f74",
   "metadata": {
    "papermill": {
     "duration": 0.025858,
     "end_time": "2023-12-27T01:17:23.857712",
     "exception": false,
     "start_time": "2023-12-27T01:17:23.831854",
     "status": "completed"
    },
    "tags": []
   },
   "source": [
    "# **string features**"
   ]
  },
  {
   "cell_type": "code",
   "execution_count": 38,
   "id": "fd231b07",
   "metadata": {
    "execution": {
     "iopub.execute_input": "2023-12-27T01:17:23.912398Z",
     "iopub.status.busy": "2023-12-27T01:17:23.912009Z",
     "iopub.status.idle": "2023-12-27T01:17:25.515123Z",
     "shell.execute_reply": "2023-12-27T01:17:25.514055Z"
    },
    "papermill": {
     "duration": 1.633443,
     "end_time": "2023-12-27T01:17:25.518039",
     "exception": false,
     "start_time": "2023-12-27T01:17:23.884596",
     "status": "completed"
    },
    "tags": []
   },
   "outputs": [],
   "source": [
    "mpress = pd.read_pickle('/kaggle/input/packer-balance-pickle/mpress_balance.pickle')\n",
    "mpress = mpress.drop(['sample_sha1','benign','unpacked_sample_sha1','unpacked_sample_id'], axis=1)\n",
    "mpress = mpress.drop(['benign_vt','malicious_vt'], axis=1)\n",
    "string_columns = mpress.select_dtypes(include=['object']).columns\n",
    "mpress = mpress.drop(string_columns, axis=1)"
   ]
  },
  {
   "cell_type": "code",
   "execution_count": 39,
   "id": "14835237",
   "metadata": {
    "execution": {
     "iopub.execute_input": "2023-12-27T01:17:25.573944Z",
     "iopub.status.busy": "2023-12-27T01:17:25.573559Z",
     "iopub.status.idle": "2023-12-27T01:17:26.930881Z",
     "shell.execute_reply": "2023-12-27T01:17:26.929387Z"
    },
    "papermill": {
     "duration": 1.387731,
     "end_time": "2023-12-27T01:17:26.933439",
     "exception": false,
     "start_time": "2023-12-27T01:17:25.545708",
     "status": "completed"
    },
    "tags": []
   },
   "outputs": [
    {
     "name": "stdout",
     "output_type": "stream",
     "text": [
      "removing 13000 features\n",
      "removing 2500 features\n",
      "removing 2 features\n",
      "removing 66 features\n",
      "removing 19169 features\n",
      "removing 4306 features\n",
      "removing 550 features\n",
      "removing 29 features\n"
     ]
    }
   ],
   "source": [
    "string = remove_cols(mpress, [c for c in cols if c.startswith('ngram_')])\n",
    "string = remove_cols(mpress, [c for c in cols if c.startswith('opcode_')])\n",
    "string = remove_cols(mpress, [c for c in cols if c.startswith('generic_')])\n",
    "# string = remove_cols(mpress, [c for c in cols if c.startswith('string_')])\n",
    "string = remove_cols(mpress, [c for c in cols if c.startswith('rich_')])\n",
    "string = remove_cols(mpress, [c for c in cols if c.startswith('imp_') or 'api_import_nb' == c])\n",
    "string = remove_cols(mpress, [c for c in cols if c.endswith('.dll') or 'dll_import_nb' == c])\n",
    "string = remove_cols(mpress, [c for c in cols if c.startswith('pesection')])\n",
    "string = remove_cols(mpress, [c for c in cols if c.startswith('header_')])"
   ]
  },
  {
   "cell_type": "code",
   "execution_count": 40,
   "id": "0a28e4c2",
   "metadata": {
    "execution": {
     "iopub.execute_input": "2023-12-27T01:17:26.990850Z",
     "iopub.status.busy": "2023-12-27T01:17:26.990413Z",
     "iopub.status.idle": "2023-12-27T01:17:27.327936Z",
     "shell.execute_reply": "2023-12-27T01:17:27.326526Z"
    },
    "papermill": {
     "duration": 0.368605,
     "end_time": "2023-12-27T01:17:27.330936",
     "exception": false,
     "start_time": "2023-12-27T01:17:26.962331",
     "status": "completed"
    },
    "tags": []
   },
   "outputs": [],
   "source": [
    "df_7000_string = string.sample(n=7000, random_state=102)\n",
    "df_3000_string = string.drop(df_7000.index)\n",
    "data_string = df_7000_string.sample(n=3500, random_state=102)"
   ]
  },
  {
   "cell_type": "code",
   "execution_count": 41,
   "id": "b39f452c",
   "metadata": {
    "execution": {
     "iopub.execute_input": "2023-12-27T01:17:27.401705Z",
     "iopub.status.busy": "2023-12-27T01:17:27.401297Z",
     "iopub.status.idle": "2023-12-27T01:17:27.883023Z",
     "shell.execute_reply": "2023-12-27T01:17:27.881714Z"
    },
    "papermill": {
     "duration": 0.525479,
     "end_time": "2023-12-27T01:17:27.885605",
     "exception": false,
     "start_time": "2023-12-27T01:17:27.360126",
     "status": "completed"
    },
    "tags": []
   },
   "outputs": [
    {
     "name": "stdout",
     "output_type": "stream",
     "text": [
      "Packed Malware: 1790 samples\n",
      "Packed Benign: 1710 samples\n",
      "Total TRAIN set: 3500 samples\n",
      "Packed Malware: 1710 samples\n",
      "Packed Benign: 1710 samples\n",
      "Total TRAIN set: 3420 samples\n",
      "Packed Malware: 1477 samples\n",
      "Packed Benign: 1477 samples\n",
      "Total TEST set: 2954 samples\n"
     ]
    }
   ],
   "source": [
    "#Kiểm tra số lượng mẫu\n",
    "PM = data_string[(data_string['malicious'] == True) & (data_string['packed'] == True)].shape[0]\n",
    "PB = data_string[(data_string['malicious'] == False) & (data_string['packed'] == True)].shape[0]\n",
    "print('Packed Malware: %i samples' % PM)\n",
    "print('Packed Benign: %i samples' % PB)\n",
    "print('Total TRAIN set: %i samples'% (PM+PB))\n",
    "\n",
    "#Chia tỉ lệ 50 - 50\n",
    "data_PM_string = data_string[(data_string['malicious'] == True) & (data_string['packed'] == True)].sample(n=(PM-PB), random_state=102)\n",
    "data_string = data_string.drop(data_PM_string.index)\n",
    "      \n",
    "#Số lượng tập train\n",
    "PM = data_string[(data_string['malicious'] == True) & (data_string['packed'] == True)].shape[0]\n",
    "PB = data_string[(data_string['malicious'] == False) & (data_string['packed'] == True)].shape[0]\n",
    "print('Packed Malware: %i samples' % PM)\n",
    "print('Packed Benign: %i samples' % PB)\n",
    "print('Total TRAIN set: %i samples'% (PM+PB))\n",
    "\n",
    "#Xử lý tập train\n",
    "y = data_string['malicious'].values\n",
    "data_string = data_string.drop(['malicious','packed'], axis=1)\n",
    "\n",
    "PM = df_3000_string[(df_3000_string['malicious'] == True) & (df_3000_string['packed'] == True)].shape[0]\n",
    "PB = df_3000_string[(df_3000_string['malicious'] == False) & (df_3000_string['packed'] == True)].shape[0]\n",
    "\n",
    "df_3000_PM_string = df_3000_string[(df_3000_string['malicious'] == True) & (df_3000_string['packed'] == True)].sample(n=(PM-PB), random_state=102)\n",
    "df_3000_string = df_3000_string.drop(df_3000_PM_string.index)\n",
    "\n",
    "PM = df_3000_string[(df_3000_string['malicious'] == True) & (df_3000_string['packed'] == True)].shape[0]\n",
    "PB = df_3000_string[(df_3000_string['malicious'] == False) & (df_3000_string['packed'] == True)].shape[0]\n",
    "\n",
    "print('Packed Malware: %i samples' % PM)\n",
    "print('Packed Benign: %i samples' % PB)\n",
    "print('Total TEST set: %i samples'% (PM+PB))"
   ]
  },
  {
   "cell_type": "code",
   "execution_count": 42,
   "id": "214df57f",
   "metadata": {
    "execution": {
     "iopub.execute_input": "2023-12-27T01:17:27.941708Z",
     "iopub.status.busy": "2023-12-27T01:17:27.941053Z",
     "iopub.status.idle": "2023-12-27T01:17:28.062792Z",
     "shell.execute_reply": "2023-12-27T01:17:28.061411Z"
    },
    "papermill": {
     "duration": 0.153437,
     "end_time": "2023-12-27T01:17:28.065982",
     "exception": false,
     "start_time": "2023-12-27T01:17:27.912545",
     "status": "completed"
    },
    "tags": []
   },
   "outputs": [],
   "source": [
    "# model = SelectFromModel(fsel, prefit=True)\n",
    "\n",
    "X_train_string = data_string\n",
    "X_test_string = df_3000_string.drop(['malicious','packed'], axis=1)\n",
    "\n",
    "data_string = data_string.loc[:, (data_string != 0).any(axis=0)]\n",
    "x_train_string = data_string\n",
    "X_test_string = df_3000_string.drop(['malicious','packed'], axis=1)\n",
    "y_train_string = y\n",
    "y_test_string = df_3000_string['malicious'].values"
   ]
  },
  {
   "cell_type": "code",
   "execution_count": 43,
   "id": "6e9b2d9e",
   "metadata": {
    "execution": {
     "iopub.execute_input": "2023-12-27T01:17:28.121226Z",
     "iopub.status.busy": "2023-12-27T01:17:28.120857Z",
     "iopub.status.idle": "2023-12-27T01:17:39.769142Z",
     "shell.execute_reply": "2023-12-27T01:17:39.768031Z"
    },
    "papermill": {
     "duration": 11.679142,
     "end_time": "2023-12-27T01:17:39.771921",
     "exception": false,
     "start_time": "2023-12-27T01:17:28.092779",
     "status": "completed"
    },
    "tags": []
   },
   "outputs": [
    {
     "name": "stdout",
     "output_type": "stream",
     "text": [
      "The accuracy of the Random Forests model is :\t 0.9113067027758971\n"
     ]
    }
   ],
   "source": [
    "# Random Forest\n",
    "from sklearn.ensemble import RandomForestClassifier\n",
    "from sklearn import metrics\n",
    "\n",
    "random_forest = RandomForestClassifier(n_estimators=100, random_state=17)\n",
    "random_forest.fit(X_train_string, y_train_string)\n",
    "random_forest_preds = random_forest.predict(X_test_string)\n",
    "print('The accuracy of the Random Forests model is :\\t',metrics.accuracy_score(random_forest_preds,y_test_string))"
   ]
  },
  {
   "cell_type": "markdown",
   "id": "1a84b574",
   "metadata": {
    "papermill": {
     "duration": 0.026365,
     "end_time": "2023-12-27T01:17:39.825005",
     "exception": false,
     "start_time": "2023-12-27T01:17:39.798640",
     "status": "completed"
    },
    "tags": []
   },
   "source": [
    "# **api features**"
   ]
  },
  {
   "cell_type": "code",
   "execution_count": 44,
   "id": "d0d05e14",
   "metadata": {
    "execution": {
     "iopub.execute_input": "2023-12-27T01:17:39.880122Z",
     "iopub.status.busy": "2023-12-27T01:17:39.879742Z",
     "iopub.status.idle": "2023-12-27T01:17:41.575303Z",
     "shell.execute_reply": "2023-12-27T01:17:41.573915Z"
    },
    "papermill": {
     "duration": 1.726755,
     "end_time": "2023-12-27T01:17:41.578411",
     "exception": false,
     "start_time": "2023-12-27T01:17:39.851656",
     "status": "completed"
    },
    "tags": []
   },
   "outputs": [],
   "source": [
    "mpress = pd.read_pickle('/kaggle/input/packer-balance-pickle/mpress_balance.pickle')\n",
    "mpress = mpress.drop(['sample_sha1','benign','unpacked_sample_sha1','unpacked_sample_id'], axis=1)\n",
    "mpress = mpress.drop(['benign_vt','malicious_vt'], axis=1)\n",
    "string_columns = mpress.select_dtypes(include=['object']).columns\n",
    "mpress = mpress.drop(string_columns, axis=1)"
   ]
  },
  {
   "cell_type": "code",
   "execution_count": 45,
   "id": "979c7240",
   "metadata": {
    "execution": {
     "iopub.execute_input": "2023-12-27T01:17:41.635507Z",
     "iopub.status.busy": "2023-12-27T01:17:41.634998Z",
     "iopub.status.idle": "2023-12-27T01:17:43.305820Z",
     "shell.execute_reply": "2023-12-27T01:17:43.304618Z"
    },
    "papermill": {
     "duration": 1.702308,
     "end_time": "2023-12-27T01:17:43.308393",
     "exception": false,
     "start_time": "2023-12-27T01:17:41.606085",
     "status": "completed"
    },
    "tags": []
   },
   "outputs": [
    {
     "name": "stdout",
     "output_type": "stream",
     "text": [
      "removing 13000 features\n",
      "removing 2500 features\n",
      "removing 2 features\n",
      "removing 16900 features\n",
      "removing 66 features\n",
      "removing 4306 features\n",
      "removing 550 features\n",
      "removing 29 features\n"
     ]
    }
   ],
   "source": [
    "api = remove_cols(mpress, [c for c in cols if c.startswith('ngram_')])\n",
    "api = remove_cols(mpress, [c for c in cols if c.startswith('opcode_')])\n",
    "api = remove_cols(mpress, [c for c in cols if c.startswith('generic_')])\n",
    "api = remove_cols(mpress, [c for c in cols if c.startswith('string_')])\n",
    "api = remove_cols(mpress, [c for c in cols if c.startswith('rich_')])\n",
    "# api = remove_cols(mpress, [c for c in cols if c.startswith('imp_') or 'api_import_nb' == c])\n",
    "api = remove_cols(mpress, [c for c in cols if c.endswith('.dll') or 'dll_import_nb' == c])\n",
    "api = remove_cols(mpress, [c for c in cols if c.startswith('pesection')])\n",
    "api = remove_cols(mpress, [c for c in cols if c.startswith('header_')])"
   ]
  },
  {
   "cell_type": "code",
   "execution_count": 46,
   "id": "f2f8a94a",
   "metadata": {
    "execution": {
     "iopub.execute_input": "2023-12-27T01:17:43.366372Z",
     "iopub.status.busy": "2023-12-27T01:17:43.365995Z",
     "iopub.status.idle": "2023-12-27T01:17:43.815262Z",
     "shell.execute_reply": "2023-12-27T01:17:43.814194Z"
    },
    "papermill": {
     "duration": 0.480936,
     "end_time": "2023-12-27T01:17:43.818043",
     "exception": false,
     "start_time": "2023-12-27T01:17:43.337107",
     "status": "completed"
    },
    "tags": []
   },
   "outputs": [],
   "source": [
    "df_7000_api = api.sample(n=7000, random_state=102)\n",
    "df_3000_api = api.drop(df_7000.index)\n",
    "data_api = df_7000_api.sample(n=3500, random_state=102)"
   ]
  },
  {
   "cell_type": "code",
   "execution_count": 47,
   "id": "5160fb56",
   "metadata": {
    "execution": {
     "iopub.execute_input": "2023-12-27T01:17:43.876207Z",
     "iopub.status.busy": "2023-12-27T01:17:43.874923Z",
     "iopub.status.idle": "2023-12-27T01:17:44.585250Z",
     "shell.execute_reply": "2023-12-27T01:17:44.583843Z"
    },
    "papermill": {
     "duration": 0.741649,
     "end_time": "2023-12-27T01:17:44.587789",
     "exception": false,
     "start_time": "2023-12-27T01:17:43.846140",
     "status": "completed"
    },
    "tags": []
   },
   "outputs": [
    {
     "name": "stdout",
     "output_type": "stream",
     "text": [
      "Packed Malware: 1790 samples\n",
      "Packed Benign: 1710 samples\n",
      "Total TRAIN set: 3500 samples\n",
      "Packed Malware: 1710 samples\n",
      "Packed Benign: 1710 samples\n",
      "Total TRAIN set: 3420 samples\n",
      "Packed Malware: 1477 samples\n",
      "Packed Benign: 1477 samples\n",
      "Total TEST set: 2954 samples\n"
     ]
    }
   ],
   "source": [
    "#Kiểm tra số lượng mẫu\n",
    "PM = data_api[(data_api['malicious'] == True) & (data_api['packed'] == True)].shape[0]\n",
    "PB = data_api[(data_api['malicious'] == False) & (data_api['packed'] == True)].shape[0]\n",
    "print('Packed Malware: %i samples' % PM)\n",
    "print('Packed Benign: %i samples' % PB)\n",
    "print('Total TRAIN set: %i samples'% (PM+PB))\n",
    "\n",
    "#Chia tỉ lệ 50 - 50\n",
    "data_PM_api = data_api[(data_api['malicious'] == True) & (data_api['packed'] == True)].sample(n=(PM-PB), random_state=102)\n",
    "data_api = data_api.drop(data_PM_api.index)\n",
    "      \n",
    "#Số lượng tập train\n",
    "PM = data_api[(data_api['malicious'] == True) & (data_api['packed'] == True)].shape[0]\n",
    "PB = data_api[(data_api['malicious'] == False) & (data_api['packed'] == True)].shape[0]\n",
    "print('Packed Malware: %i samples' % PM)\n",
    "print('Packed Benign: %i samples' % PB)\n",
    "print('Total TRAIN set: %i samples'% (PM+PB))\n",
    "\n",
    "#Xử lý tập train\n",
    "y = data_api['malicious'].values\n",
    "data_api = data_api.drop(['malicious','packed'], axis=1)\n",
    "\n",
    "PM = df_3000_api[(df_3000_api['malicious'] == True) & (df_3000_api['packed'] == True)].shape[0]\n",
    "PB = df_3000_api[(df_3000_api['malicious'] == False) & (df_3000_api['packed'] == True)].shape[0]\n",
    "\n",
    "df_3000_PM_api = df_3000_api[(df_3000_api['malicious'] == True) & (df_3000_api['packed'] == True)].sample(n=(PM-PB), random_state=102)\n",
    "df_3000_api = df_3000_api.drop(df_3000_PM_api.index)\n",
    "\n",
    "PM = df_3000_api[(df_3000_api['malicious'] == True) & (df_3000_api['packed'] == True)].shape[0]\n",
    "PB = df_3000_api[(df_3000_api['malicious'] == False) & (df_3000_api['packed'] == True)].shape[0]\n",
    "\n",
    "print('Packed Malware: %i samples' % PM)\n",
    "print('Packed Benign: %i samples' % PB)\n",
    "print('Total TEST set: %i samples'% (PM+PB))"
   ]
  },
  {
   "cell_type": "code",
   "execution_count": 48,
   "id": "aa9c5dbe",
   "metadata": {
    "execution": {
     "iopub.execute_input": "2023-12-27T01:17:44.646604Z",
     "iopub.status.busy": "2023-12-27T01:17:44.646180Z",
     "iopub.status.idle": "2023-12-27T01:17:44.853283Z",
     "shell.execute_reply": "2023-12-27T01:17:44.852248Z"
    },
    "papermill": {
     "duration": 0.240177,
     "end_time": "2023-12-27T01:17:44.855913",
     "exception": false,
     "start_time": "2023-12-27T01:17:44.615736",
     "status": "completed"
    },
    "tags": []
   },
   "outputs": [],
   "source": [
    "# model = SelectFromModel(fsel, prefit=True)\n",
    "\n",
    "X_train_api = data_api\n",
    "X_test_api = df_3000_api.drop(['malicious','packed'], axis=1)\n",
    "\n",
    "data_api = data_api.loc[:, (data_api != 0).any(axis=0)]\n",
    "x_train_api = data_api\n",
    "X_test_api = df_3000_api.drop(['malicious','packed'], axis=1)\n",
    "y_train_api = y\n",
    "y_test_api = df_3000_api['malicious'].values"
   ]
  },
  {
   "cell_type": "code",
   "execution_count": 49,
   "id": "4531086a",
   "metadata": {
    "execution": {
     "iopub.execute_input": "2023-12-27T01:17:44.914355Z",
     "iopub.status.busy": "2023-12-27T01:17:44.913946Z",
     "iopub.status.idle": "2023-12-27T01:18:03.343635Z",
     "shell.execute_reply": "2023-12-27T01:18:03.342517Z"
    },
    "papermill": {
     "duration": 18.461172,
     "end_time": "2023-12-27T01:18:03.346241",
     "exception": false,
     "start_time": "2023-12-27T01:17:44.885069",
     "status": "completed"
    },
    "tags": []
   },
   "outputs": [
    {
     "name": "stdout",
     "output_type": "stream",
     "text": [
      "The accuracy of the Random Forests model is :\t 0.8825321597833446\n"
     ]
    }
   ],
   "source": [
    "# Random Forest\n",
    "from sklearn.ensemble import RandomForestClassifier\n",
    "from sklearn import metrics\n",
    "\n",
    "random_forest = RandomForestClassifier(n_estimators=100, random_state=17)\n",
    "random_forest.fit(X_train_api, y_train_api)\n",
    "random_forest_preds = random_forest.predict(X_test_api)\n",
    "print('The accuracy of the Random Forests model is :\\t',metrics.accuracy_score(random_forest_preds,y_test_api))"
   ]
  },
  {
   "cell_type": "markdown",
   "id": "cf2ed14f",
   "metadata": {
    "papermill": {
     "duration": 0.028541,
     "end_time": "2023-12-27T01:18:03.403391",
     "exception": false,
     "start_time": "2023-12-27T01:18:03.374850",
     "status": "completed"
    },
    "tags": []
   },
   "source": [
    "# **dll features**"
   ]
  },
  {
   "cell_type": "code",
   "execution_count": 50,
   "id": "8ef96e10",
   "metadata": {
    "execution": {
     "iopub.execute_input": "2023-12-27T01:18:03.477362Z",
     "iopub.status.busy": "2023-12-27T01:18:03.476315Z",
     "iopub.status.idle": "2023-12-27T01:18:05.325562Z",
     "shell.execute_reply": "2023-12-27T01:18:05.323946Z"
    },
    "papermill": {
     "duration": 1.887113,
     "end_time": "2023-12-27T01:18:05.328352",
     "exception": false,
     "start_time": "2023-12-27T01:18:03.441239",
     "status": "completed"
    },
    "tags": []
   },
   "outputs": [],
   "source": [
    "mpress = pd.read_pickle('/kaggle/input/packer-balance-pickle/mpress_balance.pickle')\n",
    "mpress = mpress.drop(['sample_sha1','benign','unpacked_sample_sha1','unpacked_sample_id'], axis=1)\n",
    "mpress = mpress.drop(['benign_vt','malicious_vt'], axis=1)\n",
    "string_columns = mpress.select_dtypes(include=['object']).columns\n",
    "mpress = mpress.drop(string_columns, axis=1)"
   ]
  },
  {
   "cell_type": "code",
   "execution_count": 51,
   "id": "2aa70baf",
   "metadata": {
    "execution": {
     "iopub.execute_input": "2023-12-27T01:18:05.387509Z",
     "iopub.status.busy": "2023-12-27T01:18:05.387051Z",
     "iopub.status.idle": "2023-12-27T01:18:06.712612Z",
     "shell.execute_reply": "2023-12-27T01:18:06.711333Z"
    },
    "papermill": {
     "duration": 1.357381,
     "end_time": "2023-12-27T01:18:06.714949",
     "exception": false,
     "start_time": "2023-12-27T01:18:05.357568",
     "status": "completed"
    },
    "tags": []
   },
   "outputs": [
    {
     "name": "stdout",
     "output_type": "stream",
     "text": [
      "removing 13000 features\n",
      "removing 2500 features\n",
      "removing 2 features\n",
      "removing 16900 features\n",
      "removing 66 features\n",
      "removing 19169 features\n",
      "removing 550 features\n",
      "removing 29 features\n"
     ]
    }
   ],
   "source": [
    "dll = remove_cols(mpress, [c for c in cols if c.startswith('ngram_')])\n",
    "dll = remove_cols(mpress, [c for c in cols if c.startswith('opcode_')])\n",
    "dll = remove_cols(mpress, [c for c in cols if c.startswith('generic_')])\n",
    "dll = remove_cols(mpress, [c for c in cols if c.startswith('string_')])\n",
    "dll = remove_cols(mpress, [c for c in cols if c.startswith('rich_')])\n",
    "dll = remove_cols(mpress, [c for c in cols if c.startswith('imp_') or 'api_import_nb' == c])\n",
    "# api = remove_cols(mpress, [c for c in cols if c.endswith('.dll') or 'dll_import_nb' == c])\n",
    "dll = remove_cols(mpress, [c for c in cols if c.startswith('pesection')])\n",
    "dll = remove_cols(mpress, [c for c in cols if c.startswith('header_')])"
   ]
  },
  {
   "cell_type": "code",
   "execution_count": 52,
   "id": "4faa8830",
   "metadata": {
    "execution": {
     "iopub.execute_input": "2023-12-27T01:18:06.773759Z",
     "iopub.status.busy": "2023-12-27T01:18:06.773347Z",
     "iopub.status.idle": "2023-12-27T01:18:06.881207Z",
     "shell.execute_reply": "2023-12-27T01:18:06.880128Z"
    },
    "papermill": {
     "duration": 0.140737,
     "end_time": "2023-12-27T01:18:06.884325",
     "exception": false,
     "start_time": "2023-12-27T01:18:06.743588",
     "status": "completed"
    },
    "tags": []
   },
   "outputs": [],
   "source": [
    "df_7000_dll = dll.sample(n=7000, random_state=102)\n",
    "df_3000_dll = dll.drop(df_7000.index)\n",
    "data_dll = df_7000_dll.sample(n=3500, random_state=102)"
   ]
  },
  {
   "cell_type": "code",
   "execution_count": 53,
   "id": "14f6e747",
   "metadata": {
    "execution": {
     "iopub.execute_input": "2023-12-27T01:18:06.942881Z",
     "iopub.status.busy": "2023-12-27T01:18:06.942426Z",
     "iopub.status.idle": "2023-12-27T01:18:07.169519Z",
     "shell.execute_reply": "2023-12-27T01:18:07.168578Z"
    },
    "papermill": {
     "duration": 0.259493,
     "end_time": "2023-12-27T01:18:07.172156",
     "exception": false,
     "start_time": "2023-12-27T01:18:06.912663",
     "status": "completed"
    },
    "tags": []
   },
   "outputs": [
    {
     "name": "stdout",
     "output_type": "stream",
     "text": [
      "Packed Malware: 1790 samples\n",
      "Packed Benign: 1710 samples\n",
      "Total TRAIN set: 3500 samples\n",
      "Packed Malware: 1710 samples\n",
      "Packed Benign: 1710 samples\n",
      "Total TRAIN set: 3420 samples\n",
      "Packed Malware: 1477 samples\n",
      "Packed Benign: 1477 samples\n",
      "Total TEST set: 2954 samples\n"
     ]
    }
   ],
   "source": [
    "#Kiểm tra số lượng mẫu\n",
    "PM = data_dll[(data_dll['malicious'] == True) & (data_dll['packed'] == True)].shape[0]\n",
    "PB = data_dll[(data_dll['malicious'] == False) & (data_dll['packed'] == True)].shape[0]\n",
    "print('Packed Malware: %i samples' % PM)\n",
    "print('Packed Benign: %i samples' % PB)\n",
    "print('Total TRAIN set: %i samples'% (PM+PB))\n",
    "\n",
    "#Chia tỉ lệ 50 - 50\n",
    "data_PM_dll = data_dll[(data_dll['malicious'] == True) & (data_dll['packed'] == True)].sample(n=(PM-PB), random_state=102)\n",
    "data_dll = data_dll.drop(data_PM_dll.index)\n",
    "      \n",
    "#Số lượng tập train\n",
    "PM = data_dll[(data_dll['malicious'] == True) & (data_dll['packed'] == True)].shape[0]\n",
    "PB = data_dll[(data_dll['malicious'] == False) & (data_dll['packed'] == True)].shape[0]\n",
    "print('Packed Malware: %i samples' % PM)\n",
    "print('Packed Benign: %i samples' % PB)\n",
    "print('Total TRAIN set: %i samples'% (PM+PB))\n",
    "\n",
    "#Xử lý tập train\n",
    "y = data_dll['malicious'].values\n",
    "data_dll = data_dll.drop(['malicious','packed'], axis=1)\n",
    "\n",
    "PM = df_3000_dll[(df_3000_dll['malicious'] == True) & (df_3000_dll['packed'] == True)].shape[0]\n",
    "PB = df_3000_dll[(df_3000_dll['malicious'] == False) & (df_3000_dll['packed'] == True)].shape[0]\n",
    "\n",
    "df_3000_PM_dll = df_3000_dll[(df_3000_dll['malicious'] == True) & (df_3000_dll['packed'] == True)].sample(n=(PM-PB), random_state=102)\n",
    "df_3000_dll = df_3000_dll.drop(df_3000_PM_dll.index)\n",
    "\n",
    "PM = df_3000_dll[(df_3000_dll['malicious'] == True) & (df_3000_dll['packed'] == True)].shape[0]\n",
    "PB = df_3000_dll[(df_3000_dll['malicious'] == False) & (df_3000_dll['packed'] == True)].shape[0]\n",
    "\n",
    "print('Packed Malware: %i samples' % PM)\n",
    "print('Packed Benign: %i samples' % PB)\n",
    "print('Total TEST set: %i samples'% (PM+PB))"
   ]
  },
  {
   "cell_type": "code",
   "execution_count": 54,
   "id": "8e5c9d5f",
   "metadata": {
    "execution": {
     "iopub.execute_input": "2023-12-27T01:18:07.232524Z",
     "iopub.status.busy": "2023-12-27T01:18:07.231941Z",
     "iopub.status.idle": "2023-12-27T01:18:07.292648Z",
     "shell.execute_reply": "2023-12-27T01:18:07.291522Z"
    },
    "papermill": {
     "duration": 0.094198,
     "end_time": "2023-12-27T01:18:07.295562",
     "exception": false,
     "start_time": "2023-12-27T01:18:07.201364",
     "status": "completed"
    },
    "tags": []
   },
   "outputs": [],
   "source": [
    "# model = SelectFromModel(fsel, prefit=True)\n",
    "\n",
    "X_train_dll = data_dll\n",
    "X_test_dll = df_3000_dll.drop(['malicious','packed'], axis=1)\n",
    "\n",
    "data_dll = data_dll.loc[:, (data_dll != 0).any(axis=0)]\n",
    "x_train_dll = data_dll\n",
    "X_test_dll = df_3000_dll.drop(['malicious','packed'], axis=1)\n",
    "y_train_dll = y\n",
    "y_test_dll = df_3000_dll['malicious'].values"
   ]
  },
  {
   "cell_type": "code",
   "execution_count": 55,
   "id": "37384ebd",
   "metadata": {
    "execution": {
     "iopub.execute_input": "2023-12-27T01:18:07.355242Z",
     "iopub.status.busy": "2023-12-27T01:18:07.354864Z",
     "iopub.status.idle": "2023-12-27T01:18:13.858816Z",
     "shell.execute_reply": "2023-12-27T01:18:13.857570Z"
    },
    "papermill": {
     "duration": 6.537273,
     "end_time": "2023-12-27T01:18:13.861908",
     "exception": false,
     "start_time": "2023-12-27T01:18:07.324635",
     "status": "completed"
    },
    "tags": []
   },
   "outputs": [
    {
     "name": "stdout",
     "output_type": "stream",
     "text": [
      "The accuracy of the Random Forests model is :\t 0.8859174001354096\n"
     ]
    }
   ],
   "source": [
    "# Random Forest\n",
    "from sklearn.ensemble import RandomForestClassifier\n",
    "from sklearn import metrics\n",
    "\n",
    "random_forest = RandomForestClassifier(n_estimators=100, random_state=17)\n",
    "random_forest.fit(X_train_dll, y_train_dll)\n",
    "random_forest_preds = random_forest.predict(X_test_dll)\n",
    "print('The accuracy of the Random Forests model is :\\t',metrics.accuracy_score(random_forest_preds,y_test_dll))"
   ]
  },
  {
   "cell_type": "markdown",
   "id": "a923a789",
   "metadata": {
    "papermill": {
     "duration": 0.027907,
     "end_time": "2023-12-27T01:18:13.921662",
     "exception": false,
     "start_time": "2023-12-27T01:18:13.893755",
     "status": "completed"
    },
    "tags": []
   },
   "source": [
    "# **pe sections features**"
   ]
  },
  {
   "cell_type": "code",
   "execution_count": 56,
   "id": "905e21e7",
   "metadata": {
    "execution": {
     "iopub.execute_input": "2023-12-27T01:18:13.980623Z",
     "iopub.status.busy": "2023-12-27T01:18:13.979698Z",
     "iopub.status.idle": "2023-12-27T01:18:15.661234Z",
     "shell.execute_reply": "2023-12-27T01:18:15.660120Z"
    },
    "papermill": {
     "duration": 1.714356,
     "end_time": "2023-12-27T01:18:15.664174",
     "exception": false,
     "start_time": "2023-12-27T01:18:13.949818",
     "status": "completed"
    },
    "tags": []
   },
   "outputs": [],
   "source": [
    "mpress = pd.read_pickle('/kaggle/input/packer-balance-pickle/mpress_balance.pickle')\n",
    "mpress = mpress.drop(['sample_sha1','benign','unpacked_sample_sha1','unpacked_sample_id'], axis=1)\n",
    "mpress = mpress.drop(['benign_vt','malicious_vt'], axis=1)\n",
    "string_columns = mpress.select_dtypes(include=['object']).columns\n",
    "mpress = mpress.drop(string_columns, axis=1)"
   ]
  },
  {
   "cell_type": "code",
   "execution_count": 57,
   "id": "826596fd",
   "metadata": {
    "execution": {
     "iopub.execute_input": "2023-12-27T01:18:15.723520Z",
     "iopub.status.busy": "2023-12-27T01:18:15.723122Z",
     "iopub.status.idle": "2023-12-27T01:18:17.038235Z",
     "shell.execute_reply": "2023-12-27T01:18:17.036802Z"
    },
    "papermill": {
     "duration": 1.348047,
     "end_time": "2023-12-27T01:18:17.041096",
     "exception": false,
     "start_time": "2023-12-27T01:18:15.693049",
     "status": "completed"
    },
    "tags": []
   },
   "outputs": [
    {
     "name": "stdout",
     "output_type": "stream",
     "text": [
      "removing 13000 features\n",
      "removing 2500 features\n",
      "removing 2 features\n",
      "removing 16900 features\n",
      "removing 66 features\n",
      "removing 19169 features\n",
      "removing 4306 features\n",
      "removing 29 features\n"
     ]
    }
   ],
   "source": [
    "pesection = remove_cols(mpress, [c for c in cols if c.startswith('ngram_')])\n",
    "pesection = remove_cols(mpress, [c for c in cols if c.startswith('opcode_')])\n",
    "pesection = remove_cols(mpress, [c for c in cols if c.startswith('generic_')])\n",
    "pesection = remove_cols(mpress, [c for c in cols if c.startswith('string_')])\n",
    "pesection = remove_cols(mpress, [c for c in cols if c.startswith('rich_')])\n",
    "pesection = remove_cols(mpress, [c for c in cols if c.startswith('imp_') or 'api_import_nb' == c])\n",
    "pesection = remove_cols(mpress, [c for c in cols if c.endswith('.dll') or 'dll_import_nb' == c])\n",
    "# pesection = remove_cols(mpress, [c for c in cols if c.startswith('pesection')])\n",
    "pesection = remove_cols(mpress, [c for c in cols if c.startswith('header_')])"
   ]
  },
  {
   "cell_type": "code",
   "execution_count": 58,
   "id": "c96e2715",
   "metadata": {
    "execution": {
     "iopub.execute_input": "2023-12-27T01:18:17.102229Z",
     "iopub.status.busy": "2023-12-27T01:18:17.101570Z",
     "iopub.status.idle": "2023-12-27T01:18:17.153442Z",
     "shell.execute_reply": "2023-12-27T01:18:17.152231Z"
    },
    "papermill": {
     "duration": 0.085392,
     "end_time": "2023-12-27T01:18:17.156425",
     "exception": false,
     "start_time": "2023-12-27T01:18:17.071033",
     "status": "completed"
    },
    "tags": []
   },
   "outputs": [],
   "source": [
    "df_7000_pesection = pesection.sample(n=7000, random_state=102)\n",
    "df_3000_pesection = pesection.drop(df_7000.index)\n",
    "data_pesection = df_7000_pesection.sample(n=3500, random_state=102)"
   ]
  },
  {
   "cell_type": "code",
   "execution_count": 59,
   "id": "92c69735",
   "metadata": {
    "execution": {
     "iopub.execute_input": "2023-12-27T01:18:17.217911Z",
     "iopub.status.busy": "2023-12-27T01:18:17.216988Z",
     "iopub.status.idle": "2023-12-27T01:18:17.367562Z",
     "shell.execute_reply": "2023-12-27T01:18:17.366199Z"
    },
    "papermill": {
     "duration": 0.184231,
     "end_time": "2023-12-27T01:18:17.369876",
     "exception": false,
     "start_time": "2023-12-27T01:18:17.185645",
     "status": "completed"
    },
    "tags": []
   },
   "outputs": [
    {
     "name": "stdout",
     "output_type": "stream",
     "text": [
      "Packed Malware: 1790 samples\n",
      "Packed Benign: 1710 samples\n",
      "Total TRAIN set: 3500 samples\n",
      "Packed Malware: 1710 samples\n",
      "Packed Benign: 1710 samples\n",
      "Total TRAIN set: 3420 samples\n",
      "Packed Malware: 1477 samples\n",
      "Packed Benign: 1477 samples\n",
      "Total TEST set: 2954 samples\n"
     ]
    }
   ],
   "source": [
    "#Kiểm tra số lượng mẫu\n",
    "PM = data_pesection[(data_pesection['malicious'] == True) & (data_pesection['packed'] == True)].shape[0]\n",
    "PB = data_pesection[(data_pesection['malicious'] == False) & (data_pesection['packed'] == True)].shape[0]\n",
    "print('Packed Malware: %i samples' % PM)\n",
    "print('Packed Benign: %i samples' % PB)\n",
    "print('Total TRAIN set: %i samples'% (PM+PB))\n",
    "\n",
    "#Chia tỉ lệ 50 - 50\n",
    "data_PM_pesection = data_pesection[(data_pesection['malicious'] == True) & (data_pesection['packed'] == True)].sample(n=(PM-PB), random_state=102)\n",
    "data_pesection = data_pesection.drop(data_PM_pesection.index)\n",
    "      \n",
    "#Số lượng tập train\n",
    "PM = data_pesection[(data_pesection['malicious'] == True) & (data_pesection['packed'] == True)].shape[0]\n",
    "PB = data_pesection[(data_pesection['malicious'] == False) & (data_pesection['packed'] == True)].shape[0]\n",
    "print('Packed Malware: %i samples' % PM)\n",
    "print('Packed Benign: %i samples' % PB)\n",
    "print('Total TRAIN set: %i samples'% (PM+PB))\n",
    "\n",
    "#Xử lý tập train\n",
    "y = data_pesection['malicious'].values\n",
    "data_pesection = data_pesection.drop(['malicious','packed'], axis=1)\n",
    "\n",
    "PM = df_3000_pesection[(df_3000_pesection['malicious'] == True) & (df_3000_pesection['packed'] == True)].shape[0]\n",
    "PB = df_3000_pesection[(df_3000_pesection['malicious'] == False) & (df_3000_pesection['packed'] == True)].shape[0]\n",
    "\n",
    "df_3000_PM_pesection = df_3000_pesection[(df_3000_pesection['malicious'] == True) & (df_3000_pesection['packed'] == True)].sample(n=(PM-PB), random_state=102)\n",
    "df_3000_pesection = df_3000_pesection.drop(df_3000_PM_pesection.index)\n",
    "\n",
    "PM = df_3000_pesection[(df_3000_pesection['malicious'] == True) & (df_3000_pesection['packed'] == True)].shape[0]\n",
    "PB = df_3000_pesection[(df_3000_pesection['malicious'] == False) & (df_3000_pesection['packed'] == True)].shape[0]\n",
    "\n",
    "print('Packed Malware: %i samples' % PM)\n",
    "print('Packed Benign: %i samples' % PB)\n",
    "print('Total TEST set: %i samples'% (PM+PB))"
   ]
  },
  {
   "cell_type": "code",
   "execution_count": 60,
   "id": "f2ab47ed",
   "metadata": {
    "execution": {
     "iopub.execute_input": "2023-12-27T01:18:17.431593Z",
     "iopub.status.busy": "2023-12-27T01:18:17.430609Z",
     "iopub.status.idle": "2023-12-27T01:18:17.473715Z",
     "shell.execute_reply": "2023-12-27T01:18:17.472520Z"
    },
    "papermill": {
     "duration": 0.076924,
     "end_time": "2023-12-27T01:18:17.476302",
     "exception": false,
     "start_time": "2023-12-27T01:18:17.399378",
     "status": "completed"
    },
    "tags": []
   },
   "outputs": [],
   "source": [
    "# model = SelectFromModel(fsel, prefit=True)\n",
    "\n",
    "X_train_pesection = data_pesection\n",
    "X_test_pesection = df_3000_pesection.drop(['malicious','packed'], axis=1)\n",
    "\n",
    "data_pesection = data_pesection.loc[:, (data_pesection != 0).any(axis=0)]\n",
    "x_train_pesection = data_pesection\n",
    "X_test_pesection = df_3000_pesection.drop(['malicious','packed'], axis=1)\n",
    "y_train_pesection = y\n",
    "y_test_pesection = df_3000_pesection['malicious'].values"
   ]
  },
  {
   "cell_type": "code",
   "execution_count": 61,
   "id": "b2fb6fb6",
   "metadata": {
    "execution": {
     "iopub.execute_input": "2023-12-27T01:18:17.538068Z",
     "iopub.status.busy": "2023-12-27T01:18:17.536880Z",
     "iopub.status.idle": "2023-12-27T01:18:18.511308Z",
     "shell.execute_reply": "2023-12-27T01:18:18.509919Z"
    },
    "papermill": {
     "duration": 1.007975,
     "end_time": "2023-12-27T01:18:18.513818",
     "exception": false,
     "start_time": "2023-12-27T01:18:17.505843",
     "status": "completed"
    },
    "tags": []
   },
   "outputs": [
    {
     "name": "stdout",
     "output_type": "stream",
     "text": [
      "The accuracy of the Random Forests model is :\t 0.9136763710223426\n"
     ]
    }
   ],
   "source": [
    "# Random Forest\n",
    "from sklearn.ensemble import RandomForestClassifier\n",
    "from sklearn import metrics\n",
    "\n",
    "random_forest = RandomForestClassifier(n_estimators=100, random_state=17)\n",
    "random_forest.fit(X_train_pesection, y_train_pesection)\n",
    "random_forest_preds = random_forest.predict(X_test_pesection)\n",
    "print('The accuracy of the Random Forests model is :\\t',metrics.accuracy_score(random_forest_preds,y_test_pesection))"
   ]
  },
  {
   "cell_type": "markdown",
   "id": "b6e75325",
   "metadata": {
    "papermill": {
     "duration": 0.028724,
     "end_time": "2023-12-27T01:18:18.571860",
     "exception": false,
     "start_time": "2023-12-27T01:18:18.543136",
     "status": "completed"
    },
    "tags": []
   },
   "source": [
    "# **pe header features**"
   ]
  },
  {
   "cell_type": "code",
   "execution_count": 62,
   "id": "528f812a",
   "metadata": {
    "execution": {
     "iopub.execute_input": "2023-12-27T01:18:18.632583Z",
     "iopub.status.busy": "2023-12-27T01:18:18.632140Z",
     "iopub.status.idle": "2023-12-27T01:18:20.368179Z",
     "shell.execute_reply": "2023-12-27T01:18:20.366936Z"
    },
    "papermill": {
     "duration": 1.770097,
     "end_time": "2023-12-27T01:18:20.371105",
     "exception": false,
     "start_time": "2023-12-27T01:18:18.601008",
     "status": "completed"
    },
    "tags": []
   },
   "outputs": [],
   "source": [
    "mpress = pd.read_pickle('/kaggle/input/packer-balance-pickle/mpress_balance.pickle')\n",
    "mpress = mpress.drop(['sample_sha1','benign','unpacked_sample_sha1','unpacked_sample_id'], axis=1)\n",
    "mpress = mpress.drop(['benign_vt','malicious_vt'], axis=1)\n",
    "string_columns = mpress.select_dtypes(include=['object']).columns\n",
    "mpress = mpress.drop(string_columns, axis=1)"
   ]
  },
  {
   "cell_type": "code",
   "execution_count": 63,
   "id": "ef2cd655",
   "metadata": {
    "execution": {
     "iopub.execute_input": "2023-12-27T01:18:20.432958Z",
     "iopub.status.busy": "2023-12-27T01:18:20.432249Z",
     "iopub.status.idle": "2023-12-27T01:18:21.644315Z",
     "shell.execute_reply": "2023-12-27T01:18:21.643110Z"
    },
    "papermill": {
     "duration": 1.246227,
     "end_time": "2023-12-27T01:18:21.647831",
     "exception": false,
     "start_time": "2023-12-27T01:18:20.401604",
     "status": "completed"
    },
    "tags": []
   },
   "outputs": [
    {
     "name": "stdout",
     "output_type": "stream",
     "text": [
      "removing 13000 features\n",
      "removing 2500 features\n",
      "removing 2 features\n",
      "removing 16900 features\n",
      "removing 66 features\n",
      "removing 19169 features\n",
      "removing 4306 features\n",
      "removing 550 features\n"
     ]
    }
   ],
   "source": [
    "header = remove_cols(mpress, [c for c in cols if c.startswith('ngram_')])\n",
    "header = remove_cols(mpress, [c for c in cols if c.startswith('opcode_')])\n",
    "header = remove_cols(mpress, [c for c in cols if c.startswith('generic_')])\n",
    "header = remove_cols(mpress, [c for c in cols if c.startswith('string_')])\n",
    "header = remove_cols(mpress, [c for c in cols if c.startswith('rich_')])\n",
    "header = remove_cols(mpress, [c for c in cols if c.startswith('imp_') or 'api_import_nb' == c])\n",
    "header = remove_cols(mpress, [c for c in cols if c.endswith('.dll') or 'dll_import_nb' == c])\n",
    "header = remove_cols(mpress, [c for c in cols if c.startswith('pesection')])\n",
    "# header = remove_cols(mpress, [c for c in cols if c.startswith('header_')])"
   ]
  },
  {
   "cell_type": "code",
   "execution_count": 64,
   "id": "c0d5da5a",
   "metadata": {
    "execution": {
     "iopub.execute_input": "2023-12-27T01:18:21.710422Z",
     "iopub.status.busy": "2023-12-27T01:18:21.709455Z",
     "iopub.status.idle": "2023-12-27T01:18:21.722014Z",
     "shell.execute_reply": "2023-12-27T01:18:21.720911Z"
    },
    "papermill": {
     "duration": 0.046376,
     "end_time": "2023-12-27T01:18:21.724585",
     "exception": false,
     "start_time": "2023-12-27T01:18:21.678209",
     "status": "completed"
    },
    "tags": []
   },
   "outputs": [],
   "source": [
    "df_7000_header = header.sample(n=7000, random_state=102)\n",
    "df_3000_header = header.drop(df_7000.index)\n",
    "data_header = df_7000_header.sample(n=3500, random_state=102)"
   ]
  },
  {
   "cell_type": "code",
   "execution_count": 65,
   "id": "2224ae26",
   "metadata": {
    "execution": {
     "iopub.execute_input": "2023-12-27T01:18:21.789403Z",
     "iopub.status.busy": "2023-12-27T01:18:21.788985Z",
     "iopub.status.idle": "2023-12-27T01:18:21.829926Z",
     "shell.execute_reply": "2023-12-27T01:18:21.829136Z"
    },
    "papermill": {
     "duration": 0.077046,
     "end_time": "2023-12-27T01:18:21.832316",
     "exception": false,
     "start_time": "2023-12-27T01:18:21.755270",
     "status": "completed"
    },
    "tags": []
   },
   "outputs": [
    {
     "name": "stdout",
     "output_type": "stream",
     "text": [
      "Packed Malware: 1790 samples\n",
      "Packed Benign: 1710 samples\n",
      "Total TRAIN set: 3500 samples\n",
      "Packed Malware: 1710 samples\n",
      "Packed Benign: 1710 samples\n",
      "Total TRAIN set: 3420 samples\n",
      "Packed Malware: 1477 samples\n",
      "Packed Benign: 1477 samples\n",
      "Total TEST set: 2954 samples\n"
     ]
    }
   ],
   "source": [
    "#Kiểm tra số lượng mẫu\n",
    "PM = data_header[(data_header['malicious'] == True) & (data_header['packed'] == True)].shape[0]\n",
    "PB = data_header[(data_header['malicious'] == False) & (data_header['packed'] == True)].shape[0]\n",
    "print('Packed Malware: %i samples' % PM)\n",
    "print('Packed Benign: %i samples' % PB)\n",
    "print('Total TRAIN set: %i samples'% (PM+PB))\n",
    "\n",
    "#Chia tỉ lệ 50 - 50\n",
    "data_PM_header = data_header[(data_header['malicious'] == True) & (data_header['packed'] == True)].sample(n=(PM-PB), random_state=102)\n",
    "data_header = data_header.drop(data_PM_header.index)\n",
    "      \n",
    "#Số lượng tập train\n",
    "PM = data_header[(data_header['malicious'] == True) & (data_header['packed'] == True)].shape[0]\n",
    "PB = data_header[(data_header['malicious'] == False) & (data_header['packed'] == True)].shape[0]\n",
    "print('Packed Malware: %i samples' % PM)\n",
    "print('Packed Benign: %i samples' % PB)\n",
    "print('Total TRAIN set: %i samples'% (PM+PB))\n",
    "\n",
    "#Xử lý tập train\n",
    "y = data_header['malicious'].values\n",
    "data_header= data_header.drop(['malicious','packed'], axis=1)\n",
    "\n",
    "PM = df_3000_header[(df_3000_header['malicious'] == True) & (df_3000_header['packed'] == True)].shape[0]\n",
    "PB = df_3000_header[(df_3000_header['malicious'] == False) & (df_3000_header['packed'] == True)].shape[0]\n",
    "\n",
    "df_3000_PM_header = df_3000_header[(df_3000_header['malicious'] == True) & (df_3000_header['packed'] == True)].sample(n=(PM-PB), random_state=102)\n",
    "df_3000_header= df_3000_header.drop(df_3000_PM_header.index)\n",
    "\n",
    "PM = df_3000_header[(df_3000_header['malicious'] == True) & (df_3000_header['packed'] == True)].shape[0]\n",
    "PB = df_3000_header[(df_3000_header['malicious'] == False) & (df_3000_header['packed'] == True)].shape[0]\n",
    "\n",
    "print('Packed Malware: %i samples' % PM)\n",
    "print('Packed Benign: %i samples' % PB)\n",
    "print('Total TEST set: %i samples'% (PM+PB))"
   ]
  },
  {
   "cell_type": "code",
   "execution_count": 66,
   "id": "8d0a35bb",
   "metadata": {
    "execution": {
     "iopub.execute_input": "2023-12-27T01:18:21.895284Z",
     "iopub.status.busy": "2023-12-27T01:18:21.894847Z",
     "iopub.status.idle": "2023-12-27T01:18:21.908429Z",
     "shell.execute_reply": "2023-12-27T01:18:21.907540Z"
    },
    "papermill": {
     "duration": 0.047991,
     "end_time": "2023-12-27T01:18:21.910842",
     "exception": false,
     "start_time": "2023-12-27T01:18:21.862851",
     "status": "completed"
    },
    "tags": []
   },
   "outputs": [],
   "source": [
    "# model = SelectFromModel(fsel, prefit=True)\n",
    "\n",
    "X_train_header = data_header\n",
    "X_test_header = df_3000_header.drop(['malicious','packed'], axis=1)\n",
    "\n",
    "data_header = data_header.loc[:, (data_header != 0).any(axis=0)]\n",
    "x_train_header = data_header\n",
    "X_test_header = df_3000_header.drop(['malicious','packed'], axis=1)\n",
    "y_train_header = y\n",
    "y_test_header = df_3000_header['malicious'].values"
   ]
  },
  {
   "cell_type": "code",
   "execution_count": 67,
   "id": "88a1eb3f",
   "metadata": {
    "execution": {
     "iopub.execute_input": "2023-12-27T01:18:21.973268Z",
     "iopub.status.busy": "2023-12-27T01:18:21.972051Z",
     "iopub.status.idle": "2023-12-27T01:18:22.568925Z",
     "shell.execute_reply": "2023-12-27T01:18:22.568048Z"
    },
    "papermill": {
     "duration": 0.63055,
     "end_time": "2023-12-27T01:18:22.571253",
     "exception": false,
     "start_time": "2023-12-27T01:18:21.940703",
     "status": "completed"
    },
    "tags": []
   },
   "outputs": [
    {
     "name": "stdout",
     "output_type": "stream",
     "text": [
      "The accuracy of the Random Forests model is :\t 0.8937034529451591\n"
     ]
    }
   ],
   "source": [
    "# Random Forest\n",
    "from sklearn.ensemble import RandomForestClassifier\n",
    "from sklearn import metrics\n",
    "\n",
    "random_forest = RandomForestClassifier(n_estimators=100, random_state=17)\n",
    "random_forest.fit(X_train_header, y_train_header)\n",
    "random_forest_preds = random_forest.predict(X_test_header)\n",
    "print('The accuracy of the Random Forests model is :\\t',metrics.accuracy_score(random_forest_preds,y_test_header))"
   ]
  }
 ],
 "metadata": {
  "kaggle": {
   "accelerator": "none",
   "dataSources": [
    {
     "datasetId": 4192384,
     "sourceId": 7262652,
     "sourceType": "datasetVersion"
    }
   ],
   "dockerImageVersionId": 30626,
   "isGpuEnabled": false,
   "isInternetEnabled": true,
   "language": "python",
   "sourceType": "notebook"
  },
  "kernelspec": {
   "display_name": "Python 3",
   "language": "python",
   "name": "python3"
  },
  "language_info": {
   "codemirror_mode": {
    "name": "ipython",
    "version": 3
   },
   "file_extension": ".py",
   "mimetype": "text/x-python",
   "name": "python",
   "nbconvert_exporter": "python",
   "pygments_lexer": "ipython3",
   "version": "3.10.12"
  },
  "papermill": {
   "default_parameters": {},
   "duration": 109.6738,
   "end_time": "2023-12-27T01:18:23.425519",
   "environment_variables": {},
   "exception": null,
   "input_path": "__notebook__.ipynb",
   "output_path": "__notebook__.ipynb",
   "parameters": {},
   "start_time": "2023-12-27T01:16:33.751719",
   "version": "2.4.0"
  }
 },
 "nbformat": 4,
 "nbformat_minor": 5
}
