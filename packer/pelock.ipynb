{
 "cells": [
  {
   "cell_type": "code",
   "execution_count": 1,
   "id": "e5246dac",
   "metadata": {
    "execution": {
     "iopub.execute_input": "2024-01-23T12:10:15.871448Z",
     "iopub.status.busy": "2024-01-23T12:10:15.871004Z",
     "iopub.status.idle": "2024-01-23T12:10:18.715742Z",
     "shell.execute_reply": "2024-01-23T12:10:18.714208Z"
    },
    "papermill": {
     "duration": 2.873384,
     "end_time": "2024-01-23T12:10:18.718676",
     "exception": false,
     "start_time": "2024-01-23T12:10:15.845292",
     "status": "completed"
    },
    "tags": []
   },
   "outputs": [],
   "source": [
    "import pandas as pd\n",
    "import numpy as np\n",
    "import sklearn\n",
    "import sklearn.naive_bayes\n",
    "import sklearn.ensemble as ske\n",
    "import sklearn.neighbors\n",
    "import sklearn.pipeline\n",
    "import sklearn.linear_model\n",
    "import joblib\n",
    "from sklearn import preprocessing\n",
    "from sklearn import tree, linear_model\n",
    "from sklearn.metrics import confusion_matrix\n",
    "from sklearn.metrics import classification_report\n",
    "from sklearn.feature_selection import SelectFromModel\n",
    "import sys\n",
    "import sqlite3\n",
    "import importlib\n",
    "import matplotlib.pyplot as plt\n",
    "import seaborn as sn\n",
    "from sklearn import metrics"
   ]
  },
  {
   "cell_type": "code",
   "execution_count": 2,
   "id": "bf7832ed",
   "metadata": {
    "execution": {
     "iopub.execute_input": "2024-01-23T12:10:18.767266Z",
     "iopub.status.busy": "2024-01-23T12:10:18.766629Z",
     "iopub.status.idle": "2024-01-23T12:10:23.200122Z",
     "shell.execute_reply": "2024-01-23T12:10:23.198998Z"
    },
    "papermill": {
     "duration": 4.460904,
     "end_time": "2024-01-23T12:10:23.202986",
     "exception": false,
     "start_time": "2024-01-23T12:10:18.742082",
     "status": "completed"
    },
    "tags": []
   },
   "outputs": [],
   "source": [
    "pelock = pd.read_pickle('/kaggle/input/packer-balance-pickle/pelock_balance.pickle')"
   ]
  },
  {
   "cell_type": "code",
   "execution_count": 3,
   "id": "665d1c0e",
   "metadata": {
    "execution": {
     "iopub.execute_input": "2024-01-23T12:10:23.252697Z",
     "iopub.status.busy": "2024-01-23T12:10:23.252263Z",
     "iopub.status.idle": "2024-01-23T12:10:24.281868Z",
     "shell.execute_reply": "2024-01-23T12:10:24.280642Z"
    },
    "papermill": {
     "duration": 1.058868,
     "end_time": "2024-01-23T12:10:24.285054",
     "exception": false,
     "start_time": "2024-01-23T12:10:23.226186",
     "status": "completed"
    },
    "tags": []
   },
   "outputs": [],
   "source": [
    "pelock = pelock.drop(['sample_sha1','benign','unpacked_sample_sha1','unpacked_sample_id'], axis=1)\n",
    "pelock = pelock.drop(['benign_vt','malicious_vt'], axis=1)"
   ]
  },
  {
   "cell_type": "code",
   "execution_count": 4,
   "id": "557c4001",
   "metadata": {
    "execution": {
     "iopub.execute_input": "2024-01-23T12:10:24.332502Z",
     "iopub.status.busy": "2024-01-23T12:10:24.332083Z",
     "iopub.status.idle": "2024-01-23T12:10:24.667998Z",
     "shell.execute_reply": "2024-01-23T12:10:24.666788Z"
    },
    "papermill": {
     "duration": 0.363075,
     "end_time": "2024-01-23T12:10:24.671034",
     "exception": false,
     "start_time": "2024-01-23T12:10:24.307959",
     "status": "completed"
    },
    "tags": []
   },
   "outputs": [],
   "source": [
    "string_columns = pelock.select_dtypes(include=['object']).columns\n",
    "pelock = pelock.drop(string_columns, axis=1)"
   ]
  },
  {
   "cell_type": "code",
   "execution_count": 5,
   "id": "54fa7e2c",
   "metadata": {
    "execution": {
     "iopub.execute_input": "2024-01-23T12:10:24.718528Z",
     "iopub.status.busy": "2024-01-23T12:10:24.718104Z",
     "iopub.status.idle": "2024-01-23T12:10:24.767749Z",
     "shell.execute_reply": "2024-01-23T12:10:24.766647Z"
    },
    "papermill": {
     "duration": 0.076195,
     "end_time": "2024-01-23T12:10:24.770308",
     "exception": false,
     "start_time": "2024-01-23T12:10:24.694113",
     "status": "completed"
    },
    "tags": []
   },
   "outputs": [
    {
     "data": {
      "text/html": [
       "<div>\n",
       "<style scoped>\n",
       "    .dataframe tbody tr th:only-of-type {\n",
       "        vertical-align: middle;\n",
       "    }\n",
       "\n",
       "    .dataframe tbody tr th {\n",
       "        vertical-align: top;\n",
       "    }\n",
       "\n",
       "    .dataframe thead th {\n",
       "        text-align: right;\n",
       "    }\n",
       "</style>\n",
       "<table border=\"1\" class=\"dataframe\">\n",
       "  <thead>\n",
       "    <tr style=\"text-align: right;\">\n",
       "      <th></th>\n",
       "      <th>malicious</th>\n",
       "      <th>packed</th>\n",
       "      <th>imp_setupremovefilelogentrya</th>\n",
       "      <th>imp_vardeccmp</th>\n",
       "      <th>imp_setdlgitemint</th>\n",
       "      <th>imp_?append@?$basic_string@du?$char_traits@d@std@@v?$allocator@d@2@@std@@qaeaav12@abv12@ii@z</th>\n",
       "      <th>imp_zwwritefile</th>\n",
       "      <th>imp_glstencilop</th>\n",
       "      <th>imp_comparelinkinforeferents</th>\n",
       "      <th>imp__setmbcp</th>\n",
       "      <th>...</th>\n",
       "      <th>opcode_xor sub mov</th>\n",
       "      <th>opcode_xor sub mov add</th>\n",
       "      <th>opcode_xor test</th>\n",
       "      <th>opcode_xor test je</th>\n",
       "      <th>opcode_xor xor</th>\n",
       "      <th>opcode_xor xor mov</th>\n",
       "      <th>opcode_xor xor pop</th>\n",
       "      <th>opcode_xor xor pop mov</th>\n",
       "      <th>opcode_xor xor xor</th>\n",
       "      <th>opcode_xor xor xor pop</th>\n",
       "    </tr>\n",
       "  </thead>\n",
       "  <tbody>\n",
       "    <tr>\n",
       "      <th>0</th>\n",
       "      <td>True</td>\n",
       "      <td>True</td>\n",
       "      <td>False</td>\n",
       "      <td>False</td>\n",
       "      <td>False</td>\n",
       "      <td>False</td>\n",
       "      <td>False</td>\n",
       "      <td>False</td>\n",
       "      <td>False</td>\n",
       "      <td>False</td>\n",
       "      <td>...</td>\n",
       "      <td>0.0</td>\n",
       "      <td>0.0</td>\n",
       "      <td>0.0</td>\n",
       "      <td>0.0</td>\n",
       "      <td>0.0</td>\n",
       "      <td>0.0</td>\n",
       "      <td>0.0</td>\n",
       "      <td>0.0</td>\n",
       "      <td>0.0</td>\n",
       "      <td>0.0</td>\n",
       "    </tr>\n",
       "    <tr>\n",
       "      <th>3</th>\n",
       "      <td>True</td>\n",
       "      <td>True</td>\n",
       "      <td>False</td>\n",
       "      <td>False</td>\n",
       "      <td>False</td>\n",
       "      <td>False</td>\n",
       "      <td>False</td>\n",
       "      <td>False</td>\n",
       "      <td>False</td>\n",
       "      <td>False</td>\n",
       "      <td>...</td>\n",
       "      <td>0.0</td>\n",
       "      <td>0.0</td>\n",
       "      <td>0.0</td>\n",
       "      <td>0.0</td>\n",
       "      <td>0.0</td>\n",
       "      <td>0.0</td>\n",
       "      <td>0.0</td>\n",
       "      <td>0.0</td>\n",
       "      <td>0.0</td>\n",
       "      <td>0.0</td>\n",
       "    </tr>\n",
       "    <tr>\n",
       "      <th>5</th>\n",
       "      <td>True</td>\n",
       "      <td>True</td>\n",
       "      <td>False</td>\n",
       "      <td>False</td>\n",
       "      <td>False</td>\n",
       "      <td>False</td>\n",
       "      <td>False</td>\n",
       "      <td>False</td>\n",
       "      <td>False</td>\n",
       "      <td>False</td>\n",
       "      <td>...</td>\n",
       "      <td>0.0</td>\n",
       "      <td>0.0</td>\n",
       "      <td>0.0</td>\n",
       "      <td>0.0</td>\n",
       "      <td>0.0</td>\n",
       "      <td>0.0</td>\n",
       "      <td>0.0</td>\n",
       "      <td>0.0</td>\n",
       "      <td>0.0</td>\n",
       "      <td>0.0</td>\n",
       "    </tr>\n",
       "    <tr>\n",
       "      <th>6</th>\n",
       "      <td>False</td>\n",
       "      <td>True</td>\n",
       "      <td>False</td>\n",
       "      <td>False</td>\n",
       "      <td>False</td>\n",
       "      <td>False</td>\n",
       "      <td>False</td>\n",
       "      <td>False</td>\n",
       "      <td>False</td>\n",
       "      <td>False</td>\n",
       "      <td>...</td>\n",
       "      <td>0.0</td>\n",
       "      <td>0.0</td>\n",
       "      <td>0.0</td>\n",
       "      <td>0.0</td>\n",
       "      <td>0.0</td>\n",
       "      <td>0.0</td>\n",
       "      <td>0.0</td>\n",
       "      <td>0.0</td>\n",
       "      <td>0.0</td>\n",
       "      <td>0.0</td>\n",
       "    </tr>\n",
       "    <tr>\n",
       "      <th>8</th>\n",
       "      <td>True</td>\n",
       "      <td>True</td>\n",
       "      <td>False</td>\n",
       "      <td>False</td>\n",
       "      <td>False</td>\n",
       "      <td>False</td>\n",
       "      <td>False</td>\n",
       "      <td>False</td>\n",
       "      <td>False</td>\n",
       "      <td>False</td>\n",
       "      <td>...</td>\n",
       "      <td>0.0</td>\n",
       "      <td>0.0</td>\n",
       "      <td>0.0</td>\n",
       "      <td>0.0</td>\n",
       "      <td>0.0</td>\n",
       "      <td>0.0</td>\n",
       "      <td>0.0</td>\n",
       "      <td>0.0</td>\n",
       "      <td>0.0</td>\n",
       "      <td>0.0</td>\n",
       "    </tr>\n",
       "  </tbody>\n",
       "</table>\n",
       "<p>5 rows × 56526 columns</p>\n",
       "</div>"
      ],
      "text/plain": [
       "   malicious  packed  imp_setupremovefilelogentrya  imp_vardeccmp  \\\n",
       "0       True    True                         False          False   \n",
       "3       True    True                         False          False   \n",
       "5       True    True                         False          False   \n",
       "6      False    True                         False          False   \n",
       "8       True    True                         False          False   \n",
       "\n",
       "   imp_setdlgitemint  \\\n",
       "0              False   \n",
       "3              False   \n",
       "5              False   \n",
       "6              False   \n",
       "8              False   \n",
       "\n",
       "   imp_?append@?$basic_string@du?$char_traits@d@std@@v?$allocator@d@2@@std@@qaeaav12@abv12@ii@z  \\\n",
       "0                                              False                                              \n",
       "3                                              False                                              \n",
       "5                                              False                                              \n",
       "6                                              False                                              \n",
       "8                                              False                                              \n",
       "\n",
       "   imp_zwwritefile  imp_glstencilop  imp_comparelinkinforeferents  \\\n",
       "0            False            False                         False   \n",
       "3            False            False                         False   \n",
       "5            False            False                         False   \n",
       "6            False            False                         False   \n",
       "8            False            False                         False   \n",
       "\n",
       "   imp__setmbcp  ...  opcode_xor sub mov  opcode_xor sub mov add  \\\n",
       "0         False  ...                 0.0                     0.0   \n",
       "3         False  ...                 0.0                     0.0   \n",
       "5         False  ...                 0.0                     0.0   \n",
       "6         False  ...                 0.0                     0.0   \n",
       "8         False  ...                 0.0                     0.0   \n",
       "\n",
       "   opcode_xor test  opcode_xor test je  opcode_xor xor  opcode_xor xor mov  \\\n",
       "0              0.0                 0.0             0.0                 0.0   \n",
       "3              0.0                 0.0             0.0                 0.0   \n",
       "5              0.0                 0.0             0.0                 0.0   \n",
       "6              0.0                 0.0             0.0                 0.0   \n",
       "8              0.0                 0.0             0.0                 0.0   \n",
       "\n",
       "   opcode_xor xor pop  opcode_xor xor pop mov  opcode_xor xor xor  \\\n",
       "0                 0.0                     0.0                 0.0   \n",
       "3                 0.0                     0.0                 0.0   \n",
       "5                 0.0                     0.0                 0.0   \n",
       "6                 0.0                     0.0                 0.0   \n",
       "8                 0.0                     0.0                 0.0   \n",
       "\n",
       "   opcode_xor xor xor pop  \n",
       "0                     0.0  \n",
       "3                     0.0  \n",
       "5                     0.0  \n",
       "6                     0.0  \n",
       "8                     0.0  \n",
       "\n",
       "[5 rows x 56526 columns]"
      ]
     },
     "execution_count": 5,
     "metadata": {},
     "output_type": "execute_result"
    }
   ],
   "source": [
    "pelock.head()"
   ]
  },
  {
   "cell_type": "code",
   "execution_count": 6,
   "id": "760aef75",
   "metadata": {
    "execution": {
     "iopub.execute_input": "2024-01-23T12:10:24.819676Z",
     "iopub.status.busy": "2024-01-23T12:10:24.819241Z",
     "iopub.status.idle": "2024-01-23T12:10:25.709937Z",
     "shell.execute_reply": "2024-01-23T12:10:25.708628Z"
    },
    "papermill": {
     "duration": 0.918684,
     "end_time": "2024-01-23T12:10:25.712847",
     "exception": false,
     "start_time": "2024-01-23T12:10:24.794163",
     "status": "completed"
    },
    "tags": []
   },
   "outputs": [],
   "source": [
    "df_7000 = pelock.sample(n=7000, random_state=102)\n",
    "df_3000 = pelock.drop(df_7000.index)"
   ]
  },
  {
   "cell_type": "code",
   "execution_count": 7,
   "id": "46224e32",
   "metadata": {
    "execution": {
     "iopub.execute_input": "2024-01-23T12:10:25.762372Z",
     "iopub.status.busy": "2024-01-23T12:10:25.761966Z",
     "iopub.status.idle": "2024-01-23T12:10:26.190387Z",
     "shell.execute_reply": "2024-01-23T12:10:26.189320Z"
    },
    "papermill": {
     "duration": 0.456343,
     "end_time": "2024-01-23T12:10:26.193243",
     "exception": false,
     "start_time": "2024-01-23T12:10:25.736900",
     "status": "completed"
    },
    "tags": []
   },
   "outputs": [],
   "source": [
    "data = df_7000.sample(n=3500, random_state=102)"
   ]
  },
  {
   "cell_type": "code",
   "execution_count": 8,
   "id": "49855a55",
   "metadata": {
    "execution": {
     "iopub.execute_input": "2024-01-23T12:10:26.243510Z",
     "iopub.status.busy": "2024-01-23T12:10:26.243078Z",
     "iopub.status.idle": "2024-01-23T12:10:26.618998Z",
     "shell.execute_reply": "2024-01-23T12:10:26.617727Z"
    },
    "papermill": {
     "duration": 0.405002,
     "end_time": "2024-01-23T12:10:26.621588",
     "exception": false,
     "start_time": "2024-01-23T12:10:26.216586",
     "status": "completed"
    },
    "tags": []
   },
   "outputs": [
    {
     "name": "stdout",
     "output_type": "stream",
     "text": [
      "Packed Malware: 1960 samples\n",
      "Packed Benign: 1540 samples\n",
      "Total TRAIN set: 3500 samples\n"
     ]
    }
   ],
   "source": [
    "#Kiểm tra số lượng mẫu\n",
    "PM = data[(data['malicious'] == True) & (data['packed'] == True)].shape[0]\n",
    "PB = data[(data['malicious'] == False) & (data['packed'] == True)].shape[0]\n",
    "print('Packed Malware: %i samples' % PM)\n",
    "print('Packed Benign: %i samples' % PB)\n",
    "print('Total TRAIN set: %i samples'% (PM+PB))"
   ]
  },
  {
   "cell_type": "code",
   "execution_count": 9,
   "id": "23e9046b",
   "metadata": {
    "execution": {
     "iopub.execute_input": "2024-01-23T12:10:26.733977Z",
     "iopub.status.busy": "2024-01-23T12:10:26.733585Z",
     "iopub.status.idle": "2024-01-23T12:10:27.230117Z",
     "shell.execute_reply": "2024-01-23T12:10:27.229024Z"
    },
    "papermill": {
     "duration": 0.585465,
     "end_time": "2024-01-23T12:10:27.232955",
     "exception": false,
     "start_time": "2024-01-23T12:10:26.647490",
     "status": "completed"
    },
    "tags": []
   },
   "outputs": [],
   "source": [
    "#Chia tỉ lệ 50 - 50\n",
    "data_PM = data[(data['malicious'] == True) & (data['packed'] == True)].sample(n=(PM-PB), random_state=102)\n",
    "data = data.drop(data_PM.index)"
   ]
  },
  {
   "cell_type": "code",
   "execution_count": 10,
   "id": "057ff3b7",
   "metadata": {
    "execution": {
     "iopub.execute_input": "2024-01-23T12:10:27.282115Z",
     "iopub.status.busy": "2024-01-23T12:10:27.281725Z",
     "iopub.status.idle": "2024-01-23T12:10:27.542352Z",
     "shell.execute_reply": "2024-01-23T12:10:27.540904Z"
    },
    "papermill": {
     "duration": 0.288316,
     "end_time": "2024-01-23T12:10:27.544918",
     "exception": false,
     "start_time": "2024-01-23T12:10:27.256602",
     "status": "completed"
    },
    "tags": []
   },
   "outputs": [
    {
     "name": "stdout",
     "output_type": "stream",
     "text": [
      "Packed Malware: 1540 samples\n",
      "Packed Benign: 1540 samples\n",
      "Total TRAIN set: 3080 samples\n"
     ]
    }
   ],
   "source": [
    "#Số lượng tập train\n",
    "PM = data[(data['malicious'] == True) & (data['packed'] == True)].shape[0]\n",
    "PB = data[(data['malicious'] == False) & (data['packed'] == True)].shape[0]\n",
    "print('Packed Malware: %i samples' % PM)\n",
    "print('Packed Benign: %i samples' % PB)\n",
    "print('Total TRAIN set: %i samples'% (PM+PB))"
   ]
  },
  {
   "cell_type": "code",
   "execution_count": 11,
   "id": "684263e6",
   "metadata": {
    "execution": {
     "iopub.execute_input": "2024-01-23T12:10:27.595113Z",
     "iopub.status.busy": "2024-01-23T12:10:27.594692Z",
     "iopub.status.idle": "2024-01-23T12:10:27.701942Z",
     "shell.execute_reply": "2024-01-23T12:10:27.701012Z"
    },
    "papermill": {
     "duration": 0.13624,
     "end_time": "2024-01-23T12:10:27.704898",
     "exception": false,
     "start_time": "2024-01-23T12:10:27.568658",
     "status": "completed"
    },
    "tags": []
   },
   "outputs": [],
   "source": [
    "#Xử lý tập train\n",
    "y = data['malicious'].values\n",
    "data = data.drop(['malicious','packed'], axis=1)"
   ]
  },
  {
   "cell_type": "code",
   "execution_count": 12,
   "id": "8d48a531",
   "metadata": {
    "execution": {
     "iopub.execute_input": "2024-01-23T12:10:27.754824Z",
     "iopub.status.busy": "2024-01-23T12:10:27.753983Z",
     "iopub.status.idle": "2024-01-23T12:10:28.598604Z",
     "shell.execute_reply": "2024-01-23T12:10:28.597351Z"
    },
    "papermill": {
     "duration": 0.872915,
     "end_time": "2024-01-23T12:10:28.601623",
     "exception": false,
     "start_time": "2024-01-23T12:10:27.728708",
     "status": "completed"
    },
    "tags": []
   },
   "outputs": [
    {
     "name": "stdout",
     "output_type": "stream",
     "text": [
      "Packed Malware: 1360 samples\n",
      "Packed Benign: 1360 samples\n",
      "Total TEST set: 2720 samples\n"
     ]
    }
   ],
   "source": [
    "PM = df_3000[(df_3000['malicious'] == True) & (df_3000['packed'] == True)].shape[0]\n",
    "PB = df_3000[(df_3000['malicious'] == False) & (df_3000['packed'] == True)].shape[0]\n",
    "\n",
    "df_3000_PM = df_3000[(df_3000['malicious'] == True) & (df_3000['packed'] == True)].sample(n=(PM-PB), random_state=102)\n",
    "df_3000 = df_3000.drop(df_3000_PM.index)\n",
    "\n",
    "PM = df_3000[(df_3000['malicious'] == True) & (df_3000['packed'] == True)].shape[0]\n",
    "PB = df_3000[(df_3000['malicious'] == False) & (df_3000['packed'] == True)].shape[0]\n",
    "\n",
    "print('Packed Malware: %i samples' % PM)\n",
    "print('Packed Benign: %i samples' % PB)\n",
    "print('Total TEST set: %i samples'% (PM+PB))"
   ]
  },
  {
   "cell_type": "code",
   "execution_count": 13,
   "id": "1857cb26",
   "metadata": {
    "execution": {
     "iopub.execute_input": "2024-01-23T12:10:28.651510Z",
     "iopub.status.busy": "2024-01-23T12:10:28.650849Z",
     "iopub.status.idle": "2024-01-23T12:10:29.186545Z",
     "shell.execute_reply": "2024-01-23T12:10:29.185096Z"
    },
    "papermill": {
     "duration": 0.56408,
     "end_time": "2024-01-23T12:10:29.189525",
     "exception": false,
     "start_time": "2024-01-23T12:10:28.625445",
     "status": "completed"
    },
    "tags": []
   },
   "outputs": [],
   "source": [
    "# model = SelectFromModel(fsel, prefit=True)\n",
    "\n",
    "X_train = data\n",
    "X_test = df_3000.drop(['malicious','packed'], axis=1)\n",
    "\n",
    "data = data.loc[:, (data != 0).any(axis=0)]\n",
    "x_train = data\n",
    "X_test = df_3000.drop(['malicious','packed'], axis=1)\n",
    "y_train = y\n",
    "y_test = df_3000['malicious'].values"
   ]
  },
  {
   "cell_type": "code",
   "execution_count": 14,
   "id": "b6b02aa6",
   "metadata": {
    "execution": {
     "iopub.execute_input": "2024-01-23T12:10:29.240281Z",
     "iopub.status.busy": "2024-01-23T12:10:29.239839Z",
     "iopub.status.idle": "2024-01-23T12:10:35.571725Z",
     "shell.execute_reply": "2024-01-23T12:10:35.570449Z"
    },
    "papermill": {
     "duration": 6.360739,
     "end_time": "2024-01-23T12:10:35.574268",
     "exception": false,
     "start_time": "2024-01-23T12:10:29.213529",
     "status": "completed"
    },
    "tags": []
   },
   "outputs": [
    {
     "name": "stdout",
     "output_type": "stream",
     "text": [
      "The accuracy of the Random Forests model is :\t 0.9356617647058824\n"
     ]
    }
   ],
   "source": [
    "# Random Forest\n",
    "from sklearn.ensemble import RandomForestClassifier\n",
    "from sklearn import metrics\n",
    "\n",
    "random_forest = RandomForestClassifier(n_estimators=100, random_state=17)\n",
    "random_forest.fit(X_train, y_train)\n",
    "random_forest_preds = random_forest.predict(X_test)\n",
    "print('The accuracy of the Random Forests model is :\\t',metrics.accuracy_score(random_forest_preds,y_test))"
   ]
  },
  {
   "cell_type": "code",
   "execution_count": 15,
   "id": "7714f896",
   "metadata": {
    "execution": {
     "iopub.execute_input": "2024-01-23T12:10:35.626318Z",
     "iopub.status.busy": "2024-01-23T12:10:35.625528Z",
     "iopub.status.idle": "2024-01-23T12:10:35.646954Z",
     "shell.execute_reply": "2024-01-23T12:10:35.645402Z"
    },
    "papermill": {
     "duration": 0.05039,
     "end_time": "2024-01-23T12:10:35.649454",
     "exception": false,
     "start_time": "2024-01-23T12:10:35.599064",
     "status": "completed"
    },
    "tags": []
   },
   "outputs": [
    {
     "name": "stdout",
     "output_type": "stream",
     "text": [
      "True positive : 1308 \n",
      "True negative : 1237 \n",
      "False positive : 123 \n",
      "False negative : 52 \n",
      "Classification Report:\n",
      "               precision    recall  f1-score   support\n",
      "\n",
      "       False       0.96      0.91      0.93      1360\n",
      "        True       0.91      0.96      0.94      1360\n",
      "\n",
      "    accuracy                           0.94      2720\n",
      "   macro avg       0.94      0.94      0.94      2720\n",
      "weighted avg       0.94      0.94      0.94      2720\n",
      "\n"
     ]
    }
   ],
   "source": [
    "mt = confusion_matrix(y_test, random_forest_preds)\n",
    "report = classification_report(y_test, random_forest_preds)\n",
    "print(\"True positive : %i \" % (mt[1][1]))\n",
    "print(\"True negative : %i \" % (mt[0][0]))\n",
    "print(\"False positive : %i \" % (mt[0][1]))\n",
    "print(\"False negative : %i \" % (mt[1][0]))\n",
    "print(\"Classification Report:\\n\", report)"
   ]
  },
  {
   "cell_type": "code",
   "execution_count": 16,
   "id": "2fd1cf32",
   "metadata": {
    "execution": {
     "iopub.execute_input": "2024-01-23T12:10:35.700520Z",
     "iopub.status.busy": "2024-01-23T12:10:35.699524Z",
     "iopub.status.idle": "2024-01-23T12:10:35.765215Z",
     "shell.execute_reply": "2024-01-23T12:10:35.764137Z"
    },
    "papermill": {
     "duration": 0.09357,
     "end_time": "2024-01-23T12:10:35.767795",
     "exception": false,
     "start_time": "2024-01-23T12:10:35.674225",
     "status": "completed"
    },
    "tags": []
   },
   "outputs": [
    {
     "data": {
      "text/plain": [
       "ngram_b'l\\x00 \\x00r\\x00'    0.015154\n",
       "ngram_b'\\x00r\\x00p\\x00o'    0.012363\n",
       "ngram_b'\\x00o\\x00n\\x00.'    0.009515\n",
       "ngram_b' \\x00U\\x00p\\x00'    0.009165\n",
       "ngram_b'C\\x00o\\x00r\\x00'    0.008049\n",
       "                              ...   \n",
       "sharedu.dll                 0.000000\n",
       "geometryu.dll               0.000000\n",
       "imagelibu.dll               0.000000\n",
       "imp_hb_fun_aadd             0.000000\n",
       "string_b'6!7(7E7l7'         0.000000\n",
       "Length: 56524, dtype: float64"
      ]
     },
     "execution_count": 16,
     "metadata": {},
     "output_type": "execute_result"
    }
   ],
   "source": [
    "feature_scores_rf = pd.Series(random_forest.feature_importances_, index=X_train.columns).sort_values(ascending=False)\n",
    "\n",
    "feature_scores_rf"
   ]
  },
  {
   "cell_type": "code",
   "execution_count": 17,
   "id": "7bf57393",
   "metadata": {
    "execution": {
     "iopub.execute_input": "2024-01-23T12:10:35.817697Z",
     "iopub.status.busy": "2024-01-23T12:10:35.817265Z",
     "iopub.status.idle": "2024-01-23T12:10:35.872739Z",
     "shell.execute_reply": "2024-01-23T12:10:35.871439Z"
    },
    "papermill": {
     "duration": 0.08369,
     "end_time": "2024-01-23T12:10:35.875482",
     "exception": false,
     "start_time": "2024-01-23T12:10:35.791792",
     "status": "completed"
    },
    "tags": []
   },
   "outputs": [],
   "source": [
    "top50 = pd.Series(random_forest.feature_importances_, index=X_train.columns).sort_values(ascending=False).head(50)"
   ]
  },
  {
   "cell_type": "code",
   "execution_count": 18,
   "id": "d51cc58f",
   "metadata": {
    "execution": {
     "iopub.execute_input": "2024-01-23T12:10:35.925624Z",
     "iopub.status.busy": "2024-01-23T12:10:35.925192Z",
     "iopub.status.idle": "2024-01-23T12:10:35.930725Z",
     "shell.execute_reply": "2024-01-23T12:10:35.929606Z"
    },
    "papermill": {
     "duration": 0.033352,
     "end_time": "2024-01-23T12:10:35.933069",
     "exception": false,
     "start_time": "2024-01-23T12:10:35.899717",
     "status": "completed"
    },
    "tags": []
   },
   "outputs": [],
   "source": [
    "# Tạo DataFrame từ feature_scores_rf\n",
    "df_features = pd.DataFrame(top50, columns=['Score'])"
   ]
  },
  {
   "cell_type": "code",
   "execution_count": 19,
   "id": "a5f9faa5",
   "metadata": {
    "execution": {
     "iopub.execute_input": "2024-01-23T12:10:35.983235Z",
     "iopub.status.busy": "2024-01-23T12:10:35.982559Z",
     "iopub.status.idle": "2024-01-23T12:10:35.997398Z",
     "shell.execute_reply": "2024-01-23T12:10:35.996102Z"
    },
    "papermill": {
     "duration": 0.042624,
     "end_time": "2024-01-23T12:10:35.999656",
     "exception": false,
     "start_time": "2024-01-23T12:10:35.957032",
     "status": "completed"
    },
    "tags": []
   },
   "outputs": [
    {
     "name": "stdout",
     "output_type": "stream",
     "text": [
      "'ngram': 49\n",
      "'opcode ngram': 0\n",
      "'generic': 0\n",
      "'strings': 0\n",
      "'rich header': 0\n",
      "'api import': 0\n",
      "'dll': 1\n",
      "'pe section': 0\n",
      "'pe header': 0\n"
     ]
    }
   ],
   "source": [
    "count_ngram = df_features[df_features.index.str.startswith('ngram_')].shape[0]\n",
    "count_opcode = df_features[df_features.index.str.startswith('opcode_')].shape[0]\n",
    "count_generic = df_features[df_features.index.str.startswith('generic_')].shape[0]\n",
    "count_string = df_features[df_features.index.str.startswith('string_')].shape[0]\n",
    "count_rich = df_features[df_features.index.str.startswith('rich_')].shape[0]\n",
    "# count_api = df_features[df_features.index.str.startswith('imp_') or 'api_import_nb' == c].shape[0]\n",
    "# count_dll = df_features[df_features.index.str.startswith('.dll') or 'dll_import_nb' == c].shape[0]\n",
    "count_api = df_features[df_features.index.str.startswith('imp_') | (df_features.index == 'api_import_nb')].shape[0]\n",
    "count_dll = df_features[df_features.index.str.endswith('.dll') | (df_features.index == 'dll_import_nb')].shape[0]\n",
    "count_section = df_features[df_features.index.str.startswith('pesection')].shape[0]\n",
    "count_header = df_features[df_features.index.str.startswith('header_')].shape[0]\n",
    "\n",
    "print(f\"'ngram': {count_ngram}\")\n",
    "print(f\"'opcode ngram': {count_opcode}\")\n",
    "print(f\"'generic': {count_generic}\")\n",
    "print(f\"'strings': {count_string}\")\n",
    "print(f\"'rich header': {count_rich}\")\n",
    "print(f\"'api import': {count_api}\")\n",
    "print(f\"'dll': {count_dll}\")\n",
    "print(f\"'pe section': {count_section}\")\n",
    "print(f\"'pe header': {count_header}\")"
   ]
  },
  {
   "cell_type": "code",
   "execution_count": 20,
   "id": "b9fbc708",
   "metadata": {
    "execution": {
     "iopub.execute_input": "2024-01-23T12:10:36.050613Z",
     "iopub.status.busy": "2024-01-23T12:10:36.049862Z",
     "iopub.status.idle": "2024-01-23T12:10:36.062904Z",
     "shell.execute_reply": "2024-01-23T12:10:36.061840Z"
    },
    "papermill": {
     "duration": 0.041616,
     "end_time": "2024-01-23T12:10:36.065443",
     "exception": false,
     "start_time": "2024-01-23T12:10:36.023827",
     "status": "completed"
    },
    "tags": []
   },
   "outputs": [],
   "source": [
    "cols = list(pelock.columns)"
   ]
  },
  {
   "cell_type": "markdown",
   "id": "9bf798ca",
   "metadata": {
    "papermill": {
     "duration": 0.024033,
     "end_time": "2024-01-23T12:10:36.114145",
     "exception": false,
     "start_time": "2024-01-23T12:10:36.090112",
     "status": "completed"
    },
    "tags": []
   },
   "source": [
    "# **ngram features**"
   ]
  },
  {
   "cell_type": "code",
   "execution_count": 21,
   "id": "958dc16d",
   "metadata": {
    "execution": {
     "iopub.execute_input": "2024-01-23T12:10:36.164470Z",
     "iopub.status.busy": "2024-01-23T12:10:36.164010Z",
     "iopub.status.idle": "2024-01-23T12:10:37.888850Z",
     "shell.execute_reply": "2024-01-23T12:10:37.887898Z"
    },
    "papermill": {
     "duration": 1.753302,
     "end_time": "2024-01-23T12:10:37.891563",
     "exception": false,
     "start_time": "2024-01-23T12:10:36.138261",
     "status": "completed"
    },
    "tags": []
   },
   "outputs": [],
   "source": [
    "pelock = pd.read_pickle('/kaggle/input/packer-balance-pickle/pelock_balance.pickle')\n",
    "pelock = pelock.drop(['sample_sha1','benign','unpacked_sample_sha1','unpacked_sample_id'], axis=1)\n",
    "pelock = pelock.drop(['benign_vt','malicious_vt'], axis=1)\n",
    "string_columns = pelock.select_dtypes(include=['object']).columns\n",
    "pelock = pelock.drop(string_columns, axis=1)"
   ]
  },
  {
   "cell_type": "code",
   "execution_count": 22,
   "id": "53e665ad",
   "metadata": {
    "execution": {
     "iopub.execute_input": "2024-01-23T12:10:37.942398Z",
     "iopub.status.busy": "2024-01-23T12:10:37.941973Z",
     "iopub.status.idle": "2024-01-23T12:10:37.947872Z",
     "shell.execute_reply": "2024-01-23T12:10:37.946641Z"
    },
    "papermill": {
     "duration": 0.033995,
     "end_time": "2024-01-23T12:10:37.950274",
     "exception": false,
     "start_time": "2024-01-23T12:10:37.916279",
     "status": "completed"
    },
    "tags": []
   },
   "outputs": [],
   "source": [
    "def remove_cols(df, ll):\n",
    "    print(\"removing {} features\".format(len(ll)))\n",
    "    df.drop(columns=ll, axis=1, inplace=True)\n",
    "    return df"
   ]
  },
  {
   "cell_type": "code",
   "execution_count": 23,
   "id": "a24ec160",
   "metadata": {
    "execution": {
     "iopub.execute_input": "2024-01-23T12:10:38.000614Z",
     "iopub.status.busy": "2024-01-23T12:10:38.000201Z",
     "iopub.status.idle": "2024-01-23T12:10:39.369836Z",
     "shell.execute_reply": "2024-01-23T12:10:39.368310Z"
    },
    "papermill": {
     "duration": 1.397609,
     "end_time": "2024-01-23T12:10:39.372285",
     "exception": false,
     "start_time": "2024-01-23T12:10:37.974676",
     "status": "completed"
    },
    "tags": []
   },
   "outputs": [
    {
     "name": "stdout",
     "output_type": "stream",
     "text": [
      "removing 2500 features\n",
      "removing 2 features\n",
      "removing 16900 features\n",
      "removing 66 features\n",
      "removing 19169 features\n",
      "removing 4306 features\n",
      "removing 550 features\n",
      "removing 29 features\n"
     ]
    }
   ],
   "source": [
    "# ngram = remove_cols(df, [c for c in cols if c.startswith('ngram_')])\n",
    "ngram = remove_cols(pelock, [c for c in cols if c.startswith('opcode_')])\n",
    "ngram = remove_cols(pelock, [c for c in cols if c.startswith('generic_')])\n",
    "ngram = remove_cols(pelock, [c for c in cols if c.startswith('string_')])\n",
    "ngram = remove_cols(pelock, [c for c in cols if c.startswith('rich_')])\n",
    "ngram = remove_cols(pelock, [c for c in cols if c.startswith('imp_') or 'api_import_nb' == c])\n",
    "ngram = remove_cols(pelock, [c for c in cols if c.endswith('.dll') or 'dll_import_nb' == c])\n",
    "ngram = remove_cols(pelock, [c for c in cols if c.startswith('pesection')])\n",
    "ngram = remove_cols(pelock, [c for c in cols if c.startswith('header_')])"
   ]
  },
  {
   "cell_type": "code",
   "execution_count": 24,
   "id": "5c270861",
   "metadata": {
    "execution": {
     "iopub.execute_input": "2024-01-23T12:10:39.423245Z",
     "iopub.status.busy": "2024-01-23T12:10:39.422854Z",
     "iopub.status.idle": "2024-01-23T12:10:39.685327Z",
     "shell.execute_reply": "2024-01-23T12:10:39.684186Z"
    },
    "papermill": {
     "duration": 0.291199,
     "end_time": "2024-01-23T12:10:39.688135",
     "exception": false,
     "start_time": "2024-01-23T12:10:39.396936",
     "status": "completed"
    },
    "tags": []
   },
   "outputs": [],
   "source": [
    "df_7000_ngram = ngram.sample(n=7000, random_state=102)\n",
    "df_3000_ngram = ngram.drop(df_7000.index)\n",
    "data_ngram = df_7000_ngram.sample(n=3500, random_state=102)"
   ]
  },
  {
   "cell_type": "code",
   "execution_count": 25,
   "id": "f0ff7cad",
   "metadata": {
    "execution": {
     "iopub.execute_input": "2024-01-23T12:10:39.739534Z",
     "iopub.status.busy": "2024-01-23T12:10:39.739127Z",
     "iopub.status.idle": "2024-01-23T12:10:40.115950Z",
     "shell.execute_reply": "2024-01-23T12:10:40.114430Z"
    },
    "papermill": {
     "duration": 0.406086,
     "end_time": "2024-01-23T12:10:40.118900",
     "exception": false,
     "start_time": "2024-01-23T12:10:39.712814",
     "status": "completed"
    },
    "tags": []
   },
   "outputs": [
    {
     "name": "stdout",
     "output_type": "stream",
     "text": [
      "Packed Malware: 1960 samples\n",
      "Packed Benign: 1540 samples\n",
      "Total TRAIN set: 3500 samples\n",
      "Packed Malware: 1540 samples\n",
      "Packed Benign: 1540 samples\n",
      "Total TRAIN set: 3080 samples\n",
      "Packed Malware: 1360 samples\n",
      "Packed Benign: 1360 samples\n",
      "Total TEST set: 2720 samples\n"
     ]
    }
   ],
   "source": [
    "#Kiểm tra số lượng mẫu\n",
    "PM = data_ngram[(data_ngram['malicious'] == True) & (data_ngram['packed'] == True)].shape[0]\n",
    "PB = data_ngram[(data_ngram['malicious'] == False) & (data_ngram['packed'] == True)].shape[0]\n",
    "print('Packed Malware: %i samples' % PM)\n",
    "print('Packed Benign: %i samples' % PB)\n",
    "print('Total TRAIN set: %i samples'% (PM+PB))\n",
    "\n",
    "#Chia tỉ lệ 50 - 50\n",
    "data_PM_ngram = data_ngram[(data_ngram['malicious'] == True) & (data_ngram['packed'] == True)].sample(n=(PM-PB), random_state=102)\n",
    "data_ngram = data_ngram.drop(data_PM_ngram.index)\n",
    "\n",
    "#Số lượng tập train\n",
    "PM = data_ngram[(data_ngram['malicious'] == True) & (data_ngram['packed'] == True)].shape[0]\n",
    "PB = data_ngram[(data_ngram['malicious'] == False) & (data_ngram['packed'] == True)].shape[0]\n",
    "print('Packed Malware: %i samples' % PM)\n",
    "print('Packed Benign: %i samples' % PB)\n",
    "print('Total TRAIN set: %i samples'% (PM+PB))\n",
    "\n",
    "#Xử lý tập train\n",
    "y = data_ngram['malicious'].values\n",
    "data_ngram = data_ngram.drop(['malicious','packed'], axis=1)\n",
    "\n",
    "PM = df_3000_ngram[(df_3000_ngram['malicious'] == True) & (df_3000_ngram['packed'] == True)].shape[0]\n",
    "PB = df_3000_ngram[(df_3000_ngram['malicious'] == False) & (df_3000_ngram['packed'] == True)].shape[0]\n",
    "\n",
    "df_3000_PM_ngram = df_3000_ngram[(df_3000_ngram['malicious'] == True) & (df_3000_ngram['packed'] == True)].sample(n=(PM-PB), random_state=102)\n",
    "df_3000_ngram = df_3000_ngram.drop(df_3000_PM.index)\n",
    "\n",
    "PM = df_3000_ngram[(df_3000_ngram['malicious'] == True) & (df_3000_ngram['packed'] == True)].shape[0]\n",
    "PB = df_3000_ngram[(df_3000_ngram['malicious'] == False) & (df_3000_ngram['packed'] == True)].shape[0]\n",
    "\n",
    "print('Packed Malware: %i samples' % PM)\n",
    "print('Packed Benign: %i samples' % PB)\n",
    "print('Total TEST set: %i samples'% (PM+PB))"
   ]
  },
  {
   "cell_type": "code",
   "execution_count": 26,
   "id": "54e97645",
   "metadata": {
    "execution": {
     "iopub.execute_input": "2024-01-23T12:10:40.171338Z",
     "iopub.status.busy": "2024-01-23T12:10:40.170954Z",
     "iopub.status.idle": "2024-01-23T12:10:40.263160Z",
     "shell.execute_reply": "2024-01-23T12:10:40.262126Z"
    },
    "papermill": {
     "duration": 0.121889,
     "end_time": "2024-01-23T12:10:40.266020",
     "exception": false,
     "start_time": "2024-01-23T12:10:40.144131",
     "status": "completed"
    },
    "tags": []
   },
   "outputs": [],
   "source": [
    "# model = SelectFromModel(fsel, prefit=True)\n",
    "\n",
    "X_train_ngram = data_ngram\n",
    "X_test_ngram = df_3000_ngram.drop(['malicious','packed'], axis=1)\n",
    "\n",
    "data_ngram = data_ngram.loc[:, (data_ngram != 0).any(axis=0)]\n",
    "x_train_ngram = data_ngram\n",
    "X_test_ngram = df_3000_ngram.drop(['malicious','packed'], axis=1)\n",
    "y_train_ngram = y\n",
    "y_test_ngram = df_3000_ngram['malicious'].values"
   ]
  },
  {
   "cell_type": "code",
   "execution_count": 27,
   "id": "5be69f8a",
   "metadata": {
    "execution": {
     "iopub.execute_input": "2024-01-23T12:10:40.317941Z",
     "iopub.status.busy": "2024-01-23T12:10:40.317550Z",
     "iopub.status.idle": "2024-01-23T12:10:44.373624Z",
     "shell.execute_reply": "2024-01-23T12:10:44.372138Z"
    },
    "papermill": {
     "duration": 4.085338,
     "end_time": "2024-01-23T12:10:44.376267",
     "exception": false,
     "start_time": "2024-01-23T12:10:40.290929",
     "status": "completed"
    },
    "tags": []
   },
   "outputs": [
    {
     "name": "stdout",
     "output_type": "stream",
     "text": [
      "The accuracy of the Random Forests model is :\t 0.9481617647058823\n"
     ]
    }
   ],
   "source": [
    "# Random Forest\n",
    "from sklearn.ensemble import RandomForestClassifier\n",
    "from sklearn import metrics\n",
    "\n",
    "random_forest = RandomForestClassifier(n_estimators=100, random_state=17)\n",
    "random_forest.fit(X_train_ngram, y_train_ngram)\n",
    "random_forest_preds = random_forest.predict(X_test_ngram)\n",
    "print('The accuracy of the Random Forests model is :\\t',metrics.accuracy_score(random_forest_preds,y_test_ngram))"
   ]
  },
  {
   "cell_type": "markdown",
   "id": "4329bef9",
   "metadata": {
    "papermill": {
     "duration": 0.02466,
     "end_time": "2024-01-23T12:10:44.425859",
     "exception": false,
     "start_time": "2024-01-23T12:10:44.401199",
     "status": "completed"
    },
    "tags": []
   },
   "source": [
    "# **opcode features**"
   ]
  },
  {
   "cell_type": "code",
   "execution_count": 28,
   "id": "d9ae1f1b",
   "metadata": {
    "execution": {
     "iopub.execute_input": "2024-01-23T12:10:44.477486Z",
     "iopub.status.busy": "2024-01-23T12:10:44.477055Z",
     "iopub.status.idle": "2024-01-23T12:10:46.125338Z",
     "shell.execute_reply": "2024-01-23T12:10:46.124498Z"
    },
    "papermill": {
     "duration": 1.677707,
     "end_time": "2024-01-23T12:10:46.128259",
     "exception": false,
     "start_time": "2024-01-23T12:10:44.450552",
     "status": "completed"
    },
    "tags": []
   },
   "outputs": [],
   "source": [
    "pelock = pd.read_pickle('/kaggle/input/packer-balance-pickle/pelock_balance.pickle')\n",
    "pelock = pelock.drop(['sample_sha1','benign','unpacked_sample_sha1','unpacked_sample_id'], axis=1)\n",
    "pelock = pelock.drop(['benign_vt','malicious_vt'], axis=1)\n",
    "string_columns = pelock.select_dtypes(include=['object']).columns\n",
    "pelock = pelock.drop(string_columns, axis=1)"
   ]
  },
  {
   "cell_type": "code",
   "execution_count": 29,
   "id": "8f0471cb",
   "metadata": {
    "execution": {
     "iopub.execute_input": "2024-01-23T12:10:46.180835Z",
     "iopub.status.busy": "2024-01-23T12:10:46.180423Z",
     "iopub.status.idle": "2024-01-23T12:10:47.703756Z",
     "shell.execute_reply": "2024-01-23T12:10:47.701189Z"
    },
    "papermill": {
     "duration": 1.552684,
     "end_time": "2024-01-23T12:10:47.706213",
     "exception": false,
     "start_time": "2024-01-23T12:10:46.153529",
     "status": "completed"
    },
    "tags": []
   },
   "outputs": [
    {
     "name": "stdout",
     "output_type": "stream",
     "text": [
      "removing 13000 features\n",
      "removing 2 features\n",
      "removing 16900 features\n",
      "removing 66 features\n",
      "removing 19169 features\n",
      "removing 4306 features\n",
      "removing 550 features\n",
      "removing 29 features\n"
     ]
    }
   ],
   "source": [
    "opcode = remove_cols(pelock, [c for c in cols if c.startswith('ngram_')])\n",
    "# opcode = remove_cols(pelock, [c for c in cols if c.startswith('opcode_')])\n",
    "opcode = remove_cols(pelock, [c for c in cols if c.startswith('generic_')])\n",
    "opcode = remove_cols(pelock, [c for c in cols if c.startswith('string_')])\n",
    "opcode = remove_cols(pelock, [c for c in cols if c.startswith('rich_')])\n",
    "opcode = remove_cols(pelock, [c for c in cols if c.startswith('imp_') or 'api_import_nb' == c])\n",
    "opcode = remove_cols(pelock, [c for c in cols if c.endswith('.dll') or 'dll_import_nb' == c])\n",
    "opcode = remove_cols(pelock, [c for c in cols if c.startswith('pesection')])\n",
    "opcode = remove_cols(pelock, [c for c in cols if c.startswith('header_')])"
   ]
  },
  {
   "cell_type": "code",
   "execution_count": 30,
   "id": "3dcbc90b",
   "metadata": {
    "execution": {
     "iopub.execute_input": "2024-01-23T12:10:47.759727Z",
     "iopub.status.busy": "2024-01-23T12:10:47.759303Z",
     "iopub.status.idle": "2024-01-23T12:10:47.917862Z",
     "shell.execute_reply": "2024-01-23T12:10:47.916712Z"
    },
    "papermill": {
     "duration": 0.188327,
     "end_time": "2024-01-23T12:10:47.920634",
     "exception": false,
     "start_time": "2024-01-23T12:10:47.732307",
     "status": "completed"
    },
    "tags": []
   },
   "outputs": [],
   "source": [
    "df_7000_opcode = opcode.sample(n=7000, random_state=102)\n",
    "df_3000_opcode = opcode.drop(df_7000.index)\n",
    "data_opcode = df_7000_opcode.sample(n=3500, random_state=102)"
   ]
  },
  {
   "cell_type": "code",
   "execution_count": 31,
   "id": "9db89b1a",
   "metadata": {
    "execution": {
     "iopub.execute_input": "2024-01-23T12:10:47.973953Z",
     "iopub.status.busy": "2024-01-23T12:10:47.973464Z",
     "iopub.status.idle": "2024-01-23T12:10:48.171055Z",
     "shell.execute_reply": "2024-01-23T12:10:48.170292Z"
    },
    "papermill": {
     "duration": 0.22797,
     "end_time": "2024-01-23T12:10:48.174060",
     "exception": false,
     "start_time": "2024-01-23T12:10:47.946090",
     "status": "completed"
    },
    "tags": []
   },
   "outputs": [
    {
     "name": "stdout",
     "output_type": "stream",
     "text": [
      "Packed Malware: 1960 samples\n",
      "Packed Benign: 1540 samples\n",
      "Total TRAIN set: 3500 samples\n",
      "Packed Malware: 1540 samples\n",
      "Packed Benign: 1540 samples\n",
      "Total TRAIN set: 3080 samples\n",
      "Packed Malware: 1360 samples\n",
      "Packed Benign: 1360 samples\n",
      "Total TEST set: 2720 samples\n"
     ]
    }
   ],
   "source": [
    "#Kiểm tra số lượng mẫu\n",
    "PM = data_opcode[(data_opcode['malicious'] == True) & (data_opcode['packed'] == True)].shape[0]\n",
    "PB = data_opcode[(data_opcode['malicious'] == False) & (data_opcode['packed'] == True)].shape[0]\n",
    "print('Packed Malware: %i samples' % PM)\n",
    "print('Packed Benign: %i samples' % PB)\n",
    "print('Total TRAIN set: %i samples'% (PM+PB))\n",
    "\n",
    "#Chia tỉ lệ 50 - 50\n",
    "data_PM_opcode = data_opcode[(data_opcode['malicious'] == True) & (data_opcode['packed'] == True)].sample(n=(PM-PB), random_state=102)\n",
    "data_opcode = data_opcode.drop(data_PM_opcode.index)\n",
    "      \n",
    "#Số lượng tập train\n",
    "PM = data_opcode[(data_opcode['malicious'] == True) & (data_opcode['packed'] == True)].shape[0]\n",
    "PB = data_opcode[(data_opcode['malicious'] == False) & (data_opcode['packed'] == True)].shape[0]\n",
    "print('Packed Malware: %i samples' % PM)\n",
    "print('Packed Benign: %i samples' % PB)\n",
    "print('Total TRAIN set: %i samples'% (PM+PB))\n",
    "\n",
    "#Xử lý tập train\n",
    "y = data_opcode['malicious'].values\n",
    "data_opcode = data_opcode.drop(['malicious','packed'], axis=1)\n",
    "\n",
    "PM = df_3000_opcode[(df_3000_opcode['malicious'] == True) & (df_3000_opcode['packed'] == True)].shape[0]\n",
    "PB = df_3000_opcode[(df_3000_opcode['malicious'] == False) & (df_3000_opcode['packed'] == True)].shape[0]\n",
    "\n",
    "df_3000_PM_opcode = df_3000_opcode[(df_3000_opcode['malicious'] == True) & (df_3000_opcode['packed'] == True)].sample(n=(PM-PB), random_state=102)\n",
    "df_3000_opcode = df_3000_opcode.drop(df_3000_PM_opcode.index)\n",
    "\n",
    "PM = df_3000_opcode[(df_3000_opcode['malicious'] == True) & (df_3000_opcode['packed'] == True)].shape[0]\n",
    "PB = df_3000_opcode[(df_3000_opcode['malicious'] == False) & (df_3000_opcode['packed'] == True)].shape[0]\n",
    "\n",
    "print('Packed Malware: %i samples' % PM)\n",
    "print('Packed Benign: %i samples' % PB)\n",
    "print('Total TEST set: %i samples'% (PM+PB))"
   ]
  },
  {
   "cell_type": "code",
   "execution_count": 32,
   "id": "35a7acec",
   "metadata": {
    "execution": {
     "iopub.execute_input": "2024-01-23T12:10:48.232671Z",
     "iopub.status.busy": "2024-01-23T12:10:48.231726Z",
     "iopub.status.idle": "2024-01-23T12:10:48.279233Z",
     "shell.execute_reply": "2024-01-23T12:10:48.278293Z"
    },
    "papermill": {
     "duration": 0.078815,
     "end_time": "2024-01-23T12:10:48.282427",
     "exception": false,
     "start_time": "2024-01-23T12:10:48.203612",
     "status": "completed"
    },
    "tags": []
   },
   "outputs": [],
   "source": [
    "# model = SelectFromModel(fsel, prefit=True)\n",
    "\n",
    "X_train_opcode = data_opcode\n",
    "X_test_opcode = df_3000_opcode.drop(['malicious','packed'], axis=1)\n",
    "\n",
    "# data_opcode = data_opcode.loc[:, (data_opcode != 0).any(axis=0)]\n",
    "x_train_opcode = data_opcode\n",
    "X_test_opcode = df_3000_opcode.drop(['malicious','packed'], axis=1)\n",
    "y_train_opcode = y\n",
    "y_test_opcode = df_3000_opcode['malicious'].values"
   ]
  },
  {
   "cell_type": "code",
   "execution_count": 33,
   "id": "5d5d7460",
   "metadata": {
    "execution": {
     "iopub.execute_input": "2024-01-23T12:10:48.340694Z",
     "iopub.status.busy": "2024-01-23T12:10:48.339790Z",
     "iopub.status.idle": "2024-01-23T12:10:51.159392Z",
     "shell.execute_reply": "2024-01-23T12:10:51.158576Z"
    },
    "papermill": {
     "duration": 2.849367,
     "end_time": "2024-01-23T12:10:51.161630",
     "exception": false,
     "start_time": "2024-01-23T12:10:48.312263",
     "status": "completed"
    },
    "tags": []
   },
   "outputs": [
    {
     "name": "stdout",
     "output_type": "stream",
     "text": [
      "The accuracy of the Random Forests model is :\t 0.8731617647058824\n"
     ]
    }
   ],
   "source": [
    "# Random Forest\n",
    "from sklearn.ensemble import RandomForestClassifier\n",
    "from sklearn import metrics\n",
    "\n",
    "random_forest = RandomForestClassifier(n_estimators=100, random_state=17)\n",
    "random_forest.fit(x_train_opcode, y_train_opcode)\n",
    "random_forest_preds = random_forest.predict(X_test_opcode)\n",
    "print('The accuracy of the Random Forests model is :\\t',metrics.accuracy_score(random_forest_preds,y_test_opcode))"
   ]
  },
  {
   "cell_type": "markdown",
   "id": "b953e4ef",
   "metadata": {
    "papermill": {
     "duration": 0.025207,
     "end_time": "2024-01-23T12:10:51.212599",
     "exception": false,
     "start_time": "2024-01-23T12:10:51.187392",
     "status": "completed"
    },
    "tags": []
   },
   "source": [
    "# **rich header features**"
   ]
  },
  {
   "cell_type": "code",
   "execution_count": 34,
   "id": "b655eb70",
   "metadata": {
    "execution": {
     "iopub.execute_input": "2024-01-23T12:10:51.265955Z",
     "iopub.status.busy": "2024-01-23T12:10:51.265532Z",
     "iopub.status.idle": "2024-01-23T12:10:52.916393Z",
     "shell.execute_reply": "2024-01-23T12:10:52.915250Z"
    },
    "papermill": {
     "duration": 1.681017,
     "end_time": "2024-01-23T12:10:52.919402",
     "exception": false,
     "start_time": "2024-01-23T12:10:51.238385",
     "status": "completed"
    },
    "tags": []
   },
   "outputs": [],
   "source": [
    "pelock = pd.read_pickle('/kaggle/input/packer-balance-pickle/pelock_balance.pickle')\n",
    "pelock = pelock.drop(['sample_sha1','benign','unpacked_sample_sha1','unpacked_sample_id'], axis=1)\n",
    "pelock = pelock.drop(['benign_vt','malicious_vt'], axis=1)\n",
    "string_columns = pelock.select_dtypes(include=['object']).columns\n",
    "pelock = pelock.drop(string_columns, axis=1)"
   ]
  },
  {
   "cell_type": "code",
   "execution_count": 35,
   "id": "e2b878a9",
   "metadata": {
    "execution": {
     "iopub.execute_input": "2024-01-23T12:10:52.973267Z",
     "iopub.status.busy": "2024-01-23T12:10:52.972833Z",
     "iopub.status.idle": "2024-01-23T12:10:54.136461Z",
     "shell.execute_reply": "2024-01-23T12:10:54.135159Z"
    },
    "papermill": {
     "duration": 1.193247,
     "end_time": "2024-01-23T12:10:54.139214",
     "exception": false,
     "start_time": "2024-01-23T12:10:52.945967",
     "status": "completed"
    },
    "tags": []
   },
   "outputs": [
    {
     "name": "stdout",
     "output_type": "stream",
     "text": [
      "removing 13000 features\n",
      "removing 2500 features\n",
      "removing 2 features\n",
      "removing 16900 features\n",
      "removing 19169 features\n",
      "removing 4306 features\n",
      "removing 550 features\n",
      "removing 29 features\n"
     ]
    }
   ],
   "source": [
    "rich = remove_cols(pelock, [c for c in cols if c.startswith('ngram_')])\n",
    "rich = remove_cols(pelock, [c for c in cols if c.startswith('opcode_')])\n",
    "rich = remove_cols(pelock, [c for c in cols if c.startswith('generic_')])\n",
    "rich = remove_cols(pelock, [c for c in cols if c.startswith('string_')])\n",
    "# rich = remove_cols(pelock, [c for c in cols if c.startswith('rich_')])\n",
    "rich = remove_cols(pelock, [c for c in cols if c.startswith('imp_') or 'api_import_nb' == c])\n",
    "rich = remove_cols(pelock, [c for c in cols if c.endswith('.dll') or 'dll_import_nb' == c])\n",
    "rich = remove_cols(pelock, [c for c in cols if c.startswith('pesection')])\n",
    "rich = remove_cols(pelock, [c for c in cols if c.startswith('header_')])"
   ]
  },
  {
   "cell_type": "code",
   "execution_count": 36,
   "id": "e21bdf07",
   "metadata": {
    "execution": {
     "iopub.execute_input": "2024-01-23T12:10:54.193491Z",
     "iopub.status.busy": "2024-01-23T12:10:54.193076Z",
     "iopub.status.idle": "2024-01-23T12:10:54.206929Z",
     "shell.execute_reply": "2024-01-23T12:10:54.205859Z"
    },
    "papermill": {
     "duration": 0.044227,
     "end_time": "2024-01-23T12:10:54.209476",
     "exception": false,
     "start_time": "2024-01-23T12:10:54.165249",
     "status": "completed"
    },
    "tags": []
   },
   "outputs": [],
   "source": [
    "df_7000_rich = rich.sample(n=7000, random_state=102)\n",
    "df_3000_rich = rich.drop(df_7000.index)\n",
    "data_rich = df_7000_rich.sample(n=3500, random_state=102)"
   ]
  },
  {
   "cell_type": "code",
   "execution_count": 37,
   "id": "3db1629d",
   "metadata": {
    "execution": {
     "iopub.execute_input": "2024-01-23T12:10:54.263224Z",
     "iopub.status.busy": "2024-01-23T12:10:54.262821Z",
     "iopub.status.idle": "2024-01-23T12:10:54.296542Z",
     "shell.execute_reply": "2024-01-23T12:10:54.295134Z"
    },
    "papermill": {
     "duration": 0.063492,
     "end_time": "2024-01-23T12:10:54.299059",
     "exception": false,
     "start_time": "2024-01-23T12:10:54.235567",
     "status": "completed"
    },
    "tags": []
   },
   "outputs": [
    {
     "name": "stdout",
     "output_type": "stream",
     "text": [
      "Packed Malware: 1960 samples\n",
      "Packed Benign: 1540 samples\n",
      "Total TRAIN set: 3500 samples\n",
      "Packed Malware: 1540 samples\n",
      "Packed Benign: 1540 samples\n",
      "Total TRAIN set: 3080 samples\n",
      "Packed Malware: 1360 samples\n",
      "Packed Benign: 1360 samples\n",
      "Total TEST set: 2720 samples\n"
     ]
    }
   ],
   "source": [
    "#Kiểm tra số lượng mẫu\n",
    "PM = data_rich[(data_rich['malicious'] == True) & (data_rich['packed'] == True)].shape[0]\n",
    "PB = data_rich[(data_rich['malicious'] == False) & (data_rich['packed'] == True)].shape[0]\n",
    "print('Packed Malware: %i samples' % PM)\n",
    "print('Packed Benign: %i samples' % PB)\n",
    "print('Total TRAIN set: %i samples'% (PM+PB))\n",
    "\n",
    "#Chia tỉ lệ 50 - 50\n",
    "data_PM_rich = data_rich[(data_rich['malicious'] == True) & (data_rich['packed'] == True)].sample(n=(PM-PB), random_state=102)\n",
    "data_rich = data_rich.drop(data_PM_rich.index)\n",
    "      \n",
    "#Số lượng tập train\n",
    "PM = data_rich[(data_rich['malicious'] == True) & (data_rich['packed'] == True)].shape[0]\n",
    "PB = data_rich[(data_rich['malicious'] == False) & (data_rich['packed'] == True)].shape[0]\n",
    "print('Packed Malware: %i samples' % PM)\n",
    "print('Packed Benign: %i samples' % PB)\n",
    "print('Total TRAIN set: %i samples'% (PM+PB))\n",
    "\n",
    "#Xử lý tập train\n",
    "y = data_rich['malicious'].values\n",
    "data_rich= data_rich.drop(['malicious','packed'], axis=1)\n",
    "\n",
    "PM = df_3000_rich[(df_3000_rich['malicious'] == True) & (df_3000_rich['packed'] == True)].shape[0]\n",
    "PB = df_3000_rich[(df_3000_rich['malicious'] == False) & (df_3000_rich['packed'] == True)].shape[0]\n",
    "\n",
    "df_3000_PM_rich = df_3000_rich[(df_3000_rich['malicious'] == True) & (df_3000_rich['packed'] == True)].sample(n=(PM-PB), random_state=102)\n",
    "df_3000_rich = df_3000_rich.drop(df_3000_PM_rich.index)\n",
    "\n",
    "PM = df_3000_rich[(df_3000_rich['malicious'] == True) & (df_3000_rich['packed'] == True)].shape[0]\n",
    "PB = df_3000_rich[(df_3000_rich['malicious'] == False) & (df_3000_rich['packed'] == True)].shape[0]\n",
    "\n",
    "print('Packed Malware: %i samples' % PM)\n",
    "print('Packed Benign: %i samples' % PB)\n",
    "print('Total TEST set: %i samples'% (PM+PB))"
   ]
  },
  {
   "cell_type": "code",
   "execution_count": 38,
   "id": "eab5d2f5",
   "metadata": {
    "execution": {
     "iopub.execute_input": "2024-01-23T12:10:54.353455Z",
     "iopub.status.busy": "2024-01-23T12:10:54.352302Z",
     "iopub.status.idle": "2024-01-23T12:10:54.363829Z",
     "shell.execute_reply": "2024-01-23T12:10:54.362689Z"
    },
    "papermill": {
     "duration": 0.041297,
     "end_time": "2024-01-23T12:10:54.366437",
     "exception": false,
     "start_time": "2024-01-23T12:10:54.325140",
     "status": "completed"
    },
    "tags": []
   },
   "outputs": [],
   "source": [
    "# model = SelectFromModel(fsel, prefit=True)\n",
    "\n",
    "X_train_rich = data_rich\n",
    "X_test_rich = df_3000_rich.drop(['malicious','packed'], axis=1)\n",
    "\n",
    "data_rich = data_rich.loc[:, (data_rich != 0).any(axis=0)]\n",
    "x_train_rich = data_rich\n",
    "X_test_rich = df_3000_rich.drop(['malicious','packed'], axis=1)\n",
    "y_train_rich = y\n",
    "y_test_rich = df_3000_rich['malicious'].values"
   ]
  },
  {
   "cell_type": "code",
   "execution_count": 39,
   "id": "be63f553",
   "metadata": {
    "execution": {
     "iopub.execute_input": "2024-01-23T12:10:54.420859Z",
     "iopub.status.busy": "2024-01-23T12:10:54.420381Z",
     "iopub.status.idle": "2024-01-23T12:10:54.756209Z",
     "shell.execute_reply": "2024-01-23T12:10:54.754902Z"
    },
    "papermill": {
     "duration": 0.366323,
     "end_time": "2024-01-23T12:10:54.758933",
     "exception": false,
     "start_time": "2024-01-23T12:10:54.392610",
     "status": "completed"
    },
    "tags": []
   },
   "outputs": [
    {
     "name": "stdout",
     "output_type": "stream",
     "text": [
      "The accuracy of the Random Forests model is :\t 0.5716911764705882\n"
     ]
    }
   ],
   "source": [
    "# Random Forest\n",
    "from sklearn.ensemble import RandomForestClassifier\n",
    "from sklearn import metrics\n",
    "\n",
    "random_forest = RandomForestClassifier(n_estimators=100, random_state=17)\n",
    "random_forest.fit(X_train_rich, y_train_rich)\n",
    "random_forest_preds = random_forest.predict(X_test_rich)\n",
    "print('The accuracy of the Random Forests model is :\\t',metrics.accuracy_score(random_forest_preds,y_test_rich))"
   ]
  },
  {
   "cell_type": "markdown",
   "id": "181e16da",
   "metadata": {
    "papermill": {
     "duration": 0.025794,
     "end_time": "2024-01-23T12:10:54.811049",
     "exception": false,
     "start_time": "2024-01-23T12:10:54.785255",
     "status": "completed"
    },
    "tags": []
   },
   "source": [
    "# **string features**"
   ]
  },
  {
   "cell_type": "code",
   "execution_count": 40,
   "id": "5e30bb52",
   "metadata": {
    "execution": {
     "iopub.execute_input": "2024-01-23T12:10:54.865974Z",
     "iopub.status.busy": "2024-01-23T12:10:54.865440Z",
     "iopub.status.idle": "2024-01-23T12:10:56.456840Z",
     "shell.execute_reply": "2024-01-23T12:10:56.455471Z"
    },
    "papermill": {
     "duration": 1.622133,
     "end_time": "2024-01-23T12:10:56.459609",
     "exception": false,
     "start_time": "2024-01-23T12:10:54.837476",
     "status": "completed"
    },
    "tags": []
   },
   "outputs": [],
   "source": [
    "pelock = pd.read_pickle('/kaggle/input/packer-balance-pickle/pelock_balance.pickle')\n",
    "pelock = pelock.drop(['sample_sha1','benign','unpacked_sample_sha1','unpacked_sample_id'], axis=1)\n",
    "pelock = pelock.drop(['benign_vt','malicious_vt'], axis=1)\n",
    "string_columns = pelock.select_dtypes(include=['object']).columns\n",
    "pelock = pelock.drop(string_columns, axis=1)"
   ]
  },
  {
   "cell_type": "code",
   "execution_count": 41,
   "id": "52e022dd",
   "metadata": {
    "execution": {
     "iopub.execute_input": "2024-01-23T12:10:56.513819Z",
     "iopub.status.busy": "2024-01-23T12:10:56.513423Z",
     "iopub.status.idle": "2024-01-23T12:10:57.847652Z",
     "shell.execute_reply": "2024-01-23T12:10:57.846530Z"
    },
    "papermill": {
     "duration": 1.364484,
     "end_time": "2024-01-23T12:10:57.850300",
     "exception": false,
     "start_time": "2024-01-23T12:10:56.485816",
     "status": "completed"
    },
    "tags": []
   },
   "outputs": [
    {
     "name": "stdout",
     "output_type": "stream",
     "text": [
      "removing 13000 features\n",
      "removing 2500 features\n",
      "removing 2 features\n",
      "removing 66 features\n",
      "removing 19169 features\n",
      "removing 4306 features\n",
      "removing 550 features\n",
      "removing 29 features\n"
     ]
    }
   ],
   "source": [
    "string = remove_cols(pelock, [c for c in cols if c.startswith('ngram_')])\n",
    "string = remove_cols(pelock, [c for c in cols if c.startswith('opcode_')])\n",
    "string = remove_cols(pelock, [c for c in cols if c.startswith('generic_')])\n",
    "# string = remove_cols(pelock, [c for c in cols if c.startswith('string_')])\n",
    "string = remove_cols(pelock, [c for c in cols if c.startswith('rich_')])\n",
    "string = remove_cols(pelock, [c for c in cols if c.startswith('imp_') or 'api_import_nb' == c])\n",
    "string = remove_cols(pelock, [c for c in cols if c.endswith('.dll') or 'dll_import_nb' == c])\n",
    "string = remove_cols(pelock, [c for c in cols if c.startswith('pesection')])\n",
    "string = remove_cols(pelock, [c for c in cols if c.startswith('header_')])"
   ]
  },
  {
   "cell_type": "code",
   "execution_count": 42,
   "id": "a54a0a9d",
   "metadata": {
    "execution": {
     "iopub.execute_input": "2024-01-23T12:10:57.905042Z",
     "iopub.status.busy": "2024-01-23T12:10:57.904653Z",
     "iopub.status.idle": "2024-01-23T12:10:58.239480Z",
     "shell.execute_reply": "2024-01-23T12:10:58.237804Z"
    },
    "papermill": {
     "duration": 0.365701,
     "end_time": "2024-01-23T12:10:58.242622",
     "exception": false,
     "start_time": "2024-01-23T12:10:57.876921",
     "status": "completed"
    },
    "tags": []
   },
   "outputs": [],
   "source": [
    "df_7000_string = string.sample(n=7000, random_state=102)\n",
    "df_3000_string = string.drop(df_7000.index)\n",
    "data_string = df_7000_string.sample(n=3500, random_state=102)"
   ]
  },
  {
   "cell_type": "code",
   "execution_count": 43,
   "id": "c5571471",
   "metadata": {
    "execution": {
     "iopub.execute_input": "2024-01-23T12:10:58.299432Z",
     "iopub.status.busy": "2024-01-23T12:10:58.298254Z",
     "iopub.status.idle": "2024-01-23T12:10:58.762880Z",
     "shell.execute_reply": "2024-01-23T12:10:58.761408Z"
    },
    "papermill": {
     "duration": 0.494795,
     "end_time": "2024-01-23T12:10:58.765110",
     "exception": false,
     "start_time": "2024-01-23T12:10:58.270315",
     "status": "completed"
    },
    "tags": []
   },
   "outputs": [
    {
     "name": "stdout",
     "output_type": "stream",
     "text": [
      "Packed Malware: 1960 samples\n",
      "Packed Benign: 1540 samples\n",
      "Total TRAIN set: 3500 samples\n",
      "Packed Malware: 1540 samples\n",
      "Packed Benign: 1540 samples\n",
      "Total TRAIN set: 3080 samples\n",
      "Packed Malware: 1360 samples\n",
      "Packed Benign: 1360 samples\n",
      "Total TEST set: 2720 samples\n"
     ]
    }
   ],
   "source": [
    "#Kiểm tra số lượng mẫu\n",
    "PM = data_string[(data_string['malicious'] == True) & (data_string['packed'] == True)].shape[0]\n",
    "PB = data_string[(data_string['malicious'] == False) & (data_string['packed'] == True)].shape[0]\n",
    "print('Packed Malware: %i samples' % PM)\n",
    "print('Packed Benign: %i samples' % PB)\n",
    "print('Total TRAIN set: %i samples'% (PM+PB))\n",
    "\n",
    "#Chia tỉ lệ 50 - 50\n",
    "data_PM_string = data_string[(data_string['malicious'] == True) & (data_string['packed'] == True)].sample(n=(PM-PB), random_state=102)\n",
    "data_string = data_string.drop(data_PM_string.index)\n",
    "      \n",
    "#Số lượng tập train\n",
    "PM = data_string[(data_string['malicious'] == True) & (data_string['packed'] == True)].shape[0]\n",
    "PB = data_string[(data_string['malicious'] == False) & (data_string['packed'] == True)].shape[0]\n",
    "print('Packed Malware: %i samples' % PM)\n",
    "print('Packed Benign: %i samples' % PB)\n",
    "print('Total TRAIN set: %i samples'% (PM+PB))\n",
    "\n",
    "#Xử lý tập train\n",
    "y = data_string['malicious'].values\n",
    "data_string = data_string.drop(['malicious','packed'], axis=1)\n",
    "\n",
    "PM = df_3000_string[(df_3000_string['malicious'] == True) & (df_3000_string['packed'] == True)].shape[0]\n",
    "PB = df_3000_string[(df_3000_string['malicious'] == False) & (df_3000_string['packed'] == True)].shape[0]\n",
    "\n",
    "df_3000_PM_string = df_3000_string[(df_3000_string['malicious'] == True) & (df_3000_string['packed'] == True)].sample(n=(PM-PB), random_state=102)\n",
    "df_3000_string = df_3000_string.drop(df_3000_PM_string.index)\n",
    "\n",
    "PM = df_3000_string[(df_3000_string['malicious'] == True) & (df_3000_string['packed'] == True)].shape[0]\n",
    "PB = df_3000_string[(df_3000_string['malicious'] == False) & (df_3000_string['packed'] == True)].shape[0]\n",
    "\n",
    "print('Packed Malware: %i samples' % PM)\n",
    "print('Packed Benign: %i samples' % PB)\n",
    "print('Total TEST set: %i samples'% (PM+PB))"
   ]
  },
  {
   "cell_type": "code",
   "execution_count": 44,
   "id": "12eb273c",
   "metadata": {
    "execution": {
     "iopub.execute_input": "2024-01-23T12:10:58.821926Z",
     "iopub.status.busy": "2024-01-23T12:10:58.820845Z",
     "iopub.status.idle": "2024-01-23T12:10:58.934533Z",
     "shell.execute_reply": "2024-01-23T12:10:58.933430Z"
    },
    "papermill": {
     "duration": 0.14494,
     "end_time": "2024-01-23T12:10:58.937290",
     "exception": false,
     "start_time": "2024-01-23T12:10:58.792350",
     "status": "completed"
    },
    "tags": []
   },
   "outputs": [],
   "source": [
    "# model = SelectFromModel(fsel, prefit=True)\n",
    "\n",
    "X_train_string = data_string\n",
    "X_test_string = df_3000_string.drop(['malicious','packed'], axis=1)\n",
    "\n",
    "data_string = data_string.loc[:, (data_string != 0).any(axis=0)]\n",
    "x_train_string = data_string\n",
    "X_test_string = df_3000_string.drop(['malicious','packed'], axis=1)\n",
    "y_train_string = y\n",
    "y_test_string = df_3000_string['malicious'].values"
   ]
  },
  {
   "cell_type": "code",
   "execution_count": 45,
   "id": "a7293a4f",
   "metadata": {
    "execution": {
     "iopub.execute_input": "2024-01-23T12:10:58.992909Z",
     "iopub.status.busy": "2024-01-23T12:10:58.992502Z",
     "iopub.status.idle": "2024-01-23T12:11:08.313006Z",
     "shell.execute_reply": "2024-01-23T12:11:08.311691Z"
    },
    "papermill": {
     "duration": 9.35144,
     "end_time": "2024-01-23T12:11:08.315659",
     "exception": false,
     "start_time": "2024-01-23T12:10:58.964219",
     "status": "completed"
    },
    "tags": []
   },
   "outputs": [
    {
     "name": "stdout",
     "output_type": "stream",
     "text": [
      "The accuracy of the Random Forests model is :\t 0.9360294117647059\n"
     ]
    }
   ],
   "source": [
    "# Random Forest\n",
    "from sklearn.ensemble import RandomForestClassifier\n",
    "from sklearn import metrics\n",
    "\n",
    "random_forest = RandomForestClassifier(n_estimators=100, random_state=17)\n",
    "random_forest.fit(X_train_string, y_train_string)\n",
    "random_forest_preds = random_forest.predict(X_test_string)\n",
    "print('The accuracy of the Random Forests model is :\\t',metrics.accuracy_score(random_forest_preds,y_test_string))"
   ]
  },
  {
   "cell_type": "markdown",
   "id": "a1bfc554",
   "metadata": {
    "papermill": {
     "duration": 0.026843,
     "end_time": "2024-01-23T12:11:08.369352",
     "exception": false,
     "start_time": "2024-01-23T12:11:08.342509",
     "status": "completed"
    },
    "tags": []
   },
   "source": [
    "# **api features**"
   ]
  },
  {
   "cell_type": "code",
   "execution_count": 46,
   "id": "97ce58f8",
   "metadata": {
    "execution": {
     "iopub.execute_input": "2024-01-23T12:11:08.426327Z",
     "iopub.status.busy": "2024-01-23T12:11:08.425937Z",
     "iopub.status.idle": "2024-01-23T12:11:10.109097Z",
     "shell.execute_reply": "2024-01-23T12:11:10.107455Z"
    },
    "papermill": {
     "duration": 1.715513,
     "end_time": "2024-01-23T12:11:10.112539",
     "exception": false,
     "start_time": "2024-01-23T12:11:08.397026",
     "status": "completed"
    },
    "tags": []
   },
   "outputs": [],
   "source": [
    "pelock = pd.read_pickle('/kaggle/input/packer-balance-pickle/pelock_balance.pickle')\n",
    "pelock = pelock.drop(['sample_sha1','benign','unpacked_sample_sha1','unpacked_sample_id'], axis=1)\n",
    "pelock = pelock.drop(['benign_vt','malicious_vt'], axis=1)\n",
    "string_columns = pelock.select_dtypes(include=['object']).columns\n",
    "pelock = pelock.drop(string_columns, axis=1)"
   ]
  },
  {
   "cell_type": "code",
   "execution_count": 47,
   "id": "e54e749f",
   "metadata": {
    "execution": {
     "iopub.execute_input": "2024-01-23T12:11:10.170713Z",
     "iopub.status.busy": "2024-01-23T12:11:10.170267Z",
     "iopub.status.idle": "2024-01-23T12:11:11.888042Z",
     "shell.execute_reply": "2024-01-23T12:11:11.886959Z"
    },
    "papermill": {
     "duration": 1.749762,
     "end_time": "2024-01-23T12:11:11.890770",
     "exception": false,
     "start_time": "2024-01-23T12:11:10.141008",
     "status": "completed"
    },
    "tags": []
   },
   "outputs": [
    {
     "name": "stdout",
     "output_type": "stream",
     "text": [
      "removing 13000 features\n",
      "removing 2500 features\n",
      "removing 2 features\n",
      "removing 16900 features\n",
      "removing 66 features\n",
      "removing 4306 features\n",
      "removing 550 features\n",
      "removing 29 features\n"
     ]
    }
   ],
   "source": [
    "api = remove_cols(pelock, [c for c in cols if c.startswith('ngram_')])\n",
    "api = remove_cols(pelock, [c for c in cols if c.startswith('opcode_')])\n",
    "api = remove_cols(pelock, [c for c in cols if c.startswith('generic_')])\n",
    "api = remove_cols(pelock, [c for c in cols if c.startswith('string_')])\n",
    "api = remove_cols(pelock, [c for c in cols if c.startswith('rich_')])\n",
    "# api = remove_cols(pelock, [c for c in cols if c.startswith('imp_') or 'api_import_nb' == c])\n",
    "api = remove_cols(pelock, [c for c in cols if c.endswith('.dll') or 'dll_import_nb' == c])\n",
    "api = remove_cols(pelock, [c for c in cols if c.startswith('pesection')])\n",
    "api = remove_cols(pelock, [c for c in cols if c.startswith('header_')])"
   ]
  },
  {
   "cell_type": "code",
   "execution_count": 48,
   "id": "398e33a9",
   "metadata": {
    "execution": {
     "iopub.execute_input": "2024-01-23T12:11:11.947462Z",
     "iopub.status.busy": "2024-01-23T12:11:11.947043Z",
     "iopub.status.idle": "2024-01-23T12:11:12.370991Z",
     "shell.execute_reply": "2024-01-23T12:11:12.369693Z"
    },
    "papermill": {
     "duration": 0.455516,
     "end_time": "2024-01-23T12:11:12.373819",
     "exception": false,
     "start_time": "2024-01-23T12:11:11.918303",
     "status": "completed"
    },
    "tags": []
   },
   "outputs": [],
   "source": [
    "df_7000_api = api.sample(n=7000, random_state=102)\n",
    "df_3000_api = api.drop(df_7000.index)\n",
    "data_api = df_7000_api.sample(n=3500, random_state=102)"
   ]
  },
  {
   "cell_type": "code",
   "execution_count": 49,
   "id": "1794ba32",
   "metadata": {
    "execution": {
     "iopub.execute_input": "2024-01-23T12:11:12.431555Z",
     "iopub.status.busy": "2024-01-23T12:11:12.431111Z",
     "iopub.status.idle": "2024-01-23T12:11:13.131147Z",
     "shell.execute_reply": "2024-01-23T12:11:13.129665Z"
    },
    "papermill": {
     "duration": 0.731819,
     "end_time": "2024-01-23T12:11:13.133732",
     "exception": false,
     "start_time": "2024-01-23T12:11:12.401913",
     "status": "completed"
    },
    "tags": []
   },
   "outputs": [
    {
     "name": "stdout",
     "output_type": "stream",
     "text": [
      "Packed Malware: 1960 samples\n",
      "Packed Benign: 1540 samples\n",
      "Total TRAIN set: 3500 samples\n",
      "Packed Malware: 1540 samples\n",
      "Packed Benign: 1540 samples\n",
      "Total TRAIN set: 3080 samples\n",
      "Packed Malware: 1360 samples\n",
      "Packed Benign: 1360 samples\n",
      "Total TEST set: 2720 samples\n"
     ]
    }
   ],
   "source": [
    "#Kiểm tra số lượng mẫu\n",
    "PM = data_api[(data_api['malicious'] == True) & (data_api['packed'] == True)].shape[0]\n",
    "PB = data_api[(data_api['malicious'] == False) & (data_api['packed'] == True)].shape[0]\n",
    "print('Packed Malware: %i samples' % PM)\n",
    "print('Packed Benign: %i samples' % PB)\n",
    "print('Total TRAIN set: %i samples'% (PM+PB))\n",
    "\n",
    "#Chia tỉ lệ 50 - 50\n",
    "data_PM_api = data_api[(data_api['malicious'] == True) & (data_api['packed'] == True)].sample(n=(PM-PB), random_state=102)\n",
    "data_api = data_api.drop(data_PM_api.index)\n",
    "      \n",
    "#Số lượng tập train\n",
    "PM = data_api[(data_api['malicious'] == True) & (data_api['packed'] == True)].shape[0]\n",
    "PB = data_api[(data_api['malicious'] == False) & (data_api['packed'] == True)].shape[0]\n",
    "print('Packed Malware: %i samples' % PM)\n",
    "print('Packed Benign: %i samples' % PB)\n",
    "print('Total TRAIN set: %i samples'% (PM+PB))\n",
    "\n",
    "#Xử lý tập train\n",
    "y = data_api['malicious'].values\n",
    "data_api = data_api.drop(['malicious','packed'], axis=1)\n",
    "\n",
    "PM = df_3000_api[(df_3000_api['malicious'] == True) & (df_3000_api['packed'] == True)].shape[0]\n",
    "PB = df_3000_api[(df_3000_api['malicious'] == False) & (df_3000_api['packed'] == True)].shape[0]\n",
    "\n",
    "df_3000_PM_api = df_3000_api[(df_3000_api['malicious'] == True) & (df_3000_api['packed'] == True)].sample(n=(PM-PB), random_state=102)\n",
    "df_3000_api = df_3000_api.drop(df_3000_PM_api.index)\n",
    "\n",
    "PM = df_3000_api[(df_3000_api['malicious'] == True) & (df_3000_api['packed'] == True)].shape[0]\n",
    "PB = df_3000_api[(df_3000_api['malicious'] == False) & (df_3000_api['packed'] == True)].shape[0]\n",
    "\n",
    "print('Packed Malware: %i samples' % PM)\n",
    "print('Packed Benign: %i samples' % PB)\n",
    "print('Total TEST set: %i samples'% (PM+PB))"
   ]
  },
  {
   "cell_type": "code",
   "execution_count": 50,
   "id": "0b061cf8",
   "metadata": {
    "execution": {
     "iopub.execute_input": "2024-01-23T12:11:13.191522Z",
     "iopub.status.busy": "2024-01-23T12:11:13.191047Z",
     "iopub.status.idle": "2024-01-23T12:11:13.383682Z",
     "shell.execute_reply": "2024-01-23T12:11:13.382616Z"
    },
    "papermill": {
     "duration": 0.224818,
     "end_time": "2024-01-23T12:11:13.386631",
     "exception": false,
     "start_time": "2024-01-23T12:11:13.161813",
     "status": "completed"
    },
    "tags": []
   },
   "outputs": [],
   "source": [
    "# model = SelectFromModel(fsel, prefit=True)\n",
    "\n",
    "X_train_api = data_api\n",
    "X_test_api = df_3000_api.drop(['malicious','packed'], axis=1)\n",
    "\n",
    "data_api = data_api.loc[:, (data_api != 0).any(axis=0)]\n",
    "x_train_api = data_api\n",
    "X_test_api = df_3000_api.drop(['malicious','packed'], axis=1)\n",
    "y_train_api = y\n",
    "y_test_api = df_3000_api['malicious'].values"
   ]
  },
  {
   "cell_type": "code",
   "execution_count": 51,
   "id": "480d23c3",
   "metadata": {
    "execution": {
     "iopub.execute_input": "2024-01-23T12:11:13.446327Z",
     "iopub.status.busy": "2024-01-23T12:11:13.445929Z",
     "iopub.status.idle": "2024-01-23T12:11:28.765422Z",
     "shell.execute_reply": "2024-01-23T12:11:28.764001Z"
    },
    "papermill": {
     "duration": 15.352385,
     "end_time": "2024-01-23T12:11:28.767953",
     "exception": false,
     "start_time": "2024-01-23T12:11:13.415568",
     "status": "completed"
    },
    "tags": []
   },
   "outputs": [
    {
     "name": "stdout",
     "output_type": "stream",
     "text": [
      "The accuracy of the Random Forests model is :\t 0.9297794117647059\n"
     ]
    }
   ],
   "source": [
    "# Random Forest\n",
    "from sklearn.ensemble import RandomForestClassifier\n",
    "from sklearn import metrics\n",
    "\n",
    "random_forest = RandomForestClassifier(n_estimators=100, random_state=17)\n",
    "random_forest.fit(X_train_api, y_train_api)\n",
    "random_forest_preds = random_forest.predict(X_test_api)\n",
    "print('The accuracy of the Random Forests model is :\\t',metrics.accuracy_score(random_forest_preds,y_test_api))"
   ]
  },
  {
   "cell_type": "markdown",
   "id": "c882bfa4",
   "metadata": {
    "papermill": {
     "duration": 0.027776,
     "end_time": "2024-01-23T12:11:28.823723",
     "exception": false,
     "start_time": "2024-01-23T12:11:28.795947",
     "status": "completed"
    },
    "tags": []
   },
   "source": [
    "# **dll features**"
   ]
  },
  {
   "cell_type": "code",
   "execution_count": 52,
   "id": "42f981c4",
   "metadata": {
    "execution": {
     "iopub.execute_input": "2024-01-23T12:11:28.882389Z",
     "iopub.status.busy": "2024-01-23T12:11:28.881976Z",
     "iopub.status.idle": "2024-01-23T12:11:30.721050Z",
     "shell.execute_reply": "2024-01-23T12:11:30.719872Z"
    },
    "papermill": {
     "duration": 1.871727,
     "end_time": "2024-01-23T12:11:30.723920",
     "exception": false,
     "start_time": "2024-01-23T12:11:28.852193",
     "status": "completed"
    },
    "tags": []
   },
   "outputs": [],
   "source": [
    "pelock = pd.read_pickle('/kaggle/input/packer-balance-pickle/pelock_balance.pickle')\n",
    "pelock = pelock.drop(['sample_sha1','benign','unpacked_sample_sha1','unpacked_sample_id'], axis=1)\n",
    "pelock = pelock.drop(['benign_vt','malicious_vt'], axis=1)\n",
    "string_columns = pelock.select_dtypes(include=['object']).columns\n",
    "pelock = pelock.drop(string_columns, axis=1)"
   ]
  },
  {
   "cell_type": "code",
   "execution_count": 53,
   "id": "5f3aceb8",
   "metadata": {
    "execution": {
     "iopub.execute_input": "2024-01-23T12:11:30.783806Z",
     "iopub.status.busy": "2024-01-23T12:11:30.782754Z",
     "iopub.status.idle": "2024-01-23T12:11:32.016402Z",
     "shell.execute_reply": "2024-01-23T12:11:32.015415Z"
    },
    "papermill": {
     "duration": 1.266392,
     "end_time": "2024-01-23T12:11:32.018916",
     "exception": false,
     "start_time": "2024-01-23T12:11:30.752524",
     "status": "completed"
    },
    "tags": []
   },
   "outputs": [
    {
     "name": "stdout",
     "output_type": "stream",
     "text": [
      "removing 13000 features\n",
      "removing 2500 features\n",
      "removing 2 features\n",
      "removing 16900 features\n",
      "removing 66 features\n",
      "removing 19169 features\n",
      "removing 550 features\n",
      "removing 29 features\n"
     ]
    }
   ],
   "source": [
    "dll = remove_cols(pelock, [c for c in cols if c.startswith('ngram_')])\n",
    "dll = remove_cols(pelock, [c for c in cols if c.startswith('opcode_')])\n",
    "dll = remove_cols(pelock, [c for c in cols if c.startswith('generic_')])\n",
    "dll = remove_cols(pelock, [c for c in cols if c.startswith('string_')])\n",
    "dll = remove_cols(pelock, [c for c in cols if c.startswith('rich_')])\n",
    "dll = remove_cols(pelock, [c for c in cols if c.startswith('imp_') or 'api_import_nb' == c])\n",
    "# api = remove_cols(pelock, [c for c in cols if c.endswith('.dll') or 'dll_import_nb' == c])\n",
    "dll = remove_cols(pelock, [c for c in cols if c.startswith('pesection')])\n",
    "dll = remove_cols(pelock, [c for c in cols if c.startswith('header_')])"
   ]
  },
  {
   "cell_type": "code",
   "execution_count": 54,
   "id": "3b3b7d3f",
   "metadata": {
    "execution": {
     "iopub.execute_input": "2024-01-23T12:11:32.079399Z",
     "iopub.status.busy": "2024-01-23T12:11:32.078616Z",
     "iopub.status.idle": "2024-01-23T12:11:32.181942Z",
     "shell.execute_reply": "2024-01-23T12:11:32.180968Z"
    },
    "papermill": {
     "duration": 0.136537,
     "end_time": "2024-01-23T12:11:32.184385",
     "exception": false,
     "start_time": "2024-01-23T12:11:32.047848",
     "status": "completed"
    },
    "tags": []
   },
   "outputs": [],
   "source": [
    "df_7000_dll = dll.sample(n=7000, random_state=102)\n",
    "df_3000_dll = dll.drop(df_7000.index)\n",
    "data_dll = df_7000_dll.sample(n=3500, random_state=102)"
   ]
  },
  {
   "cell_type": "code",
   "execution_count": 55,
   "id": "17f13c84",
   "metadata": {
    "execution": {
     "iopub.execute_input": "2024-01-23T12:11:32.243984Z",
     "iopub.status.busy": "2024-01-23T12:11:32.243537Z",
     "iopub.status.idle": "2024-01-23T12:11:32.469825Z",
     "shell.execute_reply": "2024-01-23T12:11:32.468449Z"
    },
    "papermill": {
     "duration": 0.259658,
     "end_time": "2024-01-23T12:11:32.472289",
     "exception": false,
     "start_time": "2024-01-23T12:11:32.212631",
     "status": "completed"
    },
    "tags": []
   },
   "outputs": [
    {
     "name": "stdout",
     "output_type": "stream",
     "text": [
      "Packed Malware: 1960 samples\n",
      "Packed Benign: 1540 samples\n",
      "Total TRAIN set: 3500 samples\n",
      "Packed Malware: 1540 samples\n",
      "Packed Benign: 1540 samples\n",
      "Total TRAIN set: 3080 samples\n",
      "Packed Malware: 1360 samples\n",
      "Packed Benign: 1360 samples\n",
      "Total TEST set: 2720 samples\n"
     ]
    }
   ],
   "source": [
    "#Kiểm tra số lượng mẫu\n",
    "PM = data_dll[(data_dll['malicious'] == True) & (data_dll['packed'] == True)].shape[0]\n",
    "PB = data_dll[(data_dll['malicious'] == False) & (data_dll['packed'] == True)].shape[0]\n",
    "print('Packed Malware: %i samples' % PM)\n",
    "print('Packed Benign: %i samples' % PB)\n",
    "print('Total TRAIN set: %i samples'% (PM+PB))\n",
    "\n",
    "#Chia tỉ lệ 50 - 50\n",
    "data_PM_dll = data_dll[(data_dll['malicious'] == True) & (data_dll['packed'] == True)].sample(n=(PM-PB), random_state=102)\n",
    "data_dll = data_dll.drop(data_PM_dll.index)\n",
    "      \n",
    "#Số lượng tập train\n",
    "PM = data_dll[(data_dll['malicious'] == True) & (data_dll['packed'] == True)].shape[0]\n",
    "PB = data_dll[(data_dll['malicious'] == False) & (data_dll['packed'] == True)].shape[0]\n",
    "print('Packed Malware: %i samples' % PM)\n",
    "print('Packed Benign: %i samples' % PB)\n",
    "print('Total TRAIN set: %i samples'% (PM+PB))\n",
    "\n",
    "#Xử lý tập train\n",
    "y = data_dll['malicious'].values\n",
    "data_dll = data_dll.drop(['malicious','packed'], axis=1)\n",
    "\n",
    "PM = df_3000_dll[(df_3000_dll['malicious'] == True) & (df_3000_dll['packed'] == True)].shape[0]\n",
    "PB = df_3000_dll[(df_3000_dll['malicious'] == False) & (df_3000_dll['packed'] == True)].shape[0]\n",
    "\n",
    "df_3000_PM_dll = df_3000_dll[(df_3000_dll['malicious'] == True) & (df_3000_dll['packed'] == True)].sample(n=(PM-PB), random_state=102)\n",
    "df_3000_dll = df_3000_dll.drop(df_3000_PM_dll.index)\n",
    "\n",
    "PM = df_3000_dll[(df_3000_dll['malicious'] == True) & (df_3000_dll['packed'] == True)].shape[0]\n",
    "PB = df_3000_dll[(df_3000_dll['malicious'] == False) & (df_3000_dll['packed'] == True)].shape[0]\n",
    "\n",
    "print('Packed Malware: %i samples' % PM)\n",
    "print('Packed Benign: %i samples' % PB)\n",
    "print('Total TEST set: %i samples'% (PM+PB))"
   ]
  },
  {
   "cell_type": "code",
   "execution_count": 56,
   "id": "9da73944",
   "metadata": {
    "execution": {
     "iopub.execute_input": "2024-01-23T12:11:32.533118Z",
     "iopub.status.busy": "2024-01-23T12:11:32.532427Z",
     "iopub.status.idle": "2024-01-23T12:11:32.590303Z",
     "shell.execute_reply": "2024-01-23T12:11:32.589057Z"
    },
    "papermill": {
     "duration": 0.090948,
     "end_time": "2024-01-23T12:11:32.592960",
     "exception": false,
     "start_time": "2024-01-23T12:11:32.502012",
     "status": "completed"
    },
    "tags": []
   },
   "outputs": [],
   "source": [
    "# model = SelectFromModel(fsel, prefit=True)\n",
    "\n",
    "X_train_dll = data_dll\n",
    "X_test_dll = df_3000_dll.drop(['malicious','packed'], axis=1)\n",
    "\n",
    "data_dll = data_dll.loc[:, (data_dll != 0).any(axis=0)]\n",
    "x_train_dll = data_dll\n",
    "X_test_dll = df_3000_dll.drop(['malicious','packed'], axis=1)\n",
    "y_train_dll = y\n",
    "y_test_dll = df_3000_dll['malicious'].values"
   ]
  },
  {
   "cell_type": "code",
   "execution_count": 57,
   "id": "46774fe2",
   "metadata": {
    "execution": {
     "iopub.execute_input": "2024-01-23T12:11:32.653094Z",
     "iopub.status.busy": "2024-01-23T12:11:32.652655Z",
     "iopub.status.idle": "2024-01-23T12:11:37.737152Z",
     "shell.execute_reply": "2024-01-23T12:11:37.735677Z"
    },
    "papermill": {
     "duration": 5.116875,
     "end_time": "2024-01-23T12:11:37.739547",
     "exception": false,
     "start_time": "2024-01-23T12:11:32.622672",
     "status": "completed"
    },
    "tags": []
   },
   "outputs": [
    {
     "name": "stdout",
     "output_type": "stream",
     "text": [
      "The accuracy of the Random Forests model is :\t 0.9161764705882353\n"
     ]
    }
   ],
   "source": [
    "# Random Forest\n",
    "from sklearn.ensemble import RandomForestClassifier\n",
    "from sklearn import metrics\n",
    "\n",
    "random_forest = RandomForestClassifier(n_estimators=100, random_state=17)\n",
    "random_forest.fit(X_train_dll, y_train_dll)\n",
    "random_forest_preds = random_forest.predict(X_test_dll)\n",
    "print('The accuracy of the Random Forests model is :\\t',metrics.accuracy_score(random_forest_preds,y_test_dll))"
   ]
  },
  {
   "cell_type": "markdown",
   "id": "2e8119e5",
   "metadata": {
    "papermill": {
     "duration": 0.028367,
     "end_time": "2024-01-23T12:11:37.796698",
     "exception": false,
     "start_time": "2024-01-23T12:11:37.768331",
     "status": "completed"
    },
    "tags": []
   },
   "source": [
    "# **pe sections features**"
   ]
  },
  {
   "cell_type": "code",
   "execution_count": 58,
   "id": "b3c20dbf",
   "metadata": {
    "execution": {
     "iopub.execute_input": "2024-01-23T12:11:37.856347Z",
     "iopub.status.busy": "2024-01-23T12:11:37.855268Z",
     "iopub.status.idle": "2024-01-23T12:11:39.500636Z",
     "shell.execute_reply": "2024-01-23T12:11:39.499412Z"
    },
    "papermill": {
     "duration": 1.678512,
     "end_time": "2024-01-23T12:11:39.503509",
     "exception": false,
     "start_time": "2024-01-23T12:11:37.824997",
     "status": "completed"
    },
    "tags": []
   },
   "outputs": [],
   "source": [
    "pelock = pd.read_pickle('/kaggle/input/packer-balance-pickle/pelock_balance.pickle')\n",
    "pelock = pelock.drop(['sample_sha1','benign','unpacked_sample_sha1','unpacked_sample_id'], axis=1)\n",
    "pelock = pelock.drop(['benign_vt','malicious_vt'], axis=1)\n",
    "string_columns = pelock.select_dtypes(include=['object']).columns\n",
    "pelock = pelock.drop(string_columns, axis=1)"
   ]
  },
  {
   "cell_type": "code",
   "execution_count": 59,
   "id": "c6db1c45",
   "metadata": {
    "execution": {
     "iopub.execute_input": "2024-01-23T12:11:39.563195Z",
     "iopub.status.busy": "2024-01-23T12:11:39.562779Z",
     "iopub.status.idle": "2024-01-23T12:11:40.884326Z",
     "shell.execute_reply": "2024-01-23T12:11:40.883094Z"
    },
    "papermill": {
     "duration": 1.353999,
     "end_time": "2024-01-23T12:11:40.886682",
     "exception": false,
     "start_time": "2024-01-23T12:11:39.532683",
     "status": "completed"
    },
    "tags": []
   },
   "outputs": [
    {
     "name": "stdout",
     "output_type": "stream",
     "text": [
      "removing 13000 features\n",
      "removing 2500 features\n",
      "removing 2 features\n",
      "removing 16900 features\n",
      "removing 66 features\n",
      "removing 19169 features\n",
      "removing 4306 features\n",
      "removing 29 features\n"
     ]
    }
   ],
   "source": [
    "pesection = remove_cols(pelock, [c for c in cols if c.startswith('ngram_')])\n",
    "pesection = remove_cols(pelock, [c for c in cols if c.startswith('opcode_')])\n",
    "pesection = remove_cols(pelock, [c for c in cols if c.startswith('generic_')])\n",
    "pesection = remove_cols(pelock, [c for c in cols if c.startswith('string_')])\n",
    "pesection = remove_cols(pelock, [c for c in cols if c.startswith('rich_')])\n",
    "pesection = remove_cols(pelock, [c for c in cols if c.startswith('imp_') or 'api_import_nb' == c])\n",
    "pesection = remove_cols(pelock, [c for c in cols if c.endswith('.dll') or 'dll_import_nb' == c])\n",
    "# pesection = remove_cols(pelock, [c for c in cols if c.startswith('pesection')])\n",
    "pesection = remove_cols(pelock, [c for c in cols if c.startswith('header_')])"
   ]
  },
  {
   "cell_type": "code",
   "execution_count": 60,
   "id": "a2516c49",
   "metadata": {
    "execution": {
     "iopub.execute_input": "2024-01-23T12:11:40.948200Z",
     "iopub.status.busy": "2024-01-23T12:11:40.947607Z",
     "iopub.status.idle": "2024-01-23T12:11:40.999883Z",
     "shell.execute_reply": "2024-01-23T12:11:40.998609Z"
    },
    "papermill": {
     "duration": 0.086264,
     "end_time": "2024-01-23T12:11:41.002892",
     "exception": false,
     "start_time": "2024-01-23T12:11:40.916628",
     "status": "completed"
    },
    "tags": []
   },
   "outputs": [],
   "source": [
    "df_7000_pesection = pesection.sample(n=7000, random_state=102)\n",
    "df_3000_pesection = pesection.drop(df_7000.index)\n",
    "data_pesection = df_7000_pesection.sample(n=3500, random_state=102)"
   ]
  },
  {
   "cell_type": "code",
   "execution_count": 61,
   "id": "cca6a6d4",
   "metadata": {
    "execution": {
     "iopub.execute_input": "2024-01-23T12:11:41.062943Z",
     "iopub.status.busy": "2024-01-23T12:11:41.062558Z",
     "iopub.status.idle": "2024-01-23T12:11:41.212942Z",
     "shell.execute_reply": "2024-01-23T12:11:41.211106Z"
    },
    "papermill": {
     "duration": 0.183009,
     "end_time": "2024-01-23T12:11:41.215511",
     "exception": false,
     "start_time": "2024-01-23T12:11:41.032502",
     "status": "completed"
    },
    "tags": []
   },
   "outputs": [
    {
     "name": "stdout",
     "output_type": "stream",
     "text": [
      "Packed Malware: 1960 samples\n",
      "Packed Benign: 1540 samples\n",
      "Total TRAIN set: 3500 samples\n",
      "Packed Malware: 1540 samples\n",
      "Packed Benign: 1540 samples\n",
      "Total TRAIN set: 3080 samples\n",
      "Packed Malware: 1360 samples\n",
      "Packed Benign: 1360 samples\n",
      "Total TEST set: 2720 samples\n"
     ]
    }
   ],
   "source": [
    "#Kiểm tra số lượng mẫu\n",
    "PM = data_pesection[(data_pesection['malicious'] == True) & (data_pesection['packed'] == True)].shape[0]\n",
    "PB = data_pesection[(data_pesection['malicious'] == False) & (data_pesection['packed'] == True)].shape[0]\n",
    "print('Packed Malware: %i samples' % PM)\n",
    "print('Packed Benign: %i samples' % PB)\n",
    "print('Total TRAIN set: %i samples'% (PM+PB))\n",
    "\n",
    "#Chia tỉ lệ 50 - 50\n",
    "data_PM_pesection = data_pesection[(data_pesection['malicious'] == True) & (data_pesection['packed'] == True)].sample(n=(PM-PB), random_state=102)\n",
    "data_pesection = data_pesection.drop(data_PM_pesection.index)\n",
    "      \n",
    "#Số lượng tập train\n",
    "PM = data_pesection[(data_pesection['malicious'] == True) & (data_pesection['packed'] == True)].shape[0]\n",
    "PB = data_pesection[(data_pesection['malicious'] == False) & (data_pesection['packed'] == True)].shape[0]\n",
    "print('Packed Malware: %i samples' % PM)\n",
    "print('Packed Benign: %i samples' % PB)\n",
    "print('Total TRAIN set: %i samples'% (PM+PB))\n",
    "\n",
    "#Xử lý tập train\n",
    "y = data_pesection['malicious'].values\n",
    "data_pesection = data_pesection.drop(['malicious','packed'], axis=1)\n",
    "\n",
    "PM = df_3000_pesection[(df_3000_pesection['malicious'] == True) & (df_3000_pesection['packed'] == True)].shape[0]\n",
    "PB = df_3000_pesection[(df_3000_pesection['malicious'] == False) & (df_3000_pesection['packed'] == True)].shape[0]\n",
    "\n",
    "df_3000_PM_pesection = df_3000_pesection[(df_3000_pesection['malicious'] == True) & (df_3000_pesection['packed'] == True)].sample(n=(PM-PB), random_state=102)\n",
    "df_3000_pesection = df_3000_pesection.drop(df_3000_PM_pesection.index)\n",
    "\n",
    "PM = df_3000_pesection[(df_3000_pesection['malicious'] == True) & (df_3000_pesection['packed'] == True)].shape[0]\n",
    "PB = df_3000_pesection[(df_3000_pesection['malicious'] == False) & (df_3000_pesection['packed'] == True)].shape[0]\n",
    "\n",
    "print('Packed Malware: %i samples' % PM)\n",
    "print('Packed Benign: %i samples' % PB)\n",
    "print('Total TEST set: %i samples'% (PM+PB))"
   ]
  },
  {
   "cell_type": "code",
   "execution_count": 62,
   "id": "e4e5e0db",
   "metadata": {
    "execution": {
     "iopub.execute_input": "2024-01-23T12:11:41.276072Z",
     "iopub.status.busy": "2024-01-23T12:11:41.275600Z",
     "iopub.status.idle": "2024-01-23T12:11:41.321951Z",
     "shell.execute_reply": "2024-01-23T12:11:41.320673Z"
    },
    "papermill": {
     "duration": 0.07969,
     "end_time": "2024-01-23T12:11:41.324887",
     "exception": false,
     "start_time": "2024-01-23T12:11:41.245197",
     "status": "completed"
    },
    "tags": []
   },
   "outputs": [],
   "source": [
    "# model = SelectFromModel(fsel, prefit=True)\n",
    "\n",
    "X_train_pesection = data_pesection\n",
    "X_test_pesection = df_3000_pesection.drop(['malicious','packed'], axis=1)\n",
    "\n",
    "data_pesection = data_pesection.loc[:, (data_pesection != 0).any(axis=0)]\n",
    "x_train_pesection = data_pesection\n",
    "X_test_pesection = df_3000_pesection.drop(['malicious','packed'], axis=1)\n",
    "y_train_pesection = y\n",
    "y_test_pesection = df_3000_pesection['malicious'].values"
   ]
  },
  {
   "cell_type": "code",
   "execution_count": 63,
   "id": "ed1cb52d",
   "metadata": {
    "execution": {
     "iopub.execute_input": "2024-01-23T12:11:41.385776Z",
     "iopub.status.busy": "2024-01-23T12:11:41.385340Z",
     "iopub.status.idle": "2024-01-23T12:11:42.253594Z",
     "shell.execute_reply": "2024-01-23T12:11:42.252401Z"
    },
    "papermill": {
     "duration": 0.902006,
     "end_time": "2024-01-23T12:11:42.256157",
     "exception": false,
     "start_time": "2024-01-23T12:11:41.354151",
     "status": "completed"
    },
    "tags": []
   },
   "outputs": [
    {
     "name": "stdout",
     "output_type": "stream",
     "text": [
      "The accuracy of the Random Forests model is :\t 0.9220588235294118\n"
     ]
    }
   ],
   "source": [
    "# Random Forest\n",
    "from sklearn.ensemble import RandomForestClassifier\n",
    "from sklearn import metrics\n",
    "\n",
    "random_forest = RandomForestClassifier(n_estimators=100, random_state=17)\n",
    "random_forest.fit(X_train_pesection, y_train_pesection)\n",
    "random_forest_preds = random_forest.predict(X_test_pesection)\n",
    "print('The accuracy of the Random Forests model is :\\t',metrics.accuracy_score(random_forest_preds,y_test_pesection))"
   ]
  },
  {
   "cell_type": "markdown",
   "id": "1239b1db",
   "metadata": {
    "papermill": {
     "duration": 0.028907,
     "end_time": "2024-01-23T12:11:42.314687",
     "exception": false,
     "start_time": "2024-01-23T12:11:42.285780",
     "status": "completed"
    },
    "tags": []
   },
   "source": [
    "# **pe header features**"
   ]
  },
  {
   "cell_type": "code",
   "execution_count": 64,
   "id": "b900b895",
   "metadata": {
    "execution": {
     "iopub.execute_input": "2024-01-23T12:11:42.374994Z",
     "iopub.status.busy": "2024-01-23T12:11:42.374566Z",
     "iopub.status.idle": "2024-01-23T12:11:44.082926Z",
     "shell.execute_reply": "2024-01-23T12:11:44.081705Z"
    },
    "papermill": {
     "duration": 1.742225,
     "end_time": "2024-01-23T12:11:44.085815",
     "exception": false,
     "start_time": "2024-01-23T12:11:42.343590",
     "status": "completed"
    },
    "tags": []
   },
   "outputs": [],
   "source": [
    "pelock = pd.read_pickle('/kaggle/input/packer-balance-pickle/pelock_balance.pickle')\n",
    "pelock = pelock.drop(['sample_sha1','benign','unpacked_sample_sha1','unpacked_sample_id'], axis=1)\n",
    "pelock = pelock.drop(['benign_vt','malicious_vt'], axis=1)\n",
    "string_columns = pelock.select_dtypes(include=['object']).columns\n",
    "pelock = pelock.drop(string_columns, axis=1)"
   ]
  },
  {
   "cell_type": "code",
   "execution_count": 65,
   "id": "89207349",
   "metadata": {
    "execution": {
     "iopub.execute_input": "2024-01-23T12:11:44.146621Z",
     "iopub.status.busy": "2024-01-23T12:11:44.145817Z",
     "iopub.status.idle": "2024-01-23T12:11:45.444795Z",
     "shell.execute_reply": "2024-01-23T12:11:45.443622Z"
    },
    "papermill": {
     "duration": 1.332151,
     "end_time": "2024-01-23T12:11:45.447193",
     "exception": false,
     "start_time": "2024-01-23T12:11:44.115042",
     "status": "completed"
    },
    "tags": []
   },
   "outputs": [
    {
     "name": "stdout",
     "output_type": "stream",
     "text": [
      "removing 13000 features\n",
      "removing 2500 features\n",
      "removing 2 features\n",
      "removing 16900 features\n",
      "removing 66 features\n",
      "removing 19169 features\n",
      "removing 4306 features\n",
      "removing 550 features\n"
     ]
    }
   ],
   "source": [
    "header = remove_cols(pelock, [c for c in cols if c.startswith('ngram_')])\n",
    "header = remove_cols(pelock, [c for c in cols if c.startswith('opcode_')])\n",
    "header = remove_cols(pelock, [c for c in cols if c.startswith('generic_')])\n",
    "header = remove_cols(pelock, [c for c in cols if c.startswith('string_')])\n",
    "header = remove_cols(pelock, [c for c in cols if c.startswith('rich_')])\n",
    "header = remove_cols(pelock, [c for c in cols if c.startswith('imp_') or 'api_import_nb' == c])\n",
    "header = remove_cols(pelock, [c for c in cols if c.endswith('.dll') or 'dll_import_nb' == c])\n",
    "header = remove_cols(pelock, [c for c in cols if c.startswith('pesection')])\n",
    "# header = remove_cols(pelock, [c for c in cols if c.startswith('header_')])"
   ]
  },
  {
   "cell_type": "code",
   "execution_count": 66,
   "id": "d86663f1",
   "metadata": {
    "execution": {
     "iopub.execute_input": "2024-01-23T12:11:45.509101Z",
     "iopub.status.busy": "2024-01-23T12:11:45.508696Z",
     "iopub.status.idle": "2024-01-23T12:11:45.521771Z",
     "shell.execute_reply": "2024-01-23T12:11:45.520852Z"
    },
    "papermill": {
     "duration": 0.046655,
     "end_time": "2024-01-23T12:11:45.524209",
     "exception": false,
     "start_time": "2024-01-23T12:11:45.477554",
     "status": "completed"
    },
    "tags": []
   },
   "outputs": [],
   "source": [
    "df_7000_header = header.sample(n=7000, random_state=102)\n",
    "df_3000_header = header.drop(df_7000.index)\n",
    "data_header = df_7000_header.sample(n=3500, random_state=102)"
   ]
  },
  {
   "cell_type": "code",
   "execution_count": 67,
   "id": "04d2b9ff",
   "metadata": {
    "execution": {
     "iopub.execute_input": "2024-01-23T12:11:45.586161Z",
     "iopub.status.busy": "2024-01-23T12:11:45.585558Z",
     "iopub.status.idle": "2024-01-23T12:11:45.626702Z",
     "shell.execute_reply": "2024-01-23T12:11:45.625415Z"
    },
    "papermill": {
     "duration": 0.074828,
     "end_time": "2024-01-23T12:11:45.629098",
     "exception": false,
     "start_time": "2024-01-23T12:11:45.554270",
     "status": "completed"
    },
    "tags": []
   },
   "outputs": [
    {
     "name": "stdout",
     "output_type": "stream",
     "text": [
      "Packed Malware: 1960 samples\n",
      "Packed Benign: 1540 samples\n",
      "Total TRAIN set: 3500 samples\n",
      "Packed Malware: 1540 samples\n",
      "Packed Benign: 1540 samples\n",
      "Total TRAIN set: 3080 samples\n",
      "Packed Malware: 1360 samples\n",
      "Packed Benign: 1360 samples\n",
      "Total TEST set: 2720 samples\n"
     ]
    }
   ],
   "source": [
    "#Kiểm tra số lượng mẫu\n",
    "PM = data_header[(data_header['malicious'] == True) & (data_header['packed'] == True)].shape[0]\n",
    "PB = data_header[(data_header['malicious'] == False) & (data_header['packed'] == True)].shape[0]\n",
    "print('Packed Malware: %i samples' % PM)\n",
    "print('Packed Benign: %i samples' % PB)\n",
    "print('Total TRAIN set: %i samples'% (PM+PB))\n",
    "\n",
    "#Chia tỉ lệ 50 - 50\n",
    "data_PM_header = data_header[(data_header['malicious'] == True) & (data_header['packed'] == True)].sample(n=(PM-PB), random_state=102)\n",
    "data_header = data_header.drop(data_PM_header.index)\n",
    "      \n",
    "#Số lượng tập train\n",
    "PM = data_header[(data_header['malicious'] == True) & (data_header['packed'] == True)].shape[0]\n",
    "PB = data_header[(data_header['malicious'] == False) & (data_header['packed'] == True)].shape[0]\n",
    "print('Packed Malware: %i samples' % PM)\n",
    "print('Packed Benign: %i samples' % PB)\n",
    "print('Total TRAIN set: %i samples'% (PM+PB))\n",
    "\n",
    "#Xử lý tập train\n",
    "y = data_header['malicious'].values\n",
    "data_header= data_header.drop(['malicious','packed'], axis=1)\n",
    "\n",
    "PM = df_3000_header[(df_3000_header['malicious'] == True) & (df_3000_header['packed'] == True)].shape[0]\n",
    "PB = df_3000_header[(df_3000_header['malicious'] == False) & (df_3000_header['packed'] == True)].shape[0]\n",
    "\n",
    "df_3000_PM_header = df_3000_header[(df_3000_header['malicious'] == True) & (df_3000_header['packed'] == True)].sample(n=(PM-PB), random_state=102)\n",
    "df_3000_header= df_3000_header.drop(df_3000_PM_header.index)\n",
    "\n",
    "PM = df_3000_header[(df_3000_header['malicious'] == True) & (df_3000_header['packed'] == True)].shape[0]\n",
    "PB = df_3000_header[(df_3000_header['malicious'] == False) & (df_3000_header['packed'] == True)].shape[0]\n",
    "\n",
    "print('Packed Malware: %i samples' % PM)\n",
    "print('Packed Benign: %i samples' % PB)\n",
    "print('Total TEST set: %i samples'% (PM+PB))"
   ]
  },
  {
   "cell_type": "code",
   "execution_count": 68,
   "id": "aada8362",
   "metadata": {
    "execution": {
     "iopub.execute_input": "2024-01-23T12:11:45.691772Z",
     "iopub.status.busy": "2024-01-23T12:11:45.691313Z",
     "iopub.status.idle": "2024-01-23T12:11:45.704366Z",
     "shell.execute_reply": "2024-01-23T12:11:45.703543Z"
    },
    "papermill": {
     "duration": 0.047265,
     "end_time": "2024-01-23T12:11:45.706479",
     "exception": false,
     "start_time": "2024-01-23T12:11:45.659214",
     "status": "completed"
    },
    "tags": []
   },
   "outputs": [],
   "source": [
    "# model = SelectFromModel(fsel, prefit=True)\n",
    "\n",
    "X_train_header = data_header\n",
    "X_test_header = df_3000_header.drop(['malicious','packed'], axis=1)\n",
    "\n",
    "data_header = data_header.loc[:, (data_header != 0).any(axis=0)]\n",
    "x_train_header = data_header\n",
    "X_test_header = df_3000_header.drop(['malicious','packed'], axis=1)\n",
    "y_train_header = y\n",
    "y_test_header = df_3000_header['malicious'].values"
   ]
  },
  {
   "cell_type": "code",
   "execution_count": 69,
   "id": "0eb134df",
   "metadata": {
    "execution": {
     "iopub.execute_input": "2024-01-23T12:11:45.769805Z",
     "iopub.status.busy": "2024-01-23T12:11:45.769052Z",
     "iopub.status.idle": "2024-01-23T12:11:46.295085Z",
     "shell.execute_reply": "2024-01-23T12:11:46.293743Z"
    },
    "papermill": {
     "duration": 0.561507,
     "end_time": "2024-01-23T12:11:46.298609",
     "exception": false,
     "start_time": "2024-01-23T12:11:45.737102",
     "status": "completed"
    },
    "tags": []
   },
   "outputs": [
    {
     "name": "stdout",
     "output_type": "stream",
     "text": [
      "The accuracy of the Random Forests model is :\t 0.9419117647058823\n"
     ]
    }
   ],
   "source": [
    "# Random Forest\n",
    "from sklearn.ensemble import RandomForestClassifier\n",
    "from sklearn import metrics\n",
    "\n",
    "random_forest = RandomForestClassifier(n_estimators=100, random_state=17)\n",
    "random_forest.fit(X_train_header, y_train_header)\n",
    "random_forest_preds = random_forest.predict(X_test_header)\n",
    "print('The accuracy of the Random Forests model is :\\t',metrics.accuracy_score(random_forest_preds,y_test_header))"
   ]
  }
 ],
 "metadata": {
  "kaggle": {
   "accelerator": "none",
   "dataSources": [
    {
     "datasetId": 4192384,
     "sourceId": 7262652,
     "sourceType": "datasetVersion"
    }
   ],
   "dockerImageVersionId": 30626,
   "isGpuEnabled": false,
   "isInternetEnabled": true,
   "language": "python",
   "sourceType": "notebook"
  },
  "kernelspec": {
   "display_name": "Python 3",
   "language": "python",
   "name": "python3"
  },
  "language_info": {
   "codemirror_mode": {
    "name": "ipython",
    "version": 3
   },
   "file_extension": ".py",
   "mimetype": "text/x-python",
   "name": "python",
   "nbconvert_exporter": "python",
   "pygments_lexer": "ipython3",
   "version": "3.10.12"
  },
  "papermill": {
   "default_parameters": {},
   "duration": 94.982493,
   "end_time": "2024-01-23T12:11:47.053417",
   "environment_variables": {},
   "exception": null,
   "input_path": "__notebook__.ipynb",
   "output_path": "__notebook__.ipynb",
   "parameters": {},
   "start_time": "2024-01-23T12:10:12.070924",
   "version": "2.4.0"
  }
 },
 "nbformat": 4,
 "nbformat_minor": 5
}
