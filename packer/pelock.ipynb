{
 "cells": [
  {
   "cell_type": "code",
   "execution_count": 1,
   "id": "317196a7",
   "metadata": {
    "execution": {
     "iopub.execute_input": "2023-12-27T01:17:31.125256Z",
     "iopub.status.busy": "2023-12-27T01:17:31.124525Z",
     "iopub.status.idle": "2023-12-27T01:17:33.031859Z",
     "shell.execute_reply": "2023-12-27T01:17:33.030876Z"
    },
    "papermill": {
     "duration": 1.927952,
     "end_time": "2023-12-27T01:17:33.034173",
     "exception": false,
     "start_time": "2023-12-27T01:17:31.106221",
     "status": "completed"
    },
    "tags": []
   },
   "outputs": [],
   "source": [
    "import pandas as pd\n",
    "import numpy as np\n",
    "import sklearn\n",
    "import sklearn.naive_bayes\n",
    "import sklearn.ensemble as ske\n",
    "import sklearn.neighbors\n",
    "import sklearn.pipeline\n",
    "import sklearn.linear_model\n",
    "import joblib\n",
    "from sklearn import preprocessing\n",
    "from sklearn import tree, linear_model\n",
    "from sklearn.metrics import confusion_matrix\n",
    "from sklearn.metrics import classification_report\n",
    "from sklearn.feature_selection import SelectFromModel\n",
    "import sys\n",
    "import sqlite3\n",
    "import importlib\n",
    "import matplotlib.pyplot as plt\n",
    "import seaborn as sn\n",
    "from sklearn import metrics"
   ]
  },
  {
   "cell_type": "code",
   "execution_count": 2,
   "id": "63806e7a",
   "metadata": {
    "execution": {
     "iopub.execute_input": "2023-12-27T01:17:33.064140Z",
     "iopub.status.busy": "2023-12-27T01:17:33.063106Z",
     "iopub.status.idle": "2023-12-27T01:17:40.648348Z",
     "shell.execute_reply": "2023-12-27T01:17:40.647003Z"
    },
    "papermill": {
     "duration": 7.602028,
     "end_time": "2023-12-27T01:17:40.650579",
     "exception": false,
     "start_time": "2023-12-27T01:17:33.048551",
     "status": "completed"
    },
    "tags": []
   },
   "outputs": [],
   "source": [
    "pelock = pd.read_pickle('/kaggle/input/packer-balance-pickle/pelock_balance.pickle')"
   ]
  },
  {
   "cell_type": "code",
   "execution_count": 3,
   "id": "42ae5bef",
   "metadata": {
    "execution": {
     "iopub.execute_input": "2023-12-27T01:17:40.681635Z",
     "iopub.status.busy": "2023-12-27T01:17:40.681140Z",
     "iopub.status.idle": "2023-12-27T01:17:41.132705Z",
     "shell.execute_reply": "2023-12-27T01:17:41.131629Z"
    },
    "papermill": {
     "duration": 0.470337,
     "end_time": "2023-12-27T01:17:41.134913",
     "exception": false,
     "start_time": "2023-12-27T01:17:40.664576",
     "status": "completed"
    },
    "tags": []
   },
   "outputs": [],
   "source": [
    "pelock = pelock.drop(['sample_sha1','benign','unpacked_sample_sha1','unpacked_sample_id'], axis=1)\n",
    "pelock = pelock.drop(['benign_vt','malicious_vt'], axis=1)"
   ]
  },
  {
   "cell_type": "code",
   "execution_count": 4,
   "id": "cd2a4265",
   "metadata": {
    "execution": {
     "iopub.execute_input": "2023-12-27T01:17:41.166555Z",
     "iopub.status.busy": "2023-12-27T01:17:41.166207Z",
     "iopub.status.idle": "2023-12-27T01:17:41.338983Z",
     "shell.execute_reply": "2023-12-27T01:17:41.337772Z"
    },
    "papermill": {
     "duration": 0.191617,
     "end_time": "2023-12-27T01:17:41.341138",
     "exception": false,
     "start_time": "2023-12-27T01:17:41.149521",
     "status": "completed"
    },
    "tags": []
   },
   "outputs": [],
   "source": [
    "string_columns = pelock.select_dtypes(include=['object']).columns\n",
    "pelock = pelock.drop(string_columns, axis=1)"
   ]
  },
  {
   "cell_type": "code",
   "execution_count": 5,
   "id": "12cc7197",
   "metadata": {
    "execution": {
     "iopub.execute_input": "2023-12-27T01:17:41.371603Z",
     "iopub.status.busy": "2023-12-27T01:17:41.371257Z",
     "iopub.status.idle": "2023-12-27T01:17:41.408541Z",
     "shell.execute_reply": "2023-12-27T01:17:41.407281Z"
    },
    "papermill": {
     "duration": 0.055686,
     "end_time": "2023-12-27T01:17:41.411057",
     "exception": false,
     "start_time": "2023-12-27T01:17:41.355371",
     "status": "completed"
    },
    "tags": []
   },
   "outputs": [
    {
     "data": {
      "text/html": [
       "<div>\n",
       "<style scoped>\n",
       "    .dataframe tbody tr th:only-of-type {\n",
       "        vertical-align: middle;\n",
       "    }\n",
       "\n",
       "    .dataframe tbody tr th {\n",
       "        vertical-align: top;\n",
       "    }\n",
       "\n",
       "    .dataframe thead th {\n",
       "        text-align: right;\n",
       "    }\n",
       "</style>\n",
       "<table border=\"1\" class=\"dataframe\">\n",
       "  <thead>\n",
       "    <tr style=\"text-align: right;\">\n",
       "      <th></th>\n",
       "      <th>malicious</th>\n",
       "      <th>packed</th>\n",
       "      <th>imp_setupremovefilelogentrya</th>\n",
       "      <th>imp_vardeccmp</th>\n",
       "      <th>imp_setdlgitemint</th>\n",
       "      <th>imp_?append@?$basic_string@du?$char_traits@d@std@@v?$allocator@d@2@@std@@qaeaav12@abv12@ii@z</th>\n",
       "      <th>imp_zwwritefile</th>\n",
       "      <th>imp_glstencilop</th>\n",
       "      <th>imp_comparelinkinforeferents</th>\n",
       "      <th>imp__setmbcp</th>\n",
       "      <th>...</th>\n",
       "      <th>opcode_xor sub mov</th>\n",
       "      <th>opcode_xor sub mov add</th>\n",
       "      <th>opcode_xor test</th>\n",
       "      <th>opcode_xor test je</th>\n",
       "      <th>opcode_xor xor</th>\n",
       "      <th>opcode_xor xor mov</th>\n",
       "      <th>opcode_xor xor pop</th>\n",
       "      <th>opcode_xor xor pop mov</th>\n",
       "      <th>opcode_xor xor xor</th>\n",
       "      <th>opcode_xor xor xor pop</th>\n",
       "    </tr>\n",
       "  </thead>\n",
       "  <tbody>\n",
       "    <tr>\n",
       "      <th>0</th>\n",
       "      <td>True</td>\n",
       "      <td>True</td>\n",
       "      <td>False</td>\n",
       "      <td>False</td>\n",
       "      <td>False</td>\n",
       "      <td>False</td>\n",
       "      <td>False</td>\n",
       "      <td>False</td>\n",
       "      <td>False</td>\n",
       "      <td>False</td>\n",
       "      <td>...</td>\n",
       "      <td>0.0</td>\n",
       "      <td>0.0</td>\n",
       "      <td>0.0</td>\n",
       "      <td>0.0</td>\n",
       "      <td>0.0</td>\n",
       "      <td>0.0</td>\n",
       "      <td>0.0</td>\n",
       "      <td>0.0</td>\n",
       "      <td>0.0</td>\n",
       "      <td>0.0</td>\n",
       "    </tr>\n",
       "    <tr>\n",
       "      <th>3</th>\n",
       "      <td>True</td>\n",
       "      <td>True</td>\n",
       "      <td>False</td>\n",
       "      <td>False</td>\n",
       "      <td>False</td>\n",
       "      <td>False</td>\n",
       "      <td>False</td>\n",
       "      <td>False</td>\n",
       "      <td>False</td>\n",
       "      <td>False</td>\n",
       "      <td>...</td>\n",
       "      <td>0.0</td>\n",
       "      <td>0.0</td>\n",
       "      <td>0.0</td>\n",
       "      <td>0.0</td>\n",
       "      <td>0.0</td>\n",
       "      <td>0.0</td>\n",
       "      <td>0.0</td>\n",
       "      <td>0.0</td>\n",
       "      <td>0.0</td>\n",
       "      <td>0.0</td>\n",
       "    </tr>\n",
       "    <tr>\n",
       "      <th>5</th>\n",
       "      <td>True</td>\n",
       "      <td>True</td>\n",
       "      <td>False</td>\n",
       "      <td>False</td>\n",
       "      <td>False</td>\n",
       "      <td>False</td>\n",
       "      <td>False</td>\n",
       "      <td>False</td>\n",
       "      <td>False</td>\n",
       "      <td>False</td>\n",
       "      <td>...</td>\n",
       "      <td>0.0</td>\n",
       "      <td>0.0</td>\n",
       "      <td>0.0</td>\n",
       "      <td>0.0</td>\n",
       "      <td>0.0</td>\n",
       "      <td>0.0</td>\n",
       "      <td>0.0</td>\n",
       "      <td>0.0</td>\n",
       "      <td>0.0</td>\n",
       "      <td>0.0</td>\n",
       "    </tr>\n",
       "    <tr>\n",
       "      <th>6</th>\n",
       "      <td>False</td>\n",
       "      <td>True</td>\n",
       "      <td>False</td>\n",
       "      <td>False</td>\n",
       "      <td>False</td>\n",
       "      <td>False</td>\n",
       "      <td>False</td>\n",
       "      <td>False</td>\n",
       "      <td>False</td>\n",
       "      <td>False</td>\n",
       "      <td>...</td>\n",
       "      <td>0.0</td>\n",
       "      <td>0.0</td>\n",
       "      <td>0.0</td>\n",
       "      <td>0.0</td>\n",
       "      <td>0.0</td>\n",
       "      <td>0.0</td>\n",
       "      <td>0.0</td>\n",
       "      <td>0.0</td>\n",
       "      <td>0.0</td>\n",
       "      <td>0.0</td>\n",
       "    </tr>\n",
       "    <tr>\n",
       "      <th>8</th>\n",
       "      <td>True</td>\n",
       "      <td>True</td>\n",
       "      <td>False</td>\n",
       "      <td>False</td>\n",
       "      <td>False</td>\n",
       "      <td>False</td>\n",
       "      <td>False</td>\n",
       "      <td>False</td>\n",
       "      <td>False</td>\n",
       "      <td>False</td>\n",
       "      <td>...</td>\n",
       "      <td>0.0</td>\n",
       "      <td>0.0</td>\n",
       "      <td>0.0</td>\n",
       "      <td>0.0</td>\n",
       "      <td>0.0</td>\n",
       "      <td>0.0</td>\n",
       "      <td>0.0</td>\n",
       "      <td>0.0</td>\n",
       "      <td>0.0</td>\n",
       "      <td>0.0</td>\n",
       "    </tr>\n",
       "  </tbody>\n",
       "</table>\n",
       "<p>5 rows × 56526 columns</p>\n",
       "</div>"
      ],
      "text/plain": [
       "   malicious  packed  imp_setupremovefilelogentrya  imp_vardeccmp  \\\n",
       "0       True    True                         False          False   \n",
       "3       True    True                         False          False   \n",
       "5       True    True                         False          False   \n",
       "6      False    True                         False          False   \n",
       "8       True    True                         False          False   \n",
       "\n",
       "   imp_setdlgitemint  \\\n",
       "0              False   \n",
       "3              False   \n",
       "5              False   \n",
       "6              False   \n",
       "8              False   \n",
       "\n",
       "   imp_?append@?$basic_string@du?$char_traits@d@std@@v?$allocator@d@2@@std@@qaeaav12@abv12@ii@z  \\\n",
       "0                                              False                                              \n",
       "3                                              False                                              \n",
       "5                                              False                                              \n",
       "6                                              False                                              \n",
       "8                                              False                                              \n",
       "\n",
       "   imp_zwwritefile  imp_glstencilop  imp_comparelinkinforeferents  \\\n",
       "0            False            False                         False   \n",
       "3            False            False                         False   \n",
       "5            False            False                         False   \n",
       "6            False            False                         False   \n",
       "8            False            False                         False   \n",
       "\n",
       "   imp__setmbcp  ...  opcode_xor sub mov  opcode_xor sub mov add  \\\n",
       "0         False  ...                 0.0                     0.0   \n",
       "3         False  ...                 0.0                     0.0   \n",
       "5         False  ...                 0.0                     0.0   \n",
       "6         False  ...                 0.0                     0.0   \n",
       "8         False  ...                 0.0                     0.0   \n",
       "\n",
       "   opcode_xor test  opcode_xor test je  opcode_xor xor  opcode_xor xor mov  \\\n",
       "0              0.0                 0.0             0.0                 0.0   \n",
       "3              0.0                 0.0             0.0                 0.0   \n",
       "5              0.0                 0.0             0.0                 0.0   \n",
       "6              0.0                 0.0             0.0                 0.0   \n",
       "8              0.0                 0.0             0.0                 0.0   \n",
       "\n",
       "   opcode_xor xor pop  opcode_xor xor pop mov  opcode_xor xor xor  \\\n",
       "0                 0.0                     0.0                 0.0   \n",
       "3                 0.0                     0.0                 0.0   \n",
       "5                 0.0                     0.0                 0.0   \n",
       "6                 0.0                     0.0                 0.0   \n",
       "8                 0.0                     0.0                 0.0   \n",
       "\n",
       "   opcode_xor xor xor pop  \n",
       "0                     0.0  \n",
       "3                     0.0  \n",
       "5                     0.0  \n",
       "6                     0.0  \n",
       "8                     0.0  \n",
       "\n",
       "[5 rows x 56526 columns]"
      ]
     },
     "execution_count": 5,
     "metadata": {},
     "output_type": "execute_result"
    }
   ],
   "source": [
    "pelock.head()"
   ]
  },
  {
   "cell_type": "code",
   "execution_count": 6,
   "id": "38d5d36b",
   "metadata": {
    "execution": {
     "iopub.execute_input": "2023-12-27T01:17:41.440871Z",
     "iopub.status.busy": "2023-12-27T01:17:41.440494Z",
     "iopub.status.idle": "2023-12-27T01:17:42.125265Z",
     "shell.execute_reply": "2023-12-27T01:17:42.124247Z"
    },
    "papermill": {
     "duration": 0.702175,
     "end_time": "2023-12-27T01:17:42.127595",
     "exception": false,
     "start_time": "2023-12-27T01:17:41.425420",
     "status": "completed"
    },
    "tags": []
   },
   "outputs": [],
   "source": [
    "df_7000 = pelock.sample(n=7000, random_state=102)\n",
    "df_3000 = pelock.drop(df_7000.index)"
   ]
  },
  {
   "cell_type": "code",
   "execution_count": 7,
   "id": "ac99e937",
   "metadata": {
    "execution": {
     "iopub.execute_input": "2023-12-27T01:17:42.158336Z",
     "iopub.status.busy": "2023-12-27T01:17:42.157319Z",
     "iopub.status.idle": "2023-12-27T01:17:42.460563Z",
     "shell.execute_reply": "2023-12-27T01:17:42.459448Z"
    },
    "papermill": {
     "duration": 0.320452,
     "end_time": "2023-12-27T01:17:42.462910",
     "exception": false,
     "start_time": "2023-12-27T01:17:42.142458",
     "status": "completed"
    },
    "tags": []
   },
   "outputs": [],
   "source": [
    "data = df_7000.sample(n=3500, random_state=102)"
   ]
  },
  {
   "cell_type": "code",
   "execution_count": 8,
   "id": "47887deb",
   "metadata": {
    "execution": {
     "iopub.execute_input": "2023-12-27T01:17:42.493539Z",
     "iopub.status.busy": "2023-12-27T01:17:42.493202Z",
     "iopub.status.idle": "2023-12-27T01:17:42.736030Z",
     "shell.execute_reply": "2023-12-27T01:17:42.734551Z"
    },
    "papermill": {
     "duration": 0.260573,
     "end_time": "2023-12-27T01:17:42.737818",
     "exception": false,
     "start_time": "2023-12-27T01:17:42.477245",
     "status": "completed"
    },
    "tags": []
   },
   "outputs": [
    {
     "name": "stdout",
     "output_type": "stream",
     "text": [
      "Packed Malware: 1960 samples\n",
      "Packed Benign: 1540 samples\n",
      "Total TRAIN set: 3500 samples\n"
     ]
    }
   ],
   "source": [
    "#Kiểm tra số lượng mẫu\n",
    "PM = data[(data['malicious'] == True) & (data['packed'] == True)].shape[0]\n",
    "PB = data[(data['malicious'] == False) & (data['packed'] == True)].shape[0]\n",
    "print('Packed Malware: %i samples' % PM)\n",
    "print('Packed Benign: %i samples' % PB)\n",
    "print('Total TRAIN set: %i samples'% (PM+PB))"
   ]
  },
  {
   "cell_type": "code",
   "execution_count": 9,
   "id": "5274368b",
   "metadata": {
    "execution": {
     "iopub.execute_input": "2023-12-27T01:17:42.812784Z",
     "iopub.status.busy": "2023-12-27T01:17:42.812436Z",
     "iopub.status.idle": "2023-12-27T01:17:43.159558Z",
     "shell.execute_reply": "2023-12-27T01:17:43.158395Z"
    },
    "papermill": {
     "duration": 0.410693,
     "end_time": "2023-12-27T01:17:43.162818",
     "exception": false,
     "start_time": "2023-12-27T01:17:42.752125",
     "status": "completed"
    },
    "tags": []
   },
   "outputs": [],
   "source": [
    "#Chia tỉ lệ 50 - 50\n",
    "data_PM = data[(data['malicious'] == True) & (data['packed'] == True)].sample(n=(PM-PB), random_state=102)\n",
    "data = data.drop(data_PM.index)"
   ]
  },
  {
   "cell_type": "code",
   "execution_count": 10,
   "id": "816d5690",
   "metadata": {
    "execution": {
     "iopub.execute_input": "2023-12-27T01:17:43.195764Z",
     "iopub.status.busy": "2023-12-27T01:17:43.195395Z",
     "iopub.status.idle": "2023-12-27T01:17:43.376709Z",
     "shell.execute_reply": "2023-12-27T01:17:43.375427Z"
    },
    "papermill": {
     "duration": 0.201112,
     "end_time": "2023-12-27T01:17:43.378712",
     "exception": false,
     "start_time": "2023-12-27T01:17:43.177600",
     "status": "completed"
    },
    "tags": []
   },
   "outputs": [
    {
     "name": "stdout",
     "output_type": "stream",
     "text": [
      "Packed Malware: 1540 samples\n",
      "Packed Benign: 1540 samples\n",
      "Total TRAIN set: 3080 samples\n"
     ]
    }
   ],
   "source": [
    "#Số lượng tập train\n",
    "PM = data[(data['malicious'] == True) & (data['packed'] == True)].shape[0]\n",
    "PB = data[(data['malicious'] == False) & (data['packed'] == True)].shape[0]\n",
    "print('Packed Malware: %i samples' % PM)\n",
    "print('Packed Benign: %i samples' % PB)\n",
    "print('Total TRAIN set: %i samples'% (PM+PB))"
   ]
  },
  {
   "cell_type": "code",
   "execution_count": 11,
   "id": "5ad837c8",
   "metadata": {
    "execution": {
     "iopub.execute_input": "2023-12-27T01:17:43.409471Z",
     "iopub.status.busy": "2023-12-27T01:17:43.409150Z",
     "iopub.status.idle": "2023-12-27T01:17:43.475239Z",
     "shell.execute_reply": "2023-12-27T01:17:43.474086Z"
    },
    "papermill": {
     "duration": 0.0841,
     "end_time": "2023-12-27T01:17:43.477493",
     "exception": false,
     "start_time": "2023-12-27T01:17:43.393393",
     "status": "completed"
    },
    "tags": []
   },
   "outputs": [],
   "source": [
    "#Xử lý tập train\n",
    "y = data['malicious'].values\n",
    "data = data.drop(['malicious','packed'], axis=1)"
   ]
  },
  {
   "cell_type": "code",
   "execution_count": 12,
   "id": "75bef855",
   "metadata": {
    "execution": {
     "iopub.execute_input": "2023-12-27T01:17:43.507746Z",
     "iopub.status.busy": "2023-12-27T01:17:43.507385Z",
     "iopub.status.idle": "2023-12-27T01:17:44.107207Z",
     "shell.execute_reply": "2023-12-27T01:17:44.105829Z"
    },
    "papermill": {
     "duration": 0.617179,
     "end_time": "2023-12-27T01:17:44.109114",
     "exception": false,
     "start_time": "2023-12-27T01:17:43.491935",
     "status": "completed"
    },
    "tags": []
   },
   "outputs": [
    {
     "name": "stdout",
     "output_type": "stream",
     "text": [
      "Packed Malware: 1360 samples\n",
      "Packed Benign: 1360 samples\n",
      "Total TEST set: 2720 samples\n"
     ]
    }
   ],
   "source": [
    "PM = df_3000[(df_3000['malicious'] == True) & (df_3000['packed'] == True)].shape[0]\n",
    "PB = df_3000[(df_3000['malicious'] == False) & (df_3000['packed'] == True)].shape[0]\n",
    "\n",
    "df_3000_PM = df_3000[(df_3000['malicious'] == True) & (df_3000['packed'] == True)].sample(n=(PM-PB), random_state=102)\n",
    "df_3000 = df_3000.drop(df_3000_PM.index)\n",
    "\n",
    "PM = df_3000[(df_3000['malicious'] == True) & (df_3000['packed'] == True)].shape[0]\n",
    "PB = df_3000[(df_3000['malicious'] == False) & (df_3000['packed'] == True)].shape[0]\n",
    "\n",
    "print('Packed Malware: %i samples' % PM)\n",
    "print('Packed Benign: %i samples' % PB)\n",
    "print('Total TEST set: %i samples'% (PM+PB))"
   ]
  },
  {
   "cell_type": "code",
   "execution_count": 13,
   "id": "c487f63e",
   "metadata": {
    "execution": {
     "iopub.execute_input": "2023-12-27T01:17:44.139535Z",
     "iopub.status.busy": "2023-12-27T01:17:44.139170Z",
     "iopub.status.idle": "2023-12-27T01:17:44.453482Z",
     "shell.execute_reply": "2023-12-27T01:17:44.452050Z"
    },
    "papermill": {
     "duration": 0.332069,
     "end_time": "2023-12-27T01:17:44.455860",
     "exception": false,
     "start_time": "2023-12-27T01:17:44.123791",
     "status": "completed"
    },
    "tags": []
   },
   "outputs": [],
   "source": [
    "# model = SelectFromModel(fsel, prefit=True)\n",
    "\n",
    "X_train = data\n",
    "X_test = df_3000.drop(['malicious','packed'], axis=1)\n",
    "\n",
    "data = data.loc[:, (data != 0).any(axis=0)]\n",
    "x_train = data\n",
    "X_test = df_3000.drop(['malicious','packed'], axis=1)\n",
    "y_train = y\n",
    "y_test = df_3000['malicious'].values"
   ]
  },
  {
   "cell_type": "code",
   "execution_count": 14,
   "id": "df42ecd1",
   "metadata": {
    "execution": {
     "iopub.execute_input": "2023-12-27T01:17:44.486629Z",
     "iopub.status.busy": "2023-12-27T01:17:44.486272Z",
     "iopub.status.idle": "2023-12-27T01:17:49.518792Z",
     "shell.execute_reply": "2023-12-27T01:17:49.517921Z"
    },
    "papermill": {
     "duration": 5.050458,
     "end_time": "2023-12-27T01:17:49.520887",
     "exception": false,
     "start_time": "2023-12-27T01:17:44.470429",
     "status": "completed"
    },
    "tags": []
   },
   "outputs": [
    {
     "name": "stdout",
     "output_type": "stream",
     "text": [
      "The accuracy of the Random Forests model is :\t 0.9356617647058824\n"
     ]
    }
   ],
   "source": [
    "# Random Forest\n",
    "from sklearn.ensemble import RandomForestClassifier\n",
    "from sklearn import metrics\n",
    "\n",
    "random_forest = RandomForestClassifier(n_estimators=100, random_state=17)\n",
    "random_forest.fit(X_train, y_train)\n",
    "random_forest_preds = random_forest.predict(X_test)\n",
    "print('The accuracy of the Random Forests model is :\\t',metrics.accuracy_score(random_forest_preds,y_test))"
   ]
  },
  {
   "cell_type": "code",
   "execution_count": 15,
   "id": "8ebfac7c",
   "metadata": {
    "execution": {
     "iopub.execute_input": "2023-12-27T01:17:49.552294Z",
     "iopub.status.busy": "2023-12-27T01:17:49.550865Z",
     "iopub.status.idle": "2023-12-27T01:17:49.593305Z",
     "shell.execute_reply": "2023-12-27T01:17:49.592293Z"
    },
    "papermill": {
     "duration": 0.059809,
     "end_time": "2023-12-27T01:17:49.595347",
     "exception": false,
     "start_time": "2023-12-27T01:17:49.535538",
     "status": "completed"
    },
    "tags": []
   },
   "outputs": [
    {
     "data": {
      "text/plain": [
       "ngram_b'l\\x00 \\x00r\\x00'    0.015154\n",
       "ngram_b'\\x00r\\x00p\\x00o'    0.012363\n",
       "ngram_b'\\x00o\\x00n\\x00.'    0.009515\n",
       "ngram_b' \\x00U\\x00p\\x00'    0.009165\n",
       "ngram_b'C\\x00o\\x00r\\x00'    0.008049\n",
       "                              ...   \n",
       "sharedu.dll                 0.000000\n",
       "geometryu.dll               0.000000\n",
       "imagelibu.dll               0.000000\n",
       "imp_hb_fun_aadd             0.000000\n",
       "string_b'6!7(7E7l7'         0.000000\n",
       "Length: 56524, dtype: float64"
      ]
     },
     "execution_count": 15,
     "metadata": {},
     "output_type": "execute_result"
    }
   ],
   "source": [
    "feature_scores_rf = pd.Series(random_forest.feature_importances_, index=X_train.columns).sort_values(ascending=False)\n",
    "\n",
    "feature_scores_rf"
   ]
  },
  {
   "cell_type": "code",
   "execution_count": 16,
   "id": "564c9c37",
   "metadata": {
    "execution": {
     "iopub.execute_input": "2023-12-27T01:17:49.626162Z",
     "iopub.status.busy": "2023-12-27T01:17:49.625152Z",
     "iopub.status.idle": "2023-12-27T01:17:49.658344Z",
     "shell.execute_reply": "2023-12-27T01:17:49.657045Z"
    },
    "papermill": {
     "duration": 0.051397,
     "end_time": "2023-12-27T01:17:49.661213",
     "exception": false,
     "start_time": "2023-12-27T01:17:49.609816",
     "status": "completed"
    },
    "tags": []
   },
   "outputs": [],
   "source": [
    "top50 = pd.Series(random_forest.feature_importances_, index=X_train.columns).sort_values(ascending=False).head(50)"
   ]
  },
  {
   "cell_type": "code",
   "execution_count": 17,
   "id": "796db914",
   "metadata": {
    "execution": {
     "iopub.execute_input": "2023-12-27T01:17:49.695063Z",
     "iopub.status.busy": "2023-12-27T01:17:49.694495Z",
     "iopub.status.idle": "2023-12-27T01:17:49.699688Z",
     "shell.execute_reply": "2023-12-27T01:17:49.698596Z"
    },
    "papermill": {
     "duration": 0.024761,
     "end_time": "2023-12-27T01:17:49.701459",
     "exception": false,
     "start_time": "2023-12-27T01:17:49.676698",
     "status": "completed"
    },
    "tags": []
   },
   "outputs": [],
   "source": [
    "# Tạo DataFrame từ feature_scores_rf\n",
    "df_features = pd.DataFrame(top50, columns=['Score'])"
   ]
  },
  {
   "cell_type": "code",
   "execution_count": 18,
   "id": "8033f5ab",
   "metadata": {
    "execution": {
     "iopub.execute_input": "2023-12-27T01:17:49.735728Z",
     "iopub.status.busy": "2023-12-27T01:17:49.735094Z",
     "iopub.status.idle": "2023-12-27T01:17:49.747056Z",
     "shell.execute_reply": "2023-12-27T01:17:49.746247Z"
    },
    "papermill": {
     "duration": 0.031498,
     "end_time": "2023-12-27T01:17:49.749037",
     "exception": false,
     "start_time": "2023-12-27T01:17:49.717539",
     "status": "completed"
    },
    "tags": []
   },
   "outputs": [
    {
     "name": "stdout",
     "output_type": "stream",
     "text": [
      "'ngram': 49\n",
      "'opcode ngram': 0\n",
      "'generic': 0\n",
      "'strings': 0\n",
      "'rich header': 0\n",
      "'api import': 0\n",
      "'dll': 1\n",
      "'pe section': 0\n",
      "'pe header': 0\n"
     ]
    }
   ],
   "source": [
    "count_ngram = df_features[df_features.index.str.startswith('ngram_')].shape[0]\n",
    "count_opcode = df_features[df_features.index.str.startswith('opcode_')].shape[0]\n",
    "count_generic = df_features[df_features.index.str.startswith('generic_')].shape[0]\n",
    "count_string = df_features[df_features.index.str.startswith('string_')].shape[0]\n",
    "count_rich = df_features[df_features.index.str.startswith('rich_')].shape[0]\n",
    "# count_api = df_features[df_features.index.str.startswith('imp_') or 'api_import_nb' == c].shape[0]\n",
    "# count_dll = df_features[df_features.index.str.startswith('.dll') or 'dll_import_nb' == c].shape[0]\n",
    "count_api = df_features[df_features.index.str.startswith('imp_') | (df_features.index == 'api_import_nb')].shape[0]\n",
    "count_dll = df_features[df_features.index.str.endswith('.dll') | (df_features.index == 'dll_import_nb')].shape[0]\n",
    "count_section = df_features[df_features.index.str.startswith('pesection')].shape[0]\n",
    "count_header = df_features[df_features.index.str.startswith('header_')].shape[0]\n",
    "\n",
    "print(f\"'ngram': {count_ngram}\")\n",
    "print(f\"'opcode ngram': {count_opcode}\")\n",
    "print(f\"'generic': {count_generic}\")\n",
    "print(f\"'strings': {count_string}\")\n",
    "print(f\"'rich header': {count_rich}\")\n",
    "print(f\"'api import': {count_api}\")\n",
    "print(f\"'dll': {count_dll}\")\n",
    "print(f\"'pe section': {count_section}\")\n",
    "print(f\"'pe header': {count_header}\")"
   ]
  },
  {
   "cell_type": "code",
   "execution_count": 19,
   "id": "c42a8020",
   "metadata": {
    "execution": {
     "iopub.execute_input": "2023-12-27T01:17:49.782109Z",
     "iopub.status.busy": "2023-12-27T01:17:49.781659Z",
     "iopub.status.idle": "2023-12-27T01:17:49.790885Z",
     "shell.execute_reply": "2023-12-27T01:17:49.790017Z"
    },
    "papermill": {
     "duration": 0.027978,
     "end_time": "2023-12-27T01:17:49.793272",
     "exception": false,
     "start_time": "2023-12-27T01:17:49.765294",
     "status": "completed"
    },
    "tags": []
   },
   "outputs": [],
   "source": [
    "cols = list(pelock.columns)"
   ]
  },
  {
   "cell_type": "markdown",
   "id": "00368709",
   "metadata": {
    "papermill": {
     "duration": 0.014181,
     "end_time": "2023-12-27T01:17:49.822653",
     "exception": false,
     "start_time": "2023-12-27T01:17:49.808472",
     "status": "completed"
    },
    "tags": []
   },
   "source": [
    "# **ngram features**"
   ]
  },
  {
   "cell_type": "code",
   "execution_count": 20,
   "id": "f7151416",
   "metadata": {
    "execution": {
     "iopub.execute_input": "2023-12-27T01:17:49.854442Z",
     "iopub.status.busy": "2023-12-27T01:17:49.853316Z",
     "iopub.status.idle": "2023-12-27T01:17:50.805679Z",
     "shell.execute_reply": "2023-12-27T01:17:50.804035Z"
    },
    "papermill": {
     "duration": 0.970675,
     "end_time": "2023-12-27T01:17:50.808348",
     "exception": false,
     "start_time": "2023-12-27T01:17:49.837673",
     "status": "completed"
    },
    "tags": []
   },
   "outputs": [],
   "source": [
    "pelock = pd.read_pickle('/kaggle/input/packer-balance-pickle/pelock_balance.pickle')\n",
    "pelock = pelock.drop(['sample_sha1','benign','unpacked_sample_sha1','unpacked_sample_id'], axis=1)\n",
    "pelock = pelock.drop(['benign_vt','malicious_vt'], axis=1)\n",
    "string_columns = pelock.select_dtypes(include=['object']).columns\n",
    "pelock = pelock.drop(string_columns, axis=1)"
   ]
  },
  {
   "cell_type": "code",
   "execution_count": 21,
   "id": "2ec0a3e2",
   "metadata": {
    "execution": {
     "iopub.execute_input": "2023-12-27T01:17:50.840306Z",
     "iopub.status.busy": "2023-12-27T01:17:50.839906Z",
     "iopub.status.idle": "2023-12-27T01:17:50.845938Z",
     "shell.execute_reply": "2023-12-27T01:17:50.844207Z"
    },
    "papermill": {
     "duration": 0.024539,
     "end_time": "2023-12-27T01:17:50.848121",
     "exception": false,
     "start_time": "2023-12-27T01:17:50.823582",
     "status": "completed"
    },
    "tags": []
   },
   "outputs": [],
   "source": [
    "def remove_cols(df, ll):\n",
    "    print(\"removing {} features\".format(len(ll)))\n",
    "    df.drop(columns=ll, axis=1, inplace=True)\n",
    "    return df"
   ]
  },
  {
   "cell_type": "code",
   "execution_count": 22,
   "id": "841ac11c",
   "metadata": {
    "execution": {
     "iopub.execute_input": "2023-12-27T01:17:50.881771Z",
     "iopub.status.busy": "2023-12-27T01:17:50.881272Z",
     "iopub.status.idle": "2023-12-27T01:17:51.596135Z",
     "shell.execute_reply": "2023-12-27T01:17:51.594587Z"
    },
    "papermill": {
     "duration": 0.735183,
     "end_time": "2023-12-27T01:17:51.598793",
     "exception": false,
     "start_time": "2023-12-27T01:17:50.863610",
     "status": "completed"
    },
    "tags": []
   },
   "outputs": [
    {
     "name": "stdout",
     "output_type": "stream",
     "text": [
      "removing 2500 features\n",
      "removing 2 features\n",
      "removing 16900 features\n",
      "removing 66 features\n",
      "removing 19169 features\n",
      "removing 4306 features\n",
      "removing 550 features\n",
      "removing 29 features\n"
     ]
    }
   ],
   "source": [
    "# ngram = remove_cols(df, [c for c in cols if c.startswith('ngram_')])\n",
    "ngram = remove_cols(pelock, [c for c in cols if c.startswith('opcode_')])\n",
    "ngram = remove_cols(pelock, [c for c in cols if c.startswith('generic_')])\n",
    "ngram = remove_cols(pelock, [c for c in cols if c.startswith('string_')])\n",
    "ngram = remove_cols(pelock, [c for c in cols if c.startswith('rich_')])\n",
    "ngram = remove_cols(pelock, [c for c in cols if c.startswith('imp_') or 'api_import_nb' == c])\n",
    "ngram = remove_cols(pelock, [c for c in cols if c.endswith('.dll') or 'dll_import_nb' == c])\n",
    "ngram = remove_cols(pelock, [c for c in cols if c.startswith('pesection')])\n",
    "ngram = remove_cols(pelock, [c for c in cols if c.startswith('header_')])"
   ]
  },
  {
   "cell_type": "code",
   "execution_count": 23,
   "id": "92878f6e",
   "metadata": {
    "execution": {
     "iopub.execute_input": "2023-12-27T01:17:51.632637Z",
     "iopub.status.busy": "2023-12-27T01:17:51.631778Z",
     "iopub.status.idle": "2023-12-27T01:17:51.831965Z",
     "shell.execute_reply": "2023-12-27T01:17:51.831007Z"
    },
    "papermill": {
     "duration": 0.220187,
     "end_time": "2023-12-27T01:17:51.834437",
     "exception": false,
     "start_time": "2023-12-27T01:17:51.614250",
     "status": "completed"
    },
    "tags": []
   },
   "outputs": [],
   "source": [
    "df_7000_ngram = ngram.sample(n=7000, random_state=102)\n",
    "df_3000_ngram = ngram.drop(df_7000.index)\n",
    "data_ngram = df_7000_ngram.sample(n=3500, random_state=102)"
   ]
  },
  {
   "cell_type": "code",
   "execution_count": 24,
   "id": "db922069",
   "metadata": {
    "execution": {
     "iopub.execute_input": "2023-12-27T01:17:51.866278Z",
     "iopub.status.busy": "2023-12-27T01:17:51.865913Z",
     "iopub.status.idle": "2023-12-27T01:17:52.143161Z",
     "shell.execute_reply": "2023-12-27T01:17:52.141434Z"
    },
    "papermill": {
     "duration": 0.29561,
     "end_time": "2023-12-27T01:17:52.145729",
     "exception": false,
     "start_time": "2023-12-27T01:17:51.850119",
     "status": "completed"
    },
    "tags": []
   },
   "outputs": [
    {
     "name": "stdout",
     "output_type": "stream",
     "text": [
      "Packed Malware: 1960 samples\n",
      "Packed Benign: 1540 samples\n",
      "Total TRAIN set: 3500 samples\n",
      "Packed Malware: 1540 samples\n",
      "Packed Benign: 1540 samples\n",
      "Total TRAIN set: 3080 samples\n",
      "Packed Malware: 1360 samples\n",
      "Packed Benign: 1360 samples\n",
      "Total TEST set: 2720 samples\n"
     ]
    }
   ],
   "source": [
    "#Kiểm tra số lượng mẫu\n",
    "PM = data_ngram[(data_ngram['malicious'] == True) & (data_ngram['packed'] == True)].shape[0]\n",
    "PB = data_ngram[(data_ngram['malicious'] == False) & (data_ngram['packed'] == True)].shape[0]\n",
    "print('Packed Malware: %i samples' % PM)\n",
    "print('Packed Benign: %i samples' % PB)\n",
    "print('Total TRAIN set: %i samples'% (PM+PB))\n",
    "\n",
    "#Chia tỉ lệ 50 - 50\n",
    "data_PM_ngram = data_ngram[(data_ngram['malicious'] == True) & (data_ngram['packed'] == True)].sample(n=(PM-PB), random_state=102)\n",
    "data_ngram = data_ngram.drop(data_PM_ngram.index)\n",
    "\n",
    "#Số lượng tập train\n",
    "PM = data_ngram[(data_ngram['malicious'] == True) & (data_ngram['packed'] == True)].shape[0]\n",
    "PB = data_ngram[(data_ngram['malicious'] == False) & (data_ngram['packed'] == True)].shape[0]\n",
    "print('Packed Malware: %i samples' % PM)\n",
    "print('Packed Benign: %i samples' % PB)\n",
    "print('Total TRAIN set: %i samples'% (PM+PB))\n",
    "\n",
    "#Xử lý tập train\n",
    "y = data_ngram['malicious'].values\n",
    "data_ngram = data_ngram.drop(['malicious','packed'], axis=1)\n",
    "\n",
    "PM = df_3000_ngram[(df_3000_ngram['malicious'] == True) & (df_3000_ngram['packed'] == True)].shape[0]\n",
    "PB = df_3000_ngram[(df_3000_ngram['malicious'] == False) & (df_3000_ngram['packed'] == True)].shape[0]\n",
    "\n",
    "df_3000_PM_ngram = df_3000_ngram[(df_3000_ngram['malicious'] == True) & (df_3000_ngram['packed'] == True)].sample(n=(PM-PB), random_state=102)\n",
    "df_3000_ngram = df_3000_ngram.drop(df_3000_PM.index)\n",
    "\n",
    "PM = df_3000_ngram[(df_3000_ngram['malicious'] == True) & (df_3000_ngram['packed'] == True)].shape[0]\n",
    "PB = df_3000_ngram[(df_3000_ngram['malicious'] == False) & (df_3000_ngram['packed'] == True)].shape[0]\n",
    "\n",
    "print('Packed Malware: %i samples' % PM)\n",
    "print('Packed Benign: %i samples' % PB)\n",
    "print('Total TEST set: %i samples'% (PM+PB))"
   ]
  },
  {
   "cell_type": "code",
   "execution_count": 25,
   "id": "6b989389",
   "metadata": {
    "execution": {
     "iopub.execute_input": "2023-12-27T01:17:52.178434Z",
     "iopub.status.busy": "2023-12-27T01:17:52.178117Z",
     "iopub.status.idle": "2023-12-27T01:17:52.237357Z",
     "shell.execute_reply": "2023-12-27T01:17:52.236458Z"
    },
    "papermill": {
     "duration": 0.077351,
     "end_time": "2023-12-27T01:17:52.239394",
     "exception": false,
     "start_time": "2023-12-27T01:17:52.162043",
     "status": "completed"
    },
    "tags": []
   },
   "outputs": [],
   "source": [
    "# model = SelectFromModel(fsel, prefit=True)\n",
    "\n",
    "X_train_ngram = data_ngram\n",
    "X_test_ngram = df_3000_ngram.drop(['malicious','packed'], axis=1)\n",
    "\n",
    "data_ngram = data_ngram.loc[:, (data_ngram != 0).any(axis=0)]\n",
    "x_train_ngram = data_ngram\n",
    "X_test_ngram = df_3000_ngram.drop(['malicious','packed'], axis=1)\n",
    "y_train_ngram = y\n",
    "y_test_ngram = df_3000_ngram['malicious'].values"
   ]
  },
  {
   "cell_type": "code",
   "execution_count": 26,
   "id": "0e24a28b",
   "metadata": {
    "execution": {
     "iopub.execute_input": "2023-12-27T01:17:52.270843Z",
     "iopub.status.busy": "2023-12-27T01:17:52.269325Z",
     "iopub.status.idle": "2023-12-27T01:17:55.619665Z",
     "shell.execute_reply": "2023-12-27T01:17:55.618833Z"
    },
    "papermill": {
     "duration": 3.367149,
     "end_time": "2023-12-27T01:17:55.621325",
     "exception": false,
     "start_time": "2023-12-27T01:17:52.254176",
     "status": "completed"
    },
    "tags": []
   },
   "outputs": [
    {
     "name": "stdout",
     "output_type": "stream",
     "text": [
      "The accuracy of the Random Forests model is :\t 0.9481617647058823\n"
     ]
    }
   ],
   "source": [
    "# Random Forest\n",
    "from sklearn.ensemble import RandomForestClassifier\n",
    "from sklearn import metrics\n",
    "\n",
    "random_forest = RandomForestClassifier(n_estimators=100, random_state=17)\n",
    "random_forest.fit(X_train_ngram, y_train_ngram)\n",
    "random_forest_preds = random_forest.predict(X_test_ngram)\n",
    "print('The accuracy of the Random Forests model is :\\t',metrics.accuracy_score(random_forest_preds,y_test_ngram))"
   ]
  },
  {
   "cell_type": "markdown",
   "id": "9b5e2d30",
   "metadata": {
    "papermill": {
     "duration": 0.014392,
     "end_time": "2023-12-27T01:17:55.650644",
     "exception": false,
     "start_time": "2023-12-27T01:17:55.636252",
     "status": "completed"
    },
    "tags": []
   },
   "source": [
    "# **opcode features**"
   ]
  },
  {
   "cell_type": "code",
   "execution_count": 27,
   "id": "49639692",
   "metadata": {
    "execution": {
     "iopub.execute_input": "2023-12-27T01:17:55.685378Z",
     "iopub.status.busy": "2023-12-27T01:17:55.684744Z",
     "iopub.status.idle": "2023-12-27T01:17:56.589511Z",
     "shell.execute_reply": "2023-12-27T01:17:56.588601Z"
    },
    "papermill": {
     "duration": 0.926293,
     "end_time": "2023-12-27T01:17:56.591541",
     "exception": false,
     "start_time": "2023-12-27T01:17:55.665248",
     "status": "completed"
    },
    "tags": []
   },
   "outputs": [],
   "source": [
    "pelock = pd.read_pickle('/kaggle/input/packer-balance-pickle/pelock_balance.pickle')\n",
    "pelock = pelock.drop(['sample_sha1','benign','unpacked_sample_sha1','unpacked_sample_id'], axis=1)\n",
    "pelock = pelock.drop(['benign_vt','malicious_vt'], axis=1)\n",
    "string_columns = pelock.select_dtypes(include=['object']).columns\n",
    "pelock = pelock.drop(string_columns, axis=1)"
   ]
  },
  {
   "cell_type": "code",
   "execution_count": 28,
   "id": "226603df",
   "metadata": {
    "execution": {
     "iopub.execute_input": "2023-12-27T01:17:56.625204Z",
     "iopub.status.busy": "2023-12-27T01:17:56.624812Z",
     "iopub.status.idle": "2023-12-27T01:17:57.400567Z",
     "shell.execute_reply": "2023-12-27T01:17:57.399725Z"
    },
    "papermill": {
     "duration": 0.794512,
     "end_time": "2023-12-27T01:17:57.402300",
     "exception": false,
     "start_time": "2023-12-27T01:17:56.607788",
     "status": "completed"
    },
    "tags": []
   },
   "outputs": [
    {
     "name": "stdout",
     "output_type": "stream",
     "text": [
      "removing 13000 features\n",
      "removing 2 features\n",
      "removing 16900 features\n",
      "removing 66 features\n",
      "removing 19169 features\n",
      "removing 4306 features\n",
      "removing 550 features\n",
      "removing 29 features\n"
     ]
    }
   ],
   "source": [
    "opcode = remove_cols(pelock, [c for c in cols if c.startswith('ngram_')])\n",
    "# opcode = remove_cols(pelock, [c for c in cols if c.startswith('opcode_')])\n",
    "opcode = remove_cols(pelock, [c for c in cols if c.startswith('generic_')])\n",
    "opcode = remove_cols(pelock, [c for c in cols if c.startswith('string_')])\n",
    "opcode = remove_cols(pelock, [c for c in cols if c.startswith('rich_')])\n",
    "opcode = remove_cols(pelock, [c for c in cols if c.startswith('imp_') or 'api_import_nb' == c])\n",
    "opcode = remove_cols(pelock, [c for c in cols if c.endswith('.dll') or 'dll_import_nb' == c])\n",
    "opcode = remove_cols(pelock, [c for c in cols if c.startswith('pesection')])\n",
    "opcode = remove_cols(pelock, [c for c in cols if c.startswith('header_')])"
   ]
  },
  {
   "cell_type": "code",
   "execution_count": 29,
   "id": "9cb97409",
   "metadata": {
    "execution": {
     "iopub.execute_input": "2023-12-27T01:17:57.434556Z",
     "iopub.status.busy": "2023-12-27T01:17:57.433400Z",
     "iopub.status.idle": "2023-12-27T01:17:57.585481Z",
     "shell.execute_reply": "2023-12-27T01:17:57.584052Z"
    },
    "papermill": {
     "duration": 0.170644,
     "end_time": "2023-12-27T01:17:57.588080",
     "exception": false,
     "start_time": "2023-12-27T01:17:57.417436",
     "status": "completed"
    },
    "tags": []
   },
   "outputs": [],
   "source": [
    "df_7000_opcode = opcode.sample(n=7000, random_state=102)\n",
    "df_3000_opcode = opcode.drop(df_7000.index)\n",
    "data_opcode = df_7000_opcode.sample(n=3500, random_state=102)"
   ]
  },
  {
   "cell_type": "code",
   "execution_count": 30,
   "id": "a1cbf594",
   "metadata": {
    "execution": {
     "iopub.execute_input": "2023-12-27T01:17:57.620915Z",
     "iopub.status.busy": "2023-12-27T01:17:57.620556Z",
     "iopub.status.idle": "2023-12-27T01:17:57.748308Z",
     "shell.execute_reply": "2023-12-27T01:17:57.746803Z"
    },
    "papermill": {
     "duration": 0.146468,
     "end_time": "2023-12-27T01:17:57.750162",
     "exception": false,
     "start_time": "2023-12-27T01:17:57.603694",
     "status": "completed"
    },
    "tags": []
   },
   "outputs": [
    {
     "name": "stdout",
     "output_type": "stream",
     "text": [
      "Packed Malware: 1960 samples\n",
      "Packed Benign: 1540 samples\n",
      "Total TRAIN set: 3500 samples\n",
      "Packed Malware: 1540 samples\n",
      "Packed Benign: 1540 samples\n",
      "Total TRAIN set: 3080 samples\n",
      "Packed Malware: 1360 samples\n",
      "Packed Benign: 1360 samples\n",
      "Total TEST set: 2720 samples\n"
     ]
    }
   ],
   "source": [
    "#Kiểm tra số lượng mẫu\n",
    "PM = data_opcode[(data_opcode['malicious'] == True) & (data_opcode['packed'] == True)].shape[0]\n",
    "PB = data_opcode[(data_opcode['malicious'] == False) & (data_opcode['packed'] == True)].shape[0]\n",
    "print('Packed Malware: %i samples' % PM)\n",
    "print('Packed Benign: %i samples' % PB)\n",
    "print('Total TRAIN set: %i samples'% (PM+PB))\n",
    "\n",
    "#Chia tỉ lệ 50 - 50\n",
    "data_PM_opcode = data_opcode[(data_opcode['malicious'] == True) & (data_opcode['packed'] == True)].sample(n=(PM-PB), random_state=102)\n",
    "data_opcode = data_opcode.drop(data_PM_opcode.index)\n",
    "      \n",
    "#Số lượng tập train\n",
    "PM = data_opcode[(data_opcode['malicious'] == True) & (data_opcode['packed'] == True)].shape[0]\n",
    "PB = data_opcode[(data_opcode['malicious'] == False) & (data_opcode['packed'] == True)].shape[0]\n",
    "print('Packed Malware: %i samples' % PM)\n",
    "print('Packed Benign: %i samples' % PB)\n",
    "print('Total TRAIN set: %i samples'% (PM+PB))\n",
    "\n",
    "#Xử lý tập train\n",
    "y = data_opcode['malicious'].values\n",
    "data_opcode = data_opcode.drop(['malicious','packed'], axis=1)\n",
    "\n",
    "PM = df_3000_opcode[(df_3000_opcode['malicious'] == True) & (df_3000_opcode['packed'] == True)].shape[0]\n",
    "PB = df_3000_opcode[(df_3000_opcode['malicious'] == False) & (df_3000_opcode['packed'] == True)].shape[0]\n",
    "\n",
    "df_3000_PM_opcode = df_3000_opcode[(df_3000_opcode['malicious'] == True) & (df_3000_opcode['packed'] == True)].sample(n=(PM-PB), random_state=102)\n",
    "df_3000_opcode = df_3000_opcode.drop(df_3000_PM_opcode.index)\n",
    "\n",
    "PM = df_3000_opcode[(df_3000_opcode['malicious'] == True) & (df_3000_opcode['packed'] == True)].shape[0]\n",
    "PB = df_3000_opcode[(df_3000_opcode['malicious'] == False) & (df_3000_opcode['packed'] == True)].shape[0]\n",
    "\n",
    "print('Packed Malware: %i samples' % PM)\n",
    "print('Packed Benign: %i samples' % PB)\n",
    "print('Total TEST set: %i samples'% (PM+PB))"
   ]
  },
  {
   "cell_type": "code",
   "execution_count": 31,
   "id": "3dba59ad",
   "metadata": {
    "execution": {
     "iopub.execute_input": "2023-12-27T01:17:57.784477Z",
     "iopub.status.busy": "2023-12-27T01:17:57.784090Z",
     "iopub.status.idle": "2023-12-27T01:17:57.815563Z",
     "shell.execute_reply": "2023-12-27T01:17:57.814231Z"
    },
    "papermill": {
     "duration": 0.05291,
     "end_time": "2023-12-27T01:17:57.818517",
     "exception": false,
     "start_time": "2023-12-27T01:17:57.765607",
     "status": "completed"
    },
    "tags": []
   },
   "outputs": [],
   "source": [
    "# model = SelectFromModel(fsel, prefit=True)\n",
    "\n",
    "X_train_opcode = data_opcode\n",
    "X_test_opcode = df_3000_opcode.drop(['malicious','packed'], axis=1)\n",
    "\n",
    "# data_opcode = data_opcode.loc[:, (data_opcode != 0).any(axis=0)]\n",
    "x_train_opcode = data_opcode\n",
    "X_test_opcode = df_3000_opcode.drop(['malicious','packed'], axis=1)\n",
    "y_train_opcode = y\n",
    "y_test_opcode = df_3000_opcode['malicious'].values"
   ]
  },
  {
   "cell_type": "code",
   "execution_count": 32,
   "id": "44b9c6e0",
   "metadata": {
    "execution": {
     "iopub.execute_input": "2023-12-27T01:17:57.860382Z",
     "iopub.status.busy": "2023-12-27T01:17:57.860017Z",
     "iopub.status.idle": "2023-12-27T01:18:00.143821Z",
     "shell.execute_reply": "2023-12-27T01:18:00.142428Z"
    },
    "papermill": {
     "duration": 2.304645,
     "end_time": "2023-12-27T01:18:00.146129",
     "exception": false,
     "start_time": "2023-12-27T01:17:57.841484",
     "status": "completed"
    },
    "tags": []
   },
   "outputs": [
    {
     "name": "stdout",
     "output_type": "stream",
     "text": [
      "The accuracy of the Random Forests model is :\t 0.8731617647058824\n"
     ]
    }
   ],
   "source": [
    "# Random Forest\n",
    "from sklearn.ensemble import RandomForestClassifier\n",
    "from sklearn import metrics\n",
    "\n",
    "random_forest = RandomForestClassifier(n_estimators=100, random_state=17)\n",
    "random_forest.fit(x_train_opcode, y_train_opcode)\n",
    "random_forest_preds = random_forest.predict(X_test_opcode)\n",
    "print('The accuracy of the Random Forests model is :\\t',metrics.accuracy_score(random_forest_preds,y_test_opcode))"
   ]
  },
  {
   "cell_type": "markdown",
   "id": "e888fb8c",
   "metadata": {
    "papermill": {
     "duration": 0.015144,
     "end_time": "2023-12-27T01:18:00.178624",
     "exception": false,
     "start_time": "2023-12-27T01:18:00.163480",
     "status": "completed"
    },
    "tags": []
   },
   "source": [
    "# **rich header features**"
   ]
  },
  {
   "cell_type": "code",
   "execution_count": 33,
   "id": "0fc98e92",
   "metadata": {
    "execution": {
     "iopub.execute_input": "2023-12-27T01:18:00.210414Z",
     "iopub.status.busy": "2023-12-27T01:18:00.210067Z",
     "iopub.status.idle": "2023-12-27T01:18:01.096282Z",
     "shell.execute_reply": "2023-12-27T01:18:01.095061Z"
    },
    "papermill": {
     "duration": 0.904869,
     "end_time": "2023-12-27T01:18:01.098653",
     "exception": false,
     "start_time": "2023-12-27T01:18:00.193784",
     "status": "completed"
    },
    "tags": []
   },
   "outputs": [],
   "source": [
    "pelock = pd.read_pickle('/kaggle/input/packer-balance-pickle/pelock_balance.pickle')\n",
    "pelock = pelock.drop(['sample_sha1','benign','unpacked_sample_sha1','unpacked_sample_id'], axis=1)\n",
    "pelock = pelock.drop(['benign_vt','malicious_vt'], axis=1)\n",
    "string_columns = pelock.select_dtypes(include=['object']).columns\n",
    "pelock = pelock.drop(string_columns, axis=1)"
   ]
  },
  {
   "cell_type": "code",
   "execution_count": 34,
   "id": "5b7c1c8a",
   "metadata": {
    "execution": {
     "iopub.execute_input": "2023-12-27T01:18:01.134687Z",
     "iopub.status.busy": "2023-12-27T01:18:01.133772Z",
     "iopub.status.idle": "2023-12-27T01:18:01.874809Z",
     "shell.execute_reply": "2023-12-27T01:18:01.873665Z"
    },
    "papermill": {
     "duration": 0.760825,
     "end_time": "2023-12-27T01:18:01.877065",
     "exception": false,
     "start_time": "2023-12-27T01:18:01.116240",
     "status": "completed"
    },
    "tags": []
   },
   "outputs": [
    {
     "name": "stdout",
     "output_type": "stream",
     "text": [
      "removing 13000 features\n",
      "removing 2500 features\n",
      "removing 2 features\n",
      "removing 16900 features\n",
      "removing 19169 features\n",
      "removing 4306 features\n",
      "removing 550 features\n",
      "removing 29 features\n"
     ]
    }
   ],
   "source": [
    "rich = remove_cols(pelock, [c for c in cols if c.startswith('ngram_')])\n",
    "rich = remove_cols(pelock, [c for c in cols if c.startswith('opcode_')])\n",
    "rich = remove_cols(pelock, [c for c in cols if c.startswith('generic_')])\n",
    "rich = remove_cols(pelock, [c for c in cols if c.startswith('string_')])\n",
    "# rich = remove_cols(pelock, [c for c in cols if c.startswith('rich_')])\n",
    "rich = remove_cols(pelock, [c for c in cols if c.startswith('imp_') or 'api_import_nb' == c])\n",
    "rich = remove_cols(pelock, [c for c in cols if c.endswith('.dll') or 'dll_import_nb' == c])\n",
    "rich = remove_cols(pelock, [c for c in cols if c.startswith('pesection')])\n",
    "rich = remove_cols(pelock, [c for c in cols if c.startswith('header_')])"
   ]
  },
  {
   "cell_type": "code",
   "execution_count": 35,
   "id": "7d3abc08",
   "metadata": {
    "execution": {
     "iopub.execute_input": "2023-12-27T01:18:01.928835Z",
     "iopub.status.busy": "2023-12-27T01:18:01.928456Z",
     "iopub.status.idle": "2023-12-27T01:18:01.941351Z",
     "shell.execute_reply": "2023-12-27T01:18:01.940470Z"
    },
    "papermill": {
     "duration": 0.045347,
     "end_time": "2023-12-27T01:18:01.943550",
     "exception": false,
     "start_time": "2023-12-27T01:18:01.898203",
     "status": "completed"
    },
    "tags": []
   },
   "outputs": [],
   "source": [
    "df_7000_rich = rich.sample(n=7000, random_state=102)\n",
    "df_3000_rich = rich.drop(df_7000.index)\n",
    "data_rich = df_7000_rich.sample(n=3500, random_state=102)"
   ]
  },
  {
   "cell_type": "code",
   "execution_count": 36,
   "id": "74c546fd",
   "metadata": {
    "execution": {
     "iopub.execute_input": "2023-12-27T01:18:01.977512Z",
     "iopub.status.busy": "2023-12-27T01:18:01.977030Z",
     "iopub.status.idle": "2023-12-27T01:18:01.998743Z",
     "shell.execute_reply": "2023-12-27T01:18:01.997926Z"
    },
    "papermill": {
     "duration": 0.040708,
     "end_time": "2023-12-27T01:18:02.000733",
     "exception": false,
     "start_time": "2023-12-27T01:18:01.960025",
     "status": "completed"
    },
    "tags": []
   },
   "outputs": [
    {
     "name": "stdout",
     "output_type": "stream",
     "text": [
      "Packed Malware: 1960 samples\n",
      "Packed Benign: 1540 samples\n",
      "Total TRAIN set: 3500 samples\n",
      "Packed Malware: 1540 samples\n",
      "Packed Benign: 1540 samples\n",
      "Total TRAIN set: 3080 samples\n",
      "Packed Malware: 1360 samples\n",
      "Packed Benign: 1360 samples\n",
      "Total TEST set: 2720 samples\n"
     ]
    }
   ],
   "source": [
    "#Kiểm tra số lượng mẫu\n",
    "PM = data_rich[(data_rich['malicious'] == True) & (data_rich['packed'] == True)].shape[0]\n",
    "PB = data_rich[(data_rich['malicious'] == False) & (data_rich['packed'] == True)].shape[0]\n",
    "print('Packed Malware: %i samples' % PM)\n",
    "print('Packed Benign: %i samples' % PB)\n",
    "print('Total TRAIN set: %i samples'% (PM+PB))\n",
    "\n",
    "#Chia tỉ lệ 50 - 50\n",
    "data_PM_rich = data_rich[(data_rich['malicious'] == True) & (data_rich['packed'] == True)].sample(n=(PM-PB), random_state=102)\n",
    "data_rich = data_rich.drop(data_PM_rich.index)\n",
    "      \n",
    "#Số lượng tập train\n",
    "PM = data_rich[(data_rich['malicious'] == True) & (data_rich['packed'] == True)].shape[0]\n",
    "PB = data_rich[(data_rich['malicious'] == False) & (data_rich['packed'] == True)].shape[0]\n",
    "print('Packed Malware: %i samples' % PM)\n",
    "print('Packed Benign: %i samples' % PB)\n",
    "print('Total TRAIN set: %i samples'% (PM+PB))\n",
    "\n",
    "#Xử lý tập train\n",
    "y = data_rich['malicious'].values\n",
    "data_rich= data_rich.drop(['malicious','packed'], axis=1)\n",
    "\n",
    "PM = df_3000_rich[(df_3000_rich['malicious'] == True) & (df_3000_rich['packed'] == True)].shape[0]\n",
    "PB = df_3000_rich[(df_3000_rich['malicious'] == False) & (df_3000_rich['packed'] == True)].shape[0]\n",
    "\n",
    "df_3000_PM_rich = df_3000_rich[(df_3000_rich['malicious'] == True) & (df_3000_rich['packed'] == True)].sample(n=(PM-PB), random_state=102)\n",
    "df_3000_rich = df_3000_rich.drop(df_3000_PM_rich.index)\n",
    "\n",
    "PM = df_3000_rich[(df_3000_rich['malicious'] == True) & (df_3000_rich['packed'] == True)].shape[0]\n",
    "PB = df_3000_rich[(df_3000_rich['malicious'] == False) & (df_3000_rich['packed'] == True)].shape[0]\n",
    "\n",
    "print('Packed Malware: %i samples' % PM)\n",
    "print('Packed Benign: %i samples' % PB)\n",
    "print('Total TEST set: %i samples'% (PM+PB))"
   ]
  },
  {
   "cell_type": "code",
   "execution_count": 37,
   "id": "505c8e36",
   "metadata": {
    "execution": {
     "iopub.execute_input": "2023-12-27T01:18:02.038895Z",
     "iopub.status.busy": "2023-12-27T01:18:02.038479Z",
     "iopub.status.idle": "2023-12-27T01:18:02.047767Z",
     "shell.execute_reply": "2023-12-27T01:18:02.047041Z"
    },
    "papermill": {
     "duration": 0.028249,
     "end_time": "2023-12-27T01:18:02.050137",
     "exception": false,
     "start_time": "2023-12-27T01:18:02.021888",
     "status": "completed"
    },
    "tags": []
   },
   "outputs": [],
   "source": [
    "# model = SelectFromModel(fsel, prefit=True)\n",
    "\n",
    "X_train_rich = data_rich\n",
    "X_test_rich = df_3000_rich.drop(['malicious','packed'], axis=1)\n",
    "\n",
    "data_rich = data_rich.loc[:, (data_rich != 0).any(axis=0)]\n",
    "x_train_rich = data_rich\n",
    "X_test_rich = df_3000_rich.drop(['malicious','packed'], axis=1)\n",
    "y_train_rich = y\n",
    "y_test_rich = df_3000_rich['malicious'].values"
   ]
  },
  {
   "cell_type": "code",
   "execution_count": 38,
   "id": "2bee0a3a",
   "metadata": {
    "execution": {
     "iopub.execute_input": "2023-12-27T01:18:02.086651Z",
     "iopub.status.busy": "2023-12-27T01:18:02.086063Z",
     "iopub.status.idle": "2023-12-27T01:18:02.306130Z",
     "shell.execute_reply": "2023-12-27T01:18:02.305408Z"
    },
    "papermill": {
     "duration": 0.241179,
     "end_time": "2023-12-27T01:18:02.308251",
     "exception": false,
     "start_time": "2023-12-27T01:18:02.067072",
     "status": "completed"
    },
    "tags": []
   },
   "outputs": [
    {
     "name": "stdout",
     "output_type": "stream",
     "text": [
      "The accuracy of the Random Forests model is :\t 0.5716911764705882\n"
     ]
    }
   ],
   "source": [
    "# Random Forest\n",
    "from sklearn.ensemble import RandomForestClassifier\n",
    "from sklearn import metrics\n",
    "\n",
    "random_forest = RandomForestClassifier(n_estimators=100, random_state=17)\n",
    "random_forest.fit(X_train_rich, y_train_rich)\n",
    "random_forest_preds = random_forest.predict(X_test_rich)\n",
    "print('The accuracy of the Random Forests model is :\\t',metrics.accuracy_score(random_forest_preds,y_test_rich))"
   ]
  },
  {
   "cell_type": "markdown",
   "id": "12aaa4c1",
   "metadata": {
    "papermill": {
     "duration": 0.019198,
     "end_time": "2023-12-27T01:18:02.346621",
     "exception": false,
     "start_time": "2023-12-27T01:18:02.327423",
     "status": "completed"
    },
    "tags": []
   },
   "source": [
    "# **string features**"
   ]
  },
  {
   "cell_type": "code",
   "execution_count": 39,
   "id": "fbf7d4d3",
   "metadata": {
    "execution": {
     "iopub.execute_input": "2023-12-27T01:18:02.380789Z",
     "iopub.status.busy": "2023-12-27T01:18:02.380436Z",
     "iopub.status.idle": "2023-12-27T01:18:03.260479Z",
     "shell.execute_reply": "2023-12-27T01:18:03.259458Z"
    },
    "papermill": {
     "duration": 0.899327,
     "end_time": "2023-12-27T01:18:03.262711",
     "exception": false,
     "start_time": "2023-12-27T01:18:02.363384",
     "status": "completed"
    },
    "tags": []
   },
   "outputs": [],
   "source": [
    "pelock = pd.read_pickle('/kaggle/input/packer-balance-pickle/pelock_balance.pickle')\n",
    "pelock = pelock.drop(['sample_sha1','benign','unpacked_sample_sha1','unpacked_sample_id'], axis=1)\n",
    "pelock = pelock.drop(['benign_vt','malicious_vt'], axis=1)\n",
    "string_columns = pelock.select_dtypes(include=['object']).columns\n",
    "pelock = pelock.drop(string_columns, axis=1)"
   ]
  },
  {
   "cell_type": "code",
   "execution_count": 40,
   "id": "b9e395c8",
   "metadata": {
    "execution": {
     "iopub.execute_input": "2023-12-27T01:18:03.295669Z",
     "iopub.status.busy": "2023-12-27T01:18:03.295345Z",
     "iopub.status.idle": "2023-12-27T01:18:04.041958Z",
     "shell.execute_reply": "2023-12-27T01:18:04.041107Z"
    },
    "papermill": {
     "duration": 0.765521,
     "end_time": "2023-12-27T01:18:04.044026",
     "exception": false,
     "start_time": "2023-12-27T01:18:03.278505",
     "status": "completed"
    },
    "tags": []
   },
   "outputs": [
    {
     "name": "stdout",
     "output_type": "stream",
     "text": [
      "removing 13000 features\n",
      "removing 2500 features\n",
      "removing 2 features\n",
      "removing 66 features\n",
      "removing 19169 features\n",
      "removing 4306 features\n",
      "removing 550 features\n",
      "removing 29 features\n"
     ]
    }
   ],
   "source": [
    "string = remove_cols(pelock, [c for c in cols if c.startswith('ngram_')])\n",
    "string = remove_cols(pelock, [c for c in cols if c.startswith('opcode_')])\n",
    "string = remove_cols(pelock, [c for c in cols if c.startswith('generic_')])\n",
    "# string = remove_cols(pelock, [c for c in cols if c.startswith('string_')])\n",
    "string = remove_cols(pelock, [c for c in cols if c.startswith('rich_')])\n",
    "string = remove_cols(pelock, [c for c in cols if c.startswith('imp_') or 'api_import_nb' == c])\n",
    "string = remove_cols(pelock, [c for c in cols if c.endswith('.dll') or 'dll_import_nb' == c])\n",
    "string = remove_cols(pelock, [c for c in cols if c.startswith('pesection')])\n",
    "string = remove_cols(pelock, [c for c in cols if c.startswith('header_')])"
   ]
  },
  {
   "cell_type": "code",
   "execution_count": 41,
   "id": "8f09a89c",
   "metadata": {
    "execution": {
     "iopub.execute_input": "2023-12-27T01:18:04.079405Z",
     "iopub.status.busy": "2023-12-27T01:18:04.078345Z",
     "iopub.status.idle": "2023-12-27T01:18:04.327960Z",
     "shell.execute_reply": "2023-12-27T01:18:04.326988Z"
    },
    "papermill": {
     "duration": 0.270507,
     "end_time": "2023-12-27T01:18:04.330370",
     "exception": false,
     "start_time": "2023-12-27T01:18:04.059863",
     "status": "completed"
    },
    "tags": []
   },
   "outputs": [],
   "source": [
    "df_7000_string = string.sample(n=7000, random_state=102)\n",
    "df_3000_string = string.drop(df_7000.index)\n",
    "data_string = df_7000_string.sample(n=3500, random_state=102)"
   ]
  },
  {
   "cell_type": "code",
   "execution_count": 42,
   "id": "afc2c70b",
   "metadata": {
    "execution": {
     "iopub.execute_input": "2023-12-27T01:18:04.364013Z",
     "iopub.status.busy": "2023-12-27T01:18:04.363678Z",
     "iopub.status.idle": "2023-12-27T01:18:04.729167Z",
     "shell.execute_reply": "2023-12-27T01:18:04.727806Z"
    },
    "papermill": {
     "duration": 0.384485,
     "end_time": "2023-12-27T01:18:04.730913",
     "exception": false,
     "start_time": "2023-12-27T01:18:04.346428",
     "status": "completed"
    },
    "tags": []
   },
   "outputs": [
    {
     "name": "stdout",
     "output_type": "stream",
     "text": [
      "Packed Malware: 1960 samples\n",
      "Packed Benign: 1540 samples\n",
      "Total TRAIN set: 3500 samples\n",
      "Packed Malware: 1540 samples\n",
      "Packed Benign: 1540 samples\n",
      "Total TRAIN set: 3080 samples\n",
      "Packed Malware: 1360 samples\n",
      "Packed Benign: 1360 samples\n",
      "Total TEST set: 2720 samples\n"
     ]
    }
   ],
   "source": [
    "#Kiểm tra số lượng mẫu\n",
    "PM = data_string[(data_string['malicious'] == True) & (data_string['packed'] == True)].shape[0]\n",
    "PB = data_string[(data_string['malicious'] == False) & (data_string['packed'] == True)].shape[0]\n",
    "print('Packed Malware: %i samples' % PM)\n",
    "print('Packed Benign: %i samples' % PB)\n",
    "print('Total TRAIN set: %i samples'% (PM+PB))\n",
    "\n",
    "#Chia tỉ lệ 50 - 50\n",
    "data_PM_string = data_string[(data_string['malicious'] == True) & (data_string['packed'] == True)].sample(n=(PM-PB), random_state=102)\n",
    "data_string = data_string.drop(data_PM_string.index)\n",
    "      \n",
    "#Số lượng tập train\n",
    "PM = data_string[(data_string['malicious'] == True) & (data_string['packed'] == True)].shape[0]\n",
    "PB = data_string[(data_string['malicious'] == False) & (data_string['packed'] == True)].shape[0]\n",
    "print('Packed Malware: %i samples' % PM)\n",
    "print('Packed Benign: %i samples' % PB)\n",
    "print('Total TRAIN set: %i samples'% (PM+PB))\n",
    "\n",
    "#Xử lý tập train\n",
    "y = data_string['malicious'].values\n",
    "data_string = data_string.drop(['malicious','packed'], axis=1)\n",
    "\n",
    "PM = df_3000_string[(df_3000_string['malicious'] == True) & (df_3000_string['packed'] == True)].shape[0]\n",
    "PB = df_3000_string[(df_3000_string['malicious'] == False) & (df_3000_string['packed'] == True)].shape[0]\n",
    "\n",
    "df_3000_PM_string = df_3000_string[(df_3000_string['malicious'] == True) & (df_3000_string['packed'] == True)].sample(n=(PM-PB), random_state=102)\n",
    "df_3000_string = df_3000_string.drop(df_3000_PM_string.index)\n",
    "\n",
    "PM = df_3000_string[(df_3000_string['malicious'] == True) & (df_3000_string['packed'] == True)].shape[0]\n",
    "PB = df_3000_string[(df_3000_string['malicious'] == False) & (df_3000_string['packed'] == True)].shape[0]\n",
    "\n",
    "print('Packed Malware: %i samples' % PM)\n",
    "print('Packed Benign: %i samples' % PB)\n",
    "print('Total TEST set: %i samples'% (PM+PB))"
   ]
  },
  {
   "cell_type": "code",
   "execution_count": 43,
   "id": "92aac5a6",
   "metadata": {
    "execution": {
     "iopub.execute_input": "2023-12-27T01:18:04.763771Z",
     "iopub.status.busy": "2023-12-27T01:18:04.763469Z",
     "iopub.status.idle": "2023-12-27T01:18:04.838676Z",
     "shell.execute_reply": "2023-12-27T01:18:04.837588Z"
    },
    "papermill": {
     "duration": 0.094578,
     "end_time": "2023-12-27T01:18:04.841336",
     "exception": false,
     "start_time": "2023-12-27T01:18:04.746758",
     "status": "completed"
    },
    "tags": []
   },
   "outputs": [],
   "source": [
    "# model = SelectFromModel(fsel, prefit=True)\n",
    "\n",
    "X_train_string = data_string\n",
    "X_test_string = df_3000_string.drop(['malicious','packed'], axis=1)\n",
    "\n",
    "data_string = data_string.loc[:, (data_string != 0).any(axis=0)]\n",
    "x_train_string = data_string\n",
    "X_test_string = df_3000_string.drop(['malicious','packed'], axis=1)\n",
    "y_train_string = y\n",
    "y_test_string = df_3000_string['malicious'].values"
   ]
  },
  {
   "cell_type": "code",
   "execution_count": 44,
   "id": "079dca7c",
   "metadata": {
    "execution": {
     "iopub.execute_input": "2023-12-27T01:18:04.877128Z",
     "iopub.status.busy": "2023-12-27T01:18:04.876226Z",
     "iopub.status.idle": "2023-12-27T01:18:13.011617Z",
     "shell.execute_reply": "2023-12-27T01:18:13.010200Z"
    },
    "papermill": {
     "duration": 8.155724,
     "end_time": "2023-12-27T01:18:13.013579",
     "exception": false,
     "start_time": "2023-12-27T01:18:04.857855",
     "status": "completed"
    },
    "tags": []
   },
   "outputs": [
    {
     "name": "stdout",
     "output_type": "stream",
     "text": [
      "The accuracy of the Random Forests model is :\t 0.9360294117647059\n"
     ]
    }
   ],
   "source": [
    "# Random Forest\n",
    "from sklearn.ensemble import RandomForestClassifier\n",
    "from sklearn import metrics\n",
    "\n",
    "random_forest = RandomForestClassifier(n_estimators=100, random_state=17)\n",
    "random_forest.fit(X_train_string, y_train_string)\n",
    "random_forest_preds = random_forest.predict(X_test_string)\n",
    "print('The accuracy of the Random Forests model is :\\t',metrics.accuracy_score(random_forest_preds,y_test_string))"
   ]
  },
  {
   "cell_type": "markdown",
   "id": "1cae5670",
   "metadata": {
    "papermill": {
     "duration": 0.01701,
     "end_time": "2023-12-27T01:18:13.048149",
     "exception": false,
     "start_time": "2023-12-27T01:18:13.031139",
     "status": "completed"
    },
    "tags": []
   },
   "source": [
    "# **api features**"
   ]
  },
  {
   "cell_type": "code",
   "execution_count": 45,
   "id": "79046d8d",
   "metadata": {
    "execution": {
     "iopub.execute_input": "2023-12-27T01:18:13.082722Z",
     "iopub.status.busy": "2023-12-27T01:18:13.081707Z",
     "iopub.status.idle": "2023-12-27T01:18:13.976241Z",
     "shell.execute_reply": "2023-12-27T01:18:13.975528Z"
    },
    "papermill": {
     "duration": 0.914017,
     "end_time": "2023-12-27T01:18:13.978538",
     "exception": false,
     "start_time": "2023-12-27T01:18:13.064521",
     "status": "completed"
    },
    "tags": []
   },
   "outputs": [],
   "source": [
    "pelock = pd.read_pickle('/kaggle/input/packer-balance-pickle/pelock_balance.pickle')\n",
    "pelock = pelock.drop(['sample_sha1','benign','unpacked_sample_sha1','unpacked_sample_id'], axis=1)\n",
    "pelock = pelock.drop(['benign_vt','malicious_vt'], axis=1)\n",
    "string_columns = pelock.select_dtypes(include=['object']).columns\n",
    "pelock = pelock.drop(string_columns, axis=1)"
   ]
  },
  {
   "cell_type": "code",
   "execution_count": 46,
   "id": "881f59d1",
   "metadata": {
    "execution": {
     "iopub.execute_input": "2023-12-27T01:18:14.015495Z",
     "iopub.status.busy": "2023-12-27T01:18:14.014886Z",
     "iopub.status.idle": "2023-12-27T01:18:14.976089Z",
     "shell.execute_reply": "2023-12-27T01:18:14.974786Z"
    },
    "papermill": {
     "duration": 0.982909,
     "end_time": "2023-12-27T01:18:14.978467",
     "exception": false,
     "start_time": "2023-12-27T01:18:13.995558",
     "status": "completed"
    },
    "tags": []
   },
   "outputs": [
    {
     "name": "stdout",
     "output_type": "stream",
     "text": [
      "removing 13000 features\n",
      "removing 2500 features\n",
      "removing 2 features\n",
      "removing 16900 features\n",
      "removing 66 features\n",
      "removing 4306 features\n",
      "removing 550 features\n",
      "removing 29 features\n"
     ]
    }
   ],
   "source": [
    "api = remove_cols(pelock, [c for c in cols if c.startswith('ngram_')])\n",
    "api = remove_cols(pelock, [c for c in cols if c.startswith('opcode_')])\n",
    "api = remove_cols(pelock, [c for c in cols if c.startswith('generic_')])\n",
    "api = remove_cols(pelock, [c for c in cols if c.startswith('string_')])\n",
    "api = remove_cols(pelock, [c for c in cols if c.startswith('rich_')])\n",
    "# api = remove_cols(pelock, [c for c in cols if c.startswith('imp_') or 'api_import_nb' == c])\n",
    "api = remove_cols(pelock, [c for c in cols if c.endswith('.dll') or 'dll_import_nb' == c])\n",
    "api = remove_cols(pelock, [c for c in cols if c.startswith('pesection')])\n",
    "api = remove_cols(pelock, [c for c in cols if c.startswith('header_')])"
   ]
  },
  {
   "cell_type": "code",
   "execution_count": 47,
   "id": "96efaf09",
   "metadata": {
    "execution": {
     "iopub.execute_input": "2023-12-27T01:18:15.015458Z",
     "iopub.status.busy": "2023-12-27T01:18:15.014954Z",
     "iopub.status.idle": "2023-12-27T01:18:15.327600Z",
     "shell.execute_reply": "2023-12-27T01:18:15.326412Z"
    },
    "papermill": {
     "duration": 0.335435,
     "end_time": "2023-12-27T01:18:15.330240",
     "exception": false,
     "start_time": "2023-12-27T01:18:14.994805",
     "status": "completed"
    },
    "tags": []
   },
   "outputs": [],
   "source": [
    "df_7000_api = api.sample(n=7000, random_state=102)\n",
    "df_3000_api = api.drop(df_7000.index)\n",
    "data_api = df_7000_api.sample(n=3500, random_state=102)"
   ]
  },
  {
   "cell_type": "code",
   "execution_count": 48,
   "id": "a6fbd451",
   "metadata": {
    "execution": {
     "iopub.execute_input": "2023-12-27T01:18:15.364410Z",
     "iopub.status.busy": "2023-12-27T01:18:15.364065Z",
     "iopub.status.idle": "2023-12-27T01:18:15.862662Z",
     "shell.execute_reply": "2023-12-27T01:18:15.861569Z"
    },
    "papermill": {
     "duration": 0.517444,
     "end_time": "2023-12-27T01:18:15.864541",
     "exception": false,
     "start_time": "2023-12-27T01:18:15.347097",
     "status": "completed"
    },
    "tags": []
   },
   "outputs": [
    {
     "name": "stdout",
     "output_type": "stream",
     "text": [
      "Packed Malware: 1960 samples\n",
      "Packed Benign: 1540 samples\n",
      "Total TRAIN set: 3500 samples\n",
      "Packed Malware: 1540 samples\n",
      "Packed Benign: 1540 samples\n",
      "Total TRAIN set: 3080 samples\n",
      "Packed Malware: 1360 samples\n",
      "Packed Benign: 1360 samples\n",
      "Total TEST set: 2720 samples\n"
     ]
    }
   ],
   "source": [
    "#Kiểm tra số lượng mẫu\n",
    "PM = data_api[(data_api['malicious'] == True) & (data_api['packed'] == True)].shape[0]\n",
    "PB = data_api[(data_api['malicious'] == False) & (data_api['packed'] == True)].shape[0]\n",
    "print('Packed Malware: %i samples' % PM)\n",
    "print('Packed Benign: %i samples' % PB)\n",
    "print('Total TRAIN set: %i samples'% (PM+PB))\n",
    "\n",
    "#Chia tỉ lệ 50 - 50\n",
    "data_PM_api = data_api[(data_api['malicious'] == True) & (data_api['packed'] == True)].sample(n=(PM-PB), random_state=102)\n",
    "data_api = data_api.drop(data_PM_api.index)\n",
    "      \n",
    "#Số lượng tập train\n",
    "PM = data_api[(data_api['malicious'] == True) & (data_api['packed'] == True)].shape[0]\n",
    "PB = data_api[(data_api['malicious'] == False) & (data_api['packed'] == True)].shape[0]\n",
    "print('Packed Malware: %i samples' % PM)\n",
    "print('Packed Benign: %i samples' % PB)\n",
    "print('Total TRAIN set: %i samples'% (PM+PB))\n",
    "\n",
    "#Xử lý tập train\n",
    "y = data_api['malicious'].values\n",
    "data_api = data_api.drop(['malicious','packed'], axis=1)\n",
    "\n",
    "PM = df_3000_api[(df_3000_api['malicious'] == True) & (df_3000_api['packed'] == True)].shape[0]\n",
    "PB = df_3000_api[(df_3000_api['malicious'] == False) & (df_3000_api['packed'] == True)].shape[0]\n",
    "\n",
    "df_3000_PM_api = df_3000_api[(df_3000_api['malicious'] == True) & (df_3000_api['packed'] == True)].sample(n=(PM-PB), random_state=102)\n",
    "df_3000_api = df_3000_api.drop(df_3000_PM_api.index)\n",
    "\n",
    "PM = df_3000_api[(df_3000_api['malicious'] == True) & (df_3000_api['packed'] == True)].shape[0]\n",
    "PB = df_3000_api[(df_3000_api['malicious'] == False) & (df_3000_api['packed'] == True)].shape[0]\n",
    "\n",
    "print('Packed Malware: %i samples' % PM)\n",
    "print('Packed Benign: %i samples' % PB)\n",
    "print('Total TEST set: %i samples'% (PM+PB))"
   ]
  },
  {
   "cell_type": "code",
   "execution_count": 49,
   "id": "4686f68f",
   "metadata": {
    "execution": {
     "iopub.execute_input": "2023-12-27T01:18:15.899411Z",
     "iopub.status.busy": "2023-12-27T01:18:15.899060Z",
     "iopub.status.idle": "2023-12-27T01:18:16.010987Z",
     "shell.execute_reply": "2023-12-27T01:18:16.010337Z"
    },
    "papermill": {
     "duration": 0.131485,
     "end_time": "2023-12-27T01:18:16.012933",
     "exception": false,
     "start_time": "2023-12-27T01:18:15.881448",
     "status": "completed"
    },
    "tags": []
   },
   "outputs": [],
   "source": [
    "# model = SelectFromModel(fsel, prefit=True)\n",
    "\n",
    "X_train_api = data_api\n",
    "X_test_api = df_3000_api.drop(['malicious','packed'], axis=1)\n",
    "\n",
    "data_api = data_api.loc[:, (data_api != 0).any(axis=0)]\n",
    "x_train_api = data_api\n",
    "X_test_api = df_3000_api.drop(['malicious','packed'], axis=1)\n",
    "y_train_api = y\n",
    "y_test_api = df_3000_api['malicious'].values"
   ]
  },
  {
   "cell_type": "code",
   "execution_count": 50,
   "id": "84b9f609",
   "metadata": {
    "execution": {
     "iopub.execute_input": "2023-12-27T01:18:16.047715Z",
     "iopub.status.busy": "2023-12-27T01:18:16.047251Z",
     "iopub.status.idle": "2023-12-27T01:18:29.025043Z",
     "shell.execute_reply": "2023-12-27T01:18:29.023952Z"
    },
    "papermill": {
     "duration": 12.997578,
     "end_time": "2023-12-27T01:18:29.026939",
     "exception": false,
     "start_time": "2023-12-27T01:18:16.029361",
     "status": "completed"
    },
    "tags": []
   },
   "outputs": [
    {
     "name": "stdout",
     "output_type": "stream",
     "text": [
      "The accuracy of the Random Forests model is :\t 0.9297794117647059\n"
     ]
    }
   ],
   "source": [
    "# Random Forest\n",
    "from sklearn.ensemble import RandomForestClassifier\n",
    "from sklearn import metrics\n",
    "\n",
    "random_forest = RandomForestClassifier(n_estimators=100, random_state=17)\n",
    "random_forest.fit(X_train_api, y_train_api)\n",
    "random_forest_preds = random_forest.predict(X_test_api)\n",
    "print('The accuracy of the Random Forests model is :\\t',metrics.accuracy_score(random_forest_preds,y_test_api))"
   ]
  },
  {
   "cell_type": "markdown",
   "id": "5b3a0641",
   "metadata": {
    "papermill": {
     "duration": 0.016072,
     "end_time": "2023-12-27T01:18:29.059497",
     "exception": false,
     "start_time": "2023-12-27T01:18:29.043425",
     "status": "completed"
    },
    "tags": []
   },
   "source": [
    "# **dll features**"
   ]
  },
  {
   "cell_type": "code",
   "execution_count": 51,
   "id": "d976dca4",
   "metadata": {
    "execution": {
     "iopub.execute_input": "2023-12-27T01:18:29.094733Z",
     "iopub.status.busy": "2023-12-27T01:18:29.094411Z",
     "iopub.status.idle": "2023-12-27T01:18:30.082121Z",
     "shell.execute_reply": "2023-12-27T01:18:30.080933Z"
    },
    "papermill": {
     "duration": 1.008344,
     "end_time": "2023-12-27T01:18:30.084549",
     "exception": false,
     "start_time": "2023-12-27T01:18:29.076205",
     "status": "completed"
    },
    "tags": []
   },
   "outputs": [],
   "source": [
    "pelock = pd.read_pickle('/kaggle/input/packer-balance-pickle/pelock_balance.pickle')\n",
    "pelock = pelock.drop(['sample_sha1','benign','unpacked_sample_sha1','unpacked_sample_id'], axis=1)\n",
    "pelock = pelock.drop(['benign_vt','malicious_vt'], axis=1)\n",
    "string_columns = pelock.select_dtypes(include=['object']).columns\n",
    "pelock = pelock.drop(string_columns, axis=1)"
   ]
  },
  {
   "cell_type": "code",
   "execution_count": 52,
   "id": "50c55514",
   "metadata": {
    "execution": {
     "iopub.execute_input": "2023-12-27T01:18:30.120455Z",
     "iopub.status.busy": "2023-12-27T01:18:30.119484Z",
     "iopub.status.idle": "2023-12-27T01:18:30.815813Z",
     "shell.execute_reply": "2023-12-27T01:18:30.814060Z"
    },
    "papermill": {
     "duration": 0.716946,
     "end_time": "2023-12-27T01:18:30.818501",
     "exception": false,
     "start_time": "2023-12-27T01:18:30.101555",
     "status": "completed"
    },
    "tags": []
   },
   "outputs": [
    {
     "name": "stdout",
     "output_type": "stream",
     "text": [
      "removing 13000 features\n",
      "removing 2500 features\n",
      "removing 2 features\n",
      "removing 16900 features\n",
      "removing 66 features\n",
      "removing 19169 features\n",
      "removing 550 features\n",
      "removing 29 features\n"
     ]
    }
   ],
   "source": [
    "dll = remove_cols(pelock, [c for c in cols if c.startswith('ngram_')])\n",
    "dll = remove_cols(pelock, [c for c in cols if c.startswith('opcode_')])\n",
    "dll = remove_cols(pelock, [c for c in cols if c.startswith('generic_')])\n",
    "dll = remove_cols(pelock, [c for c in cols if c.startswith('string_')])\n",
    "dll = remove_cols(pelock, [c for c in cols if c.startswith('rich_')])\n",
    "dll = remove_cols(pelock, [c for c in cols if c.startswith('imp_') or 'api_import_nb' == c])\n",
    "# api = remove_cols(pelock, [c for c in cols if c.endswith('.dll') or 'dll_import_nb' == c])\n",
    "dll = remove_cols(pelock, [c for c in cols if c.startswith('pesection')])\n",
    "dll = remove_cols(pelock, [c for c in cols if c.startswith('header_')])"
   ]
  },
  {
   "cell_type": "code",
   "execution_count": 53,
   "id": "ffe97fe1",
   "metadata": {
    "execution": {
     "iopub.execute_input": "2023-12-27T01:18:30.856248Z",
     "iopub.status.busy": "2023-12-27T01:18:30.855804Z",
     "iopub.status.idle": "2023-12-27T01:18:30.939900Z",
     "shell.execute_reply": "2023-12-27T01:18:30.939007Z"
    },
    "papermill": {
     "duration": 0.105297,
     "end_time": "2023-12-27T01:18:30.942125",
     "exception": false,
     "start_time": "2023-12-27T01:18:30.836828",
     "status": "completed"
    },
    "tags": []
   },
   "outputs": [],
   "source": [
    "df_7000_dll = dll.sample(n=7000, random_state=102)\n",
    "df_3000_dll = dll.drop(df_7000.index)\n",
    "data_dll = df_7000_dll.sample(n=3500, random_state=102)"
   ]
  },
  {
   "cell_type": "code",
   "execution_count": 54,
   "id": "c4fb2acb",
   "metadata": {
    "execution": {
     "iopub.execute_input": "2023-12-27T01:18:30.977217Z",
     "iopub.status.busy": "2023-12-27T01:18:30.976876Z",
     "iopub.status.idle": "2023-12-27T01:18:31.131508Z",
     "shell.execute_reply": "2023-12-27T01:18:31.129822Z"
    },
    "papermill": {
     "duration": 0.175084,
     "end_time": "2023-12-27T01:18:31.133901",
     "exception": false,
     "start_time": "2023-12-27T01:18:30.958817",
     "status": "completed"
    },
    "tags": []
   },
   "outputs": [
    {
     "name": "stdout",
     "output_type": "stream",
     "text": [
      "Packed Malware: 1960 samples\n",
      "Packed Benign: 1540 samples\n",
      "Total TRAIN set: 3500 samples\n",
      "Packed Malware: 1540 samples\n",
      "Packed Benign: 1540 samples\n",
      "Total TRAIN set: 3080 samples\n",
      "Packed Malware: 1360 samples\n",
      "Packed Benign: 1360 samples\n",
      "Total TEST set: 2720 samples\n"
     ]
    }
   ],
   "source": [
    "#Kiểm tra số lượng mẫu\n",
    "PM = data_dll[(data_dll['malicious'] == True) & (data_dll['packed'] == True)].shape[0]\n",
    "PB = data_dll[(data_dll['malicious'] == False) & (data_dll['packed'] == True)].shape[0]\n",
    "print('Packed Malware: %i samples' % PM)\n",
    "print('Packed Benign: %i samples' % PB)\n",
    "print('Total TRAIN set: %i samples'% (PM+PB))\n",
    "\n",
    "#Chia tỉ lệ 50 - 50\n",
    "data_PM_dll = data_dll[(data_dll['malicious'] == True) & (data_dll['packed'] == True)].sample(n=(PM-PB), random_state=102)\n",
    "data_dll = data_dll.drop(data_PM_dll.index)\n",
    "      \n",
    "#Số lượng tập train\n",
    "PM = data_dll[(data_dll['malicious'] == True) & (data_dll['packed'] == True)].shape[0]\n",
    "PB = data_dll[(data_dll['malicious'] == False) & (data_dll['packed'] == True)].shape[0]\n",
    "print('Packed Malware: %i samples' % PM)\n",
    "print('Packed Benign: %i samples' % PB)\n",
    "print('Total TRAIN set: %i samples'% (PM+PB))\n",
    "\n",
    "#Xử lý tập train\n",
    "y = data_dll['malicious'].values\n",
    "data_dll = data_dll.drop(['malicious','packed'], axis=1)\n",
    "\n",
    "PM = df_3000_dll[(df_3000_dll['malicious'] == True) & (df_3000_dll['packed'] == True)].shape[0]\n",
    "PB = df_3000_dll[(df_3000_dll['malicious'] == False) & (df_3000_dll['packed'] == True)].shape[0]\n",
    "\n",
    "df_3000_PM_dll = df_3000_dll[(df_3000_dll['malicious'] == True) & (df_3000_dll['packed'] == True)].sample(n=(PM-PB), random_state=102)\n",
    "df_3000_dll = df_3000_dll.drop(df_3000_PM_dll.index)\n",
    "\n",
    "PM = df_3000_dll[(df_3000_dll['malicious'] == True) & (df_3000_dll['packed'] == True)].shape[0]\n",
    "PB = df_3000_dll[(df_3000_dll['malicious'] == False) & (df_3000_dll['packed'] == True)].shape[0]\n",
    "\n",
    "print('Packed Malware: %i samples' % PM)\n",
    "print('Packed Benign: %i samples' % PB)\n",
    "print('Total TEST set: %i samples'% (PM+PB))"
   ]
  },
  {
   "cell_type": "code",
   "execution_count": 55,
   "id": "4a9bc2e2",
   "metadata": {
    "execution": {
     "iopub.execute_input": "2023-12-27T01:18:31.170676Z",
     "iopub.status.busy": "2023-12-27T01:18:31.170330Z",
     "iopub.status.idle": "2023-12-27T01:18:31.211984Z",
     "shell.execute_reply": "2023-12-27T01:18:31.211091Z"
    },
    "papermill": {
     "duration": 0.063243,
     "end_time": "2023-12-27T01:18:31.214024",
     "exception": false,
     "start_time": "2023-12-27T01:18:31.150781",
     "status": "completed"
    },
    "tags": []
   },
   "outputs": [],
   "source": [
    "# model = SelectFromModel(fsel, prefit=True)\n",
    "\n",
    "X_train_dll = data_dll\n",
    "X_test_dll = df_3000_dll.drop(['malicious','packed'], axis=1)\n",
    "\n",
    "data_dll = data_dll.loc[:, (data_dll != 0).any(axis=0)]\n",
    "x_train_dll = data_dll\n",
    "X_test_dll = df_3000_dll.drop(['malicious','packed'], axis=1)\n",
    "y_train_dll = y\n",
    "y_test_dll = df_3000_dll['malicious'].values"
   ]
  },
  {
   "cell_type": "code",
   "execution_count": 56,
   "id": "c0e0bbc6",
   "metadata": {
    "execution": {
     "iopub.execute_input": "2023-12-27T01:18:31.248285Z",
     "iopub.status.busy": "2023-12-27T01:18:31.247955Z",
     "iopub.status.idle": "2023-12-27T01:18:35.364763Z",
     "shell.execute_reply": "2023-12-27T01:18:35.363334Z"
    },
    "papermill": {
     "duration": 4.13624,
     "end_time": "2023-12-27T01:18:35.366680",
     "exception": false,
     "start_time": "2023-12-27T01:18:31.230440",
     "status": "completed"
    },
    "tags": []
   },
   "outputs": [
    {
     "name": "stdout",
     "output_type": "stream",
     "text": [
      "The accuracy of the Random Forests model is :\t 0.9161764705882353\n"
     ]
    }
   ],
   "source": [
    "# Random Forest\n",
    "from sklearn.ensemble import RandomForestClassifier\n",
    "from sklearn import metrics\n",
    "\n",
    "random_forest = RandomForestClassifier(n_estimators=100, random_state=17)\n",
    "random_forest.fit(X_train_dll, y_train_dll)\n",
    "random_forest_preds = random_forest.predict(X_test_dll)\n",
    "print('The accuracy of the Random Forests model is :\\t',metrics.accuracy_score(random_forest_preds,y_test_dll))"
   ]
  },
  {
   "cell_type": "markdown",
   "id": "879e06a3",
   "metadata": {
    "papermill": {
     "duration": 0.016401,
     "end_time": "2023-12-27T01:18:35.399839",
     "exception": false,
     "start_time": "2023-12-27T01:18:35.383438",
     "status": "completed"
    },
    "tags": []
   },
   "source": [
    "# **pe sections features**"
   ]
  },
  {
   "cell_type": "code",
   "execution_count": 57,
   "id": "dde8e88a",
   "metadata": {
    "execution": {
     "iopub.execute_input": "2023-12-27T01:18:35.435928Z",
     "iopub.status.busy": "2023-12-27T01:18:35.435526Z",
     "iopub.status.idle": "2023-12-27T01:18:36.347186Z",
     "shell.execute_reply": "2023-12-27T01:18:36.346243Z"
    },
    "papermill": {
     "duration": 0.932874,
     "end_time": "2023-12-27T01:18:36.349306",
     "exception": false,
     "start_time": "2023-12-27T01:18:35.416432",
     "status": "completed"
    },
    "tags": []
   },
   "outputs": [],
   "source": [
    "pelock = pd.read_pickle('/kaggle/input/packer-balance-pickle/pelock_balance.pickle')\n",
    "pelock = pelock.drop(['sample_sha1','benign','unpacked_sample_sha1','unpacked_sample_id'], axis=1)\n",
    "pelock = pelock.drop(['benign_vt','malicious_vt'], axis=1)\n",
    "string_columns = pelock.select_dtypes(include=['object']).columns\n",
    "pelock = pelock.drop(string_columns, axis=1)"
   ]
  },
  {
   "cell_type": "code",
   "execution_count": 58,
   "id": "0f1f816f",
   "metadata": {
    "execution": {
     "iopub.execute_input": "2023-12-27T01:18:36.385574Z",
     "iopub.status.busy": "2023-12-27T01:18:36.385211Z",
     "iopub.status.idle": "2023-12-27T01:18:37.072549Z",
     "shell.execute_reply": "2023-12-27T01:18:37.071043Z"
    },
    "papermill": {
     "duration": 0.707834,
     "end_time": "2023-12-27T01:18:37.074903",
     "exception": false,
     "start_time": "2023-12-27T01:18:36.367069",
     "status": "completed"
    },
    "tags": []
   },
   "outputs": [
    {
     "name": "stdout",
     "output_type": "stream",
     "text": [
      "removing 13000 features\n",
      "removing 2500 features\n",
      "removing 2 features\n",
      "removing 16900 features\n",
      "removing 66 features\n",
      "removing 19169 features\n",
      "removing 4306 features\n",
      "removing 29 features\n"
     ]
    }
   ],
   "source": [
    "pesection = remove_cols(pelock, [c for c in cols if c.startswith('ngram_')])\n",
    "pesection = remove_cols(pelock, [c for c in cols if c.startswith('opcode_')])\n",
    "pesection = remove_cols(pelock, [c for c in cols if c.startswith('generic_')])\n",
    "pesection = remove_cols(pelock, [c for c in cols if c.startswith('string_')])\n",
    "pesection = remove_cols(pelock, [c for c in cols if c.startswith('rich_')])\n",
    "pesection = remove_cols(pelock, [c for c in cols if c.startswith('imp_') or 'api_import_nb' == c])\n",
    "pesection = remove_cols(pelock, [c for c in cols if c.endswith('.dll') or 'dll_import_nb' == c])\n",
    "# pesection = remove_cols(pelock, [c for c in cols if c.startswith('pesection')])\n",
    "pesection = remove_cols(pelock, [c for c in cols if c.startswith('header_')])"
   ]
  },
  {
   "cell_type": "code",
   "execution_count": 59,
   "id": "91473556",
   "metadata": {
    "execution": {
     "iopub.execute_input": "2023-12-27T01:18:37.110901Z",
     "iopub.status.busy": "2023-12-27T01:18:37.110494Z",
     "iopub.status.idle": "2023-12-27T01:18:37.158133Z",
     "shell.execute_reply": "2023-12-27T01:18:37.157137Z"
    },
    "papermill": {
     "duration": 0.068335,
     "end_time": "2023-12-27T01:18:37.160594",
     "exception": false,
     "start_time": "2023-12-27T01:18:37.092259",
     "status": "completed"
    },
    "tags": []
   },
   "outputs": [],
   "source": [
    "df_7000_pesection = pesection.sample(n=7000, random_state=102)\n",
    "df_3000_pesection = pesection.drop(df_7000.index)\n",
    "data_pesection = df_7000_pesection.sample(n=3500, random_state=102)"
   ]
  },
  {
   "cell_type": "code",
   "execution_count": 60,
   "id": "90c5e983",
   "metadata": {
    "execution": {
     "iopub.execute_input": "2023-12-27T01:18:37.197108Z",
     "iopub.status.busy": "2023-12-27T01:18:37.196693Z",
     "iopub.status.idle": "2023-12-27T01:18:37.296909Z",
     "shell.execute_reply": "2023-12-27T01:18:37.295764Z"
    },
    "papermill": {
     "duration": 0.12054,
     "end_time": "2023-12-27T01:18:37.298795",
     "exception": false,
     "start_time": "2023-12-27T01:18:37.178255",
     "status": "completed"
    },
    "tags": []
   },
   "outputs": [
    {
     "name": "stdout",
     "output_type": "stream",
     "text": [
      "Packed Malware: 1960 samples\n",
      "Packed Benign: 1540 samples\n",
      "Total TRAIN set: 3500 samples\n",
      "Packed Malware: 1540 samples\n",
      "Packed Benign: 1540 samples\n",
      "Total TRAIN set: 3080 samples\n",
      "Packed Malware: 1360 samples\n",
      "Packed Benign: 1360 samples\n",
      "Total TEST set: 2720 samples\n"
     ]
    }
   ],
   "source": [
    "#Kiểm tra số lượng mẫu\n",
    "PM = data_pesection[(data_pesection['malicious'] == True) & (data_pesection['packed'] == True)].shape[0]\n",
    "PB = data_pesection[(data_pesection['malicious'] == False) & (data_pesection['packed'] == True)].shape[0]\n",
    "print('Packed Malware: %i samples' % PM)\n",
    "print('Packed Benign: %i samples' % PB)\n",
    "print('Total TRAIN set: %i samples'% (PM+PB))\n",
    "\n",
    "#Chia tỉ lệ 50 - 50\n",
    "data_PM_pesection = data_pesection[(data_pesection['malicious'] == True) & (data_pesection['packed'] == True)].sample(n=(PM-PB), random_state=102)\n",
    "data_pesection = data_pesection.drop(data_PM_pesection.index)\n",
    "      \n",
    "#Số lượng tập train\n",
    "PM = data_pesection[(data_pesection['malicious'] == True) & (data_pesection['packed'] == True)].shape[0]\n",
    "PB = data_pesection[(data_pesection['malicious'] == False) & (data_pesection['packed'] == True)].shape[0]\n",
    "print('Packed Malware: %i samples' % PM)\n",
    "print('Packed Benign: %i samples' % PB)\n",
    "print('Total TRAIN set: %i samples'% (PM+PB))\n",
    "\n",
    "#Xử lý tập train\n",
    "y = data_pesection['malicious'].values\n",
    "data_pesection = data_pesection.drop(['malicious','packed'], axis=1)\n",
    "\n",
    "PM = df_3000_pesection[(df_3000_pesection['malicious'] == True) & (df_3000_pesection['packed'] == True)].shape[0]\n",
    "PB = df_3000_pesection[(df_3000_pesection['malicious'] == False) & (df_3000_pesection['packed'] == True)].shape[0]\n",
    "\n",
    "df_3000_PM_pesection = df_3000_pesection[(df_3000_pesection['malicious'] == True) & (df_3000_pesection['packed'] == True)].sample(n=(PM-PB), random_state=102)\n",
    "df_3000_pesection = df_3000_pesection.drop(df_3000_PM_pesection.index)\n",
    "\n",
    "PM = df_3000_pesection[(df_3000_pesection['malicious'] == True) & (df_3000_pesection['packed'] == True)].shape[0]\n",
    "PB = df_3000_pesection[(df_3000_pesection['malicious'] == False) & (df_3000_pesection['packed'] == True)].shape[0]\n",
    "\n",
    "print('Packed Malware: %i samples' % PM)\n",
    "print('Packed Benign: %i samples' % PB)\n",
    "print('Total TEST set: %i samples'% (PM+PB))"
   ]
  },
  {
   "cell_type": "code",
   "execution_count": 61,
   "id": "d472b4f3",
   "metadata": {
    "execution": {
     "iopub.execute_input": "2023-12-27T01:18:37.335169Z",
     "iopub.status.busy": "2023-12-27T01:18:37.333905Z",
     "iopub.status.idle": "2023-12-27T01:18:37.364294Z",
     "shell.execute_reply": "2023-12-27T01:18:37.363235Z"
    },
    "papermill": {
     "duration": 0.051035,
     "end_time": "2023-12-27T01:18:37.367491",
     "exception": false,
     "start_time": "2023-12-27T01:18:37.316456",
     "status": "completed"
    },
    "tags": []
   },
   "outputs": [],
   "source": [
    "# model = SelectFromModel(fsel, prefit=True)\n",
    "\n",
    "X_train_pesection = data_pesection\n",
    "X_test_pesection = df_3000_pesection.drop(['malicious','packed'], axis=1)\n",
    "\n",
    "data_pesection = data_pesection.loc[:, (data_pesection != 0).any(axis=0)]\n",
    "x_train_pesection = data_pesection\n",
    "X_test_pesection = df_3000_pesection.drop(['malicious','packed'], axis=1)\n",
    "y_train_pesection = y\n",
    "y_test_pesection = df_3000_pesection['malicious'].values"
   ]
  },
  {
   "cell_type": "code",
   "execution_count": 62,
   "id": "0f1a7994",
   "metadata": {
    "execution": {
     "iopub.execute_input": "2023-12-27T01:18:37.407461Z",
     "iopub.status.busy": "2023-12-27T01:18:37.407126Z",
     "iopub.status.idle": "2023-12-27T01:18:38.120764Z",
     "shell.execute_reply": "2023-12-27T01:18:38.119248Z"
    },
    "papermill": {
     "duration": 0.736695,
     "end_time": "2023-12-27T01:18:38.122761",
     "exception": false,
     "start_time": "2023-12-27T01:18:37.386066",
     "status": "completed"
    },
    "tags": []
   },
   "outputs": [
    {
     "name": "stdout",
     "output_type": "stream",
     "text": [
      "The accuracy of the Random Forests model is :\t 0.9220588235294118\n"
     ]
    }
   ],
   "source": [
    "# Random Forest\n",
    "from sklearn.ensemble import RandomForestClassifier\n",
    "from sklearn import metrics\n",
    "\n",
    "random_forest = RandomForestClassifier(n_estimators=100, random_state=17)\n",
    "random_forest.fit(X_train_pesection, y_train_pesection)\n",
    "random_forest_preds = random_forest.predict(X_test_pesection)\n",
    "print('The accuracy of the Random Forests model is :\\t',metrics.accuracy_score(random_forest_preds,y_test_pesection))"
   ]
  },
  {
   "cell_type": "markdown",
   "id": "4540f5dd",
   "metadata": {
    "papermill": {
     "duration": 0.016563,
     "end_time": "2023-12-27T01:18:38.156403",
     "exception": false,
     "start_time": "2023-12-27T01:18:38.139840",
     "status": "completed"
    },
    "tags": []
   },
   "source": [
    "# **pe header features**"
   ]
  },
  {
   "cell_type": "code",
   "execution_count": 63,
   "id": "f0cb959d",
   "metadata": {
    "execution": {
     "iopub.execute_input": "2023-12-27T01:18:38.191249Z",
     "iopub.status.busy": "2023-12-27T01:18:38.190642Z",
     "iopub.status.idle": "2023-12-27T01:18:39.169348Z",
     "shell.execute_reply": "2023-12-27T01:18:39.168417Z"
    },
    "papermill": {
     "duration": 0.998784,
     "end_time": "2023-12-27T01:18:39.171636",
     "exception": false,
     "start_time": "2023-12-27T01:18:38.172852",
     "status": "completed"
    },
    "tags": []
   },
   "outputs": [],
   "source": [
    "pelock = pd.read_pickle('/kaggle/input/packer-balance-pickle/pelock_balance.pickle')\n",
    "pelock = pelock.drop(['sample_sha1','benign','unpacked_sample_sha1','unpacked_sample_id'], axis=1)\n",
    "pelock = pelock.drop(['benign_vt','malicious_vt'], axis=1)\n",
    "string_columns = pelock.select_dtypes(include=['object']).columns\n",
    "pelock = pelock.drop(string_columns, axis=1)"
   ]
  },
  {
   "cell_type": "code",
   "execution_count": 64,
   "id": "a54aa72c",
   "metadata": {
    "execution": {
     "iopub.execute_input": "2023-12-27T01:18:39.211545Z",
     "iopub.status.busy": "2023-12-27T01:18:39.211131Z",
     "iopub.status.idle": "2023-12-27T01:18:39.934397Z",
     "shell.execute_reply": "2023-12-27T01:18:39.933522Z"
    },
    "papermill": {
     "duration": 0.74501,
     "end_time": "2023-12-27T01:18:39.936443",
     "exception": false,
     "start_time": "2023-12-27T01:18:39.191433",
     "status": "completed"
    },
    "tags": []
   },
   "outputs": [
    {
     "name": "stdout",
     "output_type": "stream",
     "text": [
      "removing 13000 features\n",
      "removing 2500 features\n",
      "removing 2 features\n",
      "removing 16900 features\n",
      "removing 66 features\n",
      "removing 19169 features\n",
      "removing 4306 features\n",
      "removing 550 features\n"
     ]
    }
   ],
   "source": [
    "header = remove_cols(pelock, [c for c in cols if c.startswith('ngram_')])\n",
    "header = remove_cols(pelock, [c for c in cols if c.startswith('opcode_')])\n",
    "header = remove_cols(pelock, [c for c in cols if c.startswith('generic_')])\n",
    "header = remove_cols(pelock, [c for c in cols if c.startswith('string_')])\n",
    "header = remove_cols(pelock, [c for c in cols if c.startswith('rich_')])\n",
    "header = remove_cols(pelock, [c for c in cols if c.startswith('imp_') or 'api_import_nb' == c])\n",
    "header = remove_cols(pelock, [c for c in cols if c.endswith('.dll') or 'dll_import_nb' == c])\n",
    "header = remove_cols(pelock, [c for c in cols if c.startswith('pesection')])\n",
    "# header = remove_cols(pelock, [c for c in cols if c.startswith('header_')])"
   ]
  },
  {
   "cell_type": "code",
   "execution_count": 65,
   "id": "74adf3a7",
   "metadata": {
    "execution": {
     "iopub.execute_input": "2023-12-27T01:18:39.975883Z",
     "iopub.status.busy": "2023-12-27T01:18:39.975520Z",
     "iopub.status.idle": "2023-12-27T01:18:39.987841Z",
     "shell.execute_reply": "2023-12-27T01:18:39.987186Z"
    },
    "papermill": {
     "duration": 0.033314,
     "end_time": "2023-12-27T01:18:39.989660",
     "exception": false,
     "start_time": "2023-12-27T01:18:39.956346",
     "status": "completed"
    },
    "tags": []
   },
   "outputs": [],
   "source": [
    "df_7000_header = header.sample(n=7000, random_state=102)\n",
    "df_3000_header = header.drop(df_7000.index)\n",
    "data_header = df_7000_header.sample(n=3500, random_state=102)"
   ]
  },
  {
   "cell_type": "code",
   "execution_count": 66,
   "id": "3c115a1b",
   "metadata": {
    "execution": {
     "iopub.execute_input": "2023-12-27T01:18:40.026481Z",
     "iopub.status.busy": "2023-12-27T01:18:40.025900Z",
     "iopub.status.idle": "2023-12-27T01:18:40.054465Z",
     "shell.execute_reply": "2023-12-27T01:18:40.053250Z"
    },
    "papermill": {
     "duration": 0.049314,
     "end_time": "2023-12-27T01:18:40.056709",
     "exception": false,
     "start_time": "2023-12-27T01:18:40.007395",
     "status": "completed"
    },
    "tags": []
   },
   "outputs": [
    {
     "name": "stdout",
     "output_type": "stream",
     "text": [
      "Packed Malware: 1960 samples\n",
      "Packed Benign: 1540 samples\n",
      "Total TRAIN set: 3500 samples\n",
      "Packed Malware: 1540 samples\n",
      "Packed Benign: 1540 samples\n",
      "Total TRAIN set: 3080 samples\n",
      "Packed Malware: 1360 samples\n",
      "Packed Benign: 1360 samples\n",
      "Total TEST set: 2720 samples\n"
     ]
    }
   ],
   "source": [
    "#Kiểm tra số lượng mẫu\n",
    "PM = data_header[(data_header['malicious'] == True) & (data_header['packed'] == True)].shape[0]\n",
    "PB = data_header[(data_header['malicious'] == False) & (data_header['packed'] == True)].shape[0]\n",
    "print('Packed Malware: %i samples' % PM)\n",
    "print('Packed Benign: %i samples' % PB)\n",
    "print('Total TRAIN set: %i samples'% (PM+PB))\n",
    "\n",
    "#Chia tỉ lệ 50 - 50\n",
    "data_PM_header = data_header[(data_header['malicious'] == True) & (data_header['packed'] == True)].sample(n=(PM-PB), random_state=102)\n",
    "data_header = data_header.drop(data_PM_header.index)\n",
    "      \n",
    "#Số lượng tập train\n",
    "PM = data_header[(data_header['malicious'] == True) & (data_header['packed'] == True)].shape[0]\n",
    "PB = data_header[(data_header['malicious'] == False) & (data_header['packed'] == True)].shape[0]\n",
    "print('Packed Malware: %i samples' % PM)\n",
    "print('Packed Benign: %i samples' % PB)\n",
    "print('Total TRAIN set: %i samples'% (PM+PB))\n",
    "\n",
    "#Xử lý tập train\n",
    "y = data_header['malicious'].values\n",
    "data_header= data_header.drop(['malicious','packed'], axis=1)\n",
    "\n",
    "PM = df_3000_header[(df_3000_header['malicious'] == True) & (df_3000_header['packed'] == True)].shape[0]\n",
    "PB = df_3000_header[(df_3000_header['malicious'] == False) & (df_3000_header['packed'] == True)].shape[0]\n",
    "\n",
    "df_3000_PM_header = df_3000_header[(df_3000_header['malicious'] == True) & (df_3000_header['packed'] == True)].sample(n=(PM-PB), random_state=102)\n",
    "df_3000_header= df_3000_header.drop(df_3000_PM_header.index)\n",
    "\n",
    "PM = df_3000_header[(df_3000_header['malicious'] == True) & (df_3000_header['packed'] == True)].shape[0]\n",
    "PB = df_3000_header[(df_3000_header['malicious'] == False) & (df_3000_header['packed'] == True)].shape[0]\n",
    "\n",
    "print('Packed Malware: %i samples' % PM)\n",
    "print('Packed Benign: %i samples' % PB)\n",
    "print('Total TEST set: %i samples'% (PM+PB))"
   ]
  },
  {
   "cell_type": "code",
   "execution_count": 67,
   "id": "1c4a08db",
   "metadata": {
    "execution": {
     "iopub.execute_input": "2023-12-27T01:18:40.095577Z",
     "iopub.status.busy": "2023-12-27T01:18:40.095115Z",
     "iopub.status.idle": "2023-12-27T01:18:40.108501Z",
     "shell.execute_reply": "2023-12-27T01:18:40.107289Z"
    },
    "papermill": {
     "duration": 0.035182,
     "end_time": "2023-12-27T01:18:40.110771",
     "exception": false,
     "start_time": "2023-12-27T01:18:40.075589",
     "status": "completed"
    },
    "tags": []
   },
   "outputs": [],
   "source": [
    "# model = SelectFromModel(fsel, prefit=True)\n",
    "\n",
    "X_train_header = data_header\n",
    "X_test_header = df_3000_header.drop(['malicious','packed'], axis=1)\n",
    "\n",
    "data_header = data_header.loc[:, (data_header != 0).any(axis=0)]\n",
    "x_train_header = data_header\n",
    "X_test_header = df_3000_header.drop(['malicious','packed'], axis=1)\n",
    "y_train_header = y\n",
    "y_test_header = df_3000_header['malicious'].values"
   ]
  },
  {
   "cell_type": "code",
   "execution_count": 68,
   "id": "e90be674",
   "metadata": {
    "execution": {
     "iopub.execute_input": "2023-12-27T01:18:40.148114Z",
     "iopub.status.busy": "2023-12-27T01:18:40.147630Z",
     "iopub.status.idle": "2023-12-27T01:18:40.543419Z",
     "shell.execute_reply": "2023-12-27T01:18:40.542480Z"
    },
    "papermill": {
     "duration": 0.417074,
     "end_time": "2023-12-27T01:18:40.545699",
     "exception": false,
     "start_time": "2023-12-27T01:18:40.128625",
     "status": "completed"
    },
    "tags": []
   },
   "outputs": [
    {
     "name": "stdout",
     "output_type": "stream",
     "text": [
      "The accuracy of the Random Forests model is :\t 0.9419117647058823\n"
     ]
    }
   ],
   "source": [
    "# Random Forest\n",
    "from sklearn.ensemble import RandomForestClassifier\n",
    "from sklearn import metrics\n",
    "\n",
    "random_forest = RandomForestClassifier(n_estimators=100, random_state=17)\n",
    "random_forest.fit(X_train_header, y_train_header)\n",
    "random_forest_preds = random_forest.predict(X_test_header)\n",
    "print('The accuracy of the Random Forests model is :\\t',metrics.accuracy_score(random_forest_preds,y_test_header))"
   ]
  }
 ],
 "metadata": {
  "kaggle": {
   "accelerator": "none",
   "dataSources": [
    {
     "datasetId": 4192384,
     "sourceId": 7262652,
     "sourceType": "datasetVersion"
    }
   ],
   "dockerImageVersionId": 30626,
   "isGpuEnabled": false,
   "isInternetEnabled": true,
   "language": "python",
   "sourceType": "notebook"
  },
  "kernelspec": {
   "display_name": "Python 3",
   "language": "python",
   "name": "python3"
  },
  "language_info": {
   "codemirror_mode": {
    "name": "ipython",
    "version": 3
   },
   "file_extension": ".py",
   "mimetype": "text/x-python",
   "name": "python",
   "nbconvert_exporter": "python",
   "pygments_lexer": "ipython3",
   "version": "3.10.12"
  },
  "papermill": {
   "default_parameters": {},
   "duration": 72.698016,
   "end_time": "2023-12-27T01:18:41.287216",
   "environment_variables": {},
   "exception": null,
   "input_path": "__notebook__.ipynb",
   "output_path": "__notebook__.ipynb",
   "parameters": {},
   "start_time": "2023-12-27T01:17:28.589200",
   "version": "2.4.0"
  }
 },
 "nbformat": 4,
 "nbformat_minor": 5
}
