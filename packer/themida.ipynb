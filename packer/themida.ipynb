{
 "cells": [
  {
   "cell_type": "code",
   "execution_count": 1,
   "id": "2e52048d",
   "metadata": {
    "execution": {
     "iopub.execute_input": "2023-12-27T01:16:15.735854Z",
     "iopub.status.busy": "2023-12-27T01:16:15.734946Z",
     "iopub.status.idle": "2023-12-27T01:16:18.749180Z",
     "shell.execute_reply": "2023-12-27T01:16:18.747866Z"
    },
    "papermill": {
     "duration": 3.045042,
     "end_time": "2023-12-27T01:16:18.752875",
     "exception": false,
     "start_time": "2023-12-27T01:16:15.707833",
     "status": "completed"
    },
    "tags": []
   },
   "outputs": [],
   "source": [
    "import pandas as pd\n",
    "import numpy as np\n",
    "import sklearn\n",
    "import sklearn.naive_bayes\n",
    "import sklearn.ensemble as ske\n",
    "import sklearn.neighbors\n",
    "import sklearn.pipeline\n",
    "import sklearn.linear_model\n",
    "import joblib\n",
    "from sklearn import preprocessing\n",
    "from sklearn import tree, linear_model\n",
    "from sklearn.metrics import confusion_matrix\n",
    "from sklearn.metrics import classification_report\n",
    "from sklearn.feature_selection import SelectFromModel\n",
    "import sys\n",
    "import sqlite3\n",
    "import importlib\n",
    "import matplotlib.pyplot as plt\n",
    "import seaborn as sn\n",
    "from sklearn import metrics"
   ]
  },
  {
   "cell_type": "code",
   "execution_count": 2,
   "id": "15dc363e",
   "metadata": {
    "execution": {
     "iopub.execute_input": "2023-12-27T01:16:18.805137Z",
     "iopub.status.busy": "2023-12-27T01:16:18.804182Z",
     "iopub.status.idle": "2023-12-27T01:16:25.965917Z",
     "shell.execute_reply": "2023-12-27T01:16:25.964517Z"
    },
    "papermill": {
     "duration": 7.191624,
     "end_time": "2023-12-27T01:16:25.969242",
     "exception": false,
     "start_time": "2023-12-27T01:16:18.777618",
     "status": "completed"
    },
    "tags": []
   },
   "outputs": [],
   "source": [
    "themida = pd.read_pickle('/kaggle/input/packer-balance-pickle/themida_balance.pickle')"
   ]
  },
  {
   "cell_type": "code",
   "execution_count": 3,
   "id": "6bdddb7e",
   "metadata": {
    "execution": {
     "iopub.execute_input": "2023-12-27T01:16:26.022684Z",
     "iopub.status.busy": "2023-12-27T01:16:26.021731Z",
     "iopub.status.idle": "2023-12-27T01:16:27.472003Z",
     "shell.execute_reply": "2023-12-27T01:16:27.470433Z"
    },
    "papermill": {
     "duration": 1.481459,
     "end_time": "2023-12-27T01:16:27.475135",
     "exception": false,
     "start_time": "2023-12-27T01:16:25.993676",
     "status": "completed"
    },
    "tags": []
   },
   "outputs": [],
   "source": [
    "themida = themida.drop(['sample_sha1','benign','unpacked_sample_sha1','unpacked_sample_id'], axis=1)\n",
    "themida = themida.drop(['benign_vt','malicious_vt'], axis=1)"
   ]
  },
  {
   "cell_type": "code",
   "execution_count": 4,
   "id": "7e0dd16e",
   "metadata": {
    "execution": {
     "iopub.execute_input": "2023-12-27T01:16:27.529052Z",
     "iopub.status.busy": "2023-12-27T01:16:27.528113Z",
     "iopub.status.idle": "2023-12-27T01:16:27.991493Z",
     "shell.execute_reply": "2023-12-27T01:16:27.990142Z"
    },
    "papermill": {
     "duration": 0.493823,
     "end_time": "2023-12-27T01:16:27.994700",
     "exception": false,
     "start_time": "2023-12-27T01:16:27.500877",
     "status": "completed"
    },
    "tags": []
   },
   "outputs": [],
   "source": [
    "string_columns = themida.select_dtypes(include=['object']).columns\n",
    "themida = themida.drop(string_columns, axis=1)"
   ]
  },
  {
   "cell_type": "code",
   "execution_count": 5,
   "id": "290d9f60",
   "metadata": {
    "execution": {
     "iopub.execute_input": "2023-12-27T01:16:28.044761Z",
     "iopub.status.busy": "2023-12-27T01:16:28.044284Z",
     "iopub.status.idle": "2023-12-27T01:16:28.101142Z",
     "shell.execute_reply": "2023-12-27T01:16:28.099804Z"
    },
    "papermill": {
     "duration": 0.085638,
     "end_time": "2023-12-27T01:16:28.103947",
     "exception": false,
     "start_time": "2023-12-27T01:16:28.018309",
     "status": "completed"
    },
    "tags": []
   },
   "outputs": [
    {
     "data": {
      "text/html": [
       "<div>\n",
       "<style scoped>\n",
       "    .dataframe tbody tr th:only-of-type {\n",
       "        vertical-align: middle;\n",
       "    }\n",
       "\n",
       "    .dataframe tbody tr th {\n",
       "        vertical-align: top;\n",
       "    }\n",
       "\n",
       "    .dataframe thead th {\n",
       "        text-align: right;\n",
       "    }\n",
       "</style>\n",
       "<table border=\"1\" class=\"dataframe\">\n",
       "  <thead>\n",
       "    <tr style=\"text-align: right;\">\n",
       "      <th></th>\n",
       "      <th>malicious</th>\n",
       "      <th>packed</th>\n",
       "      <th>imp_setupremovefilelogentrya</th>\n",
       "      <th>imp_vardeccmp</th>\n",
       "      <th>imp_setdlgitemint</th>\n",
       "      <th>imp_?append@?$basic_string@du?$char_traits@d@std@@v?$allocator@d@2@@std@@qaeaav12@abv12@ii@z</th>\n",
       "      <th>imp_zwwritefile</th>\n",
       "      <th>imp_glstencilop</th>\n",
       "      <th>imp_comparelinkinforeferents</th>\n",
       "      <th>imp__setmbcp</th>\n",
       "      <th>...</th>\n",
       "      <th>opcode_xor sub mov</th>\n",
       "      <th>opcode_xor sub mov add</th>\n",
       "      <th>opcode_xor test</th>\n",
       "      <th>opcode_xor test je</th>\n",
       "      <th>opcode_xor xor</th>\n",
       "      <th>opcode_xor xor mov</th>\n",
       "      <th>opcode_xor xor pop</th>\n",
       "      <th>opcode_xor xor pop mov</th>\n",
       "      <th>opcode_xor xor xor</th>\n",
       "      <th>opcode_xor xor xor pop</th>\n",
       "    </tr>\n",
       "  </thead>\n",
       "  <tbody>\n",
       "    <tr>\n",
       "      <th>0</th>\n",
       "      <td>True</td>\n",
       "      <td>True</td>\n",
       "      <td>False</td>\n",
       "      <td>False</td>\n",
       "      <td>False</td>\n",
       "      <td>False</td>\n",
       "      <td>False</td>\n",
       "      <td>False</td>\n",
       "      <td>False</td>\n",
       "      <td>False</td>\n",
       "      <td>...</td>\n",
       "      <td>0.001402</td>\n",
       "      <td>0.001515</td>\n",
       "      <td>0.0</td>\n",
       "      <td>0.0</td>\n",
       "      <td>0.001377</td>\n",
       "      <td>0.000000</td>\n",
       "      <td>0.001793</td>\n",
       "      <td>0.000000</td>\n",
       "      <td>0.000990</td>\n",
       "      <td>0.001913</td>\n",
       "    </tr>\n",
       "    <tr>\n",
       "      <th>11</th>\n",
       "      <td>True</td>\n",
       "      <td>True</td>\n",
       "      <td>False</td>\n",
       "      <td>False</td>\n",
       "      <td>False</td>\n",
       "      <td>False</td>\n",
       "      <td>False</td>\n",
       "      <td>False</td>\n",
       "      <td>False</td>\n",
       "      <td>False</td>\n",
       "      <td>...</td>\n",
       "      <td>0.001331</td>\n",
       "      <td>0.001439</td>\n",
       "      <td>0.0</td>\n",
       "      <td>0.0</td>\n",
       "      <td>0.001307</td>\n",
       "      <td>0.000000</td>\n",
       "      <td>0.002882</td>\n",
       "      <td>0.000000</td>\n",
       "      <td>0.000000</td>\n",
       "      <td>0.000000</td>\n",
       "    </tr>\n",
       "    <tr>\n",
       "      <th>12</th>\n",
       "      <td>True</td>\n",
       "      <td>True</td>\n",
       "      <td>False</td>\n",
       "      <td>False</td>\n",
       "      <td>False</td>\n",
       "      <td>False</td>\n",
       "      <td>False</td>\n",
       "      <td>False</td>\n",
       "      <td>False</td>\n",
       "      <td>False</td>\n",
       "      <td>...</td>\n",
       "      <td>0.001426</td>\n",
       "      <td>0.001542</td>\n",
       "      <td>0.0</td>\n",
       "      <td>0.0</td>\n",
       "      <td>0.002309</td>\n",
       "      <td>0.001142</td>\n",
       "      <td>0.003828</td>\n",
       "      <td>0.002166</td>\n",
       "      <td>0.001706</td>\n",
       "      <td>0.003295</td>\n",
       "    </tr>\n",
       "    <tr>\n",
       "      <th>13</th>\n",
       "      <td>True</td>\n",
       "      <td>True</td>\n",
       "      <td>False</td>\n",
       "      <td>False</td>\n",
       "      <td>False</td>\n",
       "      <td>False</td>\n",
       "      <td>False</td>\n",
       "      <td>False</td>\n",
       "      <td>False</td>\n",
       "      <td>False</td>\n",
       "      <td>...</td>\n",
       "      <td>0.001484</td>\n",
       "      <td>0.001604</td>\n",
       "      <td>0.0</td>\n",
       "      <td>0.0</td>\n",
       "      <td>0.000000</td>\n",
       "      <td>0.000000</td>\n",
       "      <td>0.000000</td>\n",
       "      <td>0.000000</td>\n",
       "      <td>0.000000</td>\n",
       "      <td>0.000000</td>\n",
       "    </tr>\n",
       "    <tr>\n",
       "      <th>14</th>\n",
       "      <td>False</td>\n",
       "      <td>True</td>\n",
       "      <td>False</td>\n",
       "      <td>False</td>\n",
       "      <td>False</td>\n",
       "      <td>False</td>\n",
       "      <td>False</td>\n",
       "      <td>False</td>\n",
       "      <td>False</td>\n",
       "      <td>False</td>\n",
       "      <td>...</td>\n",
       "      <td>0.001513</td>\n",
       "      <td>0.001636</td>\n",
       "      <td>0.0</td>\n",
       "      <td>0.0</td>\n",
       "      <td>0.001486</td>\n",
       "      <td>0.000000</td>\n",
       "      <td>0.001936</td>\n",
       "      <td>0.002298</td>\n",
       "      <td>0.001069</td>\n",
       "      <td>0.002065</td>\n",
       "    </tr>\n",
       "  </tbody>\n",
       "</table>\n",
       "<p>5 rows × 56526 columns</p>\n",
       "</div>"
      ],
      "text/plain": [
       "    malicious  packed  imp_setupremovefilelogentrya  imp_vardeccmp  \\\n",
       "0        True    True                         False          False   \n",
       "11       True    True                         False          False   \n",
       "12       True    True                         False          False   \n",
       "13       True    True                         False          False   \n",
       "14      False    True                         False          False   \n",
       "\n",
       "    imp_setdlgitemint  \\\n",
       "0               False   \n",
       "11              False   \n",
       "12              False   \n",
       "13              False   \n",
       "14              False   \n",
       "\n",
       "    imp_?append@?$basic_string@du?$char_traits@d@std@@v?$allocator@d@2@@std@@qaeaav12@abv12@ii@z  \\\n",
       "0                                               False                                              \n",
       "11                                              False                                              \n",
       "12                                              False                                              \n",
       "13                                              False                                              \n",
       "14                                              False                                              \n",
       "\n",
       "    imp_zwwritefile  imp_glstencilop  imp_comparelinkinforeferents  \\\n",
       "0             False            False                         False   \n",
       "11            False            False                         False   \n",
       "12            False            False                         False   \n",
       "13            False            False                         False   \n",
       "14            False            False                         False   \n",
       "\n",
       "    imp__setmbcp  ...  opcode_xor sub mov  opcode_xor sub mov add  \\\n",
       "0          False  ...            0.001402                0.001515   \n",
       "11         False  ...            0.001331                0.001439   \n",
       "12         False  ...            0.001426                0.001542   \n",
       "13         False  ...            0.001484                0.001604   \n",
       "14         False  ...            0.001513                0.001636   \n",
       "\n",
       "    opcode_xor test  opcode_xor test je  opcode_xor xor  opcode_xor xor mov  \\\n",
       "0               0.0                 0.0        0.001377            0.000000   \n",
       "11              0.0                 0.0        0.001307            0.000000   \n",
       "12              0.0                 0.0        0.002309            0.001142   \n",
       "13              0.0                 0.0        0.000000            0.000000   \n",
       "14              0.0                 0.0        0.001486            0.000000   \n",
       "\n",
       "    opcode_xor xor pop  opcode_xor xor pop mov  opcode_xor xor xor  \\\n",
       "0             0.001793                0.000000            0.000990   \n",
       "11            0.002882                0.000000            0.000000   \n",
       "12            0.003828                0.002166            0.001706   \n",
       "13            0.000000                0.000000            0.000000   \n",
       "14            0.001936                0.002298            0.001069   \n",
       "\n",
       "    opcode_xor xor xor pop  \n",
       "0                 0.001913  \n",
       "11                0.000000  \n",
       "12                0.003295  \n",
       "13                0.000000  \n",
       "14                0.002065  \n",
       "\n",
       "[5 rows x 56526 columns]"
      ]
     },
     "execution_count": 5,
     "metadata": {},
     "output_type": "execute_result"
    }
   ],
   "source": [
    "themida.head()"
   ]
  },
  {
   "cell_type": "code",
   "execution_count": 6,
   "id": "1013d5fd",
   "metadata": {
    "execution": {
     "iopub.execute_input": "2023-12-27T01:16:28.155243Z",
     "iopub.status.busy": "2023-12-27T01:16:28.154785Z",
     "iopub.status.idle": "2023-12-27T01:16:29.218213Z",
     "shell.execute_reply": "2023-12-27T01:16:29.216784Z"
    },
    "papermill": {
     "duration": 1.093335,
     "end_time": "2023-12-27T01:16:29.221300",
     "exception": false,
     "start_time": "2023-12-27T01:16:28.127965",
     "status": "completed"
    },
    "tags": []
   },
   "outputs": [],
   "source": [
    "df_7000 = themida.sample(n=7000, random_state=102)\n",
    "df_3000 = themida.drop(df_7000.index)"
   ]
  },
  {
   "cell_type": "code",
   "execution_count": 7,
   "id": "063b7a36",
   "metadata": {
    "execution": {
     "iopub.execute_input": "2023-12-27T01:16:29.272278Z",
     "iopub.status.busy": "2023-12-27T01:16:29.271826Z",
     "iopub.status.idle": "2023-12-27T01:16:29.791404Z",
     "shell.execute_reply": "2023-12-27T01:16:29.790230Z"
    },
    "papermill": {
     "duration": 0.548922,
     "end_time": "2023-12-27T01:16:29.794457",
     "exception": false,
     "start_time": "2023-12-27T01:16:29.245535",
     "status": "completed"
    },
    "tags": []
   },
   "outputs": [],
   "source": [
    "data = df_7000.sample(n=3500, random_state=102)"
   ]
  },
  {
   "cell_type": "code",
   "execution_count": 8,
   "id": "daeece03",
   "metadata": {
    "execution": {
     "iopub.execute_input": "2023-12-27T01:16:29.844119Z",
     "iopub.status.busy": "2023-12-27T01:16:29.843505Z",
     "iopub.status.idle": "2023-12-27T01:16:30.283212Z",
     "shell.execute_reply": "2023-12-27T01:16:30.281766Z"
    },
    "papermill": {
     "duration": 0.46878,
     "end_time": "2023-12-27T01:16:30.286816",
     "exception": false,
     "start_time": "2023-12-27T01:16:29.818036",
     "status": "completed"
    },
    "tags": []
   },
   "outputs": [
    {
     "name": "stdout",
     "output_type": "stream",
     "text": [
      "Packed Malware: 2241 samples\n",
      "Packed Benign: 1259 samples\n",
      "Total TRAIN set: 3500 samples\n"
     ]
    }
   ],
   "source": [
    "#Kiểm tra số lượng mẫu\n",
    "PM = data[(data['malicious'] == True) & (data['packed'] == True)].shape[0]\n",
    "PB = data[(data['malicious'] == False) & (data['packed'] == True)].shape[0]\n",
    "print('Packed Malware: %i samples' % PM)\n",
    "print('Packed Benign: %i samples' % PB)\n",
    "print('Total TRAIN set: %i samples'% (PM+PB))"
   ]
  },
  {
   "cell_type": "code",
   "execution_count": 9,
   "id": "358fbc57",
   "metadata": {
    "execution": {
     "iopub.execute_input": "2023-12-27T01:16:30.337673Z",
     "iopub.status.busy": "2023-12-27T01:16:30.337169Z",
     "iopub.status.idle": "2023-12-27T01:16:30.975260Z",
     "shell.execute_reply": "2023-12-27T01:16:30.973803Z"
    },
    "papermill": {
     "duration": 0.66785,
     "end_time": "2023-12-27T01:16:30.979510",
     "exception": false,
     "start_time": "2023-12-27T01:16:30.311660",
     "status": "completed"
    },
    "tags": []
   },
   "outputs": [],
   "source": [
    "#Chia tỉ lệ 50 - 50\n",
    "data_PM = data[(data['malicious'] == True) & (data['packed'] == True)].sample(n=(PM-PB), random_state=102)\n",
    "data = data.drop(data_PM.index)"
   ]
  },
  {
   "cell_type": "code",
   "execution_count": 10,
   "id": "56f444b6",
   "metadata": {
    "execution": {
     "iopub.execute_input": "2023-12-27T01:16:31.129371Z",
     "iopub.status.busy": "2023-12-27T01:16:31.128182Z",
     "iopub.status.idle": "2023-12-27T01:16:31.345795Z",
     "shell.execute_reply": "2023-12-27T01:16:31.344465Z"
    },
    "papermill": {
     "duration": 0.342529,
     "end_time": "2023-12-27T01:16:31.348612",
     "exception": false,
     "start_time": "2023-12-27T01:16:31.006083",
     "status": "completed"
    },
    "tags": []
   },
   "outputs": [
    {
     "name": "stdout",
     "output_type": "stream",
     "text": [
      "Packed Malware: 1259 samples\n",
      "Packed Benign: 1259 samples\n",
      "Total TRAIN set: 2518 samples\n"
     ]
    }
   ],
   "source": [
    "#Số lượng tập train\n",
    "PM = data[(data['malicious'] == True) & (data['packed'] == True)].shape[0]\n",
    "PB = data[(data['malicious'] == False) & (data['packed'] == True)].shape[0]\n",
    "print('Packed Malware: %i samples' % PM)\n",
    "print('Packed Benign: %i samples' % PB)\n",
    "print('Total TRAIN set: %i samples'% (PM+PB))"
   ]
  },
  {
   "cell_type": "code",
   "execution_count": 11,
   "id": "06badef6",
   "metadata": {
    "execution": {
     "iopub.execute_input": "2023-12-27T01:16:31.400195Z",
     "iopub.status.busy": "2023-12-27T01:16:31.399711Z",
     "iopub.status.idle": "2023-12-27T01:16:31.526539Z",
     "shell.execute_reply": "2023-12-27T01:16:31.525212Z"
    },
    "papermill": {
     "duration": 0.156054,
     "end_time": "2023-12-27T01:16:31.529629",
     "exception": false,
     "start_time": "2023-12-27T01:16:31.373575",
     "status": "completed"
    },
    "tags": []
   },
   "outputs": [],
   "source": [
    "#Xử lý tập train\n",
    "y = data['malicious'].values\n",
    "data = data.drop(['malicious','packed'], axis=1)"
   ]
  },
  {
   "cell_type": "code",
   "execution_count": 12,
   "id": "c8459b17",
   "metadata": {
    "execution": {
     "iopub.execute_input": "2023-12-27T01:16:31.580228Z",
     "iopub.status.busy": "2023-12-27T01:16:31.579743Z",
     "iopub.status.idle": "2023-12-27T01:16:32.518839Z",
     "shell.execute_reply": "2023-12-27T01:16:32.517586Z"
    },
    "papermill": {
     "duration": 0.967621,
     "end_time": "2023-12-27T01:16:32.521574",
     "exception": false,
     "start_time": "2023-12-27T01:16:31.553953",
     "status": "completed"
    },
    "tags": []
   },
   "outputs": [
    {
     "name": "stdout",
     "output_type": "stream",
     "text": [
      "Packed Malware: 1089 samples\n",
      "Packed Benign: 1089 samples\n",
      "Total TEST set: 2178 samples\n"
     ]
    }
   ],
   "source": [
    "PM = df_3000[(df_3000['malicious'] == True) & (df_3000['packed'] == True)].shape[0]\n",
    "PB = df_3000[(df_3000['malicious'] == False) & (df_3000['packed'] == True)].shape[0]\n",
    "\n",
    "df_3000_PM = df_3000[(df_3000['malicious'] == True) & (df_3000['packed'] == True)].sample(n=(PM-PB), random_state=102)\n",
    "df_3000 = df_3000.drop(df_3000_PM.index)\n",
    "\n",
    "PM = df_3000[(df_3000['malicious'] == True) & (df_3000['packed'] == True)].shape[0]\n",
    "PB = df_3000[(df_3000['malicious'] == False) & (df_3000['packed'] == True)].shape[0]\n",
    "\n",
    "print('Packed Malware: %i samples' % PM)\n",
    "print('Packed Benign: %i samples' % PB)\n",
    "print('Total TEST set: %i samples'% (PM+PB))"
   ]
  },
  {
   "cell_type": "code",
   "execution_count": 13,
   "id": "73bae9b2",
   "metadata": {
    "execution": {
     "iopub.execute_input": "2023-12-27T01:16:32.571915Z",
     "iopub.status.busy": "2023-12-27T01:16:32.571217Z",
     "iopub.status.idle": "2023-12-27T01:16:33.094824Z",
     "shell.execute_reply": "2023-12-27T01:16:33.093678Z"
    },
    "papermill": {
     "duration": 0.552164,
     "end_time": "2023-12-27T01:16:33.097659",
     "exception": false,
     "start_time": "2023-12-27T01:16:32.545495",
     "status": "completed"
    },
    "tags": []
   },
   "outputs": [],
   "source": [
    "# model = SelectFromModel(fsel, prefit=True)\n",
    "\n",
    "X_train = data\n",
    "X_test = df_3000.drop(['malicious','packed'], axis=1)\n",
    "\n",
    "data = data.loc[:, (data != 0).any(axis=0)]\n",
    "x_train = data\n",
    "X_test = df_3000.drop(['malicious','packed'], axis=1)\n",
    "y_train = y\n",
    "y_test = df_3000['malicious'].values"
   ]
  },
  {
   "cell_type": "code",
   "execution_count": 14,
   "id": "7d15e2e2",
   "metadata": {
    "execution": {
     "iopub.execute_input": "2023-12-27T01:16:33.150631Z",
     "iopub.status.busy": "2023-12-27T01:16:33.149364Z",
     "iopub.status.idle": "2023-12-27T01:16:40.677352Z",
     "shell.execute_reply": "2023-12-27T01:16:40.676151Z"
    },
    "papermill": {
     "duration": 7.557366,
     "end_time": "2023-12-27T01:16:40.680360",
     "exception": false,
     "start_time": "2023-12-27T01:16:33.122994",
     "status": "completed"
    },
    "tags": []
   },
   "outputs": [
    {
     "name": "stdout",
     "output_type": "stream",
     "text": [
      "The accuracy of the Random Forests model is :\t 0.8953168044077136\n"
     ]
    }
   ],
   "source": [
    "# Random Forest\n",
    "from sklearn.ensemble import RandomForestClassifier\n",
    "from sklearn import metrics\n",
    "\n",
    "random_forest = RandomForestClassifier(n_estimators=100, random_state=17)\n",
    "random_forest.fit(X_train, y_train)\n",
    "random_forest_preds = random_forest.predict(X_test)\n",
    "print('The accuracy of the Random Forests model is :\\t',metrics.accuracy_score(random_forest_preds,y_test))"
   ]
  },
  {
   "cell_type": "code",
   "execution_count": 15,
   "id": "abf4d9fd",
   "metadata": {
    "execution": {
     "iopub.execute_input": "2023-12-27T01:16:40.731919Z",
     "iopub.status.busy": "2023-12-27T01:16:40.731465Z",
     "iopub.status.idle": "2023-12-27T01:16:40.818250Z",
     "shell.execute_reply": "2023-12-27T01:16:40.817219Z"
    },
    "papermill": {
     "duration": 0.116104,
     "end_time": "2023-12-27T01:16:40.821081",
     "exception": false,
     "start_time": "2023-12-27T01:16:40.704977",
     "status": "completed"
    },
    "tags": []
   },
   "outputs": [
    {
     "data": {
      "text/plain": [
       "ngram_b'\\x03\\x01\\x00\\x01\\xa3\\x82'    0.016312\n",
       "ngram_b'\\x0c\\x06\\n+\\x06\\x01'         0.012331\n",
       "ngram_b'http:/'                      0.009091\n",
       "ngram_b'\\x01\\x05\\x00\\x04\\x82\\x01'    0.008413\n",
       "ngram_b'+\\x06\\x01\\x05\\x05\\x07'       0.008289\n",
       "                                       ...   \n",
       "imp_pyexc_overflowerror              0.000000\n",
       "imp_pydict_setitem                   0.000000\n",
       "imp_pyexc_attributeerror             0.000000\n",
       "imp__py_zerostruct                   0.000000\n",
       "string_b'6!7(7E7l7'                  0.000000\n",
       "Length: 56524, dtype: float64"
      ]
     },
     "execution_count": 15,
     "metadata": {},
     "output_type": "execute_result"
    }
   ],
   "source": [
    "feature_scores_rf = pd.Series(random_forest.feature_importances_, index=X_train.columns).sort_values(ascending=False)\n",
    "\n",
    "feature_scores_rf"
   ]
  },
  {
   "cell_type": "code",
   "execution_count": 16,
   "id": "41f0396a",
   "metadata": {
    "execution": {
     "iopub.execute_input": "2023-12-27T01:16:40.873235Z",
     "iopub.status.busy": "2023-12-27T01:16:40.872756Z",
     "iopub.status.idle": "2023-12-27T01:16:40.954940Z",
     "shell.execute_reply": "2023-12-27T01:16:40.952852Z"
    },
    "papermill": {
     "duration": 0.112318,
     "end_time": "2023-12-27T01:16:40.958286",
     "exception": false,
     "start_time": "2023-12-27T01:16:40.845968",
     "status": "completed"
    },
    "tags": []
   },
   "outputs": [],
   "source": [
    "top50 = pd.Series(random_forest.feature_importances_, index=X_train.columns).sort_values(ascending=False).head(50)"
   ]
  },
  {
   "cell_type": "code",
   "execution_count": 17,
   "id": "e13762f7",
   "metadata": {
    "execution": {
     "iopub.execute_input": "2023-12-27T01:16:41.021211Z",
     "iopub.status.busy": "2023-12-27T01:16:41.020701Z",
     "iopub.status.idle": "2023-12-27T01:16:41.039132Z",
     "shell.execute_reply": "2023-12-27T01:16:41.037896Z"
    },
    "papermill": {
     "duration": 0.050523,
     "end_time": "2023-12-27T01:16:41.042043",
     "exception": false,
     "start_time": "2023-12-27T01:16:40.991520",
     "status": "completed"
    },
    "tags": []
   },
   "outputs": [
    {
     "name": "stdout",
     "output_type": "stream",
     "text": [
      "'ngram': 50\n",
      "'opcode ngram': 0\n",
      "'generic': 0\n",
      "'strings': 0\n",
      "'rich header': 0\n",
      "'api import': 0\n",
      "'dll': 0\n",
      "'pe section': 0\n",
      "'pe header': 0\n"
     ]
    }
   ],
   "source": [
    "# Tạo DataFrame từ feature_scores_rf\n",
    "df_features = pd.DataFrame(top50, columns=['Score'])\n",
    "\n",
    "count_ngram = df_features[df_features.index.str.startswith('ngram_')].shape[0]\n",
    "count_opcode = df_features[df_features.index.str.startswith('opcode_')].shape[0]\n",
    "count_generic = df_features[df_features.index.str.startswith('generic_')].shape[0]\n",
    "count_string = df_features[df_features.index.str.startswith('string_')].shape[0]\n",
    "count_rich = df_features[df_features.index.str.startswith('rich_')].shape[0]\n",
    "# count_api = df_features[df_features.index.str.startswith('imp_') or 'api_import_nb' == c].shape[0]\n",
    "# count_dll = df_features[df_features.index.str.startswith('.dll') or 'dll_import_nb' == c].shape[0]\n",
    "count_api = df_features[df_features.index.str.startswith('imp_') | (df_features.index == 'api_import_nb')].shape[0]\n",
    "count_dll = df_features[df_features.index.str.endswith('.dll') | (df_features.index == 'dll_import_nb')].shape[0]\n",
    "count_section = df_features[df_features.index.str.startswith('pesection')].shape[0]\n",
    "count_header = df_features[df_features.index.str.startswith('header_')].shape[0]\n",
    "\n",
    "print(f\"'ngram': {count_ngram}\")\n",
    "print(f\"'opcode ngram': {count_opcode}\")\n",
    "print(f\"'generic': {count_generic}\")\n",
    "print(f\"'strings': {count_string}\")\n",
    "print(f\"'rich header': {count_rich}\")\n",
    "print(f\"'api import': {count_api}\")\n",
    "print(f\"'dll': {count_dll}\")\n",
    "print(f\"'pe section': {count_section}\")\n",
    "print(f\"'pe header': {count_header}\")"
   ]
  },
  {
   "cell_type": "code",
   "execution_count": 18,
   "id": "2687414f",
   "metadata": {
    "execution": {
     "iopub.execute_input": "2023-12-27T01:16:41.093643Z",
     "iopub.status.busy": "2023-12-27T01:16:41.092662Z",
     "iopub.status.idle": "2023-12-27T01:16:41.105592Z",
     "shell.execute_reply": "2023-12-27T01:16:41.104667Z"
    },
    "papermill": {
     "duration": 0.04104,
     "end_time": "2023-12-27T01:16:41.107744",
     "exception": false,
     "start_time": "2023-12-27T01:16:41.066704",
     "status": "completed"
    },
    "tags": []
   },
   "outputs": [],
   "source": [
    "cols = list(themida.columns)"
   ]
  },
  {
   "cell_type": "markdown",
   "id": "059ea480",
   "metadata": {
    "papermill": {
     "duration": 0.023624,
     "end_time": "2023-12-27T01:16:41.155715",
     "exception": false,
     "start_time": "2023-12-27T01:16:41.132091",
     "status": "completed"
    },
    "tags": []
   },
   "source": [
    "# **ngram features**"
   ]
  },
  {
   "cell_type": "code",
   "execution_count": 19,
   "id": "d494174d",
   "metadata": {
    "execution": {
     "iopub.execute_input": "2023-12-27T01:16:41.206529Z",
     "iopub.status.busy": "2023-12-27T01:16:41.206061Z",
     "iopub.status.idle": "2023-12-27T01:16:43.538573Z",
     "shell.execute_reply": "2023-12-27T01:16:43.537445Z"
    },
    "papermill": {
     "duration": 2.361592,
     "end_time": "2023-12-27T01:16:43.541624",
     "exception": false,
     "start_time": "2023-12-27T01:16:41.180032",
     "status": "completed"
    },
    "tags": []
   },
   "outputs": [],
   "source": [
    "themida = pd.read_pickle('/kaggle/input/packer-balance-pickle/themida_balance.pickle')\n",
    "themida = themida.drop(['sample_sha1','benign','unpacked_sample_sha1','unpacked_sample_id'], axis=1)\n",
    "themida = themida.drop(['benign_vt','malicious_vt'], axis=1)\n",
    "string_columns = themida.select_dtypes(include=['object']).columns\n",
    "themida = themida.drop(string_columns, axis=1)"
   ]
  },
  {
   "cell_type": "code",
   "execution_count": 20,
   "id": "ccff31ec",
   "metadata": {
    "execution": {
     "iopub.execute_input": "2023-12-27T01:16:43.604933Z",
     "iopub.status.busy": "2023-12-27T01:16:43.604499Z",
     "iopub.status.idle": "2023-12-27T01:16:43.610276Z",
     "shell.execute_reply": "2023-12-27T01:16:43.609053Z"
    },
    "papermill": {
     "duration": 0.046821,
     "end_time": "2023-12-27T01:16:43.612830",
     "exception": false,
     "start_time": "2023-12-27T01:16:43.566009",
     "status": "completed"
    },
    "tags": []
   },
   "outputs": [],
   "source": [
    "def remove_cols(df, ll):\n",
    "    print(\"removing {} features\".format(len(ll)))\n",
    "    df.drop(columns=ll, axis=1, inplace=True)\n",
    "    return df"
   ]
  },
  {
   "cell_type": "code",
   "execution_count": 21,
   "id": "c56886aa",
   "metadata": {
    "execution": {
     "iopub.execute_input": "2023-12-27T01:16:43.664621Z",
     "iopub.status.busy": "2023-12-27T01:16:43.664135Z",
     "iopub.status.idle": "2023-12-27T01:16:45.496385Z",
     "shell.execute_reply": "2023-12-27T01:16:45.494729Z"
    },
    "papermill": {
     "duration": 1.861689,
     "end_time": "2023-12-27T01:16:45.499571",
     "exception": false,
     "start_time": "2023-12-27T01:16:43.637882",
     "status": "completed"
    },
    "tags": []
   },
   "outputs": [
    {
     "name": "stdout",
     "output_type": "stream",
     "text": [
      "removing 2500 features\n",
      "removing 2 features\n",
      "removing 16900 features\n",
      "removing 66 features\n",
      "removing 19169 features\n",
      "removing 4306 features\n",
      "removing 550 features\n",
      "removing 29 features\n"
     ]
    }
   ],
   "source": [
    "# ngram = remove_cols(df, [c for c in cols if c.startswith('ngram_')])\n",
    "ngram = remove_cols(themida, [c for c in cols if c.startswith('opcode_')])\n",
    "ngram = remove_cols(themida, [c for c in cols if c.startswith('generic_')])\n",
    "ngram = remove_cols(themida, [c for c in cols if c.startswith('string_')])\n",
    "ngram = remove_cols(themida, [c for c in cols if c.startswith('rich_')])\n",
    "ngram = remove_cols(themida, [c for c in cols if c.startswith('imp_') or 'api_import_nb' == c])\n",
    "ngram = remove_cols(themida, [c for c in cols if c.endswith('.dll') or 'dll_import_nb' == c])\n",
    "ngram = remove_cols(themida, [c for c in cols if c.startswith('pesection')])\n",
    "ngram = remove_cols(themida, [c for c in cols if c.startswith('header_')])"
   ]
  },
  {
   "cell_type": "code",
   "execution_count": 22,
   "id": "87386e03",
   "metadata": {
    "execution": {
     "iopub.execute_input": "2023-12-27T01:16:45.552655Z",
     "iopub.status.busy": "2023-12-27T01:16:45.552072Z",
     "iopub.status.idle": "2023-12-27T01:16:45.862704Z",
     "shell.execute_reply": "2023-12-27T01:16:45.861597Z"
    },
    "papermill": {
     "duration": 0.340737,
     "end_time": "2023-12-27T01:16:45.865857",
     "exception": false,
     "start_time": "2023-12-27T01:16:45.525120",
     "status": "completed"
    },
    "tags": []
   },
   "outputs": [],
   "source": [
    "df_7000_ngram = ngram.sample(n=7000, random_state=102)\n",
    "df_3000_ngram = ngram.drop(df_7000.index)\n",
    "data_ngram = df_7000_ngram.sample(n=3500, random_state=102)"
   ]
  },
  {
   "cell_type": "code",
   "execution_count": 23,
   "id": "a47fedc6",
   "metadata": {
    "execution": {
     "iopub.execute_input": "2023-12-27T01:16:45.920280Z",
     "iopub.status.busy": "2023-12-27T01:16:45.918928Z",
     "iopub.status.idle": "2023-12-27T01:16:46.306243Z",
     "shell.execute_reply": "2023-12-27T01:16:46.304710Z"
    },
    "papermill": {
     "duration": 0.417882,
     "end_time": "2023-12-27T01:16:46.309193",
     "exception": false,
     "start_time": "2023-12-27T01:16:45.891311",
     "status": "completed"
    },
    "tags": []
   },
   "outputs": [
    {
     "name": "stdout",
     "output_type": "stream",
     "text": [
      "Packed Malware: 2241 samples\n",
      "Packed Benign: 1259 samples\n",
      "Total TRAIN set: 3500 samples\n",
      "Packed Malware: 1259 samples\n",
      "Packed Benign: 1259 samples\n",
      "Total TRAIN set: 2518 samples\n",
      "Packed Malware: 1089 samples\n",
      "Packed Benign: 1089 samples\n",
      "Total TEST set: 2178 samples\n"
     ]
    }
   ],
   "source": [
    "#Kiểm tra số lượng mẫu\n",
    "PM = data_ngram[(data_ngram['malicious'] == True) & (data_ngram['packed'] == True)].shape[0]\n",
    "PB = data_ngram[(data_ngram['malicious'] == False) & (data_ngram['packed'] == True)].shape[0]\n",
    "print('Packed Malware: %i samples' % PM)\n",
    "print('Packed Benign: %i samples' % PB)\n",
    "print('Total TRAIN set: %i samples'% (PM+PB))\n",
    "\n",
    "#Chia tỉ lệ 50 - 50\n",
    "data_PM_ngram = data_ngram[(data_ngram['malicious'] == True) & (data_ngram['packed'] == True)].sample(n=(PM-PB), random_state=102)\n",
    "data_ngram = data_ngram.drop(data_PM_ngram.index)\n",
    "\n",
    "#Số lượng tập train\n",
    "PM = data_ngram[(data_ngram['malicious'] == True) & (data_ngram['packed'] == True)].shape[0]\n",
    "PB = data_ngram[(data_ngram['malicious'] == False) & (data_ngram['packed'] == True)].shape[0]\n",
    "print('Packed Malware: %i samples' % PM)\n",
    "print('Packed Benign: %i samples' % PB)\n",
    "print('Total TRAIN set: %i samples'% (PM+PB))\n",
    "\n",
    "#Xử lý tập train\n",
    "y = data_ngram['malicious'].values\n",
    "data_ngram = data_ngram.drop(['malicious','packed'], axis=1)\n",
    "\n",
    "PM = df_3000_ngram[(df_3000_ngram['malicious'] == True) & (df_3000_ngram['packed'] == True)].shape[0]\n",
    "PB = df_3000_ngram[(df_3000_ngram['malicious'] == False) & (df_3000_ngram['packed'] == True)].shape[0]\n",
    "\n",
    "df_3000_PM_ngram = df_3000_ngram[(df_3000_ngram['malicious'] == True) & (df_3000_ngram['packed'] == True)].sample(n=(PM-PB), random_state=102)\n",
    "df_3000_ngram = df_3000_ngram.drop(df_3000_PM_ngram.index)\n",
    "\n",
    "PM = df_3000_ngram[(df_3000_ngram['malicious'] == True) & (df_3000_ngram['packed'] == True)].shape[0]\n",
    "PB = df_3000_ngram[(df_3000_ngram['malicious'] == False) & (df_3000_ngram['packed'] == True)].shape[0]\n",
    "\n",
    "print('Packed Malware: %i samples' % PM)\n",
    "print('Packed Benign: %i samples' % PB)\n",
    "print('Total TEST set: %i samples'% (PM+PB))"
   ]
  },
  {
   "cell_type": "code",
   "execution_count": 24,
   "id": "3035fd6a",
   "metadata": {
    "execution": {
     "iopub.execute_input": "2023-12-27T01:16:46.362166Z",
     "iopub.status.busy": "2023-12-27T01:16:46.361720Z",
     "iopub.status.idle": "2023-12-27T01:16:46.469387Z",
     "shell.execute_reply": "2023-12-27T01:16:46.468163Z"
    },
    "papermill": {
     "duration": 0.138123,
     "end_time": "2023-12-27T01:16:46.472432",
     "exception": false,
     "start_time": "2023-12-27T01:16:46.334309",
     "status": "completed"
    },
    "tags": []
   },
   "outputs": [],
   "source": [
    "# model = SelectFromModel(fsel, prefit=True)\n",
    "\n",
    "X_train_ngram = data_ngram\n",
    "X_test_ngram = df_3000_ngram.drop(['malicious','packed'], axis=1)\n",
    "\n",
    "data_ngram = data_ngram.loc[:, (data_ngram != 0).any(axis=0)]\n",
    "x_train_ngram = data_ngram\n",
    "X_test_ngram = df_3000_ngram.drop(['malicious','packed'], axis=1)\n",
    "y_train_ngram = y\n",
    "y_test_ngram = df_3000_ngram['malicious'].values"
   ]
  },
  {
   "cell_type": "code",
   "execution_count": 25,
   "id": "e233bf5f",
   "metadata": {
    "execution": {
     "iopub.execute_input": "2023-12-27T01:16:46.526790Z",
     "iopub.status.busy": "2023-12-27T01:16:46.525564Z",
     "iopub.status.idle": "2023-12-27T01:16:50.602586Z",
     "shell.execute_reply": "2023-12-27T01:16:50.601325Z"
    },
    "papermill": {
     "duration": 4.107338,
     "end_time": "2023-12-27T01:16:50.605311",
     "exception": false,
     "start_time": "2023-12-27T01:16:46.497973",
     "status": "completed"
    },
    "tags": []
   },
   "outputs": [
    {
     "name": "stdout",
     "output_type": "stream",
     "text": [
      "The accuracy of the Random Forests model is :\t 0.9288337924701561\n"
     ]
    }
   ],
   "source": [
    "# Random Forest\n",
    "from sklearn.ensemble import RandomForestClassifier\n",
    "from sklearn import metrics\n",
    "\n",
    "random_forest = RandomForestClassifier(n_estimators=100, random_state=17)\n",
    "random_forest.fit(X_train_ngram, y_train_ngram)\n",
    "random_forest_preds = random_forest.predict(X_test_ngram)\n",
    "print('The accuracy of the Random Forests model is :\\t',metrics.accuracy_score(random_forest_preds,y_test_ngram))"
   ]
  },
  {
   "cell_type": "markdown",
   "id": "e72afaf9",
   "metadata": {
    "papermill": {
     "duration": 0.024894,
     "end_time": "2023-12-27T01:16:50.656005",
     "exception": false,
     "start_time": "2023-12-27T01:16:50.631111",
     "status": "completed"
    },
    "tags": []
   },
   "source": [
    "# **opcode features**"
   ]
  },
  {
   "cell_type": "code",
   "execution_count": 26,
   "id": "6012981c",
   "metadata": {
    "execution": {
     "iopub.execute_input": "2023-12-27T01:16:50.710893Z",
     "iopub.status.busy": "2023-12-27T01:16:50.709924Z",
     "iopub.status.idle": "2023-12-27T01:16:53.033987Z",
     "shell.execute_reply": "2023-12-27T01:16:53.032971Z"
    },
    "papermill": {
     "duration": 2.354801,
     "end_time": "2023-12-27T01:16:53.036805",
     "exception": false,
     "start_time": "2023-12-27T01:16:50.682004",
     "status": "completed"
    },
    "tags": []
   },
   "outputs": [],
   "source": [
    "themida = pd.read_pickle('/kaggle/input/packer-balance-pickle/themida_balance.pickle')\n",
    "themida = themida.drop(['sample_sha1','benign','unpacked_sample_sha1','unpacked_sample_id'], axis=1)\n",
    "themida = themida.drop(['benign_vt','malicious_vt'], axis=1)\n",
    "string_columns = themida.select_dtypes(include=['object']).columns\n",
    "themida = themida.drop(string_columns, axis=1)"
   ]
  },
  {
   "cell_type": "code",
   "execution_count": 27,
   "id": "ea58b69f",
   "metadata": {
    "execution": {
     "iopub.execute_input": "2023-12-27T01:16:53.089634Z",
     "iopub.status.busy": "2023-12-27T01:16:53.088468Z",
     "iopub.status.idle": "2023-12-27T01:16:55.155313Z",
     "shell.execute_reply": "2023-12-27T01:16:55.154106Z"
    },
    "papermill": {
     "duration": 2.095956,
     "end_time": "2023-12-27T01:16:55.157983",
     "exception": false,
     "start_time": "2023-12-27T01:16:53.062027",
     "status": "completed"
    },
    "tags": []
   },
   "outputs": [
    {
     "name": "stdout",
     "output_type": "stream",
     "text": [
      "removing 13000 features\n",
      "removing 2 features\n",
      "removing 16900 features\n",
      "removing 66 features\n",
      "removing 19169 features\n",
      "removing 4306 features\n",
      "removing 550 features\n",
      "removing 29 features\n"
     ]
    }
   ],
   "source": [
    "opcode = remove_cols(themida, [c for c in cols if c.startswith('ngram_')])\n",
    "# opcode = remove_cols(themida, [c for c in cols if c.startswith('opcode_')])\n",
    "opcode = remove_cols(themida, [c for c in cols if c.startswith('generic_')])\n",
    "opcode = remove_cols(themida, [c for c in cols if c.startswith('string_')])\n",
    "opcode = remove_cols(themida, [c for c in cols if c.startswith('rich_')])\n",
    "opcode = remove_cols(themida, [c for c in cols if c.startswith('imp_') or 'api_import_nb' == c])\n",
    "opcode = remove_cols(themida, [c for c in cols if c.endswith('.dll') or 'dll_import_nb' == c])\n",
    "opcode = remove_cols(themida, [c for c in cols if c.startswith('pesection')])\n",
    "opcode = remove_cols(themida, [c for c in cols if c.startswith('header_')])"
   ]
  },
  {
   "cell_type": "code",
   "execution_count": 28,
   "id": "201c6c30",
   "metadata": {
    "execution": {
     "iopub.execute_input": "2023-12-27T01:16:55.211836Z",
     "iopub.status.busy": "2023-12-27T01:16:55.211352Z",
     "iopub.status.idle": "2023-12-27T01:16:55.438080Z",
     "shell.execute_reply": "2023-12-27T01:16:55.437011Z"
    },
    "papermill": {
     "duration": 0.257352,
     "end_time": "2023-12-27T01:16:55.441085",
     "exception": false,
     "start_time": "2023-12-27T01:16:55.183733",
     "status": "completed"
    },
    "tags": []
   },
   "outputs": [],
   "source": [
    "df_7000_opcode = opcode.sample(n=7000, random_state=102)\n",
    "df_3000_opcode = opcode.drop(df_7000.index)\n",
    "data_opcode = df_7000_opcode.sample(n=3500, random_state=102)"
   ]
  },
  {
   "cell_type": "code",
   "execution_count": 29,
   "id": "c4bbae74",
   "metadata": {
    "execution": {
     "iopub.execute_input": "2023-12-27T01:16:55.495211Z",
     "iopub.status.busy": "2023-12-27T01:16:55.494712Z",
     "iopub.status.idle": "2023-12-27T01:16:55.824102Z",
     "shell.execute_reply": "2023-12-27T01:16:55.822899Z"
    },
    "papermill": {
     "duration": 0.359759,
     "end_time": "2023-12-27T01:16:55.827092",
     "exception": false,
     "start_time": "2023-12-27T01:16:55.467333",
     "status": "completed"
    },
    "tags": []
   },
   "outputs": [
    {
     "name": "stdout",
     "output_type": "stream",
     "text": [
      "Packed Malware: 2241 samples\n",
      "Packed Benign: 1259 samples\n",
      "Total TRAIN set: 3500 samples\n",
      "Packed Malware: 1259 samples\n",
      "Packed Benign: 1259 samples\n",
      "Total TRAIN set: 2518 samples\n",
      "Packed Malware: 1089 samples\n",
      "Packed Benign: 1089 samples\n",
      "Total TEST set: 2178 samples\n"
     ]
    }
   ],
   "source": [
    "#Kiểm tra số lượng mẫu\n",
    "PM = data_opcode[(data_opcode['malicious'] == True) & (data_opcode['packed'] == True)].shape[0]\n",
    "PB = data_opcode[(data_opcode['malicious'] == False) & (data_opcode['packed'] == True)].shape[0]\n",
    "print('Packed Malware: %i samples' % PM)\n",
    "print('Packed Benign: %i samples' % PB)\n",
    "print('Total TRAIN set: %i samples'% (PM+PB))\n",
    "\n",
    "#Chia tỉ lệ 50 - 50\n",
    "data_PM_opcode = data_opcode[(data_opcode['malicious'] == True) & (data_opcode['packed'] == True)].sample(n=(PM-PB), random_state=102)\n",
    "data_opcode = data_opcode.drop(data_PM_opcode.index)\n",
    "      \n",
    "#Số lượng tập train\n",
    "PM = data_opcode[(data_opcode['malicious'] == True) & (data_opcode['packed'] == True)].shape[0]\n",
    "PB = data_opcode[(data_opcode['malicious'] == False) & (data_opcode['packed'] == True)].shape[0]\n",
    "print('Packed Malware: %i samples' % PM)\n",
    "print('Packed Benign: %i samples' % PB)\n",
    "print('Total TRAIN set: %i samples'% (PM+PB))\n",
    "\n",
    "#Xử lý tập train\n",
    "y = data_opcode['malicious'].values\n",
    "data_opcode = data_opcode.drop(['malicious','packed'], axis=1)\n",
    "\n",
    "PM = df_3000_opcode[(df_3000_opcode['malicious'] == True) & (df_3000_opcode['packed'] == True)].shape[0]\n",
    "PB = df_3000_opcode[(df_3000_opcode['malicious'] == False) & (df_3000_opcode['packed'] == True)].shape[0]\n",
    "\n",
    "df_3000_PM_opcode = df_3000_opcode[(df_3000_opcode['malicious'] == True) & (df_3000_opcode['packed'] == True)].sample(n=(PM-PB), random_state=102)\n",
    "df_3000_opcode = df_3000_opcode.drop(df_3000_PM_opcode.index)\n",
    "\n",
    "PM = df_3000_opcode[(df_3000_opcode['malicious'] == True) & (df_3000_opcode['packed'] == True)].shape[0]\n",
    "PB = df_3000_opcode[(df_3000_opcode['malicious'] == False) & (df_3000_opcode['packed'] == True)].shape[0]\n",
    "\n",
    "print('Packed Malware: %i samples' % PM)\n",
    "print('Packed Benign: %i samples' % PB)\n",
    "print('Total TEST set: %i samples'% (PM+PB))"
   ]
  },
  {
   "cell_type": "code",
   "execution_count": 30,
   "id": "b15e410b",
   "metadata": {
    "execution": {
     "iopub.execute_input": "2023-12-27T01:16:55.881092Z",
     "iopub.status.busy": "2023-12-27T01:16:55.880669Z",
     "iopub.status.idle": "2023-12-27T01:16:55.936970Z",
     "shell.execute_reply": "2023-12-27T01:16:55.936004Z"
    },
    "papermill": {
     "duration": 0.086661,
     "end_time": "2023-12-27T01:16:55.939892",
     "exception": false,
     "start_time": "2023-12-27T01:16:55.853231",
     "status": "completed"
    },
    "tags": []
   },
   "outputs": [],
   "source": [
    "# model = SelectFromModel(fsel, prefit=True)\n",
    "\n",
    "X_train_opcode = data_opcode\n",
    "X_test_opcode = df_3000_opcode.drop(['malicious','packed'], axis=1)\n",
    "\n",
    "# data_opcode = data_opcode.loc[:, (data_opcode != 0).any(axis=0)]\n",
    "x_train_opcode = data_opcode\n",
    "X_test_opcode = df_3000_opcode.drop(['malicious','packed'], axis=1)\n",
    "y_train_opcode = y\n",
    "y_test_opcode = df_3000_opcode['malicious'].values"
   ]
  },
  {
   "cell_type": "code",
   "execution_count": 31,
   "id": "8ec729ee",
   "metadata": {
    "execution": {
     "iopub.execute_input": "2023-12-27T01:16:55.995000Z",
     "iopub.status.busy": "2023-12-27T01:16:55.993455Z",
     "iopub.status.idle": "2023-12-27T01:16:59.787541Z",
     "shell.execute_reply": "2023-12-27T01:16:59.786422Z"
    },
    "papermill": {
     "duration": 3.824397,
     "end_time": "2023-12-27T01:16:59.790214",
     "exception": false,
     "start_time": "2023-12-27T01:16:55.965817",
     "status": "completed"
    },
    "tags": []
   },
   "outputs": [
    {
     "name": "stdout",
     "output_type": "stream",
     "text": [
      "The accuracy of the Random Forests model is :\t 0.529384756657484\n"
     ]
    }
   ],
   "source": [
    "# Random Forest\n",
    "from sklearn.ensemble import RandomForestClassifier\n",
    "from sklearn import metrics\n",
    "\n",
    "random_forest = RandomForestClassifier(n_estimators=100, random_state=17)\n",
    "random_forest.fit(x_train_opcode, y_train_opcode)\n",
    "random_forest_preds = random_forest.predict(X_test_opcode)\n",
    "print('The accuracy of the Random Forests model is :\\t',metrics.accuracy_score(random_forest_preds,y_test_opcode))"
   ]
  },
  {
   "cell_type": "markdown",
   "id": "d5699d7a",
   "metadata": {
    "papermill": {
     "duration": 0.025255,
     "end_time": "2023-12-27T01:16:59.841637",
     "exception": false,
     "start_time": "2023-12-27T01:16:59.816382",
     "status": "completed"
    },
    "tags": []
   },
   "source": [
    "# **rich header features**"
   ]
  },
  {
   "cell_type": "code",
   "execution_count": 32,
   "id": "ea56a5b1",
   "metadata": {
    "execution": {
     "iopub.execute_input": "2023-12-27T01:16:59.894787Z",
     "iopub.status.busy": "2023-12-27T01:16:59.894309Z",
     "iopub.status.idle": "2023-12-27T01:17:02.225992Z",
     "shell.execute_reply": "2023-12-27T01:17:02.224880Z"
    },
    "papermill": {
     "duration": 2.362264,
     "end_time": "2023-12-27T01:17:02.229291",
     "exception": false,
     "start_time": "2023-12-27T01:16:59.867027",
     "status": "completed"
    },
    "tags": []
   },
   "outputs": [],
   "source": [
    "themida = pd.read_pickle('/kaggle/input/packer-balance-pickle/themida_balance.pickle')\n",
    "themida = themida.drop(['sample_sha1','benign','unpacked_sample_sha1','unpacked_sample_id'], axis=1)\n",
    "themida = themida.drop(['benign_vt','malicious_vt'], axis=1)\n",
    "string_columns = themida.select_dtypes(include=['object']).columns\n",
    "themida = themida.drop(string_columns, axis=1)"
   ]
  },
  {
   "cell_type": "code",
   "execution_count": 33,
   "id": "c403f280",
   "metadata": {
    "execution": {
     "iopub.execute_input": "2023-12-27T01:17:02.283816Z",
     "iopub.status.busy": "2023-12-27T01:17:02.283325Z",
     "iopub.status.idle": "2023-12-27T01:17:03.909669Z",
     "shell.execute_reply": "2023-12-27T01:17:03.908241Z"
    },
    "papermill": {
     "duration": 1.657082,
     "end_time": "2023-12-27T01:17:03.912638",
     "exception": false,
     "start_time": "2023-12-27T01:17:02.255556",
     "status": "completed"
    },
    "tags": []
   },
   "outputs": [
    {
     "name": "stdout",
     "output_type": "stream",
     "text": [
      "removing 13000 features\n",
      "removing 2500 features\n",
      "removing 2 features\n",
      "removing 16900 features\n",
      "removing 19169 features\n",
      "removing 4306 features\n",
      "removing 550 features\n",
      "removing 29 features\n"
     ]
    }
   ],
   "source": [
    "rich = remove_cols(themida, [c for c in cols if c.startswith('ngram_')])\n",
    "rich = remove_cols(themida, [c for c in cols if c.startswith('opcode_')])\n",
    "rich = remove_cols(themida, [c for c in cols if c.startswith('generic_')])\n",
    "rich = remove_cols(themida, [c for c in cols if c.startswith('string_')])\n",
    "# rich = remove_cols(themida, [c for c in cols if c.startswith('rich_')])\n",
    "rich = remove_cols(themida, [c for c in cols if c.startswith('imp_') or 'api_import_nb' == c])\n",
    "rich = remove_cols(themida, [c for c in cols if c.endswith('.dll') or 'dll_import_nb' == c])\n",
    "rich = remove_cols(themida, [c for c in cols if c.startswith('pesection')])\n",
    "rich = remove_cols(themida, [c for c in cols if c.startswith('header_')])"
   ]
  },
  {
   "cell_type": "code",
   "execution_count": 34,
   "id": "5fa21f71",
   "metadata": {
    "execution": {
     "iopub.execute_input": "2023-12-27T01:17:03.968240Z",
     "iopub.status.busy": "2023-12-27T01:17:03.967734Z",
     "iopub.status.idle": "2023-12-27T01:17:03.983049Z",
     "shell.execute_reply": "2023-12-27T01:17:03.981819Z"
    },
    "papermill": {
     "duration": 0.046523,
     "end_time": "2023-12-27T01:17:03.986054",
     "exception": false,
     "start_time": "2023-12-27T01:17:03.939531",
     "status": "completed"
    },
    "tags": []
   },
   "outputs": [],
   "source": [
    "df_7000_rich = rich.sample(n=7000, random_state=102)\n",
    "df_3000_rich = rich.drop(df_7000.index)\n",
    "data_rich = df_7000_rich.sample(n=3500, random_state=102)"
   ]
  },
  {
   "cell_type": "code",
   "execution_count": 35,
   "id": "591743a2",
   "metadata": {
    "execution": {
     "iopub.execute_input": "2023-12-27T01:17:04.044170Z",
     "iopub.status.busy": "2023-12-27T01:17:04.043472Z",
     "iopub.status.idle": "2023-12-27T01:17:04.078731Z",
     "shell.execute_reply": "2023-12-27T01:17:04.077588Z"
    },
    "papermill": {
     "duration": 0.068378,
     "end_time": "2023-12-27T01:17:04.081762",
     "exception": false,
     "start_time": "2023-12-27T01:17:04.013384",
     "status": "completed"
    },
    "tags": []
   },
   "outputs": [
    {
     "name": "stdout",
     "output_type": "stream",
     "text": [
      "Packed Malware: 2241 samples\n",
      "Packed Benign: 1259 samples\n",
      "Total TRAIN set: 3500 samples\n",
      "Packed Malware: 1259 samples\n",
      "Packed Benign: 1259 samples\n",
      "Total TRAIN set: 2518 samples\n",
      "Packed Malware: 1089 samples\n",
      "Packed Benign: 1089 samples\n",
      "Total TEST set: 2178 samples\n"
     ]
    }
   ],
   "source": [
    "#Kiểm tra số lượng mẫu\n",
    "PM = data_rich[(data_rich['malicious'] == True) & (data_rich['packed'] == True)].shape[0]\n",
    "PB = data_rich[(data_rich['malicious'] == False) & (data_rich['packed'] == True)].shape[0]\n",
    "print('Packed Malware: %i samples' % PM)\n",
    "print('Packed Benign: %i samples' % PB)\n",
    "print('Total TRAIN set: %i samples'% (PM+PB))\n",
    "\n",
    "#Chia tỉ lệ 50 - 50\n",
    "data_PM_rich = data_rich[(data_rich['malicious'] == True) & (data_rich['packed'] == True)].sample(n=(PM-PB), random_state=102)\n",
    "data_rich = data_rich.drop(data_PM_rich.index)\n",
    "      \n",
    "#Số lượng tập train\n",
    "PM = data_rich[(data_rich['malicious'] == True) & (data_rich['packed'] == True)].shape[0]\n",
    "PB = data_rich[(data_rich['malicious'] == False) & (data_rich['packed'] == True)].shape[0]\n",
    "print('Packed Malware: %i samples' % PM)\n",
    "print('Packed Benign: %i samples' % PB)\n",
    "print('Total TRAIN set: %i samples'% (PM+PB))\n",
    "\n",
    "#Xử lý tập train\n",
    "y = data_rich['malicious'].values\n",
    "data_rich= data_rich.drop(['malicious','packed'], axis=1)\n",
    "\n",
    "PM = df_3000_rich[(df_3000_rich['malicious'] == True) & (df_3000_rich['packed'] == True)].shape[0]\n",
    "PB = df_3000_rich[(df_3000_rich['malicious'] == False) & (df_3000_rich['packed'] == True)].shape[0]\n",
    "\n",
    "df_3000_PM_rich = df_3000_rich[(df_3000_rich['malicious'] == True) & (df_3000_rich['packed'] == True)].sample(n=(PM-PB), random_state=102)\n",
    "df_3000_rich = df_3000_rich.drop(df_3000_PM_rich.index)\n",
    "\n",
    "PM = df_3000_rich[(df_3000_rich['malicious'] == True) & (df_3000_rich['packed'] == True)].shape[0]\n",
    "PB = df_3000_rich[(df_3000_rich['malicious'] == False) & (df_3000_rich['packed'] == True)].shape[0]\n",
    "\n",
    "print('Packed Malware: %i samples' % PM)\n",
    "print('Packed Benign: %i samples' % PB)\n",
    "print('Total TEST set: %i samples'% (PM+PB))"
   ]
  },
  {
   "cell_type": "code",
   "execution_count": 36,
   "id": "f464f734",
   "metadata": {
    "execution": {
     "iopub.execute_input": "2023-12-27T01:17:04.138304Z",
     "iopub.status.busy": "2023-12-27T01:17:04.137537Z",
     "iopub.status.idle": "2023-12-27T01:17:04.149998Z",
     "shell.execute_reply": "2023-12-27T01:17:04.148850Z"
    },
    "papermill": {
     "duration": 0.043697,
     "end_time": "2023-12-27T01:17:04.152632",
     "exception": false,
     "start_time": "2023-12-27T01:17:04.108935",
     "status": "completed"
    },
    "tags": []
   },
   "outputs": [],
   "source": [
    "# model = SelectFromModel(fsel, prefit=True)\n",
    "\n",
    "X_train_rich = data_rich\n",
    "X_test_rich = df_3000_rich.drop(['malicious','packed'], axis=1)\n",
    "\n",
    "data_rich = data_rich.loc[:, (data_rich != 0).any(axis=0)]\n",
    "x_train_rich = data_rich\n",
    "X_test_rich = df_3000_rich.drop(['malicious','packed'], axis=1)\n",
    "y_train_rich = y\n",
    "y_test_rich = df_3000_rich['malicious'].values"
   ]
  },
  {
   "cell_type": "code",
   "execution_count": 37,
   "id": "0d2ed2e5",
   "metadata": {
    "execution": {
     "iopub.execute_input": "2023-12-27T01:17:04.208632Z",
     "iopub.status.busy": "2023-12-27T01:17:04.207852Z",
     "iopub.status.idle": "2023-12-27T01:17:04.708386Z",
     "shell.execute_reply": "2023-12-27T01:17:04.707173Z"
    },
    "papermill": {
     "duration": 0.5321,
     "end_time": "2023-12-27T01:17:04.711074",
     "exception": false,
     "start_time": "2023-12-27T01:17:04.178974",
     "status": "completed"
    },
    "tags": []
   },
   "outputs": [
    {
     "name": "stdout",
     "output_type": "stream",
     "text": [
      "The accuracy of the Random Forests model is :\t 0.8797061524334252\n"
     ]
    }
   ],
   "source": [
    "# Random Forest\n",
    "from sklearn.ensemble import RandomForestClassifier\n",
    "from sklearn import metrics\n",
    "\n",
    "random_forest = RandomForestClassifier(n_estimators=100, random_state=17)\n",
    "random_forest.fit(X_train_rich, y_train_rich)\n",
    "random_forest_preds = random_forest.predict(X_test_rich)\n",
    "print('The accuracy of the Random Forests model is :\\t',metrics.accuracy_score(random_forest_preds,y_test_rich))"
   ]
  },
  {
   "cell_type": "markdown",
   "id": "7f1a8919",
   "metadata": {
    "papermill": {
     "duration": 0.026731,
     "end_time": "2023-12-27T01:17:04.765686",
     "exception": false,
     "start_time": "2023-12-27T01:17:04.738955",
     "status": "completed"
    },
    "tags": []
   },
   "source": [
    "# **string features**"
   ]
  },
  {
   "cell_type": "code",
   "execution_count": 38,
   "id": "e3d424bb",
   "metadata": {
    "execution": {
     "iopub.execute_input": "2023-12-27T01:17:04.821833Z",
     "iopub.status.busy": "2023-12-27T01:17:04.821228Z",
     "iopub.status.idle": "2023-12-27T01:17:07.115916Z",
     "shell.execute_reply": "2023-12-27T01:17:07.114490Z"
    },
    "papermill": {
     "duration": 2.328274,
     "end_time": "2023-12-27T01:17:07.120471",
     "exception": false,
     "start_time": "2023-12-27T01:17:04.792197",
     "status": "completed"
    },
    "tags": []
   },
   "outputs": [],
   "source": [
    "themida = pd.read_pickle('/kaggle/input/packer-balance-pickle/themida_balance.pickle')\n",
    "themida = themida.drop(['sample_sha1','benign','unpacked_sample_sha1','unpacked_sample_id'], axis=1)\n",
    "themida = themida.drop(['benign_vt','malicious_vt'], axis=1)\n",
    "string_columns = themida.select_dtypes(include=['object']).columns\n",
    "themida = themida.drop(string_columns, axis=1)"
   ]
  },
  {
   "cell_type": "code",
   "execution_count": 39,
   "id": "cfa73c70",
   "metadata": {
    "execution": {
     "iopub.execute_input": "2023-12-27T01:17:07.190383Z",
     "iopub.status.busy": "2023-12-27T01:17:07.189903Z",
     "iopub.status.idle": "2023-12-27T01:17:09.209576Z",
     "shell.execute_reply": "2023-12-27T01:17:09.206826Z"
    },
    "papermill": {
     "duration": 2.054806,
     "end_time": "2023-12-27T01:17:09.213101",
     "exception": false,
     "start_time": "2023-12-27T01:17:07.158295",
     "status": "completed"
    },
    "tags": []
   },
   "outputs": [
    {
     "name": "stdout",
     "output_type": "stream",
     "text": [
      "removing 13000 features\n",
      "removing 2500 features\n",
      "removing 2 features\n",
      "removing 66 features\n",
      "removing 19169 features\n",
      "removing 4306 features\n",
      "removing 550 features\n",
      "removing 29 features\n"
     ]
    }
   ],
   "source": [
    "string = remove_cols(themida, [c for c in cols if c.startswith('ngram_')])\n",
    "string = remove_cols(themida, [c for c in cols if c.startswith('opcode_')])\n",
    "string = remove_cols(themida, [c for c in cols if c.startswith('generic_')])\n",
    "# string = remove_cols(themida, [c for c in cols if c.startswith('string_')])\n",
    "string = remove_cols(themida, [c for c in cols if c.startswith('rich_')])\n",
    "string = remove_cols(themida, [c for c in cols if c.startswith('imp_') or 'api_import_nb' == c])\n",
    "string = remove_cols(themida, [c for c in cols if c.endswith('.dll') or 'dll_import_nb' == c])\n",
    "string = remove_cols(themida, [c for c in cols if c.startswith('pesection')])\n",
    "string = remove_cols(themida, [c for c in cols if c.startswith('header_')])"
   ]
  },
  {
   "cell_type": "code",
   "execution_count": 40,
   "id": "394b0067",
   "metadata": {
    "execution": {
     "iopub.execute_input": "2023-12-27T01:17:09.275773Z",
     "iopub.status.busy": "2023-12-27T01:17:09.274563Z",
     "iopub.status.idle": "2023-12-27T01:17:09.686427Z",
     "shell.execute_reply": "2023-12-27T01:17:09.685278Z"
    },
    "papermill": {
     "duration": 0.448208,
     "end_time": "2023-12-27T01:17:09.689522",
     "exception": false,
     "start_time": "2023-12-27T01:17:09.241314",
     "status": "completed"
    },
    "tags": []
   },
   "outputs": [],
   "source": [
    "df_7000_string = string.sample(n=7000, random_state=102)\n",
    "df_3000_string = string.drop(df_7000.index)\n",
    "data_string = df_7000_string.sample(n=3500, random_state=102)"
   ]
  },
  {
   "cell_type": "code",
   "execution_count": 41,
   "id": "db22d6cd",
   "metadata": {
    "execution": {
     "iopub.execute_input": "2023-12-27T01:17:09.754887Z",
     "iopub.status.busy": "2023-12-27T01:17:09.753411Z",
     "iopub.status.idle": "2023-12-27T01:17:10.302656Z",
     "shell.execute_reply": "2023-12-27T01:17:10.301250Z"
    },
    "papermill": {
     "duration": 0.585839,
     "end_time": "2023-12-27T01:17:10.306096",
     "exception": false,
     "start_time": "2023-12-27T01:17:09.720257",
     "status": "completed"
    },
    "tags": []
   },
   "outputs": [
    {
     "name": "stdout",
     "output_type": "stream",
     "text": [
      "Packed Malware: 2241 samples\n",
      "Packed Benign: 1259 samples\n",
      "Total TRAIN set: 3500 samples\n",
      "Packed Malware: 1259 samples\n",
      "Packed Benign: 1259 samples\n",
      "Total TRAIN set: 2518 samples\n",
      "Packed Malware: 1089 samples\n",
      "Packed Benign: 1089 samples\n",
      "Total TEST set: 2178 samples\n"
     ]
    }
   ],
   "source": [
    "#Kiểm tra số lượng mẫu\n",
    "PM = data_string[(data_string['malicious'] == True) & (data_string['packed'] == True)].shape[0]\n",
    "PB = data_string[(data_string['malicious'] == False) & (data_string['packed'] == True)].shape[0]\n",
    "print('Packed Malware: %i samples' % PM)\n",
    "print('Packed Benign: %i samples' % PB)\n",
    "print('Total TRAIN set: %i samples'% (PM+PB))\n",
    "\n",
    "#Chia tỉ lệ 50 - 50\n",
    "data_PM_string = data_string[(data_string['malicious'] == True) & (data_string['packed'] == True)].sample(n=(PM-PB), random_state=102)\n",
    "data_string = data_string.drop(data_PM_string.index)\n",
    "      \n",
    "#Số lượng tập train\n",
    "PM = data_string[(data_string['malicious'] == True) & (data_string['packed'] == True)].shape[0]\n",
    "PB = data_string[(data_string['malicious'] == False) & (data_string['packed'] == True)].shape[0]\n",
    "print('Packed Malware: %i samples' % PM)\n",
    "print('Packed Benign: %i samples' % PB)\n",
    "print('Total TRAIN set: %i samples'% (PM+PB))\n",
    "\n",
    "#Xử lý tập train\n",
    "y = data_string['malicious'].values\n",
    "data_string = data_string.drop(['malicious','packed'], axis=1)\n",
    "\n",
    "PM = df_3000_string[(df_3000_string['malicious'] == True) & (df_3000_string['packed'] == True)].shape[0]\n",
    "PB = df_3000_string[(df_3000_string['malicious'] == False) & (df_3000_string['packed'] == True)].shape[0]\n",
    "\n",
    "df_3000_PM_string = df_3000_string[(df_3000_string['malicious'] == True) & (df_3000_string['packed'] == True)].sample(n=(PM-PB), random_state=102)\n",
    "df_3000_string = df_3000_string.drop(df_3000_PM_string.index)\n",
    "\n",
    "PM = df_3000_string[(df_3000_string['malicious'] == True) & (df_3000_string['packed'] == True)].shape[0]\n",
    "PB = df_3000_string[(df_3000_string['malicious'] == False) & (df_3000_string['packed'] == True)].shape[0]\n",
    "\n",
    "print('Packed Malware: %i samples' % PM)\n",
    "print('Packed Benign: %i samples' % PB)\n",
    "print('Total TEST set: %i samples'% (PM+PB))"
   ]
  },
  {
   "cell_type": "code",
   "execution_count": 42,
   "id": "0beb2abd",
   "metadata": {
    "execution": {
     "iopub.execute_input": "2023-12-27T01:17:10.371190Z",
     "iopub.status.busy": "2023-12-27T01:17:10.370698Z",
     "iopub.status.idle": "2023-12-27T01:17:10.499672Z",
     "shell.execute_reply": "2023-12-27T01:17:10.497929Z"
    },
    "papermill": {
     "duration": 0.165568,
     "end_time": "2023-12-27T01:17:10.503006",
     "exception": false,
     "start_time": "2023-12-27T01:17:10.337438",
     "status": "completed"
    },
    "tags": []
   },
   "outputs": [],
   "source": [
    "# model = SelectFromModel(fsel, prefit=True)\n",
    "\n",
    "X_train_string = data_string\n",
    "X_test_string = df_3000_string.drop(['malicious','packed'], axis=1)\n",
    "\n",
    "data_string = data_string.loc[:, (data_string != 0).any(axis=0)]\n",
    "x_train_string = data_string\n",
    "X_test_string = df_3000_string.drop(['malicious','packed'], axis=1)\n",
    "y_train_string = y\n",
    "y_test_string = df_3000_string['malicious'].values"
   ]
  },
  {
   "cell_type": "code",
   "execution_count": 43,
   "id": "67d3b85a",
   "metadata": {
    "execution": {
     "iopub.execute_input": "2023-12-27T01:17:10.569661Z",
     "iopub.status.busy": "2023-12-27T01:17:10.568667Z",
     "iopub.status.idle": "2023-12-27T01:17:16.565103Z",
     "shell.execute_reply": "2023-12-27T01:17:16.563690Z"
    },
    "papermill": {
     "duration": 6.034955,
     "end_time": "2023-12-27T01:17:16.568496",
     "exception": false,
     "start_time": "2023-12-27T01:17:10.533541",
     "status": "completed"
    },
    "tags": []
   },
   "outputs": [
    {
     "name": "stdout",
     "output_type": "stream",
     "text": [
      "The accuracy of the Random Forests model is :\t 0.8705234159779615\n"
     ]
    }
   ],
   "source": [
    "# Random Forest\n",
    "from sklearn.ensemble import RandomForestClassifier\n",
    "from sklearn import metrics\n",
    "\n",
    "random_forest = RandomForestClassifier(n_estimators=100, random_state=17)\n",
    "random_forest.fit(X_train_string, y_train_string)\n",
    "random_forest_preds = random_forest.predict(X_test_string)\n",
    "print('The accuracy of the Random Forests model is :\\t',metrics.accuracy_score(random_forest_preds,y_test_string))"
   ]
  },
  {
   "cell_type": "markdown",
   "id": "45863d6d",
   "metadata": {
    "papermill": {
     "duration": 0.03072,
     "end_time": "2023-12-27T01:17:16.627861",
     "exception": false,
     "start_time": "2023-12-27T01:17:16.597141",
     "status": "completed"
    },
    "tags": []
   },
   "source": [
    "# **api features**"
   ]
  },
  {
   "cell_type": "code",
   "execution_count": 44,
   "id": "69504c26",
   "metadata": {
    "execution": {
     "iopub.execute_input": "2023-12-27T01:17:16.688733Z",
     "iopub.status.busy": "2023-12-27T01:17:16.687408Z",
     "iopub.status.idle": "2023-12-27T01:17:19.144306Z",
     "shell.execute_reply": "2023-12-27T01:17:19.142986Z"
    },
    "papermill": {
     "duration": 2.491722,
     "end_time": "2023-12-27T01:17:19.147556",
     "exception": false,
     "start_time": "2023-12-27T01:17:16.655834",
     "status": "completed"
    },
    "tags": []
   },
   "outputs": [],
   "source": [
    "themida = pd.read_pickle('/kaggle/input/packer-balance-pickle/themida_balance.pickle')\n",
    "themida = themida.drop(['sample_sha1','benign','unpacked_sample_sha1','unpacked_sample_id'], axis=1)\n",
    "themida = themida.drop(['benign_vt','malicious_vt'], axis=1)\n",
    "string_columns = themida.select_dtypes(include=['object']).columns\n",
    "themida = themida.drop(string_columns, axis=1)"
   ]
  },
  {
   "cell_type": "code",
   "execution_count": 45,
   "id": "5dedd5b6",
   "metadata": {
    "execution": {
     "iopub.execute_input": "2023-12-27T01:17:19.207119Z",
     "iopub.status.busy": "2023-12-27T01:17:19.206646Z",
     "iopub.status.idle": "2023-12-27T01:17:21.363811Z",
     "shell.execute_reply": "2023-12-27T01:17:21.362372Z"
    },
    "papermill": {
     "duration": 2.191563,
     "end_time": "2023-12-27T01:17:21.367049",
     "exception": false,
     "start_time": "2023-12-27T01:17:19.175486",
     "status": "completed"
    },
    "tags": []
   },
   "outputs": [
    {
     "name": "stdout",
     "output_type": "stream",
     "text": [
      "removing 13000 features\n",
      "removing 2500 features\n",
      "removing 2 features\n",
      "removing 16900 features\n",
      "removing 66 features\n",
      "removing 4306 features\n",
      "removing 550 features\n",
      "removing 29 features\n"
     ]
    }
   ],
   "source": [
    "api = remove_cols(themida, [c for c in cols if c.startswith('ngram_')])\n",
    "api = remove_cols(themida, [c for c in cols if c.startswith('opcode_')])\n",
    "api = remove_cols(themida, [c for c in cols if c.startswith('generic_')])\n",
    "api = remove_cols(themida, [c for c in cols if c.startswith('string_')])\n",
    "api = remove_cols(themida, [c for c in cols if c.startswith('rich_')])\n",
    "# api = remove_cols(themida, [c for c in cols if c.startswith('imp_') or 'api_import_nb' == c])\n",
    "api = remove_cols(themida, [c for c in cols if c.endswith('.dll') or 'dll_import_nb' == c])\n",
    "api = remove_cols(themida, [c for c in cols if c.startswith('pesection')])\n",
    "api = remove_cols(themida, [c for c in cols if c.startswith('header_')])"
   ]
  },
  {
   "cell_type": "code",
   "execution_count": 46,
   "id": "d42b73fa",
   "metadata": {
    "execution": {
     "iopub.execute_input": "2023-12-27T01:17:21.431622Z",
     "iopub.status.busy": "2023-12-27T01:17:21.430744Z",
     "iopub.status.idle": "2023-12-27T01:17:21.921134Z",
     "shell.execute_reply": "2023-12-27T01:17:21.919884Z"
    },
    "papermill": {
     "duration": 0.527252,
     "end_time": "2023-12-27T01:17:21.924175",
     "exception": false,
     "start_time": "2023-12-27T01:17:21.396923",
     "status": "completed"
    },
    "tags": []
   },
   "outputs": [],
   "source": [
    "df_7000_api = api.sample(n=7000, random_state=102)\n",
    "df_3000_api = api.drop(df_7000.index)\n",
    "data_api = df_7000_api.sample(n=3500, random_state=102)"
   ]
  },
  {
   "cell_type": "code",
   "execution_count": 47,
   "id": "e43f51d2",
   "metadata": {
    "execution": {
     "iopub.execute_input": "2023-12-27T01:17:21.988229Z",
     "iopub.status.busy": "2023-12-27T01:17:21.987716Z",
     "iopub.status.idle": "2023-12-27T01:17:22.790184Z",
     "shell.execute_reply": "2023-12-27T01:17:22.788371Z"
    },
    "papermill": {
     "duration": 0.838787,
     "end_time": "2023-12-27T01:17:22.793321",
     "exception": false,
     "start_time": "2023-12-27T01:17:21.954534",
     "status": "completed"
    },
    "tags": []
   },
   "outputs": [
    {
     "name": "stdout",
     "output_type": "stream",
     "text": [
      "Packed Malware: 2241 samples\n",
      "Packed Benign: 1259 samples\n",
      "Total TRAIN set: 3500 samples\n",
      "Packed Malware: 1259 samples\n",
      "Packed Benign: 1259 samples\n",
      "Total TRAIN set: 2518 samples\n",
      "Packed Malware: 1089 samples\n",
      "Packed Benign: 1089 samples\n",
      "Total TEST set: 2178 samples\n"
     ]
    }
   ],
   "source": [
    "#Kiểm tra số lượng mẫu\n",
    "PM = data_api[(data_api['malicious'] == True) & (data_api['packed'] == True)].shape[0]\n",
    "PB = data_api[(data_api['malicious'] == False) & (data_api['packed'] == True)].shape[0]\n",
    "print('Packed Malware: %i samples' % PM)\n",
    "print('Packed Benign: %i samples' % PB)\n",
    "print('Total TRAIN set: %i samples'% (PM+PB))\n",
    "\n",
    "#Chia tỉ lệ 50 - 50\n",
    "data_PM_api = data_api[(data_api['malicious'] == True) & (data_api['packed'] == True)].sample(n=(PM-PB), random_state=102)\n",
    "data_api = data_api.drop(data_PM_api.index)\n",
    "      \n",
    "#Số lượng tập train\n",
    "PM = data_api[(data_api['malicious'] == True) & (data_api['packed'] == True)].shape[0]\n",
    "PB = data_api[(data_api['malicious'] == False) & (data_api['packed'] == True)].shape[0]\n",
    "print('Packed Malware: %i samples' % PM)\n",
    "print('Packed Benign: %i samples' % PB)\n",
    "print('Total TRAIN set: %i samples'% (PM+PB))\n",
    "\n",
    "#Xử lý tập train\n",
    "y = data_api['malicious'].values\n",
    "data_api = data_api.drop(['malicious','packed'], axis=1)\n",
    "\n",
    "PM = df_3000_api[(df_3000_api['malicious'] == True) & (df_3000_api['packed'] == True)].shape[0]\n",
    "PB = df_3000_api[(df_3000_api['malicious'] == False) & (df_3000_api['packed'] == True)].shape[0]\n",
    "\n",
    "df_3000_PM_api = df_3000_api[(df_3000_api['malicious'] == True) & (df_3000_api['packed'] == True)].sample(n=(PM-PB), random_state=102)\n",
    "df_3000_api = df_3000_api.drop(df_3000_PM_api.index)\n",
    "\n",
    "PM = df_3000_api[(df_3000_api['malicious'] == True) & (df_3000_api['packed'] == True)].shape[0]\n",
    "PB = df_3000_api[(df_3000_api['malicious'] == False) & (df_3000_api['packed'] == True)].shape[0]\n",
    "\n",
    "print('Packed Malware: %i samples' % PM)\n",
    "print('Packed Benign: %i samples' % PB)\n",
    "print('Total TEST set: %i samples'% (PM+PB))"
   ]
  },
  {
   "cell_type": "code",
   "execution_count": 48,
   "id": "dc4766ae",
   "metadata": {
    "execution": {
     "iopub.execute_input": "2023-12-27T01:17:22.861346Z",
     "iopub.status.busy": "2023-12-27T01:17:22.860859Z",
     "iopub.status.idle": "2023-12-27T01:17:23.044696Z",
     "shell.execute_reply": "2023-12-27T01:17:23.042912Z"
    },
    "papermill": {
     "duration": 0.221199,
     "end_time": "2023-12-27T01:17:23.048385",
     "exception": false,
     "start_time": "2023-12-27T01:17:22.827186",
     "status": "completed"
    },
    "tags": []
   },
   "outputs": [],
   "source": [
    "# model = SelectFromModel(fsel, prefit=True)\n",
    "\n",
    "X_train_api = data_api\n",
    "X_test_api = df_3000_api.drop(['malicious','packed'], axis=1)\n",
    "\n",
    "data_api = data_api.loc[:, (data_api != 0).any(axis=0)]\n",
    "x_train_api = data_api\n",
    "X_test_api = df_3000_api.drop(['malicious','packed'], axis=1)\n",
    "y_train_api = y\n",
    "y_test_api = df_3000_api['malicious'].values"
   ]
  },
  {
   "cell_type": "code",
   "execution_count": 49,
   "id": "19eb477e",
   "metadata": {
    "execution": {
     "iopub.execute_input": "2023-12-27T01:17:23.117288Z",
     "iopub.status.busy": "2023-12-27T01:17:23.116826Z",
     "iopub.status.idle": "2023-12-27T01:17:36.224489Z",
     "shell.execute_reply": "2023-12-27T01:17:36.223274Z"
    },
    "papermill": {
     "duration": 13.146555,
     "end_time": "2023-12-27T01:17:36.227203",
     "exception": false,
     "start_time": "2023-12-27T01:17:23.080648",
     "status": "completed"
    },
    "tags": []
   },
   "outputs": [
    {
     "name": "stdout",
     "output_type": "stream",
     "text": [
      "The accuracy of the Random Forests model is :\t 0.5298438934802571\n"
     ]
    }
   ],
   "source": [
    "# Random Forest\n",
    "from sklearn.ensemble import RandomForestClassifier\n",
    "from sklearn import metrics\n",
    "\n",
    "random_forest = RandomForestClassifier(n_estimators=100, random_state=17)\n",
    "random_forest.fit(X_train_api, y_train_api)\n",
    "random_forest_preds = random_forest.predict(X_test_api)\n",
    "print('The accuracy of the Random Forests model is :\\t',metrics.accuracy_score(random_forest_preds,y_test_api))"
   ]
  },
  {
   "cell_type": "markdown",
   "id": "aac0c293",
   "metadata": {
    "papermill": {
     "duration": 0.028006,
     "end_time": "2023-12-27T01:17:36.283496",
     "exception": false,
     "start_time": "2023-12-27T01:17:36.255490",
     "status": "completed"
    },
    "tags": []
   },
   "source": [
    "# **dll features**"
   ]
  },
  {
   "cell_type": "code",
   "execution_count": 50,
   "id": "847cb7dd",
   "metadata": {
    "execution": {
     "iopub.execute_input": "2023-12-27T01:17:36.342182Z",
     "iopub.status.busy": "2023-12-27T01:17:36.341715Z",
     "iopub.status.idle": "2023-12-27T01:17:38.786674Z",
     "shell.execute_reply": "2023-12-27T01:17:38.785528Z"
    },
    "papermill": {
     "duration": 2.478552,
     "end_time": "2023-12-27T01:17:38.790069",
     "exception": false,
     "start_time": "2023-12-27T01:17:36.311517",
     "status": "completed"
    },
    "tags": []
   },
   "outputs": [],
   "source": [
    "themida = pd.read_pickle('/kaggle/input/packer-balance-pickle/themida_balance.pickle')\n",
    "themida = themida.drop(['sample_sha1','benign','unpacked_sample_sha1','unpacked_sample_id'], axis=1)\n",
    "themida = themida.drop(['benign_vt','malicious_vt'], axis=1)\n",
    "string_columns = themida.select_dtypes(include=['object']).columns\n",
    "themida = themida.drop(string_columns, axis=1)"
   ]
  },
  {
   "cell_type": "code",
   "execution_count": 51,
   "id": "c605e10b",
   "metadata": {
    "execution": {
     "iopub.execute_input": "2023-12-27T01:17:38.851424Z",
     "iopub.status.busy": "2023-12-27T01:17:38.850949Z",
     "iopub.status.idle": "2023-12-27T01:17:40.396862Z",
     "shell.execute_reply": "2023-12-27T01:17:40.395966Z"
    },
    "papermill": {
     "duration": 1.578081,
     "end_time": "2023-12-27T01:17:40.399493",
     "exception": false,
     "start_time": "2023-12-27T01:17:38.821412",
     "status": "completed"
    },
    "tags": []
   },
   "outputs": [
    {
     "name": "stdout",
     "output_type": "stream",
     "text": [
      "removing 13000 features\n",
      "removing 2500 features\n",
      "removing 2 features\n",
      "removing 16900 features\n",
      "removing 66 features\n",
      "removing 19169 features\n",
      "removing 550 features\n",
      "removing 29 features\n"
     ]
    }
   ],
   "source": [
    "dll = remove_cols(themida, [c for c in cols if c.startswith('ngram_')])\n",
    "dll = remove_cols(themida, [c for c in cols if c.startswith('opcode_')])\n",
    "dll = remove_cols(themida, [c for c in cols if c.startswith('generic_')])\n",
    "dll = remove_cols(themida, [c for c in cols if c.startswith('string_')])\n",
    "dll = remove_cols(themida, [c for c in cols if c.startswith('rich_')])\n",
    "dll = remove_cols(themida, [c for c in cols if c.startswith('imp_') or 'api_import_nb' == c])\n",
    "# api = remove_cols(themida, [c for c in cols if c.endswith('.dll') or 'dll_import_nb' == c])\n",
    "dll = remove_cols(themida, [c for c in cols if c.startswith('pesection')])\n",
    "dll = remove_cols(themida, [c for c in cols if c.startswith('header_')])"
   ]
  },
  {
   "cell_type": "code",
   "execution_count": 52,
   "id": "975a2972",
   "metadata": {
    "execution": {
     "iopub.execute_input": "2023-12-27T01:17:40.460720Z",
     "iopub.status.busy": "2023-12-27T01:17:40.460050Z",
     "iopub.status.idle": "2023-12-27T01:17:40.571431Z",
     "shell.execute_reply": "2023-12-27T01:17:40.570383Z"
    },
    "papermill": {
     "duration": 0.14484,
     "end_time": "2023-12-27T01:17:40.574344",
     "exception": false,
     "start_time": "2023-12-27T01:17:40.429504",
     "status": "completed"
    },
    "tags": []
   },
   "outputs": [],
   "source": [
    "df_7000_dll = dll.sample(n=7000, random_state=102)\n",
    "df_3000_dll = dll.drop(df_7000.index)\n",
    "data_dll = df_7000_dll.sample(n=3500, random_state=102)"
   ]
  },
  {
   "cell_type": "code",
   "execution_count": 53,
   "id": "b65be3b0",
   "metadata": {
    "execution": {
     "iopub.execute_input": "2023-12-27T01:17:40.633720Z",
     "iopub.status.busy": "2023-12-27T01:17:40.633254Z",
     "iopub.status.idle": "2023-12-27T01:17:40.864545Z",
     "shell.execute_reply": "2023-12-27T01:17:40.863225Z"
    },
    "papermill": {
     "duration": 0.26406,
     "end_time": "2023-12-27T01:17:40.867226",
     "exception": false,
     "start_time": "2023-12-27T01:17:40.603166",
     "status": "completed"
    },
    "tags": []
   },
   "outputs": [
    {
     "name": "stdout",
     "output_type": "stream",
     "text": [
      "Packed Malware: 2241 samples\n",
      "Packed Benign: 1259 samples\n",
      "Total TRAIN set: 3500 samples\n",
      "Packed Malware: 1259 samples\n",
      "Packed Benign: 1259 samples\n",
      "Total TRAIN set: 2518 samples\n",
      "Packed Malware: 1089 samples\n",
      "Packed Benign: 1089 samples\n",
      "Total TEST set: 2178 samples\n"
     ]
    }
   ],
   "source": [
    "#Kiểm tra số lượng mẫu\n",
    "PM = data_dll[(data_dll['malicious'] == True) & (data_dll['packed'] == True)].shape[0]\n",
    "PB = data_dll[(data_dll['malicious'] == False) & (data_dll['packed'] == True)].shape[0]\n",
    "print('Packed Malware: %i samples' % PM)\n",
    "print('Packed Benign: %i samples' % PB)\n",
    "print('Total TRAIN set: %i samples'% (PM+PB))\n",
    "\n",
    "#Chia tỉ lệ 50 - 50\n",
    "data_PM_dll = data_dll[(data_dll['malicious'] == True) & (data_dll['packed'] == True)].sample(n=(PM-PB), random_state=102)\n",
    "data_dll = data_dll.drop(data_PM_dll.index)\n",
    "      \n",
    "#Số lượng tập train\n",
    "PM = data_dll[(data_dll['malicious'] == True) & (data_dll['packed'] == True)].shape[0]\n",
    "PB = data_dll[(data_dll['malicious'] == False) & (data_dll['packed'] == True)].shape[0]\n",
    "print('Packed Malware: %i samples' % PM)\n",
    "print('Packed Benign: %i samples' % PB)\n",
    "print('Total TRAIN set: %i samples'% (PM+PB))\n",
    "\n",
    "#Xử lý tập train\n",
    "y = data_dll['malicious'].values\n",
    "data_dll = data_dll.drop(['malicious','packed'], axis=1)\n",
    "\n",
    "PM = df_3000_dll[(df_3000_dll['malicious'] == True) & (df_3000_dll['packed'] == True)].shape[0]\n",
    "PB = df_3000_dll[(df_3000_dll['malicious'] == False) & (df_3000_dll['packed'] == True)].shape[0]\n",
    "\n",
    "df_3000_PM_dll = df_3000_dll[(df_3000_dll['malicious'] == True) & (df_3000_dll['packed'] == True)].sample(n=(PM-PB), random_state=102)\n",
    "df_3000_dll = df_3000_dll.drop(df_3000_PM_dll.index)\n",
    "\n",
    "PM = df_3000_dll[(df_3000_dll['malicious'] == True) & (df_3000_dll['packed'] == True)].shape[0]\n",
    "PB = df_3000_dll[(df_3000_dll['malicious'] == False) & (df_3000_dll['packed'] == True)].shape[0]\n",
    "\n",
    "print('Packed Malware: %i samples' % PM)\n",
    "print('Packed Benign: %i samples' % PB)\n",
    "print('Total TEST set: %i samples'% (PM+PB))"
   ]
  },
  {
   "cell_type": "code",
   "execution_count": 54,
   "id": "2d6d5d2a",
   "metadata": {
    "execution": {
     "iopub.execute_input": "2023-12-27T01:17:40.936498Z",
     "iopub.status.busy": "2023-12-27T01:17:40.936001Z",
     "iopub.status.idle": "2023-12-27T01:17:41.002244Z",
     "shell.execute_reply": "2023-12-27T01:17:41.000922Z"
    },
    "papermill": {
     "duration": 0.10929,
     "end_time": "2023-12-27T01:17:41.005501",
     "exception": false,
     "start_time": "2023-12-27T01:17:40.896211",
     "status": "completed"
    },
    "tags": []
   },
   "outputs": [],
   "source": [
    "# model = SelectFromModel(fsel, prefit=True)\n",
    "\n",
    "X_train_dll = data_dll\n",
    "X_test_dll = df_3000_dll.drop(['malicious','packed'], axis=1)\n",
    "\n",
    "data_dll = data_dll.loc[:, (data_dll != 0).any(axis=0)]\n",
    "x_train_dll = data_dll\n",
    "X_test_dll = df_3000_dll.drop(['malicious','packed'], axis=1)\n",
    "y_train_dll = y\n",
    "y_test_dll = df_3000_dll['malicious'].values"
   ]
  },
  {
   "cell_type": "code",
   "execution_count": 55,
   "id": "27c37330",
   "metadata": {
    "execution": {
     "iopub.execute_input": "2023-12-27T01:17:41.065884Z",
     "iopub.status.busy": "2023-12-27T01:17:41.065418Z",
     "iopub.status.idle": "2023-12-27T01:17:44.102308Z",
     "shell.execute_reply": "2023-12-27T01:17:44.100934Z"
    },
    "papermill": {
     "duration": 3.069782,
     "end_time": "2023-12-27T01:17:44.104846",
     "exception": false,
     "start_time": "2023-12-27T01:17:41.035064",
     "status": "completed"
    },
    "tags": []
   },
   "outputs": [
    {
     "name": "stdout",
     "output_type": "stream",
     "text": [
      "The accuracy of the Random Forests model is :\t 0.5298438934802571\n"
     ]
    }
   ],
   "source": [
    "# Random Forest\n",
    "from sklearn.ensemble import RandomForestClassifier\n",
    "from sklearn import metrics\n",
    "\n",
    "random_forest = RandomForestClassifier(n_estimators=100, random_state=17)\n",
    "random_forest.fit(X_train_dll, y_train_dll)\n",
    "random_forest_preds = random_forest.predict(X_test_dll)\n",
    "print('The accuracy of the Random Forests model is :\\t',metrics.accuracy_score(random_forest_preds,y_test_dll))"
   ]
  },
  {
   "cell_type": "markdown",
   "id": "de097419",
   "metadata": {
    "papermill": {
     "duration": 0.028351,
     "end_time": "2023-12-27T01:17:44.162454",
     "exception": false,
     "start_time": "2023-12-27T01:17:44.134103",
     "status": "completed"
    },
    "tags": []
   },
   "source": [
    "# **pe sections features**"
   ]
  },
  {
   "cell_type": "code",
   "execution_count": 56,
   "id": "85084f0a",
   "metadata": {
    "execution": {
     "iopub.execute_input": "2023-12-27T01:17:44.224712Z",
     "iopub.status.busy": "2023-12-27T01:17:44.224228Z",
     "iopub.status.idle": "2023-12-27T01:17:46.435786Z",
     "shell.execute_reply": "2023-12-27T01:17:46.434464Z"
    },
    "papermill": {
     "duration": 2.247988,
     "end_time": "2023-12-27T01:17:46.439114",
     "exception": false,
     "start_time": "2023-12-27T01:17:44.191126",
     "status": "completed"
    },
    "tags": []
   },
   "outputs": [],
   "source": [
    "themida = pd.read_pickle('/kaggle/input/packer-balance-pickle/themida_balance.pickle')\n",
    "themida = themida.drop(['sample_sha1','benign','unpacked_sample_sha1','unpacked_sample_id'], axis=1)\n",
    "themida = themida.drop(['benign_vt','malicious_vt'], axis=1)\n",
    "string_columns = themida.select_dtypes(include=['object']).columns\n",
    "themida = themida.drop(string_columns, axis=1)"
   ]
  },
  {
   "cell_type": "code",
   "execution_count": 57,
   "id": "39421c6a",
   "metadata": {
    "execution": {
     "iopub.execute_input": "2023-12-27T01:17:46.500036Z",
     "iopub.status.busy": "2023-12-27T01:17:46.498918Z",
     "iopub.status.idle": "2023-12-27T01:17:48.029559Z",
     "shell.execute_reply": "2023-12-27T01:17:48.028126Z"
    },
    "papermill": {
     "duration": 1.564211,
     "end_time": "2023-12-27T01:17:48.032264",
     "exception": false,
     "start_time": "2023-12-27T01:17:46.468053",
     "status": "completed"
    },
    "tags": []
   },
   "outputs": [
    {
     "name": "stdout",
     "output_type": "stream",
     "text": [
      "removing 13000 features\n",
      "removing 2500 features\n",
      "removing 2 features\n",
      "removing 16900 features\n",
      "removing 66 features\n",
      "removing 19169 features\n",
      "removing 4306 features\n",
      "removing 29 features\n"
     ]
    }
   ],
   "source": [
    "pesection = remove_cols(themida, [c for c in cols if c.startswith('ngram_')])\n",
    "pesection = remove_cols(themida, [c for c in cols if c.startswith('opcode_')])\n",
    "pesection = remove_cols(themida, [c for c in cols if c.startswith('generic_')])\n",
    "pesection = remove_cols(themida, [c for c in cols if c.startswith('string_')])\n",
    "pesection = remove_cols(themida, [c for c in cols if c.startswith('rich_')])\n",
    "pesection = remove_cols(themida, [c for c in cols if c.startswith('imp_') or 'api_import_nb' == c])\n",
    "pesection = remove_cols(themida, [c for c in cols if c.endswith('.dll') or 'dll_import_nb' == c])\n",
    "# pesection = remove_cols(themida, [c for c in cols if c.startswith('pesection')])\n",
    "pesection = remove_cols(themida, [c for c in cols if c.startswith('header_')])"
   ]
  },
  {
   "cell_type": "code",
   "execution_count": 58,
   "id": "2e12448e",
   "metadata": {
    "execution": {
     "iopub.execute_input": "2023-12-27T01:17:48.093505Z",
     "iopub.status.busy": "2023-12-27T01:17:48.093037Z",
     "iopub.status.idle": "2023-12-27T01:17:48.152348Z",
     "shell.execute_reply": "2023-12-27T01:17:48.151280Z"
    },
    "papermill": {
     "duration": 0.093503,
     "end_time": "2023-12-27T01:17:48.155526",
     "exception": false,
     "start_time": "2023-12-27T01:17:48.062023",
     "status": "completed"
    },
    "tags": []
   },
   "outputs": [],
   "source": [
    "df_7000_pesection = pesection.sample(n=7000, random_state=102)\n",
    "df_3000_pesection = pesection.drop(df_7000.index)\n",
    "data_pesection = df_7000_pesection.sample(n=3500, random_state=102)"
   ]
  },
  {
   "cell_type": "code",
   "execution_count": 59,
   "id": "35831835",
   "metadata": {
    "execution": {
     "iopub.execute_input": "2023-12-27T01:17:48.216999Z",
     "iopub.status.busy": "2023-12-27T01:17:48.216491Z",
     "iopub.status.idle": "2023-12-27T01:17:48.381090Z",
     "shell.execute_reply": "2023-12-27T01:17:48.379582Z"
    },
    "papermill": {
     "duration": 0.19866,
     "end_time": "2023-12-27T01:17:48.383823",
     "exception": false,
     "start_time": "2023-12-27T01:17:48.185163",
     "status": "completed"
    },
    "tags": []
   },
   "outputs": [
    {
     "name": "stdout",
     "output_type": "stream",
     "text": [
      "Packed Malware: 2241 samples\n",
      "Packed Benign: 1259 samples\n",
      "Total TRAIN set: 3500 samples\n",
      "Packed Malware: 1259 samples\n",
      "Packed Benign: 1259 samples\n",
      "Total TRAIN set: 2518 samples\n",
      "Packed Malware: 1089 samples\n",
      "Packed Benign: 1089 samples\n",
      "Total TEST set: 2178 samples\n"
     ]
    }
   ],
   "source": [
    "#Kiểm tra số lượng mẫu\n",
    "PM = data_pesection[(data_pesection['malicious'] == True) & (data_pesection['packed'] == True)].shape[0]\n",
    "PB = data_pesection[(data_pesection['malicious'] == False) & (data_pesection['packed'] == True)].shape[0]\n",
    "print('Packed Malware: %i samples' % PM)\n",
    "print('Packed Benign: %i samples' % PB)\n",
    "print('Total TRAIN set: %i samples'% (PM+PB))\n",
    "\n",
    "#Chia tỉ lệ 50 - 50\n",
    "data_PM_pesection = data_pesection[(data_pesection['malicious'] == True) & (data_pesection['packed'] == True)].sample(n=(PM-PB), random_state=102)\n",
    "data_pesection = data_pesection.drop(data_PM_pesection.index)\n",
    "      \n",
    "#Số lượng tập train\n",
    "PM = data_pesection[(data_pesection['malicious'] == True) & (data_pesection['packed'] == True)].shape[0]\n",
    "PB = data_pesection[(data_pesection['malicious'] == False) & (data_pesection['packed'] == True)].shape[0]\n",
    "print('Packed Malware: %i samples' % PM)\n",
    "print('Packed Benign: %i samples' % PB)\n",
    "print('Total TRAIN set: %i samples'% (PM+PB))\n",
    "\n",
    "#Xử lý tập train\n",
    "y = data_pesection['malicious'].values\n",
    "data_pesection = data_pesection.drop(['malicious','packed'], axis=1)\n",
    "\n",
    "PM = df_3000_pesection[(df_3000_pesection['malicious'] == True) & (df_3000_pesection['packed'] == True)].shape[0]\n",
    "PB = df_3000_pesection[(df_3000_pesection['malicious'] == False) & (df_3000_pesection['packed'] == True)].shape[0]\n",
    "\n",
    "df_3000_PM_pesection = df_3000_pesection[(df_3000_pesection['malicious'] == True) & (df_3000_pesection['packed'] == True)].sample(n=(PM-PB), random_state=102)\n",
    "df_3000_pesection = df_3000_pesection.drop(df_3000_PM_pesection.index)\n",
    "\n",
    "PM = df_3000_pesection[(df_3000_pesection['malicious'] == True) & (df_3000_pesection['packed'] == True)].shape[0]\n",
    "PB = df_3000_pesection[(df_3000_pesection['malicious'] == False) & (df_3000_pesection['packed'] == True)].shape[0]\n",
    "\n",
    "print('Packed Malware: %i samples' % PM)\n",
    "print('Packed Benign: %i samples' % PB)\n",
    "print('Total TEST set: %i samples'% (PM+PB))"
   ]
  },
  {
   "cell_type": "code",
   "execution_count": 60,
   "id": "87c6f020",
   "metadata": {
    "execution": {
     "iopub.execute_input": "2023-12-27T01:17:48.449987Z",
     "iopub.status.busy": "2023-12-27T01:17:48.449361Z",
     "iopub.status.idle": "2023-12-27T01:17:48.494814Z",
     "shell.execute_reply": "2023-12-27T01:17:48.493633Z"
    },
    "papermill": {
     "duration": 0.082906,
     "end_time": "2023-12-27T01:17:48.497872",
     "exception": false,
     "start_time": "2023-12-27T01:17:48.414966",
     "status": "completed"
    },
    "tags": []
   },
   "outputs": [],
   "source": [
    "# model = SelectFromModel(fsel, prefit=True)\n",
    "\n",
    "X_train_pesection = data_pesection\n",
    "X_test_pesection = df_3000_pesection.drop(['malicious','packed'], axis=1)\n",
    "\n",
    "data_pesection = data_pesection.loc[:, (data_pesection != 0).any(axis=0)]\n",
    "x_train_pesection = data_pesection\n",
    "X_test_pesection = df_3000_pesection.drop(['malicious','packed'], axis=1)\n",
    "y_train_pesection = y\n",
    "y_test_pesection = df_3000_pesection['malicious'].values"
   ]
  },
  {
   "cell_type": "code",
   "execution_count": 61,
   "id": "68c4e240",
   "metadata": {
    "execution": {
     "iopub.execute_input": "2023-12-27T01:17:48.559999Z",
     "iopub.status.busy": "2023-12-27T01:17:48.559236Z",
     "iopub.status.idle": "2023-12-27T01:17:49.451798Z",
     "shell.execute_reply": "2023-12-27T01:17:49.450596Z"
    },
    "papermill": {
     "duration": 0.927517,
     "end_time": "2023-12-27T01:17:49.455046",
     "exception": false,
     "start_time": "2023-12-27T01:17:48.527529",
     "status": "completed"
    },
    "tags": []
   },
   "outputs": [
    {
     "name": "stdout",
     "output_type": "stream",
     "text": [
      "The accuracy of the Random Forests model is :\t 0.8888888888888888\n"
     ]
    }
   ],
   "source": [
    "# Random Forest\n",
    "from sklearn.ensemble import RandomForestClassifier\n",
    "from sklearn import metrics\n",
    "\n",
    "random_forest = RandomForestClassifier(n_estimators=100, random_state=17)\n",
    "random_forest.fit(X_train_pesection, y_train_pesection)\n",
    "random_forest_preds = random_forest.predict(X_test_pesection)\n",
    "print('The accuracy of the Random Forests model is :\\t',metrics.accuracy_score(random_forest_preds,y_test_pesection))"
   ]
  },
  {
   "cell_type": "markdown",
   "id": "43872117",
   "metadata": {
    "papermill": {
     "duration": 0.030811,
     "end_time": "2023-12-27T01:17:49.517261",
     "exception": false,
     "start_time": "2023-12-27T01:17:49.486450",
     "status": "completed"
    },
    "tags": []
   },
   "source": [
    "# **pe header features**"
   ]
  },
  {
   "cell_type": "code",
   "execution_count": 62,
   "id": "ba597380",
   "metadata": {
    "execution": {
     "iopub.execute_input": "2023-12-27T01:17:49.583449Z",
     "iopub.status.busy": "2023-12-27T01:17:49.580767Z",
     "iopub.status.idle": "2023-12-27T01:17:52.014175Z",
     "shell.execute_reply": "2023-12-27T01:17:52.012849Z"
    },
    "papermill": {
     "duration": 2.469414,
     "end_time": "2023-12-27T01:17:52.017263",
     "exception": false,
     "start_time": "2023-12-27T01:17:49.547849",
     "status": "completed"
    },
    "tags": []
   },
   "outputs": [],
   "source": [
    "themida = pd.read_pickle('/kaggle/input/packer-balance-pickle/themida_balance.pickle')\n",
    "themida = themida.drop(['sample_sha1','benign','unpacked_sample_sha1','unpacked_sample_id'], axis=1)\n",
    "themida = themida.drop(['benign_vt','malicious_vt'], axis=1)\n",
    "string_columns = themida.select_dtypes(include=['object']).columns\n",
    "themida = themida.drop(string_columns, axis=1)"
   ]
  },
  {
   "cell_type": "code",
   "execution_count": 63,
   "id": "95a4b547",
   "metadata": {
    "execution": {
     "iopub.execute_input": "2023-12-27T01:17:52.080562Z",
     "iopub.status.busy": "2023-12-27T01:17:52.079799Z",
     "iopub.status.idle": "2023-12-27T01:17:53.723093Z",
     "shell.execute_reply": "2023-12-27T01:17:53.721915Z"
    },
    "papermill": {
     "duration": 1.67824,
     "end_time": "2023-12-27T01:17:53.726119",
     "exception": false,
     "start_time": "2023-12-27T01:17:52.047879",
     "status": "completed"
    },
    "tags": []
   },
   "outputs": [
    {
     "name": "stdout",
     "output_type": "stream",
     "text": [
      "removing 13000 features\n",
      "removing 2500 features\n",
      "removing 2 features\n",
      "removing 16900 features\n",
      "removing 66 features\n",
      "removing 19169 features\n",
      "removing 4306 features\n",
      "removing 550 features\n"
     ]
    }
   ],
   "source": [
    "header = remove_cols(themida, [c for c in cols if c.startswith('ngram_')])\n",
    "header = remove_cols(themida, [c for c in cols if c.startswith('opcode_')])\n",
    "header = remove_cols(themida, [c for c in cols if c.startswith('generic_')])\n",
    "header = remove_cols(themida, [c for c in cols if c.startswith('string_')])\n",
    "header = remove_cols(themida, [c for c in cols if c.startswith('rich_')])\n",
    "header = remove_cols(themida, [c for c in cols if c.startswith('imp_') or 'api_import_nb' == c])\n",
    "header = remove_cols(themida, [c for c in cols if c.endswith('.dll') or 'dll_import_nb' == c])\n",
    "header = remove_cols(themida, [c for c in cols if c.startswith('pesection')])\n",
    "# header = remove_cols(themida, [c for c in cols if c.startswith('header_')])"
   ]
  },
  {
   "cell_type": "code",
   "execution_count": 64,
   "id": "381c5475",
   "metadata": {
    "execution": {
     "iopub.execute_input": "2023-12-27T01:17:53.790457Z",
     "iopub.status.busy": "2023-12-27T01:17:53.789308Z",
     "iopub.status.idle": "2023-12-27T01:17:53.803097Z",
     "shell.execute_reply": "2023-12-27T01:17:53.802149Z"
    },
    "papermill": {
     "duration": 0.048768,
     "end_time": "2023-12-27T01:17:53.805829",
     "exception": false,
     "start_time": "2023-12-27T01:17:53.757061",
     "status": "completed"
    },
    "tags": []
   },
   "outputs": [],
   "source": [
    "df_7000_header = header.sample(n=7000, random_state=102)\n",
    "df_3000_header = header.drop(df_7000.index)\n",
    "data_header = df_7000_header.sample(n=3500, random_state=102)"
   ]
  },
  {
   "cell_type": "code",
   "execution_count": 65,
   "id": "0fe2dc99",
   "metadata": {
    "execution": {
     "iopub.execute_input": "2023-12-27T01:17:53.871571Z",
     "iopub.status.busy": "2023-12-27T01:17:53.870431Z",
     "iopub.status.idle": "2023-12-27T01:17:53.913687Z",
     "shell.execute_reply": "2023-12-27T01:17:53.912470Z"
    },
    "papermill": {
     "duration": 0.078743,
     "end_time": "2023-12-27T01:17:53.916442",
     "exception": false,
     "start_time": "2023-12-27T01:17:53.837699",
     "status": "completed"
    },
    "tags": []
   },
   "outputs": [
    {
     "name": "stdout",
     "output_type": "stream",
     "text": [
      "Packed Malware: 2241 samples\n",
      "Packed Benign: 1259 samples\n",
      "Total TRAIN set: 3500 samples\n",
      "Packed Malware: 1259 samples\n",
      "Packed Benign: 1259 samples\n",
      "Total TRAIN set: 2518 samples\n",
      "Packed Malware: 1089 samples\n",
      "Packed Benign: 1089 samples\n",
      "Total TEST set: 2178 samples\n"
     ]
    }
   ],
   "source": [
    "#Kiểm tra số lượng mẫu\n",
    "PM = data_header[(data_header['malicious'] == True) & (data_header['packed'] == True)].shape[0]\n",
    "PB = data_header[(data_header['malicious'] == False) & (data_header['packed'] == True)].shape[0]\n",
    "print('Packed Malware: %i samples' % PM)\n",
    "print('Packed Benign: %i samples' % PB)\n",
    "print('Total TRAIN set: %i samples'% (PM+PB))\n",
    "\n",
    "#Chia tỉ lệ 50 - 50\n",
    "data_PM_header = data_header[(data_header['malicious'] == True) & (data_header['packed'] == True)].sample(n=(PM-PB), random_state=102)\n",
    "data_header = data_header.drop(data_PM_header.index)\n",
    "      \n",
    "#Số lượng tập train\n",
    "PM = data_header[(data_header['malicious'] == True) & (data_header['packed'] == True)].shape[0]\n",
    "PB = data_header[(data_header['malicious'] == False) & (data_header['packed'] == True)].shape[0]\n",
    "print('Packed Malware: %i samples' % PM)\n",
    "print('Packed Benign: %i samples' % PB)\n",
    "print('Total TRAIN set: %i samples'% (PM+PB))\n",
    "\n",
    "#Xử lý tập train\n",
    "y = data_header['malicious'].values\n",
    "data_header= data_header.drop(['malicious','packed'], axis=1)\n",
    "\n",
    "PM = df_3000_header[(df_3000_header['malicious'] == True) & (df_3000_header['packed'] == True)].shape[0]\n",
    "PB = df_3000_header[(df_3000_header['malicious'] == False) & (df_3000_header['packed'] == True)].shape[0]\n",
    "\n",
    "df_3000_PM_header = df_3000_header[(df_3000_header['malicious'] == True) & (df_3000_header['packed'] == True)].sample(n=(PM-PB), random_state=102)\n",
    "df_3000_header= df_3000_header.drop(df_3000_PM_header.index)\n",
    "\n",
    "PM = df_3000_header[(df_3000_header['malicious'] == True) & (df_3000_header['packed'] == True)].shape[0]\n",
    "PB = df_3000_header[(df_3000_header['malicious'] == False) & (df_3000_header['packed'] == True)].shape[0]\n",
    "\n",
    "print('Packed Malware: %i samples' % PM)\n",
    "print('Packed Benign: %i samples' % PB)\n",
    "print('Total TEST set: %i samples'% (PM+PB))"
   ]
  },
  {
   "cell_type": "code",
   "execution_count": 66,
   "id": "72467645",
   "metadata": {
    "execution": {
     "iopub.execute_input": "2023-12-27T01:17:53.982785Z",
     "iopub.status.busy": "2023-12-27T01:17:53.982277Z",
     "iopub.status.idle": "2023-12-27T01:17:53.998271Z",
     "shell.execute_reply": "2023-12-27T01:17:53.997000Z"
    },
    "papermill": {
     "duration": 0.052528,
     "end_time": "2023-12-27T01:17:54.001264",
     "exception": false,
     "start_time": "2023-12-27T01:17:53.948736",
     "status": "completed"
    },
    "tags": []
   },
   "outputs": [],
   "source": [
    "# model = SelectFromModel(fsel, prefit=True)\n",
    "\n",
    "X_train_header = data_header\n",
    "X_test_header = df_3000_header.drop(['malicious','packed'], axis=1)\n",
    "\n",
    "data_header = data_header.loc[:, (data_header != 0).any(axis=0)]\n",
    "x_train_header = data_header\n",
    "X_test_header = df_3000_header.drop(['malicious','packed'], axis=1)\n",
    "y_train_header = y\n",
    "y_test_header = df_3000_header['malicious'].values"
   ]
  },
  {
   "cell_type": "code",
   "execution_count": 67,
   "id": "651f295e",
   "metadata": {
    "execution": {
     "iopub.execute_input": "2023-12-27T01:17:54.068483Z",
     "iopub.status.busy": "2023-12-27T01:17:54.067609Z",
     "iopub.status.idle": "2023-12-27T01:17:54.613686Z",
     "shell.execute_reply": "2023-12-27T01:17:54.612472Z"
    },
    "papermill": {
     "duration": 0.582241,
     "end_time": "2023-12-27T01:17:54.616791",
     "exception": false,
     "start_time": "2023-12-27T01:17:54.034550",
     "status": "completed"
    },
    "tags": []
   },
   "outputs": [
    {
     "name": "stdout",
     "output_type": "stream",
     "text": [
      "The accuracy of the Random Forests model is :\t 0.8971533516988063\n"
     ]
    }
   ],
   "source": [
    "# Random Forest\n",
    "from sklearn.ensemble import RandomForestClassifier\n",
    "from sklearn import metrics\n",
    "\n",
    "random_forest = RandomForestClassifier(n_estimators=100, random_state=17)\n",
    "random_forest.fit(X_train_header, y_train_header)\n",
    "random_forest_preds = random_forest.predict(X_test_header)\n",
    "print('The accuracy of the Random Forests model is :\\t',metrics.accuracy_score(random_forest_preds,y_test_header))"
   ]
  }
 ],
 "metadata": {
  "kaggle": {
   "accelerator": "none",
   "dataSources": [
    {
     "datasetId": 4192384,
     "sourceId": 7262652,
     "sourceType": "datasetVersion"
    }
   ],
   "dockerImageVersionId": 30626,
   "isGpuEnabled": false,
   "isInternetEnabled": true,
   "language": "python",
   "sourceType": "notebook"
  },
  "kernelspec": {
   "display_name": "Python 3",
   "language": "python",
   "name": "python3"
  },
  "language_info": {
   "codemirror_mode": {
    "name": "ipython",
    "version": 3
   },
   "file_extension": ".py",
   "mimetype": "text/x-python",
   "name": "python",
   "nbconvert_exporter": "python",
   "pygments_lexer": "ipython3",
   "version": "3.10.12"
  },
  "papermill": {
   "default_parameters": {},
   "duration": 104.211394,
   "end_time": "2023-12-27T01:17:55.773729",
   "environment_variables": {},
   "exception": null,
   "input_path": "__notebook__.ipynb",
   "output_path": "__notebook__.ipynb",
   "parameters": {},
   "start_time": "2023-12-27T01:16:11.562335",
   "version": "2.4.0"
  }
 },
 "nbformat": 4,
 "nbformat_minor": 5
}
