{
 "cells": [
  {
   "cell_type": "code",
   "execution_count": 1,
   "id": "d7f9f22d",
   "metadata": {
    "execution": {
     "iopub.execute_input": "2024-01-23T13:25:43.568762Z",
     "iopub.status.busy": "2024-01-23T13:25:43.568301Z",
     "iopub.status.idle": "2024-01-23T13:25:46.111884Z",
     "shell.execute_reply": "2024-01-23T13:25:46.110576Z"
    },
    "papermill": {
     "duration": 2.572109,
     "end_time": "2024-01-23T13:25:46.114557",
     "exception": false,
     "start_time": "2024-01-23T13:25:43.542448",
     "status": "completed"
    },
    "tags": []
   },
   "outputs": [],
   "source": [
    "import pandas as pd\n",
    "import numpy as np\n",
    "import sklearn\n",
    "import sklearn.naive_bayes\n",
    "import sklearn.ensemble as ske\n",
    "import sklearn.neighbors\n",
    "import sklearn.pipeline\n",
    "import sklearn.linear_model\n",
    "import joblib\n",
    "from sklearn import preprocessing\n",
    "from sklearn import tree, linear_model\n",
    "from sklearn.metrics import confusion_matrix\n",
    "from sklearn.metrics import classification_report\n",
    "from sklearn.feature_selection import SelectFromModel\n",
    "import sys\n",
    "import sqlite3\n",
    "import importlib"
   ]
  },
  {
   "cell_type": "code",
   "execution_count": 2,
   "id": "f609da58",
   "metadata": {
    "execution": {
     "iopub.execute_input": "2024-01-23T13:25:46.165236Z",
     "iopub.status.busy": "2024-01-23T13:25:46.163804Z",
     "iopub.status.idle": "2024-01-23T13:26:11.109265Z",
     "shell.execute_reply": "2024-01-23T13:26:11.108347Z"
    },
    "papermill": {
     "duration": 24.974106,
     "end_time": "2024-01-23T13:26:11.111913",
     "exception": false,
     "start_time": "2024-01-23T13:25:46.137807",
     "status": "completed"
    },
    "tags": []
   },
   "outputs": [],
   "source": [
    "df_wild = pd.read_pickle('/kaggle/input/wild-pickle/wild.pickle')"
   ]
  },
  {
   "cell_type": "code",
   "execution_count": 3,
   "id": "43727f25",
   "metadata": {
    "execution": {
     "iopub.execute_input": "2024-01-23T13:26:11.160853Z",
     "iopub.status.busy": "2024-01-23T13:26:11.160102Z",
     "iopub.status.idle": "2024-01-23T13:26:12.727074Z",
     "shell.execute_reply": "2024-01-23T13:26:12.726231Z"
    },
    "papermill": {
     "duration": 1.594237,
     "end_time": "2024-01-23T13:26:12.729707",
     "exception": false,
     "start_time": "2024-01-23T13:26:11.135470",
     "status": "completed"
    },
    "tags": []
   },
   "outputs": [],
   "source": [
    "df = df_wild.sample(n=10000, random_state=102)"
   ]
  },
  {
   "cell_type": "code",
   "execution_count": 4,
   "id": "b31a18f5",
   "metadata": {
    "execution": {
     "iopub.execute_input": "2024-01-23T13:26:12.778229Z",
     "iopub.status.busy": "2024-01-23T13:26:12.777569Z",
     "iopub.status.idle": "2024-01-23T13:26:13.392552Z",
     "shell.execute_reply": "2024-01-23T13:26:13.391403Z"
    },
    "papermill": {
     "duration": 0.642241,
     "end_time": "2024-01-23T13:26:13.395231",
     "exception": false,
     "start_time": "2024-01-23T13:26:12.752990",
     "status": "completed"
    },
    "tags": []
   },
   "outputs": [],
   "source": [
    "df = df.drop(['sample_sha1','benign','unpacked_sample_sha1','unpacked_sample_id'], axis=1)\n",
    "df = df.drop(['benign_vt','malicious_vt'], axis=1)"
   ]
  },
  {
   "cell_type": "code",
   "execution_count": 5,
   "id": "88cf514f",
   "metadata": {
    "execution": {
     "iopub.execute_input": "2024-01-23T13:26:13.509551Z",
     "iopub.status.busy": "2024-01-23T13:26:13.509131Z",
     "iopub.status.idle": "2024-01-23T13:26:13.771658Z",
     "shell.execute_reply": "2024-01-23T13:26:13.770474Z"
    },
    "papermill": {
     "duration": 0.290572,
     "end_time": "2024-01-23T13:26:13.774285",
     "exception": false,
     "start_time": "2024-01-23T13:26:13.483713",
     "status": "completed"
    },
    "tags": []
   },
   "outputs": [],
   "source": [
    "string_columns = df.select_dtypes(include=['object']).columns\n",
    "df = df.drop(string_columns, axis=1)"
   ]
  },
  {
   "cell_type": "code",
   "execution_count": 6,
   "id": "960cba2f",
   "metadata": {
    "execution": {
     "iopub.execute_input": "2024-01-23T13:26:13.822612Z",
     "iopub.status.busy": "2024-01-23T13:26:13.822157Z",
     "iopub.status.idle": "2024-01-23T13:26:13.865447Z",
     "shell.execute_reply": "2024-01-23T13:26:13.864293Z"
    },
    "papermill": {
     "duration": 0.070292,
     "end_time": "2024-01-23T13:26:13.867883",
     "exception": false,
     "start_time": "2024-01-23T13:26:13.797591",
     "status": "completed"
    },
    "tags": []
   },
   "outputs": [
    {
     "data": {
      "text/html": [
       "<div>\n",
       "<style scoped>\n",
       "    .dataframe tbody tr th:only-of-type {\n",
       "        vertical-align: middle;\n",
       "    }\n",
       "\n",
       "    .dataframe tbody tr th {\n",
       "        vertical-align: top;\n",
       "    }\n",
       "\n",
       "    .dataframe thead th {\n",
       "        text-align: right;\n",
       "    }\n",
       "</style>\n",
       "<table border=\"1\" class=\"dataframe\">\n",
       "  <thead>\n",
       "    <tr style=\"text-align: right;\">\n",
       "      <th></th>\n",
       "      <th>malicious</th>\n",
       "      <th>packed</th>\n",
       "      <th>imp_setupremovefilelogentrya</th>\n",
       "      <th>imp_vardeccmp</th>\n",
       "      <th>imp_setdlgitemint</th>\n",
       "      <th>imp_?append@?$basic_string@du?$char_traits@d@std@@v?$allocator@d@2@@std@@qaeaav12@abv12@ii@z</th>\n",
       "      <th>imp_zwwritefile</th>\n",
       "      <th>imp_glstencilop</th>\n",
       "      <th>imp_comparelinkinforeferents</th>\n",
       "      <th>imp__setmbcp</th>\n",
       "      <th>...</th>\n",
       "      <th>opcode_xor sub mov</th>\n",
       "      <th>opcode_xor sub mov add</th>\n",
       "      <th>opcode_xor test</th>\n",
       "      <th>opcode_xor test je</th>\n",
       "      <th>opcode_xor xor</th>\n",
       "      <th>opcode_xor xor mov</th>\n",
       "      <th>opcode_xor xor pop</th>\n",
       "      <th>opcode_xor xor pop mov</th>\n",
       "      <th>opcode_xor xor xor</th>\n",
       "      <th>opcode_xor xor xor pop</th>\n",
       "    </tr>\n",
       "  </thead>\n",
       "  <tbody>\n",
       "    <tr>\n",
       "      <th>167256</th>\n",
       "      <td>True</td>\n",
       "      <td>True</td>\n",
       "      <td>False</td>\n",
       "      <td>False</td>\n",
       "      <td>False</td>\n",
       "      <td>False</td>\n",
       "      <td>False</td>\n",
       "      <td>False</td>\n",
       "      <td>False</td>\n",
       "      <td>False</td>\n",
       "      <td>...</td>\n",
       "      <td>0.000087</td>\n",
       "      <td>0.0</td>\n",
       "      <td>0.000329</td>\n",
       "      <td>0.000267</td>\n",
       "      <td>0.000086</td>\n",
       "      <td>0.00000</td>\n",
       "      <td>0.0</td>\n",
       "      <td>0.0</td>\n",
       "      <td>0.000000</td>\n",
       "      <td>0.0</td>\n",
       "    </tr>\n",
       "    <tr>\n",
       "      <th>14422</th>\n",
       "      <td>True</td>\n",
       "      <td>True</td>\n",
       "      <td>False</td>\n",
       "      <td>False</td>\n",
       "      <td>False</td>\n",
       "      <td>False</td>\n",
       "      <td>False</td>\n",
       "      <td>False</td>\n",
       "      <td>False</td>\n",
       "      <td>False</td>\n",
       "      <td>...</td>\n",
       "      <td>0.000000</td>\n",
       "      <td>0.0</td>\n",
       "      <td>0.000000</td>\n",
       "      <td>0.000000</td>\n",
       "      <td>0.000000</td>\n",
       "      <td>0.00000</td>\n",
       "      <td>0.0</td>\n",
       "      <td>0.0</td>\n",
       "      <td>0.000000</td>\n",
       "      <td>0.0</td>\n",
       "    </tr>\n",
       "    <tr>\n",
       "      <th>185351</th>\n",
       "      <td>True</td>\n",
       "      <td>True</td>\n",
       "      <td>False</td>\n",
       "      <td>False</td>\n",
       "      <td>False</td>\n",
       "      <td>False</td>\n",
       "      <td>False</td>\n",
       "      <td>False</td>\n",
       "      <td>False</td>\n",
       "      <td>False</td>\n",
       "      <td>...</td>\n",
       "      <td>0.000029</td>\n",
       "      <td>0.0</td>\n",
       "      <td>0.000105</td>\n",
       "      <td>0.000099</td>\n",
       "      <td>0.000085</td>\n",
       "      <td>0.00011</td>\n",
       "      <td>0.0</td>\n",
       "      <td>0.0</td>\n",
       "      <td>0.000043</td>\n",
       "      <td>0.0</td>\n",
       "    </tr>\n",
       "    <tr>\n",
       "      <th>53241</th>\n",
       "      <td>False</td>\n",
       "      <td>True</td>\n",
       "      <td>False</td>\n",
       "      <td>False</td>\n",
       "      <td>False</td>\n",
       "      <td>False</td>\n",
       "      <td>False</td>\n",
       "      <td>False</td>\n",
       "      <td>False</td>\n",
       "      <td>False</td>\n",
       "      <td>...</td>\n",
       "      <td>0.000000</td>\n",
       "      <td>0.0</td>\n",
       "      <td>0.000000</td>\n",
       "      <td>0.000000</td>\n",
       "      <td>0.000000</td>\n",
       "      <td>0.00000</td>\n",
       "      <td>0.0</td>\n",
       "      <td>0.0</td>\n",
       "      <td>0.000000</td>\n",
       "      <td>0.0</td>\n",
       "    </tr>\n",
       "    <tr>\n",
       "      <th>38618</th>\n",
       "      <td>False</td>\n",
       "      <td>True</td>\n",
       "      <td>False</td>\n",
       "      <td>False</td>\n",
       "      <td>False</td>\n",
       "      <td>False</td>\n",
       "      <td>False</td>\n",
       "      <td>False</td>\n",
       "      <td>False</td>\n",
       "      <td>False</td>\n",
       "      <td>...</td>\n",
       "      <td>0.000000</td>\n",
       "      <td>0.0</td>\n",
       "      <td>0.000199</td>\n",
       "      <td>0.000124</td>\n",
       "      <td>0.000000</td>\n",
       "      <td>0.00000</td>\n",
       "      <td>0.0</td>\n",
       "      <td>0.0</td>\n",
       "      <td>0.000000</td>\n",
       "      <td>0.0</td>\n",
       "    </tr>\n",
       "  </tbody>\n",
       "</table>\n",
       "<p>5 rows × 56526 columns</p>\n",
       "</div>"
      ],
      "text/plain": [
       "        malicious  packed  imp_setupremovefilelogentrya  imp_vardeccmp  \\\n",
       "167256       True    True                         False          False   \n",
       "14422        True    True                         False          False   \n",
       "185351       True    True                         False          False   \n",
       "53241       False    True                         False          False   \n",
       "38618       False    True                         False          False   \n",
       "\n",
       "        imp_setdlgitemint  \\\n",
       "167256              False   \n",
       "14422               False   \n",
       "185351              False   \n",
       "53241               False   \n",
       "38618               False   \n",
       "\n",
       "        imp_?append@?$basic_string@du?$char_traits@d@std@@v?$allocator@d@2@@std@@qaeaav12@abv12@ii@z  \\\n",
       "167256                                              False                                              \n",
       "14422                                               False                                              \n",
       "185351                                              False                                              \n",
       "53241                                               False                                              \n",
       "38618                                               False                                              \n",
       "\n",
       "        imp_zwwritefile  imp_glstencilop  imp_comparelinkinforeferents  \\\n",
       "167256            False            False                         False   \n",
       "14422             False            False                         False   \n",
       "185351            False            False                         False   \n",
       "53241             False            False                         False   \n",
       "38618             False            False                         False   \n",
       "\n",
       "        imp__setmbcp  ...  opcode_xor sub mov  opcode_xor sub mov add  \\\n",
       "167256         False  ...            0.000087                     0.0   \n",
       "14422          False  ...            0.000000                     0.0   \n",
       "185351         False  ...            0.000029                     0.0   \n",
       "53241          False  ...            0.000000                     0.0   \n",
       "38618          False  ...            0.000000                     0.0   \n",
       "\n",
       "        opcode_xor test  opcode_xor test je  opcode_xor xor  \\\n",
       "167256         0.000329            0.000267        0.000086   \n",
       "14422          0.000000            0.000000        0.000000   \n",
       "185351         0.000105            0.000099        0.000085   \n",
       "53241          0.000000            0.000000        0.000000   \n",
       "38618          0.000199            0.000124        0.000000   \n",
       "\n",
       "        opcode_xor xor mov  opcode_xor xor pop  opcode_xor xor pop mov  \\\n",
       "167256             0.00000                 0.0                     0.0   \n",
       "14422              0.00000                 0.0                     0.0   \n",
       "185351             0.00011                 0.0                     0.0   \n",
       "53241              0.00000                 0.0                     0.0   \n",
       "38618              0.00000                 0.0                     0.0   \n",
       "\n",
       "        opcode_xor xor xor  opcode_xor xor xor pop  \n",
       "167256            0.000000                     0.0  \n",
       "14422             0.000000                     0.0  \n",
       "185351            0.000043                     0.0  \n",
       "53241             0.000000                     0.0  \n",
       "38618             0.000000                     0.0  \n",
       "\n",
       "[5 rows x 56526 columns]"
      ]
     },
     "execution_count": 6,
     "metadata": {},
     "output_type": "execute_result"
    }
   ],
   "source": [
    "df.head()"
   ]
  },
  {
   "cell_type": "code",
   "execution_count": 7,
   "id": "ef51a8c0",
   "metadata": {
    "execution": {
     "iopub.execute_input": "2024-01-23T13:26:13.918094Z",
     "iopub.status.busy": "2024-01-23T13:26:13.917292Z",
     "iopub.status.idle": "2024-01-23T13:26:14.800161Z",
     "shell.execute_reply": "2024-01-23T13:26:14.799273Z"
    },
    "papermill": {
     "duration": 0.910486,
     "end_time": "2024-01-23T13:26:14.802738",
     "exception": false,
     "start_time": "2024-01-23T13:26:13.892252",
     "status": "completed"
    },
    "tags": []
   },
   "outputs": [],
   "source": [
    "df_7000 = df.sample(n=7000, random_state=102)\n",
    "df_3000 = df.drop(df_7000.index)"
   ]
  },
  {
   "cell_type": "code",
   "execution_count": 8,
   "id": "9da0d676",
   "metadata": {
    "execution": {
     "iopub.execute_input": "2024-01-23T13:26:14.852140Z",
     "iopub.status.busy": "2024-01-23T13:26:14.851744Z",
     "iopub.status.idle": "2024-01-23T13:26:15.219005Z",
     "shell.execute_reply": "2024-01-23T13:26:15.217997Z"
    },
    "papermill": {
     "duration": 0.394969,
     "end_time": "2024-01-23T13:26:15.221512",
     "exception": false,
     "start_time": "2024-01-23T13:26:14.826543",
     "status": "completed"
    },
    "tags": []
   },
   "outputs": [],
   "source": [
    "data = df_7000.sample(n=3500, random_state=102)"
   ]
  },
  {
   "cell_type": "code",
   "execution_count": 9,
   "id": "546eae0a",
   "metadata": {
    "execution": {
     "iopub.execute_input": "2024-01-23T13:26:15.271249Z",
     "iopub.status.busy": "2024-01-23T13:26:15.270849Z",
     "iopub.status.idle": "2024-01-23T13:26:15.584489Z",
     "shell.execute_reply": "2024-01-23T13:26:15.583265Z"
    },
    "papermill": {
     "duration": 0.342224,
     "end_time": "2024-01-23T13:26:15.587325",
     "exception": false,
     "start_time": "2024-01-23T13:26:15.245101",
     "status": "completed"
    },
    "tags": []
   },
   "outputs": [
    {
     "name": "stdout",
     "output_type": "stream",
     "text": [
      "Unpacked Benign: 293 samples\n",
      "Packed Malware: 2341 samples\n",
      "Packed Benign: 866 samples\n",
      "Total TRAIN set: 3500 samples\n"
     ]
    }
   ],
   "source": [
    "#Kiểm tra số lượng mẫu\n",
    "UB = data[(data['malicious'] == False) & (data['packed'] == False)].shape[0]\n",
    "PM = data[(data['malicious'] == True) & (data['packed'] == True)].shape[0]\n",
    "PB = data[(data['malicious'] == False) & (data['packed'] == True)].shape[0]\n",
    "print('Unpacked Benign: %i samples' % UB)\n",
    "print('Packed Malware: %i samples' % PM)\n",
    "print('Packed Benign: %i samples' % PB)\n",
    "print('Total TRAIN set: %i samples'% (UB+PM+PB))"
   ]
  },
  {
   "cell_type": "code",
   "execution_count": 10,
   "id": "f98c1b30",
   "metadata": {
    "execution": {
     "iopub.execute_input": "2024-01-23T13:26:15.636890Z",
     "iopub.status.busy": "2024-01-23T13:26:15.636460Z",
     "iopub.status.idle": "2024-01-23T13:26:16.109118Z",
     "shell.execute_reply": "2024-01-23T13:26:16.107918Z"
    },
    "papermill": {
     "duration": 0.50064,
     "end_time": "2024-01-23T13:26:16.111814",
     "exception": false,
     "start_time": "2024-01-23T13:26:15.611174",
     "status": "completed"
    },
    "tags": []
   },
   "outputs": [],
   "source": [
    "#Chia tỉ lệ 50 - 50\n",
    "data_PM = data[(data['malicious'] == True) & (data['packed'] == True)].sample(n=(PM-(UB+PB)), random_state=102)\n",
    "data = data.drop(data_PM.index)"
   ]
  },
  {
   "cell_type": "code",
   "execution_count": 11,
   "id": "2ad6c888",
   "metadata": {
    "execution": {
     "iopub.execute_input": "2024-01-23T13:26:16.163060Z",
     "iopub.status.busy": "2024-01-23T13:26:16.162616Z",
     "iopub.status.idle": "2024-01-23T13:26:16.356855Z",
     "shell.execute_reply": "2024-01-23T13:26:16.355703Z"
    },
    "papermill": {
     "duration": 0.222548,
     "end_time": "2024-01-23T13:26:16.359321",
     "exception": false,
     "start_time": "2024-01-23T13:26:16.136773",
     "status": "completed"
    },
    "tags": []
   },
   "outputs": [
    {
     "name": "stdout",
     "output_type": "stream",
     "text": [
      "Unpacked Benign: 293 samples\n",
      "Packed Malware: 1159 samples\n",
      "Packed Benign: 866 samples\n",
      "Total TRAIN set: 2318 samples\n"
     ]
    }
   ],
   "source": [
    "#Số lượng tập train\n",
    "UB = data[(data['malicious'] == False) & (data['packed'] == False)].shape[0]\n",
    "PM = data[(data['malicious'] == True) & (data['packed'] == True)].shape[0]\n",
    "PB = data[(data['malicious'] == False) & (data['packed'] == True)].shape[0]\n",
    "print('Unpacked Benign: %i samples' % UB)\n",
    "print('Packed Malware: %i samples' % PM)\n",
    "print('Packed Benign: %i samples' % PB)\n",
    "print('Total TRAIN set: %i samples'% (UB+PM+PB))"
   ]
  },
  {
   "cell_type": "code",
   "execution_count": 12,
   "id": "b75528d9",
   "metadata": {
    "execution": {
     "iopub.execute_input": "2024-01-23T13:26:16.411469Z",
     "iopub.status.busy": "2024-01-23T13:26:16.410258Z",
     "iopub.status.idle": "2024-01-23T13:26:16.486622Z",
     "shell.execute_reply": "2024-01-23T13:26:16.485394Z"
    },
    "papermill": {
     "duration": 0.10515,
     "end_time": "2024-01-23T13:26:16.489650",
     "exception": false,
     "start_time": "2024-01-23T13:26:16.384500",
     "status": "completed"
    },
    "tags": []
   },
   "outputs": [],
   "source": [
    "#Xử lý tập train\n",
    "y = data['malicious'].values\n",
    "data = data.drop(['malicious','packed'], axis=1)"
   ]
  },
  {
   "cell_type": "code",
   "execution_count": 13,
   "id": "fa68d098",
   "metadata": {
    "execution": {
     "iopub.execute_input": "2024-01-23T13:26:16.542313Z",
     "iopub.status.busy": "2024-01-23T13:26:16.541907Z",
     "iopub.status.idle": "2024-01-23T13:26:17.346236Z",
     "shell.execute_reply": "2024-01-23T13:26:17.344731Z"
    },
    "papermill": {
     "duration": 0.833034,
     "end_time": "2024-01-23T13:26:17.348697",
     "exception": false,
     "start_time": "2024-01-23T13:26:16.515663",
     "status": "completed"
    },
    "tags": []
   },
   "outputs": [
    {
     "name": "stdout",
     "output_type": "stream",
     "text": [
      "Unpacked Benign: 254 samples\n",
      "Packed Malware: 1022 samples\n",
      "Packed Benign: 768 samples\n",
      "Total TEST set: 2044 samples\n"
     ]
    }
   ],
   "source": [
    "UB = df_3000[(df_3000['malicious'] == False) & (df_3000['packed'] == False)].shape[0]\n",
    "PM = df_3000[(df_3000['malicious'] == True) & (df_3000['packed'] == True)].shape[0]\n",
    "PB = df_3000[(df_3000['malicious'] == False) & (df_3000['packed'] == True)].shape[0]\n",
    "\n",
    "df_3000_PM = df_3000[(df_3000['malicious'] == True) & (df_3000['packed'] == True)].sample(n=(PM-(UB+PB)), random_state=102)\n",
    "df_3000 = df_3000.drop(df_3000_PM.index)\n",
    "\n",
    "UB = df_3000[(df_3000['malicious'] == False) & (df_3000['packed'] == False)].shape[0]\n",
    "PM = df_3000[(df_3000['malicious'] == True) & (df_3000['packed'] == True)].shape[0]\n",
    "PB = df_3000[(df_3000['malicious'] == False) & (df_3000['packed'] == True)].shape[0]\n",
    "\n",
    "print('Unpacked Benign: %i samples' % UB)\n",
    "print('Packed Malware: %i samples' % PM)\n",
    "print('Packed Benign: %i samples' % PB)\n",
    "print('Total TEST set: %i samples'% (UB+PM+PB))"
   ]
  },
  {
   "cell_type": "code",
   "execution_count": 14,
   "id": "ebd47bfc",
   "metadata": {
    "execution": {
     "iopub.execute_input": "2024-01-23T13:26:17.399869Z",
     "iopub.status.busy": "2024-01-23T13:26:17.399444Z",
     "iopub.status.idle": "2024-01-23T13:26:17.748626Z",
     "shell.execute_reply": "2024-01-23T13:26:17.747551Z"
    },
    "papermill": {
     "duration": 0.377053,
     "end_time": "2024-01-23T13:26:17.751239",
     "exception": false,
     "start_time": "2024-01-23T13:26:17.374186",
     "status": "completed"
    },
    "tags": []
   },
   "outputs": [],
   "source": [
    "# model = SelectFromModel(fsel, prefit=True)\n",
    "\n",
    "X_train = data\n",
    "X_test = df_3000.drop(['malicious','packed'], axis=1)\n",
    "\n",
    "data = data.loc[:, (data != 0).any(axis=0)]\n",
    "x_train = data\n",
    "X_test = df_3000.drop(['malicious','packed'], axis=1)\n",
    "y_train = y\n",
    "y_test = df_3000['malicious'].values"
   ]
  },
  {
   "cell_type": "code",
   "execution_count": 15,
   "id": "6279873c",
   "metadata": {
    "execution": {
     "iopub.execute_input": "2024-01-23T13:26:17.801016Z",
     "iopub.status.busy": "2024-01-23T13:26:17.800597Z",
     "iopub.status.idle": "2024-01-23T13:26:22.624728Z",
     "shell.execute_reply": "2024-01-23T13:26:22.623547Z"
    },
    "papermill": {
     "duration": 4.85185,
     "end_time": "2024-01-23T13:26:22.627137",
     "exception": false,
     "start_time": "2024-01-23T13:26:17.775287",
     "status": "completed"
    },
    "tags": []
   },
   "outputs": [
    {
     "name": "stdout",
     "output_type": "stream",
     "text": [
      "The accuracy of the Random Forests model is :\t 0.9256360078277887\n"
     ]
    }
   ],
   "source": [
    "# Random Forest\n",
    "from sklearn.ensemble import RandomForestClassifier\n",
    "from sklearn import metrics\n",
    "\n",
    "random_forest = RandomForestClassifier(n_estimators=100, random_state=17)\n",
    "random_forest.fit(X_train, y_train)\n",
    "random_forest_preds = random_forest.predict(X_test)\n",
    "print('The accuracy of the Random Forests model is :\\t',metrics.accuracy_score(random_forest_preds,y_test))"
   ]
  },
  {
   "cell_type": "code",
   "execution_count": 16,
   "id": "2ba8d4a3",
   "metadata": {
    "execution": {
     "iopub.execute_input": "2024-01-23T13:26:22.677585Z",
     "iopub.status.busy": "2024-01-23T13:26:22.677164Z",
     "iopub.status.idle": "2024-01-23T13:26:22.696237Z",
     "shell.execute_reply": "2024-01-23T13:26:22.695142Z"
    },
    "papermill": {
     "duration": 0.047095,
     "end_time": "2024-01-23T13:26:22.698660",
     "exception": false,
     "start_time": "2024-01-23T13:26:22.651565",
     "status": "completed"
    },
    "tags": []
   },
   "outputs": [
    {
     "name": "stdout",
     "output_type": "stream",
     "text": [
      "True positive : 944 \n",
      "True negative : 948 \n",
      "False positive : 74 \n",
      "False negative : 78 \n",
      "Classification Report:\n",
      "               precision    recall  f1-score   support\n",
      "\n",
      "       False       0.92      0.93      0.93      1022\n",
      "        True       0.93      0.92      0.93      1022\n",
      "\n",
      "    accuracy                           0.93      2044\n",
      "   macro avg       0.93      0.93      0.93      2044\n",
      "weighted avg       0.93      0.93      0.93      2044\n",
      "\n"
     ]
    }
   ],
   "source": [
    "mt = confusion_matrix(y_test, random_forest_preds)\n",
    "report = classification_report(y_test, random_forest_preds)\n",
    "print(\"True positive : %i \" % (mt[1][1]))\n",
    "print(\"True negative : %i \" % (mt[0][0]))\n",
    "print(\"False positive : %i \" % (mt[0][1]))\n",
    "print(\"False negative : %i \" % (mt[1][0]))\n",
    "print(\"Classification Report:\\n\", report)"
   ]
  },
  {
   "cell_type": "markdown",
   "id": "d9708974",
   "metadata": {
    "papermill": {
     "duration": 0.025124,
     "end_time": "2024-01-23T13:26:22.748719",
     "exception": false,
     "start_time": "2024-01-23T13:26:22.723595",
     "status": "completed"
    },
    "tags": []
   },
   "source": [
    "# **dolphin**"
   ]
  },
  {
   "cell_type": "code",
   "execution_count": 17,
   "id": "1551debf",
   "metadata": {
    "execution": {
     "iopub.execute_input": "2024-01-23T13:26:22.800497Z",
     "iopub.status.busy": "2024-01-23T13:26:22.800085Z",
     "iopub.status.idle": "2024-01-23T13:26:25.994306Z",
     "shell.execute_reply": "2024-01-23T13:26:25.993079Z"
    },
    "papermill": {
     "duration": 3.223586,
     "end_time": "2024-01-23T13:26:25.997385",
     "exception": false,
     "start_time": "2024-01-23T13:26:22.773799",
     "status": "completed"
    },
    "tags": []
   },
   "outputs": [],
   "source": [
    "df_dolphin = pd.read_pickle('/kaggle/input/packer-balance-pickle/dolphin_balance.pickle')"
   ]
  },
  {
   "cell_type": "code",
   "execution_count": 18,
   "id": "a46bdce8",
   "metadata": {
    "execution": {
     "iopub.execute_input": "2024-01-23T13:26:26.048269Z",
     "iopub.status.busy": "2024-01-23T13:26:26.047865Z",
     "iopub.status.idle": "2024-01-23T13:26:27.342273Z",
     "shell.execute_reply": "2024-01-23T13:26:27.341122Z"
    },
    "papermill": {
     "duration": 1.323094,
     "end_time": "2024-01-23T13:26:27.344916",
     "exception": false,
     "start_time": "2024-01-23T13:26:26.021822",
     "status": "completed"
    },
    "tags": []
   },
   "outputs": [],
   "source": [
    "df_dolphin = df_dolphin.drop(['sample_sha1','benign','unpacked_sample_sha1','unpacked_sample_id'], axis=1)\n",
    "df_dolphin = df_dolphin.drop(['benign_vt','malicious_vt'], axis=1)\n",
    "string_columns = df_dolphin.select_dtypes(include=['object']).columns\n",
    "df_dolphin = df_dolphin.drop(string_columns, axis=1)"
   ]
  },
  {
   "cell_type": "code",
   "execution_count": 19,
   "id": "480da500",
   "metadata": {
    "execution": {
     "iopub.execute_input": "2024-01-23T13:26:27.397328Z",
     "iopub.status.busy": "2024-01-23T13:26:27.396698Z",
     "iopub.status.idle": "2024-01-23T13:26:28.663428Z",
     "shell.execute_reply": "2024-01-23T13:26:28.662618Z"
    },
    "papermill": {
     "duration": 1.296692,
     "end_time": "2024-01-23T13:26:28.665745",
     "exception": false,
     "start_time": "2024-01-23T13:26:27.369053",
     "status": "completed"
    },
    "tags": []
   },
   "outputs": [],
   "source": [
    "df_7000_dolphin = df_dolphin.sample(n=7000, random_state=102)\n",
    "df_3000_dolphin = df_dolphin.drop(df_7000_dolphin.index)\n",
    "data_dolphin = df_7000_dolphin.sample(n=3500, random_state=102)"
   ]
  },
  {
   "cell_type": "code",
   "execution_count": 20,
   "id": "3692a33a",
   "metadata": {
    "execution": {
     "iopub.execute_input": "2024-01-23T13:26:28.718334Z",
     "iopub.status.busy": "2024-01-23T13:26:28.717191Z",
     "iopub.status.idle": "2024-01-23T13:26:30.691476Z",
     "shell.execute_reply": "2024-01-23T13:26:30.690057Z"
    },
    "papermill": {
     "duration": 2.003363,
     "end_time": "2024-01-23T13:26:30.693813",
     "exception": false,
     "start_time": "2024-01-23T13:26:28.690450",
     "status": "completed"
    },
    "tags": []
   },
   "outputs": [
    {
     "name": "stdout",
     "output_type": "stream",
     "text": [
      "Packed Malware: 2322 samples\n",
      "Packed Benign: 1178 samples\n",
      "Total TRAIN set: 3500 samples\n",
      "Packed Malware: 1178 samples\n",
      "Packed Benign: 1178 samples\n",
      "Total TRAIN set: 2356 samples\n",
      "Packed Malware: 1022 samples\n",
      "Packed Benign: 1022 samples\n",
      "Total TEST set: 2044 samples\n"
     ]
    }
   ],
   "source": [
    "#Kiểm tra số lượng mẫu\n",
    "PM = data_dolphin[(data_dolphin['malicious'] == True) & (data_dolphin['packed'] == True)].shape[0]\n",
    "PB = data_dolphin[(data_dolphin['malicious'] == False) & (data_dolphin['packed'] == True)].shape[0]\n",
    "print('Packed Malware: %i samples' % PM)\n",
    "print('Packed Benign: %i samples' % PB)\n",
    "print('Total TRAIN set: %i samples'% (PM+PB))\n",
    "\n",
    "#Chia tỉ lệ 50 - 50\n",
    "data_PM_dolphin = data_dolphin[(data_dolphin['malicious'] == True) & (data_dolphin['packed'] == True)].sample(n=(PM-PB), random_state=102)\n",
    "data_dolphin = data_dolphin.drop(data_PM_dolphin.index)\n",
    "\n",
    "#Số lượng tập train\n",
    "PM = data_dolphin[(data_dolphin['malicious'] == True) & (data_dolphin['packed'] == True)].shape[0]\n",
    "PB = data_dolphin[(data_dolphin['malicious'] == False) & (data_dolphin['packed'] == True)].shape[0]\n",
    "print('Packed Malware: %i samples' % PM)\n",
    "print('Packed Benign: %i samples' % PB)\n",
    "print('Total TRAIN set: %i samples'% (PM+PB))\n",
    "\n",
    "#Xử lý tập train\n",
    "y_dolphin = data_dolphin['malicious'].values\n",
    "data_dolphin = data_dolphin.drop(['malicious','packed'], axis=1)\n",
    "\n",
    "PM = df_3000_dolphin[(df_3000_dolphin['malicious'] == True) & (df_3000_dolphin['packed'] == True)].shape[0]\n",
    "PB = df_3000_dolphin[(df_3000_dolphin['malicious'] == False) & (df_3000_dolphin['packed'] == True)].shape[0]\n",
    "\n",
    "df_3000_PM_dolphin = df_3000_dolphin[(df_3000_dolphin['malicious'] == True) & (df_3000_dolphin['packed'] == True)].sample(n=(PM-PB), random_state=102)\n",
    "df_3000_dolphin = df_3000_dolphin.drop(df_3000_PM_dolphin.index)\n",
    "\n",
    "PM = df_3000_dolphin[(df_3000_dolphin['malicious'] == True) & (df_3000_dolphin['packed'] == True)].shape[0]\n",
    "PB = df_3000_dolphin[(df_3000_dolphin['malicious'] == False) & (df_3000_dolphin['packed'] == True)].shape[0]\n",
    "print('Packed Malware: %i samples' % PM)\n",
    "print('Packed Benign: %i samples' % PB)\n",
    "print('Total TEST set: %i samples'% (PM+PB))"
   ]
  },
  {
   "cell_type": "code",
   "execution_count": 21,
   "id": "dff19f7f",
   "metadata": {
    "execution": {
     "iopub.execute_input": "2024-01-23T13:26:30.746092Z",
     "iopub.status.busy": "2024-01-23T13:26:30.744907Z",
     "iopub.status.idle": "2024-01-23T13:26:30.899995Z",
     "shell.execute_reply": "2024-01-23T13:26:30.899144Z"
    },
    "papermill": {
     "duration": 0.183109,
     "end_time": "2024-01-23T13:26:30.902328",
     "exception": false,
     "start_time": "2024-01-23T13:26:30.719219",
     "status": "completed"
    },
    "tags": []
   },
   "outputs": [],
   "source": [
    "# model = SelectFromModel(fsel, prefit=True)\n",
    "\n",
    "X_train_dolphin = data_dolphin\n",
    "X_test_dolphin = df_3000_dolphin.drop(['malicious','packed'], axis=1)\n",
    "\n",
    "# data_dolphin = data_dolphin.loc[:, (data_dolphin != 0).any(axis=0)]\n",
    "x_train_dolphin = data_dolphin\n",
    "X_test_dolphin = df_3000_dolphin.drop(['malicious','packed'], axis=1)\n",
    "y_train_dolphin = y_dolphin\n",
    "y_test_dolphin = df_3000_dolphin['malicious'].values"
   ]
  },
  {
   "cell_type": "code",
   "execution_count": 22,
   "id": "204178e7",
   "metadata": {
    "execution": {
     "iopub.execute_input": "2024-01-23T13:26:30.954617Z",
     "iopub.status.busy": "2024-01-23T13:26:30.953486Z",
     "iopub.status.idle": "2024-01-23T13:26:35.798980Z",
     "shell.execute_reply": "2024-01-23T13:26:35.797730Z"
    },
    "papermill": {
     "duration": 4.874167,
     "end_time": "2024-01-23T13:26:35.801534",
     "exception": false,
     "start_time": "2024-01-23T13:26:30.927367",
     "status": "completed"
    },
    "tags": []
   },
   "outputs": [
    {
     "name": "stdout",
     "output_type": "stream",
     "text": [
      "The accuracy of the Random Forests model is :\t 0.5\n"
     ]
    }
   ],
   "source": [
    "# Random Forest\n",
    "from sklearn.ensemble import RandomForestClassifier\n",
    "from sklearn import metrics\n",
    "\n",
    "random_forest = RandomForestClassifier(n_estimators=100, random_state=17)\n",
    "random_forest.fit(X_train, y_train)\n",
    "random_forest_preds = random_forest.predict(X_test_dolphin)\n",
    "print('The accuracy of the Random Forests model is :\\t',metrics.accuracy_score(random_forest_preds,y_test_dolphin))"
   ]
  },
  {
   "cell_type": "code",
   "execution_count": 23,
   "id": "5aa8d77f",
   "metadata": {
    "execution": {
     "iopub.execute_input": "2024-01-23T13:26:35.853028Z",
     "iopub.status.busy": "2024-01-23T13:26:35.852277Z",
     "iopub.status.idle": "2024-01-23T13:26:35.874226Z",
     "shell.execute_reply": "2024-01-23T13:26:35.873059Z"
    },
    "papermill": {
     "duration": 0.052041,
     "end_time": "2024-01-23T13:26:35.878044",
     "exception": false,
     "start_time": "2024-01-23T13:26:35.826003",
     "status": "completed"
    },
    "tags": []
   },
   "outputs": [
    {
     "name": "stdout",
     "output_type": "stream",
     "text": [
      "True positive : 1022 \n",
      "True negative : 0 \n",
      "False positive : 1022 \n",
      "False negative : 0 \n",
      "Classification Report:\n",
      "               precision    recall  f1-score   support\n",
      "\n",
      "       False       0.00      0.00      0.00      1022\n",
      "        True       0.50      1.00      0.67      1022\n",
      "\n",
      "    accuracy                           0.50      2044\n",
      "   macro avg       0.25      0.50      0.33      2044\n",
      "weighted avg       0.25      0.50      0.33      2044\n",
      "\n"
     ]
    },
    {
     "name": "stderr",
     "output_type": "stream",
     "text": [
      "/opt/conda/lib/python3.10/site-packages/sklearn/metrics/_classification.py:1344: UndefinedMetricWarning: Precision and F-score are ill-defined and being set to 0.0 in labels with no predicted samples. Use `zero_division` parameter to control this behavior.\n",
      "  _warn_prf(average, modifier, msg_start, len(result))\n",
      "/opt/conda/lib/python3.10/site-packages/sklearn/metrics/_classification.py:1344: UndefinedMetricWarning: Precision and F-score are ill-defined and being set to 0.0 in labels with no predicted samples. Use `zero_division` parameter to control this behavior.\n",
      "  _warn_prf(average, modifier, msg_start, len(result))\n",
      "/opt/conda/lib/python3.10/site-packages/sklearn/metrics/_classification.py:1344: UndefinedMetricWarning: Precision and F-score are ill-defined and being set to 0.0 in labels with no predicted samples. Use `zero_division` parameter to control this behavior.\n",
      "  _warn_prf(average, modifier, msg_start, len(result))\n"
     ]
    }
   ],
   "source": [
    "mt = confusion_matrix(y_test_dolphin, random_forest_preds)\n",
    "report = classification_report(y_test_dolphin, random_forest_preds)\n",
    "print(\"True positive : %i \" % (mt[1][1]))\n",
    "print(\"True negative : %i \" % (mt[0][0]))\n",
    "print(\"False positive : %i \" % (mt[0][1]))\n",
    "print(\"False negative : %i \" % (mt[1][0]))\n",
    "print(\"Classification Report:\\n\", report)"
   ]
  },
  {
   "cell_type": "code",
   "execution_count": 24,
   "id": "17475621",
   "metadata": {
    "execution": {
     "iopub.execute_input": "2024-01-23T13:26:35.931019Z",
     "iopub.status.busy": "2024-01-23T13:26:35.930263Z",
     "iopub.status.idle": "2024-01-23T13:27:30.601632Z",
     "shell.execute_reply": "2024-01-23T13:27:30.599710Z"
    },
    "papermill": {
     "duration": 54.733776,
     "end_time": "2024-01-23T13:27:30.637622",
     "exception": false,
     "start_time": "2024-01-23T13:26:35.903846",
     "status": "completed"
    },
    "tags": []
   },
   "outputs": [
    {
     "name": "stdout",
     "output_type": "stream",
     "text": [
      "The accuracy of the Random Forests model is :\t 0.62573385518591\n"
     ]
    }
   ],
   "source": [
    "# Random Forest\n",
    "from sklearn.ensemble import RandomForestClassifier\n",
    "from sklearn import metrics\n",
    "\n",
    "random_forest_new = RandomForestClassifier(n_estimators=100, random_state=17)\n",
    "random_forest_new.fit(x_train_dolphin, y_train_dolphin)\n",
    "random_forest_preds_new = random_forest_new.predict(X_test)\n",
    "print('The accuracy of the Random Forests model is :\\t',metrics.accuracy_score(random_forest_preds_new,y_test))"
   ]
  },
  {
   "cell_type": "code",
   "execution_count": 25,
   "id": "1b53cf62",
   "metadata": {
    "execution": {
     "iopub.execute_input": "2024-01-23T13:27:30.691240Z",
     "iopub.status.busy": "2024-01-23T13:27:30.690811Z",
     "iopub.status.idle": "2024-01-23T13:27:30.712098Z",
     "shell.execute_reply": "2024-01-23T13:27:30.711137Z"
    },
    "papermill": {
     "duration": 0.051669,
     "end_time": "2024-01-23T13:27:30.714561",
     "exception": false,
     "start_time": "2024-01-23T13:27:30.662892",
     "status": "completed"
    },
    "tags": []
   },
   "outputs": [
    {
     "name": "stdout",
     "output_type": "stream",
     "text": [
      "True positive : 382 \n",
      "True negative : 897 \n",
      "False positive : 125 \n",
      "False negative : 640 \n",
      "Classification Report:\n",
      "               precision    recall  f1-score   support\n",
      "\n",
      "       False       0.58      0.88      0.70      1022\n",
      "        True       0.75      0.37      0.50      1022\n",
      "\n",
      "    accuracy                           0.63      2044\n",
      "   macro avg       0.67      0.63      0.60      2044\n",
      "weighted avg       0.67      0.63      0.60      2044\n",
      "\n"
     ]
    }
   ],
   "source": [
    "mt = confusion_matrix(y_test, random_forest_preds_new)\n",
    "report = classification_report(y_test, random_forest_preds_new)\n",
    "print(\"True positive : %i \" % (mt[1][1]))\n",
    "print(\"True negative : %i \" % (mt[0][0]))\n",
    "print(\"False positive : %i \" % (mt[0][1]))\n",
    "print(\"False negative : %i \" % (mt[1][0]))\n",
    "print(\"Classification Report:\\n\", report)"
   ]
  },
  {
   "cell_type": "markdown",
   "id": "82c36015",
   "metadata": {
    "papermill": {
     "duration": 0.02427,
     "end_time": "2024-01-23T13:27:30.763891",
     "exception": false,
     "start_time": "2024-01-23T13:27:30.739621",
     "status": "completed"
    },
    "tags": []
   },
   "source": [
    "# **kkrunchy**"
   ]
  },
  {
   "cell_type": "code",
   "execution_count": 26,
   "id": "207d9c1f",
   "metadata": {
    "execution": {
     "iopub.execute_input": "2024-01-23T13:27:30.814541Z",
     "iopub.status.busy": "2024-01-23T13:27:30.814156Z",
     "iopub.status.idle": "2024-01-23T13:27:35.359379Z",
     "shell.execute_reply": "2024-01-23T13:27:35.358284Z"
    },
    "papermill": {
     "duration": 4.573897,
     "end_time": "2024-01-23T13:27:35.362186",
     "exception": false,
     "start_time": "2024-01-23T13:27:30.788289",
     "status": "completed"
    },
    "tags": []
   },
   "outputs": [],
   "source": [
    "kkrunchy = pd.read_pickle('/kaggle/input/packer-balance-pickle/kkrunchy_balance.pickle')"
   ]
  },
  {
   "cell_type": "code",
   "execution_count": 27,
   "id": "9c39672c",
   "metadata": {
    "execution": {
     "iopub.execute_input": "2024-01-23T13:27:35.414135Z",
     "iopub.status.busy": "2024-01-23T13:27:35.413725Z",
     "iopub.status.idle": "2024-01-23T13:27:36.770698Z",
     "shell.execute_reply": "2024-01-23T13:27:36.769777Z"
    },
    "papermill": {
     "duration": 1.386021,
     "end_time": "2024-01-23T13:27:36.773386",
     "exception": false,
     "start_time": "2024-01-23T13:27:35.387365",
     "status": "completed"
    },
    "tags": []
   },
   "outputs": [],
   "source": [
    "kkrunchy = kkrunchy.drop(['sample_sha1','benign','unpacked_sample_sha1','unpacked_sample_id'], axis=1)\n",
    "kkrunchy = kkrunchy.drop(['benign_vt','malicious_vt'], axis=1)\n",
    "string_columns = kkrunchy.select_dtypes(include=['object']).columns\n",
    "kkrunchy = kkrunchy.drop(string_columns, axis=1)"
   ]
  },
  {
   "cell_type": "code",
   "execution_count": 28,
   "id": "3fc60b08",
   "metadata": {
    "execution": {
     "iopub.execute_input": "2024-01-23T13:27:36.830273Z",
     "iopub.status.busy": "2024-01-23T13:27:36.828853Z",
     "iopub.status.idle": "2024-01-23T13:27:38.141325Z",
     "shell.execute_reply": "2024-01-23T13:27:38.140028Z"
    },
    "papermill": {
     "duration": 1.344727,
     "end_time": "2024-01-23T13:27:38.144092",
     "exception": false,
     "start_time": "2024-01-23T13:27:36.799365",
     "status": "completed"
    },
    "tags": []
   },
   "outputs": [],
   "source": [
    "df_7000_kkrunchy = kkrunchy.sample(n=7000, random_state=102)\n",
    "df_3000_kkrunchy = kkrunchy.drop(df_7000_kkrunchy.index)\n",
    "data_kkrunchy = df_7000_kkrunchy.sample(n=3500, random_state=102)"
   ]
  },
  {
   "cell_type": "code",
   "execution_count": 29,
   "id": "15d4686f",
   "metadata": {
    "execution": {
     "iopub.execute_input": "2024-01-23T13:27:38.197600Z",
     "iopub.status.busy": "2024-01-23T13:27:38.196720Z",
     "iopub.status.idle": "2024-01-23T13:27:40.383272Z",
     "shell.execute_reply": "2024-01-23T13:27:40.382002Z"
    },
    "papermill": {
     "duration": 2.216283,
     "end_time": "2024-01-23T13:27:40.386495",
     "exception": false,
     "start_time": "2024-01-23T13:27:38.170212",
     "status": "completed"
    },
    "tags": []
   },
   "outputs": [
    {
     "name": "stdout",
     "output_type": "stream",
     "text": [
      "Packed Malware: 2411 samples\n",
      "Packed Benign: 1089 samples\n",
      "Total TRAIN set: 3500 samples\n",
      "Packed Malware: 1089 samples\n",
      "Packed Benign: 1089 samples\n",
      "Total TRAIN set: 2178 samples\n",
      "Packed Malware: 913 samples\n",
      "Packed Benign: 913 samples\n",
      "Total TEST set: 1826 samples\n"
     ]
    }
   ],
   "source": [
    "#Kiểm tra số lượng mẫu\n",
    "PM = data_kkrunchy[(data_kkrunchy['malicious'] == True) & (data_kkrunchy['packed'] == True)].shape[0]\n",
    "PB = data_kkrunchy[(data_kkrunchy['malicious'] == False) & (data_kkrunchy['packed'] == True)].shape[0]\n",
    "print('Packed Malware: %i samples' % PM)\n",
    "print('Packed Benign: %i samples' % PB)\n",
    "print('Total TRAIN set: %i samples'% (PM+PB))\n",
    "\n",
    "#Chia tỉ lệ 50 - 50\n",
    "data_PM_kkrunchy = data_kkrunchy[(data_kkrunchy['malicious'] == True) & (data_kkrunchy['packed'] == True)].sample(n=(PM-PB), random_state=102)\n",
    "data_kkrunchy = data_kkrunchy.drop(data_PM_kkrunchy.index)\n",
    "\n",
    "#Số lượng tập train\n",
    "PM = data_kkrunchy[(data_kkrunchy['malicious'] == True) & (data_kkrunchy['packed'] == True)].shape[0]\n",
    "PB = data_kkrunchy[(data_kkrunchy['malicious'] == False) & (data_kkrunchy['packed'] == True)].shape[0]\n",
    "print('Packed Malware: %i samples' % PM)\n",
    "print('Packed Benign: %i samples' % PB)\n",
    "print('Total TRAIN set: %i samples'% (PM+PB))\n",
    "\n",
    "#Xử lý tập train\n",
    "y_kkrunchy = data_kkrunchy['malicious'].values\n",
    "data_kkrunchy = data_kkrunchy.drop(['malicious','packed'], axis=1)\n",
    "\n",
    "PM = df_3000_kkrunchy[(df_3000_kkrunchy['malicious'] == True) & (df_3000_kkrunchy['packed'] == True)].shape[0]\n",
    "PB = df_3000_kkrunchy[(df_3000_kkrunchy['malicious'] == False) & (df_3000_kkrunchy['packed'] == True)].shape[0]\n",
    "\n",
    "df_3000_PM_kkrunchy = df_3000_kkrunchy[(df_3000_kkrunchy['malicious'] == True) & (df_3000_kkrunchy['packed'] == True)].sample(n=(PM-PB), random_state=102)\n",
    "df_3000_kkrunchy = df_3000_kkrunchy.drop(df_3000_PM_kkrunchy.index)\n",
    "\n",
    "PM = df_3000_kkrunchy[(df_3000_kkrunchy['malicious'] == True) & (df_3000_kkrunchy['packed'] == True)].shape[0]\n",
    "PB = df_3000_kkrunchy[(df_3000_kkrunchy['malicious'] == False) & (df_3000_kkrunchy['packed'] == True)].shape[0]\n",
    "\n",
    "print('Packed Malware: %i samples' % PM)\n",
    "print('Packed Benign: %i samples' % PB)\n",
    "print('Total TEST set: %i samples'% (PM+PB))"
   ]
  },
  {
   "cell_type": "code",
   "execution_count": 30,
   "id": "d8993548",
   "metadata": {
    "execution": {
     "iopub.execute_input": "2024-01-23T13:27:40.438401Z",
     "iopub.status.busy": "2024-01-23T13:27:40.437987Z",
     "iopub.status.idle": "2024-01-23T13:27:40.581117Z",
     "shell.execute_reply": "2024-01-23T13:27:40.580172Z"
    },
    "papermill": {
     "duration": 0.172022,
     "end_time": "2024-01-23T13:27:40.583668",
     "exception": false,
     "start_time": "2024-01-23T13:27:40.411646",
     "status": "completed"
    },
    "tags": []
   },
   "outputs": [],
   "source": [
    "# model = SelectFromModel(fsel, prefit=True)\n",
    "\n",
    "X_train_kkrunchy = data_kkrunchy\n",
    "X_test_kkrunchy = df_3000_kkrunchy.drop(['malicious','packed'], axis=1)\n",
    "\n",
    "# data_kkrunchy = data_kkrunchy.loc[:, (data_kkrunchy != 0).any(axis=0)]\n",
    "x_train_kkrunchy = data_kkrunchy\n",
    "X_test_kkrunchy = df_3000_kkrunchy.drop(['malicious','packed'], axis=1)\n",
    "y_train_kkrunchy = y_kkrunchy\n",
    "y_test_kkrunchy = df_3000_kkrunchy['malicious'].values"
   ]
  },
  {
   "cell_type": "code",
   "execution_count": 31,
   "id": "1e9e5841",
   "metadata": {
    "execution": {
     "iopub.execute_input": "2024-01-23T13:27:40.636591Z",
     "iopub.status.busy": "2024-01-23T13:27:40.636217Z",
     "iopub.status.idle": "2024-01-23T13:27:45.432853Z",
     "shell.execute_reply": "2024-01-23T13:27:45.431540Z"
    },
    "papermill": {
     "duration": 4.825715,
     "end_time": "2024-01-23T13:27:45.435459",
     "exception": false,
     "start_time": "2024-01-23T13:27:40.609744",
     "status": "completed"
    },
    "tags": []
   },
   "outputs": [
    {
     "name": "stdout",
     "output_type": "stream",
     "text": [
      "The accuracy of the Random Forests model is :\t 0.5\n"
     ]
    }
   ],
   "source": [
    "# Random Forest\n",
    "from sklearn.ensemble import RandomForestClassifier\n",
    "from sklearn import metrics\n",
    "\n",
    "random_forest = RandomForestClassifier(n_estimators=100, random_state=17)\n",
    "random_forest.fit(X_train, y_train)\n",
    "random_forest_preds = random_forest.predict(X_test_kkrunchy)\n",
    "print('The accuracy of the Random Forests model is :\\t',metrics.accuracy_score(random_forest_preds,y_test_kkrunchy))"
   ]
  },
  {
   "cell_type": "code",
   "execution_count": 32,
   "id": "102e86ea",
   "metadata": {
    "execution": {
     "iopub.execute_input": "2024-01-23T13:27:45.488719Z",
     "iopub.status.busy": "2024-01-23T13:27:45.488291Z",
     "iopub.status.idle": "2024-01-23T13:27:45.507145Z",
     "shell.execute_reply": "2024-01-23T13:27:45.505953Z"
    },
    "papermill": {
     "duration": 0.048363,
     "end_time": "2024-01-23T13:27:45.509686",
     "exception": false,
     "start_time": "2024-01-23T13:27:45.461323",
     "status": "completed"
    },
    "tags": []
   },
   "outputs": [
    {
     "name": "stdout",
     "output_type": "stream",
     "text": [
      "True positive : 913 \n",
      "True negative : 0 \n",
      "False positive : 913 \n",
      "False negative : 0 \n",
      "Classification Report:\n",
      "               precision    recall  f1-score   support\n",
      "\n",
      "       False       0.00      0.00      0.00       913\n",
      "        True       0.50      1.00      0.67       913\n",
      "\n",
      "    accuracy                           0.50      1826\n",
      "   macro avg       0.25      0.50      0.33      1826\n",
      "weighted avg       0.25      0.50      0.33      1826\n",
      "\n"
     ]
    },
    {
     "name": "stderr",
     "output_type": "stream",
     "text": [
      "/opt/conda/lib/python3.10/site-packages/sklearn/metrics/_classification.py:1344: UndefinedMetricWarning: Precision and F-score are ill-defined and being set to 0.0 in labels with no predicted samples. Use `zero_division` parameter to control this behavior.\n",
      "  _warn_prf(average, modifier, msg_start, len(result))\n",
      "/opt/conda/lib/python3.10/site-packages/sklearn/metrics/_classification.py:1344: UndefinedMetricWarning: Precision and F-score are ill-defined and being set to 0.0 in labels with no predicted samples. Use `zero_division` parameter to control this behavior.\n",
      "  _warn_prf(average, modifier, msg_start, len(result))\n",
      "/opt/conda/lib/python3.10/site-packages/sklearn/metrics/_classification.py:1344: UndefinedMetricWarning: Precision and F-score are ill-defined and being set to 0.0 in labels with no predicted samples. Use `zero_division` parameter to control this behavior.\n",
      "  _warn_prf(average, modifier, msg_start, len(result))\n"
     ]
    }
   ],
   "source": [
    "mt = confusion_matrix(y_test_kkrunchy, random_forest_preds)\n",
    "report = classification_report(y_test_kkrunchy, random_forest_preds)\n",
    "print(\"True positive : %i \" % (mt[1][1]))\n",
    "print(\"True negative : %i \" % (mt[0][0]))\n",
    "print(\"False positive : %i \" % (mt[0][1]))\n",
    "print(\"False negative : %i \" % (mt[1][0]))\n",
    "print(\"Classification Report:\\n\", report)"
   ]
  },
  {
   "cell_type": "code",
   "execution_count": 33,
   "id": "ac89aac2",
   "metadata": {
    "execution": {
     "iopub.execute_input": "2024-01-23T13:27:45.563437Z",
     "iopub.status.busy": "2024-01-23T13:27:45.562785Z",
     "iopub.status.idle": "2024-01-23T13:27:52.035846Z",
     "shell.execute_reply": "2024-01-23T13:27:52.034693Z"
    },
    "papermill": {
     "duration": 6.502791,
     "end_time": "2024-01-23T13:27:52.038392",
     "exception": false,
     "start_time": "2024-01-23T13:27:45.535601",
     "status": "completed"
    },
    "tags": []
   },
   "outputs": [
    {
     "name": "stdout",
     "output_type": "stream",
     "text": [
      "The accuracy of the Random Forests model is :\t 0.75\n"
     ]
    }
   ],
   "source": [
    "# Random Forest\n",
    "from sklearn.ensemble import RandomForestClassifier\n",
    "from sklearn import metrics\n",
    "\n",
    "random_forest_new = RandomForestClassifier(n_estimators=100, random_state=17)\n",
    "random_forest_new.fit(x_train_kkrunchy, y_train_kkrunchy)\n",
    "random_forest_preds_new = random_forest_new.predict(X_test)\n",
    "print('The accuracy of the Random Forests model is :\\t',metrics.accuracy_score(random_forest_preds_new,y_test))"
   ]
  },
  {
   "cell_type": "code",
   "execution_count": 34,
   "id": "f9940c6c",
   "metadata": {
    "execution": {
     "iopub.execute_input": "2024-01-23T13:27:52.092330Z",
     "iopub.status.busy": "2024-01-23T13:27:52.091679Z",
     "iopub.status.idle": "2024-01-23T13:27:52.111729Z",
     "shell.execute_reply": "2024-01-23T13:27:52.110523Z"
    },
    "papermill": {
     "duration": 0.049921,
     "end_time": "2024-01-23T13:27:52.114527",
     "exception": false,
     "start_time": "2024-01-23T13:27:52.064606",
     "status": "completed"
    },
    "tags": []
   },
   "outputs": [
    {
     "name": "stdout",
     "output_type": "stream",
     "text": [
      "True positive : 605 \n",
      "True negative : 928 \n",
      "False positive : 94 \n",
      "False negative : 417 \n",
      "Classification Report:\n",
      "               precision    recall  f1-score   support\n",
      "\n",
      "       False       0.69      0.91      0.78      1022\n",
      "        True       0.87      0.59      0.70      1022\n",
      "\n",
      "    accuracy                           0.75      2044\n",
      "   macro avg       0.78      0.75      0.74      2044\n",
      "weighted avg       0.78      0.75      0.74      2044\n",
      "\n"
     ]
    }
   ],
   "source": [
    "mt = confusion_matrix(y_test, random_forest_preds_new)\n",
    "report = classification_report(y_test, random_forest_preds_new)\n",
    "print(\"True positive : %i \" % (mt[1][1]))\n",
    "print(\"True negative : %i \" % (mt[0][0]))\n",
    "print(\"False positive : %i \" % (mt[0][1]))\n",
    "print(\"False negative : %i \" % (mt[1][0]))\n",
    "print(\"Classification Report:\\n\", report)"
   ]
  },
  {
   "cell_type": "markdown",
   "id": "3d9b728f",
   "metadata": {
    "papermill": {
     "duration": 0.025291,
     "end_time": "2024-01-23T13:27:52.165038",
     "exception": false,
     "start_time": "2024-01-23T13:27:52.139747",
     "status": "completed"
    },
    "tags": []
   },
   "source": [
    "# **mpress**"
   ]
  },
  {
   "cell_type": "code",
   "execution_count": 35,
   "id": "6deec9d2",
   "metadata": {
    "execution": {
     "iopub.execute_input": "2024-01-23T13:27:52.217208Z",
     "iopub.status.busy": "2024-01-23T13:27:52.216800Z",
     "iopub.status.idle": "2024-01-23T13:27:56.640089Z",
     "shell.execute_reply": "2024-01-23T13:27:56.638897Z"
    },
    "papermill": {
     "duration": 4.452786,
     "end_time": "2024-01-23T13:27:56.643074",
     "exception": false,
     "start_time": "2024-01-23T13:27:52.190288",
     "status": "completed"
    },
    "tags": []
   },
   "outputs": [],
   "source": [
    "mpress = pd.read_pickle('/kaggle/input/packer-balance-pickle/mpress_balance.pickle')"
   ]
  },
  {
   "cell_type": "code",
   "execution_count": 36,
   "id": "cc6ad737",
   "metadata": {
    "execution": {
     "iopub.execute_input": "2024-01-23T13:27:56.696616Z",
     "iopub.status.busy": "2024-01-23T13:27:56.696215Z",
     "iopub.status.idle": "2024-01-23T13:27:57.964758Z",
     "shell.execute_reply": "2024-01-23T13:27:57.963407Z"
    },
    "papermill": {
     "duration": 1.298264,
     "end_time": "2024-01-23T13:27:57.967642",
     "exception": false,
     "start_time": "2024-01-23T13:27:56.669378",
     "status": "completed"
    },
    "tags": []
   },
   "outputs": [],
   "source": [
    "mpress = mpress.drop(['sample_sha1','benign','unpacked_sample_sha1','unpacked_sample_id'], axis=1)\n",
    "mpress = mpress.drop(['benign_vt','malicious_vt'], axis=1)\n",
    "string_columns = mpress.select_dtypes(include=['object']).columns\n",
    "mpress = mpress.drop(string_columns, axis=1)"
   ]
  },
  {
   "cell_type": "code",
   "execution_count": 37,
   "id": "0daa6fcb",
   "metadata": {
    "execution": {
     "iopub.execute_input": "2024-01-23T13:27:58.022480Z",
     "iopub.status.busy": "2024-01-23T13:27:58.022067Z",
     "iopub.status.idle": "2024-01-23T13:27:59.335275Z",
     "shell.execute_reply": "2024-01-23T13:27:59.334036Z"
    },
    "papermill": {
     "duration": 1.34336,
     "end_time": "2024-01-23T13:27:59.337836",
     "exception": false,
     "start_time": "2024-01-23T13:27:57.994476",
     "status": "completed"
    },
    "tags": []
   },
   "outputs": [],
   "source": [
    "df_7000_mpress = mpress.sample(n=7000, random_state=102)\n",
    "df_3000_mpress = mpress.drop(df_7000_mpress.index)\n",
    "data_mpress = df_7000_mpress.sample(n=3500, random_state=102)"
   ]
  },
  {
   "cell_type": "code",
   "execution_count": 38,
   "id": "6ab83b70",
   "metadata": {
    "execution": {
     "iopub.execute_input": "2024-01-23T13:27:59.390922Z",
     "iopub.status.busy": "2024-01-23T13:27:59.389668Z",
     "iopub.status.idle": "2024-01-23T13:28:01.397897Z",
     "shell.execute_reply": "2024-01-23T13:28:01.396708Z"
    },
    "papermill": {
     "duration": 2.037882,
     "end_time": "2024-01-23T13:28:01.400869",
     "exception": false,
     "start_time": "2024-01-23T13:27:59.362987",
     "status": "completed"
    },
    "tags": []
   },
   "outputs": [
    {
     "name": "stdout",
     "output_type": "stream",
     "text": [
      "Packed Malware: 1790 samples\n",
      "Packed Benign: 1710 samples\n",
      "Total TRAIN set: 3500 samples\n",
      "Packed Malware: 1710 samples\n",
      "Packed Benign: 1710 samples\n",
      "Total TRAIN set: 3420 samples\n",
      "Packed Malware: 1477 samples\n",
      "Packed Benign: 1477 samples\n",
      "Total TEST set: 2954 samples\n"
     ]
    }
   ],
   "source": [
    "#Kiểm tra số lượng mẫu\n",
    "PM = data_mpress[(data_mpress['malicious'] == True) & (data_mpress['packed'] == True)].shape[0]\n",
    "PB = data_mpress[(data_mpress['malicious'] == False) & (data_mpress['packed'] == True)].shape[0]\n",
    "print('Packed Malware: %i samples' % PM)\n",
    "print('Packed Benign: %i samples' % PB)\n",
    "print('Total TRAIN set: %i samples'% (PM+PB))\n",
    "\n",
    "#Chia tỉ lệ 50 - 50\n",
    "data_PM_mpress = data_mpress[(data_mpress['malicious'] == True) & (data_mpress['packed'] == True)].sample(n=(PM-PB), random_state=102)\n",
    "data_mpress = data_mpress.drop(data_PM_mpress.index)\n",
    "\n",
    "#Số lượng tập train\n",
    "PM = data_mpress[(data_mpress['malicious'] == True) & (data_mpress['packed'] == True)].shape[0]\n",
    "PB = data_mpress[(data_mpress['malicious'] == False) & (data_mpress['packed'] == True)].shape[0]\n",
    "print('Packed Malware: %i samples' % PM)\n",
    "print('Packed Benign: %i samples' % PB)\n",
    "print('Total TRAIN set: %i samples'% (PM+PB))\n",
    "\n",
    "#Xử lý tập train\n",
    "y_mpress = data_mpress['malicious'].values\n",
    "data_mpress = data_mpress.drop(['malicious','packed'], axis=1)\n",
    "\n",
    "PM = df_3000_mpress[(df_3000_mpress['malicious'] == True) & (df_3000_mpress['packed'] == True)].shape[0]\n",
    "PB = df_3000_mpress[(df_3000_mpress['malicious'] == False) & (df_3000_mpress['packed'] == True)].shape[0]\n",
    "\n",
    "df_3000_PM_mpress = df_3000_mpress[(df_3000_mpress['malicious'] == True) & (df_3000_mpress['packed'] == True)].sample(n=(PM-PB), random_state=102)\n",
    "df_3000_mpress = df_3000_mpress.drop(df_3000_PM_mpress.index)\n",
    "\n",
    "PM = df_3000_mpress[(df_3000_mpress['malicious'] == True) & (df_3000_mpress['packed'] == True)].shape[0]\n",
    "PB = df_3000_mpress[(df_3000_mpress['malicious'] == False) & (df_3000_mpress['packed'] == True)].shape[0]\n",
    "\n",
    "print('Packed Malware: %i samples' % PM)\n",
    "print('Packed Benign: %i samples' % PB)\n",
    "print('Total TEST set: %i samples'% (PM+PB))"
   ]
  },
  {
   "cell_type": "code",
   "execution_count": 39,
   "id": "368ac1be",
   "metadata": {
    "execution": {
     "iopub.execute_input": "2024-01-23T13:28:01.454839Z",
     "iopub.status.busy": "2024-01-23T13:28:01.454197Z",
     "iopub.status.idle": "2024-01-23T13:28:01.686990Z",
     "shell.execute_reply": "2024-01-23T13:28:01.685456Z"
    },
    "papermill": {
     "duration": 0.26281,
     "end_time": "2024-01-23T13:28:01.689734",
     "exception": false,
     "start_time": "2024-01-23T13:28:01.426924",
     "status": "completed"
    },
    "tags": []
   },
   "outputs": [],
   "source": [
    "# model = SelectFromModel(fsel, prefit=True)\n",
    "\n",
    "X_train_mpress = data_mpress\n",
    "X_test_mpress = df_3000_mpress.drop(['malicious','packed'], axis=1)\n",
    "\n",
    "# data_mpress = data_mpress.loc[:, (data_mpress != 0).any(axis=0)]\n",
    "x_train_mpress = data_mpress\n",
    "X_test_mpress = df_3000_mpress.drop(['malicious','packed'], axis=1)\n",
    "y_train_mpress = y_mpress\n",
    "y_test_mpress = df_3000_mpress['malicious'].values"
   ]
  },
  {
   "cell_type": "code",
   "execution_count": 40,
   "id": "b745e76a",
   "metadata": {
    "execution": {
     "iopub.execute_input": "2024-01-23T13:28:01.744680Z",
     "iopub.status.busy": "2024-01-23T13:28:01.743838Z",
     "iopub.status.idle": "2024-01-23T13:28:06.798157Z",
     "shell.execute_reply": "2024-01-23T13:28:06.796836Z"
    },
    "papermill": {
     "duration": 5.084493,
     "end_time": "2024-01-23T13:28:06.800668",
     "exception": false,
     "start_time": "2024-01-23T13:28:01.716175",
     "status": "completed"
    },
    "tags": []
   },
   "outputs": [
    {
     "name": "stdout",
     "output_type": "stream",
     "text": [
      "The accuracy of the Random Forests model is :\t 0.4766418415707515\n"
     ]
    }
   ],
   "source": [
    "# Random Forest\n",
    "from sklearn.ensemble import RandomForestClassifier\n",
    "from sklearn import metrics\n",
    "\n",
    "random_forest = RandomForestClassifier(n_estimators=100, random_state=17)\n",
    "random_forest.fit(X_train, y_train)\n",
    "random_forest_preds = random_forest.predict(X_test_mpress)\n",
    "print('The accuracy of the Random Forests model is :\\t',metrics.accuracy_score(random_forest_preds,y_test_mpress))"
   ]
  },
  {
   "cell_type": "code",
   "execution_count": 41,
   "id": "8806a2a9",
   "metadata": {
    "execution": {
     "iopub.execute_input": "2024-01-23T13:28:06.856218Z",
     "iopub.status.busy": "2024-01-23T13:28:06.855783Z",
     "iopub.status.idle": "2024-01-23T13:28:06.875454Z",
     "shell.execute_reply": "2024-01-23T13:28:06.874462Z"
    },
    "papermill": {
     "duration": 0.049176,
     "end_time": "2024-01-23T13:28:06.877820",
     "exception": false,
     "start_time": "2024-01-23T13:28:06.828644",
     "status": "completed"
    },
    "tags": []
   },
   "outputs": [
    {
     "name": "stdout",
     "output_type": "stream",
     "text": [
      "True positive : 1086 \n",
      "True negative : 322 \n",
      "False positive : 1155 \n",
      "False negative : 391 \n",
      "Classification Report:\n",
      "               precision    recall  f1-score   support\n",
      "\n",
      "       False       0.45      0.22      0.29      1477\n",
      "        True       0.48      0.74      0.58      1477\n",
      "\n",
      "    accuracy                           0.48      2954\n",
      "   macro avg       0.47      0.48      0.44      2954\n",
      "weighted avg       0.47      0.48      0.44      2954\n",
      "\n"
     ]
    }
   ],
   "source": [
    "mt = confusion_matrix(y_test_mpress, random_forest_preds)\n",
    "report = classification_report(y_test_mpress, random_forest_preds)\n",
    "print(\"True positive : %i \" % (mt[1][1]))\n",
    "print(\"True negative : %i \" % (mt[0][0]))\n",
    "print(\"False positive : %i \" % (mt[0][1]))\n",
    "print(\"False negative : %i \" % (mt[1][0]))\n",
    "print(\"Classification Report:\\n\", report)"
   ]
  },
  {
   "cell_type": "code",
   "execution_count": 42,
   "id": "fc1e5b93",
   "metadata": {
    "execution": {
     "iopub.execute_input": "2024-01-23T13:28:06.935911Z",
     "iopub.status.busy": "2024-01-23T13:28:06.934582Z",
     "iopub.status.idle": "2024-01-23T13:28:14.083831Z",
     "shell.execute_reply": "2024-01-23T13:28:14.082541Z"
    },
    "papermill": {
     "duration": 7.179978,
     "end_time": "2024-01-23T13:28:14.086247",
     "exception": false,
     "start_time": "2024-01-23T13:28:06.906269",
     "status": "completed"
    },
    "tags": []
   },
   "outputs": [
    {
     "name": "stdout",
     "output_type": "stream",
     "text": [
      "The accuracy of the Random Forests model is :\t 0.8228962818003914\n"
     ]
    }
   ],
   "source": [
    "# Random Forest\n",
    "from sklearn.ensemble import RandomForestClassifier\n",
    "from sklearn import metrics\n",
    "\n",
    "random_forest_new = RandomForestClassifier(n_estimators=100, random_state=17)\n",
    "random_forest_new.fit(x_train_mpress, y_train_mpress)\n",
    "random_forest_preds_new = random_forest_new.predict(X_test)\n",
    "print('The accuracy of the Random Forests model is :\\t',metrics.accuracy_score(random_forest_preds_new,y_test))"
   ]
  },
  {
   "cell_type": "code",
   "execution_count": 43,
   "id": "d340f1bb",
   "metadata": {
    "execution": {
     "iopub.execute_input": "2024-01-23T13:28:14.140207Z",
     "iopub.status.busy": "2024-01-23T13:28:14.139562Z",
     "iopub.status.idle": "2024-01-23T13:28:14.160799Z",
     "shell.execute_reply": "2024-01-23T13:28:14.159273Z"
    },
    "papermill": {
     "duration": 0.050778,
     "end_time": "2024-01-23T13:28:14.163116",
     "exception": false,
     "start_time": "2024-01-23T13:28:14.112338",
     "status": "completed"
    },
    "tags": []
   },
   "outputs": [
    {
     "name": "stdout",
     "output_type": "stream",
     "text": [
      "True positive : 785 \n",
      "True negative : 897 \n",
      "False positive : 125 \n",
      "False negative : 237 \n",
      "Classification Report:\n",
      "               precision    recall  f1-score   support\n",
      "\n",
      "       False       0.79      0.88      0.83      1022\n",
      "        True       0.86      0.77      0.81      1022\n",
      "\n",
      "    accuracy                           0.82      2044\n",
      "   macro avg       0.83      0.82      0.82      2044\n",
      "weighted avg       0.83      0.82      0.82      2044\n",
      "\n"
     ]
    }
   ],
   "source": [
    "mt = confusion_matrix(y_test, random_forest_preds_new)\n",
    "report = classification_report(y_test, random_forest_preds_new)\n",
    "print(\"True positive : %i \" % (mt[1][1]))\n",
    "print(\"True negative : %i \" % (mt[0][0]))\n",
    "print(\"False positive : %i \" % (mt[0][1]))\n",
    "print(\"False negative : %i \" % (mt[1][0]))\n",
    "print(\"Classification Report:\\n\", report)"
   ]
  },
  {
   "cell_type": "markdown",
   "id": "cda5e048",
   "metadata": {
    "papermill": {
     "duration": 0.025161,
     "end_time": "2024-01-23T13:28:14.213920",
     "exception": false,
     "start_time": "2024-01-23T13:28:14.188759",
     "status": "completed"
    },
    "tags": []
   },
   "source": [
    "# **obsidium**"
   ]
  },
  {
   "cell_type": "code",
   "execution_count": 44,
   "id": "ccbfefd3",
   "metadata": {
    "execution": {
     "iopub.execute_input": "2024-01-23T13:28:14.267137Z",
     "iopub.status.busy": "2024-01-23T13:28:14.266711Z",
     "iopub.status.idle": "2024-01-23T13:28:17.776457Z",
     "shell.execute_reply": "2024-01-23T13:28:17.775560Z"
    },
    "papermill": {
     "duration": 3.53965,
     "end_time": "2024-01-23T13:28:17.779175",
     "exception": false,
     "start_time": "2024-01-23T13:28:14.239525",
     "status": "completed"
    },
    "tags": []
   },
   "outputs": [],
   "source": [
    "obsidium = pd.read_pickle('/kaggle/input/packer-balance-pickle/obsidium_balance.pickle')"
   ]
  },
  {
   "cell_type": "code",
   "execution_count": 45,
   "id": "eb42ee18",
   "metadata": {
    "execution": {
     "iopub.execute_input": "2024-01-23T13:28:17.837318Z",
     "iopub.status.busy": "2024-01-23T13:28:17.836897Z",
     "iopub.status.idle": "2024-01-23T13:28:19.235362Z",
     "shell.execute_reply": "2024-01-23T13:28:19.234217Z"
    },
    "papermill": {
     "duration": 1.429494,
     "end_time": "2024-01-23T13:28:19.238070",
     "exception": false,
     "start_time": "2024-01-23T13:28:17.808576",
     "status": "completed"
    },
    "tags": []
   },
   "outputs": [],
   "source": [
    "obsidium = obsidium.drop(['sample_sha1','benign','unpacked_sample_sha1','unpacked_sample_id'], axis=1)\n",
    "obsidium = obsidium.drop(['benign_vt','malicious_vt'], axis=1)\n",
    "string_columns = obsidium.select_dtypes(include=['object']).columns\n",
    "obsidium = obsidium.drop(string_columns, axis=1)"
   ]
  },
  {
   "cell_type": "code",
   "execution_count": 46,
   "id": "24c6f43d",
   "metadata": {
    "execution": {
     "iopub.execute_input": "2024-01-23T13:28:19.293304Z",
     "iopub.status.busy": "2024-01-23T13:28:19.292798Z",
     "iopub.status.idle": "2024-01-23T13:28:20.586695Z",
     "shell.execute_reply": "2024-01-23T13:28:20.585449Z"
    },
    "papermill": {
     "duration": 1.32488,
     "end_time": "2024-01-23T13:28:20.590052",
     "exception": false,
     "start_time": "2024-01-23T13:28:19.265172",
     "status": "completed"
    },
    "tags": []
   },
   "outputs": [],
   "source": [
    "df_7000_obsidium = obsidium.sample(n=7000, random_state=102)\n",
    "df_3000_obsidium = obsidium.drop(df_7000_obsidium.index)\n",
    "data_obsidium = df_7000_obsidium.sample(n=3500, random_state=102)"
   ]
  },
  {
   "cell_type": "code",
   "execution_count": 47,
   "id": "b3189815",
   "metadata": {
    "execution": {
     "iopub.execute_input": "2024-01-23T13:28:20.644638Z",
     "iopub.status.busy": "2024-01-23T13:28:20.644197Z",
     "iopub.status.idle": "2024-01-23T13:28:22.544054Z",
     "shell.execute_reply": "2024-01-23T13:28:22.542764Z"
    },
    "papermill": {
     "duration": 1.930411,
     "end_time": "2024-01-23T13:28:22.546662",
     "exception": false,
     "start_time": "2024-01-23T13:28:20.616251",
     "status": "completed"
    },
    "tags": []
   },
   "outputs": [
    {
     "name": "stdout",
     "output_type": "stream",
     "text": [
      "Packed Malware: 2306 samples\n",
      "Packed Benign: 1194 samples\n",
      "Total TRAIN set: 3500 samples\n",
      "Packed Malware: 1194 samples\n",
      "Packed Benign: 1194 samples\n",
      "Total TRAIN set: 2388 samples\n",
      "Packed Malware: 1058 samples\n",
      "Packed Benign: 1058 samples\n",
      "Total TEST set: 2116 samples\n"
     ]
    }
   ],
   "source": [
    "#Kiểm tra số lượng mẫu\n",
    "PM = data_obsidium[(data_obsidium['malicious'] == True) & (data_obsidium['packed'] == True)].shape[0]\n",
    "PB = data_obsidium[(data_obsidium['malicious'] == False) & (data_obsidium['packed'] == True)].shape[0]\n",
    "print('Packed Malware: %i samples' % PM)\n",
    "print('Packed Benign: %i samples' % PB)\n",
    "print('Total TRAIN set: %i samples'% (PM+PB))\n",
    "\n",
    "#Chia tỉ lệ 50 - 50\n",
    "data_PM_obsidium = data_obsidium[(data_obsidium['malicious'] == True) & (data_obsidium['packed'] == True)].sample(n=(PM-PB), random_state=102)\n",
    "data_obsidium = data_obsidium.drop(data_PM_obsidium.index)\n",
    "\n",
    "#Số lượng tập train\n",
    "PM = data_obsidium[(data_obsidium['malicious'] == True) & (data_obsidium['packed'] == True)].shape[0]\n",
    "PB = data_obsidium[(data_obsidium['malicious'] == False) & (data_obsidium['packed'] == True)].shape[0]\n",
    "print('Packed Malware: %i samples' % PM)\n",
    "print('Packed Benign: %i samples' % PB)\n",
    "print('Total TRAIN set: %i samples'% (PM+PB))\n",
    "\n",
    "#Xử lý tập train\n",
    "y_obsidium = data_obsidium['malicious'].values\n",
    "data_obsidium = data_obsidium.drop(['malicious','packed'], axis=1)\n",
    "\n",
    "PM = df_3000_obsidium[(df_3000_obsidium['malicious'] == True) & (df_3000_obsidium['packed'] == True)].shape[0]\n",
    "PB = df_3000_obsidium[(df_3000_obsidium['malicious'] == False) & (df_3000_obsidium['packed'] == True)].shape[0]\n",
    "\n",
    "df_3000_PM_obsidium = df_3000_obsidium[(df_3000_obsidium['malicious'] == True) & (df_3000_obsidium['packed'] == True)].sample(n=(PM-PB), random_state=102)\n",
    "df_3000_obsidium = df_3000_obsidium.drop(df_3000_PM_obsidium.index)\n",
    "\n",
    "PM = df_3000_obsidium[(df_3000_obsidium['malicious'] == True) & (df_3000_obsidium['packed'] == True)].shape[0]\n",
    "PB = df_3000_obsidium[(df_3000_obsidium['malicious'] == False) & (df_3000_obsidium['packed'] == True)].shape[0]\n",
    "\n",
    "print('Packed Malware: %i samples' % PM)\n",
    "print('Packed Benign: %i samples' % PB)\n",
    "print('Total TEST set: %i samples'% (PM+PB))"
   ]
  },
  {
   "cell_type": "code",
   "execution_count": 48,
   "id": "6b5683c0",
   "metadata": {
    "execution": {
     "iopub.execute_input": "2024-01-23T13:28:22.601825Z",
     "iopub.status.busy": "2024-01-23T13:28:22.601176Z",
     "iopub.status.idle": "2024-01-23T13:28:22.763361Z",
     "shell.execute_reply": "2024-01-23T13:28:22.762180Z"
    },
    "papermill": {
     "duration": 0.192865,
     "end_time": "2024-01-23T13:28:22.765942",
     "exception": false,
     "start_time": "2024-01-23T13:28:22.573077",
     "status": "completed"
    },
    "tags": []
   },
   "outputs": [],
   "source": [
    "# model = SelectFromModel(fsel, prefit=True)\n",
    "\n",
    "X_train_obsidium = data_obsidium\n",
    "X_test_obsidium = df_3000_obsidium.drop(['malicious','packed'], axis=1)\n",
    "\n",
    "# data_obsidium = data_obsidium.loc[:, (data_obsidium != 0).any(axis=0)]\n",
    "x_train_obsidium = data_obsidium\n",
    "X_test_obsidium = df_3000_obsidium.drop(['malicious','packed'], axis=1)\n",
    "y_train_obsidium = y_obsidium\n",
    "y_test_obsidium = df_3000_obsidium['malicious'].values"
   ]
  },
  {
   "cell_type": "code",
   "execution_count": 49,
   "id": "80994e45",
   "metadata": {
    "execution": {
     "iopub.execute_input": "2024-01-23T13:28:22.822057Z",
     "iopub.status.busy": "2024-01-23T13:28:22.821595Z",
     "iopub.status.idle": "2024-01-23T13:28:27.731340Z",
     "shell.execute_reply": "2024-01-23T13:28:27.729777Z"
    },
    "papermill": {
     "duration": 4.940964,
     "end_time": "2024-01-23T13:28:27.733670",
     "exception": false,
     "start_time": "2024-01-23T13:28:22.792706",
     "status": "completed"
    },
    "tags": []
   },
   "outputs": [
    {
     "name": "stdout",
     "output_type": "stream",
     "text": [
      "The accuracy of the Random Forests model is :\t 0.5600189035916824\n"
     ]
    }
   ],
   "source": [
    "# Random Forest\n",
    "from sklearn.ensemble import RandomForestClassifier\n",
    "from sklearn import metrics\n",
    "\n",
    "random_forest = RandomForestClassifier(n_estimators=100, random_state=17)\n",
    "random_forest.fit(X_train, y_train)\n",
    "random_forest_preds = random_forest.predict(X_test_obsidium)\n",
    "print('The accuracy of the Random Forests model is :\\t',metrics.accuracy_score(random_forest_preds,y_test_obsidium))"
   ]
  },
  {
   "cell_type": "code",
   "execution_count": 50,
   "id": "6cba774d",
   "metadata": {
    "execution": {
     "iopub.execute_input": "2024-01-23T13:28:27.787870Z",
     "iopub.status.busy": "2024-01-23T13:28:27.787463Z",
     "iopub.status.idle": "2024-01-23T13:28:27.806375Z",
     "shell.execute_reply": "2024-01-23T13:28:27.804827Z"
    },
    "papermill": {
     "duration": 0.049031,
     "end_time": "2024-01-23T13:28:27.808714",
     "exception": false,
     "start_time": "2024-01-23T13:28:27.759683",
     "status": "completed"
    },
    "tags": []
   },
   "outputs": [
    {
     "name": "stdout",
     "output_type": "stream",
     "text": [
      "True positive : 1058 \n",
      "True negative : 127 \n",
      "False positive : 931 \n",
      "False negative : 0 \n",
      "Classification Report:\n",
      "               precision    recall  f1-score   support\n",
      "\n",
      "       False       1.00      0.12      0.21      1058\n",
      "        True       0.53      1.00      0.69      1058\n",
      "\n",
      "    accuracy                           0.56      2116\n",
      "   macro avg       0.77      0.56      0.45      2116\n",
      "weighted avg       0.77      0.56      0.45      2116\n",
      "\n"
     ]
    }
   ],
   "source": [
    "mt = confusion_matrix(y_test_obsidium, random_forest_preds)\n",
    "report = classification_report(y_test_obsidium, random_forest_preds)\n",
    "print(\"True positive : %i \" % (mt[1][1]))\n",
    "print(\"True negative : %i \" % (mt[0][0]))\n",
    "print(\"False positive : %i \" % (mt[0][1]))\n",
    "print(\"False negative : %i \" % (mt[1][0]))\n",
    "print(\"Classification Report:\\n\", report)"
   ]
  },
  {
   "cell_type": "code",
   "execution_count": 51,
   "id": "0fd6d328",
   "metadata": {
    "execution": {
     "iopub.execute_input": "2024-01-23T13:28:27.864146Z",
     "iopub.status.busy": "2024-01-23T13:28:27.863224Z",
     "iopub.status.idle": "2024-01-23T13:28:34.065117Z",
     "shell.execute_reply": "2024-01-23T13:28:34.063711Z"
    },
    "papermill": {
     "duration": 6.232527,
     "end_time": "2024-01-23T13:28:34.067477",
     "exception": false,
     "start_time": "2024-01-23T13:28:27.834950",
     "status": "completed"
    },
    "tags": []
   },
   "outputs": [
    {
     "name": "stdout",
     "output_type": "stream",
     "text": [
      "The accuracy of the Random Forests model is :\t 0.8395303326810176\n"
     ]
    }
   ],
   "source": [
    "# Random Forest\n",
    "from sklearn.ensemble import RandomForestClassifier\n",
    "from sklearn import metrics\n",
    "\n",
    "random_forest_new = RandomForestClassifier(n_estimators=100, random_state=17)\n",
    "random_forest_new.fit(x_train_obsidium, y_train_obsidium)\n",
    "random_forest_preds_new = random_forest_new.predict(X_test)\n",
    "print('The accuracy of the Random Forests model is :\\t',metrics.accuracy_score(random_forest_preds_new,y_test))"
   ]
  },
  {
   "cell_type": "code",
   "execution_count": 52,
   "id": "751069f5",
   "metadata": {
    "execution": {
     "iopub.execute_input": "2024-01-23T13:28:34.121673Z",
     "iopub.status.busy": "2024-01-23T13:28:34.121292Z",
     "iopub.status.idle": "2024-01-23T13:28:34.140481Z",
     "shell.execute_reply": "2024-01-23T13:28:34.138784Z"
    },
    "papermill": {
     "duration": 0.049475,
     "end_time": "2024-01-23T13:28:34.143098",
     "exception": false,
     "start_time": "2024-01-23T13:28:34.093623",
     "status": "completed"
    },
    "tags": []
   },
   "outputs": [
    {
     "name": "stdout",
     "output_type": "stream",
     "text": [
      "True positive : 759 \n",
      "True negative : 957 \n",
      "False positive : 65 \n",
      "False negative : 263 \n",
      "Classification Report:\n",
      "               precision    recall  f1-score   support\n",
      "\n",
      "       False       0.78      0.94      0.85      1022\n",
      "        True       0.92      0.74      0.82      1022\n",
      "\n",
      "    accuracy                           0.84      2044\n",
      "   macro avg       0.85      0.84      0.84      2044\n",
      "weighted avg       0.85      0.84      0.84      2044\n",
      "\n"
     ]
    }
   ],
   "source": [
    "mt = confusion_matrix(y_test, random_forest_preds_new)\n",
    "report = classification_report(y_test, random_forest_preds_new)\n",
    "print(\"True positive : %i \" % (mt[1][1]))\n",
    "print(\"True negative : %i \" % (mt[0][0]))\n",
    "print(\"False positive : %i \" % (mt[0][1]))\n",
    "print(\"False negative : %i \" % (mt[1][0]))\n",
    "print(\"Classification Report:\\n\", report)"
   ]
  },
  {
   "cell_type": "markdown",
   "id": "bdb10084",
   "metadata": {
    "papermill": {
     "duration": 0.025926,
     "end_time": "2024-01-23T13:28:34.195270",
     "exception": false,
     "start_time": "2024-01-23T13:28:34.169344",
     "status": "completed"
    },
    "tags": []
   },
   "source": [
    "# **pe compact**"
   ]
  },
  {
   "cell_type": "code",
   "execution_count": 53,
   "id": "45de6528",
   "metadata": {
    "execution": {
     "iopub.execute_input": "2024-01-23T13:28:34.249436Z",
     "iopub.status.busy": "2024-01-23T13:28:34.249009Z",
     "iopub.status.idle": "2024-01-23T13:28:38.084485Z",
     "shell.execute_reply": "2024-01-23T13:28:38.083189Z"
    },
    "papermill": {
     "duration": 3.865517,
     "end_time": "2024-01-23T13:28:38.087146",
     "exception": false,
     "start_time": "2024-01-23T13:28:34.221629",
     "status": "completed"
    },
    "tags": []
   },
   "outputs": [],
   "source": [
    "pecompact = pd.read_pickle('/kaggle/input/packer-balance-pickle/pecompact_balance.pickle')"
   ]
  },
  {
   "cell_type": "code",
   "execution_count": 54,
   "id": "85c034ae",
   "metadata": {
    "execution": {
     "iopub.execute_input": "2024-01-23T13:28:38.143889Z",
     "iopub.status.busy": "2024-01-23T13:28:38.143472Z",
     "iopub.status.idle": "2024-01-23T13:28:39.441705Z",
     "shell.execute_reply": "2024-01-23T13:28:39.440401Z"
    },
    "papermill": {
     "duration": 1.3291,
     "end_time": "2024-01-23T13:28:39.444320",
     "exception": false,
     "start_time": "2024-01-23T13:28:38.115220",
     "status": "completed"
    },
    "tags": []
   },
   "outputs": [],
   "source": [
    "pecompact = pecompact.drop(['sample_sha1','benign','unpacked_sample_sha1','unpacked_sample_id'], axis=1)\n",
    "pecompact = pecompact.drop(['benign_vt','malicious_vt'], axis=1)\n",
    "string_columns = pecompact.select_dtypes(include=['object']).columns\n",
    "pecompact = pecompact.drop(string_columns, axis=1)"
   ]
  },
  {
   "cell_type": "code",
   "execution_count": 55,
   "id": "1f997fd7",
   "metadata": {
    "execution": {
     "iopub.execute_input": "2024-01-23T13:28:39.500832Z",
     "iopub.status.busy": "2024-01-23T13:28:39.500408Z",
     "iopub.status.idle": "2024-01-23T13:28:40.787555Z",
     "shell.execute_reply": "2024-01-23T13:28:40.786347Z"
    },
    "papermill": {
     "duration": 1.318595,
     "end_time": "2024-01-23T13:28:40.790168",
     "exception": false,
     "start_time": "2024-01-23T13:28:39.471573",
     "status": "completed"
    },
    "tags": []
   },
   "outputs": [],
   "source": [
    "df_7000_pecompact = pecompact.sample(n=7000, random_state=102)\n",
    "df_3000_pecompact = pecompact.drop(df_7000_pecompact.index)\n",
    "data_pecompact = df_7000_pecompact.sample(n=3500, random_state=102)"
   ]
  },
  {
   "cell_type": "code",
   "execution_count": 56,
   "id": "7bcf26d0",
   "metadata": {
    "execution": {
     "iopub.execute_input": "2024-01-23T13:28:40.845806Z",
     "iopub.status.busy": "2024-01-23T13:28:40.845385Z",
     "iopub.status.idle": "2024-01-23T13:28:42.763202Z",
     "shell.execute_reply": "2024-01-23T13:28:42.762116Z"
    },
    "papermill": {
     "duration": 1.948513,
     "end_time": "2024-01-23T13:28:42.766093",
     "exception": false,
     "start_time": "2024-01-23T13:28:40.817580",
     "status": "completed"
    },
    "tags": []
   },
   "outputs": [
    {
     "name": "stdout",
     "output_type": "stream",
     "text": [
      "Packed Malware: 2951 samples\n",
      "Packed Benign: 549 samples\n",
      "Total TRAIN set: 3500 samples\n",
      "Packed Malware: 549 samples\n",
      "Packed Benign: 549 samples\n",
      "Total TRAIN set: 1098 samples\n",
      "Packed Malware: 499 samples\n",
      "Packed Benign: 499 samples\n",
      "Total TEST set: 998 samples\n"
     ]
    }
   ],
   "source": [
    "#Kiểm tra số lượng mẫu\n",
    "PM = data_pecompact[(data_pecompact['malicious'] == True) & (data_pecompact['packed'] == True)].shape[0]\n",
    "PB = data_pecompact[(data_pecompact['malicious'] == False) & (data_pecompact['packed'] == True)].shape[0]\n",
    "print('Packed Malware: %i samples' % PM)\n",
    "print('Packed Benign: %i samples' % PB)\n",
    "print('Total TRAIN set: %i samples'% (PM+PB))\n",
    "\n",
    "#Chia tỉ lệ 50 - 50\n",
    "data_PM_pecompact = data_pecompact[(data_pecompact['malicious'] == True) & (data_pecompact['packed'] == True)].sample(n=(PM-PB), random_state=102)\n",
    "data_pecompact = data_pecompact.drop(data_PM_pecompact.index)\n",
    "\n",
    "#Số lượng tập train\n",
    "PM = data_pecompact[(data_pecompact['malicious'] == True) & (data_pecompact['packed'] == True)].shape[0]\n",
    "PB = data_pecompact[(data_pecompact['malicious'] == False) & (data_pecompact['packed'] == True)].shape[0]\n",
    "print('Packed Malware: %i samples' % PM)\n",
    "print('Packed Benign: %i samples' % PB)\n",
    "print('Total TRAIN set: %i samples'% (PM+PB))\n",
    "\n",
    "#Xử lý tập train\n",
    "y_pecompact = data_pecompact['malicious'].values\n",
    "data_pecompact = data_pecompact.drop(['malicious','packed'], axis=1)\n",
    "\n",
    "PM = df_3000_pecompact[(df_3000_pecompact['malicious'] == True) & (df_3000_pecompact['packed'] == True)].shape[0]\n",
    "PB = df_3000_pecompact[(df_3000_pecompact['malicious'] == False) & (df_3000_pecompact['packed'] == True)].shape[0]\n",
    "\n",
    "df_3000_PM_pecompact = df_3000_pecompact[(df_3000_pecompact['malicious'] == True) & (df_3000_pecompact['packed'] == True)].sample(n=(PM-PB), random_state=102)\n",
    "df_3000_pecompact = df_3000_pecompact.drop(df_3000_PM_pecompact.index)\n",
    "\n",
    "PM = df_3000_pecompact[(df_3000_pecompact['malicious'] == True) & (df_3000_pecompact['packed'] == True)].shape[0]\n",
    "PB = df_3000_pecompact[(df_3000_pecompact['malicious'] == False) & (df_3000_pecompact['packed'] == True)].shape[0]\n",
    "\n",
    "print('Packed Malware: %i samples' % PM)\n",
    "print('Packed Benign: %i samples' % PB)\n",
    "print('Total TEST set: %i samples'% (PM+PB))"
   ]
  },
  {
   "cell_type": "code",
   "execution_count": 57,
   "id": "4abd306c",
   "metadata": {
    "execution": {
     "iopub.execute_input": "2024-01-23T13:28:42.837182Z",
     "iopub.status.busy": "2024-01-23T13:28:42.836657Z",
     "iopub.status.idle": "2024-01-23T13:28:42.945030Z",
     "shell.execute_reply": "2024-01-23T13:28:42.943896Z"
    },
    "papermill": {
     "duration": 0.139868,
     "end_time": "2024-01-23T13:28:42.947821",
     "exception": false,
     "start_time": "2024-01-23T13:28:42.807953",
     "status": "completed"
    },
    "tags": []
   },
   "outputs": [],
   "source": [
    "# model = SelectFromModel(fsel, prefit=True)\n",
    "\n",
    "X_train_pecompact = data_pecompact\n",
    "X_test_pecompact = df_3000_pecompact.drop(['malicious','packed'], axis=1)\n",
    "\n",
    "# data_pecompact = data_pecompact.loc[:, (data_pecompact != 0).any(axis=0)]\n",
    "x_train_pecompact = data_pecompact\n",
    "X_test_pecompact = df_3000_pecompact.drop(['malicious','packed'], axis=1)\n",
    "y_train_pecompact = y_pecompact\n",
    "y_test_pecompact = df_3000_pecompact['malicious'].values"
   ]
  },
  {
   "cell_type": "code",
   "execution_count": 58,
   "id": "1c177bdd",
   "metadata": {
    "execution": {
     "iopub.execute_input": "2024-01-23T13:28:43.003711Z",
     "iopub.status.busy": "2024-01-23T13:28:43.003322Z",
     "iopub.status.idle": "2024-01-23T13:28:47.577410Z",
     "shell.execute_reply": "2024-01-23T13:28:47.575920Z"
    },
    "papermill": {
     "duration": 4.605003,
     "end_time": "2024-01-23T13:28:47.580448",
     "exception": false,
     "start_time": "2024-01-23T13:28:42.975445",
     "status": "completed"
    },
    "tags": []
   },
   "outputs": [
    {
     "name": "stdout",
     "output_type": "stream",
     "text": [
      "The accuracy of the Random Forests model is :\t 0.7084168336673347\n"
     ]
    }
   ],
   "source": [
    "# Random Forest\n",
    "from sklearn.ensemble import RandomForestClassifier\n",
    "from sklearn import metrics\n",
    "\n",
    "random_forest = RandomForestClassifier(n_estimators=100, random_state=17)\n",
    "random_forest.fit(X_train, y_train)\n",
    "random_forest_preds = random_forest.predict(X_test_pecompact)\n",
    "print('The accuracy of the Random Forests model is :\\t',metrics.accuracy_score(random_forest_preds,y_test_pecompact))"
   ]
  },
  {
   "cell_type": "code",
   "execution_count": 59,
   "id": "f01e56b5",
   "metadata": {
    "execution": {
     "iopub.execute_input": "2024-01-23T13:28:47.638522Z",
     "iopub.status.busy": "2024-01-23T13:28:47.637587Z",
     "iopub.status.idle": "2024-01-23T13:28:47.654548Z",
     "shell.execute_reply": "2024-01-23T13:28:47.653253Z"
    },
    "papermill": {
     "duration": 0.047713,
     "end_time": "2024-01-23T13:28:47.656836",
     "exception": false,
     "start_time": "2024-01-23T13:28:47.609123",
     "status": "completed"
    },
    "tags": []
   },
   "outputs": [
    {
     "name": "stdout",
     "output_type": "stream",
     "text": [
      "True positive : 490 \n",
      "True negative : 217 \n",
      "False positive : 282 \n",
      "False negative : 9 \n",
      "Classification Report:\n",
      "               precision    recall  f1-score   support\n",
      "\n",
      "       False       0.96      0.43      0.60       499\n",
      "        True       0.63      0.98      0.77       499\n",
      "\n",
      "    accuracy                           0.71       998\n",
      "   macro avg       0.80      0.71      0.68       998\n",
      "weighted avg       0.80      0.71      0.68       998\n",
      "\n"
     ]
    }
   ],
   "source": [
    "mt = confusion_matrix(y_test_pecompact, random_forest_preds)\n",
    "report = classification_report(y_test_pecompact, random_forest_preds)\n",
    "print(\"True positive : %i \" % (mt[1][1]))\n",
    "print(\"True negative : %i \" % (mt[0][0]))\n",
    "print(\"False positive : %i \" % (mt[0][1]))\n",
    "print(\"False negative : %i \" % (mt[1][0]))\n",
    "print(\"Classification Report:\\n\", report)"
   ]
  },
  {
   "cell_type": "code",
   "execution_count": 60,
   "id": "0a6b4a43",
   "metadata": {
    "execution": {
     "iopub.execute_input": "2024-01-23T13:28:47.712831Z",
     "iopub.status.busy": "2024-01-23T13:28:47.712153Z",
     "iopub.status.idle": "2024-01-23T13:28:50.786383Z",
     "shell.execute_reply": "2024-01-23T13:28:50.785122Z"
    },
    "papermill": {
     "duration": 3.105099,
     "end_time": "2024-01-23T13:28:50.788725",
     "exception": false,
     "start_time": "2024-01-23T13:28:47.683626",
     "status": "completed"
    },
    "tags": []
   },
   "outputs": [
    {
     "name": "stdout",
     "output_type": "stream",
     "text": [
      "The accuracy of the Random Forests model is :\t 0.8243639921722113\n"
     ]
    }
   ],
   "source": [
    "# Random Forest\n",
    "from sklearn.ensemble import RandomForestClassifier\n",
    "from sklearn import metrics\n",
    "\n",
    "random_forest_new = RandomForestClassifier(n_estimators=100, random_state=17)\n",
    "random_forest_new.fit(x_train_pecompact, y_train_pecompact)\n",
    "random_forest_preds_new = random_forest_new.predict(X_test)\n",
    "print('The accuracy of the Random Forests model is :\\t',metrics.accuracy_score(random_forest_preds_new,y_test))"
   ]
  },
  {
   "cell_type": "code",
   "execution_count": 61,
   "id": "4dbf7344",
   "metadata": {
    "execution": {
     "iopub.execute_input": "2024-01-23T13:28:50.845044Z",
     "iopub.status.busy": "2024-01-23T13:28:50.844602Z",
     "iopub.status.idle": "2024-01-23T13:28:50.863742Z",
     "shell.execute_reply": "2024-01-23T13:28:50.862245Z"
    },
    "papermill": {
     "duration": 0.05108,
     "end_time": "2024-01-23T13:28:50.866330",
     "exception": false,
     "start_time": "2024-01-23T13:28:50.815250",
     "status": "completed"
    },
    "tags": []
   },
   "outputs": [
    {
     "name": "stdout",
     "output_type": "stream",
     "text": [
      "True positive : 875 \n",
      "True negative : 810 \n",
      "False positive : 212 \n",
      "False negative : 147 \n",
      "Classification Report:\n",
      "               precision    recall  f1-score   support\n",
      "\n",
      "       False       0.85      0.79      0.82      1022\n",
      "        True       0.80      0.86      0.83      1022\n",
      "\n",
      "    accuracy                           0.82      2044\n",
      "   macro avg       0.83      0.82      0.82      2044\n",
      "weighted avg       0.83      0.82      0.82      2044\n",
      "\n"
     ]
    }
   ],
   "source": [
    "mt = confusion_matrix(y_test, random_forest_preds_new)\n",
    "report = classification_report(y_test, random_forest_preds_new)\n",
    "print(\"True positive : %i \" % (mt[1][1]))\n",
    "print(\"True negative : %i \" % (mt[0][0]))\n",
    "print(\"False positive : %i \" % (mt[0][1]))\n",
    "print(\"False negative : %i \" % (mt[1][0]))\n",
    "print(\"Classification Report:\\n\", report)"
   ]
  },
  {
   "cell_type": "markdown",
   "id": "8dda75d4",
   "metadata": {
    "papermill": {
     "duration": 0.027729,
     "end_time": "2024-01-23T13:28:50.921436",
     "exception": false,
     "start_time": "2024-01-23T13:28:50.893707",
     "status": "completed"
    },
    "tags": []
   },
   "source": [
    "# **pelock**"
   ]
  },
  {
   "cell_type": "code",
   "execution_count": 62,
   "id": "404081d8",
   "metadata": {
    "execution": {
     "iopub.execute_input": "2024-01-23T13:28:50.979624Z",
     "iopub.status.busy": "2024-01-23T13:28:50.979199Z",
     "iopub.status.idle": "2024-01-23T13:28:54.781411Z",
     "shell.execute_reply": "2024-01-23T13:28:54.780458Z"
    },
    "papermill": {
     "duration": 3.833179,
     "end_time": "2024-01-23T13:28:54.783820",
     "exception": false,
     "start_time": "2024-01-23T13:28:50.950641",
     "status": "completed"
    },
    "tags": []
   },
   "outputs": [],
   "source": [
    "pelock = pd.read_pickle('/kaggle/input/packer-balance-pickle/pelock_balance.pickle')"
   ]
  },
  {
   "cell_type": "code",
   "execution_count": 63,
   "id": "310d3ddc",
   "metadata": {
    "execution": {
     "iopub.execute_input": "2024-01-23T13:28:54.840313Z",
     "iopub.status.busy": "2024-01-23T13:28:54.839633Z",
     "iopub.status.idle": "2024-01-23T13:28:56.076626Z",
     "shell.execute_reply": "2024-01-23T13:28:56.075300Z"
    },
    "papermill": {
     "duration": 1.268389,
     "end_time": "2024-01-23T13:28:56.079294",
     "exception": false,
     "start_time": "2024-01-23T13:28:54.810905",
     "status": "completed"
    },
    "tags": []
   },
   "outputs": [],
   "source": [
    "pelock = pelock.drop(['sample_sha1','benign','unpacked_sample_sha1','unpacked_sample_id'], axis=1)\n",
    "pelock = pelock.drop(['benign_vt','malicious_vt'], axis=1)\n",
    "string_columns = pelock.select_dtypes(include=['object']).columns\n",
    "pelock = pelock.drop(string_columns, axis=1)"
   ]
  },
  {
   "cell_type": "code",
   "execution_count": 64,
   "id": "e5b1b730",
   "metadata": {
    "execution": {
     "iopub.execute_input": "2024-01-23T13:28:56.135223Z",
     "iopub.status.busy": "2024-01-23T13:28:56.134804Z",
     "iopub.status.idle": "2024-01-23T13:28:57.476828Z",
     "shell.execute_reply": "2024-01-23T13:28:57.475621Z"
    },
    "papermill": {
     "duration": 1.373741,
     "end_time": "2024-01-23T13:28:57.479655",
     "exception": false,
     "start_time": "2024-01-23T13:28:56.105914",
     "status": "completed"
    },
    "tags": []
   },
   "outputs": [],
   "source": [
    "df_7000_pelock = pelock.sample(n=7000, random_state=102)\n",
    "df_3000_pelock = pelock.drop(df_7000_pelock.index)\n",
    "data_pelock = df_7000_pelock.sample(n=3500, random_state=102)"
   ]
  },
  {
   "cell_type": "code",
   "execution_count": 65,
   "id": "d80ba461",
   "metadata": {
    "execution": {
     "iopub.execute_input": "2024-01-23T13:28:57.538465Z",
     "iopub.status.busy": "2024-01-23T13:28:57.538057Z",
     "iopub.status.idle": "2024-01-23T13:28:59.525501Z",
     "shell.execute_reply": "2024-01-23T13:28:59.524123Z"
    },
    "papermill": {
     "duration": 2.021026,
     "end_time": "2024-01-23T13:28:59.527805",
     "exception": false,
     "start_time": "2024-01-23T13:28:57.506779",
     "status": "completed"
    },
    "tags": []
   },
   "outputs": [
    {
     "name": "stdout",
     "output_type": "stream",
     "text": [
      "Packed Malware: 1960 samples\n",
      "Packed Benign: 1540 samples\n",
      "Total TRAIN set: 3500 samples\n",
      "Packed Malware: 1540 samples\n",
      "Packed Benign: 1540 samples\n",
      "Total TRAIN set: 3080 samples\n",
      "Packed Malware: 1360 samples\n",
      "Packed Benign: 1360 samples\n",
      "Total TEST set: 2720 samples\n"
     ]
    }
   ],
   "source": [
    "#Kiểm tra số lượng mẫu\n",
    "PM = data_pelock[(data_pelock['malicious'] == True) & (data_pelock['packed'] == True)].shape[0]\n",
    "PB = data_pelock[(data_pelock['malicious'] == False) & (data_pelock['packed'] == True)].shape[0]\n",
    "print('Packed Malware: %i samples' % PM)\n",
    "print('Packed Benign: %i samples' % PB)\n",
    "print('Total TRAIN set: %i samples'% (PM+PB))\n",
    "\n",
    "#Chia tỉ lệ 50 - 50\n",
    "data_PM_pelock = data_pelock[(data_pelock['malicious'] == True) & (data_pelock['packed'] == True)].sample(n=(PM-PB), random_state=102)\n",
    "data_pelock = data_pelock.drop(data_PM_pelock.index)\n",
    "\n",
    "#Số lượng tập train\n",
    "PM = data_pelock[(data_pelock['malicious'] == True) & (data_pelock['packed'] == True)].shape[0]\n",
    "PB = data_pelock[(data_pelock['malicious'] == False) & (data_pelock['packed'] == True)].shape[0]\n",
    "print('Packed Malware: %i samples' % PM)\n",
    "print('Packed Benign: %i samples' % PB)\n",
    "print('Total TRAIN set: %i samples'% (PM+PB))\n",
    "\n",
    "#Xử lý tập train\n",
    "y_pelock = data_pelock['malicious'].values\n",
    "data_pelock = data_pelock.drop(['malicious','packed'], axis=1)\n",
    "\n",
    "PM = df_3000_pelock[(df_3000_pelock['malicious'] == True) & (df_3000_pelock['packed'] == True)].shape[0]\n",
    "PB = df_3000_pelock[(df_3000_pelock['malicious'] == False) & (df_3000_pelock['packed'] == True)].shape[0]\n",
    "\n",
    "df_3000_PM_pelock = df_3000_pelock[(df_3000_pelock['malicious'] == True) & (df_3000_pelock['packed'] == True)].sample(n=(PM-PB), random_state=102)\n",
    "df_3000_pelock = df_3000_pelock.drop(df_3000_PM_pelock.index)\n",
    "\n",
    "PM = df_3000_pelock[(df_3000_pelock['malicious'] == True) & (df_3000_pelock['packed'] == True)].shape[0]\n",
    "PB = df_3000_pelock[(df_3000_pelock['malicious'] == False) & (df_3000_pelock['packed'] == True)].shape[0]\n",
    "\n",
    "print('Packed Malware: %i samples' % PM)\n",
    "print('Packed Benign: %i samples' % PB)\n",
    "print('Total TEST set: %i samples'% (PM+PB))"
   ]
  },
  {
   "cell_type": "code",
   "execution_count": 66,
   "id": "13fc87d6",
   "metadata": {
    "execution": {
     "iopub.execute_input": "2024-01-23T13:28:59.584244Z",
     "iopub.status.busy": "2024-01-23T13:28:59.583401Z",
     "iopub.status.idle": "2024-01-23T13:28:59.792866Z",
     "shell.execute_reply": "2024-01-23T13:28:59.791705Z"
    },
    "papermill": {
     "duration": 0.24043,
     "end_time": "2024-01-23T13:28:59.795509",
     "exception": false,
     "start_time": "2024-01-23T13:28:59.555079",
     "status": "completed"
    },
    "tags": []
   },
   "outputs": [],
   "source": [
    "# model = SelectFromModel(fsel, prefit=True)\n",
    "\n",
    "X_train_pelock = data_pelock\n",
    "X_test_pelock = df_3000_pelock.drop(['malicious','packed'], axis=1)\n",
    "\n",
    "# data_pelock = data_pelock.loc[:, (data_pelock != 0).any(axis=0)]\n",
    "x_train_pelock = data_pelock\n",
    "X_test_pelock = df_3000_pelock.drop(['malicious','packed'], axis=1)\n",
    "y_train_pelock = y_pelock\n",
    "y_test_pelock = df_3000_pelock['malicious'].values"
   ]
  },
  {
   "cell_type": "code",
   "execution_count": 67,
   "id": "fe74feb8",
   "metadata": {
    "execution": {
     "iopub.execute_input": "2024-01-23T13:28:59.852649Z",
     "iopub.status.busy": "2024-01-23T13:28:59.852244Z",
     "iopub.status.idle": "2024-01-23T13:29:04.793988Z",
     "shell.execute_reply": "2024-01-23T13:29:04.792751Z"
    },
    "papermill": {
     "duration": 4.973136,
     "end_time": "2024-01-23T13:29:04.796694",
     "exception": false,
     "start_time": "2024-01-23T13:28:59.823558",
     "status": "completed"
    },
    "tags": []
   },
   "outputs": [
    {
     "name": "stdout",
     "output_type": "stream",
     "text": [
      "The accuracy of the Random Forests model is :\t 0.6014705882352941\n"
     ]
    }
   ],
   "source": [
    "# Random Forest\n",
    "from sklearn.ensemble import RandomForestClassifier\n",
    "from sklearn import metrics\n",
    "\n",
    "random_forest = RandomForestClassifier(n_estimators=100, random_state=17)\n",
    "random_forest.fit(X_train, y_train)\n",
    "random_forest_preds = random_forest.predict(X_test_pelock)\n",
    "print('The accuracy of the Random Forests model is :\\t',metrics.accuracy_score(random_forest_preds,y_test_pelock))"
   ]
  },
  {
   "cell_type": "code",
   "execution_count": 68,
   "id": "e779d60e",
   "metadata": {
    "execution": {
     "iopub.execute_input": "2024-01-23T13:29:04.854056Z",
     "iopub.status.busy": "2024-01-23T13:29:04.853222Z",
     "iopub.status.idle": "2024-01-23T13:29:04.873100Z",
     "shell.execute_reply": "2024-01-23T13:29:04.871767Z"
    },
    "papermill": {
     "duration": 0.051199,
     "end_time": "2024-01-23T13:29:04.875371",
     "exception": false,
     "start_time": "2024-01-23T13:29:04.824172",
     "status": "completed"
    },
    "tags": []
   },
   "outputs": [
    {
     "name": "stdout",
     "output_type": "stream",
     "text": [
      "True positive : 1359 \n",
      "True negative : 277 \n",
      "False positive : 1083 \n",
      "False negative : 1 \n",
      "Classification Report:\n",
      "               precision    recall  f1-score   support\n",
      "\n",
      "       False       1.00      0.20      0.34      1360\n",
      "        True       0.56      1.00      0.71      1360\n",
      "\n",
      "    accuracy                           0.60      2720\n",
      "   macro avg       0.78      0.60      0.53      2720\n",
      "weighted avg       0.78      0.60      0.53      2720\n",
      "\n"
     ]
    }
   ],
   "source": [
    "mt = confusion_matrix(y_test_pelock, random_forest_preds)\n",
    "report = classification_report(y_test_pelock, random_forest_preds)\n",
    "print(\"True positive : %i \" % (mt[1][1]))\n",
    "print(\"True negative : %i \" % (mt[0][0]))\n",
    "print(\"False positive : %i \" % (mt[0][1]))\n",
    "print(\"False negative : %i \" % (mt[1][0]))\n",
    "print(\"Classification Report:\\n\", report)"
   ]
  },
  {
   "cell_type": "code",
   "execution_count": 69,
   "id": "6fc4d0d5",
   "metadata": {
    "execution": {
     "iopub.execute_input": "2024-01-23T13:29:04.933879Z",
     "iopub.status.busy": "2024-01-23T13:29:04.933493Z",
     "iopub.status.idle": "2024-01-23T13:29:10.661912Z",
     "shell.execute_reply": "2024-01-23T13:29:10.660653Z"
    },
    "papermill": {
     "duration": 5.76258,
     "end_time": "2024-01-23T13:29:10.665476",
     "exception": false,
     "start_time": "2024-01-23T13:29:04.902896",
     "status": "completed"
    },
    "tags": []
   },
   "outputs": [
    {
     "name": "stdout",
     "output_type": "stream",
     "text": [
      "The accuracy of the Random Forests model is :\t 0.8571428571428571\n"
     ]
    }
   ],
   "source": [
    "# Random Forest\n",
    "from sklearn.ensemble import RandomForestClassifier\n",
    "from sklearn import metrics\n",
    "\n",
    "random_forest_new = RandomForestClassifier(n_estimators=100, random_state=17)\n",
    "random_forest_new.fit(x_train_pelock, y_train_pelock)\n",
    "random_forest_preds_new = random_forest_new.predict(X_test)\n",
    "print('The accuracy of the Random Forests model is :\\t',metrics.accuracy_score(random_forest_preds_new,y_test))"
   ]
  },
  {
   "cell_type": "code",
   "execution_count": 70,
   "id": "feb13b73",
   "metadata": {
    "execution": {
     "iopub.execute_input": "2024-01-23T13:29:10.721903Z",
     "iopub.status.busy": "2024-01-23T13:29:10.720826Z",
     "iopub.status.idle": "2024-01-23T13:29:10.739573Z",
     "shell.execute_reply": "2024-01-23T13:29:10.738455Z"
    },
    "papermill": {
     "duration": 0.049576,
     "end_time": "2024-01-23T13:29:10.742216",
     "exception": false,
     "start_time": "2024-01-23T13:29:10.692640",
     "status": "completed"
    },
    "tags": []
   },
   "outputs": [
    {
     "name": "stdout",
     "output_type": "stream",
     "text": [
      "True positive : 874 \n",
      "True negative : 878 \n",
      "False positive : 144 \n",
      "False negative : 148 \n",
      "Classification Report:\n",
      "               precision    recall  f1-score   support\n",
      "\n",
      "       False       0.86      0.86      0.86      1022\n",
      "        True       0.86      0.86      0.86      1022\n",
      "\n",
      "    accuracy                           0.86      2044\n",
      "   macro avg       0.86      0.86      0.86      2044\n",
      "weighted avg       0.86      0.86      0.86      2044\n",
      "\n"
     ]
    }
   ],
   "source": [
    "mt = confusion_matrix(y_test, random_forest_preds_new)\n",
    "report = classification_report(y_test, random_forest_preds_new)\n",
    "print(\"True positive : %i \" % (mt[1][1]))\n",
    "print(\"True negative : %i \" % (mt[0][0]))\n",
    "print(\"False positive : %i \" % (mt[0][1]))\n",
    "print(\"False negative : %i \" % (mt[1][0]))\n",
    "print(\"Classification Report:\\n\", report)"
   ]
  },
  {
   "cell_type": "markdown",
   "id": "cd731cc0",
   "metadata": {
    "papermill": {
     "duration": 0.026823,
     "end_time": "2024-01-23T13:29:10.796241",
     "exception": false,
     "start_time": "2024-01-23T13:29:10.769418",
     "status": "completed"
    },
    "tags": []
   },
   "source": [
    "# **petite**"
   ]
  },
  {
   "cell_type": "code",
   "execution_count": 71,
   "id": "3de2e32d",
   "metadata": {
    "execution": {
     "iopub.execute_input": "2024-01-23T13:29:10.852194Z",
     "iopub.status.busy": "2024-01-23T13:29:10.851761Z",
     "iopub.status.idle": "2024-01-23T13:29:14.925304Z",
     "shell.execute_reply": "2024-01-23T13:29:14.924198Z"
    },
    "papermill": {
     "duration": 4.104753,
     "end_time": "2024-01-23T13:29:14.927750",
     "exception": false,
     "start_time": "2024-01-23T13:29:10.822997",
     "status": "completed"
    },
    "tags": []
   },
   "outputs": [],
   "source": [
    "petite = pd.read_pickle('/kaggle/input/packer-balance-pickle/petite_balance.pickle')"
   ]
  },
  {
   "cell_type": "code",
   "execution_count": 72,
   "id": "8d8bc680",
   "metadata": {
    "execution": {
     "iopub.execute_input": "2024-01-23T13:29:14.989307Z",
     "iopub.status.busy": "2024-01-23T13:29:14.988066Z",
     "iopub.status.idle": "2024-01-23T13:29:16.317752Z",
     "shell.execute_reply": "2024-01-23T13:29:16.316461Z"
    },
    "papermill": {
     "duration": 1.363814,
     "end_time": "2024-01-23T13:29:16.320531",
     "exception": false,
     "start_time": "2024-01-23T13:29:14.956717",
     "status": "completed"
    },
    "tags": []
   },
   "outputs": [],
   "source": [
    "petite = petite.drop(['sample_sha1','benign','unpacked_sample_sha1','unpacked_sample_id'], axis=1)\n",
    "petite = petite.drop(['benign_vt','malicious_vt'], axis=1)\n",
    "string_columns = petite.select_dtypes(include=['object']).columns\n",
    "petite = petite.drop(string_columns, axis=1)"
   ]
  },
  {
   "cell_type": "code",
   "execution_count": 73,
   "id": "3bfe2f44",
   "metadata": {
    "execution": {
     "iopub.execute_input": "2024-01-23T13:29:16.378457Z",
     "iopub.status.busy": "2024-01-23T13:29:16.377957Z",
     "iopub.status.idle": "2024-01-23T13:29:17.684564Z",
     "shell.execute_reply": "2024-01-23T13:29:17.683469Z"
    },
    "papermill": {
     "duration": 1.339235,
     "end_time": "2024-01-23T13:29:17.687253",
     "exception": false,
     "start_time": "2024-01-23T13:29:16.348018",
     "status": "completed"
    },
    "tags": []
   },
   "outputs": [],
   "source": [
    "df_7000_petite = petite.sample(n=7000, random_state=102)\n",
    "df_3000_petite = petite.drop(df_7000_petite.index)\n",
    "data_petite = df_7000_petite.sample(n=3500, random_state=102)"
   ]
  },
  {
   "cell_type": "code",
   "execution_count": 74,
   "id": "5e5e9bca",
   "metadata": {
    "execution": {
     "iopub.execute_input": "2024-01-23T13:29:17.745264Z",
     "iopub.status.busy": "2024-01-23T13:29:17.744834Z",
     "iopub.status.idle": "2024-01-23T13:29:19.698388Z",
     "shell.execute_reply": "2024-01-23T13:29:19.697230Z"
    },
    "papermill": {
     "duration": 1.985028,
     "end_time": "2024-01-23T13:29:19.700924",
     "exception": false,
     "start_time": "2024-01-23T13:29:17.715896",
     "status": "completed"
    },
    "tags": []
   },
   "outputs": [
    {
     "name": "stdout",
     "output_type": "stream",
     "text": [
      "Packed Malware: 2302 samples\n",
      "Packed Benign: 1198 samples\n",
      "Total TRAIN set: 3500 samples\n",
      "Packed Malware: 1198 samples\n",
      "Packed Benign: 1198 samples\n",
      "Total TRAIN set: 2396 samples\n",
      "Packed Malware: 1056 samples\n",
      "Packed Benign: 1056 samples\n",
      "Total TEST set: 2112 samples\n"
     ]
    }
   ],
   "source": [
    "#Kiểm tra số lượng mẫu\n",
    "PM = data_petite[(data_petite['malicious'] == True) & (data_petite['packed'] == True)].shape[0]\n",
    "PB = data_petite[(data_petite['malicious'] == False) & (data_petite['packed'] == True)].shape[0]\n",
    "print('Packed Malware: %i samples' % PM)\n",
    "print('Packed Benign: %i samples' % PB)\n",
    "print('Total TRAIN set: %i samples'% (PM+PB))\n",
    "\n",
    "#Chia tỉ lệ 50 - 50\n",
    "data_PM_petite = data_petite[(data_petite['malicious'] == True) & (data_petite['packed'] == True)].sample(n=(PM-PB), random_state=102)\n",
    "data_petite = data_petite.drop(data_PM_petite.index)\n",
    "\n",
    "#Số lượng tập train\n",
    "PM = data_petite[(data_petite['malicious'] == True) & (data_petite['packed'] == True)].shape[0]\n",
    "PB = data_petite[(data_petite['malicious'] == False) & (data_petite['packed'] == True)].shape[0]\n",
    "print('Packed Malware: %i samples' % PM)\n",
    "print('Packed Benign: %i samples' % PB)\n",
    "print('Total TRAIN set: %i samples'% (PM+PB))\n",
    "\n",
    "#Xử lý tập train\n",
    "y_petite = data_petite['malicious'].values\n",
    "data_petite = data_petite.drop(['malicious','packed'], axis=1)\n",
    "\n",
    "PM = df_3000_petite[(df_3000_petite['malicious'] == True) & (df_3000_petite['packed'] == True)].shape[0]\n",
    "PB = df_3000_petite[(df_3000_petite['malicious'] == False) & (df_3000_petite['packed'] == True)].shape[0]\n",
    "\n",
    "df_3000_PM_petite = df_3000_petite[(df_3000_petite['malicious'] == True) & (df_3000_petite['packed'] == True)].sample(n=(PM-PB), random_state=102)\n",
    "df_3000_petite = df_3000_petite.drop(df_3000_PM_petite.index)\n",
    "\n",
    "PM = df_3000_petite[(df_3000_petite['malicious'] == True) & (df_3000_petite['packed'] == True)].shape[0]\n",
    "PB = df_3000_petite[(df_3000_petite['malicious'] == False) & (df_3000_petite['packed'] == True)].shape[0]\n",
    "\n",
    "print('Packed Malware: %i samples' % PM)\n",
    "print('Packed Benign: %i samples' % PB)\n",
    "print('Total TEST set: %i samples'% (PM+PB))"
   ]
  },
  {
   "cell_type": "code",
   "execution_count": 75,
   "id": "8aed9844",
   "metadata": {
    "execution": {
     "iopub.execute_input": "2024-01-23T13:29:19.759407Z",
     "iopub.status.busy": "2024-01-23T13:29:19.758644Z",
     "iopub.status.idle": "2024-01-23T13:29:19.939245Z",
     "shell.execute_reply": "2024-01-23T13:29:19.938160Z"
    },
    "papermill": {
     "duration": 0.211999,
     "end_time": "2024-01-23T13:29:19.941670",
     "exception": false,
     "start_time": "2024-01-23T13:29:19.729671",
     "status": "completed"
    },
    "tags": []
   },
   "outputs": [],
   "source": [
    "# model = SelectFromModel(fsel, prefit=True)\n",
    "\n",
    "X_train_petite = data_petite\n",
    "X_test_petite = df_3000_petite.drop(['malicious','packed'], axis=1)\n",
    "\n",
    "# data_petite = data_petite.loc[:, (data_petite != 0).any(axis=0)]\n",
    "x_train_petite = data_petite\n",
    "X_test_petite = df_3000_petite.drop(['malicious','packed'], axis=1)\n",
    "y_train_petite = y_petite\n",
    "y_test_petite = df_3000_petite['malicious'].values"
   ]
  },
  {
   "cell_type": "code",
   "execution_count": 76,
   "id": "3b37739a",
   "metadata": {
    "execution": {
     "iopub.execute_input": "2024-01-23T13:29:19.998382Z",
     "iopub.status.busy": "2024-01-23T13:29:19.997927Z",
     "iopub.status.idle": "2024-01-23T13:29:26.406630Z",
     "shell.execute_reply": "2024-01-23T13:29:26.405171Z"
    },
    "papermill": {
     "duration": 6.440482,
     "end_time": "2024-01-23T13:29:26.409653",
     "exception": false,
     "start_time": "2024-01-23T13:29:19.969171",
     "status": "completed"
    },
    "tags": []
   },
   "outputs": [
    {
     "name": "stdout",
     "output_type": "stream",
     "text": [
      "The accuracy of the Random Forests model is :\t 0.5861742424242424\n"
     ]
    }
   ],
   "source": [
    "# Random Forest\n",
    "from sklearn.ensemble import RandomForestClassifier\n",
    "from sklearn import metrics\n",
    "\n",
    "random_forest = RandomForestClassifier(n_estimators=100, random_state=17)\n",
    "random_forest.fit(X_train, y_train)\n",
    "random_forest_preds = random_forest.predict(X_test_petite)\n",
    "print('The accuracy of the Random Forests model is :\\t',metrics.accuracy_score(random_forest_preds,y_test_petite))"
   ]
  },
  {
   "cell_type": "code",
   "execution_count": 77,
   "id": "7c24db1f",
   "metadata": {
    "execution": {
     "iopub.execute_input": "2024-01-23T13:29:26.467688Z",
     "iopub.status.busy": "2024-01-23T13:29:26.466943Z",
     "iopub.status.idle": "2024-01-23T13:29:26.485265Z",
     "shell.execute_reply": "2024-01-23T13:29:26.484079Z"
    },
    "papermill": {
     "duration": 0.050016,
     "end_time": "2024-01-23T13:29:26.487744",
     "exception": false,
     "start_time": "2024-01-23T13:29:26.437728",
     "status": "completed"
    },
    "tags": []
   },
   "outputs": [
    {
     "name": "stdout",
     "output_type": "stream",
     "text": [
      "True positive : 1052 \n",
      "True negative : 186 \n",
      "False positive : 870 \n",
      "False negative : 4 \n",
      "Classification Report:\n",
      "               precision    recall  f1-score   support\n",
      "\n",
      "       False       0.98      0.18      0.30      1056\n",
      "        True       0.55      1.00      0.71      1056\n",
      "\n",
      "    accuracy                           0.59      2112\n",
      "   macro avg       0.76      0.59      0.50      2112\n",
      "weighted avg       0.76      0.59      0.50      2112\n",
      "\n"
     ]
    }
   ],
   "source": [
    "mt = confusion_matrix(y_test_petite, random_forest_preds)\n",
    "report = classification_report(y_test_petite, random_forest_preds)\n",
    "print(\"True positive : %i \" % (mt[1][1]))\n",
    "print(\"True negative : %i \" % (mt[0][0]))\n",
    "print(\"False positive : %i \" % (mt[0][1]))\n",
    "print(\"False negative : %i \" % (mt[1][0]))\n",
    "print(\"Classification Report:\\n\", report)"
   ]
  },
  {
   "cell_type": "code",
   "execution_count": 78,
   "id": "6033c475",
   "metadata": {
    "execution": {
     "iopub.execute_input": "2024-01-23T13:29:26.545765Z",
     "iopub.status.busy": "2024-01-23T13:29:26.544782Z",
     "iopub.status.idle": "2024-01-23T13:29:31.723135Z",
     "shell.execute_reply": "2024-01-23T13:29:31.721893Z"
    },
    "papermill": {
     "duration": 5.209797,
     "end_time": "2024-01-23T13:29:31.725816",
     "exception": false,
     "start_time": "2024-01-23T13:29:26.516019",
     "status": "completed"
    },
    "tags": []
   },
   "outputs": [
    {
     "name": "stdout",
     "output_type": "stream",
     "text": [
      "The accuracy of the Random Forests model is :\t 0.8532289628180039\n"
     ]
    }
   ],
   "source": [
    "# Random Forest\n",
    "from sklearn.ensemble import RandomForestClassifier\n",
    "from sklearn import metrics\n",
    "\n",
    "random_forest_new = RandomForestClassifier(n_estimators=100, random_state=17)\n",
    "random_forest_new.fit(x_train_petite, y_train_petite)\n",
    "random_forest_preds_new = random_forest_new.predict(X_test)\n",
    "print('The accuracy of the Random Forests model is :\\t',metrics.accuracy_score(random_forest_preds_new,y_test))"
   ]
  },
  {
   "cell_type": "code",
   "execution_count": 79,
   "id": "71d1056f",
   "metadata": {
    "execution": {
     "iopub.execute_input": "2024-01-23T13:29:31.786026Z",
     "iopub.status.busy": "2024-01-23T13:29:31.785633Z",
     "iopub.status.idle": "2024-01-23T13:29:31.805456Z",
     "shell.execute_reply": "2024-01-23T13:29:31.804452Z"
    },
    "papermill": {
     "duration": 0.053758,
     "end_time": "2024-01-23T13:29:31.808077",
     "exception": false,
     "start_time": "2024-01-23T13:29:31.754319",
     "status": "completed"
    },
    "tags": []
   },
   "outputs": [
    {
     "name": "stdout",
     "output_type": "stream",
     "text": [
      "True positive : 882 \n",
      "True negative : 862 \n",
      "False positive : 160 \n",
      "False negative : 140 \n",
      "Classification Report:\n",
      "               precision    recall  f1-score   support\n",
      "\n",
      "       False       0.86      0.84      0.85      1022\n",
      "        True       0.85      0.86      0.85      1022\n",
      "\n",
      "    accuracy                           0.85      2044\n",
      "   macro avg       0.85      0.85      0.85      2044\n",
      "weighted avg       0.85      0.85      0.85      2044\n",
      "\n"
     ]
    }
   ],
   "source": [
    "mt = confusion_matrix(y_test, random_forest_preds_new)\n",
    "report = classification_report(y_test, random_forest_preds_new)\n",
    "print(\"True positive : %i \" % (mt[1][1]))\n",
    "print(\"True negative : %i \" % (mt[0][0]))\n",
    "print(\"False positive : %i \" % (mt[0][1]))\n",
    "print(\"False negative : %i \" % (mt[1][0]))\n",
    "print(\"Classification Report:\\n\", report)"
   ]
  },
  {
   "cell_type": "markdown",
   "id": "a6ae71b0",
   "metadata": {
    "papermill": {
     "duration": 0.028682,
     "end_time": "2024-01-23T13:29:31.865635",
     "exception": false,
     "start_time": "2024-01-23T13:29:31.836953",
     "status": "completed"
    },
    "tags": []
   },
   "source": [
    "# **telock**"
   ]
  },
  {
   "cell_type": "code",
   "execution_count": 80,
   "id": "b8e58da0",
   "metadata": {
    "execution": {
     "iopub.execute_input": "2024-01-23T13:29:31.923631Z",
     "iopub.status.busy": "2024-01-23T13:29:31.923230Z",
     "iopub.status.idle": "2024-01-23T13:29:36.070982Z",
     "shell.execute_reply": "2024-01-23T13:29:36.069835Z"
    },
    "papermill": {
     "duration": 4.179327,
     "end_time": "2024-01-23T13:29:36.073549",
     "exception": false,
     "start_time": "2024-01-23T13:29:31.894222",
     "status": "completed"
    },
    "tags": []
   },
   "outputs": [],
   "source": [
    "telock = pd.read_pickle('/kaggle/input/packer-balance-pickle/telock_balance.pickle')"
   ]
  },
  {
   "cell_type": "code",
   "execution_count": 81,
   "id": "a893e111",
   "metadata": {
    "execution": {
     "iopub.execute_input": "2024-01-23T13:29:36.132405Z",
     "iopub.status.busy": "2024-01-23T13:29:36.131986Z",
     "iopub.status.idle": "2024-01-23T13:29:38.545844Z",
     "shell.execute_reply": "2024-01-23T13:29:38.545032Z"
    },
    "papermill": {
     "duration": 2.44662,
     "end_time": "2024-01-23T13:29:38.548455",
     "exception": false,
     "start_time": "2024-01-23T13:29:36.101835",
     "status": "completed"
    },
    "tags": []
   },
   "outputs": [],
   "source": [
    "telock = telock.drop(['sample_sha1','benign','unpacked_sample_sha1','unpacked_sample_id'], axis=1)\n",
    "telock = telock.drop(['benign_vt','malicious_vt'], axis=1)\n",
    "string_columns = telock.select_dtypes(include=['object']).columns\n",
    "telock = telock.drop(string_columns, axis=1)"
   ]
  },
  {
   "cell_type": "code",
   "execution_count": 82,
   "id": "aed28279",
   "metadata": {
    "execution": {
     "iopub.execute_input": "2024-01-23T13:29:38.607032Z",
     "iopub.status.busy": "2024-01-23T13:29:38.606363Z",
     "iopub.status.idle": "2024-01-23T13:29:40.089366Z",
     "shell.execute_reply": "2024-01-23T13:29:40.088154Z"
    },
    "papermill": {
     "duration": 1.51561,
     "end_time": "2024-01-23T13:29:40.092301",
     "exception": false,
     "start_time": "2024-01-23T13:29:38.576691",
     "status": "completed"
    },
    "tags": []
   },
   "outputs": [],
   "source": [
    "df_7000_telock = telock.sample(n=7000, random_state=102)\n",
    "df_3000_telock = telock.drop(df_7000_telock.index)\n",
    "data_telock = df_7000_telock.sample(n=3500, random_state=102)"
   ]
  },
  {
   "cell_type": "code",
   "execution_count": 83,
   "id": "146f3e0e",
   "metadata": {
    "execution": {
     "iopub.execute_input": "2024-01-23T13:29:40.151719Z",
     "iopub.status.busy": "2024-01-23T13:29:40.149611Z",
     "iopub.status.idle": "2024-01-23T13:29:42.491353Z",
     "shell.execute_reply": "2024-01-23T13:29:42.489976Z"
    },
    "papermill": {
     "duration": 2.373335,
     "end_time": "2024-01-23T13:29:42.494089",
     "exception": false,
     "start_time": "2024-01-23T13:29:40.120754",
     "status": "completed"
    },
    "tags": []
   },
   "outputs": [
    {
     "name": "stdout",
     "output_type": "stream",
     "text": [
      "Packed Malware: 2995 samples\n",
      "Packed Benign: 505 samples\n",
      "Total TRAIN set: 3500 samples\n",
      "Packed Malware: 505 samples\n",
      "Packed Benign: 505 samples\n",
      "Total TRAIN set: 1010 samples\n",
      "Packed Malware: 432 samples\n",
      "Packed Benign: 432 samples\n",
      "Total TEST set: 864 samples\n"
     ]
    }
   ],
   "source": [
    "#Kiểm tra số lượng mẫu\n",
    "PM = data_telock[(data_telock['malicious'] == True) & (data_telock['packed'] == True)].shape[0]\n",
    "PB = data_telock[(data_telock['malicious'] == False) & (data_telock['packed'] == True)].shape[0]\n",
    "print('Packed Malware: %i samples' % PM)\n",
    "print('Packed Benign: %i samples' % PB)\n",
    "print('Total TRAIN set: %i samples'% (PM+PB))\n",
    "\n",
    "#Chia tỉ lệ 50 - 50\n",
    "data_PM_telock = data_telock[(data_telock['malicious'] == True) & (data_telock['packed'] == True)].sample(n=(PM-PB), random_state=102)\n",
    "data_telock = data_telock.drop(data_PM_telock.index)\n",
    "\n",
    "#Số lượng tập train\n",
    "PM = data_telock[(data_telock['malicious'] == True) & (data_telock['packed'] == True)].shape[0]\n",
    "PB = data_telock[(data_telock['malicious'] == False) & (data_telock['packed'] == True)].shape[0]\n",
    "print('Packed Malware: %i samples' % PM)\n",
    "print('Packed Benign: %i samples' % PB)\n",
    "print('Total TRAIN set: %i samples'% (PM+PB))\n",
    "\n",
    "#Xử lý tập train\n",
    "y_telock = data_telock['malicious'].values\n",
    "data_telock = data_telock.drop(['malicious','packed'], axis=1)\n",
    "\n",
    "PM = df_3000_telock[(df_3000_telock['malicious'] == True) & (df_3000_telock['packed'] == True)].shape[0]\n",
    "PB = df_3000_telock[(df_3000_telock['malicious'] == False) & (df_3000_telock['packed'] == True)].shape[0]\n",
    "\n",
    "df_3000_PM_telock = df_3000_telock[(df_3000_telock['malicious'] == True) & (df_3000_telock['packed'] == True)].sample(n=(PM-PB), random_state=102)\n",
    "df_3000_telock = df_3000_telock.drop(df_3000_PM_telock.index)\n",
    "\n",
    "PM = df_3000_telock[(df_3000_telock['malicious'] == True) & (df_3000_telock['packed'] == True)].shape[0]\n",
    "PB = df_3000_telock[(df_3000_telock['malicious'] == False) & (df_3000_telock['packed'] == True)].shape[0]\n",
    "\n",
    "print('Packed Malware: %i samples' % PM)\n",
    "print('Packed Benign: %i samples' % PB)\n",
    "print('Total TEST set: %i samples'% (PM+PB))"
   ]
  },
  {
   "cell_type": "code",
   "execution_count": 84,
   "id": "55dba3b1",
   "metadata": {
    "execution": {
     "iopub.execute_input": "2024-01-23T13:29:42.559201Z",
     "iopub.status.busy": "2024-01-23T13:29:42.558779Z",
     "iopub.status.idle": "2024-01-23T13:29:42.648406Z",
     "shell.execute_reply": "2024-01-23T13:29:42.647322Z"
    },
    "papermill": {
     "duration": 0.126224,
     "end_time": "2024-01-23T13:29:42.651109",
     "exception": false,
     "start_time": "2024-01-23T13:29:42.524885",
     "status": "completed"
    },
    "tags": []
   },
   "outputs": [],
   "source": [
    "# model = SelectFromModel(fsel, prefit=True)\n",
    "\n",
    "X_train_telock = data_telock\n",
    "X_test_telock = df_3000_telock.drop(['malicious','packed'], axis=1)\n",
    "\n",
    "# data_telock = data_telock.loc[:, (data_telock != 0).any(axis=0)]\n",
    "x_train_telock = data_telock\n",
    "X_test_telock = df_3000_telock.drop(['malicious','packed'], axis=1)\n",
    "y_train_telock = y_telock\n",
    "y_test_telock = df_3000_telock['malicious'].values"
   ]
  },
  {
   "cell_type": "code",
   "execution_count": 85,
   "id": "9ecfde83",
   "metadata": {
    "execution": {
     "iopub.execute_input": "2024-01-23T13:29:42.711713Z",
     "iopub.status.busy": "2024-01-23T13:29:42.711329Z",
     "iopub.status.idle": "2024-01-23T13:29:49.112988Z",
     "shell.execute_reply": "2024-01-23T13:29:49.111833Z"
    },
    "papermill": {
     "duration": 6.433659,
     "end_time": "2024-01-23T13:29:49.115144",
     "exception": false,
     "start_time": "2024-01-23T13:29:42.681485",
     "status": "completed"
    },
    "tags": []
   },
   "outputs": [
    {
     "name": "stdout",
     "output_type": "stream",
     "text": [
      "The accuracy of the Random Forests model is :\t 0.5231481481481481\n"
     ]
    }
   ],
   "source": [
    "# Random Forest\n",
    "from sklearn.ensemble import RandomForestClassifier\n",
    "from sklearn import metrics\n",
    "\n",
    "random_forest = RandomForestClassifier(n_estimators=100, random_state=17)\n",
    "random_forest.fit(X_train, y_train)\n",
    "random_forest_preds = random_forest.predict(X_test_telock)\n",
    "print('The accuracy of the Random Forests model is :\\t',metrics.accuracy_score(random_forest_preds,y_test_telock))"
   ]
  },
  {
   "cell_type": "code",
   "execution_count": 86,
   "id": "10be4937",
   "metadata": {
    "execution": {
     "iopub.execute_input": "2024-01-23T13:29:49.174127Z",
     "iopub.status.busy": "2024-01-23T13:29:49.173453Z",
     "iopub.status.idle": "2024-01-23T13:29:49.191547Z",
     "shell.execute_reply": "2024-01-23T13:29:49.190159Z"
    },
    "papermill": {
     "duration": 0.050191,
     "end_time": "2024-01-23T13:29:49.193947",
     "exception": false,
     "start_time": "2024-01-23T13:29:49.143756",
     "status": "completed"
    },
    "tags": []
   },
   "outputs": [
    {
     "name": "stdout",
     "output_type": "stream",
     "text": [
      "True positive : 430 \n",
      "True negative : 22 \n",
      "False positive : 410 \n",
      "False negative : 2 \n",
      "Classification Report:\n",
      "               precision    recall  f1-score   support\n",
      "\n",
      "       False       0.92      0.05      0.10       432\n",
      "        True       0.51      1.00      0.68       432\n",
      "\n",
      "    accuracy                           0.52       864\n",
      "   macro avg       0.71      0.52      0.39       864\n",
      "weighted avg       0.71      0.52      0.39       864\n",
      "\n"
     ]
    }
   ],
   "source": [
    "mt = confusion_matrix(y_test_telock, random_forest_preds)\n",
    "report = classification_report(y_test_telock, random_forest_preds)\n",
    "print(\"True positive : %i \" % (mt[1][1]))\n",
    "print(\"True negative : %i \" % (mt[0][0]))\n",
    "print(\"False positive : %i \" % (mt[0][1]))\n",
    "print(\"False negative : %i \" % (mt[1][0]))\n",
    "print(\"Classification Report:\\n\", report)"
   ]
  },
  {
   "cell_type": "code",
   "execution_count": 87,
   "id": "4b518305",
   "metadata": {
    "execution": {
     "iopub.execute_input": "2024-01-23T13:29:49.254634Z",
     "iopub.status.busy": "2024-01-23T13:29:49.253918Z",
     "iopub.status.idle": "2024-01-23T13:29:52.702060Z",
     "shell.execute_reply": "2024-01-23T13:29:52.700935Z"
    },
    "papermill": {
     "duration": 3.481814,
     "end_time": "2024-01-23T13:29:52.704463",
     "exception": false,
     "start_time": "2024-01-23T13:29:49.222649",
     "status": "completed"
    },
    "tags": []
   },
   "outputs": [
    {
     "name": "stdout",
     "output_type": "stream",
     "text": [
      "The accuracy of the Random Forests model is :\t 0.7191780821917808\n"
     ]
    }
   ],
   "source": [
    "# Random Forest\n",
    "from sklearn.ensemble import RandomForestClassifier\n",
    "from sklearn import metrics\n",
    "\n",
    "random_forest_new = RandomForestClassifier(n_estimators=100, random_state=17)\n",
    "random_forest_new.fit(x_train_telock, y_train_telock)\n",
    "random_forest_preds_new = random_forest_new.predict(X_test)\n",
    "print('The accuracy of the Random Forests model is :\\t',metrics.accuracy_score(random_forest_preds_new,y_test))"
   ]
  },
  {
   "cell_type": "code",
   "execution_count": 88,
   "id": "ecb5a825",
   "metadata": {
    "execution": {
     "iopub.execute_input": "2024-01-23T13:29:52.763676Z",
     "iopub.status.busy": "2024-01-23T13:29:52.763265Z",
     "iopub.status.idle": "2024-01-23T13:29:52.781727Z",
     "shell.execute_reply": "2024-01-23T13:29:52.780727Z"
    },
    "papermill": {
     "duration": 0.050426,
     "end_time": "2024-01-23T13:29:52.784101",
     "exception": false,
     "start_time": "2024-01-23T13:29:52.733675",
     "status": "completed"
    },
    "tags": []
   },
   "outputs": [
    {
     "name": "stdout",
     "output_type": "stream",
     "text": [
      "True positive : 780 \n",
      "True negative : 690 \n",
      "False positive : 332 \n",
      "False negative : 242 \n",
      "Classification Report:\n",
      "               precision    recall  f1-score   support\n",
      "\n",
      "       False       0.74      0.68      0.71      1022\n",
      "        True       0.70      0.76      0.73      1022\n",
      "\n",
      "    accuracy                           0.72      2044\n",
      "   macro avg       0.72      0.72      0.72      2044\n",
      "weighted avg       0.72      0.72      0.72      2044\n",
      "\n"
     ]
    }
   ],
   "source": [
    "mt = confusion_matrix(y_test, random_forest_preds_new)\n",
    "report = classification_report(y_test, random_forest_preds_new)\n",
    "print(\"True positive : %i \" % (mt[1][1]))\n",
    "print(\"True negative : %i \" % (mt[0][0]))\n",
    "print(\"False positive : %i \" % (mt[0][1]))\n",
    "print(\"False negative : %i \" % (mt[1][0]))\n",
    "print(\"Classification Report:\\n\", report)"
   ]
  },
  {
   "cell_type": "markdown",
   "id": "6ebd2612",
   "metadata": {
    "papermill": {
     "duration": 0.029037,
     "end_time": "2024-01-23T13:29:52.842443",
     "exception": false,
     "start_time": "2024-01-23T13:29:52.813406",
     "status": "completed"
    },
    "tags": []
   },
   "source": [
    "# **themida**"
   ]
  },
  {
   "cell_type": "code",
   "execution_count": 89,
   "id": "ca858b16",
   "metadata": {
    "execution": {
     "iopub.execute_input": "2024-01-23T13:29:52.903726Z",
     "iopub.status.busy": "2024-01-23T13:29:52.903332Z",
     "iopub.status.idle": "2024-01-23T13:29:56.593888Z",
     "shell.execute_reply": "2024-01-23T13:29:56.593054Z"
    },
    "papermill": {
     "duration": 3.724192,
     "end_time": "2024-01-23T13:29:56.596539",
     "exception": false,
     "start_time": "2024-01-23T13:29:52.872347",
     "status": "completed"
    },
    "tags": []
   },
   "outputs": [],
   "source": [
    "themida = pd.read_pickle('/kaggle/input/packer-balance-pickle/themida_balance.pickle')"
   ]
  },
  {
   "cell_type": "code",
   "execution_count": 90,
   "id": "796f6677",
   "metadata": {
    "execution": {
     "iopub.execute_input": "2024-01-23T13:29:56.655278Z",
     "iopub.status.busy": "2024-01-23T13:29:56.654244Z",
     "iopub.status.idle": "2024-01-23T13:29:59.145560Z",
     "shell.execute_reply": "2024-01-23T13:29:59.144311Z"
    },
    "papermill": {
     "duration": 2.523032,
     "end_time": "2024-01-23T13:29:59.148160",
     "exception": false,
     "start_time": "2024-01-23T13:29:56.625128",
     "status": "completed"
    },
    "tags": []
   },
   "outputs": [],
   "source": [
    "themida = themida.drop(['sample_sha1','benign','unpacked_sample_sha1','unpacked_sample_id'], axis=1)\n",
    "themida = themida.drop(['benign_vt','malicious_vt'], axis=1)\n",
    "string_columns = themida.select_dtypes(include=['object']).columns\n",
    "themida = themida.drop(string_columns, axis=1)"
   ]
  },
  {
   "cell_type": "code",
   "execution_count": 91,
   "id": "9756516b",
   "metadata": {
    "execution": {
     "iopub.execute_input": "2024-01-23T13:29:59.207087Z",
     "iopub.status.busy": "2024-01-23T13:29:59.206678Z",
     "iopub.status.idle": "2024-01-23T13:30:00.823297Z",
     "shell.execute_reply": "2024-01-23T13:30:00.821917Z"
    },
    "papermill": {
     "duration": 1.649487,
     "end_time": "2024-01-23T13:30:00.826249",
     "exception": false,
     "start_time": "2024-01-23T13:29:59.176762",
     "status": "completed"
    },
    "tags": []
   },
   "outputs": [],
   "source": [
    "df_7000_themida = themida.sample(n=7000, random_state=102)\n",
    "df_3000_themida = themida.drop(df_7000_themida.index)\n",
    "data_themida = df_7000_themida.sample(n=3500, random_state=102)"
   ]
  },
  {
   "cell_type": "code",
   "execution_count": 92,
   "id": "8107685f",
   "metadata": {
    "execution": {
     "iopub.execute_input": "2024-01-23T13:30:00.887103Z",
     "iopub.status.busy": "2024-01-23T13:30:00.886702Z",
     "iopub.status.idle": "2024-01-23T13:30:03.279702Z",
     "shell.execute_reply": "2024-01-23T13:30:03.278373Z"
    },
    "papermill": {
     "duration": 2.426825,
     "end_time": "2024-01-23T13:30:03.282324",
     "exception": false,
     "start_time": "2024-01-23T13:30:00.855499",
     "status": "completed"
    },
    "tags": []
   },
   "outputs": [
    {
     "name": "stdout",
     "output_type": "stream",
     "text": [
      "Packed Malware: 2241 samples\n",
      "Packed Benign: 1259 samples\n",
      "Total TRAIN set: 3500 samples\n",
      "Packed Malware: 1259 samples\n",
      "Packed Benign: 1259 samples\n",
      "Total TRAIN set: 2518 samples\n",
      "Packed Malware: 1089 samples\n",
      "Packed Benign: 1089 samples\n",
      "Total TEST set: 2178 samples\n"
     ]
    }
   ],
   "source": [
    "#Kiểm tra số lượng mẫu\n",
    "PM = data_themida[(data_themida['malicious'] == True) & (data_themida['packed'] == True)].shape[0]\n",
    "PB = data_themida[(data_themida['malicious'] == False) & (data_themida['packed'] == True)].shape[0]\n",
    "print('Packed Malware: %i samples' % PM)\n",
    "print('Packed Benign: %i samples' % PB)\n",
    "print('Total TRAIN set: %i samples'% (PM+PB))\n",
    "\n",
    "#Chia tỉ lệ 50 - 50\n",
    "data_PM_themida = data_themida[(data_themida['malicious'] == True) & (data_themida['packed'] == True)].sample(n=(PM-PB), random_state=102)\n",
    "data_themida = data_themida.drop(data_PM_themida.index)\n",
    "\n",
    "#Số lượng tập train\n",
    "PM = data_themida[(data_themida['malicious'] == True) & (data_themida['packed'] == True)].shape[0]\n",
    "PB = data_themida[(data_themida['malicious'] == False) & (data_themida['packed'] == True)].shape[0]\n",
    "print('Packed Malware: %i samples' % PM)\n",
    "print('Packed Benign: %i samples' % PB)\n",
    "print('Total TRAIN set: %i samples'% (PM+PB))\n",
    "\n",
    "#Xử lý tập train\n",
    "y_themida = data_themida['malicious'].values\n",
    "data_themida = data_themida.drop(['malicious','packed'], axis=1)\n",
    "\n",
    "PM = df_3000_themida[(df_3000_themida['malicious'] == True) & (df_3000_themida['packed'] == True)].shape[0]\n",
    "PB = df_3000_themida[(df_3000_themida['malicious'] == False) & (df_3000_themida['packed'] == True)].shape[0]\n",
    "\n",
    "df_3000_PM_themida = df_3000_themida[(df_3000_themida['malicious'] == True) & (df_3000_themida['packed'] == True)].sample(n=(PM-PB), random_state=102)\n",
    "df_3000_themida = df_3000_themida.drop(df_3000_PM_themida.index)\n",
    "\n",
    "PM = df_3000_themida[(df_3000_themida['malicious'] == True) & (df_3000_themida['packed'] == True)].shape[0]\n",
    "PB = df_3000_themida[(df_3000_themida['malicious'] == False) & (df_3000_themida['packed'] == True)].shape[0]\n",
    "\n",
    "print('Packed Malware: %i samples' % PM)\n",
    "print('Packed Benign: %i samples' % PB)\n",
    "print('Total TEST set: %i samples'% (PM+PB))"
   ]
  },
  {
   "cell_type": "code",
   "execution_count": 93,
   "id": "4e1dc594",
   "metadata": {
    "execution": {
     "iopub.execute_input": "2024-01-23T13:30:03.344768Z",
     "iopub.status.busy": "2024-01-23T13:30:03.344344Z",
     "iopub.status.idle": "2024-01-23T13:30:03.602774Z",
     "shell.execute_reply": "2024-01-23T13:30:03.601407Z"
    },
    "papermill": {
     "duration": 0.291438,
     "end_time": "2024-01-23T13:30:03.605483",
     "exception": false,
     "start_time": "2024-01-23T13:30:03.314045",
     "status": "completed"
    },
    "tags": []
   },
   "outputs": [],
   "source": [
    "# model = SelectFromModel(fsel, prefit=True)\n",
    "\n",
    "X_train_themida = data_themida\n",
    "X_test_themida = df_3000_themida.drop(['malicious','packed'], axis=1)\n",
    "\n",
    "# data_themida = data_themida.loc[:, (data_themida != 0).any(axis=0)]\n",
    "x_train_themida = data_themida\n",
    "X_test_themida = df_3000_themida.drop(['malicious','packed'], axis=1)\n",
    "y_train_themida = y_themida\n",
    "y_test_themida = df_3000_themida['malicious'].values"
   ]
  },
  {
   "cell_type": "code",
   "execution_count": 94,
   "id": "e66cb552",
   "metadata": {
    "execution": {
     "iopub.execute_input": "2024-01-23T13:30:03.665475Z",
     "iopub.status.busy": "2024-01-23T13:30:03.665100Z",
     "iopub.status.idle": "2024-01-23T13:30:10.762933Z",
     "shell.execute_reply": "2024-01-23T13:30:10.761806Z"
    },
    "papermill": {
     "duration": 7.131029,
     "end_time": "2024-01-23T13:30:10.765630",
     "exception": false,
     "start_time": "2024-01-23T13:30:03.634601",
     "status": "completed"
    },
    "tags": []
   },
   "outputs": [
    {
     "name": "stdout",
     "output_type": "stream",
     "text": [
      "The accuracy of the Random Forests model is :\t 0.8044077134986226\n"
     ]
    }
   ],
   "source": [
    "# Random Forest\n",
    "from sklearn.ensemble import RandomForestClassifier\n",
    "from sklearn import metrics\n",
    "\n",
    "random_forest = RandomForestClassifier(n_estimators=100, random_state=17)\n",
    "random_forest.fit(X_train, y_train)\n",
    "random_forest_preds = random_forest.predict(X_test_themida)\n",
    "print('The accuracy of the Random Forests model is :\\t',metrics.accuracy_score(random_forest_preds,y_test_themida))"
   ]
  },
  {
   "cell_type": "code",
   "execution_count": 95,
   "id": "00653517",
   "metadata": {
    "execution": {
     "iopub.execute_input": "2024-01-23T13:30:10.825056Z",
     "iopub.status.busy": "2024-01-23T13:30:10.824632Z",
     "iopub.status.idle": "2024-01-23T13:30:10.845150Z",
     "shell.execute_reply": "2024-01-23T13:30:10.843868Z"
    },
    "papermill": {
     "duration": 0.052851,
     "end_time": "2024-01-23T13:30:10.847395",
     "exception": false,
     "start_time": "2024-01-23T13:30:10.794544",
     "status": "completed"
    },
    "tags": []
   },
   "outputs": [
    {
     "name": "stdout",
     "output_type": "stream",
     "text": [
      "True positive : 1080 \n",
      "True negative : 672 \n",
      "False positive : 417 \n",
      "False negative : 9 \n",
      "Classification Report:\n",
      "               precision    recall  f1-score   support\n",
      "\n",
      "       False       0.99      0.62      0.76      1089\n",
      "        True       0.72      0.99      0.84      1089\n",
      "\n",
      "    accuracy                           0.80      2178\n",
      "   macro avg       0.85      0.80      0.80      2178\n",
      "weighted avg       0.85      0.80      0.80      2178\n",
      "\n"
     ]
    }
   ],
   "source": [
    "mt = confusion_matrix(y_test_themida, random_forest_preds)\n",
    "report = classification_report(y_test_themida, random_forest_preds)\n",
    "print(\"True positive : %i \" % (mt[1][1]))\n",
    "print(\"True negative : %i \" % (mt[0][0]))\n",
    "print(\"False positive : %i \" % (mt[0][1]))\n",
    "print(\"False negative : %i \" % (mt[1][0]))\n",
    "print(\"Classification Report:\\n\", report)"
   ]
  },
  {
   "cell_type": "code",
   "execution_count": 96,
   "id": "d16074a5",
   "metadata": {
    "execution": {
     "iopub.execute_input": "2024-01-23T13:30:10.908213Z",
     "iopub.status.busy": "2024-01-23T13:30:10.907525Z",
     "iopub.status.idle": "2024-01-23T13:30:17.145885Z",
     "shell.execute_reply": "2024-01-23T13:30:17.144278Z"
    },
    "papermill": {
     "duration": 6.272066,
     "end_time": "2024-01-23T13:30:17.148446",
     "exception": false,
     "start_time": "2024-01-23T13:30:10.876380",
     "status": "completed"
    },
    "tags": []
   },
   "outputs": [
    {
     "name": "stdout",
     "output_type": "stream",
     "text": [
      "The accuracy of the Random Forests model is :\t 0.8370841487279843\n"
     ]
    }
   ],
   "source": [
    "# Random Forest\n",
    "from sklearn.ensemble import RandomForestClassifier\n",
    "from sklearn import metrics\n",
    "\n",
    "random_forest_new = RandomForestClassifier(n_estimators=100, random_state=17)\n",
    "random_forest_new.fit(x_train_themida, y_train_themida)\n",
    "random_forest_preds_new = random_forest_new.predict(X_test)\n",
    "print('The accuracy of the Random Forests model is :\\t',metrics.accuracy_score(random_forest_preds_new,y_test))"
   ]
  },
  {
   "cell_type": "code",
   "execution_count": 97,
   "id": "527f466b",
   "metadata": {
    "execution": {
     "iopub.execute_input": "2024-01-23T13:30:17.221271Z",
     "iopub.status.busy": "2024-01-23T13:30:17.220825Z",
     "iopub.status.idle": "2024-01-23T13:30:17.240317Z",
     "shell.execute_reply": "2024-01-23T13:30:17.239080Z"
    },
    "papermill": {
     "duration": 0.059402,
     "end_time": "2024-01-23T13:30:17.243272",
     "exception": false,
     "start_time": "2024-01-23T13:30:17.183870",
     "status": "completed"
    },
    "tags": []
   },
   "outputs": [
    {
     "name": "stdout",
     "output_type": "stream",
     "text": [
      "True positive : 918 \n",
      "True negative : 793 \n",
      "False positive : 229 \n",
      "False negative : 104 \n",
      "Classification Report:\n",
      "               precision    recall  f1-score   support\n",
      "\n",
      "       False       0.88      0.78      0.83      1022\n",
      "        True       0.80      0.90      0.85      1022\n",
      "\n",
      "    accuracy                           0.84      2044\n",
      "   macro avg       0.84      0.84      0.84      2044\n",
      "weighted avg       0.84      0.84      0.84      2044\n",
      "\n"
     ]
    }
   ],
   "source": [
    "mt = confusion_matrix(y_test, random_forest_preds_new)\n",
    "report = classification_report(y_test, random_forest_preds_new)\n",
    "print(\"True positive : %i \" % (mt[1][1]))\n",
    "print(\"True negative : %i \" % (mt[0][0]))\n",
    "print(\"False positive : %i \" % (mt[0][1]))\n",
    "print(\"False negative : %i \" % (mt[1][0]))\n",
    "print(\"Classification Report:\\n\", report)"
   ]
  },
  {
   "cell_type": "markdown",
   "id": "2ed93d72",
   "metadata": {
    "papermill": {
     "duration": 0.03045,
     "end_time": "2024-01-23T13:30:17.308806",
     "exception": false,
     "start_time": "2024-01-23T13:30:17.278356",
     "status": "completed"
    },
    "tags": []
   },
   "source": [
    "# **upx**"
   ]
  },
  {
   "cell_type": "code",
   "execution_count": 98,
   "id": "49e39001",
   "metadata": {
    "execution": {
     "iopub.execute_input": "2024-01-23T13:30:17.375660Z",
     "iopub.status.busy": "2024-01-23T13:30:17.374790Z",
     "iopub.status.idle": "2024-01-23T13:30:20.763472Z",
     "shell.execute_reply": "2024-01-23T13:30:20.762197Z"
    },
    "papermill": {
     "duration": 3.423021,
     "end_time": "2024-01-23T13:30:20.766224",
     "exception": false,
     "start_time": "2024-01-23T13:30:17.343203",
     "status": "completed"
    },
    "tags": []
   },
   "outputs": [],
   "source": [
    "upx = pd.read_pickle('/kaggle/input/packer-balance-pickle/upx_balance.pickle')"
   ]
  },
  {
   "cell_type": "code",
   "execution_count": 99,
   "id": "08a45b01",
   "metadata": {
    "execution": {
     "iopub.execute_input": "2024-01-23T13:30:20.827727Z",
     "iopub.status.busy": "2024-01-23T13:30:20.827302Z",
     "iopub.status.idle": "2024-01-23T13:30:23.533478Z",
     "shell.execute_reply": "2024-01-23T13:30:23.532461Z"
    },
    "papermill": {
     "duration": 2.740222,
     "end_time": "2024-01-23T13:30:23.536219",
     "exception": false,
     "start_time": "2024-01-23T13:30:20.795997",
     "status": "completed"
    },
    "tags": []
   },
   "outputs": [],
   "source": [
    "upx = upx.drop(['sample_sha1','benign','unpacked_sample_sha1','unpacked_sample_id'], axis=1)\n",
    "upx = upx.drop(['benign_vt','malicious_vt'], axis=1)\n",
    "string_columns = upx.select_dtypes(include=['object']).columns\n",
    "upx = upx.drop(string_columns, axis=1)"
   ]
  },
  {
   "cell_type": "code",
   "execution_count": 100,
   "id": "9da68b61",
   "metadata": {
    "execution": {
     "iopub.execute_input": "2024-01-23T13:30:23.596457Z",
     "iopub.status.busy": "2024-01-23T13:30:23.596080Z",
     "iopub.status.idle": "2024-01-23T13:30:25.449228Z",
     "shell.execute_reply": "2024-01-23T13:30:25.448025Z"
    },
    "papermill": {
     "duration": 1.886136,
     "end_time": "2024-01-23T13:30:25.452051",
     "exception": false,
     "start_time": "2024-01-23T13:30:23.565915",
     "status": "completed"
    },
    "tags": []
   },
   "outputs": [],
   "source": [
    "df_7000_upx = upx.sample(n=7000, random_state=102)\n",
    "df_3000_upx = upx.drop(df_7000_upx.index)\n",
    "data_upx = df_7000_upx.sample(n=3500, random_state=102)"
   ]
  },
  {
   "cell_type": "code",
   "execution_count": 101,
   "id": "83c40a9a",
   "metadata": {
    "execution": {
     "iopub.execute_input": "2024-01-23T13:30:25.512155Z",
     "iopub.status.busy": "2024-01-23T13:30:25.511749Z",
     "iopub.status.idle": "2024-01-23T13:30:28.155365Z",
     "shell.execute_reply": "2024-01-23T13:30:28.153927Z"
    },
    "papermill": {
     "duration": 2.676268,
     "end_time": "2024-01-23T13:30:28.157834",
     "exception": false,
     "start_time": "2024-01-23T13:30:25.481566",
     "status": "completed"
    },
    "tags": []
   },
   "outputs": [
    {
     "name": "stdout",
     "output_type": "stream",
     "text": [
      "Packed Malware: 2391 samples\n",
      "Packed Benign: 1109 samples\n",
      "Total TRAIN set: 3500 samples\n",
      "Packed Malware: 1109 samples\n",
      "Packed Benign: 1109 samples\n",
      "Total TRAIN set: 2218 samples\n",
      "Packed Malware: 974 samples\n",
      "Packed Benign: 974 samples\n",
      "Total TEST set: 1948 samples\n"
     ]
    }
   ],
   "source": [
    "#Kiểm tra số lượng mẫu\n",
    "PM = data_upx[(data_upx['malicious'] == True) & (data_upx['packed'] == True)].shape[0]\n",
    "PB = data_upx[(data_upx['malicious'] == False) & (data_upx['packed'] == True)].shape[0]\n",
    "print('Packed Malware: %i samples' % PM)\n",
    "print('Packed Benign: %i samples' % PB)\n",
    "print('Total TRAIN set: %i samples'% (PM+PB))\n",
    "\n",
    "#Chia tỉ lệ 50 - 50\n",
    "data_PM_upx = data_upx[(data_upx['malicious'] == True) & (data_upx['packed'] == True)].sample(n=(PM-PB), random_state=102)\n",
    "data_upx = data_upx.drop(data_PM_upx.index)\n",
    "\n",
    "#Số lượng tập train\n",
    "PM = data_upx[(data_upx['malicious'] == True) & (data_upx['packed'] == True)].shape[0]\n",
    "PB = data_upx[(data_upx['malicious'] == False) & (data_upx['packed'] == True)].shape[0]\n",
    "print('Packed Malware: %i samples' % PM)\n",
    "print('Packed Benign: %i samples' % PB)\n",
    "print('Total TRAIN set: %i samples'% (PM+PB))\n",
    "\n",
    "#Xử lý tập train\n",
    "y_upx = data_upx['malicious'].values\n",
    "data_upx = data_upx.drop(['malicious','packed'], axis=1)\n",
    "\n",
    "PM = df_3000_upx[(df_3000_upx['malicious'] == True) & (df_3000_upx['packed'] == True)].shape[0]\n",
    "PB = df_3000_upx[(df_3000_upx['malicious'] == False) & (df_3000_upx['packed'] == True)].shape[0]\n",
    "\n",
    "df_3000_PM_upx = df_3000_upx[(df_3000_upx['malicious'] == True) & (df_3000_upx['packed'] == True)].sample(n=(PM-PB), random_state=102)\n",
    "df_3000_upx = df_3000_upx.drop(df_3000_PM_upx.index)\n",
    "\n",
    "PM = df_3000_upx[(df_3000_upx['malicious'] == True) & (df_3000_upx['packed'] == True)].shape[0]\n",
    "PB = df_3000_upx[(df_3000_upx['malicious'] == False) & (df_3000_upx['packed'] == True)].shape[0]\n",
    "\n",
    "print('Packed Malware: %i samples' % PM)\n",
    "print('Packed Benign: %i samples' % PB)\n",
    "print('Total TEST set: %i samples'% (PM+PB))"
   ]
  },
  {
   "cell_type": "code",
   "execution_count": 102,
   "id": "09230104",
   "metadata": {
    "execution": {
     "iopub.execute_input": "2024-01-23T13:30:28.218730Z",
     "iopub.status.busy": "2024-01-23T13:30:28.218324Z",
     "iopub.status.idle": "2024-01-23T13:30:28.532303Z",
     "shell.execute_reply": "2024-01-23T13:30:28.530856Z"
    },
    "papermill": {
     "duration": 0.347119,
     "end_time": "2024-01-23T13:30:28.534936",
     "exception": false,
     "start_time": "2024-01-23T13:30:28.187817",
     "status": "completed"
    },
    "tags": []
   },
   "outputs": [],
   "source": [
    "# model = SelectFromModel(fsel, prefit=True)\n",
    "\n",
    "X_train_upx = data_upx\n",
    "X_test_upx = df_3000_upx.drop(['malicious','packed'], axis=1)\n",
    "\n",
    "# data_upx = data_upx.loc[:, (data_upx != 0).any(axis=0)]\n",
    "x_train_upx = data_upx\n",
    "X_test_upx = df_3000_upx.drop(['malicious','packed'], axis=1)\n",
    "y_train_upx = y_upx\n",
    "y_test_upx = df_3000_upx['malicious'].values"
   ]
  },
  {
   "cell_type": "code",
   "execution_count": 103,
   "id": "fe13046c",
   "metadata": {
    "execution": {
     "iopub.execute_input": "2024-01-23T13:30:28.597008Z",
     "iopub.status.busy": "2024-01-23T13:30:28.596196Z",
     "iopub.status.idle": "2024-01-23T13:30:35.501588Z",
     "shell.execute_reply": "2024-01-23T13:30:35.500449Z"
    },
    "papermill": {
     "duration": 6.939275,
     "end_time": "2024-01-23T13:30:35.504036",
     "exception": false,
     "start_time": "2024-01-23T13:30:28.564761",
     "status": "completed"
    },
    "tags": []
   },
   "outputs": [
    {
     "name": "stdout",
     "output_type": "stream",
     "text": [
      "The accuracy of the Random Forests model is :\t 0.7659137577002053\n"
     ]
    }
   ],
   "source": [
    "# Random Forest\n",
    "from sklearn.ensemble import RandomForestClassifier\n",
    "from sklearn import metrics\n",
    "\n",
    "random_forest = RandomForestClassifier(n_estimators=100, random_state=17)\n",
    "random_forest.fit(X_train, y_train)\n",
    "random_forest_preds = random_forest.predict(X_test_upx)\n",
    "print('The accuracy of the Random Forests model is :\\t',metrics.accuracy_score(random_forest_preds,y_test_upx))"
   ]
  },
  {
   "cell_type": "code",
   "execution_count": 104,
   "id": "66ba7c2b",
   "metadata": {
    "execution": {
     "iopub.execute_input": "2024-01-23T13:30:35.565257Z",
     "iopub.status.busy": "2024-01-23T13:30:35.564564Z",
     "iopub.status.idle": "2024-01-23T13:30:35.583345Z",
     "shell.execute_reply": "2024-01-23T13:30:35.582183Z"
    },
    "papermill": {
     "duration": 0.052374,
     "end_time": "2024-01-23T13:30:35.585806",
     "exception": false,
     "start_time": "2024-01-23T13:30:35.533432",
     "status": "completed"
    },
    "tags": []
   },
   "outputs": [
    {
     "name": "stdout",
     "output_type": "stream",
     "text": [
      "True positive : 919 \n",
      "True negative : 573 \n",
      "False positive : 401 \n",
      "False negative : 55 \n",
      "Classification Report:\n",
      "               precision    recall  f1-score   support\n",
      "\n",
      "       False       0.91      0.59      0.72       974\n",
      "        True       0.70      0.94      0.80       974\n",
      "\n",
      "    accuracy                           0.77      1948\n",
      "   macro avg       0.80      0.77      0.76      1948\n",
      "weighted avg       0.80      0.77      0.76      1948\n",
      "\n"
     ]
    }
   ],
   "source": [
    "mt = confusion_matrix(y_test_upx, random_forest_preds)\n",
    "report = classification_report(y_test_upx, random_forest_preds)\n",
    "print(\"True positive : %i \" % (mt[1][1]))\n",
    "print(\"True negative : %i \" % (mt[0][0]))\n",
    "print(\"False positive : %i \" % (mt[0][1]))\n",
    "print(\"False negative : %i \" % (mt[1][0]))\n",
    "print(\"Classification Report:\\n\", report)"
   ]
  },
  {
   "cell_type": "code",
   "execution_count": 105,
   "id": "9f430ef1",
   "metadata": {
    "execution": {
     "iopub.execute_input": "2024-01-23T13:30:35.647354Z",
     "iopub.status.busy": "2024-01-23T13:30:35.646889Z",
     "iopub.status.idle": "2024-01-23T13:30:41.909189Z",
     "shell.execute_reply": "2024-01-23T13:30:41.908008Z"
    },
    "papermill": {
     "duration": 6.295903,
     "end_time": "2024-01-23T13:30:41.911514",
     "exception": false,
     "start_time": "2024-01-23T13:30:35.615611",
     "status": "completed"
    },
    "tags": []
   },
   "outputs": [
    {
     "name": "stdout",
     "output_type": "stream",
     "text": [
      "The accuracy of the Random Forests model is :\t 0.8850293542074364\n"
     ]
    }
   ],
   "source": [
    "# Random Forest\n",
    "from sklearn.ensemble import RandomForestClassifier\n",
    "from sklearn import metrics\n",
    "\n",
    "random_forest_new = RandomForestClassifier(n_estimators=100, random_state=17)\n",
    "random_forest_new.fit(x_train_upx, y_train_upx)\n",
    "random_forest_preds_new = random_forest_new.predict(X_test)\n",
    "print('The accuracy of the Random Forests model is :\\t',metrics.accuracy_score(random_forest_preds_new,y_test))"
   ]
  },
  {
   "cell_type": "code",
   "execution_count": 106,
   "id": "f8371450",
   "metadata": {
    "execution": {
     "iopub.execute_input": "2024-01-23T13:30:41.973571Z",
     "iopub.status.busy": "2024-01-23T13:30:41.972916Z",
     "iopub.status.idle": "2024-01-23T13:30:41.990886Z",
     "shell.execute_reply": "2024-01-23T13:30:41.989754Z"
    },
    "papermill": {
     "duration": 0.051755,
     "end_time": "2024-01-23T13:30:41.993267",
     "exception": false,
     "start_time": "2024-01-23T13:30:41.941512",
     "status": "completed"
    },
    "tags": []
   },
   "outputs": [
    {
     "name": "stdout",
     "output_type": "stream",
     "text": [
      "True positive : 927 \n",
      "True negative : 882 \n",
      "False positive : 140 \n",
      "False negative : 95 \n",
      "Classification Report:\n",
      "               precision    recall  f1-score   support\n",
      "\n",
      "       False       0.90      0.86      0.88      1022\n",
      "        True       0.87      0.91      0.89      1022\n",
      "\n",
      "    accuracy                           0.89      2044\n",
      "   macro avg       0.89      0.89      0.88      2044\n",
      "weighted avg       0.89      0.89      0.88      2044\n",
      "\n"
     ]
    }
   ],
   "source": [
    "mt = confusion_matrix(y_test, random_forest_preds_new)\n",
    "report = classification_report(y_test, random_forest_preds_new)\n",
    "print(\"True positive : %i \" % (mt[1][1]))\n",
    "print(\"True negative : %i \" % (mt[0][0]))\n",
    "print(\"False positive : %i \" % (mt[0][1]))\n",
    "print(\"False negative : %i \" % (mt[1][0]))\n",
    "print(\"Classification Report:\\n\", report)"
   ]
  }
 ],
 "metadata": {
  "kaggle": {
   "accelerator": "none",
   "dataSources": [
    {
     "datasetId": 4029702,
     "sourceId": 7009208,
     "sourceType": "datasetVersion"
    },
    {
     "datasetId": 4192384,
     "sourceId": 7262652,
     "sourceType": "datasetVersion"
    }
   ],
   "dockerImageVersionId": 30626,
   "isGpuEnabled": false,
   "isInternetEnabled": true,
   "language": "python",
   "sourceType": "notebook"
  },
  "kernelspec": {
   "display_name": "Python 3",
   "language": "python",
   "name": "python3"
  },
  "language_info": {
   "codemirror_mode": {
    "name": "ipython",
    "version": 3
   },
   "file_extension": ".py",
   "mimetype": "text/x-python",
   "name": "python",
   "nbconvert_exporter": "python",
   "pygments_lexer": "ipython3",
   "version": "3.10.12"
  },
  "papermill": {
   "default_parameters": {},
   "duration": 303.389026,
   "end_time": "2024-01-23T13:30:43.549363",
   "environment_variables": {},
   "exception": null,
   "input_path": "__notebook__.ipynb",
   "output_path": "__notebook__.ipynb",
   "parameters": {},
   "start_time": "2024-01-23T13:25:40.160337",
   "version": "2.4.0"
  }
 },
 "nbformat": 4,
 "nbformat_minor": 5
}
