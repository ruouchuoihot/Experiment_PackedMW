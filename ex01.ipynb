{
 "cells": [
  {
   "cell_type": "code",
   "execution_count": 1,
   "id": "1ae580dd",
   "metadata": {
    "execution": {
     "iopub.execute_input": "2024-01-23T11:52:27.627955Z",
     "iopub.status.busy": "2024-01-23T11:52:27.627170Z",
     "iopub.status.idle": "2024-01-23T11:52:29.573323Z",
     "shell.execute_reply": "2024-01-23T11:52:29.572466Z"
    },
    "executionInfo": {
     "elapsed": 1870,
     "status": "ok",
     "timestamp": 1705682966092,
     "user": {
      "displayName": "Dương Nguyễn Thái",
      "userId": "12957457548527420432"
     },
     "user_tz": -420
    },
    "id": "xvIRuvqBq6Cn",
    "papermill": {
     "duration": 1.9621,
     "end_time": "2024-01-23T11:52:29.575886",
     "exception": false,
     "start_time": "2024-01-23T11:52:27.613786",
     "status": "completed"
    },
    "tags": []
   },
   "outputs": [],
   "source": [
    "import pandas as pd\n",
    "import numpy as np\n",
    "import sklearn\n",
    "import sklearn.naive_bayes\n",
    "import sklearn.ensemble as ske\n",
    "import sklearn.neighbors\n",
    "import sklearn.pipeline\n",
    "import sklearn.linear_model\n",
    "import joblib\n",
    "from sklearn import preprocessing\n",
    "from sklearn import tree, linear_model\n",
    "from sklearn.metrics import confusion_matrix\n",
    "from sklearn.metrics import classification_report\n",
    "from sklearn.feature_selection import SelectFromModel\n",
    "import sys\n",
    "import sqlite3\n",
    "import importlib"
   ]
  },
  {
   "cell_type": "code",
   "execution_count": 2,
   "id": "1eb37ff9",
   "metadata": {
    "execution": {
     "iopub.execute_input": "2024-01-23T11:52:29.600547Z",
     "iopub.status.busy": "2024-01-23T11:52:29.599782Z",
     "iopub.status.idle": "2024-01-23T11:52:58.219257Z",
     "shell.execute_reply": "2024-01-23T11:52:58.218443Z"
    },
    "executionInfo": {
     "elapsed": 45984,
     "status": "ok",
     "timestamp": 1705683030569,
     "user": {
      "displayName": "Dương Nguyễn Thái",
      "userId": "12957457548527420432"
     },
     "user_tz": -420
    },
    "id": "K86e28lUcVqm",
    "papermill": {
     "duration": 28.634269,
     "end_time": "2024-01-23T11:52:58.221715",
     "exception": false,
     "start_time": "2024-01-23T11:52:29.587446",
     "status": "completed"
    },
    "tags": []
   },
   "outputs": [],
   "source": [
    "df_wild = pd.read_pickle('/kaggle/input/wild-pickle/wild.pickle')"
   ]
  },
  {
   "cell_type": "code",
   "execution_count": 3,
   "id": "fb86d5c1",
   "metadata": {
    "execution": {
     "iopub.execute_input": "2024-01-23T11:52:58.246228Z",
     "iopub.status.busy": "2024-01-23T11:52:58.245641Z",
     "iopub.status.idle": "2024-01-23T11:53:01.563662Z",
     "shell.execute_reply": "2024-01-23T11:53:01.562150Z"
    },
    "executionInfo": {
     "elapsed": 5477,
     "status": "ok",
     "timestamp": 1705683036043,
     "user": {
      "displayName": "Dương Nguyễn Thái",
      "userId": "12957457548527420432"
     },
     "user_tz": -420
    },
    "id": "k0SlmwPzdcgx",
    "outputId": "94bbc054-0405-4e70-976d-93f35cae7184",
    "papermill": {
     "duration": 3.33292,
     "end_time": "2024-01-23T11:53:01.566081",
     "exception": false,
     "start_time": "2024-01-23T11:52:58.233161",
     "status": "completed"
    },
    "tags": []
   },
   "outputs": [
    {
     "name": "stdout",
     "output_type": "stream",
     "text": [
      "considering samples with size less than 1000000 bytes, 50724 ----> 37354\n"
     ]
    }
   ],
   "source": [
    "MAX_LENGTH = int(1e6)\n",
    "prev_size = len(df_wild)\n",
    "df_wild = df_wild[df_wild['generic_fileSize'] <= MAX_LENGTH]\n",
    "print(\"considering samples with size less than {} bytes, {} ----> {}\".format(MAX_LENGTH, prev_size, len(df_wild)))"
   ]
  },
  {
   "cell_type": "code",
   "execution_count": 4,
   "id": "a103d47a",
   "metadata": {
    "execution": {
     "iopub.execute_input": "2024-01-23T11:53:01.590043Z",
     "iopub.status.busy": "2024-01-23T11:53:01.589390Z",
     "iopub.status.idle": "2024-01-23T11:53:01.594604Z",
     "shell.execute_reply": "2024-01-23T11:53:01.593633Z"
    },
    "executionInfo": {
     "elapsed": 9,
     "status": "ok",
     "timestamp": 1705683036044,
     "user": {
      "displayName": "Dương Nguyễn Thái",
      "userId": "12957457548527420432"
     },
     "user_tz": -420
    },
    "id": "Z6Is8Ea3h7Us",
    "outputId": "87f8c579-e4df-489e-e616-52bb2e6323ae",
    "papermill": {
     "duration": 0.019611,
     "end_time": "2024-01-23T11:53:01.596634",
     "exception": false,
     "start_time": "2024-01-23T11:53:01.577023",
     "status": "completed"
    },
    "tags": []
   },
   "outputs": [
    {
     "name": "stdout",
     "output_type": "stream",
     "text": [
      "(37354, 56555)\n"
     ]
    }
   ],
   "source": [
    "print(df_wild.shape)"
   ]
  },
  {
   "cell_type": "code",
   "execution_count": 5,
   "id": "3a2095af",
   "metadata": {
    "execution": {
     "iopub.execute_input": "2024-01-23T11:53:01.620000Z",
     "iopub.status.busy": "2024-01-23T11:53:01.619621Z",
     "iopub.status.idle": "2024-01-23T11:53:01.655590Z",
     "shell.execute_reply": "2024-01-23T11:53:01.654633Z"
    },
    "executionInfo": {
     "elapsed": 8,
     "status": "ok",
     "timestamp": 1705683036044,
     "user": {
      "displayName": "Dương Nguyễn Thái",
      "userId": "12957457548527420432"
     },
     "user_tz": -420
    },
    "id": "6XyZ425wATTP",
    "outputId": "42d2630f-2c4c-4248-e2d6-1486b0091926",
    "papermill": {
     "duration": 0.050399,
     "end_time": "2024-01-23T11:53:01.657898",
     "exception": false,
     "start_time": "2024-01-23T11:53:01.607499",
     "status": "completed"
    },
    "tags": []
   },
   "outputs": [
    {
     "data": {
      "text/html": [
       "<div>\n",
       "<style scoped>\n",
       "    .dataframe tbody tr th:only-of-type {\n",
       "        vertical-align: middle;\n",
       "    }\n",
       "\n",
       "    .dataframe tbody tr th {\n",
       "        vertical-align: top;\n",
       "    }\n",
       "\n",
       "    .dataframe thead th {\n",
       "        text-align: right;\n",
       "    }\n",
       "</style>\n",
       "<table border=\"1\" class=\"dataframe\">\n",
       "  <thead>\n",
       "    <tr style=\"text-align: right;\">\n",
       "      <th></th>\n",
       "      <th>sample_sha1</th>\n",
       "      <th>benign</th>\n",
       "      <th>malicious</th>\n",
       "      <th>packed</th>\n",
       "      <th>unpacked_sample_sha1</th>\n",
       "      <th>unpacked_sample_id</th>\n",
       "      <th>packer_name</th>\n",
       "      <th>imp_setupremovefilelogentrya</th>\n",
       "      <th>imp_vardeccmp</th>\n",
       "      <th>imp_setdlgitemint</th>\n",
       "      <th>...</th>\n",
       "      <th>opcode_xor sub mov</th>\n",
       "      <th>opcode_xor sub mov add</th>\n",
       "      <th>opcode_xor test</th>\n",
       "      <th>opcode_xor test je</th>\n",
       "      <th>opcode_xor xor</th>\n",
       "      <th>opcode_xor xor mov</th>\n",
       "      <th>opcode_xor xor pop</th>\n",
       "      <th>opcode_xor xor pop mov</th>\n",
       "      <th>opcode_xor xor xor</th>\n",
       "      <th>opcode_xor xor xor pop</th>\n",
       "    </tr>\n",
       "  </thead>\n",
       "  <tbody>\n",
       "    <tr>\n",
       "      <th>1</th>\n",
       "      <td>a2aac23e17be570c647fd22080e05b0e58449565</td>\n",
       "      <td>True</td>\n",
       "      <td>False</td>\n",
       "      <td>True</td>\n",
       "      <td>-1</td>\n",
       "      <td>-1</td>\n",
       "      <td>none</td>\n",
       "      <td>False</td>\n",
       "      <td>False</td>\n",
       "      <td>False</td>\n",
       "      <td>...</td>\n",
       "      <td>0.000022</td>\n",
       "      <td>0.0</td>\n",
       "      <td>0.000088</td>\n",
       "      <td>0.000084</td>\n",
       "      <td>0.000070</td>\n",
       "      <td>0.000066</td>\n",
       "      <td>0.000028</td>\n",
       "      <td>0.0</td>\n",
       "      <td>0.000053</td>\n",
       "      <td>0.0</td>\n",
       "    </tr>\n",
       "    <tr>\n",
       "      <th>2</th>\n",
       "      <td>c3aa534bbd20f3a3dd8e7a457f625291af9d0fe4</td>\n",
       "      <td>False</td>\n",
       "      <td>True</td>\n",
       "      <td>True</td>\n",
       "      <td>-1</td>\n",
       "      <td>-1</td>\n",
       "      <td>none</td>\n",
       "      <td>False</td>\n",
       "      <td>False</td>\n",
       "      <td>False</td>\n",
       "      <td>...</td>\n",
       "      <td>0.000000</td>\n",
       "      <td>0.0</td>\n",
       "      <td>0.000000</td>\n",
       "      <td>0.000000</td>\n",
       "      <td>0.000309</td>\n",
       "      <td>0.000000</td>\n",
       "      <td>0.000000</td>\n",
       "      <td>0.0</td>\n",
       "      <td>0.000331</td>\n",
       "      <td>0.0</td>\n",
       "    </tr>\n",
       "    <tr>\n",
       "      <th>10</th>\n",
       "      <td>15cb9eab6b0f0ccd718a9235f07046dff100789f</td>\n",
       "      <td>False</td>\n",
       "      <td>True</td>\n",
       "      <td>True</td>\n",
       "      <td>-1</td>\n",
       "      <td>-1</td>\n",
       "      <td>none</td>\n",
       "      <td>False</td>\n",
       "      <td>False</td>\n",
       "      <td>False</td>\n",
       "      <td>...</td>\n",
       "      <td>0.000000</td>\n",
       "      <td>0.0</td>\n",
       "      <td>0.000000</td>\n",
       "      <td>0.000000</td>\n",
       "      <td>0.000000</td>\n",
       "      <td>0.000000</td>\n",
       "      <td>0.000000</td>\n",
       "      <td>0.0</td>\n",
       "      <td>0.000000</td>\n",
       "      <td>0.0</td>\n",
       "    </tr>\n",
       "    <tr>\n",
       "      <th>12</th>\n",
       "      <td>8792cf08950abada1572b47948e86c9fce26c01a</td>\n",
       "      <td>True</td>\n",
       "      <td>False</td>\n",
       "      <td>True</td>\n",
       "      <td>-1</td>\n",
       "      <td>-1</td>\n",
       "      <td>none</td>\n",
       "      <td>False</td>\n",
       "      <td>False</td>\n",
       "      <td>False</td>\n",
       "      <td>...</td>\n",
       "      <td>0.000000</td>\n",
       "      <td>0.0</td>\n",
       "      <td>0.000000</td>\n",
       "      <td>0.000000</td>\n",
       "      <td>0.000000</td>\n",
       "      <td>0.000000</td>\n",
       "      <td>0.000000</td>\n",
       "      <td>0.0</td>\n",
       "      <td>0.000000</td>\n",
       "      <td>0.0</td>\n",
       "    </tr>\n",
       "    <tr>\n",
       "      <th>13</th>\n",
       "      <td>353a955ae9919f7b639d74394e3c1149f0189362</td>\n",
       "      <td>True</td>\n",
       "      <td>False</td>\n",
       "      <td>True</td>\n",
       "      <td>-1</td>\n",
       "      <td>-1</td>\n",
       "      <td>none</td>\n",
       "      <td>False</td>\n",
       "      <td>False</td>\n",
       "      <td>False</td>\n",
       "      <td>...</td>\n",
       "      <td>0.000000</td>\n",
       "      <td>0.0</td>\n",
       "      <td>0.000204</td>\n",
       "      <td>0.000190</td>\n",
       "      <td>0.000066</td>\n",
       "      <td>0.000091</td>\n",
       "      <td>0.000000</td>\n",
       "      <td>0.0</td>\n",
       "      <td>0.000000</td>\n",
       "      <td>0.0</td>\n",
       "    </tr>\n",
       "  </tbody>\n",
       "</table>\n",
       "<p>5 rows × 56555 columns</p>\n",
       "</div>"
      ],
      "text/plain": [
       "                                 sample_sha1  benign  malicious  packed  \\\n",
       "1   a2aac23e17be570c647fd22080e05b0e58449565    True      False    True   \n",
       "2   c3aa534bbd20f3a3dd8e7a457f625291af9d0fe4   False       True    True   \n",
       "10  15cb9eab6b0f0ccd718a9235f07046dff100789f   False       True    True   \n",
       "12  8792cf08950abada1572b47948e86c9fce26c01a    True      False    True   \n",
       "13  353a955ae9919f7b639d74394e3c1149f0189362    True      False    True   \n",
       "\n",
       "   unpacked_sample_sha1  unpacked_sample_id packer_name  \\\n",
       "1                    -1                  -1        none   \n",
       "2                    -1                  -1        none   \n",
       "10                   -1                  -1        none   \n",
       "12                   -1                  -1        none   \n",
       "13                   -1                  -1        none   \n",
       "\n",
       "    imp_setupremovefilelogentrya  imp_vardeccmp  imp_setdlgitemint  ...  \\\n",
       "1                          False          False              False  ...   \n",
       "2                          False          False              False  ...   \n",
       "10                         False          False              False  ...   \n",
       "12                         False          False              False  ...   \n",
       "13                         False          False              False  ...   \n",
       "\n",
       "    opcode_xor sub mov  opcode_xor sub mov add  opcode_xor test  \\\n",
       "1             0.000022                     0.0         0.000088   \n",
       "2             0.000000                     0.0         0.000000   \n",
       "10            0.000000                     0.0         0.000000   \n",
       "12            0.000000                     0.0         0.000000   \n",
       "13            0.000000                     0.0         0.000204   \n",
       "\n",
       "    opcode_xor test je  opcode_xor xor  opcode_xor xor mov  \\\n",
       "1             0.000084        0.000070            0.000066   \n",
       "2             0.000000        0.000309            0.000000   \n",
       "10            0.000000        0.000000            0.000000   \n",
       "12            0.000000        0.000000            0.000000   \n",
       "13            0.000190        0.000066            0.000091   \n",
       "\n",
       "    opcode_xor xor pop  opcode_xor xor pop mov  opcode_xor xor xor  \\\n",
       "1             0.000028                     0.0            0.000053   \n",
       "2             0.000000                     0.0            0.000331   \n",
       "10            0.000000                     0.0            0.000000   \n",
       "12            0.000000                     0.0            0.000000   \n",
       "13            0.000000                     0.0            0.000000   \n",
       "\n",
       "    opcode_xor xor xor pop  \n",
       "1                      0.0  \n",
       "2                      0.0  \n",
       "10                     0.0  \n",
       "12                     0.0  \n",
       "13                     0.0  \n",
       "\n",
       "[5 rows x 56555 columns]"
      ]
     },
     "execution_count": 5,
     "metadata": {},
     "output_type": "execute_result"
    }
   ],
   "source": [
    "df_wild.head()"
   ]
  },
  {
   "cell_type": "markdown",
   "id": "e83043cd",
   "metadata": {
    "id": "GVKDeRj5-e6p",
    "papermill": {
     "duration": 0.011472,
     "end_time": "2024-01-23T11:53:01.681075",
     "exception": false,
     "start_time": "2024-01-23T11:53:01.669603",
     "status": "completed"
    },
    "tags": []
   },
   "source": [
    "Chia nhỏ dataset"
   ]
  },
  {
   "cell_type": "code",
   "execution_count": 6,
   "id": "7b12ccfe",
   "metadata": {
    "execution": {
     "iopub.execute_input": "2024-01-23T11:53:01.706880Z",
     "iopub.status.busy": "2024-01-23T11:53:01.706102Z",
     "iopub.status.idle": "2024-01-23T11:53:03.297770Z",
     "shell.execute_reply": "2024-01-23T11:53:03.296838Z"
    },
    "executionInfo": {
     "elapsed": 2297,
     "status": "ok",
     "timestamp": 1705683038335,
     "user": {
      "displayName": "Dương Nguyễn Thái",
      "userId": "12957457548527420432"
     },
     "user_tz": -420
    },
    "id": "Szi4FCgZt3Rz",
    "papermill": {
     "duration": 1.607423,
     "end_time": "2024-01-23T11:53:03.300367",
     "exception": false,
     "start_time": "2024-01-23T11:53:01.692944",
     "status": "completed"
    },
    "tags": []
   },
   "outputs": [],
   "source": [
    "#Chọn ngẫu nhiên 12,000 mẫu\n",
    "df = df_wild.sample(n=12000, random_state=102)"
   ]
  },
  {
   "cell_type": "markdown",
   "id": "6878442b",
   "metadata": {
    "id": "-2lMf_GW-jel",
    "papermill": {
     "duration": 0.011266,
     "end_time": "2024-01-23T11:53:03.323486",
     "exception": false,
     "start_time": "2024-01-23T11:53:03.312220",
     "status": "completed"
    },
    "tags": []
   },
   "source": [
    "Xử lý dataset"
   ]
  },
  {
   "cell_type": "code",
   "execution_count": 7,
   "id": "f3df85e7",
   "metadata": {
    "execution": {
     "iopub.execute_input": "2024-01-23T11:53:03.347468Z",
     "iopub.status.busy": "2024-01-23T11:53:03.346910Z",
     "iopub.status.idle": "2024-01-23T11:53:04.367987Z",
     "shell.execute_reply": "2024-01-23T11:53:04.367105Z"
    },
    "executionInfo": {
     "elapsed": 1843,
     "status": "ok",
     "timestamp": 1705683040176,
     "user": {
      "displayName": "Dương Nguyễn Thái",
      "userId": "12957457548527420432"
     },
     "user_tz": -420
    },
    "id": "HMKb1JrzpHq0",
    "papermill": {
     "duration": 1.035978,
     "end_time": "2024-01-23T11:53:04.370573",
     "exception": false,
     "start_time": "2024-01-23T11:53:03.334595",
     "status": "completed"
    },
    "tags": []
   },
   "outputs": [],
   "source": [
    "# Loại bỏ các lables không cần thiết\n",
    "df = df.drop(['sample_sha1','unpacked_sample_sha1','unpacked_sample_id'], axis=1)\n",
    "df = df.drop(['benign_vt','malicious_vt'], axis=1)\n",
    "df = df.drop(['benign','packer_name','source','similarity','most_similar_sha1','unpacked_similarity'], axis=1)"
   ]
  },
  {
   "cell_type": "code",
   "execution_count": 8,
   "id": "ec5d231b",
   "metadata": {
    "execution": {
     "iopub.execute_input": "2024-01-23T11:53:04.396645Z",
     "iopub.status.busy": "2024-01-23T11:53:04.396289Z",
     "iopub.status.idle": "2024-01-23T11:53:08.430526Z",
     "shell.execute_reply": "2024-01-23T11:53:08.428739Z"
    },
    "executionInfo": {
     "elapsed": 2370,
     "status": "ok",
     "timestamp": 1705683042544,
     "user": {
      "displayName": "Dương Nguyễn Thái",
      "userId": "12957457548527420432"
     },
     "user_tz": -420
    },
    "id": "2SOTb4jm_AVE",
    "papermill": {
     "duration": 4.054056,
     "end_time": "2024-01-23T11:53:08.437194",
     "exception": false,
     "start_time": "2024-01-23T11:53:04.383138",
     "status": "completed"
    },
    "tags": []
   },
   "outputs": [],
   "source": [
    "# Xử lý các cột có dạng object\n",
    "for col in df.columns:\n",
    "    dtype = df[col].dtype\n",
    "    if dtype == object:\n",
    "        le = preprocessing.LabelEncoder()\n",
    "        df[col] = le.fit_transform(df[col])"
   ]
  },
  {
   "cell_type": "code",
   "execution_count": 9,
   "id": "21cf9387",
   "metadata": {
    "execution": {
     "iopub.execute_input": "2024-01-23T11:53:08.477623Z",
     "iopub.status.busy": "2024-01-23T11:53:08.477253Z",
     "iopub.status.idle": "2024-01-23T11:53:08.510965Z",
     "shell.execute_reply": "2024-01-23T11:53:08.509234Z"
    },
    "executionInfo": {
     "elapsed": 11,
     "status": "ok",
     "timestamp": 1705683042545,
     "user": {
      "displayName": "Dương Nguyễn Thái",
      "userId": "12957457548527420432"
     },
     "user_tz": -420
    },
    "id": "iqxgEqwIkQ36",
    "outputId": "be09d5d3-5b9a-4f24-cbe4-ecd7fb239f6e",
    "papermill": {
     "duration": 0.055943,
     "end_time": "2024-01-23T11:53:08.516344",
     "exception": false,
     "start_time": "2024-01-23T11:53:08.460401",
     "status": "completed"
    },
    "tags": []
   },
   "outputs": [
    {
     "data": {
      "text/html": [
       "<div>\n",
       "<style scoped>\n",
       "    .dataframe tbody tr th:only-of-type {\n",
       "        vertical-align: middle;\n",
       "    }\n",
       "\n",
       "    .dataframe tbody tr th {\n",
       "        vertical-align: top;\n",
       "    }\n",
       "\n",
       "    .dataframe thead th {\n",
       "        text-align: right;\n",
       "    }\n",
       "</style>\n",
       "<table border=\"1\" class=\"dataframe\">\n",
       "  <thead>\n",
       "    <tr style=\"text-align: right;\">\n",
       "      <th></th>\n",
       "      <th>malicious</th>\n",
       "      <th>packed</th>\n",
       "      <th>imp_setupremovefilelogentrya</th>\n",
       "      <th>imp_vardeccmp</th>\n",
       "      <th>imp_setdlgitemint</th>\n",
       "      <th>imp_?append@?$basic_string@du?$char_traits@d@std@@v?$allocator@d@2@@std@@qaeaav12@abv12@ii@z</th>\n",
       "      <th>imp_zwwritefile</th>\n",
       "      <th>imp_glstencilop</th>\n",
       "      <th>imp_comparelinkinforeferents</th>\n",
       "      <th>imp__setmbcp</th>\n",
       "      <th>...</th>\n",
       "      <th>opcode_xor sub mov</th>\n",
       "      <th>opcode_xor sub mov add</th>\n",
       "      <th>opcode_xor test</th>\n",
       "      <th>opcode_xor test je</th>\n",
       "      <th>opcode_xor xor</th>\n",
       "      <th>opcode_xor xor mov</th>\n",
       "      <th>opcode_xor xor pop</th>\n",
       "      <th>opcode_xor xor pop mov</th>\n",
       "      <th>opcode_xor xor xor</th>\n",
       "      <th>opcode_xor xor xor pop</th>\n",
       "    </tr>\n",
       "  </thead>\n",
       "  <tbody>\n",
       "    <tr>\n",
       "      <th>32148</th>\n",
       "      <td>False</td>\n",
       "      <td>True</td>\n",
       "      <td>False</td>\n",
       "      <td>False</td>\n",
       "      <td>False</td>\n",
       "      <td>False</td>\n",
       "      <td>False</td>\n",
       "      <td>False</td>\n",
       "      <td>False</td>\n",
       "      <td>False</td>\n",
       "      <td>...</td>\n",
       "      <td>0.0</td>\n",
       "      <td>0.0</td>\n",
       "      <td>0.000187</td>\n",
       "      <td>0.000198</td>\n",
       "      <td>0.0</td>\n",
       "      <td>0.0</td>\n",
       "      <td>0.0</td>\n",
       "      <td>0.0</td>\n",
       "      <td>0.0</td>\n",
       "      <td>0.0</td>\n",
       "    </tr>\n",
       "    <tr>\n",
       "      <th>210953</th>\n",
       "      <td>False</td>\n",
       "      <td>False</td>\n",
       "      <td>False</td>\n",
       "      <td>False</td>\n",
       "      <td>False</td>\n",
       "      <td>False</td>\n",
       "      <td>False</td>\n",
       "      <td>False</td>\n",
       "      <td>False</td>\n",
       "      <td>False</td>\n",
       "      <td>...</td>\n",
       "      <td>0.0</td>\n",
       "      <td>0.0</td>\n",
       "      <td>0.000000</td>\n",
       "      <td>0.000000</td>\n",
       "      <td>0.0</td>\n",
       "      <td>0.0</td>\n",
       "      <td>0.0</td>\n",
       "      <td>0.0</td>\n",
       "      <td>0.0</td>\n",
       "      <td>0.0</td>\n",
       "    </tr>\n",
       "    <tr>\n",
       "      <th>50313</th>\n",
       "      <td>False</td>\n",
       "      <td>True</td>\n",
       "      <td>False</td>\n",
       "      <td>False</td>\n",
       "      <td>False</td>\n",
       "      <td>False</td>\n",
       "      <td>False</td>\n",
       "      <td>False</td>\n",
       "      <td>False</td>\n",
       "      <td>False</td>\n",
       "      <td>...</td>\n",
       "      <td>0.0</td>\n",
       "      <td>0.0</td>\n",
       "      <td>0.000000</td>\n",
       "      <td>0.000000</td>\n",
       "      <td>0.0</td>\n",
       "      <td>0.0</td>\n",
       "      <td>0.0</td>\n",
       "      <td>0.0</td>\n",
       "      <td>0.0</td>\n",
       "      <td>0.0</td>\n",
       "    </tr>\n",
       "    <tr>\n",
       "      <th>200288</th>\n",
       "      <td>True</td>\n",
       "      <td>True</td>\n",
       "      <td>False</td>\n",
       "      <td>False</td>\n",
       "      <td>False</td>\n",
       "      <td>False</td>\n",
       "      <td>False</td>\n",
       "      <td>False</td>\n",
       "      <td>False</td>\n",
       "      <td>False</td>\n",
       "      <td>...</td>\n",
       "      <td>0.0</td>\n",
       "      <td>0.0</td>\n",
       "      <td>0.000000</td>\n",
       "      <td>0.000000</td>\n",
       "      <td>0.0</td>\n",
       "      <td>0.0</td>\n",
       "      <td>0.0</td>\n",
       "      <td>0.0</td>\n",
       "      <td>0.0</td>\n",
       "      <td>0.0</td>\n",
       "    </tr>\n",
       "    <tr>\n",
       "      <th>49579</th>\n",
       "      <td>True</td>\n",
       "      <td>True</td>\n",
       "      <td>False</td>\n",
       "      <td>False</td>\n",
       "      <td>False</td>\n",
       "      <td>False</td>\n",
       "      <td>False</td>\n",
       "      <td>False</td>\n",
       "      <td>False</td>\n",
       "      <td>False</td>\n",
       "      <td>...</td>\n",
       "      <td>0.0</td>\n",
       "      <td>0.0</td>\n",
       "      <td>0.000000</td>\n",
       "      <td>0.000000</td>\n",
       "      <td>0.0</td>\n",
       "      <td>0.0</td>\n",
       "      <td>0.0</td>\n",
       "      <td>0.0</td>\n",
       "      <td>0.0</td>\n",
       "      <td>0.0</td>\n",
       "    </tr>\n",
       "  </tbody>\n",
       "</table>\n",
       "<p>5 rows × 56544 columns</p>\n",
       "</div>"
      ],
      "text/plain": [
       "        malicious  packed  imp_setupremovefilelogentrya  imp_vardeccmp  \\\n",
       "32148       False    True                         False          False   \n",
       "210953      False   False                         False          False   \n",
       "50313       False    True                         False          False   \n",
       "200288       True    True                         False          False   \n",
       "49579        True    True                         False          False   \n",
       "\n",
       "        imp_setdlgitemint  \\\n",
       "32148               False   \n",
       "210953              False   \n",
       "50313               False   \n",
       "200288              False   \n",
       "49579               False   \n",
       "\n",
       "        imp_?append@?$basic_string@du?$char_traits@d@std@@v?$allocator@d@2@@std@@qaeaav12@abv12@ii@z  \\\n",
       "32148                                               False                                              \n",
       "210953                                              False                                              \n",
       "50313                                               False                                              \n",
       "200288                                              False                                              \n",
       "49579                                               False                                              \n",
       "\n",
       "        imp_zwwritefile  imp_glstencilop  imp_comparelinkinforeferents  \\\n",
       "32148             False            False                         False   \n",
       "210953            False            False                         False   \n",
       "50313             False            False                         False   \n",
       "200288            False            False                         False   \n",
       "49579             False            False                         False   \n",
       "\n",
       "        imp__setmbcp  ...  opcode_xor sub mov  opcode_xor sub mov add  \\\n",
       "32148          False  ...                 0.0                     0.0   \n",
       "210953         False  ...                 0.0                     0.0   \n",
       "50313          False  ...                 0.0                     0.0   \n",
       "200288         False  ...                 0.0                     0.0   \n",
       "49579          False  ...                 0.0                     0.0   \n",
       "\n",
       "        opcode_xor test  opcode_xor test je  opcode_xor xor  \\\n",
       "32148          0.000187            0.000198             0.0   \n",
       "210953         0.000000            0.000000             0.0   \n",
       "50313          0.000000            0.000000             0.0   \n",
       "200288         0.000000            0.000000             0.0   \n",
       "49579          0.000000            0.000000             0.0   \n",
       "\n",
       "        opcode_xor xor mov  opcode_xor xor pop  opcode_xor xor pop mov  \\\n",
       "32148                  0.0                 0.0                     0.0   \n",
       "210953                 0.0                 0.0                     0.0   \n",
       "50313                  0.0                 0.0                     0.0   \n",
       "200288                 0.0                 0.0                     0.0   \n",
       "49579                  0.0                 0.0                     0.0   \n",
       "\n",
       "        opcode_xor xor xor  opcode_xor xor xor pop  \n",
       "32148                  0.0                     0.0  \n",
       "210953                 0.0                     0.0  \n",
       "50313                  0.0                     0.0  \n",
       "200288                 0.0                     0.0  \n",
       "49579                  0.0                     0.0  \n",
       "\n",
       "[5 rows x 56544 columns]"
      ]
     },
     "execution_count": 9,
     "metadata": {},
     "output_type": "execute_result"
    }
   ],
   "source": [
    "df.head()"
   ]
  },
  {
   "cell_type": "code",
   "execution_count": 10,
   "id": "c27ae03e",
   "metadata": {
    "execution": {
     "iopub.execute_input": "2024-01-23T11:53:08.547785Z",
     "iopub.status.busy": "2024-01-23T11:53:08.547425Z",
     "iopub.status.idle": "2024-01-23T11:53:08.552183Z",
     "shell.execute_reply": "2024-01-23T11:53:08.551442Z"
    },
    "executionInfo": {
     "elapsed": 7,
     "status": "ok",
     "timestamp": 1705683042545,
     "user": {
      "displayName": "Dương Nguyễn Thái",
      "userId": "12957457548527420432"
     },
     "user_tz": -420
    },
    "id": "TN2XPE4UmnHK",
    "outputId": "80dc479f-9542-4ab9-aa4e-afdb897a7951",
    "papermill": {
     "duration": 0.023108,
     "end_time": "2024-01-23T11:53:08.554487",
     "exception": false,
     "start_time": "2024-01-23T11:53:08.531379",
     "status": "completed"
    },
    "tags": []
   },
   "outputs": [
    {
     "name": "stdout",
     "output_type": "stream",
     "text": [
      "(12000, 56544)\n"
     ]
    }
   ],
   "source": [
    "print(df.shape)"
   ]
  },
  {
   "cell_type": "markdown",
   "id": "8c04e63c",
   "metadata": {
    "id": "8X7qEoVfEYwv",
    "papermill": {
     "duration": 0.012326,
     "end_time": "2024-01-23T11:53:08.579572",
     "exception": false,
     "start_time": "2024-01-23T11:53:08.567246",
     "status": "completed"
    },
    "tags": []
   },
   "source": [
    "Chia dataset thành 10000 tập để train và 2000 mẫu để test"
   ]
  },
  {
   "cell_type": "code",
   "execution_count": 11,
   "id": "2c8f755d",
   "metadata": {
    "execution": {
     "iopub.execute_input": "2024-01-23T11:53:08.606443Z",
     "iopub.status.busy": "2024-01-23T11:53:08.605866Z",
     "iopub.status.idle": "2024-01-23T11:53:09.839461Z",
     "shell.execute_reply": "2024-01-23T11:53:09.838082Z"
    },
    "executionInfo": {
     "elapsed": 1484,
     "status": "ok",
     "timestamp": 1705683044023,
     "user": {
      "displayName": "Dương Nguyễn Thái",
      "userId": "12957457548527420432"
     },
     "user_tz": -420
    },
    "id": "Fe94v943rcFu",
    "papermill": {
     "duration": 1.249956,
     "end_time": "2024-01-23T11:53:09.842179",
     "exception": false,
     "start_time": "2024-01-23T11:53:08.592223",
     "status": "completed"
    },
    "tags": []
   },
   "outputs": [],
   "source": [
    "df_train = df.sample(n=10000, random_state=102)\n",
    "df_test = df.drop(df_train.index)"
   ]
  },
  {
   "cell_type": "code",
   "execution_count": 12,
   "id": "8bffb6ba",
   "metadata": {
    "execution": {
     "iopub.execute_input": "2024-01-23T11:53:09.870678Z",
     "iopub.status.busy": "2024-01-23T11:53:09.869697Z",
     "iopub.status.idle": "2024-01-23T11:53:10.786139Z",
     "shell.execute_reply": "2024-01-23T11:53:10.785019Z"
    },
    "executionInfo": {
     "elapsed": 1411,
     "status": "ok",
     "timestamp": 1705683045433,
     "user": {
      "displayName": "Dương Nguyễn Thái",
      "userId": "12957457548527420432"
     },
     "user_tz": -420
    },
    "id": "bl1oQHmfrcb-",
    "papermill": {
     "duration": 0.933217,
     "end_time": "2024-01-23T11:53:10.788653",
     "exception": false,
     "start_time": "2024-01-23T11:53:09.855436",
     "status": "completed"
    },
    "tags": []
   },
   "outputs": [],
   "source": [
    "#Vì tập dữ liệu không có Unpacked Malware, chỉ cần loại bỏ Packed Benign\n",
    "data = df_train.drop(df_train[(df_train['malicious'] == False) & (df_train['packed'] == True)].index)"
   ]
  },
  {
   "cell_type": "code",
   "execution_count": 13,
   "id": "055fe906",
   "metadata": {
    "execution": {
     "iopub.execute_input": "2024-01-23T11:53:10.823774Z",
     "iopub.status.busy": "2024-01-23T11:53:10.823293Z",
     "iopub.status.idle": "2024-01-23T11:53:11.625508Z",
     "shell.execute_reply": "2024-01-23T11:53:11.624108Z"
    },
    "executionInfo": {
     "elapsed": 1398,
     "status": "ok",
     "timestamp": 1705683046829,
     "user": {
      "displayName": "Dương Nguyễn Thái",
      "userId": "12957457548527420432"
     },
     "user_tz": -420
    },
    "id": "s9regPKYrec7",
    "outputId": "153609fc-090b-46ba-dbd2-cfe39795d1ae",
    "papermill": {
     "duration": 0.822502,
     "end_time": "2024-01-23T11:53:11.627919",
     "exception": false,
     "start_time": "2024-01-23T11:53:10.805417",
     "status": "completed"
    },
    "tags": []
   },
   "outputs": [
    {
     "name": "stdout",
     "output_type": "stream",
     "text": [
      "Unpacked Benign: 662 samples\n",
      "Packed Malware: 7535 samples\n",
      "Total TRAIN set: 8197 samples\n"
     ]
    }
   ],
   "source": [
    "#Kiểm tra số lượng mẫu\n",
    "Unpacked_Benign = data[(data['malicious'] == False) & (data['packed'] == False)].shape[0]\n",
    "Packed_Malware = data[(data['malicious'] == True) & (data['packed'] == True)].shape[0]\n",
    "print('Unpacked Benign: %i samples' % Unpacked_Benign)\n",
    "print('Packed Malware: %i samples' % Packed_Malware)\n",
    "print('Total TRAIN set: %i samples'% (Unpacked_Benign+Packed_Malware))\n"
   ]
  },
  {
   "cell_type": "code",
   "execution_count": 14,
   "id": "474e621b",
   "metadata": {
    "execution": {
     "iopub.execute_input": "2024-01-23T11:53:11.656159Z",
     "iopub.status.busy": "2024-01-23T11:53:11.655149Z",
     "iopub.status.idle": "2024-01-23T11:53:13.221272Z",
     "shell.execute_reply": "2024-01-23T11:53:13.219875Z"
    },
    "executionInfo": {
     "elapsed": 1567,
     "status": "ok",
     "timestamp": 1705683048394,
     "user": {
      "displayName": "Dương Nguyễn Thái",
      "userId": "12957457548527420432"
     },
     "user_tz": -420
    },
    "id": "QGw52Jnlrf_m",
    "papermill": {
     "duration": 1.583397,
     "end_time": "2024-01-23T11:53:13.224575",
     "exception": false,
     "start_time": "2024-01-23T11:53:11.641178",
     "status": "completed"
    },
    "tags": []
   },
   "outputs": [],
   "source": [
    "#Chia tỉ lệ 50 - 50\n",
    "data_PM = data[(data['malicious'] == True) & (data['packed'] == True)].sample(n=Packed_Malware-Unpacked_Benign, random_state=102)\n",
    "data = data.drop(data_PM.index)"
   ]
  },
  {
   "cell_type": "code",
   "execution_count": 15,
   "id": "a74c4260",
   "metadata": {
    "execution": {
     "iopub.execute_input": "2024-01-23T11:53:13.272376Z",
     "iopub.status.busy": "2024-01-23T11:53:13.271475Z",
     "iopub.status.idle": "2024-01-23T11:53:13.425516Z",
     "shell.execute_reply": "2024-01-23T11:53:13.423894Z"
    },
    "executionInfo": {
     "elapsed": 5,
     "status": "ok",
     "timestamp": 1705683048394,
     "user": {
      "displayName": "Dương Nguyễn Thái",
      "userId": "12957457548527420432"
     },
     "user_tz": -420
    },
    "id": "3TRGyKporhnP",
    "outputId": "8223378b-441d-46b9-d7c9-81d4460bcd06",
    "papermill": {
     "duration": 0.186038,
     "end_time": "2024-01-23T11:53:13.428267",
     "exception": false,
     "start_time": "2024-01-23T11:53:13.242229",
     "status": "completed"
    },
    "tags": []
   },
   "outputs": [
    {
     "name": "stdout",
     "output_type": "stream",
     "text": [
      "Unpacked Benign: 662 samples\n",
      "Packed Malware: 662 samples\n",
      "Total TRAIN set: 1324 samples\n"
     ]
    }
   ],
   "source": [
    "#Số lượng tập train\n",
    "Unpacked_Benign = data[(data['malicious'] == False) & (data['packed'] == False)].shape[0]\n",
    "Packed_Malware = data[(data['malicious'] == True) & (data['packed'] == True)].shape[0]\n",
    "print('Unpacked Benign: %i samples' % Unpacked_Benign)\n",
    "print('Packed Malware: %i samples' % Packed_Malware)\n",
    "print('Total TRAIN set: %i samples'% (Unpacked_Benign+Packed_Malware))"
   ]
  },
  {
   "cell_type": "code",
   "execution_count": 16,
   "id": "25925de4",
   "metadata": {
    "execution": {
     "iopub.execute_input": "2024-01-23T11:53:13.456862Z",
     "iopub.status.busy": "2024-01-23T11:53:13.455713Z",
     "iopub.status.idle": "2024-01-23T11:53:13.511892Z",
     "shell.execute_reply": "2024-01-23T11:53:13.510862Z"
    },
    "executionInfo": {
     "elapsed": 3,
     "status": "ok",
     "timestamp": 1705683048394,
     "user": {
      "displayName": "Dương Nguyễn Thái",
      "userId": "12957457548527420432"
     },
     "user_tz": -420
    },
    "id": "TIamFv3TskrS",
    "papermill": {
     "duration": 0.072776,
     "end_time": "2024-01-23T11:53:13.514312",
     "exception": false,
     "start_time": "2024-01-23T11:53:13.441536",
     "status": "completed"
    },
    "tags": []
   },
   "outputs": [],
   "source": [
    "#Xử lý tập train\n",
    "y = data['malicious'].values\n",
    "data = data.drop(['malicious','packed'], axis=1)"
   ]
  },
  {
   "cell_type": "markdown",
   "id": "024586c6",
   "metadata": {
    "id": "MuVT_tgULp_p",
    "papermill": {
     "duration": 0.012751,
     "end_time": "2024-01-23T11:53:13.541910",
     "exception": false,
     "start_time": "2024-01-23T11:53:13.529159",
     "status": "completed"
    },
    "tags": []
   },
   "source": [
    "Xử lý tập test"
   ]
  },
  {
   "cell_type": "code",
   "execution_count": 17,
   "id": "9e0fd419",
   "metadata": {
    "execution": {
     "iopub.execute_input": "2024-01-23T11:53:13.569340Z",
     "iopub.status.busy": "2024-01-23T11:53:13.568980Z",
     "iopub.status.idle": "2024-01-23T11:53:14.139325Z",
     "shell.execute_reply": "2024-01-23T11:53:14.138238Z"
    },
    "executionInfo": {
     "elapsed": 532,
     "status": "ok",
     "timestamp": 1705683048923,
     "user": {
      "displayName": "Dương Nguyễn Thái",
      "userId": "12957457548527420432"
     },
     "user_tz": -420
    },
    "id": "g38KkqdPst4L",
    "outputId": "56ccf73a-29a3-411c-d4b0-e46502702972",
    "papermill": {
     "duration": 0.587498,
     "end_time": "2024-01-23T11:53:14.142088",
     "exception": false,
     "start_time": "2024-01-23T11:53:13.554590",
     "status": "completed"
    },
    "tags": []
   },
   "outputs": [
    {
     "name": "stdout",
     "output_type": "stream",
     "text": [
      "Unpacked Benign: 142 samples\n",
      "Packed Malware: 501 samples\n",
      "Packed Benign: 359 samples\n",
      "Total TEST set: 1002 samples\n"
     ]
    }
   ],
   "source": [
    "Unpacked_Benign = df_test[(df_test['malicious'] == False) & (df_test['packed'] == False)].shape[0]\n",
    "Packed_Malware = df_test[(df_test['malicious'] == True) & (df_test['packed'] == True)].shape[0]\n",
    "Packed_Benign = df_test[(df_test['malicious'] == False) & (df_test['packed'] == True)].shape[0]\n",
    "\n",
    "df_test_PM = df_test[(df_test['malicious'] == True) & (df_test['packed'] == True)].sample(n=(Packed_Malware-(Unpacked_Benign+Packed_Benign)), random_state=102)\n",
    "df_test = df_test.drop(df_test_PM.index)\n",
    "\n",
    "Unpacked_Benign = df_test[(df_test['malicious'] == False) & (df_test['packed'] == False)].shape[0]\n",
    "Packed_Malware = df_test[(df_test['malicious'] == True) & (df_test['packed'] == True)].shape[0]\n",
    "Packed_Benign = df_test[(df_test['malicious'] == False) & (df_test['packed'] == True)].shape[0]\n",
    "\n",
    "print('Unpacked Benign: %i samples' % Unpacked_Benign)\n",
    "print('Packed Malware: %i samples' % Packed_Malware)\n",
    "print('Packed Benign: %i samples' % Packed_Benign)\n",
    "print('Total TEST set: %i samples'% (Unpacked_Benign+Packed_Malware+Packed_Benign))"
   ]
  },
  {
   "cell_type": "code",
   "execution_count": 18,
   "id": "1020c6c4",
   "metadata": {
    "execution": {
     "iopub.execute_input": "2024-01-23T11:53:14.169821Z",
     "iopub.status.busy": "2024-01-23T11:53:14.169452Z",
     "iopub.status.idle": "2024-01-23T11:53:16.909732Z",
     "shell.execute_reply": "2024-01-23T11:53:16.908393Z"
    },
    "executionInfo": {
     "elapsed": 2426,
     "status": "ok",
     "timestamp": 1705683051345,
     "user": {
      "displayName": "Dương Nguyễn Thái",
      "userId": "12957457548527420432"
     },
     "user_tz": -420
    },
    "id": "6nzaytvdtFZP",
    "outputId": "bcdb886f-a651-45c7-e658-362290c774ac",
    "papermill": {
     "duration": 2.75805,
     "end_time": "2024-01-23T11:53:16.913024",
     "exception": false,
     "start_time": "2024-01-23T11:53:14.154974",
     "status": "completed"
    },
    "tags": []
   },
   "outputs": [
    {
     "name": "stdout",
     "output_type": "stream",
     "text": [
      "Researching important feature based on 56542 total features\n"
     ]
    }
   ],
   "source": [
    "#Chọn lọc features\n",
    "print('Researching important feature based on %i total features' % data.shape[1])\n",
    "fsel = ske.ExtraTreesClassifier().fit(data, y)"
   ]
  },
  {
   "cell_type": "code",
   "execution_count": 19,
   "id": "96203359",
   "metadata": {
    "execution": {
     "iopub.execute_input": "2024-01-23T11:53:16.947979Z",
     "iopub.status.busy": "2024-01-23T11:53:16.947255Z",
     "iopub.status.idle": "2024-01-23T11:53:21.888045Z",
     "shell.execute_reply": "2024-01-23T11:53:21.886946Z"
    },
    "executionInfo": {
     "elapsed": 1516,
     "status": "ok",
     "timestamp": 1705683052856,
     "user": {
      "displayName": "Dương Nguyễn Thái",
      "userId": "12957457548527420432"
     },
     "user_tz": -420
    },
    "id": "gTL1UEXptW1n",
    "outputId": "225dd744-9b3d-4c0a-96cc-27c6f85c2786",
    "papermill": {
     "duration": 4.962224,
     "end_time": "2024-01-23T11:53:21.891717",
     "exception": false,
     "start_time": "2024-01-23T11:53:16.929493",
     "status": "completed"
    },
    "tags": []
   },
   "outputs": [
    {
     "name": "stderr",
     "output_type": "stream",
     "text": [
      "/opt/conda/lib/python3.10/site-packages/sklearn/base.py:432: UserWarning: X has feature names, but SelectFromModel was fitted without feature names\n",
      "  warnings.warn(\n",
      "/opt/conda/lib/python3.10/site-packages/sklearn/base.py:432: UserWarning: X has feature names, but SelectFromModel was fitted without feature names\n",
      "  warnings.warn(\n"
     ]
    }
   ],
   "source": [
    "#Tạo mô hình và chia tập train - test\n",
    "model = SelectFromModel(fsel, prefit=True)\n",
    "\n",
    "X_train = model.transform(data)\n",
    "X_test = model.transform(df_test.drop(['malicious','packed'], axis=1))\n",
    "y_train = y\n",
    "y_test = df_test['malicious'].values"
   ]
  },
  {
   "cell_type": "code",
   "execution_count": 20,
   "id": "6035df33",
   "metadata": {
    "execution": {
     "iopub.execute_input": "2024-01-23T11:53:21.937978Z",
     "iopub.status.busy": "2024-01-23T11:53:21.937154Z",
     "iopub.status.idle": "2024-01-23T11:53:21.983822Z",
     "shell.execute_reply": "2024-01-23T11:53:21.982905Z"
    },
    "executionInfo": {
     "elapsed": 3,
     "status": "ok",
     "timestamp": 1705683052857,
     "user": {
      "displayName": "Dương Nguyễn Thái",
      "userId": "12957457548527420432"
     },
     "user_tz": -420
    },
    "id": "BcqVuDUkom3b",
    "papermill": {
     "duration": 0.073185,
     "end_time": "2024-01-23T11:53:21.987084",
     "exception": false,
     "start_time": "2024-01-23T11:53:21.913899",
     "status": "completed"
    },
    "tags": []
   },
   "outputs": [],
   "source": [
    "#Tạo mô hình và chia tập train - test\n",
    "model = SelectFromModel(fsel, prefit=True)\n",
    "\n",
    "X_train = data\n",
    "X_test = df_test.drop(['malicious','packed'], axis=1)\n",
    "y_train = y\n",
    "y_test = df_test['malicious'].values"
   ]
  },
  {
   "cell_type": "code",
   "execution_count": 21,
   "id": "9d6cf227",
   "metadata": {
    "execution": {
     "iopub.execute_input": "2024-01-23T11:53:22.177166Z",
     "iopub.status.busy": "2024-01-23T11:53:22.176448Z",
     "iopub.status.idle": "2024-01-23T11:53:22.387356Z",
     "shell.execute_reply": "2024-01-23T11:53:22.385749Z"
    },
    "executionInfo": {
     "elapsed": 327,
     "status": "ok",
     "timestamp": 1705683256883,
     "user": {
      "displayName": "Dương Nguyễn Thái",
      "userId": "12957457548527420432"
     },
     "user_tz": -420
    },
    "id": "HUUl4zoDwpe1",
    "papermill": {
     "duration": 0.237637,
     "end_time": "2024-01-23T11:53:22.390886",
     "exception": false,
     "start_time": "2024-01-23T11:53:22.153249",
     "status": "completed"
    },
    "tags": []
   },
   "outputs": [],
   "source": [
    "nb_features = X_train.shape[1]\n",
    "features = []\n",
    "\n",
    "indices = np.argsort(fsel.feature_importances_)[::-1][:nb_features]"
   ]
  },
  {
   "cell_type": "code",
   "execution_count": 22,
   "id": "a5236527",
   "metadata": {
    "execution": {
     "iopub.execute_input": "2024-01-23T11:53:22.435797Z",
     "iopub.status.busy": "2024-01-23T11:53:22.435419Z",
     "iopub.status.idle": "2024-01-23T11:53:22.620670Z",
     "shell.execute_reply": "2024-01-23T11:53:22.619835Z"
    },
    "executionInfo": {
     "elapsed": 308,
     "status": "ok",
     "timestamp": 1705683272878,
     "user": {
      "displayName": "Dương Nguyễn Thái",
      "userId": "12957457548527420432"
     },
     "user_tz": -420
    },
    "id": "Pa8uzPhEwsxy",
    "papermill": {
     "duration": 0.210563,
     "end_time": "2024-01-23T11:53:22.623207",
     "exception": false,
     "start_time": "2024-01-23T11:53:22.412644",
     "status": "completed"
    },
    "tags": []
   },
   "outputs": [],
   "source": [
    "#Gán vào tập features để xử lý mô hình\n",
    "for f in sorted(np.argsort(fsel.feature_importances_)[::-1][:nb_features]):\n",
    "    features.append(data.columns[f])"
   ]
  },
  {
   "cell_type": "code",
   "execution_count": 23,
   "id": "d2e83d67",
   "metadata": {
    "execution": {
     "iopub.execute_input": "2024-01-23T11:53:22.669065Z",
     "iopub.status.busy": "2024-01-23T11:53:22.668612Z",
     "iopub.status.idle": "2024-01-23T11:58:02.985249Z",
     "shell.execute_reply": "2024-01-23T11:58:02.984058Z"
    },
    "executionInfo": {
     "elapsed": 305120,
     "status": "ok",
     "timestamp": 1705683593280,
     "user": {
      "displayName": "Dương Nguyễn Thái",
      "userId": "12957457548527420432"
     },
     "user_tz": -420
    },
    "id": "mf_w9gyVx3Gp",
    "outputId": "eb36b0e3-4006-4808-de4f-5f59977cebac",
    "papermill": {
     "duration": 280.343214,
     "end_time": "2024-01-23T11:58:02.987951",
     "exception": false,
     "start_time": "2024-01-23T11:53:22.644737",
     "status": "completed"
    },
    "tags": []
   },
   "outputs": [
    {
     "name": "stdout",
     "output_type": "stream",
     "text": [
      "Now testing algorithms\n",
      "DecisionTree : 82.335329 %\n",
      "True positive : 457 \n",
      "True negative : 368 \n",
      "False positive : 133 \n",
      "False negative : 44 \n",
      "Classification Report:\n",
      "               precision    recall  f1-score   support\n",
      "\n",
      "       False       0.89      0.73      0.81       501\n",
      "        True       0.77      0.91      0.84       501\n",
      "\n",
      "    accuracy                           0.82      1002\n",
      "   macro avg       0.83      0.82      0.82      1002\n",
      "weighted avg       0.83      0.82      0.82      1002\n",
      "\n",
      "\n",
      "\n",
      "RandomForest : 82.834331 %\n",
      "True positive : 464 \n",
      "True negative : 366 \n",
      "False positive : 135 \n",
      "False negative : 37 \n",
      "Classification Report:\n",
      "               precision    recall  f1-score   support\n",
      "\n",
      "       False       0.91      0.73      0.81       501\n",
      "        True       0.77      0.93      0.84       501\n",
      "\n",
      "    accuracy                           0.83      1002\n",
      "   macro avg       0.84      0.83      0.83      1002\n",
      "weighted avg       0.84      0.83      0.83      1002\n",
      "\n",
      "\n",
      "\n",
      "GradientBoosting : 85.329341 %\n",
      "True positive : 477 \n",
      "True negative : 378 \n",
      "False positive : 123 \n",
      "False negative : 24 \n",
      "Classification Report:\n",
      "               precision    recall  f1-score   support\n",
      "\n",
      "       False       0.94      0.75      0.84       501\n",
      "        True       0.80      0.95      0.87       501\n",
      "\n",
      "    accuracy                           0.85      1002\n",
      "   macro avg       0.87      0.85      0.85      1002\n",
      "weighted avg       0.87      0.85      0.85      1002\n",
      "\n",
      "\n",
      "\n",
      "AdaBoost : 82.435130 %\n",
      "True positive : 476 \n",
      "True negative : 350 \n",
      "False positive : 151 \n",
      "False negative : 25 \n",
      "Classification Report:\n",
      "               precision    recall  f1-score   support\n",
      "\n",
      "       False       0.93      0.70      0.80       501\n",
      "        True       0.76      0.95      0.84       501\n",
      "\n",
      "    accuracy                           0.82      1002\n",
      "   macro avg       0.85      0.82      0.82      1002\n",
      "weighted avg       0.85      0.82      0.82      1002\n",
      "\n",
      "\n",
      "\n"
     ]
    }
   ],
   "source": [
    "algorithms = {\n",
    "        \"DecisionTree\": tree.DecisionTreeClassifier(max_depth=20),\n",
    "        \"RandomForest\": ske.RandomForestClassifier(n_estimators=100),\n",
    "        \"GradientBoosting\": ske.GradientBoostingClassifier(n_estimators=100),\n",
    "        \"AdaBoost\": ske.AdaBoostClassifier(n_estimators=200)\n",
    "    }\n",
    "\n",
    "results = {}\n",
    "print(\"Now testing algorithms\")\n",
    "for algo in algorithms:\n",
    "    clf = algorithms[algo]\n",
    "    clf.fit(X_train, y_train)\n",
    "    score = clf.score(X_test, y_test)\n",
    "    print(\"%s : %f %%\" % (algo, score*100))\n",
    "    results[algo] = score\n",
    "    res = clf.predict(X_test)\n",
    "    mt = confusion_matrix(y_test, res)\n",
    "    report = classification_report(y_test, res)\n",
    "    print(\"True positive : %i \" % (mt[1][1]))\n",
    "    print(\"True negative : %i \" % (mt[0][0]))\n",
    "    print(\"False positive : %i \" % (mt[0][1]))\n",
    "    print(\"False negative : %i \" % (mt[1][0]))\n",
    "    print(\"Classification Report:\\n\", report)\n",
    "    print(\"\\n\")"
   ]
  },
  {
   "cell_type": "code",
   "execution_count": 24,
   "id": "d32e60ca",
   "metadata": {
    "execution": {
     "iopub.execute_input": "2024-01-23T11:58:03.017483Z",
     "iopub.status.busy": "2024-01-23T11:58:03.016893Z",
     "iopub.status.idle": "2024-01-23T11:58:03.022491Z",
     "shell.execute_reply": "2024-01-23T11:58:03.021470Z"
    },
    "executionInfo": {
     "elapsed": 4,
     "status": "ok",
     "timestamp": 1705683593280,
     "user": {
      "displayName": "Dương Nguyễn Thái",
      "userId": "12957457548527420432"
     },
     "user_tz": -420
    },
    "id": "-SWAD6jPybMt",
    "outputId": "ef571faa-9212-4707-f6fd-5e7b6bdad655",
    "papermill": {
     "duration": 0.023307,
     "end_time": "2024-01-23T11:58:03.024634",
     "exception": false,
     "start_time": "2024-01-23T11:58:03.001327",
     "status": "completed"
    },
    "tags": []
   },
   "outputs": [
    {
     "name": "stdout",
     "output_type": "stream",
     "text": [
      "Algorithm with highest accuracy on train/test is GradientBoosting with a 85.329341 % success\n"
     ]
    }
   ],
   "source": [
    "#Chọn mô hình có Acc lớn nhất\n",
    "winner = max(results, key=results.get)\n",
    "print('Algorithm with highest accuracy on train/test is %s with a %f %% success' % (winner, results[winner]*100))"
   ]
  }
 ],
 "metadata": {
  "accelerator": "GPU",
  "colab": {
   "gpuType": "T4",
   "provenance": []
  },
  "kaggle": {
   "accelerator": "none",
   "dataSources": [
    {
     "datasetId": 4029702,
     "sourceId": 7009208,
     "sourceType": "datasetVersion"
    }
   ],
   "dockerImageVersionId": 30635,
   "isGpuEnabled": false,
   "isInternetEnabled": true,
   "language": "python",
   "sourceType": "notebook"
  },
  "kernelspec": {
   "display_name": "Python 3",
   "language": "python",
   "name": "python3"
  },
  "language_info": {
   "codemirror_mode": {
    "name": "ipython",
    "version": 3
   },
   "file_extension": ".py",
   "mimetype": "text/x-python",
   "name": "python",
   "nbconvert_exporter": "python",
   "pygments_lexer": "ipython3",
   "version": "3.10.12"
  },
  "papermill": {
   "default_parameters": {},
   "duration": 339.500731,
   "end_time": "2024-01-23T11:58:03.960894",
   "environment_variables": {},
   "exception": null,
   "input_path": "__notebook__.ipynb",
   "output_path": "__notebook__.ipynb",
   "parameters": {},
   "start_time": "2024-01-23T11:52:24.460163",
   "version": "2.4.0"
  }
 },
 "nbformat": 4,
 "nbformat_minor": 5
}
